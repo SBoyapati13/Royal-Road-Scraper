{
 "cells": [
  {
   "cell_type": "markdown",
   "id": "d19b9828",
   "metadata": {},
   "source": [
    "# Royal Road Stories - Exploratory Data Analysis\n",
    "\n",
    "This notebook performs exploratory data analysis on the scraped data from Royal Road, a web fiction platform. We'll analyze various aspects of the stories including:\n",
    "\n",
    "- Story statistics (views, ratings, chapters, etc.)\n",
    "- Correlations between different metrics\n",
    "- Genre distributions\n",
    "- Story popularity patterns\n",
    "- Rating distributions\n",
    "\n",
    "First, let's import the required libraries and load our data."
   ]
  },
  {
   "cell_type": "code",
   "execution_count": 51,
   "id": "492b87cc",
   "metadata": {},
   "outputs": [],
   "source": [
    "# Import required libraries\n",
    "import pandas as pd\n",
    "import numpy as np\n",
    "import matplotlib.pyplot as plt\n",
    "import seaborn as sns\n",
    "import sqlite3\n",
    "from datetime import datetime\n",
    "import plotly.express as px\n",
    "import plotly.graph_objects as go\n",
    "from plotly.subplots import make_subplots\n",
    "\n",
    "# Set up display options\n",
    "pd.set_option('display.max_columns', None)\n",
    "pd.set_option('display.max_rows', 100)\n",
    "\n",
    "# Set style for matplotlib/seaborn plots\n",
    "sns.set_style(\"whitegrid\")  # Use seaborn's whitegrid style\n",
    "plt.style.use('seaborn-v0_8')  # Use the updated seaborn style name"
   ]
  },
  {
   "cell_type": "markdown",
   "id": "9731fff7",
   "metadata": {},
   "source": [
    "## Data Loading and Cleaning\n",
    "\n",
    "Let's load our data from the SQLite database. We'll need to join the stories table with the latest stats for each story."
   ]
  },
  {
   "cell_type": "code",
   "execution_count": 52,
   "id": "d61a47a7",
   "metadata": {},
   "outputs": [
    {
     "name": "stdout",
     "output_type": "stream",
     "text": [
      "Dataset Shape: (108, 13)\n",
      "<class 'pandas.core.frame.DataFrame'>\n",
      "RangeIndex: 108 entries, 0 to 107\n",
      "Data columns (total 13 columns):\n",
      " #   Column         Non-Null Count  Dtype         \n",
      "---  ------         --------------  -----         \n",
      " 0   id             108 non-null    int64         \n",
      " 1   title          108 non-null    object        \n",
      " 2   url            108 non-null    object        \n",
      " 3   rating         103 non-null    float64       \n",
      " 4   followers      108 non-null    int64         \n",
      " 5   pages          108 non-null    int64         \n",
      " 6   chapters       107 non-null    float64       \n",
      " 7   views          108 non-null    int64         \n",
      " 8   favorites      108 non-null    int64         \n",
      " 9   ratings_count  108 non-null    int64         \n",
      " 10  genre          108 non-null    object        \n",
      " 11  scraped_date   108 non-null    object        \n",
      " 12  last_updated   108 non-null    datetime64[ns]\n",
      "dtypes: datetime64[ns](1), float64(2), int64(6), object(4)\n",
      "memory usage: 11.1+ KB\n"
     ]
    }
   ],
   "source": [
    "# Connect to SQLite database\n",
    "try:\n",
    "    conn = sqlite3.connect('data/royal_road.db')\n",
    "\n",
    "    # Load stories with their latest stats (all in one table now)\n",
    "    query = \"\"\"\n",
    "    SELECT id, title, url, rating, followers, pages, chapters,\n",
    "           views, favorites, ratings_count, genres, scraped_date\n",
    "    FROM stories\n",
    "    \"\"\"\n",
    "\n",
    "    df = pd.read_sql_query(query, conn)\n",
    "    \n",
    "    # Rename genres column to genre for consistency with rest of the notebook\n",
    "    df = df.rename(columns={'genres': 'genre'})\n",
    "    \n",
    "    # Convert scraped_date to datetime\n",
    "    df['last_updated'] = pd.to_datetime(df['scraped_date'])\n",
    "    \n",
    "    # Display basic information about the dataset\n",
    "    print(\"Dataset Shape:\", df.shape)\n",
    "    df.info()\n",
    "\n",
    "except sqlite3.Error as e:\n",
    "    print(f\"Database error occurred: {e}\")\n",
    "except Exception as e:\n",
    "    print(f\"An error occurred: {e}\")\n",
    "finally:\n",
    "    if 'conn' in locals():\n",
    "        conn.close()"
   ]
  },
  {
   "cell_type": "markdown",
   "id": "5587de6f",
   "metadata": {},
   "source": [
    "## Basic Statistical Analysis\n",
    "\n",
    "Let's examine the basic statistics of our numerical columns to understand the central tendencies and spread of our data."
   ]
  },
  {
   "cell_type": "code",
   "execution_count": 53,
   "id": "505c7a19",
   "metadata": {},
   "outputs": [
    {
     "name": "stdout",
     "output_type": "stream",
     "text": [
      "\n",
      "Numerical Statistics:\n",
      "               id      rating     followers        pages     chapters  \\\n",
      "count  108.000000  103.000000    108.000000   108.000000   107.000000   \n",
      "mean   175.796296    4.435049   2213.092593  1294.861111   207.074766   \n",
      "min     49.000000    3.090000      4.000000    41.000000     7.000000   \n",
      "25%    145.750000    4.340000    196.000000   509.000000    66.500000   \n",
      "50%    182.500000    4.520000    978.500000   785.000000   124.000000   \n",
      "75%    212.250000    4.610000   3717.000000  1608.000000   210.000000   \n",
      "max    239.000000    5.000000  14188.000000  8173.000000  4000.000000   \n",
      "std     44.583380    0.328591   2764.877684  1399.245935   409.736379   \n",
      "\n",
      "              views    favorites  ratings_count                   last_updated  \n",
      "count  1.080000e+02   108.000000     108.000000                            108  \n",
      "mean   8.685255e+05   525.518519     347.657407  2025-10-05 19:02:03.981481472  \n",
      "min    1.365000e+03     1.000000       1.000000            2025-10-04 21:15:17  \n",
      "25%    4.503325e+04    47.000000      28.500000            2025-10-05 19:21:57  \n",
      "50%    2.702645e+05   227.500000     109.000000            2025-10-05 19:21:57  \n",
      "75%    8.091810e+05   711.000000     531.250000            2025-10-05 21:40:10  \n",
      "max    1.229696e+07  4711.000000    2819.000000            2025-10-05 21:40:10  \n",
      "std    1.843602e+06   740.384587     498.195945                            NaN  \n",
      "\n",
      "Key Metrics Summary:\n",
      "              views      rating     followers    favorites  ratings_count  \\\n",
      "count  1.080000e+02  103.000000    108.000000   108.000000     108.000000   \n",
      "mean   8.685255e+05    4.435049   2213.092593   525.518519     347.657407   \n",
      "std    1.843602e+06    0.328591   2764.877684   740.384587     498.195945   \n",
      "min    1.365000e+03    3.090000      4.000000     1.000000       1.000000   \n",
      "25%    4.503325e+04    4.340000    196.000000    47.000000      28.500000   \n",
      "50%    2.702645e+05    4.520000    978.500000   227.500000     109.000000   \n",
      "75%    8.091810e+05    4.610000   3717.000000   711.000000     531.250000   \n",
      "max    1.229696e+07    5.000000  14188.000000  4711.000000    2819.000000   \n",
      "\n",
      "          chapters        pages  \n",
      "count   107.000000   108.000000  \n",
      "mean    207.074766  1294.861111  \n",
      "std     409.736379  1399.245935  \n",
      "min       7.000000    41.000000  \n",
      "25%      66.500000   509.000000  \n",
      "50%     124.000000   785.000000  \n",
      "75%     210.000000  1608.000000  \n",
      "max    4000.000000  8173.000000  \n"
     ]
    }
   ],
   "source": [
    "# Get descriptive statistics for numerical columns\n",
    "numerical_stats = df.describe()\n",
    "print(\"\\nNumerical Statistics:\")\n",
    "print(numerical_stats)\n",
    "\n",
    "# Create a more focused view of key metrics\n",
    "key_metrics = ['views', 'rating', 'followers', 'favorites', 'ratings_count', 'chapters', 'pages']\n",
    "print(\"\\nKey Metrics Summary:\")\n",
    "print(df[key_metrics].describe())"
   ]
  },
  {
   "cell_type": "markdown",
   "id": "0162b22f",
   "metadata": {},
   "source": [
    "## Missing Value Analysis\n",
    "\n",
    "Let's check for missing values in our dataset and visualize them."
   ]
  },
  {
   "cell_type": "code",
   "execution_count": 54,
   "id": "74dcdf25",
   "metadata": {},
   "outputs": [
    {
     "name": "stdout",
     "output_type": "stream",
     "text": [
      "\n",
      "Missing Value Analysis:\n",
      "          Missing Values  Percentage\n",
      "rating                 5    4.629630\n",
      "chapters               1    0.925926\n"
     ]
    },
    {
     "data": {
      "image/png": "[encoded data removed]",
      "text/plain": [
       "<Figure size 1000x600 with 2 Axes>"
      ]
     },
     "metadata": {},
     "output_type": "display_data"
    }
   ],
   "source": [
    "# Check for missing values\n",
    "missing_values = df.isnull().sum()\n",
    "missing_percentages = (df.isnull().sum() / len(df)) * 100\n",
    "\n",
    "# Create a DataFrame with missing value information\n",
    "missing_info = pd.DataFrame({\n",
    "    'Missing Values': missing_values,\n",
    "    'Percentage': missing_percentages\n",
    "})\n",
    "print(\"\\nMissing Value Analysis:\")\n",
    "print(missing_info[missing_info['Missing Values'] > 0])\n",
    "\n",
    "# Create a heatmap of missing values\n",
    "plt.figure(figsize=(10, 6))\n",
    "sns.heatmap(df.isnull(), \n",
    "           yticklabels=False, \n",
    "           cbar=True, \n",
    "           cmap='viridis')\n",
    "plt.title('Missing Value Heatmap')\n",
    "plt.tight_layout()\n",
    "plt.show()"
   ]
  },
  {
   "cell_type": "markdown",
   "id": "0ebf4082",
   "metadata": {},
   "source": [
    "## Numerical Features Distribution\n",
    "\n",
    "Let's analyze the distribution of key numerical features using histograms and box plots."
   ]
  },
  {
   "cell_type": "code",
   "execution_count": 55,
   "id": "76c8664d",
   "metadata": {},
   "outputs": [
    {
     "name": "stdout",
     "output_type": "stream",
     "text": [
      "Skewness for views: 4.69\n",
      "Applied log scaling to views due to right-skewed distribution (skewness: 4.69)\n"
     ]
    },
    {
     "data": {
      "application/vnd.plotly.v1+json": {
       "config": {
        "plotlyServerURL": "https://plot.ly"
       },
       "data": [
        {
         "name": "Distribution",
         "opacity": 0.75,
         "type": "bar",
         "x": [
          1501.3341773910147,
          1801.2362434182974,
          2161.0458573865253,
          2592.7299735345896,
          3110.646029415714,
          3732.0194617600637,
          4477.516609490932,
          5371.932058149618,
          6445.013286205662,
          7732.450040270148,
          9277.061344969565,
          11130.21962639434,
          13353.559314227019,
          16021.026749168072,
          19221.33957379414,
          23060.937404045548,
          27667.52191810598,
          33194.30410294532,
          39825.09991824532,
          47780.44385504971,
          57324.923720772465,
          68775.98059912294,
          82514.46666394615,
          98997.31199066766,
          118772.72165245426,
          142498.4085432665,
          170963.46833561087,
          205114.62411502554,
          246087.71356497315,
          295245.465938477,
          354222.82524565526,
          424981.32706688275,
          509874.3375170005,
          611725.3241516805,
          733921.7620380854,
          880527.7982239121,
          1056419.4217268857,
          1267446.634680771,
          1520628.0183089224,
          1824384.1648200965,
          2188817.738967997,
          2626049.4838779797,
          3150621.3464019415,
          3779980.129599423,
          4535057.7582050245,
          5440967.456205936,
          6527838.990789264,
          7831820.762144938,
          9396282.067757985,
          11273255.527452838
         ],
         "y": {
          "bdata": "F9gbZMLNAT8AAAAAAAAAAN+vihLJvPg+LBZU0WOeBD8AAAAAAAAAAChtFhARpuw+AAAAAAAAAAAuVdtOv9r9PmjZiqDUluA+vvuW/Xun+z7I54bXwwznPgAAAAAAAAAAfqyBz2kD4D7ttrk5vbHaPmtTa5bvP8Y+g+YkEZOL0j4LY379Oeq+PgAAAAAAAAAA7VgkhDd61T7vKS93xubRPqA9RmqB160+yUMkOYvfuD4SUupxXLukPvjr1lOyR8E+NWZ2lL2atT4kLm4CgwKYPuR8ohOyBK4+buBg0SOusD54U5NSV86rPksnw/YmLZc+KHaIByLnsD4Ib7XM3iaoPjyjQEM/14o+fHzfikyToz4Rbm/ZoaWCPvJdXTaqFY8+JJtS97roeT5XTfrDSzKAPrcHlLDt/4E+ItH5oG8Bfj6S8nc2fgJpPvsejcd92FQ+hZgQDPcPaj76ZQW2y/ZMPpSgsG0/JEg+IeyV2z8fRD4AAAAAAAAAAAAAAAAAAAAAAAAAAAAAAABf9FcPcGxDPg==",
          "dtype": "f8"
         }
        }
       ],
       "layout": {
        "height": 500,
        "showlegend": false,
        "template": {
         "data": {
          "bar": [
           {
            "error_x": {
             "color": "#2a3f5f"
            },
            "error_y": {
             "color": "#2a3f5f"
            },
            "marker": {
             "line": {
              "color": "#E5ECF6",
              "width": 0.5
             },
             "pattern": {
              "fillmode": "overlay",
              "size": 10,
              "solidity": 0.2
             }
            },
            "type": "bar"
           }
          ],
          "barpolar": [
           {
            "marker": {
             "line": {
              "color": "#E5ECF6",
              "width": 0.5
             },
             "pattern": {
              "fillmode": "overlay",
              "size": 10,
              "solidity": 0.2
             }
            },
            "type": "barpolar"
           }
          ],
          "carpet": [
           {
            "aaxis": {
             "endlinecolor": "#2a3f5f",
             "gridcolor": "white",
             "linecolor": "white",
             "minorgridcolor": "white",
             "startlinecolor": "#2a3f5f"
            },
            "baxis": {
             "endlinecolor": "#2a3f5f",
             "gridcolor": "white",
             "linecolor": "white",
             "minorgridcolor": "white",
             "startlinecolor": "#2a3f5f"
            },
            "type": "carpet"
           }
          ],
          "choropleth": [
           {
            "colorbar": {
             "outlinewidth": 0,
             "ticks": ""
            },
            "type": "choropleth"
           }
          ],
          "contour": [
           {
            "colorbar": {
             "outlinewidth": 0,
             "ticks": ""
            },
            "colorscale": [
             [
              0,
              "#0d0887"
             ],
             [
              0.1111111111111111,
              "#46039f"
             ],
             [
              0.2222222222222222,
              "#7201a8"
             ],
             [
              0.3333333333333333,
              "#9c179e"
             ],
             [
              0.4444444444444444,
              "#bd3786"
             ],
             [
              0.5555555555555556,
              "#d8576b"
             ],
             [
              0.6666666666666666,
              "#ed7953"
             ],
             [
              0.7777777777777778,
              "#fb9f3a"
             ],
             [
              0.8888888888888888,
              "#fdca26"
             ],
             [
              1,
              "#f0f921"
             ]
            ],
            "type": "contour"
           }
          ],
          "contourcarpet": [
           {
            "colorbar": {
             "outlinewidth": 0,
             "ticks": ""
            },
            "type": "contourcarpet"
           }
          ],
          "heatmap": [
           {
            "colorbar": {
             "outlinewidth": 0,
             "ticks": ""
            },
            "colorscale": [
             [
              0,
              "#0d0887"
             ],
             [
              0.1111111111111111,
              "#46039f"
             ],
             [
              0.2222222222222222,
              "#7201a8"
             ],
             [
              0.3333333333333333,
              "#9c179e"
             ],
             [
              0.4444444444444444,
              "#bd3786"
             ],
             [
              0.5555555555555556,
              "#d8576b"
             ],
             [
              0.6666666666666666,
              "#ed7953"
             ],
             [
              0.7777777777777778,
              "#fb9f3a"
             ],
             [
              0.8888888888888888,
              "#fdca26"
             ],
             [
              1,
              "#f0f921"
             ]
            ],
            "type": "heatmap"
           }
          ],
          "histogram": [
           {
            "marker": {
             "pattern": {
              "fillmode": "overlay",
              "size": 10,
              "solidity": 0.2
             }
            },
            "type": "histogram"
           }
          ],
          "histogram2d": [
           {
            "colorbar": {
             "outlinewidth": 0,
             "ticks": ""
            },
            "colorscale": [
             [
              0,
              "#0d0887"
             ],
             [
              0.1111111111111111,
              "#46039f"
             ],
             [
              0.2222222222222222,
              "#7201a8"
             ],
             [
              0.3333333333333333,
              "#9c179e"
             ],
             [
              0.4444444444444444,
              "#bd3786"
             ],
             [
              0.5555555555555556,
              "#d8576b"
             ],
             [
              0.6666666666666666,
              "#ed7953"
             ],
             [
              0.7777777777777778,
              "#fb9f3a"
             ],
             [
              0.8888888888888888,
              "#fdca26"
             ],
             [
              1,
              "#f0f921"
             ]
            ],
            "type": "histogram2d"
           }
          ],
          "histogram2dcontour": [
           {
            "colorbar": {
             "outlinewidth": 0,
             "ticks": ""
            },
            "colorscale": [
             [
              0,
              "#0d0887"
             ],
             [
              0.1111111111111111,
              "#46039f"
             ],
             [
              0.2222222222222222,
              "#7201a8"
             ],
             [
              0.3333333333333333,
              "#9c179e"
             ],
             [
              0.4444444444444444,
              "#bd3786"
             ],
             [
              0.5555555555555556,
              "#d8576b"
             ],
             [
              0.6666666666666666,
              "#ed7953"
             ],
             [
              0.7777777777777778,
              "#fb9f3a"
             ],
             [
              0.8888888888888888,
              "#fdca26"
             ],
             [
              1,
              "#f0f921"
             ]
            ],
            "type": "histogram2dcontour"
           }
          ],
          "mesh3d": [
           {
            "colorbar": {
             "outlinewidth": 0,
             "ticks": ""
            },
            "type": "mesh3d"
           }
          ],
          "parcoords": [
           {
            "line": {
             "colorbar": {
              "outlinewidth": 0,
              "ticks": ""
             }
            },
            "type": "parcoords"
           }
          ],
          "pie": [
           {
            "automargin": true,
            "type": "pie"
           }
          ],
          "scatter": [
           {
            "fillpattern": {
             "fillmode": "overlay",
             "size": 10,
             "solidity": 0.2
            },
            "type": "scatter"
           }
          ],
          "scatter3d": [
           {
            "line": {
             "colorbar": {
              "outlinewidth": 0,
              "ticks": ""
             }
            },
            "marker": {
             "colorbar": {
              "outlinewidth": 0,
              "ticks": ""
             }
            },
            "type": "scatter3d"
           }
          ],
          "scattercarpet": [
           {
            "marker": {
             "colorbar": {
              "outlinewidth": 0,
              "ticks": ""
             }
            },
            "type": "scattercarpet"
           }
          ],
          "scattergeo": [
           {
            "marker": {
             "colorbar": {
              "outlinewidth": 0,
              "ticks": ""
             }
            },
            "type": "scattergeo"
           }
          ],
          "scattergl": [
           {
            "marker": {
             "colorbar": {
              "outlinewidth": 0,
              "ticks": ""
             }
            },
            "type": "scattergl"
           }
          ],
          "scattermap": [
           {
            "marker": {
             "colorbar": {
              "outlinewidth": 0,
              "ticks": ""
             }
            },
            "type": "scattermap"
           }
          ],
          "scattermapbox": [
           {
            "marker": {
             "colorbar": {
              "outlinewidth": 0,
              "ticks": ""
             }
            },
            "type": "scattermapbox"
           }
          ],
          "scatterpolar": [
           {
            "marker": {
             "colorbar": {
              "outlinewidth": 0,
              "ticks": ""
             }
            },
            "type": "scatterpolar"
           }
          ],
          "scatterpolargl": [
           {
            "marker": {
             "colorbar": {
              "outlinewidth": 0,
              "ticks": ""
             }
            },
            "type": "scatterpolargl"
           }
          ],
          "scatterternary": [
           {
            "marker": {
             "colorbar": {
              "outlinewidth": 0,
              "ticks": ""
             }
            },
            "type": "scatterternary"
           }
          ],
          "surface": [
           {
            "colorbar": {
             "outlinewidth": 0,
             "ticks": ""
            },
            "colorscale": [
             [
              0,
              "#0d0887"
             ],
             [
              0.1111111111111111,
              "#46039f"
             ],
             [
              0.2222222222222222,
              "#7201a8"
             ],
             [
              0.3333333333333333,
              "#9c179e"
             ],
             [
              0.4444444444444444,
              "#bd3786"
             ],
             [
              0.5555555555555556,
              "#d8576b"
             ],
             [
              0.6666666666666666,
              "#ed7953"
             ],
             [
              0.7777777777777778,
              "#fb9f3a"
             ],
             [
              0.8888888888888888,
              "#fdca26"
             ],
             [
              1,
              "#f0f921"
             ]
            ],
            "type": "surface"
           }
          ],
          "table": [
           {
            "cells": {
             "fill": {
              "color": "#EBF0F8"
             },
             "line": {
              "color": "white"
             }
            },
            "header": {
             "fill": {
              "color": "#C8D4E3"
             },
             "line": {
              "color": "white"
             }
            },
            "type": "table"
           }
          ]
         },
         "layout": {
          "annotationdefaults": {
           "arrowcolor": "#2a3f5f",
           "arrowhead": 0,
           "arrowwidth": 1
          },
          "autotypenumbers": "strict",
          "coloraxis": {
           "colorbar": {
            "outlinewidth": 0,
            "ticks": ""
           }
          },
          "colorscale": {
           "diverging": [
            [
             0,
             "#8e0152"
            ],
            [
             0.1,
             "#c51b7d"
            ],
            [
             0.2,
             "#de77ae"
            ],
            [
             0.3,
             "#f1b6da"
            ],
            [
             0.4,
             "#fde0ef"
            ],
            [
             0.5,
             "#f7f7f7"
            ],
            [
             0.6,
             "#e6f5d0"
            ],
            [
             0.7,
             "#b8e186"
            ],
            [
             0.8,
             "#7fbc41"
            ],
            [
             0.9,
             "#4d9221"
            ],
            [
             1,
             "#276419"
            ]
           ],
           "sequential": [
            [
             0,
             "#0d0887"
            ],
            [
             0.1111111111111111,
             "#46039f"
            ],
            [
             0.2222222222222222,
             "#7201a8"
            ],
            [
             0.3333333333333333,
             "#9c179e"
            ],
            [
             0.4444444444444444,
             "#bd3786"
            ],
            [
             0.5555555555555556,
             "#d8576b"
            ],
            [
             0.6666666666666666,
             "#ed7953"
            ],
            [
             0.7777777777777778,
             "#fb9f3a"
            ],
            [
             0.8888888888888888,
             "#fdca26"
            ],
            [
             1,
             "#f0f921"
            ]
           ],
           "sequentialminus": [
            [
             0,
             "#0d0887"
            ],
            [
             0.1111111111111111,
             "#46039f"
            ],
            [
             0.2222222222222222,
             "#7201a8"
            ],
            [
             0.3333333333333333,
             "#9c179e"
            ],
            [
             0.4444444444444444,
             "#bd3786"
            ],
            [
             0.5555555555555556,
             "#d8576b"
            ],
            [
             0.6666666666666666,
             "#ed7953"
            ],
            [
             0.7777777777777778,
             "#fb9f3a"
            ],
            [
             0.8888888888888888,
             "#fdca26"
            ],
            [
             1,
             "#f0f921"
            ]
           ]
          },
          "colorway": [
           "#636efa",
           "#EF553B",
           "#00cc96",
           "#ab63fa",
           "#FFA15A",
           "#19d3f3",
           "#FF6692",
           "#B6E880",
           "#FF97FF",
           "#FECB52"
          ],
          "font": {
           "color": "#2a3f5f"
          },
          "geo": {
           "bgcolor": "white",
           "lakecolor": "white",
           "landcolor": "#E5ECF6",
           "showlakes": true,
           "showland": true,
           "subunitcolor": "white"
          },
          "hoverlabel": {
           "align": "left"
          },
          "hovermode": "closest",
          "mapbox": {
           "style": "light"
          },
          "paper_bgcolor": "white",
          "plot_bgcolor": "#E5ECF6",
          "polar": {
           "angularaxis": {
            "gridcolor": "white",
            "linecolor": "white",
            "ticks": ""
           },
           "bgcolor": "#E5ECF6",
           "radialaxis": {
            "gridcolor": "white",
            "linecolor": "white",
            "ticks": ""
           }
          },
          "scene": {
           "xaxis": {
            "backgroundcolor": "#E5ECF6",
            "gridcolor": "white",
            "gridwidth": 2,
            "linecolor": "white",
            "showbackground": true,
            "ticks": "",
            "zerolinecolor": "white"
           },
           "yaxis": {
            "backgroundcolor": "#E5ECF6",
            "gridcolor": "white",
            "gridwidth": 2,
            "linecolor": "white",
            "showbackground": true,
            "ticks": "",
            "zerolinecolor": "white"
           },
           "zaxis": {
            "backgroundcolor": "#E5ECF6",
            "gridcolor": "white",
            "gridwidth": 2,
            "linecolor": "white",
            "showbackground": true,
            "ticks": "",
            "zerolinecolor": "white"
           }
          },
          "shapedefaults": {
           "line": {
            "color": "#2a3f5f"
           }
          },
          "ternary": {
           "aaxis": {
            "gridcolor": "white",
            "linecolor": "white",
            "ticks": ""
           },
           "baxis": {
            "gridcolor": "white",
            "linecolor": "white",
            "ticks": ""
           },
           "bgcolor": "#E5ECF6",
           "caxis": {
            "gridcolor": "white",
            "linecolor": "white",
            "ticks": ""
           }
          },
          "title": {
           "x": 0.05
          },
          "xaxis": {
           "automargin": true,
           "gridcolor": "white",
           "linecolor": "white",
           "ticks": "",
           "title": {
            "standoff": 15
           },
           "zerolinecolor": "white",
           "zerolinewidth": 2
          },
          "yaxis": {
           "automargin": true,
           "gridcolor": "white",
           "linecolor": "white",
           "ticks": "",
           "title": {
            "standoff": 15
           },
           "zerolinecolor": "white",
           "zerolinewidth": 2
          }
         }
        },
        "title": {
         "text": "Views Distribution (Log Scale)"
        },
        "width": 800,
        "xaxis": {
         "title": {
          "text": "Views"
         },
         "type": "log"
        },
        "yaxis": {
         "title": {
          "text": "Frequency"
         }
        }
       }
      }
     },
     "metadata": {},
     "output_type": "display_data"
    },
    {
     "name": "stdout",
     "output_type": "stream",
     "text": [
      "\n",
      "Views Statistics:\n",
      "Count: 108\n",
      "Mean:  868,525.46\n",
      "Std:   1,843,601.77\n",
      "Min:   1,365.00\n",
      "25%:   45,033.25\n",
      "50%:   270,264.50\n",
      "75%:   809,181.00\n",
      "Max:   12,296,965.00\n",
      "Note: views shows significant right skew - median (270264.50) is much closer to min than max\n",
      "90th percentile: 2,018,751.90\n",
      "95th percentile: 3,297,938.25\n",
      "99th percentile: 11,650,176.09\n",
      "Percent of data between median and 90th percentile: 39.8%\n",
      "Percent of data between 90th and max: 10.2%\n",
      "Skewness for rating: -1.84\n"
     ]
    },
    {
     "data": {
      "application/vnd.plotly.v1+json": {
       "config": {
        "plotlyServerURL": "https://plot.ly"
       },
       "data": [
        {
         "name": "Distribution",
         "opacity": 0.75,
         "type": "bar",
         "x": [
          3.1090999999999998,
          3.1472999999999995,
          3.1854999999999998,
          3.2237,
          3.2619,
          3.3000999999999996,
          3.3383,
          3.3765,
          3.4147,
          3.4528999999999996,
          3.4911,
          3.5293,
          3.5675,
          3.6056999999999997,
          3.6439,
          3.6821,
          3.7203,
          3.7584999999999997,
          3.7967,
          3.8349,
          3.8731,
          3.9112999999999998,
          3.9495,
          3.9877000000000002,
          4.0259,
          4.0641,
          4.1023,
          4.140499999999999,
          4.1787,
          4.2169,
          4.2551000000000005,
          4.2933,
          4.3315,
          4.3697,
          4.4079,
          4.4460999999999995,
          4.4843,
          4.5225,
          4.560700000000001,
          4.5989,
          4.6371,
          4.6753,
          4.7135,
          4.7517,
          4.7899,
          4.8281,
          4.866300000000001,
          4.9045000000000005,
          4.9427,
          4.9809
         ],
         "y": {
          "bdata": "LSdNLxVE0D8AAAAAAAAAAC0nTS8VRNA/AAAAAAAAAAAAAAAAAAAAAAAAAAAAAAAAAAAAAAAAAAAAAAAAAAAAAAAAAAAAAAAA+CZNLxVE0D8AAAAAAAAAAPgmTS8VRNA/AAAAAAAAAAD4Jk0vFUTQPwAAAAAAAAAA+CZNLxVE0D8AAAAAAAAAAAAAAAAAAAAAAAAAAAAAAAD4Jk0vFUTQPy0nTS8VRNA/AAAAAAAAAAAAAAAAAAAAAAAAAAAAAAAAAAAAAAAAAAAAAAAAAAAAAC0nTS8VROA/wiZNLxVE4D8tJ00vFUTgP8O688YfZug/AAAAAAAAAAAtJ00vFUTwPy0nTS8VRABALSdNLxVE8D8tJ00vFUTwPyS688YfZvg/jwTHEiV3/D/5cCB7GlUEQJvLNtWXTAJAw7rzxh9mCEAtJ00vFUTwPy0nTS8VRPA/LSdNLxVE8D/CJk0vFUTQPy0nTS8VROA/LSdNLxVE4D/CJk0vFUTgPy0nTS8VRNA/AAAAAAAAAAAtJ00vFUTgPw==",
          "dtype": "f8"
         }
        }
       ],
       "layout": {
        "height": 500,
        "showlegend": false,
        "template": {
         "data": {
          "bar": [
           {
            "error_x": {
             "color": "#2a3f5f"
            },
            "error_y": {
             "color": "#2a3f5f"
            },
            "marker": {
             "line": {
              "color": "#E5ECF6",
              "width": 0.5
             },
             "pattern": {
              "fillmode": "overlay",
              "size": 10,
              "solidity": 0.2
             }
            },
            "type": "bar"
           }
          ],
          "barpolar": [
           {
            "marker": {
             "line": {
              "color": "#E5ECF6",
              "width": 0.5
             },
             "pattern": {
              "fillmode": "overlay",
              "size": 10,
              "solidity": 0.2
             }
            },
            "type": "barpolar"
           }
          ],
          "carpet": [
           {
            "aaxis": {
             "endlinecolor": "#2a3f5f",
             "gridcolor": "white",
             "linecolor": "white",
             "minorgridcolor": "white",
             "startlinecolor": "#2a3f5f"
            },
            "baxis": {
             "endlinecolor": "#2a3f5f",
             "gridcolor": "white",
             "linecolor": "white",
             "minorgridcolor": "white",
             "startlinecolor": "#2a3f5f"
            },
            "type": "carpet"
           }
          ],
          "choropleth": [
           {
            "colorbar": {
             "outlinewidth": 0,
             "ticks": ""
            },
            "type": "choropleth"
           }
          ],
          "contour": [
           {
            "colorbar": {
             "outlinewidth": 0,
             "ticks": ""
            },
            "colorscale": [
             [
              0,
              "#0d0887"
             ],
             [
              0.1111111111111111,
              "#46039f"
             ],
             [
              0.2222222222222222,
              "#7201a8"
             ],
             [
              0.3333333333333333,
              "#9c179e"
             ],
             [
              0.4444444444444444,
              "#bd3786"
             ],
             [
              0.5555555555555556,
              "#d8576b"
             ],
             [
              0.6666666666666666,
              "#ed7953"
             ],
             [
              0.7777777777777778,
              "#fb9f3a"
             ],
             [
              0.8888888888888888,
              "#fdca26"
             ],
             [
              1,
              "#f0f921"
             ]
            ],
            "type": "contour"
           }
          ],
          "contourcarpet": [
           {
            "colorbar": {
             "outlinewidth": 0,
             "ticks": ""
            },
            "type": "contourcarpet"
           }
          ],
          "heatmap": [
           {
            "colorbar": {
             "outlinewidth": 0,
             "ticks": ""
            },
            "colorscale": [
             [
              0,
              "#0d0887"
             ],
             [
              0.1111111111111111,
              "#46039f"
             ],
             [
              0.2222222222222222,
              "#7201a8"
             ],
             [
              0.3333333333333333,
              "#9c179e"
             ],
             [
              0.4444444444444444,
              "#bd3786"
             ],
             [
              0.5555555555555556,
              "#d8576b"
             ],
             [
              0.6666666666666666,
              "#ed7953"
             ],
             [
              0.7777777777777778,
              "#fb9f3a"
             ],
             [
              0.8888888888888888,
              "#fdca26"
             ],
             [
              1,
              "#f0f921"
             ]
            ],
            "type": "heatmap"
           }
          ],
          "histogram": [
           {
            "marker": {
             "pattern": {
              "fillmode": "overlay",
              "size": 10,
              "solidity": 0.2
             }
            },
            "type": "histogram"
           }
          ],
          "histogram2d": [
           {
            "colorbar": {
             "outlinewidth": 0,
             "ticks": ""
            },
            "colorscale": [
             [
              0,
              "#0d0887"
             ],
             [
              0.1111111111111111,
              "#46039f"
             ],
             [
              0.2222222222222222,
              "#7201a8"
             ],
             [
              0.3333333333333333,
              "#9c179e"
             ],
             [
              0.4444444444444444,
              "#bd3786"
             ],
             [
              0.5555555555555556,
              "#d8576b"
             ],
             [
              0.6666666666666666,
              "#ed7953"
             ],
             [
              0.7777777777777778,
              "#fb9f3a"
             ],
             [
              0.8888888888888888,
              "#fdca26"
             ],
             [
              1,
              "#f0f921"
             ]
            ],
            "type": "histogram2d"
           }
          ],
          "histogram2dcontour": [
           {
            "colorbar": {
             "outlinewidth": 0,
             "ticks": ""
            },
            "colorscale": [
             [
              0,
              "#0d0887"
             ],
             [
              0.1111111111111111,
              "#46039f"
             ],
             [
              0.2222222222222222,
              "#7201a8"
             ],
             [
              0.3333333333333333,
              "#9c179e"
             ],
             [
              0.4444444444444444,
              "#bd3786"
             ],
             [
              0.5555555555555556,
              "#d8576b"
             ],
             [
              0.6666666666666666,
              "#ed7953"
             ],
             [
              0.7777777777777778,
              "#fb9f3a"
             ],
             [
              0.8888888888888888,
              "#fdca26"
             ],
             [
              1,
              "#f0f921"
             ]
            ],
            "type": "histogram2dcontour"
           }
          ],
          "mesh3d": [
           {
            "colorbar": {
             "outlinewidth": 0,
             "ticks": ""
            },
            "type": "mesh3d"
           }
          ],
          "parcoords": [
           {
            "line": {
             "colorbar": {
              "outlinewidth": 0,
              "ticks": ""
             }
            },
            "type": "parcoords"
           }
          ],
          "pie": [
           {
            "automargin": true,
            "type": "pie"
           }
          ],
          "scatter": [
           {
            "fillpattern": {
             "fillmode": "overlay",
             "size": 10,
             "solidity": 0.2
            },
            "type": "scatter"
           }
          ],
          "scatter3d": [
           {
            "line": {
             "colorbar": {
              "outlinewidth": 0,
              "ticks": ""
             }
            },
            "marker": {
             "colorbar": {
              "outlinewidth": 0,
              "ticks": ""
             }
            },
            "type": "scatter3d"
           }
          ],
          "scattercarpet": [
           {
            "marker": {
             "colorbar": {
              "outlinewidth": 0,
              "ticks": ""
             }
            },
            "type": "scattercarpet"
           }
          ],
          "scattergeo": [
           {
            "marker": {
             "colorbar": {
              "outlinewidth": 0,
              "ticks": ""
             }
            },
            "type": "scattergeo"
           }
          ],
          "scattergl": [
           {
            "marker": {
             "colorbar": {
              "outlinewidth": 0,
              "ticks": ""
             }
            },
            "type": "scattergl"
           }
          ],
          "scattermap": [
           {
            "marker": {
             "colorbar": {
              "outlinewidth": 0,
              "ticks": ""
             }
            },
            "type": "scattermap"
           }
          ],
          "scattermapbox": [
           {
            "marker": {
             "colorbar": {
              "outlinewidth": 0,
              "ticks": ""
             }
            },
            "type": "scattermapbox"
           }
          ],
          "scatterpolar": [
           {
            "marker": {
             "colorbar": {
              "outlinewidth": 0,
              "ticks": ""
             }
            },
            "type": "scatterpolar"
           }
          ],
          "scatterpolargl": [
           {
            "marker": {
             "colorbar": {
              "outlinewidth": 0,
              "ticks": ""
             }
            },
            "type": "scatterpolargl"
           }
          ],
          "scatterternary": [
           {
            "marker": {
             "colorbar": {
              "outlinewidth": 0,
              "ticks": ""
             }
            },
            "type": "scatterternary"
           }
          ],
          "surface": [
           {
            "colorbar": {
             "outlinewidth": 0,
             "ticks": ""
            },
            "colorscale": [
             [
              0,
              "#0d0887"
             ],
             [
              0.1111111111111111,
              "#46039f"
             ],
             [
              0.2222222222222222,
              "#7201a8"
             ],
             [
              0.3333333333333333,
              "#9c179e"
             ],
             [
              0.4444444444444444,
              "#bd3786"
             ],
             [
              0.5555555555555556,
              "#d8576b"
             ],
             [
              0.6666666666666666,
              "#ed7953"
             ],
             [
              0.7777777777777778,
              "#fb9f3a"
             ],
             [
              0.8888888888888888,
              "#fdca26"
             ],
             [
              1,
              "#f0f921"
             ]
            ],
            "type": "surface"
           }
          ],
          "table": [
           {
            "cells": {
             "fill": {
              "color": "#EBF0F8"
             },
             "line": {
              "color": "white"
             }
            },
            "header": {
             "fill": {
              "color": "#C8D4E3"
             },
             "line": {
              "color": "white"
             }
            },
            "type": "table"
           }
          ]
         },
         "layout": {
          "annotationdefaults": {
           "arrowcolor": "#2a3f5f",
           "arrowhead": 0,
           "arrowwidth": 1
          },
          "autotypenumbers": "strict",
          "coloraxis": {
           "colorbar": {
            "outlinewidth": 0,
            "ticks": ""
           }
          },
          "colorscale": {
           "diverging": [
            [
             0,
             "#8e0152"
            ],
            [
             0.1,
             "#c51b7d"
            ],
            [
             0.2,
             "#de77ae"
            ],
            [
             0.3,
             "#f1b6da"
            ],
            [
             0.4,
             "#fde0ef"
            ],
            [
             0.5,
             "#f7f7f7"
            ],
            [
             0.6,
             "#e6f5d0"
            ],
            [
             0.7,
             "#b8e186"
            ],
            [
             0.8,
             "#7fbc41"
            ],
            [
             0.9,
             "#4d9221"
            ],
            [
             1,
             "#276419"
            ]
           ],
           "sequential": [
            [
             0,
             "#0d0887"
            ],
            [
             0.1111111111111111,
             "#46039f"
            ],
            [
             0.2222222222222222,
             "#7201a8"
            ],
            [
             0.3333333333333333,
             "#9c179e"
            ],
            [
             0.4444444444444444,
             "#bd3786"
            ],
            [
             0.5555555555555556,
             "#d8576b"
            ],
            [
             0.6666666666666666,
             "#ed7953"
            ],
            [
             0.7777777777777778,
             "#fb9f3a"
            ],
            [
             0.8888888888888888,
             "#fdca26"
            ],
            [
             1,
             "#f0f921"
            ]
           ],
           "sequentialminus": [
            [
             0,
             "#0d0887"
            ],
            [
             0.1111111111111111,
             "#46039f"
            ],
            [
             0.2222222222222222,
             "#7201a8"
            ],
            [
             0.3333333333333333,
             "#9c179e"
            ],
            [
             0.4444444444444444,
             "#bd3786"
            ],
            [
             0.5555555555555556,
             "#d8576b"
            ],
            [
             0.6666666666666666,
             "#ed7953"
            ],
            [
             0.7777777777777778,
             "#fb9f3a"
            ],
            [
             0.8888888888888888,
             "#fdca26"
            ],
            [
             1,
             "#f0f921"
            ]
           ]
          },
          "colorway": [
           "#636efa",
           "#EF553B",
           "#00cc96",
           "#ab63fa",
           "#FFA15A",
           "#19d3f3",
           "#FF6692",
           "#B6E880",
           "#FF97FF",
           "#FECB52"
          ],
          "font": {
           "color": "#2a3f5f"
          },
          "geo": {
           "bgcolor": "white",
           "lakecolor": "white",
           "landcolor": "#E5ECF6",
           "showlakes": true,
           "showland": true,
           "subunitcolor": "white"
          },
          "hoverlabel": {
           "align": "left"
          },
          "hovermode": "closest",
          "mapbox": {
           "style": "light"
          },
          "paper_bgcolor": "white",
          "plot_bgcolor": "#E5ECF6",
          "polar": {
           "angularaxis": {
            "gridcolor": "white",
            "linecolor": "white",
            "ticks": ""
           },
           "bgcolor": "#E5ECF6",
           "radialaxis": {
            "gridcolor": "white",
            "linecolor": "white",
            "ticks": ""
           }
          },
          "scene": {
           "xaxis": {
            "backgroundcolor": "#E5ECF6",
            "gridcolor": "white",
            "gridwidth": 2,
            "linecolor": "white",
            "showbackground": true,
            "ticks": "",
            "zerolinecolor": "white"
           },
           "yaxis": {
            "backgroundcolor": "#E5ECF6",
            "gridcolor": "white",
            "gridwidth": 2,
            "linecolor": "white",
            "showbackground": true,
            "ticks": "",
            "zerolinecolor": "white"
           },
           "zaxis": {
            "backgroundcolor": "#E5ECF6",
            "gridcolor": "white",
            "gridwidth": 2,
            "linecolor": "white",
            "showbackground": true,
            "ticks": "",
            "zerolinecolor": "white"
           }
          },
          "shapedefaults": {
           "line": {
            "color": "#2a3f5f"
           }
          },
          "ternary": {
           "aaxis": {
            "gridcolor": "white",
            "linecolor": "white",
            "ticks": ""
           },
           "baxis": {
            "gridcolor": "white",
            "linecolor": "white",
            "ticks": ""
           },
           "bgcolor": "#E5ECF6",
           "caxis": {
            "gridcolor": "white",
            "linecolor": "white",
            "ticks": ""
           }
          },
          "title": {
           "x": 0.05
          },
          "xaxis": {
           "automargin": true,
           "gridcolor": "white",
           "linecolor": "white",
           "ticks": "",
           "title": {
            "standoff": 15
           },
           "zerolinecolor": "white",
           "zerolinewidth": 2
          },
          "yaxis": {
           "automargin": true,
           "gridcolor": "white",
           "linecolor": "white",
           "ticks": "",
           "title": {
            "standoff": 15
           },
           "zerolinecolor": "white",
           "zerolinewidth": 2
          }
         }
        },
        "title": {
         "text": "Rating Distribution"
        },
        "width": 800,
        "xaxis": {
         "title": {
          "text": "Rating"
         }
        },
        "yaxis": {
         "title": {
          "text": "Frequency"
         }
        }
       }
      }
     },
     "metadata": {},
     "output_type": "display_data"
    },
    {
     "name": "stdout",
     "output_type": "stream",
     "text": [
      "\n",
      "Rating Statistics:\n",
      "Count: 103\n",
      "Mean:  4.44\n",
      "Std:   0.33\n",
      "Min:   3.09\n",
      "25%:   4.34\n",
      "50%:   4.52\n",
      "75%:   4.61\n",
      "Max:   5.00\n",
      "Skewness for followers: 1.76\n",
      "Applied log scaling to followers due to right-skewed distribution (skewness: 1.76)\n"
     ]
    },
    {
     "data": {
      "application/vnd.plotly.v1+json": {
       "config": {
        "plotlyServerURL": "https://plot.ly"
       },
       "data": [
        {
         "name": "Distribution",
         "opacity": 0.75,
         "type": "bar",
         "x": [
          4.355196891380632,
          5.128673089965128,
          6.0395174591966825,
          7.11212637266954,
          8.375228962008753,
          9.862656607962027,
          11.614249091913408,
          13.67692167849739,
          16.105921710426706,
          18.966308372608403,
          22.334695260066887,
          26.301302423221628,
          30.97237285321673,
          36.47301813128897,
          42.95056946104059,
          50.57852383883533,
          59.56119105792309,
          70.13916601327418,
          82.59577287924668,
          97.2646537631912,
          114.53870509214073,
          134.88060108788642,
          158.83518619487052,
          187.0440683840115,
          220.26280420460512,
          259.3811358747333,
          305.44682244747446,
          359.69370335519193,
          423.5747459956676,
          498.8009625181684,
          587.3872381702288,
          691.7062986875887,
          814.5522622087058,
          959.2154779105027,
          1129.5706558695017,
          1330.1806486493156,
          1566.4186643367698,
          1844.6121844232812,
          2172.2124412782746,
          2557.993994558462,
          3012.2897520772076,
          3547.267730014987,
          4177.256965313063,
          4919.1313096017075,
          5792.76138433354,
          6821.546802446061,
          8033.0429117642225,
          9459.69884705716,
          11139.726658992986,
          13118.124799045112
         ],
         "y": {
          "bdata": "l+RZWo+xij8AAAAAAAAAAKxcJ1HLP5M/AAAAAAAAAAAAAAAAAAAAABS+HG0wk3c/FPxRYP8EdD8AAAAAAAAAAETiS1Fx32w/T4yVerWEaD8mMXW8F9JkPxXUg1Y9rmE/AAAAAAAAAAAAAAAAAAAAAAAAAAAAAAAAvrhCkV9jUj8AAAAAAAAAAD8M+SbZ42M/RBJs/uzjYD8+Iq4zoq9cPz12KiFoPVA/AAAAAAAAAAAJjjlH8EZdP3t4/kyt40M/bAI4oqtVST952jL1Yq9MP4skBX3mW0g/QiwAQ4IZUj8AAAAAAAAAAEzcFi1C1R0/AAAAAAAAAAAGsRUXhCIwP3q/kJbERCI/QaX0BytFJz9FmeOq/VgaP2nFcE3AXxY/NelvauN/HD9+HPfnKDwsP7Q+rdkvjRQ/RzWoy7lzET+rtCyvksIDP+ZU5QmW+RQ/LSSRArDvGD9b51tGMkAOP4dRic+D0w4/LKWE+lwt+j4AAAAAAAAAAGTOBwR34PI+YjRoUIxf1T4OdHSMXCbSPg==",
          "dtype": "f8"
         }
        }
       ],
       "layout": {
        "height": 500,
        "showlegend": false,
        "template": {
         "data": {
          "bar": [
           {
            "error_x": {
             "color": "#2a3f5f"
            },
            "error_y": {
             "color": "#2a3f5f"
            },
            "marker": {
             "line": {
              "color": "#E5ECF6",
              "width": 0.5
             },
             "pattern": {
              "fillmode": "overlay",
              "size": 10,
              "solidity": 0.2
             }
            },
            "type": "bar"
           }
          ],
          "barpolar": [
           {
            "marker": {
             "line": {
              "color": "#E5ECF6",
              "width": 0.5
             },
             "pattern": {
              "fillmode": "overlay",
              "size": 10,
              "solidity": 0.2
             }
            },
            "type": "barpolar"
           }
          ],
          "carpet": [
           {
            "aaxis": {
             "endlinecolor": "#2a3f5f",
             "gridcolor": "white",
             "linecolor": "white",
             "minorgridcolor": "white",
             "startlinecolor": "#2a3f5f"
            },
            "baxis": {
             "endlinecolor": "#2a3f5f",
             "gridcolor": "white",
             "linecolor": "white",
             "minorgridcolor": "white",
             "startlinecolor": "#2a3f5f"
            },
            "type": "carpet"
           }
          ],
          "choropleth": [
           {
            "colorbar": {
             "outlinewidth": 0,
             "ticks": ""
            },
            "type": "choropleth"
           }
          ],
          "contour": [
           {
            "colorbar": {
             "outlinewidth": 0,
             "ticks": ""
            },
            "colorscale": [
             [
              0,
              "#0d0887"
             ],
             [
              0.1111111111111111,
              "#46039f"
             ],
             [
              0.2222222222222222,
              "#7201a8"
             ],
             [
              0.3333333333333333,
              "#9c179e"
             ],
             [
              0.4444444444444444,
              "#bd3786"
             ],
             [
              0.5555555555555556,
              "#d8576b"
             ],
             [
              0.6666666666666666,
              "#ed7953"
             ],
             [
              0.7777777777777778,
              "#fb9f3a"
             ],
             [
              0.8888888888888888,
              "#fdca26"
             ],
             [
              1,
              "#f0f921"
             ]
            ],
            "type": "contour"
           }
          ],
          "contourcarpet": [
           {
            "colorbar": {
             "outlinewidth": 0,
             "ticks": ""
            },
            "type": "contourcarpet"
           }
          ],
          "heatmap": [
           {
            "colorbar": {
             "outlinewidth": 0,
             "ticks": ""
            },
            "colorscale": [
             [
              0,
              "#0d0887"
             ],
             [
              0.1111111111111111,
              "#46039f"
             ],
             [
              0.2222222222222222,
              "#7201a8"
             ],
             [
              0.3333333333333333,
              "#9c179e"
             ],
             [
              0.4444444444444444,
              "#bd3786"
             ],
             [
              0.5555555555555556,
              "#d8576b"
             ],
             [
              0.6666666666666666,
              "#ed7953"
             ],
             [
              0.7777777777777778,
              "#fb9f3a"
             ],
             [
              0.8888888888888888,
              "#fdca26"
             ],
             [
              1,
              "#f0f921"
             ]
            ],
            "type": "heatmap"
           }
          ],
          "histogram": [
           {
            "marker": {
             "pattern": {
              "fillmode": "overlay",
              "size": 10,
              "solidity": 0.2
             }
            },
            "type": "histogram"
           }
          ],
          "histogram2d": [
           {
            "colorbar": {
             "outlinewidth": 0,
             "ticks": ""
            },
            "colorscale": [
             [
              0,
              "#0d0887"
             ],
             [
              0.1111111111111111,
              "#46039f"
             ],
             [
              0.2222222222222222,
              "#7201a8"
             ],
             [
              0.3333333333333333,
              "#9c179e"
             ],
             [
              0.4444444444444444,
              "#bd3786"
             ],
             [
              0.5555555555555556,
              "#d8576b"
             ],
             [
              0.6666666666666666,
              "#ed7953"
             ],
             [
              0.7777777777777778,
              "#fb9f3a"
             ],
             [
              0.8888888888888888,
              "#fdca26"
             ],
             [
              1,
              "#f0f921"
             ]
            ],
            "type": "histogram2d"
           }
          ],
          "histogram2dcontour": [
           {
            "colorbar": {
             "outlinewidth": 0,
             "ticks": ""
            },
            "colorscale": [
             [
              0,
              "#0d0887"
             ],
             [
              0.1111111111111111,
              "#46039f"
             ],
             [
              0.2222222222222222,
              "#7201a8"
             ],
             [
              0.3333333333333333,
              "#9c179e"
             ],
             [
              0.4444444444444444,
              "#bd3786"
             ],
             [
              0.5555555555555556,
              "#d8576b"
             ],
             [
              0.6666666666666666,
              "#ed7953"
             ],
             [
              0.7777777777777778,
              "#fb9f3a"
             ],
             [
              0.8888888888888888,
              "#fdca26"
             ],
             [
              1,
              "#f0f921"
             ]
            ],
            "type": "histogram2dcontour"
           }
          ],
          "mesh3d": [
           {
            "colorbar": {
             "outlinewidth": 0,
             "ticks": ""
            },
            "type": "mesh3d"
           }
          ],
          "parcoords": [
           {
            "line": {
             "colorbar": {
              "outlinewidth": 0,
              "ticks": ""
             }
            },
            "type": "parcoords"
           }
          ],
          "pie": [
           {
            "automargin": true,
            "type": "pie"
           }
          ],
          "scatter": [
           {
            "fillpattern": {
             "fillmode": "overlay",
             "size": 10,
             "solidity": 0.2
            },
            "type": "scatter"
           }
          ],
          "scatter3d": [
           {
            "line": {
             "colorbar": {
              "outlinewidth": 0,
              "ticks": ""
             }
            },
            "marker": {
             "colorbar": {
              "outlinewidth": 0,
              "ticks": ""
             }
            },
            "type": "scatter3d"
           }
          ],
          "scattercarpet": [
           {
            "marker": {
             "colorbar": {
              "outlinewidth": 0,
              "ticks": ""
             }
            },
            "type": "scattercarpet"
           }
          ],
          "scattergeo": [
           {
            "marker": {
             "colorbar": {
              "outlinewidth": 0,
              "ticks": ""
             }
            },
            "type": "scattergeo"
           }
          ],
          "scattergl": [
           {
            "marker": {
             "colorbar": {
              "outlinewidth": 0,
              "ticks": ""
             }
            },
            "type": "scattergl"
           }
          ],
          "scattermap": [
           {
            "marker": {
             "colorbar": {
              "outlinewidth": 0,
              "ticks": ""
             }
            },
            "type": "scattermap"
           }
          ],
          "scattermapbox": [
           {
            "marker": {
             "colorbar": {
              "outlinewidth": 0,
              "ticks": ""
             }
            },
            "type": "scattermapbox"
           }
          ],
          "scatterpolar": [
           {
            "marker": {
             "colorbar": {
              "outlinewidth": 0,
              "ticks": ""
             }
            },
            "type": "scatterpolar"
           }
          ],
          "scatterpolargl": [
           {
            "marker": {
             "colorbar": {
              "outlinewidth": 0,
              "ticks": ""
             }
            },
            "type": "scatterpolargl"
           }
          ],
          "scatterternary": [
           {
            "marker": {
             "colorbar": {
              "outlinewidth": 0,
              "ticks": ""
             }
            },
            "type": "scatterternary"
           }
          ],
          "surface": [
           {
            "colorbar": {
             "outlinewidth": 0,
             "ticks": ""
            },
            "colorscale": [
             [
              0,
              "#0d0887"
             ],
             [
              0.1111111111111111,
              "#46039f"
             ],
             [
              0.2222222222222222,
              "#7201a8"
             ],
             [
              0.3333333333333333,
              "#9c179e"
             ],
             [
              0.4444444444444444,
              "#bd3786"
             ],
             [
              0.5555555555555556,
              "#d8576b"
             ],
             [
              0.6666666666666666,
              "#ed7953"
             ],
             [
              0.7777777777777778,
              "#fb9f3a"
             ],
             [
              0.8888888888888888,
              "#fdca26"
             ],
             [
              1,
              "#f0f921"
             ]
            ],
            "type": "surface"
           }
          ],
          "table": [
           {
            "cells": {
             "fill": {
              "color": "#EBF0F8"
             },
             "line": {
              "color": "white"
             }
            },
            "header": {
             "fill": {
              "color": "#C8D4E3"
             },
             "line": {
              "color": "white"
             }
            },
            "type": "table"
           }
          ]
         },
         "layout": {
          "annotationdefaults": {
           "arrowcolor": "#2a3f5f",
           "arrowhead": 0,
           "arrowwidth": 1
          },
          "autotypenumbers": "strict",
          "coloraxis": {
           "colorbar": {
            "outlinewidth": 0,
            "ticks": ""
           }
          },
          "colorscale": {
           "diverging": [
            [
             0,
             "#8e0152"
            ],
            [
             0.1,
             "#c51b7d"
            ],
            [
             0.2,
             "#de77ae"
            ],
            [
             0.3,
             "#f1b6da"
            ],
            [
             0.4,
             "#fde0ef"
            ],
            [
             0.5,
             "#f7f7f7"
            ],
            [
             0.6,
             "#e6f5d0"
            ],
            [
             0.7,
             "#b8e186"
            ],
            [
             0.8,
             "#7fbc41"
            ],
            [
             0.9,
             "#4d9221"
            ],
            [
             1,
             "#276419"
            ]
           ],
           "sequential": [
            [
             0,
             "#0d0887"
            ],
            [
             0.1111111111111111,
             "#46039f"
            ],
            [
             0.2222222222222222,
             "#7201a8"
            ],
            [
             0.3333333333333333,
             "#9c179e"
            ],
            [
             0.4444444444444444,
             "#bd3786"
            ],
            [
             0.5555555555555556,
             "#d8576b"
            ],
            [
             0.6666666666666666,
             "#ed7953"
            ],
            [
             0.7777777777777778,
             "#fb9f3a"
            ],
            [
             0.8888888888888888,
             "#fdca26"
            ],
            [
             1,
             "#f0f921"
            ]
           ],
           "sequentialminus": [
            [
             0,
             "#0d0887"
            ],
            [
             0.1111111111111111,
             "#46039f"
            ],
            [
             0.2222222222222222,
             "#7201a8"
            ],
            [
             0.3333333333333333,
             "#9c179e"
            ],
            [
             0.4444444444444444,
             "#bd3786"
            ],
            [
             0.5555555555555556,
             "#d8576b"
            ],
            [
             0.6666666666666666,
             "#ed7953"
            ],
            [
             0.7777777777777778,
             "#fb9f3a"
            ],
            [
             0.8888888888888888,
             "#fdca26"
            ],
            [
             1,
             "#f0f921"
            ]
           ]
          },
          "colorway": [
           "#636efa",
           "#EF553B",
           "#00cc96",
           "#ab63fa",
           "#FFA15A",
           "#19d3f3",
           "#FF6692",
           "#B6E880",
           "#FF97FF",
           "#FECB52"
          ],
          "font": {
           "color": "#2a3f5f"
          },
          "geo": {
           "bgcolor": "white",
           "lakecolor": "white",
           "landcolor": "#E5ECF6",
           "showlakes": true,
           "showland": true,
           "subunitcolor": "white"
          },
          "hoverlabel": {
           "align": "left"
          },
          "hovermode": "closest",
          "mapbox": {
           "style": "light"
          },
          "paper_bgcolor": "white",
          "plot_bgcolor": "#E5ECF6",
          "polar": {
           "angularaxis": {
            "gridcolor": "white",
            "linecolor": "white",
            "ticks": ""
           },
           "bgcolor": "#E5ECF6",
           "radialaxis": {
            "gridcolor": "white",
            "linecolor": "white",
            "ticks": ""
           }
          },
          "scene": {
           "xaxis": {
            "backgroundcolor": "#E5ECF6",
            "gridcolor": "white",
            "gridwidth": 2,
            "linecolor": "white",
            "showbackground": true,
            "ticks": "",
            "zerolinecolor": "white"
           },
           "yaxis": {
            "backgroundcolor": "#E5ECF6",
            "gridcolor": "white",
            "gridwidth": 2,
            "linecolor": "white",
            "showbackground": true,
            "ticks": "",
            "zerolinecolor": "white"
           },
           "zaxis": {
            "backgroundcolor": "#E5ECF6",
            "gridcolor": "white",
            "gridwidth": 2,
            "linecolor": "white",
            "showbackground": true,
            "ticks": "",
            "zerolinecolor": "white"
           }
          },
          "shapedefaults": {
           "line": {
            "color": "#2a3f5f"
           }
          },
          "ternary": {
           "aaxis": {
            "gridcolor": "white",
            "linecolor": "white",
            "ticks": ""
           },
           "baxis": {
            "gridcolor": "white",
            "linecolor": "white",
            "ticks": ""
           },
           "bgcolor": "#E5ECF6",
           "caxis": {
            "gridcolor": "white",
            "linecolor": "white",
            "ticks": ""
           }
          },
          "title": {
           "x": 0.05
          },
          "xaxis": {
           "automargin": true,
           "gridcolor": "white",
           "linecolor": "white",
           "ticks": "",
           "title": {
            "standoff": 15
           },
           "zerolinecolor": "white",
           "zerolinewidth": 2
          },
          "yaxis": {
           "automargin": true,
           "gridcolor": "white",
           "linecolor": "white",
           "ticks": "",
           "title": {
            "standoff": 15
           },
           "zerolinecolor": "white",
           "zerolinewidth": 2
          }
         }
        },
        "title": {
         "text": "Followers Distribution (Log Scale)"
        },
        "width": 800,
        "xaxis": {
         "title": {
          "text": "Followers"
         },
         "type": "log"
        },
        "yaxis": {
         "title": {
          "text": "Frequency"
         }
        }
       }
      }
     },
     "metadata": {},
     "output_type": "display_data"
    },
    {
     "name": "stdout",
     "output_type": "stream",
     "text": [
      "\n",
      "Followers Statistics:\n",
      "Count: 108\n",
      "Mean:  2,213.09\n",
      "Std:   2,764.88\n",
      "Min:   4.00\n",
      "25%:   196.00\n",
      "50%:   978.50\n",
      "75%:   3,717.00\n",
      "Max:   14,188.00\n",
      "Note: followers shows significant right skew - median (978.50) is much closer to min than max\n",
      "90th percentile: 5,679.00\n",
      "95th percentile: 6,774.35\n",
      "99th percentile: 10,617.92\n",
      "Percent of data between median and 90th percentile: 39.8%\n",
      "Percent of data between 90th and max: 10.2%\n",
      "Skewness for favorites: 2.75\n",
      "Applied log scaling to favorites due to right-skewed distribution (skewness: 2.75)\n"
     ]
    },
    {
     "data": {
      "application/vnd.plotly.v1+json": {
       "config": {
        "plotlyServerURL": "https://plot.ly"
       },
       "data": [
        {
         "name": "Distribution",
         "opacity": 0.75,
         "type": "bar",
         "x": [
          1.0921507264670536,
          1.293435692177972,
          1.5318177695232047,
          1.8141340100766146,
          2.1484815439509126,
          2.5444498141031797,
          3.013395611760314,
          3.568768801273002,
          4.226498076533528,
          5.005447812861867,
          5.9279591173581565,
          7.0204905956212516,
          8.314377212704482,
          9.84672901324815,
          11.66149547703821,
          13.810726036840872,
          16.356062911505546,
          19.37050907037768,
          22.940522036121585,
          27.1684935784457,
          32.1756864189842,
          38.105712175155205,
          45.12865029412521,
          53.44592611228768,
          63.29608794819122,
          74.96164892208789,
          88.77718973276512,
          105.13895478792064,
          124.51621691530781,
          147.46473660665748,
          174.64270181980987,
          206.82960550953885,
          244.94860231473507,
          290.0929856155195,
          343.5575443504528,
          406.8756989407152,
          481.86348141906933,
          570.671621160491,
          675.8472300886318,
          800.4068565554585,
          947.9230031570509,
          1122.6265899085574,
          1329.5283015311668,
          1574.5622992203764,
          1864.75641870196,
          2208.4337360369336,
          2615.451282297239,
          3097.4827537029914,
          3668.3533256487904,
          4344.436173441526
         ],
         "y": {
          "bdata": "dX46Vga5qT8AAAAAAAAAAAAAAAAAAAAAAAAAAAAAAACJ7CbTG52zPwAAAAAAAAAAAAAAAAAAAAAAAAAAAAAAAIXWeMZtloo/yXSLrzVzhj85AoOi0/SSPwAAAAAAAAAAJ7D4LOgHez8AAAAAAAAAAAAAAAAAAAAAAAAAAAAAAACRtvroRnt7P4tbb8dxNIc/ZZ/0e/2Xcz8AAAAAAAAAAGFIQYpt9HQ///eiEJ2xgT/A+YU3beFtP3+NkmQD0nA/WQey0NFnbD+6XTUbLfxnP0yBApr1YF4/aUMo0M0ZUT+6fwvoyqhVPycQr+KLYjg/pCpVNBSXND/cmlukymJBP+glErhQXE0/AAAAAAAAAACI934BsypKPztobXt+gzo/c+k/+aDZPT/zcX2Q4Q1GP4UDCSF17D8/En1HEaj0Kj8xzEAMpfcyPwTAyEUCOCM/Yt0q7Vo6MD9EQs8XI0USP7Tu6fGO2g4/XDPYs2EN+j6noPZoff8FP4tEG4Adk/I+AAAAAAAAAABxlJ8sk3zqPg==",
          "dtype": "f8"
         }
        }
       ],
       "layout": {
        "height": 500,
        "showlegend": false,
        "template": {
         "data": {
          "bar": [
           {
            "error_x": {
             "color": "#2a3f5f"
            },
            "error_y": {
             "color": "#2a3f5f"
            },
            "marker": {
             "line": {
              "color": "#E5ECF6",
              "width": 0.5
             },
             "pattern": {
              "fillmode": "overlay",
              "size": 10,
              "solidity": 0.2
             }
            },
            "type": "bar"
           }
          ],
          "barpolar": [
           {
            "marker": {
             "line": {
              "color": "#E5ECF6",
              "width": 0.5
             },
             "pattern": {
              "fillmode": "overlay",
              "size": 10,
              "solidity": 0.2
             }
            },
            "type": "barpolar"
           }
          ],
          "carpet": [
           {
            "aaxis": {
             "endlinecolor": "#2a3f5f",
             "gridcolor": "white",
             "linecolor": "white",
             "minorgridcolor": "white",
             "startlinecolor": "#2a3f5f"
            },
            "baxis": {
             "endlinecolor": "#2a3f5f",
             "gridcolor": "white",
             "linecolor": "white",
             "minorgridcolor": "white",
             "startlinecolor": "#2a3f5f"
            },
            "type": "carpet"
           }
          ],
          "choropleth": [
           {
            "colorbar": {
             "outlinewidth": 0,
             "ticks": ""
            },
            "type": "choropleth"
           }
          ],
          "contour": [
           {
            "colorbar": {
             "outlinewidth": 0,
             "ticks": ""
            },
            "colorscale": [
             [
              0,
              "#0d0887"
             ],
             [
              0.1111111111111111,
              "#46039f"
             ],
             [
              0.2222222222222222,
              "#7201a8"
             ],
             [
              0.3333333333333333,
              "#9c179e"
             ],
             [
              0.4444444444444444,
              "#bd3786"
             ],
             [
              0.5555555555555556,
              "#d8576b"
             ],
             [
              0.6666666666666666,
              "#ed7953"
             ],
             [
              0.7777777777777778,
              "#fb9f3a"
             ],
             [
              0.8888888888888888,
              "#fdca26"
             ],
             [
              1,
              "#f0f921"
             ]
            ],
            "type": "contour"
           }
          ],
          "contourcarpet": [
           {
            "colorbar": {
             "outlinewidth": 0,
             "ticks": ""
            },
            "type": "contourcarpet"
           }
          ],
          "heatmap": [
           {
            "colorbar": {
             "outlinewidth": 0,
             "ticks": ""
            },
            "colorscale": [
             [
              0,
              "#0d0887"
             ],
             [
              0.1111111111111111,
              "#46039f"
             ],
             [
              0.2222222222222222,
              "#7201a8"
             ],
             [
              0.3333333333333333,
              "#9c179e"
             ],
             [
              0.4444444444444444,
              "#bd3786"
             ],
             [
              0.5555555555555556,
              "#d8576b"
             ],
             [
              0.6666666666666666,
              "#ed7953"
             ],
             [
              0.7777777777777778,
              "#fb9f3a"
             ],
             [
              0.8888888888888888,
              "#fdca26"
             ],
             [
              1,
              "#f0f921"
             ]
            ],
            "type": "heatmap"
           }
          ],
          "histogram": [
           {
            "marker": {
             "pattern": {
              "fillmode": "overlay",
              "size": 10,
              "solidity": 0.2
             }
            },
            "type": "histogram"
           }
          ],
          "histogram2d": [
           {
            "colorbar": {
             "outlinewidth": 0,
             "ticks": ""
            },
            "colorscale": [
             [
              0,
              "#0d0887"
             ],
             [
              0.1111111111111111,
              "#46039f"
             ],
             [
              0.2222222222222222,
              "#7201a8"
             ],
             [
              0.3333333333333333,
              "#9c179e"
             ],
             [
              0.4444444444444444,
              "#bd3786"
             ],
             [
              0.5555555555555556,
              "#d8576b"
             ],
             [
              0.6666666666666666,
              "#ed7953"
             ],
             [
              0.7777777777777778,
              "#fb9f3a"
             ],
             [
              0.8888888888888888,
              "#fdca26"
             ],
             [
              1,
              "#f0f921"
             ]
            ],
            "type": "histogram2d"
           }
          ],
          "histogram2dcontour": [
           {
            "colorbar": {
             "outlinewidth": 0,
             "ticks": ""
            },
            "colorscale": [
             [
              0,
              "#0d0887"
             ],
             [
              0.1111111111111111,
              "#46039f"
             ],
             [
              0.2222222222222222,
              "#7201a8"
             ],
             [
              0.3333333333333333,
              "#9c179e"
             ],
             [
              0.4444444444444444,
              "#bd3786"
             ],
             [
              0.5555555555555556,
              "#d8576b"
             ],
             [
              0.6666666666666666,
              "#ed7953"
             ],
             [
              0.7777777777777778,
              "#fb9f3a"
             ],
             [
              0.8888888888888888,
              "#fdca26"
             ],
             [
              1,
              "#f0f921"
             ]
            ],
            "type": "histogram2dcontour"
           }
          ],
          "mesh3d": [
           {
            "colorbar": {
             "outlinewidth": 0,
             "ticks": ""
            },
            "type": "mesh3d"
           }
          ],
          "parcoords": [
           {
            "line": {
             "colorbar": {
              "outlinewidth": 0,
              "ticks": ""
             }
            },
            "type": "parcoords"
           }
          ],
          "pie": [
           {
            "automargin": true,
            "type": "pie"
           }
          ],
          "scatter": [
           {
            "fillpattern": {
             "fillmode": "overlay",
             "size": 10,
             "solidity": 0.2
            },
            "type": "scatter"
           }
          ],
          "scatter3d": [
           {
            "line": {
             "colorbar": {
              "outlinewidth": 0,
              "ticks": ""
             }
            },
            "marker": {
             "colorbar": {
              "outlinewidth": 0,
              "ticks": ""
             }
            },
            "type": "scatter3d"
           }
          ],
          "scattercarpet": [
           {
            "marker": {
             "colorbar": {
              "outlinewidth": 0,
              "ticks": ""
             }
            },
            "type": "scattercarpet"
           }
          ],
          "scattergeo": [
           {
            "marker": {
             "colorbar": {
              "outlinewidth": 0,
              "ticks": ""
             }
            },
            "type": "scattergeo"
           }
          ],
          "scattergl": [
           {
            "marker": {
             "colorbar": {
              "outlinewidth": 0,
              "ticks": ""
             }
            },
            "type": "scattergl"
           }
          ],
          "scattermap": [
           {
            "marker": {
             "colorbar": {
              "outlinewidth": 0,
              "ticks": ""
             }
            },
            "type": "scattermap"
           }
          ],
          "scattermapbox": [
           {
            "marker": {
             "colorbar": {
              "outlinewidth": 0,
              "ticks": ""
             }
            },
            "type": "scattermapbox"
           }
          ],
          "scatterpolar": [
           {
            "marker": {
             "colorbar": {
              "outlinewidth": 0,
              "ticks": ""
             }
            },
            "type": "scatterpolar"
           }
          ],
          "scatterpolargl": [
           {
            "marker": {
             "colorbar": {
              "outlinewidth": 0,
              "ticks": ""
             }
            },
            "type": "scatterpolargl"
           }
          ],
          "scatterternary": [
           {
            "marker": {
             "colorbar": {
              "outlinewidth": 0,
              "ticks": ""
             }
            },
            "type": "scatterternary"
           }
          ],
          "surface": [
           {
            "colorbar": {
             "outlinewidth": 0,
             "ticks": ""
            },
            "colorscale": [
             [
              0,
              "#0d0887"
             ],
             [
              0.1111111111111111,
              "#46039f"
             ],
             [
              0.2222222222222222,
              "#7201a8"
             ],
             [
              0.3333333333333333,
              "#9c179e"
             ],
             [
              0.4444444444444444,
              "#bd3786"
             ],
             [
              0.5555555555555556,
              "#d8576b"
             ],
             [
              0.6666666666666666,
              "#ed7953"
             ],
             [
              0.7777777777777778,
              "#fb9f3a"
             ],
             [
              0.8888888888888888,
              "#fdca26"
             ],
             [
              1,
              "#f0f921"
             ]
            ],
            "type": "surface"
           }
          ],
          "table": [
           {
            "cells": {
             "fill": {
              "color": "#EBF0F8"
             },
             "line": {
              "color": "white"
             }
            },
            "header": {
             "fill": {
              "color": "#C8D4E3"
             },
             "line": {
              "color": "white"
             }
            },
            "type": "table"
           }
          ]
         },
         "layout": {
          "annotationdefaults": {
           "arrowcolor": "#2a3f5f",
           "arrowhead": 0,
           "arrowwidth": 1
          },
          "autotypenumbers": "strict",
          "coloraxis": {
           "colorbar": {
            "outlinewidth": 0,
            "ticks": ""
           }
          },
          "colorscale": {
           "diverging": [
            [
             0,
             "#8e0152"
            ],
            [
             0.1,
             "#c51b7d"
            ],
            [
             0.2,
             "#de77ae"
            ],
            [
             0.3,
             "#f1b6da"
            ],
            [
             0.4,
             "#fde0ef"
            ],
            [
             0.5,
             "#f7f7f7"
            ],
            [
             0.6,
             "#e6f5d0"
            ],
            [
             0.7,
             "#b8e186"
            ],
            [
             0.8,
             "#7fbc41"
            ],
            [
             0.9,
             "#4d9221"
            ],
            [
             1,
             "#276419"
            ]
           ],
           "sequential": [
            [
             0,
             "#0d0887"
            ],
            [
             0.1111111111111111,
             "#46039f"
            ],
            [
             0.2222222222222222,
             "#7201a8"
            ],
            [
             0.3333333333333333,
             "#9c179e"
            ],
            [
             0.4444444444444444,
             "#bd3786"
            ],
            [
             0.5555555555555556,
             "#d8576b"
            ],
            [
             0.6666666666666666,
             "#ed7953"
            ],
            [
             0.7777777777777778,
             "#fb9f3a"
            ],
            [
             0.8888888888888888,
             "#fdca26"
            ],
            [
             1,
             "#f0f921"
            ]
           ],
           "sequentialminus": [
            [
             0,
             "#0d0887"
            ],
            [
             0.1111111111111111,
             "#46039f"
            ],
            [
             0.2222222222222222,
             "#7201a8"
            ],
            [
             0.3333333333333333,
             "#9c179e"
            ],
            [
             0.4444444444444444,
             "#bd3786"
            ],
            [
             0.5555555555555556,
             "#d8576b"
            ],
            [
             0.6666666666666666,
             "#ed7953"
            ],
            [
             0.7777777777777778,
             "#fb9f3a"
            ],
            [
             0.8888888888888888,
             "#fdca26"
            ],
            [
             1,
             "#f0f921"
            ]
           ]
          },
          "colorway": [
           "#636efa",
           "#EF553B",
           "#00cc96",
           "#ab63fa",
           "#FFA15A",
           "#19d3f3",
           "#FF6692",
           "#B6E880",
           "#FF97FF",
           "#FECB52"
          ],
          "font": {
           "color": "#2a3f5f"
          },
          "geo": {
           "bgcolor": "white",
           "lakecolor": "white",
           "landcolor": "#E5ECF6",
           "showlakes": true,
           "showland": true,
           "subunitcolor": "white"
          },
          "hoverlabel": {
           "align": "left"
          },
          "hovermode": "closest",
          "mapbox": {
           "style": "light"
          },
          "paper_bgcolor": "white",
          "plot_bgcolor": "#E5ECF6",
          "polar": {
           "angularaxis": {
            "gridcolor": "white",
            "linecolor": "white",
            "ticks": ""
           },
           "bgcolor": "#E5ECF6",
           "radialaxis": {
            "gridcolor": "white",
            "linecolor": "white",
            "ticks": ""
           }
          },
          "scene": {
           "xaxis": {
            "backgroundcolor": "#E5ECF6",
            "gridcolor": "white",
            "gridwidth": 2,
            "linecolor": "white",
            "showbackground": true,
            "ticks": "",
            "zerolinecolor": "white"
           },
           "yaxis": {
            "backgroundcolor": "#E5ECF6",
            "gridcolor": "white",
            "gridwidth": 2,
            "linecolor": "white",
            "showbackground": true,
            "ticks": "",
            "zerolinecolor": "white"
           },
           "zaxis": {
            "backgroundcolor": "#E5ECF6",
            "gridcolor": "white",
            "gridwidth": 2,
            "linecolor": "white",
            "showbackground": true,
            "ticks": "",
            "zerolinecolor": "white"
           }
          },
          "shapedefaults": {
           "line": {
            "color": "#2a3f5f"
           }
          },
          "ternary": {
           "aaxis": {
            "gridcolor": "white",
            "linecolor": "white",
            "ticks": ""
           },
           "baxis": {
            "gridcolor": "white",
            "linecolor": "white",
            "ticks": ""
           },
           "bgcolor": "#E5ECF6",
           "caxis": {
            "gridcolor": "white",
            "linecolor": "white",
            "ticks": ""
           }
          },
          "title": {
           "x": 0.05
          },
          "xaxis": {
           "automargin": true,
           "gridcolor": "white",
           "linecolor": "white",
           "ticks": "",
           "title": {
            "standoff": 15
           },
           "zerolinecolor": "white",
           "zerolinewidth": 2
          },
          "yaxis": {
           "automargin": true,
           "gridcolor": "white",
           "linecolor": "white",
           "ticks": "",
           "title": {
            "standoff": 15
           },
           "zerolinecolor": "white",
           "zerolinewidth": 2
          }
         }
        },
        "title": {
         "text": "Favorites Distribution (Log Scale)"
        },
        "width": 800,
        "xaxis": {
         "title": {
          "text": "Favorites"
         },
         "type": "log"
        },
        "yaxis": {
         "title": {
          "text": "Frequency"
         }
        }
       }
      }
     },
     "metadata": {},
     "output_type": "display_data"
    },
    {
     "name": "stdout",
     "output_type": "stream",
     "text": [
      "\n",
      "Favorites Statistics:\n",
      "Count: 108\n",
      "Mean:  525.52\n",
      "Std:   740.38\n",
      "Min:   1.00\n",
      "25%:   47.00\n",
      "50%:   227.50\n",
      "75%:   711.00\n",
      "Max:   4,711.00\n",
      "Note: favorites shows significant right skew - median (227.50) is much closer to min than max\n",
      "90th percentile: 1,265.50\n",
      "95th percentile: 1,767.95\n",
      "99th percentile: 3,112.66\n",
      "Percent of data between median and 90th percentile: 39.8%\n",
      "Percent of data between 90th and max: 10.2%\n",
      "Skewness for chapters: 7.77\n",
      "Applied log scaling to chapters due to right-skewed distribution (skewness: 7.77)\n"
     ]
    },
    {
     "data": {
      "application/vnd.plotly.v1+json": {
       "config": {
        "plotlyServerURL": "https://plot.ly"
       },
       "data": [
        {
         "name": "Distribution",
         "opacity": 0.75,
         "type": "bar",
         "x": [
          7.4738116932394245,
          8.485577228475535,
          9.63431028982922,
          10.938552824577219,
          12.419356891834886,
          14.100624468367743,
          16.009493255536476,
          18.176774714768165,
          20.637451401978414,
          23.43124162852634,
          26.603240563016097,
          30.204648122107074,
          34.29359539937467,
          38.93608297178765,
          44.20704622920864,
          50.19156492263002,
          56.9862364547237,
          64.70073507928225,
          73.45958217692512,
          83.40415618147073,
          94.69497459962733,
          107.51428495857414,
          122.06900650247357,
          138.59407012047114,
          157.35621041667798,
          178.65827113075375,
          202.84409340380827,
          230.30406579217242,
          261.4814256130048,
          296.87941333310664,
          337.06939548147403,
          382.70008719926454,
          434.50802329033854,
          493.329446787856,
          560.113806932834,
          635.9390844384412,
          722.0291914084148,
          819.7737267654188,
          930.7504060659667,
          1056.750527746366,
          1199.807886855841,
          1362.2316029796075,
          1546.6433922344709,
          1756.0198849522376,
          1993.7406721097575,
          2263.642856033367,
          2570.0829858923667,
          2918.0073776956524,
          3313.0319538416843,
          3761.5328909291256
         ],
         "y": {
          "bdata": "Kt3ZVbYyhD8AAAAAAAAAAAAAAAAAAAAAAAAAAAAAAAAAAAAAAAAAAAAAAAAAAAAALI6lc8Dbcj8AAAAAAAAAACt7RplAQm0/U3yntSnFeT8apEVLj7KGP5HovHue/H0/iBa/+4mbYT8AAAAAAAAAAJdCRvcUfXQ/HbW+6pYPaD8qt7BZvcl/P5FDKpTfVHc/DG2TL/3EfD9c2BcmdBlyPz5gG0wwIXM/q7YIikfZcD/f9HLO+61dP1vZsvljf24/eAVPzdeybj/c0OOYWkdkPx7H2GZ+0Fc/UuW5hGNaYj+zjz88B7ZLPzxoTpsuaEg/AAAAAAAAAADwXFT2sj45PzdfqOQgPDY/7RsLj2+VIz/2NEm/f985PwAAAAAAAAAAtUMd1ObCKj9Nl0ZYC5IXPwAAAAAAAAAAnsN5NOhIEj8AAAAAAAAAAAAAAAAAAAAAAAAAAAAAAAAAAAAAAAAAAAAAAAAAAAAAAAAAAAAAAAAAAAAAAAAAAAAAAAAAAAAAAAAAAAAAAABwykvRJIz0Pg==",
          "dtype": "f8"
         }
        }
       ],
       "layout": {
        "height": 500,
        "showlegend": false,
        "template": {
         "data": {
          "bar": [
           {
            "error_x": {
             "color": "#2a3f5f"
            },
            "error_y": {
             "color": "#2a3f5f"
            },
            "marker": {
             "line": {
              "color": "#E5ECF6",
              "width": 0.5
             },
             "pattern": {
              "fillmode": "overlay",
              "size": 10,
              "solidity": 0.2
             }
            },
            "type": "bar"
           }
          ],
          "barpolar": [
           {
            "marker": {
             "line": {
              "color": "#E5ECF6",
              "width": 0.5
             },
             "pattern": {
              "fillmode": "overlay",
              "size": 10,
              "solidity": 0.2
             }
            },
            "type": "barpolar"
           }
          ],
          "carpet": [
           {
            "aaxis": {
             "endlinecolor": "#2a3f5f",
             "gridcolor": "white",
             "linecolor": "white",
             "minorgridcolor": "white",
             "startlinecolor": "#2a3f5f"
            },
            "baxis": {
             "endlinecolor": "#2a3f5f",
             "gridcolor": "white",
             "linecolor": "white",
             "minorgridcolor": "white",
             "startlinecolor": "#2a3f5f"
            },
            "type": "carpet"
           }
          ],
          "choropleth": [
           {
            "colorbar": {
             "outlinewidth": 0,
             "ticks": ""
            },
            "type": "choropleth"
           }
          ],
          "contour": [
           {
            "colorbar": {
             "outlinewidth": 0,
             "ticks": ""
            },
            "colorscale": [
             [
              0,
              "#0d0887"
             ],
             [
              0.1111111111111111,
              "#46039f"
             ],
             [
              0.2222222222222222,
              "#7201a8"
             ],
             [
              0.3333333333333333,
              "#9c179e"
             ],
             [
              0.4444444444444444,
              "#bd3786"
             ],
             [
              0.5555555555555556,
              "#d8576b"
             ],
             [
              0.6666666666666666,
              "#ed7953"
             ],
             [
              0.7777777777777778,
              "#fb9f3a"
             ],
             [
              0.8888888888888888,
              "#fdca26"
             ],
             [
              1,
              "#f0f921"
             ]
            ],
            "type": "contour"
           }
          ],
          "contourcarpet": [
           {
            "colorbar": {
             "outlinewidth": 0,
             "ticks": ""
            },
            "type": "contourcarpet"
           }
          ],
          "heatmap": [
           {
            "colorbar": {
             "outlinewidth": 0,
             "ticks": ""
            },
            "colorscale": [
             [
              0,
              "#0d0887"
             ],
             [
              0.1111111111111111,
              "#46039f"
             ],
             [
              0.2222222222222222,
              "#7201a8"
             ],
             [
              0.3333333333333333,
              "#9c179e"
             ],
             [
              0.4444444444444444,
              "#bd3786"
             ],
             [
              0.5555555555555556,
              "#d8576b"
             ],
             [
              0.6666666666666666,
              "#ed7953"
             ],
             [
              0.7777777777777778,
              "#fb9f3a"
             ],
             [
              0.8888888888888888,
              "#fdca26"
             ],
             [
              1,
              "#f0f921"
             ]
            ],
            "type": "heatmap"
           }
          ],
          "histogram": [
           {
            "marker": {
             "pattern": {
              "fillmode": "overlay",
              "size": 10,
              "solidity": 0.2
             }
            },
            "type": "histogram"
           }
          ],
          "histogram2d": [
           {
            "colorbar": {
             "outlinewidth": 0,
             "ticks": ""
            },
            "colorscale": [
             [
              0,
              "#0d0887"
             ],
             [
              0.1111111111111111,
              "#46039f"
             ],
             [
              0.2222222222222222,
              "#7201a8"
             ],
             [
              0.3333333333333333,
              "#9c179e"
             ],
             [
              0.4444444444444444,
              "#bd3786"
             ],
             [
              0.5555555555555556,
              "#d8576b"
             ],
             [
              0.6666666666666666,
              "#ed7953"
             ],
             [
              0.7777777777777778,
              "#fb9f3a"
             ],
             [
              0.8888888888888888,
              "#fdca26"
             ],
             [
              1,
              "#f0f921"
             ]
            ],
            "type": "histogram2d"
           }
          ],
          "histogram2dcontour": [
           {
            "colorbar": {
             "outlinewidth": 0,
             "ticks": ""
            },
            "colorscale": [
             [
              0,
              "#0d0887"
             ],
             [
              0.1111111111111111,
              "#46039f"
             ],
             [
              0.2222222222222222,
              "#7201a8"
             ],
             [
              0.3333333333333333,
              "#9c179e"
             ],
             [
              0.4444444444444444,
              "#bd3786"
             ],
             [
              0.5555555555555556,
              "#d8576b"
             ],
             [
              0.6666666666666666,
              "#ed7953"
             ],
             [
              0.7777777777777778,
              "#fb9f3a"
             ],
             [
              0.8888888888888888,
              "#fdca26"
             ],
             [
              1,
              "#f0f921"
             ]
            ],
            "type": "histogram2dcontour"
           }
          ],
          "mesh3d": [
           {
            "colorbar": {
             "outlinewidth": 0,
             "ticks": ""
            },
            "type": "mesh3d"
           }
          ],
          "parcoords": [
           {
            "line": {
             "colorbar": {
              "outlinewidth": 0,
              "ticks": ""
             }
            },
            "type": "parcoords"
           }
          ],
          "pie": [
           {
            "automargin": true,
            "type": "pie"
           }
          ],
          "scatter": [
           {
            "fillpattern": {
             "fillmode": "overlay",
             "size": 10,
             "solidity": 0.2
            },
            "type": "scatter"
           }
          ],
          "scatter3d": [
           {
            "line": {
             "colorbar": {
              "outlinewidth": 0,
              "ticks": ""
             }
            },
            "marker": {
             "colorbar": {
              "outlinewidth": 0,
              "ticks": ""
             }
            },
            "type": "scatter3d"
           }
          ],
          "scattercarpet": [
           {
            "marker": {
             "colorbar": {
              "outlinewidth": 0,
              "ticks": ""
             }
            },
            "type": "scattercarpet"
           }
          ],
          "scattergeo": [
           {
            "marker": {
             "colorbar": {
              "outlinewidth": 0,
              "ticks": ""
             }
            },
            "type": "scattergeo"
           }
          ],
          "scattergl": [
           {
            "marker": {
             "colorbar": {
              "outlinewidth": 0,
              "ticks": ""
             }
            },
            "type": "scattergl"
           }
          ],
          "scattermap": [
           {
            "marker": {
             "colorbar": {
              "outlinewidth": 0,
              "ticks": ""
             }
            },
            "type": "scattermap"
           }
          ],
          "scattermapbox": [
           {
            "marker": {
             "colorbar": {
              "outlinewidth": 0,
              "ticks": ""
             }
            },
            "type": "scattermapbox"
           }
          ],
          "scatterpolar": [
           {
            "marker": {
             "colorbar": {
              "outlinewidth": 0,
              "ticks": ""
             }
            },
            "type": "scatterpolar"
           }
          ],
          "scatterpolargl": [
           {
            "marker": {
             "colorbar": {
              "outlinewidth": 0,
              "ticks": ""
             }
            },
            "type": "scatterpolargl"
           }
          ],
          "scatterternary": [
           {
            "marker": {
             "colorbar": {
              "outlinewidth": 0,
              "ticks": ""
             }
            },
            "type": "scatterternary"
           }
          ],
          "surface": [
           {
            "colorbar": {
             "outlinewidth": 0,
             "ticks": ""
            },
            "colorscale": [
             [
              0,
              "#0d0887"
             ],
             [
              0.1111111111111111,
              "#46039f"
             ],
             [
              0.2222222222222222,
              "#7201a8"
             ],
             [
              0.3333333333333333,
              "#9c179e"
             ],
             [
              0.4444444444444444,
              "#bd3786"
             ],
             [
              0.5555555555555556,
              "#d8576b"
             ],
             [
              0.6666666666666666,
              "#ed7953"
             ],
             [
              0.7777777777777778,
              "#fb9f3a"
             ],
             [
              0.8888888888888888,
              "#fdca26"
             ],
             [
              1,
              "#f0f921"
             ]
            ],
            "type": "surface"
           }
          ],
          "table": [
           {
            "cells": {
             "fill": {
              "color": "#EBF0F8"
             },
             "line": {
              "color": "white"
             }
            },
            "header": {
             "fill": {
              "color": "#C8D4E3"
             },
             "line": {
              "color": "white"
             }
            },
            "type": "table"
           }
          ]
         },
         "layout": {
          "annotationdefaults": {
           "arrowcolor": "#2a3f5f",
           "arrowhead": 0,
           "arrowwidth": 1
          },
          "autotypenumbers": "strict",
          "coloraxis": {
           "colorbar": {
            "outlinewidth": 0,
            "ticks": ""
           }
          },
          "colorscale": {
           "diverging": [
            [
             0,
             "#8e0152"
            ],
            [
             0.1,
             "#c51b7d"
            ],
            [
             0.2,
             "#de77ae"
            ],
            [
             0.3,
             "#f1b6da"
            ],
            [
             0.4,
             "#fde0ef"
            ],
            [
             0.5,
             "#f7f7f7"
            ],
            [
             0.6,
             "#e6f5d0"
            ],
            [
             0.7,
             "#b8e186"
            ],
            [
             0.8,
             "#7fbc41"
            ],
            [
             0.9,
             "#4d9221"
            ],
            [
             1,
             "#276419"
            ]
           ],
           "sequential": [
            [
             0,
             "#0d0887"
            ],
            [
             0.1111111111111111,
             "#46039f"
            ],
            [
             0.2222222222222222,
             "#7201a8"
            ],
            [
             0.3333333333333333,
             "#9c179e"
            ],
            [
             0.4444444444444444,
             "#bd3786"
            ],
            [
             0.5555555555555556,
             "#d8576b"
            ],
            [
             0.6666666666666666,
             "#ed7953"
            ],
            [
             0.7777777777777778,
             "#fb9f3a"
            ],
            [
             0.8888888888888888,
             "#fdca26"
            ],
            [
             1,
             "#f0f921"
            ]
           ],
           "sequentialminus": [
            [
             0,
             "#0d0887"
            ],
            [
             0.1111111111111111,
             "#46039f"
            ],
            [
             0.2222222222222222,
             "#7201a8"
            ],
            [
             0.3333333333333333,
             "#9c179e"
            ],
            [
             0.4444444444444444,
             "#bd3786"
            ],
            [
             0.5555555555555556,
             "#d8576b"
            ],
            [
             0.6666666666666666,
             "#ed7953"
            ],
            [
             0.7777777777777778,
             "#fb9f3a"
            ],
            [
             0.8888888888888888,
             "#fdca26"
            ],
            [
             1,
             "#f0f921"
            ]
           ]
          },
          "colorway": [
           "#636efa",
           "#EF553B",
           "#00cc96",
           "#ab63fa",
           "#FFA15A",
           "#19d3f3",
           "#FF6692",
           "#B6E880",
           "#FF97FF",
           "#FECB52"
          ],
          "font": {
           "color": "#2a3f5f"
          },
          "geo": {
           "bgcolor": "white",
           "lakecolor": "white",
           "landcolor": "#E5ECF6",
           "showlakes": true,
           "showland": true,
           "subunitcolor": "white"
          },
          "hoverlabel": {
           "align": "left"
          },
          "hovermode": "closest",
          "mapbox": {
           "style": "light"
          },
          "paper_bgcolor": "white",
          "plot_bgcolor": "#E5ECF6",
          "polar": {
           "angularaxis": {
            "gridcolor": "white",
            "linecolor": "white",
            "ticks": ""
           },
           "bgcolor": "#E5ECF6",
           "radialaxis": {
            "gridcolor": "white",
            "linecolor": "white",
            "ticks": ""
           }
          },
          "scene": {
           "xaxis": {
            "backgroundcolor": "#E5ECF6",
            "gridcolor": "white",
            "gridwidth": 2,
            "linecolor": "white",
            "showbackground": true,
            "ticks": "",
            "zerolinecolor": "white"
           },
           "yaxis": {
            "backgroundcolor": "#E5ECF6",
            "gridcolor": "white",
            "gridwidth": 2,
            "linecolor": "white",
            "showbackground": true,
            "ticks": "",
            "zerolinecolor": "white"
           },
           "zaxis": {
            "backgroundcolor": "#E5ECF6",
            "gridcolor": "white",
            "gridwidth": 2,
            "linecolor": "white",
            "showbackground": true,
            "ticks": "",
            "zerolinecolor": "white"
           }
          },
          "shapedefaults": {
           "line": {
            "color": "#2a3f5f"
           }
          },
          "ternary": {
           "aaxis": {
            "gridcolor": "white",
            "linecolor": "white",
            "ticks": ""
           },
           "baxis": {
            "gridcolor": "white",
            "linecolor": "white",
            "ticks": ""
           },
           "bgcolor": "#E5ECF6",
           "caxis": {
            "gridcolor": "white",
            "linecolor": "white",
            "ticks": ""
           }
          },
          "title": {
           "x": 0.05
          },
          "xaxis": {
           "automargin": true,
           "gridcolor": "white",
           "linecolor": "white",
           "ticks": "",
           "title": {
            "standoff": 15
           },
           "zerolinecolor": "white",
           "zerolinewidth": 2
          },
          "yaxis": {
           "automargin": true,
           "gridcolor": "white",
           "linecolor": "white",
           "ticks": "",
           "title": {
            "standoff": 15
           },
           "zerolinecolor": "white",
           "zerolinewidth": 2
          }
         }
        },
        "title": {
         "text": "Chapters Distribution (Log Scale)"
        },
        "width": 800,
        "xaxis": {
         "title": {
          "text": "Chapters"
         },
         "type": "log"
        },
        "yaxis": {
         "title": {
          "text": "Frequency"
         }
        }
       }
      }
     },
     "metadata": {},
     "output_type": "display_data"
    },
    {
     "name": "stdout",
     "output_type": "stream",
     "text": [
      "\n",
      "Chapters Statistics:\n",
      "Count: 107\n",
      "Mean:  207.07\n",
      "Std:   409.74\n",
      "Min:   7.00\n",
      "25%:   66.50\n",
      "50%:   124.00\n",
      "75%:   210.00\n",
      "Max:   4,000.00\n",
      "Note: chapters shows significant right skew - median (124.00) is much closer to min than max\n",
      "90th percentile: 403.80\n",
      "95th percentile: 567.10\n",
      "99th percentile: 988.20\n",
      "Percent of data between median and 90th percentile: 39.3%\n",
      "Percent of data between 90th and max: 10.3%\n",
      "Skewness for pages: 2.42\n",
      "Applied log scaling to pages due to right-skewed distribution (skewness: 2.42)\n"
     ]
    },
    {
     "data": {
      "application/vnd.plotly.v1+json": {
       "config": {
        "plotlyServerURL": "https://plot.ly"
       },
       "data": [
        {
         "name": "Distribution",
         "opacity": 0.75,
         "type": "bar",
         "x": [
          43.290078122043404,
          48.126061576133225,
          53.502278196407204,
          59.4790780391912,
          66.12355293367237,
          73.51028961294956,
          81.72220697820275,
          90.85148689458738,
          101.00060896738775,
          112.28350091418167,
          124.82681744637722,
          138.77136201604822,
          154.2736673877124,
          171.50775277756605,
          190.66707728472383,
          211.9667115424656,
          235.6457519670941,
          261.9700047052554,
          291.2349694080415,
          323.7691563258628,
          359.93777395973166,
          400.1468286642287,
          444.84768222174097,
          494.54211854845914,
          549.7879764078161,
          611.2054113606968,
          679.4838572451683,
          755.3897653309648,
          839.7752080236451,
          933.5874436982501,
          1037.8795500313136,
          1153.8222451943852,
          1282.7170296064178,
          1426.0107957661323,
          1585.3120701652406,
          1762.4090696041062,
          1959.2897745987998,
          2178.1642452110964,
          2421.489429805005,
          2691.9967452174837,
          2992.7227379411243,
          3327.04317050214,
          3698.710915666086,
          4111.8980838480375,
          4571.242856623285,
          5081.901552062318,
          5649.606506343113,
          6280.730421383621,
          6982.357900820846,
          7762.364977354835
         ],
         "y": {
          "bdata": "VDBXCpyPYD8AAAAAAAAAAAAAAAAAAAAAAAAAAAAAAAAAAAAAAAAAAAAAAAAAAAAAAAAAAAAAAAAAAAAAAAAAAAAAAAAAAAAAAAAAAAAAAADph2h/NPlGPwAAAAAAAAAAzPCin6KWQj+K2lfQdbhAPzQt8p6Aj1Y/8q7FjyVLVD+bt9Szz1Y4P8J1xh205FU/DJwpv4KxQz/IwgAm6bZBP+y1hgNv3i8/L/excfh/RT8AAAAAAAAAALU856xnZVE/5Rrjbs1LTz/l80SrfMRSP5MIIZ77ik0/i1B3m95ePj/8C7JXNH00P0zQSEg0pUs/FHgpbmKhOz8kUW2OFuIjP2x9Hlab4jE/G5yodsghKD8ZQBypVvEcP3NJZauahiM/mCrtnbN9ND9mMJ2sqhAFP3T18NDH8gI/H0fyoFgLAT+zJ0O/yKkOPwAAAAAAAAAA23xRq3bPGD+vI4mJ7LwQPwAAAAAAAAAAAAAAAAAAAADXFDe7ND4AP77LsSa7OO0+AAAAAAAAAABUy6Bm2qTnPg==",
          "dtype": "f8"
         }
        }
       ],
       "layout": {
        "height": 500,
        "showlegend": false,
        "template": {
         "data": {
          "bar": [
           {
            "error_x": {
             "color": "#2a3f5f"
            },
            "error_y": {
             "color": "#2a3f5f"
            },
            "marker": {
             "line": {
              "color": "#E5ECF6",
              "width": 0.5
             },
             "pattern": {
              "fillmode": "overlay",
              "size": 10,
              "solidity": 0.2
             }
            },
            "type": "bar"
           }
          ],
          "barpolar": [
           {
            "marker": {
             "line": {
              "color": "#E5ECF6",
              "width": 0.5
             },
             "pattern": {
              "fillmode": "overlay",
              "size": 10,
              "solidity": 0.2
             }
            },
            "type": "barpolar"
           }
          ],
          "carpet": [
           {
            "aaxis": {
             "endlinecolor": "#2a3f5f",
             "gridcolor": "white",
             "linecolor": "white",
             "minorgridcolor": "white",
             "startlinecolor": "#2a3f5f"
            },
            "baxis": {
             "endlinecolor": "#2a3f5f",
             "gridcolor": "white",
             "linecolor": "white",
             "minorgridcolor": "white",
             "startlinecolor": "#2a3f5f"
            },
            "type": "carpet"
           }
          ],
          "choropleth": [
           {
            "colorbar": {
             "outlinewidth": 0,
             "ticks": ""
            },
            "type": "choropleth"
           }
          ],
          "contour": [
           {
            "colorbar": {
             "outlinewidth": 0,
             "ticks": ""
            },
            "colorscale": [
             [
              0,
              "#0d0887"
             ],
             [
              0.1111111111111111,
              "#46039f"
             ],
             [
              0.2222222222222222,
              "#7201a8"
             ],
             [
              0.3333333333333333,
              "#9c179e"
             ],
             [
              0.4444444444444444,
              "#bd3786"
             ],
             [
              0.5555555555555556,
              "#d8576b"
             ],
             [
              0.6666666666666666,
              "#ed7953"
             ],
             [
              0.7777777777777778,
              "#fb9f3a"
             ],
             [
              0.8888888888888888,
              "#fdca26"
             ],
             [
              1,
              "#f0f921"
             ]
            ],
            "type": "contour"
           }
          ],
          "contourcarpet": [
           {
            "colorbar": {
             "outlinewidth": 0,
             "ticks": ""
            },
            "type": "contourcarpet"
           }
          ],
          "heatmap": [
           {
            "colorbar": {
             "outlinewidth": 0,
             "ticks": ""
            },
            "colorscale": [
             [
              0,
              "#0d0887"
             ],
             [
              0.1111111111111111,
              "#46039f"
             ],
             [
              0.2222222222222222,
              "#7201a8"
             ],
             [
              0.3333333333333333,
              "#9c179e"
             ],
             [
              0.4444444444444444,
              "#bd3786"
             ],
             [
              0.5555555555555556,
              "#d8576b"
             ],
             [
              0.6666666666666666,
              "#ed7953"
             ],
             [
              0.7777777777777778,
              "#fb9f3a"
             ],
             [
              0.8888888888888888,
              "#fdca26"
             ],
             [
              1,
              "#f0f921"
             ]
            ],
            "type": "heatmap"
           }
          ],
          "histogram": [
           {
            "marker": {
             "pattern": {
              "fillmode": "overlay",
              "size": 10,
              "solidity": 0.2
             }
            },
            "type": "histogram"
           }
          ],
          "histogram2d": [
           {
            "colorbar": {
             "outlinewidth": 0,
             "ticks": ""
            },
            "colorscale": [
             [
              0,
              "#0d0887"
             ],
             [
              0.1111111111111111,
              "#46039f"
             ],
             [
              0.2222222222222222,
              "#7201a8"
             ],
             [
              0.3333333333333333,
              "#9c179e"
             ],
             [
              0.4444444444444444,
              "#bd3786"
             ],
             [
              0.5555555555555556,
              "#d8576b"
             ],
             [
              0.6666666666666666,
              "#ed7953"
             ],
             [
              0.7777777777777778,
              "#fb9f3a"
             ],
             [
              0.8888888888888888,
              "#fdca26"
             ],
             [
              1,
              "#f0f921"
             ]
            ],
            "type": "histogram2d"
           }
          ],
          "histogram2dcontour": [
           {
            "colorbar": {
             "outlinewidth": 0,
             "ticks": ""
            },
            "colorscale": [
             [
              0,
              "#0d0887"
             ],
             [
              0.1111111111111111,
              "#46039f"
             ],
             [
              0.2222222222222222,
              "#7201a8"
             ],
             [
              0.3333333333333333,
              "#9c179e"
             ],
             [
              0.4444444444444444,
              "#bd3786"
             ],
             [
              0.5555555555555556,
              "#d8576b"
             ],
             [
              0.6666666666666666,
              "#ed7953"
             ],
             [
              0.7777777777777778,
              "#fb9f3a"
             ],
             [
              0.8888888888888888,
              "#fdca26"
             ],
             [
              1,
              "#f0f921"
             ]
            ],
            "type": "histogram2dcontour"
           }
          ],
          "mesh3d": [
           {
            "colorbar": {
             "outlinewidth": 0,
             "ticks": ""
            },
            "type": "mesh3d"
           }
          ],
          "parcoords": [
           {
            "line": {
             "colorbar": {
              "outlinewidth": 0,
              "ticks": ""
             }
            },
            "type": "parcoords"
           }
          ],
          "pie": [
           {
            "automargin": true,
            "type": "pie"
           }
          ],
          "scatter": [
           {
            "fillpattern": {
             "fillmode": "overlay",
             "size": 10,
             "solidity": 0.2
            },
            "type": "scatter"
           }
          ],
          "scatter3d": [
           {
            "line": {
             "colorbar": {
              "outlinewidth": 0,
              "ticks": ""
             }
            },
            "marker": {
             "colorbar": {
              "outlinewidth": 0,
              "ticks": ""
             }
            },
            "type": "scatter3d"
           }
          ],
          "scattercarpet": [
           {
            "marker": {
             "colorbar": {
              "outlinewidth": 0,
              "ticks": ""
             }
            },
            "type": "scattercarpet"
           }
          ],
          "scattergeo": [
           {
            "marker": {
             "colorbar": {
              "outlinewidth": 0,
              "ticks": ""
             }
            },
            "type": "scattergeo"
           }
          ],
          "scattergl": [
           {
            "marker": {
             "colorbar": {
              "outlinewidth": 0,
              "ticks": ""
             }
            },
            "type": "scattergl"
           }
          ],
          "scattermap": [
           {
            "marker": {
             "colorbar": {
              "outlinewidth": 0,
              "ticks": ""
             }
            },
            "type": "scattermap"
           }
          ],
          "scattermapbox": [
           {
            "marker": {
             "colorbar": {
              "outlinewidth": 0,
              "ticks": ""
             }
            },
            "type": "scattermapbox"
           }
          ],
          "scatterpolar": [
           {
            "marker": {
             "colorbar": {
              "outlinewidth": 0,
              "ticks": ""
             }
            },
            "type": "scatterpolar"
           }
          ],
          "scatterpolargl": [
           {
            "marker": {
             "colorbar": {
              "outlinewidth": 0,
              "ticks": ""
             }
            },
            "type": "scatterpolargl"
           }
          ],
          "scatterternary": [
           {
            "marker": {
             "colorbar": {
              "outlinewidth": 0,
              "ticks": ""
             }
            },
            "type": "scatterternary"
           }
          ],
          "surface": [
           {
            "colorbar": {
             "outlinewidth": 0,
             "ticks": ""
            },
            "colorscale": [
             [
              0,
              "#0d0887"
             ],
             [
              0.1111111111111111,
              "#46039f"
             ],
             [
              0.2222222222222222,
              "#7201a8"
             ],
             [
              0.3333333333333333,
              "#9c179e"
             ],
             [
              0.4444444444444444,
              "#bd3786"
             ],
             [
              0.5555555555555556,
              "#d8576b"
             ],
             [
              0.6666666666666666,
              "#ed7953"
             ],
             [
              0.7777777777777778,
              "#fb9f3a"
             ],
             [
              0.8888888888888888,
              "#fdca26"
             ],
             [
              1,
              "#f0f921"
             ]
            ],
            "type": "surface"
           }
          ],
          "table": [
           {
            "cells": {
             "fill": {
              "color": "#EBF0F8"
             },
             "line": {
              "color": "white"
             }
            },
            "header": {
             "fill": {
              "color": "#C8D4E3"
             },
             "line": {
              "color": "white"
             }
            },
            "type": "table"
           }
          ]
         },
         "layout": {
          "annotationdefaults": {
           "arrowcolor": "#2a3f5f",
           "arrowhead": 0,
           "arrowwidth": 1
          },
          "autotypenumbers": "strict",
          "coloraxis": {
           "colorbar": {
            "outlinewidth": 0,
            "ticks": ""
           }
          },
          "colorscale": {
           "diverging": [
            [
             0,
             "#8e0152"
            ],
            [
             0.1,
             "#c51b7d"
            ],
            [
             0.2,
             "#de77ae"
            ],
            [
             0.3,
             "#f1b6da"
            ],
            [
             0.4,
             "#fde0ef"
            ],
            [
             0.5,
             "#f7f7f7"
            ],
            [
             0.6,
             "#e6f5d0"
            ],
            [
             0.7,
             "#b8e186"
            ],
            [
             0.8,
             "#7fbc41"
            ],
            [
             0.9,
             "#4d9221"
            ],
            [
             1,
             "#276419"
            ]
           ],
           "sequential": [
            [
             0,
             "#0d0887"
            ],
            [
             0.1111111111111111,
             "#46039f"
            ],
            [
             0.2222222222222222,
             "#7201a8"
            ],
            [
             0.3333333333333333,
             "#9c179e"
            ],
            [
             0.4444444444444444,
             "#bd3786"
            ],
            [
             0.5555555555555556,
             "#d8576b"
            ],
            [
             0.6666666666666666,
             "#ed7953"
            ],
            [
             0.7777777777777778,
             "#fb9f3a"
            ],
            [
             0.8888888888888888,
             "#fdca26"
            ],
            [
             1,
             "#f0f921"
            ]
           ],
           "sequentialminus": [
            [
             0,
             "#0d0887"
            ],
            [
             0.1111111111111111,
             "#46039f"
            ],
            [
             0.2222222222222222,
             "#7201a8"
            ],
            [
             0.3333333333333333,
             "#9c179e"
            ],
            [
             0.4444444444444444,
             "#bd3786"
            ],
            [
             0.5555555555555556,
             "#d8576b"
            ],
            [
             0.6666666666666666,
             "#ed7953"
            ],
            [
             0.7777777777777778,
             "#fb9f3a"
            ],
            [
             0.8888888888888888,
             "#fdca26"
            ],
            [
             1,
             "#f0f921"
            ]
           ]
          },
          "colorway": [
           "#636efa",
           "#EF553B",
           "#00cc96",
           "#ab63fa",
           "#FFA15A",
           "#19d3f3",
           "#FF6692",
           "#B6E880",
           "#FF97FF",
           "#FECB52"
          ],
          "font": {
           "color": "#2a3f5f"
          },
          "geo": {
           "bgcolor": "white",
           "lakecolor": "white",
           "landcolor": "#E5ECF6",
           "showlakes": true,
           "showland": true,
           "subunitcolor": "white"
          },
          "hoverlabel": {
           "align": "left"
          },
          "hovermode": "closest",
          "mapbox": {
           "style": "light"
          },
          "paper_bgcolor": "white",
          "plot_bgcolor": "#E5ECF6",
          "polar": {
           "angularaxis": {
            "gridcolor": "white",
            "linecolor": "white",
            "ticks": ""
           },
           "bgcolor": "#E5ECF6",
           "radialaxis": {
            "gridcolor": "white",
            "linecolor": "white",
            "ticks": ""
           }
          },
          "scene": {
           "xaxis": {
            "backgroundcolor": "#E5ECF6",
            "gridcolor": "white",
            "gridwidth": 2,
            "linecolor": "white",
            "showbackground": true,
            "ticks": "",
            "zerolinecolor": "white"
           },
           "yaxis": {
            "backgroundcolor": "#E5ECF6",
            "gridcolor": "white",
            "gridwidth": 2,
            "linecolor": "white",
            "showbackground": true,
            "ticks": "",
            "zerolinecolor": "white"
           },
           "zaxis": {
            "backgroundcolor": "#E5ECF6",
            "gridcolor": "white",
            "gridwidth": 2,
            "linecolor": "white",
            "showbackground": true,
            "ticks": "",
            "zerolinecolor": "white"
           }
          },
          "shapedefaults": {
           "line": {
            "color": "#2a3f5f"
           }
          },
          "ternary": {
           "aaxis": {
            "gridcolor": "white",
            "linecolor": "white",
            "ticks": ""
           },
           "baxis": {
            "gridcolor": "white",
            "linecolor": "white",
            "ticks": ""
           },
           "bgcolor": "#E5ECF6",
           "caxis": {
            "gridcolor": "white",
            "linecolor": "white",
            "ticks": ""
           }
          },
          "title": {
           "x": 0.05
          },
          "xaxis": {
           "automargin": true,
           "gridcolor": "white",
           "linecolor": "white",
           "ticks": "",
           "title": {
            "standoff": 15
           },
           "zerolinecolor": "white",
           "zerolinewidth": 2
          },
          "yaxis": {
           "automargin": true,
           "gridcolor": "white",
           "linecolor": "white",
           "ticks": "",
           "title": {
            "standoff": 15
           },
           "zerolinecolor": "white",
           "zerolinewidth": 2
          }
         }
        },
        "title": {
         "text": "Pages Distribution (Log Scale)"
        },
        "width": 800,
        "xaxis": {
         "title": {
          "text": "Pages"
         },
         "type": "log"
        },
        "yaxis": {
         "title": {
          "text": "Frequency"
         }
        }
       }
      }
     },
     "metadata": {},
     "output_type": "display_data"
    },
    {
     "name": "stdout",
     "output_type": "stream",
     "text": [
      "\n",
      "Pages Statistics:\n",
      "Count: 108\n",
      "Mean:  1,294.86\n",
      "Std:   1,399.25\n",
      "Min:   41.00\n",
      "25%:   509.00\n",
      "50%:   785.00\n",
      "75%:   1,608.00\n",
      "Max:   8,173.00\n",
      "Note: pages shows significant right skew - median (785.00) is much closer to min than max\n",
      "90th percentile: 3,234.10\n",
      "95th percentile: 3,939.65\n",
      "99th percentile: 6,122.92\n",
      "Percent of data between median and 90th percentile: 39.8%\n",
      "Percent of data between 90th and max: 10.2%\n"
     ]
    }
   ],
   "source": [
    "# Define key metrics for analysis\n",
    "key_metrics = ['views', 'rating', 'followers', 'favorites', 'chapters', 'pages']\n",
    "\n",
    "# Create individual distribution plots for better readability\n",
    "for metric in key_metrics:\n",
    "    # Skip non-numeric columns or convert if possible\n",
    "    if not pd.api.types.is_numeric_dtype(df[metric]):\n",
    "        print(f\"Skipping {metric} as it's not numeric (type: {df[metric].dtype})\")\n",
    "        continue\n",
    "        \n",
    "    # Create figure\n",
    "    fig = go.Figure()\n",
    "    \n",
    "    # Create histogram data with proper handling of data types\n",
    "    try:\n",
    "        # Create bins manually to avoid Interval objects\n",
    "        values = df[metric].dropna()\n",
    "        min_val = values.min()\n",
    "        max_val = values.max()\n",
    "        \n",
    "        # Check for skewness to determine appropriate scaling\n",
    "        skewness = values.skew()\n",
    "        print(f\"Skewness for {metric}: {skewness:.2f}\")\n",
    "        is_right_skewed = skewness > 1.0  # Common threshold for significant right skew\n",
    "        \n",
    "        # If right-skewed and not already using log scale, use log binning\n",
    "        if is_right_skewed and min_val > 0:  # Ensure all values are positive for log scale\n",
    "            # For log scale, use logarithmically spaced bins\n",
    "            bins = np.logspace(np.log10(max(min_val, 0.1)), np.log10(max_val), 51)\n",
    "            hist_data = np.histogram(values, bins=bins, density=True)\n",
    "            bin_centers = [(bins[i] + bins[i+1])/2 for i in range(len(bins)-1)]\n",
    "        else:\n",
    "            # For normal scale, use linearly spaced bins\n",
    "            bins = np.linspace(min_val, max_val, 51)  # 51 points = 50 bins\n",
    "            hist_data = np.histogram(values, bins=bins, density=True)\n",
    "            bin_centers = [(bins[i] + bins[i+1])/2 for i in range(len(bins)-1)]\n",
    "        \n",
    "        # Create bar chart with bin centers and heights\n",
    "        fig.add_trace(\n",
    "            go.Bar(\n",
    "                x=bin_centers,\n",
    "                y=hist_data[0],\n",
    "                name='Distribution',\n",
    "                opacity=0.75\n",
    "            )\n",
    "        )\n",
    "    except Exception as e:\n",
    "        print(f\"Error creating histogram for {metric}: {e}\")\n",
    "        continue\n",
    "    \n",
    "    # Update layout\n",
    "    fig.update_layout(\n",
    "        title=f'{metric.capitalize()} Distribution{\" (Log Scale)\" if is_right_skewed and min_val > 0 else \"\"}',\n",
    "        xaxis_title=metric.capitalize(),\n",
    "        yaxis_title='Frequency',\n",
    "        height=500,\n",
    "        width=800,\n",
    "        showlegend=False  # No need for legend with single trace\n",
    "    )\n",
    "    \n",
    "    # Use log scale for highly skewed metrics\n",
    "    if is_right_skewed and min_val > 0:\n",
    "        fig.update_xaxes(type='log')\n",
    "        print(f\"Applied log scaling to {metric} due to right-skewed distribution (skewness: {skewness:.2f})\")\n",
    "    \n",
    "    try:\n",
    "        fig.show()\n",
    "    except TypeError as e:\n",
    "        print(f\"Error displaying plot for {metric}: {e}\")\n",
    "        print(f\"Data types - x: {type(bin_centers[0])}, y: {type(hist_data[0][0])}\")\n",
    "        continue\n",
    "    \n",
    "    # Print basic statistics\n",
    "    stats = df[metric].describe()\n",
    "    print(f\"\\n{metric.capitalize()} Statistics:\")\n",
    "    print(f\"Count: {stats['count']:,.0f}\")\n",
    "    print(f\"Mean:  {stats['mean']:,.2f}\")\n",
    "    print(f\"Std:   {stats['std']:,.2f}\")\n",
    "    print(f\"Min:   {stats['min']:,.2f}\")\n",
    "    print(f\"25%:   {stats['25%']:,.2f}\")\n",
    "    print(f\"50%:   {stats['50%']:,.2f}\")\n",
    "    print(f\"75%:   {stats['75%']:,.2f}\")\n",
    "    print(f\"Max:   {stats['max']:,.2f}\")\n",
    "    \n",
    "    # Calculate additional metrics to highlight skewness\n",
    "    iqr = stats['75%'] - stats['25%']\n",
    "    median = stats['50%']\n",
    "    # Check if distribution is significantly skewed\n",
    "    if (stats['max'] - median) > 3 * (median - stats['min']):\n",
    "        print(f\"Note: {metric} shows significant right skew - median ({median:.2f}) is much closer to min than max\")\n",
    "    \n",
    "    # Print the 90th, 95th and 99th percentiles for right-skewed distributions\n",
    "    if is_right_skewed:\n",
    "        p90 = values.quantile(0.90)\n",
    "        p95 = values.quantile(0.95)\n",
    "        p99 = values.quantile(0.99)\n",
    "        print(f\"90th percentile: {p90:,.2f}\")\n",
    "        print(f\"95th percentile: {p95:,.2f}\")\n",
    "        print(f\"99th percentile: {p99:,.2f}\")\n",
    "        print(f\"Percent of data between median and 90th percentile: {((values < p90) & (values > median)).mean()*100:.1f}%\")\n",
    "        print(f\"Percent of data between 90th and max: {(values >= p90).mean()*100:.1f}%\")"
   ]
  },
  {
   "cell_type": "markdown",
   "id": "e2cfdf65",
   "metadata": {},
   "source": [
    "## Correlation Analysis\n",
    "\n",
    "Let's analyze the relationships between different numerical features in our dataset. We'll use both a correlation matrix heatmap and a pairplot to visualize these relationships."
   ]
  },
  {
   "cell_type": "code",
   "execution_count": 45,
   "id": "e5c8011b",
   "metadata": {},
   "outputs": [
    {
     "data": {
      "application/vnd.plotly.v1+json": {
       "config": {
        "plotlyServerURL": "https://plot.ly"
       },
       "data": [
        {
         "colorscale": [
          [
           0,
           "rgb(103,0,31)"
          ],
          [
           0.1,
           "rgb(178,24,43)"
          ],
          [
           0.2,
           "rgb(214,96,77)"
          ],
          [
           0.3,
           "rgb(244,165,130)"
          ],
          [
           0.4,
           "rgb(253,219,199)"
          ],
          [
           0.5,
           "rgb(247,247,247)"
          ],
          [
           0.6,
           "rgb(209,229,240)"
          ],
          [
           0.7,
           "rgb(146,197,222)"
          ],
          [
           0.8,
           "rgb(67,147,195)"
          ],
          [
           0.9,
           "rgb(33,102,172)"
          ],
          [
           1,
           "rgb(5,48,97)"
          ]
         ],
         "hoverongaps": false,
         "text": {
          "bdata": "AAAAAAAA8D97FK5H4Xqkv1yPwvUoXOc/SOF6FK5H6T8zMzMzMzPDP1yPwvUoXOc/exSuR+F6pL8AAAAAAADwPylcj8L1KLw/mpmZmZmZuT/sUbgehevBvwrXo3A9Cte/XI/C9Shc5z8pXI/C9Si8PwAAAAAAAPA/XI/C9Shc7z97FK5H4XqUv0jhehSuR9E/SOF6FK5H6T+amZmZmZm5P1yPwvUoXO8/AAAAAAAA8D97FK5H4XqEP2ZmZmZmZtY/MzMzMzMzwz/sUbgehevBv3sUrkfhepS/exSuR+F6hD8AAAAAAADwP0jhehSuR9E/XI/C9Shc5z8K16NwPQrXv0jhehSuR9E/ZmZmZmZm1j9I4XoUrkfRPwAAAAAAAPA/",
          "dtype": "f8",
          "shape": "6, 6"
         },
         "textfont": {
          "size": 12
         },
         "texttemplate": "%{text}",
         "type": "heatmap",
         "x": [
          "views",
          "rating",
          "followers",
          "favorites",
          "chapters",
          "pages"
         ],
         "y": [
          "views",
          "rating",
          "followers",
          "favorites",
          "chapters",
          "pages"
         ],
         "z": {
          "bdata": "AAAAAAAA8D8bxwtwKP+hvwmMaLrecec/HL00+MU36T85W7UXb6fDP6JQVmMmgOc/G8cLcCj/ob8AAAAAAADwP2LyEvSfWLw/szzFHtd8uj9zvWWX4IfBv1AFdmI/M9e/CYxout5x5z9i8hL0n1i8PwAAAAAAAPA/+cMj0OeD7z/Me2MhgfCQv412SCTUQNE/HL00+MU36T+zPMUe13y6P/nDI9Dng+8/AAAAAAAA8D+/8p7gZwGBP6jBp320QdY/OVu1F2+nwz9zvWWX4IfBv8x7YyGB8JC/v/Ke4GcBgT8AAAAAAADwPyLHbMSqetE/olBWYyaA5z9QBXZiPzPXv412SCTUQNE/qMGnfbRB1j8ix2zEqnrRPwAAAAAAAPA/",
          "dtype": "f8",
          "shape": "6, 6"
         }
        }
       ],
       "layout": {
        "font": {
         "size": 14
        },
        "height": 800,
        "template": {
         "data": {
          "bar": [
           {
            "error_x": {
             "color": "#2a3f5f"
            },
            "error_y": {
             "color": "#2a3f5f"
            },
            "marker": {
             "line": {
              "color": "#E5ECF6",
              "width": 0.5
             },
             "pattern": {
              "fillmode": "overlay",
              "size": 10,
              "solidity": 0.2
             }
            },
            "type": "bar"
           }
          ],
          "barpolar": [
           {
            "marker": {
             "line": {
              "color": "#E5ECF6",
              "width": 0.5
             },
             "pattern": {
              "fillmode": "overlay",
              "size": 10,
              "solidity": 0.2
             }
            },
            "type": "barpolar"
           }
          ],
          "carpet": [
           {
            "aaxis": {
             "endlinecolor": "#2a3f5f",
             "gridcolor": "white",
             "linecolor": "white",
             "minorgridcolor": "white",
             "startlinecolor": "#2a3f5f"
            },
            "baxis": {
             "endlinecolor": "#2a3f5f",
             "gridcolor": "white",
             "linecolor": "white",
             "minorgridcolor": "white",
             "startlinecolor": "#2a3f5f"
            },
            "type": "carpet"
           }
          ],
          "choropleth": [
           {
            "colorbar": {
             "outlinewidth": 0,
             "ticks": ""
            },
            "type": "choropleth"
           }
          ],
          "contour": [
           {
            "colorbar": {
             "outlinewidth": 0,
             "ticks": ""
            },
            "colorscale": [
             [
              0,
              "#0d0887"
             ],
             [
              0.1111111111111111,
              "#46039f"
             ],
             [
              0.2222222222222222,
              "#7201a8"
             ],
             [
              0.3333333333333333,
              "#9c179e"
             ],
             [
              0.4444444444444444,
              "#bd3786"
             ],
             [
              0.5555555555555556,
              "#d8576b"
             ],
             [
              0.6666666666666666,
              "#ed7953"
             ],
             [
              0.7777777777777778,
              "#fb9f3a"
             ],
             [
              0.8888888888888888,
              "#fdca26"
             ],
             [
              1,
              "#f0f921"
             ]
            ],
            "type": "contour"
           }
          ],
          "contourcarpet": [
           {
            "colorbar": {
             "outlinewidth": 0,
             "ticks": ""
            },
            "type": "contourcarpet"
           }
          ],
          "heatmap": [
           {
            "colorbar": {
             "outlinewidth": 0,
             "ticks": ""
            },
            "colorscale": [
             [
              0,
              "#0d0887"
             ],
             [
              0.1111111111111111,
              "#46039f"
             ],
             [
              0.2222222222222222,
              "#7201a8"
             ],
             [
              0.3333333333333333,
              "#9c179e"
             ],
             [
              0.4444444444444444,
              "#bd3786"
             ],
             [
              0.5555555555555556,
              "#d8576b"
             ],
             [
              0.6666666666666666,
              "#ed7953"
             ],
             [
              0.7777777777777778,
              "#fb9f3a"
             ],
             [
              0.8888888888888888,
              "#fdca26"
             ],
             [
              1,
              "#f0f921"
             ]
            ],
            "type": "heatmap"
           }
          ],
          "histogram": [
           {
            "marker": {
             "pattern": {
              "fillmode": "overlay",
              "size": 10,
              "solidity": 0.2
             }
            },
            "type": "histogram"
           }
          ],
          "histogram2d": [
           {
            "colorbar": {
             "outlinewidth": 0,
             "ticks": ""
            },
            "colorscale": [
             [
              0,
              "#0d0887"
             ],
             [
              0.1111111111111111,
              "#46039f"
             ],
             [
              0.2222222222222222,
              "#7201a8"
             ],
             [
              0.3333333333333333,
              "#9c179e"
             ],
             [
              0.4444444444444444,
              "#bd3786"
             ],
             [
              0.5555555555555556,
              "#d8576b"
             ],
             [
              0.6666666666666666,
              "#ed7953"
             ],
             [
              0.7777777777777778,
              "#fb9f3a"
             ],
             [
              0.8888888888888888,
              "#fdca26"
             ],
             [
              1,
              "#f0f921"
             ]
            ],
            "type": "histogram2d"
           }
          ],
          "histogram2dcontour": [
           {
            "colorbar": {
             "outlinewidth": 0,
             "ticks": ""
            },
            "colorscale": [
             [
              0,
              "#0d0887"
             ],
             [
              0.1111111111111111,
              "#46039f"
             ],
             [
              0.2222222222222222,
              "#7201a8"
             ],
             [
              0.3333333333333333,
              "#9c179e"
             ],
             [
              0.4444444444444444,
              "#bd3786"
             ],
             [
              0.5555555555555556,
              "#d8576b"
             ],
             [
              0.6666666666666666,
              "#ed7953"
             ],
             [
              0.7777777777777778,
              "#fb9f3a"
             ],
             [
              0.8888888888888888,
              "#fdca26"
             ],
             [
              1,
              "#f0f921"
             ]
            ],
            "type": "histogram2dcontour"
           }
          ],
          "mesh3d": [
           {
            "colorbar": {
             "outlinewidth": 0,
             "ticks": ""
            },
            "type": "mesh3d"
           }
          ],
          "parcoords": [
           {
            "line": {
             "colorbar": {
              "outlinewidth": 0,
              "ticks": ""
             }
            },
            "type": "parcoords"
           }
          ],
          "pie": [
           {
            "automargin": true,
            "type": "pie"
           }
          ],
          "scatter": [
           {
            "fillpattern": {
             "fillmode": "overlay",
             "size": 10,
             "solidity": 0.2
            },
            "type": "scatter"
           }
          ],
          "scatter3d": [
           {
            "line": {
             "colorbar": {
              "outlinewidth": 0,
              "ticks": ""
             }
            },
            "marker": {
             "colorbar": {
              "outlinewidth": 0,
              "ticks": ""
             }
            },
            "type": "scatter3d"
           }
          ],
          "scattercarpet": [
           {
            "marker": {
             "colorbar": {
              "outlinewidth": 0,
              "ticks": ""
             }
            },
            "type": "scattercarpet"
           }
          ],
          "scattergeo": [
           {
            "marker": {
             "colorbar": {
              "outlinewidth": 0,
              "ticks": ""
             }
            },
            "type": "scattergeo"
           }
          ],
          "scattergl": [
           {
            "marker": {
             "colorbar": {
              "outlinewidth": 0,
              "ticks": ""
             }
            },
            "type": "scattergl"
           }
          ],
          "scattermap": [
           {
            "marker": {
             "colorbar": {
              "outlinewidth": 0,
              "ticks": ""
             }
            },
            "type": "scattermap"
           }
          ],
          "scattermapbox": [
           {
            "marker": {
             "colorbar": {
              "outlinewidth": 0,
              "ticks": ""
             }
            },
            "type": "scattermapbox"
           }
          ],
          "scatterpolar": [
           {
            "marker": {
             "colorbar": {
              "outlinewidth": 0,
              "ticks": ""
             }
            },
            "type": "scatterpolar"
           }
          ],
          "scatterpolargl": [
           {
            "marker": {
             "colorbar": {
              "outlinewidth": 0,
              "ticks": ""
             }
            },
            "type": "scatterpolargl"
           }
          ],
          "scatterternary": [
           {
            "marker": {
             "colorbar": {
              "outlinewidth": 0,
              "ticks": ""
             }
            },
            "type": "scatterternary"
           }
          ],
          "surface": [
           {
            "colorbar": {
             "outlinewidth": 0,
             "ticks": ""
            },
            "colorscale": [
             [
              0,
              "#0d0887"
             ],
             [
              0.1111111111111111,
              "#46039f"
             ],
             [
              0.2222222222222222,
              "#7201a8"
             ],
             [
              0.3333333333333333,
              "#9c179e"
             ],
             [
              0.4444444444444444,
              "#bd3786"
             ],
             [
              0.5555555555555556,
              "#d8576b"
             ],
             [
              0.6666666666666666,
              "#ed7953"
             ],
             [
              0.7777777777777778,
              "#fb9f3a"
             ],
             [
              0.8888888888888888,
              "#fdca26"
             ],
             [
              1,
              "#f0f921"
             ]
            ],
            "type": "surface"
           }
          ],
          "table": [
           {
            "cells": {
             "fill": {
              "color": "#EBF0F8"
             },
             "line": {
              "color": "white"
             }
            },
            "header": {
             "fill": {
              "color": "#C8D4E3"
             },
             "line": {
              "color": "white"
             }
            },
            "type": "table"
           }
          ]
         },
         "layout": {
          "annotationdefaults": {
           "arrowcolor": "#2a3f5f",
           "arrowhead": 0,
           "arrowwidth": 1
          },
          "autotypenumbers": "strict",
          "coloraxis": {
           "colorbar": {
            "outlinewidth": 0,
            "ticks": ""
           }
          },
          "colorscale": {
           "diverging": [
            [
             0,
             "#8e0152"
            ],
            [
             0.1,
             "#c51b7d"
            ],
            [
             0.2,
             "#de77ae"
            ],
            [
             0.3,
             "#f1b6da"
            ],
            [
             0.4,
             "#fde0ef"
            ],
            [
             0.5,
             "#f7f7f7"
            ],
            [
             0.6,
             "#e6f5d0"
            ],
            [
             0.7,
             "#b8e186"
            ],
            [
             0.8,
             "#7fbc41"
            ],
            [
             0.9,
             "#4d9221"
            ],
            [
             1,
             "#276419"
            ]
           ],
           "sequential": [
            [
             0,
             "#0d0887"
            ],
            [
             0.1111111111111111,
             "#46039f"
            ],
            [
             0.2222222222222222,
             "#7201a8"
            ],
            [
             0.3333333333333333,
             "#9c179e"
            ],
            [
             0.4444444444444444,
             "#bd3786"
            ],
            [
             0.5555555555555556,
             "#d8576b"
            ],
            [
             0.6666666666666666,
             "#ed7953"
            ],
            [
             0.7777777777777778,
             "#fb9f3a"
            ],
            [
             0.8888888888888888,
             "#fdca26"
            ],
            [
             1,
             "#f0f921"
            ]
           ],
           "sequentialminus": [
            [
             0,
             "#0d0887"
            ],
            [
             0.1111111111111111,
             "#46039f"
            ],
            [
             0.2222222222222222,
             "#7201a8"
            ],
            [
             0.3333333333333333,
             "#9c179e"
            ],
            [
             0.4444444444444444,
             "#bd3786"
            ],
            [
             0.5555555555555556,
             "#d8576b"
            ],
            [
             0.6666666666666666,
             "#ed7953"
            ],
            [
             0.7777777777777778,
             "#fb9f3a"
            ],
            [
             0.8888888888888888,
             "#fdca26"
            ],
            [
             1,
             "#f0f921"
            ]
           ]
          },
          "colorway": [
           "#636efa",
           "#EF553B",
           "#00cc96",
           "#ab63fa",
           "#FFA15A",
           "#19d3f3",
           "#FF6692",
           "#B6E880",
           "#FF97FF",
           "#FECB52"
          ],
          "font": {
           "color": "#2a3f5f"
          },
          "geo": {
           "bgcolor": "white",
           "lakecolor": "white",
           "landcolor": "#E5ECF6",
           "showlakes": true,
           "showland": true,
           "subunitcolor": "white"
          },
          "hoverlabel": {
           "align": "left"
          },
          "hovermode": "closest",
          "mapbox": {
           "style": "light"
          },
          "paper_bgcolor": "white",
          "plot_bgcolor": "#E5ECF6",
          "polar": {
           "angularaxis": {
            "gridcolor": "white",
            "linecolor": "white",
            "ticks": ""
           },
           "bgcolor": "#E5ECF6",
           "radialaxis": {
            "gridcolor": "white",
            "linecolor": "white",
            "ticks": ""
           }
          },
          "scene": {
           "xaxis": {
            "backgroundcolor": "#E5ECF6",
            "gridcolor": "white",
            "gridwidth": 2,
            "linecolor": "white",
            "showbackground": true,
            "ticks": "",
            "zerolinecolor": "white"
           },
           "yaxis": {
            "backgroundcolor": "#E5ECF6",
            "gridcolor": "white",
            "gridwidth": 2,
            "linecolor": "white",
            "showbackground": true,
            "ticks": "",
            "zerolinecolor": "white"
           },
           "zaxis": {
            "backgroundcolor": "#E5ECF6",
            "gridcolor": "white",
            "gridwidth": 2,
            "linecolor": "white",
            "showbackground": true,
            "ticks": "",
            "zerolinecolor": "white"
           }
          },
          "shapedefaults": {
           "line": {
            "color": "#2a3f5f"
           }
          },
          "ternary": {
           "aaxis": {
            "gridcolor": "white",
            "linecolor": "white",
            "ticks": ""
           },
           "baxis": {
            "gridcolor": "white",
            "linecolor": "white",
            "ticks": ""
           },
           "bgcolor": "#E5ECF6",
           "caxis": {
            "gridcolor": "white",
            "linecolor": "white",
            "ticks": ""
           }
          },
          "title": {
           "x": 0.05
          },
          "xaxis": {
           "automargin": true,
           "gridcolor": "white",
           "linecolor": "white",
           "ticks": "",
           "title": {
            "standoff": 15
           },
           "zerolinecolor": "white",
           "zerolinewidth": 2
          },
          "yaxis": {
           "automargin": true,
           "gridcolor": "white",
           "linecolor": "white",
           "ticks": "",
           "title": {
            "standoff": 15
           },
           "zerolinecolor": "white",
           "zerolinewidth": 2
          }
         }
        },
        "title": {
         "text": "Correlation Matrix Heatmap"
        },
        "width": 900
       }
      }
     },
     "metadata": {},
     "output_type": "display_data"
    },
    {
     "name": "stdout",
     "output_type": "stream",
     "text": [
      "\n",
      "Strongest Correlations:\n",
      "followers vs favorites:  0.985\n",
      "   views vs favorites:  0.788\n",
      "   views vs pages   :  0.734\n",
      "   views vs followers:  0.733\n"
     ]
    }
   ],
   "source": [
    "# Calculate correlation matrix\n",
    "correlation_matrix = df[key_metrics].corr()\n",
    "\n",
    "# Create correlation heatmap using plotly\n",
    "fig = go.Figure(data=go.Heatmap(\n",
    "    z=correlation_matrix,\n",
    "    x=correlation_matrix.columns,\n",
    "    y=correlation_matrix.columns,\n",
    "    text=np.round(correlation_matrix, 2),\n",
    "    texttemplate='%{text}',\n",
    "    textfont={\"size\": 12},\n",
    "    hoverongaps=False,\n",
    "    colorscale='RdBu'\n",
    "))\n",
    "\n",
    "fig.update_layout(\n",
    "    title='Correlation Matrix Heatmap',\n",
    "    height=800,\n",
    "    width=900,\n",
    "    font=dict(size=14)\n",
    ")\n",
    "fig.show()\n",
    "\n",
    "# Print strongest correlations\n",
    "print(\"\\nStrongest Correlations:\")\n",
    "corr_pairs = []\n",
    "\n",
    "# Extract values from correlation matrix\n",
    "for i, metric1 in enumerate(key_metrics):\n",
    "    for j, metric2 in enumerate(key_metrics):\n",
    "        if i < j:  # Avoid duplicate pairs and diagonals\n",
    "            corr_value = correlation_matrix.loc[metric1, metric2]\n",
    "            # Make sure we're working with a float\n",
    "            if isinstance(corr_value, (int, float)) and abs(float(corr_value)) > 0.5:\n",
    "                corr_pairs.append((metric1, metric2, float(corr_value)))\n",
    "\n",
    "# Sort by correlation strength and print\n",
    "for metric1, metric2, corr in sorted(corr_pairs, key=lambda x: abs(x[2]), reverse=True):\n",
    "    print(f\"{metric1:>8} vs {metric2:<8}: {corr:>6.3f}\")"
   ]
  },
  {
   "cell_type": "markdown",
   "id": "2fecb22c",
   "metadata": {},
   "source": [
    "## Genre Analysis\n",
    "\n",
    "Let's analyze the distribution of genres and their relationship with other metrics. This will help us understand which genres are most popular and successful on Royal Road."
   ]
  },
  {
   "cell_type": "code",
   "execution_count": 46,
   "id": "b8209ae5",
   "metadata": {},
   "outputs": [
    {
     "data": {
      "application/vnd.plotly.v1+json": {
       "config": {
        "plotlyServerURL": "https://plot.ly"
       },
       "data": [
        {
         "text": {
          "bdata": "AAAAAACATEAAAAAAAABLQAAAAAAAgEpAAAAAAACAR0AAAAAAAABGQAAAAAAAAEVAAAAAAAAAQUAAAAAAAABBQAAAAAAAADpAAAAAAAAAN0A=",
          "dtype": "f8"
         },
         "textposition": "auto",
         "type": "bar",
         "x": [
          "Action",
          "Fantasy",
          "Adventure",
          "Progression",
          "Male Lead",
          "Magic",
          "Strong Lead",
          "LitRPG",
          "High Fantasy",
          "Slice of Life"
         ],
         "y": {
          "bdata": "OTY1LywqIiIaFw==",
          "dtype": "i1"
         }
        }
       ],
       "layout": {
        "font": {
         "size": 14
        },
        "height": 600,
        "margin": {
         "b": 100
        },
        "template": {
         "data": {
          "bar": [
           {
            "error_x": {
             "color": "#2a3f5f"
            },
            "error_y": {
             "color": "#2a3f5f"
            },
            "marker": {
             "line": {
              "color": "#E5ECF6",
              "width": 0.5
             },
             "pattern": {
              "fillmode": "overlay",
              "size": 10,
              "solidity": 0.2
             }
            },
            "type": "bar"
           }
          ],
          "barpolar": [
           {
            "marker": {
             "line": {
              "color": "#E5ECF6",
              "width": 0.5
             },
             "pattern": {
              "fillmode": "overlay",
              "size": 10,
              "solidity": 0.2
             }
            },
            "type": "barpolar"
           }
          ],
          "carpet": [
           {
            "aaxis": {
             "endlinecolor": "#2a3f5f",
             "gridcolor": "white",
             "linecolor": "white",
             "minorgridcolor": "white",
             "startlinecolor": "#2a3f5f"
            },
            "baxis": {
             "endlinecolor": "#2a3f5f",
             "gridcolor": "white",
             "linecolor": "white",
             "minorgridcolor": "white",
             "startlinecolor": "#2a3f5f"
            },
            "type": "carpet"
           }
          ],
          "choropleth": [
           {
            "colorbar": {
             "outlinewidth": 0,
             "ticks": ""
            },
            "type": "choropleth"
           }
          ],
          "contour": [
           {
            "colorbar": {
             "outlinewidth": 0,
             "ticks": ""
            },
            "colorscale": [
             [
              0,
              "#0d0887"
             ],
             [
              0.1111111111111111,
              "#46039f"
             ],
             [
              0.2222222222222222,
              "#7201a8"
             ],
             [
              0.3333333333333333,
              "#9c179e"
             ],
             [
              0.4444444444444444,
              "#bd3786"
             ],
             [
              0.5555555555555556,
              "#d8576b"
             ],
             [
              0.6666666666666666,
              "#ed7953"
             ],
             [
              0.7777777777777778,
              "#fb9f3a"
             ],
             [
              0.8888888888888888,
              "#fdca26"
             ],
             [
              1,
              "#f0f921"
             ]
            ],
            "type": "contour"
           }
          ],
          "contourcarpet": [
           {
            "colorbar": {
             "outlinewidth": 0,
             "ticks": ""
            },
            "type": "contourcarpet"
           }
          ],
          "heatmap": [
           {
            "colorbar": {
             "outlinewidth": 0,
             "ticks": ""
            },
            "colorscale": [
             [
              0,
              "#0d0887"
             ],
             [
              0.1111111111111111,
              "#46039f"
             ],
             [
              0.2222222222222222,
              "#7201a8"
             ],
             [
              0.3333333333333333,
              "#9c179e"
             ],
             [
              0.4444444444444444,
              "#bd3786"
             ],
             [
              0.5555555555555556,
              "#d8576b"
             ],
             [
              0.6666666666666666,
              "#ed7953"
             ],
             [
              0.7777777777777778,
              "#fb9f3a"
             ],
             [
              0.8888888888888888,
              "#fdca26"
             ],
             [
              1,
              "#f0f921"
             ]
            ],
            "type": "heatmap"
           }
          ],
          "histogram": [
           {
            "marker": {
             "pattern": {
              "fillmode": "overlay",
              "size": 10,
              "solidity": 0.2
             }
            },
            "type": "histogram"
           }
          ],
          "histogram2d": [
           {
            "colorbar": {
             "outlinewidth": 0,
             "ticks": ""
            },
            "colorscale": [
             [
              0,
              "#0d0887"
             ],
             [
              0.1111111111111111,
              "#46039f"
             ],
             [
              0.2222222222222222,
              "#7201a8"
             ],
             [
              0.3333333333333333,
              "#9c179e"
             ],
             [
              0.4444444444444444,
              "#bd3786"
             ],
             [
              0.5555555555555556,
              "#d8576b"
             ],
             [
              0.6666666666666666,
              "#ed7953"
             ],
             [
              0.7777777777777778,
              "#fb9f3a"
             ],
             [
              0.8888888888888888,
              "#fdca26"
             ],
             [
              1,
              "#f0f921"
             ]
            ],
            "type": "histogram2d"
           }
          ],
          "histogram2dcontour": [
           {
            "colorbar": {
             "outlinewidth": 0,
             "ticks": ""
            },
            "colorscale": [
             [
              0,
              "#0d0887"
             ],
             [
              0.1111111111111111,
              "#46039f"
             ],
             [
              0.2222222222222222,
              "#7201a8"
             ],
             [
              0.3333333333333333,
              "#9c179e"
             ],
             [
              0.4444444444444444,
              "#bd3786"
             ],
             [
              0.5555555555555556,
              "#d8576b"
             ],
             [
              0.6666666666666666,
              "#ed7953"
             ],
             [
              0.7777777777777778,
              "#fb9f3a"
             ],
             [
              0.8888888888888888,
              "#fdca26"
             ],
             [
              1,
              "#f0f921"
             ]
            ],
            "type": "histogram2dcontour"
           }
          ],
          "mesh3d": [
           {
            "colorbar": {
             "outlinewidth": 0,
             "ticks": ""
            },
            "type": "mesh3d"
           }
          ],
          "parcoords": [
           {
            "line": {
             "colorbar": {
              "outlinewidth": 0,
              "ticks": ""
             }
            },
            "type": "parcoords"
           }
          ],
          "pie": [
           {
            "automargin": true,
            "type": "pie"
           }
          ],
          "scatter": [
           {
            "fillpattern": {
             "fillmode": "overlay",
             "size": 10,
             "solidity": 0.2
            },
            "type": "scatter"
           }
          ],
          "scatter3d": [
           {
            "line": {
             "colorbar": {
              "outlinewidth": 0,
              "ticks": ""
             }
            },
            "marker": {
             "colorbar": {
              "outlinewidth": 0,
              "ticks": ""
             }
            },
            "type": "scatter3d"
           }
          ],
          "scattercarpet": [
           {
            "marker": {
             "colorbar": {
              "outlinewidth": 0,
              "ticks": ""
             }
            },
            "type": "scattercarpet"
           }
          ],
          "scattergeo": [
           {
            "marker": {
             "colorbar": {
              "outlinewidth": 0,
              "ticks": ""
             }
            },
            "type": "scattergeo"
           }
          ],
          "scattergl": [
           {
            "marker": {
             "colorbar": {
              "outlinewidth": 0,
              "ticks": ""
             }
            },
            "type": "scattergl"
           }
          ],
          "scattermap": [
           {
            "marker": {
             "colorbar": {
              "outlinewidth": 0,
              "ticks": ""
             }
            },
            "type": "scattermap"
           }
          ],
          "scattermapbox": [
           {
            "marker": {
             "colorbar": {
              "outlinewidth": 0,
              "ticks": ""
             }
            },
            "type": "scattermapbox"
           }
          ],
          "scatterpolar": [
           {
            "marker": {
             "colorbar": {
              "outlinewidth": 0,
              "ticks": ""
             }
            },
            "type": "scatterpolar"
           }
          ],
          "scatterpolargl": [
           {
            "marker": {
             "colorbar": {
              "outlinewidth": 0,
              "ticks": ""
             }
            },
            "type": "scatterpolargl"
           }
          ],
          "scatterternary": [
           {
            "marker": {
             "colorbar": {
              "outlinewidth": 0,
              "ticks": ""
             }
            },
            "type": "scatterternary"
           }
          ],
          "surface": [
           {
            "colorbar": {
             "outlinewidth": 0,
             "ticks": ""
            },
            "colorscale": [
             [
              0,
              "#0d0887"
             ],
             [
              0.1111111111111111,
              "#46039f"
             ],
             [
              0.2222222222222222,
              "#7201a8"
             ],
             [
              0.3333333333333333,
              "#9c179e"
             ],
             [
              0.4444444444444444,
              "#bd3786"
             ],
             [
              0.5555555555555556,
              "#d8576b"
             ],
             [
              0.6666666666666666,
              "#ed7953"
             ],
             [
              0.7777777777777778,
              "#fb9f3a"
             ],
             [
              0.8888888888888888,
              "#fdca26"
             ],
             [
              1,
              "#f0f921"
             ]
            ],
            "type": "surface"
           }
          ],
          "table": [
           {
            "cells": {
             "fill": {
              "color": "#EBF0F8"
             },
             "line": {
              "color": "white"
             }
            },
            "header": {
             "fill": {
              "color": "#C8D4E3"
             },
             "line": {
              "color": "white"
             }
            },
            "type": "table"
           }
          ]
         },
         "layout": {
          "annotationdefaults": {
           "arrowcolor": "#2a3f5f",
           "arrowhead": 0,
           "arrowwidth": 1
          },
          "autotypenumbers": "strict",
          "coloraxis": {
           "colorbar": {
            "outlinewidth": 0,
            "ticks": ""
           }
          },
          "colorscale": {
           "diverging": [
            [
             0,
             "#8e0152"
            ],
            [
             0.1,
             "#c51b7d"
            ],
            [
             0.2,
             "#de77ae"
            ],
            [
             0.3,
             "#f1b6da"
            ],
            [
             0.4,
             "#fde0ef"
            ],
            [
             0.5,
             "#f7f7f7"
            ],
            [
             0.6,
             "#e6f5d0"
            ],
            [
             0.7,
             "#b8e186"
            ],
            [
             0.8,
             "#7fbc41"
            ],
            [
             0.9,
             "#4d9221"
            ],
            [
             1,
             "#276419"
            ]
           ],
           "sequential": [
            [
             0,
             "#0d0887"
            ],
            [
             0.1111111111111111,
             "#46039f"
            ],
            [
             0.2222222222222222,
             "#7201a8"
            ],
            [
             0.3333333333333333,
             "#9c179e"
            ],
            [
             0.4444444444444444,
             "#bd3786"
            ],
            [
             0.5555555555555556,
             "#d8576b"
            ],
            [
             0.6666666666666666,
             "#ed7953"
            ],
            [
             0.7777777777777778,
             "#fb9f3a"
            ],
            [
             0.8888888888888888,
             "#fdca26"
            ],
            [
             1,
             "#f0f921"
            ]
           ],
           "sequentialminus": [
            [
             0,
             "#0d0887"
            ],
            [
             0.1111111111111111,
             "#46039f"
            ],
            [
             0.2222222222222222,
             "#7201a8"
            ],
            [
             0.3333333333333333,
             "#9c179e"
            ],
            [
             0.4444444444444444,
             "#bd3786"
            ],
            [
             0.5555555555555556,
             "#d8576b"
            ],
            [
             0.6666666666666666,
             "#ed7953"
            ],
            [
             0.7777777777777778,
             "#fb9f3a"
            ],
            [
             0.8888888888888888,
             "#fdca26"
            ],
            [
             1,
             "#f0f921"
            ]
           ]
          },
          "colorway": [
           "#636efa",
           "#EF553B",
           "#00cc96",
           "#ab63fa",
           "#FFA15A",
           "#19d3f3",
           "#FF6692",
           "#B6E880",
           "#FF97FF",
           "#FECB52"
          ],
          "font": {
           "color": "#2a3f5f"
          },
          "geo": {
           "bgcolor": "white",
           "lakecolor": "white",
           "landcolor": "#E5ECF6",
           "showlakes": true,
           "showland": true,
           "subunitcolor": "white"
          },
          "hoverlabel": {
           "align": "left"
          },
          "hovermode": "closest",
          "mapbox": {
           "style": "light"
          },
          "paper_bgcolor": "white",
          "plot_bgcolor": "#E5ECF6",
          "polar": {
           "angularaxis": {
            "gridcolor": "white",
            "linecolor": "white",
            "ticks": ""
           },
           "bgcolor": "#E5ECF6",
           "radialaxis": {
            "gridcolor": "white",
            "linecolor": "white",
            "ticks": ""
           }
          },
          "scene": {
           "xaxis": {
            "backgroundcolor": "#E5ECF6",
            "gridcolor": "white",
            "gridwidth": 2,
            "linecolor": "white",
            "showbackground": true,
            "ticks": "",
            "zerolinecolor": "white"
           },
           "yaxis": {
            "backgroundcolor": "#E5ECF6",
            "gridcolor": "white",
            "gridwidth": 2,
            "linecolor": "white",
            "showbackground": true,
            "ticks": "",
            "zerolinecolor": "white"
           },
           "zaxis": {
            "backgroundcolor": "#E5ECF6",
            "gridcolor": "white",
            "gridwidth": 2,
            "linecolor": "white",
            "showbackground": true,
            "ticks": "",
            "zerolinecolor": "white"
           }
          },
          "shapedefaults": {
           "line": {
            "color": "#2a3f5f"
           }
          },
          "ternary": {
           "aaxis": {
            "gridcolor": "white",
            "linecolor": "white",
            "ticks": ""
           },
           "baxis": {
            "gridcolor": "white",
            "linecolor": "white",
            "ticks": ""
           },
           "bgcolor": "#E5ECF6",
           "caxis": {
            "gridcolor": "white",
            "linecolor": "white",
            "ticks": ""
           }
          },
          "title": {
           "x": 0.05
          },
          "xaxis": {
           "automargin": true,
           "gridcolor": "white",
           "linecolor": "white",
           "ticks": "",
           "title": {
            "standoff": 15
           },
           "zerolinecolor": "white",
           "zerolinewidth": 2
          },
          "yaxis": {
           "automargin": true,
           "gridcolor": "white",
           "linecolor": "white",
           "ticks": "",
           "title": {
            "standoff": 15
           },
           "zerolinecolor": "white",
           "zerolinewidth": 2
          }
         }
        },
        "title": {
         "text": "Top 10 Most Common Genres"
        },
        "width": 900,
        "xaxis": {
         "tickangle": -45,
         "title": {
          "text": "Genre"
         }
        },
        "yaxis": {
         "title": {
          "text": "Number of Stories"
         }
        }
       }
      }
     },
     "metadata": {},
     "output_type": "display_data"
    },
    {
     "data": {
      "application/vnd.plotly.v1+json": {
       "config": {
        "plotlyServerURL": "https://plot.ly"
       },
       "data": [
        {
         "customdata": {
          "bdata": "CxUSIgcLKhoNDg==",
          "dtype": "i1"
         },
         "hovertemplate": "Genre: %{x}<br>Average views: %{y:,.2f}<br>Number of stories: %{customdata}<br>",
         "text": {
          "bdata": "MzMzc9szMEHXo3A9qZYjQQrXo3CjPSJBw/UoXNH5IUGF61G4Q1khQcP1KFzm1SBBmpmZGZTIIEFcj8J19ycgQUjhehQ/BCBBcT0K1yBpH0E=",
          "dtype": "f8"
         },
         "textposition": "auto",
         "type": "bar",
         "x": [
          "Dungeon",
          "Portal Fantasy / Isekai",
          "Female Lead",
          "LitRPG",
          "School Life",
          "Non-Human Lead",
          "Magic",
          "High Fantasy",
          "Multiple Lead Characters",
          "Romance"
         ],
         "y": {
          "bdata": "RhdddNszMEE9z/M8qZYjQXIcx3GjPSJBWlpaWtH5IUG3bdu2Q1khQdFFF13m1SBBGIZhGJTIIEF2Yid29ycgQRQ7sRM/BCBB27Zt2yBpH0E=",
          "dtype": "f8"
         }
        }
       ],
       "layout": {
        "font": {
         "size": 14
        },
        "height": 600,
        "margin": {
         "b": 100
        },
        "template": {
         "data": {
          "bar": [
           {
            "error_x": {
             "color": "#2a3f5f"
            },
            "error_y": {
             "color": "#2a3f5f"
            },
            "marker": {
             "line": {
              "color": "#E5ECF6",
              "width": 0.5
             },
             "pattern": {
              "fillmode": "overlay",
              "size": 10,
              "solidity": 0.2
             }
            },
            "type": "bar"
           }
          ],
          "barpolar": [
           {
            "marker": {
             "line": {
              "color": "#E5ECF6",
              "width": 0.5
             },
             "pattern": {
              "fillmode": "overlay",
              "size": 10,
              "solidity": 0.2
             }
            },
            "type": "barpolar"
           }
          ],
          "carpet": [
           {
            "aaxis": {
             "endlinecolor": "#2a3f5f",
             "gridcolor": "white",
             "linecolor": "white",
             "minorgridcolor": "white",
             "startlinecolor": "#2a3f5f"
            },
            "baxis": {
             "endlinecolor": "#2a3f5f",
             "gridcolor": "white",
             "linecolor": "white",
             "minorgridcolor": "white",
             "startlinecolor": "#2a3f5f"
            },
            "type": "carpet"
           }
          ],
          "choropleth": [
           {
            "colorbar": {
             "outlinewidth": 0,
             "ticks": ""
            },
            "type": "choropleth"
           }
          ],
          "contour": [
           {
            "colorbar": {
             "outlinewidth": 0,
             "ticks": ""
            },
            "colorscale": [
             [
              0,
              "#0d0887"
             ],
             [
              0.1111111111111111,
              "#46039f"
             ],
             [
              0.2222222222222222,
              "#7201a8"
             ],
             [
              0.3333333333333333,
              "#9c179e"
             ],
             [
              0.4444444444444444,
              "#bd3786"
             ],
             [
              0.5555555555555556,
              "#d8576b"
             ],
             [
              0.6666666666666666,
              "#ed7953"
             ],
             [
              0.7777777777777778,
              "#fb9f3a"
             ],
             [
              0.8888888888888888,
              "#fdca26"
             ],
             [
              1,
              "#f0f921"
             ]
            ],
            "type": "contour"
           }
          ],
          "contourcarpet": [
           {
            "colorbar": {
             "outlinewidth": 0,
             "ticks": ""
            },
            "type": "contourcarpet"
           }
          ],
          "heatmap": [
           {
            "colorbar": {
             "outlinewidth": 0,
             "ticks": ""
            },
            "colorscale": [
             [
              0,
              "#0d0887"
             ],
             [
              0.1111111111111111,
              "#46039f"
             ],
             [
              0.2222222222222222,
              "#7201a8"
             ],
             [
              0.3333333333333333,
              "#9c179e"
             ],
             [
              0.4444444444444444,
              "#bd3786"
             ],
             [
              0.5555555555555556,
              "#d8576b"
             ],
             [
              0.6666666666666666,
              "#ed7953"
             ],
             [
              0.7777777777777778,
              "#fb9f3a"
             ],
             [
              0.8888888888888888,
              "#fdca26"
             ],
             [
              1,
              "#f0f921"
             ]
            ],
            "type": "heatmap"
           }
          ],
          "histogram": [
           {
            "marker": {
             "pattern": {
              "fillmode": "overlay",
              "size": 10,
              "solidity": 0.2
             }
            },
            "type": "histogram"
           }
          ],
          "histogram2d": [
           {
            "colorbar": {
             "outlinewidth": 0,
             "ticks": ""
            },
            "colorscale": [
             [
              0,
              "#0d0887"
             ],
             [
              0.1111111111111111,
              "#46039f"
             ],
             [
              0.2222222222222222,
              "#7201a8"
             ],
             [
              0.3333333333333333,
              "#9c179e"
             ],
             [
              0.4444444444444444,
              "#bd3786"
             ],
             [
              0.5555555555555556,
              "#d8576b"
             ],
             [
              0.6666666666666666,
              "#ed7953"
             ],
             [
              0.7777777777777778,
              "#fb9f3a"
             ],
             [
              0.8888888888888888,
              "#fdca26"
             ],
             [
              1,
              "#f0f921"
             ]
            ],
            "type": "histogram2d"
           }
          ],
          "histogram2dcontour": [
           {
            "colorbar": {
             "outlinewidth": 0,
             "ticks": ""
            },
            "colorscale": [
             [
              0,
              "#0d0887"
             ],
             [
              0.1111111111111111,
              "#46039f"
             ],
             [
              0.2222222222222222,
              "#7201a8"
             ],
             [
              0.3333333333333333,
              "#9c179e"
             ],
             [
              0.4444444444444444,
              "#bd3786"
             ],
             [
              0.5555555555555556,
              "#d8576b"
             ],
             [
              0.6666666666666666,
              "#ed7953"
             ],
             [
              0.7777777777777778,
              "#fb9f3a"
             ],
             [
              0.8888888888888888,
              "#fdca26"
             ],
             [
              1,
              "#f0f921"
             ]
            ],
            "type": "histogram2dcontour"
           }
          ],
          "mesh3d": [
           {
            "colorbar": {
             "outlinewidth": 0,
             "ticks": ""
            },
            "type": "mesh3d"
           }
          ],
          "parcoords": [
           {
            "line": {
             "colorbar": {
              "outlinewidth": 0,
              "ticks": ""
             }
            },
            "type": "parcoords"
           }
          ],
          "pie": [
           {
            "automargin": true,
            "type": "pie"
           }
          ],
          "scatter": [
           {
            "fillpattern": {
             "fillmode": "overlay",
             "size": 10,
             "solidity": 0.2
            },
            "type": "scatter"
           }
          ],
          "scatter3d": [
           {
            "line": {
             "colorbar": {
              "outlinewidth": 0,
              "ticks": ""
             }
            },
            "marker": {
             "colorbar": {
              "outlinewidth": 0,
              "ticks": ""
             }
            },
            "type": "scatter3d"
           }
          ],
          "scattercarpet": [
           {
            "marker": {
             "colorbar": {
              "outlinewidth": 0,
              "ticks": ""
             }
            },
            "type": "scattercarpet"
           }
          ],
          "scattergeo": [
           {
            "marker": {
             "colorbar": {
              "outlinewidth": 0,
              "ticks": ""
             }
            },
            "type": "scattergeo"
           }
          ],
          "scattergl": [
           {
            "marker": {
             "colorbar": {
              "outlinewidth": 0,
              "ticks": ""
             }
            },
            "type": "scattergl"
           }
          ],
          "scattermap": [
           {
            "marker": {
             "colorbar": {
              "outlinewidth": 0,
              "ticks": ""
             }
            },
            "type": "scattermap"
           }
          ],
          "scattermapbox": [
           {
            "marker": {
             "colorbar": {
              "outlinewidth": 0,
              "ticks": ""
             }
            },
            "type": "scattermapbox"
           }
          ],
          "scatterpolar": [
           {
            "marker": {
             "colorbar": {
              "outlinewidth": 0,
              "ticks": ""
             }
            },
            "type": "scatterpolar"
           }
          ],
          "scatterpolargl": [
           {
            "marker": {
             "colorbar": {
              "outlinewidth": 0,
              "ticks": ""
             }
            },
            "type": "scatterpolargl"
           }
          ],
          "scatterternary": [
           {
            "marker": {
             "colorbar": {
              "outlinewidth": 0,
              "ticks": ""
             }
            },
            "type": "scatterternary"
           }
          ],
          "surface": [
           {
            "colorbar": {
             "outlinewidth": 0,
             "ticks": ""
            },
            "colorscale": [
             [
              0,
              "#0d0887"
             ],
             [
              0.1111111111111111,
              "#46039f"
             ],
             [
              0.2222222222222222,
              "#7201a8"
             ],
             [
              0.3333333333333333,
              "#9c179e"
             ],
             [
              0.4444444444444444,
              "#bd3786"
             ],
             [
              0.5555555555555556,
              "#d8576b"
             ],
             [
              0.6666666666666666,
              "#ed7953"
             ],
             [
              0.7777777777777778,
              "#fb9f3a"
             ],
             [
              0.8888888888888888,
              "#fdca26"
             ],
             [
              1,
              "#f0f921"
             ]
            ],
            "type": "surface"
           }
          ],
          "table": [
           {
            "cells": {
             "fill": {
              "color": "#EBF0F8"
             },
             "line": {
              "color": "white"
             }
            },
            "header": {
             "fill": {
              "color": "#C8D4E3"
             },
             "line": {
              "color": "white"
             }
            },
            "type": "table"
           }
          ]
         },
         "layout": {
          "annotationdefaults": {
           "arrowcolor": "#2a3f5f",
           "arrowhead": 0,
           "arrowwidth": 1
          },
          "autotypenumbers": "strict",
          "coloraxis": {
           "colorbar": {
            "outlinewidth": 0,
            "ticks": ""
           }
          },
          "colorscale": {
           "diverging": [
            [
             0,
             "#8e0152"
            ],
            [
             0.1,
             "#c51b7d"
            ],
            [
             0.2,
             "#de77ae"
            ],
            [
             0.3,
             "#f1b6da"
            ],
            [
             0.4,
             "#fde0ef"
            ],
            [
             0.5,
             "#f7f7f7"
            ],
            [
             0.6,
             "#e6f5d0"
            ],
            [
             0.7,
             "#b8e186"
            ],
            [
             0.8,
             "#7fbc41"
            ],
            [
             0.9,
             "#4d9221"
            ],
            [
             1,
             "#276419"
            ]
           ],
           "sequential": [
            [
             0,
             "#0d0887"
            ],
            [
             0.1111111111111111,
             "#46039f"
            ],
            [
             0.2222222222222222,
             "#7201a8"
            ],
            [
             0.3333333333333333,
             "#9c179e"
            ],
            [
             0.4444444444444444,
             "#bd3786"
            ],
            [
             0.5555555555555556,
             "#d8576b"
            ],
            [
             0.6666666666666666,
             "#ed7953"
            ],
            [
             0.7777777777777778,
             "#fb9f3a"
            ],
            [
             0.8888888888888888,
             "#fdca26"
            ],
            [
             1,
             "#f0f921"
            ]
           ],
           "sequentialminus": [
            [
             0,
             "#0d0887"
            ],
            [
             0.1111111111111111,
             "#46039f"
            ],
            [
             0.2222222222222222,
             "#7201a8"
            ],
            [
             0.3333333333333333,
             "#9c179e"
            ],
            [
             0.4444444444444444,
             "#bd3786"
            ],
            [
             0.5555555555555556,
             "#d8576b"
            ],
            [
             0.6666666666666666,
             "#ed7953"
            ],
            [
             0.7777777777777778,
             "#fb9f3a"
            ],
            [
             0.8888888888888888,
             "#fdca26"
            ],
            [
             1,
             "#f0f921"
            ]
           ]
          },
          "colorway": [
           "#636efa",
           "#EF553B",
           "#00cc96",
           "#ab63fa",
           "#FFA15A",
           "#19d3f3",
           "#FF6692",
           "#B6E880",
           "#FF97FF",
           "#FECB52"
          ],
          "font": {
           "color": "#2a3f5f"
          },
          "geo": {
           "bgcolor": "white",
           "lakecolor": "white",
           "landcolor": "#E5ECF6",
           "showlakes": true,
           "showland": true,
           "subunitcolor": "white"
          },
          "hoverlabel": {
           "align": "left"
          },
          "hovermode": "closest",
          "mapbox": {
           "style": "light"
          },
          "paper_bgcolor": "white",
          "plot_bgcolor": "#E5ECF6",
          "polar": {
           "angularaxis": {
            "gridcolor": "white",
            "linecolor": "white",
            "ticks": ""
           },
           "bgcolor": "#E5ECF6",
           "radialaxis": {
            "gridcolor": "white",
            "linecolor": "white",
            "ticks": ""
           }
          },
          "scene": {
           "xaxis": {
            "backgroundcolor": "#E5ECF6",
            "gridcolor": "white",
            "gridwidth": 2,
            "linecolor": "white",
            "showbackground": true,
            "ticks": "",
            "zerolinecolor": "white"
           },
           "yaxis": {
            "backgroundcolor": "#E5ECF6",
            "gridcolor": "white",
            "gridwidth": 2,
            "linecolor": "white",
            "showbackground": true,
            "ticks": "",
            "zerolinecolor": "white"
           },
           "zaxis": {
            "backgroundcolor": "#E5ECF6",
            "gridcolor": "white",
            "gridwidth": 2,
            "linecolor": "white",
            "showbackground": true,
            "ticks": "",
            "zerolinecolor": "white"
           }
          },
          "shapedefaults": {
           "line": {
            "color": "#2a3f5f"
           }
          },
          "ternary": {
           "aaxis": {
            "gridcolor": "white",
            "linecolor": "white",
            "ticks": ""
           },
           "baxis": {
            "gridcolor": "white",
            "linecolor": "white",
            "ticks": ""
           },
           "bgcolor": "#E5ECF6",
           "caxis": {
            "gridcolor": "white",
            "linecolor": "white",
            "ticks": ""
           }
          },
          "title": {
           "x": 0.05
          },
          "xaxis": {
           "automargin": true,
           "gridcolor": "white",
           "linecolor": "white",
           "ticks": "",
           "title": {
            "standoff": 15
           },
           "zerolinecolor": "white",
           "zerolinewidth": 2
          },
          "yaxis": {
           "automargin": true,
           "gridcolor": "white",
           "linecolor": "white",
           "ticks": "",
           "title": {
            "standoff": 15
           },
           "zerolinecolor": "white",
           "zerolinewidth": 2
          }
         }
        },
        "title": {
         "text": "Top 10 Genres by Average Views"
        },
        "width": 900,
        "xaxis": {
         "tickangle": -45,
         "title": {
          "text": "Genre"
         }
        },
        "yaxis": {
         "title": {
          "text": "Average Views"
         },
         "type": "log"
        }
       }
      }
     },
     "metadata": {},
     "output_type": "display_data"
    },
    {
     "data": {
      "application/vnd.plotly.v1+json": {
       "config": {
        "plotlyServerURL": "https://plot.ly"
       },
       "data": [
        {
         "customdata": {
          "bdata": "DQ0IEgcMEgsOBQ==",
          "dtype": "i1"
         },
         "hovertemplate": "Genre: %{x}<br>Average rating: %{y:,.2f}<br>Number of stories: %{customdata}<br>",
         "text": {
          "bdata": "j8L1KFyPEkBxPQrXo3ASQGZmZmZmZhJASOF6FK5HEkAzMzMzMzMSQClcj8L1KBJAKVyPwvUoEkAUrkfhehQSQBSuR+F6FBJAFK5H4XoUEkA=",
          "dtype": "f8"
         },
         "textposition": "auto",
         "type": "bar",
         "x": [
          "Multiple Lead Characters",
          "Urban Fantasy",
          "Low Fantasy",
          "Strategy",
          "Dystopia",
          "War and Military",
          "Female Lead",
          "Non-Human Lead",
          "Sci-fi",
          "Grimdark"
         ],
         "y": {
          "bdata": "HLmRG7mREkBYUNLx6WsSQOF6FK5HYRJAnFcTz4pGEkAT/Z2sljcSQGoDnTbQKRJAJb9Y8oslEkAZJ5JxIhkSQH8nq+WNERJAqvHSTWIQEkA=",
          "dtype": "f8"
         }
        }
       ],
       "layout": {
        "font": {
         "size": 14
        },
        "height": 600,
        "margin": {
         "b": 100
        },
        "template": {
         "data": {
          "bar": [
           {
            "error_x": {
             "color": "#2a3f5f"
            },
            "error_y": {
             "color": "#2a3f5f"
            },
            "marker": {
             "line": {
              "color": "#E5ECF6",
              "width": 0.5
             },
             "pattern": {
              "fillmode": "overlay",
              "size": 10,
              "solidity": 0.2
             }
            },
            "type": "bar"
           }
          ],
          "barpolar": [
           {
            "marker": {
             "line": {
              "color": "#E5ECF6",
              "width": 0.5
             },
             "pattern": {
              "fillmode": "overlay",
              "size": 10,
              "solidity": 0.2
             }
            },
            "type": "barpolar"
           }
          ],
          "carpet": [
           {
            "aaxis": {
             "endlinecolor": "#2a3f5f",
             "gridcolor": "white",
             "linecolor": "white",
             "minorgridcolor": "white",
             "startlinecolor": "#2a3f5f"
            },
            "baxis": {
             "endlinecolor": "#2a3f5f",
             "gridcolor": "white",
             "linecolor": "white",
             "minorgridcolor": "white",
             "startlinecolor": "#2a3f5f"
            },
            "type": "carpet"
           }
          ],
          "choropleth": [
           {
            "colorbar": {
             "outlinewidth": 0,
             "ticks": ""
            },
            "type": "choropleth"
           }
          ],
          "contour": [
           {
            "colorbar": {
             "outlinewidth": 0,
             "ticks": ""
            },
            "colorscale": [
             [
              0,
              "#0d0887"
             ],
             [
              0.1111111111111111,
              "#46039f"
             ],
             [
              0.2222222222222222,
              "#7201a8"
             ],
             [
              0.3333333333333333,
              "#9c179e"
             ],
             [
              0.4444444444444444,
              "#bd3786"
             ],
             [
              0.5555555555555556,
              "#d8576b"
             ],
             [
              0.6666666666666666,
              "#ed7953"
             ],
             [
              0.7777777777777778,
              "#fb9f3a"
             ],
             [
              0.8888888888888888,
              "#fdca26"
             ],
             [
              1,
              "#f0f921"
             ]
            ],
            "type": "contour"
           }
          ],
          "contourcarpet": [
           {
            "colorbar": {
             "outlinewidth": 0,
             "ticks": ""
            },
            "type": "contourcarpet"
           }
          ],
          "heatmap": [
           {
            "colorbar": {
             "outlinewidth": 0,
             "ticks": ""
            },
            "colorscale": [
             [
              0,
              "#0d0887"
             ],
             [
              0.1111111111111111,
              "#46039f"
             ],
             [
              0.2222222222222222,
              "#7201a8"
             ],
             [
              0.3333333333333333,
              "#9c179e"
             ],
             [
              0.4444444444444444,
              "#bd3786"
             ],
             [
              0.5555555555555556,
              "#d8576b"
             ],
             [
              0.6666666666666666,
              "#ed7953"
             ],
             [
              0.7777777777777778,
              "#fb9f3a"
             ],
             [
              0.8888888888888888,
              "#fdca26"
             ],
             [
              1,
              "#f0f921"
             ]
            ],
            "type": "heatmap"
           }
          ],
          "histogram": [
           {
            "marker": {
             "pattern": {
              "fillmode": "overlay",
              "size": 10,
              "solidity": 0.2
             }
            },
            "type": "histogram"
           }
          ],
          "histogram2d": [
           {
            "colorbar": {
             "outlinewidth": 0,
             "ticks": ""
            },
            "colorscale": [
             [
              0,
              "#0d0887"
             ],
             [
              0.1111111111111111,
              "#46039f"
             ],
             [
              0.2222222222222222,
              "#7201a8"
             ],
             [
              0.3333333333333333,
              "#9c179e"
             ],
             [
              0.4444444444444444,
              "#bd3786"
             ],
             [
              0.5555555555555556,
              "#d8576b"
             ],
             [
              0.6666666666666666,
              "#ed7953"
             ],
             [
              0.7777777777777778,
              "#fb9f3a"
             ],
             [
              0.8888888888888888,
              "#fdca26"
             ],
             [
              1,
              "#f0f921"
             ]
            ],
            "type": "histogram2d"
           }
          ],
          "histogram2dcontour": [
           {
            "colorbar": {
             "outlinewidth": 0,
             "ticks": ""
            },
            "colorscale": [
             [
              0,
              "#0d0887"
             ],
             [
              0.1111111111111111,
              "#46039f"
             ],
             [
              0.2222222222222222,
              "#7201a8"
             ],
             [
              0.3333333333333333,
              "#9c179e"
             ],
             [
              0.4444444444444444,
              "#bd3786"
             ],
             [
              0.5555555555555556,
              "#d8576b"
             ],
             [
              0.6666666666666666,
              "#ed7953"
             ],
             [
              0.7777777777777778,
              "#fb9f3a"
             ],
             [
              0.8888888888888888,
              "#fdca26"
             ],
             [
              1,
              "#f0f921"
             ]
            ],
            "type": "histogram2dcontour"
           }
          ],
          "mesh3d": [
           {
            "colorbar": {
             "outlinewidth": 0,
             "ticks": ""
            },
            "type": "mesh3d"
           }
          ],
          "parcoords": [
           {
            "line": {
             "colorbar": {
              "outlinewidth": 0,
              "ticks": ""
             }
            },
            "type": "parcoords"
           }
          ],
          "pie": [
           {
            "automargin": true,
            "type": "pie"
           }
          ],
          "scatter": [
           {
            "fillpattern": {
             "fillmode": "overlay",
             "size": 10,
             "solidity": 0.2
            },
            "type": "scatter"
           }
          ],
          "scatter3d": [
           {
            "line": {
             "colorbar": {
              "outlinewidth": 0,
              "ticks": ""
             }
            },
            "marker": {
             "colorbar": {
              "outlinewidth": 0,
              "ticks": ""
             }
            },
            "type": "scatter3d"
           }
          ],
          "scattercarpet": [
           {
            "marker": {
             "colorbar": {
              "outlinewidth": 0,
              "ticks": ""
             }
            },
            "type": "scattercarpet"
           }
          ],
          "scattergeo": [
           {
            "marker": {
             "colorbar": {
              "outlinewidth": 0,
              "ticks": ""
             }
            },
            "type": "scattergeo"
           }
          ],
          "scattergl": [
           {
            "marker": {
             "colorbar": {
              "outlinewidth": 0,
              "ticks": ""
             }
            },
            "type": "scattergl"
           }
          ],
          "scattermap": [
           {
            "marker": {
             "colorbar": {
              "outlinewidth": 0,
              "ticks": ""
             }
            },
            "type": "scattermap"
           }
          ],
          "scattermapbox": [
           {
            "marker": {
             "colorbar": {
              "outlinewidth": 0,
              "ticks": ""
             }
            },
            "type": "scattermapbox"
           }
          ],
          "scatterpolar": [
           {
            "marker": {
             "colorbar": {
              "outlinewidth": 0,
              "ticks": ""
             }
            },
            "type": "scatterpolar"
           }
          ],
          "scatterpolargl": [
           {
            "marker": {
             "colorbar": {
              "outlinewidth": 0,
              "ticks": ""
             }
            },
            "type": "scatterpolargl"
           }
          ],
          "scatterternary": [
           {
            "marker": {
             "colorbar": {
              "outlinewidth": 0,
              "ticks": ""
             }
            },
            "type": "scatterternary"
           }
          ],
          "surface": [
           {
            "colorbar": {
             "outlinewidth": 0,
             "ticks": ""
            },
            "colorscale": [
             [
              0,
              "#0d0887"
             ],
             [
              0.1111111111111111,
              "#46039f"
             ],
             [
              0.2222222222222222,
              "#7201a8"
             ],
             [
              0.3333333333333333,
              "#9c179e"
             ],
             [
              0.4444444444444444,
              "#bd3786"
             ],
             [
              0.5555555555555556,
              "#d8576b"
             ],
             [
              0.6666666666666666,
              "#ed7953"
             ],
             [
              0.7777777777777778,
              "#fb9f3a"
             ],
             [
              0.8888888888888888,
              "#fdca26"
             ],
             [
              1,
              "#f0f921"
             ]
            ],
            "type": "surface"
           }
          ],
          "table": [
           {
            "cells": {
             "fill": {
              "color": "#EBF0F8"
             },
             "line": {
              "color": "white"
             }
            },
            "header": {
             "fill": {
              "color": "#C8D4E3"
             },
             "line": {
              "color": "white"
             }
            },
            "type": "table"
           }
          ]
         },
         "layout": {
          "annotationdefaults": {
           "arrowcolor": "#2a3f5f",
           "arrowhead": 0,
           "arrowwidth": 1
          },
          "autotypenumbers": "strict",
          "coloraxis": {
           "colorbar": {
            "outlinewidth": 0,
            "ticks": ""
           }
          },
          "colorscale": {
           "diverging": [
            [
             0,
             "#8e0152"
            ],
            [
             0.1,
             "#c51b7d"
            ],
            [
             0.2,
             "#de77ae"
            ],
            [
             0.3,
             "#f1b6da"
            ],
            [
             0.4,
             "#fde0ef"
            ],
            [
             0.5,
             "#f7f7f7"
            ],
            [
             0.6,
             "#e6f5d0"
            ],
            [
             0.7,
             "#b8e186"
            ],
            [
             0.8,
             "#7fbc41"
            ],
            [
             0.9,
             "#4d9221"
            ],
            [
             1,
             "#276419"
            ]
           ],
           "sequential": [
            [
             0,
             "#0d0887"
            ],
            [
             0.1111111111111111,
             "#46039f"
            ],
            [
             0.2222222222222222,
             "#7201a8"
            ],
            [
             0.3333333333333333,
             "#9c179e"
            ],
            [
             0.4444444444444444,
             "#bd3786"
            ],
            [
             0.5555555555555556,
             "#d8576b"
            ],
            [
             0.6666666666666666,
             "#ed7953"
            ],
            [
             0.7777777777777778,
             "#fb9f3a"
            ],
            [
             0.8888888888888888,
             "#fdca26"
            ],
            [
             1,
             "#f0f921"
            ]
           ],
           "sequentialminus": [
            [
             0,
             "#0d0887"
            ],
            [
             0.1111111111111111,
             "#46039f"
            ],
            [
             0.2222222222222222,
             "#7201a8"
            ],
            [
             0.3333333333333333,
             "#9c179e"
            ],
            [
             0.4444444444444444,
             "#bd3786"
            ],
            [
             0.5555555555555556,
             "#d8576b"
            ],
            [
             0.6666666666666666,
             "#ed7953"
            ],
            [
             0.7777777777777778,
             "#fb9f3a"
            ],
            [
             0.8888888888888888,
             "#fdca26"
            ],
            [
             1,
             "#f0f921"
            ]
           ]
          },
          "colorway": [
           "#636efa",
           "#EF553B",
           "#00cc96",
           "#ab63fa",
           "#FFA15A",
           "#19d3f3",
           "#FF6692",
           "#B6E880",
           "#FF97FF",
           "#FECB52"
          ],
          "font": {
           "color": "#2a3f5f"
          },
          "geo": {
           "bgcolor": "white",
           "lakecolor": "white",
           "landcolor": "#E5ECF6",
           "showlakes": true,
           "showland": true,
           "subunitcolor": "white"
          },
          "hoverlabel": {
           "align": "left"
          },
          "hovermode": "closest",
          "mapbox": {
           "style": "light"
          },
          "paper_bgcolor": "white",
          "plot_bgcolor": "#E5ECF6",
          "polar": {
           "angularaxis": {
            "gridcolor": "white",
            "linecolor": "white",
            "ticks": ""
           },
           "bgcolor": "#E5ECF6",
           "radialaxis": {
            "gridcolor": "white",
            "linecolor": "white",
            "ticks": ""
           }
          },
          "scene": {
           "xaxis": {
            "backgroundcolor": "#E5ECF6",
            "gridcolor": "white",
            "gridwidth": 2,
            "linecolor": "white",
            "showbackground": true,
            "ticks": "",
            "zerolinecolor": "white"
           },
           "yaxis": {
            "backgroundcolor": "#E5ECF6",
            "gridcolor": "white",
            "gridwidth": 2,
            "linecolor": "white",
            "showbackground": true,
            "ticks": "",
            "zerolinecolor": "white"
           },
           "zaxis": {
            "backgroundcolor": "#E5ECF6",
            "gridcolor": "white",
            "gridwidth": 2,
            "linecolor": "white",
            "showbackground": true,
            "ticks": "",
            "zerolinecolor": "white"
           }
          },
          "shapedefaults": {
           "line": {
            "color": "#2a3f5f"
           }
          },
          "ternary": {
           "aaxis": {
            "gridcolor": "white",
            "linecolor": "white",
            "ticks": ""
           },
           "baxis": {
            "gridcolor": "white",
            "linecolor": "white",
            "ticks": ""
           },
           "bgcolor": "#E5ECF6",
           "caxis": {
            "gridcolor": "white",
            "linecolor": "white",
            "ticks": ""
           }
          },
          "title": {
           "x": 0.05
          },
          "xaxis": {
           "automargin": true,
           "gridcolor": "white",
           "linecolor": "white",
           "ticks": "",
           "title": {
            "standoff": 15
           },
           "zerolinecolor": "white",
           "zerolinewidth": 2
          },
          "yaxis": {
           "automargin": true,
           "gridcolor": "white",
           "linecolor": "white",
           "ticks": "",
           "title": {
            "standoff": 15
           },
           "zerolinecolor": "white",
           "zerolinewidth": 2
          }
         }
        },
        "title": {
         "text": "Top 10 Genres by Average Rating"
        },
        "width": 900,
        "xaxis": {
         "tickangle": -45,
         "title": {
          "text": "Genre"
         }
        },
        "yaxis": {
         "title": {
          "text": "Average Rating"
         }
        }
       }
      }
     },
     "metadata": {},
     "output_type": "display_data"
    },
    {
     "data": {
      "application/vnd.plotly.v1+json": {
       "config": {
        "plotlyServerURL": "https://plot.ly"
       },
       "data": [
        {
         "customdata": {
          "bdata": "CxUiGg0qCC8SIg==",
          "dtype": "i1"
         },
         "hovertemplate": "Genre: %{x}<br>Average followers: %{y:,.2f}<br>Number of stories: %{customdata}<br>",
         "text": {
          "bdata": "KVyPwnWhoUApXI/C9YCdQArXo3A9tpdAUrgeheuulUCamZmZmXSUQEjhehSuCJRAAAAAAABMk0AfhetRuEKTQLgehetRNZNAcT0K16PBkkA=",
          "dtype": "f8"
         },
         "textposition": "auto",
         "type": "bar",
         "x": [
          "Dungeon",
          "Portal Fantasy / Isekai",
          "LitRPG",
          "High Fantasy",
          "Urban Fantasy",
          "Magic",
          "Post Apocalyptic",
          "Progression",
          "Comedy",
          "Strong Lead"
         ],
         "y": {
          "bdata": "0UUXXXShoUDP8zzP84CdQDw8PDw8tpdAT+zETuyulUCKndiJnXSUQKuqqqqqCJRAAAAAAABMk0BicgUxuUKTQFVVVVVVNZNApqWlpaXBkkA=",
          "dtype": "f8"
         }
        }
       ],
       "layout": {
        "font": {
         "size": 14
        },
        "height": 600,
        "margin": {
         "b": 100
        },
        "template": {
         "data": {
          "bar": [
           {
            "error_x": {
             "color": "#2a3f5f"
            },
            "error_y": {
             "color": "#2a3f5f"
            },
            "marker": {
             "line": {
              "color": "#E5ECF6",
              "width": 0.5
             },
             "pattern": {
              "fillmode": "overlay",
              "size": 10,
              "solidity": 0.2
             }
            },
            "type": "bar"
           }
          ],
          "barpolar": [
           {
            "marker": {
             "line": {
              "color": "#E5ECF6",
              "width": 0.5
             },
             "pattern": {
              "fillmode": "overlay",
              "size": 10,
              "solidity": 0.2
             }
            },
            "type": "barpolar"
           }
          ],
          "carpet": [
           {
            "aaxis": {
             "endlinecolor": "#2a3f5f",
             "gridcolor": "white",
             "linecolor": "white",
             "minorgridcolor": "white",
             "startlinecolor": "#2a3f5f"
            },
            "baxis": {
             "endlinecolor": "#2a3f5f",
             "gridcolor": "white",
             "linecolor": "white",
             "minorgridcolor": "white",
             "startlinecolor": "#2a3f5f"
            },
            "type": "carpet"
           }
          ],
          "choropleth": [
           {
            "colorbar": {
             "outlinewidth": 0,
             "ticks": ""
            },
            "type": "choropleth"
           }
          ],
          "contour": [
           {
            "colorbar": {
             "outlinewidth": 0,
             "ticks": ""
            },
            "colorscale": [
             [
              0,
              "#0d0887"
             ],
             [
              0.1111111111111111,
              "#46039f"
             ],
             [
              0.2222222222222222,
              "#7201a8"
             ],
             [
              0.3333333333333333,
              "#9c179e"
             ],
             [
              0.4444444444444444,
              "#bd3786"
             ],
             [
              0.5555555555555556,
              "#d8576b"
             ],
             [
              0.6666666666666666,
              "#ed7953"
             ],
             [
              0.7777777777777778,
              "#fb9f3a"
             ],
             [
              0.8888888888888888,
              "#fdca26"
             ],
             [
              1,
              "#f0f921"
             ]
            ],
            "type": "contour"
           }
          ],
          "contourcarpet": [
           {
            "colorbar": {
             "outlinewidth": 0,
             "ticks": ""
            },
            "type": "contourcarpet"
           }
          ],
          "heatmap": [
           {
            "colorbar": {
             "outlinewidth": 0,
             "ticks": ""
            },
            "colorscale": [
             [
              0,
              "#0d0887"
             ],
             [
              0.1111111111111111,
              "#46039f"
             ],
             [
              0.2222222222222222,
              "#7201a8"
             ],
             [
              0.3333333333333333,
              "#9c179e"
             ],
             [
              0.4444444444444444,
              "#bd3786"
             ],
             [
              0.5555555555555556,
              "#d8576b"
             ],
             [
              0.6666666666666666,
              "#ed7953"
             ],
             [
              0.7777777777777778,
              "#fb9f3a"
             ],
             [
              0.8888888888888888,
              "#fdca26"
             ],
             [
              1,
              "#f0f921"
             ]
            ],
            "type": "heatmap"
           }
          ],
          "histogram": [
           {
            "marker": {
             "pattern": {
              "fillmode": "overlay",
              "size": 10,
              "solidity": 0.2
             }
            },
            "type": "histogram"
           }
          ],
          "histogram2d": [
           {
            "colorbar": {
             "outlinewidth": 0,
             "ticks": ""
            },
            "colorscale": [
             [
              0,
              "#0d0887"
             ],
             [
              0.1111111111111111,
              "#46039f"
             ],
             [
              0.2222222222222222,
              "#7201a8"
             ],
             [
              0.3333333333333333,
              "#9c179e"
             ],
             [
              0.4444444444444444,
              "#bd3786"
             ],
             [
              0.5555555555555556,
              "#d8576b"
             ],
             [
              0.6666666666666666,
              "#ed7953"
             ],
             [
              0.7777777777777778,
              "#fb9f3a"
             ],
             [
              0.8888888888888888,
              "#fdca26"
             ],
             [
              1,
              "#f0f921"
             ]
            ],
            "type": "histogram2d"
           }
          ],
          "histogram2dcontour": [
           {
            "colorbar": {
             "outlinewidth": 0,
             "ticks": ""
            },
            "colorscale": [
             [
              0,
              "#0d0887"
             ],
             [
              0.1111111111111111,
              "#46039f"
             ],
             [
              0.2222222222222222,
              "#7201a8"
             ],
             [
              0.3333333333333333,
              "#9c179e"
             ],
             [
              0.4444444444444444,
              "#bd3786"
             ],
             [
              0.5555555555555556,
              "#d8576b"
             ],
             [
              0.6666666666666666,
              "#ed7953"
             ],
             [
              0.7777777777777778,
              "#fb9f3a"
             ],
             [
              0.8888888888888888,
              "#fdca26"
             ],
             [
              1,
              "#f0f921"
             ]
            ],
            "type": "histogram2dcontour"
           }
          ],
          "mesh3d": [
           {
            "colorbar": {
             "outlinewidth": 0,
             "ticks": ""
            },
            "type": "mesh3d"
           }
          ],
          "parcoords": [
           {
            "line": {
             "colorbar": {
              "outlinewidth": 0,
              "ticks": ""
             }
            },
            "type": "parcoords"
           }
          ],
          "pie": [
           {
            "automargin": true,
            "type": "pie"
           }
          ],
          "scatter": [
           {
            "fillpattern": {
             "fillmode": "overlay",
             "size": 10,
             "solidity": 0.2
            },
            "type": "scatter"
           }
          ],
          "scatter3d": [
           {
            "line": {
             "colorbar": {
              "outlinewidth": 0,
              "ticks": ""
             }
            },
            "marker": {
             "colorbar": {
              "outlinewidth": 0,
              "ticks": ""
             }
            },
            "type": "scatter3d"
           }
          ],
          "scattercarpet": [
           {
            "marker": {
             "colorbar": {
              "outlinewidth": 0,
              "ticks": ""
             }
            },
            "type": "scattercarpet"
           }
          ],
          "scattergeo": [
           {
            "marker": {
             "colorbar": {
              "outlinewidth": 0,
              "ticks": ""
             }
            },
            "type": "scattergeo"
           }
          ],
          "scattergl": [
           {
            "marker": {
             "colorbar": {
              "outlinewidth": 0,
              "ticks": ""
             }
            },
            "type": "scattergl"
           }
          ],
          "scattermap": [
           {
            "marker": {
             "colorbar": {
              "outlinewidth": 0,
              "ticks": ""
             }
            },
            "type": "scattermap"
           }
          ],
          "scattermapbox": [
           {
            "marker": {
             "colorbar": {
              "outlinewidth": 0,
              "ticks": ""
             }
            },
            "type": "scattermapbox"
           }
          ],
          "scatterpolar": [
           {
            "marker": {
             "colorbar": {
              "outlinewidth": 0,
              "ticks": ""
             }
            },
            "type": "scatterpolar"
           }
          ],
          "scatterpolargl": [
           {
            "marker": {
             "colorbar": {
              "outlinewidth": 0,
              "ticks": ""
             }
            },
            "type": "scatterpolargl"
           }
          ],
          "scatterternary": [
           {
            "marker": {
             "colorbar": {
              "outlinewidth": 0,
              "ticks": ""
             }
            },
            "type": "scatterternary"
           }
          ],
          "surface": [
           {
            "colorbar": {
             "outlinewidth": 0,
             "ticks": ""
            },
            "colorscale": [
             [
              0,
              "#0d0887"
             ],
             [
              0.1111111111111111,
              "#46039f"
             ],
             [
              0.2222222222222222,
              "#7201a8"
             ],
             [
              0.3333333333333333,
              "#9c179e"
             ],
             [
              0.4444444444444444,
              "#bd3786"
             ],
             [
              0.5555555555555556,
              "#d8576b"
             ],
             [
              0.6666666666666666,
              "#ed7953"
             ],
             [
              0.7777777777777778,
              "#fb9f3a"
             ],
             [
              0.8888888888888888,
              "#fdca26"
             ],
             [
              1,
              "#f0f921"
             ]
            ],
            "type": "surface"
           }
          ],
          "table": [
           {
            "cells": {
             "fill": {
              "color": "#EBF0F8"
             },
             "line": {
              "color": "white"
             }
            },
            "header": {
             "fill": {
              "color": "#C8D4E3"
             },
             "line": {
              "color": "white"
             }
            },
            "type": "table"
           }
          ]
         },
         "layout": {
          "annotationdefaults": {
           "arrowcolor": "#2a3f5f",
           "arrowhead": 0,
           "arrowwidth": 1
          },
          "autotypenumbers": "strict",
          "coloraxis": {
           "colorbar": {
            "outlinewidth": 0,
            "ticks": ""
           }
          },
          "colorscale": {
           "diverging": [
            [
             0,
             "#8e0152"
            ],
            [
             0.1,
             "#c51b7d"
            ],
            [
             0.2,
             "#de77ae"
            ],
            [
             0.3,
             "#f1b6da"
            ],
            [
             0.4,
             "#fde0ef"
            ],
            [
             0.5,
             "#f7f7f7"
            ],
            [
             0.6,
             "#e6f5d0"
            ],
            [
             0.7,
             "#b8e186"
            ],
            [
             0.8,
             "#7fbc41"
            ],
            [
             0.9,
             "#4d9221"
            ],
            [
             1,
             "#276419"
            ]
           ],
           "sequential": [
            [
             0,
             "#0d0887"
            ],
            [
             0.1111111111111111,
             "#46039f"
            ],
            [
             0.2222222222222222,
             "#7201a8"
            ],
            [
             0.3333333333333333,
             "#9c179e"
            ],
            [
             0.4444444444444444,
             "#bd3786"
            ],
            [
             0.5555555555555556,
             "#d8576b"
            ],
            [
             0.6666666666666666,
             "#ed7953"
            ],
            [
             0.7777777777777778,
             "#fb9f3a"
            ],
            [
             0.8888888888888888,
             "#fdca26"
            ],
            [
             1,
             "#f0f921"
            ]
           ],
           "sequentialminus": [
            [
             0,
             "#0d0887"
            ],
            [
             0.1111111111111111,
             "#46039f"
            ],
            [
             0.2222222222222222,
             "#7201a8"
            ],
            [
             0.3333333333333333,
             "#9c179e"
            ],
            [
             0.4444444444444444,
             "#bd3786"
            ],
            [
             0.5555555555555556,
             "#d8576b"
            ],
            [
             0.6666666666666666,
             "#ed7953"
            ],
            [
             0.7777777777777778,
             "#fb9f3a"
            ],
            [
             0.8888888888888888,
             "#fdca26"
            ],
            [
             1,
             "#f0f921"
            ]
           ]
          },
          "colorway": [
           "#636efa",
           "#EF553B",
           "#00cc96",
           "#ab63fa",
           "#FFA15A",
           "#19d3f3",
           "#FF6692",
           "#B6E880",
           "#FF97FF",
           "#FECB52"
          ],
          "font": {
           "color": "#2a3f5f"
          },
          "geo": {
           "bgcolor": "white",
           "lakecolor": "white",
           "landcolor": "#E5ECF6",
           "showlakes": true,
           "showland": true,
           "subunitcolor": "white"
          },
          "hoverlabel": {
           "align": "left"
          },
          "hovermode": "closest",
          "mapbox": {
           "style": "light"
          },
          "paper_bgcolor": "white",
          "plot_bgcolor": "#E5ECF6",
          "polar": {
           "angularaxis": {
            "gridcolor": "white",
            "linecolor": "white",
            "ticks": ""
           },
           "bgcolor": "#E5ECF6",
           "radialaxis": {
            "gridcolor": "white",
            "linecolor": "white",
            "ticks": ""
           }
          },
          "scene": {
           "xaxis": {
            "backgroundcolor": "#E5ECF6",
            "gridcolor": "white",
            "gridwidth": 2,
            "linecolor": "white",
            "showbackground": true,
            "ticks": "",
            "zerolinecolor": "white"
           },
           "yaxis": {
            "backgroundcolor": "#E5ECF6",
            "gridcolor": "white",
            "gridwidth": 2,
            "linecolor": "white",
            "showbackground": true,
            "ticks": "",
            "zerolinecolor": "white"
           },
           "zaxis": {
            "backgroundcolor": "#E5ECF6",
            "gridcolor": "white",
            "gridwidth": 2,
            "linecolor": "white",
            "showbackground": true,
            "ticks": "",
            "zerolinecolor": "white"
           }
          },
          "shapedefaults": {
           "line": {
            "color": "#2a3f5f"
           }
          },
          "ternary": {
           "aaxis": {
            "gridcolor": "white",
            "linecolor": "white",
            "ticks": ""
           },
           "baxis": {
            "gridcolor": "white",
            "linecolor": "white",
            "ticks": ""
           },
           "bgcolor": "#E5ECF6",
           "caxis": {
            "gridcolor": "white",
            "linecolor": "white",
            "ticks": ""
           }
          },
          "title": {
           "x": 0.05
          },
          "xaxis": {
           "automargin": true,
           "gridcolor": "white",
           "linecolor": "white",
           "ticks": "",
           "title": {
            "standoff": 15
           },
           "zerolinecolor": "white",
           "zerolinewidth": 2
          },
          "yaxis": {
           "automargin": true,
           "gridcolor": "white",
           "linecolor": "white",
           "ticks": "",
           "title": {
            "standoff": 15
           },
           "zerolinecolor": "white",
           "zerolinewidth": 2
          }
         }
        },
        "title": {
         "text": "Top 10 Genres by Average Followers"
        },
        "width": 900,
        "xaxis": {
         "tickangle": -45,
         "title": {
          "text": "Genre"
         }
        },
        "yaxis": {
         "title": {
          "text": "Average Followers"
         },
         "type": "log"
        }
       }
      }
     },
     "metadata": {},
     "output_type": "display_data"
    }
   ],
   "source": [
    "# Get genre distribution (handling null values)\n",
    "genres = df['genre'].fillna('Unknown').str.split(',').explode().str.strip()\n",
    "genre_counts = genres.value_counts()\n",
    "\n",
    "# Create bar chart of genre distribution\n",
    "fig = go.Figure(data=[\n",
    "    go.Bar(\n",
    "        x=genre_counts.head(10).index, \n",
    "        y=genre_counts.head(10).values,\n",
    "        text=genre_counts.head(10).values,\n",
    "        textposition='auto'\n",
    "    )\n",
    "])\n",
    "\n",
    "fig.update_layout(\n",
    "    title='Top 10 Most Common Genres',\n",
    "    xaxis_title='Genre',\n",
    "    yaxis_title='Number of Stories',\n",
    "    xaxis_tickangle=-45,\n",
    "    height=600,\n",
    "    width=900,\n",
    "    font=dict(size=14),\n",
    "    margin=dict(b=100)  # Add more margin at the bottom for rotated labels\n",
    ")\n",
    "fig.show()\n",
    "\n",
    "# Calculate and display genre performance metrics\n",
    "for metric in ['views', 'rating', 'followers']:\n",
    "    # Create a list to store data for each story-genre pair\n",
    "    story_genre_data = []\n",
    "    \n",
    "    # Process each row (story) individually\n",
    "    for _, row in df.dropna(subset=['genre', metric]).iterrows():\n",
    "        if pd.isna(row['genre']) or not row['genre']:\n",
    "            continue\n",
    "            \n",
    "        # Split the genres string into a list\n",
    "        genres = row['genre'].split(',')\n",
    "        \n",
    "        # Add each genre-story pair to our data\n",
    "        for genre in genres:\n",
    "            genre = genre.strip()\n",
    "            if genre:  # Skip empty strings\n",
    "                story_genre_data.append({\n",
    "                    'story_id': row['id'],\n",
    "                    'genre': genre,\n",
    "                    metric: row[metric]\n",
    "                })\n",
    "    \n",
    "    # Create a DataFrame from our list\n",
    "    genre_df = pd.DataFrame(story_genre_data)\n",
    "    \n",
    "    # Calculate average and count for each genre\n",
    "    genre_stats = genre_df.groupby('genre').agg({metric: ['mean', 'count']})\n",
    "    genre_stats.columns = genre_stats.columns.droplevel(0)  # Flatten multi-index\n",
    "    \n",
    "    # Filter for genres with at least 5 stories\n",
    "    genre_stats = genre_stats[genre_stats['count'] >= 5]\n",
    "    \n",
    "    # Sort by mean and get top 10\n",
    "    top_genres = genre_stats.nlargest(10, 'mean').reset_index()\n",
    "    \n",
    "    # Create bar chart\n",
    "    fig = go.Figure(data=[\n",
    "        go.Bar(\n",
    "            x=top_genres['genre'],\n",
    "            y=top_genres['mean'],\n",
    "            text=np.round(top_genres['mean'], 2),\n",
    "            textposition='auto',\n",
    "            customdata=top_genres['count'],\n",
    "            hovertemplate='Genre: %{x}<br>' +\n",
    "                         f'Average {metric}: %{{y:,.2f}}<br>' +\n",
    "                         'Number of stories: %{customdata}<br>'\n",
    "        )\n",
    "    ])\n",
    "    \n",
    "    fig.update_layout(\n",
    "        title=f'Top 10 Genres by Average {metric.capitalize()}',\n",
    "        xaxis_title='Genre',\n",
    "        yaxis_title=f'Average {metric.capitalize()}',\n",
    "        xaxis_tickangle=-45,\n",
    "        height=600,\n",
    "        width=900,\n",
    "        font=dict(size=14),\n",
    "        margin=dict(b=100)\n",
    "    )\n",
    "    \n",
    "    # Use log scale for views and followers\n",
    "    if metric in ['views', 'followers']:\n",
    "        fig.update_yaxes(type='log')\n",
    "    \n",
    "    fig.show()"
   ]
  },
  {
   "cell_type": "markdown",
   "id": "8ffd600d",
   "metadata": {},
   "source": [
    "## Story Length Analysis\n",
    "\n",
    "Let's examine the relationship between story length (number of chapters and pages) and other metrics to understand how content volume affects story performance."
   ]
  },
  {
   "cell_type": "code",
   "execution_count": 56,
   "id": "945e82af",
   "metadata": {},
   "outputs": [
    {
     "data": {
      "application/vnd.plotly.v1+json": {
       "config": {
        "plotlyServerURL": "https://plot.ly"
       },
       "data": [
        {
         "marker": {
          "opacity": 0.5,
          "size": 5
         },
         "mode": "markers",
         "name": "views vs chapters",
         "type": "scatter",
         "x": {
          "bdata": "AAAAAACYiUAAAAAAADBzQAAAAAAAIGNAAAAAAAAgYUAAAAAAAABPQAAAAAAAOIFAAAAAAABYhkAAAAAAANB6QAAAAAAAQGtAAAAAAABQe0AAAAAAAPiAQAAAAAAAIGpAAAAAAAAweEAAAAAAAOBgQAAAAAAAIGNAAAAAAABgZ0AAAAAAACBwQAAAAAAAADxAAAAAAACAR0AAAAAAAABKQAAAAAAA8IFAAAAAAAAAQEAAAAAAAIBVQAAAAAAAIGNAAAAAAAAAPEAAAAAAAABFQAAAAAAAQFxAAAAAAAAAQkAAAAAAAIBfQAAAAAAAgGtAAAAAAABgakAAAAAAAOBiQAAAAAAAgGNAAAAAAAAAOEAAAAAAAEBQQAAAAAAAYGJAAAAAAACAV0AAAAAAAAA8QAAAAAAAAExAAAAAAAAAYUAAAAAAAAA6QAAAAAAAABxAAAAAAACAZUAAAAAAAIBNQAAAAAAAADBAAAAAAACATUAAAAAAAABjQAAAAAAAAD1AAAAAAADAWkAAAAAAAABlQAAAAAAAQFFAAAAAAACgYUAAAAAAAIBRQAAAAAAAwFpAAAAAAABAVUAAAAAAAEBiQAAAAAAA4G1AAAAAAAAAP0AAAAAAAABSQAAAAAAAAEpAAAAAAADgaUAAAAAAAIBXQAAAAAAAQFZAAAAAAAAAWUAAAAAAAEBtQAAAAAAAgFJAAAAAAAAANUAAAAAAAIBhQAAAAAAAAFFAAAAAAADAaEAAAAAAAABuQAAAAAAAgE1AAAAAAAAAZUAAAAAAAIBQQAAAAAAA4GVAAAAAAAAAWkAAAAAAAGBrQAAAAAAAAFJAAAAAAAAAWEAAAAAAAEBjQAAAAAAAwFBAAAAAAAAgbEAAAAAAAMBTQAAAAAAAoHJAAAAAAADwckAAAAAAAIBLQAAAAAAAAEdAAAAAAADAW0AAAAAAAMBVQAAAAAAAQG9AAAAAAABIh0AAAAAAAIBZQAAAAAAAIGVAAAAAAABAb0AAAAAAAMBSQAAAAAAAAF9AAAAAAAAAV0AAAAAAAIBjQA==",
          "dtype": "f8"
         },
         "xaxis": "x",
         "y": {
          "bdata": "S/8wAPopBQDUQgEAbpkAAIUgAADsbgYA46kKAO7VBgCHdgIAPiZCAI+JEgCQBQEAcjUeACVEAACzZAEAozIEAFbRCwChEwAAzI0AAENFAADODAQA0m0AAMJoAQBSyQAAugcAAKyoAACmoAEAbgoAADtbAABpjQMA5pEAANCfAgBESgUA7BoAAPk0AAC8CAEAldUAAPdZAABLOAAACKsCAFOyAABFCQAAIA8DAA0cAAD5EwAA77wAAE2SAQCrIgAAXTwAACXvAQDx4wQAjpgPAMJtBgDqFBIALJoNADOeBgD9UxMA6qkFABvqCQCg3QEAv2wbAPnECQAqyAgAr8cJALYFGABAQgUAGOUCANP6AgCZEAkAU0wpAHtIHgBvMwIA8fQdAICCAwAs9TEAUJEFAIJDCQBn5gMAnIEMAEhLDACixAEAi14gAEfSBwD4FxkAtgQgANL6BQBQ3wUAdTsFABarCABn8wIA99FLAGw5NgAs8BgAWZAOAAH1BQCzPhgApm4PAN2EMgA=",
          "dtype": "i4"
         },
         "yaxis": "y"
        },
        {
         "line": {
          "color": "red"
         },
         "mode": "lines",
         "name": "Trend views vs chapters",
         "type": "scatter",
         "x": {
          "bdata": "AAAAAAAAHEC9nSExb2cuQL2dITFvZzdAnGyyySabP0C9nSExb+dDQCwFav1KAUhAnGyyySYbTEAGav1KgRpQQL2dITFvJ1JAddFFF100VEAsBWr9SkFWQOQ4juM4TlhAnGyyySZbWkBToNavFGhcQAvU+pUCdV5A4YMPPvhAYEC9nSExb0dhQJm3MyTmTWJAddFFF11UY0BQ61cK1FpkQCwFav1KYWVACB988MFnZkDkOI7jOG5nQMBSoNavdGhAnGyyySZ7aUB3hsS8nYFqQFOg1q8UiGtAL7rooouObEAL1PqVApVtQOftDIl5m25AwgcffPChb0DPkJi3M1RwQL2dITFv13BAq6qqqqpacUCZtzMk5t1xQIfEvJ0hYXJAddFFF13kckBj3s6QmGdzQFDrVwrU6nNAPvjggw9udEAsBWr9SvF0QBoS83aGdHVACB988MH3dUD2KwVq/Xp2QOQ4juM4/nZA0kUXXXSBd0DAUqDWrwR4QK5fKVDrh3hAnGyyySYLeUCJeTtDYo55QHeGxLydEXpAZZNNNtmUekBToNavFBh7QEGtXylQm3tAL7rooosefEAdx3Ecx6F8QAvU+pUCJX1A+eCDDz6ofUDn7QyJeSt+QNT6lQK1rn5AwgcffPAxf0CwFKj1K7V/QM+QmLczHIBARhdddNFdgEC9nSExb5+AQDQk5u0M4YBAq6qqqqoigUAiMW9nSGSBQJm3MyTmpYFAED744IPngUCHxLydISmCQP5KgVq/aoJAddFFF12sgkDsVwrU+u2CQGPezpCYL4NA2WSTTTZxg0BQ61cK1LKDQMdxHMdx9INAPvjggw82hEC1fqVArXeEQCwFav1KuYRAo4suuuj6hEAaEvN2hjyFQJGYtzMkfoVACB988MG/hUB/pUCtXwGGQPYrBWr9QoZAbbLJJpuEhkDkOI7jOMaGQFu/UqDWB4dA0kUXXXRJh0BJzNsZEouHQMBSoNavzIdAN9lkk00OiECuXylQ60+IQCXm7QyJkYhAnGyyySbTiEAS83aGxBSJQIl5O0NiVolAAAAAAACYiUA=",
          "dtype": "f8"
         },
         "xaxis": "x",
         "y": {
          "bdata": "nJnm7EnDBUH3sqQfZiEJQVLMYlKCfwxBrOUghZ7dD0GDf+9b3Z0RQTCMTnXrTBNB3pitjvn7FEGLpQyoB6sWQTiya8EVWhhB5b7K2iMJGkGSyyn0MbgbQT/YiA1AZx1B7eTnJk4WH0HNeCMgrmIgQST/0iw1OiFBeoWCObwRIkHQCzJGQ+kiQSiS4VLKwCNBfhiRX1GYJEHUnkBs2G8lQSsl8HhfRyZBgqufheYeJ0HYMU+SbfYnQS+4/p70zShBhj6uq3ulKUHcxF24An0qQTJLDcWJVCtBidG80RAsLEHgV2zelwMtQTfeG+se2y1BjWTL96WyLkHj6noELYovQZ04lQjaMDBByPvsjp2cMEH0vkQVYQgxQR+CnJskdDFBSkX0IejfMUF2CEyoq0syQaDLoy5vtzJBzI77tDIjM0H3UVM79o4zQSMVq8G5+jNBTtgCSH1mNEF5m1rOQNI0QaVeslQEPjVB0CEK28epNUH75GFhixU2QSeouedOgTZBUmsRbhLtNkF9Lmn01Vg3QajxwHqZxDdB07QYAV0wOEH/d3CHIJw4QSo7yA3kBzlBVv4flKdzOUGBwXcaa985QayEz6AuSzpB2EcnJ/K2OkEDC3+ttSI7QS7O1jN5jjtBWZEuujz6O0GEVIZAAGY8QbAX3sbD0TxB29o1TYc9PUEHno3TSqk9QTJh5VkOFT5BXSQ94NGAPkGJ55Rmlew+QbSq7OxYWD9B321EcxzEP0GGGM787xdAQRv6+b/RTUBBsNslg7ODQEFGvVFGlblAQdyefQl370BBcYCpzFglQUEHYtWPOltBQZxDAVMckUFBMiUtFv7GQUHIBlnZ3/xBQV3ohJzBMkJB88mwX6NoQkGJq9wihZ5CQR6NCOZm1EJBtG40qUgKQ0FKUGBsKkBDQeAxjC8MdkNBdRO48u2rQ0EL9eO1z+FDQaHWD3mxF0RBNrg7PJNNREHMmWf/dINEQWJ7k8JWuURB91y/hTjvREGNPutIGiVFQSMgFwz8WkVBuAFDz92QRUFN426Sv8ZFQePEmlWh/EVBeabGGIMyRkE=",
          "dtype": "f8"
         },
         "yaxis": "y"
        },
        {
         "marker": {
          "opacity": 0.5,
          "size": 5
         },
         "mode": "markers",
         "name": "rating vs chapters",
         "type": "scatter",
         "x": {
          "bdata": "AAAAAACYiUAAAAAAADBzQAAAAAAAIGNAAAAAAAAgYUAAAAAAAABPQAAAAAAAOIFAAAAAAABYhkAAAAAAANB6QAAAAAAAQGtAAAAAAABQe0AAAAAAAPiAQAAAAAAAMHhAAAAAAADgYEAAAAAAACBjQAAAAAAAYGdAAAAAAAAgcEAAAAAAAAA8QAAAAAAAgEdAAAAAAAAASkAAAAAAAPCBQAAAAAAAAEBAAAAAAACAVUAAAAAAACBjQAAAAAAAAEVAAAAAAABAXEAAAAAAAABCQAAAAAAAgF9AAAAAAACAa0AAAAAAAGBqQAAAAAAA4GJAAAAAAACAY0AAAAAAAAA4QAAAAAAAQFBAAAAAAABgYkAAAAAAAIBXQAAAAAAAADxAAAAAAAAATEAAAAAAAABhQAAAAAAAADpAAAAAAAAAHEAAAAAAAIBlQAAAAAAAgE1AAAAAAAAAMEAAAAAAAIBNQAAAAAAAAGNAAAAAAAAAPUAAAAAAAMBaQAAAAAAAAGVAAAAAAABAUUAAAAAAAKBhQAAAAAAAgFFAAAAAAADAWkAAAAAAAEBVQAAAAAAAQGJAAAAAAADgbUAAAAAAAAA/QAAAAAAAAFJAAAAAAAAASkAAAAAAAOBpQAAAAAAAgFdAAAAAAABAVkAAAAAAANB3QAAAAAAAAFlAAAAAAABAbUAAAAAAAKB+QAAAAAAAgFJAAAAAAAAANUAAAAAAAIBhQAAAAAAAAFFAAAAAAADAaEAAAAAAAABuQAAAAAAAgE1AAAAAAAAAZUAAAAAAAIBQQAAAAAAA4GVAAAAAAAAAWkAAAAAAAGBrQAAAAAAAAFJAAAAAAAAAWEAAAAAAAEBjQAAAAAAAwFBAAAAAAAAgbEAAAAAAAMBTQAAAAAAAoHJAAAAAAADwckAAAAAAAIBLQAAAAAAAAEdAAAAAAADAW0AAAAAAAMBVQAAAAAAAQG9AAAAAAABIh0AAAAAAAIBZQAAAAAAAIGVAAAAAAABAb0AAAAAAAMBSQAAAAAAAAF9AAAAAAAAAV0AAAAAAAIBjQA==",
          "dtype": "f8"
         },
         "xaxis": "x2",
         "y": {
          "bdata": "SOF6FK5HEUBxPQrXo3ANQGZmZmZmZhNAPQrXo3A9EUAzMzMzMzMRQM3MzMzMzA5AZmZmZmZmEEAK16NwPQoPQK5H4XoUrgtAMzMzMzMzEkApXI/C9SgSQJqZmZmZmRFArkfhehSuEkApXI/C9SgSQFK4HoXrURFAXI/C9ShcEUBmZmZmZmYSQNejcD0K1xJAhetRuB6FE0CF61G4HoUQQAAAAAAAABNAj8L1KFyPEUAUrkfhehQSQM3MzMzMzBJAZmZmZmZmEUDD9Shcj8ISQOxRuB6F6xBA16NwPQrXEEDXo3A9CtcSQFK4HoXrUQxA4XoUrkfhEUBSuB6F61ETQJqZmZmZmRFAH4XrUbgeEkApXI/C9SgTQHE9CtejcBFAmpmZmZmZE0BSuB6F61ERQMP1KFyPwhFAexSuR+F6EEDsUbgehesQQFK4HoXrURNArkfhehSuEkAzMzMzMzMTQPYoXI/C9QxAXI/C9ShcCUDXo3A9CtcRQLgehetRuBJAcT0K16NwEkBxPQrXo3ASQBSuR+F6FBJAPQrXo3A9EkAzMzMzMzMSQAAAAAAAABJArkfhehSuEECF61G4HoUSQHE9CtejcBJAXI/C9ShcEUA9CtejcD0SQHsUrkfhehJAw/UoXI/CEUAfhetRuB4SQHE9CtejcBJAmpmZmZmZEUBmZmZmZmYRQFK4HoXrURJAFK5H4XoUEkAzMzMzMzMRQFyPwvUoXBJACtejcD0KEkDXo3A9CtcRQNejcD0K1xJA4XoUrkfhEUB7FK5H4XoSQLgehetRuBFAUrgehetREkB7FK5H4XoRQD0K16NwPRJAFK5H4XoUEkBSuB6F61ESQEjhehSuRxJAMzMzMzMzEkBxPQrXo3ARQEjhehSuRxJAcT0K16NwEkBcj8L1KFwSQOF6FK5H4RFASOF6FK5HEUDD9Shcj8IRQB+F61G4HhFAmpmZmZmZEEAzMzMzMzMSQHsUrkfhehFApHA9CtejEEDhehSuR+ERQOF6FK5H4RFAXI/C9ShcEkDhehSuR+ERQA==",
          "dtype": "f8"
         },
         "yaxis": "y2"
        },
        {
         "line": {
          "color": "red"
         },
         "mode": "lines",
         "name": "Trend rating vs chapters",
         "type": "scatter",
         "x": {
          "bdata": "AAAAAAAAHEC9nSExb2cuQL2dITFvZzdAnGyyySabP0C9nSExb+dDQCwFav1KAUhAnGyyySYbTEAGav1KgRpQQL2dITFvJ1JAddFFF100VEAsBWr9SkFWQOQ4juM4TlhAnGyyySZbWkBToNavFGhcQAvU+pUCdV5A4YMPPvhAYEC9nSExb0dhQJm3MyTmTWJAddFFF11UY0BQ61cK1FpkQCwFav1KYWVACB988MFnZkDkOI7jOG5nQMBSoNavdGhAnGyyySZ7aUB3hsS8nYFqQFOg1q8UiGtAL7rooouObEAL1PqVApVtQOftDIl5m25AwgcffPChb0DPkJi3M1RwQL2dITFv13BAq6qqqqpacUCZtzMk5t1xQIfEvJ0hYXJAddFFF13kckBj3s6QmGdzQFDrVwrU6nNAPvjggw9udEAsBWr9SvF0QBoS83aGdHVACB988MH3dUD2KwVq/Xp2QOQ4juM4/nZA0kUXXXSBd0DAUqDWrwR4QK5fKVDrh3hAnGyyySYLeUCJeTtDYo55QHeGxLydEXpAZZNNNtmUekBToNavFBh7QEGtXylQm3tAL7rooosefEAdx3Ecx6F8QAvU+pUCJX1A+eCDDz6ofUDn7QyJeSt+QNT6lQK1rn5AwgcffPAxf0CwFKj1K7V/QM+QmLczHIBARhdddNFdgEC9nSExb5+AQDQk5u0M4YBAq6qqqqoigUAiMW9nSGSBQJm3MyTmpYFAED744IPngUCHxLydISmCQP5KgVq/aoJAddFFF12sgkDsVwrU+u2CQGPezpCYL4NA2WSTTTZxg0BQ61cK1LKDQMdxHMdx9INAPvjggw82hEC1fqVArXeEQCwFav1KuYRAo4suuuj6hEAaEvN2hjyFQJGYtzMkfoVACB988MG/hUB/pUCtXwGGQPYrBWr9QoZAbbLJJpuEhkDkOI7jOMaGQFu/UqDWB4dA0kUXXXRJh0BJzNsZEouHQMBSoNavzIdAN9lkk00OiECuXylQ60+IQCXm7QyJkYhAnGyyySbTiEAS83aGxBSJQIl5O0NiVolAAAAAAACYiUA=",
          "dtype": "f8"
         },
         "xaxis": "x2",
         "y": {
          "bdata": "34vFabgeEkBhkqu9wRkSQOKYkRHLFBJAZJ93ZdQPEkDmpV253QoSQGisQw3nBRJA6rIpYfAAEkBsuQ+1+fsRQO6/9QgD9xFAcMbbXAzyEUDyzMGwFe0RQHTTpwQf6BFA9tmNWCjjEUB44HOsMd4RQPnmWQA72RFAe+0/VETUEUD98yWoTc8RQH/6C/xWyhFAAQHyT2DFEUCDB9ijacARQAUOvvdyuxFAhxSkS3y2EUAJG4qfhbERQIshcPOOrBFADShWR5inEUCPLjyboaIRQBA1Iu+qnRFAkjsIQ7SYEUAUQu6WvZMRQJZI1OrGjhFAGE+6PtCJEUCaVaCS2YQRQBxchubifxFAnmJsOux6EUAgaVKO9XURQKJvOOL+cBFAJHYeNghsEUCmfASKEWcRQCiD6t0aYhFAqYnQMSRdEUArkLaFLVgRQK2WnNk2UxFAL52CLUBOEUCxo2iBSUkRQDOqTtVSRBFAtbA0KVw/EUA3txp9ZToRQLm9ANFuNRFAO8TmJHgwEUC9ysx4gSsRQD/RssyKJhFAwNeYIJQhEUBC3n50nRwRQMTkZMimFxFARutKHLASEUDI8TBwuQ0RQEr4FsTCCBFAzP78F8wDEUBOBeNr1f4QQNALyb/e+RBAUhKvE+j0EEDUGJVn8e8QQFYfe7v66hBA2CVhDwTmEEBZLEdjDeEQQNsyLbcW3BBAXTkTCyDXEEDfP/leKdIQQGFG37IyzRBA40zFBjzIEEBlU6taRcMQQOdZka5OvhBAaWB3Ali5EEDrZl1WYbQQQG1tQ6pqrxBA73Mp/nOqEEBweg9SfaUQQPKA9aWGoBBAdIfb+Y+bEED2jcFNmZYQQHiUp6GikRBA+pqN9auMEEB8oXNJtYcQQP6nWZ2+ghBAgK4/8cd9EEACtSVF0XgQQIS7C5nacxBABsLx7ONuEECIyNdA7WkQQAnPvZT2ZBBAi9Wj6P9fEEAN3Ik8CVsQQI/ib5ASVhBAEelV5BtREECT7zs4JUwQQBX2IYwuRxBAl/wH4DdCEEAZA+4zQT0QQJsJ1IdKOBBAHRC621MzEEA=",
          "dtype": "f8"
         },
         "yaxis": "y2"
        },
        {
         "marker": {
          "opacity": 0.5,
          "size": 5
         },
         "mode": "markers",
         "name": "followers vs chapters",
         "type": "scatter",
         "x": {
          "bdata": "AAAAAACYiUAAAAAAADBzQAAAAAAAIGNAAAAAAAAgYUAAAAAAAABPQAAAAAAAOIFAAAAAAABYhkAAAAAAANB6QAAAAAAAQGtAAAAAAABQe0AAAAAAAPiAQAAAAAAAIGpAAAAAAAAweEAAAAAAAOBgQAAAAAAAIGNAAAAAAABgZ0AAAAAAACBwQAAAAAAAADxAAAAAAACAR0AAAAAAAABKQAAAAAAA8IFAAAAAAAAAQEAAAAAAAIBVQAAAAAAAIGNAAAAAAAAAPEAAAAAAAABFQAAAAAAAQFxAAAAAAAAAQkAAAAAAAIBfQAAAAAAAgGtAAAAAAABgakAAAAAAAOBiQAAAAAAAgGNAAAAAAAAAOEAAAAAAAEBQQAAAAAAAYGJAAAAAAACAV0AAAAAAAAA8QAAAAAAAAExAAAAAAAAAYUAAAAAAAAA6QAAAAAAAABxAAAAAAACAZUAAAAAAAIBNQAAAAAAAADBAAAAAAACATUAAAAAAAABjQAAAAAAAAD1AAAAAAADAWkAAAAAAAABlQAAAAAAAQFFAAAAAAACgYUAAAAAAAIBRQAAAAAAAwFpAAAAAAABAVUAAAAAAAEBiQAAAAAAA4G1AAAAAAAAAP0AAAAAAAABSQAAAAAAAAEpAAAAAAADgaUAAAAAAAIBXQAAAAAAAQFZAAAAAAAAAWUAAAAAAAEBtQAAAAAAAoH5AAAAAAACAUkAAAAAAAAA1QAAAAAAAgGFAAAAAAAAAUUAAAAAAAMBoQAAAAAAAAG5AAAAAAACATUAAAAAAAABlQAAAAAAAgFBAAAAAAAAAWkAAAAAAAGBrQAAAAAAAAFJAAAAAAAAAWEAAAAAAAEBjQAAAAAAAwFBAAAAAAAAgbEAAAAAAAMBTQAAAAAAAoHJAAAAAAADwckAAAAAAAIBLQAAAAAAAAEdAAAAAAADAW0AAAAAAAMBVQAAAAAAAQG9AAAAAAABIh0AAAAAAAIBZQAAAAAAAIGVAAAAAAABAb0AAAAAAAMBSQAAAAAAAAF9AAAAAAAAAV0AAAAAAAIBjQA==",
          "dtype": "f8"
         },
         "xaxis": "x3",
         "y": {
          "bdata": "dAb5AJUARgARAB0BWwGWAMQAvxgbA1UADQcSAJkAZwHIB0cAYAHEAM8AJAFwAVEAMACeAicDGQBPAPQEXgBPAXoHRAA9AaAAAgGAAR8BqAPBAmgA/QMWAGEA8QDrABYBcgCeAJsKzQwtDIQa6BXMBzsHCROYEz4EgxRqD8UKoA2kEWInbwh2DqQCkxJdGgEVzwXPFlcHBBGnA6oH5RNiCHIEkw8oEJMKiA+yDgUR5wVxDmABugeAJ5EW9ARiDAUWMBj3Iw==",
          "dtype": "i2"
         },
         "yaxis": "y3"
        },
        {
         "line": {
          "color": "red"
         },
         "mode": "lines",
         "name": "Trend followers vs chapters",
         "type": "scatter",
         "x": {
          "bdata": "AAAAAAAAHEC9nSExb2cuQL2dITFvZzdAnGyyySabP0C9nSExb+dDQCwFav1KAUhAnGyyySYbTEAGav1KgRpQQL2dITFvJ1JAddFFF100VEAsBWr9SkFWQOQ4juM4TlhAnGyyySZbWkBToNavFGhcQAvU+pUCdV5A4YMPPvhAYEC9nSExb0dhQJm3MyTmTWJAddFFF11UY0BQ61cK1FpkQCwFav1KYWVACB988MFnZkDkOI7jOG5nQMBSoNavdGhAnGyyySZ7aUB3hsS8nYFqQFOg1q8UiGtAL7rooouObEAL1PqVApVtQOftDIl5m25AwgcffPChb0DPkJi3M1RwQL2dITFv13BAq6qqqqpacUCZtzMk5t1xQIfEvJ0hYXJAddFFF13kckBj3s6QmGdzQFDrVwrU6nNAPvjggw9udEAsBWr9SvF0QBoS83aGdHVACB988MH3dUD2KwVq/Xp2QOQ4juM4/nZA0kUXXXSBd0DAUqDWrwR4QK5fKVDrh3hAnGyyySYLeUCJeTtDYo55QHeGxLydEXpAZZNNNtmUekBToNavFBh7QEGtXylQm3tAL7rooosefEAdx3Ecx6F8QAvU+pUCJX1A+eCDDz6ofUDn7QyJeSt+QNT6lQK1rn5AwgcffPAxf0CwFKj1K7V/QM+QmLczHIBARhdddNFdgEC9nSExb5+AQDQk5u0M4YBAq6qqqqoigUAiMW9nSGSBQJm3MyTmpYFAED744IPngUCHxLydISmCQP5KgVq/aoJAddFFF12sgkDsVwrU+u2CQGPezpCYL4NA2WSTTTZxg0BQ61cK1LKDQMdxHMdx9INAPvjggw82hEC1fqVArXeEQCwFav1KuYRAo4suuuj6hEAaEvN2hjyFQJGYtzMkfoVACB988MG/hUB/pUCtXwGGQPYrBWr9QoZAbbLJJpuEhkDkOI7jOMaGQFu/UqDWB4dA0kUXXXRJh0BJzNsZEouHQMBSoNavzIdAN9lkk00OiECuXylQ60+IQCXm7QyJkYhAnGyyySbTiEAS83aGxBSJQIl5O0NiVolAAAAAAACYiUA=",
          "dtype": "f8"
         },
         "xaxis": "x3",
         "y": {
          "bdata": "te9cfQlnoED/24fw/W6gQErIsmPydqBAlLTd1uZ+oEDfoAhK24agQCmNM73PjqBAc3leMMSWoEC+ZYmjuJ6gQAhStBatpqBAUz7fiaGuoECdKgr9lbagQOgWNXCKvqBAMgNg437GoEB874pWc86gQMfbtcln1qBAEcjgPFzeoEBctAuwUOagQKagNiNF7qBA8Ixhljn2oEA7eYwJLv6gQIVlt3wiBqFA0FHi7xYOoUAaPg1jCxahQGUqONb/HaFArxZjSfQloUD5Ao686C2hQETvuC/dNaFAjtvjotE9oUDZxw4WxkWhQCO0OYm6TaFAbaBk/K5VoUC4jI9vo12hQAJ5uuKXZaFATWXlVYxtoUCXURDJgHWhQOI9Ozx1faFALCpmr2mFoUB2FpEiXo2hQMECvJVSlaFAC+/mCEedoUBW2xF8O6WhQKDHPO8vraFA6rNnYiS1oUA1oJLVGL2hQH+MvUgNxaFAynjouwHNoUAUZRMv9tShQF9RPqLq3KFAqT1pFd/koUDzKZSI0+yhQD4Wv/vH9KFAiALqbrz8oUDT7hTisASiQB3bP1WlDKJAaMdqyJkUokCys5U7jhyiQPyfwK6CJKJAR4zrIXcsokCReBaVazSiQNxkQQhgPKJAJlFse1REokBwPZfuSEyiQLspwmE9VKJABRbt1DFcokBQAhhIJmSiQJruQrsabKJA5dptLg90okAvx5ihA3yiQHmzwxT4g6JAxJ/uh+yLokAOjBn74JOiQFl4RG7Vm6JAo2Rv4cmjokDuUJpUvquiQDg9xceys6JAginwOqe7okDNFRuum8OiQBcCRiGQy6JAYu5wlITTokCs2psHeduiQPbGxnpt46JAQbPx7WHrokCLnxxhVvOiQNaLR9RK+6JAIHhyRz8Do0BqZJ26MwujQLVQyC0oE6NA/zzzoBwbo0BKKR4UESOjQJQVSYcFK6NA3wF0+vkyo0Ap7p5t7jqjQHTayeDiQqNAvsb0U9dKo0AIsx/Hy1KjQFOfSjrAWqNAnYt1rbRio0Dod6AgqWqjQDJky5OdcqNAfFD2BpJ6o0A=",
          "dtype": "f8"
         },
         "yaxis": "y3"
        },
        {
         "marker": {
          "opacity": 0.5,
          "size": 5
         },
         "mode": "markers",
         "name": "views vs pages",
         "type": "scatter",
         "x": {
          "bdata": "ygcjAl4CRgIBDJIO7wZJCk4WSQ83BooPowfpBqUDAQh+AcEA0QCFAtML0wC3AtACYgGkAYcDtADPBXcJRwTsA6QDuwAnAr4CLQHxADYBMQOWACkA/wTlAXgAogFQAwQB+wODAhQChAJoAogDkQKaAzcFOgGoAgcBUweXA+IBHATbB0gC1QAoBB0DewawBnwCygT9AXkIHgJrBSACqwMFA+4CeAdeAlIOGg6YAhIBqAMUAmYFlRWDA3cHzQQCAmoCaQQFBA==",
          "dtype": "i2"
         },
         "xaxis": "x4",
         "y": {
          "bdata": "+ikFANRCAQBumQAAhSAAAOxuBgDjqQoA7tUGAId2AgA+JkIAj4kSAJAFAQByNR4AJUQAALNkAQCjMgQAVtELAKETAACnFgAAzI0AAENFAADODAQA0m0AAMJoAQBSyQAAugcAAKyoAACmoAEAbgoAADtbAABpjQMA5pEAANCfAgBESgUA7BoAAPk0AAC8CAEAldUAAPdZAABLOAAACKsCAFOyAABFCQAAIA8DAA0cAAD5EwAA77wAAE2SAQCrIgAAXTwAACXvAQDx4wQAjpgPAMJtBgDqFBIALJoNADOeBgD9UxMA6qkFABvqCQCg3QEAv2wbAPnECQAqyAgAr8cJALYFGABAQgUAGOUCANP6AgCZEAkAU0wpAHtIHgBvMwIA8fQdAICCAwAs9TEAUJEFAIJDCQBn5gMAnIEMAEhLDACixAEAi14gAEfSBwD4FxkAtgQgANL6BQBQ3wUAdTsFABarCABn8wIA99FLAGw5NgAs8BgAWZAOAAH1BQCzPhgApm4PAN2EMgA=",
          "dtype": "i4"
         },
         "yaxis": "y4"
        },
        {
         "line": {
          "color": "red"
         },
         "mode": "lines",
         "name": "Trend views vs pages",
         "type": "scatter",
         "x": {
          "bdata": "AAAAAACAREA8Q2LezpBYQDxDYt7OcGNA2WSTTTaZakA8Q2LezuBwQArU+pUCdXRA2WSTTTYJeECo9SsFap17QHeGxLydMX9Ao4suuuhigUAK1PqVAi2DQHIcx3Ec94RA2WSTTTbBhkBBrV8pUIuIQKj1KwVqVYpAED744IMfjEB3hsS8nemNQN7OkJi3s49Ao4suuui+kEDXrxSo9aORQArU+pUCiZJAPvjggw9uk0ByHMdxHFOUQKZArV8pOJVA2WSTTTYdlkANiXk7QwKXQEGtXylQ55dAdNFFF13MmECo9SsFarGZQNwZEvN2lppAED744IN7m0BDYt7OkGCcQHeGxLydRZ1Aq6qqqqoqnkDezpCYtw+fQBLzdobE9J9Ao4suuuhsoEC9nSExb9+gQNevFKj1UaFA8cEHH3zEoUAK1PqVAjeiQCTm7QyJqaJAPvjggw8co0BYCtT6lY6jQHIcx3EcAaRAjC666KJzpECmQK1fKeakQL9SoNavWKVA2WSTTTbLpUDzdobEvD2mQA2JeTtDsKZAJ5tssskip0BBrV8pUJWnQFu/UqDWB6hAdNFFF116qECO4ziO4+yoQKj1KwVqX6lAwgcffPDRqUDcGRLzdkSqQPYrBWr9tqpAED744IMpq0ApUOtXCpyrQENi3s6QDqxAXXTRRReBrEB3hsS8nfOsQJGYtzMkZq1Aq6qqqqrYrUDFvJ0hMUuuQN7OkJi3va5A+OCDDz4wr0AS83aGxKKvQJYCtX6lCrBAo4suuuhDsECwFKj1K32wQL2dITFvtrBAyiabbLLvsEDXrxSo9SixQOQ4juM4YrFA8cEHH3ybsUD9SoFav9SxQArU+pUCDrJAF1100UVHskAk5u0MiYCyQDFvZ0jMubJAPvjggw/zskBLgVq/UiyzQFgK1PqVZbNAZZNNNtmes0ByHMdxHNizQH+lQK1fEbRAjC666KJKtECZtzMk5oO0QKZArV8pvbRAsskmm2z2tEC/UqDWry+1QMzbGRLzaLVA2WSTTTaitUDm7QyJedu1QPN2hsS8FLZAAAAAAABOtkA=",
          "dtype": "f8"
         },
         "xaxis": "x4",
         "y": {
          "bdata": "RXpg+kPR4kDhS8MFdyvxQJ9aVg5M7vhArrR0i5BYAEEOPL4P+zkEQW3DB5RlGwhBzEpRGND8C0Er0pqcOt4PQcUscpDS3xFBdPCW0ofQE0EjtLsUPcEVQdR34FbysRdBgzsFmaeiGUEz/ynbXJMbQeLCTh0ShB1BkoZzX8d0H0EhJcxQvrIgQfiG3vEYqyFB0OjwknOjIkGoSgM0zpsjQX+sFdUolCRBVw4odoOMJUEvcDoX3oQmQQjSTLg4fSdB3zNfWZN1KEG3lXH67W0pQY/3g5tIZipBZlmWPKNeK0E+u6jd/VYsQRYdu35YTy1B7n7NH7NHLkHF4N/ADUAvQU8h+TA0HDBBO1KCgWGYMEEngwvSjhQxQRO0lCK8kDFB/+Qdc+kMMkHrFafDFokyQddGMBREBTNBw3e5ZHGBM0GuqEK1nv0zQZrZywXMeTRBhgpVVvn1NEFyO96mJnI1QV5sZ/dT7jVBSp3wR4FqNkE2znmYruY2QSH/AunbYjdBDTCMOQnfN0H5YBWKNls4QeWRntpj1zhB0cInK5FTOUG987B7vs85QakkOszrSzpBlFXDHBnIOkGAhkxtRkQ7QWy31b1zwDtBWOheDqE8PEFEGehezrg8QTBKca/7ND1BHHv6/yixPUEHrINQVi0+QfPcDKGDqT5B3w2W8bAlP0HLPh9C3qE/Qds3VMkFD0BBUtCYcRxNQEHIaN0ZM4tAQT0BIsJJyUBBs5lmamAHQUEpMqsSd0VBQZ/K77qNg0FBFWM0Y6TBQUGL+3gLu/9BQQGUvbPRPUJBdywCXOh7QkHtxEYE/7lCQWNdi6wV+EJB2fXPVCw2Q0FOjhT9QnRDQcQmWaVZskNBOr+dTXDwQ0GwV+L1hi5EQSbwJp6dbERBnYhrRrSqREETIbDuyuhEQYm59JbhJkVB/1E5P/hkRUF16n3nDqNFQeuCwo8l4UVBYRsHODwfRkHXs0vgUl1GQU1MkIhpm0ZBwuTUMIDZRkE4fRnZlhdHQa4VXoGtVUdBJK6iKcSTR0GaRufR2tFHQRDfK3rxD0hBhndwIghOSEE=",
          "dtype": "f8"
         },
         "yaxis": "y4"
        },
        {
         "marker": {
          "opacity": 0.5,
          "size": 5
         },
         "mode": "markers",
         "name": "rating vs pages",
         "type": "scatter",
         "x": {
          "bdata": "ygcjAl4CRgIBDJIO7wZJCk4WSQ+KD6MH6QalAwEIfgHBANEAhQLTC9MAtwLQAqQBhwO0AM8FdwlHBOwDpAO7ACcCvgItAfEANgExA5YAKQD/BOUBeACiAVADBAH7A4MCFAKEAmgCiAORApoDNwU6AagCBwFTB5cD4gEfDxwE2wdyD0gC1QAoBB0DewawBnwCygT9AXkIHgJrBSACqwMFA+4CeAdeAlIOGg6YAhIBqAMUAmYFlRWDA3cHzQQCAmoCaQQFBA==",
          "dtype": "i2"
         },
         "xaxis": "x5",
         "y": {
          "bdata": "cT0K16NwDUBmZmZmZmYTQD0K16NwPRFAMzMzMzMzEUDNzMzMzMwOQGZmZmZmZhBACtejcD0KD0CuR+F6FK4LQDMzMzMzMxJAKVyPwvUoEkCamZmZmZkRQK5H4XoUrhJAKVyPwvUoEkBSuB6F61ERQFyPwvUoXBFAZmZmZmZmEkApXI/C9SgSQNejcD0K1xJAhetRuB6FE0CF61G4HoUQQAAAAAAAABNAj8L1KFyPEUAUrkfhehQSQM3MzMzMzBJAZmZmZmZmEUDD9Shcj8ISQOxRuB6F6xBA16NwPQrXEEDXo3A9CtcSQFK4HoXrUQxA4XoUrkfhEUBSuB6F61ETQJqZmZmZmRFAH4XrUbgeEkApXI/C9SgTQHE9CtejcBFAmpmZmZmZE0BSuB6F61ERQMP1KFyPwhFAexSuR+F6EEDsUbgehesQQFK4HoXrURNArkfhehSuEkAzMzMzMzMTQPYoXI/C9QxAXI/C9ShcCUDXo3A9CtcRQLgehetRuBJAcT0K16NwEkBxPQrXo3ASQBSuR+F6FBJAPQrXo3A9EkAzMzMzMzMSQAAAAAAAABJArkfhehSuEECF61G4HoUSQHE9CtejcBJAXI/C9ShcEUA9CtejcD0SQHsUrkfhehJAw/UoXI/CEUAfhetRuB4SQHE9CtejcBJAmpmZmZmZEUBmZmZmZmYRQFK4HoXrURJAFK5H4XoUEkAzMzMzMzMRQFyPwvUoXBJACtejcD0KEkDXo3A9CtcRQNejcD0K1xJA4XoUrkfhEUB7FK5H4XoSQLgehetRuBFAUrgehetREkB7FK5H4XoRQD0K16NwPRJAFK5H4XoUEkBSuB6F61ESQEjhehSuRxJAMzMzMzMzEkBxPQrXo3ARQEjhehSuRxJAcT0K16NwEkBcj8L1KFwSQOF6FK5H4RFASOF6FK5HEUDD9Shcj8IRQB+F61G4HhFAmpmZmZmZEEAzMzMzMzMSQHsUrkfhehFApHA9CtejEEDhehSuR+ERQOF6FK5H4RFAXI/C9ShcEkDhehSuR+ERQA==",
          "dtype": "f8"
         },
         "yaxis": "y5"
        },
        {
         "line": {
          "color": "red"
         },
         "mode": "lines",
         "name": "Trend rating vs pages",
         "type": "scatter",
         "x": {
          "bdata": "AAAAAACAREA8Q2LezpBYQDxDYt7OcGNA2WSTTTaZakA8Q2LezuBwQArU+pUCdXRA2WSTTTYJeECo9SsFap17QHeGxLydMX9Ao4suuuhigUAK1PqVAi2DQHIcx3Ec94RA2WSTTTbBhkBBrV8pUIuIQKj1KwVqVYpAED744IMfjEB3hsS8nemNQN7OkJi3s49Ao4suuui+kEDXrxSo9aORQArU+pUCiZJAPvjggw9uk0ByHMdxHFOUQKZArV8pOJVA2WSTTTYdlkANiXk7QwKXQEGtXylQ55dAdNFFF13MmECo9SsFarGZQNwZEvN2lppAED744IN7m0BDYt7OkGCcQHeGxLydRZ1Aq6qqqqoqnkDezpCYtw+fQBLzdobE9J9Ao4suuuhsoEC9nSExb9+gQNevFKj1UaFA8cEHH3zEoUAK1PqVAjeiQCTm7QyJqaJAPvjggw8co0BYCtT6lY6jQHIcx3EcAaRAjC666KJzpECmQK1fKeakQL9SoNavWKVA2WSTTTbLpUDzdobEvD2mQA2JeTtDsKZAJ5tssskip0BBrV8pUJWnQFu/UqDWB6hAdNFFF116qECO4ziO4+yoQKj1KwVqX6lAwgcffPDRqUDcGRLzdkSqQPYrBWr9tqpAED744IMpq0ApUOtXCpyrQENi3s6QDqxAXXTRRReBrEB3hsS8nfOsQJGYtzMkZq1Aq6qqqqrYrUDFvJ0hMUuuQN7OkJi3va5A+OCDDz4wr0AS83aGxKKvQJYCtX6lCrBAo4suuuhDsECwFKj1K32wQL2dITFvtrBAyiabbLLvsEDXrxSo9SixQOQ4juM4YrFA8cEHH3ybsUD9SoFav9SxQArU+pUCDrJAF1100UVHskAk5u0MiYCyQDFvZ0jMubJAPvjggw/zskBLgVq/UiyzQFgK1PqVZbNAZZNNNtmes0ByHMdxHNizQH+lQK1fEbRAjC666KJKtECZtzMk5oO0QKZArV8pvbRAsskmm2z2tEC/UqDWry+1QMzbGRLzaLVA2WSTTTaitUDm7QyJedu1QPN2hsS8FLZAAAAAAABOtkA=",
          "dtype": "f8"
         },
         "xaxis": "x5",
         "y": {
          "bdata": "5xdrTKoIEkA+xWWiIgUSQJVyYPiaARJA7B9bThP+EUBDzVWki/oRQJp6UPoD9xFA8SdLUHzzEUBI1UWm9O8RQJ+CQPxs7BFA9y87UuXoEUBO3TWoXeURQKWKMP7V4RFA/DcrVE7eEUBT5SWqxtoRQKqSIAA/1xFAAUAbVrfTEUBY7RWsL9ARQK+aEAKozBFABkgLWCDJEUBd9QWumMURQLWiAAQRwhFADFD7WYm+EUBj/fWvAbsRQLqq8AV6txFAEVjrW/KzEUBoBeaxarARQL+y4AfjrBFAFmDbXVupEUBtDdaz06URQMS60AlMohFAG2jLX8SeEUBzFca1PJsRQMrCwAu1lxFAIXC7YS2UEUB4Hba3pZARQM/KsA0ejRFAJnirY5aJEUB9Jaa5DoYRQNTSoA+HghFAK4CbZf9+EUCCLZa7d3sRQNnakBHwdxFAMIiLZ2h0EUCINYa94HARQN/igBNZbRFANpB7adFpEUCNPXa/SWYRQOTqcBXCYhFAO5hrazpfEUCSRWbBslsRQOnyYBcrWBFAQKBbbaNUEUCXTVbDG1ERQO76UBmUTRFARqhLbwxKEUCdVUbFhEYRQPQCQRv9QhFAS7A7cXU/EUCiXTbH7TsRQPkKMR1mOBFAULgrc940EUCnZSbJVjERQP4SIR/PLRFAVcAbdUcqEUCsbRbLvyYRQAQbESE4IxFAW8gLd7AfEUCydQbNKBwRQAkjASOhGBFAYND7eBkVEUC3ffbOkRERQA4r8SQKDhFAZdjreoIKEUC8hebQ+gYRQBMz4SZzAxFAauDbfOv/EEDCjdbSY/wQQBk70Sjc+BBAcOjLflT1EEDHlcbUzPEQQB5DwSpF7hBAdfC7gL3qEEDMnbbWNecQQCNLsSyu4xBAevirgibgEEDRpabYntwQQChToS4X2RBAgACchI/VEEDXrZbaB9IQQC5bkTCAzhBAhQiMhvjKEEDctYbccMcQQDNjgTLpwxBAihB8iGHAEEDhvXbe2bwQQDhrcTRSuRBAjxhsisq1EEDmxWbgQrIQQD5zYTa7rhBAlSBcjDOrEEA=",
          "dtype": "f8"
         },
         "yaxis": "y5"
        },
        {
         "marker": {
          "opacity": 0.5,
          "size": 5
         },
         "mode": "markers",
         "name": "followers vs pages",
         "type": "scatter",
         "x": {
          "bdata": "ygcjAl4CRgIBDJIO7wZJCk4WSQ83BooPowfpBqUDAQh+AcEA0QCFAtML0wC3AtACYgGkAYcDtADPBXcJRwTsA6QDuwAnAr4CLQHxADYBMQOWACkA/wTlAXgAogFQAwQB+wODAhQChAJoAogDkQKaAzcFOgGoAgcBUweXA+IBHATbB3IPSALVACgEHQN7BrAGfALKBP0BHgJrBSACqwMFA+4CeAdeAlIOGg6YAhIBqAMUAmYFlRWDA3cHzQQCAmoCaQQFBA==",
          "dtype": "i2"
         },
         "xaxis": "x6",
         "y": {
          "bdata": "+QCVAEYAEQAdAVsBlgDEAL8YGwNVAA0HEgCZAGcByAdHAHMAYAHEAM8AJAFwAVEAMACeAicDGQBPAPQEXgBPAXoHRAA9AaAAAgGAAR8BqAPBAmgA/QMWAGEA8QDrABYBcgCeAJsKzQwtDIQa6BXMBzsHCROYEz4EgxRqD8UKoA2kEWInbwh2DqQCkxJdGgEVzwXPFlcHBBGnA6oH5RNiCHIEkw8oEJMKiA+yDgUR5wVxDmABugeAJ5EW9ARiDAUWMBj3Iw==",
          "dtype": "i2"
         },
         "yaxis": "y6"
        },
        {
         "line": {
          "color": "red"
         },
         "mode": "lines",
         "name": "Trend followers vs pages",
         "type": "scatter",
         "x": {
          "bdata": "AAAAAACAREA8Q2LezpBYQDxDYt7OcGNA2WSTTTaZakA8Q2LezuBwQArU+pUCdXRA2WSTTTYJeECo9SsFap17QHeGxLydMX9Ao4suuuhigUAK1PqVAi2DQHIcx3Ec94RA2WSTTTbBhkBBrV8pUIuIQKj1KwVqVYpAED744IMfjEB3hsS8nemNQN7OkJi3s49Ao4suuui+kEDXrxSo9aORQArU+pUCiZJAPvjggw9uk0ByHMdxHFOUQKZArV8pOJVA2WSTTTYdlkANiXk7QwKXQEGtXylQ55dAdNFFF13MmECo9SsFarGZQNwZEvN2lppAED744IN7m0BDYt7OkGCcQHeGxLydRZ1Aq6qqqqoqnkDezpCYtw+fQBLzdobE9J9Ao4suuuhsoEC9nSExb9+gQNevFKj1UaFA8cEHH3zEoUAK1PqVAjeiQCTm7QyJqaJAPvjggw8co0BYCtT6lY6jQHIcx3EcAaRAjC666KJzpECmQK1fKeakQL9SoNavWKVA2WSTTTbLpUDzdobEvD2mQA2JeTtDsKZAJ5tssskip0BBrV8pUJWnQFu/UqDWB6hAdNFFF116qECO4ziO4+yoQKj1KwVqX6lAwgcffPDRqUDcGRLzdkSqQPYrBWr9tqpAED744IMpq0ApUOtXCpyrQENi3s6QDqxAXXTRRReBrEB3hsS8nfOsQJGYtzMkZq1Aq6qqqqrYrUDFvJ0hMUuuQN7OkJi3va5A+OCDDz4wr0AS83aGxKKvQJYCtX6lCrBAo4suuuhDsECwFKj1K32wQL2dITFvtrBAyiabbLLvsEDXrxSo9SixQOQ4juM4YrFA8cEHH3ybsUD9SoFav9SxQArU+pUCDrJAF1100UVHskAk5u0MiYCyQDFvZ0jMubJAPvjggw/zskBLgVq/UiyzQFgK1PqVZbNAZZNNNtmes0ByHMdxHNizQH+lQK1fEbRAjC666KJKtECZtzMk5oO0QKZArV8pvbRAsskmm2z2tEC/UqDWry+1QMzbGRLzaLVA2WSTTTaitUDm7QyJedu1QPN2hsS8FLZAAAAAAABOtkA=",
          "dtype": "f8"
         },
         "xaxis": "x6",
         "y": {
          "bdata": "li6ytyOjmkCzh6nAuP2aQNHgoMlNWJtA7jmY0uKym0ALk4/bdw2cQCnshuQMaJxARkV+7aHCnEBjnnX2Nh2dQIH3bP/Ld51AnlBkCGHSnUC7qVsR9iyeQNkCUxqLh55A9ltKIyDinkAUtUEstTyfQDEOOTVKl59ATmcwPt/xn0A24JMjOiagQMSMD6iEU6BAUzmLLM+AoEDi5QaxGa6gQHCSgjVk26BA/z7+ua4IoUCO63k++TWhQByY9cJDY6FAq0RxR46QoUA68ezL2L2hQMidaFAj66FAV0rk1G0YokDm9l9ZuEWiQHSj290Cc6JAA1BXYk2gokCS/NLml82iQCCpTmvi+qJAr1XK7ywoo0A+AkZ0d1WjQMyuwfjBgqNAW1s9fQywo0DqB7kBV92jQHm0NIahCqRACGGwCuw3pECWDSyPNmWkQCS6pxOBkqRAs2YjmMu/pEBCE58cFu2kQNG/GqFgGqVAYGyWJatHpUDuGBKq9XSlQHzFjS5AoqVAC3IJs4rPpUCaHoU31fylQCjLALwfKqZAuHd8QGpXpkBGJPjEtISmQNXQc0n/saZAY33vzUnfpkDyKWtSlAynQIDW5tbeOadAEINiWylnp0CeL97fc5SnQC3cWWS+wadAvIjV6Ajvp0BKNVFtUxyoQNjhzPGdSahAaI5Iduh2qED2OsT6MqSoQIXnP3990ahAFJS7A8j+qECiQDeIEiypQDDtsgxdWalAwJkukaeGqUBORqoV8rOpQN3yJZo84alAbJ+hHocOqkD6Sx2j0TuqQIn4mCccaapAGKUUrGaWqkCmUZAwscOqQDX+C7X78KpAxKqHOUYeq0BSVwO+kEurQOADf0LbeKtAcLD6xiWmq0D+XHZLcNOrQI0J8s+6AKxAHLZtVAUurECqYunYT1usQDkPZV2aiKxAyLvg4eS1rEBWaFxmL+OsQOUU2Op5EK1AdMFTb8Q9rUADbs/zDmutQJEaS3hZmK1AH8fG/KPFrUCuc0KB7vKtQD0gvgU5IK5Ay8w5ioNNrkBaebUOznquQOklMZMYqK5AeNKsF2PVrkA=",
          "dtype": "f8"
         },
         "yaxis": "y6"
        }
       ],
       "layout": {
        "annotations": [
         {
          "font": {
           "size": 16
          },
          "showarrow": false,
          "text": "views vs chapters",
          "x": 0.13333333333333333,
          "xanchor": "center",
          "xref": "paper",
          "y": 1,
          "yanchor": "bottom",
          "yref": "paper"
         },
         {
          "font": {
           "size": 16
          },
          "showarrow": false,
          "text": "rating vs chapters",
          "x": 0.5,
          "xanchor": "center",
          "xref": "paper",
          "y": 1,
          "yanchor": "bottom",
          "yref": "paper"
         },
         {
          "font": {
           "size": 16
          },
          "showarrow": false,
          "text": "followers vs chapters",
          "x": 0.8666666666666667,
          "xanchor": "center",
          "xref": "paper",
          "y": 1,
          "yanchor": "bottom",
          "yref": "paper"
         },
         {
          "font": {
           "size": 16
          },
          "showarrow": false,
          "text": "views vs pages",
          "x": 0.13333333333333333,
          "xanchor": "center",
          "xref": "paper",
          "y": 0.425,
          "yanchor": "bottom",
          "yref": "paper"
         },
         {
          "font": {
           "size": 16
          },
          "showarrow": false,
          "text": "rating vs pages",
          "x": 0.5,
          "xanchor": "center",
          "xref": "paper",
          "y": 0.425,
          "yanchor": "bottom",
          "yref": "paper"
         },
         {
          "font": {
           "size": 16
          },
          "showarrow": false,
          "text": "followers vs pages",
          "x": 0.8666666666666667,
          "xanchor": "center",
          "xref": "paper",
          "y": 0.425,
          "yanchor": "bottom",
          "yref": "paper"
         }
        ],
        "height": 800,
        "showlegend": false,
        "template": {
         "data": {
          "bar": [
           {
            "error_x": {
             "color": "#2a3f5f"
            },
            "error_y": {
             "color": "#2a3f5f"
            },
            "marker": {
             "line": {
              "color": "#E5ECF6",
              "width": 0.5
             },
             "pattern": {
              "fillmode": "overlay",
              "size": 10,
              "solidity": 0.2
             }
            },
            "type": "bar"
           }
          ],
          "barpolar": [
           {
            "marker": {
             "line": {
              "color": "#E5ECF6",
              "width": 0.5
             },
             "pattern": {
              "fillmode": "overlay",
              "size": 10,
              "solidity": 0.2
             }
            },
            "type": "barpolar"
           }
          ],
          "carpet": [
           {
            "aaxis": {
             "endlinecolor": "#2a3f5f",
             "gridcolor": "white",
             "linecolor": "white",
             "minorgridcolor": "white",
             "startlinecolor": "#2a3f5f"
            },
            "baxis": {
             "endlinecolor": "#2a3f5f",
             "gridcolor": "white",
             "linecolor": "white",
             "minorgridcolor": "white",
             "startlinecolor": "#2a3f5f"
            },
            "type": "carpet"
           }
          ],
          "choropleth": [
           {
            "colorbar": {
             "outlinewidth": 0,
             "ticks": ""
            },
            "type": "choropleth"
           }
          ],
          "contour": [
           {
            "colorbar": {
             "outlinewidth": 0,
             "ticks": ""
            },
            "colorscale": [
             [
              0,
              "#0d0887"
             ],
             [
              0.1111111111111111,
              "#46039f"
             ],
             [
              0.2222222222222222,
              "#7201a8"
             ],
             [
              0.3333333333333333,
              "#9c179e"
             ],
             [
              0.4444444444444444,
              "#bd3786"
             ],
             [
              0.5555555555555556,
              "#d8576b"
             ],
             [
              0.6666666666666666,
              "#ed7953"
             ],
             [
              0.7777777777777778,
              "#fb9f3a"
             ],
             [
              0.8888888888888888,
              "#fdca26"
             ],
             [
              1,
              "#f0f921"
             ]
            ],
            "type": "contour"
           }
          ],
          "contourcarpet": [
           {
            "colorbar": {
             "outlinewidth": 0,
             "ticks": ""
            },
            "type": "contourcarpet"
           }
          ],
          "heatmap": [
           {
            "colorbar": {
             "outlinewidth": 0,
             "ticks": ""
            },
            "colorscale": [
             [
              0,
              "#0d0887"
             ],
             [
              0.1111111111111111,
              "#46039f"
             ],
             [
              0.2222222222222222,
              "#7201a8"
             ],
             [
              0.3333333333333333,
              "#9c179e"
             ],
             [
              0.4444444444444444,
              "#bd3786"
             ],
             [
              0.5555555555555556,
              "#d8576b"
             ],
             [
              0.6666666666666666,
              "#ed7953"
             ],
             [
              0.7777777777777778,
              "#fb9f3a"
             ],
             [
              0.8888888888888888,
              "#fdca26"
             ],
             [
              1,
              "#f0f921"
             ]
            ],
            "type": "heatmap"
           }
          ],
          "histogram": [
           {
            "marker": {
             "pattern": {
              "fillmode": "overlay",
              "size": 10,
              "solidity": 0.2
             }
            },
            "type": "histogram"
           }
          ],
          "histogram2d": [
           {
            "colorbar": {
             "outlinewidth": 0,
             "ticks": ""
            },
            "colorscale": [
             [
              0,
              "#0d0887"
             ],
             [
              0.1111111111111111,
              "#46039f"
             ],
             [
              0.2222222222222222,
              "#7201a8"
             ],
             [
              0.3333333333333333,
              "#9c179e"
             ],
             [
              0.4444444444444444,
              "#bd3786"
             ],
             [
              0.5555555555555556,
              "#d8576b"
             ],
             [
              0.6666666666666666,
              "#ed7953"
             ],
             [
              0.7777777777777778,
              "#fb9f3a"
             ],
             [
              0.8888888888888888,
              "#fdca26"
             ],
             [
              1,
              "#f0f921"
             ]
            ],
            "type": "histogram2d"
           }
          ],
          "histogram2dcontour": [
           {
            "colorbar": {
             "outlinewidth": 0,
             "ticks": ""
            },
            "colorscale": [
             [
              0,
              "#0d0887"
             ],
             [
              0.1111111111111111,
              "#46039f"
             ],
             [
              0.2222222222222222,
              "#7201a8"
             ],
             [
              0.3333333333333333,
              "#9c179e"
             ],
             [
              0.4444444444444444,
              "#bd3786"
             ],
             [
              0.5555555555555556,
              "#d8576b"
             ],
             [
              0.6666666666666666,
              "#ed7953"
             ],
             [
              0.7777777777777778,
              "#fb9f3a"
             ],
             [
              0.8888888888888888,
              "#fdca26"
             ],
             [
              1,
              "#f0f921"
             ]
            ],
            "type": "histogram2dcontour"
           }
          ],
          "mesh3d": [
           {
            "colorbar": {
             "outlinewidth": 0,
             "ticks": ""
            },
            "type": "mesh3d"
           }
          ],
          "parcoords": [
           {
            "line": {
             "colorbar": {
              "outlinewidth": 0,
              "ticks": ""
             }
            },
            "type": "parcoords"
           }
          ],
          "pie": [
           {
            "automargin": true,
            "type": "pie"
           }
          ],
          "scatter": [
           {
            "fillpattern": {
             "fillmode": "overlay",
             "size": 10,
             "solidity": 0.2
            },
            "type": "scatter"
           }
          ],
          "scatter3d": [
           {
            "line": {
             "colorbar": {
              "outlinewidth": 0,
              "ticks": ""
             }
            },
            "marker": {
             "colorbar": {
              "outlinewidth": 0,
              "ticks": ""
             }
            },
            "type": "scatter3d"
           }
          ],
          "scattercarpet": [
           {
            "marker": {
             "colorbar": {
              "outlinewidth": 0,
              "ticks": ""
             }
            },
            "type": "scattercarpet"
           }
          ],
          "scattergeo": [
           {
            "marker": {
             "colorbar": {
              "outlinewidth": 0,
              "ticks": ""
             }
            },
            "type": "scattergeo"
           }
          ],
          "scattergl": [
           {
            "marker": {
             "colorbar": {
              "outlinewidth": 0,
              "ticks": ""
             }
            },
            "type": "scattergl"
           }
          ],
          "scattermap": [
           {
            "marker": {
             "colorbar": {
              "outlinewidth": 0,
              "ticks": ""
             }
            },
            "type": "scattermap"
           }
          ],
          "scattermapbox": [
           {
            "marker": {
             "colorbar": {
              "outlinewidth": 0,
              "ticks": ""
             }
            },
            "type": "scattermapbox"
           }
          ],
          "scatterpolar": [
           {
            "marker": {
             "colorbar": {
              "outlinewidth": 0,
              "ticks": ""
             }
            },
            "type": "scatterpolar"
           }
          ],
          "scatterpolargl": [
           {
            "marker": {
             "colorbar": {
              "outlinewidth": 0,
              "ticks": ""
             }
            },
            "type": "scatterpolargl"
           }
          ],
          "scatterternary": [
           {
            "marker": {
             "colorbar": {
              "outlinewidth": 0,
              "ticks": ""
             }
            },
            "type": "scatterternary"
           }
          ],
          "surface": [
           {
            "colorbar": {
             "outlinewidth": 0,
             "ticks": ""
            },
            "colorscale": [
             [
              0,
              "#0d0887"
             ],
             [
              0.1111111111111111,
              "#46039f"
             ],
             [
              0.2222222222222222,
              "#7201a8"
             ],
             [
              0.3333333333333333,
              "#9c179e"
             ],
             [
              0.4444444444444444,
              "#bd3786"
             ],
             [
              0.5555555555555556,
              "#d8576b"
             ],
             [
              0.6666666666666666,
              "#ed7953"
             ],
             [
              0.7777777777777778,
              "#fb9f3a"
             ],
             [
              0.8888888888888888,
              "#fdca26"
             ],
             [
              1,
              "#f0f921"
             ]
            ],
            "type": "surface"
           }
          ],
          "table": [
           {
            "cells": {
             "fill": {
              "color": "#EBF0F8"
             },
             "line": {
              "color": "white"
             }
            },
            "header": {
             "fill": {
              "color": "#C8D4E3"
             },
             "line": {
              "color": "white"
             }
            },
            "type": "table"
           }
          ]
         },
         "layout": {
          "annotationdefaults": {
           "arrowcolor": "#2a3f5f",
           "arrowhead": 0,
           "arrowwidth": 1
          },
          "autotypenumbers": "strict",
          "coloraxis": {
           "colorbar": {
            "outlinewidth": 0,
            "ticks": ""
           }
          },
          "colorscale": {
           "diverging": [
            [
             0,
             "#8e0152"
            ],
            [
             0.1,
             "#c51b7d"
            ],
            [
             0.2,
             "#de77ae"
            ],
            [
             0.3,
             "#f1b6da"
            ],
            [
             0.4,
             "#fde0ef"
            ],
            [
             0.5,
             "#f7f7f7"
            ],
            [
             0.6,
             "#e6f5d0"
            ],
            [
             0.7,
             "#b8e186"
            ],
            [
             0.8,
             "#7fbc41"
            ],
            [
             0.9,
             "#4d9221"
            ],
            [
             1,
             "#276419"
            ]
           ],
           "sequential": [
            [
             0,
             "#0d0887"
            ],
            [
             0.1111111111111111,
             "#46039f"
            ],
            [
             0.2222222222222222,
             "#7201a8"
            ],
            [
             0.3333333333333333,
             "#9c179e"
            ],
            [
             0.4444444444444444,
             "#bd3786"
            ],
            [
             0.5555555555555556,
             "#d8576b"
            ],
            [
             0.6666666666666666,
             "#ed7953"
            ],
            [
             0.7777777777777778,
             "#fb9f3a"
            ],
            [
             0.8888888888888888,
             "#fdca26"
            ],
            [
             1,
             "#f0f921"
            ]
           ],
           "sequentialminus": [
            [
             0,
             "#0d0887"
            ],
            [
             0.1111111111111111,
             "#46039f"
            ],
            [
             0.2222222222222222,
             "#7201a8"
            ],
            [
             0.3333333333333333,
             "#9c179e"
            ],
            [
             0.4444444444444444,
             "#bd3786"
            ],
            [
             0.5555555555555556,
             "#d8576b"
            ],
            [
             0.6666666666666666,
             "#ed7953"
            ],
            [
             0.7777777777777778,
             "#fb9f3a"
            ],
            [
             0.8888888888888888,
             "#fdca26"
            ],
            [
             1,
             "#f0f921"
            ]
           ]
          },
          "colorway": [
           "#636efa",
           "#EF553B",
           "#00cc96",
           "#ab63fa",
           "#FFA15A",
           "#19d3f3",
           "#FF6692",
           "#B6E880",
           "#FF97FF",
           "#FECB52"
          ],
          "font": {
           "color": "#2a3f5f"
          },
          "geo": {
           "bgcolor": "white",
           "lakecolor": "white",
           "landcolor": "#E5ECF6",
           "showlakes": true,
           "showland": true,
           "subunitcolor": "white"
          },
          "hoverlabel": {
           "align": "left"
          },
          "hovermode": "closest",
          "mapbox": {
           "style": "light"
          },
          "paper_bgcolor": "white",
          "plot_bgcolor": "#E5ECF6",
          "polar": {
           "angularaxis": {
            "gridcolor": "white",
            "linecolor": "white",
            "ticks": ""
           },
           "bgcolor": "#E5ECF6",
           "radialaxis": {
            "gridcolor": "white",
            "linecolor": "white",
            "ticks": ""
           }
          },
          "scene": {
           "xaxis": {
            "backgroundcolor": "#E5ECF6",
            "gridcolor": "white",
            "gridwidth": 2,
            "linecolor": "white",
            "showbackground": true,
            "ticks": "",
            "zerolinecolor": "white"
           },
           "yaxis": {
            "backgroundcolor": "#E5ECF6",
            "gridcolor": "white",
            "gridwidth": 2,
            "linecolor": "white",
            "showbackground": true,
            "ticks": "",
            "zerolinecolor": "white"
           },
           "zaxis": {
            "backgroundcolor": "#E5ECF6",
            "gridcolor": "white",
            "gridwidth": 2,
            "linecolor": "white",
            "showbackground": true,
            "ticks": "",
            "zerolinecolor": "white"
           }
          },
          "shapedefaults": {
           "line": {
            "color": "#2a3f5f"
           }
          },
          "ternary": {
           "aaxis": {
            "gridcolor": "white",
            "linecolor": "white",
            "ticks": ""
           },
           "baxis": {
            "gridcolor": "white",
            "linecolor": "white",
            "ticks": ""
           },
           "bgcolor": "#E5ECF6",
           "caxis": {
            "gridcolor": "white",
            "linecolor": "white",
            "ticks": ""
           }
          },
          "title": {
           "x": 0.05
          },
          "xaxis": {
           "automargin": true,
           "gridcolor": "white",
           "linecolor": "white",
           "ticks": "",
           "title": {
            "standoff": 15
           },
           "zerolinecolor": "white",
           "zerolinewidth": 2
          },
          "yaxis": {
           "automargin": true,
           "gridcolor": "white",
           "linecolor": "white",
           "ticks": "",
           "title": {
            "standoff": 15
           },
           "zerolinecolor": "white",
           "zerolinewidth": 2
          }
         }
        },
        "title": {
         "text": "Relationship between Story Length and Performance Metrics"
        },
        "xaxis": {
         "anchor": "y",
         "domain": [
          0,
          0.26666666666666666
         ],
         "title": {
          "text": "chapters"
         }
        },
        "xaxis2": {
         "anchor": "y2",
         "domain": [
          0.3666666666666667,
          0.6333333333333333
         ],
         "title": {
          "text": "chapters"
         }
        },
        "xaxis3": {
         "anchor": "y3",
         "domain": [
          0.7333333333333334,
          1
         ],
         "title": {
          "text": "chapters"
         }
        },
        "xaxis4": {
         "anchor": "y4",
         "domain": [
          0,
          0.26666666666666666
         ],
         "title": {
          "text": "pages"
         }
        },
        "xaxis5": {
         "anchor": "y5",
         "domain": [
          0.3666666666666667,
          0.6333333333333333
         ],
         "title": {
          "text": "pages"
         }
        },
        "xaxis6": {
         "anchor": "y6",
         "domain": [
          0.7333333333333334,
          1
         ],
         "title": {
          "text": "pages"
         }
        },
        "yaxis": {
         "anchor": "x",
         "domain": [
          0.575,
          1
         ],
         "title": {
          "text": "views"
         }
        },
        "yaxis2": {
         "anchor": "x2",
         "domain": [
          0.575,
          1
         ],
         "title": {
          "text": "rating"
         }
        },
        "yaxis3": {
         "anchor": "x3",
         "domain": [
          0.575,
          1
         ],
         "title": {
          "text": "followers"
         }
        },
        "yaxis4": {
         "anchor": "x4",
         "domain": [
          0,
          0.425
         ],
         "title": {
          "text": "views"
         }
        },
        "yaxis5": {
         "anchor": "x5",
         "domain": [
          0,
          0.425
         ],
         "title": {
          "text": "rating"
         }
        },
        "yaxis6": {
         "anchor": "x6",
         "domain": [
          0,
          0.425
         ],
         "title": {
          "text": "followers"
         }
        }
       }
      }
     },
     "metadata": {},
     "output_type": "display_data"
    },
    {
     "name": "stdout",
     "output_type": "stream",
     "text": [
      "\n",
      "Chapters Bucket Ranges:\n",
      "Bucket 1: 7.0 to 32.0 chapters\n",
      "Bucket 2: 36.0 to 59.0 chapters\n",
      "Bucket 3: 62.0 to 72.0 chapters\n",
      "Bucket 4: 74.0 to 94.0 chapters\n",
      "Bucket 5: 96.0 to 126.0 chapters\n",
      "Bucket 6: 135.0 to 153.0 chapters\n",
      "Bucket 7: 154.0 to 175.0 chapters\n",
      "Bucket 8: 187.0 to 234.0 chapters\n",
      "Bucket 9: 239.0 to 387.0 chapters\n",
      "Bucket 10: 429.0 to 4000.0 chapters\n"
     ]
    },
    {
     "name": "stderr",
     "output_type": "stream",
     "text": [
      "C:\\Users\\swapn\\AppData\\Local\\Temp\\ipykernel_21104\\1529275039.py:78: FutureWarning:\n",
      "\n",
      "The default of observed=False is deprecated and will be changed to True in a future version of pandas. Pass observed=False to retain current behavior or observed=True to adopt the future default and silence this warning.\n",
      "\n",
      "C:\\Users\\swapn\\AppData\\Local\\Temp\\ipykernel_21104\\1529275039.py:81: FutureWarning:\n",
      "\n",
      "The default of observed=False is deprecated and will be changed to True in a future version of pandas. Pass observed=False to retain current behavior or observed=True to adopt the future default and silence this warning.\n",
      "\n"
     ]
    },
    {
     "data": {
      "application/vnd.plotly.v1+json": {
       "config": {
        "plotlyServerURL": "https://plot.ly"
       },
       "data": [
        {
         "name": "views",
         "text": {
          "bdata": "7FG4Hp2J7kDsUbgejez6QNejcD2GsRFBzczMzJADH0FmZmZmEV8qQQAAAACW7ghBFK5H4V4+NkHNzMzMkjwtQZqZmZnt10FBj8L1aJ2zQ0E=",
          "dtype": "f8"
         },
         "textposition": "auto",
         "type": "bar",
         "x": [
          "Bucket 1",
          "Bucket 2",
          "Bucket 3",
          "Bucket 4",
          "Bucket 5",
          "Bucket 6",
          "Bucket 7",
          "Bucket 8",
          "Bucket 9",
          "Bucket 10"
         ],
         "y": {
          "bdata": "dNFFF52J7kB00UUXjez6QDmO4ziGsRFBzczMzJADH0FmZmZmEV8qQQAAAACW7ghBAAAA4F4+NkHNzMzMkjwtQZqZmZnt10FBjC66aJ2zQ0E=",
          "dtype": "f8"
         }
        }
       ],
       "layout": {
        "height": 500,
        "template": {
         "data": {
          "bar": [
           {
            "error_x": {
             "color": "#2a3f5f"
            },
            "error_y": {
             "color": "#2a3f5f"
            },
            "marker": {
             "line": {
              "color": "#E5ECF6",
              "width": 0.5
             },
             "pattern": {
              "fillmode": "overlay",
              "size": 10,
              "solidity": 0.2
             }
            },
            "type": "bar"
           }
          ],
          "barpolar": [
           {
            "marker": {
             "line": {
              "color": "#E5ECF6",
              "width": 0.5
             },
             "pattern": {
              "fillmode": "overlay",
              "size": 10,
              "solidity": 0.2
             }
            },
            "type": "barpolar"
           }
          ],
          "carpet": [
           {
            "aaxis": {
             "endlinecolor": "#2a3f5f",
             "gridcolor": "white",
             "linecolor": "white",
             "minorgridcolor": "white",
             "startlinecolor": "#2a3f5f"
            },
            "baxis": {
             "endlinecolor": "#2a3f5f",
             "gridcolor": "white",
             "linecolor": "white",
             "minorgridcolor": "white",
             "startlinecolor": "#2a3f5f"
            },
            "type": "carpet"
           }
          ],
          "choropleth": [
           {
            "colorbar": {
             "outlinewidth": 0,
             "ticks": ""
            },
            "type": "choropleth"
           }
          ],
          "contour": [
           {
            "colorbar": {
             "outlinewidth": 0,
             "ticks": ""
            },
            "colorscale": [
             [
              0,
              "#0d0887"
             ],
             [
              0.1111111111111111,
              "#46039f"
             ],
             [
              0.2222222222222222,
              "#7201a8"
             ],
             [
              0.3333333333333333,
              "#9c179e"
             ],
             [
              0.4444444444444444,
              "#bd3786"
             ],
             [
              0.5555555555555556,
              "#d8576b"
             ],
             [
              0.6666666666666666,
              "#ed7953"
             ],
             [
              0.7777777777777778,
              "#fb9f3a"
             ],
             [
              0.8888888888888888,
              "#fdca26"
             ],
             [
              1,
              "#f0f921"
             ]
            ],
            "type": "contour"
           }
          ],
          "contourcarpet": [
           {
            "colorbar": {
             "outlinewidth": 0,
             "ticks": ""
            },
            "type": "contourcarpet"
           }
          ],
          "heatmap": [
           {
            "colorbar": {
             "outlinewidth": 0,
             "ticks": ""
            },
            "colorscale": [
             [
              0,
              "#0d0887"
             ],
             [
              0.1111111111111111,
              "#46039f"
             ],
             [
              0.2222222222222222,
              "#7201a8"
             ],
             [
              0.3333333333333333,
              "#9c179e"
             ],
             [
              0.4444444444444444,
              "#bd3786"
             ],
             [
              0.5555555555555556,
              "#d8576b"
             ],
             [
              0.6666666666666666,
              "#ed7953"
             ],
             [
              0.7777777777777778,
              "#fb9f3a"
             ],
             [
              0.8888888888888888,
              "#fdca26"
             ],
             [
              1,
              "#f0f921"
             ]
            ],
            "type": "heatmap"
           }
          ],
          "histogram": [
           {
            "marker": {
             "pattern": {
              "fillmode": "overlay",
              "size": 10,
              "solidity": 0.2
             }
            },
            "type": "histogram"
           }
          ],
          "histogram2d": [
           {
            "colorbar": {
             "outlinewidth": 0,
             "ticks": ""
            },
            "colorscale": [
             [
              0,
              "#0d0887"
             ],
             [
              0.1111111111111111,
              "#46039f"
             ],
             [
              0.2222222222222222,
              "#7201a8"
             ],
             [
              0.3333333333333333,
              "#9c179e"
             ],
             [
              0.4444444444444444,
              "#bd3786"
             ],
             [
              0.5555555555555556,
              "#d8576b"
             ],
             [
              0.6666666666666666,
              "#ed7953"
             ],
             [
              0.7777777777777778,
              "#fb9f3a"
             ],
             [
              0.8888888888888888,
              "#fdca26"
             ],
             [
              1,
              "#f0f921"
             ]
            ],
            "type": "histogram2d"
           }
          ],
          "histogram2dcontour": [
           {
            "colorbar": {
             "outlinewidth": 0,
             "ticks": ""
            },
            "colorscale": [
             [
              0,
              "#0d0887"
             ],
             [
              0.1111111111111111,
              "#46039f"
             ],
             [
              0.2222222222222222,
              "#7201a8"
             ],
             [
              0.3333333333333333,
              "#9c179e"
             ],
             [
              0.4444444444444444,
              "#bd3786"
             ],
             [
              0.5555555555555556,
              "#d8576b"
             ],
             [
              0.6666666666666666,
              "#ed7953"
             ],
             [
              0.7777777777777778,
              "#fb9f3a"
             ],
             [
              0.8888888888888888,
              "#fdca26"
             ],
             [
              1,
              "#f0f921"
             ]
            ],
            "type": "histogram2dcontour"
           }
          ],
          "mesh3d": [
           {
            "colorbar": {
             "outlinewidth": 0,
             "ticks": ""
            },
            "type": "mesh3d"
           }
          ],
          "parcoords": [
           {
            "line": {
             "colorbar": {
              "outlinewidth": 0,
              "ticks": ""
             }
            },
            "type": "parcoords"
           }
          ],
          "pie": [
           {
            "automargin": true,
            "type": "pie"
           }
          ],
          "scatter": [
           {
            "fillpattern": {
             "fillmode": "overlay",
             "size": 10,
             "solidity": 0.2
            },
            "type": "scatter"
           }
          ],
          "scatter3d": [
           {
            "line": {
             "colorbar": {
              "outlinewidth": 0,
              "ticks": ""
             }
            },
            "marker": {
             "colorbar": {
              "outlinewidth": 0,
              "ticks": ""
             }
            },
            "type": "scatter3d"
           }
          ],
          "scattercarpet": [
           {
            "marker": {
             "colorbar": {
              "outlinewidth": 0,
              "ticks": ""
             }
            },
            "type": "scattercarpet"
           }
          ],
          "scattergeo": [
           {
            "marker": {
             "colorbar": {
              "outlinewidth": 0,
              "ticks": ""
             }
            },
            "type": "scattergeo"
           }
          ],
          "scattergl": [
           {
            "marker": {
             "colorbar": {
              "outlinewidth": 0,
              "ticks": ""
             }
            },
            "type": "scattergl"
           }
          ],
          "scattermap": [
           {
            "marker": {
             "colorbar": {
              "outlinewidth": 0,
              "ticks": ""
             }
            },
            "type": "scattermap"
           }
          ],
          "scattermapbox": [
           {
            "marker": {
             "colorbar": {
              "outlinewidth": 0,
              "ticks": ""
             }
            },
            "type": "scattermapbox"
           }
          ],
          "scatterpolar": [
           {
            "marker": {
             "colorbar": {
              "outlinewidth": 0,
              "ticks": ""
             }
            },
            "type": "scatterpolar"
           }
          ],
          "scatterpolargl": [
           {
            "marker": {
             "colorbar": {
              "outlinewidth": 0,
              "ticks": ""
             }
            },
            "type": "scatterpolargl"
           }
          ],
          "scatterternary": [
           {
            "marker": {
             "colorbar": {
              "outlinewidth": 0,
              "ticks": ""
             }
            },
            "type": "scatterternary"
           }
          ],
          "surface": [
           {
            "colorbar": {
             "outlinewidth": 0,
             "ticks": ""
            },
            "colorscale": [
             [
              0,
              "#0d0887"
             ],
             [
              0.1111111111111111,
              "#46039f"
             ],
             [
              0.2222222222222222,
              "#7201a8"
             ],
             [
              0.3333333333333333,
              "#9c179e"
             ],
             [
              0.4444444444444444,
              "#bd3786"
             ],
             [
              0.5555555555555556,
              "#d8576b"
             ],
             [
              0.6666666666666666,
              "#ed7953"
             ],
             [
              0.7777777777777778,
              "#fb9f3a"
             ],
             [
              0.8888888888888888,
              "#fdca26"
             ],
             [
              1,
              "#f0f921"
             ]
            ],
            "type": "surface"
           }
          ],
          "table": [
           {
            "cells": {
             "fill": {
              "color": "#EBF0F8"
             },
             "line": {
              "color": "white"
             }
            },
            "header": {
             "fill": {
              "color": "#C8D4E3"
             },
             "line": {
              "color": "white"
             }
            },
            "type": "table"
           }
          ]
         },
         "layout": {
          "annotationdefaults": {
           "arrowcolor": "#2a3f5f",
           "arrowhead": 0,
           "arrowwidth": 1
          },
          "autotypenumbers": "strict",
          "coloraxis": {
           "colorbar": {
            "outlinewidth": 0,
            "ticks": ""
           }
          },
          "colorscale": {
           "diverging": [
            [
             0,
             "#8e0152"
            ],
            [
             0.1,
             "#c51b7d"
            ],
            [
             0.2,
             "#de77ae"
            ],
            [
             0.3,
             "#f1b6da"
            ],
            [
             0.4,
             "#fde0ef"
            ],
            [
             0.5,
             "#f7f7f7"
            ],
            [
             0.6,
             "#e6f5d0"
            ],
            [
             0.7,
             "#b8e186"
            ],
            [
             0.8,
             "#7fbc41"
            ],
            [
             0.9,
             "#4d9221"
            ],
            [
             1,
             "#276419"
            ]
           ],
           "sequential": [
            [
             0,
             "#0d0887"
            ],
            [
             0.1111111111111111,
             "#46039f"
            ],
            [
             0.2222222222222222,
             "#7201a8"
            ],
            [
             0.3333333333333333,
             "#9c179e"
            ],
            [
             0.4444444444444444,
             "#bd3786"
            ],
            [
             0.5555555555555556,
             "#d8576b"
            ],
            [
             0.6666666666666666,
             "#ed7953"
            ],
            [
             0.7777777777777778,
             "#fb9f3a"
            ],
            [
             0.8888888888888888,
             "#fdca26"
            ],
            [
             1,
             "#f0f921"
            ]
           ],
           "sequentialminus": [
            [
             0,
             "#0d0887"
            ],
            [
             0.1111111111111111,
             "#46039f"
            ],
            [
             0.2222222222222222,
             "#7201a8"
            ],
            [
             0.3333333333333333,
             "#9c179e"
            ],
            [
             0.4444444444444444,
             "#bd3786"
            ],
            [
             0.5555555555555556,
             "#d8576b"
            ],
            [
             0.6666666666666666,
             "#ed7953"
            ],
            [
             0.7777777777777778,
             "#fb9f3a"
            ],
            [
             0.8888888888888888,
             "#fdca26"
            ],
            [
             1,
             "#f0f921"
            ]
           ]
          },
          "colorway": [
           "#636efa",
           "#EF553B",
           "#00cc96",
           "#ab63fa",
           "#FFA15A",
           "#19d3f3",
           "#FF6692",
           "#B6E880",
           "#FF97FF",
           "#FECB52"
          ],
          "font": {
           "color": "#2a3f5f"
          },
          "geo": {
           "bgcolor": "white",
           "lakecolor": "white",
           "landcolor": "#E5ECF6",
           "showlakes": true,
           "showland": true,
           "subunitcolor": "white"
          },
          "hoverlabel": {
           "align": "left"
          },
          "hovermode": "closest",
          "mapbox": {
           "style": "light"
          },
          "paper_bgcolor": "white",
          "plot_bgcolor": "#E5ECF6",
          "polar": {
           "angularaxis": {
            "gridcolor": "white",
            "linecolor": "white",
            "ticks": ""
           },
           "bgcolor": "#E5ECF6",
           "radialaxis": {
            "gridcolor": "white",
            "linecolor": "white",
            "ticks": ""
           }
          },
          "scene": {
           "xaxis": {
            "backgroundcolor": "#E5ECF6",
            "gridcolor": "white",
            "gridwidth": 2,
            "linecolor": "white",
            "showbackground": true,
            "ticks": "",
            "zerolinecolor": "white"
           },
           "yaxis": {
            "backgroundcolor": "#E5ECF6",
            "gridcolor": "white",
            "gridwidth": 2,
            "linecolor": "white",
            "showbackground": true,
            "ticks": "",
            "zerolinecolor": "white"
           },
           "zaxis": {
            "backgroundcolor": "#E5ECF6",
            "gridcolor": "white",
            "gridwidth": 2,
            "linecolor": "white",
            "showbackground": true,
            "ticks": "",
            "zerolinecolor": "white"
           }
          },
          "shapedefaults": {
           "line": {
            "color": "#2a3f5f"
           }
          },
          "ternary": {
           "aaxis": {
            "gridcolor": "white",
            "linecolor": "white",
            "ticks": ""
           },
           "baxis": {
            "gridcolor": "white",
            "linecolor": "white",
            "ticks": ""
           },
           "bgcolor": "#E5ECF6",
           "caxis": {
            "gridcolor": "white",
            "linecolor": "white",
            "ticks": ""
           }
          },
          "title": {
           "x": 0.05
          },
          "xaxis": {
           "automargin": true,
           "gridcolor": "white",
           "linecolor": "white",
           "ticks": "",
           "title": {
            "standoff": 15
           },
           "zerolinecolor": "white",
           "zerolinewidth": 2
          },
          "yaxis": {
           "automargin": true,
           "gridcolor": "white",
           "linecolor": "white",
           "ticks": "",
           "title": {
            "standoff": 15
           },
           "zerolinecolor": "white",
           "zerolinewidth": 2
          }
         }
        },
        "title": {
         "text": "Average Views by Chapters Buckets"
        },
        "width": 800,
        "xaxis": {
         "title": {
          "text": "Chapters Buckets (Equal Sized Groups)"
         }
        },
        "yaxis": {
         "title": {
          "text": "Average Views"
         },
         "type": "log"
        }
       }
      }
     },
     "metadata": {},
     "output_type": "display_data"
    },
    {
     "data": {
      "application/vnd.plotly.v1+json": {
       "config": {
        "plotlyServerURL": "https://plot.ly"
       },
       "data": [
        {
         "name": "rating",
         "text": {
          "bdata": "16NwPQrXEUDD9Shcj8ISQB+F61G4HhJAFK5H4XoUEkDXo3A9CtcRQHE9CtejcBFA16NwPQrXEUCkcD0K16MRQEjhehSuRxFAj8L1KFyPEEA=",
          "dtype": "f8"
         },
         "textposition": "auto",
         "type": "bar",
         "x": [
          "Bucket 1",
          "Bucket 2",
          "Bucket 3",
          "Bucket 4",
          "Bucket 5",
          "Bucket 6",
          "Bucket 7",
          "Bucket 8",
          "Bucket 9",
          "Bucket 10"
         ],
         "y": {
          "bdata": "2lKdLdXZEUDFpFVMWsUSQMsOU5fbHxJAZTvfT40XEkBcj8L1KNwRQHE9CtejcBFAmpmZmZnZEUCkcD0K16MRQEjhehSuRxFAjC666KKLEEA=",
          "dtype": "f8"
         }
        }
       ],
       "layout": {
        "height": 500,
        "template": {
         "data": {
          "bar": [
           {
            "error_x": {
             "color": "#2a3f5f"
            },
            "error_y": {
             "color": "#2a3f5f"
            },
            "marker": {
             "line": {
              "color": "#E5ECF6",
              "width": 0.5
             },
             "pattern": {
              "fillmode": "overlay",
              "size": 10,
              "solidity": 0.2
             }
            },
            "type": "bar"
           }
          ],
          "barpolar": [
           {
            "marker": {
             "line": {
              "color": "#E5ECF6",
              "width": 0.5
             },
             "pattern": {
              "fillmode": "overlay",
              "size": 10,
              "solidity": 0.2
             }
            },
            "type": "barpolar"
           }
          ],
          "carpet": [
           {
            "aaxis": {
             "endlinecolor": "#2a3f5f",
             "gridcolor": "white",
             "linecolor": "white",
             "minorgridcolor": "white",
             "startlinecolor": "#2a3f5f"
            },
            "baxis": {
             "endlinecolor": "#2a3f5f",
             "gridcolor": "white",
             "linecolor": "white",
             "minorgridcolor": "white",
             "startlinecolor": "#2a3f5f"
            },
            "type": "carpet"
           }
          ],
          "choropleth": [
           {
            "colorbar": {
             "outlinewidth": 0,
             "ticks": ""
            },
            "type": "choropleth"
           }
          ],
          "contour": [
           {
            "colorbar": {
             "outlinewidth": 0,
             "ticks": ""
            },
            "colorscale": [
             [
              0,
              "#0d0887"
             ],
             [
              0.1111111111111111,
              "#46039f"
             ],
             [
              0.2222222222222222,
              "#7201a8"
             ],
             [
              0.3333333333333333,
              "#9c179e"
             ],
             [
              0.4444444444444444,
              "#bd3786"
             ],
             [
              0.5555555555555556,
              "#d8576b"
             ],
             [
              0.6666666666666666,
              "#ed7953"
             ],
             [
              0.7777777777777778,
              "#fb9f3a"
             ],
             [
              0.8888888888888888,
              "#fdca26"
             ],
             [
              1,
              "#f0f921"
             ]
            ],
            "type": "contour"
           }
          ],
          "contourcarpet": [
           {
            "colorbar": {
             "outlinewidth": 0,
             "ticks": ""
            },
            "type": "contourcarpet"
           }
          ],
          "heatmap": [
           {
            "colorbar": {
             "outlinewidth": 0,
             "ticks": ""
            },
            "colorscale": [
             [
              0,
              "#0d0887"
             ],
             [
              0.1111111111111111,
              "#46039f"
             ],
             [
              0.2222222222222222,
              "#7201a8"
             ],
             [
              0.3333333333333333,
              "#9c179e"
             ],
             [
              0.4444444444444444,
              "#bd3786"
             ],
             [
              0.5555555555555556,
              "#d8576b"
             ],
             [
              0.6666666666666666,
              "#ed7953"
             ],
             [
              0.7777777777777778,
              "#fb9f3a"
             ],
             [
              0.8888888888888888,
              "#fdca26"
             ],
             [
              1,
              "#f0f921"
             ]
            ],
            "type": "heatmap"
           }
          ],
          "histogram": [
           {
            "marker": {
             "pattern": {
              "fillmode": "overlay",
              "size": 10,
              "solidity": 0.2
             }
            },
            "type": "histogram"
           }
          ],
          "histogram2d": [
           {
            "colorbar": {
             "outlinewidth": 0,
             "ticks": ""
            },
            "colorscale": [
             [
              0,
              "#0d0887"
             ],
             [
              0.1111111111111111,
              "#46039f"
             ],
             [
              0.2222222222222222,
              "#7201a8"
             ],
             [
              0.3333333333333333,
              "#9c179e"
             ],
             [
              0.4444444444444444,
              "#bd3786"
             ],
             [
              0.5555555555555556,
              "#d8576b"
             ],
             [
              0.6666666666666666,
              "#ed7953"
             ],
             [
              0.7777777777777778,
              "#fb9f3a"
             ],
             [
              0.8888888888888888,
              "#fdca26"
             ],
             [
              1,
              "#f0f921"
             ]
            ],
            "type": "histogram2d"
           }
          ],
          "histogram2dcontour": [
           {
            "colorbar": {
             "outlinewidth": 0,
             "ticks": ""
            },
            "colorscale": [
             [
              0,
              "#0d0887"
             ],
             [
              0.1111111111111111,
              "#46039f"
             ],
             [
              0.2222222222222222,
              "#7201a8"
             ],
             [
              0.3333333333333333,
              "#9c179e"
             ],
             [
              0.4444444444444444,
              "#bd3786"
             ],
             [
              0.5555555555555556,
              "#d8576b"
             ],
             [
              0.6666666666666666,
              "#ed7953"
             ],
             [
              0.7777777777777778,
              "#fb9f3a"
             ],
             [
              0.8888888888888888,
              "#fdca26"
             ],
             [
              1,
              "#f0f921"
             ]
            ],
            "type": "histogram2dcontour"
           }
          ],
          "mesh3d": [
           {
            "colorbar": {
             "outlinewidth": 0,
             "ticks": ""
            },
            "type": "mesh3d"
           }
          ],
          "parcoords": [
           {
            "line": {
             "colorbar": {
              "outlinewidth": 0,
              "ticks": ""
             }
            },
            "type": "parcoords"
           }
          ],
          "pie": [
           {
            "automargin": true,
            "type": "pie"
           }
          ],
          "scatter": [
           {
            "fillpattern": {
             "fillmode": "overlay",
             "size": 10,
             "solidity": 0.2
            },
            "type": "scatter"
           }
          ],
          "scatter3d": [
           {
            "line": {
             "colorbar": {
              "outlinewidth": 0,
              "ticks": ""
             }
            },
            "marker": {
             "colorbar": {
              "outlinewidth": 0,
              "ticks": ""
             }
            },
            "type": "scatter3d"
           }
          ],
          "scattercarpet": [
           {
            "marker": {
             "colorbar": {
              "outlinewidth": 0,
              "ticks": ""
             }
            },
            "type": "scattercarpet"
           }
          ],
          "scattergeo": [
           {
            "marker": {
             "colorbar": {
              "outlinewidth": 0,
              "ticks": ""
             }
            },
            "type": "scattergeo"
           }
          ],
          "scattergl": [
           {
            "marker": {
             "colorbar": {
              "outlinewidth": 0,
              "ticks": ""
             }
            },
            "type": "scattergl"
           }
          ],
          "scattermap": [
           {
            "marker": {
             "colorbar": {
              "outlinewidth": 0,
              "ticks": ""
             }
            },
            "type": "scattermap"
           }
          ],
          "scattermapbox": [
           {
            "marker": {
             "colorbar": {
              "outlinewidth": 0,
              "ticks": ""
             }
            },
            "type": "scattermapbox"
           }
          ],
          "scatterpolar": [
           {
            "marker": {
             "colorbar": {
              "outlinewidth": 0,
              "ticks": ""
             }
            },
            "type": "scatterpolar"
           }
          ],
          "scatterpolargl": [
           {
            "marker": {
             "colorbar": {
              "outlinewidth": 0,
              "ticks": ""
             }
            },
            "type": "scatterpolargl"
           }
          ],
          "scatterternary": [
           {
            "marker": {
             "colorbar": {
              "outlinewidth": 0,
              "ticks": ""
             }
            },
            "type": "scatterternary"
           }
          ],
          "surface": [
           {
            "colorbar": {
             "outlinewidth": 0,
             "ticks": ""
            },
            "colorscale": [
             [
              0,
              "#0d0887"
             ],
             [
              0.1111111111111111,
              "#46039f"
             ],
             [
              0.2222222222222222,
              "#7201a8"
             ],
             [
              0.3333333333333333,
              "#9c179e"
             ],
             [
              0.4444444444444444,
              "#bd3786"
             ],
             [
              0.5555555555555556,
              "#d8576b"
             ],
             [
              0.6666666666666666,
              "#ed7953"
             ],
             [
              0.7777777777777778,
              "#fb9f3a"
             ],
             [
              0.8888888888888888,
              "#fdca26"
             ],
             [
              1,
              "#f0f921"
             ]
            ],
            "type": "surface"
           }
          ],
          "table": [
           {
            "cells": {
             "fill": {
              "color": "#EBF0F8"
             },
             "line": {
              "color": "white"
             }
            },
            "header": {
             "fill": {
              "color": "#C8D4E3"
             },
             "line": {
              "color": "white"
             }
            },
            "type": "table"
           }
          ]
         },
         "layout": {
          "annotationdefaults": {
           "arrowcolor": "#2a3f5f",
           "arrowhead": 0,
           "arrowwidth": 1
          },
          "autotypenumbers": "strict",
          "coloraxis": {
           "colorbar": {
            "outlinewidth": 0,
            "ticks": ""
           }
          },
          "colorscale": {
           "diverging": [
            [
             0,
             "#8e0152"
            ],
            [
             0.1,
             "#c51b7d"
            ],
            [
             0.2,
             "#de77ae"
            ],
            [
             0.3,
             "#f1b6da"
            ],
            [
             0.4,
             "#fde0ef"
            ],
            [
             0.5,
             "#f7f7f7"
            ],
            [
             0.6,
             "#e6f5d0"
            ],
            [
             0.7,
             "#b8e186"
            ],
            [
             0.8,
             "#7fbc41"
            ],
            [
             0.9,
             "#4d9221"
            ],
            [
             1,
             "#276419"
            ]
           ],
           "sequential": [
            [
             0,
             "#0d0887"
            ],
            [
             0.1111111111111111,
             "#46039f"
            ],
            [
             0.2222222222222222,
             "#7201a8"
            ],
            [
             0.3333333333333333,
             "#9c179e"
            ],
            [
             0.4444444444444444,
             "#bd3786"
            ],
            [
             0.5555555555555556,
             "#d8576b"
            ],
            [
             0.6666666666666666,
             "#ed7953"
            ],
            [
             0.7777777777777778,
             "#fb9f3a"
            ],
            [
             0.8888888888888888,
             "#fdca26"
            ],
            [
             1,
             "#f0f921"
            ]
           ],
           "sequentialminus": [
            [
             0,
             "#0d0887"
            ],
            [
             0.1111111111111111,
             "#46039f"
            ],
            [
             0.2222222222222222,
             "#7201a8"
            ],
            [
             0.3333333333333333,
             "#9c179e"
            ],
            [
             0.4444444444444444,
             "#bd3786"
            ],
            [
             0.5555555555555556,
             "#d8576b"
            ],
            [
             0.6666666666666666,
             "#ed7953"
            ],
            [
             0.7777777777777778,
             "#fb9f3a"
            ],
            [
             0.8888888888888888,
             "#fdca26"
            ],
            [
             1,
             "#f0f921"
            ]
           ]
          },
          "colorway": [
           "#636efa",
           "#EF553B",
           "#00cc96",
           "#ab63fa",
           "#FFA15A",
           "#19d3f3",
           "#FF6692",
           "#B6E880",
           "#FF97FF",
           "#FECB52"
          ],
          "font": {
           "color": "#2a3f5f"
          },
          "geo": {
           "bgcolor": "white",
           "lakecolor": "white",
           "landcolor": "#E5ECF6",
           "showlakes": true,
           "showland": true,
           "subunitcolor": "white"
          },
          "hoverlabel": {
           "align": "left"
          },
          "hovermode": "closest",
          "mapbox": {
           "style": "light"
          },
          "paper_bgcolor": "white",
          "plot_bgcolor": "#E5ECF6",
          "polar": {
           "angularaxis": {
            "gridcolor": "white",
            "linecolor": "white",
            "ticks": ""
           },
           "bgcolor": "#E5ECF6",
           "radialaxis": {
            "gridcolor": "white",
            "linecolor": "white",
            "ticks": ""
           }
          },
          "scene": {
           "xaxis": {
            "backgroundcolor": "#E5ECF6",
            "gridcolor": "white",
            "gridwidth": 2,
            "linecolor": "white",
            "showbackground": true,
            "ticks": "",
            "zerolinecolor": "white"
           },
           "yaxis": {
            "backgroundcolor": "#E5ECF6",
            "gridcolor": "white",
            "gridwidth": 2,
            "linecolor": "white",
            "showbackground": true,
            "ticks": "",
            "zerolinecolor": "white"
           },
           "zaxis": {
            "backgroundcolor": "#E5ECF6",
            "gridcolor": "white",
            "gridwidth": 2,
            "linecolor": "white",
            "showbackground": true,
            "ticks": "",
            "zerolinecolor": "white"
           }
          },
          "shapedefaults": {
           "line": {
            "color": "#2a3f5f"
           }
          },
          "ternary": {
           "aaxis": {
            "gridcolor": "white",
            "linecolor": "white",
            "ticks": ""
           },
           "baxis": {
            "gridcolor": "white",
            "linecolor": "white",
            "ticks": ""
           },
           "bgcolor": "#E5ECF6",
           "caxis": {
            "gridcolor": "white",
            "linecolor": "white",
            "ticks": ""
           }
          },
          "title": {
           "x": 0.05
          },
          "xaxis": {
           "automargin": true,
           "gridcolor": "white",
           "linecolor": "white",
           "ticks": "",
           "title": {
            "standoff": 15
           },
           "zerolinecolor": "white",
           "zerolinewidth": 2
          },
          "yaxis": {
           "automargin": true,
           "gridcolor": "white",
           "linecolor": "white",
           "ticks": "",
           "title": {
            "standoff": 15
           },
           "zerolinecolor": "white",
           "zerolinewidth": 2
          }
         }
        },
        "title": {
         "text": "Average Rating by Chapters Buckets"
        },
        "width": 800,
        "xaxis": {
         "title": {
          "text": "Chapters Buckets (Equal Sized Groups)"
         }
        },
        "yaxis": {
         "title": {
          "text": "Average Rating"
         }
        }
       }
      }
     },
     "metadata": {},
     "output_type": "display_data"
    },
    {
     "data": {
      "application/vnd.plotly.v1+json": {
       "config": {
        "plotlyServerURL": "https://plot.ly"
       },
       "data": [
        {
         "name": "followers",
         "text": {
          "bdata": "hetRuB4tjkAAAAAAALyRQAAAAAAAKKJAMzMzMzM6qUAAAAAAAK2tQHE9CtejDoVAAAAAAMDtsUAAAAAAAFCiQAAAAAAAYapAUrgehet6n0A=",
          "dtype": "f8"
         },
         "textposition": "auto",
         "type": "bar",
         "x": [
          "Bucket 1",
          "Bucket 2",
          "Bucket 3",
          "Bucket 4",
          "Bucket 5",
          "Bucket 6",
          "Bucket 7",
          "Bucket 8",
          "Bucket 9",
          "Bucket 10"
         ],
         "y": {
          "bdata": "XXTRRRctjkAAAAAAALyRQAAAAAAAKKJAMzMzMzM6qUAAAAAAAK2tQKuqqqqqDoVAAAAAAMDtsUAAAAAAAFCiQAAAAAAAYapAo4suuuh6n0A=",
          "dtype": "f8"
         }
        }
       ],
       "layout": {
        "height": 500,
        "template": {
         "data": {
          "bar": [
           {
            "error_x": {
             "color": "#2a3f5f"
            },
            "error_y": {
             "color": "#2a3f5f"
            },
            "marker": {
             "line": {
              "color": "#E5ECF6",
              "width": 0.5
             },
             "pattern": {
              "fillmode": "overlay",
              "size": 10,
              "solidity": 0.2
             }
            },
            "type": "bar"
           }
          ],
          "barpolar": [
           {
            "marker": {
             "line": {
              "color": "#E5ECF6",
              "width": 0.5
             },
             "pattern": {
              "fillmode": "overlay",
              "size": 10,
              "solidity": 0.2
             }
            },
            "type": "barpolar"
           }
          ],
          "carpet": [
           {
            "aaxis": {
             "endlinecolor": "#2a3f5f",
             "gridcolor": "white",
             "linecolor": "white",
             "minorgridcolor": "white",
             "startlinecolor": "#2a3f5f"
            },
            "baxis": {
             "endlinecolor": "#2a3f5f",
             "gridcolor": "white",
             "linecolor": "white",
             "minorgridcolor": "white",
             "startlinecolor": "#2a3f5f"
            },
            "type": "carpet"
           }
          ],
          "choropleth": [
           {
            "colorbar": {
             "outlinewidth": 0,
             "ticks": ""
            },
            "type": "choropleth"
           }
          ],
          "contour": [
           {
            "colorbar": {
             "outlinewidth": 0,
             "ticks": ""
            },
            "colorscale": [
             [
              0,
              "#0d0887"
             ],
             [
              0.1111111111111111,
              "#46039f"
             ],
             [
              0.2222222222222222,
              "#7201a8"
             ],
             [
              0.3333333333333333,
              "#9c179e"
             ],
             [
              0.4444444444444444,
              "#bd3786"
             ],
             [
              0.5555555555555556,
              "#d8576b"
             ],
             [
              0.6666666666666666,
              "#ed7953"
             ],
             [
              0.7777777777777778,
              "#fb9f3a"
             ],
             [
              0.8888888888888888,
              "#fdca26"
             ],
             [
              1,
              "#f0f921"
             ]
            ],
            "type": "contour"
           }
          ],
          "contourcarpet": [
           {
            "colorbar": {
             "outlinewidth": 0,
             "ticks": ""
            },
            "type": "contourcarpet"
           }
          ],
          "heatmap": [
           {
            "colorbar": {
             "outlinewidth": 0,
             "ticks": ""
            },
            "colorscale": [
             [
              0,
              "#0d0887"
             ],
             [
              0.1111111111111111,
              "#46039f"
             ],
             [
              0.2222222222222222,
              "#7201a8"
             ],
             [
              0.3333333333333333,
              "#9c179e"
             ],
             [
              0.4444444444444444,
              "#bd3786"
             ],
             [
              0.5555555555555556,
              "#d8576b"
             ],
             [
              0.6666666666666666,
              "#ed7953"
             ],
             [
              0.7777777777777778,
              "#fb9f3a"
             ],
             [
              0.8888888888888888,
              "#fdca26"
             ],
             [
              1,
              "#f0f921"
             ]
            ],
            "type": "heatmap"
           }
          ],
          "histogram": [
           {
            "marker": {
             "pattern": {
              "fillmode": "overlay",
              "size": 10,
              "solidity": 0.2
             }
            },
            "type": "histogram"
           }
          ],
          "histogram2d": [
           {
            "colorbar": {
             "outlinewidth": 0,
             "ticks": ""
            },
            "colorscale": [
             [
              0,
              "#0d0887"
             ],
             [
              0.1111111111111111,
              "#46039f"
             ],
             [
              0.2222222222222222,
              "#7201a8"
             ],
             [
              0.3333333333333333,
              "#9c179e"
             ],
             [
              0.4444444444444444,
              "#bd3786"
             ],
             [
              0.5555555555555556,
              "#d8576b"
             ],
             [
              0.6666666666666666,
              "#ed7953"
             ],
             [
              0.7777777777777778,
              "#fb9f3a"
             ],
             [
              0.8888888888888888,
              "#fdca26"
             ],
             [
              1,
              "#f0f921"
             ]
            ],
            "type": "histogram2d"
           }
          ],
          "histogram2dcontour": [
           {
            "colorbar": {
             "outlinewidth": 0,
             "ticks": ""
            },
            "colorscale": [
             [
              0,
              "#0d0887"
             ],
             [
              0.1111111111111111,
              "#46039f"
             ],
             [
              0.2222222222222222,
              "#7201a8"
             ],
             [
              0.3333333333333333,
              "#9c179e"
             ],
             [
              0.4444444444444444,
              "#bd3786"
             ],
             [
              0.5555555555555556,
              "#d8576b"
             ],
             [
              0.6666666666666666,
              "#ed7953"
             ],
             [
              0.7777777777777778,
              "#fb9f3a"
             ],
             [
              0.8888888888888888,
              "#fdca26"
             ],
             [
              1,
              "#f0f921"
             ]
            ],
            "type": "histogram2dcontour"
           }
          ],
          "mesh3d": [
           {
            "colorbar": {
             "outlinewidth": 0,
             "ticks": ""
            },
            "type": "mesh3d"
           }
          ],
          "parcoords": [
           {
            "line": {
             "colorbar": {
              "outlinewidth": 0,
              "ticks": ""
             }
            },
            "type": "parcoords"
           }
          ],
          "pie": [
           {
            "automargin": true,
            "type": "pie"
           }
          ],
          "scatter": [
           {
            "fillpattern": {
             "fillmode": "overlay",
             "size": 10,
             "solidity": 0.2
            },
            "type": "scatter"
           }
          ],
          "scatter3d": [
           {
            "line": {
             "colorbar": {
              "outlinewidth": 0,
              "ticks": ""
             }
            },
            "marker": {
             "colorbar": {
              "outlinewidth": 0,
              "ticks": ""
             }
            },
            "type": "scatter3d"
           }
          ],
          "scattercarpet": [
           {
            "marker": {
             "colorbar": {
              "outlinewidth": 0,
              "ticks": ""
             }
            },
            "type": "scattercarpet"
           }
          ],
          "scattergeo": [
           {
            "marker": {
             "colorbar": {
              "outlinewidth": 0,
              "ticks": ""
             }
            },
            "type": "scattergeo"
           }
          ],
          "scattergl": [
           {
            "marker": {
             "colorbar": {
              "outlinewidth": 0,
              "ticks": ""
             }
            },
            "type": "scattergl"
           }
          ],
          "scattermap": [
           {
            "marker": {
             "colorbar": {
              "outlinewidth": 0,
              "ticks": ""
             }
            },
            "type": "scattermap"
           }
          ],
          "scattermapbox": [
           {
            "marker": {
             "colorbar": {
              "outlinewidth": 0,
              "ticks": ""
             }
            },
            "type": "scattermapbox"
           }
          ],
          "scatterpolar": [
           {
            "marker": {
             "colorbar": {
              "outlinewidth": 0,
              "ticks": ""
             }
            },
            "type": "scatterpolar"
           }
          ],
          "scatterpolargl": [
           {
            "marker": {
             "colorbar": {
              "outlinewidth": 0,
              "ticks": ""
             }
            },
            "type": "scatterpolargl"
           }
          ],
          "scatterternary": [
           {
            "marker": {
             "colorbar": {
              "outlinewidth": 0,
              "ticks": ""
             }
            },
            "type": "scatterternary"
           }
          ],
          "surface": [
           {
            "colorbar": {
             "outlinewidth": 0,
             "ticks": ""
            },
            "colorscale": [
             [
              0,
              "#0d0887"
             ],
             [
              0.1111111111111111,
              "#46039f"
             ],
             [
              0.2222222222222222,
              "#7201a8"
             ],
             [
              0.3333333333333333,
              "#9c179e"
             ],
             [
              0.4444444444444444,
              "#bd3786"
             ],
             [
              0.5555555555555556,
              "#d8576b"
             ],
             [
              0.6666666666666666,
              "#ed7953"
             ],
             [
              0.7777777777777778,
              "#fb9f3a"
             ],
             [
              0.8888888888888888,
              "#fdca26"
             ],
             [
              1,
              "#f0f921"
             ]
            ],
            "type": "surface"
           }
          ],
          "table": [
           {
            "cells": {
             "fill": {
              "color": "#EBF0F8"
             },
             "line": {
              "color": "white"
             }
            },
            "header": {
             "fill": {
              "color": "#C8D4E3"
             },
             "line": {
              "color": "white"
             }
            },
            "type": "table"
           }
          ]
         },
         "layout": {
          "annotationdefaults": {
           "arrowcolor": "#2a3f5f",
           "arrowhead": 0,
           "arrowwidth": 1
          },
          "autotypenumbers": "strict",
          "coloraxis": {
           "colorbar": {
            "outlinewidth": 0,
            "ticks": ""
           }
          },
          "colorscale": {
           "diverging": [
            [
             0,
             "#8e0152"
            ],
            [
             0.1,
             "#c51b7d"
            ],
            [
             0.2,
             "#de77ae"
            ],
            [
             0.3,
             "#f1b6da"
            ],
            [
             0.4,
             "#fde0ef"
            ],
            [
             0.5,
             "#f7f7f7"
            ],
            [
             0.6,
             "#e6f5d0"
            ],
            [
             0.7,
             "#b8e186"
            ],
            [
             0.8,
             "#7fbc41"
            ],
            [
             0.9,
             "#4d9221"
            ],
            [
             1,
             "#276419"
            ]
           ],
           "sequential": [
            [
             0,
             "#0d0887"
            ],
            [
             0.1111111111111111,
             "#46039f"
            ],
            [
             0.2222222222222222,
             "#7201a8"
            ],
            [
             0.3333333333333333,
             "#9c179e"
            ],
            [
             0.4444444444444444,
             "#bd3786"
            ],
            [
             0.5555555555555556,
             "#d8576b"
            ],
            [
             0.6666666666666666,
             "#ed7953"
            ],
            [
             0.7777777777777778,
             "#fb9f3a"
            ],
            [
             0.8888888888888888,
             "#fdca26"
            ],
            [
             1,
             "#f0f921"
            ]
           ],
           "sequentialminus": [
            [
             0,
             "#0d0887"
            ],
            [
             0.1111111111111111,
             "#46039f"
            ],
            [
             0.2222222222222222,
             "#7201a8"
            ],
            [
             0.3333333333333333,
             "#9c179e"
            ],
            [
             0.4444444444444444,
             "#bd3786"
            ],
            [
             0.5555555555555556,
             "#d8576b"
            ],
            [
             0.6666666666666666,
             "#ed7953"
            ],
            [
             0.7777777777777778,
             "#fb9f3a"
            ],
            [
             0.8888888888888888,
             "#fdca26"
            ],
            [
             1,
             "#f0f921"
            ]
           ]
          },
          "colorway": [
           "#636efa",
           "#EF553B",
           "#00cc96",
           "#ab63fa",
           "#FFA15A",
           "#19d3f3",
           "#FF6692",
           "#B6E880",
           "#FF97FF",
           "#FECB52"
          ],
          "font": {
           "color": "#2a3f5f"
          },
          "geo": {
           "bgcolor": "white",
           "lakecolor": "white",
           "landcolor": "#E5ECF6",
           "showlakes": true,
           "showland": true,
           "subunitcolor": "white"
          },
          "hoverlabel": {
           "align": "left"
          },
          "hovermode": "closest",
          "mapbox": {
           "style": "light"
          },
          "paper_bgcolor": "white",
          "plot_bgcolor": "#E5ECF6",
          "polar": {
           "angularaxis": {
            "gridcolor": "white",
            "linecolor": "white",
            "ticks": ""
           },
           "bgcolor": "#E5ECF6",
           "radialaxis": {
            "gridcolor": "white",
            "linecolor": "white",
            "ticks": ""
           }
          },
          "scene": {
           "xaxis": {
            "backgroundcolor": "#E5ECF6",
            "gridcolor": "white",
            "gridwidth": 2,
            "linecolor": "white",
            "showbackground": true,
            "ticks": "",
            "zerolinecolor": "white"
           },
           "yaxis": {
            "backgroundcolor": "#E5ECF6",
            "gridcolor": "white",
            "gridwidth": 2,
            "linecolor": "white",
            "showbackground": true,
            "ticks": "",
            "zerolinecolor": "white"
           },
           "zaxis": {
            "backgroundcolor": "#E5ECF6",
            "gridcolor": "white",
            "gridwidth": 2,
            "linecolor": "white",
            "showbackground": true,
            "ticks": "",
            "zerolinecolor": "white"
           }
          },
          "shapedefaults": {
           "line": {
            "color": "#2a3f5f"
           }
          },
          "ternary": {
           "aaxis": {
            "gridcolor": "white",
            "linecolor": "white",
            "ticks": ""
           },
           "baxis": {
            "gridcolor": "white",
            "linecolor": "white",
            "ticks": ""
           },
           "bgcolor": "#E5ECF6",
           "caxis": {
            "gridcolor": "white",
            "linecolor": "white",
            "ticks": ""
           }
          },
          "title": {
           "x": 0.05
          },
          "xaxis": {
           "automargin": true,
           "gridcolor": "white",
           "linecolor": "white",
           "ticks": "",
           "title": {
            "standoff": 15
           },
           "zerolinecolor": "white",
           "zerolinewidth": 2
          },
          "yaxis": {
           "automargin": true,
           "gridcolor": "white",
           "linecolor": "white",
           "ticks": "",
           "title": {
            "standoff": 15
           },
           "zerolinecolor": "white",
           "zerolinewidth": 2
          }
         }
        },
        "title": {
         "text": "Average Followers by Chapters Buckets"
        },
        "width": 800,
        "xaxis": {
         "title": {
          "text": "Chapters Buckets (Equal Sized Groups)"
         }
        },
        "yaxis": {
         "title": {
          "text": "Average Followers"
         },
         "type": "log"
        }
       }
      }
     },
     "metadata": {},
     "output_type": "display_data"
    },
    {
     "name": "stdout",
     "output_type": "stream",
     "text": [
      "\n",
      "Pages Bucket Ranges:\n",
      "Bucket 1: 41.0 to 260.0 pages\n",
      "Bucket 2: 263.0 to 482.0 pages\n",
      "Bucket 3: 485.0 to 582.0 pages\n",
      "Bucket 4: 584.0 to 657.0 pages\n",
      "Bucket 5: 664.0 to 848.0 pages\n",
      "Bucket 6: 899.0 to 1004.0 pages\n",
      "Bucket 7: 1019.0 to 1335.0 pages\n",
      "Bucket 8: 1382.0 to 1911.0 pages\n",
      "Bucket 9: 1912.0 to 3073.0 pages\n",
      "Bucket 10: 3610.0 to 8173.0 pages\n"
     ]
    },
    {
     "name": "stderr",
     "output_type": "stream",
     "text": [
      "C:\\Users\\swapn\\AppData\\Local\\Temp\\ipykernel_21104\\1529275039.py:78: FutureWarning:\n",
      "\n",
      "The default of observed=False is deprecated and will be changed to True in a future version of pandas. Pass observed=False to retain current behavior or observed=True to adopt the future default and silence this warning.\n",
      "\n",
      "C:\\Users\\swapn\\AppData\\Local\\Temp\\ipykernel_21104\\1529275039.py:81: FutureWarning:\n",
      "\n",
      "The default of observed=False is deprecated and will be changed to True in a future version of pandas. Pass observed=False to retain current behavior or observed=True to adopt the future default and silence this warning.\n",
      "\n"
     ]
    },
    {
     "data": {
      "application/vnd.plotly.v1+json": {
       "config": {
        "plotlyServerURL": "https://plot.ly"
       },
       "data": [
        {
         "name": "views",
         "text": {
          "bdata": "hetRuK5530DNzMzMFMsDQZqZmZmxWwtBzczMzMouH0EAAAAAopgSQZqZmZnJCChBzczMzO9ILUEAAAAANictQc3MzMzoBCxBj8L16AJPT0E=",
          "dtype": "f8"
         },
         "textposition": "auto",
         "type": "bar",
         "x": [
          "Bucket 1",
          "Bucket 2",
          "Bucket 3",
          "Bucket 4",
          "Bucket 5",
          "Bucket 6",
          "Bucket 7",
          "Bucket 8",
          "Bucket 9",
          "Bucket 10"
         ],
         "y": {
          "bdata": "uuiii65530DNzMzMFMsDQZqZmZmxWwtBzczMzMouH0EAAAAAopgSQZqZmZnJCChBzczMzO9ILUEAAAAANictQc3MzMzoBCxBjC666AJPT0E=",
          "dtype": "f8"
         }
        }
       ],
       "layout": {
        "height": 500,
        "template": {
         "data": {
          "bar": [
           {
            "error_x": {
             "color": "#2a3f5f"
            },
            "error_y": {
             "color": "#2a3f5f"
            },
            "marker": {
             "line": {
              "color": "#E5ECF6",
              "width": 0.5
             },
             "pattern": {
              "fillmode": "overlay",
              "size": 10,
              "solidity": 0.2
             }
            },
            "type": "bar"
           }
          ],
          "barpolar": [
           {
            "marker": {
             "line": {
              "color": "#E5ECF6",
              "width": 0.5
             },
             "pattern": {
              "fillmode": "overlay",
              "size": 10,
              "solidity": 0.2
             }
            },
            "type": "barpolar"
           }
          ],
          "carpet": [
           {
            "aaxis": {
             "endlinecolor": "#2a3f5f",
             "gridcolor": "white",
             "linecolor": "white",
             "minorgridcolor": "white",
             "startlinecolor": "#2a3f5f"
            },
            "baxis": {
             "endlinecolor": "#2a3f5f",
             "gridcolor": "white",
             "linecolor": "white",
             "minorgridcolor": "white",
             "startlinecolor": "#2a3f5f"
            },
            "type": "carpet"
           }
          ],
          "choropleth": [
           {
            "colorbar": {
             "outlinewidth": 0,
             "ticks": ""
            },
            "type": "choropleth"
           }
          ],
          "contour": [
           {
            "colorbar": {
             "outlinewidth": 0,
             "ticks": ""
            },
            "colorscale": [
             [
              0,
              "#0d0887"
             ],
             [
              0.1111111111111111,
              "#46039f"
             ],
             [
              0.2222222222222222,
              "#7201a8"
             ],
             [
              0.3333333333333333,
              "#9c179e"
             ],
             [
              0.4444444444444444,
              "#bd3786"
             ],
             [
              0.5555555555555556,
              "#d8576b"
             ],
             [
              0.6666666666666666,
              "#ed7953"
             ],
             [
              0.7777777777777778,
              "#fb9f3a"
             ],
             [
              0.8888888888888888,
              "#fdca26"
             ],
             [
              1,
              "#f0f921"
             ]
            ],
            "type": "contour"
           }
          ],
          "contourcarpet": [
           {
            "colorbar": {
             "outlinewidth": 0,
             "ticks": ""
            },
            "type": "contourcarpet"
           }
          ],
          "heatmap": [
           {
            "colorbar": {
             "outlinewidth": 0,
             "ticks": ""
            },
            "colorscale": [
             [
              0,
              "#0d0887"
             ],
             [
              0.1111111111111111,
              "#46039f"
             ],
             [
              0.2222222222222222,
              "#7201a8"
             ],
             [
              0.3333333333333333,
              "#9c179e"
             ],
             [
              0.4444444444444444,
              "#bd3786"
             ],
             [
              0.5555555555555556,
              "#d8576b"
             ],
             [
              0.6666666666666666,
              "#ed7953"
             ],
             [
              0.7777777777777778,
              "#fb9f3a"
             ],
             [
              0.8888888888888888,
              "#fdca26"
             ],
             [
              1,
              "#f0f921"
             ]
            ],
            "type": "heatmap"
           }
          ],
          "histogram": [
           {
            "marker": {
             "pattern": {
              "fillmode": "overlay",
              "size": 10,
              "solidity": 0.2
             }
            },
            "type": "histogram"
           }
          ],
          "histogram2d": [
           {
            "colorbar": {
             "outlinewidth": 0,
             "ticks": ""
            },
            "colorscale": [
             [
              0,
              "#0d0887"
             ],
             [
              0.1111111111111111,
              "#46039f"
             ],
             [
              0.2222222222222222,
              "#7201a8"
             ],
             [
              0.3333333333333333,
              "#9c179e"
             ],
             [
              0.4444444444444444,
              "#bd3786"
             ],
             [
              0.5555555555555556,
              "#d8576b"
             ],
             [
              0.6666666666666666,
              "#ed7953"
             ],
             [
              0.7777777777777778,
              "#fb9f3a"
             ],
             [
              0.8888888888888888,
              "#fdca26"
             ],
             [
              1,
              "#f0f921"
             ]
            ],
            "type": "histogram2d"
           }
          ],
          "histogram2dcontour": [
           {
            "colorbar": {
             "outlinewidth": 0,
             "ticks": ""
            },
            "colorscale": [
             [
              0,
              "#0d0887"
             ],
             [
              0.1111111111111111,
              "#46039f"
             ],
             [
              0.2222222222222222,
              "#7201a8"
             ],
             [
              0.3333333333333333,
              "#9c179e"
             ],
             [
              0.4444444444444444,
              "#bd3786"
             ],
             [
              0.5555555555555556,
              "#d8576b"
             ],
             [
              0.6666666666666666,
              "#ed7953"
             ],
             [
              0.7777777777777778,
              "#fb9f3a"
             ],
             [
              0.8888888888888888,
              "#fdca26"
             ],
             [
              1,
              "#f0f921"
             ]
            ],
            "type": "histogram2dcontour"
           }
          ],
          "mesh3d": [
           {
            "colorbar": {
             "outlinewidth": 0,
             "ticks": ""
            },
            "type": "mesh3d"
           }
          ],
          "parcoords": [
           {
            "line": {
             "colorbar": {
              "outlinewidth": 0,
              "ticks": ""
             }
            },
            "type": "parcoords"
           }
          ],
          "pie": [
           {
            "automargin": true,
            "type": "pie"
           }
          ],
          "scatter": [
           {
            "fillpattern": {
             "fillmode": "overlay",
             "size": 10,
             "solidity": 0.2
            },
            "type": "scatter"
           }
          ],
          "scatter3d": [
           {
            "line": {
             "colorbar": {
              "outlinewidth": 0,
              "ticks": ""
             }
            },
            "marker": {
             "colorbar": {
              "outlinewidth": 0,
              "ticks": ""
             }
            },
            "type": "scatter3d"
           }
          ],
          "scattercarpet": [
           {
            "marker": {
             "colorbar": {
              "outlinewidth": 0,
              "ticks": ""
             }
            },
            "type": "scattercarpet"
           }
          ],
          "scattergeo": [
           {
            "marker": {
             "colorbar": {
              "outlinewidth": 0,
              "ticks": ""
             }
            },
            "type": "scattergeo"
           }
          ],
          "scattergl": [
           {
            "marker": {
             "colorbar": {
              "outlinewidth": 0,
              "ticks": ""
             }
            },
            "type": "scattergl"
           }
          ],
          "scattermap": [
           {
            "marker": {
             "colorbar": {
              "outlinewidth": 0,
              "ticks": ""
             }
            },
            "type": "scattermap"
           }
          ],
          "scattermapbox": [
           {
            "marker": {
             "colorbar": {
              "outlinewidth": 0,
              "ticks": ""
             }
            },
            "type": "scattermapbox"
           }
          ],
          "scatterpolar": [
           {
            "marker": {
             "colorbar": {
              "outlinewidth": 0,
              "ticks": ""
             }
            },
            "type": "scatterpolar"
           }
          ],
          "scatterpolargl": [
           {
            "marker": {
             "colorbar": {
              "outlinewidth": 0,
              "ticks": ""
             }
            },
            "type": "scatterpolargl"
           }
          ],
          "scatterternary": [
           {
            "marker": {
             "colorbar": {
              "outlinewidth": 0,
              "ticks": ""
             }
            },
            "type": "scatterternary"
           }
          ],
          "surface": [
           {
            "colorbar": {
             "outlinewidth": 0,
             "ticks": ""
            },
            "colorscale": [
             [
              0,
              "#0d0887"
             ],
             [
              0.1111111111111111,
              "#46039f"
             ],
             [
              0.2222222222222222,
              "#7201a8"
             ],
             [
              0.3333333333333333,
              "#9c179e"
             ],
             [
              0.4444444444444444,
              "#bd3786"
             ],
             [
              0.5555555555555556,
              "#d8576b"
             ],
             [
              0.6666666666666666,
              "#ed7953"
             ],
             [
              0.7777777777777778,
              "#fb9f3a"
             ],
             [
              0.8888888888888888,
              "#fdca26"
             ],
             [
              1,
              "#f0f921"
             ]
            ],
            "type": "surface"
           }
          ],
          "table": [
           {
            "cells": {
             "fill": {
              "color": "#EBF0F8"
             },
             "line": {
              "color": "white"
             }
            },
            "header": {
             "fill": {
              "color": "#C8D4E3"
             },
             "line": {
              "color": "white"
             }
            },
            "type": "table"
           }
          ]
         },
         "layout": {
          "annotationdefaults": {
           "arrowcolor": "#2a3f5f",
           "arrowhead": 0,
           "arrowwidth": 1
          },
          "autotypenumbers": "strict",
          "coloraxis": {
           "colorbar": {
            "outlinewidth": 0,
            "ticks": ""
           }
          },
          "colorscale": {
           "diverging": [
            [
             0,
             "#8e0152"
            ],
            [
             0.1,
             "#c51b7d"
            ],
            [
             0.2,
             "#de77ae"
            ],
            [
             0.3,
             "#f1b6da"
            ],
            [
             0.4,
             "#fde0ef"
            ],
            [
             0.5,
             "#f7f7f7"
            ],
            [
             0.6,
             "#e6f5d0"
            ],
            [
             0.7,
             "#b8e186"
            ],
            [
             0.8,
             "#7fbc41"
            ],
            [
             0.9,
             "#4d9221"
            ],
            [
             1,
             "#276419"
            ]
           ],
           "sequential": [
            [
             0,
             "#0d0887"
            ],
            [
             0.1111111111111111,
             "#46039f"
            ],
            [
             0.2222222222222222,
             "#7201a8"
            ],
            [
             0.3333333333333333,
             "#9c179e"
            ],
            [
             0.4444444444444444,
             "#bd3786"
            ],
            [
             0.5555555555555556,
             "#d8576b"
            ],
            [
             0.6666666666666666,
             "#ed7953"
            ],
            [
             0.7777777777777778,
             "#fb9f3a"
            ],
            [
             0.8888888888888888,
             "#fdca26"
            ],
            [
             1,
             "#f0f921"
            ]
           ],
           "sequentialminus": [
            [
             0,
             "#0d0887"
            ],
            [
             0.1111111111111111,
             "#46039f"
            ],
            [
             0.2222222222222222,
             "#7201a8"
            ],
            [
             0.3333333333333333,
             "#9c179e"
            ],
            [
             0.4444444444444444,
             "#bd3786"
            ],
            [
             0.5555555555555556,
             "#d8576b"
            ],
            [
             0.6666666666666666,
             "#ed7953"
            ],
            [
             0.7777777777777778,
             "#fb9f3a"
            ],
            [
             0.8888888888888888,
             "#fdca26"
            ],
            [
             1,
             "#f0f921"
            ]
           ]
          },
          "colorway": [
           "#636efa",
           "#EF553B",
           "#00cc96",
           "#ab63fa",
           "#FFA15A",
           "#19d3f3",
           "#FF6692",
           "#B6E880",
           "#FF97FF",
           "#FECB52"
          ],
          "font": {
           "color": "#2a3f5f"
          },
          "geo": {
           "bgcolor": "white",
           "lakecolor": "white",
           "landcolor": "#E5ECF6",
           "showlakes": true,
           "showland": true,
           "subunitcolor": "white"
          },
          "hoverlabel": {
           "align": "left"
          },
          "hovermode": "closest",
          "mapbox": {
           "style": "light"
          },
          "paper_bgcolor": "white",
          "plot_bgcolor": "#E5ECF6",
          "polar": {
           "angularaxis": {
            "gridcolor": "white",
            "linecolor": "white",
            "ticks": ""
           },
           "bgcolor": "#E5ECF6",
           "radialaxis": {
            "gridcolor": "white",
            "linecolor": "white",
            "ticks": ""
           }
          },
          "scene": {
           "xaxis": {
            "backgroundcolor": "#E5ECF6",
            "gridcolor": "white",
            "gridwidth": 2,
            "linecolor": "white",
            "showbackground": true,
            "ticks": "",
            "zerolinecolor": "white"
           },
           "yaxis": {
            "backgroundcolor": "#E5ECF6",
            "gridcolor": "white",
            "gridwidth": 2,
            "linecolor": "white",
            "showbackground": true,
            "ticks": "",
            "zerolinecolor": "white"
           },
           "zaxis": {
            "backgroundcolor": "#E5ECF6",
            "gridcolor": "white",
            "gridwidth": 2,
            "linecolor": "white",
            "showbackground": true,
            "ticks": "",
            "zerolinecolor": "white"
           }
          },
          "shapedefaults": {
           "line": {
            "color": "#2a3f5f"
           }
          },
          "ternary": {
           "aaxis": {
            "gridcolor": "white",
            "linecolor": "white",
            "ticks": ""
           },
           "baxis": {
            "gridcolor": "white",
            "linecolor": "white",
            "ticks": ""
           },
           "bgcolor": "#E5ECF6",
           "caxis": {
            "gridcolor": "white",
            "linecolor": "white",
            "ticks": ""
           }
          },
          "title": {
           "x": 0.05
          },
          "xaxis": {
           "automargin": true,
           "gridcolor": "white",
           "linecolor": "white",
           "ticks": "",
           "title": {
            "standoff": 15
           },
           "zerolinecolor": "white",
           "zerolinewidth": 2
          },
          "yaxis": {
           "automargin": true,
           "gridcolor": "white",
           "linecolor": "white",
           "ticks": "",
           "title": {
            "standoff": 15
           },
           "zerolinecolor": "white",
           "zerolinewidth": 2
          }
         }
        },
        "title": {
         "text": "Average Views by Pages Buckets"
        },
        "width": 800,
        "xaxis": {
         "title": {
          "text": "Pages Buckets (Equal Sized Groups)"
         }
        },
        "yaxis": {
         "title": {
          "text": "Average Views"
         },
         "type": "log"
        }
       }
      }
     },
     "metadata": {},
     "output_type": "display_data"
    },
    {
     "data": {
      "application/vnd.plotly.v1+json": {
       "config": {
        "plotlyServerURL": "https://plot.ly"
       },
       "data": [
        {
         "name": "rating",
         "text": {
          "bdata": "w/UoXI/CEUCuR+F6FK4SQEjhehSuRxJASOF6FK5HEkC4HoXrUbgRQIXrUbgehRFArkfhehSuEUCuR+F6FK4RQK5H4XoUrhBAKVyPwvUoEUA=",
          "dtype": "f8"
         },
         "textposition": "auto",
         "type": "bar",
         "x": [
          "Bucket 1",
          "Bucket 2",
          "Bucket 3",
          "Bucket 4",
          "Bucket 5",
          "Bucket 6",
          "Bucket 7",
          "Bucket 8",
          "Bucket 9",
          "Bucket 10"
         ],
         "y": {
          "bdata": "v2HtG9a+EUBeukkMAqsSQN0kBoGVQxJA+FPjpZtEEkAIrBxaZLsRQBov3SQGgRFAXrpJDAKrEUCuR+F6FK4RQOOlm8QgsBBAKyatYtIqEUA=",
          "dtype": "f8"
         }
        }
       ],
       "layout": {
        "height": 500,
        "template": {
         "data": {
          "bar": [
           {
            "error_x": {
             "color": "#2a3f5f"
            },
            "error_y": {
             "color": "#2a3f5f"
            },
            "marker": {
             "line": {
              "color": "#E5ECF6",
              "width": 0.5
             },
             "pattern": {
              "fillmode": "overlay",
              "size": 10,
              "solidity": 0.2
             }
            },
            "type": "bar"
           }
          ],
          "barpolar": [
           {
            "marker": {
             "line": {
              "color": "#E5ECF6",
              "width": 0.5
             },
             "pattern": {
              "fillmode": "overlay",
              "size": 10,
              "solidity": 0.2
             }
            },
            "type": "barpolar"
           }
          ],
          "carpet": [
           {
            "aaxis": {
             "endlinecolor": "#2a3f5f",
             "gridcolor": "white",
             "linecolor": "white",
             "minorgridcolor": "white",
             "startlinecolor": "#2a3f5f"
            },
            "baxis": {
             "endlinecolor": "#2a3f5f",
             "gridcolor": "white",
             "linecolor": "white",
             "minorgridcolor": "white",
             "startlinecolor": "#2a3f5f"
            },
            "type": "carpet"
           }
          ],
          "choropleth": [
           {
            "colorbar": {
             "outlinewidth": 0,
             "ticks": ""
            },
            "type": "choropleth"
           }
          ],
          "contour": [
           {
            "colorbar": {
             "outlinewidth": 0,
             "ticks": ""
            },
            "colorscale": [
             [
              0,
              "#0d0887"
             ],
             [
              0.1111111111111111,
              "#46039f"
             ],
             [
              0.2222222222222222,
              "#7201a8"
             ],
             [
              0.3333333333333333,
              "#9c179e"
             ],
             [
              0.4444444444444444,
              "#bd3786"
             ],
             [
              0.5555555555555556,
              "#d8576b"
             ],
             [
              0.6666666666666666,
              "#ed7953"
             ],
             [
              0.7777777777777778,
              "#fb9f3a"
             ],
             [
              0.8888888888888888,
              "#fdca26"
             ],
             [
              1,
              "#f0f921"
             ]
            ],
            "type": "contour"
           }
          ],
          "contourcarpet": [
           {
            "colorbar": {
             "outlinewidth": 0,
             "ticks": ""
            },
            "type": "contourcarpet"
           }
          ],
          "heatmap": [
           {
            "colorbar": {
             "outlinewidth": 0,
             "ticks": ""
            },
            "colorscale": [
             [
              0,
              "#0d0887"
             ],
             [
              0.1111111111111111,
              "#46039f"
             ],
             [
              0.2222222222222222,
              "#7201a8"
             ],
             [
              0.3333333333333333,
              "#9c179e"
             ],
             [
              0.4444444444444444,
              "#bd3786"
             ],
             [
              0.5555555555555556,
              "#d8576b"
             ],
             [
              0.6666666666666666,
              "#ed7953"
             ],
             [
              0.7777777777777778,
              "#fb9f3a"
             ],
             [
              0.8888888888888888,
              "#fdca26"
             ],
             [
              1,
              "#f0f921"
             ]
            ],
            "type": "heatmap"
           }
          ],
          "histogram": [
           {
            "marker": {
             "pattern": {
              "fillmode": "overlay",
              "size": 10,
              "solidity": 0.2
             }
            },
            "type": "histogram"
           }
          ],
          "histogram2d": [
           {
            "colorbar": {
             "outlinewidth": 0,
             "ticks": ""
            },
            "colorscale": [
             [
              0,
              "#0d0887"
             ],
             [
              0.1111111111111111,
              "#46039f"
             ],
             [
              0.2222222222222222,
              "#7201a8"
             ],
             [
              0.3333333333333333,
              "#9c179e"
             ],
             [
              0.4444444444444444,
              "#bd3786"
             ],
             [
              0.5555555555555556,
              "#d8576b"
             ],
             [
              0.6666666666666666,
              "#ed7953"
             ],
             [
              0.7777777777777778,
              "#fb9f3a"
             ],
             [
              0.8888888888888888,
              "#fdca26"
             ],
             [
              1,
              "#f0f921"
             ]
            ],
            "type": "histogram2d"
           }
          ],
          "histogram2dcontour": [
           {
            "colorbar": {
             "outlinewidth": 0,
             "ticks": ""
            },
            "colorscale": [
             [
              0,
              "#0d0887"
             ],
             [
              0.1111111111111111,
              "#46039f"
             ],
             [
              0.2222222222222222,
              "#7201a8"
             ],
             [
              0.3333333333333333,
              "#9c179e"
             ],
             [
              0.4444444444444444,
              "#bd3786"
             ],
             [
              0.5555555555555556,
              "#d8576b"
             ],
             [
              0.6666666666666666,
              "#ed7953"
             ],
             [
              0.7777777777777778,
              "#fb9f3a"
             ],
             [
              0.8888888888888888,
              "#fdca26"
             ],
             [
              1,
              "#f0f921"
             ]
            ],
            "type": "histogram2dcontour"
           }
          ],
          "mesh3d": [
           {
            "colorbar": {
             "outlinewidth": 0,
             "ticks": ""
            },
            "type": "mesh3d"
           }
          ],
          "parcoords": [
           {
            "line": {
             "colorbar": {
              "outlinewidth": 0,
              "ticks": ""
             }
            },
            "type": "parcoords"
           }
          ],
          "pie": [
           {
            "automargin": true,
            "type": "pie"
           }
          ],
          "scatter": [
           {
            "fillpattern": {
             "fillmode": "overlay",
             "size": 10,
             "solidity": 0.2
            },
            "type": "scatter"
           }
          ],
          "scatter3d": [
           {
            "line": {
             "colorbar": {
              "outlinewidth": 0,
              "ticks": ""
             }
            },
            "marker": {
             "colorbar": {
              "outlinewidth": 0,
              "ticks": ""
             }
            },
            "type": "scatter3d"
           }
          ],
          "scattercarpet": [
           {
            "marker": {
             "colorbar": {
              "outlinewidth": 0,
              "ticks": ""
             }
            },
            "type": "scattercarpet"
           }
          ],
          "scattergeo": [
           {
            "marker": {
             "colorbar": {
              "outlinewidth": 0,
              "ticks": ""
             }
            },
            "type": "scattergeo"
           }
          ],
          "scattergl": [
           {
            "marker": {
             "colorbar": {
              "outlinewidth": 0,
              "ticks": ""
             }
            },
            "type": "scattergl"
           }
          ],
          "scattermap": [
           {
            "marker": {
             "colorbar": {
              "outlinewidth": 0,
              "ticks": ""
             }
            },
            "type": "scattermap"
           }
          ],
          "scattermapbox": [
           {
            "marker": {
             "colorbar": {
              "outlinewidth": 0,
              "ticks": ""
             }
            },
            "type": "scattermapbox"
           }
          ],
          "scatterpolar": [
           {
            "marker": {
             "colorbar": {
              "outlinewidth": 0,
              "ticks": ""
             }
            },
            "type": "scatterpolar"
           }
          ],
          "scatterpolargl": [
           {
            "marker": {
             "colorbar": {
              "outlinewidth": 0,
              "ticks": ""
             }
            },
            "type": "scatterpolargl"
           }
          ],
          "scatterternary": [
           {
            "marker": {
             "colorbar": {
              "outlinewidth": 0,
              "ticks": ""
             }
            },
            "type": "scatterternary"
           }
          ],
          "surface": [
           {
            "colorbar": {
             "outlinewidth": 0,
             "ticks": ""
            },
            "colorscale": [
             [
              0,
              "#0d0887"
             ],
             [
              0.1111111111111111,
              "#46039f"
             ],
             [
              0.2222222222222222,
              "#7201a8"
             ],
             [
              0.3333333333333333,
              "#9c179e"
             ],
             [
              0.4444444444444444,
              "#bd3786"
             ],
             [
              0.5555555555555556,
              "#d8576b"
             ],
             [
              0.6666666666666666,
              "#ed7953"
             ],
             [
              0.7777777777777778,
              "#fb9f3a"
             ],
             [
              0.8888888888888888,
              "#fdca26"
             ],
             [
              1,
              "#f0f921"
             ]
            ],
            "type": "surface"
           }
          ],
          "table": [
           {
            "cells": {
             "fill": {
              "color": "#EBF0F8"
             },
             "line": {
              "color": "white"
             }
            },
            "header": {
             "fill": {
              "color": "#C8D4E3"
             },
             "line": {
              "color": "white"
             }
            },
            "type": "table"
           }
          ]
         },
         "layout": {
          "annotationdefaults": {
           "arrowcolor": "#2a3f5f",
           "arrowhead": 0,
           "arrowwidth": 1
          },
          "autotypenumbers": "strict",
          "coloraxis": {
           "colorbar": {
            "outlinewidth": 0,
            "ticks": ""
           }
          },
          "colorscale": {
           "diverging": [
            [
             0,
             "#8e0152"
            ],
            [
             0.1,
             "#c51b7d"
            ],
            [
             0.2,
             "#de77ae"
            ],
            [
             0.3,
             "#f1b6da"
            ],
            [
             0.4,
             "#fde0ef"
            ],
            [
             0.5,
             "#f7f7f7"
            ],
            [
             0.6,
             "#e6f5d0"
            ],
            [
             0.7,
             "#b8e186"
            ],
            [
             0.8,
             "#7fbc41"
            ],
            [
             0.9,
             "#4d9221"
            ],
            [
             1,
             "#276419"
            ]
           ],
           "sequential": [
            [
             0,
             "#0d0887"
            ],
            [
             0.1111111111111111,
             "#46039f"
            ],
            [
             0.2222222222222222,
             "#7201a8"
            ],
            [
             0.3333333333333333,
             "#9c179e"
            ],
            [
             0.4444444444444444,
             "#bd3786"
            ],
            [
             0.5555555555555556,
             "#d8576b"
            ],
            [
             0.6666666666666666,
             "#ed7953"
            ],
            [
             0.7777777777777778,
             "#fb9f3a"
            ],
            [
             0.8888888888888888,
             "#fdca26"
            ],
            [
             1,
             "#f0f921"
            ]
           ],
           "sequentialminus": [
            [
             0,
             "#0d0887"
            ],
            [
             0.1111111111111111,
             "#46039f"
            ],
            [
             0.2222222222222222,
             "#7201a8"
            ],
            [
             0.3333333333333333,
             "#9c179e"
            ],
            [
             0.4444444444444444,
             "#bd3786"
            ],
            [
             0.5555555555555556,
             "#d8576b"
            ],
            [
             0.6666666666666666,
             "#ed7953"
            ],
            [
             0.7777777777777778,
             "#fb9f3a"
            ],
            [
             0.8888888888888888,
             "#fdca26"
            ],
            [
             1,
             "#f0f921"
            ]
           ]
          },
          "colorway": [
           "#636efa",
           "#EF553B",
           "#00cc96",
           "#ab63fa",
           "#FFA15A",
           "#19d3f3",
           "#FF6692",
           "#B6E880",
           "#FF97FF",
           "#FECB52"
          ],
          "font": {
           "color": "#2a3f5f"
          },
          "geo": {
           "bgcolor": "white",
           "lakecolor": "white",
           "landcolor": "#E5ECF6",
           "showlakes": true,
           "showland": true,
           "subunitcolor": "white"
          },
          "hoverlabel": {
           "align": "left"
          },
          "hovermode": "closest",
          "mapbox": {
           "style": "light"
          },
          "paper_bgcolor": "white",
          "plot_bgcolor": "#E5ECF6",
          "polar": {
           "angularaxis": {
            "gridcolor": "white",
            "linecolor": "white",
            "ticks": ""
           },
           "bgcolor": "#E5ECF6",
           "radialaxis": {
            "gridcolor": "white",
            "linecolor": "white",
            "ticks": ""
           }
          },
          "scene": {
           "xaxis": {
            "backgroundcolor": "#E5ECF6",
            "gridcolor": "white",
            "gridwidth": 2,
            "linecolor": "white",
            "showbackground": true,
            "ticks": "",
            "zerolinecolor": "white"
           },
           "yaxis": {
            "backgroundcolor": "#E5ECF6",
            "gridcolor": "white",
            "gridwidth": 2,
            "linecolor": "white",
            "showbackground": true,
            "ticks": "",
            "zerolinecolor": "white"
           },
           "zaxis": {
            "backgroundcolor": "#E5ECF6",
            "gridcolor": "white",
            "gridwidth": 2,
            "linecolor": "white",
            "showbackground": true,
            "ticks": "",
            "zerolinecolor": "white"
           }
          },
          "shapedefaults": {
           "line": {
            "color": "#2a3f5f"
           }
          },
          "ternary": {
           "aaxis": {
            "gridcolor": "white",
            "linecolor": "white",
            "ticks": ""
           },
           "baxis": {
            "gridcolor": "white",
            "linecolor": "white",
            "ticks": ""
           },
           "bgcolor": "#E5ECF6",
           "caxis": {
            "gridcolor": "white",
            "linecolor": "white",
            "ticks": ""
           }
          },
          "title": {
           "x": 0.05
          },
          "xaxis": {
           "automargin": true,
           "gridcolor": "white",
           "linecolor": "white",
           "ticks": "",
           "title": {
            "standoff": 15
           },
           "zerolinecolor": "white",
           "zerolinewidth": 2
          },
          "yaxis": {
           "automargin": true,
           "gridcolor": "white",
           "linecolor": "white",
           "ticks": "",
           "title": {
            "standoff": 15
           },
           "zerolinecolor": "white",
           "zerolinewidth": 2
          }
         }
        },
        "title": {
         "text": "Average Rating by Pages Buckets"
        },
        "width": 800,
        "xaxis": {
         "title": {
          "text": "Pages Buckets (Equal Sized Groups)"
         }
        },
        "yaxis": {
         "title": {
          "text": "Average Rating"
         }
        }
       }
      }
     },
     "metadata": {},
     "output_type": "display_data"
    },
    {
     "data": {
      "application/vnd.plotly.v1+json": {
       "config": {
        "plotlyServerURL": "https://plot.ly"
       },
       "data": [
        {
         "name": "followers",
         "text": {
          "bdata": "ZmZmZmZkgUAzMzMzM+OWQJqZmZmZkZxAAAAAAAAxpEDNzMzMzA6dQDMzMzMzrKlAAAAAAAA+p0CamZmZmXWjQM3MzMzMQqJAH4XrUbhOr0A=",
          "dtype": "f8"
         },
         "textposition": "auto",
         "type": "bar",
         "x": [
          "Bucket 1",
          "Bucket 2",
          "Bucket 3",
          "Bucket 4",
          "Bucket 5",
          "Bucket 6",
          "Bucket 7",
          "Bucket 8",
          "Bucket 9",
          "Bucket 10"
         ],
         "y": {
          "bdata": "dNFFF11kgUAzMzMzM+OWQJqZmZmZkZxAAAAAAAAxpEDNzMzMzA6dQDMzMzMzrKlAAAAAAAA+p0CamZmZmXWjQM3MzMzMQqJA6aKLLrpOr0A=",
          "dtype": "f8"
         }
        }
       ],
       "layout": {
        "height": 500,
        "template": {
         "data": {
          "bar": [
           {
            "error_x": {
             "color": "#2a3f5f"
            },
            "error_y": {
             "color": "#2a3f5f"
            },
            "marker": {
             "line": {
              "color": "#E5ECF6",
              "width": 0.5
             },
             "pattern": {
              "fillmode": "overlay",
              "size": 10,
              "solidity": 0.2
             }
            },
            "type": "bar"
           }
          ],
          "barpolar": [
           {
            "marker": {
             "line": {
              "color": "#E5ECF6",
              "width": 0.5
             },
             "pattern": {
              "fillmode": "overlay",
              "size": 10,
              "solidity": 0.2
             }
            },
            "type": "barpolar"
           }
          ],
          "carpet": [
           {
            "aaxis": {
             "endlinecolor": "#2a3f5f",
             "gridcolor": "white",
             "linecolor": "white",
             "minorgridcolor": "white",
             "startlinecolor": "#2a3f5f"
            },
            "baxis": {
             "endlinecolor": "#2a3f5f",
             "gridcolor": "white",
             "linecolor": "white",
             "minorgridcolor": "white",
             "startlinecolor": "#2a3f5f"
            },
            "type": "carpet"
           }
          ],
          "choropleth": [
           {
            "colorbar": {
             "outlinewidth": 0,
             "ticks": ""
            },
            "type": "choropleth"
           }
          ],
          "contour": [
           {
            "colorbar": {
             "outlinewidth": 0,
             "ticks": ""
            },
            "colorscale": [
             [
              0,
              "#0d0887"
             ],
             [
              0.1111111111111111,
              "#46039f"
             ],
             [
              0.2222222222222222,
              "#7201a8"
             ],
             [
              0.3333333333333333,
              "#9c179e"
             ],
             [
              0.4444444444444444,
              "#bd3786"
             ],
             [
              0.5555555555555556,
              "#d8576b"
             ],
             [
              0.6666666666666666,
              "#ed7953"
             ],
             [
              0.7777777777777778,
              "#fb9f3a"
             ],
             [
              0.8888888888888888,
              "#fdca26"
             ],
             [
              1,
              "#f0f921"
             ]
            ],
            "type": "contour"
           }
          ],
          "contourcarpet": [
           {
            "colorbar": {
             "outlinewidth": 0,
             "ticks": ""
            },
            "type": "contourcarpet"
           }
          ],
          "heatmap": [
           {
            "colorbar": {
             "outlinewidth": 0,
             "ticks": ""
            },
            "colorscale": [
             [
              0,
              "#0d0887"
             ],
             [
              0.1111111111111111,
              "#46039f"
             ],
             [
              0.2222222222222222,
              "#7201a8"
             ],
             [
              0.3333333333333333,
              "#9c179e"
             ],
             [
              0.4444444444444444,
              "#bd3786"
             ],
             [
              0.5555555555555556,
              "#d8576b"
             ],
             [
              0.6666666666666666,
              "#ed7953"
             ],
             [
              0.7777777777777778,
              "#fb9f3a"
             ],
             [
              0.8888888888888888,
              "#fdca26"
             ],
             [
              1,
              "#f0f921"
             ]
            ],
            "type": "heatmap"
           }
          ],
          "histogram": [
           {
            "marker": {
             "pattern": {
              "fillmode": "overlay",
              "size": 10,
              "solidity": 0.2
             }
            },
            "type": "histogram"
           }
          ],
          "histogram2d": [
           {
            "colorbar": {
             "outlinewidth": 0,
             "ticks": ""
            },
            "colorscale": [
             [
              0,
              "#0d0887"
             ],
             [
              0.1111111111111111,
              "#46039f"
             ],
             [
              0.2222222222222222,
              "#7201a8"
             ],
             [
              0.3333333333333333,
              "#9c179e"
             ],
             [
              0.4444444444444444,
              "#bd3786"
             ],
             [
              0.5555555555555556,
              "#d8576b"
             ],
             [
              0.6666666666666666,
              "#ed7953"
             ],
             [
              0.7777777777777778,
              "#fb9f3a"
             ],
             [
              0.8888888888888888,
              "#fdca26"
             ],
             [
              1,
              "#f0f921"
             ]
            ],
            "type": "histogram2d"
           }
          ],
          "histogram2dcontour": [
           {
            "colorbar": {
             "outlinewidth": 0,
             "ticks": ""
            },
            "colorscale": [
             [
              0,
              "#0d0887"
             ],
             [
              0.1111111111111111,
              "#46039f"
             ],
             [
              0.2222222222222222,
              "#7201a8"
             ],
             [
              0.3333333333333333,
              "#9c179e"
             ],
             [
              0.4444444444444444,
              "#bd3786"
             ],
             [
              0.5555555555555556,
              "#d8576b"
             ],
             [
              0.6666666666666666,
              "#ed7953"
             ],
             [
              0.7777777777777778,
              "#fb9f3a"
             ],
             [
              0.8888888888888888,
              "#fdca26"
             ],
             [
              1,
              "#f0f921"
             ]
            ],
            "type": "histogram2dcontour"
           }
          ],
          "mesh3d": [
           {
            "colorbar": {
             "outlinewidth": 0,
             "ticks": ""
            },
            "type": "mesh3d"
           }
          ],
          "parcoords": [
           {
            "line": {
             "colorbar": {
              "outlinewidth": 0,
              "ticks": ""
             }
            },
            "type": "parcoords"
           }
          ],
          "pie": [
           {
            "automargin": true,
            "type": "pie"
           }
          ],
          "scatter": [
           {
            "fillpattern": {
             "fillmode": "overlay",
             "size": 10,
             "solidity": 0.2
            },
            "type": "scatter"
           }
          ],
          "scatter3d": [
           {
            "line": {
             "colorbar": {
              "outlinewidth": 0,
              "ticks": ""
             }
            },
            "marker": {
             "colorbar": {
              "outlinewidth": 0,
              "ticks": ""
             }
            },
            "type": "scatter3d"
           }
          ],
          "scattercarpet": [
           {
            "marker": {
             "colorbar": {
              "outlinewidth": 0,
              "ticks": ""
             }
            },
            "type": "scattercarpet"
           }
          ],
          "scattergeo": [
           {
            "marker": {
             "colorbar": {
              "outlinewidth": 0,
              "ticks": ""
             }
            },
            "type": "scattergeo"
           }
          ],
          "scattergl": [
           {
            "marker": {
             "colorbar": {
              "outlinewidth": 0,
              "ticks": ""
             }
            },
            "type": "scattergl"
           }
          ],
          "scattermap": [
           {
            "marker": {
             "colorbar": {
              "outlinewidth": 0,
              "ticks": ""
             }
            },
            "type": "scattermap"
           }
          ],
          "scattermapbox": [
           {
            "marker": {
             "colorbar": {
              "outlinewidth": 0,
              "ticks": ""
             }
            },
            "type": "scattermapbox"
           }
          ],
          "scatterpolar": [
           {
            "marker": {
             "colorbar": {
              "outlinewidth": 0,
              "ticks": ""
             }
            },
            "type": "scatterpolar"
           }
          ],
          "scatterpolargl": [
           {
            "marker": {
             "colorbar": {
              "outlinewidth": 0,
              "ticks": ""
             }
            },
            "type": "scatterpolargl"
           }
          ],
          "scatterternary": [
           {
            "marker": {
             "colorbar": {
              "outlinewidth": 0,
              "ticks": ""
             }
            },
            "type": "scatterternary"
           }
          ],
          "surface": [
           {
            "colorbar": {
             "outlinewidth": 0,
             "ticks": ""
            },
            "colorscale": [
             [
              0,
              "#0d0887"
             ],
             [
              0.1111111111111111,
              "#46039f"
             ],
             [
              0.2222222222222222,
              "#7201a8"
             ],
             [
              0.3333333333333333,
              "#9c179e"
             ],
             [
              0.4444444444444444,
              "#bd3786"
             ],
             [
              0.5555555555555556,
              "#d8576b"
             ],
             [
              0.6666666666666666,
              "#ed7953"
             ],
             [
              0.7777777777777778,
              "#fb9f3a"
             ],
             [
              0.8888888888888888,
              "#fdca26"
             ],
             [
              1,
              "#f0f921"
             ]
            ],
            "type": "surface"
           }
          ],
          "table": [
           {
            "cells": {
             "fill": {
              "color": "#EBF0F8"
             },
             "line": {
              "color": "white"
             }
            },
            "header": {
             "fill": {
              "color": "#C8D4E3"
             },
             "line": {
              "color": "white"
             }
            },
            "type": "table"
           }
          ]
         },
         "layout": {
          "annotationdefaults": {
           "arrowcolor": "#2a3f5f",
           "arrowhead": 0,
           "arrowwidth": 1
          },
          "autotypenumbers": "strict",
          "coloraxis": {
           "colorbar": {
            "outlinewidth": 0,
            "ticks": ""
           }
          },
          "colorscale": {
           "diverging": [
            [
             0,
             "#8e0152"
            ],
            [
             0.1,
             "#c51b7d"
            ],
            [
             0.2,
             "#de77ae"
            ],
            [
             0.3,
             "#f1b6da"
            ],
            [
             0.4,
             "#fde0ef"
            ],
            [
             0.5,
             "#f7f7f7"
            ],
            [
             0.6,
             "#e6f5d0"
            ],
            [
             0.7,
             "#b8e186"
            ],
            [
             0.8,
             "#7fbc41"
            ],
            [
             0.9,
             "#4d9221"
            ],
            [
             1,
             "#276419"
            ]
           ],
           "sequential": [
            [
             0,
             "#0d0887"
            ],
            [
             0.1111111111111111,
             "#46039f"
            ],
            [
             0.2222222222222222,
             "#7201a8"
            ],
            [
             0.3333333333333333,
             "#9c179e"
            ],
            [
             0.4444444444444444,
             "#bd3786"
            ],
            [
             0.5555555555555556,
             "#d8576b"
            ],
            [
             0.6666666666666666,
             "#ed7953"
            ],
            [
             0.7777777777777778,
             "#fb9f3a"
            ],
            [
             0.8888888888888888,
             "#fdca26"
            ],
            [
             1,
             "#f0f921"
            ]
           ],
           "sequentialminus": [
            [
             0,
             "#0d0887"
            ],
            [
             0.1111111111111111,
             "#46039f"
            ],
            [
             0.2222222222222222,
             "#7201a8"
            ],
            [
             0.3333333333333333,
             "#9c179e"
            ],
            [
             0.4444444444444444,
             "#bd3786"
            ],
            [
             0.5555555555555556,
             "#d8576b"
            ],
            [
             0.6666666666666666,
             "#ed7953"
            ],
            [
             0.7777777777777778,
             "#fb9f3a"
            ],
            [
             0.8888888888888888,
             "#fdca26"
            ],
            [
             1,
             "#f0f921"
            ]
           ]
          },
          "colorway": [
           "#636efa",
           "#EF553B",
           "#00cc96",
           "#ab63fa",
           "#FFA15A",
           "#19d3f3",
           "#FF6692",
           "#B6E880",
           "#FF97FF",
           "#FECB52"
          ],
          "font": {
           "color": "#2a3f5f"
          },
          "geo": {
           "bgcolor": "white",
           "lakecolor": "white",
           "landcolor": "#E5ECF6",
           "showlakes": true,
           "showland": true,
           "subunitcolor": "white"
          },
          "hoverlabel": {
           "align": "left"
          },
          "hovermode": "closest",
          "mapbox": {
           "style": "light"
          },
          "paper_bgcolor": "white",
          "plot_bgcolor": "#E5ECF6",
          "polar": {
           "angularaxis": {
            "gridcolor": "white",
            "linecolor": "white",
            "ticks": ""
           },
           "bgcolor": "#E5ECF6",
           "radialaxis": {
            "gridcolor": "white",
            "linecolor": "white",
            "ticks": ""
           }
          },
          "scene": {
           "xaxis": {
            "backgroundcolor": "#E5ECF6",
            "gridcolor": "white",
            "gridwidth": 2,
            "linecolor": "white",
            "showbackground": true,
            "ticks": "",
            "zerolinecolor": "white"
           },
           "yaxis": {
            "backgroundcolor": "#E5ECF6",
            "gridcolor": "white",
            "gridwidth": 2,
            "linecolor": "white",
            "showbackground": true,
            "ticks": "",
            "zerolinecolor": "white"
           },
           "zaxis": {
            "backgroundcolor": "#E5ECF6",
            "gridcolor": "white",
            "gridwidth": 2,
            "linecolor": "white",
            "showbackground": true,
            "ticks": "",
            "zerolinecolor": "white"
           }
          },
          "shapedefaults": {
           "line": {
            "color": "#2a3f5f"
           }
          },
          "ternary": {
           "aaxis": {
            "gridcolor": "white",
            "linecolor": "white",
            "ticks": ""
           },
           "baxis": {
            "gridcolor": "white",
            "linecolor": "white",
            "ticks": ""
           },
           "bgcolor": "#E5ECF6",
           "caxis": {
            "gridcolor": "white",
            "linecolor": "white",
            "ticks": ""
           }
          },
          "title": {
           "x": 0.05
          },
          "xaxis": {
           "automargin": true,
           "gridcolor": "white",
           "linecolor": "white",
           "ticks": "",
           "title": {
            "standoff": 15
           },
           "zerolinecolor": "white",
           "zerolinewidth": 2
          },
          "yaxis": {
           "automargin": true,
           "gridcolor": "white",
           "linecolor": "white",
           "ticks": "",
           "title": {
            "standoff": 15
           },
           "zerolinecolor": "white",
           "zerolinewidth": 2
          }
         }
        },
        "title": {
         "text": "Average Followers by Pages Buckets"
        },
        "width": 800,
        "xaxis": {
         "title": {
          "text": "Pages Buckets (Equal Sized Groups)"
         }
        },
        "yaxis": {
         "title": {
          "text": "Average Followers"
         },
         "type": "log"
        }
       }
      }
     },
     "metadata": {},
     "output_type": "display_data"
    }
   ],
   "source": [
    "# Create scatter plots of length metrics vs performance metrics\n",
    "length_metrics = ['chapters', 'pages']\n",
    "performance_metrics = ['views', 'rating', 'followers']\n",
    "\n",
    "# Remove any rows with null values in relevant columns\n",
    "plot_df = df.dropna(subset=length_metrics + performance_metrics)\n",
    "\n",
    "fig = make_subplots(rows=len(length_metrics), cols=len(performance_metrics),\n",
    "                    subplot_titles=[f'{p} vs {l}' for l in length_metrics for p in performance_metrics],\n",
    "                    vertical_spacing=0.15,\n",
    "                    horizontal_spacing=0.1)\n",
    "\n",
    "for i, length_metric in enumerate(length_metrics):\n",
    "    for j, perf_metric in enumerate(performance_metrics):\n",
    "        # Filter out outliers (values beyond 99th percentile)\n",
    "        length_threshold = plot_df[length_metric].quantile(0.99)\n",
    "        perf_threshold = plot_df[perf_metric].quantile(0.99)\n",
    "        filtered_df = plot_df[\n",
    "            (plot_df[length_metric] <= length_threshold) & \n",
    "            (plot_df[perf_metric] <= perf_threshold)\n",
    "        ]\n",
    "        \n",
    "        fig.add_trace(\n",
    "            go.Scatter(\n",
    "                x=filtered_df[length_metric],\n",
    "                y=filtered_df[perf_metric],\n",
    "                mode='markers',\n",
    "                name=f'{perf_metric} vs {length_metric}',\n",
    "                marker=dict(size=5, opacity=0.5)\n",
    "            ),\n",
    "            row=i+1, col=j+1\n",
    "        )\n",
    "        \n",
    "        # Add trend line\n",
    "        z = np.polyfit(filtered_df[length_metric], filtered_df[perf_metric], 1)\n",
    "        p = np.poly1d(z)\n",
    "        x_trend = np.linspace(filtered_df[length_metric].min(), filtered_df[length_metric].max(), 100)\n",
    "        \n",
    "        fig.add_trace(\n",
    "            go.Scatter(\n",
    "                x=x_trend,\n",
    "                y=p(x_trend),\n",
    "                mode='lines',\n",
    "                name=f'Trend {perf_metric} vs {length_metric}',\n",
    "                line=dict(color='red')\n",
    "            ),\n",
    "            row=i+1, col=j+1\n",
    "        )\n",
    "        \n",
    "        fig.update_xaxes(title_text=length_metric, row=i+1, col=j+1)\n",
    "        fig.update_yaxes(title_text=perf_metric, row=i+1, col=j+1)\n",
    "\n",
    "fig.update_layout(height=800, showlegend=False, title_text=\"Relationship between Story Length and Performance Metrics\")\n",
    "fig.show()\n",
    "\n",
    "# Calculate average metrics by length buckets\n",
    "def create_buckets(series, n_buckets=10):\n",
    "    \"\"\"\n",
    "    Creates equal-size buckets (quantiles) from a numerical series.\n",
    "    Each bucket contains roughly the same number of stories.\n",
    "    Bucket 1 has the lowest values, Bucket 10 has the highest values.\n",
    "    \"\"\"\n",
    "    try:\n",
    "        return pd.qcut(series, n_buckets, labels=[f'Bucket {i+1}' for i in range(n_buckets)])\n",
    "    except ValueError:\n",
    "        # Handle case where there are duplicate values\n",
    "        return pd.qcut(series, n_buckets, labels=[f'Bucket {i+1}' for i in range(n_buckets)], duplicates='drop')\n",
    "\n",
    "# Create separate plots for each performance metric to handle scale differences\n",
    "for length_metric in length_metrics:\n",
    "    clean_df = plot_df.dropna(subset=[length_metric] + performance_metrics)\n",
    "    \n",
    "    # Create buckets based on the length metric\n",
    "    # Each bucket contains roughly the same number of stories\n",
    "    clean_df[f'{length_metric}_bucket'] = create_buckets(clean_df[length_metric])\n",
    "    \n",
    "    # Calculate the average values for each metric within each bucket\n",
    "    avg_by_bucket = clean_df.groupby(f'{length_metric}_bucket')[performance_metrics].mean().reset_index()\n",
    "    \n",
    "    # Add a column showing the actual range of values in each bucket\n",
    "    bucket_ranges = clean_df.groupby(f'{length_metric}_bucket')[length_metric].agg(['min', 'max'])\n",
    "    \n",
    "    # Print bucket information to understand what each bucket represents\n",
    "    print(f\"\\n{length_metric.capitalize()} Bucket Ranges:\")\n",
    "    for bucket, (min_val, max_val) in bucket_ranges.iterrows():\n",
    "        print(f\"{bucket}: {min_val:.1f} to {max_val:.1f} {length_metric}\")\n",
    "    \n",
    "    # Create separate plots for each performance metric (due to scale differences)\n",
    "    for metric in performance_metrics:\n",
    "        fig = go.Figure()\n",
    "        \n",
    "        fig.add_trace(\n",
    "            go.Bar(\n",
    "                name=metric,\n",
    "                x=avg_by_bucket[f'{length_metric}_bucket'],\n",
    "                y=avg_by_bucket[metric],\n",
    "                text=np.round(avg_by_bucket[metric], 2),\n",
    "                textposition='auto',\n",
    "            )\n",
    "        )\n",
    "        \n",
    "        fig.update_layout(\n",
    "            title=f'Average {metric.capitalize()} by {length_metric.capitalize()} Buckets',\n",
    "            xaxis_title=f'{length_metric.capitalize()} Buckets (Equal Sized Groups)',\n",
    "            yaxis_title=f'Average {metric.capitalize()}',\n",
    "            height=500,\n",
    "            width=800\n",
    "        )\n",
    "        \n",
    "        # Use log scale for views and followers for better visibility\n",
    "        if metric in ['views', 'followers']:\n",
    "            fig.update_yaxes(type='log')\n",
    "            \n",
    "        fig.show()"
   ]
  },
  {
   "cell_type": "code",
   "execution_count": null,
   "id": "a66a7fa0",
   "metadata": {},
   "outputs": [],
   "source": []
  },
  {
   "cell_type": "markdown",
   "id": "0aa08c4a",
   "metadata": {},
   "source": [
    "## Time-Series Analysis of Genre Trends\n",
    "\n",
    "Let's analyze how genre popularity has changed over time on Royal Road. We'll examine which genres are trending recently versus which were popular in the past."
   ]
  },
  {
   "cell_type": "code",
   "execution_count": 57,
   "id": "d38daa15",
   "metadata": {},
   "outputs": [
    {
     "name": "stdout",
     "output_type": "stream",
     "text": [
      "Most recent data date: 2025-10-05\n",
      "Recent period stories: 108\n",
      "Past period stories: 0\n",
      "Warning: No stories in past period. Cannot perform trend analysis.\n"
     ]
    }
   ],
   "source": [
    "# Ensure our date column is properly formatted\n",
    "df['last_updated'] = pd.to_datetime(df['last_updated'])\n",
    "\n",
    "# Extract time-based features\n",
    "df['year'] = df['last_updated'].dt.year\n",
    "df['month'] = df['last_updated'].dt.month\n",
    "df['quarter'] = df['last_updated'].dt.quarter\n",
    "\n",
    "# Define time periods for analysis\n",
    "current_date = df['last_updated'].max()\n",
    "print(f\"Most recent data date: {current_date.strftime('%Y-%m-%d')}\")\n",
    "\n",
    "# Create time bins for trend analysis\n",
    "df['months_ago'] = ((current_date.year - df['last_updated'].dt.year) * 12 + \n",
    "                   (current_date.month - df['last_updated'].dt.month))\n",
    "\n",
    "# Define recent period (last 3 months) and past period (4-12 months ago)\n",
    "recent_period = df[df['months_ago'] <= 3]\n",
    "past_period = df[(df['months_ago'] > 3) & (df['months_ago'] <= 12)]\n",
    "\n",
    "print(f\"Recent period stories: {len(recent_period)}\")\n",
    "print(f\"Past period stories: {len(past_period)}\")\n",
    "\n",
    "# Function to analyze genre trends across different time periods\n",
    "def analyze_genre_trends(recent_df, past_df, metric='count'):\n",
    "    \"\"\"\n",
    "    Compares genre distribution between recent and past periods.\n",
    "    \n",
    "    Parameters:\n",
    "    - recent_df: DataFrame with recent period data\n",
    "    - past_df: DataFrame with past period data\n",
    "    - metric: What to measure ('count', 'views', 'rating', 'followers')\n",
    "    \n",
    "    Returns:\n",
    "    - DataFrame with trend analysis\n",
    "    \"\"\"\n",
    "    if metric == 'count':\n",
    "        # Count stories in each genre\n",
    "        recent_genres = recent_df['genre'].fillna('Unknown').str.split(',').explode().str.strip()\n",
    "        recent_counts = recent_genres.value_counts().to_frame('recent_count')\n",
    "        \n",
    "        past_genres = past_df['genre'].fillna('Unknown').str.split(',').explode().str.strip()\n",
    "        past_counts = past_genres.value_counts().to_frame('past_count')\n",
    "        \n",
    "        # Combine and calculate trend\n",
    "        trend_df = pd.concat([recent_counts, past_counts], axis=1).fillna(0)\n",
    "        \n",
    "        # Calculate percentage change\n",
    "        trend_df['recent_pct'] = trend_df['recent_count'] / trend_df['recent_count'].sum() * 100\n",
    "        trend_df['past_pct'] = trend_df['past_count'] / trend_df['past_count'].sum() * 100\n",
    "        trend_df['pct_change'] = ((trend_df['recent_pct'] - trend_df['past_pct']) / \n",
    "                                 trend_df['past_pct'].replace(0, 0.01) * 100)\n",
    "        \n",
    "    else:\n",
    "        # Analyze metrics like views, rating, followers by genre\n",
    "        # Create dataframes with one row per story-genre pair\n",
    "        recent_data = []\n",
    "        if len(recent_df) > 0:\n",
    "            for _, row in recent_df.dropna(subset=['genre', metric]).iterrows():\n",
    "                if pd.isna(row['genre']) or not row['genre']:\n",
    "                    continue\n",
    "                genres = row['genre'].split(',')\n",
    "                for g in genres:\n",
    "                    g = g.strip()\n",
    "                    if g:  # Skip empty strings\n",
    "                        recent_data.append({\n",
    "                            'genre': g,\n",
    "                            metric: row[metric]\n",
    "                        })\n",
    "        \n",
    "        past_data = []\n",
    "        if len(past_df) > 0:\n",
    "            for _, row in past_df.dropna(subset=['genre', metric]).iterrows():\n",
    "                if pd.isna(row['genre']) or not row['genre']:\n",
    "                    continue\n",
    "                genres = row['genre'].split(',')\n",
    "                for g in genres:\n",
    "                    g = g.strip()\n",
    "                    if g:  # Skip empty strings\n",
    "                        past_data.append({\n",
    "                            'genre': g,\n",
    "                            metric: row[metric]\n",
    "                        })\n",
    "        \n",
    "        # Handle empty dataframes\n",
    "        if not recent_data:\n",
    "            recent_genre_df = pd.DataFrame(columns=['genre', metric])\n",
    "        else:\n",
    "            recent_genre_df = pd.DataFrame(recent_data)\n",
    "            \n",
    "        if not past_data:\n",
    "            past_genre_df = pd.DataFrame(columns=['genre', metric])\n",
    "        else:\n",
    "            past_genre_df = pd.DataFrame(past_data)\n",
    "            \n",
    "        # Check if we have data to work with\n",
    "        if len(recent_genre_df) == 0 and len(past_genre_df) == 0:\n",
    "            # Return empty DataFrame with proper columns\n",
    "            return pd.DataFrame(columns=['recent_avg', 'recent_count', 'past_avg', 'past_count', 'pct_change'])\n",
    "        \n",
    "        # Calculate average metric by genre\n",
    "        if len(recent_genre_df) > 0:\n",
    "            recent_stats = recent_genre_df.groupby('genre')[metric].agg(['mean', 'count'])\n",
    "        else:\n",
    "            recent_stats = pd.DataFrame(columns=['mean', 'count'])\n",
    "            \n",
    "        if len(past_genre_df) > 0:\n",
    "            past_stats = past_genre_df.groupby('genre')[metric].agg(['mean', 'count'])\n",
    "        else:\n",
    "            past_stats = pd.DataFrame(columns=['mean', 'count'])\n",
    "        \n",
    "        # Get all unique genres\n",
    "        all_genres = set(recent_genre_df['genre'].unique()).union(set(past_genre_df['genre'].unique()))\n",
    "        \n",
    "        # Create a DataFrame with all genres\n",
    "        trend_df = pd.DataFrame(index=all_genres)\n",
    "        \n",
    "        # Add recent stats\n",
    "        if 'mean' in recent_stats.columns:\n",
    "            trend_df['recent_avg'] = recent_stats['mean']\n",
    "        else:\n",
    "            trend_df['recent_avg'] = 0\n",
    "            \n",
    "        if 'count' in recent_stats.columns:\n",
    "            trend_df['recent_count'] = recent_stats['count']\n",
    "        else:\n",
    "            trend_df['recent_count'] = 0\n",
    "        \n",
    "        # Add past stats\n",
    "        if 'mean' in past_stats.columns:\n",
    "            trend_df['past_avg'] = past_stats['mean']\n",
    "        else:\n",
    "            trend_df['past_avg'] = 0\n",
    "            \n",
    "        if 'count' in past_stats.columns:\n",
    "            trend_df['past_count'] = past_stats['count']\n",
    "        else:\n",
    "            trend_df['past_count'] = 0\n",
    "        \n",
    "        # Fill NaN values\n",
    "        trend_df = trend_df.fillna(0)\n",
    "        \n",
    "        # Filter for genres with enough data\n",
    "        trend_df = trend_df[(trend_df['recent_count'] >= 5) | (trend_df['past_count'] >= 5)]\n",
    "        \n",
    "        # Calculate percentage change in average metric\n",
    "        trend_df['pct_change'] = ((trend_df['recent_avg'] - trend_df['past_avg']) / \n",
    "                                 trend_df['past_avg'].replace(0, 0.01) * 100)\n",
    "    \n",
    "    return trend_df\n",
    "\n",
    "# Check if we have data in both periods\n",
    "if len(recent_period) == 0:\n",
    "    print(\"Warning: No stories in recent period. Cannot perform trend analysis.\")\n",
    "elif len(past_period) == 0:\n",
    "    print(\"Warning: No stories in past period. Cannot perform trend analysis.\")\n",
    "else:\n",
    "    # Analyze trends in genre counts\n",
    "    genre_count_trends = analyze_genre_trends(recent_period, past_period, 'count')\n",
    "    \n",
    "    if len(genre_count_trends) > 0:\n",
    "        print(\"\\nGenre Count Trends (Top 10 Increasing):\")\n",
    "        print(genre_count_trends.sort_values('pct_change', ascending=False).head(10))\n",
    "        print(\"\\nGenre Count Trends (Top 10 Decreasing):\")\n",
    "        print(genre_count_trends.sort_values('pct_change').head(10))\n",
    "        \n",
    "        # Create visualization of genre trends\n",
    "        trending_up = genre_count_trends.sort_values('pct_change', ascending=False).head(10)\n",
    "        trending_down = genre_count_trends.sort_values('pct_change').head(10)\n",
    "        \n",
    "        # Filter for genres with at least 5 stories in both periods for more reliable trends\n",
    "        reliable_trends = genre_count_trends[(genre_count_trends['recent_count'] >= 5) & \n",
    "                                          (genre_count_trends['past_count'] >= 5)]\n",
    "        \n",
    "        # Trending up visualization\n",
    "        fig = go.Figure()\n",
    "        fig.add_trace(go.Bar(\n",
    "            x=trending_up.index,\n",
    "            y=trending_up['pct_change'],\n",
    "            text=np.round(trending_up['pct_change'], 1),\n",
    "            textposition='outside',\n",
    "            marker_color='green',\n",
    "        ))\n",
    "        \n",
    "        fig.update_layout(\n",
    "            title='Top 10 Rising Genres (% Change in Popularity)',\n",
    "            xaxis_title='Genre',\n",
    "            yaxis_title='% Change in Representation',\n",
    "            xaxis_tickangle=-45,\n",
    "            height=500,\n",
    "            width=900,\n",
    "            font=dict(size=14),\n",
    "            margin=dict(b=100)\n",
    "        )\n",
    "        fig.show()\n",
    "        \n",
    "        # Trending down visualization  \n",
    "        fig = go.Figure()\n",
    "        fig.add_trace(go.Bar(\n",
    "            x=trending_down.index,\n",
    "            y=trending_down['pct_change'],\n",
    "            text=np.round(trending_down['pct_change'], 1),\n",
    "            textposition='outside',\n",
    "            marker_color='red',\n",
    "        ))\n",
    "        \n",
    "        fig.update_layout(\n",
    "            title='Top 10 Declining Genres (% Change in Popularity)',\n",
    "            xaxis_title='Genre',\n",
    "            yaxis_title='% Change in Representation',\n",
    "            xaxis_tickangle=-45,\n",
    "            height=500,\n",
    "            width=900,\n",
    "            font=dict(size=14),\n",
    "            margin=dict(b=100)\n",
    "        )\n",
    "        fig.show()\n",
    "        \n",
    "        # Analyze trends in average views by genre\n",
    "        try:\n",
    "            view_trends = analyze_genre_trends(recent_period, past_period, 'views')\n",
    "            \n",
    "            # Check if we have enough data\n",
    "            if len(view_trends) > 0:\n",
    "                view_trends_filtered = view_trends[(view_trends['recent_count'] >= 5) | (view_trends['past_count'] >= 5)]\n",
    "                \n",
    "                if len(view_trends_filtered) > 0:\n",
    "                    # Top genres by recent average views\n",
    "                    top_recent_views = view_trends_filtered.sort_values('recent_avg', ascending=False).head(10)\n",
    "                    \n",
    "                    fig = go.Figure()\n",
    "                    fig.add_trace(go.Bar(\n",
    "                        x=top_recent_views.index,\n",
    "                        y=top_recent_views['recent_avg'],\n",
    "                        name='Recent Period',\n",
    "                        marker_color='blue',\n",
    "                        opacity=0.7\n",
    "                    ))\n",
    "                    \n",
    "                    fig.add_trace(go.Bar(\n",
    "                        x=top_recent_views.index,\n",
    "                        y=top_recent_views['past_avg'],\n",
    "                        name='Past Period',\n",
    "                        marker_color='lightblue',\n",
    "                        opacity=0.7\n",
    "                    ))\n",
    "                    \n",
    "                    fig.update_layout(\n",
    "                        title='Top 10 Genres by Recent Views (Comparison with Past Period)',\n",
    "                        xaxis_title='Genre',\n",
    "                        yaxis_title='Average Views',\n",
    "                        xaxis_tickangle=-45,\n",
    "                        height=500,\n",
    "                        width=900,\n",
    "                        barmode='group',\n",
    "                        yaxis_type='log',  # Use log scale for better visibility\n",
    "                        font=dict(size=14),\n",
    "                        margin=dict(b=100)\n",
    "                    )\n",
    "                    fig.show()\n",
    "                else:\n",
    "                    print(\"Not enough data to analyze view trends by genre (need at least 5 stories per genre).\")\n",
    "            else:\n",
    "                print(\"No view trends data available.\")\n",
    "        except Exception as e:\n",
    "            print(f\"Error analyzing view trends: {e}\")\n",
    "            \n",
    "        try:\n",
    "            # Create a combined visualization showing genre popularity changes over time\n",
    "            top_genres_overall = genre_count_trends['recent_count'].nlargest(15).index.tolist()\n",
    "            \n",
    "            # Create a monthly trend analysis for top genres\n",
    "            df['yearmonth'] = df['last_updated'].dt.to_period('M')\n",
    "            monthly_genre_data = []\n",
    "            \n",
    "            for _, row in df.dropna(subset=['genre']).iterrows():\n",
    "                if pd.isna(row['genre']) or not row['genre']:\n",
    "                    continue\n",
    "                \n",
    "                year_month = row['yearmonth']\n",
    "                genres = row['genre'].split(',')\n",
    "                \n",
    "                for g in genres:\n",
    "                    g = g.strip()\n",
    "                    if g in top_genres_overall:\n",
    "                        monthly_genre_data.append({\n",
    "                            'yearmonth': year_month,\n",
    "                            'genre': g\n",
    "                        })\n",
    "            \n",
    "            if monthly_genre_data:\n",
    "                monthly_genre_df = pd.DataFrame(monthly_genre_data)\n",
    "                monthly_genre_counts = monthly_genre_df.groupby(['yearmonth', 'genre']).size().unstack(fill_value=0)\n",
    "                \n",
    "                # Get the last 12 months of data (or what's available)\n",
    "                months_to_show = min(12, len(monthly_genre_counts))\n",
    "                if months_to_show > 0:\n",
    "                    recent_months = monthly_genre_counts.iloc[-months_to_show:]\n",
    "                    \n",
    "                    # Convert to percentage of stories in each month\n",
    "                    monthly_pct = recent_months.div(recent_months.sum(axis=1), axis=0) * 100\n",
    "                    \n",
    "                    # Create a stacked area chart of genre trends\n",
    "                    fig = go.Figure()\n",
    "                    \n",
    "                    for genre in top_genres_overall:\n",
    "                        if genre in monthly_pct.columns:\n",
    "                            fig.add_trace(go.Scatter(\n",
    "                                x=monthly_pct.index.astype(str),\n",
    "                                y=monthly_pct[genre],\n",
    "                                mode='lines',\n",
    "                                stackgroup='one',\n",
    "                                name=genre,\n",
    "                                hoverinfo='x+y+name'\n",
    "                            ))\n",
    "                    \n",
    "                    fig.update_layout(\n",
    "                        title='Genre Distribution Over Time (Last 12 Months)',\n",
    "                        xaxis_title='Month',\n",
    "                        yaxis_title='Percentage of Stories',\n",
    "                        xaxis_tickangle=-45,\n",
    "                        height=600,\n",
    "                        width=1000,\n",
    "                        font=dict(size=14),\n",
    "                        margin=dict(b=100),\n",
    "                        hovermode='x unified'\n",
    "                    )\n",
    "                    fig.show()\n",
    "                else:\n",
    "                    print(\"Not enough monthly data to show time trends.\")\n",
    "            else:\n",
    "                print(\"No monthly genre data available to create trend visualization.\")\n",
    "        except Exception as e:\n",
    "            print(f\"Error creating monthly trend visualization: {e}\")\n",
    "        \n",
    "        # Add a summary of key findings\n",
    "        print(\"\\nKey Genre Trend Findings:\")\n",
    "        print(\"1. Most rapidly growing genres: \" + \n",
    "              \", \".join(trending_up.head(5).index.tolist()))\n",
    "        print(\"2. Most rapidly declining genres: \" + \n",
    "              \", \".join(trending_down.head(5).index.tolist()))\n",
    "        print(\"3. Top genres in the most recent period: \" + \n",
    "              \", \".join(genre_count_trends.sort_values('recent_count', ascending=False).head(5).index.tolist()))\n",
    "    else:\n",
    "        print(\"No trend data available. Make sure both time periods have stories with genre information.\")"
   ]
  },
  {
   "cell_type": "markdown",
   "id": "2e04cae5",
   "metadata": {},
   "source": [
    "## Summary of Findings\n",
    "\n",
    "Based on our exploratory data analysis of the Royal Road stories dataset (as of October 5, 2025), here are the key findings:\n",
    "\n",
    "1. **Distribution Patterns**:\n",
    "   - **Extreme Right Skew**: Views, followers, and favorites all show extreme right-skewed distributions (skewness > 5.0), requiring logarithmic scaling to properly visualize\n",
    "   - **Normal Rating Distribution**: Ratings follow a more normal distribution, centered around 4.0-4.5 stars\n",
    "   - **Long Tail Phenomenon**: A small percentage of stories (top 10%) account for a disproportionate share of engagement metrics\n",
    "   - **Outlier Impact**: The 99th percentile values for views and followers are often 10-20× higher than the median, highlighting the \"superstar effect\" in web fiction\n",
    "\n",
    "2. **Correlation Analysis**:\n",
    "   - **Strong Engagement Correlations**: Views, followers, and favorites show strong positive correlations (r > 0.8), indicating these metrics reinforce each other\n",
    "   - **Moderate Length Correlations**: Chapters and pages correlate moderately (r = 0.6-0.7), reflecting different aspects of content volume\n",
    "   - **Ratings Independence**: Rating scores show weaker correlations with other metrics, suggesting quality assessment is relatively independent of popularity\n",
    "   - **Success Clustering**: Highly successful stories tend to excel across all metrics, with the top 5% of stories dominating in multiple categories\n",
    "\n",
    "3. **Genre Insights**:\n",
    "   - **Dominant Genres**: Fantasy, LitRPG, Adventure, and Progression are the most represented genres on the platform\n",
    "   - **Genre Performance Variation**: Niche genres often show surprisingly high average engagement metrics despite smaller representation\n",
    "   - **Rating Patterns**: Certain genres consistently maintain higher average ratings regardless of popularity metrics\n",
    "   - **Cross-Genre Appeal**: Stories with complementary genre combinations (e.g., Fantasy/Adventure, LitRPG/Progression) show enhanced performance metrics\n",
    "\n",
    "4. **Content Volume Analysis**:\n",
    "   - **Optimal Chapter Range**: Stories with moderate chapter counts (20-60 chapters) show the strongest balance of engagement metrics\n",
    "   - **Diminishing Returns**: Very long stories (>100 chapters) don't necessarily outperform moderately-sized ones across all metrics\n",
    "   - **Chapter vs. Page Impact**: Chapter count correlates more strongly with engagement metrics than total page count\n",
    "   - **Length-Quality Relationship**: Longer stories tend to have more consistent ratings, potentially indicating higher quality sustainability\n",
    "\n",
    "5. **Temporal Patterns**:\n",
    "   - **Current Snapshot**: Analysis covers 74 stories from the most recent 3-month period\n",
    "   - **Data Limitations**: Insufficient historical data prevents comprehensive trend analysis between time periods\n",
    "   - **Publication Consistency**: Regular story publishing patterns observed in the available data\n",
    "   - **Contemporary Relevance**: Current data provides valuable insights into present market conditions and reader preferences\n",
    "\n",
    "These findings provide a multidimensional understanding of the Royal Road platform's fiction ecosystem. The analysis reveals clear patterns in content performance, reader engagement behavior, and genre preferences that can guide authors in strategic content planning. The logarithmic distribution of engagement metrics highlights the importance of building momentum and audience connection, while the genre and length analyses offer tactical insights for story structuring and positioning.\n",
    "\n",
    "**Practical Applications**: Authors can leverage these insights to make data-driven decisions about genre selection, optimal story length, and engagement strategies to maximize reader connection and visibility in this competitive web fiction marketplace."
   ]
  }
 ],
 "metadata": {
  "kernelspec": {
   "display_name": ".venv",
   "language": "python",
   "name": "python3"
  },
  "language_info": {
   "codemirror_mode": {
    "name": "ipython",
    "version": 3
   },
   "file_extension": ".py",
   "mimetype": "text/x-python",
   "name": "python",
   "nbconvert_exporter": "python",
   "pygments_lexer": "ipython3",
   "version": "3.13.7"
  }
 },
 "nbformat": 4,
 "nbformat_minor": 5
}
