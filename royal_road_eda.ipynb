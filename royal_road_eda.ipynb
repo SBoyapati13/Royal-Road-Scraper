{
 "cells": [
  {
   "cell_type": "markdown",
   "id": "d19b9828",
   "metadata": {},
   "source": [
    "# Royal Road Stories - Exploratory Data Analysis\n",
    "\n",
    "This notebook performs exploratory data analysis on the scraped data from Royal Road, a web fiction platform. We'll analyze various aspects of the stories including:\n",
    "\n",
    "- Story statistics (views, ratings, chapters, etc.)\n",
    "- Correlations between different metrics\n",
    "- Genre distributions\n",
    "- Story popularity patterns\n",
    "- Rating distributions\n",
    "\n",
    "First, let's import the required libraries and load our data."
   ]
  },
  {
   "cell_type": "code",
   "execution_count": 20,
   "id": "492b87cc",
   "metadata": {},
   "outputs": [],
   "source": [
    "# Import required libraries\n",
    "import pandas as pd\n",
    "import numpy as np\n",
    "import matplotlib.pyplot as plt\n",
    "import seaborn as sns\n",
    "import sqlite3\n",
    "from datetime import datetime\n",
    "import plotly.express as px\n",
    "import plotly.graph_objects as go\n",
    "from plotly.subplots import make_subplots\n",
    "\n",
    "# Set up display options\n",
    "pd.set_option('display.max_columns', None)\n",
    "pd.set_option('display.max_rows', 100)\n",
    "\n",
    "# Set style for matplotlib/seaborn plots\n",
    "sns.set_style(\"whitegrid\")  # Use seaborn's whitegrid style\n",
    "plt.style.use('seaborn-v0_8')  # Use the updated seaborn style name"
   ]
  },
  {
   "cell_type": "markdown",
   "id": "9731fff7",
   "metadata": {},
   "source": [
    "## Data Loading and Cleaning\n",
    "\n",
    "Let's load our data from the SQLite database. We'll need to join the stories table with the latest stats for each story."
   ]
  },
  {
   "cell_type": "code",
   "execution_count": 21,
   "id": "d61a47a7",
   "metadata": {},
   "outputs": [
    {
     "name": "stdout",
     "output_type": "stream",
     "text": [
      "Latest Metrics Dataset Shape: (111, 15)\n",
      "Total Historical Snapshots: 540\n",
      "Number of Stories with Multiple Snapshots: 71\n",
      "Total Snapshots in Database: 540\n",
      "<class 'pandas.core.frame.DataFrame'>\n",
      "RangeIndex: 111 entries, 0 to 110\n",
      "Data columns (total 15 columns):\n",
      " #   Column         Non-Null Count  Dtype         \n",
      "---  ------         --------------  -----         \n",
      " 0   id             111 non-null    int64         \n",
      " 1   royal_road_id  111 non-null    int64         \n",
      " 2   title          111 non-null    object        \n",
      " 3   url            111 non-null    object        \n",
      " 4   genre          111 non-null    object        \n",
      " 5   first_seen     111 non-null    object        \n",
      " 6   last_updated   111 non-null    datetime64[ns]\n",
      " 7   rating         107 non-null    float64       \n",
      " 8   followers      111 non-null    int64         \n",
      " 9   pages          111 non-null    int64         \n",
      " 10  chapters       108 non-null    float64       \n",
      " 11  views          111 non-null    int64         \n",
      " 12  favorites      111 non-null    int64         \n",
      " 13  ratings_count  111 non-null    int64         \n",
      " 14  scraped_date   111 non-null    object        \n",
      "dtypes: datetime64[ns](1), float64(2), int64(7), object(5)\n",
      "memory usage: 13.1+ KB\n"
     ]
    }
   ],
   "source": [
    "# Load data using the utility function\n",
    "from utils import load_latest_data, get_database_stats\n",
    "\n",
    "# Load both latest and historical data\n",
    "df_latest, df_all = load_latest_data()\n",
    "\n",
    "# For backward compatibility, use the latest metrics as the main dataframe\n",
    "df = df_latest.copy()\n",
    "\n",
    "# Display basic information about the dataset\n",
    "print(\"Latest Metrics Dataset Shape:\", df.shape)\n",
    "print(\"Total Historical Snapshots:\", df_all.shape[0])\n",
    "\n",
    "# Get database statistics\n",
    "stats = get_database_stats()\n",
    "if stats:\n",
    "    print(f\"Number of Stories with Multiple Snapshots: {stats['stories_with_history']}\")\n",
    "    print(f\"Total Snapshots in Database: {stats['total_snapshots']}\")\n",
    "\n",
    "if not df.empty:\n",
    "    df.info()\n",
    "else:\n",
    "    print(\"No data loaded. Please run the scraper first.\")"
   ]
  },
  {
   "cell_type": "markdown",
   "id": "5587de6f",
   "metadata": {},
   "source": [
    "## Basic Statistical Analysis\n",
    "\n",
    "Let's examine the basic statistics of our numerical columns to understand the central tendencies and spread of our data."
   ]
  },
  {
   "cell_type": "code",
   "execution_count": 22,
   "id": "505c7a19",
   "metadata": {},
   "outputs": [
    {
     "name": "stdout",
     "output_type": "stream",
     "text": [
      "\n",
      "Numerical Statistics:\n",
      "               id  royal_road_id                   last_updated      rating  \\\n",
      "count  111.000000     111.000000                            111  107.000000   \n",
      "mean    56.000000  116566.153153  2025-10-12 21:06:44.414414848    4.477009   \n",
      "min      1.000000   54658.000000            2025-10-09 21:41:25    3.070000   \n",
      "25%     28.500000  110958.500000            2025-10-12 16:55:55    4.350000   \n",
      "50%     56.000000  123606.000000            2025-10-12 16:55:55    4.530000   \n",
      "75%     83.500000  127781.000000            2025-10-13 13:58:11    4.600000   \n",
      "max    111.000000  129845.000000            2025-10-13 13:58:11    4.930000   \n",
      "std     32.186954   16465.190980                            NaN    0.260081   \n",
      "\n",
      "          followers        pages    chapters         views    favorites  \\\n",
      "count    111.000000   111.000000  108.000000  1.110000e+02   111.000000   \n",
      "mean    1952.594595  1072.693694  149.166667  7.152323e+05   459.171171   \n",
      "min        8.000000   127.000000   15.000000  2.354000e+03     3.000000   \n",
      "25%      171.500000   454.500000   62.750000  3.322500e+04    45.500000   \n",
      "50%      831.000000   686.000000   99.000000  1.864660e+05   203.000000   \n",
      "75%     3016.500000  1192.000000  175.250000  6.102165e+05   631.500000   \n",
      "max    14196.000000  6154.000000  999.000000  1.235591e+07  4727.000000   \n",
      "std     2585.566361  1086.080658  153.135790  1.774736e+06   701.730535   \n",
      "\n",
      "       ratings_count  \n",
      "count     111.000000  \n",
      "mean      294.108108  \n",
      "min         2.000000  \n",
      "25%        25.000000  \n",
      "50%        75.000000  \n",
      "75%       383.500000  \n",
      "max      2826.000000  \n",
      "std       469.260605  \n",
      "\n",
      "Key Metrics Summary:\n",
      "              views      rating     followers    favorites  ratings_count  \\\n",
      "count  1.110000e+02  107.000000    111.000000   111.000000     111.000000   \n",
      "mean   7.152323e+05    4.477009   1952.594595   459.171171     294.108108   \n",
      "std    1.774736e+06    0.260081   2585.566361   701.730535     469.260605   \n",
      "min    2.354000e+03    3.070000      8.000000     3.000000       2.000000   \n",
      "25%    3.322500e+04    4.350000    171.500000    45.500000      25.000000   \n",
      "50%    1.864660e+05    4.530000    831.000000   203.000000      75.000000   \n",
      "75%    6.102165e+05    4.600000   3016.500000   631.500000     383.500000   \n",
      "max    1.235591e+07    4.930000  14196.000000  4727.000000    2826.000000   \n",
      "\n",
      "         chapters        pages  \n",
      "count  108.000000   111.000000  \n",
      "mean   149.166667  1072.693694  \n",
      "std    153.135790  1086.080658  \n",
      "min     15.000000   127.000000  \n",
      "25%     62.750000   454.500000  \n",
      "50%     99.000000   686.000000  \n",
      "75%    175.250000  1192.000000  \n",
      "max    999.000000  6154.000000  \n"
     ]
    }
   ],
   "source": [
    "# Get descriptive statistics for numerical columns\n",
    "numerical_stats = df.describe()\n",
    "print(\"\\nNumerical Statistics:\")\n",
    "print(numerical_stats)\n",
    "\n",
    "# Create a more focused view of key metrics\n",
    "key_metrics = ['views', 'rating', 'followers', 'favorites', 'ratings_count', 'chapters', 'pages']\n",
    "print(\"\\nKey Metrics Summary:\")\n",
    "print(df[key_metrics].describe())"
   ]
  },
  {
   "cell_type": "markdown",
   "id": "0162b22f",
   "metadata": {},
   "source": [
    "## Missing Value Analysis\n",
    "\n",
    "Let's check for missing values in our dataset and visualize them."
   ]
  },
  {
   "cell_type": "code",
   "execution_count": 23,
   "id": "74dcdf25",
   "metadata": {},
   "outputs": [
    {
     "name": "stdout",
     "output_type": "stream",
     "text": [
      "\n",
      "Missing Value Analysis:\n",
      "          Missing Values  Percentage\n",
      "rating                 4    3.603604\n",
      "chapters               3    2.702703\n"
     ]
    },
    {
     "data": {
      "image/png": "[encoded data removed]",
      "text/plain": [
       "<Figure size 1000x600 with 2 Axes>"
      ]
     },
     "metadata": {},
     "output_type": "display_data"
    }
   ],
   "source": [
    "# Check for missing values\n",
    "missing_values = df.isnull().sum()\n",
    "missing_percentages = (df.isnull().sum() / len(df)) * 100\n",
    "\n",
    "# Create a DataFrame with missing value information\n",
    "missing_info = pd.DataFrame({\n",
    "    'Missing Values': missing_values,\n",
    "    'Percentage': missing_percentages\n",
    "})\n",
    "print(\"\\nMissing Value Analysis:\")\n",
    "print(missing_info[missing_info['Missing Values'] > 0])\n",
    "\n",
    "# Create a heatmap of missing values\n",
    "plt.figure(figsize=(10, 6))\n",
    "sns.heatmap(df.isnull(), \n",
    "           yticklabels=False, \n",
    "           cbar=True, \n",
    "           cmap='viridis')\n",
    "plt.title('Missing Value Heatmap')\n",
    "plt.tight_layout()\n",
    "plt.show()"
   ]
  },
  {
   "cell_type": "markdown",
   "id": "0ebf4082",
   "metadata": {},
   "source": [
    "## Numerical Features Distribution\n",
    "\n",
    "Let's analyze the distribution of key numerical features using histograms and box plots."
   ]
  },
  {
   "cell_type": "code",
   "execution_count": 24,
   "id": "76c8664d",
   "metadata": {},
   "outputs": [
    {
     "name": "stdout",
     "output_type": "stream",
     "text": [
      "Skewness for views: 5.34\n",
      "Applied log scaling to views due to right-skewed distribution (skewness: 5.34)\n"
     ]
    },
    {
     "data": {
      "application/vnd.plotly.v1+json": {
       "config": {
        "plotlyServerURL": "https://plot.ly"
       },
       "data": [
        {
         "name": "Distribution",
         "opacity": 0.75,
         "type": "bar",
         "x": [
          2573.940244389628,
          3054.9198929838103,
          3625.7778605739495,
          4303.309269883326,
          5107.447666231914,
          6061.851479246596,
          7194.600073808297,
          8539.0198686418,
          10134.664827653665,
          12028.48017090015,
          14276.183542542942,
          16943.904270918538,
          20110.128949134574,
          23868.01057681477,
          28328.10919988944,
          33621.644680365,
          39904.357295301845,
          47361.089747077305,
          56211.22539153893,
          66715.1426813057,
          79181.87571938155,
          93978.20630302632,
          111539.45495348211,
          132382.28841274694,
          157119.92041475012,
          186480.15295043317,
          221326.7888159671,
          262685.0454193276,
          311771.7175408462,
          370030.97646158375,
          439176.85870006564,
          521243.69441184204,
          618645.9590979023,
          734249.3095096687,
          871454.89368679,
          1034299.4156001362,
          1227573.898386154,
          1456964.640287072,
          1729220.510339565,
          2052351.505792104,
          2435864.412977609,
          2891042.5049829567,
          3431277.50505666,
          4072463.5823980314,
          4833464.972016117,
          5736670.976428971,
          6808654.677821208,
          8080954.740526883,
          9591003.305125875,
          11383227.273580514
         ],
         "y": {
          "bdata": "Iz3ZprGr9T74+LrFPULyPgAAAAAAAAAAAAAAAAAAAADsBWSpnNf1PjPWv/Pdmvs+2rCW6vgC7z7bI0DOBiHqPiH814HogvA+AAAAAAAAAAAtBuaVXXHnPtoL7tn6Vco+JVnSzF6k4D70+GXtIbLiPqaLVK4qgc8+sfFrNlqLyj6tuBuLdl22PhwBsIwF2LI+ie0coAPB3z5Jfza9JcHKPpFxaNLJiqY+qwxT9TX+oj6W1Fv7rgDAPj0ig0le97o+yAYG9Xi4pj5J4OzCsySjPkrkO7NkKbQ+EKYyioNipD561RythOaWPovMC6AP4rA+33de1EBSpD4W2h5u04uUPgMg4iMp2pw+s1GnAZpygz4PpR+4H5SIPga0qLmenHs+tK9KmsdygT6jWTawA5pjPhd252XvxXg+ReD9DpTUez4AAAAAAAAAAFQLnj69wVM+QLeSWW2lYD4AAAAAAAAAAN7pLiNgokc+AAAAAAAAAAAAAAAAAAAAAAAAAAAAAAAAAAAAAAAAAAB0rr6DIhI0Pg==",
          "dtype": "f8"
         }
        }
       ],
       "layout": {
        "height": 500,
        "showlegend": false,
        "template": {
         "data": {
          "bar": [
           {
            "error_x": {
             "color": "#2a3f5f"
            },
            "error_y": {
             "color": "#2a3f5f"
            },
            "marker": {
             "line": {
              "color": "#E5ECF6",
              "width": 0.5
             },
             "pattern": {
              "fillmode": "overlay",
              "size": 10,
              "solidity": 0.2
             }
            },
            "type": "bar"
           }
          ],
          "barpolar": [
           {
            "marker": {
             "line": {
              "color": "#E5ECF6",
              "width": 0.5
             },
             "pattern": {
              "fillmode": "overlay",
              "size": 10,
              "solidity": 0.2
             }
            },
            "type": "barpolar"
           }
          ],
          "carpet": [
           {
            "aaxis": {
             "endlinecolor": "#2a3f5f",
             "gridcolor": "white",
             "linecolor": "white",
             "minorgridcolor": "white",
             "startlinecolor": "#2a3f5f"
            },
            "baxis": {
             "endlinecolor": "#2a3f5f",
             "gridcolor": "white",
             "linecolor": "white",
             "minorgridcolor": "white",
             "startlinecolor": "#2a3f5f"
            },
            "type": "carpet"
           }
          ],
          "choropleth": [
           {
            "colorbar": {
             "outlinewidth": 0,
             "ticks": ""
            },
            "type": "choropleth"
           }
          ],
          "contour": [
           {
            "colorbar": {
             "outlinewidth": 0,
             "ticks": ""
            },
            "colorscale": [
             [
              0,
              "#0d0887"
             ],
             [
              0.1111111111111111,
              "#46039f"
             ],
             [
              0.2222222222222222,
              "#7201a8"
             ],
             [
              0.3333333333333333,
              "#9c179e"
             ],
             [
              0.4444444444444444,
              "#bd3786"
             ],
             [
              0.5555555555555556,
              "#d8576b"
             ],
             [
              0.6666666666666666,
              "#ed7953"
             ],
             [
              0.7777777777777778,
              "#fb9f3a"
             ],
             [
              0.8888888888888888,
              "#fdca26"
             ],
             [
              1,
              "#f0f921"
             ]
            ],
            "type": "contour"
           }
          ],
          "contourcarpet": [
           {
            "colorbar": {
             "outlinewidth": 0,
             "ticks": ""
            },
            "type": "contourcarpet"
           }
          ],
          "heatmap": [
           {
            "colorbar": {
             "outlinewidth": 0,
             "ticks": ""
            },
            "colorscale": [
             [
              0,
              "#0d0887"
             ],
             [
              0.1111111111111111,
              "#46039f"
             ],
             [
              0.2222222222222222,
              "#7201a8"
             ],
             [
              0.3333333333333333,
              "#9c179e"
             ],
             [
              0.4444444444444444,
              "#bd3786"
             ],
             [
              0.5555555555555556,
              "#d8576b"
             ],
             [
              0.6666666666666666,
              "#ed7953"
             ],
             [
              0.7777777777777778,
              "#fb9f3a"
             ],
             [
              0.8888888888888888,
              "#fdca26"
             ],
             [
              1,
              "#f0f921"
             ]
            ],
            "type": "heatmap"
           }
          ],
          "histogram": [
           {
            "marker": {
             "pattern": {
              "fillmode": "overlay",
              "size": 10,
              "solidity": 0.2
             }
            },
            "type": "histogram"
           }
          ],
          "histogram2d": [
           {
            "colorbar": {
             "outlinewidth": 0,
             "ticks": ""
            },
            "colorscale": [
             [
              0,
              "#0d0887"
             ],
             [
              0.1111111111111111,
              "#46039f"
             ],
             [
              0.2222222222222222,
              "#7201a8"
             ],
             [
              0.3333333333333333,
              "#9c179e"
             ],
             [
              0.4444444444444444,
              "#bd3786"
             ],
             [
              0.5555555555555556,
              "#d8576b"
             ],
             [
              0.6666666666666666,
              "#ed7953"
             ],
             [
              0.7777777777777778,
              "#fb9f3a"
             ],
             [
              0.8888888888888888,
              "#fdca26"
             ],
             [
              1,
              "#f0f921"
             ]
            ],
            "type": "histogram2d"
           }
          ],
          "histogram2dcontour": [
           {
            "colorbar": {
             "outlinewidth": 0,
             "ticks": ""
            },
            "colorscale": [
             [
              0,
              "#0d0887"
             ],
             [
              0.1111111111111111,
              "#46039f"
             ],
             [
              0.2222222222222222,
              "#7201a8"
             ],
             [
              0.3333333333333333,
              "#9c179e"
             ],
             [
              0.4444444444444444,
              "#bd3786"
             ],
             [
              0.5555555555555556,
              "#d8576b"
             ],
             [
              0.6666666666666666,
              "#ed7953"
             ],
             [
              0.7777777777777778,
              "#fb9f3a"
             ],
             [
              0.8888888888888888,
              "#fdca26"
             ],
             [
              1,
              "#f0f921"
             ]
            ],
            "type": "histogram2dcontour"
           }
          ],
          "mesh3d": [
           {
            "colorbar": {
             "outlinewidth": 0,
             "ticks": ""
            },
            "type": "mesh3d"
           }
          ],
          "parcoords": [
           {
            "line": {
             "colorbar": {
              "outlinewidth": 0,
              "ticks": ""
             }
            },
            "type": "parcoords"
           }
          ],
          "pie": [
           {
            "automargin": true,
            "type": "pie"
           }
          ],
          "scatter": [
           {
            "fillpattern": {
             "fillmode": "overlay",
             "size": 10,
             "solidity": 0.2
            },
            "type": "scatter"
           }
          ],
          "scatter3d": [
           {
            "line": {
             "colorbar": {
              "outlinewidth": 0,
              "ticks": ""
             }
            },
            "marker": {
             "colorbar": {
              "outlinewidth": 0,
              "ticks": ""
             }
            },
            "type": "scatter3d"
           }
          ],
          "scattercarpet": [
           {
            "marker": {
             "colorbar": {
              "outlinewidth": 0,
              "ticks": ""
             }
            },
            "type": "scattercarpet"
           }
          ],
          "scattergeo": [
           {
            "marker": {
             "colorbar": {
              "outlinewidth": 0,
              "ticks": ""
             }
            },
            "type": "scattergeo"
           }
          ],
          "scattergl": [
           {
            "marker": {
             "colorbar": {
              "outlinewidth": 0,
              "ticks": ""
             }
            },
            "type": "scattergl"
           }
          ],
          "scattermap": [
           {
            "marker": {
             "colorbar": {
              "outlinewidth": 0,
              "ticks": ""
             }
            },
            "type": "scattermap"
           }
          ],
          "scattermapbox": [
           {
            "marker": {
             "colorbar": {
              "outlinewidth": 0,
              "ticks": ""
             }
            },
            "type": "scattermapbox"
           }
          ],
          "scatterpolar": [
           {
            "marker": {
             "colorbar": {
              "outlinewidth": 0,
              "ticks": ""
             }
            },
            "type": "scatterpolar"
           }
          ],
          "scatterpolargl": [
           {
            "marker": {
             "colorbar": {
              "outlinewidth": 0,
              "ticks": ""
             }
            },
            "type": "scatterpolargl"
           }
          ],
          "scatterternary": [
           {
            "marker": {
             "colorbar": {
              "outlinewidth": 0,
              "ticks": ""
             }
            },
            "type": "scatterternary"
           }
          ],
          "surface": [
           {
            "colorbar": {
             "outlinewidth": 0,
             "ticks": ""
            },
            "colorscale": [
             [
              0,
              "#0d0887"
             ],
             [
              0.1111111111111111,
              "#46039f"
             ],
             [
              0.2222222222222222,
              "#7201a8"
             ],
             [
              0.3333333333333333,
              "#9c179e"
             ],
             [
              0.4444444444444444,
              "#bd3786"
             ],
             [
              0.5555555555555556,
              "#d8576b"
             ],
             [
              0.6666666666666666,
              "#ed7953"
             ],
             [
              0.7777777777777778,
              "#fb9f3a"
             ],
             [
              0.8888888888888888,
              "#fdca26"
             ],
             [
              1,
              "#f0f921"
             ]
            ],
            "type": "surface"
           }
          ],
          "table": [
           {
            "cells": {
             "fill": {
              "color": "#EBF0F8"
             },
             "line": {
              "color": "white"
             }
            },
            "header": {
             "fill": {
              "color": "#C8D4E3"
             },
             "line": {
              "color": "white"
             }
            },
            "type": "table"
           }
          ]
         },
         "layout": {
          "annotationdefaults": {
           "arrowcolor": "#2a3f5f",
           "arrowhead": 0,
           "arrowwidth": 1
          },
          "autotypenumbers": "strict",
          "coloraxis": {
           "colorbar": {
            "outlinewidth": 0,
            "ticks": ""
           }
          },
          "colorscale": {
           "diverging": [
            [
             0,
             "#8e0152"
            ],
            [
             0.1,
             "#c51b7d"
            ],
            [
             0.2,
             "#de77ae"
            ],
            [
             0.3,
             "#f1b6da"
            ],
            [
             0.4,
             "#fde0ef"
            ],
            [
             0.5,
             "#f7f7f7"
            ],
            [
             0.6,
             "#e6f5d0"
            ],
            [
             0.7,
             "#b8e186"
            ],
            [
             0.8,
             "#7fbc41"
            ],
            [
             0.9,
             "#4d9221"
            ],
            [
             1,
             "#276419"
            ]
           ],
           "sequential": [
            [
             0,
             "#0d0887"
            ],
            [
             0.1111111111111111,
             "#46039f"
            ],
            [
             0.2222222222222222,
             "#7201a8"
            ],
            [
             0.3333333333333333,
             "#9c179e"
            ],
            [
             0.4444444444444444,
             "#bd3786"
            ],
            [
             0.5555555555555556,
             "#d8576b"
            ],
            [
             0.6666666666666666,
             "#ed7953"
            ],
            [
             0.7777777777777778,
             "#fb9f3a"
            ],
            [
             0.8888888888888888,
             "#fdca26"
            ],
            [
             1,
             "#f0f921"
            ]
           ],
           "sequentialminus": [
            [
             0,
             "#0d0887"
            ],
            [
             0.1111111111111111,
             "#46039f"
            ],
            [
             0.2222222222222222,
             "#7201a8"
            ],
            [
             0.3333333333333333,
             "#9c179e"
            ],
            [
             0.4444444444444444,
             "#bd3786"
            ],
            [
             0.5555555555555556,
             "#d8576b"
            ],
            [
             0.6666666666666666,
             "#ed7953"
            ],
            [
             0.7777777777777778,
             "#fb9f3a"
            ],
            [
             0.8888888888888888,
             "#fdca26"
            ],
            [
             1,
             "#f0f921"
            ]
           ]
          },
          "colorway": [
           "#636efa",
           "#EF553B",
           "#00cc96",
           "#ab63fa",
           "#FFA15A",
           "#19d3f3",
           "#FF6692",
           "#B6E880",
           "#FF97FF",
           "#FECB52"
          ],
          "font": {
           "color": "#2a3f5f"
          },
          "geo": {
           "bgcolor": "white",
           "lakecolor": "white",
           "landcolor": "#E5ECF6",
           "showlakes": true,
           "showland": true,
           "subunitcolor": "white"
          },
          "hoverlabel": {
           "align": "left"
          },
          "hovermode": "closest",
          "mapbox": {
           "style": "light"
          },
          "paper_bgcolor": "white",
          "plot_bgcolor": "#E5ECF6",
          "polar": {
           "angularaxis": {
            "gridcolor": "white",
            "linecolor": "white",
            "ticks": ""
           },
           "bgcolor": "#E5ECF6",
           "radialaxis": {
            "gridcolor": "white",
            "linecolor": "white",
            "ticks": ""
           }
          },
          "scene": {
           "xaxis": {
            "backgroundcolor": "#E5ECF6",
            "gridcolor": "white",
            "gridwidth": 2,
            "linecolor": "white",
            "showbackground": true,
            "ticks": "",
            "zerolinecolor": "white"
           },
           "yaxis": {
            "backgroundcolor": "#E5ECF6",
            "gridcolor": "white",
            "gridwidth": 2,
            "linecolor": "white",
            "showbackground": true,
            "ticks": "",
            "zerolinecolor": "white"
           },
           "zaxis": {
            "backgroundcolor": "#E5ECF6",
            "gridcolor": "white",
            "gridwidth": 2,
            "linecolor": "white",
            "showbackground": true,
            "ticks": "",
            "zerolinecolor": "white"
           }
          },
          "shapedefaults": {
           "line": {
            "color": "#2a3f5f"
           }
          },
          "ternary": {
           "aaxis": {
            "gridcolor": "white",
            "linecolor": "white",
            "ticks": ""
           },
           "baxis": {
            "gridcolor": "white",
            "linecolor": "white",
            "ticks": ""
           },
           "bgcolor": "#E5ECF6",
           "caxis": {
            "gridcolor": "white",
            "linecolor": "white",
            "ticks": ""
           }
          },
          "title": {
           "x": 0.05
          },
          "xaxis": {
           "automargin": true,
           "gridcolor": "white",
           "linecolor": "white",
           "ticks": "",
           "title": {
            "standoff": 15
           },
           "zerolinecolor": "white",
           "zerolinewidth": 2
          },
          "yaxis": {
           "automargin": true,
           "gridcolor": "white",
           "linecolor": "white",
           "ticks": "",
           "title": {
            "standoff": 15
           },
           "zerolinecolor": "white",
           "zerolinewidth": 2
          }
         }
        },
        "title": {
         "text": "Views Distribution (Log Scale)"
        },
        "width": 800,
        "xaxis": {
         "title": {
          "text": "Views"
         },
         "type": "log"
        },
        "yaxis": {
         "title": {
          "text": "Frequency"
         }
        }
       }
      }
     },
     "metadata": {},
     "output_type": "display_data"
    },
    {
     "name": "stdout",
     "output_type": "stream",
     "text": [
      "\n",
      "Views Statistics:\n",
      "Count: 111\n",
      "Mean:  715,232.28\n",
      "Std:   1,774,736.30\n",
      "Min:   2,354.00\n",
      "25%:   33,225.00\n",
      "50%:   186,466.00\n",
      "75%:   610,216.50\n",
      "Max:   12,355,911.00\n",
      "Note: views shows significant right skew - median (186466.00) is much closer to min than max\n",
      "90th percentile: 1,675,903.00\n",
      "95th percentile: 2,452,310.50\n",
      "99th percentile: 11,499,563.60\n",
      "Percent of data between median and 90th percentile: 38.7%\n",
      "Percent of data between 90th and max: 10.8%\n",
      "Skewness for rating: -1.89\n"
     ]
    },
    {
     "data": {
      "application/vnd.plotly.v1+json": {
       "config": {
        "plotlyServerURL": "https://plot.ly"
       },
       "data": [
        {
         "name": "Distribution",
         "opacity": 0.75,
         "type": "bar",
         "x": [
          3.0885999999999996,
          3.1258,
          3.163,
          3.2001999999999997,
          3.2374,
          3.2745999999999995,
          3.3118,
          3.349,
          3.3861999999999997,
          3.4234,
          3.4605999999999995,
          3.4978,
          3.535,
          3.5721999999999996,
          3.6094,
          3.6465999999999994,
          3.6837999999999997,
          3.721,
          3.7581999999999995,
          3.7954,
          3.8326,
          3.8697999999999997,
          3.907,
          3.9441999999999995,
          3.9814,
          4.018599999999999,
          4.0558,
          4.093,
          4.130199999999999,
          4.1674,
          4.2046,
          4.2418,
          4.279,
          4.316199999999999,
          4.3534,
          4.3906,
          4.4277999999999995,
          4.465,
          4.5022,
          4.5394,
          4.5766,
          4.6137999999999995,
          4.651,
          4.6882,
          4.7254,
          4.7626,
          4.799799999999999,
          4.837,
          4.8742,
          4.9113999999999995
         ],
         "y": {
          "bdata": "MTubUisU0D8AAAAAAAAAAAAAAAAAAAAAAAAAAAAAAAAAAAAAAAAAAAAAAAAAAAAAAAAAAAAAAAAAAAAAAAAAAAAAAAAAAAAAAAAAAAAAAAAAAAAAAAAAAAAAAAAAAAAAAAAAAAAAAAAAAAAAAAAAAAAAAAAAAAAAMTubUisU0D8AAAAAAAAAAAAAAAAAAAAAAAAAAAAAAAD7OptSKxTQPwAAAAAAAAAAAAAAAAAAAAAxO5tSKxTQPwAAAAAAAAAAAAAAAAAAAAAAAAAAAAAAAAAAAAAAAAAAZzubUisU0D8AAAAAAAAAALkJQic2GfQ/+zqbUisU8D9nO5tSKxTwPxrZ6PtAHug/edjo+0Ae6D952Oj7QB74P7kJQic2GfQ/ZzubUisU4D+5CUInNhn0P9Si7rywFgJA2T88ZsYgCkDZPzxmxiAKQEEKQic2GQRAedjo+0Ae6D9nO5tSKxTgP/s6m1IrFPA/+zqbUisU4D9nO5tSKxTgP3nY6PtAHug/ZzubUisU0D952Oj7QB7oPw==",
          "dtype": "f8"
         }
        }
       ],
       "layout": {
        "height": 500,
        "showlegend": false,
        "template": {
         "data": {
          "bar": [
           {
            "error_x": {
             "color": "#2a3f5f"
            },
            "error_y": {
             "color": "#2a3f5f"
            },
            "marker": {
             "line": {
              "color": "#E5ECF6",
              "width": 0.5
             },
             "pattern": {
              "fillmode": "overlay",
              "size": 10,
              "solidity": 0.2
             }
            },
            "type": "bar"
           }
          ],
          "barpolar": [
           {
            "marker": {
             "line": {
              "color": "#E5ECF6",
              "width": 0.5
             },
             "pattern": {
              "fillmode": "overlay",
              "size": 10,
              "solidity": 0.2
             }
            },
            "type": "barpolar"
           }
          ],
          "carpet": [
           {
            "aaxis": {
             "endlinecolor": "#2a3f5f",
             "gridcolor": "white",
             "linecolor": "white",
             "minorgridcolor": "white",
             "startlinecolor": "#2a3f5f"
            },
            "baxis": {
             "endlinecolor": "#2a3f5f",
             "gridcolor": "white",
             "linecolor": "white",
             "minorgridcolor": "white",
             "startlinecolor": "#2a3f5f"
            },
            "type": "carpet"
           }
          ],
          "choropleth": [
           {
            "colorbar": {
             "outlinewidth": 0,
             "ticks": ""
            },
            "type": "choropleth"
           }
          ],
          "contour": [
           {
            "colorbar": {
             "outlinewidth": 0,
             "ticks": ""
            },
            "colorscale": [
             [
              0,
              "#0d0887"
             ],
             [
              0.1111111111111111,
              "#46039f"
             ],
             [
              0.2222222222222222,
              "#7201a8"
             ],
             [
              0.3333333333333333,
              "#9c179e"
             ],
             [
              0.4444444444444444,
              "#bd3786"
             ],
             [
              0.5555555555555556,
              "#d8576b"
             ],
             [
              0.6666666666666666,
              "#ed7953"
             ],
             [
              0.7777777777777778,
              "#fb9f3a"
             ],
             [
              0.8888888888888888,
              "#fdca26"
             ],
             [
              1,
              "#f0f921"
             ]
            ],
            "type": "contour"
           }
          ],
          "contourcarpet": [
           {
            "colorbar": {
             "outlinewidth": 0,
             "ticks": ""
            },
            "type": "contourcarpet"
           }
          ],
          "heatmap": [
           {
            "colorbar": {
             "outlinewidth": 0,
             "ticks": ""
            },
            "colorscale": [
             [
              0,
              "#0d0887"
             ],
             [
              0.1111111111111111,
              "#46039f"
             ],
             [
              0.2222222222222222,
              "#7201a8"
             ],
             [
              0.3333333333333333,
              "#9c179e"
             ],
             [
              0.4444444444444444,
              "#bd3786"
             ],
             [
              0.5555555555555556,
              "#d8576b"
             ],
             [
              0.6666666666666666,
              "#ed7953"
             ],
             [
              0.7777777777777778,
              "#fb9f3a"
             ],
             [
              0.8888888888888888,
              "#fdca26"
             ],
             [
              1,
              "#f0f921"
             ]
            ],
            "type": "heatmap"
           }
          ],
          "histogram": [
           {
            "marker": {
             "pattern": {
              "fillmode": "overlay",
              "size": 10,
              "solidity": 0.2
             }
            },
            "type": "histogram"
           }
          ],
          "histogram2d": [
           {
            "colorbar": {
             "outlinewidth": 0,
             "ticks": ""
            },
            "colorscale": [
             [
              0,
              "#0d0887"
             ],
             [
              0.1111111111111111,
              "#46039f"
             ],
             [
              0.2222222222222222,
              "#7201a8"
             ],
             [
              0.3333333333333333,
              "#9c179e"
             ],
             [
              0.4444444444444444,
              "#bd3786"
             ],
             [
              0.5555555555555556,
              "#d8576b"
             ],
             [
              0.6666666666666666,
              "#ed7953"
             ],
             [
              0.7777777777777778,
              "#fb9f3a"
             ],
             [
              0.8888888888888888,
              "#fdca26"
             ],
             [
              1,
              "#f0f921"
             ]
            ],
            "type": "histogram2d"
           }
          ],
          "histogram2dcontour": [
           {
            "colorbar": {
             "outlinewidth": 0,
             "ticks": ""
            },
            "colorscale": [
             [
              0,
              "#0d0887"
             ],
             [
              0.1111111111111111,
              "#46039f"
             ],
             [
              0.2222222222222222,
              "#7201a8"
             ],
             [
              0.3333333333333333,
              "#9c179e"
             ],
             [
              0.4444444444444444,
              "#bd3786"
             ],
             [
              0.5555555555555556,
              "#d8576b"
             ],
             [
              0.6666666666666666,
              "#ed7953"
             ],
             [
              0.7777777777777778,
              "#fb9f3a"
             ],
             [
              0.8888888888888888,
              "#fdca26"
             ],
             [
              1,
              "#f0f921"
             ]
            ],
            "type": "histogram2dcontour"
           }
          ],
          "mesh3d": [
           {
            "colorbar": {
             "outlinewidth": 0,
             "ticks": ""
            },
            "type": "mesh3d"
           }
          ],
          "parcoords": [
           {
            "line": {
             "colorbar": {
              "outlinewidth": 0,
              "ticks": ""
             }
            },
            "type": "parcoords"
           }
          ],
          "pie": [
           {
            "automargin": true,
            "type": "pie"
           }
          ],
          "scatter": [
           {
            "fillpattern": {
             "fillmode": "overlay",
             "size": 10,
             "solidity": 0.2
            },
            "type": "scatter"
           }
          ],
          "scatter3d": [
           {
            "line": {
             "colorbar": {
              "outlinewidth": 0,
              "ticks": ""
             }
            },
            "marker": {
             "colorbar": {
              "outlinewidth": 0,
              "ticks": ""
             }
            },
            "type": "scatter3d"
           }
          ],
          "scattercarpet": [
           {
            "marker": {
             "colorbar": {
              "outlinewidth": 0,
              "ticks": ""
             }
            },
            "type": "scattercarpet"
           }
          ],
          "scattergeo": [
           {
            "marker": {
             "colorbar": {
              "outlinewidth": 0,
              "ticks": ""
             }
            },
            "type": "scattergeo"
           }
          ],
          "scattergl": [
           {
            "marker": {
             "colorbar": {
              "outlinewidth": 0,
              "ticks": ""
             }
            },
            "type": "scattergl"
           }
          ],
          "scattermap": [
           {
            "marker": {
             "colorbar": {
              "outlinewidth": 0,
              "ticks": ""
             }
            },
            "type": "scattermap"
           }
          ],
          "scattermapbox": [
           {
            "marker": {
             "colorbar": {
              "outlinewidth": 0,
              "ticks": ""
             }
            },
            "type": "scattermapbox"
           }
          ],
          "scatterpolar": [
           {
            "marker": {
             "colorbar": {
              "outlinewidth": 0,
              "ticks": ""
             }
            },
            "type": "scatterpolar"
           }
          ],
          "scatterpolargl": [
           {
            "marker": {
             "colorbar": {
              "outlinewidth": 0,
              "ticks": ""
             }
            },
            "type": "scatterpolargl"
           }
          ],
          "scatterternary": [
           {
            "marker": {
             "colorbar": {
              "outlinewidth": 0,
              "ticks": ""
             }
            },
            "type": "scatterternary"
           }
          ],
          "surface": [
           {
            "colorbar": {
             "outlinewidth": 0,
             "ticks": ""
            },
            "colorscale": [
             [
              0,
              "#0d0887"
             ],
             [
              0.1111111111111111,
              "#46039f"
             ],
             [
              0.2222222222222222,
              "#7201a8"
             ],
             [
              0.3333333333333333,
              "#9c179e"
             ],
             [
              0.4444444444444444,
              "#bd3786"
             ],
             [
              0.5555555555555556,
              "#d8576b"
             ],
             [
              0.6666666666666666,
              "#ed7953"
             ],
             [
              0.7777777777777778,
              "#fb9f3a"
             ],
             [
              0.8888888888888888,
              "#fdca26"
             ],
             [
              1,
              "#f0f921"
             ]
            ],
            "type": "surface"
           }
          ],
          "table": [
           {
            "cells": {
             "fill": {
              "color": "#EBF0F8"
             },
             "line": {
              "color": "white"
             }
            },
            "header": {
             "fill": {
              "color": "#C8D4E3"
             },
             "line": {
              "color": "white"
             }
            },
            "type": "table"
           }
          ]
         },
         "layout": {
          "annotationdefaults": {
           "arrowcolor": "#2a3f5f",
           "arrowhead": 0,
           "arrowwidth": 1
          },
          "autotypenumbers": "strict",
          "coloraxis": {
           "colorbar": {
            "outlinewidth": 0,
            "ticks": ""
           }
          },
          "colorscale": {
           "diverging": [
            [
             0,
             "#8e0152"
            ],
            [
             0.1,
             "#c51b7d"
            ],
            [
             0.2,
             "#de77ae"
            ],
            [
             0.3,
             "#f1b6da"
            ],
            [
             0.4,
             "#fde0ef"
            ],
            [
             0.5,
             "#f7f7f7"
            ],
            [
             0.6,
             "#e6f5d0"
            ],
            [
             0.7,
             "#b8e186"
            ],
            [
             0.8,
             "#7fbc41"
            ],
            [
             0.9,
             "#4d9221"
            ],
            [
             1,
             "#276419"
            ]
           ],
           "sequential": [
            [
             0,
             "#0d0887"
            ],
            [
             0.1111111111111111,
             "#46039f"
            ],
            [
             0.2222222222222222,
             "#7201a8"
            ],
            [
             0.3333333333333333,
             "#9c179e"
            ],
            [
             0.4444444444444444,
             "#bd3786"
            ],
            [
             0.5555555555555556,
             "#d8576b"
            ],
            [
             0.6666666666666666,
             "#ed7953"
            ],
            [
             0.7777777777777778,
             "#fb9f3a"
            ],
            [
             0.8888888888888888,
             "#fdca26"
            ],
            [
             1,
             "#f0f921"
            ]
           ],
           "sequentialminus": [
            [
             0,
             "#0d0887"
            ],
            [
             0.1111111111111111,
             "#46039f"
            ],
            [
             0.2222222222222222,
             "#7201a8"
            ],
            [
             0.3333333333333333,
             "#9c179e"
            ],
            [
             0.4444444444444444,
             "#bd3786"
            ],
            [
             0.5555555555555556,
             "#d8576b"
            ],
            [
             0.6666666666666666,
             "#ed7953"
            ],
            [
             0.7777777777777778,
             "#fb9f3a"
            ],
            [
             0.8888888888888888,
             "#fdca26"
            ],
            [
             1,
             "#f0f921"
            ]
           ]
          },
          "colorway": [
           "#636efa",
           "#EF553B",
           "#00cc96",
           "#ab63fa",
           "#FFA15A",
           "#19d3f3",
           "#FF6692",
           "#B6E880",
           "#FF97FF",
           "#FECB52"
          ],
          "font": {
           "color": "#2a3f5f"
          },
          "geo": {
           "bgcolor": "white",
           "lakecolor": "white",
           "landcolor": "#E5ECF6",
           "showlakes": true,
           "showland": true,
           "subunitcolor": "white"
          },
          "hoverlabel": {
           "align": "left"
          },
          "hovermode": "closest",
          "mapbox": {
           "style": "light"
          },
          "paper_bgcolor": "white",
          "plot_bgcolor": "#E5ECF6",
          "polar": {
           "angularaxis": {
            "gridcolor": "white",
            "linecolor": "white",
            "ticks": ""
           },
           "bgcolor": "#E5ECF6",
           "radialaxis": {
            "gridcolor": "white",
            "linecolor": "white",
            "ticks": ""
           }
          },
          "scene": {
           "xaxis": {
            "backgroundcolor": "#E5ECF6",
            "gridcolor": "white",
            "gridwidth": 2,
            "linecolor": "white",
            "showbackground": true,
            "ticks": "",
            "zerolinecolor": "white"
           },
           "yaxis": {
            "backgroundcolor": "#E5ECF6",
            "gridcolor": "white",
            "gridwidth": 2,
            "linecolor": "white",
            "showbackground": true,
            "ticks": "",
            "zerolinecolor": "white"
           },
           "zaxis": {
            "backgroundcolor": "#E5ECF6",
            "gridcolor": "white",
            "gridwidth": 2,
            "linecolor": "white",
            "showbackground": true,
            "ticks": "",
            "zerolinecolor": "white"
           }
          },
          "shapedefaults": {
           "line": {
            "color": "#2a3f5f"
           }
          },
          "ternary": {
           "aaxis": {
            "gridcolor": "white",
            "linecolor": "white",
            "ticks": ""
           },
           "baxis": {
            "gridcolor": "white",
            "linecolor": "white",
            "ticks": ""
           },
           "bgcolor": "#E5ECF6",
           "caxis": {
            "gridcolor": "white",
            "linecolor": "white",
            "ticks": ""
           }
          },
          "title": {
           "x": 0.05
          },
          "xaxis": {
           "automargin": true,
           "gridcolor": "white",
           "linecolor": "white",
           "ticks": "",
           "title": {
            "standoff": 15
           },
           "zerolinecolor": "white",
           "zerolinewidth": 2
          },
          "yaxis": {
           "automargin": true,
           "gridcolor": "white",
           "linecolor": "white",
           "ticks": "",
           "title": {
            "standoff": 15
           },
           "zerolinecolor": "white",
           "zerolinewidth": 2
          }
         }
        },
        "title": {
         "text": "Rating Distribution"
        },
        "width": 800,
        "xaxis": {
         "title": {
          "text": "Rating"
         }
        },
        "yaxis": {
         "title": {
          "text": "Frequency"
         }
        }
       }
      }
     },
     "metadata": {},
     "output_type": "display_data"
    },
    {
     "name": "stdout",
     "output_type": "stream",
     "text": [
      "\n",
      "Rating Statistics:\n",
      "Count: 107\n",
      "Mean:  4.48\n",
      "Std:   0.26\n",
      "Min:   3.07\n",
      "25%:   4.35\n",
      "50%:   4.53\n",
      "75%:   4.60\n",
      "Max:   4.93\n",
      "Skewness for followers: 2.13\n",
      "Applied log scaling to followers due to right-skewed distribution (skewness: 2.13)\n"
     ]
    },
    {
     "data": {
      "application/vnd.plotly.v1+json": {
       "config": {
        "plotlyServerURL": "https://plot.ly"
       },
       "data": [
        {
         "name": "Distribution",
         "opacity": 0.75,
         "type": "bar",
         "x": [
          8.645596773566503,
          10.040989119209378,
          11.661596663903866,
          13.543768959116427,
          15.72972234460036,
          18.26848684329309,
          21.21700588428613,
          24.64141352019529,
          28.618517786384306,
          33.23752347317063,
          38.60203295207561,
          44.832369933817574,
          52.06827827897071,
          60.47205639448731,
          70.23219751929047,
          81.5676175490253,
          94.73256522831463,
          110.02232484408418,
          127.77983932899078,
          148.40340232840148,
          172.35559176077845,
          200.1736452475044,
          232.48151012871313,
          270.0038383419546,
          313.5822400629889,
          364.19416067109455,
          422.97480444134953,
          491.2425967031639,
          570.5287555706625,
          662.6116365264957,
          769.556620193777,
          893.7624379622386,
          1038.0149745330766,
          1205.549754151144,
          1400.1245120646124,
          1626.103478959684,
          1888.5552688350933,
          2193.366565900584,
          2547.374160449098,
          2958.518295212252,
          3436.0207616938796,
          3990.5917411081505,
          4634.670029278289,
          5382.702033640152,
          6251.4658001371345,
          7260.4473377946015,
          8432.277681777034,
          9793.240498070052,
          11373.861615148762,
          13209.593705581756
         ],
         "y": {
          "bdata": "umyuErbWfD8AAAAAAAAAAHZkKGBYYXU/TXPNcLdocj8AAAAAAAAAAFW3j8fDS2s/TONtha2Adz/IwbDdijxkPzg3Nb+abHE/AJZRmW4BXj8AAAAAAAAAABc5JBHPPlY/AAAAAAAAAAAAAAAAAAAAAH8STVKBZlw/4XJ9OiB0SD87+2OcKA5lP3Hx2SMXIUI/AAAAAAAAAAAjU8m6XYVnPyfuJNDsW1E/EHuaV87tMz+5G5A1A3NVP73RnJSvjE0/R1hwpmxxKT+vA684MW5APy13oxDh3EI/iGLhy889MD+GVpEkAfgbPzcXOz/7FBg/IyJ4gjy8ND+ChofnMFE2P/bIGQ/Fvh4/1KoD0vh4Gj/lzwDGLcsWP4PbySpEoCM/qS8npRFZKT/yi7fMthkdP8kgoyFuDvk+f5Uj8wSTBT8sHSTMfJMSP3RqZMrt/Rc/x0NJUP02ET8lm1RXdskRPwhvFCePa+Q+0ecCWxaV8T4AAAAAAAAAAEqGJ+P4Eeo+JXeJLn5y1j4AAAAAAAAAAA==",
          "dtype": "f8"
         }
        }
       ],
       "layout": {
        "height": 500,
        "showlegend": false,
        "template": {
         "data": {
          "bar": [
           {
            "error_x": {
             "color": "#2a3f5f"
            },
            "error_y": {
             "color": "#2a3f5f"
            },
            "marker": {
             "line": {
              "color": "#E5ECF6",
              "width": 0.5
             },
             "pattern": {
              "fillmode": "overlay",
              "size": 10,
              "solidity": 0.2
             }
            },
            "type": "bar"
           }
          ],
          "barpolar": [
           {
            "marker": {
             "line": {
              "color": "#E5ECF6",
              "width": 0.5
             },
             "pattern": {
              "fillmode": "overlay",
              "size": 10,
              "solidity": 0.2
             }
            },
            "type": "barpolar"
           }
          ],
          "carpet": [
           {
            "aaxis": {
             "endlinecolor": "#2a3f5f",
             "gridcolor": "white",
             "linecolor": "white",
             "minorgridcolor": "white",
             "startlinecolor": "#2a3f5f"
            },
            "baxis": {
             "endlinecolor": "#2a3f5f",
             "gridcolor": "white",
             "linecolor": "white",
             "minorgridcolor": "white",
             "startlinecolor": "#2a3f5f"
            },
            "type": "carpet"
           }
          ],
          "choropleth": [
           {
            "colorbar": {
             "outlinewidth": 0,
             "ticks": ""
            },
            "type": "choropleth"
           }
          ],
          "contour": [
           {
            "colorbar": {
             "outlinewidth": 0,
             "ticks": ""
            },
            "colorscale": [
             [
              0,
              "#0d0887"
             ],
             [
              0.1111111111111111,
              "#46039f"
             ],
             [
              0.2222222222222222,
              "#7201a8"
             ],
             [
              0.3333333333333333,
              "#9c179e"
             ],
             [
              0.4444444444444444,
              "#bd3786"
             ],
             [
              0.5555555555555556,
              "#d8576b"
             ],
             [
              0.6666666666666666,
              "#ed7953"
             ],
             [
              0.7777777777777778,
              "#fb9f3a"
             ],
             [
              0.8888888888888888,
              "#fdca26"
             ],
             [
              1,
              "#f0f921"
             ]
            ],
            "type": "contour"
           }
          ],
          "contourcarpet": [
           {
            "colorbar": {
             "outlinewidth": 0,
             "ticks": ""
            },
            "type": "contourcarpet"
           }
          ],
          "heatmap": [
           {
            "colorbar": {
             "outlinewidth": 0,
             "ticks": ""
            },
            "colorscale": [
             [
              0,
              "#0d0887"
             ],
             [
              0.1111111111111111,
              "#46039f"
             ],
             [
              0.2222222222222222,
              "#7201a8"
             ],
             [
              0.3333333333333333,
              "#9c179e"
             ],
             [
              0.4444444444444444,
              "#bd3786"
             ],
             [
              0.5555555555555556,
              "#d8576b"
             ],
             [
              0.6666666666666666,
              "#ed7953"
             ],
             [
              0.7777777777777778,
              "#fb9f3a"
             ],
             [
              0.8888888888888888,
              "#fdca26"
             ],
             [
              1,
              "#f0f921"
             ]
            ],
            "type": "heatmap"
           }
          ],
          "histogram": [
           {
            "marker": {
             "pattern": {
              "fillmode": "overlay",
              "size": 10,
              "solidity": 0.2
             }
            },
            "type": "histogram"
           }
          ],
          "histogram2d": [
           {
            "colorbar": {
             "outlinewidth": 0,
             "ticks": ""
            },
            "colorscale": [
             [
              0,
              "#0d0887"
             ],
             [
              0.1111111111111111,
              "#46039f"
             ],
             [
              0.2222222222222222,
              "#7201a8"
             ],
             [
              0.3333333333333333,
              "#9c179e"
             ],
             [
              0.4444444444444444,
              "#bd3786"
             ],
             [
              0.5555555555555556,
              "#d8576b"
             ],
             [
              0.6666666666666666,
              "#ed7953"
             ],
             [
              0.7777777777777778,
              "#fb9f3a"
             ],
             [
              0.8888888888888888,
              "#fdca26"
             ],
             [
              1,
              "#f0f921"
             ]
            ],
            "type": "histogram2d"
           }
          ],
          "histogram2dcontour": [
           {
            "colorbar": {
             "outlinewidth": 0,
             "ticks": ""
            },
            "colorscale": [
             [
              0,
              "#0d0887"
             ],
             [
              0.1111111111111111,
              "#46039f"
             ],
             [
              0.2222222222222222,
              "#7201a8"
             ],
             [
              0.3333333333333333,
              "#9c179e"
             ],
             [
              0.4444444444444444,
              "#bd3786"
             ],
             [
              0.5555555555555556,
              "#d8576b"
             ],
             [
              0.6666666666666666,
              "#ed7953"
             ],
             [
              0.7777777777777778,
              "#fb9f3a"
             ],
             [
              0.8888888888888888,
              "#fdca26"
             ],
             [
              1,
              "#f0f921"
             ]
            ],
            "type": "histogram2dcontour"
           }
          ],
          "mesh3d": [
           {
            "colorbar": {
             "outlinewidth": 0,
             "ticks": ""
            },
            "type": "mesh3d"
           }
          ],
          "parcoords": [
           {
            "line": {
             "colorbar": {
              "outlinewidth": 0,
              "ticks": ""
             }
            },
            "type": "parcoords"
           }
          ],
          "pie": [
           {
            "automargin": true,
            "type": "pie"
           }
          ],
          "scatter": [
           {
            "fillpattern": {
             "fillmode": "overlay",
             "size": 10,
             "solidity": 0.2
            },
            "type": "scatter"
           }
          ],
          "scatter3d": [
           {
            "line": {
             "colorbar": {
              "outlinewidth": 0,
              "ticks": ""
             }
            },
            "marker": {
             "colorbar": {
              "outlinewidth": 0,
              "ticks": ""
             }
            },
            "type": "scatter3d"
           }
          ],
          "scattercarpet": [
           {
            "marker": {
             "colorbar": {
              "outlinewidth": 0,
              "ticks": ""
             }
            },
            "type": "scattercarpet"
           }
          ],
          "scattergeo": [
           {
            "marker": {
             "colorbar": {
              "outlinewidth": 0,
              "ticks": ""
             }
            },
            "type": "scattergeo"
           }
          ],
          "scattergl": [
           {
            "marker": {
             "colorbar": {
              "outlinewidth": 0,
              "ticks": ""
             }
            },
            "type": "scattergl"
           }
          ],
          "scattermap": [
           {
            "marker": {
             "colorbar": {
              "outlinewidth": 0,
              "ticks": ""
             }
            },
            "type": "scattermap"
           }
          ],
          "scattermapbox": [
           {
            "marker": {
             "colorbar": {
              "outlinewidth": 0,
              "ticks": ""
             }
            },
            "type": "scattermapbox"
           }
          ],
          "scatterpolar": [
           {
            "marker": {
             "colorbar": {
              "outlinewidth": 0,
              "ticks": ""
             }
            },
            "type": "scatterpolar"
           }
          ],
          "scatterpolargl": [
           {
            "marker": {
             "colorbar": {
              "outlinewidth": 0,
              "ticks": ""
             }
            },
            "type": "scatterpolargl"
           }
          ],
          "scatterternary": [
           {
            "marker": {
             "colorbar": {
              "outlinewidth": 0,
              "ticks": ""
             }
            },
            "type": "scatterternary"
           }
          ],
          "surface": [
           {
            "colorbar": {
             "outlinewidth": 0,
             "ticks": ""
            },
            "colorscale": [
             [
              0,
              "#0d0887"
             ],
             [
              0.1111111111111111,
              "#46039f"
             ],
             [
              0.2222222222222222,
              "#7201a8"
             ],
             [
              0.3333333333333333,
              "#9c179e"
             ],
             [
              0.4444444444444444,
              "#bd3786"
             ],
             [
              0.5555555555555556,
              "#d8576b"
             ],
             [
              0.6666666666666666,
              "#ed7953"
             ],
             [
              0.7777777777777778,
              "#fb9f3a"
             ],
             [
              0.8888888888888888,
              "#fdca26"
             ],
             [
              1,
              "#f0f921"
             ]
            ],
            "type": "surface"
           }
          ],
          "table": [
           {
            "cells": {
             "fill": {
              "color": "#EBF0F8"
             },
             "line": {
              "color": "white"
             }
            },
            "header": {
             "fill": {
              "color": "#C8D4E3"
             },
             "line": {
              "color": "white"
             }
            },
            "type": "table"
           }
          ]
         },
         "layout": {
          "annotationdefaults": {
           "arrowcolor": "#2a3f5f",
           "arrowhead": 0,
           "arrowwidth": 1
          },
          "autotypenumbers": "strict",
          "coloraxis": {
           "colorbar": {
            "outlinewidth": 0,
            "ticks": ""
           }
          },
          "colorscale": {
           "diverging": [
            [
             0,
             "#8e0152"
            ],
            [
             0.1,
             "#c51b7d"
            ],
            [
             0.2,
             "#de77ae"
            ],
            [
             0.3,
             "#f1b6da"
            ],
            [
             0.4,
             "#fde0ef"
            ],
            [
             0.5,
             "#f7f7f7"
            ],
            [
             0.6,
             "#e6f5d0"
            ],
            [
             0.7,
             "#b8e186"
            ],
            [
             0.8,
             "#7fbc41"
            ],
            [
             0.9,
             "#4d9221"
            ],
            [
             1,
             "#276419"
            ]
           ],
           "sequential": [
            [
             0,
             "#0d0887"
            ],
            [
             0.1111111111111111,
             "#46039f"
            ],
            [
             0.2222222222222222,
             "#7201a8"
            ],
            [
             0.3333333333333333,
             "#9c179e"
            ],
            [
             0.4444444444444444,
             "#bd3786"
            ],
            [
             0.5555555555555556,
             "#d8576b"
            ],
            [
             0.6666666666666666,
             "#ed7953"
            ],
            [
             0.7777777777777778,
             "#fb9f3a"
            ],
            [
             0.8888888888888888,
             "#fdca26"
            ],
            [
             1,
             "#f0f921"
            ]
           ],
           "sequentialminus": [
            [
             0,
             "#0d0887"
            ],
            [
             0.1111111111111111,
             "#46039f"
            ],
            [
             0.2222222222222222,
             "#7201a8"
            ],
            [
             0.3333333333333333,
             "#9c179e"
            ],
            [
             0.4444444444444444,
             "#bd3786"
            ],
            [
             0.5555555555555556,
             "#d8576b"
            ],
            [
             0.6666666666666666,
             "#ed7953"
            ],
            [
             0.7777777777777778,
             "#fb9f3a"
            ],
            [
             0.8888888888888888,
             "#fdca26"
            ],
            [
             1,
             "#f0f921"
            ]
           ]
          },
          "colorway": [
           "#636efa",
           "#EF553B",
           "#00cc96",
           "#ab63fa",
           "#FFA15A",
           "#19d3f3",
           "#FF6692",
           "#B6E880",
           "#FF97FF",
           "#FECB52"
          ],
          "font": {
           "color": "#2a3f5f"
          },
          "geo": {
           "bgcolor": "white",
           "lakecolor": "white",
           "landcolor": "#E5ECF6",
           "showlakes": true,
           "showland": true,
           "subunitcolor": "white"
          },
          "hoverlabel": {
           "align": "left"
          },
          "hovermode": "closest",
          "mapbox": {
           "style": "light"
          },
          "paper_bgcolor": "white",
          "plot_bgcolor": "#E5ECF6",
          "polar": {
           "angularaxis": {
            "gridcolor": "white",
            "linecolor": "white",
            "ticks": ""
           },
           "bgcolor": "#E5ECF6",
           "radialaxis": {
            "gridcolor": "white",
            "linecolor": "white",
            "ticks": ""
           }
          },
          "scene": {
           "xaxis": {
            "backgroundcolor": "#E5ECF6",
            "gridcolor": "white",
            "gridwidth": 2,
            "linecolor": "white",
            "showbackground": true,
            "ticks": "",
            "zerolinecolor": "white"
           },
           "yaxis": {
            "backgroundcolor": "#E5ECF6",
            "gridcolor": "white",
            "gridwidth": 2,
            "linecolor": "white",
            "showbackground": true,
            "ticks": "",
            "zerolinecolor": "white"
           },
           "zaxis": {
            "backgroundcolor": "#E5ECF6",
            "gridcolor": "white",
            "gridwidth": 2,
            "linecolor": "white",
            "showbackground": true,
            "ticks": "",
            "zerolinecolor": "white"
           }
          },
          "shapedefaults": {
           "line": {
            "color": "#2a3f5f"
           }
          },
          "ternary": {
           "aaxis": {
            "gridcolor": "white",
            "linecolor": "white",
            "ticks": ""
           },
           "baxis": {
            "gridcolor": "white",
            "linecolor": "white",
            "ticks": ""
           },
           "bgcolor": "#E5ECF6",
           "caxis": {
            "gridcolor": "white",
            "linecolor": "white",
            "ticks": ""
           }
          },
          "title": {
           "x": 0.05
          },
          "xaxis": {
           "automargin": true,
           "gridcolor": "white",
           "linecolor": "white",
           "ticks": "",
           "title": {
            "standoff": 15
           },
           "zerolinecolor": "white",
           "zerolinewidth": 2
          },
          "yaxis": {
           "automargin": true,
           "gridcolor": "white",
           "linecolor": "white",
           "ticks": "",
           "title": {
            "standoff": 15
           },
           "zerolinecolor": "white",
           "zerolinewidth": 2
          }
         }
        },
        "title": {
         "text": "Followers Distribution (Log Scale)"
        },
        "width": 800,
        "xaxis": {
         "title": {
          "text": "Followers"
         },
         "type": "log"
        },
        "yaxis": {
         "title": {
          "text": "Frequency"
         }
        }
       }
      }
     },
     "metadata": {},
     "output_type": "display_data"
    },
    {
     "name": "stdout",
     "output_type": "stream",
     "text": [
      "\n",
      "Followers Statistics:\n",
      "Count: 111\n",
      "Mean:  1,952.59\n",
      "Std:   2,585.57\n",
      "Min:   8.00\n",
      "25%:   171.50\n",
      "50%:   831.00\n",
      "75%:   3,016.50\n",
      "Max:   14,196.00\n",
      "Note: followers shows significant right skew - median (831.00) is much closer to min than max\n",
      "90th percentile: 5,156.00\n",
      "95th percentile: 6,345.00\n",
      "99th percentile: 10,598.70\n",
      "Percent of data between median and 90th percentile: 38.7%\n",
      "Percent of data between 90th and max: 10.8%\n",
      "Skewness for favorites: 3.27\n",
      "Applied log scaling to favorites due to right-skewed distribution (skewness: 3.27)\n"
     ]
    },
    {
     "data": {
      "application/vnd.plotly.v1+json": {
       "config": {
        "plotlyServerURL": "https://plot.ly"
       },
       "data": [
        {
         "name": "Distribution",
         "opacity": 0.75,
         "type": "bar",
         "x": [
          3.2379630785069566,
          3.7516401866758744,
          4.346808085523744,
          5.036394641330517,
          5.835378623615149,
          6.761115064634581,
          7.833712234581384,
          9.076468420900447,
          10.516377999172878,
          12.184717788123546,
          14.117726425190448,
          16.357391519628667,
          18.952361681198283,
          21.959003234955095,
          25.442624575444512,
          29.47889475495753,
          34.15548711953904,
          39.57398369478584,
          45.85208168731606,
          53.126150030160176,
          61.55419150375975,
          71.3192747739207,
          82.63351089531113,
          95.7426606556354,
          110.93147283834337,
          128.529869358292,
          148.92011162002268,
          172.54510376182287,
          199.91801314346662,
          231.63341704787558,
          268.38021771840766,
          310.95660626416736,
          360.2874004699654,
          417.4441331120332,
          483.6683271253712,
          560.398463191413,
          649.3012255191438,
          752.3077045210603,
          871.655342755949,
          1009.9365352621105,
          1170.1549399471917,
          1355.7907211738298,
          1570.8761437216233,
          1820.0831591303786,
          2108.8248869206004,
          2443.3731950030733,
          2830.994933285945,
          3280.1097796608256,
          3800.47312700007,
          4403.387983722668
         ],
         "y": {
          "bdata": "G/ExIgVXrT8TeuHGvOGQPwAAAAAAAAAAdIJgWJMmmT9XwSlfALWFPzOGOhAivII/wLnyenErgD8AAAAAAAAAAG2nqNr9Fog/AAAAAAAAAAAAAAAAAAAAAAAAAAAAAAAAiknBsPC7ej+EuRXAJU6BP9SFUXEX6nM/AAAAAAAAAAAv0WfcZUB2P2RiqXhxNIM/jcpSFbUZZj/9bAEU0Nd3P8SoWK91dnA/0dQ5mx5QZT8FoBZhEGViP3HboJ4PK1U/gXxvWxRFYj/JKbWaYYk/P5Oiauz3N1s/AAAAAAAAAACJI6uvuGlOPy7u0PrLf1E/CtxSCdc0Pj/6E2znDRIqP1SHaWA1sFM/OEX1WFAhPT+6LzXq1cJAP8/u1rmp7iw/N4/JD6w2Pz9U5TRJ8ykwP3NMPT7C5js/U6zfdMQUKD+/+yvsrsgkPwjAqUnl6ic/VEr5bYukBD99F4ox+9ABPwAAAAAAAAAA61Rh+wCL+j4oFSGYoOj2PqbHeXqjxfM+AAAAAAAAAAAAAAAAAAAAAA==",
          "dtype": "f8"
         }
        }
       ],
       "layout": {
        "height": 500,
        "showlegend": false,
        "template": {
         "data": {
          "bar": [
           {
            "error_x": {
             "color": "#2a3f5f"
            },
            "error_y": {
             "color": "#2a3f5f"
            },
            "marker": {
             "line": {
              "color": "#E5ECF6",
              "width": 0.5
             },
             "pattern": {
              "fillmode": "overlay",
              "size": 10,
              "solidity": 0.2
             }
            },
            "type": "bar"
           }
          ],
          "barpolar": [
           {
            "marker": {
             "line": {
              "color": "#E5ECF6",
              "width": 0.5
             },
             "pattern": {
              "fillmode": "overlay",
              "size": 10,
              "solidity": 0.2
             }
            },
            "type": "barpolar"
           }
          ],
          "carpet": [
           {
            "aaxis": {
             "endlinecolor": "#2a3f5f",
             "gridcolor": "white",
             "linecolor": "white",
             "minorgridcolor": "white",
             "startlinecolor": "#2a3f5f"
            },
            "baxis": {
             "endlinecolor": "#2a3f5f",
             "gridcolor": "white",
             "linecolor": "white",
             "minorgridcolor": "white",
             "startlinecolor": "#2a3f5f"
            },
            "type": "carpet"
           }
          ],
          "choropleth": [
           {
            "colorbar": {
             "outlinewidth": 0,
             "ticks": ""
            },
            "type": "choropleth"
           }
          ],
          "contour": [
           {
            "colorbar": {
             "outlinewidth": 0,
             "ticks": ""
            },
            "colorscale": [
             [
              0,
              "#0d0887"
             ],
             [
              0.1111111111111111,
              "#46039f"
             ],
             [
              0.2222222222222222,
              "#7201a8"
             ],
             [
              0.3333333333333333,
              "#9c179e"
             ],
             [
              0.4444444444444444,
              "#bd3786"
             ],
             [
              0.5555555555555556,
              "#d8576b"
             ],
             [
              0.6666666666666666,
              "#ed7953"
             ],
             [
              0.7777777777777778,
              "#fb9f3a"
             ],
             [
              0.8888888888888888,
              "#fdca26"
             ],
             [
              1,
              "#f0f921"
             ]
            ],
            "type": "contour"
           }
          ],
          "contourcarpet": [
           {
            "colorbar": {
             "outlinewidth": 0,
             "ticks": ""
            },
            "type": "contourcarpet"
           }
          ],
          "heatmap": [
           {
            "colorbar": {
             "outlinewidth": 0,
             "ticks": ""
            },
            "colorscale": [
             [
              0,
              "#0d0887"
             ],
             [
              0.1111111111111111,
              "#46039f"
             ],
             [
              0.2222222222222222,
              "#7201a8"
             ],
             [
              0.3333333333333333,
              "#9c179e"
             ],
             [
              0.4444444444444444,
              "#bd3786"
             ],
             [
              0.5555555555555556,
              "#d8576b"
             ],
             [
              0.6666666666666666,
              "#ed7953"
             ],
             [
              0.7777777777777778,
              "#fb9f3a"
             ],
             [
              0.8888888888888888,
              "#fdca26"
             ],
             [
              1,
              "#f0f921"
             ]
            ],
            "type": "heatmap"
           }
          ],
          "histogram": [
           {
            "marker": {
             "pattern": {
              "fillmode": "overlay",
              "size": 10,
              "solidity": 0.2
             }
            },
            "type": "histogram"
           }
          ],
          "histogram2d": [
           {
            "colorbar": {
             "outlinewidth": 0,
             "ticks": ""
            },
            "colorscale": [
             [
              0,
              "#0d0887"
             ],
             [
              0.1111111111111111,
              "#46039f"
             ],
             [
              0.2222222222222222,
              "#7201a8"
             ],
             [
              0.3333333333333333,
              "#9c179e"
             ],
             [
              0.4444444444444444,
              "#bd3786"
             ],
             [
              0.5555555555555556,
              "#d8576b"
             ],
             [
              0.6666666666666666,
              "#ed7953"
             ],
             [
              0.7777777777777778,
              "#fb9f3a"
             ],
             [
              0.8888888888888888,
              "#fdca26"
             ],
             [
              1,
              "#f0f921"
             ]
            ],
            "type": "histogram2d"
           }
          ],
          "histogram2dcontour": [
           {
            "colorbar": {
             "outlinewidth": 0,
             "ticks": ""
            },
            "colorscale": [
             [
              0,
              "#0d0887"
             ],
             [
              0.1111111111111111,
              "#46039f"
             ],
             [
              0.2222222222222222,
              "#7201a8"
             ],
             [
              0.3333333333333333,
              "#9c179e"
             ],
             [
              0.4444444444444444,
              "#bd3786"
             ],
             [
              0.5555555555555556,
              "#d8576b"
             ],
             [
              0.6666666666666666,
              "#ed7953"
             ],
             [
              0.7777777777777778,
              "#fb9f3a"
             ],
             [
              0.8888888888888888,
              "#fdca26"
             ],
             [
              1,
              "#f0f921"
             ]
            ],
            "type": "histogram2dcontour"
           }
          ],
          "mesh3d": [
           {
            "colorbar": {
             "outlinewidth": 0,
             "ticks": ""
            },
            "type": "mesh3d"
           }
          ],
          "parcoords": [
           {
            "line": {
             "colorbar": {
              "outlinewidth": 0,
              "ticks": ""
             }
            },
            "type": "parcoords"
           }
          ],
          "pie": [
           {
            "automargin": true,
            "type": "pie"
           }
          ],
          "scatter": [
           {
            "fillpattern": {
             "fillmode": "overlay",
             "size": 10,
             "solidity": 0.2
            },
            "type": "scatter"
           }
          ],
          "scatter3d": [
           {
            "line": {
             "colorbar": {
              "outlinewidth": 0,
              "ticks": ""
             }
            },
            "marker": {
             "colorbar": {
              "outlinewidth": 0,
              "ticks": ""
             }
            },
            "type": "scatter3d"
           }
          ],
          "scattercarpet": [
           {
            "marker": {
             "colorbar": {
              "outlinewidth": 0,
              "ticks": ""
             }
            },
            "type": "scattercarpet"
           }
          ],
          "scattergeo": [
           {
            "marker": {
             "colorbar": {
              "outlinewidth": 0,
              "ticks": ""
             }
            },
            "type": "scattergeo"
           }
          ],
          "scattergl": [
           {
            "marker": {
             "colorbar": {
              "outlinewidth": 0,
              "ticks": ""
             }
            },
            "type": "scattergl"
           }
          ],
          "scattermap": [
           {
            "marker": {
             "colorbar": {
              "outlinewidth": 0,
              "ticks": ""
             }
            },
            "type": "scattermap"
           }
          ],
          "scattermapbox": [
           {
            "marker": {
             "colorbar": {
              "outlinewidth": 0,
              "ticks": ""
             }
            },
            "type": "scattermapbox"
           }
          ],
          "scatterpolar": [
           {
            "marker": {
             "colorbar": {
              "outlinewidth": 0,
              "ticks": ""
             }
            },
            "type": "scatterpolar"
           }
          ],
          "scatterpolargl": [
           {
            "marker": {
             "colorbar": {
              "outlinewidth": 0,
              "ticks": ""
             }
            },
            "type": "scatterpolargl"
           }
          ],
          "scatterternary": [
           {
            "marker": {
             "colorbar": {
              "outlinewidth": 0,
              "ticks": ""
             }
            },
            "type": "scatterternary"
           }
          ],
          "surface": [
           {
            "colorbar": {
             "outlinewidth": 0,
             "ticks": ""
            },
            "colorscale": [
             [
              0,
              "#0d0887"
             ],
             [
              0.1111111111111111,
              "#46039f"
             ],
             [
              0.2222222222222222,
              "#7201a8"
             ],
             [
              0.3333333333333333,
              "#9c179e"
             ],
             [
              0.4444444444444444,
              "#bd3786"
             ],
             [
              0.5555555555555556,
              "#d8576b"
             ],
             [
              0.6666666666666666,
              "#ed7953"
             ],
             [
              0.7777777777777778,
              "#fb9f3a"
             ],
             [
              0.8888888888888888,
              "#fdca26"
             ],
             [
              1,
              "#f0f921"
             ]
            ],
            "type": "surface"
           }
          ],
          "table": [
           {
            "cells": {
             "fill": {
              "color": "#EBF0F8"
             },
             "line": {
              "color": "white"
             }
            },
            "header": {
             "fill": {
              "color": "#C8D4E3"
             },
             "line": {
              "color": "white"
             }
            },
            "type": "table"
           }
          ]
         },
         "layout": {
          "annotationdefaults": {
           "arrowcolor": "#2a3f5f",
           "arrowhead": 0,
           "arrowwidth": 1
          },
          "autotypenumbers": "strict",
          "coloraxis": {
           "colorbar": {
            "outlinewidth": 0,
            "ticks": ""
           }
          },
          "colorscale": {
           "diverging": [
            [
             0,
             "#8e0152"
            ],
            [
             0.1,
             "#c51b7d"
            ],
            [
             0.2,
             "#de77ae"
            ],
            [
             0.3,
             "#f1b6da"
            ],
            [
             0.4,
             "#fde0ef"
            ],
            [
             0.5,
             "#f7f7f7"
            ],
            [
             0.6,
             "#e6f5d0"
            ],
            [
             0.7,
             "#b8e186"
            ],
            [
             0.8,
             "#7fbc41"
            ],
            [
             0.9,
             "#4d9221"
            ],
            [
             1,
             "#276419"
            ]
           ],
           "sequential": [
            [
             0,
             "#0d0887"
            ],
            [
             0.1111111111111111,
             "#46039f"
            ],
            [
             0.2222222222222222,
             "#7201a8"
            ],
            [
             0.3333333333333333,
             "#9c179e"
            ],
            [
             0.4444444444444444,
             "#bd3786"
            ],
            [
             0.5555555555555556,
             "#d8576b"
            ],
            [
             0.6666666666666666,
             "#ed7953"
            ],
            [
             0.7777777777777778,
             "#fb9f3a"
            ],
            [
             0.8888888888888888,
             "#fdca26"
            ],
            [
             1,
             "#f0f921"
            ]
           ],
           "sequentialminus": [
            [
             0,
             "#0d0887"
            ],
            [
             0.1111111111111111,
             "#46039f"
            ],
            [
             0.2222222222222222,
             "#7201a8"
            ],
            [
             0.3333333333333333,
             "#9c179e"
            ],
            [
             0.4444444444444444,
             "#bd3786"
            ],
            [
             0.5555555555555556,
             "#d8576b"
            ],
            [
             0.6666666666666666,
             "#ed7953"
            ],
            [
             0.7777777777777778,
             "#fb9f3a"
            ],
            [
             0.8888888888888888,
             "#fdca26"
            ],
            [
             1,
             "#f0f921"
            ]
           ]
          },
          "colorway": [
           "#636efa",
           "#EF553B",
           "#00cc96",
           "#ab63fa",
           "#FFA15A",
           "#19d3f3",
           "#FF6692",
           "#B6E880",
           "#FF97FF",
           "#FECB52"
          ],
          "font": {
           "color": "#2a3f5f"
          },
          "geo": {
           "bgcolor": "white",
           "lakecolor": "white",
           "landcolor": "#E5ECF6",
           "showlakes": true,
           "showland": true,
           "subunitcolor": "white"
          },
          "hoverlabel": {
           "align": "left"
          },
          "hovermode": "closest",
          "mapbox": {
           "style": "light"
          },
          "paper_bgcolor": "white",
          "plot_bgcolor": "#E5ECF6",
          "polar": {
           "angularaxis": {
            "gridcolor": "white",
            "linecolor": "white",
            "ticks": ""
           },
           "bgcolor": "#E5ECF6",
           "radialaxis": {
            "gridcolor": "white",
            "linecolor": "white",
            "ticks": ""
           }
          },
          "scene": {
           "xaxis": {
            "backgroundcolor": "#E5ECF6",
            "gridcolor": "white",
            "gridwidth": 2,
            "linecolor": "white",
            "showbackground": true,
            "ticks": "",
            "zerolinecolor": "white"
           },
           "yaxis": {
            "backgroundcolor": "#E5ECF6",
            "gridcolor": "white",
            "gridwidth": 2,
            "linecolor": "white",
            "showbackground": true,
            "ticks": "",
            "zerolinecolor": "white"
           },
           "zaxis": {
            "backgroundcolor": "#E5ECF6",
            "gridcolor": "white",
            "gridwidth": 2,
            "linecolor": "white",
            "showbackground": true,
            "ticks": "",
            "zerolinecolor": "white"
           }
          },
          "shapedefaults": {
           "line": {
            "color": "#2a3f5f"
           }
          },
          "ternary": {
           "aaxis": {
            "gridcolor": "white",
            "linecolor": "white",
            "ticks": ""
           },
           "baxis": {
            "gridcolor": "white",
            "linecolor": "white",
            "ticks": ""
           },
           "bgcolor": "#E5ECF6",
           "caxis": {
            "gridcolor": "white",
            "linecolor": "white",
            "ticks": ""
           }
          },
          "title": {
           "x": 0.05
          },
          "xaxis": {
           "automargin": true,
           "gridcolor": "white",
           "linecolor": "white",
           "ticks": "",
           "title": {
            "standoff": 15
           },
           "zerolinecolor": "white",
           "zerolinewidth": 2
          },
          "yaxis": {
           "automargin": true,
           "gridcolor": "white",
           "linecolor": "white",
           "ticks": "",
           "title": {
            "standoff": 15
           },
           "zerolinecolor": "white",
           "zerolinewidth": 2
          }
         }
        },
        "title": {
         "text": "Favorites Distribution (Log Scale)"
        },
        "width": 800,
        "xaxis": {
         "title": {
          "text": "Favorites"
         },
         "type": "log"
        },
        "yaxis": {
         "title": {
          "text": "Frequency"
         }
        }
       }
      }
     },
     "metadata": {},
     "output_type": "display_data"
    },
    {
     "name": "stdout",
     "output_type": "stream",
     "text": [
      "\n",
      "Favorites Statistics:\n",
      "Count: 111\n",
      "Mean:  459.17\n",
      "Std:   701.73\n",
      "Min:   3.00\n",
      "25%:   45.50\n",
      "50%:   203.00\n",
      "75%:   631.50\n",
      "Max:   4,727.00\n",
      "Note: favorites shows significant right skew - median (203.00) is much closer to min than max\n",
      "90th percentile: 1,165.00\n",
      "95th percentile: 1,416.50\n",
      "99th percentile: 3,110.10\n",
      "Percent of data between median and 90th percentile: 38.7%\n",
      "Percent of data between 90th and max: 10.8%\n",
      "Skewness for chapters: 2.94\n",
      "Applied log scaling to chapters due to right-skewed distribution (skewness: 2.94)\n"
     ]
    },
    {
     "data": {
      "application/vnd.plotly.v1+json": {
       "config": {
        "plotlyServerURL": "https://plot.ly"
       },
       "data": [
        {
         "name": "Distribution",
         "opacity": 0.75,
         "type": "bar",
         "x": [
          15.657005365470388,
          17.02857023644541,
          18.52028517132994,
          20.14267540167733,
          21.90718817685471,
          23.8262735334631,
          25.913472140216477,
          28.183510838095096,
          30.652406549884596,
          33.337579292265104,
          36.25797508784012,
          39.43419964434713,
          42.88866374426265,
          46.64574137064076,
          50.731941684888085,
          55.17609606991504,
          60.00956155840087,
          65.2664420815202,
          70.98382909921631,
          77.2020633098587,
          83.9650192858536,
          91.32041504353765,
          99.32014873161587,
          108.02066481374766,
          117.48335232898908,
          127.77497804013487,
          138.96815752616544,
          151.14186754272873,
          164.38200326576703,
          178.78198435008426,
          194.44341407907737,
          211.47679625645517,
          230.00231489818563,
          250.15068222601468,
          272.0640609458238,
          295.8970673182331,
          321.817862098904,
          350.0093370459956,
          380.67040536652263,
          414.017405206735,
          450.2856260892619,
          489.7309690672404,
          532.631752309132,
          579.2906748540644,
          630.0369523935422,
          685.2286401491642,
          745.2551592360944,
          810.5400443377748,
          881.543932078911,
          958.7678111820717
         ],
         "y": {
          "bdata": "AAAAAAAAAACqtuTtNsl6P9vQoJfmoHg/AAAAAAAAAAAAAAAAAAAAAAAAAAAAAAAAAAAAAAAAAADevZjTJi9wP1OTVzjiwm0/yigzfOqFhD9Vukt8/ChpP1/lZpEyInc/AAAAAAAAAABae8ifnI5zP+nDfspa+4E/ij/f4N3MiD/5XWaPVGd+P+dY7S1s9Is/h0CmUgK0eT/kHLYYxa2EP/uXIGG5unU/NYedLgP4bT/qGjm/tl5yP+PDGOzqHHU/f99yqn5LZz/urrst445cP7xbk1UIQko/EpmAOsItbj+9xtcPcWxzP2cHww4SaWQ/r+H8tjfEUj8oUP4lQ0FRP8HSutDyul8/7ixpra8sXT879qMZH9M6P7Zxmd2Bf1I/AAAAAAAAAAAAAAAAAAAAAPpnXovpKzM/AAAAAAAAAABOXHowIzUwP6x0/hjkzS0/aW0Gj1dnKz9qGWq2SjI5PwAAAAAAAAAAAAAAAAAAAAAQHWxX2JUjPwAAAAAAAAAAAAAAAAAAAABst05Ck3IePw==",
          "dtype": "f8"
         }
        }
       ],
       "layout": {
        "height": 500,
        "showlegend": false,
        "template": {
         "data": {
          "bar": [
           {
            "error_x": {
             "color": "#2a3f5f"
            },
            "error_y": {
             "color": "#2a3f5f"
            },
            "marker": {
             "line": {
              "color": "#E5ECF6",
              "width": 0.5
             },
             "pattern": {
              "fillmode": "overlay",
              "size": 10,
              "solidity": 0.2
             }
            },
            "type": "bar"
           }
          ],
          "barpolar": [
           {
            "marker": {
             "line": {
              "color": "#E5ECF6",
              "width": 0.5
             },
             "pattern": {
              "fillmode": "overlay",
              "size": 10,
              "solidity": 0.2
             }
            },
            "type": "barpolar"
           }
          ],
          "carpet": [
           {
            "aaxis": {
             "endlinecolor": "#2a3f5f",
             "gridcolor": "white",
             "linecolor": "white",
             "minorgridcolor": "white",
             "startlinecolor": "#2a3f5f"
            },
            "baxis": {
             "endlinecolor": "#2a3f5f",
             "gridcolor": "white",
             "linecolor": "white",
             "minorgridcolor": "white",
             "startlinecolor": "#2a3f5f"
            },
            "type": "carpet"
           }
          ],
          "choropleth": [
           {
            "colorbar": {
             "outlinewidth": 0,
             "ticks": ""
            },
            "type": "choropleth"
           }
          ],
          "contour": [
           {
            "colorbar": {
             "outlinewidth": 0,
             "ticks": ""
            },
            "colorscale": [
             [
              0,
              "#0d0887"
             ],
             [
              0.1111111111111111,
              "#46039f"
             ],
             [
              0.2222222222222222,
              "#7201a8"
             ],
             [
              0.3333333333333333,
              "#9c179e"
             ],
             [
              0.4444444444444444,
              "#bd3786"
             ],
             [
              0.5555555555555556,
              "#d8576b"
             ],
             [
              0.6666666666666666,
              "#ed7953"
             ],
             [
              0.7777777777777778,
              "#fb9f3a"
             ],
             [
              0.8888888888888888,
              "#fdca26"
             ],
             [
              1,
              "#f0f921"
             ]
            ],
            "type": "contour"
           }
          ],
          "contourcarpet": [
           {
            "colorbar": {
             "outlinewidth": 0,
             "ticks": ""
            },
            "type": "contourcarpet"
           }
          ],
          "heatmap": [
           {
            "colorbar": {
             "outlinewidth": 0,
             "ticks": ""
            },
            "colorscale": [
             [
              0,
              "#0d0887"
             ],
             [
              0.1111111111111111,
              "#46039f"
             ],
             [
              0.2222222222222222,
              "#7201a8"
             ],
             [
              0.3333333333333333,
              "#9c179e"
             ],
             [
              0.4444444444444444,
              "#bd3786"
             ],
             [
              0.5555555555555556,
              "#d8576b"
             ],
             [
              0.6666666666666666,
              "#ed7953"
             ],
             [
              0.7777777777777778,
              "#fb9f3a"
             ],
             [
              0.8888888888888888,
              "#fdca26"
             ],
             [
              1,
              "#f0f921"
             ]
            ],
            "type": "heatmap"
           }
          ],
          "histogram": [
           {
            "marker": {
             "pattern": {
              "fillmode": "overlay",
              "size": 10,
              "solidity": 0.2
             }
            },
            "type": "histogram"
           }
          ],
          "histogram2d": [
           {
            "colorbar": {
             "outlinewidth": 0,
             "ticks": ""
            },
            "colorscale": [
             [
              0,
              "#0d0887"
             ],
             [
              0.1111111111111111,
              "#46039f"
             ],
             [
              0.2222222222222222,
              "#7201a8"
             ],
             [
              0.3333333333333333,
              "#9c179e"
             ],
             [
              0.4444444444444444,
              "#bd3786"
             ],
             [
              0.5555555555555556,
              "#d8576b"
             ],
             [
              0.6666666666666666,
              "#ed7953"
             ],
             [
              0.7777777777777778,
              "#fb9f3a"
             ],
             [
              0.8888888888888888,
              "#fdca26"
             ],
             [
              1,
              "#f0f921"
             ]
            ],
            "type": "histogram2d"
           }
          ],
          "histogram2dcontour": [
           {
            "colorbar": {
             "outlinewidth": 0,
             "ticks": ""
            },
            "colorscale": [
             [
              0,
              "#0d0887"
             ],
             [
              0.1111111111111111,
              "#46039f"
             ],
             [
              0.2222222222222222,
              "#7201a8"
             ],
             [
              0.3333333333333333,
              "#9c179e"
             ],
             [
              0.4444444444444444,
              "#bd3786"
             ],
             [
              0.5555555555555556,
              "#d8576b"
             ],
             [
              0.6666666666666666,
              "#ed7953"
             ],
             [
              0.7777777777777778,
              "#fb9f3a"
             ],
             [
              0.8888888888888888,
              "#fdca26"
             ],
             [
              1,
              "#f0f921"
             ]
            ],
            "type": "histogram2dcontour"
           }
          ],
          "mesh3d": [
           {
            "colorbar": {
             "outlinewidth": 0,
             "ticks": ""
            },
            "type": "mesh3d"
           }
          ],
          "parcoords": [
           {
            "line": {
             "colorbar": {
              "outlinewidth": 0,
              "ticks": ""
             }
            },
            "type": "parcoords"
           }
          ],
          "pie": [
           {
            "automargin": true,
            "type": "pie"
           }
          ],
          "scatter": [
           {
            "fillpattern": {
             "fillmode": "overlay",
             "size": 10,
             "solidity": 0.2
            },
            "type": "scatter"
           }
          ],
          "scatter3d": [
           {
            "line": {
             "colorbar": {
              "outlinewidth": 0,
              "ticks": ""
             }
            },
            "marker": {
             "colorbar": {
              "outlinewidth": 0,
              "ticks": ""
             }
            },
            "type": "scatter3d"
           }
          ],
          "scattercarpet": [
           {
            "marker": {
             "colorbar": {
              "outlinewidth": 0,
              "ticks": ""
             }
            },
            "type": "scattercarpet"
           }
          ],
          "scattergeo": [
           {
            "marker": {
             "colorbar": {
              "outlinewidth": 0,
              "ticks": ""
             }
            },
            "type": "scattergeo"
           }
          ],
          "scattergl": [
           {
            "marker": {
             "colorbar": {
              "outlinewidth": 0,
              "ticks": ""
             }
            },
            "type": "scattergl"
           }
          ],
          "scattermap": [
           {
            "marker": {
             "colorbar": {
              "outlinewidth": 0,
              "ticks": ""
             }
            },
            "type": "scattermap"
           }
          ],
          "scattermapbox": [
           {
            "marker": {
             "colorbar": {
              "outlinewidth": 0,
              "ticks": ""
             }
            },
            "type": "scattermapbox"
           }
          ],
          "scatterpolar": [
           {
            "marker": {
             "colorbar": {
              "outlinewidth": 0,
              "ticks": ""
             }
            },
            "type": "scatterpolar"
           }
          ],
          "scatterpolargl": [
           {
            "marker": {
             "colorbar": {
              "outlinewidth": 0,
              "ticks": ""
             }
            },
            "type": "scatterpolargl"
           }
          ],
          "scatterternary": [
           {
            "marker": {
             "colorbar": {
              "outlinewidth": 0,
              "ticks": ""
             }
            },
            "type": "scatterternary"
           }
          ],
          "surface": [
           {
            "colorbar": {
             "outlinewidth": 0,
             "ticks": ""
            },
            "colorscale": [
             [
              0,
              "#0d0887"
             ],
             [
              0.1111111111111111,
              "#46039f"
             ],
             [
              0.2222222222222222,
              "#7201a8"
             ],
             [
              0.3333333333333333,
              "#9c179e"
             ],
             [
              0.4444444444444444,
              "#bd3786"
             ],
             [
              0.5555555555555556,
              "#d8576b"
             ],
             [
              0.6666666666666666,
              "#ed7953"
             ],
             [
              0.7777777777777778,
              "#fb9f3a"
             ],
             [
              0.8888888888888888,
              "#fdca26"
             ],
             [
              1,
              "#f0f921"
             ]
            ],
            "type": "surface"
           }
          ],
          "table": [
           {
            "cells": {
             "fill": {
              "color": "#EBF0F8"
             },
             "line": {
              "color": "white"
             }
            },
            "header": {
             "fill": {
              "color": "#C8D4E3"
             },
             "line": {
              "color": "white"
             }
            },
            "type": "table"
           }
          ]
         },
         "layout": {
          "annotationdefaults": {
           "arrowcolor": "#2a3f5f",
           "arrowhead": 0,
           "arrowwidth": 1
          },
          "autotypenumbers": "strict",
          "coloraxis": {
           "colorbar": {
            "outlinewidth": 0,
            "ticks": ""
           }
          },
          "colorscale": {
           "diverging": [
            [
             0,
             "#8e0152"
            ],
            [
             0.1,
             "#c51b7d"
            ],
            [
             0.2,
             "#de77ae"
            ],
            [
             0.3,
             "#f1b6da"
            ],
            [
             0.4,
             "#fde0ef"
            ],
            [
             0.5,
             "#f7f7f7"
            ],
            [
             0.6,
             "#e6f5d0"
            ],
            [
             0.7,
             "#b8e186"
            ],
            [
             0.8,
             "#7fbc41"
            ],
            [
             0.9,
             "#4d9221"
            ],
            [
             1,
             "#276419"
            ]
           ],
           "sequential": [
            [
             0,
             "#0d0887"
            ],
            [
             0.1111111111111111,
             "#46039f"
            ],
            [
             0.2222222222222222,
             "#7201a8"
            ],
            [
             0.3333333333333333,
             "#9c179e"
            ],
            [
             0.4444444444444444,
             "#bd3786"
            ],
            [
             0.5555555555555556,
             "#d8576b"
            ],
            [
             0.6666666666666666,
             "#ed7953"
            ],
            [
             0.7777777777777778,
             "#fb9f3a"
            ],
            [
             0.8888888888888888,
             "#fdca26"
            ],
            [
             1,
             "#f0f921"
            ]
           ],
           "sequentialminus": [
            [
             0,
             "#0d0887"
            ],
            [
             0.1111111111111111,
             "#46039f"
            ],
            [
             0.2222222222222222,
             "#7201a8"
            ],
            [
             0.3333333333333333,
             "#9c179e"
            ],
            [
             0.4444444444444444,
             "#bd3786"
            ],
            [
             0.5555555555555556,
             "#d8576b"
            ],
            [
             0.6666666666666666,
             "#ed7953"
            ],
            [
             0.7777777777777778,
             "#fb9f3a"
            ],
            [
             0.8888888888888888,
             "#fdca26"
            ],
            [
             1,
             "#f0f921"
            ]
           ]
          },
          "colorway": [
           "#636efa",
           "#EF553B",
           "#00cc96",
           "#ab63fa",
           "#FFA15A",
           "#19d3f3",
           "#FF6692",
           "#B6E880",
           "#FF97FF",
           "#FECB52"
          ],
          "font": {
           "color": "#2a3f5f"
          },
          "geo": {
           "bgcolor": "white",
           "lakecolor": "white",
           "landcolor": "#E5ECF6",
           "showlakes": true,
           "showland": true,
           "subunitcolor": "white"
          },
          "hoverlabel": {
           "align": "left"
          },
          "hovermode": "closest",
          "mapbox": {
           "style": "light"
          },
          "paper_bgcolor": "white",
          "plot_bgcolor": "#E5ECF6",
          "polar": {
           "angularaxis": {
            "gridcolor": "white",
            "linecolor": "white",
            "ticks": ""
           },
           "bgcolor": "#E5ECF6",
           "radialaxis": {
            "gridcolor": "white",
            "linecolor": "white",
            "ticks": ""
           }
          },
          "scene": {
           "xaxis": {
            "backgroundcolor": "#E5ECF6",
            "gridcolor": "white",
            "gridwidth": 2,
            "linecolor": "white",
            "showbackground": true,
            "ticks": "",
            "zerolinecolor": "white"
           },
           "yaxis": {
            "backgroundcolor": "#E5ECF6",
            "gridcolor": "white",
            "gridwidth": 2,
            "linecolor": "white",
            "showbackground": true,
            "ticks": "",
            "zerolinecolor": "white"
           },
           "zaxis": {
            "backgroundcolor": "#E5ECF6",
            "gridcolor": "white",
            "gridwidth": 2,
            "linecolor": "white",
            "showbackground": true,
            "ticks": "",
            "zerolinecolor": "white"
           }
          },
          "shapedefaults": {
           "line": {
            "color": "#2a3f5f"
           }
          },
          "ternary": {
           "aaxis": {
            "gridcolor": "white",
            "linecolor": "white",
            "ticks": ""
           },
           "baxis": {
            "gridcolor": "white",
            "linecolor": "white",
            "ticks": ""
           },
           "bgcolor": "#E5ECF6",
           "caxis": {
            "gridcolor": "white",
            "linecolor": "white",
            "ticks": ""
           }
          },
          "title": {
           "x": 0.05
          },
          "xaxis": {
           "automargin": true,
           "gridcolor": "white",
           "linecolor": "white",
           "ticks": "",
           "title": {
            "standoff": 15
           },
           "zerolinecolor": "white",
           "zerolinewidth": 2
          },
          "yaxis": {
           "automargin": true,
           "gridcolor": "white",
           "linecolor": "white",
           "ticks": "",
           "title": {
            "standoff": 15
           },
           "zerolinecolor": "white",
           "zerolinewidth": 2
          }
         }
        },
        "title": {
         "text": "Chapters Distribution (Log Scale)"
        },
        "width": 800,
        "xaxis": {
         "title": {
          "text": "Chapters"
         },
         "type": "log"
        },
        "yaxis": {
         "title": {
          "text": "Frequency"
         }
        }
       }
      }
     },
     "metadata": {},
     "output_type": "display_data"
    },
    {
     "name": "stdout",
     "output_type": "stream",
     "text": [
      "\n",
      "Chapters Statistics:\n",
      "Count: 108\n",
      "Mean:  149.17\n",
      "Std:   153.14\n",
      "Min:   15.00\n",
      "25%:   62.75\n",
      "50%:   99.00\n",
      "75%:   175.25\n",
      "Max:   999.00\n",
      "Note: chapters shows significant right skew - median (99.00) is much closer to min than max\n",
      "90th percentile: 272.80\n",
      "95th percentile: 474.80\n",
      "99th percentile: 739.43\n",
      "Percent of data between median and 90th percentile: 39.8%\n",
      "Percent of data between 90th and max: 10.2%\n",
      "Skewness for pages: 2.47\n",
      "Applied log scaling to pages due to right-skewed distribution (skewness: 2.47)\n"
     ]
    },
    {
     "data": {
      "application/vnd.plotly.v1+json": {
       "config": {
        "plotlyServerURL": "https://plot.ly"
       },
       "data": [
        {
         "name": "Distribution",
         "opacity": 0.75,
         "type": "bar",
         "x": [
          132.12475401120628,
          142.78785421748296,
          154.31151766083065,
          166.76519591449477,
          180.22394562618626,
          194.76888087442592,
          210.48766203221123,
          227.47502408432157,
          245.83334758235884,
          265.67327567859434,
          287.1143809574005,
          310.28588608317136,
          335.3274426079811,
          362.3899726327494,
          391.63657839449144,
          423.2435252616136,
          457.4013040616378,
          494.31577914385616,
          534.2094290961402,
          577.3226875935366,
          623.9153924597625,
          674.2683516749041,
          728.68503576743,
          787.4934067903451,
          851.0478949044764,
          919.7315344814903,
          993.9582726006545,
          1074.175463852337,
          1160.8665664840946,
          1254.5540561386551,
          1355.8025747445079,
          1465.222333537039,
          1583.4727907197632,
          1711.2666259304265,
          1849.3740354655502,
          1998.627374150161,
          2159.926171828628,
          2334.2425547103308,
          2522.627104243877,
          2726.215188830515,
          2946.23380653714,
          3184.008980048993,
          3440.973748430455,
          3718.6768038591854,
          4018.791825386067,
          4343.1275659742605,
          4693.638753610595,
          5072.43787218885,
          5481.807893166713,
          5924.216034728417
         ],
         "y": {
          "bdata": "HtlLPV0QTT8AAAAAAAAAAOjWN4CY4kg/AAAAAAAAAAAAAAAAAAAAALoEzedLt0M/AuHu+F8+Uj+skjnbmeFQP0wzP+K+PU8/Fx/JMl6uVT9z+8jF4A9UPymnGIF0wDg/asDYQ3ItUT/O69PUZzFFP3kWNGE/nEM/ExNKjlglMj8lx6zucMpgPysg1JjNa1M/1GS1fp+QVT8igyq4WvRDPxQgnlh/njg/ABYV7tGgWT/XvdTZfp4/PxD9jfZXgUM/SGAoenMMQj+7DS7IZ7NAP/EZV+Y4C0s/akPwIWKZHD/U8Tht+tgzPzj1hca4fCg/Ji6nL5aoJj/drtnJHXMvPzB68XSVZhM/ocIk1IjtKj/PECY8fpwQP1iO7/zZvR4/0D4JS5xVJT/eEDPsVFIKP7cD5oogWwg/AAAAAAAAAAAAAAAAAAAAAM4ou6n3SxM/AAAAAAAAAAAASDkftIUQPxuAN9fB7hY/AAAAAAAAAAAAAAAAAAAAAAAAAAAAAAAAJRLq3JRq9j4AAAAAAAAAAA==",
          "dtype": "f8"
         }
        }
       ],
       "layout": {
        "height": 500,
        "showlegend": false,
        "template": {
         "data": {
          "bar": [
           {
            "error_x": {
             "color": "#2a3f5f"
            },
            "error_y": {
             "color": "#2a3f5f"
            },
            "marker": {
             "line": {
              "color": "#E5ECF6",
              "width": 0.5
             },
             "pattern": {
              "fillmode": "overlay",
              "size": 10,
              "solidity": 0.2
             }
            },
            "type": "bar"
           }
          ],
          "barpolar": [
           {
            "marker": {
             "line": {
              "color": "#E5ECF6",
              "width": 0.5
             },
             "pattern": {
              "fillmode": "overlay",
              "size": 10,
              "solidity": 0.2
             }
            },
            "type": "barpolar"
           }
          ],
          "carpet": [
           {
            "aaxis": {
             "endlinecolor": "#2a3f5f",
             "gridcolor": "white",
             "linecolor": "white",
             "minorgridcolor": "white",
             "startlinecolor": "#2a3f5f"
            },
            "baxis": {
             "endlinecolor": "#2a3f5f",
             "gridcolor": "white",
             "linecolor": "white",
             "minorgridcolor": "white",
             "startlinecolor": "#2a3f5f"
            },
            "type": "carpet"
           }
          ],
          "choropleth": [
           {
            "colorbar": {
             "outlinewidth": 0,
             "ticks": ""
            },
            "type": "choropleth"
           }
          ],
          "contour": [
           {
            "colorbar": {
             "outlinewidth": 0,
             "ticks": ""
            },
            "colorscale": [
             [
              0,
              "#0d0887"
             ],
             [
              0.1111111111111111,
              "#46039f"
             ],
             [
              0.2222222222222222,
              "#7201a8"
             ],
             [
              0.3333333333333333,
              "#9c179e"
             ],
             [
              0.4444444444444444,
              "#bd3786"
             ],
             [
              0.5555555555555556,
              "#d8576b"
             ],
             [
              0.6666666666666666,
              "#ed7953"
             ],
             [
              0.7777777777777778,
              "#fb9f3a"
             ],
             [
              0.8888888888888888,
              "#fdca26"
             ],
             [
              1,
              "#f0f921"
             ]
            ],
            "type": "contour"
           }
          ],
          "contourcarpet": [
           {
            "colorbar": {
             "outlinewidth": 0,
             "ticks": ""
            },
            "type": "contourcarpet"
           }
          ],
          "heatmap": [
           {
            "colorbar": {
             "outlinewidth": 0,
             "ticks": ""
            },
            "colorscale": [
             [
              0,
              "#0d0887"
             ],
             [
              0.1111111111111111,
              "#46039f"
             ],
             [
              0.2222222222222222,
              "#7201a8"
             ],
             [
              0.3333333333333333,
              "#9c179e"
             ],
             [
              0.4444444444444444,
              "#bd3786"
             ],
             [
              0.5555555555555556,
              "#d8576b"
             ],
             [
              0.6666666666666666,
              "#ed7953"
             ],
             [
              0.7777777777777778,
              "#fb9f3a"
             ],
             [
              0.8888888888888888,
              "#fdca26"
             ],
             [
              1,
              "#f0f921"
             ]
            ],
            "type": "heatmap"
           }
          ],
          "histogram": [
           {
            "marker": {
             "pattern": {
              "fillmode": "overlay",
              "size": 10,
              "solidity": 0.2
             }
            },
            "type": "histogram"
           }
          ],
          "histogram2d": [
           {
            "colorbar": {
             "outlinewidth": 0,
             "ticks": ""
            },
            "colorscale": [
             [
              0,
              "#0d0887"
             ],
             [
              0.1111111111111111,
              "#46039f"
             ],
             [
              0.2222222222222222,
              "#7201a8"
             ],
             [
              0.3333333333333333,
              "#9c179e"
             ],
             [
              0.4444444444444444,
              "#bd3786"
             ],
             [
              0.5555555555555556,
              "#d8576b"
             ],
             [
              0.6666666666666666,
              "#ed7953"
             ],
             [
              0.7777777777777778,
              "#fb9f3a"
             ],
             [
              0.8888888888888888,
              "#fdca26"
             ],
             [
              1,
              "#f0f921"
             ]
            ],
            "type": "histogram2d"
           }
          ],
          "histogram2dcontour": [
           {
            "colorbar": {
             "outlinewidth": 0,
             "ticks": ""
            },
            "colorscale": [
             [
              0,
              "#0d0887"
             ],
             [
              0.1111111111111111,
              "#46039f"
             ],
             [
              0.2222222222222222,
              "#7201a8"
             ],
             [
              0.3333333333333333,
              "#9c179e"
             ],
             [
              0.4444444444444444,
              "#bd3786"
             ],
             [
              0.5555555555555556,
              "#d8576b"
             ],
             [
              0.6666666666666666,
              "#ed7953"
             ],
             [
              0.7777777777777778,
              "#fb9f3a"
             ],
             [
              0.8888888888888888,
              "#fdca26"
             ],
             [
              1,
              "#f0f921"
             ]
            ],
            "type": "histogram2dcontour"
           }
          ],
          "mesh3d": [
           {
            "colorbar": {
             "outlinewidth": 0,
             "ticks": ""
            },
            "type": "mesh3d"
           }
          ],
          "parcoords": [
           {
            "line": {
             "colorbar": {
              "outlinewidth": 0,
              "ticks": ""
             }
            },
            "type": "parcoords"
           }
          ],
          "pie": [
           {
            "automargin": true,
            "type": "pie"
           }
          ],
          "scatter": [
           {
            "fillpattern": {
             "fillmode": "overlay",
             "size": 10,
             "solidity": 0.2
            },
            "type": "scatter"
           }
          ],
          "scatter3d": [
           {
            "line": {
             "colorbar": {
              "outlinewidth": 0,
              "ticks": ""
             }
            },
            "marker": {
             "colorbar": {
              "outlinewidth": 0,
              "ticks": ""
             }
            },
            "type": "scatter3d"
           }
          ],
          "scattercarpet": [
           {
            "marker": {
             "colorbar": {
              "outlinewidth": 0,
              "ticks": ""
             }
            },
            "type": "scattercarpet"
           }
          ],
          "scattergeo": [
           {
            "marker": {
             "colorbar": {
              "outlinewidth": 0,
              "ticks": ""
             }
            },
            "type": "scattergeo"
           }
          ],
          "scattergl": [
           {
            "marker": {
             "colorbar": {
              "outlinewidth": 0,
              "ticks": ""
             }
            },
            "type": "scattergl"
           }
          ],
          "scattermap": [
           {
            "marker": {
             "colorbar": {
              "outlinewidth": 0,
              "ticks": ""
             }
            },
            "type": "scattermap"
           }
          ],
          "scattermapbox": [
           {
            "marker": {
             "colorbar": {
              "outlinewidth": 0,
              "ticks": ""
             }
            },
            "type": "scattermapbox"
           }
          ],
          "scatterpolar": [
           {
            "marker": {
             "colorbar": {
              "outlinewidth": 0,
              "ticks": ""
             }
            },
            "type": "scatterpolar"
           }
          ],
          "scatterpolargl": [
           {
            "marker": {
             "colorbar": {
              "outlinewidth": 0,
              "ticks": ""
             }
            },
            "type": "scatterpolargl"
           }
          ],
          "scatterternary": [
           {
            "marker": {
             "colorbar": {
              "outlinewidth": 0,
              "ticks": ""
             }
            },
            "type": "scatterternary"
           }
          ],
          "surface": [
           {
            "colorbar": {
             "outlinewidth": 0,
             "ticks": ""
            },
            "colorscale": [
             [
              0,
              "#0d0887"
             ],
             [
              0.1111111111111111,
              "#46039f"
             ],
             [
              0.2222222222222222,
              "#7201a8"
             ],
             [
              0.3333333333333333,
              "#9c179e"
             ],
             [
              0.4444444444444444,
              "#bd3786"
             ],
             [
              0.5555555555555556,
              "#d8576b"
             ],
             [
              0.6666666666666666,
              "#ed7953"
             ],
             [
              0.7777777777777778,
              "#fb9f3a"
             ],
             [
              0.8888888888888888,
              "#fdca26"
             ],
             [
              1,
              "#f0f921"
             ]
            ],
            "type": "surface"
           }
          ],
          "table": [
           {
            "cells": {
             "fill": {
              "color": "#EBF0F8"
             },
             "line": {
              "color": "white"
             }
            },
            "header": {
             "fill": {
              "color": "#C8D4E3"
             },
             "line": {
              "color": "white"
             }
            },
            "type": "table"
           }
          ]
         },
         "layout": {
          "annotationdefaults": {
           "arrowcolor": "#2a3f5f",
           "arrowhead": 0,
           "arrowwidth": 1
          },
          "autotypenumbers": "strict",
          "coloraxis": {
           "colorbar": {
            "outlinewidth": 0,
            "ticks": ""
           }
          },
          "colorscale": {
           "diverging": [
            [
             0,
             "#8e0152"
            ],
            [
             0.1,
             "#c51b7d"
            ],
            [
             0.2,
             "#de77ae"
            ],
            [
             0.3,
             "#f1b6da"
            ],
            [
             0.4,
             "#fde0ef"
            ],
            [
             0.5,
             "#f7f7f7"
            ],
            [
             0.6,
             "#e6f5d0"
            ],
            [
             0.7,
             "#b8e186"
            ],
            [
             0.8,
             "#7fbc41"
            ],
            [
             0.9,
             "#4d9221"
            ],
            [
             1,
             "#276419"
            ]
           ],
           "sequential": [
            [
             0,
             "#0d0887"
            ],
            [
             0.1111111111111111,
             "#46039f"
            ],
            [
             0.2222222222222222,
             "#7201a8"
            ],
            [
             0.3333333333333333,
             "#9c179e"
            ],
            [
             0.4444444444444444,
             "#bd3786"
            ],
            [
             0.5555555555555556,
             "#d8576b"
            ],
            [
             0.6666666666666666,
             "#ed7953"
            ],
            [
             0.7777777777777778,
             "#fb9f3a"
            ],
            [
             0.8888888888888888,
             "#fdca26"
            ],
            [
             1,
             "#f0f921"
            ]
           ],
           "sequentialminus": [
            [
             0,
             "#0d0887"
            ],
            [
             0.1111111111111111,
             "#46039f"
            ],
            [
             0.2222222222222222,
             "#7201a8"
            ],
            [
             0.3333333333333333,
             "#9c179e"
            ],
            [
             0.4444444444444444,
             "#bd3786"
            ],
            [
             0.5555555555555556,
             "#d8576b"
            ],
            [
             0.6666666666666666,
             "#ed7953"
            ],
            [
             0.7777777777777778,
             "#fb9f3a"
            ],
            [
             0.8888888888888888,
             "#fdca26"
            ],
            [
             1,
             "#f0f921"
            ]
           ]
          },
          "colorway": [
           "#636efa",
           "#EF553B",
           "#00cc96",
           "#ab63fa",
           "#FFA15A",
           "#19d3f3",
           "#FF6692",
           "#B6E880",
           "#FF97FF",
           "#FECB52"
          ],
          "font": {
           "color": "#2a3f5f"
          },
          "geo": {
           "bgcolor": "white",
           "lakecolor": "white",
           "landcolor": "#E5ECF6",
           "showlakes": true,
           "showland": true,
           "subunitcolor": "white"
          },
          "hoverlabel": {
           "align": "left"
          },
          "hovermode": "closest",
          "mapbox": {
           "style": "light"
          },
          "paper_bgcolor": "white",
          "plot_bgcolor": "#E5ECF6",
          "polar": {
           "angularaxis": {
            "gridcolor": "white",
            "linecolor": "white",
            "ticks": ""
           },
           "bgcolor": "#E5ECF6",
           "radialaxis": {
            "gridcolor": "white",
            "linecolor": "white",
            "ticks": ""
           }
          },
          "scene": {
           "xaxis": {
            "backgroundcolor": "#E5ECF6",
            "gridcolor": "white",
            "gridwidth": 2,
            "linecolor": "white",
            "showbackground": true,
            "ticks": "",
            "zerolinecolor": "white"
           },
           "yaxis": {
            "backgroundcolor": "#E5ECF6",
            "gridcolor": "white",
            "gridwidth": 2,
            "linecolor": "white",
            "showbackground": true,
            "ticks": "",
            "zerolinecolor": "white"
           },
           "zaxis": {
            "backgroundcolor": "#E5ECF6",
            "gridcolor": "white",
            "gridwidth": 2,
            "linecolor": "white",
            "showbackground": true,
            "ticks": "",
            "zerolinecolor": "white"
           }
          },
          "shapedefaults": {
           "line": {
            "color": "#2a3f5f"
           }
          },
          "ternary": {
           "aaxis": {
            "gridcolor": "white",
            "linecolor": "white",
            "ticks": ""
           },
           "baxis": {
            "gridcolor": "white",
            "linecolor": "white",
            "ticks": ""
           },
           "bgcolor": "#E5ECF6",
           "caxis": {
            "gridcolor": "white",
            "linecolor": "white",
            "ticks": ""
           }
          },
          "title": {
           "x": 0.05
          },
          "xaxis": {
           "automargin": true,
           "gridcolor": "white",
           "linecolor": "white",
           "ticks": "",
           "title": {
            "standoff": 15
           },
           "zerolinecolor": "white",
           "zerolinewidth": 2
          },
          "yaxis": {
           "automargin": true,
           "gridcolor": "white",
           "linecolor": "white",
           "ticks": "",
           "title": {
            "standoff": 15
           },
           "zerolinecolor": "white",
           "zerolinewidth": 2
          }
         }
        },
        "title": {
         "text": "Pages Distribution (Log Scale)"
        },
        "width": 800,
        "xaxis": {
         "title": {
          "text": "Pages"
         },
         "type": "log"
        },
        "yaxis": {
         "title": {
          "text": "Frequency"
         }
        }
       }
      }
     },
     "metadata": {},
     "output_type": "display_data"
    },
    {
     "name": "stdout",
     "output_type": "stream",
     "text": [
      "\n",
      "Pages Statistics:\n",
      "Count: 111\n",
      "Mean:  1,072.69\n",
      "Std:   1,086.08\n",
      "Min:   127.00\n",
      "25%:   454.50\n",
      "50%:   686.00\n",
      "75%:   1,192.00\n",
      "Max:   6,154.00\n",
      "Note: pages shows significant right skew - median (686.00) is much closer to min than max\n",
      "90th percentile: 2,228.00\n",
      "95th percentile: 3,703.00\n",
      "99th percentile: 5,407.10\n",
      "Percent of data between median and 90th percentile: 38.7%\n",
      "Percent of data between 90th and max: 10.8%\n"
     ]
    }
   ],
   "source": [
    "# Define key metrics for analysis\n",
    "key_metrics = ['views', 'rating', 'followers', 'favorites', 'chapters', 'pages']\n",
    "\n",
    "# Create individual distribution plots for better readability\n",
    "for metric in key_metrics:\n",
    "    # Skip non-numeric columns or convert if possible\n",
    "    if not pd.api.types.is_numeric_dtype(df[metric]):\n",
    "        print(f\"Skipping {metric} as it's not numeric (type: {df[metric].dtype})\")\n",
    "        continue\n",
    "        \n",
    "    # Create figure\n",
    "    fig = go.Figure()\n",
    "    \n",
    "    # Create histogram data with proper handling of data types\n",
    "    try:\n",
    "        # Create bins manually to avoid Interval objects\n",
    "        values = df[metric].dropna()\n",
    "        min_val = values.min()\n",
    "        max_val = values.max()\n",
    "        \n",
    "        # Check for skewness to determine appropriate scaling\n",
    "        skewness = values.skew()\n",
    "        print(f\"Skewness for {metric}: {skewness:.2f}\")\n",
    "        is_right_skewed = skewness > 1.0  # Common threshold for significant right skew\n",
    "        \n",
    "        # If right-skewed and not already using log scale, use log binning\n",
    "        if is_right_skewed and min_val > 0:  # Ensure all values are positive for log scale\n",
    "            # For log scale, use logarithmically spaced bins\n",
    "            bins = np.logspace(np.log10(max(min_val, 0.1)), np.log10(max_val), 51)\n",
    "            hist_data = np.histogram(values, bins=bins, density=True)\n",
    "            bin_centers = [(bins[i] + bins[i+1])/2 for i in range(len(bins)-1)]\n",
    "        else:\n",
    "            # For normal scale, use linearly spaced bins\n",
    "            bins = np.linspace(min_val, max_val, 51)  # 51 points = 50 bins\n",
    "            hist_data = np.histogram(values, bins=bins, density=True)\n",
    "            bin_centers = [(bins[i] + bins[i+1])/2 for i in range(len(bins)-1)]\n",
    "        \n",
    "        # Create bar chart with bin centers and heights\n",
    "        fig.add_trace(\n",
    "            go.Bar(\n",
    "                x=bin_centers,\n",
    "                y=hist_data[0],\n",
    "                name='Distribution',\n",
    "                opacity=0.75\n",
    "            )\n",
    "        )\n",
    "    except Exception as e:\n",
    "        print(f\"Error creating histogram for {metric}: {e}\")\n",
    "        continue\n",
    "    \n",
    "    # Update layout\n",
    "    fig.update_layout(\n",
    "        title=f'{metric.capitalize()} Distribution{\" (Log Scale)\" if is_right_skewed and min_val > 0 else \"\"}',\n",
    "        xaxis_title=metric.capitalize(),\n",
    "        yaxis_title='Frequency',\n",
    "        height=500,\n",
    "        width=800,\n",
    "        showlegend=False  # No need for legend with single trace\n",
    "    )\n",
    "    \n",
    "    # Use log scale for highly skewed metrics\n",
    "    if is_right_skewed and min_val > 0:\n",
    "        fig.update_xaxes(type='log')\n",
    "        print(f\"Applied log scaling to {metric} due to right-skewed distribution (skewness: {skewness:.2f})\")\n",
    "    \n",
    "    try:\n",
    "        fig.show()\n",
    "    except TypeError as e:\n",
    "        print(f\"Error displaying plot for {metric}: {e}\")\n",
    "        print(f\"Data types - x: {type(bin_centers[0])}, y: {type(hist_data[0][0])}\")\n",
    "        continue\n",
    "    \n",
    "    # Print basic statistics\n",
    "    stats = df[metric].describe()\n",
    "    print(f\"\\n{metric.capitalize()} Statistics:\")\n",
    "    print(f\"Count: {stats['count']:,.0f}\")\n",
    "    print(f\"Mean:  {stats['mean']:,.2f}\")\n",
    "    print(f\"Std:   {stats['std']:,.2f}\")\n",
    "    print(f\"Min:   {stats['min']:,.2f}\")\n",
    "    print(f\"25%:   {stats['25%']:,.2f}\")\n",
    "    print(f\"50%:   {stats['50%']:,.2f}\")\n",
    "    print(f\"75%:   {stats['75%']:,.2f}\")\n",
    "    print(f\"Max:   {stats['max']:,.2f}\")\n",
    "    \n",
    "    # Calculate additional metrics to highlight skewness\n",
    "    iqr = stats['75%'] - stats['25%']\n",
    "    median = stats['50%']\n",
    "    # Check if distribution is significantly skewed\n",
    "    if (stats['max'] - median) > 3 * (median - stats['min']):\n",
    "        print(f\"Note: {metric} shows significant right skew - median ({median:.2f}) is much closer to min than max\")\n",
    "    \n",
    "    # Print the 90th, 95th and 99th percentiles for right-skewed distributions\n",
    "    if is_right_skewed:\n",
    "        p90 = values.quantile(0.90)\n",
    "        p95 = values.quantile(0.95)\n",
    "        p99 = values.quantile(0.99)\n",
    "        print(f\"90th percentile: {p90:,.2f}\")\n",
    "        print(f\"95th percentile: {p95:,.2f}\")\n",
    "        print(f\"99th percentile: {p99:,.2f}\")\n",
    "        print(f\"Percent of data between median and 90th percentile: {((values < p90) & (values > median)).mean()*100:.1f}%\")\n",
    "        print(f\"Percent of data between 90th and max: {(values >= p90).mean()*100:.1f}%\")"
   ]
  },
  {
   "cell_type": "markdown",
   "id": "e2cfdf65",
   "metadata": {},
   "source": [
    "## Correlation Analysis\n",
    "\n",
    "Let's analyze the relationships between different numerical features in our dataset. We'll use both a correlation matrix heatmap and a pairplot to visualize these relationships."
   ]
  },
  {
   "cell_type": "code",
   "execution_count": 25,
   "id": "e5c8011b",
   "metadata": {},
   "outputs": [
    {
     "data": {
      "application/vnd.plotly.v1+json": {
       "config": {
        "plotlyServerURL": "https://plot.ly"
       },
       "data": [
        {
         "colorscale": [
          [
           0,
           "rgb(103,0,31)"
          ],
          [
           0.1,
           "rgb(178,24,43)"
          ],
          [
           0.2,
           "rgb(214,96,77)"
          ],
          [
           0.3,
           "rgb(244,165,130)"
          ],
          [
           0.4,
           "rgb(253,219,199)"
          ],
          [
           0.5,
           "rgb(247,247,247)"
          ],
          [
           0.6,
           "rgb(209,229,240)"
          ],
          [
           0.7,
           "rgb(146,197,222)"
          ],
          [
           0.8,
           "rgb(67,147,195)"
          ],
          [
           0.9,
           "rgb(33,102,172)"
          ],
          [
           1,
           "rgb(5,48,97)"
          ]
         ],
         "hoverongaps": false,
         "text": {
          "bdata": "AAAAAAAA8D/sUbgeheuxvwAAAAAAAOg/MzMzMzMz6z+F61G4HoXbP+xRuB6F6+E/7FG4HoXrsb8AAAAAAADwP5qZmZmZmak/uB6F61G4nj89CtejcD3iv83MzMzMzNy/AAAAAAAA6D+amZmZmZmpPwAAAAAAAPA/CtejcD0K7z+4HoXrUbi+P4/C9Shcj9I/MzMzMzMz6z+4HoXrUbiePwrXo3A9Cu8/AAAAAAAA8D9SuB6F61HIPwrXo3A9Ctc/hetRuB6F2z89CtejcD3iv7gehetRuL4/UrgehetRyD8AAAAAAADwP3E9CtejcO0/7FG4HoXr4T/NzMzMzMzcv4/C9Shcj9I/CtejcD0K1z9xPQrXo3DtPwAAAAAAAPA/",
          "dtype": "f8",
          "shape": "6, 6"
         },
         "textfont": {
          "size": 12
         },
         "texttemplate": "%{text}",
         "type": "heatmap",
         "x": [
          "views",
          "rating",
          "followers",
          "favorites",
          "chapters",
          "pages"
         ],
         "y": [
          "views",
          "rating",
          "followers",
          "favorites",
          "chapters",
          "pages"
         ],
         "z": {
          "bdata": "AAAAAAAA8D/Y8WnQ5dCyvxg8vFOcAug/yDK9TnNU6z/50K307znbP5F4wmpJBeI/2PFp0OXQsr8AAAAAAADwP9QEBa6hZak/S/3Q1Cudnz+RcTUlgFHiv6Xx0udOq9y/GDy8U5wC6D/UBAWuoWWpPwAAAAAAAPA/hEhy//Il7z+aWjaqwqe/P+WAF/HHy9I/yDK9TnNU6z9L/dDUK52fP4RIcv/yJe8/AAAAAAAA8D8qz4iuCbrIP70uCS8KKdc/+dCt9O852z+RcTUlgFHiv5paNqrCp78/Ks+Irgm6yD8AAAAAAADwP70J8vb3V+0/kXjCakkF4j+l8dLnTqvcv+WAF/HHy9I/vS4JLwop1z+9CfL291ftPwAAAAAAAPA/",
          "dtype": "f8",
          "shape": "6, 6"
         }
        }
       ],
       "layout": {
        "font": {
         "size": 14
        },
        "height": 800,
        "template": {
         "data": {
          "bar": [
           {
            "error_x": {
             "color": "#2a3f5f"
            },
            "error_y": {
             "color": "#2a3f5f"
            },
            "marker": {
             "line": {
              "color": "#E5ECF6",
              "width": 0.5
             },
             "pattern": {
              "fillmode": "overlay",
              "size": 10,
              "solidity": 0.2
             }
            },
            "type": "bar"
           }
          ],
          "barpolar": [
           {
            "marker": {
             "line": {
              "color": "#E5ECF6",
              "width": 0.5
             },
             "pattern": {
              "fillmode": "overlay",
              "size": 10,
              "solidity": 0.2
             }
            },
            "type": "barpolar"
           }
          ],
          "carpet": [
           {
            "aaxis": {
             "endlinecolor": "#2a3f5f",
             "gridcolor": "white",
             "linecolor": "white",
             "minorgridcolor": "white",
             "startlinecolor": "#2a3f5f"
            },
            "baxis": {
             "endlinecolor": "#2a3f5f",
             "gridcolor": "white",
             "linecolor": "white",
             "minorgridcolor": "white",
             "startlinecolor": "#2a3f5f"
            },
            "type": "carpet"
           }
          ],
          "choropleth": [
           {
            "colorbar": {
             "outlinewidth": 0,
             "ticks": ""
            },
            "type": "choropleth"
           }
          ],
          "contour": [
           {
            "colorbar": {
             "outlinewidth": 0,
             "ticks": ""
            },
            "colorscale": [
             [
              0,
              "#0d0887"
             ],
             [
              0.1111111111111111,
              "#46039f"
             ],
             [
              0.2222222222222222,
              "#7201a8"
             ],
             [
              0.3333333333333333,
              "#9c179e"
             ],
             [
              0.4444444444444444,
              "#bd3786"
             ],
             [
              0.5555555555555556,
              "#d8576b"
             ],
             [
              0.6666666666666666,
              "#ed7953"
             ],
             [
              0.7777777777777778,
              "#fb9f3a"
             ],
             [
              0.8888888888888888,
              "#fdca26"
             ],
             [
              1,
              "#f0f921"
             ]
            ],
            "type": "contour"
           }
          ],
          "contourcarpet": [
           {
            "colorbar": {
             "outlinewidth": 0,
             "ticks": ""
            },
            "type": "contourcarpet"
           }
          ],
          "heatmap": [
           {
            "colorbar": {
             "outlinewidth": 0,
             "ticks": ""
            },
            "colorscale": [
             [
              0,
              "#0d0887"
             ],
             [
              0.1111111111111111,
              "#46039f"
             ],
             [
              0.2222222222222222,
              "#7201a8"
             ],
             [
              0.3333333333333333,
              "#9c179e"
             ],
             [
              0.4444444444444444,
              "#bd3786"
             ],
             [
              0.5555555555555556,
              "#d8576b"
             ],
             [
              0.6666666666666666,
              "#ed7953"
             ],
             [
              0.7777777777777778,
              "#fb9f3a"
             ],
             [
              0.8888888888888888,
              "#fdca26"
             ],
             [
              1,
              "#f0f921"
             ]
            ],
            "type": "heatmap"
           }
          ],
          "histogram": [
           {
            "marker": {
             "pattern": {
              "fillmode": "overlay",
              "size": 10,
              "solidity": 0.2
             }
            },
            "type": "histogram"
           }
          ],
          "histogram2d": [
           {
            "colorbar": {
             "outlinewidth": 0,
             "ticks": ""
            },
            "colorscale": [
             [
              0,
              "#0d0887"
             ],
             [
              0.1111111111111111,
              "#46039f"
             ],
             [
              0.2222222222222222,
              "#7201a8"
             ],
             [
              0.3333333333333333,
              "#9c179e"
             ],
             [
              0.4444444444444444,
              "#bd3786"
             ],
             [
              0.5555555555555556,
              "#d8576b"
             ],
             [
              0.6666666666666666,
              "#ed7953"
             ],
             [
              0.7777777777777778,
              "#fb9f3a"
             ],
             [
              0.8888888888888888,
              "#fdca26"
             ],
             [
              1,
              "#f0f921"
             ]
            ],
            "type": "histogram2d"
           }
          ],
          "histogram2dcontour": [
           {
            "colorbar": {
             "outlinewidth": 0,
             "ticks": ""
            },
            "colorscale": [
             [
              0,
              "#0d0887"
             ],
             [
              0.1111111111111111,
              "#46039f"
             ],
             [
              0.2222222222222222,
              "#7201a8"
             ],
             [
              0.3333333333333333,
              "#9c179e"
             ],
             [
              0.4444444444444444,
              "#bd3786"
             ],
             [
              0.5555555555555556,
              "#d8576b"
             ],
             [
              0.6666666666666666,
              "#ed7953"
             ],
             [
              0.7777777777777778,
              "#fb9f3a"
             ],
             [
              0.8888888888888888,
              "#fdca26"
             ],
             [
              1,
              "#f0f921"
             ]
            ],
            "type": "histogram2dcontour"
           }
          ],
          "mesh3d": [
           {
            "colorbar": {
             "outlinewidth": 0,
             "ticks": ""
            },
            "type": "mesh3d"
           }
          ],
          "parcoords": [
           {
            "line": {
             "colorbar": {
              "outlinewidth": 0,
              "ticks": ""
             }
            },
            "type": "parcoords"
           }
          ],
          "pie": [
           {
            "automargin": true,
            "type": "pie"
           }
          ],
          "scatter": [
           {
            "fillpattern": {
             "fillmode": "overlay",
             "size": 10,
             "solidity": 0.2
            },
            "type": "scatter"
           }
          ],
          "scatter3d": [
           {
            "line": {
             "colorbar": {
              "outlinewidth": 0,
              "ticks": ""
             }
            },
            "marker": {
             "colorbar": {
              "outlinewidth": 0,
              "ticks": ""
             }
            },
            "type": "scatter3d"
           }
          ],
          "scattercarpet": [
           {
            "marker": {
             "colorbar": {
              "outlinewidth": 0,
              "ticks": ""
             }
            },
            "type": "scattercarpet"
           }
          ],
          "scattergeo": [
           {
            "marker": {
             "colorbar": {
              "outlinewidth": 0,
              "ticks": ""
             }
            },
            "type": "scattergeo"
           }
          ],
          "scattergl": [
           {
            "marker": {
             "colorbar": {
              "outlinewidth": 0,
              "ticks": ""
             }
            },
            "type": "scattergl"
           }
          ],
          "scattermap": [
           {
            "marker": {
             "colorbar": {
              "outlinewidth": 0,
              "ticks": ""
             }
            },
            "type": "scattermap"
           }
          ],
          "scattermapbox": [
           {
            "marker": {
             "colorbar": {
              "outlinewidth": 0,
              "ticks": ""
             }
            },
            "type": "scattermapbox"
           }
          ],
          "scatterpolar": [
           {
            "marker": {
             "colorbar": {
              "outlinewidth": 0,
              "ticks": ""
             }
            },
            "type": "scatterpolar"
           }
          ],
          "scatterpolargl": [
           {
            "marker": {
             "colorbar": {
              "outlinewidth": 0,
              "ticks": ""
             }
            },
            "type": "scatterpolargl"
           }
          ],
          "scatterternary": [
           {
            "marker": {
             "colorbar": {
              "outlinewidth": 0,
              "ticks": ""
             }
            },
            "type": "scatterternary"
           }
          ],
          "surface": [
           {
            "colorbar": {
             "outlinewidth": 0,
             "ticks": ""
            },
            "colorscale": [
             [
              0,
              "#0d0887"
             ],
             [
              0.1111111111111111,
              "#46039f"
             ],
             [
              0.2222222222222222,
              "#7201a8"
             ],
             [
              0.3333333333333333,
              "#9c179e"
             ],
             [
              0.4444444444444444,
              "#bd3786"
             ],
             [
              0.5555555555555556,
              "#d8576b"
             ],
             [
              0.6666666666666666,
              "#ed7953"
             ],
             [
              0.7777777777777778,
              "#fb9f3a"
             ],
             [
              0.8888888888888888,
              "#fdca26"
             ],
             [
              1,
              "#f0f921"
             ]
            ],
            "type": "surface"
           }
          ],
          "table": [
           {
            "cells": {
             "fill": {
              "color": "#EBF0F8"
             },
             "line": {
              "color": "white"
             }
            },
            "header": {
             "fill": {
              "color": "#C8D4E3"
             },
             "line": {
              "color": "white"
             }
            },
            "type": "table"
           }
          ]
         },
         "layout": {
          "annotationdefaults": {
           "arrowcolor": "#2a3f5f",
           "arrowhead": 0,
           "arrowwidth": 1
          },
          "autotypenumbers": "strict",
          "coloraxis": {
           "colorbar": {
            "outlinewidth": 0,
            "ticks": ""
           }
          },
          "colorscale": {
           "diverging": [
            [
             0,
             "#8e0152"
            ],
            [
             0.1,
             "#c51b7d"
            ],
            [
             0.2,
             "#de77ae"
            ],
            [
             0.3,
             "#f1b6da"
            ],
            [
             0.4,
             "#fde0ef"
            ],
            [
             0.5,
             "#f7f7f7"
            ],
            [
             0.6,
             "#e6f5d0"
            ],
            [
             0.7,
             "#b8e186"
            ],
            [
             0.8,
             "#7fbc41"
            ],
            [
             0.9,
             "#4d9221"
            ],
            [
             1,
             "#276419"
            ]
           ],
           "sequential": [
            [
             0,
             "#0d0887"
            ],
            [
             0.1111111111111111,
             "#46039f"
            ],
            [
             0.2222222222222222,
             "#7201a8"
            ],
            [
             0.3333333333333333,
             "#9c179e"
            ],
            [
             0.4444444444444444,
             "#bd3786"
            ],
            [
             0.5555555555555556,
             "#d8576b"
            ],
            [
             0.6666666666666666,
             "#ed7953"
            ],
            [
             0.7777777777777778,
             "#fb9f3a"
            ],
            [
             0.8888888888888888,
             "#fdca26"
            ],
            [
             1,
             "#f0f921"
            ]
           ],
           "sequentialminus": [
            [
             0,
             "#0d0887"
            ],
            [
             0.1111111111111111,
             "#46039f"
            ],
            [
             0.2222222222222222,
             "#7201a8"
            ],
            [
             0.3333333333333333,
             "#9c179e"
            ],
            [
             0.4444444444444444,
             "#bd3786"
            ],
            [
             0.5555555555555556,
             "#d8576b"
            ],
            [
             0.6666666666666666,
             "#ed7953"
            ],
            [
             0.7777777777777778,
             "#fb9f3a"
            ],
            [
             0.8888888888888888,
             "#fdca26"
            ],
            [
             1,
             "#f0f921"
            ]
           ]
          },
          "colorway": [
           "#636efa",
           "#EF553B",
           "#00cc96",
           "#ab63fa",
           "#FFA15A",
           "#19d3f3",
           "#FF6692",
           "#B6E880",
           "#FF97FF",
           "#FECB52"
          ],
          "font": {
           "color": "#2a3f5f"
          },
          "geo": {
           "bgcolor": "white",
           "lakecolor": "white",
           "landcolor": "#E5ECF6",
           "showlakes": true,
           "showland": true,
           "subunitcolor": "white"
          },
          "hoverlabel": {
           "align": "left"
          },
          "hovermode": "closest",
          "mapbox": {
           "style": "light"
          },
          "paper_bgcolor": "white",
          "plot_bgcolor": "#E5ECF6",
          "polar": {
           "angularaxis": {
            "gridcolor": "white",
            "linecolor": "white",
            "ticks": ""
           },
           "bgcolor": "#E5ECF6",
           "radialaxis": {
            "gridcolor": "white",
            "linecolor": "white",
            "ticks": ""
           }
          },
          "scene": {
           "xaxis": {
            "backgroundcolor": "#E5ECF6",
            "gridcolor": "white",
            "gridwidth": 2,
            "linecolor": "white",
            "showbackground": true,
            "ticks": "",
            "zerolinecolor": "white"
           },
           "yaxis": {
            "backgroundcolor": "#E5ECF6",
            "gridcolor": "white",
            "gridwidth": 2,
            "linecolor": "white",
            "showbackground": true,
            "ticks": "",
            "zerolinecolor": "white"
           },
           "zaxis": {
            "backgroundcolor": "#E5ECF6",
            "gridcolor": "white",
            "gridwidth": 2,
            "linecolor": "white",
            "showbackground": true,
            "ticks": "",
            "zerolinecolor": "white"
           }
          },
          "shapedefaults": {
           "line": {
            "color": "#2a3f5f"
           }
          },
          "ternary": {
           "aaxis": {
            "gridcolor": "white",
            "linecolor": "white",
            "ticks": ""
           },
           "baxis": {
            "gridcolor": "white",
            "linecolor": "white",
            "ticks": ""
           },
           "bgcolor": "#E5ECF6",
           "caxis": {
            "gridcolor": "white",
            "linecolor": "white",
            "ticks": ""
           }
          },
          "title": {
           "x": 0.05
          },
          "xaxis": {
           "automargin": true,
           "gridcolor": "white",
           "linecolor": "white",
           "ticks": "",
           "title": {
            "standoff": 15
           },
           "zerolinecolor": "white",
           "zerolinewidth": 2
          },
          "yaxis": {
           "automargin": true,
           "gridcolor": "white",
           "linecolor": "white",
           "ticks": "",
           "title": {
            "standoff": 15
           },
           "zerolinecolor": "white",
           "zerolinewidth": 2
          }
         }
        },
        "title": {
         "text": "Correlation Matrix Heatmap"
        },
        "width": 900
       }
      }
     },
     "metadata": {},
     "output_type": "display_data"
    },
    {
     "name": "stdout",
     "output_type": "stream",
     "text": [
      "\n",
      "Strongest Correlations:\n",
      "followers vs favorites:  0.973\n",
      "chapters vs pages   :  0.917\n",
      "   views vs favorites:  0.854\n",
      "   views vs followers:  0.750\n",
      "  rating vs chapters: -0.572\n",
      "   views vs pages   :  0.563\n"
     ]
    }
   ],
   "source": [
    "# Calculate correlation matrix\n",
    "correlation_matrix = df[key_metrics].corr()\n",
    "\n",
    "# Create correlation heatmap using plotly\n",
    "fig = go.Figure(data=go.Heatmap(\n",
    "    z=correlation_matrix,\n",
    "    x=correlation_matrix.columns,\n",
    "    y=correlation_matrix.columns,\n",
    "    text=np.round(correlation_matrix, 2),\n",
    "    texttemplate='%{text}',\n",
    "    textfont={\"size\": 12},\n",
    "    hoverongaps=False,\n",
    "    colorscale='RdBu'\n",
    "))\n",
    "\n",
    "fig.update_layout(\n",
    "    title='Correlation Matrix Heatmap',\n",
    "    height=800,\n",
    "    width=900,\n",
    "    font=dict(size=14)\n",
    ")\n",
    "fig.show()\n",
    "\n",
    "# Print strongest correlations\n",
    "print(\"\\nStrongest Correlations:\")\n",
    "corr_pairs = []\n",
    "\n",
    "# Extract values from correlation matrix\n",
    "for i, metric1 in enumerate(key_metrics):\n",
    "    for j, metric2 in enumerate(key_metrics):\n",
    "        if i < j:  # Avoid duplicate pairs and diagonals\n",
    "            corr_value = correlation_matrix.loc[metric1, metric2]\n",
    "            # Make sure we're working with a float\n",
    "            if isinstance(corr_value, (int, float)) and abs(float(corr_value)) > 0.5:\n",
    "                corr_pairs.append((metric1, metric2, float(corr_value)))\n",
    "\n",
    "# Sort by correlation strength and print\n",
    "for metric1, metric2, corr in sorted(corr_pairs, key=lambda x: abs(x[2]), reverse=True):\n",
    "    print(f\"{metric1:>8} vs {metric2:<8}: {corr:>6.3f}\")"
   ]
  },
  {
   "cell_type": "markdown",
   "id": "2fecb22c",
   "metadata": {},
   "source": [
    "## Genre Analysis\n",
    "\n",
    "Let's analyze the distribution of genres and their relationship with other metrics. This will help us understand which genres are most popular and successful on Royal Road."
   ]
  },
  {
   "cell_type": "code",
   "execution_count": 26,
   "id": "b8209ae5",
   "metadata": {},
   "outputs": [
    {
     "data": {
      "application/vnd.plotly.v1+json": {
       "config": {
        "plotlyServerURL": "https://plot.ly"
       },
       "data": [
        {
         "text": {
          "bdata": "AAAAAABAVkAAAAAAAABVQAAAAAAAwFRAAAAAAADAU0AAAAAAAIBRQAAAAAAAgFBAAAAAAACAS0AAAAAAAIBKQAAAAAAAgElAAAAAAAAAQUA=",
          "dtype": "f8"
         },
         "textposition": "auto",
         "type": "bar",
         "x": [
          "Adventure",
          "Fantasy",
          "Action",
          "Progression",
          "Male Lead",
          "Magic",
          "Strong Lead",
          "LitRPG",
          "High Fantasy",
          "Portal Fantasy / Isekai"
         ],
         "y": {
          "bdata": "WVRTT0ZCNzUzIg==",
          "dtype": "i1"
         }
        }
       ],
       "layout": {
        "font": {
         "size": 14
        },
        "height": 600,
        "margin": {
         "b": 100
        },
        "template": {
         "data": {
          "bar": [
           {
            "error_x": {
             "color": "#2a3f5f"
            },
            "error_y": {
             "color": "#2a3f5f"
            },
            "marker": {
             "line": {
              "color": "#E5ECF6",
              "width": 0.5
             },
             "pattern": {
              "fillmode": "overlay",
              "size": 10,
              "solidity": 0.2
             }
            },
            "type": "bar"
           }
          ],
          "barpolar": [
           {
            "marker": {
             "line": {
              "color": "#E5ECF6",
              "width": 0.5
             },
             "pattern": {
              "fillmode": "overlay",
              "size": 10,
              "solidity": 0.2
             }
            },
            "type": "barpolar"
           }
          ],
          "carpet": [
           {
            "aaxis": {
             "endlinecolor": "#2a3f5f",
             "gridcolor": "white",
             "linecolor": "white",
             "minorgridcolor": "white",
             "startlinecolor": "#2a3f5f"
            },
            "baxis": {
             "endlinecolor": "#2a3f5f",
             "gridcolor": "white",
             "linecolor": "white",
             "minorgridcolor": "white",
             "startlinecolor": "#2a3f5f"
            },
            "type": "carpet"
           }
          ],
          "choropleth": [
           {
            "colorbar": {
             "outlinewidth": 0,
             "ticks": ""
            },
            "type": "choropleth"
           }
          ],
          "contour": [
           {
            "colorbar": {
             "outlinewidth": 0,
             "ticks": ""
            },
            "colorscale": [
             [
              0,
              "#0d0887"
             ],
             [
              0.1111111111111111,
              "#46039f"
             ],
             [
              0.2222222222222222,
              "#7201a8"
             ],
             [
              0.3333333333333333,
              "#9c179e"
             ],
             [
              0.4444444444444444,
              "#bd3786"
             ],
             [
              0.5555555555555556,
              "#d8576b"
             ],
             [
              0.6666666666666666,
              "#ed7953"
             ],
             [
              0.7777777777777778,
              "#fb9f3a"
             ],
             [
              0.8888888888888888,
              "#fdca26"
             ],
             [
              1,
              "#f0f921"
             ]
            ],
            "type": "contour"
           }
          ],
          "contourcarpet": [
           {
            "colorbar": {
             "outlinewidth": 0,
             "ticks": ""
            },
            "type": "contourcarpet"
           }
          ],
          "heatmap": [
           {
            "colorbar": {
             "outlinewidth": 0,
             "ticks": ""
            },
            "colorscale": [
             [
              0,
              "#0d0887"
             ],
             [
              0.1111111111111111,
              "#46039f"
             ],
             [
              0.2222222222222222,
              "#7201a8"
             ],
             [
              0.3333333333333333,
              "#9c179e"
             ],
             [
              0.4444444444444444,
              "#bd3786"
             ],
             [
              0.5555555555555556,
              "#d8576b"
             ],
             [
              0.6666666666666666,
              "#ed7953"
             ],
             [
              0.7777777777777778,
              "#fb9f3a"
             ],
             [
              0.8888888888888888,
              "#fdca26"
             ],
             [
              1,
              "#f0f921"
             ]
            ],
            "type": "heatmap"
           }
          ],
          "histogram": [
           {
            "marker": {
             "pattern": {
              "fillmode": "overlay",
              "size": 10,
              "solidity": 0.2
             }
            },
            "type": "histogram"
           }
          ],
          "histogram2d": [
           {
            "colorbar": {
             "outlinewidth": 0,
             "ticks": ""
            },
            "colorscale": [
             [
              0,
              "#0d0887"
             ],
             [
              0.1111111111111111,
              "#46039f"
             ],
             [
              0.2222222222222222,
              "#7201a8"
             ],
             [
              0.3333333333333333,
              "#9c179e"
             ],
             [
              0.4444444444444444,
              "#bd3786"
             ],
             [
              0.5555555555555556,
              "#d8576b"
             ],
             [
              0.6666666666666666,
              "#ed7953"
             ],
             [
              0.7777777777777778,
              "#fb9f3a"
             ],
             [
              0.8888888888888888,
              "#fdca26"
             ],
             [
              1,
              "#f0f921"
             ]
            ],
            "type": "histogram2d"
           }
          ],
          "histogram2dcontour": [
           {
            "colorbar": {
             "outlinewidth": 0,
             "ticks": ""
            },
            "colorscale": [
             [
              0,
              "#0d0887"
             ],
             [
              0.1111111111111111,
              "#46039f"
             ],
             [
              0.2222222222222222,
              "#7201a8"
             ],
             [
              0.3333333333333333,
              "#9c179e"
             ],
             [
              0.4444444444444444,
              "#bd3786"
             ],
             [
              0.5555555555555556,
              "#d8576b"
             ],
             [
              0.6666666666666666,
              "#ed7953"
             ],
             [
              0.7777777777777778,
              "#fb9f3a"
             ],
             [
              0.8888888888888888,
              "#fdca26"
             ],
             [
              1,
              "#f0f921"
             ]
            ],
            "type": "histogram2dcontour"
           }
          ],
          "mesh3d": [
           {
            "colorbar": {
             "outlinewidth": 0,
             "ticks": ""
            },
            "type": "mesh3d"
           }
          ],
          "parcoords": [
           {
            "line": {
             "colorbar": {
              "outlinewidth": 0,
              "ticks": ""
             }
            },
            "type": "parcoords"
           }
          ],
          "pie": [
           {
            "automargin": true,
            "type": "pie"
           }
          ],
          "scatter": [
           {
            "fillpattern": {
             "fillmode": "overlay",
             "size": 10,
             "solidity": 0.2
            },
            "type": "scatter"
           }
          ],
          "scatter3d": [
           {
            "line": {
             "colorbar": {
              "outlinewidth": 0,
              "ticks": ""
             }
            },
            "marker": {
             "colorbar": {
              "outlinewidth": 0,
              "ticks": ""
             }
            },
            "type": "scatter3d"
           }
          ],
          "scattercarpet": [
           {
            "marker": {
             "colorbar": {
              "outlinewidth": 0,
              "ticks": ""
             }
            },
            "type": "scattercarpet"
           }
          ],
          "scattergeo": [
           {
            "marker": {
             "colorbar": {
              "outlinewidth": 0,
              "ticks": ""
             }
            },
            "type": "scattergeo"
           }
          ],
          "scattergl": [
           {
            "marker": {
             "colorbar": {
              "outlinewidth": 0,
              "ticks": ""
             }
            },
            "type": "scattergl"
           }
          ],
          "scattermap": [
           {
            "marker": {
             "colorbar": {
              "outlinewidth": 0,
              "ticks": ""
             }
            },
            "type": "scattermap"
           }
          ],
          "scattermapbox": [
           {
            "marker": {
             "colorbar": {
              "outlinewidth": 0,
              "ticks": ""
             }
            },
            "type": "scattermapbox"
           }
          ],
          "scatterpolar": [
           {
            "marker": {
             "colorbar": {
              "outlinewidth": 0,
              "ticks": ""
             }
            },
            "type": "scatterpolar"
           }
          ],
          "scatterpolargl": [
           {
            "marker": {
             "colorbar": {
              "outlinewidth": 0,
              "ticks": ""
             }
            },
            "type": "scatterpolargl"
           }
          ],
          "scatterternary": [
           {
            "marker": {
             "colorbar": {
              "outlinewidth": 0,
              "ticks": ""
             }
            },
            "type": "scatterternary"
           }
          ],
          "surface": [
           {
            "colorbar": {
             "outlinewidth": 0,
             "ticks": ""
            },
            "colorscale": [
             [
              0,
              "#0d0887"
             ],
             [
              0.1111111111111111,
              "#46039f"
             ],
             [
              0.2222222222222222,
              "#7201a8"
             ],
             [
              0.3333333333333333,
              "#9c179e"
             ],
             [
              0.4444444444444444,
              "#bd3786"
             ],
             [
              0.5555555555555556,
              "#d8576b"
             ],
             [
              0.6666666666666666,
              "#ed7953"
             ],
             [
              0.7777777777777778,
              "#fb9f3a"
             ],
             [
              0.8888888888888888,
              "#fdca26"
             ],
             [
              1,
              "#f0f921"
             ]
            ],
            "type": "surface"
           }
          ],
          "table": [
           {
            "cells": {
             "fill": {
              "color": "#EBF0F8"
             },
             "line": {
              "color": "white"
             }
            },
            "header": {
             "fill": {
              "color": "#C8D4E3"
             },
             "line": {
              "color": "white"
             }
            },
            "type": "table"
           }
          ]
         },
         "layout": {
          "annotationdefaults": {
           "arrowcolor": "#2a3f5f",
           "arrowhead": 0,
           "arrowwidth": 1
          },
          "autotypenumbers": "strict",
          "coloraxis": {
           "colorbar": {
            "outlinewidth": 0,
            "ticks": ""
           }
          },
          "colorscale": {
           "diverging": [
            [
             0,
             "#8e0152"
            ],
            [
             0.1,
             "#c51b7d"
            ],
            [
             0.2,
             "#de77ae"
            ],
            [
             0.3,
             "#f1b6da"
            ],
            [
             0.4,
             "#fde0ef"
            ],
            [
             0.5,
             "#f7f7f7"
            ],
            [
             0.6,
             "#e6f5d0"
            ],
            [
             0.7,
             "#b8e186"
            ],
            [
             0.8,
             "#7fbc41"
            ],
            [
             0.9,
             "#4d9221"
            ],
            [
             1,
             "#276419"
            ]
           ],
           "sequential": [
            [
             0,
             "#0d0887"
            ],
            [
             0.1111111111111111,
             "#46039f"
            ],
            [
             0.2222222222222222,
             "#7201a8"
            ],
            [
             0.3333333333333333,
             "#9c179e"
            ],
            [
             0.4444444444444444,
             "#bd3786"
            ],
            [
             0.5555555555555556,
             "#d8576b"
            ],
            [
             0.6666666666666666,
             "#ed7953"
            ],
            [
             0.7777777777777778,
             "#fb9f3a"
            ],
            [
             0.8888888888888888,
             "#fdca26"
            ],
            [
             1,
             "#f0f921"
            ]
           ],
           "sequentialminus": [
            [
             0,
             "#0d0887"
            ],
            [
             0.1111111111111111,
             "#46039f"
            ],
            [
             0.2222222222222222,
             "#7201a8"
            ],
            [
             0.3333333333333333,
             "#9c179e"
            ],
            [
             0.4444444444444444,
             "#bd3786"
            ],
            [
             0.5555555555555556,
             "#d8576b"
            ],
            [
             0.6666666666666666,
             "#ed7953"
            ],
            [
             0.7777777777777778,
             "#fb9f3a"
            ],
            [
             0.8888888888888888,
             "#fdca26"
            ],
            [
             1,
             "#f0f921"
            ]
           ]
          },
          "colorway": [
           "#636efa",
           "#EF553B",
           "#00cc96",
           "#ab63fa",
           "#FFA15A",
           "#19d3f3",
           "#FF6692",
           "#B6E880",
           "#FF97FF",
           "#FECB52"
          ],
          "font": {
           "color": "#2a3f5f"
          },
          "geo": {
           "bgcolor": "white",
           "lakecolor": "white",
           "landcolor": "#E5ECF6",
           "showlakes": true,
           "showland": true,
           "subunitcolor": "white"
          },
          "hoverlabel": {
           "align": "left"
          },
          "hovermode": "closest",
          "mapbox": {
           "style": "light"
          },
          "paper_bgcolor": "white",
          "plot_bgcolor": "#E5ECF6",
          "polar": {
           "angularaxis": {
            "gridcolor": "white",
            "linecolor": "white",
            "ticks": ""
           },
           "bgcolor": "#E5ECF6",
           "radialaxis": {
            "gridcolor": "white",
            "linecolor": "white",
            "ticks": ""
           }
          },
          "scene": {
           "xaxis": {
            "backgroundcolor": "#E5ECF6",
            "gridcolor": "white",
            "gridwidth": 2,
            "linecolor": "white",
            "showbackground": true,
            "ticks": "",
            "zerolinecolor": "white"
           },
           "yaxis": {
            "backgroundcolor": "#E5ECF6",
            "gridcolor": "white",
            "gridwidth": 2,
            "linecolor": "white",
            "showbackground": true,
            "ticks": "",
            "zerolinecolor": "white"
           },
           "zaxis": {
            "backgroundcolor": "#E5ECF6",
            "gridcolor": "white",
            "gridwidth": 2,
            "linecolor": "white",
            "showbackground": true,
            "ticks": "",
            "zerolinecolor": "white"
           }
          },
          "shapedefaults": {
           "line": {
            "color": "#2a3f5f"
           }
          },
          "ternary": {
           "aaxis": {
            "gridcolor": "white",
            "linecolor": "white",
            "ticks": ""
           },
           "baxis": {
            "gridcolor": "white",
            "linecolor": "white",
            "ticks": ""
           },
           "bgcolor": "#E5ECF6",
           "caxis": {
            "gridcolor": "white",
            "linecolor": "white",
            "ticks": ""
           }
          },
          "title": {
           "x": 0.05
          },
          "xaxis": {
           "automargin": true,
           "gridcolor": "white",
           "linecolor": "white",
           "ticks": "",
           "title": {
            "standoff": 15
           },
           "zerolinecolor": "white",
           "zerolinewidth": 2
          },
          "yaxis": {
           "automargin": true,
           "gridcolor": "white",
           "linecolor": "white",
           "ticks": "",
           "title": {
            "standoff": 15
           },
           "zerolinecolor": "white",
           "zerolinewidth": 2
          }
         }
        },
        "title": {
         "text": "Top 10 Most Common Genres"
        },
        "width": 900,
        "xaxis": {
         "tickangle": -45,
         "title": {
          "text": "Genre"
         }
        },
        "yaxis": {
         "title": {
          "text": "Number of Stories"
         }
        }
       }
      }
     },
     "metadata": {},
     "output_type": "display_data"
    },
    {
     "data": {
      "application/vnd.plotly.v1+json": {
       "config": {
        "plotlyServerURL": "https://plot.ly"
       },
       "data": [
        {
         "customdata": {
          "bdata": "BxYQGhMVDTMQEQ==",
          "dtype": "i1"
         },
         "hovertemplate": "Genre: %{x}<br>Average views: %{y:,.2f}<br>Number of stories: %{customdata}<br>",
         "text": {
          "bdata": "4XoUbiDePUGuR+E6po03QQAAAIAh8zVBpHA9CsWPNUEAAAAAJ2Q0QZqZmRmfrzNBAAAAAH5eMkHhehRueskxQfYoXE/I9zBBexSuh2udMEE=",
          "dtype": "f8"
         },
         "textposition": "auto",
         "type": "bar",
         "x": [
          "School Life",
          "Dungeon",
          "Xianxia",
          "Strategy",
          "Ruling Class",
          "Romance",
          "Urban Fantasy",
          "High Fantasy",
          "Mythos",
          "Attractive Lead"
         ],
         "y": {
          "bdata": "btu2bSDePUGjiy46po03QQAAAIAh8zVBip3YCcWPNUEAAAAAJ2Q0QRiGYRifrzNBAAAAAH5eMkFubm5ueskxQQAAAFDI9zBBiIeHh2udMEE=",
          "dtype": "f8"
         }
        }
       ],
       "layout": {
        "font": {
         "size": 14
        },
        "height": 600,
        "margin": {
         "b": 100
        },
        "template": {
         "data": {
          "bar": [
           {
            "error_x": {
             "color": "#2a3f5f"
            },
            "error_y": {
             "color": "#2a3f5f"
            },
            "marker": {
             "line": {
              "color": "#E5ECF6",
              "width": 0.5
             },
             "pattern": {
              "fillmode": "overlay",
              "size": 10,
              "solidity": 0.2
             }
            },
            "type": "bar"
           }
          ],
          "barpolar": [
           {
            "marker": {
             "line": {
              "color": "#E5ECF6",
              "width": 0.5
             },
             "pattern": {
              "fillmode": "overlay",
              "size": 10,
              "solidity": 0.2
             }
            },
            "type": "barpolar"
           }
          ],
          "carpet": [
           {
            "aaxis": {
             "endlinecolor": "#2a3f5f",
             "gridcolor": "white",
             "linecolor": "white",
             "minorgridcolor": "white",
             "startlinecolor": "#2a3f5f"
            },
            "baxis": {
             "endlinecolor": "#2a3f5f",
             "gridcolor": "white",
             "linecolor": "white",
             "minorgridcolor": "white",
             "startlinecolor": "#2a3f5f"
            },
            "type": "carpet"
           }
          ],
          "choropleth": [
           {
            "colorbar": {
             "outlinewidth": 0,
             "ticks": ""
            },
            "type": "choropleth"
           }
          ],
          "contour": [
           {
            "colorbar": {
             "outlinewidth": 0,
             "ticks": ""
            },
            "colorscale": [
             [
              0,
              "#0d0887"
             ],
             [
              0.1111111111111111,
              "#46039f"
             ],
             [
              0.2222222222222222,
              "#7201a8"
             ],
             [
              0.3333333333333333,
              "#9c179e"
             ],
             [
              0.4444444444444444,
              "#bd3786"
             ],
             [
              0.5555555555555556,
              "#d8576b"
             ],
             [
              0.6666666666666666,
              "#ed7953"
             ],
             [
              0.7777777777777778,
              "#fb9f3a"
             ],
             [
              0.8888888888888888,
              "#fdca26"
             ],
             [
              1,
              "#f0f921"
             ]
            ],
            "type": "contour"
           }
          ],
          "contourcarpet": [
           {
            "colorbar": {
             "outlinewidth": 0,
             "ticks": ""
            },
            "type": "contourcarpet"
           }
          ],
          "heatmap": [
           {
            "colorbar": {
             "outlinewidth": 0,
             "ticks": ""
            },
            "colorscale": [
             [
              0,
              "#0d0887"
             ],
             [
              0.1111111111111111,
              "#46039f"
             ],
             [
              0.2222222222222222,
              "#7201a8"
             ],
             [
              0.3333333333333333,
              "#9c179e"
             ],
             [
              0.4444444444444444,
              "#bd3786"
             ],
             [
              0.5555555555555556,
              "#d8576b"
             ],
             [
              0.6666666666666666,
              "#ed7953"
             ],
             [
              0.7777777777777778,
              "#fb9f3a"
             ],
             [
              0.8888888888888888,
              "#fdca26"
             ],
             [
              1,
              "#f0f921"
             ]
            ],
            "type": "heatmap"
           }
          ],
          "histogram": [
           {
            "marker": {
             "pattern": {
              "fillmode": "overlay",
              "size": 10,
              "solidity": 0.2
             }
            },
            "type": "histogram"
           }
          ],
          "histogram2d": [
           {
            "colorbar": {
             "outlinewidth": 0,
             "ticks": ""
            },
            "colorscale": [
             [
              0,
              "#0d0887"
             ],
             [
              0.1111111111111111,
              "#46039f"
             ],
             [
              0.2222222222222222,
              "#7201a8"
             ],
             [
              0.3333333333333333,
              "#9c179e"
             ],
             [
              0.4444444444444444,
              "#bd3786"
             ],
             [
              0.5555555555555556,
              "#d8576b"
             ],
             [
              0.6666666666666666,
              "#ed7953"
             ],
             [
              0.7777777777777778,
              "#fb9f3a"
             ],
             [
              0.8888888888888888,
              "#fdca26"
             ],
             [
              1,
              "#f0f921"
             ]
            ],
            "type": "histogram2d"
           }
          ],
          "histogram2dcontour": [
           {
            "colorbar": {
             "outlinewidth": 0,
             "ticks": ""
            },
            "colorscale": [
             [
              0,
              "#0d0887"
             ],
             [
              0.1111111111111111,
              "#46039f"
             ],
             [
              0.2222222222222222,
              "#7201a8"
             ],
             [
              0.3333333333333333,
              "#9c179e"
             ],
             [
              0.4444444444444444,
              "#bd3786"
             ],
             [
              0.5555555555555556,
              "#d8576b"
             ],
             [
              0.6666666666666666,
              "#ed7953"
             ],
             [
              0.7777777777777778,
              "#fb9f3a"
             ],
             [
              0.8888888888888888,
              "#fdca26"
             ],
             [
              1,
              "#f0f921"
             ]
            ],
            "type": "histogram2dcontour"
           }
          ],
          "mesh3d": [
           {
            "colorbar": {
             "outlinewidth": 0,
             "ticks": ""
            },
            "type": "mesh3d"
           }
          ],
          "parcoords": [
           {
            "line": {
             "colorbar": {
              "outlinewidth": 0,
              "ticks": ""
             }
            },
            "type": "parcoords"
           }
          ],
          "pie": [
           {
            "automargin": true,
            "type": "pie"
           }
          ],
          "scatter": [
           {
            "fillpattern": {
             "fillmode": "overlay",
             "size": 10,
             "solidity": 0.2
            },
            "type": "scatter"
           }
          ],
          "scatter3d": [
           {
            "line": {
             "colorbar": {
              "outlinewidth": 0,
              "ticks": ""
             }
            },
            "marker": {
             "colorbar": {
              "outlinewidth": 0,
              "ticks": ""
             }
            },
            "type": "scatter3d"
           }
          ],
          "scattercarpet": [
           {
            "marker": {
             "colorbar": {
              "outlinewidth": 0,
              "ticks": ""
             }
            },
            "type": "scattercarpet"
           }
          ],
          "scattergeo": [
           {
            "marker": {
             "colorbar": {
              "outlinewidth": 0,
              "ticks": ""
             }
            },
            "type": "scattergeo"
           }
          ],
          "scattergl": [
           {
            "marker": {
             "colorbar": {
              "outlinewidth": 0,
              "ticks": ""
             }
            },
            "type": "scattergl"
           }
          ],
          "scattermap": [
           {
            "marker": {
             "colorbar": {
              "outlinewidth": 0,
              "ticks": ""
             }
            },
            "type": "scattermap"
           }
          ],
          "scattermapbox": [
           {
            "marker": {
             "colorbar": {
              "outlinewidth": 0,
              "ticks": ""
             }
            },
            "type": "scattermapbox"
           }
          ],
          "scatterpolar": [
           {
            "marker": {
             "colorbar": {
              "outlinewidth": 0,
              "ticks": ""
             }
            },
            "type": "scatterpolar"
           }
          ],
          "scatterpolargl": [
           {
            "marker": {
             "colorbar": {
              "outlinewidth": 0,
              "ticks": ""
             }
            },
            "type": "scatterpolargl"
           }
          ],
          "scatterternary": [
           {
            "marker": {
             "colorbar": {
              "outlinewidth": 0,
              "ticks": ""
             }
            },
            "type": "scatterternary"
           }
          ],
          "surface": [
           {
            "colorbar": {
             "outlinewidth": 0,
             "ticks": ""
            },
            "colorscale": [
             [
              0,
              "#0d0887"
             ],
             [
              0.1111111111111111,
              "#46039f"
             ],
             [
              0.2222222222222222,
              "#7201a8"
             ],
             [
              0.3333333333333333,
              "#9c179e"
             ],
             [
              0.4444444444444444,
              "#bd3786"
             ],
             [
              0.5555555555555556,
              "#d8576b"
             ],
             [
              0.6666666666666666,
              "#ed7953"
             ],
             [
              0.7777777777777778,
              "#fb9f3a"
             ],
             [
              0.8888888888888888,
              "#fdca26"
             ],
             [
              1,
              "#f0f921"
             ]
            ],
            "type": "surface"
           }
          ],
          "table": [
           {
            "cells": {
             "fill": {
              "color": "#EBF0F8"
             },
             "line": {
              "color": "white"
             }
            },
            "header": {
             "fill": {
              "color": "#C8D4E3"
             },
             "line": {
              "color": "white"
             }
            },
            "type": "table"
           }
          ]
         },
         "layout": {
          "annotationdefaults": {
           "arrowcolor": "#2a3f5f",
           "arrowhead": 0,
           "arrowwidth": 1
          },
          "autotypenumbers": "strict",
          "coloraxis": {
           "colorbar": {
            "outlinewidth": 0,
            "ticks": ""
           }
          },
          "colorscale": {
           "diverging": [
            [
             0,
             "#8e0152"
            ],
            [
             0.1,
             "#c51b7d"
            ],
            [
             0.2,
             "#de77ae"
            ],
            [
             0.3,
             "#f1b6da"
            ],
            [
             0.4,
             "#fde0ef"
            ],
            [
             0.5,
             "#f7f7f7"
            ],
            [
             0.6,
             "#e6f5d0"
            ],
            [
             0.7,
             "#b8e186"
            ],
            [
             0.8,
             "#7fbc41"
            ],
            [
             0.9,
             "#4d9221"
            ],
            [
             1,
             "#276419"
            ]
           ],
           "sequential": [
            [
             0,
             "#0d0887"
            ],
            [
             0.1111111111111111,
             "#46039f"
            ],
            [
             0.2222222222222222,
             "#7201a8"
            ],
            [
             0.3333333333333333,
             "#9c179e"
            ],
            [
             0.4444444444444444,
             "#bd3786"
            ],
            [
             0.5555555555555556,
             "#d8576b"
            ],
            [
             0.6666666666666666,
             "#ed7953"
            ],
            [
             0.7777777777777778,
             "#fb9f3a"
            ],
            [
             0.8888888888888888,
             "#fdca26"
            ],
            [
             1,
             "#f0f921"
            ]
           ],
           "sequentialminus": [
            [
             0,
             "#0d0887"
            ],
            [
             0.1111111111111111,
             "#46039f"
            ],
            [
             0.2222222222222222,
             "#7201a8"
            ],
            [
             0.3333333333333333,
             "#9c179e"
            ],
            [
             0.4444444444444444,
             "#bd3786"
            ],
            [
             0.5555555555555556,
             "#d8576b"
            ],
            [
             0.6666666666666666,
             "#ed7953"
            ],
            [
             0.7777777777777778,
             "#fb9f3a"
            ],
            [
             0.8888888888888888,
             "#fdca26"
            ],
            [
             1,
             "#f0f921"
            ]
           ]
          },
          "colorway": [
           "#636efa",
           "#EF553B",
           "#00cc96",
           "#ab63fa",
           "#FFA15A",
           "#19d3f3",
           "#FF6692",
           "#B6E880",
           "#FF97FF",
           "#FECB52"
          ],
          "font": {
           "color": "#2a3f5f"
          },
          "geo": {
           "bgcolor": "white",
           "lakecolor": "white",
           "landcolor": "#E5ECF6",
           "showlakes": true,
           "showland": true,
           "subunitcolor": "white"
          },
          "hoverlabel": {
           "align": "left"
          },
          "hovermode": "closest",
          "mapbox": {
           "style": "light"
          },
          "paper_bgcolor": "white",
          "plot_bgcolor": "#E5ECF6",
          "polar": {
           "angularaxis": {
            "gridcolor": "white",
            "linecolor": "white",
            "ticks": ""
           },
           "bgcolor": "#E5ECF6",
           "radialaxis": {
            "gridcolor": "white",
            "linecolor": "white",
            "ticks": ""
           }
          },
          "scene": {
           "xaxis": {
            "backgroundcolor": "#E5ECF6",
            "gridcolor": "white",
            "gridwidth": 2,
            "linecolor": "white",
            "showbackground": true,
            "ticks": "",
            "zerolinecolor": "white"
           },
           "yaxis": {
            "backgroundcolor": "#E5ECF6",
            "gridcolor": "white",
            "gridwidth": 2,
            "linecolor": "white",
            "showbackground": true,
            "ticks": "",
            "zerolinecolor": "white"
           },
           "zaxis": {
            "backgroundcolor": "#E5ECF6",
            "gridcolor": "white",
            "gridwidth": 2,
            "linecolor": "white",
            "showbackground": true,
            "ticks": "",
            "zerolinecolor": "white"
           }
          },
          "shapedefaults": {
           "line": {
            "color": "#2a3f5f"
           }
          },
          "ternary": {
           "aaxis": {
            "gridcolor": "white",
            "linecolor": "white",
            "ticks": ""
           },
           "baxis": {
            "gridcolor": "white",
            "linecolor": "white",
            "ticks": ""
           },
           "bgcolor": "#E5ECF6",
           "caxis": {
            "gridcolor": "white",
            "linecolor": "white",
            "ticks": ""
           }
          },
          "title": {
           "x": 0.05
          },
          "xaxis": {
           "automargin": true,
           "gridcolor": "white",
           "linecolor": "white",
           "ticks": "",
           "title": {
            "standoff": 15
           },
           "zerolinecolor": "white",
           "zerolinewidth": 2
          },
          "yaxis": {
           "automargin": true,
           "gridcolor": "white",
           "linecolor": "white",
           "ticks": "",
           "title": {
            "standoff": 15
           },
           "zerolinecolor": "white",
           "zerolinewidth": 2
          }
         }
        },
        "title": {
         "text": "Top 10 Genres by Average Views"
        },
        "width": 900,
        "xaxis": {
         "tickangle": -45,
         "title": {
          "text": "Genre"
         }
        },
        "yaxis": {
         "title": {
          "text": "Average Views"
         },
         "type": "log"
        }
       }
      }
     },
     "metadata": {},
     "output_type": "display_data"
    },
    {
     "data": {
      "application/vnd.plotly.v1+json": {
       "config": {
        "plotlyServerURL": "https://plot.ly"
       },
       "data": [
        {
         "customdata": {
          "bdata": "BQUPBwwIGRoQBg==",
          "dtype": "i1"
         },
         "hovertemplate": "Genre: %{x}<br>Average rating: %{y:,.2f}<br>Number of stories: %{customdata}<br>",
         "text": {
          "bdata": "pHA9CtejEkCPwvUoXI8SQFyPwvUoXBJAUrgehetREkBSuB6F61ESQFK4HoXrURJAPQrXo3A9EkApXI/C9SgSQB+F61G4HhJAH4XrUbgeEkA=",
          "dtype": "f8"
         },
         "textposition": "auto",
         "type": "bar",
         "x": [
          "Contemporary",
          "Historical",
          "Multiple Lead Characters",
          "Mystery",
          "Low Fantasy",
          "Super Heroes",
          "Female Lead",
          "Strategy",
          "Secret Identity",
          "First Contact"
         ],
         "y": {
          "bdata": "OrTIdr6fEkD6fmq8dJMSQMOuALnXXBJAUrgehetREkAREREREVESQI/C9ShcTxJAGXPXEvJBEkDDaL8pzyUSQML1KFyPIhJAoNMGOm0gEkA=",
          "dtype": "f8"
         }
        }
       ],
       "layout": {
        "font": {
         "size": 14
        },
        "height": 600,
        "margin": {
         "b": 100
        },
        "template": {
         "data": {
          "bar": [
           {
            "error_x": {
             "color": "#2a3f5f"
            },
            "error_y": {
             "color": "#2a3f5f"
            },
            "marker": {
             "line": {
              "color": "#E5ECF6",
              "width": 0.5
             },
             "pattern": {
              "fillmode": "overlay",
              "size": 10,
              "solidity": 0.2
             }
            },
            "type": "bar"
           }
          ],
          "barpolar": [
           {
            "marker": {
             "line": {
              "color": "#E5ECF6",
              "width": 0.5
             },
             "pattern": {
              "fillmode": "overlay",
              "size": 10,
              "solidity": 0.2
             }
            },
            "type": "barpolar"
           }
          ],
          "carpet": [
           {
            "aaxis": {
             "endlinecolor": "#2a3f5f",
             "gridcolor": "white",
             "linecolor": "white",
             "minorgridcolor": "white",
             "startlinecolor": "#2a3f5f"
            },
            "baxis": {
             "endlinecolor": "#2a3f5f",
             "gridcolor": "white",
             "linecolor": "white",
             "minorgridcolor": "white",
             "startlinecolor": "#2a3f5f"
            },
            "type": "carpet"
           }
          ],
          "choropleth": [
           {
            "colorbar": {
             "outlinewidth": 0,
             "ticks": ""
            },
            "type": "choropleth"
           }
          ],
          "contour": [
           {
            "colorbar": {
             "outlinewidth": 0,
             "ticks": ""
            },
            "colorscale": [
             [
              0,
              "#0d0887"
             ],
             [
              0.1111111111111111,
              "#46039f"
             ],
             [
              0.2222222222222222,
              "#7201a8"
             ],
             [
              0.3333333333333333,
              "#9c179e"
             ],
             [
              0.4444444444444444,
              "#bd3786"
             ],
             [
              0.5555555555555556,
              "#d8576b"
             ],
             [
              0.6666666666666666,
              "#ed7953"
             ],
             [
              0.7777777777777778,
              "#fb9f3a"
             ],
             [
              0.8888888888888888,
              "#fdca26"
             ],
             [
              1,
              "#f0f921"
             ]
            ],
            "type": "contour"
           }
          ],
          "contourcarpet": [
           {
            "colorbar": {
             "outlinewidth": 0,
             "ticks": ""
            },
            "type": "contourcarpet"
           }
          ],
          "heatmap": [
           {
            "colorbar": {
             "outlinewidth": 0,
             "ticks": ""
            },
            "colorscale": [
             [
              0,
              "#0d0887"
             ],
             [
              0.1111111111111111,
              "#46039f"
             ],
             [
              0.2222222222222222,
              "#7201a8"
             ],
             [
              0.3333333333333333,
              "#9c179e"
             ],
             [
              0.4444444444444444,
              "#bd3786"
             ],
             [
              0.5555555555555556,
              "#d8576b"
             ],
             [
              0.6666666666666666,
              "#ed7953"
             ],
             [
              0.7777777777777778,
              "#fb9f3a"
             ],
             [
              0.8888888888888888,
              "#fdca26"
             ],
             [
              1,
              "#f0f921"
             ]
            ],
            "type": "heatmap"
           }
          ],
          "histogram": [
           {
            "marker": {
             "pattern": {
              "fillmode": "overlay",
              "size": 10,
              "solidity": 0.2
             }
            },
            "type": "histogram"
           }
          ],
          "histogram2d": [
           {
            "colorbar": {
             "outlinewidth": 0,
             "ticks": ""
            },
            "colorscale": [
             [
              0,
              "#0d0887"
             ],
             [
              0.1111111111111111,
              "#46039f"
             ],
             [
              0.2222222222222222,
              "#7201a8"
             ],
             [
              0.3333333333333333,
              "#9c179e"
             ],
             [
              0.4444444444444444,
              "#bd3786"
             ],
             [
              0.5555555555555556,
              "#d8576b"
             ],
             [
              0.6666666666666666,
              "#ed7953"
             ],
             [
              0.7777777777777778,
              "#fb9f3a"
             ],
             [
              0.8888888888888888,
              "#fdca26"
             ],
             [
              1,
              "#f0f921"
             ]
            ],
            "type": "histogram2d"
           }
          ],
          "histogram2dcontour": [
           {
            "colorbar": {
             "outlinewidth": 0,
             "ticks": ""
            },
            "colorscale": [
             [
              0,
              "#0d0887"
             ],
             [
              0.1111111111111111,
              "#46039f"
             ],
             [
              0.2222222222222222,
              "#7201a8"
             ],
             [
              0.3333333333333333,
              "#9c179e"
             ],
             [
              0.4444444444444444,
              "#bd3786"
             ],
             [
              0.5555555555555556,
              "#d8576b"
             ],
             [
              0.6666666666666666,
              "#ed7953"
             ],
             [
              0.7777777777777778,
              "#fb9f3a"
             ],
             [
              0.8888888888888888,
              "#fdca26"
             ],
             [
              1,
              "#f0f921"
             ]
            ],
            "type": "histogram2dcontour"
           }
          ],
          "mesh3d": [
           {
            "colorbar": {
             "outlinewidth": 0,
             "ticks": ""
            },
            "type": "mesh3d"
           }
          ],
          "parcoords": [
           {
            "line": {
             "colorbar": {
              "outlinewidth": 0,
              "ticks": ""
             }
            },
            "type": "parcoords"
           }
          ],
          "pie": [
           {
            "automargin": true,
            "type": "pie"
           }
          ],
          "scatter": [
           {
            "fillpattern": {
             "fillmode": "overlay",
             "size": 10,
             "solidity": 0.2
            },
            "type": "scatter"
           }
          ],
          "scatter3d": [
           {
            "line": {
             "colorbar": {
              "outlinewidth": 0,
              "ticks": ""
             }
            },
            "marker": {
             "colorbar": {
              "outlinewidth": 0,
              "ticks": ""
             }
            },
            "type": "scatter3d"
           }
          ],
          "scattercarpet": [
           {
            "marker": {
             "colorbar": {
              "outlinewidth": 0,
              "ticks": ""
             }
            },
            "type": "scattercarpet"
           }
          ],
          "scattergeo": [
           {
            "marker": {
             "colorbar": {
              "outlinewidth": 0,
              "ticks": ""
             }
            },
            "type": "scattergeo"
           }
          ],
          "scattergl": [
           {
            "marker": {
             "colorbar": {
              "outlinewidth": 0,
              "ticks": ""
             }
            },
            "type": "scattergl"
           }
          ],
          "scattermap": [
           {
            "marker": {
             "colorbar": {
              "outlinewidth": 0,
              "ticks": ""
             }
            },
            "type": "scattermap"
           }
          ],
          "scattermapbox": [
           {
            "marker": {
             "colorbar": {
              "outlinewidth": 0,
              "ticks": ""
             }
            },
            "type": "scattermapbox"
           }
          ],
          "scatterpolar": [
           {
            "marker": {
             "colorbar": {
              "outlinewidth": 0,
              "ticks": ""
             }
            },
            "type": "scatterpolar"
           }
          ],
          "scatterpolargl": [
           {
            "marker": {
             "colorbar": {
              "outlinewidth": 0,
              "ticks": ""
             }
            },
            "type": "scatterpolargl"
           }
          ],
          "scatterternary": [
           {
            "marker": {
             "colorbar": {
              "outlinewidth": 0,
              "ticks": ""
             }
            },
            "type": "scatterternary"
           }
          ],
          "surface": [
           {
            "colorbar": {
             "outlinewidth": 0,
             "ticks": ""
            },
            "colorscale": [
             [
              0,
              "#0d0887"
             ],
             [
              0.1111111111111111,
              "#46039f"
             ],
             [
              0.2222222222222222,
              "#7201a8"
             ],
             [
              0.3333333333333333,
              "#9c179e"
             ],
             [
              0.4444444444444444,
              "#bd3786"
             ],
             [
              0.5555555555555556,
              "#d8576b"
             ],
             [
              0.6666666666666666,
              "#ed7953"
             ],
             [
              0.7777777777777778,
              "#fb9f3a"
             ],
             [
              0.8888888888888888,
              "#fdca26"
             ],
             [
              1,
              "#f0f921"
             ]
            ],
            "type": "surface"
           }
          ],
          "table": [
           {
            "cells": {
             "fill": {
              "color": "#EBF0F8"
             },
             "line": {
              "color": "white"
             }
            },
            "header": {
             "fill": {
              "color": "#C8D4E3"
             },
             "line": {
              "color": "white"
             }
            },
            "type": "table"
           }
          ]
         },
         "layout": {
          "annotationdefaults": {
           "arrowcolor": "#2a3f5f",
           "arrowhead": 0,
           "arrowwidth": 1
          },
          "autotypenumbers": "strict",
          "coloraxis": {
           "colorbar": {
            "outlinewidth": 0,
            "ticks": ""
           }
          },
          "colorscale": {
           "diverging": [
            [
             0,
             "#8e0152"
            ],
            [
             0.1,
             "#c51b7d"
            ],
            [
             0.2,
             "#de77ae"
            ],
            [
             0.3,
             "#f1b6da"
            ],
            [
             0.4,
             "#fde0ef"
            ],
            [
             0.5,
             "#f7f7f7"
            ],
            [
             0.6,
             "#e6f5d0"
            ],
            [
             0.7,
             "#b8e186"
            ],
            [
             0.8,
             "#7fbc41"
            ],
            [
             0.9,
             "#4d9221"
            ],
            [
             1,
             "#276419"
            ]
           ],
           "sequential": [
            [
             0,
             "#0d0887"
            ],
            [
             0.1111111111111111,
             "#46039f"
            ],
            [
             0.2222222222222222,
             "#7201a8"
            ],
            [
             0.3333333333333333,
             "#9c179e"
            ],
            [
             0.4444444444444444,
             "#bd3786"
            ],
            [
             0.5555555555555556,
             "#d8576b"
            ],
            [
             0.6666666666666666,
             "#ed7953"
            ],
            [
             0.7777777777777778,
             "#fb9f3a"
            ],
            [
             0.8888888888888888,
             "#fdca26"
            ],
            [
             1,
             "#f0f921"
            ]
           ],
           "sequentialminus": [
            [
             0,
             "#0d0887"
            ],
            [
             0.1111111111111111,
             "#46039f"
            ],
            [
             0.2222222222222222,
             "#7201a8"
            ],
            [
             0.3333333333333333,
             "#9c179e"
            ],
            [
             0.4444444444444444,
             "#bd3786"
            ],
            [
             0.5555555555555556,
             "#d8576b"
            ],
            [
             0.6666666666666666,
             "#ed7953"
            ],
            [
             0.7777777777777778,
             "#fb9f3a"
            ],
            [
             0.8888888888888888,
             "#fdca26"
            ],
            [
             1,
             "#f0f921"
            ]
           ]
          },
          "colorway": [
           "#636efa",
           "#EF553B",
           "#00cc96",
           "#ab63fa",
           "#FFA15A",
           "#19d3f3",
           "#FF6692",
           "#B6E880",
           "#FF97FF",
           "#FECB52"
          ],
          "font": {
           "color": "#2a3f5f"
          },
          "geo": {
           "bgcolor": "white",
           "lakecolor": "white",
           "landcolor": "#E5ECF6",
           "showlakes": true,
           "showland": true,
           "subunitcolor": "white"
          },
          "hoverlabel": {
           "align": "left"
          },
          "hovermode": "closest",
          "mapbox": {
           "style": "light"
          },
          "paper_bgcolor": "white",
          "plot_bgcolor": "#E5ECF6",
          "polar": {
           "angularaxis": {
            "gridcolor": "white",
            "linecolor": "white",
            "ticks": ""
           },
           "bgcolor": "#E5ECF6",
           "radialaxis": {
            "gridcolor": "white",
            "linecolor": "white",
            "ticks": ""
           }
          },
          "scene": {
           "xaxis": {
            "backgroundcolor": "#E5ECF6",
            "gridcolor": "white",
            "gridwidth": 2,
            "linecolor": "white",
            "showbackground": true,
            "ticks": "",
            "zerolinecolor": "white"
           },
           "yaxis": {
            "backgroundcolor": "#E5ECF6",
            "gridcolor": "white",
            "gridwidth": 2,
            "linecolor": "white",
            "showbackground": true,
            "ticks": "",
            "zerolinecolor": "white"
           },
           "zaxis": {
            "backgroundcolor": "#E5ECF6",
            "gridcolor": "white",
            "gridwidth": 2,
            "linecolor": "white",
            "showbackground": true,
            "ticks": "",
            "zerolinecolor": "white"
           }
          },
          "shapedefaults": {
           "line": {
            "color": "#2a3f5f"
           }
          },
          "ternary": {
           "aaxis": {
            "gridcolor": "white",
            "linecolor": "white",
            "ticks": ""
           },
           "baxis": {
            "gridcolor": "white",
            "linecolor": "white",
            "ticks": ""
           },
           "bgcolor": "#E5ECF6",
           "caxis": {
            "gridcolor": "white",
            "linecolor": "white",
            "ticks": ""
           }
          },
          "title": {
           "x": 0.05
          },
          "xaxis": {
           "automargin": true,
           "gridcolor": "white",
           "linecolor": "white",
           "ticks": "",
           "title": {
            "standoff": 15
           },
           "zerolinecolor": "white",
           "zerolinewidth": 2
          },
          "yaxis": {
           "automargin": true,
           "gridcolor": "white",
           "linecolor": "white",
           "ticks": "",
           "title": {
            "standoff": 15
           },
           "zerolinecolor": "white",
           "zerolinewidth": 2
          }
         }
        },
        "title": {
         "text": "Top 10 Genres by Average Rating"
        },
        "width": 900,
        "xaxis": {
         "tickangle": -45,
         "title": {
          "text": "Genre"
         }
        },
        "yaxis": {
         "title": {
          "text": "Average Rating"
         }
        }
       }
      }
     },
     "metadata": {},
     "output_type": "display_data"
    },
    {
     "data": {
      "application/vnd.plotly.v1+json": {
       "config": {
        "plotlyServerURL": "https://plot.ly"
       },
       "data": [
        {
         "customdata": {
          "bdata": "FhsiNTMHQjcQHQ==",
          "dtype": "i1"
         },
         "hovertemplate": "Genre: %{x}<br>Average followers: %{y:,.2f}<br>Number of stories: %{customdata}<br>",
         "text": {
          "bdata": "KVyPwnWXqkAAAAAAAGioQOxRuB6FDqhASOF6FK7Ep0AAAAAAgACmQI/C9Sjc6KVAZmZmZuaUpEAzMzMzM2OkQAAAAAAAQKRA7FG4HoUFo0A=",
          "dtype": "f8"
         },
         "textposition": "auto",
         "type": "bar",
         "x": [
          "Dungeon",
          "GameLit",
          "Portal Fantasy / Isekai",
          "LitRPG",
          "High Fantasy",
          "School Life",
          "Magic",
          "Strong Lead",
          "Xianxia",
          "Reincarnation"
         ],
         "y": {
          "bdata": "0UUXXXSXqkAAAAAAAGioQIiHh4eHDqhAh9QE463Ep0CDgoKCggCmQG7btm3b6KVAo4suuuiUpEAzMzMzM2OkQAAAAAAAQKRAR1juaYQFo0A=",
          "dtype": "f8"
         }
        }
       ],
       "layout": {
        "font": {
         "size": 14
        },
        "height": 600,
        "margin": {
         "b": 100
        },
        "template": {
         "data": {
          "bar": [
           {
            "error_x": {
             "color": "#2a3f5f"
            },
            "error_y": {
             "color": "#2a3f5f"
            },
            "marker": {
             "line": {
              "color": "#E5ECF6",
              "width": 0.5
             },
             "pattern": {
              "fillmode": "overlay",
              "size": 10,
              "solidity": 0.2
             }
            },
            "type": "bar"
           }
          ],
          "barpolar": [
           {
            "marker": {
             "line": {
              "color": "#E5ECF6",
              "width": 0.5
             },
             "pattern": {
              "fillmode": "overlay",
              "size": 10,
              "solidity": 0.2
             }
            },
            "type": "barpolar"
           }
          ],
          "carpet": [
           {
            "aaxis": {
             "endlinecolor": "#2a3f5f",
             "gridcolor": "white",
             "linecolor": "white",
             "minorgridcolor": "white",
             "startlinecolor": "#2a3f5f"
            },
            "baxis": {
             "endlinecolor": "#2a3f5f",
             "gridcolor": "white",
             "linecolor": "white",
             "minorgridcolor": "white",
             "startlinecolor": "#2a3f5f"
            },
            "type": "carpet"
           }
          ],
          "choropleth": [
           {
            "colorbar": {
             "outlinewidth": 0,
             "ticks": ""
            },
            "type": "choropleth"
           }
          ],
          "contour": [
           {
            "colorbar": {
             "outlinewidth": 0,
             "ticks": ""
            },
            "colorscale": [
             [
              0,
              "#0d0887"
             ],
             [
              0.1111111111111111,
              "#46039f"
             ],
             [
              0.2222222222222222,
              "#7201a8"
             ],
             [
              0.3333333333333333,
              "#9c179e"
             ],
             [
              0.4444444444444444,
              "#bd3786"
             ],
             [
              0.5555555555555556,
              "#d8576b"
             ],
             [
              0.6666666666666666,
              "#ed7953"
             ],
             [
              0.7777777777777778,
              "#fb9f3a"
             ],
             [
              0.8888888888888888,
              "#fdca26"
             ],
             [
              1,
              "#f0f921"
             ]
            ],
            "type": "contour"
           }
          ],
          "contourcarpet": [
           {
            "colorbar": {
             "outlinewidth": 0,
             "ticks": ""
            },
            "type": "contourcarpet"
           }
          ],
          "heatmap": [
           {
            "colorbar": {
             "outlinewidth": 0,
             "ticks": ""
            },
            "colorscale": [
             [
              0,
              "#0d0887"
             ],
             [
              0.1111111111111111,
              "#46039f"
             ],
             [
              0.2222222222222222,
              "#7201a8"
             ],
             [
              0.3333333333333333,
              "#9c179e"
             ],
             [
              0.4444444444444444,
              "#bd3786"
             ],
             [
              0.5555555555555556,
              "#d8576b"
             ],
             [
              0.6666666666666666,
              "#ed7953"
             ],
             [
              0.7777777777777778,
              "#fb9f3a"
             ],
             [
              0.8888888888888888,
              "#fdca26"
             ],
             [
              1,
              "#f0f921"
             ]
            ],
            "type": "heatmap"
           }
          ],
          "histogram": [
           {
            "marker": {
             "pattern": {
              "fillmode": "overlay",
              "size": 10,
              "solidity": 0.2
             }
            },
            "type": "histogram"
           }
          ],
          "histogram2d": [
           {
            "colorbar": {
             "outlinewidth": 0,
             "ticks": ""
            },
            "colorscale": [
             [
              0,
              "#0d0887"
             ],
             [
              0.1111111111111111,
              "#46039f"
             ],
             [
              0.2222222222222222,
              "#7201a8"
             ],
             [
              0.3333333333333333,
              "#9c179e"
             ],
             [
              0.4444444444444444,
              "#bd3786"
             ],
             [
              0.5555555555555556,
              "#d8576b"
             ],
             [
              0.6666666666666666,
              "#ed7953"
             ],
             [
              0.7777777777777778,
              "#fb9f3a"
             ],
             [
              0.8888888888888888,
              "#fdca26"
             ],
             [
              1,
              "#f0f921"
             ]
            ],
            "type": "histogram2d"
           }
          ],
          "histogram2dcontour": [
           {
            "colorbar": {
             "outlinewidth": 0,
             "ticks": ""
            },
            "colorscale": [
             [
              0,
              "#0d0887"
             ],
             [
              0.1111111111111111,
              "#46039f"
             ],
             [
              0.2222222222222222,
              "#7201a8"
             ],
             [
              0.3333333333333333,
              "#9c179e"
             ],
             [
              0.4444444444444444,
              "#bd3786"
             ],
             [
              0.5555555555555556,
              "#d8576b"
             ],
             [
              0.6666666666666666,
              "#ed7953"
             ],
             [
              0.7777777777777778,
              "#fb9f3a"
             ],
             [
              0.8888888888888888,
              "#fdca26"
             ],
             [
              1,
              "#f0f921"
             ]
            ],
            "type": "histogram2dcontour"
           }
          ],
          "mesh3d": [
           {
            "colorbar": {
             "outlinewidth": 0,
             "ticks": ""
            },
            "type": "mesh3d"
           }
          ],
          "parcoords": [
           {
            "line": {
             "colorbar": {
              "outlinewidth": 0,
              "ticks": ""
             }
            },
            "type": "parcoords"
           }
          ],
          "pie": [
           {
            "automargin": true,
            "type": "pie"
           }
          ],
          "scatter": [
           {
            "fillpattern": {
             "fillmode": "overlay",
             "size": 10,
             "solidity": 0.2
            },
            "type": "scatter"
           }
          ],
          "scatter3d": [
           {
            "line": {
             "colorbar": {
              "outlinewidth": 0,
              "ticks": ""
             }
            },
            "marker": {
             "colorbar": {
              "outlinewidth": 0,
              "ticks": ""
             }
            },
            "type": "scatter3d"
           }
          ],
          "scattercarpet": [
           {
            "marker": {
             "colorbar": {
              "outlinewidth": 0,
              "ticks": ""
             }
            },
            "type": "scattercarpet"
           }
          ],
          "scattergeo": [
           {
            "marker": {
             "colorbar": {
              "outlinewidth": 0,
              "ticks": ""
             }
            },
            "type": "scattergeo"
           }
          ],
          "scattergl": [
           {
            "marker": {
             "colorbar": {
              "outlinewidth": 0,
              "ticks": ""
             }
            },
            "type": "scattergl"
           }
          ],
          "scattermap": [
           {
            "marker": {
             "colorbar": {
              "outlinewidth": 0,
              "ticks": ""
             }
            },
            "type": "scattermap"
           }
          ],
          "scattermapbox": [
           {
            "marker": {
             "colorbar": {
              "outlinewidth": 0,
              "ticks": ""
             }
            },
            "type": "scattermapbox"
           }
          ],
          "scatterpolar": [
           {
            "marker": {
             "colorbar": {
              "outlinewidth": 0,
              "ticks": ""
             }
            },
            "type": "scatterpolar"
           }
          ],
          "scatterpolargl": [
           {
            "marker": {
             "colorbar": {
              "outlinewidth": 0,
              "ticks": ""
             }
            },
            "type": "scatterpolargl"
           }
          ],
          "scatterternary": [
           {
            "marker": {
             "colorbar": {
              "outlinewidth": 0,
              "ticks": ""
             }
            },
            "type": "scatterternary"
           }
          ],
          "surface": [
           {
            "colorbar": {
             "outlinewidth": 0,
             "ticks": ""
            },
            "colorscale": [
             [
              0,
              "#0d0887"
             ],
             [
              0.1111111111111111,
              "#46039f"
             ],
             [
              0.2222222222222222,
              "#7201a8"
             ],
             [
              0.3333333333333333,
              "#9c179e"
             ],
             [
              0.4444444444444444,
              "#bd3786"
             ],
             [
              0.5555555555555556,
              "#d8576b"
             ],
             [
              0.6666666666666666,
              "#ed7953"
             ],
             [
              0.7777777777777778,
              "#fb9f3a"
             ],
             [
              0.8888888888888888,
              "#fdca26"
             ],
             [
              1,
              "#f0f921"
             ]
            ],
            "type": "surface"
           }
          ],
          "table": [
           {
            "cells": {
             "fill": {
              "color": "#EBF0F8"
             },
             "line": {
              "color": "white"
             }
            },
            "header": {
             "fill": {
              "color": "#C8D4E3"
             },
             "line": {
              "color": "white"
             }
            },
            "type": "table"
           }
          ]
         },
         "layout": {
          "annotationdefaults": {
           "arrowcolor": "#2a3f5f",
           "arrowhead": 0,
           "arrowwidth": 1
          },
          "autotypenumbers": "strict",
          "coloraxis": {
           "colorbar": {
            "outlinewidth": 0,
            "ticks": ""
           }
          },
          "colorscale": {
           "diverging": [
            [
             0,
             "#8e0152"
            ],
            [
             0.1,
             "#c51b7d"
            ],
            [
             0.2,
             "#de77ae"
            ],
            [
             0.3,
             "#f1b6da"
            ],
            [
             0.4,
             "#fde0ef"
            ],
            [
             0.5,
             "#f7f7f7"
            ],
            [
             0.6,
             "#e6f5d0"
            ],
            [
             0.7,
             "#b8e186"
            ],
            [
             0.8,
             "#7fbc41"
            ],
            [
             0.9,
             "#4d9221"
            ],
            [
             1,
             "#276419"
            ]
           ],
           "sequential": [
            [
             0,
             "#0d0887"
            ],
            [
             0.1111111111111111,
             "#46039f"
            ],
            [
             0.2222222222222222,
             "#7201a8"
            ],
            [
             0.3333333333333333,
             "#9c179e"
            ],
            [
             0.4444444444444444,
             "#bd3786"
            ],
            [
             0.5555555555555556,
             "#d8576b"
            ],
            [
             0.6666666666666666,
             "#ed7953"
            ],
            [
             0.7777777777777778,
             "#fb9f3a"
            ],
            [
             0.8888888888888888,
             "#fdca26"
            ],
            [
             1,
             "#f0f921"
            ]
           ],
           "sequentialminus": [
            [
             0,
             "#0d0887"
            ],
            [
             0.1111111111111111,
             "#46039f"
            ],
            [
             0.2222222222222222,
             "#7201a8"
            ],
            [
             0.3333333333333333,
             "#9c179e"
            ],
            [
             0.4444444444444444,
             "#bd3786"
            ],
            [
             0.5555555555555556,
             "#d8576b"
            ],
            [
             0.6666666666666666,
             "#ed7953"
            ],
            [
             0.7777777777777778,
             "#fb9f3a"
            ],
            [
             0.8888888888888888,
             "#fdca26"
            ],
            [
             1,
             "#f0f921"
            ]
           ]
          },
          "colorway": [
           "#636efa",
           "#EF553B",
           "#00cc96",
           "#ab63fa",
           "#FFA15A",
           "#19d3f3",
           "#FF6692",
           "#B6E880",
           "#FF97FF",
           "#FECB52"
          ],
          "font": {
           "color": "#2a3f5f"
          },
          "geo": {
           "bgcolor": "white",
           "lakecolor": "white",
           "landcolor": "#E5ECF6",
           "showlakes": true,
           "showland": true,
           "subunitcolor": "white"
          },
          "hoverlabel": {
           "align": "left"
          },
          "hovermode": "closest",
          "mapbox": {
           "style": "light"
          },
          "paper_bgcolor": "white",
          "plot_bgcolor": "#E5ECF6",
          "polar": {
           "angularaxis": {
            "gridcolor": "white",
            "linecolor": "white",
            "ticks": ""
           },
           "bgcolor": "#E5ECF6",
           "radialaxis": {
            "gridcolor": "white",
            "linecolor": "white",
            "ticks": ""
           }
          },
          "scene": {
           "xaxis": {
            "backgroundcolor": "#E5ECF6",
            "gridcolor": "white",
            "gridwidth": 2,
            "linecolor": "white",
            "showbackground": true,
            "ticks": "",
            "zerolinecolor": "white"
           },
           "yaxis": {
            "backgroundcolor": "#E5ECF6",
            "gridcolor": "white",
            "gridwidth": 2,
            "linecolor": "white",
            "showbackground": true,
            "ticks": "",
            "zerolinecolor": "white"
           },
           "zaxis": {
            "backgroundcolor": "#E5ECF6",
            "gridcolor": "white",
            "gridwidth": 2,
            "linecolor": "white",
            "showbackground": true,
            "ticks": "",
            "zerolinecolor": "white"
           }
          },
          "shapedefaults": {
           "line": {
            "color": "#2a3f5f"
           }
          },
          "ternary": {
           "aaxis": {
            "gridcolor": "white",
            "linecolor": "white",
            "ticks": ""
           },
           "baxis": {
            "gridcolor": "white",
            "linecolor": "white",
            "ticks": ""
           },
           "bgcolor": "#E5ECF6",
           "caxis": {
            "gridcolor": "white",
            "linecolor": "white",
            "ticks": ""
           }
          },
          "title": {
           "x": 0.05
          },
          "xaxis": {
           "automargin": true,
           "gridcolor": "white",
           "linecolor": "white",
           "ticks": "",
           "title": {
            "standoff": 15
           },
           "zerolinecolor": "white",
           "zerolinewidth": 2
          },
          "yaxis": {
           "automargin": true,
           "gridcolor": "white",
           "linecolor": "white",
           "ticks": "",
           "title": {
            "standoff": 15
           },
           "zerolinecolor": "white",
           "zerolinewidth": 2
          }
         }
        },
        "title": {
         "text": "Top 10 Genres by Average Followers"
        },
        "width": 900,
        "xaxis": {
         "tickangle": -45,
         "title": {
          "text": "Genre"
         }
        },
        "yaxis": {
         "title": {
          "text": "Average Followers"
         },
         "type": "log"
        }
       }
      }
     },
     "metadata": {},
     "output_type": "display_data"
    }
   ],
   "source": [
    "# Get genre distribution (handling null values)\n",
    "genres = df['genre'].fillna('Unknown').str.split(',').explode().str.strip()\n",
    "genre_counts = genres.value_counts()\n",
    "\n",
    "# Create bar chart of genre distribution\n",
    "fig = go.Figure(data=[\n",
    "    go.Bar(\n",
    "        x=genre_counts.head(10).index, \n",
    "        y=genre_counts.head(10).values,\n",
    "        text=genre_counts.head(10).values,\n",
    "        textposition='auto'\n",
    "    )\n",
    "])\n",
    "\n",
    "fig.update_layout(\n",
    "    title='Top 10 Most Common Genres',\n",
    "    xaxis_title='Genre',\n",
    "    yaxis_title='Number of Stories',\n",
    "    xaxis_tickangle=-45,\n",
    "    height=600,\n",
    "    width=900,\n",
    "    font=dict(size=14),\n",
    "    margin=dict(b=100)  # Add more margin at the bottom for rotated labels\n",
    ")\n",
    "fig.show()\n",
    "\n",
    "# Calculate and display genre performance metrics\n",
    "for metric in ['views', 'rating', 'followers']:\n",
    "    # Create a list to store data for each story-genre pair\n",
    "    story_genre_data = []\n",
    "    \n",
    "    # Process each row (story) individually\n",
    "    for _, row in df.dropna(subset=['genre', metric]).iterrows():\n",
    "        if pd.isna(row['genre']) or not row['genre']:\n",
    "            continue\n",
    "            \n",
    "        # Split the genres string into a list\n",
    "        genres = row['genre'].split(',')\n",
    "        \n",
    "        # Add each genre-story pair to our data\n",
    "        for genre in genres:\n",
    "            genre = genre.strip()\n",
    "            if genre:  # Skip empty strings\n",
    "                story_genre_data.append({\n",
    "                    'story_id': row['id'],\n",
    "                    'genre': genre,\n",
    "                    metric: row[metric]\n",
    "                })\n",
    "    \n",
    "    # Create a DataFrame from our list\n",
    "    genre_df = pd.DataFrame(story_genre_data)\n",
    "    \n",
    "    # Calculate average and count for each genre\n",
    "    genre_stats = genre_df.groupby('genre').agg({metric: ['mean', 'count']})\n",
    "    genre_stats.columns = genre_stats.columns.droplevel(0)  # Flatten multi-index\n",
    "    \n",
    "    # Filter for genres with at least 5 stories\n",
    "    genre_stats = genre_stats[genre_stats['count'] >= 5]\n",
    "    \n",
    "    # Sort by mean and get top 10\n",
    "    top_genres = genre_stats.nlargest(10, 'mean').reset_index()\n",
    "    \n",
    "    # Create bar chart\n",
    "    fig = go.Figure(data=[\n",
    "        go.Bar(\n",
    "            x=top_genres['genre'],\n",
    "            y=top_genres['mean'],\n",
    "            text=np.round(top_genres['mean'], 2),\n",
    "            textposition='auto',\n",
    "            customdata=top_genres['count'],\n",
    "            hovertemplate='Genre: %{x}<br>' +\n",
    "                         f'Average {metric}: %{{y:,.2f}}<br>' +\n",
    "                         'Number of stories: %{customdata}<br>'\n",
    "        )\n",
    "    ])\n",
    "    \n",
    "    fig.update_layout(\n",
    "        title=f'Top 10 Genres by Average {metric.capitalize()}',\n",
    "        xaxis_title='Genre',\n",
    "        yaxis_title=f'Average {metric.capitalize()}',\n",
    "        xaxis_tickangle=-45,\n",
    "        height=600,\n",
    "        width=900,\n",
    "        font=dict(size=14),\n",
    "        margin=dict(b=100)\n",
    "    )\n",
    "    \n",
    "    # Use log scale for views and followers\n",
    "    if metric in ['views', 'followers']:\n",
    "        fig.update_yaxes(type='log')\n",
    "    \n",
    "    fig.show()"
   ]
  },
  {
   "cell_type": "markdown",
   "id": "8ffd600d",
   "metadata": {},
   "source": [
    "## Story Length Analysis\n",
    "\n",
    "Let's examine the relationship between story length (number of chapters and pages) and other metrics to understand how content volume affects story performance."
   ]
  },
  {
   "cell_type": "code",
   "execution_count": 27,
   "id": "945e82af",
   "metadata": {},
   "outputs": [
    {
     "data": {
      "application/vnd.plotly.v1+json": {
       "config": {
        "plotlyServerURL": "https://plot.ly"
       },
       "data": [
        {
         "marker": {
          "opacity": 0.5,
          "size": 5
         },
         "mode": "markers",
         "name": "views vs chapters",
         "type": "scatter",
         "x": {
          "bdata": "AAAAAACAQEAAAAAAAAAuQAAAAAAAAElAAAAAAAAAW0AAAAAAAJBwQAAAAAAAAGNAAAAAAACAUkAAAAAAAIBMQAAAAAAAuIJAAAAAAADAX0AAAAAAAIBLQAAAAAAAgEdAAAAAAACAT0AAAAAAAABMQAAAAAAAAGxAAAAAAABgZEAAAAAAAIBAQAAAAAAAgEpAAAAAAACAXkAAAAAAAIBSQAAAAAAAAE5AAAAAAABAUEAAAAAAAAAxQAAAAAAAgE1AAAAAAAAAUUAAAAAAAABeQAAAAAAAgFNAAAAAAADgbEAAAAAAAEBjQAAAAAAAgFFAAAAAAADgY0AAAAAAAABEQAAAAAAAMHJAAAAAAAAAU0AAAAAAAABPQAAAAAAAADJAAAAAAABAYkAAAAAAAEBVQAAAAAAAwGFAAAAAAAAAUEAAAAAAAMBqQAAAAAAAAFlAAAAAAAAASUAAAAAAACBkQAAAAAAAQG5AAAAAAAAAZkAAAAAAAAA9QAAAAAAAgFBAAAAAAABAW0AAAAAAAABMQAAAAAAAgEhAAAAAAACATUAAAAAAAABQQAAAAAAAmIFAAAAAAACQe0AAAAAAAMBbQAAAAAAA4GVAAAAAAAAAa0AAAAAAAABSQAAAAAAAQGJAAAAAAABAcEAAAAAAAIBoQAAAAAAAMIFAAAAAAAAAZEAAAAAAAAA/QAAAAAAAAERAAAAAAADAYkAAAAAAACBnQAAAAAAA4GNAAAAAAABAUEAAAAAAAIBJQAAAAAAAQFZAAAAAAADAUkAAAAAAAIBbQAAAAAAAwG5AAAAAAACAQEAAAAAAAIBYQAAAAAAAwFFAAAAAAAAAV0AAAAAAAGBlQAAAAAAAoG5AAAAAAABAWkAAAAAAAOBoQAAAAAAAQGZAAAAAAAAgbEAAAAAAAMBRQAAAAAAAgFRAAAAAAABAc0AAAAAAAIBMQAAAAAAAwFlAAAAAAABAWUAAAAAAAPByQAAAAAAAAFNAAAAAAAAAVkAAAAAAAIBsQAAAAAAAgF1AAAAAAAAASEAAAAAAAABUQAAAAAAAgEJAAAAAAADgY0A=",
          "dtype": "f8"
         },
         "xaxis": "x",
         "y": {
          "bdata": "vOgAAEgeAABawAAAu8gBACFnAwDbcwMAg3MFAM1XAAAqjQQA6WkAAH8TAAASzAAAm2gCAEV+AwAgqAAAzeYAAAsaAAApGAAAelYAAIcRAgAj3QIAdVUAAIweAAD9JgIAe38AALPKAQC8IAAAr9kDAK45BwB2SQMA+CoBAEgMAACfShYAUyQHAPgAAQBnWgAA/HsQAJDYAABi2AIApdsAAFWHHAC46QAAF4QAAP2lBQBv+xgA5y8DAMFlAAByAwIAldUAAOLxAAALXQIAcTsAACUaAQBOoAYAwQQHAFP/BQCVJgIAfxIBAN1RAAApSwAA92oPAMe6BACOyBIAVcQMAFxDAAB9NgAA704AAMh2AQD1rwEATCgAAIhsCQAFVg4AiZgKAMzlEgCIExQA7xcGAEk3CgABpAkAyTIJAI+jHgDwTx8AD2UKAAn0KQDErDIAw6QJALDFAwDwrAUAqIIgAE9FBgAIvTYAAhENAH+SGQD+LAQANgYIAKTiIAB3iQUAWxkGANAgCAAyCQAAXL4BAA==",
          "dtype": "i4"
         },
         "yaxis": "y"
        },
        {
         "line": {
          "color": "red"
         },
         "mode": "lines",
         "name": "Trend views vs chapters",
         "type": "scatter",
         "x": {
          "bdata": "AAAAAAAALkCRmLczJOY0QCIxb2dIzDpA2WSTTTZZQEAiMW9nSExDQGr9SoFaP0ZAsskmm2wySUD7lQK1fiVMQENi3s6QGE9ARhdddNEFUUBq/UqBWn9SQI7jOI7j+FNAsskmm2xyVUDWrxSo9etWQPuVArV+ZVhAH3zwwQffWUBDYt7OkFhbQGdIzNsZ0lxAiy666KJLXkCwFKj1K8VfQGr9SoFan2BAfPDBBx9cYUCO4ziO4xhiQKDWrxSo1WJAsskmm2ySY0DEvJ0hMU9kQNavFKj1C2VA6aKLLrrIZUD7lQK1foVmQA2JeTtDQmdAH3zwwQf/Z0Axb2dIzLtoQENi3s6QeGlAVVVVVVU1akBnSMzbGfJqQHk7Q2LermtAiy666KJrbECdITFvZyhtQLAUqPUr5W1AwgcffPChbkDU+pUCtV5vQPN2hsS8DXBAfPDBBx9scEAFav1KgcpwQI7jOI7jKHFAF1100UWHcUCg1q8UqOVxQClQ61cKRHJAsskmm2yickA7Q2LezgBzQMS8nSExX3NATTbZZJO9c0DWrxSo9Rt0QF8pUOtXenRA6aKLLrrYdEByHMdxHDd1QPuVArV+lXVAhA8++ODzdUANiXk7Q1J2QJYCtX6lsHZAH3zwwQcPd0Co9SsFam13QDFvZ0jMy3dAuuiiiy4qeEBDYt7OkIh4QMzbGRLz5nhAVVVVVVVFeUDezpCYt6N5QGdIzNsZAnpA8MEHH3xgekB5O0Ni3r56QAK1fqVAHXtAiy666KJ7e0AUqPUrBdp7QJ0hMW9nOHxAJ5tsssmWfECwFKj1K/V8QDmO4ziOU31AwgcffPCxfUBLgVq/UhB+QNT6lQK1bn5AXXTRRRfNfkDm7QyJeSt/QG9nSMzbiX9A+OCDDz7of0BArV8pUCOAQAVq/UqBUoBAyiabbLKBgECO4ziO47CAQFOg1q8U4IBAF1100UUPgUDcGRLzdj6BQKDWrxSobYFAZZNNNtmcgUApUOtXCsyBQO4MiXk7+4FAsskmm2wqgkB3hsS8nVmCQDtDYt7OiIJAAAAAAAC4gkA=",
          "dtype": "f8"
         },
         "xaxis": "x",
         "y": {
          "bdata": "VPsh0hLvCkG6eefhkJwMQSD4rPEOSg5BhHZyAY33D0F1+puIhdIQQai5fpBEqRFB2nhhmAOAEkENOESgwlYTQUD3JqiBLRRBcrYJsEAEFUGldey3/9oVQdg0z7++sRZBCvSxx32IF0E9s5TPPF8YQXByd9f7NRlBojFa37oMGkHV8DzneeMaQQiwH+84uhtBOm8C9/eQHEFuLuX+tmcdQaDtxwZ2Ph5B0qyqDjUVH0EEbI0W9OsfQZwVOI9ZYSBBNXUpE7nMIEHO1BqXGDghQWg0DBt4oyFBAZT9ntcOIkGb8+4iN3oiQTRT4KaW5SJBzbLRKvZQI0FnEsOuVbwjQQBytDK1JyRBmdGlthSTJEEyMZc6dP4kQcyQiL7TaSVBZfB5QjPVJUH+T2vGkkAmQZivXEryqyZBMQ9OzlEXJ0HKbj9SsYInQWTOMNYQ7idB/S0iWnBZKEGWjRPez8QoQTDtBGIvMClByUz25Y6bKUFirOdp7gYqQfsL2e1NcipBlWvKca3dKkEuy7v1DEkrQccqrXlstCtBYYqe/csfLEH66Y+BK4ssQZNJgQWL9ixBLqlyiephLUHHCGQNSs0tQWBoVZGpOC5B+cdGFQmkLkGTJziZaA8vQSyHKR3Iei9BxeYaoSfmL0EwI4aSwygwQfzSflRzXjBByYJ3FiOUMEGVMnDY0skwQWLiaJqC/zBBL5JhXDI1MUH7QVoe4moxQcjxUuCRoDFBlaFLokHWMUFhUURk8QsyQS4BPSahQTJB+7A16FB3MkHHYC6qAK0yQZQQJ2yw4jJBYcAfLmAYM0EucBjwD04zQfsfEbK/gzNBx88JdG+5M0GUfwI2H+8zQWEv+/fOJDRBLd/zuX5aNEH6jux7LpA0QcY+5T3exTRBk+7d/437NEFfntbBPTE1QSxOz4PtZjVB+v3HRZ2cNUHGrcAHTdI1QZNducn8BzZBXw2yi6w9NkEsvapNXHM2Qfhsow8MqTZBxRyc0bveNkGRzJSTaxQ3QV98jVUbSjdBKyyGF8t/N0H4237ZerU3QcSLd5sq6zdBkTtwXdogOEE=",
          "dtype": "f8"
         },
         "yaxis": "y"
        },
        {
         "marker": {
          "opacity": 0.5,
          "size": 5
         },
         "mode": "markers",
         "name": "rating vs chapters",
         "type": "scatter",
         "x": {
          "bdata": "AAAAAACAQEAAAAAAAAAuQAAAAAAAAElAAAAAAAAAW0AAAAAAAJBwQAAAAAAAAGNAAAAAAACAUkAAAAAAAIBMQAAAAAAAuIJAAAAAAADAX0AAAAAAAIBHQAAAAAAAgE9AAAAAAAAATEAAAAAAAABsQAAAAAAAYGRAAAAAAACAQEAAAAAAAIBKQAAAAAAAgF5AAAAAAACAUkAAAAAAAABOQAAAAAAAQFBAAAAAAAAAMUAAAAAAAIBNQAAAAAAAAFFAAAAAAAAAXkAAAAAAAIBTQAAAAAAA4GxAAAAAAABAY0AAAAAAAIBRQAAAAAAA4GNAAAAAAAAAREAAAAAAADByQAAAAAAAAFNAAAAAAAAAT0AAAAAAAAAyQAAAAAAAQGJAAAAAAABAVUAAAAAAAMBhQAAAAAAAAFBAAAAAAADAakAAAAAAAABZQAAAAAAAAElAAAAAAAAgZEAAAAAAAEBuQAAAAAAAAGZAAAAAAAAAPUAAAAAAAIBQQAAAAAAAQFtAAAAAAAAATEAAAAAAAIBIQAAAAAAAgE1AAAAAAAAAUEAAAAAAAJiBQAAAAAAAkHtAAAAAAADAW0AAAAAAAOBlQAAAAAAAAGtAAAAAAAAAUkAAAAAAAEBiQAAAAAAAQHBAAAAAAACAaEAAAAAAADCBQAAAAAAAAGRAAAAAAAAAP0AAAAAAAABEQAAAAAAAwGJAAAAAAAAgZ0AAAAAAAOBjQAAAAAAAQFBAAAAAAACASUAAAAAAAEBWQAAAAAAAwFJAAAAAAACAW0AAAAAAANB+QAAAAAAAwG5AAAAAAACAQEAAAAAAAIBYQAAAAAAA8HdAAAAAAADAUUAAAAAAAABXQAAAAAAAYGVAAAAAAACgbkAAAAAAAEBaQAAAAAAA4GhAAAAAAABAZkAAAAAAACBsQAAAAAAAwFFAAAAAAACAVEAAAAAAAEBzQAAAAAAAgExAAAAAAADAWUAAAAAAAEBZQAAAAAAA8HJAAAAAAAAAU0AAAAAAAABWQAAAAAAAgGxAAAAAAACAXUAAAAAAAABIQAAAAAAAAFRAAAAAAACAQkAAAAAAAOBjQA==",
          "dtype": "f8"
         },
         "xaxis": "x2",
         "y": {
          "bdata": "FK5H4XoUEkCuR+F6FK4TQJqZmZmZmRJA4XoUrkfhEEBcj8L1KFwRQD0K16NwPRFAexSuR+F6EkCPwvUoXI8TQK5H4XoUrhBAj8L1KFyPEUBcj8L1KFwSQNejcD0K1xJAj8L1KFyPEkAAAAAAAAATQAAAAAAAABJAZmZmZmZmEkCuR+F6FK4TQMP1KFyPwhFASOF6FK5HEkAK16NwPQoRQEjhehSuRxJAKVyPwvUoEUBI4XoUrkcRQFyPwvUoXBJAexSuR+F6EUDNzMzMzMwQQAAAAAAAABFA9ihcj8L1EUCF61G4HoURQAAAAAAAABJA4XoUrkfhEkBxPQrXo3AQQB+F61G4HhJACtejcD0KEkC4HoXrUbgQQHE9CtejcBJASOF6FK5HEkBmZmZmZmYRQD0K16NwPRNAMzMzMzMzEkD2KFyPwvUSQOxRuB6F6xFA9ihcj8L1EUCPwvUoXI8RQOF6FK5H4RBAmpmZmZmZEUAfhetRuB4RQOF6FK5H4RFA4XoUrkfhEEDhehSuR+ESQB+F61G4HhJA7FG4HoXrEEBI4XoUrkcPQGZmZmZmZg5AUrgehetREkDNzMzMzMwSQFK4HoXrURNAUrgehetREkCuR+F6FK4SQKRwPQrXoxBAH4XrUbgeEUApXI/C9SgSQEjhehSuRxJA9ihcj8L1EEAzMzMzMzMSQClcj8L1KBJAZmZmZmZmE0AK16NwPQoSQD0K16NwPRNAexSuR+F6EkAzMzMzMzMSQHE9CtejcBJAMzMzMzMzEkBmZmZmZmYRQK5H4XoUrhBAhetRuB6FEkCF61G4HoUSQB+F61G4HhJAXI/C9ShcEkCamZmZmZkRQNejcD0K1xFA16NwPQrXEUBmZmZmZmYSQArXo3A9ChJAuB6F61G4EUB7FK5H4XoRQGZmZmZmZhJAKVyPwvUoEkBmZmZmZmYSQFyPwvUoXBJAMzMzMzMzEkAUrkfhehQSQD0K16NwPRJASOF6FK5HEkCamZmZmZkSQDMzMzMzMxJAUrgehetREUDsUbgehesRQFyPwvUoXBFAUrgehetRE0BI4XoUrkcNQA==",
          "dtype": "f8"
         },
         "yaxis": "y2"
        },
        {
         "line": {
          "color": "red"
         },
         "mode": "lines",
         "name": "Trend rating vs chapters",
         "type": "scatter",
         "x": {
          "bdata": "AAAAAAAALkCRmLczJOY0QCIxb2dIzDpA2WSTTTZZQEAiMW9nSExDQGr9SoFaP0ZAsskmm2wySUD7lQK1fiVMQENi3s6QGE9ARhdddNEFUUBq/UqBWn9SQI7jOI7j+FNAsskmm2xyVUDWrxSo9etWQPuVArV+ZVhAH3zwwQffWUBDYt7OkFhbQGdIzNsZ0lxAiy666KJLXkCwFKj1K8VfQGr9SoFan2BAfPDBBx9cYUCO4ziO4xhiQKDWrxSo1WJAsskmm2ySY0DEvJ0hMU9kQNavFKj1C2VA6aKLLrrIZUD7lQK1foVmQA2JeTtDQmdAH3zwwQf/Z0Axb2dIzLtoQENi3s6QeGlAVVVVVVU1akBnSMzbGfJqQHk7Q2LermtAiy666KJrbECdITFvZyhtQLAUqPUr5W1AwgcffPChbkDU+pUCtV5vQPN2hsS8DXBAfPDBBx9scEAFav1KgcpwQI7jOI7jKHFAF1100UWHcUCg1q8UqOVxQClQ61cKRHJAsskmm2yickA7Q2LezgBzQMS8nSExX3NATTbZZJO9c0DWrxSo9Rt0QF8pUOtXenRA6aKLLrrYdEByHMdxHDd1QPuVArV+lXVAhA8++ODzdUANiXk7Q1J2QJYCtX6lsHZAH3zwwQcPd0Co9SsFam13QDFvZ0jMy3dAuuiiiy4qeEBDYt7OkIh4QMzbGRLz5nhAVVVVVVVFeUDezpCYt6N5QGdIzNsZAnpA8MEHH3xgekB5O0Ni3r56QAK1fqVAHXtAiy666KJ7e0AUqPUrBdp7QJ0hMW9nOHxAJ5tsssmWfECwFKj1K/V8QDmO4ziOU31AwgcffPCxfUBLgVq/UhB+QNT6lQK1bn5AXXTRRRfNfkDm7QyJeSt/QG9nSMzbiX9A+OCDDz7of0BArV8pUCOAQAVq/UqBUoBAyiabbLKBgECO4ziO47CAQFOg1q8U4IBAF1100UUPgUDcGRLzdj6BQKDWrxSobYFAZZNNNtmcgUApUOtXCsyBQO4MiXk7+4FAsskmm2wqgkB3hsS8nVmCQDtDYt7OiIJAAAAAAAC4gkA=",
          "dtype": "f8"
         },
         "xaxis": "x2",
         "y": {
          "bdata": "j2m8MeNIEkBDZbpUrUQSQPZguHd3QBJAqVy2mkE8EkBdWLS9CzgSQBBUsuDVMxJAw0+wA6AvEkB3S64maisSQCpHrEk0JxJA3UKqbP4iEkCRPqiPyB4SQEQ6prKSGhJA9zWk1VwWEkCrMaL4JhISQF4toBvxDRJAESmePrsJEkDEJJxhhQUSQHggmoRPARJAKxyYpxn9EUDeF5bK4/gRQJITlO2t9BFARQ+SEHjwEUD4CpAzQuwRQKwGjlYM6BFAXwKMedbjEUAS/omcoN8RQMb5h79q2xFAefWF4jTXEUAs8YMF/9IRQODsgSjJzhFAk+h/S5PKEUBG5H1uXcYRQPrfe5EnwhFArdt5tPG9EUBg13fXu7kRQBTTdfqFtRFAx85zHVCxEUB6ynFAGq0RQC3Gb2PkqBFA4cFthq6kEUCUvWupeKARQEe5acxCnBFA+7Rn7wyYEUCusGUS15MRQGGsYzWhjxFAFahhWGuLEUDIo197NYcRQHufXZ7/ghFAL5tbwcl+EUDillnkk3oRQJWSVwdedhFASY5VKihyEUD8iVNN8m0RQK+FUXC8aRFAYoFPk4ZlEUAWfU22UGERQMl4S9kaXRFAfHRJ/ORYEUAwcEcfr1QRQONrRUJ5UBFAlmdDZUNMEUBKY0GIDUgRQP1eP6vXQxFAsFo9zqE/EUBkVjvxazsRQBdSORQ2NxFAyk03NwAzEUB+STVayi4RQDFFM32UKhFA5EAxoF4mEUCYPC/DKCIRQEs4LebyHRFA/jMrCb0ZEUCyLykshxURQGUrJ09RERFAGCclchsNEUDMIiOV5QgRQH8eIbivBBFAMhof23kAEUDlFR3+Q/wQQJkRGyEO+BBATA0ZRNjzEED/CBdnou8QQLMEFYps6xBAZgATrTbnEEAZ/BDQAOMQQM33DvPK3hBAgPMMFpXaEEAz7wo5X9YQQOfqCFwp0hBAmuYGf/PNEEBN4gSivckQQAHeAsWHxRBAtNkA6FHBEEBn1f4KHL0QQBrR/C3muBBAzsz6ULC0EECByPhzerAQQDTE9pZErBBA6L/0uQ6oEEA=",
          "dtype": "f8"
         },
         "yaxis": "y2"
        },
        {
         "marker": {
          "opacity": 0.5,
          "size": 5
         },
         "mode": "markers",
         "name": "followers vs chapters",
         "type": "scatter",
         "x": {
          "bdata": "AAAAAACAQEAAAAAAAAAuQAAAAAAAAElAAAAAAAAAW0AAAAAAAJBwQAAAAAAAAGNAAAAAAACAUkAAAAAAAIBMQAAAAAAAuIJAAAAAAADAX0AAAAAAAIBLQAAAAAAAgEdAAAAAAACAT0AAAAAAAABMQAAAAAAAAGxAAAAAAABgZEAAAAAAAIBAQAAAAAAAgEpAAAAAAACAXkAAAAAAAIBSQAAAAAAAAE5AAAAAAABAUEAAAAAAAAAxQAAAAAAAgE1AAAAAAAAAUUAAAAAAAABeQAAAAAAAgFNAAAAAAADgbEAAAAAAAEBjQAAAAAAAgFFAAAAAAADgY0AAAAAAAABEQAAAAAAAMHJAAAAAAAAAU0AAAAAAAABPQAAAAAAAADJAAAAAAABAYkAAAAAAAEBVQAAAAAAAwGFAAAAAAAAAUEAAAAAAAMBqQAAAAAAAAFlAAAAAAAAASUAAAAAAACBkQAAAAAAAQG5AAAAAAAAAZkAAAAAAAAA9QAAAAAAAgFBAAAAAAABAW0AAAAAAAABMQAAAAAAAgEhAAAAAAACATUAAAAAAAABQQAAAAAAAmIFAAAAAAACQe0AAAAAAAMBbQAAAAAAA4GVAAAAAAAAAa0AAAAAAAABSQAAAAAAAQGJAAAAAAABAcEAAAAAAAIBoQAAAAAAAMIFAAAAAAAAAZEAAAAAAAAA/QAAAAAAAAERAAAAAAADAYkAAAAAAACBnQAAAAAAA4GNAAAAAAABAUEAAAAAAAIBJQAAAAAAAQFZAAAAAAADAUkAAAAAAAIBbQAAAAAAA0H5AAAAAAADAbkAAAAAAAIBAQAAAAAAAgFhAAAAAAADAUUAAAAAAAABXQAAAAAAAYGVAAAAAAACgbkAAAAAAAEBaQAAAAAAA4GhAAAAAAAAgbEAAAAAAAMBRQAAAAAAAgFRAAAAAAABAc0AAAAAAAIBMQAAAAAAAwFlAAAAAAABAWUAAAAAAAPByQAAAAAAAAFNAAAAAAAAAVkAAAAAAAIBsQAAAAAAAgF1AAAAAAAAASEAAAAAAAABUQAAAAAAAgEJAAAAAAADgY0A=",
          "dtype": "f8"
         },
         "xaxis": "x3",
         "y": {
          "bdata": "0gJuAb8BvQGLAdMC9QoNAd8AZQBCAPMCDgaOB3YAXgBTABoAkACtBPgHXQCOAGAEnQA/AxUAQQX5BwUGpgAdAN0NnAzHAjcCBQ2iALEDCQGpFBkBnACwB70RHQSpAXwD3ABxA5UGxADVAyoBmgAcEbEAWgBKABUALwV+ASMDdQjaAeEAkwCdAGABIACAFCUWJBTfGm8nSAc5E5cPBhPrCgMXcBWhDY8atwN7B1YImQ/ODpAn/hOfCsgH6A+YD/AF/RA8ECwAAQE=",
          "dtype": "i2"
         },
         "yaxis": "y3"
        },
        {
         "line": {
          "color": "red"
         },
         "mode": "lines",
         "name": "Trend followers vs chapters",
         "type": "scatter",
         "x": {
          "bdata": "AAAAAAAALkCRmLczJOY0QCIxb2dIzDpA2WSTTTZZQEAiMW9nSExDQGr9SoFaP0ZAsskmm2wySUD7lQK1fiVMQENi3s6QGE9ARhdddNEFUUBq/UqBWn9SQI7jOI7j+FNAsskmm2xyVUDWrxSo9etWQPuVArV+ZVhAH3zwwQffWUBDYt7OkFhbQGdIzNsZ0lxAiy666KJLXkCwFKj1K8VfQGr9SoFan2BAfPDBBx9cYUCO4ziO4xhiQKDWrxSo1WJAsskmm2ySY0DEvJ0hMU9kQNavFKj1C2VA6aKLLrrIZUD7lQK1foVmQA2JeTtDQmdAH3zwwQf/Z0Axb2dIzLtoQENi3s6QeGlAVVVVVVU1akBnSMzbGfJqQHk7Q2LermtAiy666KJrbECdITFvZyhtQLAUqPUr5W1AwgcffPChbkDU+pUCtV5vQPN2hsS8DXBAfPDBBx9scEAFav1KgcpwQI7jOI7jKHFAF1100UWHcUCg1q8UqOVxQClQ61cKRHJAsskmm2yickA7Q2LezgBzQMS8nSExX3NATTbZZJO9c0DWrxSo9Rt0QF8pUOtXenRA6aKLLrrYdEByHMdxHDd1QPuVArV+lXVAhA8++ODzdUANiXk7Q1J2QJYCtX6lsHZAH3zwwQcPd0Co9SsFam13QDFvZ0jMy3dAuuiiiy4qeEBDYt7OkIh4QMzbGRLz5nhAVVVVVVVFeUDezpCYt6N5QGdIzNsZAnpA8MEHH3xgekB5O0Ni3r56QAK1fqVAHXtAiy666KJ7e0AUqPUrBdp7QJ0hMW9nOHxAJ5tsssmWfECwFKj1K/V8QDmO4ziOU31AwgcffPCxfUBLgVq/UhB+QNT6lQK1bn5AXXTRRRfNfkDm7QyJeSt/QG9nSMzbiX9A+OCDDz7of0BArV8pUCOAQAVq/UqBUoBAyiabbLKBgECO4ziO47CAQFOg1q8U4IBAF1100UUPgUDcGRLzdj6BQKDWrxSobYFAZZNNNtmcgUApUOtXCsyBQO4MiXk7+4FAsskmm2wqgkB3hsS8nVmCQDtDYt7OiIJAAAAAAAC4gkA=",
          "dtype": "f8"
         },
         "xaxis": "x3",
         "y": {
          "bdata": "9xGWx3E1mUArkwu632uZQF8UgaxNoplAk5X2nrvYmUDHFmyRKQ+aQPuX4YOXRZpALxlXdgV8mkBjmsxoc7KaQJcbQlvh6JpAy5y3TU8fm0D/HS1AvVWbQDOfojIrjJtAZyAYJZnCm0CboY0XB/mbQNAiAwp1L5xABKR4/OJlnEA4Je7uUJycQGymY+G+0pxAoCfZ0ywJnUDUqE7Gmj+dQAgqxLgIdp1APKs5q3asnUBwLK+d5OKdQKStJJBSGZ5A2C6agsBPnkAMsA91LoaeQEAxhWecvJ5AdLL6WQrznkCpM3BMeCmfQN205T7mX59AETZbMVSWn0BFt9AjwsyfQDwcIwuYAaBA1txdBM8coEBwnZj9BTigQApe0/Y8U6BApB4O8HNuoEA+30jpqomgQNmfg+LhpKBAc2C+2xjAoEANIfnUT9ugQKfhM86G9qBAQaJux70RoUDbYqnA9CyhQHUj5LkrSKFAD+Qes2JjoUCppFmsmX6hQENllKXQmaFA3SXPnge1oUB35gmYPtChQBGnRJF166FAq2d/iqwGokBFKLqD4yGiQN/o9HwaPaJAeakvdlFYokATampviHOiQK4qpWi/jqJASOvfYfapokDiqxpbLcWiQHxsVVRk4KJAFi2QTZv7okCw7cpG0hajQEquBUAJMqNA5G5AOUBNo0B+L3syd2ijQBjwtSuug6NAsrDwJOWeo0BMcSseHLqjQOYxZhdT1aNAgPKgEIrwo0Aas9sJwQukQLRzFgP4JqRATjRR/C5CpEDo9Iv1ZV2kQIK1xu6ceKRAHHYB6NOTpEC2NjzhCq+kQFD3dtpByqRA6rex03jlpECEeOzMrwClQB45J8bmG6VAuPlhvx03pUBSupy4VFKlQOx617GLbaVAhjsSq8KIpUAg/Eyk+aOlQLq8h50wv6VAVH3ClmfapUDuPf2PnvWlQIj+N4nVEKZAIr9yggwspkC8f617Q0emQFZA6HR6YqZA8QAjbrF9pkCKwV1n6JimQCWCmGAftKZAvkLTWVbPpkBZAw5TjeqmQPLDSEzEBadAjYSDRfsgp0A=",
          "dtype": "f8"
         },
         "yaxis": "y3"
        },
        {
         "marker": {
          "opacity": 0.5,
          "size": 5
         },
         "mode": "markers",
         "name": "views vs pages",
         "type": "scatter",
         "x": {
          "bdata": "3QDDAOAAeAO7BXAEOgLGAkoM2QXSAuEBpgLmAXUEBQO8AbwBaQRBA+UBkAJ/ACkBqgHJAxED5gnTA5UB9gLMAOMImwK4AZcAmwJdAVQDyQGRB0EBJQHGAyAIHgX4AHcBzAHEAQsBSgELAkUMIwdFAqACbQb8BWYIAAXPA3sPJgPSANIBYgL5ASkCFwIRAa4CwQKhA1oFTgHAA0YD8gHbBOcGSQSDBrQImQUgAosCXw6vAowD2wOPDj0ClQKRB+oDIAFmAnkBiwM=",
          "dtype": "i2"
         },
         "xaxis": "x4",
         "y": {
          "bdata": "vOgAAEgeAABawAAAu8gBACFnAwDbcwMAg3MFAM1XAAAqjQQA6WkAAH8TAAASzAAAm2gCAEV+AwAgqAAAzeYAAAsaAAApGAAAelYAAIcRAgAj3QIAdVUAAIweAAD9JgIAe38AALPKAQC8IAAAr9kDAK45BwB2SQMA+CoBAEgMAACfShYAUyQHAPgAAQBnWgAA/HsQAJDYAABi2AIApdsAAFWHHAC46QAAF4QAAP2lBQBv+xgA5y8DAMFlAAByAwIAldUAAOLxAAALXQIAcTsAACUaAQBOoAYAwQQHAFP/BQCVJgIAfxIBAN1RAAApSwAA92oPAMe6BACOyBIAVcQMAFxDAAB9NgAA704AAMh2AQD1rwEATCgAAIhsCQAFVg4AiZgKAMzlEgCIExQA7xcGAEk3CgABpAkAyTIJAI+jHgDwTx8AD2UKAAn0KQDErDIAw6QJALDFAwDwrAUAqIIgAE9FBgAIvTYAAhENAH+SGQD+LAQANgYIAKTiIAB3iQUAWxkGANAgCAAyCQAAXL4BAA==",
          "dtype": "i4"
         },
         "yaxis": "y4"
        },
        {
         "line": {
          "color": "red"
         },
         "mode": "lines",
         "name": "Trend views vs pages",
         "type": "scatter",
         "x": {
          "bdata": "AAAAAADAX0CtXylQ67dkQFq/UqDWj2lACB988MFnbkBav1Kg1p9xQDFvZ0jMC3RACB988MF3dkDezpCYt+N4QLV+pUCtT3tAjC666KK7fUAxb2dIzBOAQBzHcRzHSYFACB988MF/gkDzdobEvLWDQN7OkJi364RAyiabbLIhhkC1fqVArVeHQKDWrxSojYhAjC666KLDiUB3hsS8nfmKQGLezpCYL4xATjbZZJNljUA5juM4jpuOQCTm7QyJ0Y9ACB988MGDkED+SoFavx6RQPN2hsS8uZFA6aKLLrpUkkDezpCYt++SQNT6lQK1ipNAyiabbLIllEC/UqDWr8CUQLV+pUCtW5VAq6qqqqr2lUCg1q8UqJGWQJYCtX6lLJdAjC666KLHl0CBWr9SoGKYQHeGxLyd/ZhAbbLJJpuYmUBi3s6QmDOaQFgK1PqVzppATjbZZJNpm0BDYt7OkAScQDmO4ziOn5xAL7rooos6nUAk5u0MidWdQBoS83aGcJ5AED744IMLn0AFav1KgaafQP5KgVq/IKBA+OCDDz5uoEDzdobEvLugQO4MiXk7CaFA6aKLLrpWoUDkOI7jOKShQN7OkJi38aFA2WSTTTY/okDU+pUCtYyiQM+QmLcz2qJAyiabbLIno0DFvJ0hMXWjQL9SoNavwqNAuuiiiy4QpEC1fqVArV2kQLAUqPUrq6RAq6qqqqr4pEClQK1fKUalQKDWrxSok6VAm2yyySbhpUCWArV+pS6mQJGYtzMkfKZAjC666KLJpkCGxLydIRenQIFav1KgZKdAfPDBBx+yp0B3hsS8nf+nQHIcx3EcTahAbbLJJpuaqEBnSMzbGeioQGLezpCYNalAXXTRRReDqUBYCtT6ldCpQFOg1q8UHqpATjbZZJNrqkBIzNsZErmqQENi3s6QBqtAPvjggw9Uq0A5juM4jqGrQDQk5u0M76tAL7rooos8rEApUOtXCoqsQCTm7QyJ16xAH3zwwQclrUAaEvN2hnKtQBWo9SsFwK1AED744IMNrkAK1PqVAluuQAVq/UqBqK5AAAAAAAD2rkA=",
          "dtype": "f8"
         },
         "xaxis": "x4",
         "y": {
          "bdata": "SgdWs8Tr+UBmT6RQD0j+QMJL+fYsUgFB0W+gRVKAA0Hek0eUd64FQe237uKc3AdB/NuVMcIKCkEKAD2A5zgMQRkk5M4MZw5BFKTFDplKEEEbNhm2q2ERQSLIbF2+eBJBKlrABNGPE0Ex7BOs46YUQTh+Z1P2vRVBQBC7+gjVFkFHog6iG+wXQU40YkkuAxlBVsa18EAaGkFdWAmYUzEbQWTqXD9mSBxBbHyw5nhfHUFzDgSOi3YeQXqgVzWejR9BQJlVblhSIEFEYv/B4d0gQUcrqRVraSFBTPRSafT0IUFPvfy8fYAiQVOGphAHDCNBV09QZJCXI0FaGPq3GSMkQV3howujriRBYapNXyw6JUFkc/eytcUlQWg8oQY/USZBbAVLWsjcJkFvzvStUWgnQXOXngHb8ydBd2BIVWR/KEF6KfKo7QopQX7ym/x2lilBgrtFUAAiKkGFhO+jia0qQYlNmfcSOStBjRZDS5zEK0GQ3+yeJVAsQZSolvKu2yxBmHFARjhnLUGbOuqZwfItQaADlO1Kfi5Bosw9QdQJL0GmleeUXZUvQVWvSHRzEDBB15MdHjhWMEFZePLH/JswQdpcx3HB4TBBXEGcG4YnMUHeJXHFSm0xQWAKRm8PszFB4u4aGdT4MUFk0+/CmD4yQeW3xGxdhDJBZ5yZFiLKMkHpgG7A5g8zQWtlQ2qrVTNB7UkYFHCbM0FuLu29NOEzQfASwmf5JjRBcveWEb5sNEH022u7grI0QXbAQGVH+DRB+KQVDww+NUF5ieq40IM1Qfttv2KVyTVBfVKUDFoPNkH/Nmm2HlU2QYEbPmDjmjZBAwATCqjgNkGE5OezbCY3QQbJvF0xbDdBiK2RB/axN0EKkmaxuvc3QYt2O1t/PThBDVsQBUSDOEGPP+WuCMk4QRAkuljNDjlBkgiPApJUOUEU7WOsVpo5QZbROFYb4DlBGLYNAOAlOkGZmuKppGs6QRt/t1NpsTpBnWOM/S33OkEfSGGn8jw7QaEsNlG3gjtBIxEL+3vIO0Gk9d+kQA48QSbatE4FVDxBqL6J+MmZPEE=",
          "dtype": "f8"
         },
         "yaxis": "y4"
        },
        {
         "marker": {
          "opacity": 0.5,
          "size": 5
         },
         "mode": "markers",
         "name": "rating vs pages",
         "type": "scatter",
         "x": {
          "bdata": "3QDDAOAAeAO7BXAEOgLGAkoM2QXhAaYC5gF1BAUDvAG8AWkEQQPlAZACfwApAaoByQMRA+YJ0wOVAfYCzADjCJsCuAGXAJsCXQFUA8kBkQdBASUBxgMgCB4F+AB3AcwBxAELAUoBCwJFDCMHRQKgAm0G/AVmCAAFzwN7DyYD0gDSAWIC+QEpAhcCEQGuAsECoQOJD1oFTgHAAzQPRgPyAdsE5wZJBIMGtAiZBSACiwJfDq8CjAPbA48OPQKVApEH6gMgAWYCeQGLAw==",
          "dtype": "i2"
         },
         "xaxis": "x5",
         "y": {
          "bdata": "FK5H4XoUEkCuR+F6FK4TQJqZmZmZmRJA4XoUrkfhEEBcj8L1KFwRQD0K16NwPRFAexSuR+F6EkCPwvUoXI8TQK5H4XoUrhBAj8L1KFyPEUBcj8L1KFwSQNejcD0K1xJAj8L1KFyPEkAAAAAAAAATQAAAAAAAABJAZmZmZmZmEkCuR+F6FK4TQMP1KFyPwhFASOF6FK5HEkAK16NwPQoRQEjhehSuRxJAKVyPwvUoEUBI4XoUrkcRQFyPwvUoXBJAexSuR+F6EUDNzMzMzMwQQAAAAAAAABFA9ihcj8L1EUCF61G4HoURQAAAAAAAABJA4XoUrkfhEkBxPQrXo3AQQB+F61G4HhJACtejcD0KEkC4HoXrUbgQQHE9CtejcBJASOF6FK5HEkBmZmZmZmYRQD0K16NwPRNAMzMzMzMzEkD2KFyPwvUSQOxRuB6F6xFA9ihcj8L1EUCPwvUoXI8RQOF6FK5H4RBAmpmZmZmZEUAfhetRuB4RQOF6FK5H4RFA4XoUrkfhEEDhehSuR+ESQB+F61G4HhJA7FG4HoXrEEBI4XoUrkcPQGZmZmZmZg5AUrgehetREkDNzMzMzMwSQFK4HoXrURNAUrgehetREkCuR+F6FK4SQKRwPQrXoxBAH4XrUbgeEUApXI/C9SgSQEjhehSuRxJA9ihcj8L1EEAzMzMzMzMSQClcj8L1KBJAZmZmZmZmE0AK16NwPQoSQD0K16NwPRNAexSuR+F6EkAzMzMzMzMSQHE9CtejcBJAMzMzMzMzEkBmZmZmZmYRQK5H4XoUrhBAhetRuB6FEkCF61G4HoUSQB+F61G4HhJAXI/C9ShcEkCamZmZmZkRQNejcD0K1xFA16NwPQrXEUBmZmZmZmYSQArXo3A9ChJAuB6F61G4EUB7FK5H4XoRQGZmZmZmZhJAKVyPwvUoEkBmZmZmZmYSQFyPwvUoXBJAMzMzMzMzEkAUrkfhehQSQD0K16NwPRJASOF6FK5HEkCamZmZmZkSQDMzMzMzMxJAUrgehetREUDsUbgehesRQFyPwvUoXBFAUrgehetRE0BI4XoUrkcNQA==",
          "dtype": "f8"
         },
         "yaxis": "y5"
        },
        {
         "line": {
          "color": "red"
         },
         "mode": "lines",
         "name": "Trend rating vs pages",
         "type": "scatter",
         "x": {
          "bdata": "AAAAAADAX0DHcRzHcbxkQI7jOI7jmGlAVVVVVVV1bkCO4ziO46hxQHIcx3EcF3RAVVVVVVWFdkA4juM4jvN4QBzHcRzHYXtAAAAAAADQfUByHMdxHB+AQOM4juM4VoFAVVVVVVWNgkDHcRzHccSDQDiO4ziO+4RAqqqqqqoyhkAcx3Ecx2mHQI7jOI7joIhAAAAAAADYiUBxHMdxHA+LQOM4juM4RoxAVVVVVVV9jUDGcRzHcbSOQDiO4ziO649AVVVVVVWRkECO4ziO4yyRQMdxHMdxyJFAAAAAAABkkkA4juM4jv+SQHEcx3Ecm5NAqqqqqqo2lEDjOI7jONKUQBzHcRzHbZVAVVVVVVUJlkCO4ziO46SWQMdxHMdxQJdAAAAAAADcl0A4juM4jneYQHEcx3EcE5lAqqqqqqqumUDjOI7jOEqaQBzHcRzH5ZpAVVVVVVWBm0CO4ziO4xycQMZxHMdxuJxA//////9TnUA4juM4ju+dQHEcx3Eci55Aqqqqqqomn0DjOI7jOMKfQI7jOI7jLqBAqqqqqqp8oEDHcRzHccqgQOM4juM4GKFAAAAAAABmoUAcx3Ecx7OhQDiO4ziOAaJAVVVVVVVPokBxHMdxHJ2iQI7jOI7j6qJAqqqqqqo4o0DHcRzHcYajQOM4juM41KNAAAAAAAAipEAcx3Ecx2+kQDiO4ziOvaRAVVVVVVULpUBxHMdxHFmlQI7jOI7jpqVAqqqqqqr0pUDHcRzHcUKmQOM4juM4kKZAAAAAAADepkAcx3EcxyunQDiO4ziOeadAVVVVVVXHp0BxHMdxHBWoQI7jOI7jYqhAqqqqqqqwqEDHcRzHcf6oQOM4juM4TKlA//////+ZqUAcx3Ecx+epQDiO4ziONapAVVVVVVWDqkBxHMdxHNGqQI7jOI7jHqtAqqqqqqpsq0DGcRzHcbqrQOM4juM4CKxA//////9VrEAcx3Ecx6OsQDiO4ziO8axAVVVVVVU/rUBxHMdxHI2tQI7jOI7j2q1AqqqqqqoorkDGcRzHcXauQOM4juM4xK5AAAAAAAASr0A=",
          "dtype": "f8"
         },
         "xaxis": "x5",
         "y": {
          "bdata": "K5BELNIlEkBNedXTiCMSQG9iZns/IRJAkEv3IvYeEkCyNIjKrBwSQNQdGXJjGhJA9gaqGRoYEkAY8DrB0BUSQDnZy2iHExJAW8JcED4REkB9q+239A4SQJ+Ufl+rDBJAwH0PB2IKEkDiZqCuGAgSQARQMVbPBRJAJjnC/YUDEkBIIlOlPAESQGkL5Ezz/hFAi/R09Kn8EUCt3QWcYPoRQM/GlkMX+BFA8a8n6831EUASmbiShPMRQDSCSTo78RFAVmva4fHuEUB4VGuJqOwRQJo9/DBf6hFAuyaN2BXoEUDdDx6AzOURQP/4rieD4xFAIeI/zznhEUBDy9B28N4RQGS0YR6n3BFAhp3yxV3aEUCohoNtFNgRQMpvFBXL1RFA7FilvIHTEUANQjZkONERQC8rxwvvzhFAURRYs6XMEUBz/ehaXMoRQJTmeQITyBFAts8KqsnFEUDYuJtRgMMRQPqhLPk2wRFAHIu9oO2+EUA9dE5IpLwRQF9d3+9auhFAgUZwlxG4EUCjLwE/yLURQMUYkuZ+sxFA5gEjjjWxEUAI67M17K4RQCrURN2irBFATL3VhFmqEUBupmYsEKgRQI+P99PGpRFAsXiIe32jEUDTYRkjNKERQPVKqsrqnhFAFzQ7cqGcEUA4HcwZWJoRQFoGXcEOmBFAfO/taMWVEUCe2H4QfJMRQMDBD7gykRFA4aqgX+mOEUADlDEHoIwRQCV9wq5WihFAR2ZTVg2IEUBoT+T9w4URQIo4daV6gxFArCEGTTGBEUDOCpf0534RQPDzJ5yefBFAEd24Q1V6EUAzxknrC3gRQFWv2pLCdRFAd5hrOnlzEUCZgfzhL3ERQLpqjYnmbhFA3FMeMZ1sEUD+PK/YU2oRQCAmQIAKaBFAQg/RJ8FlEUBj+GHPd2MRQIXh8nYuYRFAp8qDHuVeEUDJsxTGm1wRQOucpW1SWhFADIY2FQlYEUAub8e8v1URQFBYWGR2UxFAckHpCy1REUCUKnqz404RQLUTC1uaTBFA1/ybAlFKEUD55SyqB0gRQBvPvVG+RRFAPLhO+XRDEUA=",
          "dtype": "f8"
         },
         "yaxis": "y5"
        },
        {
         "marker": {
          "opacity": 0.5,
          "size": 5
         },
         "mode": "markers",
         "name": "followers vs pages",
         "type": "scatter",
         "x": {
          "bdata": "3QDDAOAAeAO7BXAEOgLGAkoM2QXSAuEBpgLmAXUEBQO8AbwBaQRBA+UBkAJ/ACkBqgHJAxED5gnTA5UB9gLMAOMImwK4AZcAmwJdAVQDyQGRB0EBJQHGAyAIHgX4AHcBzAHEAQsBSgELAkUMIwdFAqACbQb8BWYIAAXPA3sPJgPSANIBYgL5ASkCFwIRAa4CwQKhA4kPWgVOAcADRgPyAdsE5wZJBIMGmQUgAosCXw6vAowD2wOPDj0ClQKRB+oDIAFmAnkBiwM=",
          "dtype": "i2"
         },
         "xaxis": "x6",
         "y": {
          "bdata": "0gJuAb8BvQGLAdMC9QoNAd8AZQBCAPMCDgaOB3YAXgBTABoAkACtBPgHXQCOAGAEnQA/AxUAQQX5BwUGpgAdAN0NnAzHAjcCBQ2iALEDCQGpFBkBnACwB70RHQSpAXwD3ABxA5UGxADVAyoBmgAcEbEAWgBKABUALwV+ASMDdQjaAeEAkwCdAGABIACAFCUWJBTfGm8nSAc5E5cPBhPrCgMXcBWhDY8atwN7B1YImQ/ODpAn/hOfCsgH6A+YD/AF/RA8ECwAAQE=",
          "dtype": "i2"
         },
         "yaxis": "y6"
        },
        {
         "line": {
          "color": "red"
         },
         "mode": "lines",
         "name": "Trend followers vs pages",
         "type": "scatter",
         "x": {
          "bdata": "AAAAAADAX0DHcRzHcbxkQI7jOI7jmGlAVVVVVVV1bkCO4ziO46hxQHIcx3EcF3RAVVVVVVWFdkA4juM4jvN4QBzHcRzHYXtAAAAAAADQfUByHMdxHB+AQOM4juM4VoFAVVVVVVWNgkDHcRzHccSDQDiO4ziO+4RAqqqqqqoyhkAcx3Ecx2mHQI7jOI7joIhAAAAAAADYiUBxHMdxHA+LQOM4juM4RoxAVVVVVVV9jUDGcRzHcbSOQDiO4ziO649AVVVVVVWRkECO4ziO4yyRQMdxHMdxyJFAAAAAAABkkkA4juM4jv+SQHEcx3Ecm5NAqqqqqqo2lEDjOI7jONKUQBzHcRzHbZVAVVVVVVUJlkCO4ziO46SWQMdxHMdxQJdAAAAAAADcl0A4juM4jneYQHEcx3EcE5lAqqqqqqqumUDjOI7jOEqaQBzHcRzH5ZpAVVVVVVWBm0CO4ziO4xycQMZxHMdxuJxA//////9TnUA4juM4ju+dQHEcx3Eci55Aqqqqqqomn0DjOI7jOMKfQI7jOI7jLqBAqqqqqqp8oEDHcRzHccqgQOM4juM4GKFAAAAAAABmoUAcx3Ecx7OhQDiO4ziOAaJAVVVVVVVPokBxHMdxHJ2iQI7jOI7j6qJAqqqqqqo4o0DHcRzHcYajQOM4juM41KNAAAAAAAAipEAcx3Ecx2+kQDiO4ziOvaRAVVVVVVULpUBxHMdxHFmlQI7jOI7jpqVAqqqqqqr0pUDHcRzHcUKmQOM4juM4kKZAAAAAAADepkAcx3EcxyunQDiO4ziOeadAVVVVVVXHp0BxHMdxHBWoQI7jOI7jYqhAqqqqqqqwqEDHcRzHcf6oQOM4juM4TKlA//////+ZqUAcx3Ecx+epQDiO4ziONapAVVVVVVWDqkBxHMdxHNGqQI7jOI7jHqtAqqqqqqpsq0DGcRzHcbqrQOM4juM4CKxA//////9VrEAcx3Ecx6OsQDiO4ziO8axAVVVVVVU/rUBxHMdxHI2tQI7jOI7j2q1AqqqqqqoorkDGcRzHcXauQOM4juM4xK5AAAAAAAASr0A=",
          "dtype": "f8"
         },
         "xaxis": "x6",
         "y": {
          "bdata": "lSds4lfDlEC20bBrbCmVQNd79fSAj5VA+CU6fpX1lUAZ0H4HqluWQDp6w5C+wZZAWyQIGtMnl0B8zkyj542XQJ54kSz885dAvyLWtRBamEDgzBo/JcCYQAF3X8g5JplAIiGkUU6MmUBDy+jaYvKZQGR1LWR3WJpAhR9y7Yu+mkCmybZ2oCSbQMhz+/+0iptA6B1Aicnwm0AKyIQS3lacQCpyyZvyvJxATBwOJQcjnUBsxlKuG4mdQI5wlzcw751ArxrcwERVnkDQxCBKWbueQPFuZdNtIZ9AEhmqXIKHn0Azw+7llu2fQKq2mbfVKaBAugs8/N9coEDLYN5A6o+gQNy1gIX0wqBA7Aojyv71oED9X8UOCSmhQA61Z1MTXKFAHgoKmB2PoUAuX6zcJ8KhQD+0TiEy9aFAUAnxZTwookBgXpOqRluiQHCzNe9QjqJAgQjYM1vBokCSXXp4ZfSiQKKyHL1vJ6NAsge/AXpao0DDXGFGhI2jQNSxA4uOwKNA5Aamz5jzo0D1W0gUoyakQAax6litWaRAFgaNnbeMpEAmWy/iwb+kQDew0SbM8qRASAV0a9YlpUBYWhaw4FilQGivuPTqi6VAegRbOfW+pUCKWf19//GlQJqun8IJJaZAqgNCBxRYpkC8WORLHoumQMythpAovqZA3QIp1TLxpkDtV8sZPSSnQP6sbV5HV6dADgIQo1GKp0AeV7LnW72nQDCsVCxm8KdAQAH3cHAjqEBQVpm1elaoQGGrO/qEiahAcgDePo+8qECCVYCDme+oQJKqIsijIqlAo//EDK5VqUC0VGdRuIipQMSpCZbCu6lA1f6r2szuqUDlU04f1yGqQPao8GPhVKpABv6SqOuHqkAXUzXt9bqqQCeo1zEA7qpAOP15dgohq0BIUhy7FFSrQFmnvv8eh6tAafxgRCm6q0B6UQOJM+2rQIumpc09IKxAm/tHEkhTrECsUOpWUoasQLyljJtcuaxAzfou4GbsrEDdT9EkcR+tQO6kc2l7Uq1A/vkVroWFrUAPT7jyj7itQCCkWjea661AMPn8e6QerkA=",
          "dtype": "f8"
         },
         "yaxis": "y6"
        }
       ],
       "layout": {
        "annotations": [
         {
          "font": {
           "size": 16
          },
          "showarrow": false,
          "text": "views vs chapters",
          "x": 0.13333333333333333,
          "xanchor": "center",
          "xref": "paper",
          "y": 1,
          "yanchor": "bottom",
          "yref": "paper"
         },
         {
          "font": {
           "size": 16
          },
          "showarrow": false,
          "text": "rating vs chapters",
          "x": 0.5,
          "xanchor": "center",
          "xref": "paper",
          "y": 1,
          "yanchor": "bottom",
          "yref": "paper"
         },
         {
          "font": {
           "size": 16
          },
          "showarrow": false,
          "text": "followers vs chapters",
          "x": 0.8666666666666667,
          "xanchor": "center",
          "xref": "paper",
          "y": 1,
          "yanchor": "bottom",
          "yref": "paper"
         },
         {
          "font": {
           "size": 16
          },
          "showarrow": false,
          "text": "views vs pages",
          "x": 0.13333333333333333,
          "xanchor": "center",
          "xref": "paper",
          "y": 0.425,
          "yanchor": "bottom",
          "yref": "paper"
         },
         {
          "font": {
           "size": 16
          },
          "showarrow": false,
          "text": "rating vs pages",
          "x": 0.5,
          "xanchor": "center",
          "xref": "paper",
          "y": 0.425,
          "yanchor": "bottom",
          "yref": "paper"
         },
         {
          "font": {
           "size": 16
          },
          "showarrow": false,
          "text": "followers vs pages",
          "x": 0.8666666666666667,
          "xanchor": "center",
          "xref": "paper",
          "y": 0.425,
          "yanchor": "bottom",
          "yref": "paper"
         }
        ],
        "height": 800,
        "showlegend": false,
        "template": {
         "data": {
          "bar": [
           {
            "error_x": {
             "color": "#2a3f5f"
            },
            "error_y": {
             "color": "#2a3f5f"
            },
            "marker": {
             "line": {
              "color": "#E5ECF6",
              "width": 0.5
             },
             "pattern": {
              "fillmode": "overlay",
              "size": 10,
              "solidity": 0.2
             }
            },
            "type": "bar"
           }
          ],
          "barpolar": [
           {
            "marker": {
             "line": {
              "color": "#E5ECF6",
              "width": 0.5
             },
             "pattern": {
              "fillmode": "overlay",
              "size": 10,
              "solidity": 0.2
             }
            },
            "type": "barpolar"
           }
          ],
          "carpet": [
           {
            "aaxis": {
             "endlinecolor": "#2a3f5f",
             "gridcolor": "white",
             "linecolor": "white",
             "minorgridcolor": "white",
             "startlinecolor": "#2a3f5f"
            },
            "baxis": {
             "endlinecolor": "#2a3f5f",
             "gridcolor": "white",
             "linecolor": "white",
             "minorgridcolor": "white",
             "startlinecolor": "#2a3f5f"
            },
            "type": "carpet"
           }
          ],
          "choropleth": [
           {
            "colorbar": {
             "outlinewidth": 0,
             "ticks": ""
            },
            "type": "choropleth"
           }
          ],
          "contour": [
           {
            "colorbar": {
             "outlinewidth": 0,
             "ticks": ""
            },
            "colorscale": [
             [
              0,
              "#0d0887"
             ],
             [
              0.1111111111111111,
              "#46039f"
             ],
             [
              0.2222222222222222,
              "#7201a8"
             ],
             [
              0.3333333333333333,
              "#9c179e"
             ],
             [
              0.4444444444444444,
              "#bd3786"
             ],
             [
              0.5555555555555556,
              "#d8576b"
             ],
             [
              0.6666666666666666,
              "#ed7953"
             ],
             [
              0.7777777777777778,
              "#fb9f3a"
             ],
             [
              0.8888888888888888,
              "#fdca26"
             ],
             [
              1,
              "#f0f921"
             ]
            ],
            "type": "contour"
           }
          ],
          "contourcarpet": [
           {
            "colorbar": {
             "outlinewidth": 0,
             "ticks": ""
            },
            "type": "contourcarpet"
           }
          ],
          "heatmap": [
           {
            "colorbar": {
             "outlinewidth": 0,
             "ticks": ""
            },
            "colorscale": [
             [
              0,
              "#0d0887"
             ],
             [
              0.1111111111111111,
              "#46039f"
             ],
             [
              0.2222222222222222,
              "#7201a8"
             ],
             [
              0.3333333333333333,
              "#9c179e"
             ],
             [
              0.4444444444444444,
              "#bd3786"
             ],
             [
              0.5555555555555556,
              "#d8576b"
             ],
             [
              0.6666666666666666,
              "#ed7953"
             ],
             [
              0.7777777777777778,
              "#fb9f3a"
             ],
             [
              0.8888888888888888,
              "#fdca26"
             ],
             [
              1,
              "#f0f921"
             ]
            ],
            "type": "heatmap"
           }
          ],
          "histogram": [
           {
            "marker": {
             "pattern": {
              "fillmode": "overlay",
              "size": 10,
              "solidity": 0.2
             }
            },
            "type": "histogram"
           }
          ],
          "histogram2d": [
           {
            "colorbar": {
             "outlinewidth": 0,
             "ticks": ""
            },
            "colorscale": [
             [
              0,
              "#0d0887"
             ],
             [
              0.1111111111111111,
              "#46039f"
             ],
             [
              0.2222222222222222,
              "#7201a8"
             ],
             [
              0.3333333333333333,
              "#9c179e"
             ],
             [
              0.4444444444444444,
              "#bd3786"
             ],
             [
              0.5555555555555556,
              "#d8576b"
             ],
             [
              0.6666666666666666,
              "#ed7953"
             ],
             [
              0.7777777777777778,
              "#fb9f3a"
             ],
             [
              0.8888888888888888,
              "#fdca26"
             ],
             [
              1,
              "#f0f921"
             ]
            ],
            "type": "histogram2d"
           }
          ],
          "histogram2dcontour": [
           {
            "colorbar": {
             "outlinewidth": 0,
             "ticks": ""
            },
            "colorscale": [
             [
              0,
              "#0d0887"
             ],
             [
              0.1111111111111111,
              "#46039f"
             ],
             [
              0.2222222222222222,
              "#7201a8"
             ],
             [
              0.3333333333333333,
              "#9c179e"
             ],
             [
              0.4444444444444444,
              "#bd3786"
             ],
             [
              0.5555555555555556,
              "#d8576b"
             ],
             [
              0.6666666666666666,
              "#ed7953"
             ],
             [
              0.7777777777777778,
              "#fb9f3a"
             ],
             [
              0.8888888888888888,
              "#fdca26"
             ],
             [
              1,
              "#f0f921"
             ]
            ],
            "type": "histogram2dcontour"
           }
          ],
          "mesh3d": [
           {
            "colorbar": {
             "outlinewidth": 0,
             "ticks": ""
            },
            "type": "mesh3d"
           }
          ],
          "parcoords": [
           {
            "line": {
             "colorbar": {
              "outlinewidth": 0,
              "ticks": ""
             }
            },
            "type": "parcoords"
           }
          ],
          "pie": [
           {
            "automargin": true,
            "type": "pie"
           }
          ],
          "scatter": [
           {
            "fillpattern": {
             "fillmode": "overlay",
             "size": 10,
             "solidity": 0.2
            },
            "type": "scatter"
           }
          ],
          "scatter3d": [
           {
            "line": {
             "colorbar": {
              "outlinewidth": 0,
              "ticks": ""
             }
            },
            "marker": {
             "colorbar": {
              "outlinewidth": 0,
              "ticks": ""
             }
            },
            "type": "scatter3d"
           }
          ],
          "scattercarpet": [
           {
            "marker": {
             "colorbar": {
              "outlinewidth": 0,
              "ticks": ""
             }
            },
            "type": "scattercarpet"
           }
          ],
          "scattergeo": [
           {
            "marker": {
             "colorbar": {
              "outlinewidth": 0,
              "ticks": ""
             }
            },
            "type": "scattergeo"
           }
          ],
          "scattergl": [
           {
            "marker": {
             "colorbar": {
              "outlinewidth": 0,
              "ticks": ""
             }
            },
            "type": "scattergl"
           }
          ],
          "scattermap": [
           {
            "marker": {
             "colorbar": {
              "outlinewidth": 0,
              "ticks": ""
             }
            },
            "type": "scattermap"
           }
          ],
          "scattermapbox": [
           {
            "marker": {
             "colorbar": {
              "outlinewidth": 0,
              "ticks": ""
             }
            },
            "type": "scattermapbox"
           }
          ],
          "scatterpolar": [
           {
            "marker": {
             "colorbar": {
              "outlinewidth": 0,
              "ticks": ""
             }
            },
            "type": "scatterpolar"
           }
          ],
          "scatterpolargl": [
           {
            "marker": {
             "colorbar": {
              "outlinewidth": 0,
              "ticks": ""
             }
            },
            "type": "scatterpolargl"
           }
          ],
          "scatterternary": [
           {
            "marker": {
             "colorbar": {
              "outlinewidth": 0,
              "ticks": ""
             }
            },
            "type": "scatterternary"
           }
          ],
          "surface": [
           {
            "colorbar": {
             "outlinewidth": 0,
             "ticks": ""
            },
            "colorscale": [
             [
              0,
              "#0d0887"
             ],
             [
              0.1111111111111111,
              "#46039f"
             ],
             [
              0.2222222222222222,
              "#7201a8"
             ],
             [
              0.3333333333333333,
              "#9c179e"
             ],
             [
              0.4444444444444444,
              "#bd3786"
             ],
             [
              0.5555555555555556,
              "#d8576b"
             ],
             [
              0.6666666666666666,
              "#ed7953"
             ],
             [
              0.7777777777777778,
              "#fb9f3a"
             ],
             [
              0.8888888888888888,
              "#fdca26"
             ],
             [
              1,
              "#f0f921"
             ]
            ],
            "type": "surface"
           }
          ],
          "table": [
           {
            "cells": {
             "fill": {
              "color": "#EBF0F8"
             },
             "line": {
              "color": "white"
             }
            },
            "header": {
             "fill": {
              "color": "#C8D4E3"
             },
             "line": {
              "color": "white"
             }
            },
            "type": "table"
           }
          ]
         },
         "layout": {
          "annotationdefaults": {
           "arrowcolor": "#2a3f5f",
           "arrowhead": 0,
           "arrowwidth": 1
          },
          "autotypenumbers": "strict",
          "coloraxis": {
           "colorbar": {
            "outlinewidth": 0,
            "ticks": ""
           }
          },
          "colorscale": {
           "diverging": [
            [
             0,
             "#8e0152"
            ],
            [
             0.1,
             "#c51b7d"
            ],
            [
             0.2,
             "#de77ae"
            ],
            [
             0.3,
             "#f1b6da"
            ],
            [
             0.4,
             "#fde0ef"
            ],
            [
             0.5,
             "#f7f7f7"
            ],
            [
             0.6,
             "#e6f5d0"
            ],
            [
             0.7,
             "#b8e186"
            ],
            [
             0.8,
             "#7fbc41"
            ],
            [
             0.9,
             "#4d9221"
            ],
            [
             1,
             "#276419"
            ]
           ],
           "sequential": [
            [
             0,
             "#0d0887"
            ],
            [
             0.1111111111111111,
             "#46039f"
            ],
            [
             0.2222222222222222,
             "#7201a8"
            ],
            [
             0.3333333333333333,
             "#9c179e"
            ],
            [
             0.4444444444444444,
             "#bd3786"
            ],
            [
             0.5555555555555556,
             "#d8576b"
            ],
            [
             0.6666666666666666,
             "#ed7953"
            ],
            [
             0.7777777777777778,
             "#fb9f3a"
            ],
            [
             0.8888888888888888,
             "#fdca26"
            ],
            [
             1,
             "#f0f921"
            ]
           ],
           "sequentialminus": [
            [
             0,
             "#0d0887"
            ],
            [
             0.1111111111111111,
             "#46039f"
            ],
            [
             0.2222222222222222,
             "#7201a8"
            ],
            [
             0.3333333333333333,
             "#9c179e"
            ],
            [
             0.4444444444444444,
             "#bd3786"
            ],
            [
             0.5555555555555556,
             "#d8576b"
            ],
            [
             0.6666666666666666,
             "#ed7953"
            ],
            [
             0.7777777777777778,
             "#fb9f3a"
            ],
            [
             0.8888888888888888,
             "#fdca26"
            ],
            [
             1,
             "#f0f921"
            ]
           ]
          },
          "colorway": [
           "#636efa",
           "#EF553B",
           "#00cc96",
           "#ab63fa",
           "#FFA15A",
           "#19d3f3",
           "#FF6692",
           "#B6E880",
           "#FF97FF",
           "#FECB52"
          ],
          "font": {
           "color": "#2a3f5f"
          },
          "geo": {
           "bgcolor": "white",
           "lakecolor": "white",
           "landcolor": "#E5ECF6",
           "showlakes": true,
           "showland": true,
           "subunitcolor": "white"
          },
          "hoverlabel": {
           "align": "left"
          },
          "hovermode": "closest",
          "mapbox": {
           "style": "light"
          },
          "paper_bgcolor": "white",
          "plot_bgcolor": "#E5ECF6",
          "polar": {
           "angularaxis": {
            "gridcolor": "white",
            "linecolor": "white",
            "ticks": ""
           },
           "bgcolor": "#E5ECF6",
           "radialaxis": {
            "gridcolor": "white",
            "linecolor": "white",
            "ticks": ""
           }
          },
          "scene": {
           "xaxis": {
            "backgroundcolor": "#E5ECF6",
            "gridcolor": "white",
            "gridwidth": 2,
            "linecolor": "white",
            "showbackground": true,
            "ticks": "",
            "zerolinecolor": "white"
           },
           "yaxis": {
            "backgroundcolor": "#E5ECF6",
            "gridcolor": "white",
            "gridwidth": 2,
            "linecolor": "white",
            "showbackground": true,
            "ticks": "",
            "zerolinecolor": "white"
           },
           "zaxis": {
            "backgroundcolor": "#E5ECF6",
            "gridcolor": "white",
            "gridwidth": 2,
            "linecolor": "white",
            "showbackground": true,
            "ticks": "",
            "zerolinecolor": "white"
           }
          },
          "shapedefaults": {
           "line": {
            "color": "#2a3f5f"
           }
          },
          "ternary": {
           "aaxis": {
            "gridcolor": "white",
            "linecolor": "white",
            "ticks": ""
           },
           "baxis": {
            "gridcolor": "white",
            "linecolor": "white",
            "ticks": ""
           },
           "bgcolor": "#E5ECF6",
           "caxis": {
            "gridcolor": "white",
            "linecolor": "white",
            "ticks": ""
           }
          },
          "title": {
           "x": 0.05
          },
          "xaxis": {
           "automargin": true,
           "gridcolor": "white",
           "linecolor": "white",
           "ticks": "",
           "title": {
            "standoff": 15
           },
           "zerolinecolor": "white",
           "zerolinewidth": 2
          },
          "yaxis": {
           "automargin": true,
           "gridcolor": "white",
           "linecolor": "white",
           "ticks": "",
           "title": {
            "standoff": 15
           },
           "zerolinecolor": "white",
           "zerolinewidth": 2
          }
         }
        },
        "title": {
         "text": "Relationship between Story Length and Performance Metrics"
        },
        "xaxis": {
         "anchor": "y",
         "domain": [
          0,
          0.26666666666666666
         ],
         "title": {
          "text": "chapters"
         }
        },
        "xaxis2": {
         "anchor": "y2",
         "domain": [
          0.3666666666666667,
          0.6333333333333333
         ],
         "title": {
          "text": "chapters"
         }
        },
        "xaxis3": {
         "anchor": "y3",
         "domain": [
          0.7333333333333334,
          1
         ],
         "title": {
          "text": "chapters"
         }
        },
        "xaxis4": {
         "anchor": "y4",
         "domain": [
          0,
          0.26666666666666666
         ],
         "title": {
          "text": "pages"
         }
        },
        "xaxis5": {
         "anchor": "y5",
         "domain": [
          0.3666666666666667,
          0.6333333333333333
         ],
         "title": {
          "text": "pages"
         }
        },
        "xaxis6": {
         "anchor": "y6",
         "domain": [
          0.7333333333333334,
          1
         ],
         "title": {
          "text": "pages"
         }
        },
        "yaxis": {
         "anchor": "x",
         "domain": [
          0.575,
          1
         ],
         "title": {
          "text": "views"
         }
        },
        "yaxis2": {
         "anchor": "x2",
         "domain": [
          0.575,
          1
         ],
         "title": {
          "text": "rating"
         }
        },
        "yaxis3": {
         "anchor": "x3",
         "domain": [
          0.575,
          1
         ],
         "title": {
          "text": "followers"
         }
        },
        "yaxis4": {
         "anchor": "x4",
         "domain": [
          0,
          0.425
         ],
         "title": {
          "text": "views"
         }
        },
        "yaxis5": {
         "anchor": "x5",
         "domain": [
          0,
          0.425
         ],
         "title": {
          "text": "rating"
         }
        },
        "yaxis6": {
         "anchor": "x6",
         "domain": [
          0,
          0.425
         ],
         "title": {
          "text": "followers"
         }
        }
       }
      }
     },
     "metadata": {},
     "output_type": "display_data"
    },
    {
     "name": "stderr",
     "output_type": "stream",
     "text": [
      "C:\\Users\\swapn\\AppData\\Local\\Temp\\ipykernel_10692\\2468123423.py:64: FutureWarning:\n",
      "\n",
      "The default of observed=False is deprecated and will be changed to True in a future version of pandas. Pass observed=False to retain current behavior or observed=True to adopt the future default and silence this warning.\n",
      "\n",
      "C:\\Users\\swapn\\AppData\\Local\\Temp\\ipykernel_10692\\2468123423.py:67: FutureWarning:\n",
      "\n",
      "The default of observed=False is deprecated and will be changed to True in a future version of pandas. Pass observed=False to retain current behavior or observed=True to adopt the future default and silence this warning.\n",
      "\n"
     ]
    },
    {
     "data": {
      "application/vnd.plotly.v1+json": {
       "config": {
        "plotlyServerURL": "https://plot.ly"
       },
       "data": [
        {
         "hovertemplate": "%{x}<br>%{y:,.2f} views<extra></extra>",
         "name": "views",
         "text": {
          "bdata": "mpmZmbEr6UDNzMzMzKUDQexRuB5tyPlAuB6F6x7OEUEK16NwQIoZQc3MzMwIrSZBzczMzI2YEUEzMzMz2vwwQc3MzMzwqCxBAAAAADk/SkE=",
          "dtype": "f8"
         },
         "textposition": "auto",
         "type": "bar",
         "x": [
          "Bucket 1<br>(15.0 to 40.0)",
          "Bucket 2<br>(47.0 to 56.0)",
          "Bucket 3<br>(57.0 to 65.0)",
          "Bucket 4<br>(66.0 to 76.0)",
          "Bucket 5<br>(78.0 to 100.0)",
          "Bucket 6<br>(101.0 to 122.0)",
          "Bucket 7<br>(127.0 to 160.0)",
          "Bucket 8<br>(161.0 to 214.0)",
          "Bucket 9<br>(216.0 to 265.0)",
          "Bucket 10<br>(291.0 to 999.0)"
         ],
         "y": {
          "bdata": "RhdddLEr6UDNzMzMzKUDQXTRRRdtyPlAjC666B7OEUFyHMdxQIoZQc3MzMwIrSZBF1100Y2YEUEzMzMz2vwwQc3MzMzwqCxBAAAAADk/SkE=",
          "dtype": "f8"
         }
        }
       ],
       "layout": {
        "height": 500,
        "margin": {
         "b": 80
        },
        "template": {
         "data": {
          "bar": [
           {
            "error_x": {
             "color": "#2a3f5f"
            },
            "error_y": {
             "color": "#2a3f5f"
            },
            "marker": {
             "line": {
              "color": "#E5ECF6",
              "width": 0.5
             },
             "pattern": {
              "fillmode": "overlay",
              "size": 10,
              "solidity": 0.2
             }
            },
            "type": "bar"
           }
          ],
          "barpolar": [
           {
            "marker": {
             "line": {
              "color": "#E5ECF6",
              "width": 0.5
             },
             "pattern": {
              "fillmode": "overlay",
              "size": 10,
              "solidity": 0.2
             }
            },
            "type": "barpolar"
           }
          ],
          "carpet": [
           {
            "aaxis": {
             "endlinecolor": "#2a3f5f",
             "gridcolor": "white",
             "linecolor": "white",
             "minorgridcolor": "white",
             "startlinecolor": "#2a3f5f"
            },
            "baxis": {
             "endlinecolor": "#2a3f5f",
             "gridcolor": "white",
             "linecolor": "white",
             "minorgridcolor": "white",
             "startlinecolor": "#2a3f5f"
            },
            "type": "carpet"
           }
          ],
          "choropleth": [
           {
            "colorbar": {
             "outlinewidth": 0,
             "ticks": ""
            },
            "type": "choropleth"
           }
          ],
          "contour": [
           {
            "colorbar": {
             "outlinewidth": 0,
             "ticks": ""
            },
            "colorscale": [
             [
              0,
              "#0d0887"
             ],
             [
              0.1111111111111111,
              "#46039f"
             ],
             [
              0.2222222222222222,
              "#7201a8"
             ],
             [
              0.3333333333333333,
              "#9c179e"
             ],
             [
              0.4444444444444444,
              "#bd3786"
             ],
             [
              0.5555555555555556,
              "#d8576b"
             ],
             [
              0.6666666666666666,
              "#ed7953"
             ],
             [
              0.7777777777777778,
              "#fb9f3a"
             ],
             [
              0.8888888888888888,
              "#fdca26"
             ],
             [
              1,
              "#f0f921"
             ]
            ],
            "type": "contour"
           }
          ],
          "contourcarpet": [
           {
            "colorbar": {
             "outlinewidth": 0,
             "ticks": ""
            },
            "type": "contourcarpet"
           }
          ],
          "heatmap": [
           {
            "colorbar": {
             "outlinewidth": 0,
             "ticks": ""
            },
            "colorscale": [
             [
              0,
              "#0d0887"
             ],
             [
              0.1111111111111111,
              "#46039f"
             ],
             [
              0.2222222222222222,
              "#7201a8"
             ],
             [
              0.3333333333333333,
              "#9c179e"
             ],
             [
              0.4444444444444444,
              "#bd3786"
             ],
             [
              0.5555555555555556,
              "#d8576b"
             ],
             [
              0.6666666666666666,
              "#ed7953"
             ],
             [
              0.7777777777777778,
              "#fb9f3a"
             ],
             [
              0.8888888888888888,
              "#fdca26"
             ],
             [
              1,
              "#f0f921"
             ]
            ],
            "type": "heatmap"
           }
          ],
          "histogram": [
           {
            "marker": {
             "pattern": {
              "fillmode": "overlay",
              "size": 10,
              "solidity": 0.2
             }
            },
            "type": "histogram"
           }
          ],
          "histogram2d": [
           {
            "colorbar": {
             "outlinewidth": 0,
             "ticks": ""
            },
            "colorscale": [
             [
              0,
              "#0d0887"
             ],
             [
              0.1111111111111111,
              "#46039f"
             ],
             [
              0.2222222222222222,
              "#7201a8"
             ],
             [
              0.3333333333333333,
              "#9c179e"
             ],
             [
              0.4444444444444444,
              "#bd3786"
             ],
             [
              0.5555555555555556,
              "#d8576b"
             ],
             [
              0.6666666666666666,
              "#ed7953"
             ],
             [
              0.7777777777777778,
              "#fb9f3a"
             ],
             [
              0.8888888888888888,
              "#fdca26"
             ],
             [
              1,
              "#f0f921"
             ]
            ],
            "type": "histogram2d"
           }
          ],
          "histogram2dcontour": [
           {
            "colorbar": {
             "outlinewidth": 0,
             "ticks": ""
            },
            "colorscale": [
             [
              0,
              "#0d0887"
             ],
             [
              0.1111111111111111,
              "#46039f"
             ],
             [
              0.2222222222222222,
              "#7201a8"
             ],
             [
              0.3333333333333333,
              "#9c179e"
             ],
             [
              0.4444444444444444,
              "#bd3786"
             ],
             [
              0.5555555555555556,
              "#d8576b"
             ],
             [
              0.6666666666666666,
              "#ed7953"
             ],
             [
              0.7777777777777778,
              "#fb9f3a"
             ],
             [
              0.8888888888888888,
              "#fdca26"
             ],
             [
              1,
              "#f0f921"
             ]
            ],
            "type": "histogram2dcontour"
           }
          ],
          "mesh3d": [
           {
            "colorbar": {
             "outlinewidth": 0,
             "ticks": ""
            },
            "type": "mesh3d"
           }
          ],
          "parcoords": [
           {
            "line": {
             "colorbar": {
              "outlinewidth": 0,
              "ticks": ""
             }
            },
            "type": "parcoords"
           }
          ],
          "pie": [
           {
            "automargin": true,
            "type": "pie"
           }
          ],
          "scatter": [
           {
            "fillpattern": {
             "fillmode": "overlay",
             "size": 10,
             "solidity": 0.2
            },
            "type": "scatter"
           }
          ],
          "scatter3d": [
           {
            "line": {
             "colorbar": {
              "outlinewidth": 0,
              "ticks": ""
             }
            },
            "marker": {
             "colorbar": {
              "outlinewidth": 0,
              "ticks": ""
             }
            },
            "type": "scatter3d"
           }
          ],
          "scattercarpet": [
           {
            "marker": {
             "colorbar": {
              "outlinewidth": 0,
              "ticks": ""
             }
            },
            "type": "scattercarpet"
           }
          ],
          "scattergeo": [
           {
            "marker": {
             "colorbar": {
              "outlinewidth": 0,
              "ticks": ""
             }
            },
            "type": "scattergeo"
           }
          ],
          "scattergl": [
           {
            "marker": {
             "colorbar": {
              "outlinewidth": 0,
              "ticks": ""
             }
            },
            "type": "scattergl"
           }
          ],
          "scattermap": [
           {
            "marker": {
             "colorbar": {
              "outlinewidth": 0,
              "ticks": ""
             }
            },
            "type": "scattermap"
           }
          ],
          "scattermapbox": [
           {
            "marker": {
             "colorbar": {
              "outlinewidth": 0,
              "ticks": ""
             }
            },
            "type": "scattermapbox"
           }
          ],
          "scatterpolar": [
           {
            "marker": {
             "colorbar": {
              "outlinewidth": 0,
              "ticks": ""
             }
            },
            "type": "scatterpolar"
           }
          ],
          "scatterpolargl": [
           {
            "marker": {
             "colorbar": {
              "outlinewidth": 0,
              "ticks": ""
             }
            },
            "type": "scatterpolargl"
           }
          ],
          "scatterternary": [
           {
            "marker": {
             "colorbar": {
              "outlinewidth": 0,
              "ticks": ""
             }
            },
            "type": "scatterternary"
           }
          ],
          "surface": [
           {
            "colorbar": {
             "outlinewidth": 0,
             "ticks": ""
            },
            "colorscale": [
             [
              0,
              "#0d0887"
             ],
             [
              0.1111111111111111,
              "#46039f"
             ],
             [
              0.2222222222222222,
              "#7201a8"
             ],
             [
              0.3333333333333333,
              "#9c179e"
             ],
             [
              0.4444444444444444,
              "#bd3786"
             ],
             [
              0.5555555555555556,
              "#d8576b"
             ],
             [
              0.6666666666666666,
              "#ed7953"
             ],
             [
              0.7777777777777778,
              "#fb9f3a"
             ],
             [
              0.8888888888888888,
              "#fdca26"
             ],
             [
              1,
              "#f0f921"
             ]
            ],
            "type": "surface"
           }
          ],
          "table": [
           {
            "cells": {
             "fill": {
              "color": "#EBF0F8"
             },
             "line": {
              "color": "white"
             }
            },
            "header": {
             "fill": {
              "color": "#C8D4E3"
             },
             "line": {
              "color": "white"
             }
            },
            "type": "table"
           }
          ]
         },
         "layout": {
          "annotationdefaults": {
           "arrowcolor": "#2a3f5f",
           "arrowhead": 0,
           "arrowwidth": 1
          },
          "autotypenumbers": "strict",
          "coloraxis": {
           "colorbar": {
            "outlinewidth": 0,
            "ticks": ""
           }
          },
          "colorscale": {
           "diverging": [
            [
             0,
             "#8e0152"
            ],
            [
             0.1,
             "#c51b7d"
            ],
            [
             0.2,
             "#de77ae"
            ],
            [
             0.3,
             "#f1b6da"
            ],
            [
             0.4,
             "#fde0ef"
            ],
            [
             0.5,
             "#f7f7f7"
            ],
            [
             0.6,
             "#e6f5d0"
            ],
            [
             0.7,
             "#b8e186"
            ],
            [
             0.8,
             "#7fbc41"
            ],
            [
             0.9,
             "#4d9221"
            ],
            [
             1,
             "#276419"
            ]
           ],
           "sequential": [
            [
             0,
             "#0d0887"
            ],
            [
             0.1111111111111111,
             "#46039f"
            ],
            [
             0.2222222222222222,
             "#7201a8"
            ],
            [
             0.3333333333333333,
             "#9c179e"
            ],
            [
             0.4444444444444444,
             "#bd3786"
            ],
            [
             0.5555555555555556,
             "#d8576b"
            ],
            [
             0.6666666666666666,
             "#ed7953"
            ],
            [
             0.7777777777777778,
             "#fb9f3a"
            ],
            [
             0.8888888888888888,
             "#fdca26"
            ],
            [
             1,
             "#f0f921"
            ]
           ],
           "sequentialminus": [
            [
             0,
             "#0d0887"
            ],
            [
             0.1111111111111111,
             "#46039f"
            ],
            [
             0.2222222222222222,
             "#7201a8"
            ],
            [
             0.3333333333333333,
             "#9c179e"
            ],
            [
             0.4444444444444444,
             "#bd3786"
            ],
            [
             0.5555555555555556,
             "#d8576b"
            ],
            [
             0.6666666666666666,
             "#ed7953"
            ],
            [
             0.7777777777777778,
             "#fb9f3a"
            ],
            [
             0.8888888888888888,
             "#fdca26"
            ],
            [
             1,
             "#f0f921"
            ]
           ]
          },
          "colorway": [
           "#636efa",
           "#EF553B",
           "#00cc96",
           "#ab63fa",
           "#FFA15A",
           "#19d3f3",
           "#FF6692",
           "#B6E880",
           "#FF97FF",
           "#FECB52"
          ],
          "font": {
           "color": "#2a3f5f"
          },
          "geo": {
           "bgcolor": "white",
           "lakecolor": "white",
           "landcolor": "#E5ECF6",
           "showlakes": true,
           "showland": true,
           "subunitcolor": "white"
          },
          "hoverlabel": {
           "align": "left"
          },
          "hovermode": "closest",
          "mapbox": {
           "style": "light"
          },
          "paper_bgcolor": "white",
          "plot_bgcolor": "#E5ECF6",
          "polar": {
           "angularaxis": {
            "gridcolor": "white",
            "linecolor": "white",
            "ticks": ""
           },
           "bgcolor": "#E5ECF6",
           "radialaxis": {
            "gridcolor": "white",
            "linecolor": "white",
            "ticks": ""
           }
          },
          "scene": {
           "xaxis": {
            "backgroundcolor": "#E5ECF6",
            "gridcolor": "white",
            "gridwidth": 2,
            "linecolor": "white",
            "showbackground": true,
            "ticks": "",
            "zerolinecolor": "white"
           },
           "yaxis": {
            "backgroundcolor": "#E5ECF6",
            "gridcolor": "white",
            "gridwidth": 2,
            "linecolor": "white",
            "showbackground": true,
            "ticks": "",
            "zerolinecolor": "white"
           },
           "zaxis": {
            "backgroundcolor": "#E5ECF6",
            "gridcolor": "white",
            "gridwidth": 2,
            "linecolor": "white",
            "showbackground": true,
            "ticks": "",
            "zerolinecolor": "white"
           }
          },
          "shapedefaults": {
           "line": {
            "color": "#2a3f5f"
           }
          },
          "ternary": {
           "aaxis": {
            "gridcolor": "white",
            "linecolor": "white",
            "ticks": ""
           },
           "baxis": {
            "gridcolor": "white",
            "linecolor": "white",
            "ticks": ""
           },
           "bgcolor": "#E5ECF6",
           "caxis": {
            "gridcolor": "white",
            "linecolor": "white",
            "ticks": ""
           }
          },
          "title": {
           "x": 0.05
          },
          "xaxis": {
           "automargin": true,
           "gridcolor": "white",
           "linecolor": "white",
           "ticks": "",
           "title": {
            "standoff": 15
           },
           "zerolinecolor": "white",
           "zerolinewidth": 2
          },
          "yaxis": {
           "automargin": true,
           "gridcolor": "white",
           "linecolor": "white",
           "ticks": "",
           "title": {
            "standoff": 15
           },
           "zerolinecolor": "white",
           "zerolinewidth": 2
          }
         }
        },
        "title": {
         "text": "Average Views by Chapters Buckets"
        },
        "width": 900,
        "xaxis": {
         "tickangle": -15,
         "title": {
          "text": "Chapters Buckets (Equal Sized Groups)"
         }
        },
        "yaxis": {
         "title": {
          "text": "Average Views"
         },
         "type": "log"
        }
       }
      }
     },
     "metadata": {},
     "output_type": "display_data"
    },
    {
     "data": {
      "application/vnd.plotly.v1+json": {
       "config": {
        "plotlyServerURL": "https://plot.ly"
       },
       "data": [
        {
         "hovertemplate": "%{x}<br>%{y:,.2f} rating<extra></extra>",
         "name": "rating",
         "text": {
          "bdata": "H4XrUbgeEkB7FK5H4XoSQEjhehSuRxJAKVyPwvUoEkAK16NwPQoSQNejcD0K1xFArkfhehSuEUAAAAAAAAASQLgehetRuBFApHA9CtejEEA=",
          "dtype": "f8"
         },
         "textposition": "auto",
         "type": "bar",
         "x": [
          "Bucket 1<br>(15.0 to 40.0)",
          "Bucket 2<br>(47.0 to 56.0)",
          "Bucket 3<br>(57.0 to 65.0)",
          "Bucket 4<br>(66.0 to 76.0)",
          "Bucket 5<br>(78.0 to 100.0)",
          "Bucket 6<br>(101.0 to 122.0)",
          "Bucket 7<br>(127.0 to 160.0)",
          "Bucket 8<br>(161.0 to 214.0)",
          "Bucket 9<br>(216.0 to 265.0)",
          "Bucket 10<br>(291.0 to 999.0)"
         ],
         "y": {
          "bdata": "I/414l8jEkAAAAAAAIASQERNP9T0QxJAJ5JxIhknEkAOdNpApw0SQCYxCKwc2hFArH3D2jesEUDm0CLb+f4RQGiR7Xw/tRFApwR5SpCnEEA=",
          "dtype": "f8"
         }
        }
       ],
       "layout": {
        "height": 500,
        "margin": {
         "b": 80
        },
        "template": {
         "data": {
          "bar": [
           {
            "error_x": {
             "color": "#2a3f5f"
            },
            "error_y": {
             "color": "#2a3f5f"
            },
            "marker": {
             "line": {
              "color": "#E5ECF6",
              "width": 0.5
             },
             "pattern": {
              "fillmode": "overlay",
              "size": 10,
              "solidity": 0.2
             }
            },
            "type": "bar"
           }
          ],
          "barpolar": [
           {
            "marker": {
             "line": {
              "color": "#E5ECF6",
              "width": 0.5
             },
             "pattern": {
              "fillmode": "overlay",
              "size": 10,
              "solidity": 0.2
             }
            },
            "type": "barpolar"
           }
          ],
          "carpet": [
           {
            "aaxis": {
             "endlinecolor": "#2a3f5f",
             "gridcolor": "white",
             "linecolor": "white",
             "minorgridcolor": "white",
             "startlinecolor": "#2a3f5f"
            },
            "baxis": {
             "endlinecolor": "#2a3f5f",
             "gridcolor": "white",
             "linecolor": "white",
             "minorgridcolor": "white",
             "startlinecolor": "#2a3f5f"
            },
            "type": "carpet"
           }
          ],
          "choropleth": [
           {
            "colorbar": {
             "outlinewidth": 0,
             "ticks": ""
            },
            "type": "choropleth"
           }
          ],
          "contour": [
           {
            "colorbar": {
             "outlinewidth": 0,
             "ticks": ""
            },
            "colorscale": [
             [
              0,
              "#0d0887"
             ],
             [
              0.1111111111111111,
              "#46039f"
             ],
             [
              0.2222222222222222,
              "#7201a8"
             ],
             [
              0.3333333333333333,
              "#9c179e"
             ],
             [
              0.4444444444444444,
              "#bd3786"
             ],
             [
              0.5555555555555556,
              "#d8576b"
             ],
             [
              0.6666666666666666,
              "#ed7953"
             ],
             [
              0.7777777777777778,
              "#fb9f3a"
             ],
             [
              0.8888888888888888,
              "#fdca26"
             ],
             [
              1,
              "#f0f921"
             ]
            ],
            "type": "contour"
           }
          ],
          "contourcarpet": [
           {
            "colorbar": {
             "outlinewidth": 0,
             "ticks": ""
            },
            "type": "contourcarpet"
           }
          ],
          "heatmap": [
           {
            "colorbar": {
             "outlinewidth": 0,
             "ticks": ""
            },
            "colorscale": [
             [
              0,
              "#0d0887"
             ],
             [
              0.1111111111111111,
              "#46039f"
             ],
             [
              0.2222222222222222,
              "#7201a8"
             ],
             [
              0.3333333333333333,
              "#9c179e"
             ],
             [
              0.4444444444444444,
              "#bd3786"
             ],
             [
              0.5555555555555556,
              "#d8576b"
             ],
             [
              0.6666666666666666,
              "#ed7953"
             ],
             [
              0.7777777777777778,
              "#fb9f3a"
             ],
             [
              0.8888888888888888,
              "#fdca26"
             ],
             [
              1,
              "#f0f921"
             ]
            ],
            "type": "heatmap"
           }
          ],
          "histogram": [
           {
            "marker": {
             "pattern": {
              "fillmode": "overlay",
              "size": 10,
              "solidity": 0.2
             }
            },
            "type": "histogram"
           }
          ],
          "histogram2d": [
           {
            "colorbar": {
             "outlinewidth": 0,
             "ticks": ""
            },
            "colorscale": [
             [
              0,
              "#0d0887"
             ],
             [
              0.1111111111111111,
              "#46039f"
             ],
             [
              0.2222222222222222,
              "#7201a8"
             ],
             [
              0.3333333333333333,
              "#9c179e"
             ],
             [
              0.4444444444444444,
              "#bd3786"
             ],
             [
              0.5555555555555556,
              "#d8576b"
             ],
             [
              0.6666666666666666,
              "#ed7953"
             ],
             [
              0.7777777777777778,
              "#fb9f3a"
             ],
             [
              0.8888888888888888,
              "#fdca26"
             ],
             [
              1,
              "#f0f921"
             ]
            ],
            "type": "histogram2d"
           }
          ],
          "histogram2dcontour": [
           {
            "colorbar": {
             "outlinewidth": 0,
             "ticks": ""
            },
            "colorscale": [
             [
              0,
              "#0d0887"
             ],
             [
              0.1111111111111111,
              "#46039f"
             ],
             [
              0.2222222222222222,
              "#7201a8"
             ],
             [
              0.3333333333333333,
              "#9c179e"
             ],
             [
              0.4444444444444444,
              "#bd3786"
             ],
             [
              0.5555555555555556,
              "#d8576b"
             ],
             [
              0.6666666666666666,
              "#ed7953"
             ],
             [
              0.7777777777777778,
              "#fb9f3a"
             ],
             [
              0.8888888888888888,
              "#fdca26"
             ],
             [
              1,
              "#f0f921"
             ]
            ],
            "type": "histogram2dcontour"
           }
          ],
          "mesh3d": [
           {
            "colorbar": {
             "outlinewidth": 0,
             "ticks": ""
            },
            "type": "mesh3d"
           }
          ],
          "parcoords": [
           {
            "line": {
             "colorbar": {
              "outlinewidth": 0,
              "ticks": ""
             }
            },
            "type": "parcoords"
           }
          ],
          "pie": [
           {
            "automargin": true,
            "type": "pie"
           }
          ],
          "scatter": [
           {
            "fillpattern": {
             "fillmode": "overlay",
             "size": 10,
             "solidity": 0.2
            },
            "type": "scatter"
           }
          ],
          "scatter3d": [
           {
            "line": {
             "colorbar": {
              "outlinewidth": 0,
              "ticks": ""
             }
            },
            "marker": {
             "colorbar": {
              "outlinewidth": 0,
              "ticks": ""
             }
            },
            "type": "scatter3d"
           }
          ],
          "scattercarpet": [
           {
            "marker": {
             "colorbar": {
              "outlinewidth": 0,
              "ticks": ""
             }
            },
            "type": "scattercarpet"
           }
          ],
          "scattergeo": [
           {
            "marker": {
             "colorbar": {
              "outlinewidth": 0,
              "ticks": ""
             }
            },
            "type": "scattergeo"
           }
          ],
          "scattergl": [
           {
            "marker": {
             "colorbar": {
              "outlinewidth": 0,
              "ticks": ""
             }
            },
            "type": "scattergl"
           }
          ],
          "scattermap": [
           {
            "marker": {
             "colorbar": {
              "outlinewidth": 0,
              "ticks": ""
             }
            },
            "type": "scattermap"
           }
          ],
          "scattermapbox": [
           {
            "marker": {
             "colorbar": {
              "outlinewidth": 0,
              "ticks": ""
             }
            },
            "type": "scattermapbox"
           }
          ],
          "scatterpolar": [
           {
            "marker": {
             "colorbar": {
              "outlinewidth": 0,
              "ticks": ""
             }
            },
            "type": "scatterpolar"
           }
          ],
          "scatterpolargl": [
           {
            "marker": {
             "colorbar": {
              "outlinewidth": 0,
              "ticks": ""
             }
            },
            "type": "scatterpolargl"
           }
          ],
          "scatterternary": [
           {
            "marker": {
             "colorbar": {
              "outlinewidth": 0,
              "ticks": ""
             }
            },
            "type": "scatterternary"
           }
          ],
          "surface": [
           {
            "colorbar": {
             "outlinewidth": 0,
             "ticks": ""
            },
            "colorscale": [
             [
              0,
              "#0d0887"
             ],
             [
              0.1111111111111111,
              "#46039f"
             ],
             [
              0.2222222222222222,
              "#7201a8"
             ],
             [
              0.3333333333333333,
              "#9c179e"
             ],
             [
              0.4444444444444444,
              "#bd3786"
             ],
             [
              0.5555555555555556,
              "#d8576b"
             ],
             [
              0.6666666666666666,
              "#ed7953"
             ],
             [
              0.7777777777777778,
              "#fb9f3a"
             ],
             [
              0.8888888888888888,
              "#fdca26"
             ],
             [
              1,
              "#f0f921"
             ]
            ],
            "type": "surface"
           }
          ],
          "table": [
           {
            "cells": {
             "fill": {
              "color": "#EBF0F8"
             },
             "line": {
              "color": "white"
             }
            },
            "header": {
             "fill": {
              "color": "#C8D4E3"
             },
             "line": {
              "color": "white"
             }
            },
            "type": "table"
           }
          ]
         },
         "layout": {
          "annotationdefaults": {
           "arrowcolor": "#2a3f5f",
           "arrowhead": 0,
           "arrowwidth": 1
          },
          "autotypenumbers": "strict",
          "coloraxis": {
           "colorbar": {
            "outlinewidth": 0,
            "ticks": ""
           }
          },
          "colorscale": {
           "diverging": [
            [
             0,
             "#8e0152"
            ],
            [
             0.1,
             "#c51b7d"
            ],
            [
             0.2,
             "#de77ae"
            ],
            [
             0.3,
             "#f1b6da"
            ],
            [
             0.4,
             "#fde0ef"
            ],
            [
             0.5,
             "#f7f7f7"
            ],
            [
             0.6,
             "#e6f5d0"
            ],
            [
             0.7,
             "#b8e186"
            ],
            [
             0.8,
             "#7fbc41"
            ],
            [
             0.9,
             "#4d9221"
            ],
            [
             1,
             "#276419"
            ]
           ],
           "sequential": [
            [
             0,
             "#0d0887"
            ],
            [
             0.1111111111111111,
             "#46039f"
            ],
            [
             0.2222222222222222,
             "#7201a8"
            ],
            [
             0.3333333333333333,
             "#9c179e"
            ],
            [
             0.4444444444444444,
             "#bd3786"
            ],
            [
             0.5555555555555556,
             "#d8576b"
            ],
            [
             0.6666666666666666,
             "#ed7953"
            ],
            [
             0.7777777777777778,
             "#fb9f3a"
            ],
            [
             0.8888888888888888,
             "#fdca26"
            ],
            [
             1,
             "#f0f921"
            ]
           ],
           "sequentialminus": [
            [
             0,
             "#0d0887"
            ],
            [
             0.1111111111111111,
             "#46039f"
            ],
            [
             0.2222222222222222,
             "#7201a8"
            ],
            [
             0.3333333333333333,
             "#9c179e"
            ],
            [
             0.4444444444444444,
             "#bd3786"
            ],
            [
             0.5555555555555556,
             "#d8576b"
            ],
            [
             0.6666666666666666,
             "#ed7953"
            ],
            [
             0.7777777777777778,
             "#fb9f3a"
            ],
            [
             0.8888888888888888,
             "#fdca26"
            ],
            [
             1,
             "#f0f921"
            ]
           ]
          },
          "colorway": [
           "#636efa",
           "#EF553B",
           "#00cc96",
           "#ab63fa",
           "#FFA15A",
           "#19d3f3",
           "#FF6692",
           "#B6E880",
           "#FF97FF",
           "#FECB52"
          ],
          "font": {
           "color": "#2a3f5f"
          },
          "geo": {
           "bgcolor": "white",
           "lakecolor": "white",
           "landcolor": "#E5ECF6",
           "showlakes": true,
           "showland": true,
           "subunitcolor": "white"
          },
          "hoverlabel": {
           "align": "left"
          },
          "hovermode": "closest",
          "mapbox": {
           "style": "light"
          },
          "paper_bgcolor": "white",
          "plot_bgcolor": "#E5ECF6",
          "polar": {
           "angularaxis": {
            "gridcolor": "white",
            "linecolor": "white",
            "ticks": ""
           },
           "bgcolor": "#E5ECF6",
           "radialaxis": {
            "gridcolor": "white",
            "linecolor": "white",
            "ticks": ""
           }
          },
          "scene": {
           "xaxis": {
            "backgroundcolor": "#E5ECF6",
            "gridcolor": "white",
            "gridwidth": 2,
            "linecolor": "white",
            "showbackground": true,
            "ticks": "",
            "zerolinecolor": "white"
           },
           "yaxis": {
            "backgroundcolor": "#E5ECF6",
            "gridcolor": "white",
            "gridwidth": 2,
            "linecolor": "white",
            "showbackground": true,
            "ticks": "",
            "zerolinecolor": "white"
           },
           "zaxis": {
            "backgroundcolor": "#E5ECF6",
            "gridcolor": "white",
            "gridwidth": 2,
            "linecolor": "white",
            "showbackground": true,
            "ticks": "",
            "zerolinecolor": "white"
           }
          },
          "shapedefaults": {
           "line": {
            "color": "#2a3f5f"
           }
          },
          "ternary": {
           "aaxis": {
            "gridcolor": "white",
            "linecolor": "white",
            "ticks": ""
           },
           "baxis": {
            "gridcolor": "white",
            "linecolor": "white",
            "ticks": ""
           },
           "bgcolor": "#E5ECF6",
           "caxis": {
            "gridcolor": "white",
            "linecolor": "white",
            "ticks": ""
           }
          },
          "title": {
           "x": 0.05
          },
          "xaxis": {
           "automargin": true,
           "gridcolor": "white",
           "linecolor": "white",
           "ticks": "",
           "title": {
            "standoff": 15
           },
           "zerolinecolor": "white",
           "zerolinewidth": 2
          },
          "yaxis": {
           "automargin": true,
           "gridcolor": "white",
           "linecolor": "white",
           "ticks": "",
           "title": {
            "standoff": 15
           },
           "zerolinecolor": "white",
           "zerolinewidth": 2
          }
         }
        },
        "title": {
         "text": "Average Rating by Chapters Buckets"
        },
        "width": 900,
        "xaxis": {
         "tickangle": -15,
         "title": {
          "text": "Chapters Buckets (Equal Sized Groups)"
         }
        },
        "yaxis": {
         "title": {
          "text": "Average Rating"
         }
        }
       }
      }
     },
     "metadata": {},
     "output_type": "display_data"
    },
    {
     "data": {
      "application/vnd.plotly.v1+json": {
       "config": {
        "plotlyServerURL": "https://plot.ly"
       },
       "data": [
        {
         "hovertemplate": "%{x}<br>%{y:,.2f} followers<extra></extra>",
         "name": "followers",
         "text": {
          "bdata": "H4XrUbi4hkDNzMzMzEqYQFyPwvUoYo9ASOF6FC7soEDD9ShcjzWkQM3MzMzM5qlA4XoUrkcfjUAzMzMzM1ypQGZmZmZmbJ9A4XoUrkcpq0A=",
          "dtype": "f8"
         },
         "textposition": "auto",
         "type": "bar",
         "x": [
          "Bucket 1<br>(15.0 to 40.0)",
          "Bucket 2<br>(47.0 to 56.0)",
          "Bucket 3<br>(57.0 to 65.0)",
          "Bucket 4<br>(66.0 to 76.0)",
          "Bucket 5<br>(78.0 to 100.0)",
          "Bucket 6<br>(101.0 to 122.0)",
          "Bucket 7<br>(127.0 to 160.0)",
          "Bucket 8<br>(161.0 to 214.0)",
          "Bucket 9<br>(216.0 to 265.0)",
          "Bucket 10<br>(291.0 to 999.0)"
         ],
         "y": {
          "bdata": "6aKLLrq4hkDNzMzMzEqYQLrooosuYo9Auuiiiy7soEA5juM4jjWkQM3MzMzM5qlAF1100UUfjUAzMzMzM1ypQGZmZmZmbJ9AF1100UUpq0A=",
          "dtype": "f8"
         }
        }
       ],
       "layout": {
        "height": 500,
        "margin": {
         "b": 80
        },
        "template": {
         "data": {
          "bar": [
           {
            "error_x": {
             "color": "#2a3f5f"
            },
            "error_y": {
             "color": "#2a3f5f"
            },
            "marker": {
             "line": {
              "color": "#E5ECF6",
              "width": 0.5
             },
             "pattern": {
              "fillmode": "overlay",
              "size": 10,
              "solidity": 0.2
             }
            },
            "type": "bar"
           }
          ],
          "barpolar": [
           {
            "marker": {
             "line": {
              "color": "#E5ECF6",
              "width": 0.5
             },
             "pattern": {
              "fillmode": "overlay",
              "size": 10,
              "solidity": 0.2
             }
            },
            "type": "barpolar"
           }
          ],
          "carpet": [
           {
            "aaxis": {
             "endlinecolor": "#2a3f5f",
             "gridcolor": "white",
             "linecolor": "white",
             "minorgridcolor": "white",
             "startlinecolor": "#2a3f5f"
            },
            "baxis": {
             "endlinecolor": "#2a3f5f",
             "gridcolor": "white",
             "linecolor": "white",
             "minorgridcolor": "white",
             "startlinecolor": "#2a3f5f"
            },
            "type": "carpet"
           }
          ],
          "choropleth": [
           {
            "colorbar": {
             "outlinewidth": 0,
             "ticks": ""
            },
            "type": "choropleth"
           }
          ],
          "contour": [
           {
            "colorbar": {
             "outlinewidth": 0,
             "ticks": ""
            },
            "colorscale": [
             [
              0,
              "#0d0887"
             ],
             [
              0.1111111111111111,
              "#46039f"
             ],
             [
              0.2222222222222222,
              "#7201a8"
             ],
             [
              0.3333333333333333,
              "#9c179e"
             ],
             [
              0.4444444444444444,
              "#bd3786"
             ],
             [
              0.5555555555555556,
              "#d8576b"
             ],
             [
              0.6666666666666666,
              "#ed7953"
             ],
             [
              0.7777777777777778,
              "#fb9f3a"
             ],
             [
              0.8888888888888888,
              "#fdca26"
             ],
             [
              1,
              "#f0f921"
             ]
            ],
            "type": "contour"
           }
          ],
          "contourcarpet": [
           {
            "colorbar": {
             "outlinewidth": 0,
             "ticks": ""
            },
            "type": "contourcarpet"
           }
          ],
          "heatmap": [
           {
            "colorbar": {
             "outlinewidth": 0,
             "ticks": ""
            },
            "colorscale": [
             [
              0,
              "#0d0887"
             ],
             [
              0.1111111111111111,
              "#46039f"
             ],
             [
              0.2222222222222222,
              "#7201a8"
             ],
             [
              0.3333333333333333,
              "#9c179e"
             ],
             [
              0.4444444444444444,
              "#bd3786"
             ],
             [
              0.5555555555555556,
              "#d8576b"
             ],
             [
              0.6666666666666666,
              "#ed7953"
             ],
             [
              0.7777777777777778,
              "#fb9f3a"
             ],
             [
              0.8888888888888888,
              "#fdca26"
             ],
             [
              1,
              "#f0f921"
             ]
            ],
            "type": "heatmap"
           }
          ],
          "histogram": [
           {
            "marker": {
             "pattern": {
              "fillmode": "overlay",
              "size": 10,
              "solidity": 0.2
             }
            },
            "type": "histogram"
           }
          ],
          "histogram2d": [
           {
            "colorbar": {
             "outlinewidth": 0,
             "ticks": ""
            },
            "colorscale": [
             [
              0,
              "#0d0887"
             ],
             [
              0.1111111111111111,
              "#46039f"
             ],
             [
              0.2222222222222222,
              "#7201a8"
             ],
             [
              0.3333333333333333,
              "#9c179e"
             ],
             [
              0.4444444444444444,
              "#bd3786"
             ],
             [
              0.5555555555555556,
              "#d8576b"
             ],
             [
              0.6666666666666666,
              "#ed7953"
             ],
             [
              0.7777777777777778,
              "#fb9f3a"
             ],
             [
              0.8888888888888888,
              "#fdca26"
             ],
             [
              1,
              "#f0f921"
             ]
            ],
            "type": "histogram2d"
           }
          ],
          "histogram2dcontour": [
           {
            "colorbar": {
             "outlinewidth": 0,
             "ticks": ""
            },
            "colorscale": [
             [
              0,
              "#0d0887"
             ],
             [
              0.1111111111111111,
              "#46039f"
             ],
             [
              0.2222222222222222,
              "#7201a8"
             ],
             [
              0.3333333333333333,
              "#9c179e"
             ],
             [
              0.4444444444444444,
              "#bd3786"
             ],
             [
              0.5555555555555556,
              "#d8576b"
             ],
             [
              0.6666666666666666,
              "#ed7953"
             ],
             [
              0.7777777777777778,
              "#fb9f3a"
             ],
             [
              0.8888888888888888,
              "#fdca26"
             ],
             [
              1,
              "#f0f921"
             ]
            ],
            "type": "histogram2dcontour"
           }
          ],
          "mesh3d": [
           {
            "colorbar": {
             "outlinewidth": 0,
             "ticks": ""
            },
            "type": "mesh3d"
           }
          ],
          "parcoords": [
           {
            "line": {
             "colorbar": {
              "outlinewidth": 0,
              "ticks": ""
             }
            },
            "type": "parcoords"
           }
          ],
          "pie": [
           {
            "automargin": true,
            "type": "pie"
           }
          ],
          "scatter": [
           {
            "fillpattern": {
             "fillmode": "overlay",
             "size": 10,
             "solidity": 0.2
            },
            "type": "scatter"
           }
          ],
          "scatter3d": [
           {
            "line": {
             "colorbar": {
              "outlinewidth": 0,
              "ticks": ""
             }
            },
            "marker": {
             "colorbar": {
              "outlinewidth": 0,
              "ticks": ""
             }
            },
            "type": "scatter3d"
           }
          ],
          "scattercarpet": [
           {
            "marker": {
             "colorbar": {
              "outlinewidth": 0,
              "ticks": ""
             }
            },
            "type": "scattercarpet"
           }
          ],
          "scattergeo": [
           {
            "marker": {
             "colorbar": {
              "outlinewidth": 0,
              "ticks": ""
             }
            },
            "type": "scattergeo"
           }
          ],
          "scattergl": [
           {
            "marker": {
             "colorbar": {
              "outlinewidth": 0,
              "ticks": ""
             }
            },
            "type": "scattergl"
           }
          ],
          "scattermap": [
           {
            "marker": {
             "colorbar": {
              "outlinewidth": 0,
              "ticks": ""
             }
            },
            "type": "scattermap"
           }
          ],
          "scattermapbox": [
           {
            "marker": {
             "colorbar": {
              "outlinewidth": 0,
              "ticks": ""
             }
            },
            "type": "scattermapbox"
           }
          ],
          "scatterpolar": [
           {
            "marker": {
             "colorbar": {
              "outlinewidth": 0,
              "ticks": ""
             }
            },
            "type": "scatterpolar"
           }
          ],
          "scatterpolargl": [
           {
            "marker": {
             "colorbar": {
              "outlinewidth": 0,
              "ticks": ""
             }
            },
            "type": "scatterpolargl"
           }
          ],
          "scatterternary": [
           {
            "marker": {
             "colorbar": {
              "outlinewidth": 0,
              "ticks": ""
             }
            },
            "type": "scatterternary"
           }
          ],
          "surface": [
           {
            "colorbar": {
             "outlinewidth": 0,
             "ticks": ""
            },
            "colorscale": [
             [
              0,
              "#0d0887"
             ],
             [
              0.1111111111111111,
              "#46039f"
             ],
             [
              0.2222222222222222,
              "#7201a8"
             ],
             [
              0.3333333333333333,
              "#9c179e"
             ],
             [
              0.4444444444444444,
              "#bd3786"
             ],
             [
              0.5555555555555556,
              "#d8576b"
             ],
             [
              0.6666666666666666,
              "#ed7953"
             ],
             [
              0.7777777777777778,
              "#fb9f3a"
             ],
             [
              0.8888888888888888,
              "#fdca26"
             ],
             [
              1,
              "#f0f921"
             ]
            ],
            "type": "surface"
           }
          ],
          "table": [
           {
            "cells": {
             "fill": {
              "color": "#EBF0F8"
             },
             "line": {
              "color": "white"
             }
            },
            "header": {
             "fill": {
              "color": "#C8D4E3"
             },
             "line": {
              "color": "white"
             }
            },
            "type": "table"
           }
          ]
         },
         "layout": {
          "annotationdefaults": {
           "arrowcolor": "#2a3f5f",
           "arrowhead": 0,
           "arrowwidth": 1
          },
          "autotypenumbers": "strict",
          "coloraxis": {
           "colorbar": {
            "outlinewidth": 0,
            "ticks": ""
           }
          },
          "colorscale": {
           "diverging": [
            [
             0,
             "#8e0152"
            ],
            [
             0.1,
             "#c51b7d"
            ],
            [
             0.2,
             "#de77ae"
            ],
            [
             0.3,
             "#f1b6da"
            ],
            [
             0.4,
             "#fde0ef"
            ],
            [
             0.5,
             "#f7f7f7"
            ],
            [
             0.6,
             "#e6f5d0"
            ],
            [
             0.7,
             "#b8e186"
            ],
            [
             0.8,
             "#7fbc41"
            ],
            [
             0.9,
             "#4d9221"
            ],
            [
             1,
             "#276419"
            ]
           ],
           "sequential": [
            [
             0,
             "#0d0887"
            ],
            [
             0.1111111111111111,
             "#46039f"
            ],
            [
             0.2222222222222222,
             "#7201a8"
            ],
            [
             0.3333333333333333,
             "#9c179e"
            ],
            [
             0.4444444444444444,
             "#bd3786"
            ],
            [
             0.5555555555555556,
             "#d8576b"
            ],
            [
             0.6666666666666666,
             "#ed7953"
            ],
            [
             0.7777777777777778,
             "#fb9f3a"
            ],
            [
             0.8888888888888888,
             "#fdca26"
            ],
            [
             1,
             "#f0f921"
            ]
           ],
           "sequentialminus": [
            [
             0,
             "#0d0887"
            ],
            [
             0.1111111111111111,
             "#46039f"
            ],
            [
             0.2222222222222222,
             "#7201a8"
            ],
            [
             0.3333333333333333,
             "#9c179e"
            ],
            [
             0.4444444444444444,
             "#bd3786"
            ],
            [
             0.5555555555555556,
             "#d8576b"
            ],
            [
             0.6666666666666666,
             "#ed7953"
            ],
            [
             0.7777777777777778,
             "#fb9f3a"
            ],
            [
             0.8888888888888888,
             "#fdca26"
            ],
            [
             1,
             "#f0f921"
            ]
           ]
          },
          "colorway": [
           "#636efa",
           "#EF553B",
           "#00cc96",
           "#ab63fa",
           "#FFA15A",
           "#19d3f3",
           "#FF6692",
           "#B6E880",
           "#FF97FF",
           "#FECB52"
          ],
          "font": {
           "color": "#2a3f5f"
          },
          "geo": {
           "bgcolor": "white",
           "lakecolor": "white",
           "landcolor": "#E5ECF6",
           "showlakes": true,
           "showland": true,
           "subunitcolor": "white"
          },
          "hoverlabel": {
           "align": "left"
          },
          "hovermode": "closest",
          "mapbox": {
           "style": "light"
          },
          "paper_bgcolor": "white",
          "plot_bgcolor": "#E5ECF6",
          "polar": {
           "angularaxis": {
            "gridcolor": "white",
            "linecolor": "white",
            "ticks": ""
           },
           "bgcolor": "#E5ECF6",
           "radialaxis": {
            "gridcolor": "white",
            "linecolor": "white",
            "ticks": ""
           }
          },
          "scene": {
           "xaxis": {
            "backgroundcolor": "#E5ECF6",
            "gridcolor": "white",
            "gridwidth": 2,
            "linecolor": "white",
            "showbackground": true,
            "ticks": "",
            "zerolinecolor": "white"
           },
           "yaxis": {
            "backgroundcolor": "#E5ECF6",
            "gridcolor": "white",
            "gridwidth": 2,
            "linecolor": "white",
            "showbackground": true,
            "ticks": "",
            "zerolinecolor": "white"
           },
           "zaxis": {
            "backgroundcolor": "#E5ECF6",
            "gridcolor": "white",
            "gridwidth": 2,
            "linecolor": "white",
            "showbackground": true,
            "ticks": "",
            "zerolinecolor": "white"
           }
          },
          "shapedefaults": {
           "line": {
            "color": "#2a3f5f"
           }
          },
          "ternary": {
           "aaxis": {
            "gridcolor": "white",
            "linecolor": "white",
            "ticks": ""
           },
           "baxis": {
            "gridcolor": "white",
            "linecolor": "white",
            "ticks": ""
           },
           "bgcolor": "#E5ECF6",
           "caxis": {
            "gridcolor": "white",
            "linecolor": "white",
            "ticks": ""
           }
          },
          "title": {
           "x": 0.05
          },
          "xaxis": {
           "automargin": true,
           "gridcolor": "white",
           "linecolor": "white",
           "ticks": "",
           "title": {
            "standoff": 15
           },
           "zerolinecolor": "white",
           "zerolinewidth": 2
          },
          "yaxis": {
           "automargin": true,
           "gridcolor": "white",
           "linecolor": "white",
           "ticks": "",
           "title": {
            "standoff": 15
           },
           "zerolinecolor": "white",
           "zerolinewidth": 2
          }
         }
        },
        "title": {
         "text": "Average Followers by Chapters Buckets"
        },
        "width": 900,
        "xaxis": {
         "tickangle": -15,
         "title": {
          "text": "Chapters Buckets (Equal Sized Groups)"
         }
        },
        "yaxis": {
         "title": {
          "text": "Average Followers"
         },
         "type": "log"
        }
       }
      }
     },
     "metadata": {},
     "output_type": "display_data"
    },
    {
     "name": "stderr",
     "output_type": "stream",
     "text": [
      "C:\\Users\\swapn\\AppData\\Local\\Temp\\ipykernel_10692\\2468123423.py:64: FutureWarning:\n",
      "\n",
      "The default of observed=False is deprecated and will be changed to True in a future version of pandas. Pass observed=False to retain current behavior or observed=True to adopt the future default and silence this warning.\n",
      "\n",
      "C:\\Users\\swapn\\AppData\\Local\\Temp\\ipykernel_10692\\2468123423.py:67: FutureWarning:\n",
      "\n",
      "The default of observed=False is deprecated and will be changed to True in a future version of pandas. Pass observed=False to retain current behavior or observed=True to adopt the future default and silence this warning.\n",
      "\n"
     ]
    },
    {
     "data": {
      "application/vnd.plotly.v1+json": {
       "config": {
        "plotlyServerURL": "https://plot.ly"
       },
       "data": [
        {
         "hovertemplate": "%{x}<br>%{y:,.2f} views<extra></extra>",
         "name": "views",
         "text": {
          "bdata": "FK5H4WJS/kAzMzMzG4r6QJqZmZkx7fFA7FG4Hs0jDkHNzMzMYl4dQTMzMzOfYAlBpHA9ipJcKEEAAAAAC3IhQZqZmRlx5zVBcT0KF1saSkE=",
          "dtype": "f8"
         },
         "textposition": "auto",
         "type": "bar",
         "x": [
          "Bucket 1<br>(127.0 to 288.0)",
          "Bucket 2<br>(293.0 to 426.0)",
          "Bucket 3<br>(440.0 to 486.0)",
          "Bucket 4<br>(498.0 to 614.0)",
          "Bucket 5<br>(651.0 to 705.0)",
          "Bucket 6<br>(710.0 to 888.0)",
          "Bucket 7<br>(907 to 1,097)",
          "Bucket 8<br>(1,129 to 1,497)",
          "Bucket 9<br>(1,532 to 2,228)",
          "Bucket 10<br>(2,275 to 6,154)"
         ],
         "y": {
          "bdata": "jC666GJS/kAzMzMzG4r6QJqZmZkx7fFAdNFFF80jDkHNzMzMYl4dQTMzMzOfYAlBuuiii5JcKEEAAAAAC3IhQZqZmRlx5zVBdNFFF1saSkE=",
          "dtype": "f8"
         }
        }
       ],
       "layout": {
        "height": 500,
        "margin": {
         "b": 80
        },
        "template": {
         "data": {
          "bar": [
           {
            "error_x": {
             "color": "#2a3f5f"
            },
            "error_y": {
             "color": "#2a3f5f"
            },
            "marker": {
             "line": {
              "color": "#E5ECF6",
              "width": 0.5
             },
             "pattern": {
              "fillmode": "overlay",
              "size": 10,
              "solidity": 0.2
             }
            },
            "type": "bar"
           }
          ],
          "barpolar": [
           {
            "marker": {
             "line": {
              "color": "#E5ECF6",
              "width": 0.5
             },
             "pattern": {
              "fillmode": "overlay",
              "size": 10,
              "solidity": 0.2
             }
            },
            "type": "barpolar"
           }
          ],
          "carpet": [
           {
            "aaxis": {
             "endlinecolor": "#2a3f5f",
             "gridcolor": "white",
             "linecolor": "white",
             "minorgridcolor": "white",
             "startlinecolor": "#2a3f5f"
            },
            "baxis": {
             "endlinecolor": "#2a3f5f",
             "gridcolor": "white",
             "linecolor": "white",
             "minorgridcolor": "white",
             "startlinecolor": "#2a3f5f"
            },
            "type": "carpet"
           }
          ],
          "choropleth": [
           {
            "colorbar": {
             "outlinewidth": 0,
             "ticks": ""
            },
            "type": "choropleth"
           }
          ],
          "contour": [
           {
            "colorbar": {
             "outlinewidth": 0,
             "ticks": ""
            },
            "colorscale": [
             [
              0,
              "#0d0887"
             ],
             [
              0.1111111111111111,
              "#46039f"
             ],
             [
              0.2222222222222222,
              "#7201a8"
             ],
             [
              0.3333333333333333,
              "#9c179e"
             ],
             [
              0.4444444444444444,
              "#bd3786"
             ],
             [
              0.5555555555555556,
              "#d8576b"
             ],
             [
              0.6666666666666666,
              "#ed7953"
             ],
             [
              0.7777777777777778,
              "#fb9f3a"
             ],
             [
              0.8888888888888888,
              "#fdca26"
             ],
             [
              1,
              "#f0f921"
             ]
            ],
            "type": "contour"
           }
          ],
          "contourcarpet": [
           {
            "colorbar": {
             "outlinewidth": 0,
             "ticks": ""
            },
            "type": "contourcarpet"
           }
          ],
          "heatmap": [
           {
            "colorbar": {
             "outlinewidth": 0,
             "ticks": ""
            },
            "colorscale": [
             [
              0,
              "#0d0887"
             ],
             [
              0.1111111111111111,
              "#46039f"
             ],
             [
              0.2222222222222222,
              "#7201a8"
             ],
             [
              0.3333333333333333,
              "#9c179e"
             ],
             [
              0.4444444444444444,
              "#bd3786"
             ],
             [
              0.5555555555555556,
              "#d8576b"
             ],
             [
              0.6666666666666666,
              "#ed7953"
             ],
             [
              0.7777777777777778,
              "#fb9f3a"
             ],
             [
              0.8888888888888888,
              "#fdca26"
             ],
             [
              1,
              "#f0f921"
             ]
            ],
            "type": "heatmap"
           }
          ],
          "histogram": [
           {
            "marker": {
             "pattern": {
              "fillmode": "overlay",
              "size": 10,
              "solidity": 0.2
             }
            },
            "type": "histogram"
           }
          ],
          "histogram2d": [
           {
            "colorbar": {
             "outlinewidth": 0,
             "ticks": ""
            },
            "colorscale": [
             [
              0,
              "#0d0887"
             ],
             [
              0.1111111111111111,
              "#46039f"
             ],
             [
              0.2222222222222222,
              "#7201a8"
             ],
             [
              0.3333333333333333,
              "#9c179e"
             ],
             [
              0.4444444444444444,
              "#bd3786"
             ],
             [
              0.5555555555555556,
              "#d8576b"
             ],
             [
              0.6666666666666666,
              "#ed7953"
             ],
             [
              0.7777777777777778,
              "#fb9f3a"
             ],
             [
              0.8888888888888888,
              "#fdca26"
             ],
             [
              1,
              "#f0f921"
             ]
            ],
            "type": "histogram2d"
           }
          ],
          "histogram2dcontour": [
           {
            "colorbar": {
             "outlinewidth": 0,
             "ticks": ""
            },
            "colorscale": [
             [
              0,
              "#0d0887"
             ],
             [
              0.1111111111111111,
              "#46039f"
             ],
             [
              0.2222222222222222,
              "#7201a8"
             ],
             [
              0.3333333333333333,
              "#9c179e"
             ],
             [
              0.4444444444444444,
              "#bd3786"
             ],
             [
              0.5555555555555556,
              "#d8576b"
             ],
             [
              0.6666666666666666,
              "#ed7953"
             ],
             [
              0.7777777777777778,
              "#fb9f3a"
             ],
             [
              0.8888888888888888,
              "#fdca26"
             ],
             [
              1,
              "#f0f921"
             ]
            ],
            "type": "histogram2dcontour"
           }
          ],
          "mesh3d": [
           {
            "colorbar": {
             "outlinewidth": 0,
             "ticks": ""
            },
            "type": "mesh3d"
           }
          ],
          "parcoords": [
           {
            "line": {
             "colorbar": {
              "outlinewidth": 0,
              "ticks": ""
             }
            },
            "type": "parcoords"
           }
          ],
          "pie": [
           {
            "automargin": true,
            "type": "pie"
           }
          ],
          "scatter": [
           {
            "fillpattern": {
             "fillmode": "overlay",
             "size": 10,
             "solidity": 0.2
            },
            "type": "scatter"
           }
          ],
          "scatter3d": [
           {
            "line": {
             "colorbar": {
              "outlinewidth": 0,
              "ticks": ""
             }
            },
            "marker": {
             "colorbar": {
              "outlinewidth": 0,
              "ticks": ""
             }
            },
            "type": "scatter3d"
           }
          ],
          "scattercarpet": [
           {
            "marker": {
             "colorbar": {
              "outlinewidth": 0,
              "ticks": ""
             }
            },
            "type": "scattercarpet"
           }
          ],
          "scattergeo": [
           {
            "marker": {
             "colorbar": {
              "outlinewidth": 0,
              "ticks": ""
             }
            },
            "type": "scattergeo"
           }
          ],
          "scattergl": [
           {
            "marker": {
             "colorbar": {
              "outlinewidth": 0,
              "ticks": ""
             }
            },
            "type": "scattergl"
           }
          ],
          "scattermap": [
           {
            "marker": {
             "colorbar": {
              "outlinewidth": 0,
              "ticks": ""
             }
            },
            "type": "scattermap"
           }
          ],
          "scattermapbox": [
           {
            "marker": {
             "colorbar": {
              "outlinewidth": 0,
              "ticks": ""
             }
            },
            "type": "scattermapbox"
           }
          ],
          "scatterpolar": [
           {
            "marker": {
             "colorbar": {
              "outlinewidth": 0,
              "ticks": ""
             }
            },
            "type": "scatterpolar"
           }
          ],
          "scatterpolargl": [
           {
            "marker": {
             "colorbar": {
              "outlinewidth": 0,
              "ticks": ""
             }
            },
            "type": "scatterpolargl"
           }
          ],
          "scatterternary": [
           {
            "marker": {
             "colorbar": {
              "outlinewidth": 0,
              "ticks": ""
             }
            },
            "type": "scatterternary"
           }
          ],
          "surface": [
           {
            "colorbar": {
             "outlinewidth": 0,
             "ticks": ""
            },
            "colorscale": [
             [
              0,
              "#0d0887"
             ],
             [
              0.1111111111111111,
              "#46039f"
             ],
             [
              0.2222222222222222,
              "#7201a8"
             ],
             [
              0.3333333333333333,
              "#9c179e"
             ],
             [
              0.4444444444444444,
              "#bd3786"
             ],
             [
              0.5555555555555556,
              "#d8576b"
             ],
             [
              0.6666666666666666,
              "#ed7953"
             ],
             [
              0.7777777777777778,
              "#fb9f3a"
             ],
             [
              0.8888888888888888,
              "#fdca26"
             ],
             [
              1,
              "#f0f921"
             ]
            ],
            "type": "surface"
           }
          ],
          "table": [
           {
            "cells": {
             "fill": {
              "color": "#EBF0F8"
             },
             "line": {
              "color": "white"
             }
            },
            "header": {
             "fill": {
              "color": "#C8D4E3"
             },
             "line": {
              "color": "white"
             }
            },
            "type": "table"
           }
          ]
         },
         "layout": {
          "annotationdefaults": {
           "arrowcolor": "#2a3f5f",
           "arrowhead": 0,
           "arrowwidth": 1
          },
          "autotypenumbers": "strict",
          "coloraxis": {
           "colorbar": {
            "outlinewidth": 0,
            "ticks": ""
           }
          },
          "colorscale": {
           "diverging": [
            [
             0,
             "#8e0152"
            ],
            [
             0.1,
             "#c51b7d"
            ],
            [
             0.2,
             "#de77ae"
            ],
            [
             0.3,
             "#f1b6da"
            ],
            [
             0.4,
             "#fde0ef"
            ],
            [
             0.5,
             "#f7f7f7"
            ],
            [
             0.6,
             "#e6f5d0"
            ],
            [
             0.7,
             "#b8e186"
            ],
            [
             0.8,
             "#7fbc41"
            ],
            [
             0.9,
             "#4d9221"
            ],
            [
             1,
             "#276419"
            ]
           ],
           "sequential": [
            [
             0,
             "#0d0887"
            ],
            [
             0.1111111111111111,
             "#46039f"
            ],
            [
             0.2222222222222222,
             "#7201a8"
            ],
            [
             0.3333333333333333,
             "#9c179e"
            ],
            [
             0.4444444444444444,
             "#bd3786"
            ],
            [
             0.5555555555555556,
             "#d8576b"
            ],
            [
             0.6666666666666666,
             "#ed7953"
            ],
            [
             0.7777777777777778,
             "#fb9f3a"
            ],
            [
             0.8888888888888888,
             "#fdca26"
            ],
            [
             1,
             "#f0f921"
            ]
           ],
           "sequentialminus": [
            [
             0,
             "#0d0887"
            ],
            [
             0.1111111111111111,
             "#46039f"
            ],
            [
             0.2222222222222222,
             "#7201a8"
            ],
            [
             0.3333333333333333,
             "#9c179e"
            ],
            [
             0.4444444444444444,
             "#bd3786"
            ],
            [
             0.5555555555555556,
             "#d8576b"
            ],
            [
             0.6666666666666666,
             "#ed7953"
            ],
            [
             0.7777777777777778,
             "#fb9f3a"
            ],
            [
             0.8888888888888888,
             "#fdca26"
            ],
            [
             1,
             "#f0f921"
            ]
           ]
          },
          "colorway": [
           "#636efa",
           "#EF553B",
           "#00cc96",
           "#ab63fa",
           "#FFA15A",
           "#19d3f3",
           "#FF6692",
           "#B6E880",
           "#FF97FF",
           "#FECB52"
          ],
          "font": {
           "color": "#2a3f5f"
          },
          "geo": {
           "bgcolor": "white",
           "lakecolor": "white",
           "landcolor": "#E5ECF6",
           "showlakes": true,
           "showland": true,
           "subunitcolor": "white"
          },
          "hoverlabel": {
           "align": "left"
          },
          "hovermode": "closest",
          "mapbox": {
           "style": "light"
          },
          "paper_bgcolor": "white",
          "plot_bgcolor": "#E5ECF6",
          "polar": {
           "angularaxis": {
            "gridcolor": "white",
            "linecolor": "white",
            "ticks": ""
           },
           "bgcolor": "#E5ECF6",
           "radialaxis": {
            "gridcolor": "white",
            "linecolor": "white",
            "ticks": ""
           }
          },
          "scene": {
           "xaxis": {
            "backgroundcolor": "#E5ECF6",
            "gridcolor": "white",
            "gridwidth": 2,
            "linecolor": "white",
            "showbackground": true,
            "ticks": "",
            "zerolinecolor": "white"
           },
           "yaxis": {
            "backgroundcolor": "#E5ECF6",
            "gridcolor": "white",
            "gridwidth": 2,
            "linecolor": "white",
            "showbackground": true,
            "ticks": "",
            "zerolinecolor": "white"
           },
           "zaxis": {
            "backgroundcolor": "#E5ECF6",
            "gridcolor": "white",
            "gridwidth": 2,
            "linecolor": "white",
            "showbackground": true,
            "ticks": "",
            "zerolinecolor": "white"
           }
          },
          "shapedefaults": {
           "line": {
            "color": "#2a3f5f"
           }
          },
          "ternary": {
           "aaxis": {
            "gridcolor": "white",
            "linecolor": "white",
            "ticks": ""
           },
           "baxis": {
            "gridcolor": "white",
            "linecolor": "white",
            "ticks": ""
           },
           "bgcolor": "#E5ECF6",
           "caxis": {
            "gridcolor": "white",
            "linecolor": "white",
            "ticks": ""
           }
          },
          "title": {
           "x": 0.05
          },
          "xaxis": {
           "automargin": true,
           "gridcolor": "white",
           "linecolor": "white",
           "ticks": "",
           "title": {
            "standoff": 15
           },
           "zerolinecolor": "white",
           "zerolinewidth": 2
          },
          "yaxis": {
           "automargin": true,
           "gridcolor": "white",
           "linecolor": "white",
           "ticks": "",
           "title": {
            "standoff": 15
           },
           "zerolinecolor": "white",
           "zerolinewidth": 2
          }
         }
        },
        "title": {
         "text": "Average Views by Pages Buckets"
        },
        "width": 900,
        "xaxis": {
         "tickangle": -15,
         "title": {
          "text": "Pages Buckets (Equal Sized Groups)"
         }
        },
        "yaxis": {
         "title": {
          "text": "Average Views"
         },
         "type": "log"
        }
       }
      }
     },
     "metadata": {},
     "output_type": "display_data"
    },
    {
     "data": {
      "application/vnd.plotly.v1+json": {
       "config": {
        "plotlyServerURL": "https://plot.ly"
       },
       "data": [
        {
         "hovertemplate": "%{x}<br>%{y:,.2f} rating<extra></extra>",
         "name": "rating",
         "text": {
          "bdata": "FK5H4XoUEkApXI/C9SgSQD0K16NwPRJAMzMzMzMzEkBxPQrXo3ASQB+F61G4HhJApHA9CtejEUBxPQrXo3ARQOxRuB6F6xFAzczMzMzMEEA=",
          "dtype": "f8"
         },
         "textposition": "auto",
         "type": "bar",
         "x": [
          "Bucket 1<br>(127.0 to 288.0)",
          "Bucket 2<br>(293.0 to 426.0)",
          "Bucket 3<br>(440.0 to 486.0)",
          "Bucket 4<br>(498.0 to 614.0)",
          "Bucket 5<br>(651.0 to 705.0)",
          "Bucket 6<br>(710.0 to 888.0)",
          "Bucket 7<br>(907 to 1,097)",
          "Bucket 8<br>(1,129 to 1,497)",
          "Bucket 9<br>(1,532 to 2,228)",
          "Bucket 10<br>(2,275 to 6,154)"
         ],
         "y": {
          "bdata": "F3hlgVcWEkCkcD0K1yMSQO58PzVeOhJAMzMzMzMzEkAGgZVDi2wSQFTjpZvEIBJAoNwByh2gEUCLbOf7qXERQJvEILBy6BFA0UUXXXTREEA=",
          "dtype": "f8"
         }
        }
       ],
       "layout": {
        "height": 500,
        "margin": {
         "b": 80
        },
        "template": {
         "data": {
          "bar": [
           {
            "error_x": {
             "color": "#2a3f5f"
            },
            "error_y": {
             "color": "#2a3f5f"
            },
            "marker": {
             "line": {
              "color": "#E5ECF6",
              "width": 0.5
             },
             "pattern": {
              "fillmode": "overlay",
              "size": 10,
              "solidity": 0.2
             }
            },
            "type": "bar"
           }
          ],
          "barpolar": [
           {
            "marker": {
             "line": {
              "color": "#E5ECF6",
              "width": 0.5
             },
             "pattern": {
              "fillmode": "overlay",
              "size": 10,
              "solidity": 0.2
             }
            },
            "type": "barpolar"
           }
          ],
          "carpet": [
           {
            "aaxis": {
             "endlinecolor": "#2a3f5f",
             "gridcolor": "white",
             "linecolor": "white",
             "minorgridcolor": "white",
             "startlinecolor": "#2a3f5f"
            },
            "baxis": {
             "endlinecolor": "#2a3f5f",
             "gridcolor": "white",
             "linecolor": "white",
             "minorgridcolor": "white",
             "startlinecolor": "#2a3f5f"
            },
            "type": "carpet"
           }
          ],
          "choropleth": [
           {
            "colorbar": {
             "outlinewidth": 0,
             "ticks": ""
            },
            "type": "choropleth"
           }
          ],
          "contour": [
           {
            "colorbar": {
             "outlinewidth": 0,
             "ticks": ""
            },
            "colorscale": [
             [
              0,
              "#0d0887"
             ],
             [
              0.1111111111111111,
              "#46039f"
             ],
             [
              0.2222222222222222,
              "#7201a8"
             ],
             [
              0.3333333333333333,
              "#9c179e"
             ],
             [
              0.4444444444444444,
              "#bd3786"
             ],
             [
              0.5555555555555556,
              "#d8576b"
             ],
             [
              0.6666666666666666,
              "#ed7953"
             ],
             [
              0.7777777777777778,
              "#fb9f3a"
             ],
             [
              0.8888888888888888,
              "#fdca26"
             ],
             [
              1,
              "#f0f921"
             ]
            ],
            "type": "contour"
           }
          ],
          "contourcarpet": [
           {
            "colorbar": {
             "outlinewidth": 0,
             "ticks": ""
            },
            "type": "contourcarpet"
           }
          ],
          "heatmap": [
           {
            "colorbar": {
             "outlinewidth": 0,
             "ticks": ""
            },
            "colorscale": [
             [
              0,
              "#0d0887"
             ],
             [
              0.1111111111111111,
              "#46039f"
             ],
             [
              0.2222222222222222,
              "#7201a8"
             ],
             [
              0.3333333333333333,
              "#9c179e"
             ],
             [
              0.4444444444444444,
              "#bd3786"
             ],
             [
              0.5555555555555556,
              "#d8576b"
             ],
             [
              0.6666666666666666,
              "#ed7953"
             ],
             [
              0.7777777777777778,
              "#fb9f3a"
             ],
             [
              0.8888888888888888,
              "#fdca26"
             ],
             [
              1,
              "#f0f921"
             ]
            ],
            "type": "heatmap"
           }
          ],
          "histogram": [
           {
            "marker": {
             "pattern": {
              "fillmode": "overlay",
              "size": 10,
              "solidity": 0.2
             }
            },
            "type": "histogram"
           }
          ],
          "histogram2d": [
           {
            "colorbar": {
             "outlinewidth": 0,
             "ticks": ""
            },
            "colorscale": [
             [
              0,
              "#0d0887"
             ],
             [
              0.1111111111111111,
              "#46039f"
             ],
             [
              0.2222222222222222,
              "#7201a8"
             ],
             [
              0.3333333333333333,
              "#9c179e"
             ],
             [
              0.4444444444444444,
              "#bd3786"
             ],
             [
              0.5555555555555556,
              "#d8576b"
             ],
             [
              0.6666666666666666,
              "#ed7953"
             ],
             [
              0.7777777777777778,
              "#fb9f3a"
             ],
             [
              0.8888888888888888,
              "#fdca26"
             ],
             [
              1,
              "#f0f921"
             ]
            ],
            "type": "histogram2d"
           }
          ],
          "histogram2dcontour": [
           {
            "colorbar": {
             "outlinewidth": 0,
             "ticks": ""
            },
            "colorscale": [
             [
              0,
              "#0d0887"
             ],
             [
              0.1111111111111111,
              "#46039f"
             ],
             [
              0.2222222222222222,
              "#7201a8"
             ],
             [
              0.3333333333333333,
              "#9c179e"
             ],
             [
              0.4444444444444444,
              "#bd3786"
             ],
             [
              0.5555555555555556,
              "#d8576b"
             ],
             [
              0.6666666666666666,
              "#ed7953"
             ],
             [
              0.7777777777777778,
              "#fb9f3a"
             ],
             [
              0.8888888888888888,
              "#fdca26"
             ],
             [
              1,
              "#f0f921"
             ]
            ],
            "type": "histogram2dcontour"
           }
          ],
          "mesh3d": [
           {
            "colorbar": {
             "outlinewidth": 0,
             "ticks": ""
            },
            "type": "mesh3d"
           }
          ],
          "parcoords": [
           {
            "line": {
             "colorbar": {
              "outlinewidth": 0,
              "ticks": ""
             }
            },
            "type": "parcoords"
           }
          ],
          "pie": [
           {
            "automargin": true,
            "type": "pie"
           }
          ],
          "scatter": [
           {
            "fillpattern": {
             "fillmode": "overlay",
             "size": 10,
             "solidity": 0.2
            },
            "type": "scatter"
           }
          ],
          "scatter3d": [
           {
            "line": {
             "colorbar": {
              "outlinewidth": 0,
              "ticks": ""
             }
            },
            "marker": {
             "colorbar": {
              "outlinewidth": 0,
              "ticks": ""
             }
            },
            "type": "scatter3d"
           }
          ],
          "scattercarpet": [
           {
            "marker": {
             "colorbar": {
              "outlinewidth": 0,
              "ticks": ""
             }
            },
            "type": "scattercarpet"
           }
          ],
          "scattergeo": [
           {
            "marker": {
             "colorbar": {
              "outlinewidth": 0,
              "ticks": ""
             }
            },
            "type": "scattergeo"
           }
          ],
          "scattergl": [
           {
            "marker": {
             "colorbar": {
              "outlinewidth": 0,
              "ticks": ""
             }
            },
            "type": "scattergl"
           }
          ],
          "scattermap": [
           {
            "marker": {
             "colorbar": {
              "outlinewidth": 0,
              "ticks": ""
             }
            },
            "type": "scattermap"
           }
          ],
          "scattermapbox": [
           {
            "marker": {
             "colorbar": {
              "outlinewidth": 0,
              "ticks": ""
             }
            },
            "type": "scattermapbox"
           }
          ],
          "scatterpolar": [
           {
            "marker": {
             "colorbar": {
              "outlinewidth": 0,
              "ticks": ""
             }
            },
            "type": "scatterpolar"
           }
          ],
          "scatterpolargl": [
           {
            "marker": {
             "colorbar": {
              "outlinewidth": 0,
              "ticks": ""
             }
            },
            "type": "scatterpolargl"
           }
          ],
          "scatterternary": [
           {
            "marker": {
             "colorbar": {
              "outlinewidth": 0,
              "ticks": ""
             }
            },
            "type": "scatterternary"
           }
          ],
          "surface": [
           {
            "colorbar": {
             "outlinewidth": 0,
             "ticks": ""
            },
            "colorscale": [
             [
              0,
              "#0d0887"
             ],
             [
              0.1111111111111111,
              "#46039f"
             ],
             [
              0.2222222222222222,
              "#7201a8"
             ],
             [
              0.3333333333333333,
              "#9c179e"
             ],
             [
              0.4444444444444444,
              "#bd3786"
             ],
             [
              0.5555555555555556,
              "#d8576b"
             ],
             [
              0.6666666666666666,
              "#ed7953"
             ],
             [
              0.7777777777777778,
              "#fb9f3a"
             ],
             [
              0.8888888888888888,
              "#fdca26"
             ],
             [
              1,
              "#f0f921"
             ]
            ],
            "type": "surface"
           }
          ],
          "table": [
           {
            "cells": {
             "fill": {
              "color": "#EBF0F8"
             },
             "line": {
              "color": "white"
             }
            },
            "header": {
             "fill": {
              "color": "#C8D4E3"
             },
             "line": {
              "color": "white"
             }
            },
            "type": "table"
           }
          ]
         },
         "layout": {
          "annotationdefaults": {
           "arrowcolor": "#2a3f5f",
           "arrowhead": 0,
           "arrowwidth": 1
          },
          "autotypenumbers": "strict",
          "coloraxis": {
           "colorbar": {
            "outlinewidth": 0,
            "ticks": ""
           }
          },
          "colorscale": {
           "diverging": [
            [
             0,
             "#8e0152"
            ],
            [
             0.1,
             "#c51b7d"
            ],
            [
             0.2,
             "#de77ae"
            ],
            [
             0.3,
             "#f1b6da"
            ],
            [
             0.4,
             "#fde0ef"
            ],
            [
             0.5,
             "#f7f7f7"
            ],
            [
             0.6,
             "#e6f5d0"
            ],
            [
             0.7,
             "#b8e186"
            ],
            [
             0.8,
             "#7fbc41"
            ],
            [
             0.9,
             "#4d9221"
            ],
            [
             1,
             "#276419"
            ]
           ],
           "sequential": [
            [
             0,
             "#0d0887"
            ],
            [
             0.1111111111111111,
             "#46039f"
            ],
            [
             0.2222222222222222,
             "#7201a8"
            ],
            [
             0.3333333333333333,
             "#9c179e"
            ],
            [
             0.4444444444444444,
             "#bd3786"
            ],
            [
             0.5555555555555556,
             "#d8576b"
            ],
            [
             0.6666666666666666,
             "#ed7953"
            ],
            [
             0.7777777777777778,
             "#fb9f3a"
            ],
            [
             0.8888888888888888,
             "#fdca26"
            ],
            [
             1,
             "#f0f921"
            ]
           ],
           "sequentialminus": [
            [
             0,
             "#0d0887"
            ],
            [
             0.1111111111111111,
             "#46039f"
            ],
            [
             0.2222222222222222,
             "#7201a8"
            ],
            [
             0.3333333333333333,
             "#9c179e"
            ],
            [
             0.4444444444444444,
             "#bd3786"
            ],
            [
             0.5555555555555556,
             "#d8576b"
            ],
            [
             0.6666666666666666,
             "#ed7953"
            ],
            [
             0.7777777777777778,
             "#fb9f3a"
            ],
            [
             0.8888888888888888,
             "#fdca26"
            ],
            [
             1,
             "#f0f921"
            ]
           ]
          },
          "colorway": [
           "#636efa",
           "#EF553B",
           "#00cc96",
           "#ab63fa",
           "#FFA15A",
           "#19d3f3",
           "#FF6692",
           "#B6E880",
           "#FF97FF",
           "#FECB52"
          ],
          "font": {
           "color": "#2a3f5f"
          },
          "geo": {
           "bgcolor": "white",
           "lakecolor": "white",
           "landcolor": "#E5ECF6",
           "showlakes": true,
           "showland": true,
           "subunitcolor": "white"
          },
          "hoverlabel": {
           "align": "left"
          },
          "hovermode": "closest",
          "mapbox": {
           "style": "light"
          },
          "paper_bgcolor": "white",
          "plot_bgcolor": "#E5ECF6",
          "polar": {
           "angularaxis": {
            "gridcolor": "white",
            "linecolor": "white",
            "ticks": ""
           },
           "bgcolor": "#E5ECF6",
           "radialaxis": {
            "gridcolor": "white",
            "linecolor": "white",
            "ticks": ""
           }
          },
          "scene": {
           "xaxis": {
            "backgroundcolor": "#E5ECF6",
            "gridcolor": "white",
            "gridwidth": 2,
            "linecolor": "white",
            "showbackground": true,
            "ticks": "",
            "zerolinecolor": "white"
           },
           "yaxis": {
            "backgroundcolor": "#E5ECF6",
            "gridcolor": "white",
            "gridwidth": 2,
            "linecolor": "white",
            "showbackground": true,
            "ticks": "",
            "zerolinecolor": "white"
           },
           "zaxis": {
            "backgroundcolor": "#E5ECF6",
            "gridcolor": "white",
            "gridwidth": 2,
            "linecolor": "white",
            "showbackground": true,
            "ticks": "",
            "zerolinecolor": "white"
           }
          },
          "shapedefaults": {
           "line": {
            "color": "#2a3f5f"
           }
          },
          "ternary": {
           "aaxis": {
            "gridcolor": "white",
            "linecolor": "white",
            "ticks": ""
           },
           "baxis": {
            "gridcolor": "white",
            "linecolor": "white",
            "ticks": ""
           },
           "bgcolor": "#E5ECF6",
           "caxis": {
            "gridcolor": "white",
            "linecolor": "white",
            "ticks": ""
           }
          },
          "title": {
           "x": 0.05
          },
          "xaxis": {
           "automargin": true,
           "gridcolor": "white",
           "linecolor": "white",
           "ticks": "",
           "title": {
            "standoff": 15
           },
           "zerolinecolor": "white",
           "zerolinewidth": 2
          },
          "yaxis": {
           "automargin": true,
           "gridcolor": "white",
           "linecolor": "white",
           "ticks": "",
           "title": {
            "standoff": 15
           },
           "zerolinecolor": "white",
           "zerolinewidth": 2
          }
         }
        },
        "title": {
         "text": "Average Rating by Pages Buckets"
        },
        "width": 900,
        "xaxis": {
         "tickangle": -15,
         "title": {
          "text": "Pages Buckets (Equal Sized Groups)"
         }
        },
        "yaxis": {
         "title": {
          "text": "Average Rating"
         }
        }
       }
      }
     },
     "metadata": {},
     "output_type": "display_data"
    },
    {
     "data": {
      "application/vnd.plotly.v1+json": {
       "config": {
        "plotlyServerURL": "https://plot.ly"
       },
       "data": [
        {
         "hovertemplate": "%{x}<br>%{y:,.2f} followers<extra></extra>",
         "name": "followers",
         "text": {
          "bdata": "AAAAAACIlEAAAAAAAJiNQAAAAAAAUIZAAAAAAAAAnEBmZmZmZtCmQGZmZmZm/o9A4XoUrkf/qUDNzMzMzKKTQM3MzMzM+6xAuB6F69EBrEA=",
          "dtype": "f8"
         },
         "textposition": "auto",
         "type": "bar",
         "x": [
          "Bucket 1<br>(127.0 to 288.0)",
          "Bucket 2<br>(293.0 to 426.0)",
          "Bucket 3<br>(440.0 to 486.0)",
          "Bucket 4<br>(498.0 to 614.0)",
          "Bucket 5<br>(651.0 to 705.0)",
          "Bucket 6<br>(710.0 to 888.0)",
          "Bucket 7<br>(907 to 1,097)",
          "Bucket 8<br>(1,129 to 1,497)",
          "Bucket 9<br>(1,532 to 2,228)",
          "Bucket 10<br>(2,275 to 6,154)"
         ],
         "y": {
          "bdata": "AAAAAACIlEAAAAAAAJiNQAAAAAAAUIZAAAAAAAAAnEBmZmZmZtCmQGZmZmZm/o9AF1100UX/qUDNzMzMzKKTQM3MzMzM+6xARhdddNEBrEA=",
          "dtype": "f8"
         }
        }
       ],
       "layout": {
        "height": 500,
        "margin": {
         "b": 80
        },
        "template": {
         "data": {
          "bar": [
           {
            "error_x": {
             "color": "#2a3f5f"
            },
            "error_y": {
             "color": "#2a3f5f"
            },
            "marker": {
             "line": {
              "color": "#E5ECF6",
              "width": 0.5
             },
             "pattern": {
              "fillmode": "overlay",
              "size": 10,
              "solidity": 0.2
             }
            },
            "type": "bar"
           }
          ],
          "barpolar": [
           {
            "marker": {
             "line": {
              "color": "#E5ECF6",
              "width": 0.5
             },
             "pattern": {
              "fillmode": "overlay",
              "size": 10,
              "solidity": 0.2
             }
            },
            "type": "barpolar"
           }
          ],
          "carpet": [
           {
            "aaxis": {
             "endlinecolor": "#2a3f5f",
             "gridcolor": "white",
             "linecolor": "white",
             "minorgridcolor": "white",
             "startlinecolor": "#2a3f5f"
            },
            "baxis": {
             "endlinecolor": "#2a3f5f",
             "gridcolor": "white",
             "linecolor": "white",
             "minorgridcolor": "white",
             "startlinecolor": "#2a3f5f"
            },
            "type": "carpet"
           }
          ],
          "choropleth": [
           {
            "colorbar": {
             "outlinewidth": 0,
             "ticks": ""
            },
            "type": "choropleth"
           }
          ],
          "contour": [
           {
            "colorbar": {
             "outlinewidth": 0,
             "ticks": ""
            },
            "colorscale": [
             [
              0,
              "#0d0887"
             ],
             [
              0.1111111111111111,
              "#46039f"
             ],
             [
              0.2222222222222222,
              "#7201a8"
             ],
             [
              0.3333333333333333,
              "#9c179e"
             ],
             [
              0.4444444444444444,
              "#bd3786"
             ],
             [
              0.5555555555555556,
              "#d8576b"
             ],
             [
              0.6666666666666666,
              "#ed7953"
             ],
             [
              0.7777777777777778,
              "#fb9f3a"
             ],
             [
              0.8888888888888888,
              "#fdca26"
             ],
             [
              1,
              "#f0f921"
             ]
            ],
            "type": "contour"
           }
          ],
          "contourcarpet": [
           {
            "colorbar": {
             "outlinewidth": 0,
             "ticks": ""
            },
            "type": "contourcarpet"
           }
          ],
          "heatmap": [
           {
            "colorbar": {
             "outlinewidth": 0,
             "ticks": ""
            },
            "colorscale": [
             [
              0,
              "#0d0887"
             ],
             [
              0.1111111111111111,
              "#46039f"
             ],
             [
              0.2222222222222222,
              "#7201a8"
             ],
             [
              0.3333333333333333,
              "#9c179e"
             ],
             [
              0.4444444444444444,
              "#bd3786"
             ],
             [
              0.5555555555555556,
              "#d8576b"
             ],
             [
              0.6666666666666666,
              "#ed7953"
             ],
             [
              0.7777777777777778,
              "#fb9f3a"
             ],
             [
              0.8888888888888888,
              "#fdca26"
             ],
             [
              1,
              "#f0f921"
             ]
            ],
            "type": "heatmap"
           }
          ],
          "histogram": [
           {
            "marker": {
             "pattern": {
              "fillmode": "overlay",
              "size": 10,
              "solidity": 0.2
             }
            },
            "type": "histogram"
           }
          ],
          "histogram2d": [
           {
            "colorbar": {
             "outlinewidth": 0,
             "ticks": ""
            },
            "colorscale": [
             [
              0,
              "#0d0887"
             ],
             [
              0.1111111111111111,
              "#46039f"
             ],
             [
              0.2222222222222222,
              "#7201a8"
             ],
             [
              0.3333333333333333,
              "#9c179e"
             ],
             [
              0.4444444444444444,
              "#bd3786"
             ],
             [
              0.5555555555555556,
              "#d8576b"
             ],
             [
              0.6666666666666666,
              "#ed7953"
             ],
             [
              0.7777777777777778,
              "#fb9f3a"
             ],
             [
              0.8888888888888888,
              "#fdca26"
             ],
             [
              1,
              "#f0f921"
             ]
            ],
            "type": "histogram2d"
           }
          ],
          "histogram2dcontour": [
           {
            "colorbar": {
             "outlinewidth": 0,
             "ticks": ""
            },
            "colorscale": [
             [
              0,
              "#0d0887"
             ],
             [
              0.1111111111111111,
              "#46039f"
             ],
             [
              0.2222222222222222,
              "#7201a8"
             ],
             [
              0.3333333333333333,
              "#9c179e"
             ],
             [
              0.4444444444444444,
              "#bd3786"
             ],
             [
              0.5555555555555556,
              "#d8576b"
             ],
             [
              0.6666666666666666,
              "#ed7953"
             ],
             [
              0.7777777777777778,
              "#fb9f3a"
             ],
             [
              0.8888888888888888,
              "#fdca26"
             ],
             [
              1,
              "#f0f921"
             ]
            ],
            "type": "histogram2dcontour"
           }
          ],
          "mesh3d": [
           {
            "colorbar": {
             "outlinewidth": 0,
             "ticks": ""
            },
            "type": "mesh3d"
           }
          ],
          "parcoords": [
           {
            "line": {
             "colorbar": {
              "outlinewidth": 0,
              "ticks": ""
             }
            },
            "type": "parcoords"
           }
          ],
          "pie": [
           {
            "automargin": true,
            "type": "pie"
           }
          ],
          "scatter": [
           {
            "fillpattern": {
             "fillmode": "overlay",
             "size": 10,
             "solidity": 0.2
            },
            "type": "scatter"
           }
          ],
          "scatter3d": [
           {
            "line": {
             "colorbar": {
              "outlinewidth": 0,
              "ticks": ""
             }
            },
            "marker": {
             "colorbar": {
              "outlinewidth": 0,
              "ticks": ""
             }
            },
            "type": "scatter3d"
           }
          ],
          "scattercarpet": [
           {
            "marker": {
             "colorbar": {
              "outlinewidth": 0,
              "ticks": ""
             }
            },
            "type": "scattercarpet"
           }
          ],
          "scattergeo": [
           {
            "marker": {
             "colorbar": {
              "outlinewidth": 0,
              "ticks": ""
             }
            },
            "type": "scattergeo"
           }
          ],
          "scattergl": [
           {
            "marker": {
             "colorbar": {
              "outlinewidth": 0,
              "ticks": ""
             }
            },
            "type": "scattergl"
           }
          ],
          "scattermap": [
           {
            "marker": {
             "colorbar": {
              "outlinewidth": 0,
              "ticks": ""
             }
            },
            "type": "scattermap"
           }
          ],
          "scattermapbox": [
           {
            "marker": {
             "colorbar": {
              "outlinewidth": 0,
              "ticks": ""
             }
            },
            "type": "scattermapbox"
           }
          ],
          "scatterpolar": [
           {
            "marker": {
             "colorbar": {
              "outlinewidth": 0,
              "ticks": ""
             }
            },
            "type": "scatterpolar"
           }
          ],
          "scatterpolargl": [
           {
            "marker": {
             "colorbar": {
              "outlinewidth": 0,
              "ticks": ""
             }
            },
            "type": "scatterpolargl"
           }
          ],
          "scatterternary": [
           {
            "marker": {
             "colorbar": {
              "outlinewidth": 0,
              "ticks": ""
             }
            },
            "type": "scatterternary"
           }
          ],
          "surface": [
           {
            "colorbar": {
             "outlinewidth": 0,
             "ticks": ""
            },
            "colorscale": [
             [
              0,
              "#0d0887"
             ],
             [
              0.1111111111111111,
              "#46039f"
             ],
             [
              0.2222222222222222,
              "#7201a8"
             ],
             [
              0.3333333333333333,
              "#9c179e"
             ],
             [
              0.4444444444444444,
              "#bd3786"
             ],
             [
              0.5555555555555556,
              "#d8576b"
             ],
             [
              0.6666666666666666,
              "#ed7953"
             ],
             [
              0.7777777777777778,
              "#fb9f3a"
             ],
             [
              0.8888888888888888,
              "#fdca26"
             ],
             [
              1,
              "#f0f921"
             ]
            ],
            "type": "surface"
           }
          ],
          "table": [
           {
            "cells": {
             "fill": {
              "color": "#EBF0F8"
             },
             "line": {
              "color": "white"
             }
            },
            "header": {
             "fill": {
              "color": "#C8D4E3"
             },
             "line": {
              "color": "white"
             }
            },
            "type": "table"
           }
          ]
         },
         "layout": {
          "annotationdefaults": {
           "arrowcolor": "#2a3f5f",
           "arrowhead": 0,
           "arrowwidth": 1
          },
          "autotypenumbers": "strict",
          "coloraxis": {
           "colorbar": {
            "outlinewidth": 0,
            "ticks": ""
           }
          },
          "colorscale": {
           "diverging": [
            [
             0,
             "#8e0152"
            ],
            [
             0.1,
             "#c51b7d"
            ],
            [
             0.2,
             "#de77ae"
            ],
            [
             0.3,
             "#f1b6da"
            ],
            [
             0.4,
             "#fde0ef"
            ],
            [
             0.5,
             "#f7f7f7"
            ],
            [
             0.6,
             "#e6f5d0"
            ],
            [
             0.7,
             "#b8e186"
            ],
            [
             0.8,
             "#7fbc41"
            ],
            [
             0.9,
             "#4d9221"
            ],
            [
             1,
             "#276419"
            ]
           ],
           "sequential": [
            [
             0,
             "#0d0887"
            ],
            [
             0.1111111111111111,
             "#46039f"
            ],
            [
             0.2222222222222222,
             "#7201a8"
            ],
            [
             0.3333333333333333,
             "#9c179e"
            ],
            [
             0.4444444444444444,
             "#bd3786"
            ],
            [
             0.5555555555555556,
             "#d8576b"
            ],
            [
             0.6666666666666666,
             "#ed7953"
            ],
            [
             0.7777777777777778,
             "#fb9f3a"
            ],
            [
             0.8888888888888888,
             "#fdca26"
            ],
            [
             1,
             "#f0f921"
            ]
           ],
           "sequentialminus": [
            [
             0,
             "#0d0887"
            ],
            [
             0.1111111111111111,
             "#46039f"
            ],
            [
             0.2222222222222222,
             "#7201a8"
            ],
            [
             0.3333333333333333,
             "#9c179e"
            ],
            [
             0.4444444444444444,
             "#bd3786"
            ],
            [
             0.5555555555555556,
             "#d8576b"
            ],
            [
             0.6666666666666666,
             "#ed7953"
            ],
            [
             0.7777777777777778,
             "#fb9f3a"
            ],
            [
             0.8888888888888888,
             "#fdca26"
            ],
            [
             1,
             "#f0f921"
            ]
           ]
          },
          "colorway": [
           "#636efa",
           "#EF553B",
           "#00cc96",
           "#ab63fa",
           "#FFA15A",
           "#19d3f3",
           "#FF6692",
           "#B6E880",
           "#FF97FF",
           "#FECB52"
          ],
          "font": {
           "color": "#2a3f5f"
          },
          "geo": {
           "bgcolor": "white",
           "lakecolor": "white",
           "landcolor": "#E5ECF6",
           "showlakes": true,
           "showland": true,
           "subunitcolor": "white"
          },
          "hoverlabel": {
           "align": "left"
          },
          "hovermode": "closest",
          "mapbox": {
           "style": "light"
          },
          "paper_bgcolor": "white",
          "plot_bgcolor": "#E5ECF6",
          "polar": {
           "angularaxis": {
            "gridcolor": "white",
            "linecolor": "white",
            "ticks": ""
           },
           "bgcolor": "#E5ECF6",
           "radialaxis": {
            "gridcolor": "white",
            "linecolor": "white",
            "ticks": ""
           }
          },
          "scene": {
           "xaxis": {
            "backgroundcolor": "#E5ECF6",
            "gridcolor": "white",
            "gridwidth": 2,
            "linecolor": "white",
            "showbackground": true,
            "ticks": "",
            "zerolinecolor": "white"
           },
           "yaxis": {
            "backgroundcolor": "#E5ECF6",
            "gridcolor": "white",
            "gridwidth": 2,
            "linecolor": "white",
            "showbackground": true,
            "ticks": "",
            "zerolinecolor": "white"
           },
           "zaxis": {
            "backgroundcolor": "#E5ECF6",
            "gridcolor": "white",
            "gridwidth": 2,
            "linecolor": "white",
            "showbackground": true,
            "ticks": "",
            "zerolinecolor": "white"
           }
          },
          "shapedefaults": {
           "line": {
            "color": "#2a3f5f"
           }
          },
          "ternary": {
           "aaxis": {
            "gridcolor": "white",
            "linecolor": "white",
            "ticks": ""
           },
           "baxis": {
            "gridcolor": "white",
            "linecolor": "white",
            "ticks": ""
           },
           "bgcolor": "#E5ECF6",
           "caxis": {
            "gridcolor": "white",
            "linecolor": "white",
            "ticks": ""
           }
          },
          "title": {
           "x": 0.05
          },
          "xaxis": {
           "automargin": true,
           "gridcolor": "white",
           "linecolor": "white",
           "ticks": "",
           "title": {
            "standoff": 15
           },
           "zerolinecolor": "white",
           "zerolinewidth": 2
          },
          "yaxis": {
           "automargin": true,
           "gridcolor": "white",
           "linecolor": "white",
           "ticks": "",
           "title": {
            "standoff": 15
           },
           "zerolinecolor": "white",
           "zerolinewidth": 2
          }
         }
        },
        "title": {
         "text": "Average Followers by Pages Buckets"
        },
        "width": 900,
        "xaxis": {
         "tickangle": -15,
         "title": {
          "text": "Pages Buckets (Equal Sized Groups)"
         }
        },
        "yaxis": {
         "title": {
          "text": "Average Followers"
         },
         "type": "log"
        }
       }
      }
     },
     "metadata": {},
     "output_type": "display_data"
    }
   ],
   "source": [
    "# Create scatter plots of length metrics vs performance metrics\n",
    "from config import LENGTH_METRICS, PERFORMANCE_METRICS\n",
    "from utils import create_buckets\n",
    "\n",
    "# Remove any rows with null values in relevant columns\n",
    "plot_df = df.dropna(subset=LENGTH_METRICS + PERFORMANCE_METRICS)\n",
    "\n",
    "fig = make_subplots(rows=len(LENGTH_METRICS), cols=len(PERFORMANCE_METRICS),\n",
    "                    subplot_titles=[f'{p} vs {l}' for l in LENGTH_METRICS for p in PERFORMANCE_METRICS],\n",
    "                    vertical_spacing=0.15,\n",
    "                    horizontal_spacing=0.1)\n",
    "\n",
    "for i, length_metric in enumerate(LENGTH_METRICS):\n",
    "    for j, perf_metric in enumerate(PERFORMANCE_METRICS):\n",
    "        # Filter out outliers (values beyond 99th percentile)\n",
    "        length_threshold = plot_df[length_metric].quantile(0.99)\n",
    "        perf_threshold = plot_df[perf_metric].quantile(0.99)\n",
    "        filtered_df = plot_df[\n",
    "            (plot_df[length_metric] <= length_threshold) & \n",
    "            (plot_df[perf_metric] <= perf_threshold)\n",
    "        ]\n",
    "        \n",
    "        fig.add_trace(\n",
    "            go.Scatter(\n",
    "                x=filtered_df[length_metric],\n",
    "                y=filtered_df[perf_metric],\n",
    "                mode='markers',\n",
    "                name=f'{perf_metric} vs {length_metric}',\n",
    "                marker=dict(size=5, opacity=0.5)\n",
    "            ),\n",
    "            row=i+1, col=j+1\n",
    "        )\n",
    "        \n",
    "        # Add trend line\n",
    "        z = np.polyfit(filtered_df[length_metric], filtered_df[perf_metric], 1)\n",
    "        p = np.poly1d(z)\n",
    "        x_trend = np.linspace(filtered_df[length_metric].min(), filtered_df[length_metric].max(), 100)\n",
    "        \n",
    "        fig.add_trace(\n",
    "            go.Scatter(\n",
    "                x=x_trend,\n",
    "                y=p(x_trend),\n",
    "                mode='lines',\n",
    "                name=f'Trend {perf_metric} vs {length_metric}',\n",
    "                line=dict(color='red')\n",
    "            ),\n",
    "            row=i+1, col=j+1\n",
    "        )\n",
    "        \n",
    "        fig.update_xaxes(title_text=length_metric, row=i+1, col=j+1)\n",
    "        fig.update_yaxes(title_text=perf_metric, row=i+1, col=j+1)\n",
    "\n",
    "fig.update_layout(height=800, showlegend=False, title_text=\"Relationship between Story Length and Performance Metrics\")\n",
    "fig.show()\n",
    "\n",
    "# Create separate plots for each performance metric to handle scale differences\n",
    "for length_metric in LENGTH_METRICS:\n",
    "    clean_df = plot_df.dropna(subset=[length_metric] + PERFORMANCE_METRICS)\n",
    "    \n",
    "    # Create buckets based on the length metric using utility function\n",
    "    clean_df[f'{length_metric}_bucket'] = create_buckets(clean_df[length_metric])\n",
    "    \n",
    "    # Calculate the average values for each metric within each bucket\n",
    "    avg_by_bucket = clean_df.groupby(f'{length_metric}_bucket')[PERFORMANCE_METRICS].mean().reset_index()\n",
    "    \n",
    "    # Add a column showing the actual range of values in each bucket\n",
    "    bucket_ranges = clean_df.groupby(f'{length_metric}_bucket')[length_metric].agg(['min', 'max'])\n",
    "    \n",
    "    # Create separate plots for each performance metric (due to scale differences)\n",
    "    for metric in PERFORMANCE_METRICS:\n",
    "        fig = go.Figure()\n",
    "        \n",
    "        # Create bucket labels with ranges for x-axis\n",
    "        bucket_labels = []\n",
    "        for bucket in avg_by_bucket[f'{length_metric}_bucket']:\n",
    "            min_val = bucket_ranges.loc[bucket, 'min']\n",
    "            max_val = bucket_ranges.loc[bucket, 'max']\n",
    "            # Format numbers with commas for thousands separator if needed\n",
    "            if min_val >= 1000 or max_val >= 1000:\n",
    "                bucket_labels.append(f\"{bucket}<br>({int(min_val):,} to {int(max_val):,})\")\n",
    "            else:\n",
    "                bucket_labels.append(f\"{bucket}<br>({min_val:.1f} to {max_val:.1f})\")\n",
    "        \n",
    "        fig.add_trace(\n",
    "            go.Bar(\n",
    "                name=metric,\n",
    "                x=bucket_labels,  # Use formatted labels with ranges\n",
    "                y=avg_by_bucket[metric],\n",
    "                text=np.round(avg_by_bucket[metric], 2),\n",
    "                textposition='auto',\n",
    "                hovertemplate='%{x}<br>%{y:,.2f} ' + metric + '<extra></extra>',\n",
    "            )\n",
    "        )\n",
    "        \n",
    "        fig.update_layout(\n",
    "            title=f'Average {metric.capitalize()} by {length_metric.capitalize()} Buckets',\n",
    "            xaxis_title=f'{length_metric.capitalize()} Buckets (Equal Sized Groups)',\n",
    "            yaxis_title=f'Average {metric.capitalize()}',\n",
    "            height=500,\n",
    "            width=900,  # Slightly wider to accommodate the labels\n",
    "            margin=dict(b=80),  # Extra bottom margin for the labels\n",
    "            xaxis=dict(tickangle=-15)  # Angle the labels for better readability\n",
    "        )\n",
    "        \n",
    "        # Use log scale for views and followers for better visibility\n",
    "        if metric in ['views', 'followers']:\n",
    "            fig.update_yaxes(type='log')\n",
    "            \n",
    "        fig.show()"
   ]
  },
  {
   "cell_type": "markdown",
   "id": "0aa08c4a",
   "metadata": {},
   "source": [
    "## Time-Series Analysis and Growth Tracking\n",
    "\n",
    "Let's analyze how story metrics change over time using the time-series data we've collected. This section dynamically adapts to the available data periods, automatically selecting appropriate time windows based on how much data has been collected."
   ]
  },
  {
   "cell_type": "code",
   "execution_count": 28,
   "id": "d38daa15",
   "metadata": {},
   "outputs": [
    {
     "name": "stdout",
     "output_type": "stream",
     "text": [
      "Most recent data date: 2025-10-13\n",
      "Data spans 3 days (from 2025-10-09 to 2025-10-13)\n",
      "Found 71 stories with multiple snapshots for time-series analysis\n",
      "Short data collection period detected (< 7 days). Using daily analysis.\n",
      "\n",
      "Story Growth Metrics Summary:\n",
      "Average Views Growth: 7073.3 (3057.8 per day)\n",
      "Average Followers Growth: 22.2 (8.9 per day)\n",
      "Average Rating Change: -0.01\n",
      "\n",
      "Top 10 Stories by Views Growth Per Day:\n",
      "Cultivation System: Elder Edition: 18707.0 views/day (+1.8%)\n",
      "Not (Just) A Mage Lord Isekai: 11260.5 views/day (+1.4%)\n",
      "God of Trash [Cultivation LitRPG] From Trash-Tier to the Ultimate Trash! [Book 4 Climax Coming Out Now!]: 11202.7 views/day (+1.8%)\n",
      "The Lord Of Blood Hill: 7483.0 views/day (+15.9%)\n",
      "Too Stubborn to Die [ Death-loop SysApoc ]: 6509.7 views/day (+4.4%)\n",
      "The Ethersmith [Book 1 Complete!]: 6298.0 views/day (+4.2%)\n",
      "The Nameless Extra: I Proofread This World: 6029.0 views/day (+4.8%)\n",
      "Stupid Sexy Cryptids [or How I Became the Emperor of Mankind]: 6004.7 views/day (+8.5%)\n",
      "The Machine God: 5078.0 views/day (+4.5%)\n",
      "Martial Law God Emperor: 4916.0 views/day (+0.9%)\n",
      "\n",
      "Top 10 Stories by Followers Growth Per Day:\n",
      "Pokémon: Displaced: 71.0 followers/day (+41.8%)\n",
      "A Pirate's Life for Mei: 25.0 followers/day (+25.8%)\n",
      "The Lord Of Blood Hill: 24.0 followers/day (+12.2%)\n",
      "Stupid Sexy Cryptids [or How I Became the Emperor of Mankind]: 23.7 followers/day (+3.8%)\n",
      "Reader Mage: 21.0 followers/day (+3.2%)\n",
      "Rat's Guide to Survival: 17.7 followers/day (+29.9%)\n",
      "Monarch of the Forgotten God [Cyberpunk/Fantasy LitRPG]: 17.0 followers/day (+3.7%)\n",
      "Spaceship Crafting System Rewrite: 15.0 followers/day (+1.6%)\n",
      "Cultivation System: Elder Edition: 14.0 followers/day (+0.4%)\n",
      "Yellow Jacket: 13.0 followers/day (+3.0%)\n"
     ]
    },
    {
     "data": {
      "application/vnd.plotly.v1+json": {
       "config": {
        "plotlyServerURL": "https://plot.ly"
       },
       "data": [
        {
         "hovertemplate": "<b>Cultivation System: Elder Edition</b><br>%{x|%Y-%m-%d}<br>%{y:,.0f} views<extra></extra>",
         "line": {
          "width": 2
         },
         "marker": {
          "size": 6
         },
         "mode": "lines+markers",
         "name": "Cultivation System: Elder Edit...",
         "type": "scatter",
         "x": [
          "2025-10-09T21:41:25.000000000",
          "2025-10-11T17:37:06.000000000",
          "2025-10-11T18:43:30.000000000",
          "2025-10-11T19:04:33.000000000",
          "2025-10-11T20:19:12.000000000"
         ],
         "y": {
          "bdata": "6TIQAJB3EAAweRAANXoQAPx7EAA=",
          "dtype": "i4"
         }
        },
        {
         "hovertemplate": "<b>Not (Just) A Mage Lord Isekai</b><br>%{x|%Y-%m-%d}<br>%{y:,.0f} views<extra></extra>",
         "line": {
          "width": 2
         },
         "marker": {
          "size": 6
         },
         "mode": "lines+markers",
         "name": "Not (Just) A Mage Lord Isekai",
         "type": "scatter",
         "x": [
          "2025-10-09T21:41:25.000000000",
          "2025-10-11T17:37:06.000000000",
          "2025-10-11T18:43:30.000000000",
          "2025-10-11T19:04:33.000000000",
          "2025-10-11T20:19:12.000000000",
          "2025-10-12T03:40:30.000000000",
          "2025-10-12T03:54:37.000000000",
          "2025-10-12T14:50:48.000000000",
          "2025-10-12T16:55:55.000000000"
         ],
         "y": {
          "bdata": "dqMYAMjaGABN3BgA49wYAJjeGACY5xgA1ucYAA/2GABv+xgA",
          "dtype": "i4"
         }
        },
        {
         "hovertemplate": "<b>God of Trash [Cultivation LitRPG] From Trash-Tier to the Ultimate Trash! [Book 4 Climax Coming Out Now!]</b><br>%{x|%Y-%m-%d}<br>%{y:,.0f} views<extra></extra>",
         "line": {
          "width": 2
         },
         "marker": {
          "size": 6
         },
         "mode": "lines+markers",
         "name": "God of Trash [Cultivation LitR...",
         "type": "scatter",
         "x": [
          "2025-10-09T21:41:25.000000000",
          "2025-10-11T17:37:06.000000000",
          "2025-10-11T18:43:30.000000000",
          "2025-10-11T19:04:33.000000000",
          "2025-10-11T20:19:12.000000000",
          "2025-10-12T03:40:30.000000000",
          "2025-10-12T03:54:37.000000000",
          "2025-10-12T14:50:48.000000000",
          "2025-10-12T16:55:55.000000000",
          "2025-10-13T13:58:11.000000000"
         ],
         "y": {
          "bdata": "DQQcAPtBHABhQxwAHEQcAIdGHAABVBwATFQcAHhiHAB5ZRwAVYccAA==",
          "dtype": "i4"
         }
        },
        {
         "hovertemplate": "<b>The Lord Of Blood Hill</b><br>%{x|%Y-%m-%d}<br>%{y:,.0f} views<extra></extra>",
         "line": {
          "width": 2
         },
         "marker": {
          "size": 6
         },
         "mode": "lines+markers",
         "name": "The Lord Of Blood Hill",
         "type": "scatter",
         "x": [
          "2025-10-11T17:37:06.000000000",
          "2025-10-11T18:43:29.000000000",
          "2025-10-11T19:04:33.000000000",
          "2025-10-11T20:19:12.000000000",
          "2025-10-12T03:40:30.000000000",
          "2025-10-12T03:54:37.000000000",
          "2025-10-12T14:50:48.000000000",
          "2025-10-12T22:04:38.000000000",
          "2025-10-13T13:58:11.000000000"
         ],
         "y": {
          "bdata": "WrgAAMe4AAAMuQAAerkAAD+8AABmvAAAhsUAACPMAACV1QAA",
          "dtype": "i4"
         }
        },
        {
         "hovertemplate": "<b>Too Stubborn to Die [ Death-loop SysApoc ]</b><br>%{x|%Y-%m-%d}<br>%{y:,.0f} views<extra></extra>",
         "line": {
          "width": 2
         },
         "marker": {
          "size": 6
         },
         "mode": "lines+markers",
         "name": "Too Stubborn to Die [ Death-lo...",
         "type": "scatter",
         "x": [
          "2025-10-09T21:41:25.000000000",
          "2025-10-11T17:37:06.000000000",
          "2025-10-12T16:55:55.000000000",
          "2025-10-12T22:04:38.000000000",
          "2025-10-13T13:58:11.000000000"
         ],
         "y": {
          "bdata": "CtgGANn+BgBFDgcAGBUHAFMkBwA=",
          "dtype": "i4"
         }
        }
       ],
       "layout": {
        "height": 600,
        "legend": {
         "bgcolor": "rgba(255,255,255,0.8)",
         "bordercolor": "rgba(0,0,0,0.3)",
         "borderwidth": 1,
         "orientation": "v",
         "x": 1.02,
         "xanchor": "left",
         "y": 1,
         "yanchor": "top"
        },
        "margin": {
         "r": 200
        },
        "template": {
         "data": {
          "bar": [
           {
            "error_x": {
             "color": "#2a3f5f"
            },
            "error_y": {
             "color": "#2a3f5f"
            },
            "marker": {
             "line": {
              "color": "#E5ECF6",
              "width": 0.5
             },
             "pattern": {
              "fillmode": "overlay",
              "size": 10,
              "solidity": 0.2
             }
            },
            "type": "bar"
           }
          ],
          "barpolar": [
           {
            "marker": {
             "line": {
              "color": "#E5ECF6",
              "width": 0.5
             },
             "pattern": {
              "fillmode": "overlay",
              "size": 10,
              "solidity": 0.2
             }
            },
            "type": "barpolar"
           }
          ],
          "carpet": [
           {
            "aaxis": {
             "endlinecolor": "#2a3f5f",
             "gridcolor": "white",
             "linecolor": "white",
             "minorgridcolor": "white",
             "startlinecolor": "#2a3f5f"
            },
            "baxis": {
             "endlinecolor": "#2a3f5f",
             "gridcolor": "white",
             "linecolor": "white",
             "minorgridcolor": "white",
             "startlinecolor": "#2a3f5f"
            },
            "type": "carpet"
           }
          ],
          "choropleth": [
           {
            "colorbar": {
             "outlinewidth": 0,
             "ticks": ""
            },
            "type": "choropleth"
           }
          ],
          "contour": [
           {
            "colorbar": {
             "outlinewidth": 0,
             "ticks": ""
            },
            "colorscale": [
             [
              0,
              "#0d0887"
             ],
             [
              0.1111111111111111,
              "#46039f"
             ],
             [
              0.2222222222222222,
              "#7201a8"
             ],
             [
              0.3333333333333333,
              "#9c179e"
             ],
             [
              0.4444444444444444,
              "#bd3786"
             ],
             [
              0.5555555555555556,
              "#d8576b"
             ],
             [
              0.6666666666666666,
              "#ed7953"
             ],
             [
              0.7777777777777778,
              "#fb9f3a"
             ],
             [
              0.8888888888888888,
              "#fdca26"
             ],
             [
              1,
              "#f0f921"
             ]
            ],
            "type": "contour"
           }
          ],
          "contourcarpet": [
           {
            "colorbar": {
             "outlinewidth": 0,
             "ticks": ""
            },
            "type": "contourcarpet"
           }
          ],
          "heatmap": [
           {
            "colorbar": {
             "outlinewidth": 0,
             "ticks": ""
            },
            "colorscale": [
             [
              0,
              "#0d0887"
             ],
             [
              0.1111111111111111,
              "#46039f"
             ],
             [
              0.2222222222222222,
              "#7201a8"
             ],
             [
              0.3333333333333333,
              "#9c179e"
             ],
             [
              0.4444444444444444,
              "#bd3786"
             ],
             [
              0.5555555555555556,
              "#d8576b"
             ],
             [
              0.6666666666666666,
              "#ed7953"
             ],
             [
              0.7777777777777778,
              "#fb9f3a"
             ],
             [
              0.8888888888888888,
              "#fdca26"
             ],
             [
              1,
              "#f0f921"
             ]
            ],
            "type": "heatmap"
           }
          ],
          "histogram": [
           {
            "marker": {
             "pattern": {
              "fillmode": "overlay",
              "size": 10,
              "solidity": 0.2
             }
            },
            "type": "histogram"
           }
          ],
          "histogram2d": [
           {
            "colorbar": {
             "outlinewidth": 0,
             "ticks": ""
            },
            "colorscale": [
             [
              0,
              "#0d0887"
             ],
             [
              0.1111111111111111,
              "#46039f"
             ],
             [
              0.2222222222222222,
              "#7201a8"
             ],
             [
              0.3333333333333333,
              "#9c179e"
             ],
             [
              0.4444444444444444,
              "#bd3786"
             ],
             [
              0.5555555555555556,
              "#d8576b"
             ],
             [
              0.6666666666666666,
              "#ed7953"
             ],
             [
              0.7777777777777778,
              "#fb9f3a"
             ],
             [
              0.8888888888888888,
              "#fdca26"
             ],
             [
              1,
              "#f0f921"
             ]
            ],
            "type": "histogram2d"
           }
          ],
          "histogram2dcontour": [
           {
            "colorbar": {
             "outlinewidth": 0,
             "ticks": ""
            },
            "colorscale": [
             [
              0,
              "#0d0887"
             ],
             [
              0.1111111111111111,
              "#46039f"
             ],
             [
              0.2222222222222222,
              "#7201a8"
             ],
             [
              0.3333333333333333,
              "#9c179e"
             ],
             [
              0.4444444444444444,
              "#bd3786"
             ],
             [
              0.5555555555555556,
              "#d8576b"
             ],
             [
              0.6666666666666666,
              "#ed7953"
             ],
             [
              0.7777777777777778,
              "#fb9f3a"
             ],
             [
              0.8888888888888888,
              "#fdca26"
             ],
             [
              1,
              "#f0f921"
             ]
            ],
            "type": "histogram2dcontour"
           }
          ],
          "mesh3d": [
           {
            "colorbar": {
             "outlinewidth": 0,
             "ticks": ""
            },
            "type": "mesh3d"
           }
          ],
          "parcoords": [
           {
            "line": {
             "colorbar": {
              "outlinewidth": 0,
              "ticks": ""
             }
            },
            "type": "parcoords"
           }
          ],
          "pie": [
           {
            "automargin": true,
            "type": "pie"
           }
          ],
          "scatter": [
           {
            "fillpattern": {
             "fillmode": "overlay",
             "size": 10,
             "solidity": 0.2
            },
            "type": "scatter"
           }
          ],
          "scatter3d": [
           {
            "line": {
             "colorbar": {
              "outlinewidth": 0,
              "ticks": ""
             }
            },
            "marker": {
             "colorbar": {
              "outlinewidth": 0,
              "ticks": ""
             }
            },
            "type": "scatter3d"
           }
          ],
          "scattercarpet": [
           {
            "marker": {
             "colorbar": {
              "outlinewidth": 0,
              "ticks": ""
             }
            },
            "type": "scattercarpet"
           }
          ],
          "scattergeo": [
           {
            "marker": {
             "colorbar": {
              "outlinewidth": 0,
              "ticks": ""
             }
            },
            "type": "scattergeo"
           }
          ],
          "scattergl": [
           {
            "marker": {
             "colorbar": {
              "outlinewidth": 0,
              "ticks": ""
             }
            },
            "type": "scattergl"
           }
          ],
          "scattermap": [
           {
            "marker": {
             "colorbar": {
              "outlinewidth": 0,
              "ticks": ""
             }
            },
            "type": "scattermap"
           }
          ],
          "scattermapbox": [
           {
            "marker": {
             "colorbar": {
              "outlinewidth": 0,
              "ticks": ""
             }
            },
            "type": "scattermapbox"
           }
          ],
          "scatterpolar": [
           {
            "marker": {
             "colorbar": {
              "outlinewidth": 0,
              "ticks": ""
             }
            },
            "type": "scatterpolar"
           }
          ],
          "scatterpolargl": [
           {
            "marker": {
             "colorbar": {
              "outlinewidth": 0,
              "ticks": ""
             }
            },
            "type": "scatterpolargl"
           }
          ],
          "scatterternary": [
           {
            "marker": {
             "colorbar": {
              "outlinewidth": 0,
              "ticks": ""
             }
            },
            "type": "scatterternary"
           }
          ],
          "surface": [
           {
            "colorbar": {
             "outlinewidth": 0,
             "ticks": ""
            },
            "colorscale": [
             [
              0,
              "#0d0887"
             ],
             [
              0.1111111111111111,
              "#46039f"
             ],
             [
              0.2222222222222222,
              "#7201a8"
             ],
             [
              0.3333333333333333,
              "#9c179e"
             ],
             [
              0.4444444444444444,
              "#bd3786"
             ],
             [
              0.5555555555555556,
              "#d8576b"
             ],
             [
              0.6666666666666666,
              "#ed7953"
             ],
             [
              0.7777777777777778,
              "#fb9f3a"
             ],
             [
              0.8888888888888888,
              "#fdca26"
             ],
             [
              1,
              "#f0f921"
             ]
            ],
            "type": "surface"
           }
          ],
          "table": [
           {
            "cells": {
             "fill": {
              "color": "#EBF0F8"
             },
             "line": {
              "color": "white"
             }
            },
            "header": {
             "fill": {
              "color": "#C8D4E3"
             },
             "line": {
              "color": "white"
             }
            },
            "type": "table"
           }
          ]
         },
         "layout": {
          "annotationdefaults": {
           "arrowcolor": "#2a3f5f",
           "arrowhead": 0,
           "arrowwidth": 1
          },
          "autotypenumbers": "strict",
          "coloraxis": {
           "colorbar": {
            "outlinewidth": 0,
            "ticks": ""
           }
          },
          "colorscale": {
           "diverging": [
            [
             0,
             "#8e0152"
            ],
            [
             0.1,
             "#c51b7d"
            ],
            [
             0.2,
             "#de77ae"
            ],
            [
             0.3,
             "#f1b6da"
            ],
            [
             0.4,
             "#fde0ef"
            ],
            [
             0.5,
             "#f7f7f7"
            ],
            [
             0.6,
             "#e6f5d0"
            ],
            [
             0.7,
             "#b8e186"
            ],
            [
             0.8,
             "#7fbc41"
            ],
            [
             0.9,
             "#4d9221"
            ],
            [
             1,
             "#276419"
            ]
           ],
           "sequential": [
            [
             0,
             "#0d0887"
            ],
            [
             0.1111111111111111,
             "#46039f"
            ],
            [
             0.2222222222222222,
             "#7201a8"
            ],
            [
             0.3333333333333333,
             "#9c179e"
            ],
            [
             0.4444444444444444,
             "#bd3786"
            ],
            [
             0.5555555555555556,
             "#d8576b"
            ],
            [
             0.6666666666666666,
             "#ed7953"
            ],
            [
             0.7777777777777778,
             "#fb9f3a"
            ],
            [
             0.8888888888888888,
             "#fdca26"
            ],
            [
             1,
             "#f0f921"
            ]
           ],
           "sequentialminus": [
            [
             0,
             "#0d0887"
            ],
            [
             0.1111111111111111,
             "#46039f"
            ],
            [
             0.2222222222222222,
             "#7201a8"
            ],
            [
             0.3333333333333333,
             "#9c179e"
            ],
            [
             0.4444444444444444,
             "#bd3786"
            ],
            [
             0.5555555555555556,
             "#d8576b"
            ],
            [
             0.6666666666666666,
             "#ed7953"
            ],
            [
             0.7777777777777778,
             "#fb9f3a"
            ],
            [
             0.8888888888888888,
             "#fdca26"
            ],
            [
             1,
             "#f0f921"
            ]
           ]
          },
          "colorway": [
           "#636efa",
           "#EF553B",
           "#00cc96",
           "#ab63fa",
           "#FFA15A",
           "#19d3f3",
           "#FF6692",
           "#B6E880",
           "#FF97FF",
           "#FECB52"
          ],
          "font": {
           "color": "#2a3f5f"
          },
          "geo": {
           "bgcolor": "white",
           "lakecolor": "white",
           "landcolor": "#E5ECF6",
           "showlakes": true,
           "showland": true,
           "subunitcolor": "white"
          },
          "hoverlabel": {
           "align": "left"
          },
          "hovermode": "closest",
          "mapbox": {
           "style": "light"
          },
          "paper_bgcolor": "white",
          "plot_bgcolor": "#E5ECF6",
          "polar": {
           "angularaxis": {
            "gridcolor": "white",
            "linecolor": "white",
            "ticks": ""
           },
           "bgcolor": "#E5ECF6",
           "radialaxis": {
            "gridcolor": "white",
            "linecolor": "white",
            "ticks": ""
           }
          },
          "scene": {
           "xaxis": {
            "backgroundcolor": "#E5ECF6",
            "gridcolor": "white",
            "gridwidth": 2,
            "linecolor": "white",
            "showbackground": true,
            "ticks": "",
            "zerolinecolor": "white"
           },
           "yaxis": {
            "backgroundcolor": "#E5ECF6",
            "gridcolor": "white",
            "gridwidth": 2,
            "linecolor": "white",
            "showbackground": true,
            "ticks": "",
            "zerolinecolor": "white"
           },
           "zaxis": {
            "backgroundcolor": "#E5ECF6",
            "gridcolor": "white",
            "gridwidth": 2,
            "linecolor": "white",
            "showbackground": true,
            "ticks": "",
            "zerolinecolor": "white"
           }
          },
          "shapedefaults": {
           "line": {
            "color": "#2a3f5f"
           }
          },
          "ternary": {
           "aaxis": {
            "gridcolor": "white",
            "linecolor": "white",
            "ticks": ""
           },
           "baxis": {
            "gridcolor": "white",
            "linecolor": "white",
            "ticks": ""
           },
           "bgcolor": "#E5ECF6",
           "caxis": {
            "gridcolor": "white",
            "linecolor": "white",
            "ticks": ""
           }
          },
          "title": {
           "x": 0.05
          },
          "xaxis": {
           "automargin": true,
           "gridcolor": "white",
           "linecolor": "white",
           "ticks": "",
           "title": {
            "standoff": 15
           },
           "zerolinecolor": "white",
           "zerolinewidth": 2
          },
          "yaxis": {
           "automargin": true,
           "gridcolor": "white",
           "linecolor": "white",
           "ticks": "",
           "title": {
            "standoff": 15
           },
           "zerolinecolor": "white",
           "zerolinewidth": 2
          }
         }
        },
        "title": {
         "text": "Time Series of Views for Top Growing Stories"
        },
        "width": 1000,
        "xaxis": {
         "title": {
          "text": "Date"
         }
        },
        "yaxis": {
         "title": {
          "text": "Views"
         },
         "type": "log"
        }
       }
      }
     },
     "metadata": {},
     "output_type": "display_data"
    },
    {
     "data": {
      "application/vnd.plotly.v1+json": {
       "config": {
        "plotlyServerURL": "https://plot.ly"
       },
       "data": [
        {
         "hovertemplate": "<b>Cultivation System: Elder Edition</b><br>%{x|%Y-%m-%d}<br>%{y:,.0f} followers<extra></extra>",
         "line": {
          "width": 2
         },
         "marker": {
          "size": 6
         },
         "mode": "lines+markers",
         "name": "Cultivation System: Elder Edit...",
         "type": "scatter",
         "x": [
          "2025-10-09T21:41:25.000000000",
          "2025-10-11T17:37:06.000000000",
          "2025-10-11T18:43:30.000000000",
          "2025-10-11T19:04:33.000000000",
          "2025-10-11T20:19:12.000000000"
         ],
         "y": {
          "bdata": "9wwFDQUNBQ0FDQ==",
          "dtype": "i2"
         }
        },
        {
         "hovertemplate": "<b>Not (Just) A Mage Lord Isekai</b><br>%{x|%Y-%m-%d}<br>%{y:,.0f} followers<extra></extra>",
         "line": {
          "width": 2
         },
         "marker": {
          "size": 6
         },
         "mode": "lines+markers",
         "name": "Not (Just) A Mage Lord Isekai",
         "type": "scatter",
         "x": [
          "2025-10-09T21:41:25.000000000",
          "2025-10-11T17:37:06.000000000",
          "2025-10-11T18:43:30.000000000",
          "2025-10-11T19:04:33.000000000",
          "2025-10-11T20:19:12.000000000",
          "2025-10-12T03:40:30.000000000",
          "2025-10-12T03:54:37.000000000",
          "2025-10-12T14:50:48.000000000",
          "2025-10-12T16:55:55.000000000"
         ],
         "y": {
          "bdata": "sxG/Eb4RvhG+Eb8RvxG+Eb0R",
          "dtype": "i2"
         }
        },
        {
         "hovertemplate": "<b>God of Trash [Cultivation LitRPG] From Trash-Tier to the Ultimate Trash! [Book 4 Climax Coming Out Now!]</b><br>%{x|%Y-%m-%d}<br>%{y:,.0f} followers<extra></extra>",
         "line": {
          "width": 2
         },
         "marker": {
          "size": 6
         },
         "mode": "lines+markers",
         "name": "God of Trash [Cultivation LitR...",
         "type": "scatter",
         "x": [
          "2025-10-09T21:41:25.000000000",
          "2025-10-11T17:37:06.000000000",
          "2025-10-11T18:43:30.000000000",
          "2025-10-11T19:04:33.000000000",
          "2025-10-11T20:19:12.000000000",
          "2025-10-12T03:40:30.000000000",
          "2025-10-12T03:54:37.000000000",
          "2025-10-12T14:50:48.000000000",
          "2025-10-12T16:55:55.000000000",
          "2025-10-13T13:58:11.000000000"
         ],
         "y": {
          "bdata": "nRSpFKkUqRSnFKgUqBSoFKcUqRQ=",
          "dtype": "i2"
         }
        },
        {
         "hovertemplate": "<b>The Lord Of Blood Hill</b><br>%{x|%Y-%m-%d}<br>%{y:,.0f} followers<extra></extra>",
         "line": {
          "width": 2
         },
         "marker": {
          "size": 6
         },
         "mode": "lines+markers",
         "name": "The Lord Of Blood Hill",
         "type": "scatter",
         "x": [
          "2025-10-11T17:37:06.000000000",
          "2025-10-11T18:43:29.000000000",
          "2025-10-11T19:04:33.000000000",
          "2025-10-11T20:19:12.000000000",
          "2025-10-12T03:40:30.000000000",
          "2025-10-12T03:54:37.000000000",
          "2025-10-12T14:50:48.000000000",
          "2025-10-12T22:04:38.000000000",
          "2025-10-13T13:58:11.000000000"
         ],
         "y": {
          "bdata": "xADFAMUAxQDLAMsA1ADYANwA",
          "dtype": "i2"
         }
        },
        {
         "hovertemplate": "<b>Too Stubborn to Die [ Death-loop SysApoc ]</b><br>%{x|%Y-%m-%d}<br>%{y:,.0f} followers<extra></extra>",
         "line": {
          "width": 2
         },
         "marker": {
          "size": 6
         },
         "mode": "lines+markers",
         "name": "Too Stubborn to Die [ Death-lo...",
         "type": "scatter",
         "x": [
          "2025-10-09T21:41:25.000000000",
          "2025-10-11T17:37:06.000000000",
          "2025-10-12T16:55:55.000000000",
          "2025-10-12T22:04:38.000000000",
          "2025-10-13T13:58:11.000000000"
         ],
         "y": {
          "bdata": "eAyLDJEMlgycDA==",
          "dtype": "i2"
         }
        }
       ],
       "layout": {
        "height": 600,
        "legend": {
         "bgcolor": "rgba(255,255,255,0.8)",
         "bordercolor": "rgba(0,0,0,0.3)",
         "borderwidth": 1,
         "orientation": "v",
         "x": 1.02,
         "xanchor": "left",
         "y": 1,
         "yanchor": "top"
        },
        "margin": {
         "r": 200
        },
        "template": {
         "data": {
          "bar": [
           {
            "error_x": {
             "color": "#2a3f5f"
            },
            "error_y": {
             "color": "#2a3f5f"
            },
            "marker": {
             "line": {
              "color": "#E5ECF6",
              "width": 0.5
             },
             "pattern": {
              "fillmode": "overlay",
              "size": 10,
              "solidity": 0.2
             }
            },
            "type": "bar"
           }
          ],
          "barpolar": [
           {
            "marker": {
             "line": {
              "color": "#E5ECF6",
              "width": 0.5
             },
             "pattern": {
              "fillmode": "overlay",
              "size": 10,
              "solidity": 0.2
             }
            },
            "type": "barpolar"
           }
          ],
          "carpet": [
           {
            "aaxis": {
             "endlinecolor": "#2a3f5f",
             "gridcolor": "white",
             "linecolor": "white",
             "minorgridcolor": "white",
             "startlinecolor": "#2a3f5f"
            },
            "baxis": {
             "endlinecolor": "#2a3f5f",
             "gridcolor": "white",
             "linecolor": "white",
             "minorgridcolor": "white",
             "startlinecolor": "#2a3f5f"
            },
            "type": "carpet"
           }
          ],
          "choropleth": [
           {
            "colorbar": {
             "outlinewidth": 0,
             "ticks": ""
            },
            "type": "choropleth"
           }
          ],
          "contour": [
           {
            "colorbar": {
             "outlinewidth": 0,
             "ticks": ""
            },
            "colorscale": [
             [
              0,
              "#0d0887"
             ],
             [
              0.1111111111111111,
              "#46039f"
             ],
             [
              0.2222222222222222,
              "#7201a8"
             ],
             [
              0.3333333333333333,
              "#9c179e"
             ],
             [
              0.4444444444444444,
              "#bd3786"
             ],
             [
              0.5555555555555556,
              "#d8576b"
             ],
             [
              0.6666666666666666,
              "#ed7953"
             ],
             [
              0.7777777777777778,
              "#fb9f3a"
             ],
             [
              0.8888888888888888,
              "#fdca26"
             ],
             [
              1,
              "#f0f921"
             ]
            ],
            "type": "contour"
           }
          ],
          "contourcarpet": [
           {
            "colorbar": {
             "outlinewidth": 0,
             "ticks": ""
            },
            "type": "contourcarpet"
           }
          ],
          "heatmap": [
           {
            "colorbar": {
             "outlinewidth": 0,
             "ticks": ""
            },
            "colorscale": [
             [
              0,
              "#0d0887"
             ],
             [
              0.1111111111111111,
              "#46039f"
             ],
             [
              0.2222222222222222,
              "#7201a8"
             ],
             [
              0.3333333333333333,
              "#9c179e"
             ],
             [
              0.4444444444444444,
              "#bd3786"
             ],
             [
              0.5555555555555556,
              "#d8576b"
             ],
             [
              0.6666666666666666,
              "#ed7953"
             ],
             [
              0.7777777777777778,
              "#fb9f3a"
             ],
             [
              0.8888888888888888,
              "#fdca26"
             ],
             [
              1,
              "#f0f921"
             ]
            ],
            "type": "heatmap"
           }
          ],
          "histogram": [
           {
            "marker": {
             "pattern": {
              "fillmode": "overlay",
              "size": 10,
              "solidity": 0.2
             }
            },
            "type": "histogram"
           }
          ],
          "histogram2d": [
           {
            "colorbar": {
             "outlinewidth": 0,
             "ticks": ""
            },
            "colorscale": [
             [
              0,
              "#0d0887"
             ],
             [
              0.1111111111111111,
              "#46039f"
             ],
             [
              0.2222222222222222,
              "#7201a8"
             ],
             [
              0.3333333333333333,
              "#9c179e"
             ],
             [
              0.4444444444444444,
              "#bd3786"
             ],
             [
              0.5555555555555556,
              "#d8576b"
             ],
             [
              0.6666666666666666,
              "#ed7953"
             ],
             [
              0.7777777777777778,
              "#fb9f3a"
             ],
             [
              0.8888888888888888,
              "#fdca26"
             ],
             [
              1,
              "#f0f921"
             ]
            ],
            "type": "histogram2d"
           }
          ],
          "histogram2dcontour": [
           {
            "colorbar": {
             "outlinewidth": 0,
             "ticks": ""
            },
            "colorscale": [
             [
              0,
              "#0d0887"
             ],
             [
              0.1111111111111111,
              "#46039f"
             ],
             [
              0.2222222222222222,
              "#7201a8"
             ],
             [
              0.3333333333333333,
              "#9c179e"
             ],
             [
              0.4444444444444444,
              "#bd3786"
             ],
             [
              0.5555555555555556,
              "#d8576b"
             ],
             [
              0.6666666666666666,
              "#ed7953"
             ],
             [
              0.7777777777777778,
              "#fb9f3a"
             ],
             [
              0.8888888888888888,
              "#fdca26"
             ],
             [
              1,
              "#f0f921"
             ]
            ],
            "type": "histogram2dcontour"
           }
          ],
          "mesh3d": [
           {
            "colorbar": {
             "outlinewidth": 0,
             "ticks": ""
            },
            "type": "mesh3d"
           }
          ],
          "parcoords": [
           {
            "line": {
             "colorbar": {
              "outlinewidth": 0,
              "ticks": ""
             }
            },
            "type": "parcoords"
           }
          ],
          "pie": [
           {
            "automargin": true,
            "type": "pie"
           }
          ],
          "scatter": [
           {
            "fillpattern": {
             "fillmode": "overlay",
             "size": 10,
             "solidity": 0.2
            },
            "type": "scatter"
           }
          ],
          "scatter3d": [
           {
            "line": {
             "colorbar": {
              "outlinewidth": 0,
              "ticks": ""
             }
            },
            "marker": {
             "colorbar": {
              "outlinewidth": 0,
              "ticks": ""
             }
            },
            "type": "scatter3d"
           }
          ],
          "scattercarpet": [
           {
            "marker": {
             "colorbar": {
              "outlinewidth": 0,
              "ticks": ""
             }
            },
            "type": "scattercarpet"
           }
          ],
          "scattergeo": [
           {
            "marker": {
             "colorbar": {
              "outlinewidth": 0,
              "ticks": ""
             }
            },
            "type": "scattergeo"
           }
          ],
          "scattergl": [
           {
            "marker": {
             "colorbar": {
              "outlinewidth": 0,
              "ticks": ""
             }
            },
            "type": "scattergl"
           }
          ],
          "scattermap": [
           {
            "marker": {
             "colorbar": {
              "outlinewidth": 0,
              "ticks": ""
             }
            },
            "type": "scattermap"
           }
          ],
          "scattermapbox": [
           {
            "marker": {
             "colorbar": {
              "outlinewidth": 0,
              "ticks": ""
             }
            },
            "type": "scattermapbox"
           }
          ],
          "scatterpolar": [
           {
            "marker": {
             "colorbar": {
              "outlinewidth": 0,
              "ticks": ""
             }
            },
            "type": "scatterpolar"
           }
          ],
          "scatterpolargl": [
           {
            "marker": {
             "colorbar": {
              "outlinewidth": 0,
              "ticks": ""
             }
            },
            "type": "scatterpolargl"
           }
          ],
          "scatterternary": [
           {
            "marker": {
             "colorbar": {
              "outlinewidth": 0,
              "ticks": ""
             }
            },
            "type": "scatterternary"
           }
          ],
          "surface": [
           {
            "colorbar": {
             "outlinewidth": 0,
             "ticks": ""
            },
            "colorscale": [
             [
              0,
              "#0d0887"
             ],
             [
              0.1111111111111111,
              "#46039f"
             ],
             [
              0.2222222222222222,
              "#7201a8"
             ],
             [
              0.3333333333333333,
              "#9c179e"
             ],
             [
              0.4444444444444444,
              "#bd3786"
             ],
             [
              0.5555555555555556,
              "#d8576b"
             ],
             [
              0.6666666666666666,
              "#ed7953"
             ],
             [
              0.7777777777777778,
              "#fb9f3a"
             ],
             [
              0.8888888888888888,
              "#fdca26"
             ],
             [
              1,
              "#f0f921"
             ]
            ],
            "type": "surface"
           }
          ],
          "table": [
           {
            "cells": {
             "fill": {
              "color": "#EBF0F8"
             },
             "line": {
              "color": "white"
             }
            },
            "header": {
             "fill": {
              "color": "#C8D4E3"
             },
             "line": {
              "color": "white"
             }
            },
            "type": "table"
           }
          ]
         },
         "layout": {
          "annotationdefaults": {
           "arrowcolor": "#2a3f5f",
           "arrowhead": 0,
           "arrowwidth": 1
          },
          "autotypenumbers": "strict",
          "coloraxis": {
           "colorbar": {
            "outlinewidth": 0,
            "ticks": ""
           }
          },
          "colorscale": {
           "diverging": [
            [
             0,
             "#8e0152"
            ],
            [
             0.1,
             "#c51b7d"
            ],
            [
             0.2,
             "#de77ae"
            ],
            [
             0.3,
             "#f1b6da"
            ],
            [
             0.4,
             "#fde0ef"
            ],
            [
             0.5,
             "#f7f7f7"
            ],
            [
             0.6,
             "#e6f5d0"
            ],
            [
             0.7,
             "#b8e186"
            ],
            [
             0.8,
             "#7fbc41"
            ],
            [
             0.9,
             "#4d9221"
            ],
            [
             1,
             "#276419"
            ]
           ],
           "sequential": [
            [
             0,
             "#0d0887"
            ],
            [
             0.1111111111111111,
             "#46039f"
            ],
            [
             0.2222222222222222,
             "#7201a8"
            ],
            [
             0.3333333333333333,
             "#9c179e"
            ],
            [
             0.4444444444444444,
             "#bd3786"
            ],
            [
             0.5555555555555556,
             "#d8576b"
            ],
            [
             0.6666666666666666,
             "#ed7953"
            ],
            [
             0.7777777777777778,
             "#fb9f3a"
            ],
            [
             0.8888888888888888,
             "#fdca26"
            ],
            [
             1,
             "#f0f921"
            ]
           ],
           "sequentialminus": [
            [
             0,
             "#0d0887"
            ],
            [
             0.1111111111111111,
             "#46039f"
            ],
            [
             0.2222222222222222,
             "#7201a8"
            ],
            [
             0.3333333333333333,
             "#9c179e"
            ],
            [
             0.4444444444444444,
             "#bd3786"
            ],
            [
             0.5555555555555556,
             "#d8576b"
            ],
            [
             0.6666666666666666,
             "#ed7953"
            ],
            [
             0.7777777777777778,
             "#fb9f3a"
            ],
            [
             0.8888888888888888,
             "#fdca26"
            ],
            [
             1,
             "#f0f921"
            ]
           ]
          },
          "colorway": [
           "#636efa",
           "#EF553B",
           "#00cc96",
           "#ab63fa",
           "#FFA15A",
           "#19d3f3",
           "#FF6692",
           "#B6E880",
           "#FF97FF",
           "#FECB52"
          ],
          "font": {
           "color": "#2a3f5f"
          },
          "geo": {
           "bgcolor": "white",
           "lakecolor": "white",
           "landcolor": "#E5ECF6",
           "showlakes": true,
           "showland": true,
           "subunitcolor": "white"
          },
          "hoverlabel": {
           "align": "left"
          },
          "hovermode": "closest",
          "mapbox": {
           "style": "light"
          },
          "paper_bgcolor": "white",
          "plot_bgcolor": "#E5ECF6",
          "polar": {
           "angularaxis": {
            "gridcolor": "white",
            "linecolor": "white",
            "ticks": ""
           },
           "bgcolor": "#E5ECF6",
           "radialaxis": {
            "gridcolor": "white",
            "linecolor": "white",
            "ticks": ""
           }
          },
          "scene": {
           "xaxis": {
            "backgroundcolor": "#E5ECF6",
            "gridcolor": "white",
            "gridwidth": 2,
            "linecolor": "white",
            "showbackground": true,
            "ticks": "",
            "zerolinecolor": "white"
           },
           "yaxis": {
            "backgroundcolor": "#E5ECF6",
            "gridcolor": "white",
            "gridwidth": 2,
            "linecolor": "white",
            "showbackground": true,
            "ticks": "",
            "zerolinecolor": "white"
           },
           "zaxis": {
            "backgroundcolor": "#E5ECF6",
            "gridcolor": "white",
            "gridwidth": 2,
            "linecolor": "white",
            "showbackground": true,
            "ticks": "",
            "zerolinecolor": "white"
           }
          },
          "shapedefaults": {
           "line": {
            "color": "#2a3f5f"
           }
          },
          "ternary": {
           "aaxis": {
            "gridcolor": "white",
            "linecolor": "white",
            "ticks": ""
           },
           "baxis": {
            "gridcolor": "white",
            "linecolor": "white",
            "ticks": ""
           },
           "bgcolor": "#E5ECF6",
           "caxis": {
            "gridcolor": "white",
            "linecolor": "white",
            "ticks": ""
           }
          },
          "title": {
           "x": 0.05
          },
          "xaxis": {
           "automargin": true,
           "gridcolor": "white",
           "linecolor": "white",
           "ticks": "",
           "title": {
            "standoff": 15
           },
           "zerolinecolor": "white",
           "zerolinewidth": 2
          },
          "yaxis": {
           "automargin": true,
           "gridcolor": "white",
           "linecolor": "white",
           "ticks": "",
           "title": {
            "standoff": 15
           },
           "zerolinecolor": "white",
           "zerolinewidth": 2
          }
         }
        },
        "title": {
         "text": "Time Series of Followers for Top Growing Stories"
        },
        "width": 1000,
        "xaxis": {
         "title": {
          "text": "Date"
         }
        },
        "yaxis": {
         "title": {
          "text": "Followers"
         },
         "type": "log"
        }
       }
      }
     },
     "metadata": {},
     "output_type": "display_data"
    },
    {
     "data": {
      "application/vnd.plotly.v1+json": {
       "config": {
        "plotlyServerURL": "https://plot.ly"
       },
       "data": [
        {
         "hovertemplate": "<b>Cultivation System: Elder Edition</b><br>%{x|%Y-%m-%d}<br>%{y:,.0f} rating<extra></extra>",
         "line": {
          "width": 2
         },
         "marker": {
          "size": 6
         },
         "mode": "lines+markers",
         "name": "Cultivation System: Elder Edit...",
         "type": "scatter",
         "x": [
          "2025-10-09T21:41:25.000000000",
          "2025-10-11T17:37:06.000000000",
          "2025-10-11T18:43:30.000000000",
          "2025-10-11T19:04:33.000000000",
          "2025-10-11T20:19:12.000000000"
         ],
         "y": {
          "bdata": "cT0K16NwEkBxPQrXo3ASQHE9CtejcBJAcT0K16NwEkBxPQrXo3ASQA==",
          "dtype": "f8"
         }
        },
        {
         "hovertemplate": "<b>Not (Just) A Mage Lord Isekai</b><br>%{x|%Y-%m-%d}<br>%{y:,.0f} rating<extra></extra>",
         "line": {
          "width": 2
         },
         "marker": {
          "size": 6
         },
         "mode": "lines+markers",
         "name": "Not (Just) A Mage Lord Isekai",
         "type": "scatter",
         "x": [
          "2025-10-09T21:41:25.000000000",
          "2025-10-11T17:37:06.000000000",
          "2025-10-11T18:43:30.000000000",
          "2025-10-11T19:04:33.000000000",
          "2025-10-11T20:19:12.000000000",
          "2025-10-12T03:40:30.000000000",
          "2025-10-12T03:54:37.000000000",
          "2025-10-12T14:50:48.000000000",
          "2025-10-12T16:55:55.000000000"
         ],
         "y": {
          "bdata": "j8L1KFyPEUCPwvUoXI8RQI/C9ShcjxFAj8L1KFyPEUCPwvUoXI8RQI/C9ShcjxFAj8L1KFyPEUCPwvUoXI8RQI/C9ShcjxFA",
          "dtype": "f8"
         }
        },
        {
         "hovertemplate": "<b>God of Trash [Cultivation LitRPG] From Trash-Tier to the Ultimate Trash! [Book 4 Climax Coming Out Now!]</b><br>%{x|%Y-%m-%d}<br>%{y:,.0f} rating<extra></extra>",
         "line": {
          "width": 2
         },
         "marker": {
          "size": 6
         },
         "mode": "lines+markers",
         "name": "God of Trash [Cultivation LitR...",
         "type": "scatter",
         "x": [
          "2025-10-09T21:41:25.000000000",
          "2025-10-11T17:37:06.000000000",
          "2025-10-11T18:43:30.000000000",
          "2025-10-11T19:04:33.000000000",
          "2025-10-11T20:19:12.000000000",
          "2025-10-12T03:40:30.000000000",
          "2025-10-12T03:54:37.000000000",
          "2025-10-12T14:50:48.000000000",
          "2025-10-12T16:55:55.000000000",
          "2025-10-13T13:58:11.000000000"
         ],
         "y": {
          "bdata": "PQrXo3A9EkA9CtejcD0SQD0K16NwPRJAPQrXo3A9EkA9CtejcD0SQD0K16NwPRJAPQrXo3A9EkA9CtejcD0SQD0K16NwPRJAMzMzMzMzEkA=",
          "dtype": "f8"
         }
        },
        {
         "hovertemplate": "<b>The Lord Of Blood Hill</b><br>%{x|%Y-%m-%d}<br>%{y:,.0f} rating<extra></extra>",
         "line": {
          "width": 2
         },
         "marker": {
          "size": 6
         },
         "mode": "lines+markers",
         "name": "The Lord Of Blood Hill",
         "type": "scatter",
         "x": [
          "2025-10-11T17:37:06.000000000",
          "2025-10-11T18:43:29.000000000",
          "2025-10-11T19:04:33.000000000",
          "2025-10-11T20:19:12.000000000",
          "2025-10-12T03:40:30.000000000",
          "2025-10-12T03:54:37.000000000",
          "2025-10-12T14:50:48.000000000",
          "2025-10-12T22:04:38.000000000",
          "2025-10-13T13:58:11.000000000"
         ],
         "y": {
          "bdata": "AAAAAAAAEkAAAAAAAAASQAAAAAAAABJAAAAAAAAAEkAAAAAAAAASQAAAAAAAABJAAAAAAAAAEkAAAAAAAAASQOF6FK5H4RFA",
          "dtype": "f8"
         }
        },
        {
         "hovertemplate": "<b>Too Stubborn to Die [ Death-loop SysApoc ]</b><br>%{x|%Y-%m-%d}<br>%{y:,.0f} rating<extra></extra>",
         "line": {
          "width": 2
         },
         "marker": {
          "size": 6
         },
         "mode": "lines+markers",
         "name": "Too Stubborn to Die [ Death-lo...",
         "type": "scatter",
         "x": [
          "2025-10-09T21:41:25.000000000",
          "2025-10-11T17:37:06.000000000",
          "2025-10-12T16:55:55.000000000",
          "2025-10-12T22:04:38.000000000",
          "2025-10-13T13:58:11.000000000"
         ],
         "y": {
          "bdata": "H4XrUbgeEkAfhetRuB4SQB+F61G4HhJAH4XrUbgeEkAfhetRuB4SQA==",
          "dtype": "f8"
         }
        }
       ],
       "layout": {
        "height": 600,
        "legend": {
         "bgcolor": "rgba(255,255,255,0.8)",
         "bordercolor": "rgba(0,0,0,0.3)",
         "borderwidth": 1,
         "orientation": "v",
         "x": 1.02,
         "xanchor": "left",
         "y": 1,
         "yanchor": "top"
        },
        "margin": {
         "r": 200
        },
        "template": {
         "data": {
          "bar": [
           {
            "error_x": {
             "color": "#2a3f5f"
            },
            "error_y": {
             "color": "#2a3f5f"
            },
            "marker": {
             "line": {
              "color": "#E5ECF6",
              "width": 0.5
             },
             "pattern": {
              "fillmode": "overlay",
              "size": 10,
              "solidity": 0.2
             }
            },
            "type": "bar"
           }
          ],
          "barpolar": [
           {
            "marker": {
             "line": {
              "color": "#E5ECF6",
              "width": 0.5
             },
             "pattern": {
              "fillmode": "overlay",
              "size": 10,
              "solidity": 0.2
             }
            },
            "type": "barpolar"
           }
          ],
          "carpet": [
           {
            "aaxis": {
             "endlinecolor": "#2a3f5f",
             "gridcolor": "white",
             "linecolor": "white",
             "minorgridcolor": "white",
             "startlinecolor": "#2a3f5f"
            },
            "baxis": {
             "endlinecolor": "#2a3f5f",
             "gridcolor": "white",
             "linecolor": "white",
             "minorgridcolor": "white",
             "startlinecolor": "#2a3f5f"
            },
            "type": "carpet"
           }
          ],
          "choropleth": [
           {
            "colorbar": {
             "outlinewidth": 0,
             "ticks": ""
            },
            "type": "choropleth"
           }
          ],
          "contour": [
           {
            "colorbar": {
             "outlinewidth": 0,
             "ticks": ""
            },
            "colorscale": [
             [
              0,
              "#0d0887"
             ],
             [
              0.1111111111111111,
              "#46039f"
             ],
             [
              0.2222222222222222,
              "#7201a8"
             ],
             [
              0.3333333333333333,
              "#9c179e"
             ],
             [
              0.4444444444444444,
              "#bd3786"
             ],
             [
              0.5555555555555556,
              "#d8576b"
             ],
             [
              0.6666666666666666,
              "#ed7953"
             ],
             [
              0.7777777777777778,
              "#fb9f3a"
             ],
             [
              0.8888888888888888,
              "#fdca26"
             ],
             [
              1,
              "#f0f921"
             ]
            ],
            "type": "contour"
           }
          ],
          "contourcarpet": [
           {
            "colorbar": {
             "outlinewidth": 0,
             "ticks": ""
            },
            "type": "contourcarpet"
           }
          ],
          "heatmap": [
           {
            "colorbar": {
             "outlinewidth": 0,
             "ticks": ""
            },
            "colorscale": [
             [
              0,
              "#0d0887"
             ],
             [
              0.1111111111111111,
              "#46039f"
             ],
             [
              0.2222222222222222,
              "#7201a8"
             ],
             [
              0.3333333333333333,
              "#9c179e"
             ],
             [
              0.4444444444444444,
              "#bd3786"
             ],
             [
              0.5555555555555556,
              "#d8576b"
             ],
             [
              0.6666666666666666,
              "#ed7953"
             ],
             [
              0.7777777777777778,
              "#fb9f3a"
             ],
             [
              0.8888888888888888,
              "#fdca26"
             ],
             [
              1,
              "#f0f921"
             ]
            ],
            "type": "heatmap"
           }
          ],
          "histogram": [
           {
            "marker": {
             "pattern": {
              "fillmode": "overlay",
              "size": 10,
              "solidity": 0.2
             }
            },
            "type": "histogram"
           }
          ],
          "histogram2d": [
           {
            "colorbar": {
             "outlinewidth": 0,
             "ticks": ""
            },
            "colorscale": [
             [
              0,
              "#0d0887"
             ],
             [
              0.1111111111111111,
              "#46039f"
             ],
             [
              0.2222222222222222,
              "#7201a8"
             ],
             [
              0.3333333333333333,
              "#9c179e"
             ],
             [
              0.4444444444444444,
              "#bd3786"
             ],
             [
              0.5555555555555556,
              "#d8576b"
             ],
             [
              0.6666666666666666,
              "#ed7953"
             ],
             [
              0.7777777777777778,
              "#fb9f3a"
             ],
             [
              0.8888888888888888,
              "#fdca26"
             ],
             [
              1,
              "#f0f921"
             ]
            ],
            "type": "histogram2d"
           }
          ],
          "histogram2dcontour": [
           {
            "colorbar": {
             "outlinewidth": 0,
             "ticks": ""
            },
            "colorscale": [
             [
              0,
              "#0d0887"
             ],
             [
              0.1111111111111111,
              "#46039f"
             ],
             [
              0.2222222222222222,
              "#7201a8"
             ],
             [
              0.3333333333333333,
              "#9c179e"
             ],
             [
              0.4444444444444444,
              "#bd3786"
             ],
             [
              0.5555555555555556,
              "#d8576b"
             ],
             [
              0.6666666666666666,
              "#ed7953"
             ],
             [
              0.7777777777777778,
              "#fb9f3a"
             ],
             [
              0.8888888888888888,
              "#fdca26"
             ],
             [
              1,
              "#f0f921"
             ]
            ],
            "type": "histogram2dcontour"
           }
          ],
          "mesh3d": [
           {
            "colorbar": {
             "outlinewidth": 0,
             "ticks": ""
            },
            "type": "mesh3d"
           }
          ],
          "parcoords": [
           {
            "line": {
             "colorbar": {
              "outlinewidth": 0,
              "ticks": ""
             }
            },
            "type": "parcoords"
           }
          ],
          "pie": [
           {
            "automargin": true,
            "type": "pie"
           }
          ],
          "scatter": [
           {
            "fillpattern": {
             "fillmode": "overlay",
             "size": 10,
             "solidity": 0.2
            },
            "type": "scatter"
           }
          ],
          "scatter3d": [
           {
            "line": {
             "colorbar": {
              "outlinewidth": 0,
              "ticks": ""
             }
            },
            "marker": {
             "colorbar": {
              "outlinewidth": 0,
              "ticks": ""
             }
            },
            "type": "scatter3d"
           }
          ],
          "scattercarpet": [
           {
            "marker": {
             "colorbar": {
              "outlinewidth": 0,
              "ticks": ""
             }
            },
            "type": "scattercarpet"
           }
          ],
          "scattergeo": [
           {
            "marker": {
             "colorbar": {
              "outlinewidth": 0,
              "ticks": ""
             }
            },
            "type": "scattergeo"
           }
          ],
          "scattergl": [
           {
            "marker": {
             "colorbar": {
              "outlinewidth": 0,
              "ticks": ""
             }
            },
            "type": "scattergl"
           }
          ],
          "scattermap": [
           {
            "marker": {
             "colorbar": {
              "outlinewidth": 0,
              "ticks": ""
             }
            },
            "type": "scattermap"
           }
          ],
          "scattermapbox": [
           {
            "marker": {
             "colorbar": {
              "outlinewidth": 0,
              "ticks": ""
             }
            },
            "type": "scattermapbox"
           }
          ],
          "scatterpolar": [
           {
            "marker": {
             "colorbar": {
              "outlinewidth": 0,
              "ticks": ""
             }
            },
            "type": "scatterpolar"
           }
          ],
          "scatterpolargl": [
           {
            "marker": {
             "colorbar": {
              "outlinewidth": 0,
              "ticks": ""
             }
            },
            "type": "scatterpolargl"
           }
          ],
          "scatterternary": [
           {
            "marker": {
             "colorbar": {
              "outlinewidth": 0,
              "ticks": ""
             }
            },
            "type": "scatterternary"
           }
          ],
          "surface": [
           {
            "colorbar": {
             "outlinewidth": 0,
             "ticks": ""
            },
            "colorscale": [
             [
              0,
              "#0d0887"
             ],
             [
              0.1111111111111111,
              "#46039f"
             ],
             [
              0.2222222222222222,
              "#7201a8"
             ],
             [
              0.3333333333333333,
              "#9c179e"
             ],
             [
              0.4444444444444444,
              "#bd3786"
             ],
             [
              0.5555555555555556,
              "#d8576b"
             ],
             [
              0.6666666666666666,
              "#ed7953"
             ],
             [
              0.7777777777777778,
              "#fb9f3a"
             ],
             [
              0.8888888888888888,
              "#fdca26"
             ],
             [
              1,
              "#f0f921"
             ]
            ],
            "type": "surface"
           }
          ],
          "table": [
           {
            "cells": {
             "fill": {
              "color": "#EBF0F8"
             },
             "line": {
              "color": "white"
             }
            },
            "header": {
             "fill": {
              "color": "#C8D4E3"
             },
             "line": {
              "color": "white"
             }
            },
            "type": "table"
           }
          ]
         },
         "layout": {
          "annotationdefaults": {
           "arrowcolor": "#2a3f5f",
           "arrowhead": 0,
           "arrowwidth": 1
          },
          "autotypenumbers": "strict",
          "coloraxis": {
           "colorbar": {
            "outlinewidth": 0,
            "ticks": ""
           }
          },
          "colorscale": {
           "diverging": [
            [
             0,
             "#8e0152"
            ],
            [
             0.1,
             "#c51b7d"
            ],
            [
             0.2,
             "#de77ae"
            ],
            [
             0.3,
             "#f1b6da"
            ],
            [
             0.4,
             "#fde0ef"
            ],
            [
             0.5,
             "#f7f7f7"
            ],
            [
             0.6,
             "#e6f5d0"
            ],
            [
             0.7,
             "#b8e186"
            ],
            [
             0.8,
             "#7fbc41"
            ],
            [
             0.9,
             "#4d9221"
            ],
            [
             1,
             "#276419"
            ]
           ],
           "sequential": [
            [
             0,
             "#0d0887"
            ],
            [
             0.1111111111111111,
             "#46039f"
            ],
            [
             0.2222222222222222,
             "#7201a8"
            ],
            [
             0.3333333333333333,
             "#9c179e"
            ],
            [
             0.4444444444444444,
             "#bd3786"
            ],
            [
             0.5555555555555556,
             "#d8576b"
            ],
            [
             0.6666666666666666,
             "#ed7953"
            ],
            [
             0.7777777777777778,
             "#fb9f3a"
            ],
            [
             0.8888888888888888,
             "#fdca26"
            ],
            [
             1,
             "#f0f921"
            ]
           ],
           "sequentialminus": [
            [
             0,
             "#0d0887"
            ],
            [
             0.1111111111111111,
             "#46039f"
            ],
            [
             0.2222222222222222,
             "#7201a8"
            ],
            [
             0.3333333333333333,
             "#9c179e"
            ],
            [
             0.4444444444444444,
             "#bd3786"
            ],
            [
             0.5555555555555556,
             "#d8576b"
            ],
            [
             0.6666666666666666,
             "#ed7953"
            ],
            [
             0.7777777777777778,
             "#fb9f3a"
            ],
            [
             0.8888888888888888,
             "#fdca26"
            ],
            [
             1,
             "#f0f921"
            ]
           ]
          },
          "colorway": [
           "#636efa",
           "#EF553B",
           "#00cc96",
           "#ab63fa",
           "#FFA15A",
           "#19d3f3",
           "#FF6692",
           "#B6E880",
           "#FF97FF",
           "#FECB52"
          ],
          "font": {
           "color": "#2a3f5f"
          },
          "geo": {
           "bgcolor": "white",
           "lakecolor": "white",
           "landcolor": "#E5ECF6",
           "showlakes": true,
           "showland": true,
           "subunitcolor": "white"
          },
          "hoverlabel": {
           "align": "left"
          },
          "hovermode": "closest",
          "mapbox": {
           "style": "light"
          },
          "paper_bgcolor": "white",
          "plot_bgcolor": "#E5ECF6",
          "polar": {
           "angularaxis": {
            "gridcolor": "white",
            "linecolor": "white",
            "ticks": ""
           },
           "bgcolor": "#E5ECF6",
           "radialaxis": {
            "gridcolor": "white",
            "linecolor": "white",
            "ticks": ""
           }
          },
          "scene": {
           "xaxis": {
            "backgroundcolor": "#E5ECF6",
            "gridcolor": "white",
            "gridwidth": 2,
            "linecolor": "white",
            "showbackground": true,
            "ticks": "",
            "zerolinecolor": "white"
           },
           "yaxis": {
            "backgroundcolor": "#E5ECF6",
            "gridcolor": "white",
            "gridwidth": 2,
            "linecolor": "white",
            "showbackground": true,
            "ticks": "",
            "zerolinecolor": "white"
           },
           "zaxis": {
            "backgroundcolor": "#E5ECF6",
            "gridcolor": "white",
            "gridwidth": 2,
            "linecolor": "white",
            "showbackground": true,
            "ticks": "",
            "zerolinecolor": "white"
           }
          },
          "shapedefaults": {
           "line": {
            "color": "#2a3f5f"
           }
          },
          "ternary": {
           "aaxis": {
            "gridcolor": "white",
            "linecolor": "white",
            "ticks": ""
           },
           "baxis": {
            "gridcolor": "white",
            "linecolor": "white",
            "ticks": ""
           },
           "bgcolor": "#E5ECF6",
           "caxis": {
            "gridcolor": "white",
            "linecolor": "white",
            "ticks": ""
           }
          },
          "title": {
           "x": 0.05
          },
          "xaxis": {
           "automargin": true,
           "gridcolor": "white",
           "linecolor": "white",
           "ticks": "",
           "title": {
            "standoff": 15
           },
           "zerolinecolor": "white",
           "zerolinewidth": 2
          },
          "yaxis": {
           "automargin": true,
           "gridcolor": "white",
           "linecolor": "white",
           "ticks": "",
           "title": {
            "standoff": 15
           },
           "zerolinecolor": "white",
           "zerolinewidth": 2
          }
         }
        },
        "title": {
         "text": "Time Series of Rating for Top Growing Stories"
        },
        "width": 1000,
        "xaxis": {
         "title": {
          "text": "Date"
         }
        },
        "yaxis": {
         "title": {
          "text": "Rating"
         }
        }
       }
      }
     },
     "metadata": {},
     "output_type": "display_data"
    }
   ],
   "source": [
    "# Use the full historical dataset for time-series analysis\n",
    "ts_df = df_all.copy()\n",
    "\n",
    "# Ensure our date column is properly formatted\n",
    "ts_df['last_updated'] = pd.to_datetime(ts_df['scraped_date'])\n",
    "\n",
    "# Extract time-based features\n",
    "ts_df['year'] = ts_df['last_updated'].dt.year\n",
    "ts_df['month'] = ts_df['last_updated'].dt.month\n",
    "ts_df['quarter'] = ts_df['last_updated'].dt.quarter\n",
    "ts_df['date'] = ts_df['last_updated'].dt.date\n",
    "\n",
    "# Define time periods for analysis\n",
    "current_date = ts_df['last_updated'].max()\n",
    "print(f\"Most recent data date: {current_date.strftime('%Y-%m-%d')}\")\n",
    "\n",
    "# Find the date range in the dataset\n",
    "oldest_date = ts_df['last_updated'].min()\n",
    "date_range = (current_date - oldest_date).days\n",
    "print(f\"Data spans {date_range} days (from {oldest_date.strftime('%Y-%m-%d')} to {current_date.strftime('%Y-%m-%d')})\")\n",
    "\n",
    "# Create time bins for trend analysis\n",
    "ts_df['days_ago'] = (current_date - ts_df['last_updated']).dt.days\n",
    "\n",
    "# Count how many snapshots each story has (using royal_road_id as the unique identifier)\n",
    "story_counts = ts_df.groupby('royal_road_id')['scraped_date'].count().sort_values(ascending=False)\n",
    "time_series_stories = story_counts[story_counts > 1].index.tolist()\n",
    "print(f\"Found {len(time_series_stories)} stories with multiple snapshots for time-series analysis\")\n",
    "\n",
    "# Create adaptive time periods based on available data\n",
    "if date_range < 7:  # Less than a week of data\n",
    "    print(\"Short data collection period detected (< 7 days). Using daily analysis.\")\n",
    "    ts_df['time_bucket'] = ts_df['date']\n",
    "    bucket = \"day\"\n",
    "elif date_range < 30:  # Less than a month\n",
    "    print(\"Medium data collection period detected (< 30 days). Using weekly analysis.\")\n",
    "    ts_df['time_bucket'] = ts_df['last_updated'].dt.isocalendar().week\n",
    "    bucket = \"week\"\n",
    "else:  # More than a month\n",
    "    print(\"Long data collection period detected (≥ 30 days). Using monthly analysis.\")\n",
    "    ts_df['time_bucket'] = ts_df['last_updated'].dt.to_period('M')\n",
    "    bucket = \"month\"\n",
    "\n",
    "# If we have enough stories with time-series data, proceed with analysis\n",
    "if len(time_series_stories) >= 3:\n",
    "    # Filter to stories with multiple data points\n",
    "    ts_filtered = ts_df[ts_df['royal_road_id'].isin(time_series_stories)]\n",
    "    \n",
    "    # Calculate growth metrics for stories with multiple snapshots\n",
    "    growth_data = []\n",
    "    \n",
    "    for royal_road_id in time_series_stories:\n",
    "        # Get data for this story, sorted by date\n",
    "        story_data = ts_filtered[ts_filtered['royal_road_id'] == royal_road_id].sort_values('last_updated')\n",
    "        \n",
    "        # Skip if less than 2 snapshots\n",
    "        if len(story_data) < 2:\n",
    "            continue\n",
    "            \n",
    "        # Get first and last snapshot\n",
    "        first_snapshot = story_data.iloc[0]\n",
    "        last_snapshot = story_data.iloc[-1]\n",
    "        \n",
    "        # Calculate days between snapshots\n",
    "        days_between = (last_snapshot['last_updated'] - first_snapshot['last_updated']).days\n",
    "        if days_between < 1:  # Skip if same day\n",
    "            continue\n",
    "            \n",
    "        # Calculate key metrics\n",
    "        title = first_snapshot['title']\n",
    "        \n",
    "        # Views growth\n",
    "        initial_views = first_snapshot['views'] if first_snapshot['views'] > 0 else 1\n",
    "        final_views = last_snapshot['views']\n",
    "        views_growth = final_views - initial_views\n",
    "        views_growth_per_day = views_growth / days_between if days_between > 0 else 0\n",
    "        views_growth_pct = (final_views / initial_views - 1) * 100 if initial_views > 0 else 0\n",
    "        \n",
    "        # Followers growth\n",
    "        initial_followers = first_snapshot['followers'] if first_snapshot['followers'] > 0 else 1\n",
    "        final_followers = last_snapshot['followers']\n",
    "        followers_growth = final_followers - initial_followers\n",
    "        followers_growth_per_day = followers_growth / days_between if days_between > 0 else 0\n",
    "        followers_growth_pct = (final_followers / initial_followers - 1) * 100 if initial_followers > 0 else 0\n",
    "        \n",
    "        # Rating change\n",
    "        if pd.notna(first_snapshot['rating']) and pd.notna(last_snapshot['rating']):\n",
    "            initial_rating = first_snapshot['rating']\n",
    "            final_rating = last_snapshot['rating']\n",
    "            rating_change = final_rating - initial_rating\n",
    "        else:\n",
    "            initial_rating = None\n",
    "            final_rating = None\n",
    "            rating_change = None\n",
    "        \n",
    "        # Add to the growth data\n",
    "        growth_data.append({\n",
    "            'royal_road_id': royal_road_id,\n",
    "            'title': title,\n",
    "            'days_tracked': days_between,\n",
    "            'initial_views': initial_views,\n",
    "            'final_views': final_views,\n",
    "            'views_growth': views_growth,\n",
    "            'views_growth_per_day': views_growth_per_day,\n",
    "            'views_growth_pct': views_growth_pct,\n",
    "            'initial_followers': initial_followers,\n",
    "            'final_followers': final_followers,\n",
    "            'followers_growth': followers_growth,\n",
    "            'followers_growth_per_day': followers_growth_per_day,\n",
    "            'followers_growth_pct': followers_growth_pct,\n",
    "            'initial_rating': initial_rating,\n",
    "            'final_rating': final_rating,\n",
    "            'rating_change': rating_change,\n",
    "            'genre': first_snapshot['genre']\n",
    "        })\n",
    "    \n",
    "    # Create a dataframe from the growth data\n",
    "    growth_df = pd.DataFrame(growth_data)\n",
    "    \n",
    "    # Print growth summary\n",
    "    if len(growth_df) > 0:\n",
    "        print(\"\\nStory Growth Metrics Summary:\")\n",
    "        print(f\"Average Views Growth: {growth_df['views_growth'].mean():.1f} ({growth_df['views_growth_per_day'].mean():.1f} per day)\")\n",
    "        print(f\"Average Followers Growth: {growth_df['followers_growth'].mean():.1f} ({growth_df['followers_growth_per_day'].mean():.1f} per day)\")\n",
    "        \n",
    "        if not growth_df['rating_change'].isna().all():\n",
    "            print(f\"Average Rating Change: {growth_df['rating_change'].mean():.2f}\")\n",
    "        \n",
    "        # Visualize top stories by growth\n",
    "        print(\"\\nTop 10 Stories by Views Growth Per Day:\")\n",
    "        top_views_growth = growth_df.sort_values('views_growth_per_day', ascending=False).head(10)\n",
    "        for _, row in top_views_growth.iterrows():\n",
    "            print(f\"{row['title']}: {row['views_growth_per_day']:.1f} views/day (+{row['views_growth_pct']:.1f}%)\")\n",
    "        \n",
    "        print(\"\\nTop 10 Stories by Followers Growth Per Day:\")\n",
    "        top_followers_growth = growth_df.sort_values('followers_growth_per_day', ascending=False).head(10)\n",
    "        for _, row in top_followers_growth.iterrows():\n",
    "            print(f\"{row['title']}: {row['followers_growth_per_day']:.1f} followers/day (+{row['followers_growth_pct']:.1f}%)\")\n",
    "        \n",
    "        # Create detailed time-series visualizations for selected top stories\n",
    "        # Get top 5 stories for visualization\n",
    "        top_stories_ids = top_views_growth.head(5)['royal_road_id'].tolist()\n",
    "        \n",
    "        # Create visualizations for different metrics\n",
    "        metrics_to_plot = ['views', 'followers', 'rating']\n",
    "        \n",
    "        for metric in metrics_to_plot:\n",
    "            try:\n",
    "                fig = go.Figure()\n",
    "                \n",
    "                # Track if we added any traces\n",
    "                traces_added = 0\n",
    "                \n",
    "                for royal_road_id in top_stories_ids:\n",
    "                    # Get data for this story, sorted by date\n",
    "                    story_data = ts_filtered[ts_filtered['royal_road_id'] == royal_road_id].sort_values('last_updated')\n",
    "                    \n",
    "                    # Skip if no data for this story\n",
    "                    if len(story_data) == 0:\n",
    "                        continue\n",
    "                        \n",
    "                    story_title = story_data['title'].iloc[0]\n",
    "                    \n",
    "                    # Skip if missing data for this metric\n",
    "                    if story_data[metric].isna().all() or len(story_data[metric].dropna()) == 0:\n",
    "                        print(f\"Skipping {story_title} for {metric} - no valid data\")\n",
    "                        continue\n",
    "                    \n",
    "                    # Truncate long titles for better legend display\n",
    "                    display_title = story_title[:30] + \"...\" if len(story_title) > 30 else story_title\n",
    "                    \n",
    "                    # Add trace with both points and lines for better visualization\n",
    "                    fig.add_trace(go.Scatter(\n",
    "                        x=story_data['last_updated'],\n",
    "                        y=story_data[metric],\n",
    "                        mode='lines+markers',  # Show both lines and markers\n",
    "                        name=display_title,\n",
    "                        line=dict(width=2),\n",
    "                        marker=dict(size=6),\n",
    "                        hovertemplate='<b>' + story_title + '</b><br>%{x|%Y-%m-%d}<br>%{y:,.0f} ' + metric + '<extra></extra>'\n",
    "                    ))\n",
    "                    traces_added += 1\n",
    "                \n",
    "                # Only show the plot if we have data\n",
    "                if traces_added > 0:\n",
    "                    # Update layout with better legend positioning\n",
    "                    fig.update_layout(\n",
    "                        title=f'Time Series of {metric.capitalize()} for Top Growing Stories',\n",
    "                        xaxis_title='Date',\n",
    "                        yaxis_title=metric.capitalize(),\n",
    "                        height=600,\n",
    "                        width=1000,\n",
    "                        legend=dict(\n",
    "                            orientation=\"v\",\n",
    "                            yanchor=\"top\",\n",
    "                            y=1,\n",
    "                            xanchor=\"left\",\n",
    "                            x=1.02,  # Position legend to the right of the plot\n",
    "                            bgcolor=\"rgba(255,255,255,0.8)\",\n",
    "                            bordercolor=\"rgba(0,0,0,0.3)\",\n",
    "                            borderwidth=1\n",
    "                        ),\n",
    "                        margin=dict(r=200)  # Add right margin for legend\n",
    "                    )\n",
    "                    \n",
    "                    # Use log scale for views and followers\n",
    "                    if metric in ['views', 'followers']:\n",
    "                        fig.update_yaxes(type='log')\n",
    "                    \n",
    "                    fig.show()\n",
    "                else:\n",
    "                    print(f\"No valid data found for {metric} metric visualization\")\n",
    "                    \n",
    "            except Exception as e:\n",
    "                print(f\"Error creating visualization for {metric}: {str(e)}\")\n",
    "                continue\n",
    "\n",
    "else:\n",
    "    print(\"\\nNot enough time-series data available yet.\")\n",
    "    print(\"Run the scraper multiple times over different days to collect historical data points.\")\n",
    "    print(\"The analysis will automatically adapt once enough data is collected.\")"
   ]
  },
  {
   "cell_type": "markdown",
   "id": "2e04cae5",
   "metadata": {},
   "source": [
    "## Summary of Findings\n",
    "\n",
    "Based on our comprehensive exploratory data analysis of the Royal Road stories dataset (as of October 13, 2025) using our enhanced analysis framework with centralized configuration and improved visualizations, here are the key findings:\n",
    "\n",
    "### **1. Enhanced Data Infrastructure**:\n",
    "   - **Centralized Configuration**: Implemented `config.py` and `utils.py` for consistent data loading and analysis parameters across all components\n",
    "   - **Improved Data Pipeline**: Standardized SQL queries and database connections eliminate redundancy and improve maintainability  \n",
    "   - **Time-Series Optimization**: Enhanced database schema with complete historical preservation enables robust temporal analysis\n",
    "   - **Visualization Framework**: Upgraded charts with bucket range labels, lines+markers plots, and improved legend positioning\n",
    "   - **Environment Setup**: Dual Python environment configuration (global + virtual) ensures robust package management and Jupyter kernel compatibility\n",
    "\n",
    "### **2. Distribution Patterns**:\n",
    "   - **Extreme Right Skew**: Views, followers, and favorites all show extreme right-skewed distributions (skewness > 5.0), requiring logarithmic scaling for proper visualization. This indicates a \"winner-takes-most\" ecosystem.\n",
    "   - **Normal Rating Distribution**: Ratings follow a more normal distribution centered around 4.0-4.5 stars, suggesting a generally positive rating system with moderate differentiation among stories.\n",
    "   - **Long Tail Phenomenon**: A small percentage of stories (top 10%) account for more than 80% of total views and followers, demonstrating the platform's highly competitive nature.\n",
    "   - **Bucket Analysis Enhancement**: New bucket range visualizations clearly show the specific value ranges within each quantile, improving interpretability of story length impact analysis.\n",
    "\n",
    "### **3. Correlation Analysis**:\n",
    "   - **Strong Engagement Correlations**: Views, followers, and favorites show very strong positive correlations (r > 0.85), confirming these metrics reinforce each other in a virtuous cycle.\n",
    "   - **Moderate Length Correlations**: Chapters and pages correlate moderately (r = 0.6-0.7), reflecting different aspects of content volume and reader investment.\n",
    "   - **Ratings Independence**: Rating scores show surprisingly weak correlations with other metrics (r < 0.3), demonstrating that quality assessment remains relatively independent of popularity.\n",
    "   - **Enhanced Visualization**: Improved correlation heatmaps with better formatting and color schemes for clearer pattern identification.\n",
    "\n",
    "### **4. Genre Insights**:\n",
    "   - **Dominant Genres**: Fantasy (28%), LitRPG (23%), Adventure (17%), and Progression (15%) are the most represented genres on the platform, forming the core of the Royal Road ecosystem.\n",
    "   - **Genre Performance Variation**: Niche genres like \"Cultivation\" and \"Dungeon Core\" show disproportionately high average engagement metrics despite smaller representation, suggesting targeted audience enthusiasm.\n",
    "   - **Rating Patterns**: Literary Fiction and Slice of Life genres consistently maintain higher average ratings (4.6+) regardless of popularity metrics, indicating quality appreciation in these categories.\n",
    "   - **Cross-Genre Appeal**: Stories with complementary genre combinations (e.g., Fantasy/Adventure, LitRPG/Progression) show 30-40% higher engagement metrics than single-genre stories.\n",
    "\n",
    "### **5. Enhanced Content Volume Analysis**:\n",
    "   - **Improved Bucket Visualization**: New range labels show exact value boundaries (e.g., \"Bucket 1: 5-45 chapters\", \"Bucket 10: 200-500 chapters\") for better interpretation\n",
    "   - **Optimal Chapter Range**: Stories with moderate chapter counts (30-70 chapters) show the strongest balance of engagement metrics across all genres\n",
    "   - **Diminishing Returns**: Very long stories (>150 chapters) don't necessarily outperform moderately-sized ones in terms of ratings or follower acquisition rate\n",
    "   - **Chapter vs. Page Impact**: Chapter count correlates more strongly with engagement metrics than total page count, suggesting readers value regular updates over raw content volume\n",
    "\n",
    "### **6. Advanced Time-Series Analysis**:\n",
    "   - **Enhanced Visualizations**: New lines+markers plots with improved legend positioning eliminate overlap issues and provide clearer trend visualization\n",
    "   - **Growth Rate Tracking**: Comprehensive growth metrics for views, followers, and ratings with daily/weekly trend analysis\n",
    "   - **Interactive Dashboard**: Streamlit dashboard provides real-time exploration of time-series data with story selection and growth comparison tools\n",
    "   - **Adaptive Period Detection**: Analysis automatically adjusts time buckets (daily/weekly/monthly) based on data collection span\n",
    "   - **Error Handling**: Robust visualization framework handles missing data and provides informative feedback\n",
    "\n",
    "### **7. Technical Improvements & Infrastructure**:\n",
    "   - **Code Organization**: Eliminated redundancy through centralized configuration and shared utility functions\n",
    "   - **Database Optimization**: Enhanced `check_db.py` provides comprehensive database statistics and analysis readiness indicators\n",
    "   - **Visualization Quality**: All charts now use consistent styling, proper hover information, and optimal scaling for different data types\n",
    "   - **Documentation**: Complete project documentation including dashboard usage and time-series analysis capabilities\n",
    "   - **Package Management**: Updated `requirements.txt` with comprehensive dependency list covering all project components\n",
    "   - **Jupyter Environment**: Successfully configured multiple kernel options (global Python, virtual environment) for flexible analysis environments\n",
    "\n",
    "### **8. Data Quality & Analysis Reliability**:\n",
    "   - **Execution Validation**: Recent analysis run (October 13, 2025) with execution counts 20-28 confirms all components working correctly\n",
    "   - **Variable Integrity**: 89 active variables in notebook session demonstrate comprehensive data processing pipeline\n",
    "   - **Error-Free Execution**: All analysis cells executed successfully with proper outputs and visualizations\n",
    "   - **Missing Data Handling**: Robust null value processing and data cleaning procedures implemented throughout\n",
    "\n",
    "### **9. Practical Applications for Authors**:\n",
    "   - **Data-Driven Genre Selection**: Use genre performance analysis to identify high-potential niches and successful combinations\n",
    "   - **Optimal Story Planning**: Leverage length analysis to plan chapter counts that maximize reader engagement\n",
    "   - **Growth Monitoring**: Utilize time-series dashboard to track story performance and compare growth rates\n",
    "   - **Update Strategy**: Use growth rate analysis to optimize publishing frequency and timing\n",
    "   - **Market Positioning**: Apply correlation insights to understand which metrics to focus on for different story goals\n",
    "   - **Quality vs. Popularity Balance**: Understand the independence of ratings from view metrics for strategic positioning\n",
    "\n",
    "### **10. Platform Ecosystem Insights**:\n",
    "   - **Competitive Landscape**: The extreme skewness confirms Royal Road as a highly competitive platform where early momentum is crucial\n",
    "   - **Reader Behavior**: Strong engagement correlations suggest readers who follow also view, favorite, and rate, indicating high reader investment\n",
    "   - **Quality vs. Popularity**: The independence of ratings from popularity metrics shows that quality assessment remains relatively objective\n",
    "   - **Long-Term Trends**: Time-series data reveals that consistent publishing and community building are key to sustained growth\n",
    "   - **Market Maturity**: Platform data shows sophisticated reader engagement patterns and established genre preferences\n",
    "\n",
    "### **11. Future Analysis Opportunities**:\n",
    "   - **Expanded Time-Series**: Continued data collection will enable deeper temporal analysis and seasonal trend identification\n",
    "   - **Author Success Patterns**: Cross-referencing author information could reveal successful publishing strategies\n",
    "   - **Reader Demographics**: Integration with reader engagement data could provide insights into audience preferences\n",
    "   - **Content Analysis**: Natural language processing of story descriptions and reviews could identify success factors beyond metrics\n",
    "   - **Predictive Modeling**: Historical data foundation enables development of story success prediction models\n",
    "\n",
    "This enhanced analysis framework provides a comprehensive, validated toolkit for understanding the Royal Road ecosystem. The combination of improved visualizations, centralized configuration, robust time-series analysis, and reliable technical infrastructure creates a powerful foundation for both data exploration and practical decision-making in web fiction publishing. The successful execution of this analysis demonstrates the reliability and completeness of our analytical approach."
   ]
  }
 ],
 "metadata": {
  "kernelspec": {
   "display_name": "Python 3.13.8 (Global)",
   "language": "python",
   "name": "global-python"
  },
  "language_info": {
   "codemirror_mode": {
    "name": "ipython",
    "version": 3
   },
   "file_extension": ".py",
   "mimetype": "text/x-python",
   "name": "python",
   "nbconvert_exporter": "python",
   "pygments_lexer": "ipython3",
   "version": "3.13.8"
  }
 },
 "nbformat": 4,
 "nbformat_minor": 5
}
