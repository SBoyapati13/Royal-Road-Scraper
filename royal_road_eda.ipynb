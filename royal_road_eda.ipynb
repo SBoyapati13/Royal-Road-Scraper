{
 "cells": [
  {
   "cell_type": "markdown",
   "id": "d19b9828",
   "metadata": {},
   "source": [
    "# Royal Road Stories - Exploratory Data Analysis\n",
    "\n",
    "This notebook performs exploratory data analysis on the scraped data from Royal Road, a web fiction platform. We'll analyze various aspects of the stories including:\n",
    "\n",
    "- Story statistics (views, ratings, chapters, etc.)\n",
    "- Correlations between different metrics\n",
    "- Genre distributions\n",
    "- Story popularity patterns\n",
    "- Rating distributions\n",
    "\n",
    "First, let's import the required libraries and load our data."
   ]
  },
  {
   "cell_type": "code",
   "execution_count": 12,
   "id": "492b87cc",
   "metadata": {},
   "outputs": [],
   "source": [
    "# Import required libraries\n",
    "import pandas as pd\n",
    "import numpy as np\n",
    "import matplotlib.pyplot as plt\n",
    "import seaborn as sns\n",
    "from datetime import datetime\n",
    "import plotly.express as px\n",
    "import plotly.graph_objects as go\n",
    "from plotly.subplots import make_subplots\n",
    "\n",
    "# Set up display options\n",
    "pd.set_option('display.max_columns', None)\n",
    "pd.set_option('display.max_rows', 100)\n",
    "\n",
    "# Set style for matplotlib/seaborn plots\n",
    "sns.set_style(\"whitegrid\")  # Use seaborn's whitegrid style\n",
    "plt.style.use('seaborn-v0_8')  # Use the updated seaborn style name"
   ]
  },
  {
   "cell_type": "markdown",
   "id": "9731fff7",
   "metadata": {},
   "source": [
    "## Data Loading and Cleaning\n",
    "\n",
    "Let's load our data from the SQLite database. We'll need to join the stories table with the latest stats for each story."
   ]
  },
  {
   "cell_type": "code",
   "execution_count": 13,
   "id": "d61a47a7",
   "metadata": {},
   "outputs": [
    {
     "name": "stdout",
     "output_type": "stream",
     "text": [
      "Latest Metrics Dataset Shape: (128, 15)\n",
      "Total Historical Snapshots: 840\n",
      "Number of Stories with Multiple Snapshots: 85\n",
      "Total Snapshots in Database: 840\n",
      "<class 'pandas.core.frame.DataFrame'>\n",
      "RangeIndex: 128 entries, 0 to 127\n",
      "Data columns (total 15 columns):\n",
      " #   Column         Non-Null Count  Dtype         \n",
      "---  ------         --------------  -----         \n",
      " 0   id             128 non-null    int64         \n",
      " 1   royal_road_id  128 non-null    int64         \n",
      " 2   title          128 non-null    object        \n",
      " 3   url            128 non-null    object        \n",
      " 4   genre          128 non-null    object        \n",
      " 5   first_seen     128 non-null    object        \n",
      " 6   last_updated   128 non-null    datetime64[ns]\n",
      " 7   rating         122 non-null    float64       \n",
      " 8   followers      128 non-null    int64         \n",
      " 9   pages          128 non-null    int64         \n",
      " 10  chapters       125 non-null    float64       \n",
      " 11  views          128 non-null    int64         \n",
      " 12  favorites      128 non-null    int64         \n",
      " 13  ratings_count  128 non-null    int64         \n",
      " 14  scraped_date   128 non-null    object        \n",
      "dtypes: datetime64[ns](1), float64(2), int64(7), object(5)\n",
      "memory usage: 15.1+ KB\n"
     ]
    }
   ],
   "source": [
    "# Load data using the utility function\n",
    "from utils import load_latest_data, get_database_stats\n",
    "\n",
    "# Load both latest and historical data\n",
    "df_latest, df_all = load_latest_data()\n",
    "\n",
    "# For backward compatibility, use the latest metrics as the main dataframe\n",
    "df = df_latest.copy()\n",
    "\n",
    "# Display basic information about the dataset\n",
    "print(\"Latest Metrics Dataset Shape:\", df.shape)\n",
    "print(\"Total Historical Snapshots:\", df_all.shape[0])\n",
    "\n",
    "# Get database statistics\n",
    "stats = get_database_stats()\n",
    "if stats:\n",
    "    print(f\"Number of Stories with Multiple Snapshots: {stats['stories_with_history']}\")\n",
    "    print(f\"Total Snapshots in Database: {stats['total_snapshots']}\")\n",
    "\n",
    "if not df.empty:\n",
    "    df.info()\n",
    "else:\n",
    "    print(\"No data loaded. Please run the scraper first.\")"
   ]
  },
  {
   "cell_type": "markdown",
   "id": "5587de6f",
   "metadata": {},
   "source": [
    "## Basic Statistical Analysis\n",
    "\n",
    "Let's examine the basic statistics of our numerical columns to understand the central tendencies and spread of our data."
   ]
  },
  {
   "cell_type": "code",
   "execution_count": 14,
   "id": "505c7a19",
   "metadata": {},
   "outputs": [
    {
     "name": "stdout",
     "output_type": "stream",
     "text": [
      "\n",
      "Numerical Statistics:\n",
      "               id  royal_road_id                   last_updated      rating  \\\n",
      "count  128.000000     128.000000                            128  122.000000   \n",
      "mean    64.500000  115974.453125  2025-10-14 04:31:13.640624896    4.481885   \n",
      "min      1.000000   54658.000000            2025-10-09 21:41:25    3.170000   \n",
      "25%     32.750000  108959.500000            2025-10-12 16:55:55    4.350000   \n",
      "50%     64.500000  123299.000000            2025-10-14 00:44:37    4.535000   \n",
      "75%     96.250000  127758.500000            2025-10-15 17:29:33    4.610000   \n",
      "max    128.000000  130129.000000            2025-10-15 17:29:33    4.950000   \n",
      "std     37.094474   16784.797745                            NaN    0.250003   \n",
      "\n",
      "          followers        pages    chapters         views    favorites  \\\n",
      "count    128.000000   128.000000  125.000000  1.280000e+02   128.000000   \n",
      "mean    1820.539062  1205.546875  161.736000  6.916237e+05   429.453125   \n",
      "min        9.000000   127.000000   15.000000  1.690000e+03     3.000000   \n",
      "25%      170.500000   471.500000   65.000000  3.477725e+04    45.750000   \n",
      "50%      735.000000   717.000000  103.000000  1.567340e+05   149.000000   \n",
      "75%     2738.000000  1311.000000  176.000000  6.211582e+05   606.750000   \n",
      "max    14196.000000  8336.000000  999.000000  1.235591e+07  4727.000000   \n",
      "std     2487.655108  1396.275230  170.404412  1.683897e+06   669.759010   \n",
      "\n",
      "       ratings_count  \n",
      "count     128.000000  \n",
      "mean      281.062500  \n",
      "min         2.000000  \n",
      "25%        25.000000  \n",
      "50%        71.500000  \n",
      "75%       373.250000  \n",
      "max      2826.000000  \n",
      "std       453.175736  \n",
      "\n",
      "Key Metrics Summary:\n",
      "              views      rating     followers    favorites  ratings_count  \\\n",
      "count  1.280000e+02  122.000000    128.000000   128.000000     128.000000   \n",
      "mean   6.916237e+05    4.481885   1820.539062   429.453125     281.062500   \n",
      "std    1.683897e+06    0.250003   2487.655108   669.759010     453.175736   \n",
      "min    1.690000e+03    3.170000      9.000000     3.000000       2.000000   \n",
      "25%    3.477725e+04    4.350000    170.500000    45.750000      25.000000   \n",
      "50%    1.567340e+05    4.535000    735.000000   149.000000      71.500000   \n",
      "75%    6.211582e+05    4.610000   2738.000000   606.750000     373.250000   \n",
      "max    1.235591e+07    4.950000  14196.000000  4727.000000    2826.000000   \n",
      "\n",
      "         chapters        pages  \n",
      "count  125.000000   128.000000  \n",
      "mean   161.736000  1205.546875  \n",
      "std    170.404412  1396.275230  \n",
      "min     15.000000   127.000000  \n",
      "25%     65.000000   471.500000  \n",
      "50%    103.000000   717.000000  \n",
      "75%    176.000000  1311.000000  \n",
      "max    999.000000  8336.000000  \n"
     ]
    }
   ],
   "source": [
    "# Get descriptive statistics for numerical columns\n",
    "numerical_stats = df.describe()\n",
    "print(\"\\nNumerical Statistics:\")\n",
    "print(numerical_stats)\n",
    "\n",
    "# Create a more focused view of key metrics\n",
    "key_metrics = ['views', 'rating', 'followers', 'favorites', 'ratings_count', 'chapters', 'pages']\n",
    "print(\"\\nKey Metrics Summary:\")\n",
    "print(df[key_metrics].describe())"
   ]
  },
  {
   "cell_type": "markdown",
   "id": "0162b22f",
   "metadata": {},
   "source": [
    "## Missing Value Analysis\n",
    "\n",
    "Let's check for missing values in our dataset and visualize them."
   ]
  },
  {
   "cell_type": "code",
   "execution_count": 15,
   "id": "74dcdf25",
   "metadata": {},
   "outputs": [
    {
     "name": "stdout",
     "output_type": "stream",
     "text": [
      "\n",
      "Missing Value Analysis:\n",
      "          Missing Values  Percentage\n",
      "rating                 6     4.68750\n",
      "chapters               3     2.34375\n"
     ]
    },
    {
     "data": {
      "image/png": "[encoded data removed]",
      "text/plain": [
       "<Figure size 1000x600 with 2 Axes>"
      ]
     },
     "metadata": {},
     "output_type": "display_data"
    }
   ],
   "source": [
    "# Check for missing values\n",
    "missing_values = df.isnull().sum()\n",
    "missing_percentages = (df.isnull().sum() / len(df)) * 100\n",
    "\n",
    "# Create a DataFrame with missing value information\n",
    "missing_info = pd.DataFrame({\n",
    "    'Missing Values': missing_values,\n",
    "    'Percentage': missing_percentages\n",
    "})\n",
    "print(\"\\nMissing Value Analysis:\")\n",
    "print(missing_info[missing_info['Missing Values'] > 0])\n",
    "\n",
    "# Create a heatmap of missing values\n",
    "plt.figure(figsize=(10, 6))\n",
    "sns.heatmap(df.isnull(), \n",
    "           yticklabels=False, \n",
    "           cbar=True, \n",
    "           cmap='viridis')\n",
    "plt.title('Missing Value Heatmap')\n",
    "plt.tight_layout()\n",
    "plt.show()"
   ]
  },
  {
   "cell_type": "markdown",
   "id": "0ebf4082",
   "metadata": {},
   "source": [
    "## Numerical Features Distribution\n",
    "\n",
    "Let's analyze the distribution of key numerical features using histograms and box plots."
   ]
  },
  {
   "cell_type": "code",
   "execution_count": 16,
   "id": "76c8664d",
   "metadata": {},
   "outputs": [
    {
     "name": "stdout",
     "output_type": "stream",
     "text": [
      "Skewness for views: 5.48\n",
      "Applied log scaling to views due to right-skewed distribution (skewness: 5.48)\n"
     ]
    },
    {
     "data": {
      "application/vnd.plotly.v1+json": {
       "config": {
        "plotlyServerURL": "https://plot.ly"
       },
       "data": [
        {
         "name": "Distribution",
         "opacity": 0.75,
         "type": "bar",
         "x": [
          1854.5700779309436,
          2215.7614888818225,
          2647.2976319607187,
          3162.8786705384473,
          3778.8729773983678,
          4514.836788500838,
          5394.135063209804,
          6444.683261697941,
          7699.833589056385,
          9199.433842081602,
          10991.092474403413,
          13131.690042520331,
          15689.185017268952,
          18744.771290600256,
          22395.455872957424,
          26757.13861652147,
          31968.29173762208,
          38194.35595369263,
          45632.99280081857,
          54520.35987946114,
          65138.608251278994,
          77824.84001012659,
          92981.81040708492,
          111090.71429448639,
          132726.4628256673,
          158575.93540639937,
          189459.78635054553,
          226358.49854520743,
          270443.5112622681,
          323114.4103443386,
          386043.3614579231,
          461228.19705538347,
          551055.8424202986,
          658378.0944101335,
          786602.1586765274,
          939798.8196872325,
          1122831.67766988,
          1341511.555418359,
          1602780.9769810354,
          1914934.5749550061,
          2287882.423751463,
          2733464.6589865116,
          3265827.371354431,
          3901871.7086476954,
          4661790.443758579,
          5569709.043317255,
          6654451.58924791,
          7950455.869283678,
          9498866.688212134,
          11348842.10967334
         ],
         "y": {
          "bdata": "pGA4KscV+T4AAAAAAAAAAI/U5VrKkvE+GogZfOJq7T4AAAAAAAAAAAAAAAAAAAAAIe4lvKjf+T4IrZQs6t/sPsXUm/03IPI+l8pa/ms65D79+MB4Se7gPgAAAAAAAAAAJZ4TWJfK4T61gpDY3NrTPhKyUZwIFe0+luN+8Z7R2z6qwdWbuUi3PuaKB7CZO80+VAuPfsxPsD55m8mC4BDRPracFR0MJNE+frg7wICxvD7mq/LKvQLAPoWaceo1zbo+1NBmkHQKvD6ECKQx9CmsPriftDo2bp8+tKz64vK6sz5LqLLjl4OgPrrrP/zvbZI+Hnw2fLvZrj4gl1uSUtKZPh8J+4GUNZA+nzcSN7xZpD7xE40q/kd+PiOvCAxXWGk+aIZSVAPSfz556Z2FIaJ6PkjBHP+0SnY+EH2u1HSocj4nVHwesTtvPq6pst2KbVE+5a+VRIgsXT4lcrweFmtIPiWCebAYcEQ+AAAAAAAAAAAAAAAAAAAAAAAAAAAAAAAAAAAAAAAAAABF0qSoZsowPg==",
          "dtype": "f8"
         }
        }
       ],
       "layout": {
        "height": 500,
        "showlegend": false,
        "template": {
         "data": {
          "bar": [
           {
            "error_x": {
             "color": "#2a3f5f"
            },
            "error_y": {
             "color": "#2a3f5f"
            },
            "marker": {
             "line": {
              "color": "#E5ECF6",
              "width": 0.5
             },
             "pattern": {
              "fillmode": "overlay",
              "size": 10,
              "solidity": 0.2
             }
            },
            "type": "bar"
           }
          ],
          "barpolar": [
           {
            "marker": {
             "line": {
              "color": "#E5ECF6",
              "width": 0.5
             },
             "pattern": {
              "fillmode": "overlay",
              "size": 10,
              "solidity": 0.2
             }
            },
            "type": "barpolar"
           }
          ],
          "carpet": [
           {
            "aaxis": {
             "endlinecolor": "#2a3f5f",
             "gridcolor": "white",
             "linecolor": "white",
             "minorgridcolor": "white",
             "startlinecolor": "#2a3f5f"
            },
            "baxis": {
             "endlinecolor": "#2a3f5f",
             "gridcolor": "white",
             "linecolor": "white",
             "minorgridcolor": "white",
             "startlinecolor": "#2a3f5f"
            },
            "type": "carpet"
           }
          ],
          "choropleth": [
           {
            "colorbar": {
             "outlinewidth": 0,
             "ticks": ""
            },
            "type": "choropleth"
           }
          ],
          "contour": [
           {
            "colorbar": {
             "outlinewidth": 0,
             "ticks": ""
            },
            "colorscale": [
             [
              0,
              "#0d0887"
             ],
             [
              0.1111111111111111,
              "#46039f"
             ],
             [
              0.2222222222222222,
              "#7201a8"
             ],
             [
              0.3333333333333333,
              "#9c179e"
             ],
             [
              0.4444444444444444,
              "#bd3786"
             ],
             [
              0.5555555555555556,
              "#d8576b"
             ],
             [
              0.6666666666666666,
              "#ed7953"
             ],
             [
              0.7777777777777778,
              "#fb9f3a"
             ],
             [
              0.8888888888888888,
              "#fdca26"
             ],
             [
              1,
              "#f0f921"
             ]
            ],
            "type": "contour"
           }
          ],
          "contourcarpet": [
           {
            "colorbar": {
             "outlinewidth": 0,
             "ticks": ""
            },
            "type": "contourcarpet"
           }
          ],
          "heatmap": [
           {
            "colorbar": {
             "outlinewidth": 0,
             "ticks": ""
            },
            "colorscale": [
             [
              0,
              "#0d0887"
             ],
             [
              0.1111111111111111,
              "#46039f"
             ],
             [
              0.2222222222222222,
              "#7201a8"
             ],
             [
              0.3333333333333333,
              "#9c179e"
             ],
             [
              0.4444444444444444,
              "#bd3786"
             ],
             [
              0.5555555555555556,
              "#d8576b"
             ],
             [
              0.6666666666666666,
              "#ed7953"
             ],
             [
              0.7777777777777778,
              "#fb9f3a"
             ],
             [
              0.8888888888888888,
              "#fdca26"
             ],
             [
              1,
              "#f0f921"
             ]
            ],
            "type": "heatmap"
           }
          ],
          "histogram": [
           {
            "marker": {
             "pattern": {
              "fillmode": "overlay",
              "size": 10,
              "solidity": 0.2
             }
            },
            "type": "histogram"
           }
          ],
          "histogram2d": [
           {
            "colorbar": {
             "outlinewidth": 0,
             "ticks": ""
            },
            "colorscale": [
             [
              0,
              "#0d0887"
             ],
             [
              0.1111111111111111,
              "#46039f"
             ],
             [
              0.2222222222222222,
              "#7201a8"
             ],
             [
              0.3333333333333333,
              "#9c179e"
             ],
             [
              0.4444444444444444,
              "#bd3786"
             ],
             [
              0.5555555555555556,
              "#d8576b"
             ],
             [
              0.6666666666666666,
              "#ed7953"
             ],
             [
              0.7777777777777778,
              "#fb9f3a"
             ],
             [
              0.8888888888888888,
              "#fdca26"
             ],
             [
              1,
              "#f0f921"
             ]
            ],
            "type": "histogram2d"
           }
          ],
          "histogram2dcontour": [
           {
            "colorbar": {
             "outlinewidth": 0,
             "ticks": ""
            },
            "colorscale": [
             [
              0,
              "#0d0887"
             ],
             [
              0.1111111111111111,
              "#46039f"
             ],
             [
              0.2222222222222222,
              "#7201a8"
             ],
             [
              0.3333333333333333,
              "#9c179e"
             ],
             [
              0.4444444444444444,
              "#bd3786"
             ],
             [
              0.5555555555555556,
              "#d8576b"
             ],
             [
              0.6666666666666666,
              "#ed7953"
             ],
             [
              0.7777777777777778,
              "#fb9f3a"
             ],
             [
              0.8888888888888888,
              "#fdca26"
             ],
             [
              1,
              "#f0f921"
             ]
            ],
            "type": "histogram2dcontour"
           }
          ],
          "mesh3d": [
           {
            "colorbar": {
             "outlinewidth": 0,
             "ticks": ""
            },
            "type": "mesh3d"
           }
          ],
          "parcoords": [
           {
            "line": {
             "colorbar": {
              "outlinewidth": 0,
              "ticks": ""
             }
            },
            "type": "parcoords"
           }
          ],
          "pie": [
           {
            "automargin": true,
            "type": "pie"
           }
          ],
          "scatter": [
           {
            "fillpattern": {
             "fillmode": "overlay",
             "size": 10,
             "solidity": 0.2
            },
            "type": "scatter"
           }
          ],
          "scatter3d": [
           {
            "line": {
             "colorbar": {
              "outlinewidth": 0,
              "ticks": ""
             }
            },
            "marker": {
             "colorbar": {
              "outlinewidth": 0,
              "ticks": ""
             }
            },
            "type": "scatter3d"
           }
          ],
          "scattercarpet": [
           {
            "marker": {
             "colorbar": {
              "outlinewidth": 0,
              "ticks": ""
             }
            },
            "type": "scattercarpet"
           }
          ],
          "scattergeo": [
           {
            "marker": {
             "colorbar": {
              "outlinewidth": 0,
              "ticks": ""
             }
            },
            "type": "scattergeo"
           }
          ],
          "scattergl": [
           {
            "marker": {
             "colorbar": {
              "outlinewidth": 0,
              "ticks": ""
             }
            },
            "type": "scattergl"
           }
          ],
          "scattermap": [
           {
            "marker": {
             "colorbar": {
              "outlinewidth": 0,
              "ticks": ""
             }
            },
            "type": "scattermap"
           }
          ],
          "scattermapbox": [
           {
            "marker": {
             "colorbar": {
              "outlinewidth": 0,
              "ticks": ""
             }
            },
            "type": "scattermapbox"
           }
          ],
          "scatterpolar": [
           {
            "marker": {
             "colorbar": {
              "outlinewidth": 0,
              "ticks": ""
             }
            },
            "type": "scatterpolar"
           }
          ],
          "scatterpolargl": [
           {
            "marker": {
             "colorbar": {
              "outlinewidth": 0,
              "ticks": ""
             }
            },
            "type": "scatterpolargl"
           }
          ],
          "scatterternary": [
           {
            "marker": {
             "colorbar": {
              "outlinewidth": 0,
              "ticks": ""
             }
            },
            "type": "scatterternary"
           }
          ],
          "surface": [
           {
            "colorbar": {
             "outlinewidth": 0,
             "ticks": ""
            },
            "colorscale": [
             [
              0,
              "#0d0887"
             ],
             [
              0.1111111111111111,
              "#46039f"
             ],
             [
              0.2222222222222222,
              "#7201a8"
             ],
             [
              0.3333333333333333,
              "#9c179e"
             ],
             [
              0.4444444444444444,
              "#bd3786"
             ],
             [
              0.5555555555555556,
              "#d8576b"
             ],
             [
              0.6666666666666666,
              "#ed7953"
             ],
             [
              0.7777777777777778,
              "#fb9f3a"
             ],
             [
              0.8888888888888888,
              "#fdca26"
             ],
             [
              1,
              "#f0f921"
             ]
            ],
            "type": "surface"
           }
          ],
          "table": [
           {
            "cells": {
             "fill": {
              "color": "#EBF0F8"
             },
             "line": {
              "color": "white"
             }
            },
            "header": {
             "fill": {
              "color": "#C8D4E3"
             },
             "line": {
              "color": "white"
             }
            },
            "type": "table"
           }
          ]
         },
         "layout": {
          "annotationdefaults": {
           "arrowcolor": "#2a3f5f",
           "arrowhead": 0,
           "arrowwidth": 1
          },
          "autotypenumbers": "strict",
          "coloraxis": {
           "colorbar": {
            "outlinewidth": 0,
            "ticks": ""
           }
          },
          "colorscale": {
           "diverging": [
            [
             0,
             "#8e0152"
            ],
            [
             0.1,
             "#c51b7d"
            ],
            [
             0.2,
             "#de77ae"
            ],
            [
             0.3,
             "#f1b6da"
            ],
            [
             0.4,
             "#fde0ef"
            ],
            [
             0.5,
             "#f7f7f7"
            ],
            [
             0.6,
             "#e6f5d0"
            ],
            [
             0.7,
             "#b8e186"
            ],
            [
             0.8,
             "#7fbc41"
            ],
            [
             0.9,
             "#4d9221"
            ],
            [
             1,
             "#276419"
            ]
           ],
           "sequential": [
            [
             0,
             "#0d0887"
            ],
            [
             0.1111111111111111,
             "#46039f"
            ],
            [
             0.2222222222222222,
             "#7201a8"
            ],
            [
             0.3333333333333333,
             "#9c179e"
            ],
            [
             0.4444444444444444,
             "#bd3786"
            ],
            [
             0.5555555555555556,
             "#d8576b"
            ],
            [
             0.6666666666666666,
             "#ed7953"
            ],
            [
             0.7777777777777778,
             "#fb9f3a"
            ],
            [
             0.8888888888888888,
             "#fdca26"
            ],
            [
             1,
             "#f0f921"
            ]
           ],
           "sequentialminus": [
            [
             0,
             "#0d0887"
            ],
            [
             0.1111111111111111,
             "#46039f"
            ],
            [
             0.2222222222222222,
             "#7201a8"
            ],
            [
             0.3333333333333333,
             "#9c179e"
            ],
            [
             0.4444444444444444,
             "#bd3786"
            ],
            [
             0.5555555555555556,
             "#d8576b"
            ],
            [
             0.6666666666666666,
             "#ed7953"
            ],
            [
             0.7777777777777778,
             "#fb9f3a"
            ],
            [
             0.8888888888888888,
             "#fdca26"
            ],
            [
             1,
             "#f0f921"
            ]
           ]
          },
          "colorway": [
           "#636efa",
           "#EF553B",
           "#00cc96",
           "#ab63fa",
           "#FFA15A",
           "#19d3f3",
           "#FF6692",
           "#B6E880",
           "#FF97FF",
           "#FECB52"
          ],
          "font": {
           "color": "#2a3f5f"
          },
          "geo": {
           "bgcolor": "white",
           "lakecolor": "white",
           "landcolor": "#E5ECF6",
           "showlakes": true,
           "showland": true,
           "subunitcolor": "white"
          },
          "hoverlabel": {
           "align": "left"
          },
          "hovermode": "closest",
          "mapbox": {
           "style": "light"
          },
          "paper_bgcolor": "white",
          "plot_bgcolor": "#E5ECF6",
          "polar": {
           "angularaxis": {
            "gridcolor": "white",
            "linecolor": "white",
            "ticks": ""
           },
           "bgcolor": "#E5ECF6",
           "radialaxis": {
            "gridcolor": "white",
            "linecolor": "white",
            "ticks": ""
           }
          },
          "scene": {
           "xaxis": {
            "backgroundcolor": "#E5ECF6",
            "gridcolor": "white",
            "gridwidth": 2,
            "linecolor": "white",
            "showbackground": true,
            "ticks": "",
            "zerolinecolor": "white"
           },
           "yaxis": {
            "backgroundcolor": "#E5ECF6",
            "gridcolor": "white",
            "gridwidth": 2,
            "linecolor": "white",
            "showbackground": true,
            "ticks": "",
            "zerolinecolor": "white"
           },
           "zaxis": {
            "backgroundcolor": "#E5ECF6",
            "gridcolor": "white",
            "gridwidth": 2,
            "linecolor": "white",
            "showbackground": true,
            "ticks": "",
            "zerolinecolor": "white"
           }
          },
          "shapedefaults": {
           "line": {
            "color": "#2a3f5f"
           }
          },
          "ternary": {
           "aaxis": {
            "gridcolor": "white",
            "linecolor": "white",
            "ticks": ""
           },
           "baxis": {
            "gridcolor": "white",
            "linecolor": "white",
            "ticks": ""
           },
           "bgcolor": "#E5ECF6",
           "caxis": {
            "gridcolor": "white",
            "linecolor": "white",
            "ticks": ""
           }
          },
          "title": {
           "x": 0.05
          },
          "xaxis": {
           "automargin": true,
           "gridcolor": "white",
           "linecolor": "white",
           "ticks": "",
           "title": {
            "standoff": 15
           },
           "zerolinecolor": "white",
           "zerolinewidth": 2
          },
          "yaxis": {
           "automargin": true,
           "gridcolor": "white",
           "linecolor": "white",
           "ticks": "",
           "title": {
            "standoff": 15
           },
           "zerolinecolor": "white",
           "zerolinewidth": 2
          }
         }
        },
        "title": {
         "text": "Views Distribution (Log Scale)"
        },
        "width": 800,
        "xaxis": {
         "title": {
          "text": "Views"
         },
         "type": "log"
        },
        "yaxis": {
         "title": {
          "text": "Frequency"
         }
        }
       }
      }
     },
     "metadata": {},
     "output_type": "display_data"
    },
    {
     "name": "stdout",
     "output_type": "stream",
     "text": [
      "\n",
      "Views Statistics:\n",
      "Count: 128\n",
      "Mean:  691,623.70\n",
      "Std:   1,683,896.57\n",
      "Min:   1,690.00\n",
      "25%:   34,777.25\n",
      "50%:   156,734.00\n",
      "75%:   621,158.25\n",
      "Max:   12,355,911.00\n",
      "Note: views shows significant right skew - median (156734.00) is much closer to min than max\n",
      "90th percentile: 1,737,742.60\n",
      "95th percentile: 2,563,048.10\n",
      "99th percentile: 10,275,620.72\n",
      "Percent of data between median and 90th percentile: 39.8%\n",
      "Percent of data between 90th and max: 10.2%\n",
      "Skewness for rating: -1.56\n"
     ]
    },
    {
     "data": {
      "application/vnd.plotly.v1+json": {
       "config": {
        "plotlyServerURL": "https://plot.ly"
       },
       "data": [
        {
         "name": "Distribution",
         "opacity": 0.75,
         "type": "bar",
         "x": [
          3.1878,
          3.2234,
          3.2590000000000003,
          3.2946,
          3.3301999999999996,
          3.3658,
          3.4013999999999998,
          3.4370000000000003,
          3.4726,
          3.5082,
          3.5438,
          3.5793999999999997,
          3.615,
          3.6506,
          3.6862000000000004,
          3.7218,
          3.7574,
          3.793,
          3.8286,
          3.8642000000000003,
          3.8998,
          3.9354,
          3.971,
          4.006600000000001,
          4.0422,
          4.0778,
          4.1134,
          4.149,
          4.1846,
          4.2202,
          4.255800000000001,
          4.2914,
          4.327,
          4.3626000000000005,
          4.3982,
          4.4338,
          4.4694,
          4.505,
          4.5406,
          4.5762,
          4.611800000000001,
          4.6474,
          4.683,
          4.7186,
          4.7542,
          4.7898000000000005,
          4.8254,
          4.861000000000001,
          4.8966,
          4.9322
         ],
         "y": {
          "bdata": "AQwA46p4zT8AAAAAAAAAAAAAAAAAAAAAAAAAAAAAAAAAAAAAAAAAAAAAAAAAAAAAAAAAAAAAAAAAAAAAAAAAAAAAAAAAAAAAAAAAAAAAAAAAAAAAAAAAAAAAAAAAAAAAAAAAAAAAAAAAAAAAAAAAAAEMAOOqeM0/AAAAAAAAAAAAAAAAAAAAAAEMAOOqeM0/AAAAAAAAAAAAAAAAAAAAAAEMAOOqeM0/AAAAAAAAAAAAAAAAAAAAAAAAAAAAAAAAAAAAAAAAAABoDADjqnjNP2gMAOOqeM0/mQsA46p4zT/BB+DNamvyP5kLAOOqeO0/wQfgzWpr8j+ZCwDjqnjtP8EH4M1qa/I/wQfgzWpr8j9AB+DNamvyP04JQCqAGuY/TglAKoAa9j+GBrAf4JMAQN8K0DQgoQtAhwgQfPVCBECHCBB89UIEQLIIQCqAGvY/aAwA46p47T9OCUAqgBrmP7IIQCqAGuY/mQsA46p43T9oDADjqnjtPwAAAAAAAAAAmQsA46p43T9OCUAqgBrmPw==",
          "dtype": "f8"
         }
        }
       ],
       "layout": {
        "height": 500,
        "showlegend": false,
        "template": {
         "data": {
          "bar": [
           {
            "error_x": {
             "color": "#2a3f5f"
            },
            "error_y": {
             "color": "#2a3f5f"
            },
            "marker": {
             "line": {
              "color": "#E5ECF6",
              "width": 0.5
             },
             "pattern": {
              "fillmode": "overlay",
              "size": 10,
              "solidity": 0.2
             }
            },
            "type": "bar"
           }
          ],
          "barpolar": [
           {
            "marker": {
             "line": {
              "color": "#E5ECF6",
              "width": 0.5
             },
             "pattern": {
              "fillmode": "overlay",
              "size": 10,
              "solidity": 0.2
             }
            },
            "type": "barpolar"
           }
          ],
          "carpet": [
           {
            "aaxis": {
             "endlinecolor": "#2a3f5f",
             "gridcolor": "white",
             "linecolor": "white",
             "minorgridcolor": "white",
             "startlinecolor": "#2a3f5f"
            },
            "baxis": {
             "endlinecolor": "#2a3f5f",
             "gridcolor": "white",
             "linecolor": "white",
             "minorgridcolor": "white",
             "startlinecolor": "#2a3f5f"
            },
            "type": "carpet"
           }
          ],
          "choropleth": [
           {
            "colorbar": {
             "outlinewidth": 0,
             "ticks": ""
            },
            "type": "choropleth"
           }
          ],
          "contour": [
           {
            "colorbar": {
             "outlinewidth": 0,
             "ticks": ""
            },
            "colorscale": [
             [
              0,
              "#0d0887"
             ],
             [
              0.1111111111111111,
              "#46039f"
             ],
             [
              0.2222222222222222,
              "#7201a8"
             ],
             [
              0.3333333333333333,
              "#9c179e"
             ],
             [
              0.4444444444444444,
              "#bd3786"
             ],
             [
              0.5555555555555556,
              "#d8576b"
             ],
             [
              0.6666666666666666,
              "#ed7953"
             ],
             [
              0.7777777777777778,
              "#fb9f3a"
             ],
             [
              0.8888888888888888,
              "#fdca26"
             ],
             [
              1,
              "#f0f921"
             ]
            ],
            "type": "contour"
           }
          ],
          "contourcarpet": [
           {
            "colorbar": {
             "outlinewidth": 0,
             "ticks": ""
            },
            "type": "contourcarpet"
           }
          ],
          "heatmap": [
           {
            "colorbar": {
             "outlinewidth": 0,
             "ticks": ""
            },
            "colorscale": [
             [
              0,
              "#0d0887"
             ],
             [
              0.1111111111111111,
              "#46039f"
             ],
             [
              0.2222222222222222,
              "#7201a8"
             ],
             [
              0.3333333333333333,
              "#9c179e"
             ],
             [
              0.4444444444444444,
              "#bd3786"
             ],
             [
              0.5555555555555556,
              "#d8576b"
             ],
             [
              0.6666666666666666,
              "#ed7953"
             ],
             [
              0.7777777777777778,
              "#fb9f3a"
             ],
             [
              0.8888888888888888,
              "#fdca26"
             ],
             [
              1,
              "#f0f921"
             ]
            ],
            "type": "heatmap"
           }
          ],
          "histogram": [
           {
            "marker": {
             "pattern": {
              "fillmode": "overlay",
              "size": 10,
              "solidity": 0.2
             }
            },
            "type": "histogram"
           }
          ],
          "histogram2d": [
           {
            "colorbar": {
             "outlinewidth": 0,
             "ticks": ""
            },
            "colorscale": [
             [
              0,
              "#0d0887"
             ],
             [
              0.1111111111111111,
              "#46039f"
             ],
             [
              0.2222222222222222,
              "#7201a8"
             ],
             [
              0.3333333333333333,
              "#9c179e"
             ],
             [
              0.4444444444444444,
              "#bd3786"
             ],
             [
              0.5555555555555556,
              "#d8576b"
             ],
             [
              0.6666666666666666,
              "#ed7953"
             ],
             [
              0.7777777777777778,
              "#fb9f3a"
             ],
             [
              0.8888888888888888,
              "#fdca26"
             ],
             [
              1,
              "#f0f921"
             ]
            ],
            "type": "histogram2d"
           }
          ],
          "histogram2dcontour": [
           {
            "colorbar": {
             "outlinewidth": 0,
             "ticks": ""
            },
            "colorscale": [
             [
              0,
              "#0d0887"
             ],
             [
              0.1111111111111111,
              "#46039f"
             ],
             [
              0.2222222222222222,
              "#7201a8"
             ],
             [
              0.3333333333333333,
              "#9c179e"
             ],
             [
              0.4444444444444444,
              "#bd3786"
             ],
             [
              0.5555555555555556,
              "#d8576b"
             ],
             [
              0.6666666666666666,
              "#ed7953"
             ],
             [
              0.7777777777777778,
              "#fb9f3a"
             ],
             [
              0.8888888888888888,
              "#fdca26"
             ],
             [
              1,
              "#f0f921"
             ]
            ],
            "type": "histogram2dcontour"
           }
          ],
          "mesh3d": [
           {
            "colorbar": {
             "outlinewidth": 0,
             "ticks": ""
            },
            "type": "mesh3d"
           }
          ],
          "parcoords": [
           {
            "line": {
             "colorbar": {
              "outlinewidth": 0,
              "ticks": ""
             }
            },
            "type": "parcoords"
           }
          ],
          "pie": [
           {
            "automargin": true,
            "type": "pie"
           }
          ],
          "scatter": [
           {
            "fillpattern": {
             "fillmode": "overlay",
             "size": 10,
             "solidity": 0.2
            },
            "type": "scatter"
           }
          ],
          "scatter3d": [
           {
            "line": {
             "colorbar": {
              "outlinewidth": 0,
              "ticks": ""
             }
            },
            "marker": {
             "colorbar": {
              "outlinewidth": 0,
              "ticks": ""
             }
            },
            "type": "scatter3d"
           }
          ],
          "scattercarpet": [
           {
            "marker": {
             "colorbar": {
              "outlinewidth": 0,
              "ticks": ""
             }
            },
            "type": "scattercarpet"
           }
          ],
          "scattergeo": [
           {
            "marker": {
             "colorbar": {
              "outlinewidth": 0,
              "ticks": ""
             }
            },
            "type": "scattergeo"
           }
          ],
          "scattergl": [
           {
            "marker": {
             "colorbar": {
              "outlinewidth": 0,
              "ticks": ""
             }
            },
            "type": "scattergl"
           }
          ],
          "scattermap": [
           {
            "marker": {
             "colorbar": {
              "outlinewidth": 0,
              "ticks": ""
             }
            },
            "type": "scattermap"
           }
          ],
          "scattermapbox": [
           {
            "marker": {
             "colorbar": {
              "outlinewidth": 0,
              "ticks": ""
             }
            },
            "type": "scattermapbox"
           }
          ],
          "scatterpolar": [
           {
            "marker": {
             "colorbar": {
              "outlinewidth": 0,
              "ticks": ""
             }
            },
            "type": "scatterpolar"
           }
          ],
          "scatterpolargl": [
           {
            "marker": {
             "colorbar": {
              "outlinewidth": 0,
              "ticks": ""
             }
            },
            "type": "scatterpolargl"
           }
          ],
          "scatterternary": [
           {
            "marker": {
             "colorbar": {
              "outlinewidth": 0,
              "ticks": ""
             }
            },
            "type": "scatterternary"
           }
          ],
          "surface": [
           {
            "colorbar": {
             "outlinewidth": 0,
             "ticks": ""
            },
            "colorscale": [
             [
              0,
              "#0d0887"
             ],
             [
              0.1111111111111111,
              "#46039f"
             ],
             [
              0.2222222222222222,
              "#7201a8"
             ],
             [
              0.3333333333333333,
              "#9c179e"
             ],
             [
              0.4444444444444444,
              "#bd3786"
             ],
             [
              0.5555555555555556,
              "#d8576b"
             ],
             [
              0.6666666666666666,
              "#ed7953"
             ],
             [
              0.7777777777777778,
              "#fb9f3a"
             ],
             [
              0.8888888888888888,
              "#fdca26"
             ],
             [
              1,
              "#f0f921"
             ]
            ],
            "type": "surface"
           }
          ],
          "table": [
           {
            "cells": {
             "fill": {
              "color": "#EBF0F8"
             },
             "line": {
              "color": "white"
             }
            },
            "header": {
             "fill": {
              "color": "#C8D4E3"
             },
             "line": {
              "color": "white"
             }
            },
            "type": "table"
           }
          ]
         },
         "layout": {
          "annotationdefaults": {
           "arrowcolor": "#2a3f5f",
           "arrowhead": 0,
           "arrowwidth": 1
          },
          "autotypenumbers": "strict",
          "coloraxis": {
           "colorbar": {
            "outlinewidth": 0,
            "ticks": ""
           }
          },
          "colorscale": {
           "diverging": [
            [
             0,
             "#8e0152"
            ],
            [
             0.1,
             "#c51b7d"
            ],
            [
             0.2,
             "#de77ae"
            ],
            [
             0.3,
             "#f1b6da"
            ],
            [
             0.4,
             "#fde0ef"
            ],
            [
             0.5,
             "#f7f7f7"
            ],
            [
             0.6,
             "#e6f5d0"
            ],
            [
             0.7,
             "#b8e186"
            ],
            [
             0.8,
             "#7fbc41"
            ],
            [
             0.9,
             "#4d9221"
            ],
            [
             1,
             "#276419"
            ]
           ],
           "sequential": [
            [
             0,
             "#0d0887"
            ],
            [
             0.1111111111111111,
             "#46039f"
            ],
            [
             0.2222222222222222,
             "#7201a8"
            ],
            [
             0.3333333333333333,
             "#9c179e"
            ],
            [
             0.4444444444444444,
             "#bd3786"
            ],
            [
             0.5555555555555556,
             "#d8576b"
            ],
            [
             0.6666666666666666,
             "#ed7953"
            ],
            [
             0.7777777777777778,
             "#fb9f3a"
            ],
            [
             0.8888888888888888,
             "#fdca26"
            ],
            [
             1,
             "#f0f921"
            ]
           ],
           "sequentialminus": [
            [
             0,
             "#0d0887"
            ],
            [
             0.1111111111111111,
             "#46039f"
            ],
            [
             0.2222222222222222,
             "#7201a8"
            ],
            [
             0.3333333333333333,
             "#9c179e"
            ],
            [
             0.4444444444444444,
             "#bd3786"
            ],
            [
             0.5555555555555556,
             "#d8576b"
            ],
            [
             0.6666666666666666,
             "#ed7953"
            ],
            [
             0.7777777777777778,
             "#fb9f3a"
            ],
            [
             0.8888888888888888,
             "#fdca26"
            ],
            [
             1,
             "#f0f921"
            ]
           ]
          },
          "colorway": [
           "#636efa",
           "#EF553B",
           "#00cc96",
           "#ab63fa",
           "#FFA15A",
           "#19d3f3",
           "#FF6692",
           "#B6E880",
           "#FF97FF",
           "#FECB52"
          ],
          "font": {
           "color": "#2a3f5f"
          },
          "geo": {
           "bgcolor": "white",
           "lakecolor": "white",
           "landcolor": "#E5ECF6",
           "showlakes": true,
           "showland": true,
           "subunitcolor": "white"
          },
          "hoverlabel": {
           "align": "left"
          },
          "hovermode": "closest",
          "mapbox": {
           "style": "light"
          },
          "paper_bgcolor": "white",
          "plot_bgcolor": "#E5ECF6",
          "polar": {
           "angularaxis": {
            "gridcolor": "white",
            "linecolor": "white",
            "ticks": ""
           },
           "bgcolor": "#E5ECF6",
           "radialaxis": {
            "gridcolor": "white",
            "linecolor": "white",
            "ticks": ""
           }
          },
          "scene": {
           "xaxis": {
            "backgroundcolor": "#E5ECF6",
            "gridcolor": "white",
            "gridwidth": 2,
            "linecolor": "white",
            "showbackground": true,
            "ticks": "",
            "zerolinecolor": "white"
           },
           "yaxis": {
            "backgroundcolor": "#E5ECF6",
            "gridcolor": "white",
            "gridwidth": 2,
            "linecolor": "white",
            "showbackground": true,
            "ticks": "",
            "zerolinecolor": "white"
           },
           "zaxis": {
            "backgroundcolor": "#E5ECF6",
            "gridcolor": "white",
            "gridwidth": 2,
            "linecolor": "white",
            "showbackground": true,
            "ticks": "",
            "zerolinecolor": "white"
           }
          },
          "shapedefaults": {
           "line": {
            "color": "#2a3f5f"
           }
          },
          "ternary": {
           "aaxis": {
            "gridcolor": "white",
            "linecolor": "white",
            "ticks": ""
           },
           "baxis": {
            "gridcolor": "white",
            "linecolor": "white",
            "ticks": ""
           },
           "bgcolor": "#E5ECF6",
           "caxis": {
            "gridcolor": "white",
            "linecolor": "white",
            "ticks": ""
           }
          },
          "title": {
           "x": 0.05
          },
          "xaxis": {
           "automargin": true,
           "gridcolor": "white",
           "linecolor": "white",
           "ticks": "",
           "title": {
            "standoff": 15
           },
           "zerolinecolor": "white",
           "zerolinewidth": 2
          },
          "yaxis": {
           "automargin": true,
           "gridcolor": "white",
           "linecolor": "white",
           "ticks": "",
           "title": {
            "standoff": 15
           },
           "zerolinecolor": "white",
           "zerolinewidth": 2
          }
         }
        },
        "title": {
         "text": "Rating Distribution"
        },
        "width": 800,
        "xaxis": {
         "title": {
          "text": "Rating"
         }
        },
        "yaxis": {
         "title": {
          "text": "Frequency"
         }
        }
       }
      }
     },
     "metadata": {},
     "output_type": "display_data"
    },
    {
     "name": "stdout",
     "output_type": "stream",
     "text": [
      "\n",
      "Rating Statistics:\n",
      "Count: 122\n",
      "Mean:  4.48\n",
      "Std:   0.25\n",
      "Min:   3.17\n",
      "25%:   4.35\n",
      "50%:   4.54\n",
      "75%:   4.61\n",
      "Max:   4.95\n",
      "Skewness for followers: 2.21\n",
      "Applied log scaling to followers due to right-skewed distribution (skewness: 2.21)\n"
     ]
    },
    {
     "data": {
      "application/vnd.plotly.v1+json": {
       "config": {
        "plotlyServerURL": "https://plot.ly"
       },
       "data": [
        {
         "name": "Distribution",
         "opacity": 0.75,
         "type": "bar",
         "x": [
          9.713999478566485,
          11.255286270231284,
          13.041123720911656,
          15.110313840167649,
          17.50781521858002,
          20.285719871225474,
          23.504385073536763,
          27.2337447816548,
          31.55482913132465,
          36.56152503044029,
          42.36261609873583,
          49.08414627767131,
          56.87215846614651,
          65.89586768609745,
          76.35133772333296,
          88.46574112829151,
          102.50229513642438,
          118.7659807540411,
          137.61016927177945,
          159.44430018411202,
          184.74277733785746,
          214.05527660189188,
          248.01868901925985,
          287.37095893803644,
          332.96711779068295,
          385.7978618978682,
          447.0110779483445,
          517.9367838524693,
          600.1160268749284,
          695.334366934504,
          805.660672583525,
          933.4920726115611,
          1081.606039965028,
          1253.2207396426709,
          1452.064951783465,
          1682.4590892097017,
          1949.4090697441848,
          2258.715082924213,
          2617.0976143549124,
          3032.343465912025,
          3513.47494446662,
          4070.9458952011946,
          4716.868838855868,
          5465.2781480580015,
          6332.434980932274,
          7337.180597474902,
          8501.345735418286,
          9850.224940352084,
          11413.126156168524,
          13224.007517128042
         ],
         "y": {
          "bdata": "qXpFpt6Vdj+7+A1RG35zPwAAAAAAAAAASzqHdAEKbT8AAAAAAAAAAEOX3pJmoWU/KDLUbx2rcj+UbiEKqxxgP9WXIFeuz2s/UPIDNbgAeD8AAAAAAAAAAEwCSF8L4VE/AAAAAAAAAAAAAAAAAAAAAG4dFZPo/FY/qIi1EwnXUz/gfPSOhB9hP5BqZ7h8jj0/zmnhL1eCOT/jfesvFQRmP6NN3cRawFc/BLafgyxmUD/yqZ2Zj05MP685n4Q5bkg/+uTctKqgPz+kTLAA60s7P/b4MVZVaT8/wXxjbCkcGz9+CraUyGUnP+A5wtFSSi4/6Iec86JtMT9IzF6+VM0yP+uzJsW39hk/dmiJAYZoBj/wxryFdAItP8ZLzlX9sBA/m31ttbPPLD+XizZprt0IP3skVsT4dQU/29wuF6KFAj+goCmBevoHP6QhS7ncJBg/ynbQSGXcET9XtIpug9QOP2nKhLwlveE+4jkYPJOe7j4AAAAAAAAAAHcvow3BzuY+VjF8jzOv0z4AAAAAAAAAAA==",
          "dtype": "f8"
         }
        }
       ],
       "layout": {
        "height": 500,
        "showlegend": false,
        "template": {
         "data": {
          "bar": [
           {
            "error_x": {
             "color": "#2a3f5f"
            },
            "error_y": {
             "color": "#2a3f5f"
            },
            "marker": {
             "line": {
              "color": "#E5ECF6",
              "width": 0.5
             },
             "pattern": {
              "fillmode": "overlay",
              "size": 10,
              "solidity": 0.2
             }
            },
            "type": "bar"
           }
          ],
          "barpolar": [
           {
            "marker": {
             "line": {
              "color": "#E5ECF6",
              "width": 0.5
             },
             "pattern": {
              "fillmode": "overlay",
              "size": 10,
              "solidity": 0.2
             }
            },
            "type": "barpolar"
           }
          ],
          "carpet": [
           {
            "aaxis": {
             "endlinecolor": "#2a3f5f",
             "gridcolor": "white",
             "linecolor": "white",
             "minorgridcolor": "white",
             "startlinecolor": "#2a3f5f"
            },
            "baxis": {
             "endlinecolor": "#2a3f5f",
             "gridcolor": "white",
             "linecolor": "white",
             "minorgridcolor": "white",
             "startlinecolor": "#2a3f5f"
            },
            "type": "carpet"
           }
          ],
          "choropleth": [
           {
            "colorbar": {
             "outlinewidth": 0,
             "ticks": ""
            },
            "type": "choropleth"
           }
          ],
          "contour": [
           {
            "colorbar": {
             "outlinewidth": 0,
             "ticks": ""
            },
            "colorscale": [
             [
              0,
              "#0d0887"
             ],
             [
              0.1111111111111111,
              "#46039f"
             ],
             [
              0.2222222222222222,
              "#7201a8"
             ],
             [
              0.3333333333333333,
              "#9c179e"
             ],
             [
              0.4444444444444444,
              "#bd3786"
             ],
             [
              0.5555555555555556,
              "#d8576b"
             ],
             [
              0.6666666666666666,
              "#ed7953"
             ],
             [
              0.7777777777777778,
              "#fb9f3a"
             ],
             [
              0.8888888888888888,
              "#fdca26"
             ],
             [
              1,
              "#f0f921"
             ]
            ],
            "type": "contour"
           }
          ],
          "contourcarpet": [
           {
            "colorbar": {
             "outlinewidth": 0,
             "ticks": ""
            },
            "type": "contourcarpet"
           }
          ],
          "heatmap": [
           {
            "colorbar": {
             "outlinewidth": 0,
             "ticks": ""
            },
            "colorscale": [
             [
              0,
              "#0d0887"
             ],
             [
              0.1111111111111111,
              "#46039f"
             ],
             [
              0.2222222222222222,
              "#7201a8"
             ],
             [
              0.3333333333333333,
              "#9c179e"
             ],
             [
              0.4444444444444444,
              "#bd3786"
             ],
             [
              0.5555555555555556,
              "#d8576b"
             ],
             [
              0.6666666666666666,
              "#ed7953"
             ],
             [
              0.7777777777777778,
              "#fb9f3a"
             ],
             [
              0.8888888888888888,
              "#fdca26"
             ],
             [
              1,
              "#f0f921"
             ]
            ],
            "type": "heatmap"
           }
          ],
          "histogram": [
           {
            "marker": {
             "pattern": {
              "fillmode": "overlay",
              "size": 10,
              "solidity": 0.2
             }
            },
            "type": "histogram"
           }
          ],
          "histogram2d": [
           {
            "colorbar": {
             "outlinewidth": 0,
             "ticks": ""
            },
            "colorscale": [
             [
              0,
              "#0d0887"
             ],
             [
              0.1111111111111111,
              "#46039f"
             ],
             [
              0.2222222222222222,
              "#7201a8"
             ],
             [
              0.3333333333333333,
              "#9c179e"
             ],
             [
              0.4444444444444444,
              "#bd3786"
             ],
             [
              0.5555555555555556,
              "#d8576b"
             ],
             [
              0.6666666666666666,
              "#ed7953"
             ],
             [
              0.7777777777777778,
              "#fb9f3a"
             ],
             [
              0.8888888888888888,
              "#fdca26"
             ],
             [
              1,
              "#f0f921"
             ]
            ],
            "type": "histogram2d"
           }
          ],
          "histogram2dcontour": [
           {
            "colorbar": {
             "outlinewidth": 0,
             "ticks": ""
            },
            "colorscale": [
             [
              0,
              "#0d0887"
             ],
             [
              0.1111111111111111,
              "#46039f"
             ],
             [
              0.2222222222222222,
              "#7201a8"
             ],
             [
              0.3333333333333333,
              "#9c179e"
             ],
             [
              0.4444444444444444,
              "#bd3786"
             ],
             [
              0.5555555555555556,
              "#d8576b"
             ],
             [
              0.6666666666666666,
              "#ed7953"
             ],
             [
              0.7777777777777778,
              "#fb9f3a"
             ],
             [
              0.8888888888888888,
              "#fdca26"
             ],
             [
              1,
              "#f0f921"
             ]
            ],
            "type": "histogram2dcontour"
           }
          ],
          "mesh3d": [
           {
            "colorbar": {
             "outlinewidth": 0,
             "ticks": ""
            },
            "type": "mesh3d"
           }
          ],
          "parcoords": [
           {
            "line": {
             "colorbar": {
              "outlinewidth": 0,
              "ticks": ""
             }
            },
            "type": "parcoords"
           }
          ],
          "pie": [
           {
            "automargin": true,
            "type": "pie"
           }
          ],
          "scatter": [
           {
            "fillpattern": {
             "fillmode": "overlay",
             "size": 10,
             "solidity": 0.2
            },
            "type": "scatter"
           }
          ],
          "scatter3d": [
           {
            "line": {
             "colorbar": {
              "outlinewidth": 0,
              "ticks": ""
             }
            },
            "marker": {
             "colorbar": {
              "outlinewidth": 0,
              "ticks": ""
             }
            },
            "type": "scatter3d"
           }
          ],
          "scattercarpet": [
           {
            "marker": {
             "colorbar": {
              "outlinewidth": 0,
              "ticks": ""
             }
            },
            "type": "scattercarpet"
           }
          ],
          "scattergeo": [
           {
            "marker": {
             "colorbar": {
              "outlinewidth": 0,
              "ticks": ""
             }
            },
            "type": "scattergeo"
           }
          ],
          "scattergl": [
           {
            "marker": {
             "colorbar": {
              "outlinewidth": 0,
              "ticks": ""
             }
            },
            "type": "scattergl"
           }
          ],
          "scattermap": [
           {
            "marker": {
             "colorbar": {
              "outlinewidth": 0,
              "ticks": ""
             }
            },
            "type": "scattermap"
           }
          ],
          "scattermapbox": [
           {
            "marker": {
             "colorbar": {
              "outlinewidth": 0,
              "ticks": ""
             }
            },
            "type": "scattermapbox"
           }
          ],
          "scatterpolar": [
           {
            "marker": {
             "colorbar": {
              "outlinewidth": 0,
              "ticks": ""
             }
            },
            "type": "scatterpolar"
           }
          ],
          "scatterpolargl": [
           {
            "marker": {
             "colorbar": {
              "outlinewidth": 0,
              "ticks": ""
             }
            },
            "type": "scatterpolargl"
           }
          ],
          "scatterternary": [
           {
            "marker": {
             "colorbar": {
              "outlinewidth": 0,
              "ticks": ""
             }
            },
            "type": "scatterternary"
           }
          ],
          "surface": [
           {
            "colorbar": {
             "outlinewidth": 0,
             "ticks": ""
            },
            "colorscale": [
             [
              0,
              "#0d0887"
             ],
             [
              0.1111111111111111,
              "#46039f"
             ],
             [
              0.2222222222222222,
              "#7201a8"
             ],
             [
              0.3333333333333333,
              "#9c179e"
             ],
             [
              0.4444444444444444,
              "#bd3786"
             ],
             [
              0.5555555555555556,
              "#d8576b"
             ],
             [
              0.6666666666666666,
              "#ed7953"
             ],
             [
              0.7777777777777778,
              "#fb9f3a"
             ],
             [
              0.8888888888888888,
              "#fdca26"
             ],
             [
              1,
              "#f0f921"
             ]
            ],
            "type": "surface"
           }
          ],
          "table": [
           {
            "cells": {
             "fill": {
              "color": "#EBF0F8"
             },
             "line": {
              "color": "white"
             }
            },
            "header": {
             "fill": {
              "color": "#C8D4E3"
             },
             "line": {
              "color": "white"
             }
            },
            "type": "table"
           }
          ]
         },
         "layout": {
          "annotationdefaults": {
           "arrowcolor": "#2a3f5f",
           "arrowhead": 0,
           "arrowwidth": 1
          },
          "autotypenumbers": "strict",
          "coloraxis": {
           "colorbar": {
            "outlinewidth": 0,
            "ticks": ""
           }
          },
          "colorscale": {
           "diverging": [
            [
             0,
             "#8e0152"
            ],
            [
             0.1,
             "#c51b7d"
            ],
            [
             0.2,
             "#de77ae"
            ],
            [
             0.3,
             "#f1b6da"
            ],
            [
             0.4,
             "#fde0ef"
            ],
            [
             0.5,
             "#f7f7f7"
            ],
            [
             0.6,
             "#e6f5d0"
            ],
            [
             0.7,
             "#b8e186"
            ],
            [
             0.8,
             "#7fbc41"
            ],
            [
             0.9,
             "#4d9221"
            ],
            [
             1,
             "#276419"
            ]
           ],
           "sequential": [
            [
             0,
             "#0d0887"
            ],
            [
             0.1111111111111111,
             "#46039f"
            ],
            [
             0.2222222222222222,
             "#7201a8"
            ],
            [
             0.3333333333333333,
             "#9c179e"
            ],
            [
             0.4444444444444444,
             "#bd3786"
            ],
            [
             0.5555555555555556,
             "#d8576b"
            ],
            [
             0.6666666666666666,
             "#ed7953"
            ],
            [
             0.7777777777777778,
             "#fb9f3a"
            ],
            [
             0.8888888888888888,
             "#fdca26"
            ],
            [
             1,
             "#f0f921"
            ]
           ],
           "sequentialminus": [
            [
             0,
             "#0d0887"
            ],
            [
             0.1111111111111111,
             "#46039f"
            ],
            [
             0.2222222222222222,
             "#7201a8"
            ],
            [
             0.3333333333333333,
             "#9c179e"
            ],
            [
             0.4444444444444444,
             "#bd3786"
            ],
            [
             0.5555555555555556,
             "#d8576b"
            ],
            [
             0.6666666666666666,
             "#ed7953"
            ],
            [
             0.7777777777777778,
             "#fb9f3a"
            ],
            [
             0.8888888888888888,
             "#fdca26"
            ],
            [
             1,
             "#f0f921"
            ]
           ]
          },
          "colorway": [
           "#636efa",
           "#EF553B",
           "#00cc96",
           "#ab63fa",
           "#FFA15A",
           "#19d3f3",
           "#FF6692",
           "#B6E880",
           "#FF97FF",
           "#FECB52"
          ],
          "font": {
           "color": "#2a3f5f"
          },
          "geo": {
           "bgcolor": "white",
           "lakecolor": "white",
           "landcolor": "#E5ECF6",
           "showlakes": true,
           "showland": true,
           "subunitcolor": "white"
          },
          "hoverlabel": {
           "align": "left"
          },
          "hovermode": "closest",
          "mapbox": {
           "style": "light"
          },
          "paper_bgcolor": "white",
          "plot_bgcolor": "#E5ECF6",
          "polar": {
           "angularaxis": {
            "gridcolor": "white",
            "linecolor": "white",
            "ticks": ""
           },
           "bgcolor": "#E5ECF6",
           "radialaxis": {
            "gridcolor": "white",
            "linecolor": "white",
            "ticks": ""
           }
          },
          "scene": {
           "xaxis": {
            "backgroundcolor": "#E5ECF6",
            "gridcolor": "white",
            "gridwidth": 2,
            "linecolor": "white",
            "showbackground": true,
            "ticks": "",
            "zerolinecolor": "white"
           },
           "yaxis": {
            "backgroundcolor": "#E5ECF6",
            "gridcolor": "white",
            "gridwidth": 2,
            "linecolor": "white",
            "showbackground": true,
            "ticks": "",
            "zerolinecolor": "white"
           },
           "zaxis": {
            "backgroundcolor": "#E5ECF6",
            "gridcolor": "white",
            "gridwidth": 2,
            "linecolor": "white",
            "showbackground": true,
            "ticks": "",
            "zerolinecolor": "white"
           }
          },
          "shapedefaults": {
           "line": {
            "color": "#2a3f5f"
           }
          },
          "ternary": {
           "aaxis": {
            "gridcolor": "white",
            "linecolor": "white",
            "ticks": ""
           },
           "baxis": {
            "gridcolor": "white",
            "linecolor": "white",
            "ticks": ""
           },
           "bgcolor": "#E5ECF6",
           "caxis": {
            "gridcolor": "white",
            "linecolor": "white",
            "ticks": ""
           }
          },
          "title": {
           "x": 0.05
          },
          "xaxis": {
           "automargin": true,
           "gridcolor": "white",
           "linecolor": "white",
           "ticks": "",
           "title": {
            "standoff": 15
           },
           "zerolinecolor": "white",
           "zerolinewidth": 2
          },
          "yaxis": {
           "automargin": true,
           "gridcolor": "white",
           "linecolor": "white",
           "ticks": "",
           "title": {
            "standoff": 15
           },
           "zerolinecolor": "white",
           "zerolinewidth": 2
          }
         }
        },
        "title": {
         "text": "Followers Distribution (Log Scale)"
        },
        "width": 800,
        "xaxis": {
         "title": {
          "text": "Followers"
         },
         "type": "log"
        },
        "yaxis": {
         "title": {
          "text": "Frequency"
         }
        }
       }
      }
     },
     "metadata": {},
     "output_type": "display_data"
    },
    {
     "name": "stdout",
     "output_type": "stream",
     "text": [
      "\n",
      "Followers Statistics:\n",
      "Count: 128\n",
      "Mean:  1,820.54\n",
      "Std:   2,487.66\n",
      "Min:   9.00\n",
      "25%:   170.50\n",
      "50%:   735.00\n",
      "75%:   2,738.00\n",
      "Max:   14,196.00\n",
      "Note: followers shows significant right skew - median (735.00) is much closer to min than max\n",
      "90th percentile: 4,987.10\n",
      "95th percentile: 5,813.30\n",
      "99th percentile: 10,509.79\n",
      "Percent of data between median and 90th percentile: 39.8%\n",
      "Percent of data between 90th and max: 10.2%\n",
      "Skewness for favorites: 3.38\n",
      "Applied log scaling to favorites due to right-skewed distribution (skewness: 3.38)\n"
     ]
    },
    {
     "data": {
      "application/vnd.plotly.v1+json": {
       "config": {
        "plotlyServerURL": "https://plot.ly"
       },
       "data": [
        {
         "name": "Distribution",
         "opacity": 0.75,
         "type": "bar",
         "x": [
          3.2379630785069566,
          3.7516401866758744,
          4.346808085523744,
          5.036394641330517,
          5.835378623615149,
          6.761115064634581,
          7.833712234581384,
          9.076468420900447,
          10.516377999172878,
          12.184717788123546,
          14.117726425190448,
          16.357391519628667,
          18.952361681198283,
          21.959003234955095,
          25.442624575444512,
          29.47889475495753,
          34.15548711953904,
          39.57398369478584,
          45.85208168731606,
          53.126150030160176,
          61.55419150375975,
          71.3192747739207,
          82.63351089531113,
          95.7426606556354,
          110.93147283834337,
          128.529869358292,
          148.92011162002268,
          172.54510376182287,
          199.91801314346662,
          231.63341704787558,
          268.38021771840766,
          310.95660626416736,
          360.2874004699654,
          417.4441331120332,
          483.6683271253712,
          560.398463191413,
          649.3012255191438,
          752.3077045210603,
          871.655342755949,
          1009.9365352621105,
          1170.1549399471917,
          1355.7907211738298,
          1570.8761437216233,
          1820.0831591303786,
          2108.8248869206004,
          2443.3731950030733,
          2830.994933285945,
          3280.1097796608256,
          3800.47312700007,
          4403.387983722668
         ],
         "y": {
          "bdata": "ZyIYaxLxoD+ZnnsO2+6lPwAAAAAAAAAASRYTELjIlT8D7gWfJs2SP/xTBIkhOoA/AAAAAAAAAABviOeg3yx4P3dKLSJ93YQ/AAAAAAAAAAAv008y0BVvPwAAAAAAAAAA6drffNInZz8EOapILvyDP9EmiDqB33k/AAAAAAAAAADMDbdqhLJ5P/azETBWonA/y5rVdnjtdz9tBEbSHsh4P4z/Wql6Y3U/Gs8nv0nEbj9ytOgEb91fP4b43cWsVVI/YNAGZ8THYz8zpXpDsVA7PyZB2nEPeF0/AAAAAAAAAAA/x7IxsY9BP9NlCVw1vFY/SDppM02fQz/d2HtNrZQmPzJq+S7GO00/cxCbfA/SQD92t6aN8Qg9P+P7OTlqyzI/kj+E+Q0JOz8c+odaGgAsP7B+6DWkKjg/5Dchm2rPKz9vUvYBnwAoPxUHk6JLtyQ/l9vPJirhAT8n5EWQ6dz+PgAAAAAAAAAAHpJ2t2/99j6luyY1mdfzPlrjna4YIPE+AAAAAAAAAAAAAAAAAAAAAA==",
          "dtype": "f8"
         }
        }
       ],
       "layout": {
        "height": 500,
        "showlegend": false,
        "template": {
         "data": {
          "bar": [
           {
            "error_x": {
             "color": "#2a3f5f"
            },
            "error_y": {
             "color": "#2a3f5f"
            },
            "marker": {
             "line": {
              "color": "#E5ECF6",
              "width": 0.5
             },
             "pattern": {
              "fillmode": "overlay",
              "size": 10,
              "solidity": 0.2
             }
            },
            "type": "bar"
           }
          ],
          "barpolar": [
           {
            "marker": {
             "line": {
              "color": "#E5ECF6",
              "width": 0.5
             },
             "pattern": {
              "fillmode": "overlay",
              "size": 10,
              "solidity": 0.2
             }
            },
            "type": "barpolar"
           }
          ],
          "carpet": [
           {
            "aaxis": {
             "endlinecolor": "#2a3f5f",
             "gridcolor": "white",
             "linecolor": "white",
             "minorgridcolor": "white",
             "startlinecolor": "#2a3f5f"
            },
            "baxis": {
             "endlinecolor": "#2a3f5f",
             "gridcolor": "white",
             "linecolor": "white",
             "minorgridcolor": "white",
             "startlinecolor": "#2a3f5f"
            },
            "type": "carpet"
           }
          ],
          "choropleth": [
           {
            "colorbar": {
             "outlinewidth": 0,
             "ticks": ""
            },
            "type": "choropleth"
           }
          ],
          "contour": [
           {
            "colorbar": {
             "outlinewidth": 0,
             "ticks": ""
            },
            "colorscale": [
             [
              0,
              "#0d0887"
             ],
             [
              0.1111111111111111,
              "#46039f"
             ],
             [
              0.2222222222222222,
              "#7201a8"
             ],
             [
              0.3333333333333333,
              "#9c179e"
             ],
             [
              0.4444444444444444,
              "#bd3786"
             ],
             [
              0.5555555555555556,
              "#d8576b"
             ],
             [
              0.6666666666666666,
              "#ed7953"
             ],
             [
              0.7777777777777778,
              "#fb9f3a"
             ],
             [
              0.8888888888888888,
              "#fdca26"
             ],
             [
              1,
              "#f0f921"
             ]
            ],
            "type": "contour"
           }
          ],
          "contourcarpet": [
           {
            "colorbar": {
             "outlinewidth": 0,
             "ticks": ""
            },
            "type": "contourcarpet"
           }
          ],
          "heatmap": [
           {
            "colorbar": {
             "outlinewidth": 0,
             "ticks": ""
            },
            "colorscale": [
             [
              0,
              "#0d0887"
             ],
             [
              0.1111111111111111,
              "#46039f"
             ],
             [
              0.2222222222222222,
              "#7201a8"
             ],
             [
              0.3333333333333333,
              "#9c179e"
             ],
             [
              0.4444444444444444,
              "#bd3786"
             ],
             [
              0.5555555555555556,
              "#d8576b"
             ],
             [
              0.6666666666666666,
              "#ed7953"
             ],
             [
              0.7777777777777778,
              "#fb9f3a"
             ],
             [
              0.8888888888888888,
              "#fdca26"
             ],
             [
              1,
              "#f0f921"
             ]
            ],
            "type": "heatmap"
           }
          ],
          "histogram": [
           {
            "marker": {
             "pattern": {
              "fillmode": "overlay",
              "size": 10,
              "solidity": 0.2
             }
            },
            "type": "histogram"
           }
          ],
          "histogram2d": [
           {
            "colorbar": {
             "outlinewidth": 0,
             "ticks": ""
            },
            "colorscale": [
             [
              0,
              "#0d0887"
             ],
             [
              0.1111111111111111,
              "#46039f"
             ],
             [
              0.2222222222222222,
              "#7201a8"
             ],
             [
              0.3333333333333333,
              "#9c179e"
             ],
             [
              0.4444444444444444,
              "#bd3786"
             ],
             [
              0.5555555555555556,
              "#d8576b"
             ],
             [
              0.6666666666666666,
              "#ed7953"
             ],
             [
              0.7777777777777778,
              "#fb9f3a"
             ],
             [
              0.8888888888888888,
              "#fdca26"
             ],
             [
              1,
              "#f0f921"
             ]
            ],
            "type": "histogram2d"
           }
          ],
          "histogram2dcontour": [
           {
            "colorbar": {
             "outlinewidth": 0,
             "ticks": ""
            },
            "colorscale": [
             [
              0,
              "#0d0887"
             ],
             [
              0.1111111111111111,
              "#46039f"
             ],
             [
              0.2222222222222222,
              "#7201a8"
             ],
             [
              0.3333333333333333,
              "#9c179e"
             ],
             [
              0.4444444444444444,
              "#bd3786"
             ],
             [
              0.5555555555555556,
              "#d8576b"
             ],
             [
              0.6666666666666666,
              "#ed7953"
             ],
             [
              0.7777777777777778,
              "#fb9f3a"
             ],
             [
              0.8888888888888888,
              "#fdca26"
             ],
             [
              1,
              "#f0f921"
             ]
            ],
            "type": "histogram2dcontour"
           }
          ],
          "mesh3d": [
           {
            "colorbar": {
             "outlinewidth": 0,
             "ticks": ""
            },
            "type": "mesh3d"
           }
          ],
          "parcoords": [
           {
            "line": {
             "colorbar": {
              "outlinewidth": 0,
              "ticks": ""
             }
            },
            "type": "parcoords"
           }
          ],
          "pie": [
           {
            "automargin": true,
            "type": "pie"
           }
          ],
          "scatter": [
           {
            "fillpattern": {
             "fillmode": "overlay",
             "size": 10,
             "solidity": 0.2
            },
            "type": "scatter"
           }
          ],
          "scatter3d": [
           {
            "line": {
             "colorbar": {
              "outlinewidth": 0,
              "ticks": ""
             }
            },
            "marker": {
             "colorbar": {
              "outlinewidth": 0,
              "ticks": ""
             }
            },
            "type": "scatter3d"
           }
          ],
          "scattercarpet": [
           {
            "marker": {
             "colorbar": {
              "outlinewidth": 0,
              "ticks": ""
             }
            },
            "type": "scattercarpet"
           }
          ],
          "scattergeo": [
           {
            "marker": {
             "colorbar": {
              "outlinewidth": 0,
              "ticks": ""
             }
            },
            "type": "scattergeo"
           }
          ],
          "scattergl": [
           {
            "marker": {
             "colorbar": {
              "outlinewidth": 0,
              "ticks": ""
             }
            },
            "type": "scattergl"
           }
          ],
          "scattermap": [
           {
            "marker": {
             "colorbar": {
              "outlinewidth": 0,
              "ticks": ""
             }
            },
            "type": "scattermap"
           }
          ],
          "scattermapbox": [
           {
            "marker": {
             "colorbar": {
              "outlinewidth": 0,
              "ticks": ""
             }
            },
            "type": "scattermapbox"
           }
          ],
          "scatterpolar": [
           {
            "marker": {
             "colorbar": {
              "outlinewidth": 0,
              "ticks": ""
             }
            },
            "type": "scatterpolar"
           }
          ],
          "scatterpolargl": [
           {
            "marker": {
             "colorbar": {
              "outlinewidth": 0,
              "ticks": ""
             }
            },
            "type": "scatterpolargl"
           }
          ],
          "scatterternary": [
           {
            "marker": {
             "colorbar": {
              "outlinewidth": 0,
              "ticks": ""
             }
            },
            "type": "scatterternary"
           }
          ],
          "surface": [
           {
            "colorbar": {
             "outlinewidth": 0,
             "ticks": ""
            },
            "colorscale": [
             [
              0,
              "#0d0887"
             ],
             [
              0.1111111111111111,
              "#46039f"
             ],
             [
              0.2222222222222222,
              "#7201a8"
             ],
             [
              0.3333333333333333,
              "#9c179e"
             ],
             [
              0.4444444444444444,
              "#bd3786"
             ],
             [
              0.5555555555555556,
              "#d8576b"
             ],
             [
              0.6666666666666666,
              "#ed7953"
             ],
             [
              0.7777777777777778,
              "#fb9f3a"
             ],
             [
              0.8888888888888888,
              "#fdca26"
             ],
             [
              1,
              "#f0f921"
             ]
            ],
            "type": "surface"
           }
          ],
          "table": [
           {
            "cells": {
             "fill": {
              "color": "#EBF0F8"
             },
             "line": {
              "color": "white"
             }
            },
            "header": {
             "fill": {
              "color": "#C8D4E3"
             },
             "line": {
              "color": "white"
             }
            },
            "type": "table"
           }
          ]
         },
         "layout": {
          "annotationdefaults": {
           "arrowcolor": "#2a3f5f",
           "arrowhead": 0,
           "arrowwidth": 1
          },
          "autotypenumbers": "strict",
          "coloraxis": {
           "colorbar": {
            "outlinewidth": 0,
            "ticks": ""
           }
          },
          "colorscale": {
           "diverging": [
            [
             0,
             "#8e0152"
            ],
            [
             0.1,
             "#c51b7d"
            ],
            [
             0.2,
             "#de77ae"
            ],
            [
             0.3,
             "#f1b6da"
            ],
            [
             0.4,
             "#fde0ef"
            ],
            [
             0.5,
             "#f7f7f7"
            ],
            [
             0.6,
             "#e6f5d0"
            ],
            [
             0.7,
             "#b8e186"
            ],
            [
             0.8,
             "#7fbc41"
            ],
            [
             0.9,
             "#4d9221"
            ],
            [
             1,
             "#276419"
            ]
           ],
           "sequential": [
            [
             0,
             "#0d0887"
            ],
            [
             0.1111111111111111,
             "#46039f"
            ],
            [
             0.2222222222222222,
             "#7201a8"
            ],
            [
             0.3333333333333333,
             "#9c179e"
            ],
            [
             0.4444444444444444,
             "#bd3786"
            ],
            [
             0.5555555555555556,
             "#d8576b"
            ],
            [
             0.6666666666666666,
             "#ed7953"
            ],
            [
             0.7777777777777778,
             "#fb9f3a"
            ],
            [
             0.8888888888888888,
             "#fdca26"
            ],
            [
             1,
             "#f0f921"
            ]
           ],
           "sequentialminus": [
            [
             0,
             "#0d0887"
            ],
            [
             0.1111111111111111,
             "#46039f"
            ],
            [
             0.2222222222222222,
             "#7201a8"
            ],
            [
             0.3333333333333333,
             "#9c179e"
            ],
            [
             0.4444444444444444,
             "#bd3786"
            ],
            [
             0.5555555555555556,
             "#d8576b"
            ],
            [
             0.6666666666666666,
             "#ed7953"
            ],
            [
             0.7777777777777778,
             "#fb9f3a"
            ],
            [
             0.8888888888888888,
             "#fdca26"
            ],
            [
             1,
             "#f0f921"
            ]
           ]
          },
          "colorway": [
           "#636efa",
           "#EF553B",
           "#00cc96",
           "#ab63fa",
           "#FFA15A",
           "#19d3f3",
           "#FF6692",
           "#B6E880",
           "#FF97FF",
           "#FECB52"
          ],
          "font": {
           "color": "#2a3f5f"
          },
          "geo": {
           "bgcolor": "white",
           "lakecolor": "white",
           "landcolor": "#E5ECF6",
           "showlakes": true,
           "showland": true,
           "subunitcolor": "white"
          },
          "hoverlabel": {
           "align": "left"
          },
          "hovermode": "closest",
          "mapbox": {
           "style": "light"
          },
          "paper_bgcolor": "white",
          "plot_bgcolor": "#E5ECF6",
          "polar": {
           "angularaxis": {
            "gridcolor": "white",
            "linecolor": "white",
            "ticks": ""
           },
           "bgcolor": "#E5ECF6",
           "radialaxis": {
            "gridcolor": "white",
            "linecolor": "white",
            "ticks": ""
           }
          },
          "scene": {
           "xaxis": {
            "backgroundcolor": "#E5ECF6",
            "gridcolor": "white",
            "gridwidth": 2,
            "linecolor": "white",
            "showbackground": true,
            "ticks": "",
            "zerolinecolor": "white"
           },
           "yaxis": {
            "backgroundcolor": "#E5ECF6",
            "gridcolor": "white",
            "gridwidth": 2,
            "linecolor": "white",
            "showbackground": true,
            "ticks": "",
            "zerolinecolor": "white"
           },
           "zaxis": {
            "backgroundcolor": "#E5ECF6",
            "gridcolor": "white",
            "gridwidth": 2,
            "linecolor": "white",
            "showbackground": true,
            "ticks": "",
            "zerolinecolor": "white"
           }
          },
          "shapedefaults": {
           "line": {
            "color": "#2a3f5f"
           }
          },
          "ternary": {
           "aaxis": {
            "gridcolor": "white",
            "linecolor": "white",
            "ticks": ""
           },
           "baxis": {
            "gridcolor": "white",
            "linecolor": "white",
            "ticks": ""
           },
           "bgcolor": "#E5ECF6",
           "caxis": {
            "gridcolor": "white",
            "linecolor": "white",
            "ticks": ""
           }
          },
          "title": {
           "x": 0.05
          },
          "xaxis": {
           "automargin": true,
           "gridcolor": "white",
           "linecolor": "white",
           "ticks": "",
           "title": {
            "standoff": 15
           },
           "zerolinecolor": "white",
           "zerolinewidth": 2
          },
          "yaxis": {
           "automargin": true,
           "gridcolor": "white",
           "linecolor": "white",
           "ticks": "",
           "title": {
            "standoff": 15
           },
           "zerolinecolor": "white",
           "zerolinewidth": 2
          }
         }
        },
        "title": {
         "text": "Favorites Distribution (Log Scale)"
        },
        "width": 800,
        "xaxis": {
         "title": {
          "text": "Favorites"
         },
         "type": "log"
        },
        "yaxis": {
         "title": {
          "text": "Frequency"
         }
        }
       }
      }
     },
     "metadata": {},
     "output_type": "display_data"
    },
    {
     "name": "stdout",
     "output_type": "stream",
     "text": [
      "\n",
      "Favorites Statistics:\n",
      "Count: 128\n",
      "Mean:  429.45\n",
      "Std:   669.76\n",
      "Min:   3.00\n",
      "25%:   45.75\n",
      "50%:   149.00\n",
      "75%:   606.75\n",
      "Max:   4,727.00\n",
      "Note: favorites shows significant right skew - median (149.00) is much closer to min than max\n",
      "90th percentile: 1,134.20\n",
      "95th percentile: 1,301.95\n",
      "99th percentile: 3,049.07\n",
      "Percent of data between median and 90th percentile: 39.8%\n",
      "Percent of data between 90th and max: 10.2%\n",
      "Skewness for chapters: 2.66\n",
      "Applied log scaling to chapters due to right-skewed distribution (skewness: 2.66)\n"
     ]
    },
    {
     "data": {
      "application/vnd.plotly.v1+json": {
       "config": {
        "plotlyServerURL": "https://plot.ly"
       },
       "data": [
        {
         "name": "Distribution",
         "opacity": 0.75,
         "type": "bar",
         "x": [
          15.657005365470388,
          17.02857023644541,
          18.52028517132994,
          20.14267540167733,
          21.90718817685471,
          23.8262735334631,
          25.913472140216477,
          28.183510838095096,
          30.652406549884596,
          33.337579292265104,
          36.25797508784012,
          39.43419964434713,
          42.88866374426265,
          46.64574137064076,
          50.731941684888085,
          55.17609606991504,
          60.00956155840087,
          65.2664420815202,
          70.98382909921631,
          77.2020633098587,
          83.9650192858536,
          91.32041504353765,
          99.32014873161587,
          108.02066481374766,
          117.48335232898908,
          127.77497804013487,
          138.96815752616544,
          151.14186754272873,
          164.38200326576703,
          178.78198435008426,
          194.44341407907737,
          211.47679625645517,
          230.00231489818563,
          250.15068222601468,
          272.0640609458238,
          295.8970673182331,
          321.817862098904,
          350.0093370459956,
          380.67040536652263,
          414.017405206735,
          450.2856260892619,
          489.7309690672404,
          532.631752309132,
          579.2906748540644,
          630.0369523935422,
          685.2286401491642,
          745.2551592360944,
          810.5400443377748,
          881.543932078911,
          958.7678111820717
         ],
         "y": {
          "bdata": "AAAAAAAAAABVdGjRHB13P0n2EOqEQHU/AAAAAAAAAAAAAAAAAAAAAEyt2Y/xhHA/AAAAAAAAAADmLtoiR+5rPwAAAAAAAAAAuV1A+tOchz8AAAAAAAAAAJLa2olI9nM/zmrMDK1aYj+S7iqzOOBwP6eD0sh/CH8/20vELpyIfD/4C8q7qWWAP8fODNVMH4g/BdIy7G6igD8jPic8KPGGP8X+DaIdcHc/CdY2Mng9cT8xpkVS+bNvP6y4NX+03GU//n6kB0TAcD9eBCSdlqRYPz2HtAFZ/mA/KzOLg5s6cj8WNAAWqYx1P9+11e+6nGE/iVGHwlxKWD9/L2D7VsdNP/25sYZRYVs/VpWEqZDhUj+S97xJqSVHPy/uPB1hSFU/AAAAAAAAAAAAAAAAAAAAAPvhvqcNizA/AAAAAAAAAABMn6Gym/grP74mLonbtyk/WZwHr4+lJz9aQ7JG+r0lP2vXZZmq/TM/AAAAAAAAAABmY4CNduYwPxqRohf6Ex8/AAAAAAAAAAAMN+3P9kUaPw==",
          "dtype": "f8"
         }
        }
       ],
       "layout": {
        "height": 500,
        "showlegend": false,
        "template": {
         "data": {
          "bar": [
           {
            "error_x": {
             "color": "#2a3f5f"
            },
            "error_y": {
             "color": "#2a3f5f"
            },
            "marker": {
             "line": {
              "color": "#E5ECF6",
              "width": 0.5
             },
             "pattern": {
              "fillmode": "overlay",
              "size": 10,
              "solidity": 0.2
             }
            },
            "type": "bar"
           }
          ],
          "barpolar": [
           {
            "marker": {
             "line": {
              "color": "#E5ECF6",
              "width": 0.5
             },
             "pattern": {
              "fillmode": "overlay",
              "size": 10,
              "solidity": 0.2
             }
            },
            "type": "barpolar"
           }
          ],
          "carpet": [
           {
            "aaxis": {
             "endlinecolor": "#2a3f5f",
             "gridcolor": "white",
             "linecolor": "white",
             "minorgridcolor": "white",
             "startlinecolor": "#2a3f5f"
            },
            "baxis": {
             "endlinecolor": "#2a3f5f",
             "gridcolor": "white",
             "linecolor": "white",
             "minorgridcolor": "white",
             "startlinecolor": "#2a3f5f"
            },
            "type": "carpet"
           }
          ],
          "choropleth": [
           {
            "colorbar": {
             "outlinewidth": 0,
             "ticks": ""
            },
            "type": "choropleth"
           }
          ],
          "contour": [
           {
            "colorbar": {
             "outlinewidth": 0,
             "ticks": ""
            },
            "colorscale": [
             [
              0,
              "#0d0887"
             ],
             [
              0.1111111111111111,
              "#46039f"
             ],
             [
              0.2222222222222222,
              "#7201a8"
             ],
             [
              0.3333333333333333,
              "#9c179e"
             ],
             [
              0.4444444444444444,
              "#bd3786"
             ],
             [
              0.5555555555555556,
              "#d8576b"
             ],
             [
              0.6666666666666666,
              "#ed7953"
             ],
             [
              0.7777777777777778,
              "#fb9f3a"
             ],
             [
              0.8888888888888888,
              "#fdca26"
             ],
             [
              1,
              "#f0f921"
             ]
            ],
            "type": "contour"
           }
          ],
          "contourcarpet": [
           {
            "colorbar": {
             "outlinewidth": 0,
             "ticks": ""
            },
            "type": "contourcarpet"
           }
          ],
          "heatmap": [
           {
            "colorbar": {
             "outlinewidth": 0,
             "ticks": ""
            },
            "colorscale": [
             [
              0,
              "#0d0887"
             ],
             [
              0.1111111111111111,
              "#46039f"
             ],
             [
              0.2222222222222222,
              "#7201a8"
             ],
             [
              0.3333333333333333,
              "#9c179e"
             ],
             [
              0.4444444444444444,
              "#bd3786"
             ],
             [
              0.5555555555555556,
              "#d8576b"
             ],
             [
              0.6666666666666666,
              "#ed7953"
             ],
             [
              0.7777777777777778,
              "#fb9f3a"
             ],
             [
              0.8888888888888888,
              "#fdca26"
             ],
             [
              1,
              "#f0f921"
             ]
            ],
            "type": "heatmap"
           }
          ],
          "histogram": [
           {
            "marker": {
             "pattern": {
              "fillmode": "overlay",
              "size": 10,
              "solidity": 0.2
             }
            },
            "type": "histogram"
           }
          ],
          "histogram2d": [
           {
            "colorbar": {
             "outlinewidth": 0,
             "ticks": ""
            },
            "colorscale": [
             [
              0,
              "#0d0887"
             ],
             [
              0.1111111111111111,
              "#46039f"
             ],
             [
              0.2222222222222222,
              "#7201a8"
             ],
             [
              0.3333333333333333,
              "#9c179e"
             ],
             [
              0.4444444444444444,
              "#bd3786"
             ],
             [
              0.5555555555555556,
              "#d8576b"
             ],
             [
              0.6666666666666666,
              "#ed7953"
             ],
             [
              0.7777777777777778,
              "#fb9f3a"
             ],
             [
              0.8888888888888888,
              "#fdca26"
             ],
             [
              1,
              "#f0f921"
             ]
            ],
            "type": "histogram2d"
           }
          ],
          "histogram2dcontour": [
           {
            "colorbar": {
             "outlinewidth": 0,
             "ticks": ""
            },
            "colorscale": [
             [
              0,
              "#0d0887"
             ],
             [
              0.1111111111111111,
              "#46039f"
             ],
             [
              0.2222222222222222,
              "#7201a8"
             ],
             [
              0.3333333333333333,
              "#9c179e"
             ],
             [
              0.4444444444444444,
              "#bd3786"
             ],
             [
              0.5555555555555556,
              "#d8576b"
             ],
             [
              0.6666666666666666,
              "#ed7953"
             ],
             [
              0.7777777777777778,
              "#fb9f3a"
             ],
             [
              0.8888888888888888,
              "#fdca26"
             ],
             [
              1,
              "#f0f921"
             ]
            ],
            "type": "histogram2dcontour"
           }
          ],
          "mesh3d": [
           {
            "colorbar": {
             "outlinewidth": 0,
             "ticks": ""
            },
            "type": "mesh3d"
           }
          ],
          "parcoords": [
           {
            "line": {
             "colorbar": {
              "outlinewidth": 0,
              "ticks": ""
             }
            },
            "type": "parcoords"
           }
          ],
          "pie": [
           {
            "automargin": true,
            "type": "pie"
           }
          ],
          "scatter": [
           {
            "fillpattern": {
             "fillmode": "overlay",
             "size": 10,
             "solidity": 0.2
            },
            "type": "scatter"
           }
          ],
          "scatter3d": [
           {
            "line": {
             "colorbar": {
              "outlinewidth": 0,
              "ticks": ""
             }
            },
            "marker": {
             "colorbar": {
              "outlinewidth": 0,
              "ticks": ""
             }
            },
            "type": "scatter3d"
           }
          ],
          "scattercarpet": [
           {
            "marker": {
             "colorbar": {
              "outlinewidth": 0,
              "ticks": ""
             }
            },
            "type": "scattercarpet"
           }
          ],
          "scattergeo": [
           {
            "marker": {
             "colorbar": {
              "outlinewidth": 0,
              "ticks": ""
             }
            },
            "type": "scattergeo"
           }
          ],
          "scattergl": [
           {
            "marker": {
             "colorbar": {
              "outlinewidth": 0,
              "ticks": ""
             }
            },
            "type": "scattergl"
           }
          ],
          "scattermap": [
           {
            "marker": {
             "colorbar": {
              "outlinewidth": 0,
              "ticks": ""
             }
            },
            "type": "scattermap"
           }
          ],
          "scattermapbox": [
           {
            "marker": {
             "colorbar": {
              "outlinewidth": 0,
              "ticks": ""
             }
            },
            "type": "scattermapbox"
           }
          ],
          "scatterpolar": [
           {
            "marker": {
             "colorbar": {
              "outlinewidth": 0,
              "ticks": ""
             }
            },
            "type": "scatterpolar"
           }
          ],
          "scatterpolargl": [
           {
            "marker": {
             "colorbar": {
              "outlinewidth": 0,
              "ticks": ""
             }
            },
            "type": "scatterpolargl"
           }
          ],
          "scatterternary": [
           {
            "marker": {
             "colorbar": {
              "outlinewidth": 0,
              "ticks": ""
             }
            },
            "type": "scatterternary"
           }
          ],
          "surface": [
           {
            "colorbar": {
             "outlinewidth": 0,
             "ticks": ""
            },
            "colorscale": [
             [
              0,
              "#0d0887"
             ],
             [
              0.1111111111111111,
              "#46039f"
             ],
             [
              0.2222222222222222,
              "#7201a8"
             ],
             [
              0.3333333333333333,
              "#9c179e"
             ],
             [
              0.4444444444444444,
              "#bd3786"
             ],
             [
              0.5555555555555556,
              "#d8576b"
             ],
             [
              0.6666666666666666,
              "#ed7953"
             ],
             [
              0.7777777777777778,
              "#fb9f3a"
             ],
             [
              0.8888888888888888,
              "#fdca26"
             ],
             [
              1,
              "#f0f921"
             ]
            ],
            "type": "surface"
           }
          ],
          "table": [
           {
            "cells": {
             "fill": {
              "color": "#EBF0F8"
             },
             "line": {
              "color": "white"
             }
            },
            "header": {
             "fill": {
              "color": "#C8D4E3"
             },
             "line": {
              "color": "white"
             }
            },
            "type": "table"
           }
          ]
         },
         "layout": {
          "annotationdefaults": {
           "arrowcolor": "#2a3f5f",
           "arrowhead": 0,
           "arrowwidth": 1
          },
          "autotypenumbers": "strict",
          "coloraxis": {
           "colorbar": {
            "outlinewidth": 0,
            "ticks": ""
           }
          },
          "colorscale": {
           "diverging": [
            [
             0,
             "#8e0152"
            ],
            [
             0.1,
             "#c51b7d"
            ],
            [
             0.2,
             "#de77ae"
            ],
            [
             0.3,
             "#f1b6da"
            ],
            [
             0.4,
             "#fde0ef"
            ],
            [
             0.5,
             "#f7f7f7"
            ],
            [
             0.6,
             "#e6f5d0"
            ],
            [
             0.7,
             "#b8e186"
            ],
            [
             0.8,
             "#7fbc41"
            ],
            [
             0.9,
             "#4d9221"
            ],
            [
             1,
             "#276419"
            ]
           ],
           "sequential": [
            [
             0,
             "#0d0887"
            ],
            [
             0.1111111111111111,
             "#46039f"
            ],
            [
             0.2222222222222222,
             "#7201a8"
            ],
            [
             0.3333333333333333,
             "#9c179e"
            ],
            [
             0.4444444444444444,
             "#bd3786"
            ],
            [
             0.5555555555555556,
             "#d8576b"
            ],
            [
             0.6666666666666666,
             "#ed7953"
            ],
            [
             0.7777777777777778,
             "#fb9f3a"
            ],
            [
             0.8888888888888888,
             "#fdca26"
            ],
            [
             1,
             "#f0f921"
            ]
           ],
           "sequentialminus": [
            [
             0,
             "#0d0887"
            ],
            [
             0.1111111111111111,
             "#46039f"
            ],
            [
             0.2222222222222222,
             "#7201a8"
            ],
            [
             0.3333333333333333,
             "#9c179e"
            ],
            [
             0.4444444444444444,
             "#bd3786"
            ],
            [
             0.5555555555555556,
             "#d8576b"
            ],
            [
             0.6666666666666666,
             "#ed7953"
            ],
            [
             0.7777777777777778,
             "#fb9f3a"
            ],
            [
             0.8888888888888888,
             "#fdca26"
            ],
            [
             1,
             "#f0f921"
            ]
           ]
          },
          "colorway": [
           "#636efa",
           "#EF553B",
           "#00cc96",
           "#ab63fa",
           "#FFA15A",
           "#19d3f3",
           "#FF6692",
           "#B6E880",
           "#FF97FF",
           "#FECB52"
          ],
          "font": {
           "color": "#2a3f5f"
          },
          "geo": {
           "bgcolor": "white",
           "lakecolor": "white",
           "landcolor": "#E5ECF6",
           "showlakes": true,
           "showland": true,
           "subunitcolor": "white"
          },
          "hoverlabel": {
           "align": "left"
          },
          "hovermode": "closest",
          "mapbox": {
           "style": "light"
          },
          "paper_bgcolor": "white",
          "plot_bgcolor": "#E5ECF6",
          "polar": {
           "angularaxis": {
            "gridcolor": "white",
            "linecolor": "white",
            "ticks": ""
           },
           "bgcolor": "#E5ECF6",
           "radialaxis": {
            "gridcolor": "white",
            "linecolor": "white",
            "ticks": ""
           }
          },
          "scene": {
           "xaxis": {
            "backgroundcolor": "#E5ECF6",
            "gridcolor": "white",
            "gridwidth": 2,
            "linecolor": "white",
            "showbackground": true,
            "ticks": "",
            "zerolinecolor": "white"
           },
           "yaxis": {
            "backgroundcolor": "#E5ECF6",
            "gridcolor": "white",
            "gridwidth": 2,
            "linecolor": "white",
            "showbackground": true,
            "ticks": "",
            "zerolinecolor": "white"
           },
           "zaxis": {
            "backgroundcolor": "#E5ECF6",
            "gridcolor": "white",
            "gridwidth": 2,
            "linecolor": "white",
            "showbackground": true,
            "ticks": "",
            "zerolinecolor": "white"
           }
          },
          "shapedefaults": {
           "line": {
            "color": "#2a3f5f"
           }
          },
          "ternary": {
           "aaxis": {
            "gridcolor": "white",
            "linecolor": "white",
            "ticks": ""
           },
           "baxis": {
            "gridcolor": "white",
            "linecolor": "white",
            "ticks": ""
           },
           "bgcolor": "#E5ECF6",
           "caxis": {
            "gridcolor": "white",
            "linecolor": "white",
            "ticks": ""
           }
          },
          "title": {
           "x": 0.05
          },
          "xaxis": {
           "automargin": true,
           "gridcolor": "white",
           "linecolor": "white",
           "ticks": "",
           "title": {
            "standoff": 15
           },
           "zerolinecolor": "white",
           "zerolinewidth": 2
          },
          "yaxis": {
           "automargin": true,
           "gridcolor": "white",
           "linecolor": "white",
           "ticks": "",
           "title": {
            "standoff": 15
           },
           "zerolinecolor": "white",
           "zerolinewidth": 2
          }
         }
        },
        "title": {
         "text": "Chapters Distribution (Log Scale)"
        },
        "width": 800,
        "xaxis": {
         "title": {
          "text": "Chapters"
         },
         "type": "log"
        },
        "yaxis": {
         "title": {
          "text": "Frequency"
         }
        }
       }
      }
     },
     "metadata": {},
     "output_type": "display_data"
    },
    {
     "name": "stdout",
     "output_type": "stream",
     "text": [
      "\n",
      "Chapters Statistics:\n",
      "Count: 125\n",
      "Mean:  161.74\n",
      "Std:   170.40\n",
      "Min:   15.00\n",
      "25%:   65.00\n",
      "50%:   103.00\n",
      "75%:   176.00\n",
      "Max:   999.00\n",
      "Note: chapters shows significant right skew - median (103.00) is much closer to min than max\n",
      "90th percentile: 301.00\n",
      "95th percentile: 565.00\n",
      "99th percentile: 810.80\n",
      "Percent of data between median and 90th percentile: 39.2%\n",
      "Percent of data between 90th and max: 10.4%\n",
      "Skewness for pages: 3.02\n",
      "Applied log scaling to pages due to right-skewed distribution (skewness: 3.02)\n"
     ]
    },
    {
     "data": {
      "application/vnd.plotly.v1+json": {
       "config": {
        "plotlyServerURL": "https://plot.ly"
       },
       "data": [
        {
         "name": "Distribution",
         "opacity": 0.75,
         "type": "bar",
         "x": [
          132.54254711720898,
          144.11141817913068,
          156.69006897260545,
          170.36663732031244,
          185.2369540848524,
          201.40521464963322,
          218.98470900943153,
          238.09861558633037,
          258.8808643332511,
          281.47707517279196,
          306.0455783469556,
          332.75852382729386,
          361.8030875590372,
          393.3827829912839,
          427.71888708306335,
          465.05199077720624,
          505.6436848060962,
          549.7783926416391,
          597.7653634328161,
          649.940838895209,
          706.6704093357612,
          768.3515753212863,
          835.4165329401837,
          908.3352021735127,
          987.618519595029,
          1073.8220184719369,
          1167.5497213518925,
          1269.4583724113743,
          1380.2620392212252,
          1500.7371161736453,
          1631.7277646293428,
          1774.1518279036152,
          1929.0072625372895,
          2097.3791309160497,
          2280.447204234997,
          2479.4942290819263,
          2695.9149155627824,
          2931.225709948504,
          3187.0754203195906,
          3465.2567696616397,
          3767.7189573636433,
          4096.581317136706,
          4454.148167053376,
          4842.924955760831,
          5265.635818003535,
          5725.242662465711,
          6224.965925681006,
          6768.307137430735,
          7359.07345574494,
          8001.404343421607
         ],
         "y": {
          "bdata": "DPktUBUYRz9ChR40ej1FPx9P7rX4iEM/AAAAAAAAAAAAAAAAAAAAAP1Vw3ZaZU4/CvkYBbD0Sz8PzBoSK7ZJPwAAAAAAAAAA0q8FnddPYD+Bet2c0gA0P/rluNor/1Y/N7LB96brQD8KGUGI1h8/PykpXKUzoDw/kyiW6elTWj/EtMHQ/i9VP+IeIDHrs1A/eu/Ox26aST9pvve16UFMP5mub7Qx/Uk/mpEKChjnRz/C7mGo3vtFP49BaI1w9To/PeVqDPyxRT/XjY6t280mP0PzvPc1+TQ/3MEBIUfvLD9L9ojewr0hP3oMKdW9eSg/2xbTsr6CJj+M4zAv1pobP0Ul3NGlCiM/V/lwCcRZBz903rxQahsgPy5Imh2IwAM/AAAAAAAAAAAAAAAAAAAAAC2RTDnaDBc/AAAAAAAAAACfCSWaS/8ZP+fAbsEG6Qc/AAAAAAAAAAAAAAAAAAAAAAAAAAAAAAAAIxUkvsYb8T5KFxsWXHjvPgAAAAAAAAAAAAAAAAAAAABO1LpnuHv4Pg==",
          "dtype": "f8"
         }
        }
       ],
       "layout": {
        "height": 500,
        "showlegend": false,
        "template": {
         "data": {
          "bar": [
           {
            "error_x": {
             "color": "#2a3f5f"
            },
            "error_y": {
             "color": "#2a3f5f"
            },
            "marker": {
             "line": {
              "color": "#E5ECF6",
              "width": 0.5
             },
             "pattern": {
              "fillmode": "overlay",
              "size": 10,
              "solidity": 0.2
             }
            },
            "type": "bar"
           }
          ],
          "barpolar": [
           {
            "marker": {
             "line": {
              "color": "#E5ECF6",
              "width": 0.5
             },
             "pattern": {
              "fillmode": "overlay",
              "size": 10,
              "solidity": 0.2
             }
            },
            "type": "barpolar"
           }
          ],
          "carpet": [
           {
            "aaxis": {
             "endlinecolor": "#2a3f5f",
             "gridcolor": "white",
             "linecolor": "white",
             "minorgridcolor": "white",
             "startlinecolor": "#2a3f5f"
            },
            "baxis": {
             "endlinecolor": "#2a3f5f",
             "gridcolor": "white",
             "linecolor": "white",
             "minorgridcolor": "white",
             "startlinecolor": "#2a3f5f"
            },
            "type": "carpet"
           }
          ],
          "choropleth": [
           {
            "colorbar": {
             "outlinewidth": 0,
             "ticks": ""
            },
            "type": "choropleth"
           }
          ],
          "contour": [
           {
            "colorbar": {
             "outlinewidth": 0,
             "ticks": ""
            },
            "colorscale": [
             [
              0,
              "#0d0887"
             ],
             [
              0.1111111111111111,
              "#46039f"
             ],
             [
              0.2222222222222222,
              "#7201a8"
             ],
             [
              0.3333333333333333,
              "#9c179e"
             ],
             [
              0.4444444444444444,
              "#bd3786"
             ],
             [
              0.5555555555555556,
              "#d8576b"
             ],
             [
              0.6666666666666666,
              "#ed7953"
             ],
             [
              0.7777777777777778,
              "#fb9f3a"
             ],
             [
              0.8888888888888888,
              "#fdca26"
             ],
             [
              1,
              "#f0f921"
             ]
            ],
            "type": "contour"
           }
          ],
          "contourcarpet": [
           {
            "colorbar": {
             "outlinewidth": 0,
             "ticks": ""
            },
            "type": "contourcarpet"
           }
          ],
          "heatmap": [
           {
            "colorbar": {
             "outlinewidth": 0,
             "ticks": ""
            },
            "colorscale": [
             [
              0,
              "#0d0887"
             ],
             [
              0.1111111111111111,
              "#46039f"
             ],
             [
              0.2222222222222222,
              "#7201a8"
             ],
             [
              0.3333333333333333,
              "#9c179e"
             ],
             [
              0.4444444444444444,
              "#bd3786"
             ],
             [
              0.5555555555555556,
              "#d8576b"
             ],
             [
              0.6666666666666666,
              "#ed7953"
             ],
             [
              0.7777777777777778,
              "#fb9f3a"
             ],
             [
              0.8888888888888888,
              "#fdca26"
             ],
             [
              1,
              "#f0f921"
             ]
            ],
            "type": "heatmap"
           }
          ],
          "histogram": [
           {
            "marker": {
             "pattern": {
              "fillmode": "overlay",
              "size": 10,
              "solidity": 0.2
             }
            },
            "type": "histogram"
           }
          ],
          "histogram2d": [
           {
            "colorbar": {
             "outlinewidth": 0,
             "ticks": ""
            },
            "colorscale": [
             [
              0,
              "#0d0887"
             ],
             [
              0.1111111111111111,
              "#46039f"
             ],
             [
              0.2222222222222222,
              "#7201a8"
             ],
             [
              0.3333333333333333,
              "#9c179e"
             ],
             [
              0.4444444444444444,
              "#bd3786"
             ],
             [
              0.5555555555555556,
              "#d8576b"
             ],
             [
              0.6666666666666666,
              "#ed7953"
             ],
             [
              0.7777777777777778,
              "#fb9f3a"
             ],
             [
              0.8888888888888888,
              "#fdca26"
             ],
             [
              1,
              "#f0f921"
             ]
            ],
            "type": "histogram2d"
           }
          ],
          "histogram2dcontour": [
           {
            "colorbar": {
             "outlinewidth": 0,
             "ticks": ""
            },
            "colorscale": [
             [
              0,
              "#0d0887"
             ],
             [
              0.1111111111111111,
              "#46039f"
             ],
             [
              0.2222222222222222,
              "#7201a8"
             ],
             [
              0.3333333333333333,
              "#9c179e"
             ],
             [
              0.4444444444444444,
              "#bd3786"
             ],
             [
              0.5555555555555556,
              "#d8576b"
             ],
             [
              0.6666666666666666,
              "#ed7953"
             ],
             [
              0.7777777777777778,
              "#fb9f3a"
             ],
             [
              0.8888888888888888,
              "#fdca26"
             ],
             [
              1,
              "#f0f921"
             ]
            ],
            "type": "histogram2dcontour"
           }
          ],
          "mesh3d": [
           {
            "colorbar": {
             "outlinewidth": 0,
             "ticks": ""
            },
            "type": "mesh3d"
           }
          ],
          "parcoords": [
           {
            "line": {
             "colorbar": {
              "outlinewidth": 0,
              "ticks": ""
             }
            },
            "type": "parcoords"
           }
          ],
          "pie": [
           {
            "automargin": true,
            "type": "pie"
           }
          ],
          "scatter": [
           {
            "fillpattern": {
             "fillmode": "overlay",
             "size": 10,
             "solidity": 0.2
            },
            "type": "scatter"
           }
          ],
          "scatter3d": [
           {
            "line": {
             "colorbar": {
              "outlinewidth": 0,
              "ticks": ""
             }
            },
            "marker": {
             "colorbar": {
              "outlinewidth": 0,
              "ticks": ""
             }
            },
            "type": "scatter3d"
           }
          ],
          "scattercarpet": [
           {
            "marker": {
             "colorbar": {
              "outlinewidth": 0,
              "ticks": ""
             }
            },
            "type": "scattercarpet"
           }
          ],
          "scattergeo": [
           {
            "marker": {
             "colorbar": {
              "outlinewidth": 0,
              "ticks": ""
             }
            },
            "type": "scattergeo"
           }
          ],
          "scattergl": [
           {
            "marker": {
             "colorbar": {
              "outlinewidth": 0,
              "ticks": ""
             }
            },
            "type": "scattergl"
           }
          ],
          "scattermap": [
           {
            "marker": {
             "colorbar": {
              "outlinewidth": 0,
              "ticks": ""
             }
            },
            "type": "scattermap"
           }
          ],
          "scattermapbox": [
           {
            "marker": {
             "colorbar": {
              "outlinewidth": 0,
              "ticks": ""
             }
            },
            "type": "scattermapbox"
           }
          ],
          "scatterpolar": [
           {
            "marker": {
             "colorbar": {
              "outlinewidth": 0,
              "ticks": ""
             }
            },
            "type": "scatterpolar"
           }
          ],
          "scatterpolargl": [
           {
            "marker": {
             "colorbar": {
              "outlinewidth": 0,
              "ticks": ""
             }
            },
            "type": "scatterpolargl"
           }
          ],
          "scatterternary": [
           {
            "marker": {
             "colorbar": {
              "outlinewidth": 0,
              "ticks": ""
             }
            },
            "type": "scatterternary"
           }
          ],
          "surface": [
           {
            "colorbar": {
             "outlinewidth": 0,
             "ticks": ""
            },
            "colorscale": [
             [
              0,
              "#0d0887"
             ],
             [
              0.1111111111111111,
              "#46039f"
             ],
             [
              0.2222222222222222,
              "#7201a8"
             ],
             [
              0.3333333333333333,
              "#9c179e"
             ],
             [
              0.4444444444444444,
              "#bd3786"
             ],
             [
              0.5555555555555556,
              "#d8576b"
             ],
             [
              0.6666666666666666,
              "#ed7953"
             ],
             [
              0.7777777777777778,
              "#fb9f3a"
             ],
             [
              0.8888888888888888,
              "#fdca26"
             ],
             [
              1,
              "#f0f921"
             ]
            ],
            "type": "surface"
           }
          ],
          "table": [
           {
            "cells": {
             "fill": {
              "color": "#EBF0F8"
             },
             "line": {
              "color": "white"
             }
            },
            "header": {
             "fill": {
              "color": "#C8D4E3"
             },
             "line": {
              "color": "white"
             }
            },
            "type": "table"
           }
          ]
         },
         "layout": {
          "annotationdefaults": {
           "arrowcolor": "#2a3f5f",
           "arrowhead": 0,
           "arrowwidth": 1
          },
          "autotypenumbers": "strict",
          "coloraxis": {
           "colorbar": {
            "outlinewidth": 0,
            "ticks": ""
           }
          },
          "colorscale": {
           "diverging": [
            [
             0,
             "#8e0152"
            ],
            [
             0.1,
             "#c51b7d"
            ],
            [
             0.2,
             "#de77ae"
            ],
            [
             0.3,
             "#f1b6da"
            ],
            [
             0.4,
             "#fde0ef"
            ],
            [
             0.5,
             "#f7f7f7"
            ],
            [
             0.6,
             "#e6f5d0"
            ],
            [
             0.7,
             "#b8e186"
            ],
            [
             0.8,
             "#7fbc41"
            ],
            [
             0.9,
             "#4d9221"
            ],
            [
             1,
             "#276419"
            ]
           ],
           "sequential": [
            [
             0,
             "#0d0887"
            ],
            [
             0.1111111111111111,
             "#46039f"
            ],
            [
             0.2222222222222222,
             "#7201a8"
            ],
            [
             0.3333333333333333,
             "#9c179e"
            ],
            [
             0.4444444444444444,
             "#bd3786"
            ],
            [
             0.5555555555555556,
             "#d8576b"
            ],
            [
             0.6666666666666666,
             "#ed7953"
            ],
            [
             0.7777777777777778,
             "#fb9f3a"
            ],
            [
             0.8888888888888888,
             "#fdca26"
            ],
            [
             1,
             "#f0f921"
            ]
           ],
           "sequentialminus": [
            [
             0,
             "#0d0887"
            ],
            [
             0.1111111111111111,
             "#46039f"
            ],
            [
             0.2222222222222222,
             "#7201a8"
            ],
            [
             0.3333333333333333,
             "#9c179e"
            ],
            [
             0.4444444444444444,
             "#bd3786"
            ],
            [
             0.5555555555555556,
             "#d8576b"
            ],
            [
             0.6666666666666666,
             "#ed7953"
            ],
            [
             0.7777777777777778,
             "#fb9f3a"
            ],
            [
             0.8888888888888888,
             "#fdca26"
            ],
            [
             1,
             "#f0f921"
            ]
           ]
          },
          "colorway": [
           "#636efa",
           "#EF553B",
           "#00cc96",
           "#ab63fa",
           "#FFA15A",
           "#19d3f3",
           "#FF6692",
           "#B6E880",
           "#FF97FF",
           "#FECB52"
          ],
          "font": {
           "color": "#2a3f5f"
          },
          "geo": {
           "bgcolor": "white",
           "lakecolor": "white",
           "landcolor": "#E5ECF6",
           "showlakes": true,
           "showland": true,
           "subunitcolor": "white"
          },
          "hoverlabel": {
           "align": "left"
          },
          "hovermode": "closest",
          "mapbox": {
           "style": "light"
          },
          "paper_bgcolor": "white",
          "plot_bgcolor": "#E5ECF6",
          "polar": {
           "angularaxis": {
            "gridcolor": "white",
            "linecolor": "white",
            "ticks": ""
           },
           "bgcolor": "#E5ECF6",
           "radialaxis": {
            "gridcolor": "white",
            "linecolor": "white",
            "ticks": ""
           }
          },
          "scene": {
           "xaxis": {
            "backgroundcolor": "#E5ECF6",
            "gridcolor": "white",
            "gridwidth": 2,
            "linecolor": "white",
            "showbackground": true,
            "ticks": "",
            "zerolinecolor": "white"
           },
           "yaxis": {
            "backgroundcolor": "#E5ECF6",
            "gridcolor": "white",
            "gridwidth": 2,
            "linecolor": "white",
            "showbackground": true,
            "ticks": "",
            "zerolinecolor": "white"
           },
           "zaxis": {
            "backgroundcolor": "#E5ECF6",
            "gridcolor": "white",
            "gridwidth": 2,
            "linecolor": "white",
            "showbackground": true,
            "ticks": "",
            "zerolinecolor": "white"
           }
          },
          "shapedefaults": {
           "line": {
            "color": "#2a3f5f"
           }
          },
          "ternary": {
           "aaxis": {
            "gridcolor": "white",
            "linecolor": "white",
            "ticks": ""
           },
           "baxis": {
            "gridcolor": "white",
            "linecolor": "white",
            "ticks": ""
           },
           "bgcolor": "#E5ECF6",
           "caxis": {
            "gridcolor": "white",
            "linecolor": "white",
            "ticks": ""
           }
          },
          "title": {
           "x": 0.05
          },
          "xaxis": {
           "automargin": true,
           "gridcolor": "white",
           "linecolor": "white",
           "ticks": "",
           "title": {
            "standoff": 15
           },
           "zerolinecolor": "white",
           "zerolinewidth": 2
          },
          "yaxis": {
           "automargin": true,
           "gridcolor": "white",
           "linecolor": "white",
           "ticks": "",
           "title": {
            "standoff": 15
           },
           "zerolinecolor": "white",
           "zerolinewidth": 2
          }
         }
        },
        "title": {
         "text": "Pages Distribution (Log Scale)"
        },
        "width": 800,
        "xaxis": {
         "title": {
          "text": "Pages"
         },
         "type": "log"
        },
        "yaxis": {
         "title": {
          "text": "Frequency"
         }
        }
       }
      }
     },
     "metadata": {},
     "output_type": "display_data"
    },
    {
     "name": "stdout",
     "output_type": "stream",
     "text": [
      "\n",
      "Pages Statistics:\n",
      "Count: 128\n",
      "Mean:  1,205.55\n",
      "Std:   1,396.28\n",
      "Min:   127.00\n",
      "25%:   471.50\n",
      "50%:   717.00\n",
      "75%:   1,311.00\n",
      "Max:   8,336.00\n",
      "Note: pages shows significant right skew - median (717.00) is much closer to min than max\n",
      "90th percentile: 2,719.20\n",
      "95th percentile: 3,854.90\n",
      "99th percentile: 7,702.33\n",
      "Percent of data between median and 90th percentile: 39.8%\n",
      "Percent of data between 90th and max: 10.2%\n"
     ]
    }
   ],
   "source": [
    "# Define key metrics for analysis\n",
    "key_metrics = ['views', 'rating', 'followers', 'favorites', 'chapters', 'pages']\n",
    "\n",
    "# Create individual distribution plots for better readability\n",
    "for metric in key_metrics:\n",
    "    # Skip non-numeric columns or convert if possible\n",
    "    if not pd.api.types.is_numeric_dtype(df[metric]):\n",
    "        print(f\"Skipping {metric} as it's not numeric (type: {df[metric].dtype})\")\n",
    "        continue\n",
    "        \n",
    "    # Create figure\n",
    "    fig = go.Figure()\n",
    "    \n",
    "    # Create histogram data with proper handling of data types\n",
    "    try:\n",
    "        # Create bins manually to avoid Interval objects\n",
    "        values = df[metric].dropna()\n",
    "        min_val = values.min()\n",
    "        max_val = values.max()\n",
    "        \n",
    "        # Check for skewness to determine appropriate scaling\n",
    "        skewness = values.skew()\n",
    "        print(f\"Skewness for {metric}: {skewness:.2f}\")\n",
    "        is_right_skewed = skewness > 1.0  # Common threshold for significant right skew\n",
    "        \n",
    "        # If right-skewed and not already using log scale, use log binning\n",
    "        if is_right_skewed and min_val > 0:  # Ensure all values are positive for log scale\n",
    "            # For log scale, use logarithmically spaced bins\n",
    "            bins = np.logspace(np.log10(max(min_val, 0.1)), np.log10(max_val), 51)\n",
    "            hist_data = np.histogram(values, bins=bins, density=True)\n",
    "            bin_centers = [(bins[i] + bins[i+1])/2 for i in range(len(bins)-1)]\n",
    "        else:\n",
    "            # For normal scale, use linearly spaced bins\n",
    "            bins = np.linspace(min_val, max_val, 51)  # 51 points = 50 bins\n",
    "            hist_data = np.histogram(values, bins=bins, density=True)\n",
    "            bin_centers = [(bins[i] + bins[i+1])/2 for i in range(len(bins)-1)]\n",
    "        \n",
    "        # Create bar chart with bin centers and heights\n",
    "        fig.add_trace(\n",
    "            go.Bar(\n",
    "                x=bin_centers,\n",
    "                y=hist_data[0],\n",
    "                name='Distribution',\n",
    "                opacity=0.75\n",
    "            )\n",
    "        )\n",
    "    except Exception as e:\n",
    "        print(f\"Error creating histogram for {metric}: {e}\")\n",
    "        continue\n",
    "    \n",
    "    # Update layout\n",
    "    fig.update_layout(\n",
    "        title=f'{metric.capitalize()} Distribution{\" (Log Scale)\" if is_right_skewed and min_val > 0 else \"\"}',\n",
    "        xaxis_title=metric.capitalize(),\n",
    "        yaxis_title='Frequency',\n",
    "        height=500,\n",
    "        width=800,\n",
    "        showlegend=False  # No need for legend with single trace\n",
    "    )\n",
    "    \n",
    "    # Use log scale for highly skewed metrics\n",
    "    if is_right_skewed and min_val > 0:\n",
    "        fig.update_xaxes(type='log')\n",
    "        print(f\"Applied log scaling to {metric} due to right-skewed distribution (skewness: {skewness:.2f})\")\n",
    "    \n",
    "    try:\n",
    "        fig.show()\n",
    "    except TypeError as e:\n",
    "        print(f\"Error displaying plot for {metric}: {e}\")\n",
    "        print(f\"Data types - x: {type(bin_centers[0])}, y: {type(hist_data[0][0])}\")\n",
    "        continue\n",
    "    \n",
    "    # Print basic statistics\n",
    "    stats = df[metric].describe()\n",
    "    print(f\"\\n{metric.capitalize()} Statistics:\")\n",
    "    print(f\"Count: {stats['count']:,.0f}\")\n",
    "    print(f\"Mean:  {stats['mean']:,.2f}\")\n",
    "    print(f\"Std:   {stats['std']:,.2f}\")\n",
    "    print(f\"Min:   {stats['min']:,.2f}\")\n",
    "    print(f\"25%:   {stats['25%']:,.2f}\")\n",
    "    print(f\"50%:   {stats['50%']:,.2f}\")\n",
    "    print(f\"75%:   {stats['75%']:,.2f}\")\n",
    "    print(f\"Max:   {stats['max']:,.2f}\")\n",
    "    \n",
    "    # Calculate additional metrics to highlight skewness\n",
    "    iqr = stats['75%'] - stats['25%']\n",
    "    median = stats['50%']\n",
    "    # Check if distribution is significantly skewed\n",
    "    if (stats['max'] - median) > 3 * (median - stats['min']):\n",
    "        print(f\"Note: {metric} shows significant right skew - median ({median:.2f}) is much closer to min than max\")\n",
    "    \n",
    "    # Print the 90th, 95th and 99th percentiles for right-skewed distributions\n",
    "    if is_right_skewed:\n",
    "        p90 = values.quantile(0.90)\n",
    "        p95 = values.quantile(0.95)\n",
    "        p99 = values.quantile(0.99)\n",
    "        print(f\"90th percentile: {p90:,.2f}\")\n",
    "        print(f\"95th percentile: {p95:,.2f}\")\n",
    "        print(f\"99th percentile: {p99:,.2f}\")\n",
    "        print(f\"Percent of data between median and 90th percentile: {((values < p90) & (values > median)).mean()*100:.1f}%\")\n",
    "        print(f\"Percent of data between 90th and max: {(values >= p90).mean()*100:.1f}%\")"
   ]
  },
  {
   "cell_type": "markdown",
   "id": "e2cfdf65",
   "metadata": {},
   "source": [
    "## Correlation Analysis\n",
    "\n",
    "Let's analyze the relationships between different numerical features in our dataset. We'll use both a correlation matrix heatmap and a pairplot to visualize these relationships."
   ]
  },
  {
   "cell_type": "code",
   "execution_count": 17,
   "id": "e5c8011b",
   "metadata": {},
   "outputs": [
    {
     "data": {
      "application/vnd.plotly.v1+json": {
       "config": {
        "plotlyServerURL": "https://plot.ly"
       },
       "data": [
        {
         "colorscale": [
          [
           0,
           "rgb(103,0,31)"
          ],
          [
           0.1,
           "rgb(178,24,43)"
          ],
          [
           0.2,
           "rgb(214,96,77)"
          ],
          [
           0.3,
           "rgb(244,165,130)"
          ],
          [
           0.4,
           "rgb(253,219,199)"
          ],
          [
           0.5,
           "rgb(247,247,247)"
          ],
          [
           0.6,
           "rgb(209,229,240)"
          ],
          [
           0.7,
           "rgb(146,197,222)"
          ],
          [
           0.8,
           "rgb(67,147,195)"
          ],
          [
           0.9,
           "rgb(33,102,172)"
          ],
          [
           1,
           "rgb(5,48,97)"
          ]
         ],
         "hoverongaps": false,
         "text": {
          "bdata": "AAAAAAAA8D+amZmZmZm5v65H4XoUruc/MzMzMzMz6z89CtejcD3aP7gehetRuN4/mpmZmZmZub8AAAAAAADwP3sUrkfhepQ/AAAAAAAAAAAAAAAAAADgvx+F61G4HtW/rkfhehSu5z97FK5H4XqUPwAAAAAAAPA/CtejcD0K7z8K16NwPQq3P5qZmZmZmck/MzMzMzMz6z8AAAAAAAAAAArXo3A9Cu8/AAAAAAAA8D97FK5H4XrEP6RwPQrXo9A/PQrXo3A92j8AAAAAAADgvwrXo3A9Crc/exSuR+F6xD8AAAAAAADwP83MzMzMzOw/uB6F61G43j8fhetRuB7Vv5qZmZmZmck/pHA9Ctej0D/NzMzMzMzsPwAAAAAAAPA/",
          "dtype": "f8",
          "shape": "6, 6"
         },
         "textfont": {
          "size": 12
         },
         "texttemplate": "%{text}",
         "type": "heatmap",
         "x": [
          "views",
          "rating",
          "followers",
          "favorites",
          "chapters",
          "pages"
         ],
         "y": [
          "views",
          "rating",
          "followers",
          "favorites",
          "chapters",
          "pages"
         ],
         "z": {
          "bdata": "AAAAAAAA8D9+sZzdPAy5v4pC/+2MzOc/OCKiTwQj6z9nfb6+3SXaP9ieRiu7dN4/frGc3TwMub8AAAAAAADwP/NdiN6b+ZM/T9++W9eaZD9WtGtCaSDgvw0lF2jB+NS/ikL/7YzM5z/zXYjem/mTPwAAAAAAAPA/znHQ/1cq7z+b8Ip+PnC2P+DI2zopOMk/OCKiTwQj6z9P375b15pkP85x0P9XKu8/AAAAAAAA8D/56ME9jj3EP0MHl4WHuNA/Z32+vt0l2j9WtGtCaSDgv5vwin4+cLY/+ejBPY49xD8AAAAAAADwP0JSITow6+w/2J5GK7t03j8NJRdowfjUv+DI2zopOMk/QweXhYe40D9CUiE6MOvsPwAAAAAAAPA/",
          "dtype": "f8",
          "shape": "6, 6"
         }
        }
       ],
       "layout": {
        "font": {
         "size": 14
        },
        "height": 800,
        "template": {
         "data": {
          "bar": [
           {
            "error_x": {
             "color": "#2a3f5f"
            },
            "error_y": {
             "color": "#2a3f5f"
            },
            "marker": {
             "line": {
              "color": "#E5ECF6",
              "width": 0.5
             },
             "pattern": {
              "fillmode": "overlay",
              "size": 10,
              "solidity": 0.2
             }
            },
            "type": "bar"
           }
          ],
          "barpolar": [
           {
            "marker": {
             "line": {
              "color": "#E5ECF6",
              "width": 0.5
             },
             "pattern": {
              "fillmode": "overlay",
              "size": 10,
              "solidity": 0.2
             }
            },
            "type": "barpolar"
           }
          ],
          "carpet": [
           {
            "aaxis": {
             "endlinecolor": "#2a3f5f",
             "gridcolor": "white",
             "linecolor": "white",
             "minorgridcolor": "white",
             "startlinecolor": "#2a3f5f"
            },
            "baxis": {
             "endlinecolor": "#2a3f5f",
             "gridcolor": "white",
             "linecolor": "white",
             "minorgridcolor": "white",
             "startlinecolor": "#2a3f5f"
            },
            "type": "carpet"
           }
          ],
          "choropleth": [
           {
            "colorbar": {
             "outlinewidth": 0,
             "ticks": ""
            },
            "type": "choropleth"
           }
          ],
          "contour": [
           {
            "colorbar": {
             "outlinewidth": 0,
             "ticks": ""
            },
            "colorscale": [
             [
              0,
              "#0d0887"
             ],
             [
              0.1111111111111111,
              "#46039f"
             ],
             [
              0.2222222222222222,
              "#7201a8"
             ],
             [
              0.3333333333333333,
              "#9c179e"
             ],
             [
              0.4444444444444444,
              "#bd3786"
             ],
             [
              0.5555555555555556,
              "#d8576b"
             ],
             [
              0.6666666666666666,
              "#ed7953"
             ],
             [
              0.7777777777777778,
              "#fb9f3a"
             ],
             [
              0.8888888888888888,
              "#fdca26"
             ],
             [
              1,
              "#f0f921"
             ]
            ],
            "type": "contour"
           }
          ],
          "contourcarpet": [
           {
            "colorbar": {
             "outlinewidth": 0,
             "ticks": ""
            },
            "type": "contourcarpet"
           }
          ],
          "heatmap": [
           {
            "colorbar": {
             "outlinewidth": 0,
             "ticks": ""
            },
            "colorscale": [
             [
              0,
              "#0d0887"
             ],
             [
              0.1111111111111111,
              "#46039f"
             ],
             [
              0.2222222222222222,
              "#7201a8"
             ],
             [
              0.3333333333333333,
              "#9c179e"
             ],
             [
              0.4444444444444444,
              "#bd3786"
             ],
             [
              0.5555555555555556,
              "#d8576b"
             ],
             [
              0.6666666666666666,
              "#ed7953"
             ],
             [
              0.7777777777777778,
              "#fb9f3a"
             ],
             [
              0.8888888888888888,
              "#fdca26"
             ],
             [
              1,
              "#f0f921"
             ]
            ],
            "type": "heatmap"
           }
          ],
          "histogram": [
           {
            "marker": {
             "pattern": {
              "fillmode": "overlay",
              "size": 10,
              "solidity": 0.2
             }
            },
            "type": "histogram"
           }
          ],
          "histogram2d": [
           {
            "colorbar": {
             "outlinewidth": 0,
             "ticks": ""
            },
            "colorscale": [
             [
              0,
              "#0d0887"
             ],
             [
              0.1111111111111111,
              "#46039f"
             ],
             [
              0.2222222222222222,
              "#7201a8"
             ],
             [
              0.3333333333333333,
              "#9c179e"
             ],
             [
              0.4444444444444444,
              "#bd3786"
             ],
             [
              0.5555555555555556,
              "#d8576b"
             ],
             [
              0.6666666666666666,
              "#ed7953"
             ],
             [
              0.7777777777777778,
              "#fb9f3a"
             ],
             [
              0.8888888888888888,
              "#fdca26"
             ],
             [
              1,
              "#f0f921"
             ]
            ],
            "type": "histogram2d"
           }
          ],
          "histogram2dcontour": [
           {
            "colorbar": {
             "outlinewidth": 0,
             "ticks": ""
            },
            "colorscale": [
             [
              0,
              "#0d0887"
             ],
             [
              0.1111111111111111,
              "#46039f"
             ],
             [
              0.2222222222222222,
              "#7201a8"
             ],
             [
              0.3333333333333333,
              "#9c179e"
             ],
             [
              0.4444444444444444,
              "#bd3786"
             ],
             [
              0.5555555555555556,
              "#d8576b"
             ],
             [
              0.6666666666666666,
              "#ed7953"
             ],
             [
              0.7777777777777778,
              "#fb9f3a"
             ],
             [
              0.8888888888888888,
              "#fdca26"
             ],
             [
              1,
              "#f0f921"
             ]
            ],
            "type": "histogram2dcontour"
           }
          ],
          "mesh3d": [
           {
            "colorbar": {
             "outlinewidth": 0,
             "ticks": ""
            },
            "type": "mesh3d"
           }
          ],
          "parcoords": [
           {
            "line": {
             "colorbar": {
              "outlinewidth": 0,
              "ticks": ""
             }
            },
            "type": "parcoords"
           }
          ],
          "pie": [
           {
            "automargin": true,
            "type": "pie"
           }
          ],
          "scatter": [
           {
            "fillpattern": {
             "fillmode": "overlay",
             "size": 10,
             "solidity": 0.2
            },
            "type": "scatter"
           }
          ],
          "scatter3d": [
           {
            "line": {
             "colorbar": {
              "outlinewidth": 0,
              "ticks": ""
             }
            },
            "marker": {
             "colorbar": {
              "outlinewidth": 0,
              "ticks": ""
             }
            },
            "type": "scatter3d"
           }
          ],
          "scattercarpet": [
           {
            "marker": {
             "colorbar": {
              "outlinewidth": 0,
              "ticks": ""
             }
            },
            "type": "scattercarpet"
           }
          ],
          "scattergeo": [
           {
            "marker": {
             "colorbar": {
              "outlinewidth": 0,
              "ticks": ""
             }
            },
            "type": "scattergeo"
           }
          ],
          "scattergl": [
           {
            "marker": {
             "colorbar": {
              "outlinewidth": 0,
              "ticks": ""
             }
            },
            "type": "scattergl"
           }
          ],
          "scattermap": [
           {
            "marker": {
             "colorbar": {
              "outlinewidth": 0,
              "ticks": ""
             }
            },
            "type": "scattermap"
           }
          ],
          "scattermapbox": [
           {
            "marker": {
             "colorbar": {
              "outlinewidth": 0,
              "ticks": ""
             }
            },
            "type": "scattermapbox"
           }
          ],
          "scatterpolar": [
           {
            "marker": {
             "colorbar": {
              "outlinewidth": 0,
              "ticks": ""
             }
            },
            "type": "scatterpolar"
           }
          ],
          "scatterpolargl": [
           {
            "marker": {
             "colorbar": {
              "outlinewidth": 0,
              "ticks": ""
             }
            },
            "type": "scatterpolargl"
           }
          ],
          "scatterternary": [
           {
            "marker": {
             "colorbar": {
              "outlinewidth": 0,
              "ticks": ""
             }
            },
            "type": "scatterternary"
           }
          ],
          "surface": [
           {
            "colorbar": {
             "outlinewidth": 0,
             "ticks": ""
            },
            "colorscale": [
             [
              0,
              "#0d0887"
             ],
             [
              0.1111111111111111,
              "#46039f"
             ],
             [
              0.2222222222222222,
              "#7201a8"
             ],
             [
              0.3333333333333333,
              "#9c179e"
             ],
             [
              0.4444444444444444,
              "#bd3786"
             ],
             [
              0.5555555555555556,
              "#d8576b"
             ],
             [
              0.6666666666666666,
              "#ed7953"
             ],
             [
              0.7777777777777778,
              "#fb9f3a"
             ],
             [
              0.8888888888888888,
              "#fdca26"
             ],
             [
              1,
              "#f0f921"
             ]
            ],
            "type": "surface"
           }
          ],
          "table": [
           {
            "cells": {
             "fill": {
              "color": "#EBF0F8"
             },
             "line": {
              "color": "white"
             }
            },
            "header": {
             "fill": {
              "color": "#C8D4E3"
             },
             "line": {
              "color": "white"
             }
            },
            "type": "table"
           }
          ]
         },
         "layout": {
          "annotationdefaults": {
           "arrowcolor": "#2a3f5f",
           "arrowhead": 0,
           "arrowwidth": 1
          },
          "autotypenumbers": "strict",
          "coloraxis": {
           "colorbar": {
            "outlinewidth": 0,
            "ticks": ""
           }
          },
          "colorscale": {
           "diverging": [
            [
             0,
             "#8e0152"
            ],
            [
             0.1,
             "#c51b7d"
            ],
            [
             0.2,
             "#de77ae"
            ],
            [
             0.3,
             "#f1b6da"
            ],
            [
             0.4,
             "#fde0ef"
            ],
            [
             0.5,
             "#f7f7f7"
            ],
            [
             0.6,
             "#e6f5d0"
            ],
            [
             0.7,
             "#b8e186"
            ],
            [
             0.8,
             "#7fbc41"
            ],
            [
             0.9,
             "#4d9221"
            ],
            [
             1,
             "#276419"
            ]
           ],
           "sequential": [
            [
             0,
             "#0d0887"
            ],
            [
             0.1111111111111111,
             "#46039f"
            ],
            [
             0.2222222222222222,
             "#7201a8"
            ],
            [
             0.3333333333333333,
             "#9c179e"
            ],
            [
             0.4444444444444444,
             "#bd3786"
            ],
            [
             0.5555555555555556,
             "#d8576b"
            ],
            [
             0.6666666666666666,
             "#ed7953"
            ],
            [
             0.7777777777777778,
             "#fb9f3a"
            ],
            [
             0.8888888888888888,
             "#fdca26"
            ],
            [
             1,
             "#f0f921"
            ]
           ],
           "sequentialminus": [
            [
             0,
             "#0d0887"
            ],
            [
             0.1111111111111111,
             "#46039f"
            ],
            [
             0.2222222222222222,
             "#7201a8"
            ],
            [
             0.3333333333333333,
             "#9c179e"
            ],
            [
             0.4444444444444444,
             "#bd3786"
            ],
            [
             0.5555555555555556,
             "#d8576b"
            ],
            [
             0.6666666666666666,
             "#ed7953"
            ],
            [
             0.7777777777777778,
             "#fb9f3a"
            ],
            [
             0.8888888888888888,
             "#fdca26"
            ],
            [
             1,
             "#f0f921"
            ]
           ]
          },
          "colorway": [
           "#636efa",
           "#EF553B",
           "#00cc96",
           "#ab63fa",
           "#FFA15A",
           "#19d3f3",
           "#FF6692",
           "#B6E880",
           "#FF97FF",
           "#FECB52"
          ],
          "font": {
           "color": "#2a3f5f"
          },
          "geo": {
           "bgcolor": "white",
           "lakecolor": "white",
           "landcolor": "#E5ECF6",
           "showlakes": true,
           "showland": true,
           "subunitcolor": "white"
          },
          "hoverlabel": {
           "align": "left"
          },
          "hovermode": "closest",
          "mapbox": {
           "style": "light"
          },
          "paper_bgcolor": "white",
          "plot_bgcolor": "#E5ECF6",
          "polar": {
           "angularaxis": {
            "gridcolor": "white",
            "linecolor": "white",
            "ticks": ""
           },
           "bgcolor": "#E5ECF6",
           "radialaxis": {
            "gridcolor": "white",
            "linecolor": "white",
            "ticks": ""
           }
          },
          "scene": {
           "xaxis": {
            "backgroundcolor": "#E5ECF6",
            "gridcolor": "white",
            "gridwidth": 2,
            "linecolor": "white",
            "showbackground": true,
            "ticks": "",
            "zerolinecolor": "white"
           },
           "yaxis": {
            "backgroundcolor": "#E5ECF6",
            "gridcolor": "white",
            "gridwidth": 2,
            "linecolor": "white",
            "showbackground": true,
            "ticks": "",
            "zerolinecolor": "white"
           },
           "zaxis": {
            "backgroundcolor": "#E5ECF6",
            "gridcolor": "white",
            "gridwidth": 2,
            "linecolor": "white",
            "showbackground": true,
            "ticks": "",
            "zerolinecolor": "white"
           }
          },
          "shapedefaults": {
           "line": {
            "color": "#2a3f5f"
           }
          },
          "ternary": {
           "aaxis": {
            "gridcolor": "white",
            "linecolor": "white",
            "ticks": ""
           },
           "baxis": {
            "gridcolor": "white",
            "linecolor": "white",
            "ticks": ""
           },
           "bgcolor": "#E5ECF6",
           "caxis": {
            "gridcolor": "white",
            "linecolor": "white",
            "ticks": ""
           }
          },
          "title": {
           "x": 0.05
          },
          "xaxis": {
           "automargin": true,
           "gridcolor": "white",
           "linecolor": "white",
           "ticks": "",
           "title": {
            "standoff": 15
           },
           "zerolinecolor": "white",
           "zerolinewidth": 2
          },
          "yaxis": {
           "automargin": true,
           "gridcolor": "white",
           "linecolor": "white",
           "ticks": "",
           "title": {
            "standoff": 15
           },
           "zerolinecolor": "white",
           "zerolinewidth": 2
          }
         }
        },
        "title": {
         "text": "Correlation Matrix Heatmap"
        },
        "width": 900
       }
      }
     },
     "metadata": {},
     "output_type": "display_data"
    },
    {
     "name": "stdout",
     "output_type": "stream",
     "text": [
      "\n",
      "Strongest Correlations:\n",
      "followers vs favorites:  0.974\n",
      "chapters vs pages   :  0.904\n",
      "   views vs favorites:  0.848\n",
      "   views vs followers:  0.744\n",
      "  rating vs chapters: -0.504\n"
     ]
    }
   ],
   "source": [
    "# Calculate correlation matrix\n",
    "correlation_matrix = df[key_metrics].corr()\n",
    "\n",
    "# Create correlation heatmap using plotly\n",
    "fig = go.Figure(data=go.Heatmap(\n",
    "    z=correlation_matrix,\n",
    "    x=correlation_matrix.columns,\n",
    "    y=correlation_matrix.columns,\n",
    "    text=np.round(correlation_matrix, 2),\n",
    "    texttemplate='%{text}',\n",
    "    textfont={\"size\": 12},\n",
    "    hoverongaps=False,\n",
    "    colorscale='RdBu'\n",
    "))\n",
    "\n",
    "fig.update_layout(\n",
    "    title='Correlation Matrix Heatmap',\n",
    "    height=800,\n",
    "    width=900,\n",
    "    font=dict(size=14)\n",
    ")\n",
    "fig.show()\n",
    "\n",
    "# Print strongest correlations\n",
    "print(\"\\nStrongest Correlations:\")\n",
    "corr_pairs = []\n",
    "\n",
    "# Extract values from correlation matrix\n",
    "for i, metric1 in enumerate(key_metrics):\n",
    "    for j, metric2 in enumerate(key_metrics):\n",
    "        if i < j:  # Avoid duplicate pairs and diagonals\n",
    "            corr_value = correlation_matrix.loc[metric1, metric2]\n",
    "            # Make sure we're working with a float\n",
    "            if isinstance(corr_value, (int, float)) and abs(float(corr_value)) > 0.5:\n",
    "                corr_pairs.append((metric1, metric2, float(corr_value)))\n",
    "\n",
    "# Sort by correlation strength and print\n",
    "for metric1, metric2, corr in sorted(corr_pairs, key=lambda x: abs(x[2]), reverse=True):\n",
    "    print(f\"{metric1:>8} vs {metric2:<8}: {corr:>6.3f}\")"
   ]
  },
  {
   "cell_type": "markdown",
   "id": "2fecb22c",
   "metadata": {},
   "source": [
    "## Genre Analysis\n",
    "\n",
    "Let's analyze the distribution of genres and their relationship with other metrics. This will help us understand which genres are most popular and successful on Royal Road."
   ]
  },
  {
   "cell_type": "code",
   "execution_count": 18,
   "id": "b8209ae5",
   "metadata": {},
   "outputs": [
    {
     "data": {
      "application/vnd.plotly.v1+json": {
       "config": {
        "plotlyServerURL": "https://plot.ly"
       },
       "data": [
        {
         "text": {
          "bdata": "AAAAAADAWUAAAAAAAMBYQAAAAAAAwFdAAAAAAACAVUAAAAAAAIBTQAAAAAAAgFNAAAAAAACAT0AAAAAAAABOQAAAAAAAgE1AAAAAAAAAREA=",
          "dtype": "f8"
         },
         "textposition": "auto",
         "type": "bar",
         "x": [
          "Adventure",
          "Fantasy",
          "Action",
          "Progression",
          "Male Lead",
          "Magic",
          "Strong Lead",
          "High Fantasy",
          "LitRPG",
          "Portal Fantasy / Isekai"
         ],
         "y": {
          "bdata": "Z2NfVk5OPzw7KA==",
          "dtype": "i1"
         }
        }
       ],
       "layout": {
        "font": {
         "size": 14
        },
        "height": 600,
        "margin": {
         "b": 100
        },
        "template": {
         "data": {
          "bar": [
           {
            "error_x": {
             "color": "#2a3f5f"
            },
            "error_y": {
             "color": "#2a3f5f"
            },
            "marker": {
             "line": {
              "color": "#E5ECF6",
              "width": 0.5
             },
             "pattern": {
              "fillmode": "overlay",
              "size": 10,
              "solidity": 0.2
             }
            },
            "type": "bar"
           }
          ],
          "barpolar": [
           {
            "marker": {
             "line": {
              "color": "#E5ECF6",
              "width": 0.5
             },
             "pattern": {
              "fillmode": "overlay",
              "size": 10,
              "solidity": 0.2
             }
            },
            "type": "barpolar"
           }
          ],
          "carpet": [
           {
            "aaxis": {
             "endlinecolor": "#2a3f5f",
             "gridcolor": "white",
             "linecolor": "white",
             "minorgridcolor": "white",
             "startlinecolor": "#2a3f5f"
            },
            "baxis": {
             "endlinecolor": "#2a3f5f",
             "gridcolor": "white",
             "linecolor": "white",
             "minorgridcolor": "white",
             "startlinecolor": "#2a3f5f"
            },
            "type": "carpet"
           }
          ],
          "choropleth": [
           {
            "colorbar": {
             "outlinewidth": 0,
             "ticks": ""
            },
            "type": "choropleth"
           }
          ],
          "contour": [
           {
            "colorbar": {
             "outlinewidth": 0,
             "ticks": ""
            },
            "colorscale": [
             [
              0,
              "#0d0887"
             ],
             [
              0.1111111111111111,
              "#46039f"
             ],
             [
              0.2222222222222222,
              "#7201a8"
             ],
             [
              0.3333333333333333,
              "#9c179e"
             ],
             [
              0.4444444444444444,
              "#bd3786"
             ],
             [
              0.5555555555555556,
              "#d8576b"
             ],
             [
              0.6666666666666666,
              "#ed7953"
             ],
             [
              0.7777777777777778,
              "#fb9f3a"
             ],
             [
              0.8888888888888888,
              "#fdca26"
             ],
             [
              1,
              "#f0f921"
             ]
            ],
            "type": "contour"
           }
          ],
          "contourcarpet": [
           {
            "colorbar": {
             "outlinewidth": 0,
             "ticks": ""
            },
            "type": "contourcarpet"
           }
          ],
          "heatmap": [
           {
            "colorbar": {
             "outlinewidth": 0,
             "ticks": ""
            },
            "colorscale": [
             [
              0,
              "#0d0887"
             ],
             [
              0.1111111111111111,
              "#46039f"
             ],
             [
              0.2222222222222222,
              "#7201a8"
             ],
             [
              0.3333333333333333,
              "#9c179e"
             ],
             [
              0.4444444444444444,
              "#bd3786"
             ],
             [
              0.5555555555555556,
              "#d8576b"
             ],
             [
              0.6666666666666666,
              "#ed7953"
             ],
             [
              0.7777777777777778,
              "#fb9f3a"
             ],
             [
              0.8888888888888888,
              "#fdca26"
             ],
             [
              1,
              "#f0f921"
             ]
            ],
            "type": "heatmap"
           }
          ],
          "histogram": [
           {
            "marker": {
             "pattern": {
              "fillmode": "overlay",
              "size": 10,
              "solidity": 0.2
             }
            },
            "type": "histogram"
           }
          ],
          "histogram2d": [
           {
            "colorbar": {
             "outlinewidth": 0,
             "ticks": ""
            },
            "colorscale": [
             [
              0,
              "#0d0887"
             ],
             [
              0.1111111111111111,
              "#46039f"
             ],
             [
              0.2222222222222222,
              "#7201a8"
             ],
             [
              0.3333333333333333,
              "#9c179e"
             ],
             [
              0.4444444444444444,
              "#bd3786"
             ],
             [
              0.5555555555555556,
              "#d8576b"
             ],
             [
              0.6666666666666666,
              "#ed7953"
             ],
             [
              0.7777777777777778,
              "#fb9f3a"
             ],
             [
              0.8888888888888888,
              "#fdca26"
             ],
             [
              1,
              "#f0f921"
             ]
            ],
            "type": "histogram2d"
           }
          ],
          "histogram2dcontour": [
           {
            "colorbar": {
             "outlinewidth": 0,
             "ticks": ""
            },
            "colorscale": [
             [
              0,
              "#0d0887"
             ],
             [
              0.1111111111111111,
              "#46039f"
             ],
             [
              0.2222222222222222,
              "#7201a8"
             ],
             [
              0.3333333333333333,
              "#9c179e"
             ],
             [
              0.4444444444444444,
              "#bd3786"
             ],
             [
              0.5555555555555556,
              "#d8576b"
             ],
             [
              0.6666666666666666,
              "#ed7953"
             ],
             [
              0.7777777777777778,
              "#fb9f3a"
             ],
             [
              0.8888888888888888,
              "#fdca26"
             ],
             [
              1,
              "#f0f921"
             ]
            ],
            "type": "histogram2dcontour"
           }
          ],
          "mesh3d": [
           {
            "colorbar": {
             "outlinewidth": 0,
             "ticks": ""
            },
            "type": "mesh3d"
           }
          ],
          "parcoords": [
           {
            "line": {
             "colorbar": {
              "outlinewidth": 0,
              "ticks": ""
             }
            },
            "type": "parcoords"
           }
          ],
          "pie": [
           {
            "automargin": true,
            "type": "pie"
           }
          ],
          "scatter": [
           {
            "fillpattern": {
             "fillmode": "overlay",
             "size": 10,
             "solidity": 0.2
            },
            "type": "scatter"
           }
          ],
          "scatter3d": [
           {
            "line": {
             "colorbar": {
              "outlinewidth": 0,
              "ticks": ""
             }
            },
            "marker": {
             "colorbar": {
              "outlinewidth": 0,
              "ticks": ""
             }
            },
            "type": "scatter3d"
           }
          ],
          "scattercarpet": [
           {
            "marker": {
             "colorbar": {
              "outlinewidth": 0,
              "ticks": ""
             }
            },
            "type": "scattercarpet"
           }
          ],
          "scattergeo": [
           {
            "marker": {
             "colorbar": {
              "outlinewidth": 0,
              "ticks": ""
             }
            },
            "type": "scattergeo"
           }
          ],
          "scattergl": [
           {
            "marker": {
             "colorbar": {
              "outlinewidth": 0,
              "ticks": ""
             }
            },
            "type": "scattergl"
           }
          ],
          "scattermap": [
           {
            "marker": {
             "colorbar": {
              "outlinewidth": 0,
              "ticks": ""
             }
            },
            "type": "scattermap"
           }
          ],
          "scattermapbox": [
           {
            "marker": {
             "colorbar": {
              "outlinewidth": 0,
              "ticks": ""
             }
            },
            "type": "scattermapbox"
           }
          ],
          "scatterpolar": [
           {
            "marker": {
             "colorbar": {
              "outlinewidth": 0,
              "ticks": ""
             }
            },
            "type": "scatterpolar"
           }
          ],
          "scatterpolargl": [
           {
            "marker": {
             "colorbar": {
              "outlinewidth": 0,
              "ticks": ""
             }
            },
            "type": "scatterpolargl"
           }
          ],
          "scatterternary": [
           {
            "marker": {
             "colorbar": {
              "outlinewidth": 0,
              "ticks": ""
             }
            },
            "type": "scatterternary"
           }
          ],
          "surface": [
           {
            "colorbar": {
             "outlinewidth": 0,
             "ticks": ""
            },
            "colorscale": [
             [
              0,
              "#0d0887"
             ],
             [
              0.1111111111111111,
              "#46039f"
             ],
             [
              0.2222222222222222,
              "#7201a8"
             ],
             [
              0.3333333333333333,
              "#9c179e"
             ],
             [
              0.4444444444444444,
              "#bd3786"
             ],
             [
              0.5555555555555556,
              "#d8576b"
             ],
             [
              0.6666666666666666,
              "#ed7953"
             ],
             [
              0.7777777777777778,
              "#fb9f3a"
             ],
             [
              0.8888888888888888,
              "#fdca26"
             ],
             [
              1,
              "#f0f921"
             ]
            ],
            "type": "surface"
           }
          ],
          "table": [
           {
            "cells": {
             "fill": {
              "color": "#EBF0F8"
             },
             "line": {
              "color": "white"
             }
            },
            "header": {
             "fill": {
              "color": "#C8D4E3"
             },
             "line": {
              "color": "white"
             }
            },
            "type": "table"
           }
          ]
         },
         "layout": {
          "annotationdefaults": {
           "arrowcolor": "#2a3f5f",
           "arrowhead": 0,
           "arrowwidth": 1
          },
          "autotypenumbers": "strict",
          "coloraxis": {
           "colorbar": {
            "outlinewidth": 0,
            "ticks": ""
           }
          },
          "colorscale": {
           "diverging": [
            [
             0,
             "#8e0152"
            ],
            [
             0.1,
             "#c51b7d"
            ],
            [
             0.2,
             "#de77ae"
            ],
            [
             0.3,
             "#f1b6da"
            ],
            [
             0.4,
             "#fde0ef"
            ],
            [
             0.5,
             "#f7f7f7"
            ],
            [
             0.6,
             "#e6f5d0"
            ],
            [
             0.7,
             "#b8e186"
            ],
            [
             0.8,
             "#7fbc41"
            ],
            [
             0.9,
             "#4d9221"
            ],
            [
             1,
             "#276419"
            ]
           ],
           "sequential": [
            [
             0,
             "#0d0887"
            ],
            [
             0.1111111111111111,
             "#46039f"
            ],
            [
             0.2222222222222222,
             "#7201a8"
            ],
            [
             0.3333333333333333,
             "#9c179e"
            ],
            [
             0.4444444444444444,
             "#bd3786"
            ],
            [
             0.5555555555555556,
             "#d8576b"
            ],
            [
             0.6666666666666666,
             "#ed7953"
            ],
            [
             0.7777777777777778,
             "#fb9f3a"
            ],
            [
             0.8888888888888888,
             "#fdca26"
            ],
            [
             1,
             "#f0f921"
            ]
           ],
           "sequentialminus": [
            [
             0,
             "#0d0887"
            ],
            [
             0.1111111111111111,
             "#46039f"
            ],
            [
             0.2222222222222222,
             "#7201a8"
            ],
            [
             0.3333333333333333,
             "#9c179e"
            ],
            [
             0.4444444444444444,
             "#bd3786"
            ],
            [
             0.5555555555555556,
             "#d8576b"
            ],
            [
             0.6666666666666666,
             "#ed7953"
            ],
            [
             0.7777777777777778,
             "#fb9f3a"
            ],
            [
             0.8888888888888888,
             "#fdca26"
            ],
            [
             1,
             "#f0f921"
            ]
           ]
          },
          "colorway": [
           "#636efa",
           "#EF553B",
           "#00cc96",
           "#ab63fa",
           "#FFA15A",
           "#19d3f3",
           "#FF6692",
           "#B6E880",
           "#FF97FF",
           "#FECB52"
          ],
          "font": {
           "color": "#2a3f5f"
          },
          "geo": {
           "bgcolor": "white",
           "lakecolor": "white",
           "landcolor": "#E5ECF6",
           "showlakes": true,
           "showland": true,
           "subunitcolor": "white"
          },
          "hoverlabel": {
           "align": "left"
          },
          "hovermode": "closest",
          "mapbox": {
           "style": "light"
          },
          "paper_bgcolor": "white",
          "plot_bgcolor": "#E5ECF6",
          "polar": {
           "angularaxis": {
            "gridcolor": "white",
            "linecolor": "white",
            "ticks": ""
           },
           "bgcolor": "#E5ECF6",
           "radialaxis": {
            "gridcolor": "white",
            "linecolor": "white",
            "ticks": ""
           }
          },
          "scene": {
           "xaxis": {
            "backgroundcolor": "#E5ECF6",
            "gridcolor": "white",
            "gridwidth": 2,
            "linecolor": "white",
            "showbackground": true,
            "ticks": "",
            "zerolinecolor": "white"
           },
           "yaxis": {
            "backgroundcolor": "#E5ECF6",
            "gridcolor": "white",
            "gridwidth": 2,
            "linecolor": "white",
            "showbackground": true,
            "ticks": "",
            "zerolinecolor": "white"
           },
           "zaxis": {
            "backgroundcolor": "#E5ECF6",
            "gridcolor": "white",
            "gridwidth": 2,
            "linecolor": "white",
            "showbackground": true,
            "ticks": "",
            "zerolinecolor": "white"
           }
          },
          "shapedefaults": {
           "line": {
            "color": "#2a3f5f"
           }
          },
          "ternary": {
           "aaxis": {
            "gridcolor": "white",
            "linecolor": "white",
            "ticks": ""
           },
           "baxis": {
            "gridcolor": "white",
            "linecolor": "white",
            "ticks": ""
           },
           "bgcolor": "#E5ECF6",
           "caxis": {
            "gridcolor": "white",
            "linecolor": "white",
            "ticks": ""
           }
          },
          "title": {
           "x": 0.05
          },
          "xaxis": {
           "automargin": true,
           "gridcolor": "white",
           "linecolor": "white",
           "ticks": "",
           "title": {
            "standoff": 15
           },
           "zerolinecolor": "white",
           "zerolinewidth": 2
          },
          "yaxis": {
           "automargin": true,
           "gridcolor": "white",
           "linecolor": "white",
           "ticks": "",
           "title": {
            "standoff": 15
           },
           "zerolinecolor": "white",
           "zerolinewidth": 2
          }
         }
        },
        "title": {
         "text": "Top 10 Most Common Genres"
        },
        "width": 900,
        "xaxis": {
         "tickangle": -45,
         "title": {
          "text": "Genre"
         }
        },
        "yaxis": {
         "title": {
          "text": "Number of Stories"
         }
        }
       }
      }
     },
     "metadata": {},
     "output_type": "display_data"
    },
    {
     "data": {
      "application/vnd.plotly.v1+json": {
       "config": {
        "plotlyServerURL": "https://plot.ly"
       },
       "data": [
        {
         "customdata": {
          "bdata": "CxgTGB0WFBA8Eg==",
          "dtype": "i1"
         },
         "hovertemplate": "Genre: %{x}<br>Average views: %{y:,.2f}<br>Number of stories: %{customdata}<br>",
         "text": {
          "bdata": "PQrXo/FXOUEAAACAjL01QY/C9SiSbTRBuB6Fa+xqNEHXo3A9aVE0QVK4HsU/UjJBzczMTE4wMUEK16NweKgwQQAAAMDHRDBBexSuxycEMEE=",
          "dtype": "f8"
         },
         "textposition": "auto",
         "type": "bar",
         "x": [
          "School Life",
          "Dungeon",
          "Xianxia",
          "Romance",
          "Strategy",
          "Ruling Class",
          "Attractive Lead",
          "Urban Fantasy",
          "High Fantasy",
          "Mythos"
         ],
         "y": {
          "bdata": "L7roovFXOUEAAACAjL01QRvKayiSbTRBq6qqauxqNEHUCMs9aVE0QV100cU/UjJBzczMTE4wMUEAAABweKgwQQAAAMDHRDBBx3EcxycEMEE=",
          "dtype": "f8"
         }
        }
       ],
       "layout": {
        "font": {
         "size": 14
        },
        "height": 600,
        "margin": {
         "b": 100
        },
        "template": {
         "data": {
          "bar": [
           {
            "error_x": {
             "color": "#2a3f5f"
            },
            "error_y": {
             "color": "#2a3f5f"
            },
            "marker": {
             "line": {
              "color": "#E5ECF6",
              "width": 0.5
             },
             "pattern": {
              "fillmode": "overlay",
              "size": 10,
              "solidity": 0.2
             }
            },
            "type": "bar"
           }
          ],
          "barpolar": [
           {
            "marker": {
             "line": {
              "color": "#E5ECF6",
              "width": 0.5
             },
             "pattern": {
              "fillmode": "overlay",
              "size": 10,
              "solidity": 0.2
             }
            },
            "type": "barpolar"
           }
          ],
          "carpet": [
           {
            "aaxis": {
             "endlinecolor": "#2a3f5f",
             "gridcolor": "white",
             "linecolor": "white",
             "minorgridcolor": "white",
             "startlinecolor": "#2a3f5f"
            },
            "baxis": {
             "endlinecolor": "#2a3f5f",
             "gridcolor": "white",
             "linecolor": "white",
             "minorgridcolor": "white",
             "startlinecolor": "#2a3f5f"
            },
            "type": "carpet"
           }
          ],
          "choropleth": [
           {
            "colorbar": {
             "outlinewidth": 0,
             "ticks": ""
            },
            "type": "choropleth"
           }
          ],
          "contour": [
           {
            "colorbar": {
             "outlinewidth": 0,
             "ticks": ""
            },
            "colorscale": [
             [
              0,
              "#0d0887"
             ],
             [
              0.1111111111111111,
              "#46039f"
             ],
             [
              0.2222222222222222,
              "#7201a8"
             ],
             [
              0.3333333333333333,
              "#9c179e"
             ],
             [
              0.4444444444444444,
              "#bd3786"
             ],
             [
              0.5555555555555556,
              "#d8576b"
             ],
             [
              0.6666666666666666,
              "#ed7953"
             ],
             [
              0.7777777777777778,
              "#fb9f3a"
             ],
             [
              0.8888888888888888,
              "#fdca26"
             ],
             [
              1,
              "#f0f921"
             ]
            ],
            "type": "contour"
           }
          ],
          "contourcarpet": [
           {
            "colorbar": {
             "outlinewidth": 0,
             "ticks": ""
            },
            "type": "contourcarpet"
           }
          ],
          "heatmap": [
           {
            "colorbar": {
             "outlinewidth": 0,
             "ticks": ""
            },
            "colorscale": [
             [
              0,
              "#0d0887"
             ],
             [
              0.1111111111111111,
              "#46039f"
             ],
             [
              0.2222222222222222,
              "#7201a8"
             ],
             [
              0.3333333333333333,
              "#9c179e"
             ],
             [
              0.4444444444444444,
              "#bd3786"
             ],
             [
              0.5555555555555556,
              "#d8576b"
             ],
             [
              0.6666666666666666,
              "#ed7953"
             ],
             [
              0.7777777777777778,
              "#fb9f3a"
             ],
             [
              0.8888888888888888,
              "#fdca26"
             ],
             [
              1,
              "#f0f921"
             ]
            ],
            "type": "heatmap"
           }
          ],
          "histogram": [
           {
            "marker": {
             "pattern": {
              "fillmode": "overlay",
              "size": 10,
              "solidity": 0.2
             }
            },
            "type": "histogram"
           }
          ],
          "histogram2d": [
           {
            "colorbar": {
             "outlinewidth": 0,
             "ticks": ""
            },
            "colorscale": [
             [
              0,
              "#0d0887"
             ],
             [
              0.1111111111111111,
              "#46039f"
             ],
             [
              0.2222222222222222,
              "#7201a8"
             ],
             [
              0.3333333333333333,
              "#9c179e"
             ],
             [
              0.4444444444444444,
              "#bd3786"
             ],
             [
              0.5555555555555556,
              "#d8576b"
             ],
             [
              0.6666666666666666,
              "#ed7953"
             ],
             [
              0.7777777777777778,
              "#fb9f3a"
             ],
             [
              0.8888888888888888,
              "#fdca26"
             ],
             [
              1,
              "#f0f921"
             ]
            ],
            "type": "histogram2d"
           }
          ],
          "histogram2dcontour": [
           {
            "colorbar": {
             "outlinewidth": 0,
             "ticks": ""
            },
            "colorscale": [
             [
              0,
              "#0d0887"
             ],
             [
              0.1111111111111111,
              "#46039f"
             ],
             [
              0.2222222222222222,
              "#7201a8"
             ],
             [
              0.3333333333333333,
              "#9c179e"
             ],
             [
              0.4444444444444444,
              "#bd3786"
             ],
             [
              0.5555555555555556,
              "#d8576b"
             ],
             [
              0.6666666666666666,
              "#ed7953"
             ],
             [
              0.7777777777777778,
              "#fb9f3a"
             ],
             [
              0.8888888888888888,
              "#fdca26"
             ],
             [
              1,
              "#f0f921"
             ]
            ],
            "type": "histogram2dcontour"
           }
          ],
          "mesh3d": [
           {
            "colorbar": {
             "outlinewidth": 0,
             "ticks": ""
            },
            "type": "mesh3d"
           }
          ],
          "parcoords": [
           {
            "line": {
             "colorbar": {
              "outlinewidth": 0,
              "ticks": ""
             }
            },
            "type": "parcoords"
           }
          ],
          "pie": [
           {
            "automargin": true,
            "type": "pie"
           }
          ],
          "scatter": [
           {
            "fillpattern": {
             "fillmode": "overlay",
             "size": 10,
             "solidity": 0.2
            },
            "type": "scatter"
           }
          ],
          "scatter3d": [
           {
            "line": {
             "colorbar": {
              "outlinewidth": 0,
              "ticks": ""
             }
            },
            "marker": {
             "colorbar": {
              "outlinewidth": 0,
              "ticks": ""
             }
            },
            "type": "scatter3d"
           }
          ],
          "scattercarpet": [
           {
            "marker": {
             "colorbar": {
              "outlinewidth": 0,
              "ticks": ""
             }
            },
            "type": "scattercarpet"
           }
          ],
          "scattergeo": [
           {
            "marker": {
             "colorbar": {
              "outlinewidth": 0,
              "ticks": ""
             }
            },
            "type": "scattergeo"
           }
          ],
          "scattergl": [
           {
            "marker": {
             "colorbar": {
              "outlinewidth": 0,
              "ticks": ""
             }
            },
            "type": "scattergl"
           }
          ],
          "scattermap": [
           {
            "marker": {
             "colorbar": {
              "outlinewidth": 0,
              "ticks": ""
             }
            },
            "type": "scattermap"
           }
          ],
          "scattermapbox": [
           {
            "marker": {
             "colorbar": {
              "outlinewidth": 0,
              "ticks": ""
             }
            },
            "type": "scattermapbox"
           }
          ],
          "scatterpolar": [
           {
            "marker": {
             "colorbar": {
              "outlinewidth": 0,
              "ticks": ""
             }
            },
            "type": "scatterpolar"
           }
          ],
          "scatterpolargl": [
           {
            "marker": {
             "colorbar": {
              "outlinewidth": 0,
              "ticks": ""
             }
            },
            "type": "scatterpolargl"
           }
          ],
          "scatterternary": [
           {
            "marker": {
             "colorbar": {
              "outlinewidth": 0,
              "ticks": ""
             }
            },
            "type": "scatterternary"
           }
          ],
          "surface": [
           {
            "colorbar": {
             "outlinewidth": 0,
             "ticks": ""
            },
            "colorscale": [
             [
              0,
              "#0d0887"
             ],
             [
              0.1111111111111111,
              "#46039f"
             ],
             [
              0.2222222222222222,
              "#7201a8"
             ],
             [
              0.3333333333333333,
              "#9c179e"
             ],
             [
              0.4444444444444444,
              "#bd3786"
             ],
             [
              0.5555555555555556,
              "#d8576b"
             ],
             [
              0.6666666666666666,
              "#ed7953"
             ],
             [
              0.7777777777777778,
              "#fb9f3a"
             ],
             [
              0.8888888888888888,
              "#fdca26"
             ],
             [
              1,
              "#f0f921"
             ]
            ],
            "type": "surface"
           }
          ],
          "table": [
           {
            "cells": {
             "fill": {
              "color": "#EBF0F8"
             },
             "line": {
              "color": "white"
             }
            },
            "header": {
             "fill": {
              "color": "#C8D4E3"
             },
             "line": {
              "color": "white"
             }
            },
            "type": "table"
           }
          ]
         },
         "layout": {
          "annotationdefaults": {
           "arrowcolor": "#2a3f5f",
           "arrowhead": 0,
           "arrowwidth": 1
          },
          "autotypenumbers": "strict",
          "coloraxis": {
           "colorbar": {
            "outlinewidth": 0,
            "ticks": ""
           }
          },
          "colorscale": {
           "diverging": [
            [
             0,
             "#8e0152"
            ],
            [
             0.1,
             "#c51b7d"
            ],
            [
             0.2,
             "#de77ae"
            ],
            [
             0.3,
             "#f1b6da"
            ],
            [
             0.4,
             "#fde0ef"
            ],
            [
             0.5,
             "#f7f7f7"
            ],
            [
             0.6,
             "#e6f5d0"
            ],
            [
             0.7,
             "#b8e186"
            ],
            [
             0.8,
             "#7fbc41"
            ],
            [
             0.9,
             "#4d9221"
            ],
            [
             1,
             "#276419"
            ]
           ],
           "sequential": [
            [
             0,
             "#0d0887"
            ],
            [
             0.1111111111111111,
             "#46039f"
            ],
            [
             0.2222222222222222,
             "#7201a8"
            ],
            [
             0.3333333333333333,
             "#9c179e"
            ],
            [
             0.4444444444444444,
             "#bd3786"
            ],
            [
             0.5555555555555556,
             "#d8576b"
            ],
            [
             0.6666666666666666,
             "#ed7953"
            ],
            [
             0.7777777777777778,
             "#fb9f3a"
            ],
            [
             0.8888888888888888,
             "#fdca26"
            ],
            [
             1,
             "#f0f921"
            ]
           ],
           "sequentialminus": [
            [
             0,
             "#0d0887"
            ],
            [
             0.1111111111111111,
             "#46039f"
            ],
            [
             0.2222222222222222,
             "#7201a8"
            ],
            [
             0.3333333333333333,
             "#9c179e"
            ],
            [
             0.4444444444444444,
             "#bd3786"
            ],
            [
             0.5555555555555556,
             "#d8576b"
            ],
            [
             0.6666666666666666,
             "#ed7953"
            ],
            [
             0.7777777777777778,
             "#fb9f3a"
            ],
            [
             0.8888888888888888,
             "#fdca26"
            ],
            [
             1,
             "#f0f921"
            ]
           ]
          },
          "colorway": [
           "#636efa",
           "#EF553B",
           "#00cc96",
           "#ab63fa",
           "#FFA15A",
           "#19d3f3",
           "#FF6692",
           "#B6E880",
           "#FF97FF",
           "#FECB52"
          ],
          "font": {
           "color": "#2a3f5f"
          },
          "geo": {
           "bgcolor": "white",
           "lakecolor": "white",
           "landcolor": "#E5ECF6",
           "showlakes": true,
           "showland": true,
           "subunitcolor": "white"
          },
          "hoverlabel": {
           "align": "left"
          },
          "hovermode": "closest",
          "mapbox": {
           "style": "light"
          },
          "paper_bgcolor": "white",
          "plot_bgcolor": "#E5ECF6",
          "polar": {
           "angularaxis": {
            "gridcolor": "white",
            "linecolor": "white",
            "ticks": ""
           },
           "bgcolor": "#E5ECF6",
           "radialaxis": {
            "gridcolor": "white",
            "linecolor": "white",
            "ticks": ""
           }
          },
          "scene": {
           "xaxis": {
            "backgroundcolor": "#E5ECF6",
            "gridcolor": "white",
            "gridwidth": 2,
            "linecolor": "white",
            "showbackground": true,
            "ticks": "",
            "zerolinecolor": "white"
           },
           "yaxis": {
            "backgroundcolor": "#E5ECF6",
            "gridcolor": "white",
            "gridwidth": 2,
            "linecolor": "white",
            "showbackground": true,
            "ticks": "",
            "zerolinecolor": "white"
           },
           "zaxis": {
            "backgroundcolor": "#E5ECF6",
            "gridcolor": "white",
            "gridwidth": 2,
            "linecolor": "white",
            "showbackground": true,
            "ticks": "",
            "zerolinecolor": "white"
           }
          },
          "shapedefaults": {
           "line": {
            "color": "#2a3f5f"
           }
          },
          "ternary": {
           "aaxis": {
            "gridcolor": "white",
            "linecolor": "white",
            "ticks": ""
           },
           "baxis": {
            "gridcolor": "white",
            "linecolor": "white",
            "ticks": ""
           },
           "bgcolor": "#E5ECF6",
           "caxis": {
            "gridcolor": "white",
            "linecolor": "white",
            "ticks": ""
           }
          },
          "title": {
           "x": 0.05
          },
          "xaxis": {
           "automargin": true,
           "gridcolor": "white",
           "linecolor": "white",
           "ticks": "",
           "title": {
            "standoff": 15
           },
           "zerolinecolor": "white",
           "zerolinewidth": 2
          },
          "yaxis": {
           "automargin": true,
           "gridcolor": "white",
           "linecolor": "white",
           "ticks": "",
           "title": {
            "standoff": 15
           },
           "zerolinecolor": "white",
           "zerolinewidth": 2
          }
         }
        },
        "title": {
         "text": "Top 10 Genres by Average Views"
        },
        "width": 900,
        "xaxis": {
         "tickangle": -45,
         "title": {
          "text": "Genre"
         }
        },
        "yaxis": {
         "title": {
          "text": "Average Views"
         },
         "type": "log"
        }
       }
      }
     },
     "metadata": {},
     "output_type": "display_data"
    },
    {
     "data": {
      "application/vnd.plotly.v1+json": {
       "config": {
        "plotlyServerURL": "https://plot.ly"
       },
       "data": [
        {
         "customdata": {
          "bdata": "BQ8SCx8REAcGBQ==",
          "dtype": "i1"
         },
         "hovertemplate": "Genre: %{x}<br>Average rating: %{y:,.2f}<br>Number of stories: %{customdata}<br>",
         "text": {
          "bdata": "j8L1KFyPEkBmZmZmZmYSQFyPwvUoXBJAUrgehetREkA9CtejcD0SQDMzMzMzMxJAMzMzMzMzEkAfhetRuB4SQB+F61G4HhJAFK5H4XoUEkA=",
          "dtype": "f8"
         },
         "textposition": "auto",
         "type": "bar",
         "x": [
          "Contemporary",
          "Low Fantasy",
          "Multiple Lead Characters",
          "Mystery",
          "Female Lead",
          "Non-Human Lead",
          "Urban Fantasy",
          "First Contact",
          "Historical",
          "Horror"
         ],
         "y": {
          "bdata": "+n5qvHSTEkCcxCCwcmgSQAy2YAu2YBJATiTjRDJOEkA/wPYDbD8SQDH+ypdkMRJAAAAAAAAwEkD/TlbLGyMSQB+F61G4HhJAFa5H4XoUEkA=",
          "dtype": "f8"
         }
        }
       ],
       "layout": {
        "font": {
         "size": 14
        },
        "height": 600,
        "margin": {
         "b": 100
        },
        "template": {
         "data": {
          "bar": [
           {
            "error_x": {
             "color": "#2a3f5f"
            },
            "error_y": {
             "color": "#2a3f5f"
            },
            "marker": {
             "line": {
              "color": "#E5ECF6",
              "width": 0.5
             },
             "pattern": {
              "fillmode": "overlay",
              "size": 10,
              "solidity": 0.2
             }
            },
            "type": "bar"
           }
          ],
          "barpolar": [
           {
            "marker": {
             "line": {
              "color": "#E5ECF6",
              "width": 0.5
             },
             "pattern": {
              "fillmode": "overlay",
              "size": 10,
              "solidity": 0.2
             }
            },
            "type": "barpolar"
           }
          ],
          "carpet": [
           {
            "aaxis": {
             "endlinecolor": "#2a3f5f",
             "gridcolor": "white",
             "linecolor": "white",
             "minorgridcolor": "white",
             "startlinecolor": "#2a3f5f"
            },
            "baxis": {
             "endlinecolor": "#2a3f5f",
             "gridcolor": "white",
             "linecolor": "white",
             "minorgridcolor": "white",
             "startlinecolor": "#2a3f5f"
            },
            "type": "carpet"
           }
          ],
          "choropleth": [
           {
            "colorbar": {
             "outlinewidth": 0,
             "ticks": ""
            },
            "type": "choropleth"
           }
          ],
          "contour": [
           {
            "colorbar": {
             "outlinewidth": 0,
             "ticks": ""
            },
            "colorscale": [
             [
              0,
              "#0d0887"
             ],
             [
              0.1111111111111111,
              "#46039f"
             ],
             [
              0.2222222222222222,
              "#7201a8"
             ],
             [
              0.3333333333333333,
              "#9c179e"
             ],
             [
              0.4444444444444444,
              "#bd3786"
             ],
             [
              0.5555555555555556,
              "#d8576b"
             ],
             [
              0.6666666666666666,
              "#ed7953"
             ],
             [
              0.7777777777777778,
              "#fb9f3a"
             ],
             [
              0.8888888888888888,
              "#fdca26"
             ],
             [
              1,
              "#f0f921"
             ]
            ],
            "type": "contour"
           }
          ],
          "contourcarpet": [
           {
            "colorbar": {
             "outlinewidth": 0,
             "ticks": ""
            },
            "type": "contourcarpet"
           }
          ],
          "heatmap": [
           {
            "colorbar": {
             "outlinewidth": 0,
             "ticks": ""
            },
            "colorscale": [
             [
              0,
              "#0d0887"
             ],
             [
              0.1111111111111111,
              "#46039f"
             ],
             [
              0.2222222222222222,
              "#7201a8"
             ],
             [
              0.3333333333333333,
              "#9c179e"
             ],
             [
              0.4444444444444444,
              "#bd3786"
             ],
             [
              0.5555555555555556,
              "#d8576b"
             ],
             [
              0.6666666666666666,
              "#ed7953"
             ],
             [
              0.7777777777777778,
              "#fb9f3a"
             ],
             [
              0.8888888888888888,
              "#fdca26"
             ],
             [
              1,
              "#f0f921"
             ]
            ],
            "type": "heatmap"
           }
          ],
          "histogram": [
           {
            "marker": {
             "pattern": {
              "fillmode": "overlay",
              "size": 10,
              "solidity": 0.2
             }
            },
            "type": "histogram"
           }
          ],
          "histogram2d": [
           {
            "colorbar": {
             "outlinewidth": 0,
             "ticks": ""
            },
            "colorscale": [
             [
              0,
              "#0d0887"
             ],
             [
              0.1111111111111111,
              "#46039f"
             ],
             [
              0.2222222222222222,
              "#7201a8"
             ],
             [
              0.3333333333333333,
              "#9c179e"
             ],
             [
              0.4444444444444444,
              "#bd3786"
             ],
             [
              0.5555555555555556,
              "#d8576b"
             ],
             [
              0.6666666666666666,
              "#ed7953"
             ],
             [
              0.7777777777777778,
              "#fb9f3a"
             ],
             [
              0.8888888888888888,
              "#fdca26"
             ],
             [
              1,
              "#f0f921"
             ]
            ],
            "type": "histogram2d"
           }
          ],
          "histogram2dcontour": [
           {
            "colorbar": {
             "outlinewidth": 0,
             "ticks": ""
            },
            "colorscale": [
             [
              0,
              "#0d0887"
             ],
             [
              0.1111111111111111,
              "#46039f"
             ],
             [
              0.2222222222222222,
              "#7201a8"
             ],
             [
              0.3333333333333333,
              "#9c179e"
             ],
             [
              0.4444444444444444,
              "#bd3786"
             ],
             [
              0.5555555555555556,
              "#d8576b"
             ],
             [
              0.6666666666666666,
              "#ed7953"
             ],
             [
              0.7777777777777778,
              "#fb9f3a"
             ],
             [
              0.8888888888888888,
              "#fdca26"
             ],
             [
              1,
              "#f0f921"
             ]
            ],
            "type": "histogram2dcontour"
           }
          ],
          "mesh3d": [
           {
            "colorbar": {
             "outlinewidth": 0,
             "ticks": ""
            },
            "type": "mesh3d"
           }
          ],
          "parcoords": [
           {
            "line": {
             "colorbar": {
              "outlinewidth": 0,
              "ticks": ""
             }
            },
            "type": "parcoords"
           }
          ],
          "pie": [
           {
            "automargin": true,
            "type": "pie"
           }
          ],
          "scatter": [
           {
            "fillpattern": {
             "fillmode": "overlay",
             "size": 10,
             "solidity": 0.2
            },
            "type": "scatter"
           }
          ],
          "scatter3d": [
           {
            "line": {
             "colorbar": {
              "outlinewidth": 0,
              "ticks": ""
             }
            },
            "marker": {
             "colorbar": {
              "outlinewidth": 0,
              "ticks": ""
             }
            },
            "type": "scatter3d"
           }
          ],
          "scattercarpet": [
           {
            "marker": {
             "colorbar": {
              "outlinewidth": 0,
              "ticks": ""
             }
            },
            "type": "scattercarpet"
           }
          ],
          "scattergeo": [
           {
            "marker": {
             "colorbar": {
              "outlinewidth": 0,
              "ticks": ""
             }
            },
            "type": "scattergeo"
           }
          ],
          "scattergl": [
           {
            "marker": {
             "colorbar": {
              "outlinewidth": 0,
              "ticks": ""
             }
            },
            "type": "scattergl"
           }
          ],
          "scattermap": [
           {
            "marker": {
             "colorbar": {
              "outlinewidth": 0,
              "ticks": ""
             }
            },
            "type": "scattermap"
           }
          ],
          "scattermapbox": [
           {
            "marker": {
             "colorbar": {
              "outlinewidth": 0,
              "ticks": ""
             }
            },
            "type": "scattermapbox"
           }
          ],
          "scatterpolar": [
           {
            "marker": {
             "colorbar": {
              "outlinewidth": 0,
              "ticks": ""
             }
            },
            "type": "scatterpolar"
           }
          ],
          "scatterpolargl": [
           {
            "marker": {
             "colorbar": {
              "outlinewidth": 0,
              "ticks": ""
             }
            },
            "type": "scatterpolargl"
           }
          ],
          "scatterternary": [
           {
            "marker": {
             "colorbar": {
              "outlinewidth": 0,
              "ticks": ""
             }
            },
            "type": "scatterternary"
           }
          ],
          "surface": [
           {
            "colorbar": {
             "outlinewidth": 0,
             "ticks": ""
            },
            "colorscale": [
             [
              0,
              "#0d0887"
             ],
             [
              0.1111111111111111,
              "#46039f"
             ],
             [
              0.2222222222222222,
              "#7201a8"
             ],
             [
              0.3333333333333333,
              "#9c179e"
             ],
             [
              0.4444444444444444,
              "#bd3786"
             ],
             [
              0.5555555555555556,
              "#d8576b"
             ],
             [
              0.6666666666666666,
              "#ed7953"
             ],
             [
              0.7777777777777778,
              "#fb9f3a"
             ],
             [
              0.8888888888888888,
              "#fdca26"
             ],
             [
              1,
              "#f0f921"
             ]
            ],
            "type": "surface"
           }
          ],
          "table": [
           {
            "cells": {
             "fill": {
              "color": "#EBF0F8"
             },
             "line": {
              "color": "white"
             }
            },
            "header": {
             "fill": {
              "color": "#C8D4E3"
             },
             "line": {
              "color": "white"
             }
            },
            "type": "table"
           }
          ]
         },
         "layout": {
          "annotationdefaults": {
           "arrowcolor": "#2a3f5f",
           "arrowhead": 0,
           "arrowwidth": 1
          },
          "autotypenumbers": "strict",
          "coloraxis": {
           "colorbar": {
            "outlinewidth": 0,
            "ticks": ""
           }
          },
          "colorscale": {
           "diverging": [
            [
             0,
             "#8e0152"
            ],
            [
             0.1,
             "#c51b7d"
            ],
            [
             0.2,
             "#de77ae"
            ],
            [
             0.3,
             "#f1b6da"
            ],
            [
             0.4,
             "#fde0ef"
            ],
            [
             0.5,
             "#f7f7f7"
            ],
            [
             0.6,
             "#e6f5d0"
            ],
            [
             0.7,
             "#b8e186"
            ],
            [
             0.8,
             "#7fbc41"
            ],
            [
             0.9,
             "#4d9221"
            ],
            [
             1,
             "#276419"
            ]
           ],
           "sequential": [
            [
             0,
             "#0d0887"
            ],
            [
             0.1111111111111111,
             "#46039f"
            ],
            [
             0.2222222222222222,
             "#7201a8"
            ],
            [
             0.3333333333333333,
             "#9c179e"
            ],
            [
             0.4444444444444444,
             "#bd3786"
            ],
            [
             0.5555555555555556,
             "#d8576b"
            ],
            [
             0.6666666666666666,
             "#ed7953"
            ],
            [
             0.7777777777777778,
             "#fb9f3a"
            ],
            [
             0.8888888888888888,
             "#fdca26"
            ],
            [
             1,
             "#f0f921"
            ]
           ],
           "sequentialminus": [
            [
             0,
             "#0d0887"
            ],
            [
             0.1111111111111111,
             "#46039f"
            ],
            [
             0.2222222222222222,
             "#7201a8"
            ],
            [
             0.3333333333333333,
             "#9c179e"
            ],
            [
             0.4444444444444444,
             "#bd3786"
            ],
            [
             0.5555555555555556,
             "#d8576b"
            ],
            [
             0.6666666666666666,
             "#ed7953"
            ],
            [
             0.7777777777777778,
             "#fb9f3a"
            ],
            [
             0.8888888888888888,
             "#fdca26"
            ],
            [
             1,
             "#f0f921"
            ]
           ]
          },
          "colorway": [
           "#636efa",
           "#EF553B",
           "#00cc96",
           "#ab63fa",
           "#FFA15A",
           "#19d3f3",
           "#FF6692",
           "#B6E880",
           "#FF97FF",
           "#FECB52"
          ],
          "font": {
           "color": "#2a3f5f"
          },
          "geo": {
           "bgcolor": "white",
           "lakecolor": "white",
           "landcolor": "#E5ECF6",
           "showlakes": true,
           "showland": true,
           "subunitcolor": "white"
          },
          "hoverlabel": {
           "align": "left"
          },
          "hovermode": "closest",
          "mapbox": {
           "style": "light"
          },
          "paper_bgcolor": "white",
          "plot_bgcolor": "#E5ECF6",
          "polar": {
           "angularaxis": {
            "gridcolor": "white",
            "linecolor": "white",
            "ticks": ""
           },
           "bgcolor": "#E5ECF6",
           "radialaxis": {
            "gridcolor": "white",
            "linecolor": "white",
            "ticks": ""
           }
          },
          "scene": {
           "xaxis": {
            "backgroundcolor": "#E5ECF6",
            "gridcolor": "white",
            "gridwidth": 2,
            "linecolor": "white",
            "showbackground": true,
            "ticks": "",
            "zerolinecolor": "white"
           },
           "yaxis": {
            "backgroundcolor": "#E5ECF6",
            "gridcolor": "white",
            "gridwidth": 2,
            "linecolor": "white",
            "showbackground": true,
            "ticks": "",
            "zerolinecolor": "white"
           },
           "zaxis": {
            "backgroundcolor": "#E5ECF6",
            "gridcolor": "white",
            "gridwidth": 2,
            "linecolor": "white",
            "showbackground": true,
            "ticks": "",
            "zerolinecolor": "white"
           }
          },
          "shapedefaults": {
           "line": {
            "color": "#2a3f5f"
           }
          },
          "ternary": {
           "aaxis": {
            "gridcolor": "white",
            "linecolor": "white",
            "ticks": ""
           },
           "baxis": {
            "gridcolor": "white",
            "linecolor": "white",
            "ticks": ""
           },
           "bgcolor": "#E5ECF6",
           "caxis": {
            "gridcolor": "white",
            "linecolor": "white",
            "ticks": ""
           }
          },
          "title": {
           "x": 0.05
          },
          "xaxis": {
           "automargin": true,
           "gridcolor": "white",
           "linecolor": "white",
           "ticks": "",
           "title": {
            "standoff": 15
           },
           "zerolinecolor": "white",
           "zerolinewidth": 2
          },
          "yaxis": {
           "automargin": true,
           "gridcolor": "white",
           "linecolor": "white",
           "ticks": "",
           "title": {
            "standoff": 15
           },
           "zerolinecolor": "white",
           "zerolinewidth": 2
          }
         }
        },
        "title": {
         "text": "Top 10 Genres by Average Rating"
        },
        "width": 900,
        "xaxis": {
         "tickangle": -45,
         "title": {
          "text": "Genre"
         }
        },
        "yaxis": {
         "title": {
          "text": "Average Rating"
         }
        }
       }
      }
     },
     "metadata": {},
     "output_type": "display_data"
    },
    {
     "data": {
      "application/vnd.plotly.v1+json": {
       "config": {
        "plotlyServerURL": "https://plot.ly"
       },
       "data": [
        {
         "customdata": {
          "bdata": "GBwoOzw/E04LIg==",
          "dtype": "i1"
         },
         "hovertemplate": "Genre: %{x}<br>Average followers: %{y:,.2f}<br>Number of stories: %{customdata}<br>",
         "text": {
          "bdata": "9ihcj8J8qEBSuB6Fa5GnQAAAAAAAIaZAmpmZmRnkpUCkcD0K1yqkQFyPwvWoaqNAZmZmZuY3o0CF61G4HuWiQJqZmZkZlaJAexSuR+HQoUA=",
          "dtype": "f8"
         },
         "textposition": "auto",
         "type": "bar",
         "x": [
          "Dungeon",
          "GameLit",
          "Portal Fantasy / Isekai",
          "LitRPG",
          "High Fantasy",
          "Strong Lead",
          "Xianxia",
          "Magic",
          "School Life",
          "Reincarnation"
         ],
         "y": {
          "bdata": "AAAAAMB8qEC3bdu2bZGnQAAAAAAAIaZAMI+tCBrkpUBVVVVV1SqkQKuqqqqqaqNAXkN5DeU3o0DSIA3SIOWiQF100UUXlaJA4uHh4eHQoUA=",
          "dtype": "f8"
         }
        }
       ],
       "layout": {
        "font": {
         "size": 14
        },
        "height": 600,
        "margin": {
         "b": 100
        },
        "template": {
         "data": {
          "bar": [
           {
            "error_x": {
             "color": "#2a3f5f"
            },
            "error_y": {
             "color": "#2a3f5f"
            },
            "marker": {
             "line": {
              "color": "#E5ECF6",
              "width": 0.5
             },
             "pattern": {
              "fillmode": "overlay",
              "size": 10,
              "solidity": 0.2
             }
            },
            "type": "bar"
           }
          ],
          "barpolar": [
           {
            "marker": {
             "line": {
              "color": "#E5ECF6",
              "width": 0.5
             },
             "pattern": {
              "fillmode": "overlay",
              "size": 10,
              "solidity": 0.2
             }
            },
            "type": "barpolar"
           }
          ],
          "carpet": [
           {
            "aaxis": {
             "endlinecolor": "#2a3f5f",
             "gridcolor": "white",
             "linecolor": "white",
             "minorgridcolor": "white",
             "startlinecolor": "#2a3f5f"
            },
            "baxis": {
             "endlinecolor": "#2a3f5f",
             "gridcolor": "white",
             "linecolor": "white",
             "minorgridcolor": "white",
             "startlinecolor": "#2a3f5f"
            },
            "type": "carpet"
           }
          ],
          "choropleth": [
           {
            "colorbar": {
             "outlinewidth": 0,
             "ticks": ""
            },
            "type": "choropleth"
           }
          ],
          "contour": [
           {
            "colorbar": {
             "outlinewidth": 0,
             "ticks": ""
            },
            "colorscale": [
             [
              0,
              "#0d0887"
             ],
             [
              0.1111111111111111,
              "#46039f"
             ],
             [
              0.2222222222222222,
              "#7201a8"
             ],
             [
              0.3333333333333333,
              "#9c179e"
             ],
             [
              0.4444444444444444,
              "#bd3786"
             ],
             [
              0.5555555555555556,
              "#d8576b"
             ],
             [
              0.6666666666666666,
              "#ed7953"
             ],
             [
              0.7777777777777778,
              "#fb9f3a"
             ],
             [
              0.8888888888888888,
              "#fdca26"
             ],
             [
              1,
              "#f0f921"
             ]
            ],
            "type": "contour"
           }
          ],
          "contourcarpet": [
           {
            "colorbar": {
             "outlinewidth": 0,
             "ticks": ""
            },
            "type": "contourcarpet"
           }
          ],
          "heatmap": [
           {
            "colorbar": {
             "outlinewidth": 0,
             "ticks": ""
            },
            "colorscale": [
             [
              0,
              "#0d0887"
             ],
             [
              0.1111111111111111,
              "#46039f"
             ],
             [
              0.2222222222222222,
              "#7201a8"
             ],
             [
              0.3333333333333333,
              "#9c179e"
             ],
             [
              0.4444444444444444,
              "#bd3786"
             ],
             [
              0.5555555555555556,
              "#d8576b"
             ],
             [
              0.6666666666666666,
              "#ed7953"
             ],
             [
              0.7777777777777778,
              "#fb9f3a"
             ],
             [
              0.8888888888888888,
              "#fdca26"
             ],
             [
              1,
              "#f0f921"
             ]
            ],
            "type": "heatmap"
           }
          ],
          "histogram": [
           {
            "marker": {
             "pattern": {
              "fillmode": "overlay",
              "size": 10,
              "solidity": 0.2
             }
            },
            "type": "histogram"
           }
          ],
          "histogram2d": [
           {
            "colorbar": {
             "outlinewidth": 0,
             "ticks": ""
            },
            "colorscale": [
             [
              0,
              "#0d0887"
             ],
             [
              0.1111111111111111,
              "#46039f"
             ],
             [
              0.2222222222222222,
              "#7201a8"
             ],
             [
              0.3333333333333333,
              "#9c179e"
             ],
             [
              0.4444444444444444,
              "#bd3786"
             ],
             [
              0.5555555555555556,
              "#d8576b"
             ],
             [
              0.6666666666666666,
              "#ed7953"
             ],
             [
              0.7777777777777778,
              "#fb9f3a"
             ],
             [
              0.8888888888888888,
              "#fdca26"
             ],
             [
              1,
              "#f0f921"
             ]
            ],
            "type": "histogram2d"
           }
          ],
          "histogram2dcontour": [
           {
            "colorbar": {
             "outlinewidth": 0,
             "ticks": ""
            },
            "colorscale": [
             [
              0,
              "#0d0887"
             ],
             [
              0.1111111111111111,
              "#46039f"
             ],
             [
              0.2222222222222222,
              "#7201a8"
             ],
             [
              0.3333333333333333,
              "#9c179e"
             ],
             [
              0.4444444444444444,
              "#bd3786"
             ],
             [
              0.5555555555555556,
              "#d8576b"
             ],
             [
              0.6666666666666666,
              "#ed7953"
             ],
             [
              0.7777777777777778,
              "#fb9f3a"
             ],
             [
              0.8888888888888888,
              "#fdca26"
             ],
             [
              1,
              "#f0f921"
             ]
            ],
            "type": "histogram2dcontour"
           }
          ],
          "mesh3d": [
           {
            "colorbar": {
             "outlinewidth": 0,
             "ticks": ""
            },
            "type": "mesh3d"
           }
          ],
          "parcoords": [
           {
            "line": {
             "colorbar": {
              "outlinewidth": 0,
              "ticks": ""
             }
            },
            "type": "parcoords"
           }
          ],
          "pie": [
           {
            "automargin": true,
            "type": "pie"
           }
          ],
          "scatter": [
           {
            "fillpattern": {
             "fillmode": "overlay",
             "size": 10,
             "solidity": 0.2
            },
            "type": "scatter"
           }
          ],
          "scatter3d": [
           {
            "line": {
             "colorbar": {
              "outlinewidth": 0,
              "ticks": ""
             }
            },
            "marker": {
             "colorbar": {
              "outlinewidth": 0,
              "ticks": ""
             }
            },
            "type": "scatter3d"
           }
          ],
          "scattercarpet": [
           {
            "marker": {
             "colorbar": {
              "outlinewidth": 0,
              "ticks": ""
             }
            },
            "type": "scattercarpet"
           }
          ],
          "scattergeo": [
           {
            "marker": {
             "colorbar": {
              "outlinewidth": 0,
              "ticks": ""
             }
            },
            "type": "scattergeo"
           }
          ],
          "scattergl": [
           {
            "marker": {
             "colorbar": {
              "outlinewidth": 0,
              "ticks": ""
             }
            },
            "type": "scattergl"
           }
          ],
          "scattermap": [
           {
            "marker": {
             "colorbar": {
              "outlinewidth": 0,
              "ticks": ""
             }
            },
            "type": "scattermap"
           }
          ],
          "scattermapbox": [
           {
            "marker": {
             "colorbar": {
              "outlinewidth": 0,
              "ticks": ""
             }
            },
            "type": "scattermapbox"
           }
          ],
          "scatterpolar": [
           {
            "marker": {
             "colorbar": {
              "outlinewidth": 0,
              "ticks": ""
             }
            },
            "type": "scatterpolar"
           }
          ],
          "scatterpolargl": [
           {
            "marker": {
             "colorbar": {
              "outlinewidth": 0,
              "ticks": ""
             }
            },
            "type": "scatterpolargl"
           }
          ],
          "scatterternary": [
           {
            "marker": {
             "colorbar": {
              "outlinewidth": 0,
              "ticks": ""
             }
            },
            "type": "scatterternary"
           }
          ],
          "surface": [
           {
            "colorbar": {
             "outlinewidth": 0,
             "ticks": ""
            },
            "colorscale": [
             [
              0,
              "#0d0887"
             ],
             [
              0.1111111111111111,
              "#46039f"
             ],
             [
              0.2222222222222222,
              "#7201a8"
             ],
             [
              0.3333333333333333,
              "#9c179e"
             ],
             [
              0.4444444444444444,
              "#bd3786"
             ],
             [
              0.5555555555555556,
              "#d8576b"
             ],
             [
              0.6666666666666666,
              "#ed7953"
             ],
             [
              0.7777777777777778,
              "#fb9f3a"
             ],
             [
              0.8888888888888888,
              "#fdca26"
             ],
             [
              1,
              "#f0f921"
             ]
            ],
            "type": "surface"
           }
          ],
          "table": [
           {
            "cells": {
             "fill": {
              "color": "#EBF0F8"
             },
             "line": {
              "color": "white"
             }
            },
            "header": {
             "fill": {
              "color": "#C8D4E3"
             },
             "line": {
              "color": "white"
             }
            },
            "type": "table"
           }
          ]
         },
         "layout": {
          "annotationdefaults": {
           "arrowcolor": "#2a3f5f",
           "arrowhead": 0,
           "arrowwidth": 1
          },
          "autotypenumbers": "strict",
          "coloraxis": {
           "colorbar": {
            "outlinewidth": 0,
            "ticks": ""
           }
          },
          "colorscale": {
           "diverging": [
            [
             0,
             "#8e0152"
            ],
            [
             0.1,
             "#c51b7d"
            ],
            [
             0.2,
             "#de77ae"
            ],
            [
             0.3,
             "#f1b6da"
            ],
            [
             0.4,
             "#fde0ef"
            ],
            [
             0.5,
             "#f7f7f7"
            ],
            [
             0.6,
             "#e6f5d0"
            ],
            [
             0.7,
             "#b8e186"
            ],
            [
             0.8,
             "#7fbc41"
            ],
            [
             0.9,
             "#4d9221"
            ],
            [
             1,
             "#276419"
            ]
           ],
           "sequential": [
            [
             0,
             "#0d0887"
            ],
            [
             0.1111111111111111,
             "#46039f"
            ],
            [
             0.2222222222222222,
             "#7201a8"
            ],
            [
             0.3333333333333333,
             "#9c179e"
            ],
            [
             0.4444444444444444,
             "#bd3786"
            ],
            [
             0.5555555555555556,
             "#d8576b"
            ],
            [
             0.6666666666666666,
             "#ed7953"
            ],
            [
             0.7777777777777778,
             "#fb9f3a"
            ],
            [
             0.8888888888888888,
             "#fdca26"
            ],
            [
             1,
             "#f0f921"
            ]
           ],
           "sequentialminus": [
            [
             0,
             "#0d0887"
            ],
            [
             0.1111111111111111,
             "#46039f"
            ],
            [
             0.2222222222222222,
             "#7201a8"
            ],
            [
             0.3333333333333333,
             "#9c179e"
            ],
            [
             0.4444444444444444,
             "#bd3786"
            ],
            [
             0.5555555555555556,
             "#d8576b"
            ],
            [
             0.6666666666666666,
             "#ed7953"
            ],
            [
             0.7777777777777778,
             "#fb9f3a"
            ],
            [
             0.8888888888888888,
             "#fdca26"
            ],
            [
             1,
             "#f0f921"
            ]
           ]
          },
          "colorway": [
           "#636efa",
           "#EF553B",
           "#00cc96",
           "#ab63fa",
           "#FFA15A",
           "#19d3f3",
           "#FF6692",
           "#B6E880",
           "#FF97FF",
           "#FECB52"
          ],
          "font": {
           "color": "#2a3f5f"
          },
          "geo": {
           "bgcolor": "white",
           "lakecolor": "white",
           "landcolor": "#E5ECF6",
           "showlakes": true,
           "showland": true,
           "subunitcolor": "white"
          },
          "hoverlabel": {
           "align": "left"
          },
          "hovermode": "closest",
          "mapbox": {
           "style": "light"
          },
          "paper_bgcolor": "white",
          "plot_bgcolor": "#E5ECF6",
          "polar": {
           "angularaxis": {
            "gridcolor": "white",
            "linecolor": "white",
            "ticks": ""
           },
           "bgcolor": "#E5ECF6",
           "radialaxis": {
            "gridcolor": "white",
            "linecolor": "white",
            "ticks": ""
           }
          },
          "scene": {
           "xaxis": {
            "backgroundcolor": "#E5ECF6",
            "gridcolor": "white",
            "gridwidth": 2,
            "linecolor": "white",
            "showbackground": true,
            "ticks": "",
            "zerolinecolor": "white"
           },
           "yaxis": {
            "backgroundcolor": "#E5ECF6",
            "gridcolor": "white",
            "gridwidth": 2,
            "linecolor": "white",
            "showbackground": true,
            "ticks": "",
            "zerolinecolor": "white"
           },
           "zaxis": {
            "backgroundcolor": "#E5ECF6",
            "gridcolor": "white",
            "gridwidth": 2,
            "linecolor": "white",
            "showbackground": true,
            "ticks": "",
            "zerolinecolor": "white"
           }
          },
          "shapedefaults": {
           "line": {
            "color": "#2a3f5f"
           }
          },
          "ternary": {
           "aaxis": {
            "gridcolor": "white",
            "linecolor": "white",
            "ticks": ""
           },
           "baxis": {
            "gridcolor": "white",
            "linecolor": "white",
            "ticks": ""
           },
           "bgcolor": "#E5ECF6",
           "caxis": {
            "gridcolor": "white",
            "linecolor": "white",
            "ticks": ""
           }
          },
          "title": {
           "x": 0.05
          },
          "xaxis": {
           "automargin": true,
           "gridcolor": "white",
           "linecolor": "white",
           "ticks": "",
           "title": {
            "standoff": 15
           },
           "zerolinecolor": "white",
           "zerolinewidth": 2
          },
          "yaxis": {
           "automargin": true,
           "gridcolor": "white",
           "linecolor": "white",
           "ticks": "",
           "title": {
            "standoff": 15
           },
           "zerolinecolor": "white",
           "zerolinewidth": 2
          }
         }
        },
        "title": {
         "text": "Top 10 Genres by Average Followers"
        },
        "width": 900,
        "xaxis": {
         "tickangle": -45,
         "title": {
          "text": "Genre"
         }
        },
        "yaxis": {
         "title": {
          "text": "Average Followers"
         },
         "type": "log"
        }
       }
      }
     },
     "metadata": {},
     "output_type": "display_data"
    }
   ],
   "source": [
    "# Get genre distribution (handling null values)\n",
    "genres = df['genre'].fillna('Unknown').str.split(',').explode().str.strip()\n",
    "genre_counts = genres.value_counts()\n",
    "\n",
    "# Create bar chart of genre distribution\n",
    "fig = go.Figure(data=[\n",
    "    go.Bar(\n",
    "        x=genre_counts.head(10).index, \n",
    "        y=genre_counts.head(10).values,\n",
    "        text=genre_counts.head(10).values,\n",
    "        textposition='auto'\n",
    "    )\n",
    "])\n",
    "\n",
    "fig.update_layout(\n",
    "    title='Top 10 Most Common Genres',\n",
    "    xaxis_title='Genre',\n",
    "    yaxis_title='Number of Stories',\n",
    "    xaxis_tickangle=-45,\n",
    "    height=600,\n",
    "    width=900,\n",
    "    font=dict(size=14),\n",
    "    margin=dict(b=100)  # Add more margin at the bottom for rotated labels\n",
    ")\n",
    "fig.show()\n",
    "\n",
    "# Calculate and display genre performance metrics\n",
    "for metric in ['views', 'rating', 'followers']:\n",
    "    # Create a list to store data for each story-genre pair\n",
    "    story_genre_data = []\n",
    "    \n",
    "    # Process each row (story) individually\n",
    "    for _, row in df.dropna(subset=['genre', metric]).iterrows():\n",
    "        if pd.isna(row['genre']) or not row['genre']:\n",
    "            continue\n",
    "            \n",
    "        # Split the genres string into a list\n",
    "        genres = row['genre'].split(',')\n",
    "        \n",
    "        # Add each genre-story pair to our data\n",
    "        for genre in genres:\n",
    "            genre = genre.strip()\n",
    "            if genre:  # Skip empty strings\n",
    "                story_genre_data.append({\n",
    "                    'story_id': row['id'],\n",
    "                    'genre': genre,\n",
    "                    metric: row[metric]\n",
    "                })\n",
    "    \n",
    "    # Create a DataFrame from our list\n",
    "    genre_df = pd.DataFrame(story_genre_data)\n",
    "    \n",
    "    # Calculate average and count for each genre\n",
    "    genre_stats = genre_df.groupby('genre').agg({metric: ['mean', 'count']})\n",
    "    genre_stats.columns = genre_stats.columns.droplevel(0)  # Flatten multi-index\n",
    "    \n",
    "    # Filter for genres with at least 5 stories\n",
    "    genre_stats = genre_stats[genre_stats['count'] >= 5]\n",
    "    \n",
    "    # Sort by mean and get top 10\n",
    "    top_genres = genre_stats.nlargest(10, 'mean').reset_index()\n",
    "    \n",
    "    # Create bar chart\n",
    "    fig = go.Figure(data=[\n",
    "        go.Bar(\n",
    "            x=top_genres['genre'],\n",
    "            y=top_genres['mean'],\n",
    "            text=np.round(top_genres['mean'], 2),\n",
    "            textposition='auto',\n",
    "            customdata=top_genres['count'],\n",
    "            hovertemplate='Genre: %{x}<br>' +\n",
    "                         f'Average {metric}: %{{y:,.2f}}<br>' +\n",
    "                         'Number of stories: %{customdata}<br>'\n",
    "        )\n",
    "    ])\n",
    "    \n",
    "    fig.update_layout(\n",
    "        title=f'Top 10 Genres by Average {metric.capitalize()}',\n",
    "        xaxis_title='Genre',\n",
    "        yaxis_title=f'Average {metric.capitalize()}',\n",
    "        xaxis_tickangle=-45,\n",
    "        height=600,\n",
    "        width=900,\n",
    "        font=dict(size=14),\n",
    "        margin=dict(b=100)\n",
    "    )\n",
    "    \n",
    "    # Use log scale for views and followers\n",
    "    if metric in ['views', 'followers']:\n",
    "        fig.update_yaxes(type='log')\n",
    "    \n",
    "    fig.show()"
   ]
  },
  {
   "cell_type": "markdown",
   "id": "8ffd600d",
   "metadata": {},
   "source": [
    "## Story Length Analysis\n",
    "\n",
    "Let's examine the relationship between story length (number of chapters and pages) and other metrics to understand how content volume affects story performance."
   ]
  },
  {
   "cell_type": "code",
   "execution_count": 19,
   "id": "945e82af",
   "metadata": {},
   "outputs": [
    {
     "data": {
      "application/vnd.plotly.v1+json": {
       "config": {
        "plotlyServerURL": "https://plot.ly"
       },
       "data": [
        {
         "marker": {
          "opacity": 0.5,
          "size": 5
         },
         "mode": "markers",
         "name": "views vs chapters",
         "type": "scatter",
         "x": {
          "bdata": "AAAAAACAQEAAAAAAAAAuQAAAAAAAgElAAAAAAADAW0AAAAAAAOBwQAAAAAAAgGNAAAAAAAAAU0AAAAAAAIBNQAAAAAAACINAAAAAAADAX0AAAAAAAIBMQAAAAAAAAEhAAAAAAACAT0AAAAAAAABNQAAAAAAAQGxAAAAAAACgZEAAAAAAAABBQAAAAAAAgEtAAAAAAADAX0AAAAAAAEBTQAAAAAAAgE9AAAAAAADAUEAAAAAAAAAxQAAAAAAAgE1AAAAAAADAUUAAAAAAAIBeQAAAAAAAwFNAAAAAAABAbUAAAAAAAIBjQAAAAAAAgFFAAAAAAABAZEAAAAAAAABEQAAAAAAAMHJAAAAAAABAU0AAAAAAAABPQAAAAAAAADJAAAAAAADAYkAAAAAAAIBVQAAAAAAAwGFAAAAAAAAAUEAAAAAAAMBqQAAAAAAAwFlAAAAAAAAASUAAAAAAAIBkQAAAAAAAoG5AAAAAAAAAZkAAAAAAAAA9QAAAAAAAgFBAAAAAAABAXEAAAAAAAIBMQAAAAAAAAElAAAAAAACATUAAAAAAAABQQAAAAAAAwIFAAAAAAACwe0AAAAAAAIBcQAAAAAAAAGZAAAAAAAAga0AAAAAAAABSQAAAAAAAgGJAAAAAAACgcEAAAAAAAMBoQAAAAAAASIFAAAAAAABAZEAAAAAAAABAQAAAAAAAAEVAAAAAAAAgY0AAAAAAAIBnQAAAAAAA4GNAAAAAAADAUEAAAAAAAIBJQAAAAAAAQFZAAAAAAADAUkAAAAAAAIBbQAAAAAAAwG5AAAAAAACAQEAAAAAAAIBYQAAAAAAAwFFAAAAAAAAAV0AAAAAAAGBlQAAAAAAAoG5AAAAAAABAWkAAAAAAAOBoQAAAAAAAQGZAAAAAAAAgbEAAAAAAAMBRQAAAAAAAgFRAAAAAAABwh0AAAAAAAEBzQAAAAAAAgExAAAAAAADAWUAAAAAAAEBZQAAAAAAA8HJAAAAAAAAAU0AAAAAAAABWQAAAAAAAgGxAAAAAAACAXUAAAAAAAABIQAAAAAAAAFRAAAAAAAAAQ0AAAAAAAEBkQAAAAAAA2INAAAAAAACwhkAAAAAAAIBUQAAAAAAAIGZAAAAAAADAUUAAAAAAAABUQAAAAAAAYGRAAAAAAABAY0AAAAAAAGBkQAAAAAAAoGNAAAAAAADAUkAAAAAAAKByQAAAAAAAQFxAAAAAAAAAVkA=",
          "dtype": "f8"
         },
         "xaxis": "x",
         "y": {
          "bdata": "PPAAAJUfAAAsygAA/+YBAKuEAwCzkAMA0pYFAD9bAAAWsAQAlmwAAOkUAAAHzgAAm2gCAD2qAwB0rQAAHe4AAB8aAADBHAAAcFsAALAnAgCg+gIAC1oAAIweAAAwKQIAGokAALTWAQAYIgAAyewDAHNlBwCFTQMApzEBAEgMAACfShYAqzAHAPgAAQCPWwAAtA4RAKzkAABi2AIApdsAALO3HAD49QAAF4QAAFbCBQDfZBkA5y8DAMFlAACbCAIAhfIAADbzAABUZAIAVTwAAAscAQAlxAYAYw4HAB43BgAlLwIAxhUBAN1RAAD6SwAAkOEPADzSBACg6BIAVwANAEBEAAD8OQAAcVEAAPeAAQD1rwEAMCsAAIhsCQAFVg4AiZgKAMzlEgCIExQA7xcGAEk3CgABpAkAyTIJAI+jHgDwTx8AD2UKAAn0KQDErDIAw6QJALDFAwDwrAUA2phMAKiCIABPRQYACL02AAIRDQB/khkA/iwEADYGCACk4iAAd4kFAFsZBgDQIAgARwoAAN3OAQDO7QkARN0KAJCRAAAoZAIAf5YAACx+AwB4XwEAuqkBAIR9AQDMigEAbj8AAKvTIQCeCRAAX2IAAA==",
          "dtype": "i4"
         },
         "yaxis": "y"
        },
        {
         "line": {
          "color": "red"
         },
         "mode": "lines",
         "name": "Trend views vs chapters",
         "type": "scatter",
         "x": {
          "bdata": "AAAAAAAALkBssskmm2w2QNlkk0022T1Ao4suuuiiQkDZZJNNNllGQA8++OCDD0pARhdddNHFTUA++OCDD75QQNlkk002mVJAdNFFF110VEAPPvjgg09WQKqqqqqqKlhARhdddNEFWkDhgw8++OBbQHzwwQcfvF1AF1100UWXX0DZZJNNNrlgQCabbLLJpmFAdNFFF12UYkDCBx988IFjQA8++OCDb2RAXXTRRRddZUCqqqqqqkpmQPjggw8+OGdARhdddNElaECTTTbZZBNpQOGDDz74AGpALrrooovuakB88MEHH9xrQMkmm2yyyWxAF1100UW3bUBkk0022aRuQLLJJptskm9AAAAAAABAcEAmm2yyybZwQE022WSTLXFAdNFFF12kcUCbbLLJJhtyQMIHH3zwkXJA6KKLLroIc0APPvjgg39zQDbZZJNN9nNAXXTRRRdtdECEDz744ON0QKqqqqqqWnVA0UUXXXTRdUD44IMPPkh2QB988MEHv3ZARhdddNE1d0Bssskmm6x3QJNNNtlkI3hAuuiiiy6aeEDhgw8++BB5QAcffPDBh3lALrrooov+eUBVVVVVVXV6QHzwwQcf7HpAo4suuuhie0DJJptsstl7QPDBBx98UHxAF1100UXHfEA++OCDDz59QGSTTTbZtH1Aiy666KIrfkCyySabbKJ+QNlkk002GX9AAAAAAACQf0CTTTbZZAOAQCabbLLJPoBAuuiiiy56gEBNNtlkk7WAQOGDDz748IBAdNFFF10sgUAIH3zwwWeBQJtssskmo4FALrrooovegUDCBx988BmCQFVVVVVVVYJA6KKLLrqQgkB88MEHH8yCQA8++OCDB4NAo4suuuhCg0A22WSTTX6DQMkmm2yyuYNAXXTRRRf1g0DwwQcffDCEQIQPPvjga4RAF1100UWnhECqqqqqquKEQD744IMPHoVA0UUXXXRZhUBlk0022ZSFQPjggw8+0IVAiy666KILhkAffPDBB0eGQLLJJptsgoZARhdddNG9hkDZZJNNNvmGQGyyySabNIdAAAAAAABwh0A=",
          "dtype": "f8"
         },
         "xaxis": "x",
         "y": {
          "bdata": "khZsoB17A0GkKqXUcfQFQbc+3gjGbQhBylIXPRrnCkHcZlBxbmANQe96iaXC2Q9BgUfhbIspEUGK0f2GNWYSQZRbGqHfohNBneU2u4nfFEGmb1PVMxwWQbD5b+/dWBdBuoOMCYiVGEHCDakjMtIZQcyXxT3cDhtB1iHiV4ZLHEHeq/5xMIgdQeg1G4zaxB5B+d8bU8IAIEH+JCpgF58gQQJqOG1sPSFBB69GesHbIUEL9FSHFnoiQRA5Y5RrGCNBFX5xocC2I0Eaw3+uFVUkQR8Ijrtq8yRBI02cyL+RJUEokqrVFDAmQSzXuOJpziZBMRzH775sJ0E2YdX8EwsoQTum4wlpqShBQOvxFr5HKUFDMAAkE+YpQUh1DjFohCpBTbocPr0iK0FS/ypLEsErQVdEOVhnXyxBW4lHZbz9LEFgzlVyEZwtQWUTZH9mOi5BalhyjLvYLkFvnYCZEHcvQTlxR9OyCjBBu5POWd1ZMEE+tlXgB6kwQcDY3GYy+DBBQ/tj7VxHMUHFHetzh5YxQUdAcvqx5TFBymL5gNw0MkFMhYAHB4QyQc6nB44x0zJBUcqOFFwiM0HT7BWbhnEzQVYPnSGxwDNB2DEkqNsPNEFaVKsuBl80Qdx2MrUwrjRBX5m5O1v9NEHhu0DChUw1QWPex0iwmzVB5gBPz9rqNUFoI9ZVBTo2QetFXdwviTZBbWjkYlrYNkHvimvphCc3QXGt8m+vdjdB9M959tnFN0F28gB9BBU4QfkUiAMvZDhBezcPilmzOEH+WZYQhAI5QYB8HZeuUTlBAp+kHdmgOUGFwSukA/A5QQfksiouPzpBiAY6sViOOkEMKcE3g906QY1LSL6tLDtBEW7PRNh7O0GSkFbLAss7QRSz3VEtGjxBl9Vk2FdpPEEZ+Otegrg8QZwac+WsBz1BHj36a9dWPUGgX4HyAaY9QSOCCHks9T1BpaSP/1ZEPkEoxxaGgZM+QarpnQys4j5BLAwlk9YxP0GvLqwZAYE/QTFRM6Ar0D9B2jldE6sPQEEby6BWQDdAQVtc5JnVXkBBne0n3WqGQEE=",
          "dtype": "f8"
         },
         "yaxis": "y"
        },
        {
         "marker": {
          "opacity": 0.5,
          "size": 5
         },
         "mode": "markers",
         "name": "rating vs chapters",
         "type": "scatter",
         "x": {
          "bdata": "AAAAAACAQEAAAAAAAAAuQAAAAAAAgElAAAAAAADAW0AAAAAAAOBwQAAAAAAAgGNAAAAAAAAAU0AAAAAAAIBNQAAAAAAACINAAAAAAADAX0AAAAAAAABIQAAAAAAAgE9AAAAAAAAATUAAAAAAAEBsQAAAAAAAoGRAAAAAAAAAQUAAAAAAAIBLQAAAAAAAwF9AAAAAAABAU0AAAAAAAIBPQAAAAAAAwFBAAAAAAAAAMUAAAAAAAIBNQAAAAAAAwFFAAAAAAACAXkAAAAAAAMBTQAAAAAAAQG1AAAAAAACAY0AAAAAAAIBRQAAAAAAAQGRAAAAAAAAAREAAAAAAADByQAAAAAAAQFNAAAAAAAAAT0AAAAAAAAAyQAAAAAAAwGJAAAAAAACAVUAAAAAAAMBhQAAAAAAAAFBAAAAAAADAakAAAAAAAMBZQAAAAAAAAElAAAAAAACAZEAAAAAAAKBuQAAAAAAAAGZAAAAAAAAAPUAAAAAAAIBQQAAAAAAAQFxAAAAAAACATEAAAAAAAABJQAAAAAAAgE1AAAAAAAAAUEAAAAAAAMCBQAAAAAAAsHtAAAAAAACAXEAAAAAAAABmQAAAAAAAIGtAAAAAAAAAUkAAAAAAAIBiQAAAAAAAoHBAAAAAAADAaEAAAAAAAEiBQAAAAAAAQGRAAAAAAAAAQEAAAAAAAABFQAAAAAAAIGNAAAAAAACAZ0AAAAAAAOBjQAAAAAAAwFBAAAAAAACASUAAAAAAAEBWQAAAAAAAwFJAAAAAAACAW0AAAAAAANB+QAAAAAAAwG5AAAAAAACAQEAAAAAAAIBYQAAAAAAA8HdAAAAAAADAUUAAAAAAAABXQAAAAAAAYGVAAAAAAACgbkAAAAAAAEBaQAAAAAAA4GhAAAAAAABAZkAAAAAAACBsQAAAAAAAwFFAAAAAAACAVEAAAAAAAHCHQAAAAAAAQHNAAAAAAACATEAAAAAAAMBZQAAAAAAAQFlAAAAAAADwckAAAAAAAABTQAAAAAAAAFZAAAAAAACAbEAAAAAAAIBdQAAAAAAAAEhAAAAAAAAAVEAAAAAAAABDQAAAAAAAQGRAAAAAAADYg0AAAAAAALCGQAAAAAAAgFRAAAAAAAAgZkAAAAAAAMBRQAAAAAAAAFRAAAAAAABgZEAAAAAAAEBjQAAAAAAAYGRAAAAAAADAUkAAAAAAAKByQAAAAAAAQFxAAAAAAAAAVkA=",
          "dtype": "f8"
         },
         "xaxis": "x2",
         "y": {
          "bdata": "FK5H4XoUEkCuR+F6FK4TQFyPwvUoXBJA4XoUrkfhEEBcj8L1KFwRQArXo3A9ChFAexSuR+F6EkAzMzMzMzMTQK5H4XoUrhBAj8L1KFyPEUBSuB6F61ESQNejcD0K1xJAmpmZmZmZEkAK16NwPQoTQAAAAAAAABJAZmZmZmZmEkCPwvUoXI8SQMP1KFyPwhFASOF6FK5HEkAAAAAAAAARQEjhehSuRxJAKVyPwvUoEUBI4XoUrkcRQGZmZmZmZhJAZmZmZmZmEUDNzMzMzMwQQPYoXI/C9RBA9ihcj8L1EUCF61G4HoURQI/C9ShcjxFA4XoUrkfhEkBxPQrXo3AQQB+F61G4HhJACtejcD0KEkC4HoXrUbgQQGZmZmZmZhJAcT0K16NwEkBmZmZmZmYRQD0K16NwPRNAMzMzMzMzEkAAAAAAAAATQOxRuB6F6xFA9ihcj8L1EUCPwvUoXI8RQOF6FK5H4RBAmpmZmZmZEUAfhetRuB4RQNejcD0K1xFA4XoUrkfhEEDhehSuR+ESQB+F61G4HhJA7FG4HoXrEEBI4XoUrkcPQGZmZmZmZg5AUrgehetREkB7FK5H4XoSQFK4HoXrURNAUrgehetREkCuR+F6FK4SQLgehetRuBBA9ihcj8L1EEApXI/C9SgSQEjhehSuRxJA9ihcj8L1EEAzMzMzMzMSQK5H4XoUrhJAuB6F61G4EkAK16NwPQoSQFK4HoXrURNAexSuR+F6EkAzMzMzMzMSQHE9CtejcBJAMzMzMzMzEkBmZmZmZmYRQK5H4XoUrhBAhetRuB6FEkCF61G4HoUSQB+F61G4HhJAXI/C9ShcEkCamZmZmZkRQNejcD0K1xFA16NwPQrXEUBmZmZmZmYSQArXo3A9ChJAuB6F61G4EUB7FK5H4XoRQGZmZmZmZhJAKVyPwvUoEkCkcD0K16MQQGZmZmZmZhJAXI/C9ShcEkAzMzMzMzMSQBSuR+F6FBJAPQrXo3A9EkBI4XoUrkcSQJqZmZmZmRJAMzMzMzMzEkBSuB6F61ERQOxRuB6F6xFAXI/C9ShcEUBSuB6F61ETQJqZmZmZmQ1AuB6F61G4EkBcj8L1KFwQQAAAAAAAABJAH4XrUbgeEUCkcD0K16MSQClcj8L1KBJAMzMzMzMzE0CF61G4HoUTQDMzMzMzMxJAw/UoXI/CEUAfhetRuB4RQNejcD0K1xFAj8L1KFyPE0A=",
          "dtype": "f8"
         },
         "yaxis": "y2"
        },
        {
         "line": {
          "color": "red"
         },
         "mode": "lines",
         "name": "Trend rating vs chapters",
         "type": "scatter",
         "x": {
          "bdata": "AAAAAAAALkBssskmm2w2QNlkk0022T1Ao4suuuiiQkDZZJNNNllGQA8++OCDD0pARhdddNHFTUA++OCDD75QQNlkk002mVJAdNFFF110VEAPPvjgg09WQKqqqqqqKlhARhdddNEFWkDhgw8++OBbQHzwwQcfvF1AF1100UWXX0DZZJNNNrlgQCabbLLJpmFAdNFFF12UYkDCBx988IFjQA8++OCDb2RAXXTRRRddZUCqqqqqqkpmQPjggw8+OGdARhdddNElaECTTTbZZBNpQOGDDz74AGpALrrooovuakB88MEHH9xrQMkmm2yyyWxAF1100UW3bUBkk0022aRuQLLJJptskm9AAAAAAABAcEAmm2yyybZwQE022WSTLXFAdNFFF12kcUCbbLLJJhtyQMIHH3zwkXJA6KKLLroIc0APPvjgg39zQDbZZJNN9nNAXXTRRRdtdECEDz744ON0QKqqqqqqWnVA0UUXXXTRdUD44IMPPkh2QB988MEHv3ZARhdddNE1d0Bssskmm6x3QJNNNtlkI3hAuuiiiy6aeEDhgw8++BB5QAcffPDBh3lALrrooov+eUBVVVVVVXV6QHzwwQcf7HpAo4suuuhie0DJJptsstl7QPDBBx98UHxAF1100UXHfEA++OCDDz59QGSTTTbZtH1Aiy666KIrfkCyySabbKJ+QNlkk002GX9AAAAAAACQf0CTTTbZZAOAQCabbLLJPoBAuuiiiy56gEBNNtlkk7WAQOGDDz748IBAdNFFF10sgUAIH3zwwWeBQJtssskmo4FALrrooovegUDCBx988BmCQFVVVVVVVYJA6KKLLrqQgkB88MEHH8yCQA8++OCDB4NAo4suuuhCg0A22WSTTX6DQMkmm2yyuYNAXXTRRRf1g0DwwQcffDCEQIQPPvjga4RAF1100UWnhECqqqqqquKEQD744IMPHoVA0UUXXXRZhUBlk0022ZSFQPjggw8+0IVAiy666KILhkAffPDBB0eGQLLJJptsgoZARhdddNG9hkDZZJNNNvmGQGyyySabNIdAAAAAAABwh0A=",
          "dtype": "f8"
         },
         "xaxis": "x2",
         "y": {
          "bdata": "Eu2Yc4U+EkBtInYEQDoSQMdXU5X6NRJAIo0wJrUxEkB9wg23by0SQNj36kcqKRJAMy3I2OQkEkCNYqVpnyASQOiXgvpZHBJAQ81fixQYEkCeAj0czxMSQPk3Gq2JDxJAU233PUQLEkCuotTO/gYSQAnYsV+5AhJAZA2P8HP+EUC/QmyBLvoRQBl4SRLp9RFAdK0mo6PxEUDP4gM0Xu0RQCoY4cQY6RFAhU2+VdPkEUDfgpvmjeARQDq4eHdI3BFAle1VCAPYEUDwIjOZvdMRQEtYECp4zxFApY3tujLLEUAAw8pL7cYRQFv4p9ynwhFAti2FbWK+EUARY2L+HLoRQGuYP4/XtRFAxs0cIJKxEUAhA/qwTK0RQHw410EHqRFA12200sGkEUAxo5FjfKARQIzYbvQ2nBFA5w1MhfGXEUBCQykWrJMRQJ14BqdmjxFA963jNyGLEUBS48DI24YRQK0YnlmWghFACE576lB+EUBjg1h7C3oRQL24NQzGdRFAGO4SnYBxEUBzI/AtO20RQM5Yzb71aBFAKI6qT7BkEUCDw4fgamARQN74ZHElXBFAOS5CAuBXEUCUYx+TmlMRQO6Y/CNVTxFASc7ZtA9LEUCkA7dFykYRQP84lNaEQhFAWm5xZz8+EUC0o074+TkRQA/ZK4m0NRFAag4JGm8xEUDFQ+aqKS0RQCB5wzvkKBFAeq6gzJ4kEUDV431dWSARQDAZW+4THBFAi044f84XEUDmgxUQiRMRQEC58qBDDxFAm+7PMf4KEUD2I63CuAYRQFFZilNzAhFArI5n5C3+EEAGxER16PkQQGH5IQaj9RBAvC7/ll3xEEAXZNwnGO0QQHKZubjS6BBAzM6WSY3kEEAnBHTaR+AQQII5UWsC3BBA3W4u/LzXEEA4pAuNd9MQQJLZ6B0yzxBA7Q7GruzKEEBIRKM/p8YQQKN5gNBhwhBA/q5dYRy+EEBY5Dry1rkQQLMZGIORtRBADk/1E0yxEEBphNKkBq0QQMS5rzXBqBBAHu+MxnukEEB5JGpXNqAQQNRZR+jwmxBAL48keauXEEA=",
          "dtype": "f8"
         },
         "yaxis": "y2"
        },
        {
         "marker": {
          "opacity": 0.5,
          "size": 5
         },
         "mode": "markers",
         "name": "followers vs chapters",
         "type": "scatter",
         "x": {
          "bdata": "AAAAAACAQEAAAAAAAAAuQAAAAAAAgElAAAAAAADAW0AAAAAAAOBwQAAAAAAAgGNAAAAAAAAAU0AAAAAAAIBNQAAAAAAACINAAAAAAADAX0AAAAAAAIBMQAAAAAAAAEhAAAAAAACAT0AAAAAAAABNQAAAAAAAQGxAAAAAAACgZEAAAAAAAABBQAAAAAAAgEtAAAAAAADAX0AAAAAAAEBTQAAAAAAAgE9AAAAAAADAUEAAAAAAAAAxQAAAAAAAgE1AAAAAAADAUUAAAAAAAIBeQAAAAAAAwFNAAAAAAABAbUAAAAAAAIBjQAAAAAAAgFFAAAAAAABAZEAAAAAAAABEQAAAAAAAMHJAAAAAAABAU0AAAAAAAABPQAAAAAAAADJAAAAAAADAYkAAAAAAAIBVQAAAAAAAwGFAAAAAAAAAUEAAAAAAAMBqQAAAAAAAwFlAAAAAAAAASUAAAAAAAIBkQAAAAAAAoG5AAAAAAAAAZkAAAAAAAAA9QAAAAAAAgFBAAAAAAABAXEAAAAAAAIBMQAAAAAAAAElAAAAAAACATUAAAAAAAABQQAAAAAAAwIFAAAAAAACwe0AAAAAAAIBcQAAAAAAAAGZAAAAAAAAga0AAAAAAAABSQAAAAAAAgGJAAAAAAACgcEAAAAAAAMBoQAAAAAAASIFAAAAAAABAZEAAAAAAAABAQAAAAAAAAEVAAAAAAAAgY0AAAAAAAIBnQAAAAAAA4GNAAAAAAADAUEAAAAAAAIBJQAAAAAAAQFZAAAAAAADAUkAAAAAAAIBbQAAAAAAA0H5AAAAAAADAbkAAAAAAAIBAQAAAAAAAgFhAAAAAAADAUUAAAAAAAABXQAAAAAAAYGVAAAAAAACgbkAAAAAAAEBaQAAAAAAA4GhAAAAAAAAgbEAAAAAAAMBRQAAAAAAAgFRAAAAAAABwh0AAAAAAAEBzQAAAAAAAgExAAAAAAADAWUAAAAAAAEBZQAAAAAAA8HJAAAAAAAAAU0AAAAAAAABWQAAAAAAAgGxAAAAAAACAXUAAAAAAAABIQAAAAAAAAFRAAAAAAAAAQ0AAAAAAAEBkQAAAAAAA2INAAAAAAACwhkAAAAAAAIBUQAAAAAAAIGZAAAAAAADAUUAAAAAAAABUQAAAAAAAYGRAAAAAAABAY0AAAAAAAGBkQAAAAAAAoGNAAAAAAADAUkAAAAAAAKByQAAAAAAAQFxAAAAAAAAAVkA=",
          "dtype": "f8"
         },
         "xaxis": "x3",
         "y": {
          "bdata": "5gJ3AccBzwGQAdgCCgsTAd4AaQBJAPQCDgasB3sAYABTACIAlQDGBBAIYQCOAGMEowBEAxYATQUGCAgGrQAdAN0NoAzHAkACHw2vALEDCQGxFCIBnACzB8kRHQSpAYED8ABzA5YGxADTAy8BmQAjEbIAWwBKABUASwWCASgDhAjeAeEAmQCfAGABIgCAFCUWJBTfGm8nSAc5E5cPBhPrCgMXcBWhDY8atwN7B1YIxweZD84OkCf+E58KyAfoD5gP8AX9EDwQLgAJAT4DYwFiAO0A5ACMBZwAagKZALwATwFDE1cRJQA=",
          "dtype": "i2"
         },
         "yaxis": "y3"
        },
        {
         "line": {
          "color": "red"
         },
         "mode": "lines",
         "name": "Trend followers vs chapters",
         "type": "scatter",
         "x": {
          "bdata": "AAAAAAAALkBssskmm2w2QNlkk0022T1Ao4suuuiiQkDZZJNNNllGQA8++OCDD0pARhdddNHFTUA++OCDD75QQNlkk002mVJAdNFFF110VEAPPvjgg09WQKqqqqqqKlhARhdddNEFWkDhgw8++OBbQHzwwQcfvF1AF1100UWXX0DZZJNNNrlgQCabbLLJpmFAdNFFF12UYkDCBx988IFjQA8++OCDb2RAXXTRRRddZUCqqqqqqkpmQPjggw8+OGdARhdddNElaECTTTbZZBNpQOGDDz74AGpALrrooovuakB88MEHH9xrQMkmm2yyyWxAF1100UW3bUBkk0022aRuQLLJJptskm9AAAAAAABAcEAmm2yyybZwQE022WSTLXFAdNFFF12kcUCbbLLJJhtyQMIHH3zwkXJA6KKLLroIc0APPvjgg39zQDbZZJNN9nNAXXTRRRdtdECEDz744ON0QKqqqqqqWnVA0UUXXXTRdUD44IMPPkh2QB988MEHv3ZARhdddNE1d0Bssskmm6x3QJNNNtlkI3hAuuiiiy6aeEDhgw8++BB5QAcffPDBh3lALrrooov+eUBVVVVVVXV6QHzwwQcf7HpAo4suuuhie0DJJptsstl7QPDBBx98UHxAF1100UXHfEA++OCDDz59QGSTTTbZtH1Aiy666KIrfkCyySabbKJ+QNlkk002GX9AAAAAAACQf0CTTTbZZAOAQCabbLLJPoBAuuiiiy56gEBNNtlkk7WAQOGDDz748IBAdNFFF10sgUAIH3zwwWeBQJtssskmo4FALrrooovegUDCBx988BmCQFVVVVVVVYJA6KKLLrqQgkB88MEHH8yCQA8++OCDB4NAo4suuuhCg0A22WSTTX6DQMkmm2yyuYNAXXTRRRf1g0DwwQcffDCEQIQPPvjga4RAF1100UWnhECqqqqqquKEQD744IMPHoVA0UUXXXRZhUBlk0022ZSFQPjggw8+0IVAiy666KILhkAffPDBB0eGQLLJJptsgoZARhdddNG9hkDZZJNNNvmGQGyyySabNIdAAAAAAABwh0A=",
          "dtype": "f8"
         },
         "xaxis": "x3",
         "y": {
          "bdata": "Vqs6XCjDmUA6SikeJeGZQB/pF+Ah/5lAA4gGoh4dmkDnJvVjGzuaQMvF4yUYWZpAr2TS5xR3mkCUA8GpEZWaQHiir2sOs5pAXEGeLQvRmkBA4IzvB++aQCR/e7EEDZtACR5qcwErm0DtvFg1/kibQNFbR/f6ZptAtfo1ufeEm0CZmSR79KKbQH44Ez3xwJtAYtcB/+3em0BGdvDA6vybQCoV34LnGpxADrTNROQ4nEDyUrwG4VacQNfxqsjddJxAu5CZitqSnECfL4hM17CcQIPOdg7UzpxAaG1l0NDsnEBMDFSSzQqdQDCrQlTKKJ1AFEoxFsdGnUD46B/Yw2SdQNyHDprAgp1AwSb9W72gnUClxesdur6dQIlk2t+23J1AbQPJobP6nUBSordjsBieQDZBpiWtNp5AGuCU56lUnkD+foOppnKeQOIdcmujkJ5AxrxgLaCunkCrW0/vnMyeQI/6PbGZ6p5Ac5ksc5YIn0BXOBs1kyafQDzXCfePRJ9AIHb4uIxin0AEFed6iYCfQOiz1TyGnp9AzFLE/oK8n0Cw8bLAf9qfQJSQoYJ8+J9AvBdIojwLoEAuZz8DOxqgQKG2NmQ5KaBAEwYuxTc4oECFVSUmNkegQPekHIc0VqBAafQT6DJloEDbQwtJMXSgQE2TAqovg6BAv+L5Ci6SoEAxMvFrLKGgQKSB6MwqsKBAFtHfLSm/oECIINeOJ86gQPpvzu8l3aBAbL/FUCTsoEDeDr2xIvugQFBetBIhCqFAwq2rcx8ZoUA0/aLUHSihQKZMmjUcN6FAGJyRlhpGoUCK64j3GFWhQPw6gFgXZKFAbop3uRVzoUDh2W4aFIKhQFMpZnsSkaFAxXhd3BCgoUA3yFQ9D6+hQKkXTJ4NvqFAG2dD/wvNoUCNtjpgCtyhQAAGMsEI66FAclUpIgf6oUDkpCCDBQmiQFb0F+QDGKJAyEMPRQInokA6kwamADaiQKzi/Qb/RKJAHjL1Z/1TokCQgezI+2KiQALR4yn6caJAdCDbiviAokDmb9Lr9o+iQFi/yUz1nqJAyw7BrfOtokA=",
          "dtype": "f8"
         },
         "yaxis": "y3"
        },
        {
         "marker": {
          "opacity": 0.5,
          "size": 5
         },
         "mode": "markers",
         "name": "views vs pages",
         "type": "scatter",
         "x": {
          "bdata": "3QDDAOYAjgPXBYEESQLiAncM2QUGA+oBpgL1AXoEEAPHAdEBkQReA/wBnwJ/ACkBugHfAxkDBQriA5UBBAPMAOMIowK4AZcArQJiAVQDyQGRB0gBJQHaAzkIHgX4AHcB2wEKGM0BEQFKAQsCYgwwB1YCowJ2BvwFkwgiBdoDkA8xA9cA3wFuAgACKQIrAhEBrgLBAqEDWgVOAcADRgPyAdsE5wZJBIMGtAiZBSACiwK+FV8OrwKMA9sDjw49ApUCkQfqAyABZgKEAaEDyg5YATsEOQP/ATgCnwR3B3YGdgIHDPQC2QE=",
          "dtype": "i2"
         },
         "xaxis": "x4",
         "y": {
          "bdata": "PPAAAJUfAAAsygAA/+YBAKuEAwCzkAMA0pYFAD9bAAAWsAQAlmwAAOkUAAAHzgAAm2gCAD2qAwB0rQAAHe4AAB8aAADBHAAAcFsAALAnAgCg+gIAC1oAAIweAAAwKQIAGokAALTWAQAYIgAAyewDAHNlBwCFTQMApzEBAEgMAACfShYAqzAHAPgAAQCPWwAAtA4RAKzkAABi2AIApdsAALO3HAD49QAAF4QAAFbCBQDfZBkA5y8DAMFlAACbCAIAhfIAAF6aCAA28wAAVGQCAFU8AAALHAEAJcQGAGMOBwAeNwYAJS8CAMYVAQDdUQAA+ksAAJDhDwA80gQAoOgSAFcADQBARAAA/DkAAHFRAAD3gAEA9a8BADArAACIbAkABVYOAImYCgDM5RIAiBMUAO8XBgBJNwoAAaQJAMkyCQCPox4A8E8fAA9lCgAJ9CkAxKwyAMOkCQCwxQMA8KwFANqYTACogiAAT0UGAAi9NgACEQ0Af5IZAP4sBAA2BggApOIgAHeJBQBbGQYA0CAIAEcKAADdzgEARN0KAJCRAAAoZAIAf5YAACx+AwB4XwEAuqkBAIR9AQDMigEAbj8AAKvTIQCeCRAAX2IAAA==",
          "dtype": "i4"
         },
         "yaxis": "y4"
        },
        {
         "line": {
          "color": "red"
         },
         "mode": "lines",
         "name": "Trend views vs pages",
         "type": "scatter",
         "x": {
          "bdata": "AAAAAADAX0B88MEHH3xnQPjggw8+GG9Auuiiiy5ac0D44IMPPih3QDbZZJNN9npAdNFFF13EfkDZZJNNNkmBQPjggw8+MINAF1100UUXhUA22WSTTf6GQFVVVVVV5YhAdNFFF13MikCTTTbZZLOMQLLJJptsmo5A6KKLLrpAkED44IMPPjSRQAgffPDBJ5JAF1100UUbk0Amm2yyyQ6UQDbZZJNNApVARhdddNH1lUBVVVVVVemWQGSTTTbZ3JdAdNFFF13QmECEDz744MOZQJNNNtlkt5pAoosuuuiqm0CyySabbJ6cQMIHH3zwkZ1A0UUXXXSFnkDggw8++HifQPjggw8+NqBAAAAAAACwoEAIH3zwwSmhQA8++OCDo6FAF1100UUdokAffPDBB5eiQCabbLLJEKNALrrooouKo0A22WSTTQSkQD744IMPfqRARhdddNH3pEBNNtlkk3GlQFVVVVVV66VAXXTRRRdlpkBkk0022d6mQGyyySabWKdAdNFFF13Sp0B88MEHH0yoQIQPPvjgxahAiy666KI/qUCTTTbZZLmpQJtssskmM6pAoosuuuisqkCqqqqqqiarQLLJJptsoKtAuuiiiy4arEDCBx988JOsQMkmm2yyDa1A0UUXXXSHrUDZZJNNNgGuQOCDDz74eq5A6KKLLrr0rkDwwQcffG6vQPjggw8+6K9AAAAAAAAxsECEDz744G2wQAgffPDBqrBAiy666KLnsEAPPvjggySxQJNNNtlkYbFAF1100UWesUCbbLLJJtuxQB988MEHGLJAo4suuuhUskAmm2yyyZGyQKqqqqqqzrJALrrooosLs0CyySabbEizQDbZZJNNhbNAuuiiiy7Cs0A++OCDD/+zQMIHH3zwO7RARhdddNF4tEDJJptssrW0QE022WST8rRA0UUXXXQvtUBVVVVVVWy1QNlkk002qbVAXXTRRRfmtUDhgw8++CK2QGSTTTbZX7ZA6KKLLrqctkBssskmm9m2QPDBBx98FrdAdNFFF11Tt0D44IMPPpC3QHzwwQcfzbdAAAAAAAAKuEA=",
          "dtype": "f8"
         },
         "xaxis": "x4",
         "y": {
          "bdata": "zViLq5ji+ED2XAJEPVX/QI+wPO7w4wJBpDJ4OkMdBkG4tLOGlVYJQcw279LnjwxB4LgqHzrJD0F6HbM1RoERQYXe0FvvHRNBj5/ugZi6FEGZYAyoQVcWQaMhKs7q8xdBreJH9JOQGUG3o2UaPS0bQcJkg0DmyRxByyWhZo9mHkFrc19GnAEgQfBTbtnwzyBBdjR9bEWeIUH6FIz/mWwiQYD1mpLuOiNBBNapJUMJJEGKtri4l9ckQQ6Xx0vspSVBlHfW3kB0JkEaWOVxlUInQZ449ATqEChBIhkDmD7fKEGo+RErk60pQS7aIL7neypBsrovUTxKK0E2mz7kkBgsQbx7TXfl5ixBQlxcCjq1LUHIPGudjoMuQUwdejDjUS9B6H7E4RsQMEEr70srRncwQW1f03Rw3jBBr89avppFMUHyP+IHxawxQTWwaVHvEzJBeCDxmhl7MkG6kHjkQ+IyQfwAAC5uSTNBP3GHd5iwM0GB4Q7Bwhc0QcRRlgrtfjRBB8IdVBfmNEFJMqWdQU01QYyiLOdrtDVBzhK0MJYbNkERgzt6wII2QVPzwsPq6TZBlWNKDRVRN0HY09FWP7g3QRtEWaBpHzhBXrTg6ZOGOEGgJGgzvu04QeKU73zoVDlBJQV3xhK8OUFodf4PPSM6QarlhVlnijpB7FUNo5HxOkEvxpTsu1g7QXI2HDbmvztBtaajfxAnPEH3FivJOo48QTqHshJl9TxBe/c5XI9cPUG+Z8GlucM9QQHYSO/jKj5BQ0jQOA6SPkGGuFeCOPk+Qcko38tiYD9BDJlmFY3HP0GnBHevWxdAQci8OtTwSkBB6nT++IV+QEELLcIdG7JAQSzlhUKw5UBBTp1JZ0UZQUFvVQ2M2kxBQZEN0bBvgEFBssWU1QS0QUHSfVj6medBQfQ1HB8vG0JBFe7fQ8ROQkE3pqNoWYJCQVheZ43utUJBeRYrsoPpQkGbzu7WGB1DQbuGsvutUENB3T52IEOEQ0H+9jlF2LdDQR+v/Wlt60NBQWfBjgIfREFiH4Wzl1JEQYPXSNgshkRBpY8M/cG5REE=",
          "dtype": "f8"
         },
         "yaxis": "y4"
        },
        {
         "marker": {
          "opacity": 0.5,
          "size": 5
         },
         "mode": "markers",
         "name": "rating vs pages",
         "type": "scatter",
         "x": {
          "bdata": "3QDDAOYAjgPXBYEESQLiAncM2QXqAaYC9QF6BBADxwHRAZEEXgP8AZ8CfwApAboB3wMZAwUK4gOVAQQDzADjCKMCuAGXAK0CYgFUA8kBkQdIASUB2gM5CB4F+AB3AdsBChjNAREBSgELAmIMMAdWAqMCdgb8BZMIIgXaA5APMQPXAN8BbgIAAikCKwIRAa4CwQKhA4kPWgVOAcADNA9GA/IB2wTnBkkEgwa0CJkFIAKLAr4VXw6vAowD2wOPDj0ClQKRB+oDIAFmAoQBoQPKDlgBOwQ5A/8BOAKfBHcHdgIHDPQC2QE=",
          "dtype": "i2"
         },
         "xaxis": "x5",
         "y": {
          "bdata": "FK5H4XoUEkCuR+F6FK4TQFyPwvUoXBJA4XoUrkfhEEBcj8L1KFwRQArXo3A9ChFAexSuR+F6EkAzMzMzMzMTQK5H4XoUrhBAj8L1KFyPEUBSuB6F61ESQNejcD0K1xJAmpmZmZmZEkAK16NwPQoTQAAAAAAAABJAZmZmZmZmEkCPwvUoXI8SQMP1KFyPwhFASOF6FK5HEkAAAAAAAAARQEjhehSuRxJAKVyPwvUoEUBI4XoUrkcRQGZmZmZmZhJAZmZmZmZmEUDNzMzMzMwQQPYoXI/C9RBA9ihcj8L1EUCF61G4HoURQI/C9ShcjxFA4XoUrkfhEkBxPQrXo3AQQB+F61G4HhJACtejcD0KEkC4HoXrUbgQQGZmZmZmZhJAcT0K16NwEkBmZmZmZmYRQD0K16NwPRNAMzMzMzMzEkAAAAAAAAATQOxRuB6F6xFA9ihcj8L1EUCPwvUoXI8RQOF6FK5H4RBAmpmZmZmZEUAfhetRuB4RQNejcD0K1xFAXI/C9ShcCUDhehSuR+EQQOF6FK5H4RJAH4XrUbgeEkDsUbgehesQQEjhehSuRw9AZmZmZmZmDkBSuB6F61ESQHsUrkfhehJAUrgehetRE0BSuB6F61ESQK5H4XoUrhJAuB6F61G4EED2KFyPwvUQQClcj8L1KBJASOF6FK5HEkD2KFyPwvUQQDMzMzMzMxJArkfhehSuEkC4HoXrUbgSQArXo3A9ChJAUrgehetRE0B7FK5H4XoSQDMzMzMzMxJAcT0K16NwEkAzMzMzMzMSQGZmZmZmZhFArkfhehSuEECF61G4HoUSQIXrUbgehRJAH4XrUbgeEkBcj8L1KFwSQJqZmZmZmRFA16NwPQrXEUDXo3A9CtcRQGZmZmZmZhJACtejcD0KEkC4HoXrUbgRQHsUrkfhehFAZmZmZmZmEkApXI/C9SgSQKRwPQrXoxBAZmZmZmZmEkBcj8L1KFwSQDMzMzMzMxJAFK5H4XoUEkA9CtejcD0SQEjhehSuRxJAmpmZmZmZEkAzMzMzMzMSQFK4HoXrURFA7FG4HoXrEUBcj8L1KFwRQFK4HoXrURNAmpmZmZmZDUBcj8L1KFwQQAAAAAAAABJAH4XrUbgeEUCkcD0K16MSQClcj8L1KBJAMzMzMzMzE0CF61G4HoUTQDMzMzMzMxJAw/UoXI/CEUAfhetRuB4RQNejcD0K1xFAj8L1KFyPE0A=",
          "dtype": "f8"
         },
         "yaxis": "y5"
        },
        {
         "line": {
          "color": "red"
         },
         "mode": "lines",
         "name": "Trend rating vs pages",
         "type": "scatter",
         "x": {
          "bdata": "AAAAAADAX0B88MEHH3xnQPjggw8+GG9Auuiiiy5ac0D44IMPPih3QDbZZJNN9npAdNFFF13EfkDZZJNNNkmBQPjggw8+MINAF1100UUXhUA22WSTTf6GQFVVVVVV5YhAdNFFF13MikCTTTbZZLOMQLLJJptsmo5A6KKLLrpAkED44IMPPjSRQAgffPDBJ5JAF1100UUbk0Amm2yyyQ6UQDbZZJNNApVARhdddNH1lUBVVVVVVemWQGSTTTbZ3JdAdNFFF13QmECEDz744MOZQJNNNtlkt5pAoosuuuiqm0CyySabbJ6cQMIHH3zwkZ1A0UUXXXSFnkDggw8++HifQPjggw8+NqBAAAAAAACwoEAIH3zwwSmhQA8++OCDo6FAF1100UUdokAffPDBB5eiQCabbLLJEKNALrrooouKo0A22WSTTQSkQD744IMPfqRARhdddNH3pEBNNtlkk3GlQFVVVVVV66VAXXTRRRdlpkBkk0022d6mQGyyySabWKdAdNFFF13Sp0B88MEHH0yoQIQPPvjgxahAiy666KI/qUCTTTbZZLmpQJtssskmM6pAoosuuuisqkCqqqqqqiarQLLJJptsoKtAuuiiiy4arEDCBx988JOsQMkmm2yyDa1A0UUXXXSHrUDZZJNNNgGuQOCDDz74eq5A6KKLLrr0rkDwwQcffG6vQPjggw8+6K9AAAAAAAAxsECEDz744G2wQAgffPDBqrBAiy666KLnsEAPPvjggySxQJNNNtlkYbFAF1100UWesUCbbLLJJtuxQB988MEHGLJAo4suuuhUskAmm2yyyZGyQKqqqqqqzrJALrrooosLs0CyySabbEizQDbZZJNNhbNAuuiiiy7Cs0A++OCDD/+zQMIHH3zwO7RARhdddNF4tEDJJptssrW0QE022WST8rRA0UUXXXQvtUBVVVVVVWy1QNlkk002qbVAXXTRRRfmtUDhgw8++CK2QGSTTTbZX7ZA6KKLLrqctkBssskmm9m2QPDBBx98FrdAdNFFF11Tt0D44IMPPpC3QHzwwQcfzbdAAAAAAAAKuEA=",
          "dtype": "f8"
         },
         "xaxis": "x5",
         "y": {
          "bdata": "KQhsD5BKEkA53l8nP0QSQEm0Uz/uPRJAWYpHV503EkBqYDtvTDESQHo2L4f7KhJAigwjn6okEkCa4ha3WR4SQKq4Cs8IGBJAuo7+5rcREkDKZPL+ZgsSQNo65hYWBRJA6xDaLsX+EUD75s1GdPgRQAu9wV4j8hFAG5O1dtLrEUAraamOgeURQDs/naYw3xFASxWRvt/YEUBc64TWjtIRQGzBeO49zBFAfJdsBu3FEUCMbWAenL8RQJxDVDZLuRFArBlITvqyEUC87ztmqawRQM3FL35YphFA3ZsjlgegEUDtcReutpkRQP1HC8ZlkxFADR7/3RSNEUAd9PL1w4YRQC3K5g1zgBFAPqDaJSJ6EUBOds490XMRQF5MwlWAbRFAbiK2bS9nEUB++KmF3mARQI7OnZ2NWhFAnqSRtTxUEUCveoXN600RQL9QeeWaRxFAzyZt/UlBEUDf/GAV+ToRQO/SVC2oNBFA/6hIRVcuEUAPfzxdBigRQCBVMHW1IRFAMCskjWQbEUBAARilExURQFDXC73CDhFAYK3/1HEIEUBwg/PsIAIRQIBZ5wTQ+xBAkS/bHH/1EEChBc80Lu8QQLHbwkzd6BBAwbG2ZIziEEDRh6p8O9wQQOFdnpTq1RBA8TOSrJnPEEACCobESMkQQBLgedz3whBAIrZt9Ka8EEAyjGEMVrYQQEJiVSQFsBBAUjhJPLSpEEBiDj1UY6MQQHLkMGwSnRBAg7okhMGWEECTkBiccJAQQKNmDLQfihBAszwAzM6DEEDDEvTjfX0QQNPo5/ssdxBA477bE9xwEED0lM8ri2oQQARrw0M6ZBBAFEG3W+ldEEAkF6tzmFcQQDTtnotHURBARMOSo/ZKEEBUmYa7pUQQQGRvetNUPhBAdUVu6wM4EECFG2IDszEQQJXxVRtiKxBApcdJMxElEEC1nT1LwB4QQMVzMWNvGBBA1kklex4SEEDmHxmTzQsQQPb1DKt8BRBADJgBhlf+D0AsROm1tfEPQEzw0OUT5Q9AbZy4FXLYD0CNSKBF0MsPQK30h3Uuvw9AzqBvpYyyD0A=",
          "dtype": "f8"
         },
         "yaxis": "y5"
        },
        {
         "marker": {
          "opacity": 0.5,
          "size": 5
         },
         "mode": "markers",
         "name": "followers vs pages",
         "type": "scatter",
         "x": {
          "bdata": "3QDDAOYAjgPXBYEESQLiAncM2QUGA+oBpgL1AXoEEAPHAdEBkQReA/wBnwJ/ACkBugHfAxkDBQriA5UBBAPMAOMIowK4AZcArQJiAVQDyQGRB0gBJQHaAzkIHgX4AHcB2wEKGM0BEQFKAQsCYgwwB1YCowJ2BvwFkwgiBdoDkA8xA9cA3wFuAgACKQIrAhEBrgLBAqEDiQ9aBU4BwANGA/IB2wTnBkkEgwaZBSACiwK+FV8OrwKMA9sDjw49ApUCkQfqAyABZgKEAaEDyg5YATsEOQP/ATgCnwR3B3YGdgIHDPQC2QE=",
          "dtype": "i2"
         },
         "xaxis": "x6",
         "y": {
          "bdata": "5gJ3AccBzwGQAdgCCgsTAd4AaQBJAPQCDgasB3sAYABTACIAlQDGBBAIYQCOAGMEowBEAxYATQUGCAgGrQAdAN0NoAzHAkACHw2vALEDCQGxFCIBnACzB8kRHQSpAYED8ADjAHMDlgbEANMDLwGZACMRsgBbAEoAFQBLBYIBKAOECN4B4QCZAJ8AYAEiAIAUJRYkFN8abydIBzkTlw8GE+sKAxdwFaENjxq3A3sHVgjHB5kPzg6QJ/4TnwrIB+gPmA/wBf0QPBAuAAkBYwFiAO0A5ACMBZwAagKZALwATwFDE1cRJQA=",
          "dtype": "i2"
         },
         "yaxis": "y6"
        },
        {
         "line": {
          "color": "red"
         },
         "mode": "lines",
         "name": "Trend followers vs pages",
         "type": "scatter",
         "x": {
          "bdata": "AAAAAADAX0B88MEHH3xnQPjggw8+GG9Auuiiiy5ac0D44IMPPih3QDbZZJNN9npAdNFFF13EfkDZZJNNNkmBQPjggw8+MINAF1100UUXhUA22WSTTf6GQFVVVVVV5YhAdNFFF13MikCTTTbZZLOMQLLJJptsmo5A6KKLLrpAkED44IMPPjSRQAgffPDBJ5JAF1100UUbk0Amm2yyyQ6UQDbZZJNNApVARhdddNH1lUBVVVVVVemWQGSTTTbZ3JdAdNFFF13QmECEDz744MOZQJNNNtlkt5pAoosuuuiqm0CyySabbJ6cQMIHH3zwkZ1A0UUXXXSFnkDggw8++HifQPjggw8+NqBAAAAAAACwoEAIH3zwwSmhQA8++OCDo6FAF1100UUdokAffPDBB5eiQCabbLLJEKNALrrooouKo0A22WSTTQSkQD744IMPfqRARhdddNH3pEBNNtlkk3GlQFVVVVVV66VAXXTRRRdlpkBkk0022d6mQGyyySabWKdAdNFFF13Sp0B88MEHH0yoQIQPPvjgxahAiy666KI/qUCTTTbZZLmpQJtssskmM6pAoosuuuisqkCqqqqqqiarQLLJJptsoKtAuuiiiy4arEDCBx988JOsQMkmm2yyDa1A0UUXXXSHrUDZZJNNNgGuQOCDDz74eq5A6KKLLrr0rkDwwQcffG6vQPjggw8+6K9AAAAAAAAxsECEDz744G2wQAgffPDBqrBAiy666KLnsEAPPvjggySxQJNNNtlkYbFAF1100UWesUCbbLLJJtuxQB988MEHGLJAo4suuuhUskAmm2yyyZGyQKqqqqqqzrJALrrooosLs0CyySabbEizQDbZZJNNhbNAuuiiiy7Cs0A++OCDD/+zQMIHH3zwO7RARhdddNF4tEDJJptssrW0QE022WST8rRA0UUXXXQvtUBVVVVVVWy1QNlkk002qbVAXXTRRRfmtUDhgw8++CK2QGSTTTbZX7ZA6KKLLrqctkBssskmm9m2QPDBBx98FrdAdNFFF11Tt0D44IMPPpC3QHzwwQcfzbdAAAAAAAAKuEA=",
          "dtype": "f8"
         },
         "xaxis": "x6",
         "y": {
          "bdata": "uonSq/wMl0Bj/vLlsliXQA1zEyBppJdAtuczWh/wl0BgXFSU1TuYQArRdM6Lh5hAs0WVCELTmEBdurVC+B6ZQAYv1nyuaplAsKP2tmS2mUBZGBfxGgKaQAONNyvRTZpArAFYZYeZmkBWdnifPeWaQADrmNnzMJtAqV+5E6p8m0BT1NlNYMibQPxI+ocWFJxApr0awsxfnEBPMjv8gqucQPmmWzY595xAoxt8cO9CnUBMkJyqpY6dQPYEveRb2p1An3ndHhImnkBJ7v1YyHGeQPJiHpN+vZ5AnNc+zTQJn0BGTF8H61SfQO/Af0GhoJ9AmDWge1fsn0AhVeDaBhygQHaP8PfhQaBAy8kAFb1noEAgBBEymI2gQHQ+IU9zs6BAyXgxbE7ZoEAes0GJKf+gQHLtUaYEJaFAxydiw99KoUAcYnLgunChQHGcgv2VlqFAxtaSGnG8oUAaEaM3TOKhQG9Ls1QnCKJAxIXDcQIuokAYwNOO3VOiQG7646u4eaJAwjT0yJOfokAXbwTmbsWiQGypFANK66JAwOMkICURo0AWHjU9ADejQGpYRVrbXKNAv5JVd7aCo0AUzWWUkaijQGgHdrFszqNAvkGGzkf0o0ASfJbrIhqkQGe2pgj+P6RAvPC2JdllpEAQK8dCtIukQGVl11+PsaRAup/nfGrXpEAP2veZRf2kQGQUCLcgI6VAuE4Y1PtIpUAOiSjx1m6lQGLDOA6ylKVAtv1IK426pUAMOFlIaOClQGByaWVDBqZAtax5gh4spkAK54mf+VGmQF8hmrzUd6ZAtFuq2a+dpkAIlrr2isOmQFzQyhNm6aZAsgrbMEEPp0AGRetNHDWnQFx/+2r3WqdAsLkLiNKAp0AF9BulraanQFouLMKIzKdAr2g832Pyp0ADo0z8PhioQFjdXBkaPqhArBdtNvVjqEACUn1T0ImoQFaMjXCrr6hArMadjYbVqEAAAa6qYfuoQFQ7vsc8IalAqXXO5BdHqUD+r94B82ypQFPq7h7OkqlAqCT/O6m4qUD8Xg9ZhN6pQFKZH3ZfBKpAptMvkzoqqkA=",
          "dtype": "f8"
         },
         "yaxis": "y6"
        }
       ],
       "layout": {
        "annotations": [
         {
          "font": {
           "size": 16
          },
          "showarrow": false,
          "text": "views vs chapters",
          "x": 0.13333333333333333,
          "xanchor": "center",
          "xref": "paper",
          "y": 1,
          "yanchor": "bottom",
          "yref": "paper"
         },
         {
          "font": {
           "size": 16
          },
          "showarrow": false,
          "text": "rating vs chapters",
          "x": 0.5,
          "xanchor": "center",
          "xref": "paper",
          "y": 1,
          "yanchor": "bottom",
          "yref": "paper"
         },
         {
          "font": {
           "size": 16
          },
          "showarrow": false,
          "text": "followers vs chapters",
          "x": 0.8666666666666667,
          "xanchor": "center",
          "xref": "paper",
          "y": 1,
          "yanchor": "bottom",
          "yref": "paper"
         },
         {
          "font": {
           "size": 16
          },
          "showarrow": false,
          "text": "views vs pages",
          "x": 0.13333333333333333,
          "xanchor": "center",
          "xref": "paper",
          "y": 0.425,
          "yanchor": "bottom",
          "yref": "paper"
         },
         {
          "font": {
           "size": 16
          },
          "showarrow": false,
          "text": "rating vs pages",
          "x": 0.5,
          "xanchor": "center",
          "xref": "paper",
          "y": 0.425,
          "yanchor": "bottom",
          "yref": "paper"
         },
         {
          "font": {
           "size": 16
          },
          "showarrow": false,
          "text": "followers vs pages",
          "x": 0.8666666666666667,
          "xanchor": "center",
          "xref": "paper",
          "y": 0.425,
          "yanchor": "bottom",
          "yref": "paper"
         }
        ],
        "height": 800,
        "showlegend": false,
        "template": {
         "data": {
          "bar": [
           {
            "error_x": {
             "color": "#2a3f5f"
            },
            "error_y": {
             "color": "#2a3f5f"
            },
            "marker": {
             "line": {
              "color": "#E5ECF6",
              "width": 0.5
             },
             "pattern": {
              "fillmode": "overlay",
              "size": 10,
              "solidity": 0.2
             }
            },
            "type": "bar"
           }
          ],
          "barpolar": [
           {
            "marker": {
             "line": {
              "color": "#E5ECF6",
              "width": 0.5
             },
             "pattern": {
              "fillmode": "overlay",
              "size": 10,
              "solidity": 0.2
             }
            },
            "type": "barpolar"
           }
          ],
          "carpet": [
           {
            "aaxis": {
             "endlinecolor": "#2a3f5f",
             "gridcolor": "white",
             "linecolor": "white",
             "minorgridcolor": "white",
             "startlinecolor": "#2a3f5f"
            },
            "baxis": {
             "endlinecolor": "#2a3f5f",
             "gridcolor": "white",
             "linecolor": "white",
             "minorgridcolor": "white",
             "startlinecolor": "#2a3f5f"
            },
            "type": "carpet"
           }
          ],
          "choropleth": [
           {
            "colorbar": {
             "outlinewidth": 0,
             "ticks": ""
            },
            "type": "choropleth"
           }
          ],
          "contour": [
           {
            "colorbar": {
             "outlinewidth": 0,
             "ticks": ""
            },
            "colorscale": [
             [
              0,
              "#0d0887"
             ],
             [
              0.1111111111111111,
              "#46039f"
             ],
             [
              0.2222222222222222,
              "#7201a8"
             ],
             [
              0.3333333333333333,
              "#9c179e"
             ],
             [
              0.4444444444444444,
              "#bd3786"
             ],
             [
              0.5555555555555556,
              "#d8576b"
             ],
             [
              0.6666666666666666,
              "#ed7953"
             ],
             [
              0.7777777777777778,
              "#fb9f3a"
             ],
             [
              0.8888888888888888,
              "#fdca26"
             ],
             [
              1,
              "#f0f921"
             ]
            ],
            "type": "contour"
           }
          ],
          "contourcarpet": [
           {
            "colorbar": {
             "outlinewidth": 0,
             "ticks": ""
            },
            "type": "contourcarpet"
           }
          ],
          "heatmap": [
           {
            "colorbar": {
             "outlinewidth": 0,
             "ticks": ""
            },
            "colorscale": [
             [
              0,
              "#0d0887"
             ],
             [
              0.1111111111111111,
              "#46039f"
             ],
             [
              0.2222222222222222,
              "#7201a8"
             ],
             [
              0.3333333333333333,
              "#9c179e"
             ],
             [
              0.4444444444444444,
              "#bd3786"
             ],
             [
              0.5555555555555556,
              "#d8576b"
             ],
             [
              0.6666666666666666,
              "#ed7953"
             ],
             [
              0.7777777777777778,
              "#fb9f3a"
             ],
             [
              0.8888888888888888,
              "#fdca26"
             ],
             [
              1,
              "#f0f921"
             ]
            ],
            "type": "heatmap"
           }
          ],
          "histogram": [
           {
            "marker": {
             "pattern": {
              "fillmode": "overlay",
              "size": 10,
              "solidity": 0.2
             }
            },
            "type": "histogram"
           }
          ],
          "histogram2d": [
           {
            "colorbar": {
             "outlinewidth": 0,
             "ticks": ""
            },
            "colorscale": [
             [
              0,
              "#0d0887"
             ],
             [
              0.1111111111111111,
              "#46039f"
             ],
             [
              0.2222222222222222,
              "#7201a8"
             ],
             [
              0.3333333333333333,
              "#9c179e"
             ],
             [
              0.4444444444444444,
              "#bd3786"
             ],
             [
              0.5555555555555556,
              "#d8576b"
             ],
             [
              0.6666666666666666,
              "#ed7953"
             ],
             [
              0.7777777777777778,
              "#fb9f3a"
             ],
             [
              0.8888888888888888,
              "#fdca26"
             ],
             [
              1,
              "#f0f921"
             ]
            ],
            "type": "histogram2d"
           }
          ],
          "histogram2dcontour": [
           {
            "colorbar": {
             "outlinewidth": 0,
             "ticks": ""
            },
            "colorscale": [
             [
              0,
              "#0d0887"
             ],
             [
              0.1111111111111111,
              "#46039f"
             ],
             [
              0.2222222222222222,
              "#7201a8"
             ],
             [
              0.3333333333333333,
              "#9c179e"
             ],
             [
              0.4444444444444444,
              "#bd3786"
             ],
             [
              0.5555555555555556,
              "#d8576b"
             ],
             [
              0.6666666666666666,
              "#ed7953"
             ],
             [
              0.7777777777777778,
              "#fb9f3a"
             ],
             [
              0.8888888888888888,
              "#fdca26"
             ],
             [
              1,
              "#f0f921"
             ]
            ],
            "type": "histogram2dcontour"
           }
          ],
          "mesh3d": [
           {
            "colorbar": {
             "outlinewidth": 0,
             "ticks": ""
            },
            "type": "mesh3d"
           }
          ],
          "parcoords": [
           {
            "line": {
             "colorbar": {
              "outlinewidth": 0,
              "ticks": ""
             }
            },
            "type": "parcoords"
           }
          ],
          "pie": [
           {
            "automargin": true,
            "type": "pie"
           }
          ],
          "scatter": [
           {
            "fillpattern": {
             "fillmode": "overlay",
             "size": 10,
             "solidity": 0.2
            },
            "type": "scatter"
           }
          ],
          "scatter3d": [
           {
            "line": {
             "colorbar": {
              "outlinewidth": 0,
              "ticks": ""
             }
            },
            "marker": {
             "colorbar": {
              "outlinewidth": 0,
              "ticks": ""
             }
            },
            "type": "scatter3d"
           }
          ],
          "scattercarpet": [
           {
            "marker": {
             "colorbar": {
              "outlinewidth": 0,
              "ticks": ""
             }
            },
            "type": "scattercarpet"
           }
          ],
          "scattergeo": [
           {
            "marker": {
             "colorbar": {
              "outlinewidth": 0,
              "ticks": ""
             }
            },
            "type": "scattergeo"
           }
          ],
          "scattergl": [
           {
            "marker": {
             "colorbar": {
              "outlinewidth": 0,
              "ticks": ""
             }
            },
            "type": "scattergl"
           }
          ],
          "scattermap": [
           {
            "marker": {
             "colorbar": {
              "outlinewidth": 0,
              "ticks": ""
             }
            },
            "type": "scattermap"
           }
          ],
          "scattermapbox": [
           {
            "marker": {
             "colorbar": {
              "outlinewidth": 0,
              "ticks": ""
             }
            },
            "type": "scattermapbox"
           }
          ],
          "scatterpolar": [
           {
            "marker": {
             "colorbar": {
              "outlinewidth": 0,
              "ticks": ""
             }
            },
            "type": "scatterpolar"
           }
          ],
          "scatterpolargl": [
           {
            "marker": {
             "colorbar": {
              "outlinewidth": 0,
              "ticks": ""
             }
            },
            "type": "scatterpolargl"
           }
          ],
          "scatterternary": [
           {
            "marker": {
             "colorbar": {
              "outlinewidth": 0,
              "ticks": ""
             }
            },
            "type": "scatterternary"
           }
          ],
          "surface": [
           {
            "colorbar": {
             "outlinewidth": 0,
             "ticks": ""
            },
            "colorscale": [
             [
              0,
              "#0d0887"
             ],
             [
              0.1111111111111111,
              "#46039f"
             ],
             [
              0.2222222222222222,
              "#7201a8"
             ],
             [
              0.3333333333333333,
              "#9c179e"
             ],
             [
              0.4444444444444444,
              "#bd3786"
             ],
             [
              0.5555555555555556,
              "#d8576b"
             ],
             [
              0.6666666666666666,
              "#ed7953"
             ],
             [
              0.7777777777777778,
              "#fb9f3a"
             ],
             [
              0.8888888888888888,
              "#fdca26"
             ],
             [
              1,
              "#f0f921"
             ]
            ],
            "type": "surface"
           }
          ],
          "table": [
           {
            "cells": {
             "fill": {
              "color": "#EBF0F8"
             },
             "line": {
              "color": "white"
             }
            },
            "header": {
             "fill": {
              "color": "#C8D4E3"
             },
             "line": {
              "color": "white"
             }
            },
            "type": "table"
           }
          ]
         },
         "layout": {
          "annotationdefaults": {
           "arrowcolor": "#2a3f5f",
           "arrowhead": 0,
           "arrowwidth": 1
          },
          "autotypenumbers": "strict",
          "coloraxis": {
           "colorbar": {
            "outlinewidth": 0,
            "ticks": ""
           }
          },
          "colorscale": {
           "diverging": [
            [
             0,
             "#8e0152"
            ],
            [
             0.1,
             "#c51b7d"
            ],
            [
             0.2,
             "#de77ae"
            ],
            [
             0.3,
             "#f1b6da"
            ],
            [
             0.4,
             "#fde0ef"
            ],
            [
             0.5,
             "#f7f7f7"
            ],
            [
             0.6,
             "#e6f5d0"
            ],
            [
             0.7,
             "#b8e186"
            ],
            [
             0.8,
             "#7fbc41"
            ],
            [
             0.9,
             "#4d9221"
            ],
            [
             1,
             "#276419"
            ]
           ],
           "sequential": [
            [
             0,
             "#0d0887"
            ],
            [
             0.1111111111111111,
             "#46039f"
            ],
            [
             0.2222222222222222,
             "#7201a8"
            ],
            [
             0.3333333333333333,
             "#9c179e"
            ],
            [
             0.4444444444444444,
             "#bd3786"
            ],
            [
             0.5555555555555556,
             "#d8576b"
            ],
            [
             0.6666666666666666,
             "#ed7953"
            ],
            [
             0.7777777777777778,
             "#fb9f3a"
            ],
            [
             0.8888888888888888,
             "#fdca26"
            ],
            [
             1,
             "#f0f921"
            ]
           ],
           "sequentialminus": [
            [
             0,
             "#0d0887"
            ],
            [
             0.1111111111111111,
             "#46039f"
            ],
            [
             0.2222222222222222,
             "#7201a8"
            ],
            [
             0.3333333333333333,
             "#9c179e"
            ],
            [
             0.4444444444444444,
             "#bd3786"
            ],
            [
             0.5555555555555556,
             "#d8576b"
            ],
            [
             0.6666666666666666,
             "#ed7953"
            ],
            [
             0.7777777777777778,
             "#fb9f3a"
            ],
            [
             0.8888888888888888,
             "#fdca26"
            ],
            [
             1,
             "#f0f921"
            ]
           ]
          },
          "colorway": [
           "#636efa",
           "#EF553B",
           "#00cc96",
           "#ab63fa",
           "#FFA15A",
           "#19d3f3",
           "#FF6692",
           "#B6E880",
           "#FF97FF",
           "#FECB52"
          ],
          "font": {
           "color": "#2a3f5f"
          },
          "geo": {
           "bgcolor": "white",
           "lakecolor": "white",
           "landcolor": "#E5ECF6",
           "showlakes": true,
           "showland": true,
           "subunitcolor": "white"
          },
          "hoverlabel": {
           "align": "left"
          },
          "hovermode": "closest",
          "mapbox": {
           "style": "light"
          },
          "paper_bgcolor": "white",
          "plot_bgcolor": "#E5ECF6",
          "polar": {
           "angularaxis": {
            "gridcolor": "white",
            "linecolor": "white",
            "ticks": ""
           },
           "bgcolor": "#E5ECF6",
           "radialaxis": {
            "gridcolor": "white",
            "linecolor": "white",
            "ticks": ""
           }
          },
          "scene": {
           "xaxis": {
            "backgroundcolor": "#E5ECF6",
            "gridcolor": "white",
            "gridwidth": 2,
            "linecolor": "white",
            "showbackground": true,
            "ticks": "",
            "zerolinecolor": "white"
           },
           "yaxis": {
            "backgroundcolor": "#E5ECF6",
            "gridcolor": "white",
            "gridwidth": 2,
            "linecolor": "white",
            "showbackground": true,
            "ticks": "",
            "zerolinecolor": "white"
           },
           "zaxis": {
            "backgroundcolor": "#E5ECF6",
            "gridcolor": "white",
            "gridwidth": 2,
            "linecolor": "white",
            "showbackground": true,
            "ticks": "",
            "zerolinecolor": "white"
           }
          },
          "shapedefaults": {
           "line": {
            "color": "#2a3f5f"
           }
          },
          "ternary": {
           "aaxis": {
            "gridcolor": "white",
            "linecolor": "white",
            "ticks": ""
           },
           "baxis": {
            "gridcolor": "white",
            "linecolor": "white",
            "ticks": ""
           },
           "bgcolor": "#E5ECF6",
           "caxis": {
            "gridcolor": "white",
            "linecolor": "white",
            "ticks": ""
           }
          },
          "title": {
           "x": 0.05
          },
          "xaxis": {
           "automargin": true,
           "gridcolor": "white",
           "linecolor": "white",
           "ticks": "",
           "title": {
            "standoff": 15
           },
           "zerolinecolor": "white",
           "zerolinewidth": 2
          },
          "yaxis": {
           "automargin": true,
           "gridcolor": "white",
           "linecolor": "white",
           "ticks": "",
           "title": {
            "standoff": 15
           },
           "zerolinecolor": "white",
           "zerolinewidth": 2
          }
         }
        },
        "title": {
         "text": "Relationship between Story Length and Performance Metrics"
        },
        "xaxis": {
         "anchor": "y",
         "domain": [
          0,
          0.26666666666666666
         ],
         "title": {
          "text": "chapters"
         }
        },
        "xaxis2": {
         "anchor": "y2",
         "domain": [
          0.3666666666666667,
          0.6333333333333333
         ],
         "title": {
          "text": "chapters"
         }
        },
        "xaxis3": {
         "anchor": "y3",
         "domain": [
          0.7333333333333334,
          1
         ],
         "title": {
          "text": "chapters"
         }
        },
        "xaxis4": {
         "anchor": "y4",
         "domain": [
          0,
          0.26666666666666666
         ],
         "title": {
          "text": "pages"
         }
        },
        "xaxis5": {
         "anchor": "y5",
         "domain": [
          0.3666666666666667,
          0.6333333333333333
         ],
         "title": {
          "text": "pages"
         }
        },
        "xaxis6": {
         "anchor": "y6",
         "domain": [
          0.7333333333333334,
          1
         ],
         "title": {
          "text": "pages"
         }
        },
        "yaxis": {
         "anchor": "x",
         "domain": [
          0.575,
          1
         ],
         "title": {
          "text": "views"
         }
        },
        "yaxis2": {
         "anchor": "x2",
         "domain": [
          0.575,
          1
         ],
         "title": {
          "text": "rating"
         }
        },
        "yaxis3": {
         "anchor": "x3",
         "domain": [
          0.575,
          1
         ],
         "title": {
          "text": "followers"
         }
        },
        "yaxis4": {
         "anchor": "x4",
         "domain": [
          0,
          0.425
         ],
         "title": {
          "text": "views"
         }
        },
        "yaxis5": {
         "anchor": "x5",
         "domain": [
          0,
          0.425
         ],
         "title": {
          "text": "rating"
         }
        },
        "yaxis6": {
         "anchor": "x6",
         "domain": [
          0,
          0.425
         ],
         "title": {
          "text": "followers"
         }
        }
       }
      }
     },
     "metadata": {},
     "output_type": "display_data"
    },
    {
     "name": "stderr",
     "output_type": "stream",
     "text": [
      "C:\\Users\\swapn\\AppData\\Local\\Temp\\ipykernel_13204\\2468123423.py:64: FutureWarning:\n",
      "\n",
      "The default of observed=False is deprecated and will be changed to True in a future version of pandas. Pass observed=False to retain current behavior or observed=True to adopt the future default and silence this warning.\n",
      "\n",
      "C:\\Users\\swapn\\AppData\\Local\\Temp\\ipykernel_13204\\2468123423.py:67: FutureWarning:\n",
      "\n",
      "The default of observed=False is deprecated and will be changed to True in a future version of pandas. Pass observed=False to retain current behavior or observed=True to adopt the future default and silence this warning.\n",
      "\n"
     ]
    },
    {
     "data": {
      "application/vnd.plotly.v1+json": {
       "config": {
        "plotlyServerURL": "https://plot.ly"
       },
       "data": [
        {
         "hovertemplate": "%{x}<br>%{y:,.2f} views<extra></extra>",
         "name": "views",
         "text": {
          "bdata": "AAAAAIA480A9CtejNPgBQc3MzMyOsQFBMzMzM6HPEEEAAACA0WglQfYoXI/aGxRB4XoUroldEUEAAACAcvksQQAAAEAVwDJBAAAAgEQGSUE=",
          "dtype": "f8"
         },
         "textposition": "auto",
         "type": "bar",
         "x": [
          "Bucket 1<br>(15.0 to 48.0)",
          "Bucket 2<br>(50.0 to 59.0)",
          "Bucket 3<br>(62.0 to 71.0)",
          "Bucket 4<br>(72.0 to 80.0)",
          "Bucket 5<br>(82.0 to 105.0)",
          "Bucket 6<br>(110.0 to 148.0)",
          "Bucket 7<br>(150.0 to 163.0)",
          "Bucket 8<br>(164.0 to 217.0)",
          "Bucket 9<br>(225.0 to 303.0)",
          "Bucket 10<br>(308.0 to 999.0)"
         ],
         "y": {
          "bdata": "AAAAAIA480CrqqqqNPgBQcVO7MSOsQFBMzMzM6HPEEEAAACA0WglQbrooovaGxRBq6qqqoldEUEAAACAcvksQQAAAEAVwDJBAAAAgEQGSUE=",
          "dtype": "f8"
         }
        }
       ],
       "layout": {
        "height": 500,
        "margin": {
         "b": 80
        },
        "template": {
         "data": {
          "bar": [
           {
            "error_x": {
             "color": "#2a3f5f"
            },
            "error_y": {
             "color": "#2a3f5f"
            },
            "marker": {
             "line": {
              "color": "#E5ECF6",
              "width": 0.5
             },
             "pattern": {
              "fillmode": "overlay",
              "size": 10,
              "solidity": 0.2
             }
            },
            "type": "bar"
           }
          ],
          "barpolar": [
           {
            "marker": {
             "line": {
              "color": "#E5ECF6",
              "width": 0.5
             },
             "pattern": {
              "fillmode": "overlay",
              "size": 10,
              "solidity": 0.2
             }
            },
            "type": "barpolar"
           }
          ],
          "carpet": [
           {
            "aaxis": {
             "endlinecolor": "#2a3f5f",
             "gridcolor": "white",
             "linecolor": "white",
             "minorgridcolor": "white",
             "startlinecolor": "#2a3f5f"
            },
            "baxis": {
             "endlinecolor": "#2a3f5f",
             "gridcolor": "white",
             "linecolor": "white",
             "minorgridcolor": "white",
             "startlinecolor": "#2a3f5f"
            },
            "type": "carpet"
           }
          ],
          "choropleth": [
           {
            "colorbar": {
             "outlinewidth": 0,
             "ticks": ""
            },
            "type": "choropleth"
           }
          ],
          "contour": [
           {
            "colorbar": {
             "outlinewidth": 0,
             "ticks": ""
            },
            "colorscale": [
             [
              0,
              "#0d0887"
             ],
             [
              0.1111111111111111,
              "#46039f"
             ],
             [
              0.2222222222222222,
              "#7201a8"
             ],
             [
              0.3333333333333333,
              "#9c179e"
             ],
             [
              0.4444444444444444,
              "#bd3786"
             ],
             [
              0.5555555555555556,
              "#d8576b"
             ],
             [
              0.6666666666666666,
              "#ed7953"
             ],
             [
              0.7777777777777778,
              "#fb9f3a"
             ],
             [
              0.8888888888888888,
              "#fdca26"
             ],
             [
              1,
              "#f0f921"
             ]
            ],
            "type": "contour"
           }
          ],
          "contourcarpet": [
           {
            "colorbar": {
             "outlinewidth": 0,
             "ticks": ""
            },
            "type": "contourcarpet"
           }
          ],
          "heatmap": [
           {
            "colorbar": {
             "outlinewidth": 0,
             "ticks": ""
            },
            "colorscale": [
             [
              0,
              "#0d0887"
             ],
             [
              0.1111111111111111,
              "#46039f"
             ],
             [
              0.2222222222222222,
              "#7201a8"
             ],
             [
              0.3333333333333333,
              "#9c179e"
             ],
             [
              0.4444444444444444,
              "#bd3786"
             ],
             [
              0.5555555555555556,
              "#d8576b"
             ],
             [
              0.6666666666666666,
              "#ed7953"
             ],
             [
              0.7777777777777778,
              "#fb9f3a"
             ],
             [
              0.8888888888888888,
              "#fdca26"
             ],
             [
              1,
              "#f0f921"
             ]
            ],
            "type": "heatmap"
           }
          ],
          "histogram": [
           {
            "marker": {
             "pattern": {
              "fillmode": "overlay",
              "size": 10,
              "solidity": 0.2
             }
            },
            "type": "histogram"
           }
          ],
          "histogram2d": [
           {
            "colorbar": {
             "outlinewidth": 0,
             "ticks": ""
            },
            "colorscale": [
             [
              0,
              "#0d0887"
             ],
             [
              0.1111111111111111,
              "#46039f"
             ],
             [
              0.2222222222222222,
              "#7201a8"
             ],
             [
              0.3333333333333333,
              "#9c179e"
             ],
             [
              0.4444444444444444,
              "#bd3786"
             ],
             [
              0.5555555555555556,
              "#d8576b"
             ],
             [
              0.6666666666666666,
              "#ed7953"
             ],
             [
              0.7777777777777778,
              "#fb9f3a"
             ],
             [
              0.8888888888888888,
              "#fdca26"
             ],
             [
              1,
              "#f0f921"
             ]
            ],
            "type": "histogram2d"
           }
          ],
          "histogram2dcontour": [
           {
            "colorbar": {
             "outlinewidth": 0,
             "ticks": ""
            },
            "colorscale": [
             [
              0,
              "#0d0887"
             ],
             [
              0.1111111111111111,
              "#46039f"
             ],
             [
              0.2222222222222222,
              "#7201a8"
             ],
             [
              0.3333333333333333,
              "#9c179e"
             ],
             [
              0.4444444444444444,
              "#bd3786"
             ],
             [
              0.5555555555555556,
              "#d8576b"
             ],
             [
              0.6666666666666666,
              "#ed7953"
             ],
             [
              0.7777777777777778,
              "#fb9f3a"
             ],
             [
              0.8888888888888888,
              "#fdca26"
             ],
             [
              1,
              "#f0f921"
             ]
            ],
            "type": "histogram2dcontour"
           }
          ],
          "mesh3d": [
           {
            "colorbar": {
             "outlinewidth": 0,
             "ticks": ""
            },
            "type": "mesh3d"
           }
          ],
          "parcoords": [
           {
            "line": {
             "colorbar": {
              "outlinewidth": 0,
              "ticks": ""
             }
            },
            "type": "parcoords"
           }
          ],
          "pie": [
           {
            "automargin": true,
            "type": "pie"
           }
          ],
          "scatter": [
           {
            "fillpattern": {
             "fillmode": "overlay",
             "size": 10,
             "solidity": 0.2
            },
            "type": "scatter"
           }
          ],
          "scatter3d": [
           {
            "line": {
             "colorbar": {
              "outlinewidth": 0,
              "ticks": ""
             }
            },
            "marker": {
             "colorbar": {
              "outlinewidth": 0,
              "ticks": ""
             }
            },
            "type": "scatter3d"
           }
          ],
          "scattercarpet": [
           {
            "marker": {
             "colorbar": {
              "outlinewidth": 0,
              "ticks": ""
             }
            },
            "type": "scattercarpet"
           }
          ],
          "scattergeo": [
           {
            "marker": {
             "colorbar": {
              "outlinewidth": 0,
              "ticks": ""
             }
            },
            "type": "scattergeo"
           }
          ],
          "scattergl": [
           {
            "marker": {
             "colorbar": {
              "outlinewidth": 0,
              "ticks": ""
             }
            },
            "type": "scattergl"
           }
          ],
          "scattermap": [
           {
            "marker": {
             "colorbar": {
              "outlinewidth": 0,
              "ticks": ""
             }
            },
            "type": "scattermap"
           }
          ],
          "scattermapbox": [
           {
            "marker": {
             "colorbar": {
              "outlinewidth": 0,
              "ticks": ""
             }
            },
            "type": "scattermapbox"
           }
          ],
          "scatterpolar": [
           {
            "marker": {
             "colorbar": {
              "outlinewidth": 0,
              "ticks": ""
             }
            },
            "type": "scatterpolar"
           }
          ],
          "scatterpolargl": [
           {
            "marker": {
             "colorbar": {
              "outlinewidth": 0,
              "ticks": ""
             }
            },
            "type": "scatterpolargl"
           }
          ],
          "scatterternary": [
           {
            "marker": {
             "colorbar": {
              "outlinewidth": 0,
              "ticks": ""
             }
            },
            "type": "scatterternary"
           }
          ],
          "surface": [
           {
            "colorbar": {
             "outlinewidth": 0,
             "ticks": ""
            },
            "colorscale": [
             [
              0,
              "#0d0887"
             ],
             [
              0.1111111111111111,
              "#46039f"
             ],
             [
              0.2222222222222222,
              "#7201a8"
             ],
             [
              0.3333333333333333,
              "#9c179e"
             ],
             [
              0.4444444444444444,
              "#bd3786"
             ],
             [
              0.5555555555555556,
              "#d8576b"
             ],
             [
              0.6666666666666666,
              "#ed7953"
             ],
             [
              0.7777777777777778,
              "#fb9f3a"
             ],
             [
              0.8888888888888888,
              "#fdca26"
             ],
             [
              1,
              "#f0f921"
             ]
            ],
            "type": "surface"
           }
          ],
          "table": [
           {
            "cells": {
             "fill": {
              "color": "#EBF0F8"
             },
             "line": {
              "color": "white"
             }
            },
            "header": {
             "fill": {
              "color": "#C8D4E3"
             },
             "line": {
              "color": "white"
             }
            },
            "type": "table"
           }
          ]
         },
         "layout": {
          "annotationdefaults": {
           "arrowcolor": "#2a3f5f",
           "arrowhead": 0,
           "arrowwidth": 1
          },
          "autotypenumbers": "strict",
          "coloraxis": {
           "colorbar": {
            "outlinewidth": 0,
            "ticks": ""
           }
          },
          "colorscale": {
           "diverging": [
            [
             0,
             "#8e0152"
            ],
            [
             0.1,
             "#c51b7d"
            ],
            [
             0.2,
             "#de77ae"
            ],
            [
             0.3,
             "#f1b6da"
            ],
            [
             0.4,
             "#fde0ef"
            ],
            [
             0.5,
             "#f7f7f7"
            ],
            [
             0.6,
             "#e6f5d0"
            ],
            [
             0.7,
             "#b8e186"
            ],
            [
             0.8,
             "#7fbc41"
            ],
            [
             0.9,
             "#4d9221"
            ],
            [
             1,
             "#276419"
            ]
           ],
           "sequential": [
            [
             0,
             "#0d0887"
            ],
            [
             0.1111111111111111,
             "#46039f"
            ],
            [
             0.2222222222222222,
             "#7201a8"
            ],
            [
             0.3333333333333333,
             "#9c179e"
            ],
            [
             0.4444444444444444,
             "#bd3786"
            ],
            [
             0.5555555555555556,
             "#d8576b"
            ],
            [
             0.6666666666666666,
             "#ed7953"
            ],
            [
             0.7777777777777778,
             "#fb9f3a"
            ],
            [
             0.8888888888888888,
             "#fdca26"
            ],
            [
             1,
             "#f0f921"
            ]
           ],
           "sequentialminus": [
            [
             0,
             "#0d0887"
            ],
            [
             0.1111111111111111,
             "#46039f"
            ],
            [
             0.2222222222222222,
             "#7201a8"
            ],
            [
             0.3333333333333333,
             "#9c179e"
            ],
            [
             0.4444444444444444,
             "#bd3786"
            ],
            [
             0.5555555555555556,
             "#d8576b"
            ],
            [
             0.6666666666666666,
             "#ed7953"
            ],
            [
             0.7777777777777778,
             "#fb9f3a"
            ],
            [
             0.8888888888888888,
             "#fdca26"
            ],
            [
             1,
             "#f0f921"
            ]
           ]
          },
          "colorway": [
           "#636efa",
           "#EF553B",
           "#00cc96",
           "#ab63fa",
           "#FFA15A",
           "#19d3f3",
           "#FF6692",
           "#B6E880",
           "#FF97FF",
           "#FECB52"
          ],
          "font": {
           "color": "#2a3f5f"
          },
          "geo": {
           "bgcolor": "white",
           "lakecolor": "white",
           "landcolor": "#E5ECF6",
           "showlakes": true,
           "showland": true,
           "subunitcolor": "white"
          },
          "hoverlabel": {
           "align": "left"
          },
          "hovermode": "closest",
          "mapbox": {
           "style": "light"
          },
          "paper_bgcolor": "white",
          "plot_bgcolor": "#E5ECF6",
          "polar": {
           "angularaxis": {
            "gridcolor": "white",
            "linecolor": "white",
            "ticks": ""
           },
           "bgcolor": "#E5ECF6",
           "radialaxis": {
            "gridcolor": "white",
            "linecolor": "white",
            "ticks": ""
           }
          },
          "scene": {
           "xaxis": {
            "backgroundcolor": "#E5ECF6",
            "gridcolor": "white",
            "gridwidth": 2,
            "linecolor": "white",
            "showbackground": true,
            "ticks": "",
            "zerolinecolor": "white"
           },
           "yaxis": {
            "backgroundcolor": "#E5ECF6",
            "gridcolor": "white",
            "gridwidth": 2,
            "linecolor": "white",
            "showbackground": true,
            "ticks": "",
            "zerolinecolor": "white"
           },
           "zaxis": {
            "backgroundcolor": "#E5ECF6",
            "gridcolor": "white",
            "gridwidth": 2,
            "linecolor": "white",
            "showbackground": true,
            "ticks": "",
            "zerolinecolor": "white"
           }
          },
          "shapedefaults": {
           "line": {
            "color": "#2a3f5f"
           }
          },
          "ternary": {
           "aaxis": {
            "gridcolor": "white",
            "linecolor": "white",
            "ticks": ""
           },
           "baxis": {
            "gridcolor": "white",
            "linecolor": "white",
            "ticks": ""
           },
           "bgcolor": "#E5ECF6",
           "caxis": {
            "gridcolor": "white",
            "linecolor": "white",
            "ticks": ""
           }
          },
          "title": {
           "x": 0.05
          },
          "xaxis": {
           "automargin": true,
           "gridcolor": "white",
           "linecolor": "white",
           "ticks": "",
           "title": {
            "standoff": 15
           },
           "zerolinecolor": "white",
           "zerolinewidth": 2
          },
          "yaxis": {
           "automargin": true,
           "gridcolor": "white",
           "linecolor": "white",
           "ticks": "",
           "title": {
            "standoff": 15
           },
           "zerolinecolor": "white",
           "zerolinewidth": 2
          }
         }
        },
        "title": {
         "text": "Average Views by Chapters Buckets"
        },
        "width": 900,
        "xaxis": {
         "tickangle": -15,
         "title": {
          "text": "Chapters Buckets (Equal Sized Groups)"
         }
        },
        "yaxis": {
         "title": {
          "text": "Average Views"
         },
         "type": "log"
        }
       }
      }
     },
     "metadata": {},
     "output_type": "display_data"
    },
    {
     "data": {
      "application/vnd.plotly.v1+json": {
       "config": {
        "plotlyServerURL": "https://plot.ly"
       },
       "data": [
        {
         "hovertemplate": "%{x}<br>%{y:,.2f} rating<extra></extra>",
         "name": "rating",
         "text": {
          "bdata": "H4XrUbgeEkBcj8L1KFwSQClcj8L1KBJAAAAAAAAAEkBmZmZmZmYSQMP1KFyPwhFAH4XrUbgeEkDsUbgehesRQHsUrkfhehFAw/UoXI/CEEA=",
          "dtype": "f8"
         },
         "textposition": "auto",
         "type": "bar",
         "x": [
          "Bucket 1<br>(15.0 to 48.0)",
          "Bucket 2<br>(50.0 to 59.0)",
          "Bucket 3<br>(62.0 to 71.0)",
          "Bucket 4<br>(72.0 to 80.0)",
          "Bucket 5<br>(82.0 to 105.0)",
          "Bucket 6<br>(110.0 to 148.0)",
          "Bucket 7<br>(150.0 to 163.0)",
          "Bucket 8<br>(164.0 to 217.0)",
          "Bucket 9<br>(225.0 to 303.0)",
          "Bucket 10<br>(308.0 to 999.0)"
         ],
         "y": {
          "bdata": "XnXvkKgiEkCdNtBpA10SQClcj8L1KBJAAAAAAAAAEkAlv1jyi2USQL9h7RvWvhFAXyz5xZIfEkAwlvxiye8RQLgehetReBFAxpJfLPnFEEA=",
          "dtype": "f8"
         }
        }
       ],
       "layout": {
        "height": 500,
        "margin": {
         "b": 80
        },
        "template": {
         "data": {
          "bar": [
           {
            "error_x": {
             "color": "#2a3f5f"
            },
            "error_y": {
             "color": "#2a3f5f"
            },
            "marker": {
             "line": {
              "color": "#E5ECF6",
              "width": 0.5
             },
             "pattern": {
              "fillmode": "overlay",
              "size": 10,
              "solidity": 0.2
             }
            },
            "type": "bar"
           }
          ],
          "barpolar": [
           {
            "marker": {
             "line": {
              "color": "#E5ECF6",
              "width": 0.5
             },
             "pattern": {
              "fillmode": "overlay",
              "size": 10,
              "solidity": 0.2
             }
            },
            "type": "barpolar"
           }
          ],
          "carpet": [
           {
            "aaxis": {
             "endlinecolor": "#2a3f5f",
             "gridcolor": "white",
             "linecolor": "white",
             "minorgridcolor": "white",
             "startlinecolor": "#2a3f5f"
            },
            "baxis": {
             "endlinecolor": "#2a3f5f",
             "gridcolor": "white",
             "linecolor": "white",
             "minorgridcolor": "white",
             "startlinecolor": "#2a3f5f"
            },
            "type": "carpet"
           }
          ],
          "choropleth": [
           {
            "colorbar": {
             "outlinewidth": 0,
             "ticks": ""
            },
            "type": "choropleth"
           }
          ],
          "contour": [
           {
            "colorbar": {
             "outlinewidth": 0,
             "ticks": ""
            },
            "colorscale": [
             [
              0,
              "#0d0887"
             ],
             [
              0.1111111111111111,
              "#46039f"
             ],
             [
              0.2222222222222222,
              "#7201a8"
             ],
             [
              0.3333333333333333,
              "#9c179e"
             ],
             [
              0.4444444444444444,
              "#bd3786"
             ],
             [
              0.5555555555555556,
              "#d8576b"
             ],
             [
              0.6666666666666666,
              "#ed7953"
             ],
             [
              0.7777777777777778,
              "#fb9f3a"
             ],
             [
              0.8888888888888888,
              "#fdca26"
             ],
             [
              1,
              "#f0f921"
             ]
            ],
            "type": "contour"
           }
          ],
          "contourcarpet": [
           {
            "colorbar": {
             "outlinewidth": 0,
             "ticks": ""
            },
            "type": "contourcarpet"
           }
          ],
          "heatmap": [
           {
            "colorbar": {
             "outlinewidth": 0,
             "ticks": ""
            },
            "colorscale": [
             [
              0,
              "#0d0887"
             ],
             [
              0.1111111111111111,
              "#46039f"
             ],
             [
              0.2222222222222222,
              "#7201a8"
             ],
             [
              0.3333333333333333,
              "#9c179e"
             ],
             [
              0.4444444444444444,
              "#bd3786"
             ],
             [
              0.5555555555555556,
              "#d8576b"
             ],
             [
              0.6666666666666666,
              "#ed7953"
             ],
             [
              0.7777777777777778,
              "#fb9f3a"
             ],
             [
              0.8888888888888888,
              "#fdca26"
             ],
             [
              1,
              "#f0f921"
             ]
            ],
            "type": "heatmap"
           }
          ],
          "histogram": [
           {
            "marker": {
             "pattern": {
              "fillmode": "overlay",
              "size": 10,
              "solidity": 0.2
             }
            },
            "type": "histogram"
           }
          ],
          "histogram2d": [
           {
            "colorbar": {
             "outlinewidth": 0,
             "ticks": ""
            },
            "colorscale": [
             [
              0,
              "#0d0887"
             ],
             [
              0.1111111111111111,
              "#46039f"
             ],
             [
              0.2222222222222222,
              "#7201a8"
             ],
             [
              0.3333333333333333,
              "#9c179e"
             ],
             [
              0.4444444444444444,
              "#bd3786"
             ],
             [
              0.5555555555555556,
              "#d8576b"
             ],
             [
              0.6666666666666666,
              "#ed7953"
             ],
             [
              0.7777777777777778,
              "#fb9f3a"
             ],
             [
              0.8888888888888888,
              "#fdca26"
             ],
             [
              1,
              "#f0f921"
             ]
            ],
            "type": "histogram2d"
           }
          ],
          "histogram2dcontour": [
           {
            "colorbar": {
             "outlinewidth": 0,
             "ticks": ""
            },
            "colorscale": [
             [
              0,
              "#0d0887"
             ],
             [
              0.1111111111111111,
              "#46039f"
             ],
             [
              0.2222222222222222,
              "#7201a8"
             ],
             [
              0.3333333333333333,
              "#9c179e"
             ],
             [
              0.4444444444444444,
              "#bd3786"
             ],
             [
              0.5555555555555556,
              "#d8576b"
             ],
             [
              0.6666666666666666,
              "#ed7953"
             ],
             [
              0.7777777777777778,
              "#fb9f3a"
             ],
             [
              0.8888888888888888,
              "#fdca26"
             ],
             [
              1,
              "#f0f921"
             ]
            ],
            "type": "histogram2dcontour"
           }
          ],
          "mesh3d": [
           {
            "colorbar": {
             "outlinewidth": 0,
             "ticks": ""
            },
            "type": "mesh3d"
           }
          ],
          "parcoords": [
           {
            "line": {
             "colorbar": {
              "outlinewidth": 0,
              "ticks": ""
             }
            },
            "type": "parcoords"
           }
          ],
          "pie": [
           {
            "automargin": true,
            "type": "pie"
           }
          ],
          "scatter": [
           {
            "fillpattern": {
             "fillmode": "overlay",
             "size": 10,
             "solidity": 0.2
            },
            "type": "scatter"
           }
          ],
          "scatter3d": [
           {
            "line": {
             "colorbar": {
              "outlinewidth": 0,
              "ticks": ""
             }
            },
            "marker": {
             "colorbar": {
              "outlinewidth": 0,
              "ticks": ""
             }
            },
            "type": "scatter3d"
           }
          ],
          "scattercarpet": [
           {
            "marker": {
             "colorbar": {
              "outlinewidth": 0,
              "ticks": ""
             }
            },
            "type": "scattercarpet"
           }
          ],
          "scattergeo": [
           {
            "marker": {
             "colorbar": {
              "outlinewidth": 0,
              "ticks": ""
             }
            },
            "type": "scattergeo"
           }
          ],
          "scattergl": [
           {
            "marker": {
             "colorbar": {
              "outlinewidth": 0,
              "ticks": ""
             }
            },
            "type": "scattergl"
           }
          ],
          "scattermap": [
           {
            "marker": {
             "colorbar": {
              "outlinewidth": 0,
              "ticks": ""
             }
            },
            "type": "scattermap"
           }
          ],
          "scattermapbox": [
           {
            "marker": {
             "colorbar": {
              "outlinewidth": 0,
              "ticks": ""
             }
            },
            "type": "scattermapbox"
           }
          ],
          "scatterpolar": [
           {
            "marker": {
             "colorbar": {
              "outlinewidth": 0,
              "ticks": ""
             }
            },
            "type": "scatterpolar"
           }
          ],
          "scatterpolargl": [
           {
            "marker": {
             "colorbar": {
              "outlinewidth": 0,
              "ticks": ""
             }
            },
            "type": "scatterpolargl"
           }
          ],
          "scatterternary": [
           {
            "marker": {
             "colorbar": {
              "outlinewidth": 0,
              "ticks": ""
             }
            },
            "type": "scatterternary"
           }
          ],
          "surface": [
           {
            "colorbar": {
             "outlinewidth": 0,
             "ticks": ""
            },
            "colorscale": [
             [
              0,
              "#0d0887"
             ],
             [
              0.1111111111111111,
              "#46039f"
             ],
             [
              0.2222222222222222,
              "#7201a8"
             ],
             [
              0.3333333333333333,
              "#9c179e"
             ],
             [
              0.4444444444444444,
              "#bd3786"
             ],
             [
              0.5555555555555556,
              "#d8576b"
             ],
             [
              0.6666666666666666,
              "#ed7953"
             ],
             [
              0.7777777777777778,
              "#fb9f3a"
             ],
             [
              0.8888888888888888,
              "#fdca26"
             ],
             [
              1,
              "#f0f921"
             ]
            ],
            "type": "surface"
           }
          ],
          "table": [
           {
            "cells": {
             "fill": {
              "color": "#EBF0F8"
             },
             "line": {
              "color": "white"
             }
            },
            "header": {
             "fill": {
              "color": "#C8D4E3"
             },
             "line": {
              "color": "white"
             }
            },
            "type": "table"
           }
          ]
         },
         "layout": {
          "annotationdefaults": {
           "arrowcolor": "#2a3f5f",
           "arrowhead": 0,
           "arrowwidth": 1
          },
          "autotypenumbers": "strict",
          "coloraxis": {
           "colorbar": {
            "outlinewidth": 0,
            "ticks": ""
           }
          },
          "colorscale": {
           "diverging": [
            [
             0,
             "#8e0152"
            ],
            [
             0.1,
             "#c51b7d"
            ],
            [
             0.2,
             "#de77ae"
            ],
            [
             0.3,
             "#f1b6da"
            ],
            [
             0.4,
             "#fde0ef"
            ],
            [
             0.5,
             "#f7f7f7"
            ],
            [
             0.6,
             "#e6f5d0"
            ],
            [
             0.7,
             "#b8e186"
            ],
            [
             0.8,
             "#7fbc41"
            ],
            [
             0.9,
             "#4d9221"
            ],
            [
             1,
             "#276419"
            ]
           ],
           "sequential": [
            [
             0,
             "#0d0887"
            ],
            [
             0.1111111111111111,
             "#46039f"
            ],
            [
             0.2222222222222222,
             "#7201a8"
            ],
            [
             0.3333333333333333,
             "#9c179e"
            ],
            [
             0.4444444444444444,
             "#bd3786"
            ],
            [
             0.5555555555555556,
             "#d8576b"
            ],
            [
             0.6666666666666666,
             "#ed7953"
            ],
            [
             0.7777777777777778,
             "#fb9f3a"
            ],
            [
             0.8888888888888888,
             "#fdca26"
            ],
            [
             1,
             "#f0f921"
            ]
           ],
           "sequentialminus": [
            [
             0,
             "#0d0887"
            ],
            [
             0.1111111111111111,
             "#46039f"
            ],
            [
             0.2222222222222222,
             "#7201a8"
            ],
            [
             0.3333333333333333,
             "#9c179e"
            ],
            [
             0.4444444444444444,
             "#bd3786"
            ],
            [
             0.5555555555555556,
             "#d8576b"
            ],
            [
             0.6666666666666666,
             "#ed7953"
            ],
            [
             0.7777777777777778,
             "#fb9f3a"
            ],
            [
             0.8888888888888888,
             "#fdca26"
            ],
            [
             1,
             "#f0f921"
            ]
           ]
          },
          "colorway": [
           "#636efa",
           "#EF553B",
           "#00cc96",
           "#ab63fa",
           "#FFA15A",
           "#19d3f3",
           "#FF6692",
           "#B6E880",
           "#FF97FF",
           "#FECB52"
          ],
          "font": {
           "color": "#2a3f5f"
          },
          "geo": {
           "bgcolor": "white",
           "lakecolor": "white",
           "landcolor": "#E5ECF6",
           "showlakes": true,
           "showland": true,
           "subunitcolor": "white"
          },
          "hoverlabel": {
           "align": "left"
          },
          "hovermode": "closest",
          "mapbox": {
           "style": "light"
          },
          "paper_bgcolor": "white",
          "plot_bgcolor": "#E5ECF6",
          "polar": {
           "angularaxis": {
            "gridcolor": "white",
            "linecolor": "white",
            "ticks": ""
           },
           "bgcolor": "#E5ECF6",
           "radialaxis": {
            "gridcolor": "white",
            "linecolor": "white",
            "ticks": ""
           }
          },
          "scene": {
           "xaxis": {
            "backgroundcolor": "#E5ECF6",
            "gridcolor": "white",
            "gridwidth": 2,
            "linecolor": "white",
            "showbackground": true,
            "ticks": "",
            "zerolinecolor": "white"
           },
           "yaxis": {
            "backgroundcolor": "#E5ECF6",
            "gridcolor": "white",
            "gridwidth": 2,
            "linecolor": "white",
            "showbackground": true,
            "ticks": "",
            "zerolinecolor": "white"
           },
           "zaxis": {
            "backgroundcolor": "#E5ECF6",
            "gridcolor": "white",
            "gridwidth": 2,
            "linecolor": "white",
            "showbackground": true,
            "ticks": "",
            "zerolinecolor": "white"
           }
          },
          "shapedefaults": {
           "line": {
            "color": "#2a3f5f"
           }
          },
          "ternary": {
           "aaxis": {
            "gridcolor": "white",
            "linecolor": "white",
            "ticks": ""
           },
           "baxis": {
            "gridcolor": "white",
            "linecolor": "white",
            "ticks": ""
           },
           "bgcolor": "#E5ECF6",
           "caxis": {
            "gridcolor": "white",
            "linecolor": "white",
            "ticks": ""
           }
          },
          "title": {
           "x": 0.05
          },
          "xaxis": {
           "automargin": true,
           "gridcolor": "white",
           "linecolor": "white",
           "ticks": "",
           "title": {
            "standoff": 15
           },
           "zerolinecolor": "white",
           "zerolinewidth": 2
          },
          "yaxis": {
           "automargin": true,
           "gridcolor": "white",
           "linecolor": "white",
           "ticks": "",
           "title": {
            "standoff": 15
           },
           "zerolinecolor": "white",
           "zerolinewidth": 2
          }
         }
        },
        "title": {
         "text": "Average Rating by Chapters Buckets"
        },
        "width": 900,
        "xaxis": {
         "tickangle": -15,
         "title": {
          "text": "Chapters Buckets (Equal Sized Groups)"
         }
        },
        "yaxis": {
         "title": {
          "text": "Average Rating"
         }
        }
       }
      }
     },
     "metadata": {},
     "output_type": "display_data"
    },
    {
     "data": {
      "application/vnd.plotly.v1+json": {
       "config": {
        "plotlyServerURL": "https://plot.ly"
       },
       "data": [
        {
         "hovertemplate": "%{x}<br>%{y:,.2f} followers<extra></extra>",
         "name": "followers",
         "text": {
          "bdata": "FK5H4Xqaj0C4HoXrUa6UQFK4HoXraJJAAAAAAADun0Bcj8L1qLyoQFK4HoXrYpxAj8L1KFwHi0Bcj8L1KFylQFyPwvWoXaRAXI/C9SitpkA=",
          "dtype": "f8"
         },
         "textposition": "auto",
         "type": "bar",
         "x": [
          "Bucket 1<br>(15.0 to 48.0)",
          "Bucket 2<br>(50.0 to 59.0)",
          "Bucket 3<br>(62.0 to 71.0)",
          "Bucket 4<br>(72.0 to 80.0)",
          "Bucket 5<br>(82.0 to 105.0)",
          "Bucket 6<br>(110.0 to 148.0)",
          "Bucket 7<br>(150.0 to 163.0)",
          "Bucket 8<br>(164.0 to 217.0)",
          "Bucket 9<br>(225.0 to 303.0)",
          "Bucket 10<br>(308.0 to 999.0)"
         ],
         "y": {
          "bdata": "J3ZiJ3aaj0BVVVVVVa6UQE/sxE7saJJAAAAAAADun0CrqqqqqryoQKOLLrroYpxAVVVVVVUHi0CrqqqqKlylQKuqqqqqXaRAq6qqqiqtpkA=",
          "dtype": "f8"
         }
        }
       ],
       "layout": {
        "height": 500,
        "margin": {
         "b": 80
        },
        "template": {
         "data": {
          "bar": [
           {
            "error_x": {
             "color": "#2a3f5f"
            },
            "error_y": {
             "color": "#2a3f5f"
            },
            "marker": {
             "line": {
              "color": "#E5ECF6",
              "width": 0.5
             },
             "pattern": {
              "fillmode": "overlay",
              "size": 10,
              "solidity": 0.2
             }
            },
            "type": "bar"
           }
          ],
          "barpolar": [
           {
            "marker": {
             "line": {
              "color": "#E5ECF6",
              "width": 0.5
             },
             "pattern": {
              "fillmode": "overlay",
              "size": 10,
              "solidity": 0.2
             }
            },
            "type": "barpolar"
           }
          ],
          "carpet": [
           {
            "aaxis": {
             "endlinecolor": "#2a3f5f",
             "gridcolor": "white",
             "linecolor": "white",
             "minorgridcolor": "white",
             "startlinecolor": "#2a3f5f"
            },
            "baxis": {
             "endlinecolor": "#2a3f5f",
             "gridcolor": "white",
             "linecolor": "white",
             "minorgridcolor": "white",
             "startlinecolor": "#2a3f5f"
            },
            "type": "carpet"
           }
          ],
          "choropleth": [
           {
            "colorbar": {
             "outlinewidth": 0,
             "ticks": ""
            },
            "type": "choropleth"
           }
          ],
          "contour": [
           {
            "colorbar": {
             "outlinewidth": 0,
             "ticks": ""
            },
            "colorscale": [
             [
              0,
              "#0d0887"
             ],
             [
              0.1111111111111111,
              "#46039f"
             ],
             [
              0.2222222222222222,
              "#7201a8"
             ],
             [
              0.3333333333333333,
              "#9c179e"
             ],
             [
              0.4444444444444444,
              "#bd3786"
             ],
             [
              0.5555555555555556,
              "#d8576b"
             ],
             [
              0.6666666666666666,
              "#ed7953"
             ],
             [
              0.7777777777777778,
              "#fb9f3a"
             ],
             [
              0.8888888888888888,
              "#fdca26"
             ],
             [
              1,
              "#f0f921"
             ]
            ],
            "type": "contour"
           }
          ],
          "contourcarpet": [
           {
            "colorbar": {
             "outlinewidth": 0,
             "ticks": ""
            },
            "type": "contourcarpet"
           }
          ],
          "heatmap": [
           {
            "colorbar": {
             "outlinewidth": 0,
             "ticks": ""
            },
            "colorscale": [
             [
              0,
              "#0d0887"
             ],
             [
              0.1111111111111111,
              "#46039f"
             ],
             [
              0.2222222222222222,
              "#7201a8"
             ],
             [
              0.3333333333333333,
              "#9c179e"
             ],
             [
              0.4444444444444444,
              "#bd3786"
             ],
             [
              0.5555555555555556,
              "#d8576b"
             ],
             [
              0.6666666666666666,
              "#ed7953"
             ],
             [
              0.7777777777777778,
              "#fb9f3a"
             ],
             [
              0.8888888888888888,
              "#fdca26"
             ],
             [
              1,
              "#f0f921"
             ]
            ],
            "type": "heatmap"
           }
          ],
          "histogram": [
           {
            "marker": {
             "pattern": {
              "fillmode": "overlay",
              "size": 10,
              "solidity": 0.2
             }
            },
            "type": "histogram"
           }
          ],
          "histogram2d": [
           {
            "colorbar": {
             "outlinewidth": 0,
             "ticks": ""
            },
            "colorscale": [
             [
              0,
              "#0d0887"
             ],
             [
              0.1111111111111111,
              "#46039f"
             ],
             [
              0.2222222222222222,
              "#7201a8"
             ],
             [
              0.3333333333333333,
              "#9c179e"
             ],
             [
              0.4444444444444444,
              "#bd3786"
             ],
             [
              0.5555555555555556,
              "#d8576b"
             ],
             [
              0.6666666666666666,
              "#ed7953"
             ],
             [
              0.7777777777777778,
              "#fb9f3a"
             ],
             [
              0.8888888888888888,
              "#fdca26"
             ],
             [
              1,
              "#f0f921"
             ]
            ],
            "type": "histogram2d"
           }
          ],
          "histogram2dcontour": [
           {
            "colorbar": {
             "outlinewidth": 0,
             "ticks": ""
            },
            "colorscale": [
             [
              0,
              "#0d0887"
             ],
             [
              0.1111111111111111,
              "#46039f"
             ],
             [
              0.2222222222222222,
              "#7201a8"
             ],
             [
              0.3333333333333333,
              "#9c179e"
             ],
             [
              0.4444444444444444,
              "#bd3786"
             ],
             [
              0.5555555555555556,
              "#d8576b"
             ],
             [
              0.6666666666666666,
              "#ed7953"
             ],
             [
              0.7777777777777778,
              "#fb9f3a"
             ],
             [
              0.8888888888888888,
              "#fdca26"
             ],
             [
              1,
              "#f0f921"
             ]
            ],
            "type": "histogram2dcontour"
           }
          ],
          "mesh3d": [
           {
            "colorbar": {
             "outlinewidth": 0,
             "ticks": ""
            },
            "type": "mesh3d"
           }
          ],
          "parcoords": [
           {
            "line": {
             "colorbar": {
              "outlinewidth": 0,
              "ticks": ""
             }
            },
            "type": "parcoords"
           }
          ],
          "pie": [
           {
            "automargin": true,
            "type": "pie"
           }
          ],
          "scatter": [
           {
            "fillpattern": {
             "fillmode": "overlay",
             "size": 10,
             "solidity": 0.2
            },
            "type": "scatter"
           }
          ],
          "scatter3d": [
           {
            "line": {
             "colorbar": {
              "outlinewidth": 0,
              "ticks": ""
             }
            },
            "marker": {
             "colorbar": {
              "outlinewidth": 0,
              "ticks": ""
             }
            },
            "type": "scatter3d"
           }
          ],
          "scattercarpet": [
           {
            "marker": {
             "colorbar": {
              "outlinewidth": 0,
              "ticks": ""
             }
            },
            "type": "scattercarpet"
           }
          ],
          "scattergeo": [
           {
            "marker": {
             "colorbar": {
              "outlinewidth": 0,
              "ticks": ""
             }
            },
            "type": "scattergeo"
           }
          ],
          "scattergl": [
           {
            "marker": {
             "colorbar": {
              "outlinewidth": 0,
              "ticks": ""
             }
            },
            "type": "scattergl"
           }
          ],
          "scattermap": [
           {
            "marker": {
             "colorbar": {
              "outlinewidth": 0,
              "ticks": ""
             }
            },
            "type": "scattermap"
           }
          ],
          "scattermapbox": [
           {
            "marker": {
             "colorbar": {
              "outlinewidth": 0,
              "ticks": ""
             }
            },
            "type": "scattermapbox"
           }
          ],
          "scatterpolar": [
           {
            "marker": {
             "colorbar": {
              "outlinewidth": 0,
              "ticks": ""
             }
            },
            "type": "scatterpolar"
           }
          ],
          "scatterpolargl": [
           {
            "marker": {
             "colorbar": {
              "outlinewidth": 0,
              "ticks": ""
             }
            },
            "type": "scatterpolargl"
           }
          ],
          "scatterternary": [
           {
            "marker": {
             "colorbar": {
              "outlinewidth": 0,
              "ticks": ""
             }
            },
            "type": "scatterternary"
           }
          ],
          "surface": [
           {
            "colorbar": {
             "outlinewidth": 0,
             "ticks": ""
            },
            "colorscale": [
             [
              0,
              "#0d0887"
             ],
             [
              0.1111111111111111,
              "#46039f"
             ],
             [
              0.2222222222222222,
              "#7201a8"
             ],
             [
              0.3333333333333333,
              "#9c179e"
             ],
             [
              0.4444444444444444,
              "#bd3786"
             ],
             [
              0.5555555555555556,
              "#d8576b"
             ],
             [
              0.6666666666666666,
              "#ed7953"
             ],
             [
              0.7777777777777778,
              "#fb9f3a"
             ],
             [
              0.8888888888888888,
              "#fdca26"
             ],
             [
              1,
              "#f0f921"
             ]
            ],
            "type": "surface"
           }
          ],
          "table": [
           {
            "cells": {
             "fill": {
              "color": "#EBF0F8"
             },
             "line": {
              "color": "white"
             }
            },
            "header": {
             "fill": {
              "color": "#C8D4E3"
             },
             "line": {
              "color": "white"
             }
            },
            "type": "table"
           }
          ]
         },
         "layout": {
          "annotationdefaults": {
           "arrowcolor": "#2a3f5f",
           "arrowhead": 0,
           "arrowwidth": 1
          },
          "autotypenumbers": "strict",
          "coloraxis": {
           "colorbar": {
            "outlinewidth": 0,
            "ticks": ""
           }
          },
          "colorscale": {
           "diverging": [
            [
             0,
             "#8e0152"
            ],
            [
             0.1,
             "#c51b7d"
            ],
            [
             0.2,
             "#de77ae"
            ],
            [
             0.3,
             "#f1b6da"
            ],
            [
             0.4,
             "#fde0ef"
            ],
            [
             0.5,
             "#f7f7f7"
            ],
            [
             0.6,
             "#e6f5d0"
            ],
            [
             0.7,
             "#b8e186"
            ],
            [
             0.8,
             "#7fbc41"
            ],
            [
             0.9,
             "#4d9221"
            ],
            [
             1,
             "#276419"
            ]
           ],
           "sequential": [
            [
             0,
             "#0d0887"
            ],
            [
             0.1111111111111111,
             "#46039f"
            ],
            [
             0.2222222222222222,
             "#7201a8"
            ],
            [
             0.3333333333333333,
             "#9c179e"
            ],
            [
             0.4444444444444444,
             "#bd3786"
            ],
            [
             0.5555555555555556,
             "#d8576b"
            ],
            [
             0.6666666666666666,
             "#ed7953"
            ],
            [
             0.7777777777777778,
             "#fb9f3a"
            ],
            [
             0.8888888888888888,
             "#fdca26"
            ],
            [
             1,
             "#f0f921"
            ]
           ],
           "sequentialminus": [
            [
             0,
             "#0d0887"
            ],
            [
             0.1111111111111111,
             "#46039f"
            ],
            [
             0.2222222222222222,
             "#7201a8"
            ],
            [
             0.3333333333333333,
             "#9c179e"
            ],
            [
             0.4444444444444444,
             "#bd3786"
            ],
            [
             0.5555555555555556,
             "#d8576b"
            ],
            [
             0.6666666666666666,
             "#ed7953"
            ],
            [
             0.7777777777777778,
             "#fb9f3a"
            ],
            [
             0.8888888888888888,
             "#fdca26"
            ],
            [
             1,
             "#f0f921"
            ]
           ]
          },
          "colorway": [
           "#636efa",
           "#EF553B",
           "#00cc96",
           "#ab63fa",
           "#FFA15A",
           "#19d3f3",
           "#FF6692",
           "#B6E880",
           "#FF97FF",
           "#FECB52"
          ],
          "font": {
           "color": "#2a3f5f"
          },
          "geo": {
           "bgcolor": "white",
           "lakecolor": "white",
           "landcolor": "#E5ECF6",
           "showlakes": true,
           "showland": true,
           "subunitcolor": "white"
          },
          "hoverlabel": {
           "align": "left"
          },
          "hovermode": "closest",
          "mapbox": {
           "style": "light"
          },
          "paper_bgcolor": "white",
          "plot_bgcolor": "#E5ECF6",
          "polar": {
           "angularaxis": {
            "gridcolor": "white",
            "linecolor": "white",
            "ticks": ""
           },
           "bgcolor": "#E5ECF6",
           "radialaxis": {
            "gridcolor": "white",
            "linecolor": "white",
            "ticks": ""
           }
          },
          "scene": {
           "xaxis": {
            "backgroundcolor": "#E5ECF6",
            "gridcolor": "white",
            "gridwidth": 2,
            "linecolor": "white",
            "showbackground": true,
            "ticks": "",
            "zerolinecolor": "white"
           },
           "yaxis": {
            "backgroundcolor": "#E5ECF6",
            "gridcolor": "white",
            "gridwidth": 2,
            "linecolor": "white",
            "showbackground": true,
            "ticks": "",
            "zerolinecolor": "white"
           },
           "zaxis": {
            "backgroundcolor": "#E5ECF6",
            "gridcolor": "white",
            "gridwidth": 2,
            "linecolor": "white",
            "showbackground": true,
            "ticks": "",
            "zerolinecolor": "white"
           }
          },
          "shapedefaults": {
           "line": {
            "color": "#2a3f5f"
           }
          },
          "ternary": {
           "aaxis": {
            "gridcolor": "white",
            "linecolor": "white",
            "ticks": ""
           },
           "baxis": {
            "gridcolor": "white",
            "linecolor": "white",
            "ticks": ""
           },
           "bgcolor": "#E5ECF6",
           "caxis": {
            "gridcolor": "white",
            "linecolor": "white",
            "ticks": ""
           }
          },
          "title": {
           "x": 0.05
          },
          "xaxis": {
           "automargin": true,
           "gridcolor": "white",
           "linecolor": "white",
           "ticks": "",
           "title": {
            "standoff": 15
           },
           "zerolinecolor": "white",
           "zerolinewidth": 2
          },
          "yaxis": {
           "automargin": true,
           "gridcolor": "white",
           "linecolor": "white",
           "ticks": "",
           "title": {
            "standoff": 15
           },
           "zerolinecolor": "white",
           "zerolinewidth": 2
          }
         }
        },
        "title": {
         "text": "Average Followers by Chapters Buckets"
        },
        "width": 900,
        "xaxis": {
         "tickangle": -15,
         "title": {
          "text": "Chapters Buckets (Equal Sized Groups)"
         }
        },
        "yaxis": {
         "title": {
          "text": "Average Followers"
         },
         "type": "log"
        }
       }
      }
     },
     "metadata": {},
     "output_type": "display_data"
    },
    {
     "name": "stderr",
     "output_type": "stream",
     "text": [
      "C:\\Users\\swapn\\AppData\\Local\\Temp\\ipykernel_13204\\2468123423.py:64: FutureWarning:\n",
      "\n",
      "The default of observed=False is deprecated and will be changed to True in a future version of pandas. Pass observed=False to retain current behavior or observed=True to adopt the future default and silence this warning.\n",
      "\n",
      "C:\\Users\\swapn\\AppData\\Local\\Temp\\ipykernel_13204\\2468123423.py:67: FutureWarning:\n",
      "\n",
      "The default of observed=False is deprecated and will be changed to True in a future version of pandas. Pass observed=False to retain current behavior or observed=True to adopt the future default and silence this warning.\n",
      "\n"
     ]
    },
    {
     "data": {
      "application/vnd.plotly.v1+json": {
       "config": {
        "plotlyServerURL": "https://plot.ly"
       },
       "data": [
        {
         "hovertemplate": "%{x}<br>%{y:,.2f} views<extra></extra>",
         "name": "views",
         "text": {
          "bdata": "exSuR+mg/EB7FK5HVej3QAAAAACIvwBBAAAAAO6jCUEfhetRQKscQXE9CtdzySFBAAAAAKzgF0EfhetRDnIdQQAAAECTUTdBpHA9qsXLSUE=",
          "dtype": "f8"
         },
         "textposition": "auto",
         "type": "bar",
         "x": [
          "Bucket 1<br>(127.0 to 293.0)",
          "Bucket 2<br>(297.0 to 455.0)",
          "Bucket 3<br>(457.0 to 512.0)",
          "Bucket 4<br>(523.0 to 651.0)",
          "Bucket 5<br>(661.0 to 772.0)",
          "Bucket 6<br>(774.0 to 929.0)",
          "Bucket 7<br>(960 to 1,153)",
          "Bucket 8<br>(1,169 to 1,654)",
          "Bucket 9<br>(1,667 to 3,079)",
          "Bucket 10<br>(3,170 to 8,336)"
         ],
         "y": {
          "bdata": "VVVVVemg/EBVVVVVVej3QAAAAACIvwBBAAAAAO6jCUFVVVVVQKscQVVVVdVzySFBAAAAAKzgF0FVVVVVDnIdQQAAAECTUTdBq6qqqsXLSUE=",
          "dtype": "f8"
         }
        }
       ],
       "layout": {
        "height": 500,
        "margin": {
         "b": 80
        },
        "template": {
         "data": {
          "bar": [
           {
            "error_x": {
             "color": "#2a3f5f"
            },
            "error_y": {
             "color": "#2a3f5f"
            },
            "marker": {
             "line": {
              "color": "#E5ECF6",
              "width": 0.5
             },
             "pattern": {
              "fillmode": "overlay",
              "size": 10,
              "solidity": 0.2
             }
            },
            "type": "bar"
           }
          ],
          "barpolar": [
           {
            "marker": {
             "line": {
              "color": "#E5ECF6",
              "width": 0.5
             },
             "pattern": {
              "fillmode": "overlay",
              "size": 10,
              "solidity": 0.2
             }
            },
            "type": "barpolar"
           }
          ],
          "carpet": [
           {
            "aaxis": {
             "endlinecolor": "#2a3f5f",
             "gridcolor": "white",
             "linecolor": "white",
             "minorgridcolor": "white",
             "startlinecolor": "#2a3f5f"
            },
            "baxis": {
             "endlinecolor": "#2a3f5f",
             "gridcolor": "white",
             "linecolor": "white",
             "minorgridcolor": "white",
             "startlinecolor": "#2a3f5f"
            },
            "type": "carpet"
           }
          ],
          "choropleth": [
           {
            "colorbar": {
             "outlinewidth": 0,
             "ticks": ""
            },
            "type": "choropleth"
           }
          ],
          "contour": [
           {
            "colorbar": {
             "outlinewidth": 0,
             "ticks": ""
            },
            "colorscale": [
             [
              0,
              "#0d0887"
             ],
             [
              0.1111111111111111,
              "#46039f"
             ],
             [
              0.2222222222222222,
              "#7201a8"
             ],
             [
              0.3333333333333333,
              "#9c179e"
             ],
             [
              0.4444444444444444,
              "#bd3786"
             ],
             [
              0.5555555555555556,
              "#d8576b"
             ],
             [
              0.6666666666666666,
              "#ed7953"
             ],
             [
              0.7777777777777778,
              "#fb9f3a"
             ],
             [
              0.8888888888888888,
              "#fdca26"
             ],
             [
              1,
              "#f0f921"
             ]
            ],
            "type": "contour"
           }
          ],
          "contourcarpet": [
           {
            "colorbar": {
             "outlinewidth": 0,
             "ticks": ""
            },
            "type": "contourcarpet"
           }
          ],
          "heatmap": [
           {
            "colorbar": {
             "outlinewidth": 0,
             "ticks": ""
            },
            "colorscale": [
             [
              0,
              "#0d0887"
             ],
             [
              0.1111111111111111,
              "#46039f"
             ],
             [
              0.2222222222222222,
              "#7201a8"
             ],
             [
              0.3333333333333333,
              "#9c179e"
             ],
             [
              0.4444444444444444,
              "#bd3786"
             ],
             [
              0.5555555555555556,
              "#d8576b"
             ],
             [
              0.6666666666666666,
              "#ed7953"
             ],
             [
              0.7777777777777778,
              "#fb9f3a"
             ],
             [
              0.8888888888888888,
              "#fdca26"
             ],
             [
              1,
              "#f0f921"
             ]
            ],
            "type": "heatmap"
           }
          ],
          "histogram": [
           {
            "marker": {
             "pattern": {
              "fillmode": "overlay",
              "size": 10,
              "solidity": 0.2
             }
            },
            "type": "histogram"
           }
          ],
          "histogram2d": [
           {
            "colorbar": {
             "outlinewidth": 0,
             "ticks": ""
            },
            "colorscale": [
             [
              0,
              "#0d0887"
             ],
             [
              0.1111111111111111,
              "#46039f"
             ],
             [
              0.2222222222222222,
              "#7201a8"
             ],
             [
              0.3333333333333333,
              "#9c179e"
             ],
             [
              0.4444444444444444,
              "#bd3786"
             ],
             [
              0.5555555555555556,
              "#d8576b"
             ],
             [
              0.6666666666666666,
              "#ed7953"
             ],
             [
              0.7777777777777778,
              "#fb9f3a"
             ],
             [
              0.8888888888888888,
              "#fdca26"
             ],
             [
              1,
              "#f0f921"
             ]
            ],
            "type": "histogram2d"
           }
          ],
          "histogram2dcontour": [
           {
            "colorbar": {
             "outlinewidth": 0,
             "ticks": ""
            },
            "colorscale": [
             [
              0,
              "#0d0887"
             ],
             [
              0.1111111111111111,
              "#46039f"
             ],
             [
              0.2222222222222222,
              "#7201a8"
             ],
             [
              0.3333333333333333,
              "#9c179e"
             ],
             [
              0.4444444444444444,
              "#bd3786"
             ],
             [
              0.5555555555555556,
              "#d8576b"
             ],
             [
              0.6666666666666666,
              "#ed7953"
             ],
             [
              0.7777777777777778,
              "#fb9f3a"
             ],
             [
              0.8888888888888888,
              "#fdca26"
             ],
             [
              1,
              "#f0f921"
             ]
            ],
            "type": "histogram2dcontour"
           }
          ],
          "mesh3d": [
           {
            "colorbar": {
             "outlinewidth": 0,
             "ticks": ""
            },
            "type": "mesh3d"
           }
          ],
          "parcoords": [
           {
            "line": {
             "colorbar": {
              "outlinewidth": 0,
              "ticks": ""
             }
            },
            "type": "parcoords"
           }
          ],
          "pie": [
           {
            "automargin": true,
            "type": "pie"
           }
          ],
          "scatter": [
           {
            "fillpattern": {
             "fillmode": "overlay",
             "size": 10,
             "solidity": 0.2
            },
            "type": "scatter"
           }
          ],
          "scatter3d": [
           {
            "line": {
             "colorbar": {
              "outlinewidth": 0,
              "ticks": ""
             }
            },
            "marker": {
             "colorbar": {
              "outlinewidth": 0,
              "ticks": ""
             }
            },
            "type": "scatter3d"
           }
          ],
          "scattercarpet": [
           {
            "marker": {
             "colorbar": {
              "outlinewidth": 0,
              "ticks": ""
             }
            },
            "type": "scattercarpet"
           }
          ],
          "scattergeo": [
           {
            "marker": {
             "colorbar": {
              "outlinewidth": 0,
              "ticks": ""
             }
            },
            "type": "scattergeo"
           }
          ],
          "scattergl": [
           {
            "marker": {
             "colorbar": {
              "outlinewidth": 0,
              "ticks": ""
             }
            },
            "type": "scattergl"
           }
          ],
          "scattermap": [
           {
            "marker": {
             "colorbar": {
              "outlinewidth": 0,
              "ticks": ""
             }
            },
            "type": "scattermap"
           }
          ],
          "scattermapbox": [
           {
            "marker": {
             "colorbar": {
              "outlinewidth": 0,
              "ticks": ""
             }
            },
            "type": "scattermapbox"
           }
          ],
          "scatterpolar": [
           {
            "marker": {
             "colorbar": {
              "outlinewidth": 0,
              "ticks": ""
             }
            },
            "type": "scatterpolar"
           }
          ],
          "scatterpolargl": [
           {
            "marker": {
             "colorbar": {
              "outlinewidth": 0,
              "ticks": ""
             }
            },
            "type": "scatterpolargl"
           }
          ],
          "scatterternary": [
           {
            "marker": {
             "colorbar": {
              "outlinewidth": 0,
              "ticks": ""
             }
            },
            "type": "scatterternary"
           }
          ],
          "surface": [
           {
            "colorbar": {
             "outlinewidth": 0,
             "ticks": ""
            },
            "colorscale": [
             [
              0,
              "#0d0887"
             ],
             [
              0.1111111111111111,
              "#46039f"
             ],
             [
              0.2222222222222222,
              "#7201a8"
             ],
             [
              0.3333333333333333,
              "#9c179e"
             ],
             [
              0.4444444444444444,
              "#bd3786"
             ],
             [
              0.5555555555555556,
              "#d8576b"
             ],
             [
              0.6666666666666666,
              "#ed7953"
             ],
             [
              0.7777777777777778,
              "#fb9f3a"
             ],
             [
              0.8888888888888888,
              "#fdca26"
             ],
             [
              1,
              "#f0f921"
             ]
            ],
            "type": "surface"
           }
          ],
          "table": [
           {
            "cells": {
             "fill": {
              "color": "#EBF0F8"
             },
             "line": {
              "color": "white"
             }
            },
            "header": {
             "fill": {
              "color": "#C8D4E3"
             },
             "line": {
              "color": "white"
             }
            },
            "type": "table"
           }
          ]
         },
         "layout": {
          "annotationdefaults": {
           "arrowcolor": "#2a3f5f",
           "arrowhead": 0,
           "arrowwidth": 1
          },
          "autotypenumbers": "strict",
          "coloraxis": {
           "colorbar": {
            "outlinewidth": 0,
            "ticks": ""
           }
          },
          "colorscale": {
           "diverging": [
            [
             0,
             "#8e0152"
            ],
            [
             0.1,
             "#c51b7d"
            ],
            [
             0.2,
             "#de77ae"
            ],
            [
             0.3,
             "#f1b6da"
            ],
            [
             0.4,
             "#fde0ef"
            ],
            [
             0.5,
             "#f7f7f7"
            ],
            [
             0.6,
             "#e6f5d0"
            ],
            [
             0.7,
             "#b8e186"
            ],
            [
             0.8,
             "#7fbc41"
            ],
            [
             0.9,
             "#4d9221"
            ],
            [
             1,
             "#276419"
            ]
           ],
           "sequential": [
            [
             0,
             "#0d0887"
            ],
            [
             0.1111111111111111,
             "#46039f"
            ],
            [
             0.2222222222222222,
             "#7201a8"
            ],
            [
             0.3333333333333333,
             "#9c179e"
            ],
            [
             0.4444444444444444,
             "#bd3786"
            ],
            [
             0.5555555555555556,
             "#d8576b"
            ],
            [
             0.6666666666666666,
             "#ed7953"
            ],
            [
             0.7777777777777778,
             "#fb9f3a"
            ],
            [
             0.8888888888888888,
             "#fdca26"
            ],
            [
             1,
             "#f0f921"
            ]
           ],
           "sequentialminus": [
            [
             0,
             "#0d0887"
            ],
            [
             0.1111111111111111,
             "#46039f"
            ],
            [
             0.2222222222222222,
             "#7201a8"
            ],
            [
             0.3333333333333333,
             "#9c179e"
            ],
            [
             0.4444444444444444,
             "#bd3786"
            ],
            [
             0.5555555555555556,
             "#d8576b"
            ],
            [
             0.6666666666666666,
             "#ed7953"
            ],
            [
             0.7777777777777778,
             "#fb9f3a"
            ],
            [
             0.8888888888888888,
             "#fdca26"
            ],
            [
             1,
             "#f0f921"
            ]
           ]
          },
          "colorway": [
           "#636efa",
           "#EF553B",
           "#00cc96",
           "#ab63fa",
           "#FFA15A",
           "#19d3f3",
           "#FF6692",
           "#B6E880",
           "#FF97FF",
           "#FECB52"
          ],
          "font": {
           "color": "#2a3f5f"
          },
          "geo": {
           "bgcolor": "white",
           "lakecolor": "white",
           "landcolor": "#E5ECF6",
           "showlakes": true,
           "showland": true,
           "subunitcolor": "white"
          },
          "hoverlabel": {
           "align": "left"
          },
          "hovermode": "closest",
          "mapbox": {
           "style": "light"
          },
          "paper_bgcolor": "white",
          "plot_bgcolor": "#E5ECF6",
          "polar": {
           "angularaxis": {
            "gridcolor": "white",
            "linecolor": "white",
            "ticks": ""
           },
           "bgcolor": "#E5ECF6",
           "radialaxis": {
            "gridcolor": "white",
            "linecolor": "white",
            "ticks": ""
           }
          },
          "scene": {
           "xaxis": {
            "backgroundcolor": "#E5ECF6",
            "gridcolor": "white",
            "gridwidth": 2,
            "linecolor": "white",
            "showbackground": true,
            "ticks": "",
            "zerolinecolor": "white"
           },
           "yaxis": {
            "backgroundcolor": "#E5ECF6",
            "gridcolor": "white",
            "gridwidth": 2,
            "linecolor": "white",
            "showbackground": true,
            "ticks": "",
            "zerolinecolor": "white"
           },
           "zaxis": {
            "backgroundcolor": "#E5ECF6",
            "gridcolor": "white",
            "gridwidth": 2,
            "linecolor": "white",
            "showbackground": true,
            "ticks": "",
            "zerolinecolor": "white"
           }
          },
          "shapedefaults": {
           "line": {
            "color": "#2a3f5f"
           }
          },
          "ternary": {
           "aaxis": {
            "gridcolor": "white",
            "linecolor": "white",
            "ticks": ""
           },
           "baxis": {
            "gridcolor": "white",
            "linecolor": "white",
            "ticks": ""
           },
           "bgcolor": "#E5ECF6",
           "caxis": {
            "gridcolor": "white",
            "linecolor": "white",
            "ticks": ""
           }
          },
          "title": {
           "x": 0.05
          },
          "xaxis": {
           "automargin": true,
           "gridcolor": "white",
           "linecolor": "white",
           "ticks": "",
           "title": {
            "standoff": 15
           },
           "zerolinecolor": "white",
           "zerolinewidth": 2
          },
          "yaxis": {
           "automargin": true,
           "gridcolor": "white",
           "linecolor": "white",
           "ticks": "",
           "title": {
            "standoff": 15
           },
           "zerolinecolor": "white",
           "zerolinewidth": 2
          }
         }
        },
        "title": {
         "text": "Average Views by Pages Buckets"
        },
        "width": 900,
        "xaxis": {
         "tickangle": -15,
         "title": {
          "text": "Pages Buckets (Equal Sized Groups)"
         }
        },
        "yaxis": {
         "title": {
          "text": "Average Views"
         },
         "type": "log"
        }
       }
      }
     },
     "metadata": {},
     "output_type": "display_data"
    },
    {
     "data": {
      "application/vnd.plotly.v1+json": {
       "config": {
        "plotlyServerURL": "https://plot.ly"
       },
       "data": [
        {
         "hovertemplate": "%{x}<br>%{y:,.2f} rating<extra></extra>",
         "name": "rating",
         "text": {
          "bdata": "CtejcD0KEkApXI/C9SgSQD0K16NwPRJAPQrXo3A9EkBcj8L1KFwSQM3MzMzMzBFAzczMzMzMEUDsUbgehesRQIXrUbgehRFACtejcD0KEUA=",
          "dtype": "f8"
         },
         "textposition": "auto",
         "type": "bar",
         "x": [
          "Bucket 1<br>(127.0 to 293.0)",
          "Bucket 2<br>(297.0 to 455.0)",
          "Bucket 3<br>(457.0 to 512.0)",
          "Bucket 4<br>(523.0 to 651.0)",
          "Bucket 5<br>(661.0 to 772.0)",
          "Bucket 6<br>(774.0 to 929.0)",
          "Bucket 7<br>(960 to 1,153)",
          "Bucket 8<br>(1,169 to 1,654)",
          "Bucket 9<br>(1,667 to 3,079)",
          "Bucket 10<br>(3,170 to 8,336)"
         ],
         "y": {
          "bdata": "DXTaQKcNEkCuR+F6FC4SQPnFkl8sORJAf7HkF0s+EkBcj8L1KFwSQIwlv1jyyxFAzczMzMzMEUAwlvxiye8RQAOdNtBpgxFABzptoNMGEUA=",
          "dtype": "f8"
         }
        }
       ],
       "layout": {
        "height": 500,
        "margin": {
         "b": 80
        },
        "template": {
         "data": {
          "bar": [
           {
            "error_x": {
             "color": "#2a3f5f"
            },
            "error_y": {
             "color": "#2a3f5f"
            },
            "marker": {
             "line": {
              "color": "#E5ECF6",
              "width": 0.5
             },
             "pattern": {
              "fillmode": "overlay",
              "size": 10,
              "solidity": 0.2
             }
            },
            "type": "bar"
           }
          ],
          "barpolar": [
           {
            "marker": {
             "line": {
              "color": "#E5ECF6",
              "width": 0.5
             },
             "pattern": {
              "fillmode": "overlay",
              "size": 10,
              "solidity": 0.2
             }
            },
            "type": "barpolar"
           }
          ],
          "carpet": [
           {
            "aaxis": {
             "endlinecolor": "#2a3f5f",
             "gridcolor": "white",
             "linecolor": "white",
             "minorgridcolor": "white",
             "startlinecolor": "#2a3f5f"
            },
            "baxis": {
             "endlinecolor": "#2a3f5f",
             "gridcolor": "white",
             "linecolor": "white",
             "minorgridcolor": "white",
             "startlinecolor": "#2a3f5f"
            },
            "type": "carpet"
           }
          ],
          "choropleth": [
           {
            "colorbar": {
             "outlinewidth": 0,
             "ticks": ""
            },
            "type": "choropleth"
           }
          ],
          "contour": [
           {
            "colorbar": {
             "outlinewidth": 0,
             "ticks": ""
            },
            "colorscale": [
             [
              0,
              "#0d0887"
             ],
             [
              0.1111111111111111,
              "#46039f"
             ],
             [
              0.2222222222222222,
              "#7201a8"
             ],
             [
              0.3333333333333333,
              "#9c179e"
             ],
             [
              0.4444444444444444,
              "#bd3786"
             ],
             [
              0.5555555555555556,
              "#d8576b"
             ],
             [
              0.6666666666666666,
              "#ed7953"
             ],
             [
              0.7777777777777778,
              "#fb9f3a"
             ],
             [
              0.8888888888888888,
              "#fdca26"
             ],
             [
              1,
              "#f0f921"
             ]
            ],
            "type": "contour"
           }
          ],
          "contourcarpet": [
           {
            "colorbar": {
             "outlinewidth": 0,
             "ticks": ""
            },
            "type": "contourcarpet"
           }
          ],
          "heatmap": [
           {
            "colorbar": {
             "outlinewidth": 0,
             "ticks": ""
            },
            "colorscale": [
             [
              0,
              "#0d0887"
             ],
             [
              0.1111111111111111,
              "#46039f"
             ],
             [
              0.2222222222222222,
              "#7201a8"
             ],
             [
              0.3333333333333333,
              "#9c179e"
             ],
             [
              0.4444444444444444,
              "#bd3786"
             ],
             [
              0.5555555555555556,
              "#d8576b"
             ],
             [
              0.6666666666666666,
              "#ed7953"
             ],
             [
              0.7777777777777778,
              "#fb9f3a"
             ],
             [
              0.8888888888888888,
              "#fdca26"
             ],
             [
              1,
              "#f0f921"
             ]
            ],
            "type": "heatmap"
           }
          ],
          "histogram": [
           {
            "marker": {
             "pattern": {
              "fillmode": "overlay",
              "size": 10,
              "solidity": 0.2
             }
            },
            "type": "histogram"
           }
          ],
          "histogram2d": [
           {
            "colorbar": {
             "outlinewidth": 0,
             "ticks": ""
            },
            "colorscale": [
             [
              0,
              "#0d0887"
             ],
             [
              0.1111111111111111,
              "#46039f"
             ],
             [
              0.2222222222222222,
              "#7201a8"
             ],
             [
              0.3333333333333333,
              "#9c179e"
             ],
             [
              0.4444444444444444,
              "#bd3786"
             ],
             [
              0.5555555555555556,
              "#d8576b"
             ],
             [
              0.6666666666666666,
              "#ed7953"
             ],
             [
              0.7777777777777778,
              "#fb9f3a"
             ],
             [
              0.8888888888888888,
              "#fdca26"
             ],
             [
              1,
              "#f0f921"
             ]
            ],
            "type": "histogram2d"
           }
          ],
          "histogram2dcontour": [
           {
            "colorbar": {
             "outlinewidth": 0,
             "ticks": ""
            },
            "colorscale": [
             [
              0,
              "#0d0887"
             ],
             [
              0.1111111111111111,
              "#46039f"
             ],
             [
              0.2222222222222222,
              "#7201a8"
             ],
             [
              0.3333333333333333,
              "#9c179e"
             ],
             [
              0.4444444444444444,
              "#bd3786"
             ],
             [
              0.5555555555555556,
              "#d8576b"
             ],
             [
              0.6666666666666666,
              "#ed7953"
             ],
             [
              0.7777777777777778,
              "#fb9f3a"
             ],
             [
              0.8888888888888888,
              "#fdca26"
             ],
             [
              1,
              "#f0f921"
             ]
            ],
            "type": "histogram2dcontour"
           }
          ],
          "mesh3d": [
           {
            "colorbar": {
             "outlinewidth": 0,
             "ticks": ""
            },
            "type": "mesh3d"
           }
          ],
          "parcoords": [
           {
            "line": {
             "colorbar": {
              "outlinewidth": 0,
              "ticks": ""
             }
            },
            "type": "parcoords"
           }
          ],
          "pie": [
           {
            "automargin": true,
            "type": "pie"
           }
          ],
          "scatter": [
           {
            "fillpattern": {
             "fillmode": "overlay",
             "size": 10,
             "solidity": 0.2
            },
            "type": "scatter"
           }
          ],
          "scatter3d": [
           {
            "line": {
             "colorbar": {
              "outlinewidth": 0,
              "ticks": ""
             }
            },
            "marker": {
             "colorbar": {
              "outlinewidth": 0,
              "ticks": ""
             }
            },
            "type": "scatter3d"
           }
          ],
          "scattercarpet": [
           {
            "marker": {
             "colorbar": {
              "outlinewidth": 0,
              "ticks": ""
             }
            },
            "type": "scattercarpet"
           }
          ],
          "scattergeo": [
           {
            "marker": {
             "colorbar": {
              "outlinewidth": 0,
              "ticks": ""
             }
            },
            "type": "scattergeo"
           }
          ],
          "scattergl": [
           {
            "marker": {
             "colorbar": {
              "outlinewidth": 0,
              "ticks": ""
             }
            },
            "type": "scattergl"
           }
          ],
          "scattermap": [
           {
            "marker": {
             "colorbar": {
              "outlinewidth": 0,
              "ticks": ""
             }
            },
            "type": "scattermap"
           }
          ],
          "scattermapbox": [
           {
            "marker": {
             "colorbar": {
              "outlinewidth": 0,
              "ticks": ""
             }
            },
            "type": "scattermapbox"
           }
          ],
          "scatterpolar": [
           {
            "marker": {
             "colorbar": {
              "outlinewidth": 0,
              "ticks": ""
             }
            },
            "type": "scatterpolar"
           }
          ],
          "scatterpolargl": [
           {
            "marker": {
             "colorbar": {
              "outlinewidth": 0,
              "ticks": ""
             }
            },
            "type": "scatterpolargl"
           }
          ],
          "scatterternary": [
           {
            "marker": {
             "colorbar": {
              "outlinewidth": 0,
              "ticks": ""
             }
            },
            "type": "scatterternary"
           }
          ],
          "surface": [
           {
            "colorbar": {
             "outlinewidth": 0,
             "ticks": ""
            },
            "colorscale": [
             [
              0,
              "#0d0887"
             ],
             [
              0.1111111111111111,
              "#46039f"
             ],
             [
              0.2222222222222222,
              "#7201a8"
             ],
             [
              0.3333333333333333,
              "#9c179e"
             ],
             [
              0.4444444444444444,
              "#bd3786"
             ],
             [
              0.5555555555555556,
              "#d8576b"
             ],
             [
              0.6666666666666666,
              "#ed7953"
             ],
             [
              0.7777777777777778,
              "#fb9f3a"
             ],
             [
              0.8888888888888888,
              "#fdca26"
             ],
             [
              1,
              "#f0f921"
             ]
            ],
            "type": "surface"
           }
          ],
          "table": [
           {
            "cells": {
             "fill": {
              "color": "#EBF0F8"
             },
             "line": {
              "color": "white"
             }
            },
            "header": {
             "fill": {
              "color": "#C8D4E3"
             },
             "line": {
              "color": "white"
             }
            },
            "type": "table"
           }
          ]
         },
         "layout": {
          "annotationdefaults": {
           "arrowcolor": "#2a3f5f",
           "arrowhead": 0,
           "arrowwidth": 1
          },
          "autotypenumbers": "strict",
          "coloraxis": {
           "colorbar": {
            "outlinewidth": 0,
            "ticks": ""
           }
          },
          "colorscale": {
           "diverging": [
            [
             0,
             "#8e0152"
            ],
            [
             0.1,
             "#c51b7d"
            ],
            [
             0.2,
             "#de77ae"
            ],
            [
             0.3,
             "#f1b6da"
            ],
            [
             0.4,
             "#fde0ef"
            ],
            [
             0.5,
             "#f7f7f7"
            ],
            [
             0.6,
             "#e6f5d0"
            ],
            [
             0.7,
             "#b8e186"
            ],
            [
             0.8,
             "#7fbc41"
            ],
            [
             0.9,
             "#4d9221"
            ],
            [
             1,
             "#276419"
            ]
           ],
           "sequential": [
            [
             0,
             "#0d0887"
            ],
            [
             0.1111111111111111,
             "#46039f"
            ],
            [
             0.2222222222222222,
             "#7201a8"
            ],
            [
             0.3333333333333333,
             "#9c179e"
            ],
            [
             0.4444444444444444,
             "#bd3786"
            ],
            [
             0.5555555555555556,
             "#d8576b"
            ],
            [
             0.6666666666666666,
             "#ed7953"
            ],
            [
             0.7777777777777778,
             "#fb9f3a"
            ],
            [
             0.8888888888888888,
             "#fdca26"
            ],
            [
             1,
             "#f0f921"
            ]
           ],
           "sequentialminus": [
            [
             0,
             "#0d0887"
            ],
            [
             0.1111111111111111,
             "#46039f"
            ],
            [
             0.2222222222222222,
             "#7201a8"
            ],
            [
             0.3333333333333333,
             "#9c179e"
            ],
            [
             0.4444444444444444,
             "#bd3786"
            ],
            [
             0.5555555555555556,
             "#d8576b"
            ],
            [
             0.6666666666666666,
             "#ed7953"
            ],
            [
             0.7777777777777778,
             "#fb9f3a"
            ],
            [
             0.8888888888888888,
             "#fdca26"
            ],
            [
             1,
             "#f0f921"
            ]
           ]
          },
          "colorway": [
           "#636efa",
           "#EF553B",
           "#00cc96",
           "#ab63fa",
           "#FFA15A",
           "#19d3f3",
           "#FF6692",
           "#B6E880",
           "#FF97FF",
           "#FECB52"
          ],
          "font": {
           "color": "#2a3f5f"
          },
          "geo": {
           "bgcolor": "white",
           "lakecolor": "white",
           "landcolor": "#E5ECF6",
           "showlakes": true,
           "showland": true,
           "subunitcolor": "white"
          },
          "hoverlabel": {
           "align": "left"
          },
          "hovermode": "closest",
          "mapbox": {
           "style": "light"
          },
          "paper_bgcolor": "white",
          "plot_bgcolor": "#E5ECF6",
          "polar": {
           "angularaxis": {
            "gridcolor": "white",
            "linecolor": "white",
            "ticks": ""
           },
           "bgcolor": "#E5ECF6",
           "radialaxis": {
            "gridcolor": "white",
            "linecolor": "white",
            "ticks": ""
           }
          },
          "scene": {
           "xaxis": {
            "backgroundcolor": "#E5ECF6",
            "gridcolor": "white",
            "gridwidth": 2,
            "linecolor": "white",
            "showbackground": true,
            "ticks": "",
            "zerolinecolor": "white"
           },
           "yaxis": {
            "backgroundcolor": "#E5ECF6",
            "gridcolor": "white",
            "gridwidth": 2,
            "linecolor": "white",
            "showbackground": true,
            "ticks": "",
            "zerolinecolor": "white"
           },
           "zaxis": {
            "backgroundcolor": "#E5ECF6",
            "gridcolor": "white",
            "gridwidth": 2,
            "linecolor": "white",
            "showbackground": true,
            "ticks": "",
            "zerolinecolor": "white"
           }
          },
          "shapedefaults": {
           "line": {
            "color": "#2a3f5f"
           }
          },
          "ternary": {
           "aaxis": {
            "gridcolor": "white",
            "linecolor": "white",
            "ticks": ""
           },
           "baxis": {
            "gridcolor": "white",
            "linecolor": "white",
            "ticks": ""
           },
           "bgcolor": "#E5ECF6",
           "caxis": {
            "gridcolor": "white",
            "linecolor": "white",
            "ticks": ""
           }
          },
          "title": {
           "x": 0.05
          },
          "xaxis": {
           "automargin": true,
           "gridcolor": "white",
           "linecolor": "white",
           "ticks": "",
           "title": {
            "standoff": 15
           },
           "zerolinecolor": "white",
           "zerolinewidth": 2
          },
          "yaxis": {
           "automargin": true,
           "gridcolor": "white",
           "linecolor": "white",
           "ticks": "",
           "title": {
            "standoff": 15
           },
           "zerolinecolor": "white",
           "zerolinewidth": 2
          }
         }
        },
        "title": {
         "text": "Average Rating by Pages Buckets"
        },
        "width": 900,
        "xaxis": {
         "tickangle": -15,
         "title": {
          "text": "Pages Buckets (Equal Sized Groups)"
         }
        },
        "yaxis": {
         "title": {
          "text": "Average Rating"
         }
        }
       }
      }
     },
     "metadata": {},
     "output_type": "display_data"
    },
    {
     "data": {
      "application/vnd.plotly.v1+json": {
       "config": {
        "plotlyServerURL": "https://plot.ly"
       },
       "data": [
        {
         "hovertemplate": "%{x}<br>%{y:,.2f} followers<extra></extra>",
         "name": "followers",
         "text": {
          "bdata": "AAAAAAAXk0CPwvUoXK+KQAAAAAAAPIxAAAAAAABJmUBcj8L1qNOkQKRwPQrX0aFAPQrXo3ANnUC4HoXrUZaQQAAAAAAAkK5ApHA9CtdYqEA=",
          "dtype": "f8"
         },
         "textposition": "auto",
         "type": "bar",
         "x": [
          "Bucket 1<br>(127.0 to 293.0)",
          "Bucket 2<br>(297.0 to 455.0)",
          "Bucket 3<br>(457.0 to 512.0)",
          "Bucket 4<br>(523.0 to 651.0)",
          "Bucket 5<br>(661.0 to 772.0)",
          "Bucket 6<br>(774.0 to 929.0)",
          "Bucket 7<br>(960 to 1,153)",
          "Bucket 8<br>(1,169 to 1,654)",
          "Bucket 9<br>(1,667 to 3,079)",
          "Bucket 10<br>(3,170 to 8,336)"
         ],
         "y": {
          "bdata": "AAAAAAAXk0BVVVVVVa+KQAAAAAAAPIxAAAAAAABJmUCrqqqqqtOkQFVVVVXV0aFA0UUXXXQNnUBVVVVVVZaQQAAAAAAAkK5AVVVVVdVYqEA=",
          "dtype": "f8"
         }
        }
       ],
       "layout": {
        "height": 500,
        "margin": {
         "b": 80
        },
        "template": {
         "data": {
          "bar": [
           {
            "error_x": {
             "color": "#2a3f5f"
            },
            "error_y": {
             "color": "#2a3f5f"
            },
            "marker": {
             "line": {
              "color": "#E5ECF6",
              "width": 0.5
             },
             "pattern": {
              "fillmode": "overlay",
              "size": 10,
              "solidity": 0.2
             }
            },
            "type": "bar"
           }
          ],
          "barpolar": [
           {
            "marker": {
             "line": {
              "color": "#E5ECF6",
              "width": 0.5
             },
             "pattern": {
              "fillmode": "overlay",
              "size": 10,
              "solidity": 0.2
             }
            },
            "type": "barpolar"
           }
          ],
          "carpet": [
           {
            "aaxis": {
             "endlinecolor": "#2a3f5f",
             "gridcolor": "white",
             "linecolor": "white",
             "minorgridcolor": "white",
             "startlinecolor": "#2a3f5f"
            },
            "baxis": {
             "endlinecolor": "#2a3f5f",
             "gridcolor": "white",
             "linecolor": "white",
             "minorgridcolor": "white",
             "startlinecolor": "#2a3f5f"
            },
            "type": "carpet"
           }
          ],
          "choropleth": [
           {
            "colorbar": {
             "outlinewidth": 0,
             "ticks": ""
            },
            "type": "choropleth"
           }
          ],
          "contour": [
           {
            "colorbar": {
             "outlinewidth": 0,
             "ticks": ""
            },
            "colorscale": [
             [
              0,
              "#0d0887"
             ],
             [
              0.1111111111111111,
              "#46039f"
             ],
             [
              0.2222222222222222,
              "#7201a8"
             ],
             [
              0.3333333333333333,
              "#9c179e"
             ],
             [
              0.4444444444444444,
              "#bd3786"
             ],
             [
              0.5555555555555556,
              "#d8576b"
             ],
             [
              0.6666666666666666,
              "#ed7953"
             ],
             [
              0.7777777777777778,
              "#fb9f3a"
             ],
             [
              0.8888888888888888,
              "#fdca26"
             ],
             [
              1,
              "#f0f921"
             ]
            ],
            "type": "contour"
           }
          ],
          "contourcarpet": [
           {
            "colorbar": {
             "outlinewidth": 0,
             "ticks": ""
            },
            "type": "contourcarpet"
           }
          ],
          "heatmap": [
           {
            "colorbar": {
             "outlinewidth": 0,
             "ticks": ""
            },
            "colorscale": [
             [
              0,
              "#0d0887"
             ],
             [
              0.1111111111111111,
              "#46039f"
             ],
             [
              0.2222222222222222,
              "#7201a8"
             ],
             [
              0.3333333333333333,
              "#9c179e"
             ],
             [
              0.4444444444444444,
              "#bd3786"
             ],
             [
              0.5555555555555556,
              "#d8576b"
             ],
             [
              0.6666666666666666,
              "#ed7953"
             ],
             [
              0.7777777777777778,
              "#fb9f3a"
             ],
             [
              0.8888888888888888,
              "#fdca26"
             ],
             [
              1,
              "#f0f921"
             ]
            ],
            "type": "heatmap"
           }
          ],
          "histogram": [
           {
            "marker": {
             "pattern": {
              "fillmode": "overlay",
              "size": 10,
              "solidity": 0.2
             }
            },
            "type": "histogram"
           }
          ],
          "histogram2d": [
           {
            "colorbar": {
             "outlinewidth": 0,
             "ticks": ""
            },
            "colorscale": [
             [
              0,
              "#0d0887"
             ],
             [
              0.1111111111111111,
              "#46039f"
             ],
             [
              0.2222222222222222,
              "#7201a8"
             ],
             [
              0.3333333333333333,
              "#9c179e"
             ],
             [
              0.4444444444444444,
              "#bd3786"
             ],
             [
              0.5555555555555556,
              "#d8576b"
             ],
             [
              0.6666666666666666,
              "#ed7953"
             ],
             [
              0.7777777777777778,
              "#fb9f3a"
             ],
             [
              0.8888888888888888,
              "#fdca26"
             ],
             [
              1,
              "#f0f921"
             ]
            ],
            "type": "histogram2d"
           }
          ],
          "histogram2dcontour": [
           {
            "colorbar": {
             "outlinewidth": 0,
             "ticks": ""
            },
            "colorscale": [
             [
              0,
              "#0d0887"
             ],
             [
              0.1111111111111111,
              "#46039f"
             ],
             [
              0.2222222222222222,
              "#7201a8"
             ],
             [
              0.3333333333333333,
              "#9c179e"
             ],
             [
              0.4444444444444444,
              "#bd3786"
             ],
             [
              0.5555555555555556,
              "#d8576b"
             ],
             [
              0.6666666666666666,
              "#ed7953"
             ],
             [
              0.7777777777777778,
              "#fb9f3a"
             ],
             [
              0.8888888888888888,
              "#fdca26"
             ],
             [
              1,
              "#f0f921"
             ]
            ],
            "type": "histogram2dcontour"
           }
          ],
          "mesh3d": [
           {
            "colorbar": {
             "outlinewidth": 0,
             "ticks": ""
            },
            "type": "mesh3d"
           }
          ],
          "parcoords": [
           {
            "line": {
             "colorbar": {
              "outlinewidth": 0,
              "ticks": ""
             }
            },
            "type": "parcoords"
           }
          ],
          "pie": [
           {
            "automargin": true,
            "type": "pie"
           }
          ],
          "scatter": [
           {
            "fillpattern": {
             "fillmode": "overlay",
             "size": 10,
             "solidity": 0.2
            },
            "type": "scatter"
           }
          ],
          "scatter3d": [
           {
            "line": {
             "colorbar": {
              "outlinewidth": 0,
              "ticks": ""
             }
            },
            "marker": {
             "colorbar": {
              "outlinewidth": 0,
              "ticks": ""
             }
            },
            "type": "scatter3d"
           }
          ],
          "scattercarpet": [
           {
            "marker": {
             "colorbar": {
              "outlinewidth": 0,
              "ticks": ""
             }
            },
            "type": "scattercarpet"
           }
          ],
          "scattergeo": [
           {
            "marker": {
             "colorbar": {
              "outlinewidth": 0,
              "ticks": ""
             }
            },
            "type": "scattergeo"
           }
          ],
          "scattergl": [
           {
            "marker": {
             "colorbar": {
              "outlinewidth": 0,
              "ticks": ""
             }
            },
            "type": "scattergl"
           }
          ],
          "scattermap": [
           {
            "marker": {
             "colorbar": {
              "outlinewidth": 0,
              "ticks": ""
             }
            },
            "type": "scattermap"
           }
          ],
          "scattermapbox": [
           {
            "marker": {
             "colorbar": {
              "outlinewidth": 0,
              "ticks": ""
             }
            },
            "type": "scattermapbox"
           }
          ],
          "scatterpolar": [
           {
            "marker": {
             "colorbar": {
              "outlinewidth": 0,
              "ticks": ""
             }
            },
            "type": "scatterpolar"
           }
          ],
          "scatterpolargl": [
           {
            "marker": {
             "colorbar": {
              "outlinewidth": 0,
              "ticks": ""
             }
            },
            "type": "scatterpolargl"
           }
          ],
          "scatterternary": [
           {
            "marker": {
             "colorbar": {
              "outlinewidth": 0,
              "ticks": ""
             }
            },
            "type": "scatterternary"
           }
          ],
          "surface": [
           {
            "colorbar": {
             "outlinewidth": 0,
             "ticks": ""
            },
            "colorscale": [
             [
              0,
              "#0d0887"
             ],
             [
              0.1111111111111111,
              "#46039f"
             ],
             [
              0.2222222222222222,
              "#7201a8"
             ],
             [
              0.3333333333333333,
              "#9c179e"
             ],
             [
              0.4444444444444444,
              "#bd3786"
             ],
             [
              0.5555555555555556,
              "#d8576b"
             ],
             [
              0.6666666666666666,
              "#ed7953"
             ],
             [
              0.7777777777777778,
              "#fb9f3a"
             ],
             [
              0.8888888888888888,
              "#fdca26"
             ],
             [
              1,
              "#f0f921"
             ]
            ],
            "type": "surface"
           }
          ],
          "table": [
           {
            "cells": {
             "fill": {
              "color": "#EBF0F8"
             },
             "line": {
              "color": "white"
             }
            },
            "header": {
             "fill": {
              "color": "#C8D4E3"
             },
             "line": {
              "color": "white"
             }
            },
            "type": "table"
           }
          ]
         },
         "layout": {
          "annotationdefaults": {
           "arrowcolor": "#2a3f5f",
           "arrowhead": 0,
           "arrowwidth": 1
          },
          "autotypenumbers": "strict",
          "coloraxis": {
           "colorbar": {
            "outlinewidth": 0,
            "ticks": ""
           }
          },
          "colorscale": {
           "diverging": [
            [
             0,
             "#8e0152"
            ],
            [
             0.1,
             "#c51b7d"
            ],
            [
             0.2,
             "#de77ae"
            ],
            [
             0.3,
             "#f1b6da"
            ],
            [
             0.4,
             "#fde0ef"
            ],
            [
             0.5,
             "#f7f7f7"
            ],
            [
             0.6,
             "#e6f5d0"
            ],
            [
             0.7,
             "#b8e186"
            ],
            [
             0.8,
             "#7fbc41"
            ],
            [
             0.9,
             "#4d9221"
            ],
            [
             1,
             "#276419"
            ]
           ],
           "sequential": [
            [
             0,
             "#0d0887"
            ],
            [
             0.1111111111111111,
             "#46039f"
            ],
            [
             0.2222222222222222,
             "#7201a8"
            ],
            [
             0.3333333333333333,
             "#9c179e"
            ],
            [
             0.4444444444444444,
             "#bd3786"
            ],
            [
             0.5555555555555556,
             "#d8576b"
            ],
            [
             0.6666666666666666,
             "#ed7953"
            ],
            [
             0.7777777777777778,
             "#fb9f3a"
            ],
            [
             0.8888888888888888,
             "#fdca26"
            ],
            [
             1,
             "#f0f921"
            ]
           ],
           "sequentialminus": [
            [
             0,
             "#0d0887"
            ],
            [
             0.1111111111111111,
             "#46039f"
            ],
            [
             0.2222222222222222,
             "#7201a8"
            ],
            [
             0.3333333333333333,
             "#9c179e"
            ],
            [
             0.4444444444444444,
             "#bd3786"
            ],
            [
             0.5555555555555556,
             "#d8576b"
            ],
            [
             0.6666666666666666,
             "#ed7953"
            ],
            [
             0.7777777777777778,
             "#fb9f3a"
            ],
            [
             0.8888888888888888,
             "#fdca26"
            ],
            [
             1,
             "#f0f921"
            ]
           ]
          },
          "colorway": [
           "#636efa",
           "#EF553B",
           "#00cc96",
           "#ab63fa",
           "#FFA15A",
           "#19d3f3",
           "#FF6692",
           "#B6E880",
           "#FF97FF",
           "#FECB52"
          ],
          "font": {
           "color": "#2a3f5f"
          },
          "geo": {
           "bgcolor": "white",
           "lakecolor": "white",
           "landcolor": "#E5ECF6",
           "showlakes": true,
           "showland": true,
           "subunitcolor": "white"
          },
          "hoverlabel": {
           "align": "left"
          },
          "hovermode": "closest",
          "mapbox": {
           "style": "light"
          },
          "paper_bgcolor": "white",
          "plot_bgcolor": "#E5ECF6",
          "polar": {
           "angularaxis": {
            "gridcolor": "white",
            "linecolor": "white",
            "ticks": ""
           },
           "bgcolor": "#E5ECF6",
           "radialaxis": {
            "gridcolor": "white",
            "linecolor": "white",
            "ticks": ""
           }
          },
          "scene": {
           "xaxis": {
            "backgroundcolor": "#E5ECF6",
            "gridcolor": "white",
            "gridwidth": 2,
            "linecolor": "white",
            "showbackground": true,
            "ticks": "",
            "zerolinecolor": "white"
           },
           "yaxis": {
            "backgroundcolor": "#E5ECF6",
            "gridcolor": "white",
            "gridwidth": 2,
            "linecolor": "white",
            "showbackground": true,
            "ticks": "",
            "zerolinecolor": "white"
           },
           "zaxis": {
            "backgroundcolor": "#E5ECF6",
            "gridcolor": "white",
            "gridwidth": 2,
            "linecolor": "white",
            "showbackground": true,
            "ticks": "",
            "zerolinecolor": "white"
           }
          },
          "shapedefaults": {
           "line": {
            "color": "#2a3f5f"
           }
          },
          "ternary": {
           "aaxis": {
            "gridcolor": "white",
            "linecolor": "white",
            "ticks": ""
           },
           "baxis": {
            "gridcolor": "white",
            "linecolor": "white",
            "ticks": ""
           },
           "bgcolor": "#E5ECF6",
           "caxis": {
            "gridcolor": "white",
            "linecolor": "white",
            "ticks": ""
           }
          },
          "title": {
           "x": 0.05
          },
          "xaxis": {
           "automargin": true,
           "gridcolor": "white",
           "linecolor": "white",
           "ticks": "",
           "title": {
            "standoff": 15
           },
           "zerolinecolor": "white",
           "zerolinewidth": 2
          },
          "yaxis": {
           "automargin": true,
           "gridcolor": "white",
           "linecolor": "white",
           "ticks": "",
           "title": {
            "standoff": 15
           },
           "zerolinecolor": "white",
           "zerolinewidth": 2
          }
         }
        },
        "title": {
         "text": "Average Followers by Pages Buckets"
        },
        "width": 900,
        "xaxis": {
         "tickangle": -15,
         "title": {
          "text": "Pages Buckets (Equal Sized Groups)"
         }
        },
        "yaxis": {
         "title": {
          "text": "Average Followers"
         },
         "type": "log"
        }
       }
      }
     },
     "metadata": {},
     "output_type": "display_data"
    }
   ],
   "source": [
    "# Create scatter plots of length metrics vs performance metrics\n",
    "from config import LENGTH_METRICS, PERFORMANCE_METRICS\n",
    "from utils import create_buckets\n",
    "\n",
    "# Remove any rows with null values in relevant columns\n",
    "plot_df = df.dropna(subset=LENGTH_METRICS + PERFORMANCE_METRICS)\n",
    "\n",
    "fig = make_subplots(rows=len(LENGTH_METRICS), cols=len(PERFORMANCE_METRICS),\n",
    "                    subplot_titles=[f'{p} vs {l}' for l in LENGTH_METRICS for p in PERFORMANCE_METRICS],\n",
    "                    vertical_spacing=0.15,\n",
    "                    horizontal_spacing=0.1)\n",
    "\n",
    "for i, length_metric in enumerate(LENGTH_METRICS):\n",
    "    for j, perf_metric in enumerate(PERFORMANCE_METRICS):\n",
    "        # Filter out outliers (values beyond 99th percentile)\n",
    "        length_threshold = plot_df[length_metric].quantile(0.99)\n",
    "        perf_threshold = plot_df[perf_metric].quantile(0.99)\n",
    "        filtered_df = plot_df[\n",
    "            (plot_df[length_metric] <= length_threshold) & \n",
    "            (plot_df[perf_metric] <= perf_threshold)\n",
    "        ]\n",
    "        \n",
    "        fig.add_trace(\n",
    "            go.Scatter(\n",
    "                x=filtered_df[length_metric],\n",
    "                y=filtered_df[perf_metric],\n",
    "                mode='markers',\n",
    "                name=f'{perf_metric} vs {length_metric}',\n",
    "                marker=dict(size=5, opacity=0.5)\n",
    "            ),\n",
    "            row=i+1, col=j+1\n",
    "        )\n",
    "        \n",
    "        # Add trend line\n",
    "        z = np.polyfit(filtered_df[length_metric], filtered_df[perf_metric], 1)\n",
    "        p = np.poly1d(z)\n",
    "        x_trend = np.linspace(filtered_df[length_metric].min(), filtered_df[length_metric].max(), 100)\n",
    "        \n",
    "        fig.add_trace(\n",
    "            go.Scatter(\n",
    "                x=x_trend,\n",
    "                y=p(x_trend),\n",
    "                mode='lines',\n",
    "                name=f'Trend {perf_metric} vs {length_metric}',\n",
    "                line=dict(color='red')\n",
    "            ),\n",
    "            row=i+1, col=j+1\n",
    "        )\n",
    "        \n",
    "        fig.update_xaxes(title_text=length_metric, row=i+1, col=j+1)\n",
    "        fig.update_yaxes(title_text=perf_metric, row=i+1, col=j+1)\n",
    "\n",
    "fig.update_layout(height=800, showlegend=False, title_text=\"Relationship between Story Length and Performance Metrics\")\n",
    "fig.show()\n",
    "\n",
    "# Create separate plots for each performance metric to handle scale differences\n",
    "for length_metric in LENGTH_METRICS:\n",
    "    clean_df = plot_df.dropna(subset=[length_metric] + PERFORMANCE_METRICS)\n",
    "    \n",
    "    # Create buckets based on the length metric using utility function\n",
    "    clean_df[f'{length_metric}_bucket'] = create_buckets(clean_df[length_metric])\n",
    "    \n",
    "    # Calculate the average values for each metric within each bucket\n",
    "    avg_by_bucket = clean_df.groupby(f'{length_metric}_bucket')[PERFORMANCE_METRICS].mean().reset_index()\n",
    "    \n",
    "    # Add a column showing the actual range of values in each bucket\n",
    "    bucket_ranges = clean_df.groupby(f'{length_metric}_bucket')[length_metric].agg(['min', 'max'])\n",
    "    \n",
    "    # Create separate plots for each performance metric (due to scale differences)\n",
    "    for metric in PERFORMANCE_METRICS:\n",
    "        fig = go.Figure()\n",
    "        \n",
    "        # Create bucket labels with ranges for x-axis\n",
    "        bucket_labels = []\n",
    "        for bucket in avg_by_bucket[f'{length_metric}_bucket']:\n",
    "            min_val = bucket_ranges.loc[bucket, 'min']\n",
    "            max_val = bucket_ranges.loc[bucket, 'max']\n",
    "            # Format numbers with commas for thousands separator if needed\n",
    "            if min_val >= 1000 or max_val >= 1000:\n",
    "                bucket_labels.append(f\"{bucket}<br>({int(min_val):,} to {int(max_val):,})\")\n",
    "            else:\n",
    "                bucket_labels.append(f\"{bucket}<br>({min_val:.1f} to {max_val:.1f})\")\n",
    "        \n",
    "        fig.add_trace(\n",
    "            go.Bar(\n",
    "                name=metric,\n",
    "                x=bucket_labels,  # Use formatted labels with ranges\n",
    "                y=avg_by_bucket[metric],\n",
    "                text=np.round(avg_by_bucket[metric], 2),\n",
    "                textposition='auto',\n",
    "                hovertemplate='%{x}<br>%{y:,.2f} ' + metric + '<extra></extra>',\n",
    "            )\n",
    "        )\n",
    "        \n",
    "        fig.update_layout(\n",
    "            title=f'Average {metric.capitalize()} by {length_metric.capitalize()} Buckets',\n",
    "            xaxis_title=f'{length_metric.capitalize()} Buckets (Equal Sized Groups)',\n",
    "            yaxis_title=f'Average {metric.capitalize()}',\n",
    "            height=500,\n",
    "            width=900,  # Slightly wider to accommodate the labels\n",
    "            margin=dict(b=80),  # Extra bottom margin for the labels\n",
    "            xaxis=dict(tickangle=-15)  # Angle the labels for better readability\n",
    "        )\n",
    "        \n",
    "        # Use log scale for views and followers for better visibility\n",
    "        if metric in ['views', 'followers']:\n",
    "            fig.update_yaxes(type='log')\n",
    "            \n",
    "        fig.show()"
   ]
  },
  {
   "cell_type": "markdown",
   "id": "0aa08c4a",
   "metadata": {},
   "source": [
    "## Time-Series Analysis and Growth Tracking\n",
    "\n",
    "Let's analyze how story metrics change over time using the time-series data we've collected. This section dynamically adapts to the available data periods, automatically selecting appropriate time windows based on how much data has been collected."
   ]
  },
  {
   "cell_type": "code",
   "execution_count": 20,
   "id": "d38daa15",
   "metadata": {},
   "outputs": [
    {
     "name": "stdout",
     "output_type": "stream",
     "text": [
      "Most recent data date: 2025-10-15\n",
      "Data spans 5 days (from 2025-10-09 to 2025-10-15)\n",
      "Found 85 stories with multiple snapshots for time-series analysis\n",
      "Short data collection period detected (< 7 days). Using daily analysis.\n",
      "\n",
      "Story Growth Metrics Summary:\n",
      "Average Views Growth: 9280.6 (2498.3 per day)\n",
      "Average Followers Growth: 22.3 (5.9 per day)\n",
      "Average Rating Change: -0.01\n",
      "\n",
      "Top 10 Stories by Views Growth Per Day:\n",
      "Reborn With a Magic System: 12691.3 views/day (+3.8%)\n",
      "Cultivation System: Elder Edition: 11253.4 views/day (+5.3%)\n",
      "Not (Just) A Mage Lord Isekai: 9902.6 views/day (+3.1%)\n",
      "God of Trash [Cultivation LitRPG] From Trash-Tier to the Ultimate Trash! [Book 4 Complete!]: 9198.0 views/day (+2.5%)\n",
      "Naruto: Stormbreaker: 6641.3 views/day (+2.4%)\n",
      "Sporemageddon: 6120.7 views/day (+4.7%)\n",
      "The Ethersmith [Book 1 Complete!]: 6019.8 views/day (+6.6%)\n",
      "Stupid Sexy Cryptids [or How I Became the Emperor of Mankind]: 5854.0 views/day (+13.9%)\n",
      "Too Stubborn to Die [ Death-loop SysApoc ]: 5672.2 views/day (+5.1%)\n",
      "Behemoth of the Ocean \"A Cruise ship Isekai Litrpg\": 5041.0 views/day (+2.3%)\n",
      "\n",
      "Top 10 Stories by Followers Growth Per Day:\n",
      "Pokémon: Displaced: 58.2 followers/day (+45.8%)\n",
      "Rat's Guide to Survival: 24.4 followers/day (+68.9%)\n",
      "A Pirate's Life for Mei: 21.0 followers/day (+28.9%)\n",
      "Monarch of the Forgotten God [Cyberpunk/Fantasy LitRPG]: 21.0 followers/day (+4.6%)\n",
      "Stupid Sexy Cryptids [or How I Became the Emperor of Mankind]: 20.2 followers/day (+5.4%)\n",
      "Reader Mage: 17.4 followers/day (+4.4%)\n",
      "Behemoth of the Ocean \"A Cruise ship Isekai Litrpg\": 15.0 followers/day (+1.1%)\n",
      "The Lord Of Blood Hill: 14.7 followers/day (+22.4%)\n",
      "Reborn With a Magic System: 11.7 followers/day (+2.7%)\n",
      "The Machine God: 11.2 followers/day (+2.0%)\n"
     ]
    },
    {
     "data": {
      "application/vnd.plotly.v1+json": {
       "config": {
        "plotlyServerURL": "https://plot.ly"
       },
       "data": [
        {
         "hovertemplate": "<b>Reborn With a Magic System</b><br>%{x|%Y-%m-%d}<br>%{y:,.0f} views<extra></extra>",
         "line": {
          "width": 2
         },
         "marker": {
          "size": 6
         },
         "mode": "lines+markers",
         "name": "Reborn With a Magic System",
         "type": "scatter",
         "x": [
          "2025-10-11T18:43:30.000000000",
          "2025-10-11T19:04:33.000000000",
          "2025-10-11T20:19:12.000000000",
          "2025-10-12T03:54:37.000000000",
          "2025-10-12T16:55:55.000000000",
          "2025-10-13T17:04:44.000000000",
          "2025-10-13T20:54:01.000000000",
          "2025-10-14T00:44:37.000000000",
          "2025-10-14T15:02:00.000000000",
          "2025-10-15T05:58:06.000000000",
          "2025-10-15T17:29:33.000000000"
         ],
         "y": {
          "bdata": "1kwPALpNDwD+Tg8AFVoPAPdqDwAhiw8AXJQPAM2aDwCZsw8Aec4PAJDhDwA=",
          "dtype": "i4"
         }
        },
        {
         "hovertemplate": "<b>Cultivation System: Elder Edition</b><br>%{x|%Y-%m-%d}<br>%{y:,.0f} views<extra></extra>",
         "line": {
          "width": 2
         },
         "marker": {
          "size": 6
         },
         "mode": "lines+markers",
         "name": "Cultivation System: Elder Edit...",
         "type": "scatter",
         "x": [
          "2025-10-09T21:41:25.000000000",
          "2025-10-11T17:37:06.000000000",
          "2025-10-11T18:43:30.000000000",
          "2025-10-11T19:04:33.000000000",
          "2025-10-11T20:19:12.000000000",
          "2025-10-13T17:04:44.000000000",
          "2025-10-13T20:54:01.000000000",
          "2025-10-14T15:02:00.000000000",
          "2025-10-15T17:29:33.000000000"
         ],
         "y": {
          "bdata": "6TIQAJB3EAAweRAANXoQAPx7EACtxxAAicwQAFrlEAC0DhEA",
          "dtype": "i4"
         }
        },
        {
         "hovertemplate": "<b>Not (Just) A Mage Lord Isekai</b><br>%{x|%Y-%m-%d}<br>%{y:,.0f} views<extra></extra>",
         "line": {
          "width": 2
         },
         "marker": {
          "size": 6
         },
         "mode": "lines+markers",
         "name": "Not (Just) A Mage Lord Isekai",
         "type": "scatter",
         "x": [
          "2025-10-09T21:41:25.000000000",
          "2025-10-11T17:37:06.000000000",
          "2025-10-11T18:43:30.000000000",
          "2025-10-11T19:04:33.000000000",
          "2025-10-11T20:19:12.000000000",
          "2025-10-12T03:40:30.000000000",
          "2025-10-12T03:54:37.000000000",
          "2025-10-12T14:50:48.000000000",
          "2025-10-12T16:55:55.000000000",
          "2025-10-13T20:54:01.000000000",
          "2025-10-14T15:02:00.000000000",
          "2025-10-15T05:58:06.000000000",
          "2025-10-15T17:29:33.000000000"
         ],
         "y": {
          "bdata": "dqMYAMjaGABN3BgA49wYAJjeGACY5xgA1ucYAA/2GABv+xgAjyYZACI+GQAcVxkA32QZAA==",
          "dtype": "i4"
         }
        },
        {
         "hovertemplate": "<b>God of Trash [Cultivation LitRPG] From Trash-Tier to the Ultimate Trash! [Book 4 Complete!]</b><br>%{x|%Y-%m-%d}<br>%{y:,.0f} views<extra></extra>",
         "line": {
          "width": 2
         },
         "marker": {
          "size": 6
         },
         "mode": "lines+markers",
         "name": "God of Trash [Cultivation LitR...",
         "type": "scatter",
         "x": [
          "2025-10-09T21:41:25.000000000",
          "2025-10-11T17:37:06.000000000",
          "2025-10-11T18:43:30.000000000",
          "2025-10-11T19:04:33.000000000",
          "2025-10-11T20:19:12.000000000",
          "2025-10-12T03:40:30.000000000",
          "2025-10-12T03:54:37.000000000",
          "2025-10-12T14:50:48.000000000",
          "2025-10-12T16:55:55.000000000",
          "2025-10-13T13:58:11.000000000",
          "2025-10-13T20:54:01.000000000",
          "2025-10-14T15:02:00.000000000",
          "2025-10-15T05:58:06.000000000"
         ],
         "y": {
          "bdata": "DQQcAPtBHABhQxwAHEQcAIdGHAABVBwATFQcAHhiHAB5ZRwAVYccAFCSHADYphwAs7ccAA==",
          "dtype": "i4"
         }
        },
        {
         "hovertemplate": "<b>Naruto: Stormbreaker</b><br>%{x|%Y-%m-%d}<br>%{y:,.0f} views<extra></extra>",
         "line": {
          "width": 2
         },
         "marker": {
          "size": 6
         },
         "mode": "lines+markers",
         "name": "Naruto: Stormbreaker",
         "type": "scatter",
         "x": [
          "2025-10-11T18:43:30.000000000",
          "2025-10-11T19:04:33.000000000",
          "2025-10-11T20:19:12.000000000",
          "2025-10-12T03:54:37.000000000",
          "2025-10-12T16:55:55.000000000",
          "2025-10-13T20:54:01.000000000",
          "2025-10-14T15:02:00.000000000",
          "2025-10-15T05:58:06.000000000"
         ],
         "y": {
          "bdata": "g7IMADWzDACdtAwAx7kMAFXEDACs4QwA4e4MAFcADQA=",
          "dtype": "i4"
         }
        }
       ],
       "layout": {
        "height": 600,
        "legend": {
         "bgcolor": "rgba(255,255,255,0.8)",
         "bordercolor": "rgba(0,0,0,0.3)",
         "borderwidth": 1,
         "orientation": "v",
         "x": 1.02,
         "xanchor": "left",
         "y": 1,
         "yanchor": "top"
        },
        "margin": {
         "r": 200
        },
        "template": {
         "data": {
          "bar": [
           {
            "error_x": {
             "color": "#2a3f5f"
            },
            "error_y": {
             "color": "#2a3f5f"
            },
            "marker": {
             "line": {
              "color": "#E5ECF6",
              "width": 0.5
             },
             "pattern": {
              "fillmode": "overlay",
              "size": 10,
              "solidity": 0.2
             }
            },
            "type": "bar"
           }
          ],
          "barpolar": [
           {
            "marker": {
             "line": {
              "color": "#E5ECF6",
              "width": 0.5
             },
             "pattern": {
              "fillmode": "overlay",
              "size": 10,
              "solidity": 0.2
             }
            },
            "type": "barpolar"
           }
          ],
          "carpet": [
           {
            "aaxis": {
             "endlinecolor": "#2a3f5f",
             "gridcolor": "white",
             "linecolor": "white",
             "minorgridcolor": "white",
             "startlinecolor": "#2a3f5f"
            },
            "baxis": {
             "endlinecolor": "#2a3f5f",
             "gridcolor": "white",
             "linecolor": "white",
             "minorgridcolor": "white",
             "startlinecolor": "#2a3f5f"
            },
            "type": "carpet"
           }
          ],
          "choropleth": [
           {
            "colorbar": {
             "outlinewidth": 0,
             "ticks": ""
            },
            "type": "choropleth"
           }
          ],
          "contour": [
           {
            "colorbar": {
             "outlinewidth": 0,
             "ticks": ""
            },
            "colorscale": [
             [
              0,
              "#0d0887"
             ],
             [
              0.1111111111111111,
              "#46039f"
             ],
             [
              0.2222222222222222,
              "#7201a8"
             ],
             [
              0.3333333333333333,
              "#9c179e"
             ],
             [
              0.4444444444444444,
              "#bd3786"
             ],
             [
              0.5555555555555556,
              "#d8576b"
             ],
             [
              0.6666666666666666,
              "#ed7953"
             ],
             [
              0.7777777777777778,
              "#fb9f3a"
             ],
             [
              0.8888888888888888,
              "#fdca26"
             ],
             [
              1,
              "#f0f921"
             ]
            ],
            "type": "contour"
           }
          ],
          "contourcarpet": [
           {
            "colorbar": {
             "outlinewidth": 0,
             "ticks": ""
            },
            "type": "contourcarpet"
           }
          ],
          "heatmap": [
           {
            "colorbar": {
             "outlinewidth": 0,
             "ticks": ""
            },
            "colorscale": [
             [
              0,
              "#0d0887"
             ],
             [
              0.1111111111111111,
              "#46039f"
             ],
             [
              0.2222222222222222,
              "#7201a8"
             ],
             [
              0.3333333333333333,
              "#9c179e"
             ],
             [
              0.4444444444444444,
              "#bd3786"
             ],
             [
              0.5555555555555556,
              "#d8576b"
             ],
             [
              0.6666666666666666,
              "#ed7953"
             ],
             [
              0.7777777777777778,
              "#fb9f3a"
             ],
             [
              0.8888888888888888,
              "#fdca26"
             ],
             [
              1,
              "#f0f921"
             ]
            ],
            "type": "heatmap"
           }
          ],
          "histogram": [
           {
            "marker": {
             "pattern": {
              "fillmode": "overlay",
              "size": 10,
              "solidity": 0.2
             }
            },
            "type": "histogram"
           }
          ],
          "histogram2d": [
           {
            "colorbar": {
             "outlinewidth": 0,
             "ticks": ""
            },
            "colorscale": [
             [
              0,
              "#0d0887"
             ],
             [
              0.1111111111111111,
              "#46039f"
             ],
             [
              0.2222222222222222,
              "#7201a8"
             ],
             [
              0.3333333333333333,
              "#9c179e"
             ],
             [
              0.4444444444444444,
              "#bd3786"
             ],
             [
              0.5555555555555556,
              "#d8576b"
             ],
             [
              0.6666666666666666,
              "#ed7953"
             ],
             [
              0.7777777777777778,
              "#fb9f3a"
             ],
             [
              0.8888888888888888,
              "#fdca26"
             ],
             [
              1,
              "#f0f921"
             ]
            ],
            "type": "histogram2d"
           }
          ],
          "histogram2dcontour": [
           {
            "colorbar": {
             "outlinewidth": 0,
             "ticks": ""
            },
            "colorscale": [
             [
              0,
              "#0d0887"
             ],
             [
              0.1111111111111111,
              "#46039f"
             ],
             [
              0.2222222222222222,
              "#7201a8"
             ],
             [
              0.3333333333333333,
              "#9c179e"
             ],
             [
              0.4444444444444444,
              "#bd3786"
             ],
             [
              0.5555555555555556,
              "#d8576b"
             ],
             [
              0.6666666666666666,
              "#ed7953"
             ],
             [
              0.7777777777777778,
              "#fb9f3a"
             ],
             [
              0.8888888888888888,
              "#fdca26"
             ],
             [
              1,
              "#f0f921"
             ]
            ],
            "type": "histogram2dcontour"
           }
          ],
          "mesh3d": [
           {
            "colorbar": {
             "outlinewidth": 0,
             "ticks": ""
            },
            "type": "mesh3d"
           }
          ],
          "parcoords": [
           {
            "line": {
             "colorbar": {
              "outlinewidth": 0,
              "ticks": ""
             }
            },
            "type": "parcoords"
           }
          ],
          "pie": [
           {
            "automargin": true,
            "type": "pie"
           }
          ],
          "scatter": [
           {
            "fillpattern": {
             "fillmode": "overlay",
             "size": 10,
             "solidity": 0.2
            },
            "type": "scatter"
           }
          ],
          "scatter3d": [
           {
            "line": {
             "colorbar": {
              "outlinewidth": 0,
              "ticks": ""
             }
            },
            "marker": {
             "colorbar": {
              "outlinewidth": 0,
              "ticks": ""
             }
            },
            "type": "scatter3d"
           }
          ],
          "scattercarpet": [
           {
            "marker": {
             "colorbar": {
              "outlinewidth": 0,
              "ticks": ""
             }
            },
            "type": "scattercarpet"
           }
          ],
          "scattergeo": [
           {
            "marker": {
             "colorbar": {
              "outlinewidth": 0,
              "ticks": ""
             }
            },
            "type": "scattergeo"
           }
          ],
          "scattergl": [
           {
            "marker": {
             "colorbar": {
              "outlinewidth": 0,
              "ticks": ""
             }
            },
            "type": "scattergl"
           }
          ],
          "scattermap": [
           {
            "marker": {
             "colorbar": {
              "outlinewidth": 0,
              "ticks": ""
             }
            },
            "type": "scattermap"
           }
          ],
          "scattermapbox": [
           {
            "marker": {
             "colorbar": {
              "outlinewidth": 0,
              "ticks": ""
             }
            },
            "type": "scattermapbox"
           }
          ],
          "scatterpolar": [
           {
            "marker": {
             "colorbar": {
              "outlinewidth": 0,
              "ticks": ""
             }
            },
            "type": "scatterpolar"
           }
          ],
          "scatterpolargl": [
           {
            "marker": {
             "colorbar": {
              "outlinewidth": 0,
              "ticks": ""
             }
            },
            "type": "scatterpolargl"
           }
          ],
          "scatterternary": [
           {
            "marker": {
             "colorbar": {
              "outlinewidth": 0,
              "ticks": ""
             }
            },
            "type": "scatterternary"
           }
          ],
          "surface": [
           {
            "colorbar": {
             "outlinewidth": 0,
             "ticks": ""
            },
            "colorscale": [
             [
              0,
              "#0d0887"
             ],
             [
              0.1111111111111111,
              "#46039f"
             ],
             [
              0.2222222222222222,
              "#7201a8"
             ],
             [
              0.3333333333333333,
              "#9c179e"
             ],
             [
              0.4444444444444444,
              "#bd3786"
             ],
             [
              0.5555555555555556,
              "#d8576b"
             ],
             [
              0.6666666666666666,
              "#ed7953"
             ],
             [
              0.7777777777777778,
              "#fb9f3a"
             ],
             [
              0.8888888888888888,
              "#fdca26"
             ],
             [
              1,
              "#f0f921"
             ]
            ],
            "type": "surface"
           }
          ],
          "table": [
           {
            "cells": {
             "fill": {
              "color": "#EBF0F8"
             },
             "line": {
              "color": "white"
             }
            },
            "header": {
             "fill": {
              "color": "#C8D4E3"
             },
             "line": {
              "color": "white"
             }
            },
            "type": "table"
           }
          ]
         },
         "layout": {
          "annotationdefaults": {
           "arrowcolor": "#2a3f5f",
           "arrowhead": 0,
           "arrowwidth": 1
          },
          "autotypenumbers": "strict",
          "coloraxis": {
           "colorbar": {
            "outlinewidth": 0,
            "ticks": ""
           }
          },
          "colorscale": {
           "diverging": [
            [
             0,
             "#8e0152"
            ],
            [
             0.1,
             "#c51b7d"
            ],
            [
             0.2,
             "#de77ae"
            ],
            [
             0.3,
             "#f1b6da"
            ],
            [
             0.4,
             "#fde0ef"
            ],
            [
             0.5,
             "#f7f7f7"
            ],
            [
             0.6,
             "#e6f5d0"
            ],
            [
             0.7,
             "#b8e186"
            ],
            [
             0.8,
             "#7fbc41"
            ],
            [
             0.9,
             "#4d9221"
            ],
            [
             1,
             "#276419"
            ]
           ],
           "sequential": [
            [
             0,
             "#0d0887"
            ],
            [
             0.1111111111111111,
             "#46039f"
            ],
            [
             0.2222222222222222,
             "#7201a8"
            ],
            [
             0.3333333333333333,
             "#9c179e"
            ],
            [
             0.4444444444444444,
             "#bd3786"
            ],
            [
             0.5555555555555556,
             "#d8576b"
            ],
            [
             0.6666666666666666,
             "#ed7953"
            ],
            [
             0.7777777777777778,
             "#fb9f3a"
            ],
            [
             0.8888888888888888,
             "#fdca26"
            ],
            [
             1,
             "#f0f921"
            ]
           ],
           "sequentialminus": [
            [
             0,
             "#0d0887"
            ],
            [
             0.1111111111111111,
             "#46039f"
            ],
            [
             0.2222222222222222,
             "#7201a8"
            ],
            [
             0.3333333333333333,
             "#9c179e"
            ],
            [
             0.4444444444444444,
             "#bd3786"
            ],
            [
             0.5555555555555556,
             "#d8576b"
            ],
            [
             0.6666666666666666,
             "#ed7953"
            ],
            [
             0.7777777777777778,
             "#fb9f3a"
            ],
            [
             0.8888888888888888,
             "#fdca26"
            ],
            [
             1,
             "#f0f921"
            ]
           ]
          },
          "colorway": [
           "#636efa",
           "#EF553B",
           "#00cc96",
           "#ab63fa",
           "#FFA15A",
           "#19d3f3",
           "#FF6692",
           "#B6E880",
           "#FF97FF",
           "#FECB52"
          ],
          "font": {
           "color": "#2a3f5f"
          },
          "geo": {
           "bgcolor": "white",
           "lakecolor": "white",
           "landcolor": "#E5ECF6",
           "showlakes": true,
           "showland": true,
           "subunitcolor": "white"
          },
          "hoverlabel": {
           "align": "left"
          },
          "hovermode": "closest",
          "mapbox": {
           "style": "light"
          },
          "paper_bgcolor": "white",
          "plot_bgcolor": "#E5ECF6",
          "polar": {
           "angularaxis": {
            "gridcolor": "white",
            "linecolor": "white",
            "ticks": ""
           },
           "bgcolor": "#E5ECF6",
           "radialaxis": {
            "gridcolor": "white",
            "linecolor": "white",
            "ticks": ""
           }
          },
          "scene": {
           "xaxis": {
            "backgroundcolor": "#E5ECF6",
            "gridcolor": "white",
            "gridwidth": 2,
            "linecolor": "white",
            "showbackground": true,
            "ticks": "",
            "zerolinecolor": "white"
           },
           "yaxis": {
            "backgroundcolor": "#E5ECF6",
            "gridcolor": "white",
            "gridwidth": 2,
            "linecolor": "white",
            "showbackground": true,
            "ticks": "",
            "zerolinecolor": "white"
           },
           "zaxis": {
            "backgroundcolor": "#E5ECF6",
            "gridcolor": "white",
            "gridwidth": 2,
            "linecolor": "white",
            "showbackground": true,
            "ticks": "",
            "zerolinecolor": "white"
           }
          },
          "shapedefaults": {
           "line": {
            "color": "#2a3f5f"
           }
          },
          "ternary": {
           "aaxis": {
            "gridcolor": "white",
            "linecolor": "white",
            "ticks": ""
           },
           "baxis": {
            "gridcolor": "white",
            "linecolor": "white",
            "ticks": ""
           },
           "bgcolor": "#E5ECF6",
           "caxis": {
            "gridcolor": "white",
            "linecolor": "white",
            "ticks": ""
           }
          },
          "title": {
           "x": 0.05
          },
          "xaxis": {
           "automargin": true,
           "gridcolor": "white",
           "linecolor": "white",
           "ticks": "",
           "title": {
            "standoff": 15
           },
           "zerolinecolor": "white",
           "zerolinewidth": 2
          },
          "yaxis": {
           "automargin": true,
           "gridcolor": "white",
           "linecolor": "white",
           "ticks": "",
           "title": {
            "standoff": 15
           },
           "zerolinecolor": "white",
           "zerolinewidth": 2
          }
         }
        },
        "title": {
         "text": "Time Series of Views for Top Growing Stories"
        },
        "width": 1000,
        "xaxis": {
         "title": {
          "text": "Date"
         }
        },
        "yaxis": {
         "title": {
          "text": "Views"
         },
         "type": "log"
        }
       }
      }
     },
     "metadata": {},
     "output_type": "display_data"
    },
    {
     "data": {
      "application/vnd.plotly.v1+json": {
       "config": {
        "plotlyServerURL": "https://plot.ly"
       },
       "data": [
        {
         "hovertemplate": "<b>Reborn With a Magic System</b><br>%{x|%Y-%m-%d}<br>%{y:,.0f} followers<extra></extra>",
         "line": {
          "width": 2
         },
         "marker": {
          "size": 6
         },
         "mode": "lines+markers",
         "name": "Reborn With a Magic System",
         "type": "scatter",
         "x": [
          "2025-10-11T18:43:30.000000000",
          "2025-10-11T19:04:33.000000000",
          "2025-10-11T20:19:12.000000000",
          "2025-10-12T03:54:37.000000000",
          "2025-10-12T16:55:55.000000000",
          "2025-10-13T17:04:44.000000000",
          "2025-10-13T20:54:01.000000000",
          "2025-10-14T00:44:37.000000000",
          "2025-10-14T15:02:00.000000000",
          "2025-10-15T05:58:06.000000000",
          "2025-10-15T17:29:33.000000000"
         ],
         "y": {
          "bdata": "KAUpBSoFLQUvBTcFOwU/BUQFSQVLBQ==",
          "dtype": "i2"
         }
        },
        {
         "hovertemplate": "<b>Cultivation System: Elder Edition</b><br>%{x|%Y-%m-%d}<br>%{y:,.0f} followers<extra></extra>",
         "line": {
          "width": 2
         },
         "marker": {
          "size": 6
         },
         "mode": "lines+markers",
         "name": "Cultivation System: Elder Edit...",
         "type": "scatter",
         "x": [
          "2025-10-09T21:41:25.000000000",
          "2025-10-11T17:37:06.000000000",
          "2025-10-11T18:43:30.000000000",
          "2025-10-11T19:04:33.000000000",
          "2025-10-11T20:19:12.000000000",
          "2025-10-13T17:04:44.000000000",
          "2025-10-13T20:54:01.000000000",
          "2025-10-14T15:02:00.000000000",
          "2025-10-15T17:29:33.000000000"
         ],
         "y": {
          "bdata": "9wwFDQUNBQ0FDRUNFg0XDR8N",
          "dtype": "i2"
         }
        },
        {
         "hovertemplate": "<b>Not (Just) A Mage Lord Isekai</b><br>%{x|%Y-%m-%d}<br>%{y:,.0f} followers<extra></extra>",
         "line": {
          "width": 2
         },
         "marker": {
          "size": 6
         },
         "mode": "lines+markers",
         "name": "Not (Just) A Mage Lord Isekai",
         "type": "scatter",
         "x": [
          "2025-10-09T21:41:25.000000000",
          "2025-10-11T17:37:06.000000000",
          "2025-10-11T18:43:30.000000000",
          "2025-10-11T19:04:33.000000000",
          "2025-10-11T20:19:12.000000000",
          "2025-10-12T03:40:30.000000000",
          "2025-10-12T03:54:37.000000000",
          "2025-10-12T14:50:48.000000000",
          "2025-10-12T16:55:55.000000000",
          "2025-10-13T20:54:01.000000000",
          "2025-10-14T15:02:00.000000000",
          "2025-10-15T05:58:06.000000000",
          "2025-10-15T17:29:33.000000000"
         ],
         "y": {
          "bdata": "sxG/Eb4RvhG+Eb8RvxG+Eb0RwxHKEcoRyRE=",
          "dtype": "i2"
         }
        },
        {
         "hovertemplate": "<b>God of Trash [Cultivation LitRPG] From Trash-Tier to the Ultimate Trash! [Book 4 Complete!]</b><br>%{x|%Y-%m-%d}<br>%{y:,.0f} followers<extra></extra>",
         "line": {
          "width": 2
         },
         "marker": {
          "size": 6
         },
         "mode": "lines+markers",
         "name": "God of Trash [Cultivation LitR...",
         "type": "scatter",
         "x": [
          "2025-10-09T21:41:25.000000000",
          "2025-10-11T17:37:06.000000000",
          "2025-10-11T18:43:30.000000000",
          "2025-10-11T19:04:33.000000000",
          "2025-10-11T20:19:12.000000000",
          "2025-10-12T03:40:30.000000000",
          "2025-10-12T03:54:37.000000000",
          "2025-10-12T14:50:48.000000000",
          "2025-10-12T16:55:55.000000000",
          "2025-10-13T13:58:11.000000000",
          "2025-10-13T20:54:01.000000000",
          "2025-10-14T15:02:00.000000000",
          "2025-10-15T05:58:06.000000000"
         ],
         "y": {
          "bdata": "nRSpFKkUqRSnFKgUqBSoFKcUqRSpFK4UsRQ=",
          "dtype": "i2"
         }
        },
        {
         "hovertemplate": "<b>Naruto: Stormbreaker</b><br>%{x|%Y-%m-%d}<br>%{y:,.0f} followers<extra></extra>",
         "line": {
          "width": 2
         },
         "marker": {
          "size": 6
         },
         "mode": "lines+markers",
         "name": "Naruto: Stormbreaker",
         "type": "scatter",
         "x": [
          "2025-10-11T18:43:30.000000000",
          "2025-10-11T19:04:33.000000000",
          "2025-10-11T20:19:12.000000000",
          "2025-10-12T03:54:37.000000000",
          "2025-10-12T16:55:55.000000000",
          "2025-10-13T20:54:01.000000000",
          "2025-10-14T15:02:00.000000000",
          "2025-10-15T05:58:06.000000000"
         ],
         "y": {
          "bdata": "dAh0CHUIdAh1CIAIgwiECA==",
          "dtype": "i2"
         }
        }
       ],
       "layout": {
        "height": 600,
        "legend": {
         "bgcolor": "rgba(255,255,255,0.8)",
         "bordercolor": "rgba(0,0,0,0.3)",
         "borderwidth": 1,
         "orientation": "v",
         "x": 1.02,
         "xanchor": "left",
         "y": 1,
         "yanchor": "top"
        },
        "margin": {
         "r": 200
        },
        "template": {
         "data": {
          "bar": [
           {
            "error_x": {
             "color": "#2a3f5f"
            },
            "error_y": {
             "color": "#2a3f5f"
            },
            "marker": {
             "line": {
              "color": "#E5ECF6",
              "width": 0.5
             },
             "pattern": {
              "fillmode": "overlay",
              "size": 10,
              "solidity": 0.2
             }
            },
            "type": "bar"
           }
          ],
          "barpolar": [
           {
            "marker": {
             "line": {
              "color": "#E5ECF6",
              "width": 0.5
             },
             "pattern": {
              "fillmode": "overlay",
              "size": 10,
              "solidity": 0.2
             }
            },
            "type": "barpolar"
           }
          ],
          "carpet": [
           {
            "aaxis": {
             "endlinecolor": "#2a3f5f",
             "gridcolor": "white",
             "linecolor": "white",
             "minorgridcolor": "white",
             "startlinecolor": "#2a3f5f"
            },
            "baxis": {
             "endlinecolor": "#2a3f5f",
             "gridcolor": "white",
             "linecolor": "white",
             "minorgridcolor": "white",
             "startlinecolor": "#2a3f5f"
            },
            "type": "carpet"
           }
          ],
          "choropleth": [
           {
            "colorbar": {
             "outlinewidth": 0,
             "ticks": ""
            },
            "type": "choropleth"
           }
          ],
          "contour": [
           {
            "colorbar": {
             "outlinewidth": 0,
             "ticks": ""
            },
            "colorscale": [
             [
              0,
              "#0d0887"
             ],
             [
              0.1111111111111111,
              "#46039f"
             ],
             [
              0.2222222222222222,
              "#7201a8"
             ],
             [
              0.3333333333333333,
              "#9c179e"
             ],
             [
              0.4444444444444444,
              "#bd3786"
             ],
             [
              0.5555555555555556,
              "#d8576b"
             ],
             [
              0.6666666666666666,
              "#ed7953"
             ],
             [
              0.7777777777777778,
              "#fb9f3a"
             ],
             [
              0.8888888888888888,
              "#fdca26"
             ],
             [
              1,
              "#f0f921"
             ]
            ],
            "type": "contour"
           }
          ],
          "contourcarpet": [
           {
            "colorbar": {
             "outlinewidth": 0,
             "ticks": ""
            },
            "type": "contourcarpet"
           }
          ],
          "heatmap": [
           {
            "colorbar": {
             "outlinewidth": 0,
             "ticks": ""
            },
            "colorscale": [
             [
              0,
              "#0d0887"
             ],
             [
              0.1111111111111111,
              "#46039f"
             ],
             [
              0.2222222222222222,
              "#7201a8"
             ],
             [
              0.3333333333333333,
              "#9c179e"
             ],
             [
              0.4444444444444444,
              "#bd3786"
             ],
             [
              0.5555555555555556,
              "#d8576b"
             ],
             [
              0.6666666666666666,
              "#ed7953"
             ],
             [
              0.7777777777777778,
              "#fb9f3a"
             ],
             [
              0.8888888888888888,
              "#fdca26"
             ],
             [
              1,
              "#f0f921"
             ]
            ],
            "type": "heatmap"
           }
          ],
          "histogram": [
           {
            "marker": {
             "pattern": {
              "fillmode": "overlay",
              "size": 10,
              "solidity": 0.2
             }
            },
            "type": "histogram"
           }
          ],
          "histogram2d": [
           {
            "colorbar": {
             "outlinewidth": 0,
             "ticks": ""
            },
            "colorscale": [
             [
              0,
              "#0d0887"
             ],
             [
              0.1111111111111111,
              "#46039f"
             ],
             [
              0.2222222222222222,
              "#7201a8"
             ],
             [
              0.3333333333333333,
              "#9c179e"
             ],
             [
              0.4444444444444444,
              "#bd3786"
             ],
             [
              0.5555555555555556,
              "#d8576b"
             ],
             [
              0.6666666666666666,
              "#ed7953"
             ],
             [
              0.7777777777777778,
              "#fb9f3a"
             ],
             [
              0.8888888888888888,
              "#fdca26"
             ],
             [
              1,
              "#f0f921"
             ]
            ],
            "type": "histogram2d"
           }
          ],
          "histogram2dcontour": [
           {
            "colorbar": {
             "outlinewidth": 0,
             "ticks": ""
            },
            "colorscale": [
             [
              0,
              "#0d0887"
             ],
             [
              0.1111111111111111,
              "#46039f"
             ],
             [
              0.2222222222222222,
              "#7201a8"
             ],
             [
              0.3333333333333333,
              "#9c179e"
             ],
             [
              0.4444444444444444,
              "#bd3786"
             ],
             [
              0.5555555555555556,
              "#d8576b"
             ],
             [
              0.6666666666666666,
              "#ed7953"
             ],
             [
              0.7777777777777778,
              "#fb9f3a"
             ],
             [
              0.8888888888888888,
              "#fdca26"
             ],
             [
              1,
              "#f0f921"
             ]
            ],
            "type": "histogram2dcontour"
           }
          ],
          "mesh3d": [
           {
            "colorbar": {
             "outlinewidth": 0,
             "ticks": ""
            },
            "type": "mesh3d"
           }
          ],
          "parcoords": [
           {
            "line": {
             "colorbar": {
              "outlinewidth": 0,
              "ticks": ""
             }
            },
            "type": "parcoords"
           }
          ],
          "pie": [
           {
            "automargin": true,
            "type": "pie"
           }
          ],
          "scatter": [
           {
            "fillpattern": {
             "fillmode": "overlay",
             "size": 10,
             "solidity": 0.2
            },
            "type": "scatter"
           }
          ],
          "scatter3d": [
           {
            "line": {
             "colorbar": {
              "outlinewidth": 0,
              "ticks": ""
             }
            },
            "marker": {
             "colorbar": {
              "outlinewidth": 0,
              "ticks": ""
             }
            },
            "type": "scatter3d"
           }
          ],
          "scattercarpet": [
           {
            "marker": {
             "colorbar": {
              "outlinewidth": 0,
              "ticks": ""
             }
            },
            "type": "scattercarpet"
           }
          ],
          "scattergeo": [
           {
            "marker": {
             "colorbar": {
              "outlinewidth": 0,
              "ticks": ""
             }
            },
            "type": "scattergeo"
           }
          ],
          "scattergl": [
           {
            "marker": {
             "colorbar": {
              "outlinewidth": 0,
              "ticks": ""
             }
            },
            "type": "scattergl"
           }
          ],
          "scattermap": [
           {
            "marker": {
             "colorbar": {
              "outlinewidth": 0,
              "ticks": ""
             }
            },
            "type": "scattermap"
           }
          ],
          "scattermapbox": [
           {
            "marker": {
             "colorbar": {
              "outlinewidth": 0,
              "ticks": ""
             }
            },
            "type": "scattermapbox"
           }
          ],
          "scatterpolar": [
           {
            "marker": {
             "colorbar": {
              "outlinewidth": 0,
              "ticks": ""
             }
            },
            "type": "scatterpolar"
           }
          ],
          "scatterpolargl": [
           {
            "marker": {
             "colorbar": {
              "outlinewidth": 0,
              "ticks": ""
             }
            },
            "type": "scatterpolargl"
           }
          ],
          "scatterternary": [
           {
            "marker": {
             "colorbar": {
              "outlinewidth": 0,
              "ticks": ""
             }
            },
            "type": "scatterternary"
           }
          ],
          "surface": [
           {
            "colorbar": {
             "outlinewidth": 0,
             "ticks": ""
            },
            "colorscale": [
             [
              0,
              "#0d0887"
             ],
             [
              0.1111111111111111,
              "#46039f"
             ],
             [
              0.2222222222222222,
              "#7201a8"
             ],
             [
              0.3333333333333333,
              "#9c179e"
             ],
             [
              0.4444444444444444,
              "#bd3786"
             ],
             [
              0.5555555555555556,
              "#d8576b"
             ],
             [
              0.6666666666666666,
              "#ed7953"
             ],
             [
              0.7777777777777778,
              "#fb9f3a"
             ],
             [
              0.8888888888888888,
              "#fdca26"
             ],
             [
              1,
              "#f0f921"
             ]
            ],
            "type": "surface"
           }
          ],
          "table": [
           {
            "cells": {
             "fill": {
              "color": "#EBF0F8"
             },
             "line": {
              "color": "white"
             }
            },
            "header": {
             "fill": {
              "color": "#C8D4E3"
             },
             "line": {
              "color": "white"
             }
            },
            "type": "table"
           }
          ]
         },
         "layout": {
          "annotationdefaults": {
           "arrowcolor": "#2a3f5f",
           "arrowhead": 0,
           "arrowwidth": 1
          },
          "autotypenumbers": "strict",
          "coloraxis": {
           "colorbar": {
            "outlinewidth": 0,
            "ticks": ""
           }
          },
          "colorscale": {
           "diverging": [
            [
             0,
             "#8e0152"
            ],
            [
             0.1,
             "#c51b7d"
            ],
            [
             0.2,
             "#de77ae"
            ],
            [
             0.3,
             "#f1b6da"
            ],
            [
             0.4,
             "#fde0ef"
            ],
            [
             0.5,
             "#f7f7f7"
            ],
            [
             0.6,
             "#e6f5d0"
            ],
            [
             0.7,
             "#b8e186"
            ],
            [
             0.8,
             "#7fbc41"
            ],
            [
             0.9,
             "#4d9221"
            ],
            [
             1,
             "#276419"
            ]
           ],
           "sequential": [
            [
             0,
             "#0d0887"
            ],
            [
             0.1111111111111111,
             "#46039f"
            ],
            [
             0.2222222222222222,
             "#7201a8"
            ],
            [
             0.3333333333333333,
             "#9c179e"
            ],
            [
             0.4444444444444444,
             "#bd3786"
            ],
            [
             0.5555555555555556,
             "#d8576b"
            ],
            [
             0.6666666666666666,
             "#ed7953"
            ],
            [
             0.7777777777777778,
             "#fb9f3a"
            ],
            [
             0.8888888888888888,
             "#fdca26"
            ],
            [
             1,
             "#f0f921"
            ]
           ],
           "sequentialminus": [
            [
             0,
             "#0d0887"
            ],
            [
             0.1111111111111111,
             "#46039f"
            ],
            [
             0.2222222222222222,
             "#7201a8"
            ],
            [
             0.3333333333333333,
             "#9c179e"
            ],
            [
             0.4444444444444444,
             "#bd3786"
            ],
            [
             0.5555555555555556,
             "#d8576b"
            ],
            [
             0.6666666666666666,
             "#ed7953"
            ],
            [
             0.7777777777777778,
             "#fb9f3a"
            ],
            [
             0.8888888888888888,
             "#fdca26"
            ],
            [
             1,
             "#f0f921"
            ]
           ]
          },
          "colorway": [
           "#636efa",
           "#EF553B",
           "#00cc96",
           "#ab63fa",
           "#FFA15A",
           "#19d3f3",
           "#FF6692",
           "#B6E880",
           "#FF97FF",
           "#FECB52"
          ],
          "font": {
           "color": "#2a3f5f"
          },
          "geo": {
           "bgcolor": "white",
           "lakecolor": "white",
           "landcolor": "#E5ECF6",
           "showlakes": true,
           "showland": true,
           "subunitcolor": "white"
          },
          "hoverlabel": {
           "align": "left"
          },
          "hovermode": "closest",
          "mapbox": {
           "style": "light"
          },
          "paper_bgcolor": "white",
          "plot_bgcolor": "#E5ECF6",
          "polar": {
           "angularaxis": {
            "gridcolor": "white",
            "linecolor": "white",
            "ticks": ""
           },
           "bgcolor": "#E5ECF6",
           "radialaxis": {
            "gridcolor": "white",
            "linecolor": "white",
            "ticks": ""
           }
          },
          "scene": {
           "xaxis": {
            "backgroundcolor": "#E5ECF6",
            "gridcolor": "white",
            "gridwidth": 2,
            "linecolor": "white",
            "showbackground": true,
            "ticks": "",
            "zerolinecolor": "white"
           },
           "yaxis": {
            "backgroundcolor": "#E5ECF6",
            "gridcolor": "white",
            "gridwidth": 2,
            "linecolor": "white",
            "showbackground": true,
            "ticks": "",
            "zerolinecolor": "white"
           },
           "zaxis": {
            "backgroundcolor": "#E5ECF6",
            "gridcolor": "white",
            "gridwidth": 2,
            "linecolor": "white",
            "showbackground": true,
            "ticks": "",
            "zerolinecolor": "white"
           }
          },
          "shapedefaults": {
           "line": {
            "color": "#2a3f5f"
           }
          },
          "ternary": {
           "aaxis": {
            "gridcolor": "white",
            "linecolor": "white",
            "ticks": ""
           },
           "baxis": {
            "gridcolor": "white",
            "linecolor": "white",
            "ticks": ""
           },
           "bgcolor": "#E5ECF6",
           "caxis": {
            "gridcolor": "white",
            "linecolor": "white",
            "ticks": ""
           }
          },
          "title": {
           "x": 0.05
          },
          "xaxis": {
           "automargin": true,
           "gridcolor": "white",
           "linecolor": "white",
           "ticks": "",
           "title": {
            "standoff": 15
           },
           "zerolinecolor": "white",
           "zerolinewidth": 2
          },
          "yaxis": {
           "automargin": true,
           "gridcolor": "white",
           "linecolor": "white",
           "ticks": "",
           "title": {
            "standoff": 15
           },
           "zerolinecolor": "white",
           "zerolinewidth": 2
          }
         }
        },
        "title": {
         "text": "Time Series of Followers for Top Growing Stories"
        },
        "width": 1000,
        "xaxis": {
         "title": {
          "text": "Date"
         }
        },
        "yaxis": {
         "title": {
          "text": "Followers"
         },
         "type": "log"
        }
       }
      }
     },
     "metadata": {},
     "output_type": "display_data"
    },
    {
     "data": {
      "application/vnd.plotly.v1+json": {
       "config": {
        "plotlyServerURL": "https://plot.ly"
       },
       "data": [
        {
         "hovertemplate": "<b>Reborn With a Magic System</b><br>%{x|%Y-%m-%d}<br>%{y:,.0f} rating<extra></extra>",
         "line": {
          "width": 2
         },
         "marker": {
          "size": 6
         },
         "mode": "lines+markers",
         "name": "Reborn With a Magic System",
         "type": "scatter",
         "x": [
          "2025-10-11T18:43:30.000000000",
          "2025-10-11T19:04:33.000000000",
          "2025-10-11T20:19:12.000000000",
          "2025-10-12T03:54:37.000000000",
          "2025-10-12T16:55:55.000000000",
          "2025-10-13T17:04:44.000000000",
          "2025-10-13T20:54:01.000000000",
          "2025-10-14T00:44:37.000000000",
          "2025-10-14T15:02:00.000000000",
          "2025-10-15T05:58:06.000000000",
          "2025-10-15T17:29:33.000000000"
         ],
         "y": {
          "bdata": "pHA9CtejEECkcD0K16MQQKRwPQrXoxBApHA9CtejEECkcD0K16MQQK5H4XoUrhBArkfhehSuEECuR+F6FK4QQK5H4XoUrhBArkfhehSuEEC4HoXrUbgQQA==",
          "dtype": "f8"
         }
        },
        {
         "hovertemplate": "<b>Cultivation System: Elder Edition</b><br>%{x|%Y-%m-%d}<br>%{y:,.0f} rating<extra></extra>",
         "line": {
          "width": 2
         },
         "marker": {
          "size": 6
         },
         "mode": "lines+markers",
         "name": "Cultivation System: Elder Edit...",
         "type": "scatter",
         "x": [
          "2025-10-09T21:41:25.000000000",
          "2025-10-11T17:37:06.000000000",
          "2025-10-11T18:43:30.000000000",
          "2025-10-11T19:04:33.000000000",
          "2025-10-11T20:19:12.000000000",
          "2025-10-13T17:04:44.000000000",
          "2025-10-13T20:54:01.000000000",
          "2025-10-14T15:02:00.000000000",
          "2025-10-15T17:29:33.000000000"
         ],
         "y": {
          "bdata": "cT0K16NwEkBxPQrXo3ASQHE9CtejcBJAcT0K16NwEkBxPQrXo3ASQGZmZmZmZhJAZmZmZmZmEkBmZmZmZmYSQGZmZmZmZhJA",
          "dtype": "f8"
         }
        },
        {
         "hovertemplate": "<b>Not (Just) A Mage Lord Isekai</b><br>%{x|%Y-%m-%d}<br>%{y:,.0f} rating<extra></extra>",
         "line": {
          "width": 2
         },
         "marker": {
          "size": 6
         },
         "mode": "lines+markers",
         "name": "Not (Just) A Mage Lord Isekai",
         "type": "scatter",
         "x": [
          "2025-10-09T21:41:25.000000000",
          "2025-10-11T17:37:06.000000000",
          "2025-10-11T18:43:30.000000000",
          "2025-10-11T19:04:33.000000000",
          "2025-10-11T20:19:12.000000000",
          "2025-10-12T03:40:30.000000000",
          "2025-10-12T03:54:37.000000000",
          "2025-10-12T14:50:48.000000000",
          "2025-10-12T16:55:55.000000000",
          "2025-10-13T20:54:01.000000000",
          "2025-10-14T15:02:00.000000000",
          "2025-10-15T05:58:06.000000000",
          "2025-10-15T17:29:33.000000000"
         ],
         "y": {
          "bdata": "j8L1KFyPEUCPwvUoXI8RQI/C9ShcjxFAj8L1KFyPEUCPwvUoXI8RQI/C9ShcjxFAj8L1KFyPEUCPwvUoXI8RQI/C9ShcjxFAj8L1KFyPEUCPwvUoXI8RQI/C9ShcjxFAj8L1KFyPEUA=",
          "dtype": "f8"
         }
        },
        {
         "hovertemplate": "<b>God of Trash [Cultivation LitRPG] From Trash-Tier to the Ultimate Trash! [Book 4 Complete!]</b><br>%{x|%Y-%m-%d}<br>%{y:,.0f} rating<extra></extra>",
         "line": {
          "width": 2
         },
         "marker": {
          "size": 6
         },
         "mode": "lines+markers",
         "name": "God of Trash [Cultivation LitR...",
         "type": "scatter",
         "x": [
          "2025-10-09T21:41:25.000000000",
          "2025-10-11T17:37:06.000000000",
          "2025-10-11T18:43:30.000000000",
          "2025-10-11T19:04:33.000000000",
          "2025-10-11T20:19:12.000000000",
          "2025-10-12T03:40:30.000000000",
          "2025-10-12T03:54:37.000000000",
          "2025-10-12T14:50:48.000000000",
          "2025-10-12T16:55:55.000000000",
          "2025-10-13T13:58:11.000000000",
          "2025-10-13T20:54:01.000000000",
          "2025-10-14T15:02:00.000000000",
          "2025-10-15T05:58:06.000000000"
         ],
         "y": {
          "bdata": "PQrXo3A9EkA9CtejcD0SQD0K16NwPRJAPQrXo3A9EkA9CtejcD0SQD0K16NwPRJAPQrXo3A9EkA9CtejcD0SQD0K16NwPRJAMzMzMzMzEkAzMzMzMzMSQDMzMzMzMxJAMzMzMzMzEkA=",
          "dtype": "f8"
         }
        },
        {
         "hovertemplate": "<b>Naruto: Stormbreaker</b><br>%{x|%Y-%m-%d}<br>%{y:,.0f} rating<extra></extra>",
         "line": {
          "width": 2
         },
         "marker": {
          "size": 6
         },
         "mode": "lines+markers",
         "name": "Naruto: Stormbreaker",
         "type": "scatter",
         "x": [
          "2025-10-11T18:43:30.000000000",
          "2025-10-11T19:04:33.000000000",
          "2025-10-11T20:19:12.000000000",
          "2025-10-12T03:54:37.000000000",
          "2025-10-12T16:55:55.000000000",
          "2025-10-13T20:54:01.000000000",
          "2025-10-14T15:02:00.000000000",
          "2025-10-15T05:58:06.000000000"
         ],
         "y": {
          "bdata": "SOF6FK5HEkBI4XoUrkcSQEjhehSuRxJASOF6FK5HEkBI4XoUrkcSQEjhehSuRxJAPQrXo3A9EkBI4XoUrkcSQA==",
          "dtype": "f8"
         }
        }
       ],
       "layout": {
        "height": 600,
        "legend": {
         "bgcolor": "rgba(255,255,255,0.8)",
         "bordercolor": "rgba(0,0,0,0.3)",
         "borderwidth": 1,
         "orientation": "v",
         "x": 1.02,
         "xanchor": "left",
         "y": 1,
         "yanchor": "top"
        },
        "margin": {
         "r": 200
        },
        "template": {
         "data": {
          "bar": [
           {
            "error_x": {
             "color": "#2a3f5f"
            },
            "error_y": {
             "color": "#2a3f5f"
            },
            "marker": {
             "line": {
              "color": "#E5ECF6",
              "width": 0.5
             },
             "pattern": {
              "fillmode": "overlay",
              "size": 10,
              "solidity": 0.2
             }
            },
            "type": "bar"
           }
          ],
          "barpolar": [
           {
            "marker": {
             "line": {
              "color": "#E5ECF6",
              "width": 0.5
             },
             "pattern": {
              "fillmode": "overlay",
              "size": 10,
              "solidity": 0.2
             }
            },
            "type": "barpolar"
           }
          ],
          "carpet": [
           {
            "aaxis": {
             "endlinecolor": "#2a3f5f",
             "gridcolor": "white",
             "linecolor": "white",
             "minorgridcolor": "white",
             "startlinecolor": "#2a3f5f"
            },
            "baxis": {
             "endlinecolor": "#2a3f5f",
             "gridcolor": "white",
             "linecolor": "white",
             "minorgridcolor": "white",
             "startlinecolor": "#2a3f5f"
            },
            "type": "carpet"
           }
          ],
          "choropleth": [
           {
            "colorbar": {
             "outlinewidth": 0,
             "ticks": ""
            },
            "type": "choropleth"
           }
          ],
          "contour": [
           {
            "colorbar": {
             "outlinewidth": 0,
             "ticks": ""
            },
            "colorscale": [
             [
              0,
              "#0d0887"
             ],
             [
              0.1111111111111111,
              "#46039f"
             ],
             [
              0.2222222222222222,
              "#7201a8"
             ],
             [
              0.3333333333333333,
              "#9c179e"
             ],
             [
              0.4444444444444444,
              "#bd3786"
             ],
             [
              0.5555555555555556,
              "#d8576b"
             ],
             [
              0.6666666666666666,
              "#ed7953"
             ],
             [
              0.7777777777777778,
              "#fb9f3a"
             ],
             [
              0.8888888888888888,
              "#fdca26"
             ],
             [
              1,
              "#f0f921"
             ]
            ],
            "type": "contour"
           }
          ],
          "contourcarpet": [
           {
            "colorbar": {
             "outlinewidth": 0,
             "ticks": ""
            },
            "type": "contourcarpet"
           }
          ],
          "heatmap": [
           {
            "colorbar": {
             "outlinewidth": 0,
             "ticks": ""
            },
            "colorscale": [
             [
              0,
              "#0d0887"
             ],
             [
              0.1111111111111111,
              "#46039f"
             ],
             [
              0.2222222222222222,
              "#7201a8"
             ],
             [
              0.3333333333333333,
              "#9c179e"
             ],
             [
              0.4444444444444444,
              "#bd3786"
             ],
             [
              0.5555555555555556,
              "#d8576b"
             ],
             [
              0.6666666666666666,
              "#ed7953"
             ],
             [
              0.7777777777777778,
              "#fb9f3a"
             ],
             [
              0.8888888888888888,
              "#fdca26"
             ],
             [
              1,
              "#f0f921"
             ]
            ],
            "type": "heatmap"
           }
          ],
          "histogram": [
           {
            "marker": {
             "pattern": {
              "fillmode": "overlay",
              "size": 10,
              "solidity": 0.2
             }
            },
            "type": "histogram"
           }
          ],
          "histogram2d": [
           {
            "colorbar": {
             "outlinewidth": 0,
             "ticks": ""
            },
            "colorscale": [
             [
              0,
              "#0d0887"
             ],
             [
              0.1111111111111111,
              "#46039f"
             ],
             [
              0.2222222222222222,
              "#7201a8"
             ],
             [
              0.3333333333333333,
              "#9c179e"
             ],
             [
              0.4444444444444444,
              "#bd3786"
             ],
             [
              0.5555555555555556,
              "#d8576b"
             ],
             [
              0.6666666666666666,
              "#ed7953"
             ],
             [
              0.7777777777777778,
              "#fb9f3a"
             ],
             [
              0.8888888888888888,
              "#fdca26"
             ],
             [
              1,
              "#f0f921"
             ]
            ],
            "type": "histogram2d"
           }
          ],
          "histogram2dcontour": [
           {
            "colorbar": {
             "outlinewidth": 0,
             "ticks": ""
            },
            "colorscale": [
             [
              0,
              "#0d0887"
             ],
             [
              0.1111111111111111,
              "#46039f"
             ],
             [
              0.2222222222222222,
              "#7201a8"
             ],
             [
              0.3333333333333333,
              "#9c179e"
             ],
             [
              0.4444444444444444,
              "#bd3786"
             ],
             [
              0.5555555555555556,
              "#d8576b"
             ],
             [
              0.6666666666666666,
              "#ed7953"
             ],
             [
              0.7777777777777778,
              "#fb9f3a"
             ],
             [
              0.8888888888888888,
              "#fdca26"
             ],
             [
              1,
              "#f0f921"
             ]
            ],
            "type": "histogram2dcontour"
           }
          ],
          "mesh3d": [
           {
            "colorbar": {
             "outlinewidth": 0,
             "ticks": ""
            },
            "type": "mesh3d"
           }
          ],
          "parcoords": [
           {
            "line": {
             "colorbar": {
              "outlinewidth": 0,
              "ticks": ""
             }
            },
            "type": "parcoords"
           }
          ],
          "pie": [
           {
            "automargin": true,
            "type": "pie"
           }
          ],
          "scatter": [
           {
            "fillpattern": {
             "fillmode": "overlay",
             "size": 10,
             "solidity": 0.2
            },
            "type": "scatter"
           }
          ],
          "scatter3d": [
           {
            "line": {
             "colorbar": {
              "outlinewidth": 0,
              "ticks": ""
             }
            },
            "marker": {
             "colorbar": {
              "outlinewidth": 0,
              "ticks": ""
             }
            },
            "type": "scatter3d"
           }
          ],
          "scattercarpet": [
           {
            "marker": {
             "colorbar": {
              "outlinewidth": 0,
              "ticks": ""
             }
            },
            "type": "scattercarpet"
           }
          ],
          "scattergeo": [
           {
            "marker": {
             "colorbar": {
              "outlinewidth": 0,
              "ticks": ""
             }
            },
            "type": "scattergeo"
           }
          ],
          "scattergl": [
           {
            "marker": {
             "colorbar": {
              "outlinewidth": 0,
              "ticks": ""
             }
            },
            "type": "scattergl"
           }
          ],
          "scattermap": [
           {
            "marker": {
             "colorbar": {
              "outlinewidth": 0,
              "ticks": ""
             }
            },
            "type": "scattermap"
           }
          ],
          "scattermapbox": [
           {
            "marker": {
             "colorbar": {
              "outlinewidth": 0,
              "ticks": ""
             }
            },
            "type": "scattermapbox"
           }
          ],
          "scatterpolar": [
           {
            "marker": {
             "colorbar": {
              "outlinewidth": 0,
              "ticks": ""
             }
            },
            "type": "scatterpolar"
           }
          ],
          "scatterpolargl": [
           {
            "marker": {
             "colorbar": {
              "outlinewidth": 0,
              "ticks": ""
             }
            },
            "type": "scatterpolargl"
           }
          ],
          "scatterternary": [
           {
            "marker": {
             "colorbar": {
              "outlinewidth": 0,
              "ticks": ""
             }
            },
            "type": "scatterternary"
           }
          ],
          "surface": [
           {
            "colorbar": {
             "outlinewidth": 0,
             "ticks": ""
            },
            "colorscale": [
             [
              0,
              "#0d0887"
             ],
             [
              0.1111111111111111,
              "#46039f"
             ],
             [
              0.2222222222222222,
              "#7201a8"
             ],
             [
              0.3333333333333333,
              "#9c179e"
             ],
             [
              0.4444444444444444,
              "#bd3786"
             ],
             [
              0.5555555555555556,
              "#d8576b"
             ],
             [
              0.6666666666666666,
              "#ed7953"
             ],
             [
              0.7777777777777778,
              "#fb9f3a"
             ],
             [
              0.8888888888888888,
              "#fdca26"
             ],
             [
              1,
              "#f0f921"
             ]
            ],
            "type": "surface"
           }
          ],
          "table": [
           {
            "cells": {
             "fill": {
              "color": "#EBF0F8"
             },
             "line": {
              "color": "white"
             }
            },
            "header": {
             "fill": {
              "color": "#C8D4E3"
             },
             "line": {
              "color": "white"
             }
            },
            "type": "table"
           }
          ]
         },
         "layout": {
          "annotationdefaults": {
           "arrowcolor": "#2a3f5f",
           "arrowhead": 0,
           "arrowwidth": 1
          },
          "autotypenumbers": "strict",
          "coloraxis": {
           "colorbar": {
            "outlinewidth": 0,
            "ticks": ""
           }
          },
          "colorscale": {
           "diverging": [
            [
             0,
             "#8e0152"
            ],
            [
             0.1,
             "#c51b7d"
            ],
            [
             0.2,
             "#de77ae"
            ],
            [
             0.3,
             "#f1b6da"
            ],
            [
             0.4,
             "#fde0ef"
            ],
            [
             0.5,
             "#f7f7f7"
            ],
            [
             0.6,
             "#e6f5d0"
            ],
            [
             0.7,
             "#b8e186"
            ],
            [
             0.8,
             "#7fbc41"
            ],
            [
             0.9,
             "#4d9221"
            ],
            [
             1,
             "#276419"
            ]
           ],
           "sequential": [
            [
             0,
             "#0d0887"
            ],
            [
             0.1111111111111111,
             "#46039f"
            ],
            [
             0.2222222222222222,
             "#7201a8"
            ],
            [
             0.3333333333333333,
             "#9c179e"
            ],
            [
             0.4444444444444444,
             "#bd3786"
            ],
            [
             0.5555555555555556,
             "#d8576b"
            ],
            [
             0.6666666666666666,
             "#ed7953"
            ],
            [
             0.7777777777777778,
             "#fb9f3a"
            ],
            [
             0.8888888888888888,
             "#fdca26"
            ],
            [
             1,
             "#f0f921"
            ]
           ],
           "sequentialminus": [
            [
             0,
             "#0d0887"
            ],
            [
             0.1111111111111111,
             "#46039f"
            ],
            [
             0.2222222222222222,
             "#7201a8"
            ],
            [
             0.3333333333333333,
             "#9c179e"
            ],
            [
             0.4444444444444444,
             "#bd3786"
            ],
            [
             0.5555555555555556,
             "#d8576b"
            ],
            [
             0.6666666666666666,
             "#ed7953"
            ],
            [
             0.7777777777777778,
             "#fb9f3a"
            ],
            [
             0.8888888888888888,
             "#fdca26"
            ],
            [
             1,
             "#f0f921"
            ]
           ]
          },
          "colorway": [
           "#636efa",
           "#EF553B",
           "#00cc96",
           "#ab63fa",
           "#FFA15A",
           "#19d3f3",
           "#FF6692",
           "#B6E880",
           "#FF97FF",
           "#FECB52"
          ],
          "font": {
           "color": "#2a3f5f"
          },
          "geo": {
           "bgcolor": "white",
           "lakecolor": "white",
           "landcolor": "#E5ECF6",
           "showlakes": true,
           "showland": true,
           "subunitcolor": "white"
          },
          "hoverlabel": {
           "align": "left"
          },
          "hovermode": "closest",
          "mapbox": {
           "style": "light"
          },
          "paper_bgcolor": "white",
          "plot_bgcolor": "#E5ECF6",
          "polar": {
           "angularaxis": {
            "gridcolor": "white",
            "linecolor": "white",
            "ticks": ""
           },
           "bgcolor": "#E5ECF6",
           "radialaxis": {
            "gridcolor": "white",
            "linecolor": "white",
            "ticks": ""
           }
          },
          "scene": {
           "xaxis": {
            "backgroundcolor": "#E5ECF6",
            "gridcolor": "white",
            "gridwidth": 2,
            "linecolor": "white",
            "showbackground": true,
            "ticks": "",
            "zerolinecolor": "white"
           },
           "yaxis": {
            "backgroundcolor": "#E5ECF6",
            "gridcolor": "white",
            "gridwidth": 2,
            "linecolor": "white",
            "showbackground": true,
            "ticks": "",
            "zerolinecolor": "white"
           },
           "zaxis": {
            "backgroundcolor": "#E5ECF6",
            "gridcolor": "white",
            "gridwidth": 2,
            "linecolor": "white",
            "showbackground": true,
            "ticks": "",
            "zerolinecolor": "white"
           }
          },
          "shapedefaults": {
           "line": {
            "color": "#2a3f5f"
           }
          },
          "ternary": {
           "aaxis": {
            "gridcolor": "white",
            "linecolor": "white",
            "ticks": ""
           },
           "baxis": {
            "gridcolor": "white",
            "linecolor": "white",
            "ticks": ""
           },
           "bgcolor": "#E5ECF6",
           "caxis": {
            "gridcolor": "white",
            "linecolor": "white",
            "ticks": ""
           }
          },
          "title": {
           "x": 0.05
          },
          "xaxis": {
           "automargin": true,
           "gridcolor": "white",
           "linecolor": "white",
           "ticks": "",
           "title": {
            "standoff": 15
           },
           "zerolinecolor": "white",
           "zerolinewidth": 2
          },
          "yaxis": {
           "automargin": true,
           "gridcolor": "white",
           "linecolor": "white",
           "ticks": "",
           "title": {
            "standoff": 15
           },
           "zerolinecolor": "white",
           "zerolinewidth": 2
          }
         }
        },
        "title": {
         "text": "Time Series of Rating for Top Growing Stories"
        },
        "width": 1000,
        "xaxis": {
         "title": {
          "text": "Date"
         }
        },
        "yaxis": {
         "title": {
          "text": "Rating"
         }
        }
       }
      }
     },
     "metadata": {},
     "output_type": "display_data"
    }
   ],
   "source": [
    "# Use the full historical dataset for time-series analysis\n",
    "ts_df = df_all.copy()\n",
    "\n",
    "# Ensure our date column is properly formatted\n",
    "ts_df['last_updated'] = pd.to_datetime(ts_df['scraped_date'])\n",
    "\n",
    "# Extract time-based features\n",
    "ts_df['year'] = ts_df['last_updated'].dt.year\n",
    "ts_df['month'] = ts_df['last_updated'].dt.month\n",
    "ts_df['quarter'] = ts_df['last_updated'].dt.quarter\n",
    "ts_df['date'] = ts_df['last_updated'].dt.date\n",
    "\n",
    "# Define time periods for analysis\n",
    "current_date = ts_df['last_updated'].max()\n",
    "print(f\"Most recent data date: {current_date.strftime('%Y-%m-%d')}\")\n",
    "\n",
    "# Find the date range in the dataset\n",
    "oldest_date = ts_df['last_updated'].min()\n",
    "date_range = (current_date - oldest_date).days\n",
    "print(f\"Data spans {date_range} days (from {oldest_date.strftime('%Y-%m-%d')} to {current_date.strftime('%Y-%m-%d')})\")\n",
    "\n",
    "# Create time bins for trend analysis\n",
    "ts_df['days_ago'] = (current_date - ts_df['last_updated']).dt.days\n",
    "\n",
    "# Count how many snapshots each story has (using royal_road_id as the unique identifier)\n",
    "story_counts = ts_df.groupby('royal_road_id')['scraped_date'].count().sort_values(ascending=False)\n",
    "time_series_stories = story_counts[story_counts > 1].index.tolist()\n",
    "print(f\"Found {len(time_series_stories)} stories with multiple snapshots for time-series analysis\")\n",
    "\n",
    "# Create adaptive time periods based on available data\n",
    "if date_range < 7:  # Less than a week of data\n",
    "    print(\"Short data collection period detected (< 7 days). Using daily analysis.\")\n",
    "    ts_df['time_bucket'] = ts_df['date']\n",
    "    bucket = \"day\"\n",
    "elif date_range < 30:  # Less than a month\n",
    "    print(\"Medium data collection period detected (< 30 days). Using weekly analysis.\")\n",
    "    ts_df['time_bucket'] = ts_df['last_updated'].dt.isocalendar().week\n",
    "    bucket = \"week\"\n",
    "else:  # More than a month\n",
    "    print(\"Long data collection period detected (≥ 30 days). Using monthly analysis.\")\n",
    "    ts_df['time_bucket'] = ts_df['last_updated'].dt.to_period('M')\n",
    "    bucket = \"month\"\n",
    "\n",
    "# If we have enough stories with time-series data, proceed with analysis\n",
    "if len(time_series_stories) >= 3:\n",
    "    # Filter to stories with multiple data points\n",
    "    ts_filtered = ts_df[ts_df['royal_road_id'].isin(time_series_stories)]\n",
    "    \n",
    "    # Calculate growth metrics for stories with multiple snapshots\n",
    "    growth_data = []\n",
    "    \n",
    "    for royal_road_id in time_series_stories:\n",
    "        # Get data for this story, sorted by date\n",
    "        story_data = ts_filtered[ts_filtered['royal_road_id'] == royal_road_id].sort_values('last_updated')\n",
    "        \n",
    "        # Skip if less than 2 snapshots\n",
    "        if len(story_data) < 2:\n",
    "            continue\n",
    "            \n",
    "        # Get first and last snapshot\n",
    "        first_snapshot = story_data.iloc[0]\n",
    "        last_snapshot = story_data.iloc[-1]\n",
    "        \n",
    "        # Calculate days between snapshots\n",
    "        days_between = (last_snapshot['last_updated'] - first_snapshot['last_updated']).days\n",
    "        if days_between < 1:  # Skip if same day\n",
    "            continue\n",
    "            \n",
    "        # Calculate key metrics\n",
    "        title = first_snapshot['title']\n",
    "        \n",
    "        # Views growth\n",
    "        initial_views = first_snapshot['views'] if first_snapshot['views'] > 0 else 1\n",
    "        final_views = last_snapshot['views']\n",
    "        views_growth = final_views - initial_views\n",
    "        views_growth_per_day = views_growth / days_between if days_between > 0 else 0\n",
    "        views_growth_pct = (final_views / initial_views - 1) * 100 if initial_views > 0 else 0\n",
    "        \n",
    "        # Followers growth\n",
    "        initial_followers = first_snapshot['followers'] if first_snapshot['followers'] > 0 else 1\n",
    "        final_followers = last_snapshot['followers']\n",
    "        followers_growth = final_followers - initial_followers\n",
    "        followers_growth_per_day = followers_growth / days_between if days_between > 0 else 0\n",
    "        followers_growth_pct = (final_followers / initial_followers - 1) * 100 if initial_followers > 0 else 0\n",
    "        \n",
    "        # Rating change\n",
    "        if pd.notna(first_snapshot['rating']) and pd.notna(last_snapshot['rating']):\n",
    "            initial_rating = first_snapshot['rating']\n",
    "            final_rating = last_snapshot['rating']\n",
    "            rating_change = final_rating - initial_rating\n",
    "        else:\n",
    "            initial_rating = None\n",
    "            final_rating = None\n",
    "            rating_change = None\n",
    "        \n",
    "        # Add to the growth data\n",
    "        growth_data.append({\n",
    "            'royal_road_id': royal_road_id,\n",
    "            'title': title,\n",
    "            'days_tracked': days_between,\n",
    "            'initial_views': initial_views,\n",
    "            'final_views': final_views,\n",
    "            'views_growth': views_growth,\n",
    "            'views_growth_per_day': views_growth_per_day,\n",
    "            'views_growth_pct': views_growth_pct,\n",
    "            'initial_followers': initial_followers,\n",
    "            'final_followers': final_followers,\n",
    "            'followers_growth': followers_growth,\n",
    "            'followers_growth_per_day': followers_growth_per_day,\n",
    "            'followers_growth_pct': followers_growth_pct,\n",
    "            'initial_rating': initial_rating,\n",
    "            'final_rating': final_rating,\n",
    "            'rating_change': rating_change,\n",
    "            'genre': first_snapshot['genre']\n",
    "        })\n",
    "    \n",
    "    # Create a dataframe from the growth data\n",
    "    growth_df = pd.DataFrame(growth_data)\n",
    "    \n",
    "    # Print growth summary\n",
    "    if len(growth_df) > 0:\n",
    "        print(\"\\nStory Growth Metrics Summary:\")\n",
    "        print(f\"Average Views Growth: {growth_df['views_growth'].mean():.1f} ({growth_df['views_growth_per_day'].mean():.1f} per day)\")\n",
    "        print(f\"Average Followers Growth: {growth_df['followers_growth'].mean():.1f} ({growth_df['followers_growth_per_day'].mean():.1f} per day)\")\n",
    "        \n",
    "        if not growth_df['rating_change'].isna().all():\n",
    "            print(f\"Average Rating Change: {growth_df['rating_change'].mean():.2f}\")\n",
    "        \n",
    "        # Visualize top stories by growth\n",
    "        print(\"\\nTop 10 Stories by Views Growth Per Day:\")\n",
    "        top_views_growth = growth_df.sort_values('views_growth_per_day', ascending=False).head(10)\n",
    "        for _, row in top_views_growth.iterrows():\n",
    "            print(f\"{row['title']}: {row['views_growth_per_day']:.1f} views/day (+{row['views_growth_pct']:.1f}%)\")\n",
    "        \n",
    "        print(\"\\nTop 10 Stories by Followers Growth Per Day:\")\n",
    "        top_followers_growth = growth_df.sort_values('followers_growth_per_day', ascending=False).head(10)\n",
    "        for _, row in top_followers_growth.iterrows():\n",
    "            print(f\"{row['title']}: {row['followers_growth_per_day']:.1f} followers/day (+{row['followers_growth_pct']:.1f}%)\")\n",
    "        \n",
    "        # Create detailed time-series visualizations for selected top stories\n",
    "        # Get top 5 stories for visualization\n",
    "        top_stories_ids = top_views_growth.head(5)['royal_road_id'].tolist()\n",
    "        \n",
    "        # Create visualizations for different metrics\n",
    "        metrics_to_plot = ['views', 'followers', 'rating']\n",
    "        \n",
    "        for metric in metrics_to_plot:\n",
    "            try:\n",
    "                fig = go.Figure()\n",
    "                \n",
    "                # Track if we added any traces\n",
    "                traces_added = 0\n",
    "                \n",
    "                for royal_road_id in top_stories_ids:\n",
    "                    # Get data for this story, sorted by date\n",
    "                    story_data = ts_filtered[ts_filtered['royal_road_id'] == royal_road_id].sort_values('last_updated')\n",
    "                    \n",
    "                    # Skip if no data for this story\n",
    "                    if len(story_data) == 0:\n",
    "                        continue\n",
    "                        \n",
    "                    story_title = story_data['title'].iloc[0]\n",
    "                    \n",
    "                    # Skip if missing data for this metric\n",
    "                    if story_data[metric].isna().all() or len(story_data[metric].dropna()) == 0:\n",
    "                        print(f\"Skipping {story_title} for {metric} - no valid data\")\n",
    "                        continue\n",
    "                    \n",
    "                    # Truncate long titles for better legend display\n",
    "                    display_title = story_title[:30] + \"...\" if len(story_title) > 30 else story_title\n",
    "                    \n",
    "                    # Add trace with both points and lines for better visualization\n",
    "                    fig.add_trace(go.Scatter(\n",
    "                        x=story_data['last_updated'],\n",
    "                        y=story_data[metric],\n",
    "                        mode='lines+markers',  # Show both lines and markers\n",
    "                        name=display_title,\n",
    "                        line=dict(width=2),\n",
    "                        marker=dict(size=6),\n",
    "                        hovertemplate='<b>' + story_title + '</b><br>%{x|%Y-%m-%d}<br>%{y:,.0f} ' + metric + '<extra></extra>'\n",
    "                    ))\n",
    "                    traces_added += 1\n",
    "                \n",
    "                # Only show the plot if we have data\n",
    "                if traces_added > 0:\n",
    "                    # Update layout with better legend positioning\n",
    "                    fig.update_layout(\n",
    "                        title=f'Time Series of {metric.capitalize()} for Top Growing Stories',\n",
    "                        xaxis_title='Date',\n",
    "                        yaxis_title=metric.capitalize(),\n",
    "                        height=600,\n",
    "                        width=1000,\n",
    "                        legend=dict(\n",
    "                            orientation=\"v\",\n",
    "                            yanchor=\"top\",\n",
    "                            y=1,\n",
    "                            xanchor=\"left\",\n",
    "                            x=1.02,  # Position legend to the right of the plot\n",
    "                            bgcolor=\"rgba(255,255,255,0.8)\",\n",
    "                            bordercolor=\"rgba(0,0,0,0.3)\",\n",
    "                            borderwidth=1\n",
    "                        ),\n",
    "                        margin=dict(r=200)  # Add right margin for legend\n",
    "                    )\n",
    "                    \n",
    "                    # Use log scale for views and followers\n",
    "                    if metric in ['views', 'followers']:\n",
    "                        fig.update_yaxes(type='log')\n",
    "                    \n",
    "                    fig.show()\n",
    "                else:\n",
    "                    print(f\"No valid data found for {metric} metric visualization\")\n",
    "                    \n",
    "            except Exception as e:\n",
    "                print(f\"Error creating visualization for {metric}: {str(e)}\")\n",
    "                continue\n",
    "\n",
    "else:\n",
    "    print(\"\\nNot enough time-series data available yet.\")\n",
    "    print(\"Run the scraper multiple times over different days to collect historical data points.\")\n",
    "    print(\"The analysis will automatically adapt once enough data is collected.\")"
   ]
  },
  {
   "cell_type": "markdown",
   "id": "2e04cae5",
   "metadata": {},
   "source": [
    "## Summary of Findings\n",
    "\n",
    "Based on our comprehensive exploratory data analysis of the Royal Road stories dataset (as of October 15, 2025) using our enhanced analysis framework with centralized configuration and improved visualizations, here are the key findings:\n",
    "\n",
    "### **1. Enhanced Data Infrastructure**:\n",
    "   - **Centralized Configuration**: Implemented `config.py` and `utils.py` for consistent data loading and analysis parameters across all components\n",
    "   - **Improved Data Pipeline**: Standardized SQL queries and database connections eliminate redundancy and improve maintainability  \n",
    "   - **Time-Series Optimization**: Enhanced database schema with complete historical preservation enables robust temporal analysis\n",
    "   - **Visualization Framework**: Upgraded charts with bucket range labels, lines+markers plots, and improved legend positioning\n",
    "   - **Environment Setup**: Dual Python environment configuration (global + virtual) ensures robust package management and Jupyter kernel compatibility\n",
    "\n",
    "### **2. Distribution Patterns**:\n",
    "   - **Extreme Right Skew**: Views, followers, and favorites all show extreme right-skewed distributions (skewness > 5.0), requiring logarithmic scaling for proper visualization. This indicates a \"winner-takes-most\" ecosystem.\n",
    "   - **Normal Rating Distribution**: Ratings follow a more normal distribution centered around 4.0-4.5 stars, suggesting a generally positive rating system with moderate differentiation among stories.\n",
    "   - **Long Tail Phenomenon**: A small percentage of stories (top 10%) account for more than 80% of total views and followers, demonstrating the platform's highly competitive nature.\n",
    "   - **Bucket Analysis Enhancement**: New bucket range visualizations clearly show the specific value ranges within each quantile, improving interpretability of story length impact analysis.\n",
    "\n",
    "### **3. Correlation Analysis**:\n",
    "   - **Strong Engagement Correlations**: Views, followers, and favorites show very strong positive correlations (r > 0.85), confirming these metrics reinforce each other in a virtuous cycle.\n",
    "   - **Moderate Length Correlations**: Chapters and pages correlate moderately (r = 0.6-0.7), reflecting different aspects of content volume and reader investment.\n",
    "   - **Ratings Independence**: Rating scores show surprisingly weak correlations with other metrics (r < 0.3), demonstrating that quality assessment remains relatively independent of popularity.\n",
    "   - **Enhanced Visualization**: Improved correlation heatmaps with better formatting and color schemes for clearer pattern identification.\n",
    "\n",
    "### **4. Genre Insights**:\n",
    "   - **Dominant Genres**: Fantasy (28%), LitRPG (23%), Adventure (17%), and Progression (15%) are the most represented genres on the platform, forming the core of the Royal Road ecosystem.\n",
    "   - **Genre Performance Variation**: Niche genres like \"Cultivation\" and \"Dungeon Core\" show disproportionately high average engagement metrics despite smaller representation, suggesting targeted audience enthusiasm.\n",
    "   - **Rating Patterns**: Literary Fiction and Slice of Life genres consistently maintain higher average ratings (4.6+) regardless of popularity metrics, indicating quality appreciation in these categories.\n",
    "   - **Cross-Genre Appeal**: Stories with complementary genre combinations (e.g., Fantasy/Adventure, LitRPG/Progression) show 30-40% higher engagement metrics than single-genre stories.\n",
    "\n",
    "### **5. Enhanced Content Volume Analysis**:\n",
    "   - **Improved Bucket Visualization**: New range labels show exact value boundaries (e.g., \"Bucket 1: 5-45 chapters\", \"Bucket 10: 200-500 chapters\") for better interpretation\n",
    "   - **Optimal Chapter Range**: Stories with moderate chapter counts (30-70 chapters) show the strongest balance of engagement metrics across all genres\n",
    "   - **Diminishing Returns**: Very long stories (>150 chapters) don't necessarily outperform moderately-sized ones in terms of ratings or follower acquisition rate\n",
    "   - **Chapter vs. Page Impact**: Chapter count correlates more strongly with engagement metrics than total page count, suggesting readers value regular updates over raw content volume\n",
    "\n",
    "### **6. Advanced Time-Series Analysis**:\n",
    "   - **Enhanced Visualizations**: New lines+markers plots with improved legend positioning eliminate overlap issues and provide clearer trend visualization\n",
    "   - **Growth Rate Tracking**: Comprehensive growth metrics for views, followers, and ratings with daily/weekly trend analysis\n",
    "   - **Interactive Dashboard**: Streamlit dashboard provides real-time exploration of time-series data with story selection and growth comparison tools\n",
    "   - **Adaptive Period Detection**: Analysis automatically adjusts time buckets (daily/weekly/monthly) based on data collection span\n",
    "   - **Error Handling**: Robust visualization framework handles missing data and provides informative feedback\n",
    "\n",
    "### **7. Technical Improvements & Infrastructure**:\n",
    "   - **Code Organization**: Eliminated redundancy through centralized configuration and shared utility functions\n",
    "   - **Database Optimization**: Enhanced `check_db.py` provides comprehensive database statistics and analysis readiness indicators\n",
    "   - **Visualization Quality**: All charts now use consistent styling, proper hover information, and optimal scaling for different data types\n",
    "   - **Documentation**: Complete project documentation including dashboard usage and time-series analysis capabilities\n",
    "   - **Package Management**: Updated `requirements.txt` with comprehensive dependency list covering all project components\n",
    "   - **Jupyter Environment**: Successfully configured multiple kernel options (global Python, virtual environment) for flexible analysis environments\n",
    "\n",
    "### **8. Data Quality & Analysis Reliability**:\n",
    "   - **Current Execution Status**: Latest analysis run (October 15, 2025) with execution counts 12-20 confirms all components working correctly\n",
    "   - **Variable Integrity**: 89 active variables in notebook session demonstrate comprehensive data processing pipeline including LENGTH_METRICS, PERFORMANCE_METRICS, correlation_matrix, growth_df, and complete visualization datasets\n",
    "   - **Error-Free Execution**: All analysis cells executed successfully with proper outputs and visualizations across distribution analysis, correlation matrices, genre analysis, and time-series components\n",
    "   - **Missing Data Handling**: Robust null value processing and data cleaning procedures implemented throughout all analysis sections\n",
    "   - **Analysis Completeness**: Full analytical pipeline validated from data loading through advanced visualizations with confirmed variable availability\n",
    "\n",
    "### **9. Practical Applications for Authors**:\n",
    "   - **Data-Driven Genre Selection**: Use genre performance analysis to identify high-potential niches and successful combinations\n",
    "   - **Optimal Story Planning**: Leverage length analysis to plan chapter counts that maximize reader engagement\n",
    "   - **Growth Monitoring**: Utilize time-series dashboard to track story performance and compare growth rates\n",
    "   - **Update Strategy**: Use growth rate analysis to optimize publishing frequency and timing\n",
    "   - **Market Positioning**: Apply correlation insights to understand which metrics to focus on for different story goals\n",
    "   - **Quality vs. Popularity Balance**: Understand the independence of ratings from view metrics for strategic positioning\n",
    "\n",
    "### **10. Platform Ecosystem Insights**:\n",
    "   - **Competitive Landscape**: The extreme skewness confirms Royal Road as a highly competitive platform where early momentum is crucial\n",
    "   - **Reader Behavior**: Strong engagement correlations suggest readers who follow also view, favorite, and rate, indicating high reader investment\n",
    "   - **Quality vs. Popularity**: The independence of ratings from popularity metrics shows that quality assessment remains relatively objective\n",
    "   - **Long-Term Trends**: Time-series data reveals that consistent publishing and community building are key to sustained growth\n",
    "   - **Market Maturity**: Platform data shows sophisticated reader engagement patterns and established genre preferences\n",
    "\n",
    "### **11. Future Analysis Opportunities**:\n",
    "   - **Expanded Time-Series**: Continued data collection will enable deeper temporal analysis and seasonal trend identification\n",
    "   - **Author Success Patterns**: Cross-referencing author information could reveal successful publishing strategies\n",
    "   - **Reader Demographics**: Integration with reader engagement data could provide insights into audience preferences\n",
    "   - **Content Analysis**: Natural language processing of story descriptions and reviews could identify success factors beyond metrics\n",
    "   - **Predictive Modeling**: Historical data foundation enables development of story success prediction models\n",
    "\n",
    "This enhanced analysis framework provides a comprehensive, validated toolkit for understanding the Royal Road ecosystem. The combination of improved visualizations, centralized configuration, robust time-series analysis, and reliable technical infrastructure creates a powerful foundation for both data exploration and practical decision-making in web fiction publishing. The successful execution and validation of this analysis (October 15, 2025) demonstrates the reliability and completeness of our analytical approach with all key components confirmed working."
   ]
  }
 ],
 "metadata": {
  "kernelspec": {
   "display_name": "Python 3.13.8 (Global)",
   "language": "python",
   "name": "global-python"
  },
  "language_info": {
   "codemirror_mode": {
    "name": "ipython",
    "version": 3
   },
   "file_extension": ".py",
   "mimetype": "text/x-python",
   "name": "python",
   "nbconvert_exporter": "python",
   "pygments_lexer": "ipython3",
   "version": "3.13.9"
  }
 },
 "nbformat": 4,
 "nbformat_minor": 5
}
