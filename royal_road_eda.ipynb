{
 "cells": [
  {
   "cell_type": "markdown",
   "id": "d19b9828",
   "metadata": {},
   "source": [
    "# Royal Road Stories - Exploratory Data Analysis\n",
    "\n",
    "This notebook performs exploratory data analysis on the scraped data from Royal Road, a web fiction platform. We'll analyze various aspects of the stories including:\n",
    "\n",
    "- Story statistics (views, ratings, chapters, etc.)\n",
    "- Correlations between different metrics\n",
    "- Genre distributions\n",
    "- Story popularity patterns\n",
    "- Rating distributions\n",
    "\n",
    "First, let's import the required libraries and load our data."
   ]
  },
  {
   "cell_type": "code",
   "execution_count": 9,
   "id": "492b87cc",
   "metadata": {},
   "outputs": [],
   "source": [
    "# Import required libraries\n",
    "import pandas as pd\n",
    "import numpy as np\n",
    "import matplotlib.pyplot as plt\n",
    "import seaborn as sns\n",
    "import sqlite3\n",
    "from datetime import datetime\n",
    "import plotly.express as px\n",
    "import plotly.graph_objects as go\n",
    "from plotly.subplots import make_subplots\n",
    "\n",
    "# Set up display options\n",
    "pd.set_option('display.max_columns', None)\n",
    "pd.set_option('display.max_rows', 100)\n",
    "\n",
    "# Set style for matplotlib/seaborn plots\n",
    "sns.set_style(\"whitegrid\")  # Use seaborn's whitegrid style\n",
    "plt.style.use('seaborn-v0_8')  # Use the updated seaborn style name"
   ]
  },
  {
   "cell_type": "markdown",
   "id": "9731fff7",
   "metadata": {},
   "source": [
    "## Data Loading and Cleaning\n",
    "\n",
    "Let's load our data from the SQLite database. We'll need to join the stories table with the latest stats for each story."
   ]
  },
  {
   "cell_type": "code",
   "execution_count": 10,
   "id": "d61a47a7",
   "metadata": {},
   "outputs": [
    {
     "name": "stdout",
     "output_type": "stream",
     "text": [
      "Dataset Shape: (133, 13)\n",
      "<class 'pandas.core.frame.DataFrame'>\n",
      "RangeIndex: 133 entries, 0 to 132\n",
      "Data columns (total 13 columns):\n",
      " #   Column         Non-Null Count  Dtype         \n",
      "---  ------         --------------  -----         \n",
      " 0   id             133 non-null    int64         \n",
      " 1   title          133 non-null    object        \n",
      " 2   url            133 non-null    object        \n",
      " 3   rating         126 non-null    float64       \n",
      " 4   followers      133 non-null    int64         \n",
      " 5   pages          133 non-null    int64         \n",
      " 6   chapters       130 non-null    float64       \n",
      " 7   views          133 non-null    int64         \n",
      " 8   favorites      133 non-null    int64         \n",
      " 9   ratings_count  133 non-null    int64         \n",
      " 10  genre          133 non-null    object        \n",
      " 11  scraped_date   133 non-null    object        \n",
      " 12  last_updated   133 non-null    datetime64[ns]\n",
      "dtypes: datetime64[ns](1), float64(2), int64(6), object(4)\n",
      "memory usage: 13.6+ KB\n"
     ]
    }
   ],
   "source": [
    "# Connect to SQLite database\n",
    "try:\n",
    "    conn = sqlite3.connect('data/royal_road.db')\n",
    "\n",
    "    # Load stories with their latest stats (all in one table now)\n",
    "    query = \"\"\"\n",
    "    SELECT id, title, url, rating, followers, pages, chapters,\n",
    "           views, favorites, ratings_count, genres, scraped_date\n",
    "    FROM stories\n",
    "    \"\"\"\n",
    "\n",
    "    df = pd.read_sql_query(query, conn)\n",
    "    \n",
    "    # Rename genres column to genre for consistency with rest of the notebook\n",
    "    df = df.rename(columns={'genres': 'genre'})\n",
    "    \n",
    "    # Convert scraped_date to datetime\n",
    "    df['last_updated'] = pd.to_datetime(df['scraped_date'])\n",
    "    \n",
    "    # Display basic information about the dataset\n",
    "    print(\"Dataset Shape:\", df.shape)\n",
    "    df.info()\n",
    "\n",
    "except sqlite3.Error as e:\n",
    "    print(f\"Database error occurred: {e}\")\n",
    "except Exception as e:\n",
    "    print(f\"An error occurred: {e}\")\n",
    "finally:\n",
    "    if 'conn' in locals():\n",
    "        conn.close()"
   ]
  },
  {
   "cell_type": "markdown",
   "id": "5587de6f",
   "metadata": {},
   "source": [
    "## Basic Statistical Analysis\n",
    "\n",
    "Let's examine the basic statistics of our numerical columns to understand the central tendencies and spread of our data."
   ]
  },
  {
   "cell_type": "code",
   "execution_count": 11,
   "id": "505c7a19",
   "metadata": {},
   "outputs": [
    {
     "name": "stdout",
     "output_type": "stream",
     "text": [
      "\n",
      "Numerical Statistics:\n",
      "               id      rating     followers        pages     chapters  \\\n",
      "count  133.000000  126.000000    133.000000   133.000000   130.000000   \n",
      "mean   458.488722    4.451508   1935.308271  1182.812030   185.646154   \n",
      "min     50.000000    2.950000      6.000000    41.000000     7.000000   \n",
      "25%    283.000000    4.342500    143.000000   453.000000    62.000000   \n",
      "50%    515.000000    4.520000    527.000000   680.000000    97.000000   \n",
      "75%    605.000000    4.617500   3188.000000  1335.000000   175.000000   \n",
      "max    638.000000    5.000000  14186.000000  8206.000000  4000.000000   \n",
      "std    158.899845    0.323620   2627.324801  1311.841108   375.486183   \n",
      "\n",
      "              views    favorites  ratings_count                   last_updated  \n",
      "count  1.330000e+02   133.000000     133.000000                            133  \n",
      "mean   7.372193e+05   456.879699     304.000000  2025-10-07 22:29:27.165413376  \n",
      "min    1.377000e+03     1.000000       2.000000            2025-10-04 21:15:17  \n",
      "25%    2.581600e+04    36.000000      23.000000            2025-10-06 01:42:21  \n",
      "50%    1.824820e+05   125.000000      67.000000            2025-10-08 16:59:44  \n",
      "75%    6.409340e+05   623.000000     470.000000            2025-10-09 12:45:46  \n",
      "max    1.229831e+07  4711.000000    2820.000000            2025-10-09 12:45:46  \n",
      "std    1.694582e+06   694.918134     470.713305                            NaN  \n",
      "\n",
      "Key Metrics Summary:\n",
      "              views      rating     followers    favorites  ratings_count  \\\n",
      "count  1.330000e+02  126.000000    133.000000   133.000000     133.000000   \n",
      "mean   7.372193e+05    4.451508   1935.308271   456.879699     304.000000   \n",
      "std    1.694582e+06    0.323620   2627.324801   694.918134     470.713305   \n",
      "min    1.377000e+03    2.950000      6.000000     1.000000       2.000000   \n",
      "25%    2.581600e+04    4.342500    143.000000    36.000000      23.000000   \n",
      "50%    1.824820e+05    4.520000    527.000000   125.000000      67.000000   \n",
      "75%    6.409340e+05    4.617500   3188.000000   623.000000     470.000000   \n",
      "max    1.229831e+07    5.000000  14186.000000  4711.000000    2820.000000   \n",
      "\n",
      "          chapters        pages  \n",
      "count   130.000000   133.000000  \n",
      "mean    185.646154  1182.812030  \n",
      "std     375.486183  1311.841108  \n",
      "min       7.000000    41.000000  \n",
      "25%      62.000000   453.000000  \n",
      "50%      97.000000   680.000000  \n",
      "75%     175.000000  1335.000000  \n",
      "max    4000.000000  8206.000000  \n"
     ]
    }
   ],
   "source": [
    "# Get descriptive statistics for numerical columns\n",
    "numerical_stats = df.describe()\n",
    "print(\"\\nNumerical Statistics:\")\n",
    "print(numerical_stats)\n",
    "\n",
    "# Create a more focused view of key metrics\n",
    "key_metrics = ['views', 'rating', 'followers', 'favorites', 'ratings_count', 'chapters', 'pages']\n",
    "print(\"\\nKey Metrics Summary:\")\n",
    "print(df[key_metrics].describe())"
   ]
  },
  {
   "cell_type": "markdown",
   "id": "0162b22f",
   "metadata": {},
   "source": [
    "## Missing Value Analysis\n",
    "\n",
    "Let's check for missing values in our dataset and visualize them."
   ]
  },
  {
   "cell_type": "code",
   "execution_count": 12,
   "id": "74dcdf25",
   "metadata": {},
   "outputs": [
    {
     "name": "stdout",
     "output_type": "stream",
     "text": [
      "\n",
      "Missing Value Analysis:\n",
      "          Missing Values  Percentage\n",
      "rating                 7    5.263158\n",
      "chapters               3    2.255639\n"
     ]
    },
    {
     "data": {
      "image/png": "[encoded data removed]",
      "text/plain": [
       "<Figure size 1000x600 with 2 Axes>"
      ]
     },
     "metadata": {},
     "output_type": "display_data"
    }
   ],
   "source": [
    "# Check for missing values\n",
    "missing_values = df.isnull().sum()\n",
    "missing_percentages = (df.isnull().sum() / len(df)) * 100\n",
    "\n",
    "# Create a DataFrame with missing value information\n",
    "missing_info = pd.DataFrame({\n",
    "    'Missing Values': missing_values,\n",
    "    'Percentage': missing_percentages\n",
    "})\n",
    "print(\"\\nMissing Value Analysis:\")\n",
    "print(missing_info[missing_info['Missing Values'] > 0])\n",
    "\n",
    "# Create a heatmap of missing values\n",
    "plt.figure(figsize=(10, 6))\n",
    "sns.heatmap(df.isnull(), \n",
    "           yticklabels=False, \n",
    "           cbar=True, \n",
    "           cmap='viridis')\n",
    "plt.title('Missing Value Heatmap')\n",
    "plt.tight_layout()\n",
    "plt.show()"
   ]
  },
  {
   "cell_type": "markdown",
   "id": "0ebf4082",
   "metadata": {},
   "source": [
    "## Numerical Features Distribution\n",
    "\n",
    "Let's analyze the distribution of key numerical features using histograms and box plots."
   ]
  },
  {
   "cell_type": "code",
   "execution_count": 13,
   "id": "76c8664d",
   "metadata": {},
   "outputs": [
    {
     "name": "stdout",
     "output_type": "stream",
     "text": [
      "Skewness for views: 5.10\n",
      "Applied log scaling to views due to right-skewed distribution (skewness: 5.10)\n"
     ]
    },
    {
     "data": {
      "application/vnd.plotly.v1+json": {
       "config": {
        "plotlyServerURL": "https://plot.ly"
       },
       "data": [
        {
         "name": "Distribution",
         "opacity": 0.75,
         "type": "bar",
         "x": [
          1514.3899316161214,
          1816.5859071351947,
          2179.0849827432044,
          2613.920620745828,
          3135.5275565980273,
          3761.2209721121417,
          4511.771287510267,
          5412.093653027501,
          6492.0750283208845,
          7787.566305282013,
          9341.572408606204,
          11205.67988050955,
          13441.769339471577,
          16124.069659514686,
          19341.62206023263,
          23201.235905113135,
          27831.034328370937,
          33384.70739036196,
          40046.613948656886,
          48037.901605684034,
          57623.847889760866,
          69122.66636620538,
          82916.07000480659,
          99461.94246353985,
          119309.53792246847,
          143117.7140391266,
          171676.80328370357,
          205934.84869143373,
          247029.07495010106,
          296323.63953192875,
          355454.91705049365,
          426385.82009505597,
          511470.9597681768,
          613534.8089855802,
          735965.4632348744,
          882827.1112605331,
          1058994.9492343063,
          1270317.0170006393,
          1523808.3286876595,
          1827883.742012965,
          2192637.2965770634,
          2630177.2940145107,
          3155028.243270762,
          3784613.0139169483,
          4539831.202988166,
          5445752.914719878,
          6532450.983785466,
          7835999.268386695,
          9399670.152377438,
          11275371.008512855
         ],
         "y": {
          "bdata": "FiG08DGx/D4AAAAAAAAAAPnqoyOp8PM+tPw4IXuf8D7dj/SMIbf7PhaqfTrUGuc+sg8d7d9C8z5zxNjdmg7wPgzKUJKUxeo+XNnrEHZR5j6NwGupwUH3PjjQz4NSBc8+O72+mjBl4z4bZyzo8o7VPouRAjsQd+Y+uBpH+Th51j69mnw6ljnfPoqTrAAP07Q+UulJWkWz1T6wJZAJz/HMPn0Gr9ZyKc4+UtGUo5AdtD6v+DZP6sSgPqYOhqIo+LQ+h2E4MtxOpz5mlJUZYCWtPkkjvq8lTKg+QAmr7WZBtD6iyr9ryuKgPrd5I2/nxJI+D2NRES5Lrz4wFnIF3pCjPjnqIV5/v4U+7JM0uVIhoj6gPbVYcTp+PhZoRpUfM4k+eyp/V/QBdT6tCP2H90R6PoNyVqT9Mn0+Ij7ni59Bcj6rNvJC3Up0PifEKMqt6lA+xy2mhWEnZT7/TAFWWYNHPlGvGOMBmkM+DbRhJT5XQD4AAAAAAAAAAAAAAAAAAAAAAAAAAAAAAADl0+XvppE/Pg==",
          "dtype": "f8"
         }
        }
       ],
       "layout": {
        "height": 500,
        "showlegend": false,
        "template": {
         "data": {
          "bar": [
           {
            "error_x": {
             "color": "#2a3f5f"
            },
            "error_y": {
             "color": "#2a3f5f"
            },
            "marker": {
             "line": {
              "color": "#E5ECF6",
              "width": 0.5
             },
             "pattern": {
              "fillmode": "overlay",
              "size": 10,
              "solidity": 0.2
             }
            },
            "type": "bar"
           }
          ],
          "barpolar": [
           {
            "marker": {
             "line": {
              "color": "#E5ECF6",
              "width": 0.5
             },
             "pattern": {
              "fillmode": "overlay",
              "size": 10,
              "solidity": 0.2
             }
            },
            "type": "barpolar"
           }
          ],
          "carpet": [
           {
            "aaxis": {
             "endlinecolor": "#2a3f5f",
             "gridcolor": "white",
             "linecolor": "white",
             "minorgridcolor": "white",
             "startlinecolor": "#2a3f5f"
            },
            "baxis": {
             "endlinecolor": "#2a3f5f",
             "gridcolor": "white",
             "linecolor": "white",
             "minorgridcolor": "white",
             "startlinecolor": "#2a3f5f"
            },
            "type": "carpet"
           }
          ],
          "choropleth": [
           {
            "colorbar": {
             "outlinewidth": 0,
             "ticks": ""
            },
            "type": "choropleth"
           }
          ],
          "contour": [
           {
            "colorbar": {
             "outlinewidth": 0,
             "ticks": ""
            },
            "colorscale": [
             [
              0,
              "#0d0887"
             ],
             [
              0.1111111111111111,
              "#46039f"
             ],
             [
              0.2222222222222222,
              "#7201a8"
             ],
             [
              0.3333333333333333,
              "#9c179e"
             ],
             [
              0.4444444444444444,
              "#bd3786"
             ],
             [
              0.5555555555555556,
              "#d8576b"
             ],
             [
              0.6666666666666666,
              "#ed7953"
             ],
             [
              0.7777777777777778,
              "#fb9f3a"
             ],
             [
              0.8888888888888888,
              "#fdca26"
             ],
             [
              1,
              "#f0f921"
             ]
            ],
            "type": "contour"
           }
          ],
          "contourcarpet": [
           {
            "colorbar": {
             "outlinewidth": 0,
             "ticks": ""
            },
            "type": "contourcarpet"
           }
          ],
          "heatmap": [
           {
            "colorbar": {
             "outlinewidth": 0,
             "ticks": ""
            },
            "colorscale": [
             [
              0,
              "#0d0887"
             ],
             [
              0.1111111111111111,
              "#46039f"
             ],
             [
              0.2222222222222222,
              "#7201a8"
             ],
             [
              0.3333333333333333,
              "#9c179e"
             ],
             [
              0.4444444444444444,
              "#bd3786"
             ],
             [
              0.5555555555555556,
              "#d8576b"
             ],
             [
              0.6666666666666666,
              "#ed7953"
             ],
             [
              0.7777777777777778,
              "#fb9f3a"
             ],
             [
              0.8888888888888888,
              "#fdca26"
             ],
             [
              1,
              "#f0f921"
             ]
            ],
            "type": "heatmap"
           }
          ],
          "histogram": [
           {
            "marker": {
             "pattern": {
              "fillmode": "overlay",
              "size": 10,
              "solidity": 0.2
             }
            },
            "type": "histogram"
           }
          ],
          "histogram2d": [
           {
            "colorbar": {
             "outlinewidth": 0,
             "ticks": ""
            },
            "colorscale": [
             [
              0,
              "#0d0887"
             ],
             [
              0.1111111111111111,
              "#46039f"
             ],
             [
              0.2222222222222222,
              "#7201a8"
             ],
             [
              0.3333333333333333,
              "#9c179e"
             ],
             [
              0.4444444444444444,
              "#bd3786"
             ],
             [
              0.5555555555555556,
              "#d8576b"
             ],
             [
              0.6666666666666666,
              "#ed7953"
             ],
             [
              0.7777777777777778,
              "#fb9f3a"
             ],
             [
              0.8888888888888888,
              "#fdca26"
             ],
             [
              1,
              "#f0f921"
             ]
            ],
            "type": "histogram2d"
           }
          ],
          "histogram2dcontour": [
           {
            "colorbar": {
             "outlinewidth": 0,
             "ticks": ""
            },
            "colorscale": [
             [
              0,
              "#0d0887"
             ],
             [
              0.1111111111111111,
              "#46039f"
             ],
             [
              0.2222222222222222,
              "#7201a8"
             ],
             [
              0.3333333333333333,
              "#9c179e"
             ],
             [
              0.4444444444444444,
              "#bd3786"
             ],
             [
              0.5555555555555556,
              "#d8576b"
             ],
             [
              0.6666666666666666,
              "#ed7953"
             ],
             [
              0.7777777777777778,
              "#fb9f3a"
             ],
             [
              0.8888888888888888,
              "#fdca26"
             ],
             [
              1,
              "#f0f921"
             ]
            ],
            "type": "histogram2dcontour"
           }
          ],
          "mesh3d": [
           {
            "colorbar": {
             "outlinewidth": 0,
             "ticks": ""
            },
            "type": "mesh3d"
           }
          ],
          "parcoords": [
           {
            "line": {
             "colorbar": {
              "outlinewidth": 0,
              "ticks": ""
             }
            },
            "type": "parcoords"
           }
          ],
          "pie": [
           {
            "automargin": true,
            "type": "pie"
           }
          ],
          "scatter": [
           {
            "fillpattern": {
             "fillmode": "overlay",
             "size": 10,
             "solidity": 0.2
            },
            "type": "scatter"
           }
          ],
          "scatter3d": [
           {
            "line": {
             "colorbar": {
              "outlinewidth": 0,
              "ticks": ""
             }
            },
            "marker": {
             "colorbar": {
              "outlinewidth": 0,
              "ticks": ""
             }
            },
            "type": "scatter3d"
           }
          ],
          "scattercarpet": [
           {
            "marker": {
             "colorbar": {
              "outlinewidth": 0,
              "ticks": ""
             }
            },
            "type": "scattercarpet"
           }
          ],
          "scattergeo": [
           {
            "marker": {
             "colorbar": {
              "outlinewidth": 0,
              "ticks": ""
             }
            },
            "type": "scattergeo"
           }
          ],
          "scattergl": [
           {
            "marker": {
             "colorbar": {
              "outlinewidth": 0,
              "ticks": ""
             }
            },
            "type": "scattergl"
           }
          ],
          "scattermap": [
           {
            "marker": {
             "colorbar": {
              "outlinewidth": 0,
              "ticks": ""
             }
            },
            "type": "scattermap"
           }
          ],
          "scattermapbox": [
           {
            "marker": {
             "colorbar": {
              "outlinewidth": 0,
              "ticks": ""
             }
            },
            "type": "scattermapbox"
           }
          ],
          "scatterpolar": [
           {
            "marker": {
             "colorbar": {
              "outlinewidth": 0,
              "ticks": ""
             }
            },
            "type": "scatterpolar"
           }
          ],
          "scatterpolargl": [
           {
            "marker": {
             "colorbar": {
              "outlinewidth": 0,
              "ticks": ""
             }
            },
            "type": "scatterpolargl"
           }
          ],
          "scatterternary": [
           {
            "marker": {
             "colorbar": {
              "outlinewidth": 0,
              "ticks": ""
             }
            },
            "type": "scatterternary"
           }
          ],
          "surface": [
           {
            "colorbar": {
             "outlinewidth": 0,
             "ticks": ""
            },
            "colorscale": [
             [
              0,
              "#0d0887"
             ],
             [
              0.1111111111111111,
              "#46039f"
             ],
             [
              0.2222222222222222,
              "#7201a8"
             ],
             [
              0.3333333333333333,
              "#9c179e"
             ],
             [
              0.4444444444444444,
              "#bd3786"
             ],
             [
              0.5555555555555556,
              "#d8576b"
             ],
             [
              0.6666666666666666,
              "#ed7953"
             ],
             [
              0.7777777777777778,
              "#fb9f3a"
             ],
             [
              0.8888888888888888,
              "#fdca26"
             ],
             [
              1,
              "#f0f921"
             ]
            ],
            "type": "surface"
           }
          ],
          "table": [
           {
            "cells": {
             "fill": {
              "color": "#EBF0F8"
             },
             "line": {
              "color": "white"
             }
            },
            "header": {
             "fill": {
              "color": "#C8D4E3"
             },
             "line": {
              "color": "white"
             }
            },
            "type": "table"
           }
          ]
         },
         "layout": {
          "annotationdefaults": {
           "arrowcolor": "#2a3f5f",
           "arrowhead": 0,
           "arrowwidth": 1
          },
          "autotypenumbers": "strict",
          "coloraxis": {
           "colorbar": {
            "outlinewidth": 0,
            "ticks": ""
           }
          },
          "colorscale": {
           "diverging": [
            [
             0,
             "#8e0152"
            ],
            [
             0.1,
             "#c51b7d"
            ],
            [
             0.2,
             "#de77ae"
            ],
            [
             0.3,
             "#f1b6da"
            ],
            [
             0.4,
             "#fde0ef"
            ],
            [
             0.5,
             "#f7f7f7"
            ],
            [
             0.6,
             "#e6f5d0"
            ],
            [
             0.7,
             "#b8e186"
            ],
            [
             0.8,
             "#7fbc41"
            ],
            [
             0.9,
             "#4d9221"
            ],
            [
             1,
             "#276419"
            ]
           ],
           "sequential": [
            [
             0,
             "#0d0887"
            ],
            [
             0.1111111111111111,
             "#46039f"
            ],
            [
             0.2222222222222222,
             "#7201a8"
            ],
            [
             0.3333333333333333,
             "#9c179e"
            ],
            [
             0.4444444444444444,
             "#bd3786"
            ],
            [
             0.5555555555555556,
             "#d8576b"
            ],
            [
             0.6666666666666666,
             "#ed7953"
            ],
            [
             0.7777777777777778,
             "#fb9f3a"
            ],
            [
             0.8888888888888888,
             "#fdca26"
            ],
            [
             1,
             "#f0f921"
            ]
           ],
           "sequentialminus": [
            [
             0,
             "#0d0887"
            ],
            [
             0.1111111111111111,
             "#46039f"
            ],
            [
             0.2222222222222222,
             "#7201a8"
            ],
            [
             0.3333333333333333,
             "#9c179e"
            ],
            [
             0.4444444444444444,
             "#bd3786"
            ],
            [
             0.5555555555555556,
             "#d8576b"
            ],
            [
             0.6666666666666666,
             "#ed7953"
            ],
            [
             0.7777777777777778,
             "#fb9f3a"
            ],
            [
             0.8888888888888888,
             "#fdca26"
            ],
            [
             1,
             "#f0f921"
            ]
           ]
          },
          "colorway": [
           "#636efa",
           "#EF553B",
           "#00cc96",
           "#ab63fa",
           "#FFA15A",
           "#19d3f3",
           "#FF6692",
           "#B6E880",
           "#FF97FF",
           "#FECB52"
          ],
          "font": {
           "color": "#2a3f5f"
          },
          "geo": {
           "bgcolor": "white",
           "lakecolor": "white",
           "landcolor": "#E5ECF6",
           "showlakes": true,
           "showland": true,
           "subunitcolor": "white"
          },
          "hoverlabel": {
           "align": "left"
          },
          "hovermode": "closest",
          "mapbox": {
           "style": "light"
          },
          "paper_bgcolor": "white",
          "plot_bgcolor": "#E5ECF6",
          "polar": {
           "angularaxis": {
            "gridcolor": "white",
            "linecolor": "white",
            "ticks": ""
           },
           "bgcolor": "#E5ECF6",
           "radialaxis": {
            "gridcolor": "white",
            "linecolor": "white",
            "ticks": ""
           }
          },
          "scene": {
           "xaxis": {
            "backgroundcolor": "#E5ECF6",
            "gridcolor": "white",
            "gridwidth": 2,
            "linecolor": "white",
            "showbackground": true,
            "ticks": "",
            "zerolinecolor": "white"
           },
           "yaxis": {
            "backgroundcolor": "#E5ECF6",
            "gridcolor": "white",
            "gridwidth": 2,
            "linecolor": "white",
            "showbackground": true,
            "ticks": "",
            "zerolinecolor": "white"
           },
           "zaxis": {
            "backgroundcolor": "#E5ECF6",
            "gridcolor": "white",
            "gridwidth": 2,
            "linecolor": "white",
            "showbackground": true,
            "ticks": "",
            "zerolinecolor": "white"
           }
          },
          "shapedefaults": {
           "line": {
            "color": "#2a3f5f"
           }
          },
          "ternary": {
           "aaxis": {
            "gridcolor": "white",
            "linecolor": "white",
            "ticks": ""
           },
           "baxis": {
            "gridcolor": "white",
            "linecolor": "white",
            "ticks": ""
           },
           "bgcolor": "#E5ECF6",
           "caxis": {
            "gridcolor": "white",
            "linecolor": "white",
            "ticks": ""
           }
          },
          "title": {
           "x": 0.05
          },
          "xaxis": {
           "automargin": true,
           "gridcolor": "white",
           "linecolor": "white",
           "ticks": "",
           "title": {
            "standoff": 15
           },
           "zerolinecolor": "white",
           "zerolinewidth": 2
          },
          "yaxis": {
           "automargin": true,
           "gridcolor": "white",
           "linecolor": "white",
           "ticks": "",
           "title": {
            "standoff": 15
           },
           "zerolinecolor": "white",
           "zerolinewidth": 2
          }
         }
        },
        "title": {
         "text": "Views Distribution (Log Scale)"
        },
        "width": 800,
        "xaxis": {
         "title": {
          "text": "Views"
         },
         "type": "log"
        },
        "yaxis": {
         "title": {
          "text": "Frequency"
         }
        }
       }
      }
     },
     "metadata": {},
     "output_type": "display_data"
    },
    {
     "name": "stdout",
     "output_type": "stream",
     "text": [
      "\n",
      "Views Statistics:\n",
      "Count: 133\n",
      "Mean:  737,219.31\n",
      "Std:   1,694,582.17\n",
      "Min:   1,377.00\n",
      "25%:   25,816.00\n",
      "50%:   182,482.00\n",
      "75%:   640,934.00\n",
      "Max:   12,298,306.00\n",
      "Note: views shows significant right skew - median (182482.00) is much closer to min than max\n",
      "90th percentile: 1,978,652.40\n",
      "95th percentile: 3,247,408.80\n",
      "99th percentile: 9,855,728.96\n",
      "Percent of data between median and 90th percentile: 39.1%\n",
      "Percent of data between 90th and max: 10.5%\n",
      "Skewness for rating: -2.03\n"
     ]
    },
    {
     "data": {
      "application/vnd.plotly.v1+json": {
       "config": {
        "plotlyServerURL": "https://plot.ly"
       },
       "data": [
        {
         "name": "Distribution",
         "opacity": 0.75,
         "type": "bar",
         "x": [
          2.9705000000000004,
          3.0115,
          3.0525,
          3.0935,
          3.1345,
          3.1755000000000004,
          3.2165,
          3.2575000000000003,
          3.2984999999999998,
          3.3395,
          3.3805000000000005,
          3.4215,
          3.4625000000000004,
          3.5035,
          3.5445,
          3.5854999999999997,
          3.6265,
          3.6675000000000004,
          3.7085,
          3.7495000000000003,
          3.7904999999999998,
          3.8315,
          3.8725,
          3.9135,
          3.9545000000000003,
          3.9955,
          4.0365,
          4.077500000000001,
          4.1185,
          4.1594999999999995,
          4.2005,
          4.2415,
          4.282500000000001,
          4.3235,
          4.3645,
          4.4055,
          4.4465,
          4.487500000000001,
          4.528499999999999,
          4.5695,
          4.6105,
          4.6515,
          4.6925,
          4.733499999999999,
          4.7745,
          4.8155,
          4.8565000000000005,
          4.8975,
          4.9384999999999994,
          4.9795
         ],
         "y": {
          "bdata": "u5KIEgPHyD8AAAAAAAAAAAAAAAAAAAAAcJKIEgPHyD8AAAAAAAAAAAAAAAAAAAAAAAAAAAAAAAAAAAAAAAAAAAAAAAAAAAAAAAAAAAAAAAAAAAAAAAAAAAAAAAAAAAAAu5KIEgPHyD8AAAAAAAAAALuSiBIDx8g/AAAAAAAAAABwkogSA8fIP7uSiBIDx8g/AAAAAAAAAAAAAAAAAAAAALuSiBIDx9g/AAAAAAAAAAAHk4gSA8fIPwAAAAAAAAAAAAAAAAAAAAAAAAAAAAAAAAAAAAAAAAAAAAAAAAAAAABwkogSA8fYPweTiBIDx+g/cJKIEgPHyD/UbeZNQpXiPweTiBIDx+g/vqTZdOPf+z+mgDewIq71P9Rt5k1CleI/vqTZdOPf+z+mgDewIq71P3b3Dn+yIQRA+/YOf7IhBEC+pNl0498LQAeTiBIDx+g/1G3mTUKV4j8Hk4gSA8foP3CSiBIDx8g/1G3mTUKV8j8Hk4gSA8fYP3CSiBIDx9g/AAAAAAAAAABwkogSA8fYPw==",
          "dtype": "f8"
         }
        }
       ],
       "layout": {
        "height": 500,
        "showlegend": false,
        "template": {
         "data": {
          "bar": [
           {
            "error_x": {
             "color": "#2a3f5f"
            },
            "error_y": {
             "color": "#2a3f5f"
            },
            "marker": {
             "line": {
              "color": "#E5ECF6",
              "width": 0.5
             },
             "pattern": {
              "fillmode": "overlay",
              "size": 10,
              "solidity": 0.2
             }
            },
            "type": "bar"
           }
          ],
          "barpolar": [
           {
            "marker": {
             "line": {
              "color": "#E5ECF6",
              "width": 0.5
             },
             "pattern": {
              "fillmode": "overlay",
              "size": 10,
              "solidity": 0.2
             }
            },
            "type": "barpolar"
           }
          ],
          "carpet": [
           {
            "aaxis": {
             "endlinecolor": "#2a3f5f",
             "gridcolor": "white",
             "linecolor": "white",
             "minorgridcolor": "white",
             "startlinecolor": "#2a3f5f"
            },
            "baxis": {
             "endlinecolor": "#2a3f5f",
             "gridcolor": "white",
             "linecolor": "white",
             "minorgridcolor": "white",
             "startlinecolor": "#2a3f5f"
            },
            "type": "carpet"
           }
          ],
          "choropleth": [
           {
            "colorbar": {
             "outlinewidth": 0,
             "ticks": ""
            },
            "type": "choropleth"
           }
          ],
          "contour": [
           {
            "colorbar": {
             "outlinewidth": 0,
             "ticks": ""
            },
            "colorscale": [
             [
              0,
              "#0d0887"
             ],
             [
              0.1111111111111111,
              "#46039f"
             ],
             [
              0.2222222222222222,
              "#7201a8"
             ],
             [
              0.3333333333333333,
              "#9c179e"
             ],
             [
              0.4444444444444444,
              "#bd3786"
             ],
             [
              0.5555555555555556,
              "#d8576b"
             ],
             [
              0.6666666666666666,
              "#ed7953"
             ],
             [
              0.7777777777777778,
              "#fb9f3a"
             ],
             [
              0.8888888888888888,
              "#fdca26"
             ],
             [
              1,
              "#f0f921"
             ]
            ],
            "type": "contour"
           }
          ],
          "contourcarpet": [
           {
            "colorbar": {
             "outlinewidth": 0,
             "ticks": ""
            },
            "type": "contourcarpet"
           }
          ],
          "heatmap": [
           {
            "colorbar": {
             "outlinewidth": 0,
             "ticks": ""
            },
            "colorscale": [
             [
              0,
              "#0d0887"
             ],
             [
              0.1111111111111111,
              "#46039f"
             ],
             [
              0.2222222222222222,
              "#7201a8"
             ],
             [
              0.3333333333333333,
              "#9c179e"
             ],
             [
              0.4444444444444444,
              "#bd3786"
             ],
             [
              0.5555555555555556,
              "#d8576b"
             ],
             [
              0.6666666666666666,
              "#ed7953"
             ],
             [
              0.7777777777777778,
              "#fb9f3a"
             ],
             [
              0.8888888888888888,
              "#fdca26"
             ],
             [
              1,
              "#f0f921"
             ]
            ],
            "type": "heatmap"
           }
          ],
          "histogram": [
           {
            "marker": {
             "pattern": {
              "fillmode": "overlay",
              "size": 10,
              "solidity": 0.2
             }
            },
            "type": "histogram"
           }
          ],
          "histogram2d": [
           {
            "colorbar": {
             "outlinewidth": 0,
             "ticks": ""
            },
            "colorscale": [
             [
              0,
              "#0d0887"
             ],
             [
              0.1111111111111111,
              "#46039f"
             ],
             [
              0.2222222222222222,
              "#7201a8"
             ],
             [
              0.3333333333333333,
              "#9c179e"
             ],
             [
              0.4444444444444444,
              "#bd3786"
             ],
             [
              0.5555555555555556,
              "#d8576b"
             ],
             [
              0.6666666666666666,
              "#ed7953"
             ],
             [
              0.7777777777777778,
              "#fb9f3a"
             ],
             [
              0.8888888888888888,
              "#fdca26"
             ],
             [
              1,
              "#f0f921"
             ]
            ],
            "type": "histogram2d"
           }
          ],
          "histogram2dcontour": [
           {
            "colorbar": {
             "outlinewidth": 0,
             "ticks": ""
            },
            "colorscale": [
             [
              0,
              "#0d0887"
             ],
             [
              0.1111111111111111,
              "#46039f"
             ],
             [
              0.2222222222222222,
              "#7201a8"
             ],
             [
              0.3333333333333333,
              "#9c179e"
             ],
             [
              0.4444444444444444,
              "#bd3786"
             ],
             [
              0.5555555555555556,
              "#d8576b"
             ],
             [
              0.6666666666666666,
              "#ed7953"
             ],
             [
              0.7777777777777778,
              "#fb9f3a"
             ],
             [
              0.8888888888888888,
              "#fdca26"
             ],
             [
              1,
              "#f0f921"
             ]
            ],
            "type": "histogram2dcontour"
           }
          ],
          "mesh3d": [
           {
            "colorbar": {
             "outlinewidth": 0,
             "ticks": ""
            },
            "type": "mesh3d"
           }
          ],
          "parcoords": [
           {
            "line": {
             "colorbar": {
              "outlinewidth": 0,
              "ticks": ""
             }
            },
            "type": "parcoords"
           }
          ],
          "pie": [
           {
            "automargin": true,
            "type": "pie"
           }
          ],
          "scatter": [
           {
            "fillpattern": {
             "fillmode": "overlay",
             "size": 10,
             "solidity": 0.2
            },
            "type": "scatter"
           }
          ],
          "scatter3d": [
           {
            "line": {
             "colorbar": {
              "outlinewidth": 0,
              "ticks": ""
             }
            },
            "marker": {
             "colorbar": {
              "outlinewidth": 0,
              "ticks": ""
             }
            },
            "type": "scatter3d"
           }
          ],
          "scattercarpet": [
           {
            "marker": {
             "colorbar": {
              "outlinewidth": 0,
              "ticks": ""
             }
            },
            "type": "scattercarpet"
           }
          ],
          "scattergeo": [
           {
            "marker": {
             "colorbar": {
              "outlinewidth": 0,
              "ticks": ""
             }
            },
            "type": "scattergeo"
           }
          ],
          "scattergl": [
           {
            "marker": {
             "colorbar": {
              "outlinewidth": 0,
              "ticks": ""
             }
            },
            "type": "scattergl"
           }
          ],
          "scattermap": [
           {
            "marker": {
             "colorbar": {
              "outlinewidth": 0,
              "ticks": ""
             }
            },
            "type": "scattermap"
           }
          ],
          "scattermapbox": [
           {
            "marker": {
             "colorbar": {
              "outlinewidth": 0,
              "ticks": ""
             }
            },
            "type": "scattermapbox"
           }
          ],
          "scatterpolar": [
           {
            "marker": {
             "colorbar": {
              "outlinewidth": 0,
              "ticks": ""
             }
            },
            "type": "scatterpolar"
           }
          ],
          "scatterpolargl": [
           {
            "marker": {
             "colorbar": {
              "outlinewidth": 0,
              "ticks": ""
             }
            },
            "type": "scatterpolargl"
           }
          ],
          "scatterternary": [
           {
            "marker": {
             "colorbar": {
              "outlinewidth": 0,
              "ticks": ""
             }
            },
            "type": "scatterternary"
           }
          ],
          "surface": [
           {
            "colorbar": {
             "outlinewidth": 0,
             "ticks": ""
            },
            "colorscale": [
             [
              0,
              "#0d0887"
             ],
             [
              0.1111111111111111,
              "#46039f"
             ],
             [
              0.2222222222222222,
              "#7201a8"
             ],
             [
              0.3333333333333333,
              "#9c179e"
             ],
             [
              0.4444444444444444,
              "#bd3786"
             ],
             [
              0.5555555555555556,
              "#d8576b"
             ],
             [
              0.6666666666666666,
              "#ed7953"
             ],
             [
              0.7777777777777778,
              "#fb9f3a"
             ],
             [
              0.8888888888888888,
              "#fdca26"
             ],
             [
              1,
              "#f0f921"
             ]
            ],
            "type": "surface"
           }
          ],
          "table": [
           {
            "cells": {
             "fill": {
              "color": "#EBF0F8"
             },
             "line": {
              "color": "white"
             }
            },
            "header": {
             "fill": {
              "color": "#C8D4E3"
             },
             "line": {
              "color": "white"
             }
            },
            "type": "table"
           }
          ]
         },
         "layout": {
          "annotationdefaults": {
           "arrowcolor": "#2a3f5f",
           "arrowhead": 0,
           "arrowwidth": 1
          },
          "autotypenumbers": "strict",
          "coloraxis": {
           "colorbar": {
            "outlinewidth": 0,
            "ticks": ""
           }
          },
          "colorscale": {
           "diverging": [
            [
             0,
             "#8e0152"
            ],
            [
             0.1,
             "#c51b7d"
            ],
            [
             0.2,
             "#de77ae"
            ],
            [
             0.3,
             "#f1b6da"
            ],
            [
             0.4,
             "#fde0ef"
            ],
            [
             0.5,
             "#f7f7f7"
            ],
            [
             0.6,
             "#e6f5d0"
            ],
            [
             0.7,
             "#b8e186"
            ],
            [
             0.8,
             "#7fbc41"
            ],
            [
             0.9,
             "#4d9221"
            ],
            [
             1,
             "#276419"
            ]
           ],
           "sequential": [
            [
             0,
             "#0d0887"
            ],
            [
             0.1111111111111111,
             "#46039f"
            ],
            [
             0.2222222222222222,
             "#7201a8"
            ],
            [
             0.3333333333333333,
             "#9c179e"
            ],
            [
             0.4444444444444444,
             "#bd3786"
            ],
            [
             0.5555555555555556,
             "#d8576b"
            ],
            [
             0.6666666666666666,
             "#ed7953"
            ],
            [
             0.7777777777777778,
             "#fb9f3a"
            ],
            [
             0.8888888888888888,
             "#fdca26"
            ],
            [
             1,
             "#f0f921"
            ]
           ],
           "sequentialminus": [
            [
             0,
             "#0d0887"
            ],
            [
             0.1111111111111111,
             "#46039f"
            ],
            [
             0.2222222222222222,
             "#7201a8"
            ],
            [
             0.3333333333333333,
             "#9c179e"
            ],
            [
             0.4444444444444444,
             "#bd3786"
            ],
            [
             0.5555555555555556,
             "#d8576b"
            ],
            [
             0.6666666666666666,
             "#ed7953"
            ],
            [
             0.7777777777777778,
             "#fb9f3a"
            ],
            [
             0.8888888888888888,
             "#fdca26"
            ],
            [
             1,
             "#f0f921"
            ]
           ]
          },
          "colorway": [
           "#636efa",
           "#EF553B",
           "#00cc96",
           "#ab63fa",
           "#FFA15A",
           "#19d3f3",
           "#FF6692",
           "#B6E880",
           "#FF97FF",
           "#FECB52"
          ],
          "font": {
           "color": "#2a3f5f"
          },
          "geo": {
           "bgcolor": "white",
           "lakecolor": "white",
           "landcolor": "#E5ECF6",
           "showlakes": true,
           "showland": true,
           "subunitcolor": "white"
          },
          "hoverlabel": {
           "align": "left"
          },
          "hovermode": "closest",
          "mapbox": {
           "style": "light"
          },
          "paper_bgcolor": "white",
          "plot_bgcolor": "#E5ECF6",
          "polar": {
           "angularaxis": {
            "gridcolor": "white",
            "linecolor": "white",
            "ticks": ""
           },
           "bgcolor": "#E5ECF6",
           "radialaxis": {
            "gridcolor": "white",
            "linecolor": "white",
            "ticks": ""
           }
          },
          "scene": {
           "xaxis": {
            "backgroundcolor": "#E5ECF6",
            "gridcolor": "white",
            "gridwidth": 2,
            "linecolor": "white",
            "showbackground": true,
            "ticks": "",
            "zerolinecolor": "white"
           },
           "yaxis": {
            "backgroundcolor": "#E5ECF6",
            "gridcolor": "white",
            "gridwidth": 2,
            "linecolor": "white",
            "showbackground": true,
            "ticks": "",
            "zerolinecolor": "white"
           },
           "zaxis": {
            "backgroundcolor": "#E5ECF6",
            "gridcolor": "white",
            "gridwidth": 2,
            "linecolor": "white",
            "showbackground": true,
            "ticks": "",
            "zerolinecolor": "white"
           }
          },
          "shapedefaults": {
           "line": {
            "color": "#2a3f5f"
           }
          },
          "ternary": {
           "aaxis": {
            "gridcolor": "white",
            "linecolor": "white",
            "ticks": ""
           },
           "baxis": {
            "gridcolor": "white",
            "linecolor": "white",
            "ticks": ""
           },
           "bgcolor": "#E5ECF6",
           "caxis": {
            "gridcolor": "white",
            "linecolor": "white",
            "ticks": ""
           }
          },
          "title": {
           "x": 0.05
          },
          "xaxis": {
           "automargin": true,
           "gridcolor": "white",
           "linecolor": "white",
           "ticks": "",
           "title": {
            "standoff": 15
           },
           "zerolinecolor": "white",
           "zerolinewidth": 2
          },
          "yaxis": {
           "automargin": true,
           "gridcolor": "white",
           "linecolor": "white",
           "ticks": "",
           "title": {
            "standoff": 15
           },
           "zerolinecolor": "white",
           "zerolinewidth": 2
          }
         }
        },
        "title": {
         "text": "Rating Distribution"
        },
        "width": 800,
        "xaxis": {
         "title": {
          "text": "Rating"
         }
        },
        "yaxis": {
         "title": {
          "text": "Frequency"
         }
        }
       }
      }
     },
     "metadata": {},
     "output_type": "display_data"
    },
    {
     "name": "stdout",
     "output_type": "stream",
     "text": [
      "\n",
      "Rating Statistics:\n",
      "Count: 126\n",
      "Mean:  4.45\n",
      "Std:   0.32\n",
      "Min:   2.95\n",
      "25%:   4.34\n",
      "50%:   4.52\n",
      "75%:   4.62\n",
      "Max:   5.00\n",
      "Skewness for followers: 1.93\n",
      "Applied log scaling to followers due to right-skewed distribution (skewness: 1.93)\n"
     ]
    },
    {
     "data": {
      "application/vnd.plotly.v1+json": {
       "config": {
        "plotlyServerURL": "https://plot.ly"
       },
       "data": [
        {
         "name": "Distribution",
         "opacity": 0.75,
         "type": "bar",
         "x": [
          6.504252798347145,
          7.597515356588411,
          8.874538149603449,
          10.366208381595456,
          12.108604909818503,
          14.143870879770489,
          16.52123303663214,
          19.298192366921164,
          22.541914868275004,
          26.330856085751932,
          30.756658707124046,
          35.926369114082505,
          41.96502650082536,
          49.01868718274311,
          57.257957243810296,
          66.88211896642113,
          78.12395084915596,
          91.25535779369653,
          106.59394763757703,
          124.51071309861615,
          145.43900493334135,
          169.88501334216176,
          198.44001113383746,
          231.7946547732629,
          270.7556892103724,
          316.26546052795254,
          369.4247083585419,
          431.5191893479992,
          504.05077560440577,
          588.7737803069294,
          687.7373890779951,
          803.3352234015081,
          938.3632348718548,
          1096.087330555258,
          1280.3223651103708,
          1495.5244102414845,
          1746.8985331950623,
          2040.5246911257739,
          2383.5047863246464,
          2784.1344391173193,
          3252.103633083839,
          3798.7310855829846,
          4437.238012274155,
          5183.067907148012,
          6054.260072548902,
          7071.8859337169615,
          8260.558690939819,
          9649.028636212222,
          11270.878533259474,
          13165.335880001765
         ],
         "y": {
          "bdata": "yjhr0sLEnj8AAAAAAAAAAAAAAAAAAAAAAAAAAAAAAABXs427ncqIPwAAAAAAAAAAAAAAAAAAAAAr8tkWj710P/R7X/6GwWE/ESItLeBmXj8T/DC18AZqP2HtAR4pSFY/8em/ylgTUz8AAAAAAAAAAOOVKMAf9ks/XNI2CRH0YT8J/6bCaL1eP0XP2Q9Zi2E/YnBJAZWHVj9Gf8lgpElTP96Audogg2A/YxsxDyTZUj9YTnrT0CJAP/fHTrGARFE/BP0q2wunRz+k5s6yvT9EP5uHuqy4ADo/MVvn5XKuPT+Niuv4yQ4zPwAAAAAAAAAAZCDH7qCfMj/vgzyjKOMfP6ARoWeATBs/iyjq5yeHIT+Fdrxc9AEUP0yBv8dgsRk/LA9E7GxUIj+DDwKsE/glPwAAAAAAAAAAAKdb8TOaCz98rLEY3IEPP1HiYxrnOhQ/sxJLJHTdDD9L49acSkwRPwZUL/36Ygk/ojSpaGT67D4AAAAAAAAAAAQTBSWK2+8+CR8ZDqcu0j4AAAAAAAAAAA==",
          "dtype": "f8"
         }
        }
       ],
       "layout": {
        "height": 500,
        "showlegend": false,
        "template": {
         "data": {
          "bar": [
           {
            "error_x": {
             "color": "#2a3f5f"
            },
            "error_y": {
             "color": "#2a3f5f"
            },
            "marker": {
             "line": {
              "color": "#E5ECF6",
              "width": 0.5
             },
             "pattern": {
              "fillmode": "overlay",
              "size": 10,
              "solidity": 0.2
             }
            },
            "type": "bar"
           }
          ],
          "barpolar": [
           {
            "marker": {
             "line": {
              "color": "#E5ECF6",
              "width": 0.5
             },
             "pattern": {
              "fillmode": "overlay",
              "size": 10,
              "solidity": 0.2
             }
            },
            "type": "barpolar"
           }
          ],
          "carpet": [
           {
            "aaxis": {
             "endlinecolor": "#2a3f5f",
             "gridcolor": "white",
             "linecolor": "white",
             "minorgridcolor": "white",
             "startlinecolor": "#2a3f5f"
            },
            "baxis": {
             "endlinecolor": "#2a3f5f",
             "gridcolor": "white",
             "linecolor": "white",
             "minorgridcolor": "white",
             "startlinecolor": "#2a3f5f"
            },
            "type": "carpet"
           }
          ],
          "choropleth": [
           {
            "colorbar": {
             "outlinewidth": 0,
             "ticks": ""
            },
            "type": "choropleth"
           }
          ],
          "contour": [
           {
            "colorbar": {
             "outlinewidth": 0,
             "ticks": ""
            },
            "colorscale": [
             [
              0,
              "#0d0887"
             ],
             [
              0.1111111111111111,
              "#46039f"
             ],
             [
              0.2222222222222222,
              "#7201a8"
             ],
             [
              0.3333333333333333,
              "#9c179e"
             ],
             [
              0.4444444444444444,
              "#bd3786"
             ],
             [
              0.5555555555555556,
              "#d8576b"
             ],
             [
              0.6666666666666666,
              "#ed7953"
             ],
             [
              0.7777777777777778,
              "#fb9f3a"
             ],
             [
              0.8888888888888888,
              "#fdca26"
             ],
             [
              1,
              "#f0f921"
             ]
            ],
            "type": "contour"
           }
          ],
          "contourcarpet": [
           {
            "colorbar": {
             "outlinewidth": 0,
             "ticks": ""
            },
            "type": "contourcarpet"
           }
          ],
          "heatmap": [
           {
            "colorbar": {
             "outlinewidth": 0,
             "ticks": ""
            },
            "colorscale": [
             [
              0,
              "#0d0887"
             ],
             [
              0.1111111111111111,
              "#46039f"
             ],
             [
              0.2222222222222222,
              "#7201a8"
             ],
             [
              0.3333333333333333,
              "#9c179e"
             ],
             [
              0.4444444444444444,
              "#bd3786"
             ],
             [
              0.5555555555555556,
              "#d8576b"
             ],
             [
              0.6666666666666666,
              "#ed7953"
             ],
             [
              0.7777777777777778,
              "#fb9f3a"
             ],
             [
              0.8888888888888888,
              "#fdca26"
             ],
             [
              1,
              "#f0f921"
             ]
            ],
            "type": "heatmap"
           }
          ],
          "histogram": [
           {
            "marker": {
             "pattern": {
              "fillmode": "overlay",
              "size": 10,
              "solidity": 0.2
             }
            },
            "type": "histogram"
           }
          ],
          "histogram2d": [
           {
            "colorbar": {
             "outlinewidth": 0,
             "ticks": ""
            },
            "colorscale": [
             [
              0,
              "#0d0887"
             ],
             [
              0.1111111111111111,
              "#46039f"
             ],
             [
              0.2222222222222222,
              "#7201a8"
             ],
             [
              0.3333333333333333,
              "#9c179e"
             ],
             [
              0.4444444444444444,
              "#bd3786"
             ],
             [
              0.5555555555555556,
              "#d8576b"
             ],
             [
              0.6666666666666666,
              "#ed7953"
             ],
             [
              0.7777777777777778,
              "#fb9f3a"
             ],
             [
              0.8888888888888888,
              "#fdca26"
             ],
             [
              1,
              "#f0f921"
             ]
            ],
            "type": "histogram2d"
           }
          ],
          "histogram2dcontour": [
           {
            "colorbar": {
             "outlinewidth": 0,
             "ticks": ""
            },
            "colorscale": [
             [
              0,
              "#0d0887"
             ],
             [
              0.1111111111111111,
              "#46039f"
             ],
             [
              0.2222222222222222,
              "#7201a8"
             ],
             [
              0.3333333333333333,
              "#9c179e"
             ],
             [
              0.4444444444444444,
              "#bd3786"
             ],
             [
              0.5555555555555556,
              "#d8576b"
             ],
             [
              0.6666666666666666,
              "#ed7953"
             ],
             [
              0.7777777777777778,
              "#fb9f3a"
             ],
             [
              0.8888888888888888,
              "#fdca26"
             ],
             [
              1,
              "#f0f921"
             ]
            ],
            "type": "histogram2dcontour"
           }
          ],
          "mesh3d": [
           {
            "colorbar": {
             "outlinewidth": 0,
             "ticks": ""
            },
            "type": "mesh3d"
           }
          ],
          "parcoords": [
           {
            "line": {
             "colorbar": {
              "outlinewidth": 0,
              "ticks": ""
             }
            },
            "type": "parcoords"
           }
          ],
          "pie": [
           {
            "automargin": true,
            "type": "pie"
           }
          ],
          "scatter": [
           {
            "fillpattern": {
             "fillmode": "overlay",
             "size": 10,
             "solidity": 0.2
            },
            "type": "scatter"
           }
          ],
          "scatter3d": [
           {
            "line": {
             "colorbar": {
              "outlinewidth": 0,
              "ticks": ""
             }
            },
            "marker": {
             "colorbar": {
              "outlinewidth": 0,
              "ticks": ""
             }
            },
            "type": "scatter3d"
           }
          ],
          "scattercarpet": [
           {
            "marker": {
             "colorbar": {
              "outlinewidth": 0,
              "ticks": ""
             }
            },
            "type": "scattercarpet"
           }
          ],
          "scattergeo": [
           {
            "marker": {
             "colorbar": {
              "outlinewidth": 0,
              "ticks": ""
             }
            },
            "type": "scattergeo"
           }
          ],
          "scattergl": [
           {
            "marker": {
             "colorbar": {
              "outlinewidth": 0,
              "ticks": ""
             }
            },
            "type": "scattergl"
           }
          ],
          "scattermap": [
           {
            "marker": {
             "colorbar": {
              "outlinewidth": 0,
              "ticks": ""
             }
            },
            "type": "scattermap"
           }
          ],
          "scattermapbox": [
           {
            "marker": {
             "colorbar": {
              "outlinewidth": 0,
              "ticks": ""
             }
            },
            "type": "scattermapbox"
           }
          ],
          "scatterpolar": [
           {
            "marker": {
             "colorbar": {
              "outlinewidth": 0,
              "ticks": ""
             }
            },
            "type": "scatterpolar"
           }
          ],
          "scatterpolargl": [
           {
            "marker": {
             "colorbar": {
              "outlinewidth": 0,
              "ticks": ""
             }
            },
            "type": "scatterpolargl"
           }
          ],
          "scatterternary": [
           {
            "marker": {
             "colorbar": {
              "outlinewidth": 0,
              "ticks": ""
             }
            },
            "type": "scatterternary"
           }
          ],
          "surface": [
           {
            "colorbar": {
             "outlinewidth": 0,
             "ticks": ""
            },
            "colorscale": [
             [
              0,
              "#0d0887"
             ],
             [
              0.1111111111111111,
              "#46039f"
             ],
             [
              0.2222222222222222,
              "#7201a8"
             ],
             [
              0.3333333333333333,
              "#9c179e"
             ],
             [
              0.4444444444444444,
              "#bd3786"
             ],
             [
              0.5555555555555556,
              "#d8576b"
             ],
             [
              0.6666666666666666,
              "#ed7953"
             ],
             [
              0.7777777777777778,
              "#fb9f3a"
             ],
             [
              0.8888888888888888,
              "#fdca26"
             ],
             [
              1,
              "#f0f921"
             ]
            ],
            "type": "surface"
           }
          ],
          "table": [
           {
            "cells": {
             "fill": {
              "color": "#EBF0F8"
             },
             "line": {
              "color": "white"
             }
            },
            "header": {
             "fill": {
              "color": "#C8D4E3"
             },
             "line": {
              "color": "white"
             }
            },
            "type": "table"
           }
          ]
         },
         "layout": {
          "annotationdefaults": {
           "arrowcolor": "#2a3f5f",
           "arrowhead": 0,
           "arrowwidth": 1
          },
          "autotypenumbers": "strict",
          "coloraxis": {
           "colorbar": {
            "outlinewidth": 0,
            "ticks": ""
           }
          },
          "colorscale": {
           "diverging": [
            [
             0,
             "#8e0152"
            ],
            [
             0.1,
             "#c51b7d"
            ],
            [
             0.2,
             "#de77ae"
            ],
            [
             0.3,
             "#f1b6da"
            ],
            [
             0.4,
             "#fde0ef"
            ],
            [
             0.5,
             "#f7f7f7"
            ],
            [
             0.6,
             "#e6f5d0"
            ],
            [
             0.7,
             "#b8e186"
            ],
            [
             0.8,
             "#7fbc41"
            ],
            [
             0.9,
             "#4d9221"
            ],
            [
             1,
             "#276419"
            ]
           ],
           "sequential": [
            [
             0,
             "#0d0887"
            ],
            [
             0.1111111111111111,
             "#46039f"
            ],
            [
             0.2222222222222222,
             "#7201a8"
            ],
            [
             0.3333333333333333,
             "#9c179e"
            ],
            [
             0.4444444444444444,
             "#bd3786"
            ],
            [
             0.5555555555555556,
             "#d8576b"
            ],
            [
             0.6666666666666666,
             "#ed7953"
            ],
            [
             0.7777777777777778,
             "#fb9f3a"
            ],
            [
             0.8888888888888888,
             "#fdca26"
            ],
            [
             1,
             "#f0f921"
            ]
           ],
           "sequentialminus": [
            [
             0,
             "#0d0887"
            ],
            [
             0.1111111111111111,
             "#46039f"
            ],
            [
             0.2222222222222222,
             "#7201a8"
            ],
            [
             0.3333333333333333,
             "#9c179e"
            ],
            [
             0.4444444444444444,
             "#bd3786"
            ],
            [
             0.5555555555555556,
             "#d8576b"
            ],
            [
             0.6666666666666666,
             "#ed7953"
            ],
            [
             0.7777777777777778,
             "#fb9f3a"
            ],
            [
             0.8888888888888888,
             "#fdca26"
            ],
            [
             1,
             "#f0f921"
            ]
           ]
          },
          "colorway": [
           "#636efa",
           "#EF553B",
           "#00cc96",
           "#ab63fa",
           "#FFA15A",
           "#19d3f3",
           "#FF6692",
           "#B6E880",
           "#FF97FF",
           "#FECB52"
          ],
          "font": {
           "color": "#2a3f5f"
          },
          "geo": {
           "bgcolor": "white",
           "lakecolor": "white",
           "landcolor": "#E5ECF6",
           "showlakes": true,
           "showland": true,
           "subunitcolor": "white"
          },
          "hoverlabel": {
           "align": "left"
          },
          "hovermode": "closest",
          "mapbox": {
           "style": "light"
          },
          "paper_bgcolor": "white",
          "plot_bgcolor": "#E5ECF6",
          "polar": {
           "angularaxis": {
            "gridcolor": "white",
            "linecolor": "white",
            "ticks": ""
           },
           "bgcolor": "#E5ECF6",
           "radialaxis": {
            "gridcolor": "white",
            "linecolor": "white",
            "ticks": ""
           }
          },
          "scene": {
           "xaxis": {
            "backgroundcolor": "#E5ECF6",
            "gridcolor": "white",
            "gridwidth": 2,
            "linecolor": "white",
            "showbackground": true,
            "ticks": "",
            "zerolinecolor": "white"
           },
           "yaxis": {
            "backgroundcolor": "#E5ECF6",
            "gridcolor": "white",
            "gridwidth": 2,
            "linecolor": "white",
            "showbackground": true,
            "ticks": "",
            "zerolinecolor": "white"
           },
           "zaxis": {
            "backgroundcolor": "#E5ECF6",
            "gridcolor": "white",
            "gridwidth": 2,
            "linecolor": "white",
            "showbackground": true,
            "ticks": "",
            "zerolinecolor": "white"
           }
          },
          "shapedefaults": {
           "line": {
            "color": "#2a3f5f"
           }
          },
          "ternary": {
           "aaxis": {
            "gridcolor": "white",
            "linecolor": "white",
            "ticks": ""
           },
           "baxis": {
            "gridcolor": "white",
            "linecolor": "white",
            "ticks": ""
           },
           "bgcolor": "#E5ECF6",
           "caxis": {
            "gridcolor": "white",
            "linecolor": "white",
            "ticks": ""
           }
          },
          "title": {
           "x": 0.05
          },
          "xaxis": {
           "automargin": true,
           "gridcolor": "white",
           "linecolor": "white",
           "ticks": "",
           "title": {
            "standoff": 15
           },
           "zerolinecolor": "white",
           "zerolinewidth": 2
          },
          "yaxis": {
           "automargin": true,
           "gridcolor": "white",
           "linecolor": "white",
           "ticks": "",
           "title": {
            "standoff": 15
           },
           "zerolinecolor": "white",
           "zerolinewidth": 2
          }
         }
        },
        "title": {
         "text": "Followers Distribution (Log Scale)"
        },
        "width": 800,
        "xaxis": {
         "title": {
          "text": "Followers"
         },
         "type": "log"
        },
        "yaxis": {
         "title": {
          "text": "Frequency"
         }
        }
       }
      }
     },
     "metadata": {},
     "output_type": "display_data"
    },
    {
     "name": "stdout",
     "output_type": "stream",
     "text": [
      "\n",
      "Followers Statistics:\n",
      "Count: 133\n",
      "Mean:  1,935.31\n",
      "Std:   2,627.32\n",
      "Min:   6.00\n",
      "25%:   143.00\n",
      "50%:   527.00\n",
      "75%:   3,188.00\n",
      "Max:   14,186.00\n",
      "Note: followers shows significant right skew - median (527.00) is much closer to min than max\n",
      "90th percentile: 5,398.20\n",
      "95th percentile: 6,500.60\n",
      "99th percentile: 10,481.24\n",
      "Percent of data between median and 90th percentile: 39.1%\n",
      "Percent of data between 90th and max: 10.5%\n",
      "Skewness for favorites: 2.95\n",
      "Applied log scaling to favorites due to right-skewed distribution (skewness: 2.95)\n"
     ]
    },
    {
     "data": {
      "application/vnd.plotly.v1+json": {
       "config": {
        "plotlyServerURL": "https://plot.ly"
       },
       "data": [
        {
         "name": "Distribution",
         "opacity": 0.75,
         "type": "bar",
         "x": [
          1.0921507264670536,
          1.293435692177972,
          1.5318177695232047,
          1.8141340100766146,
          2.1484815439509126,
          2.5444498141031797,
          3.013395611760314,
          3.568768801273002,
          4.226498076533528,
          5.005447812861867,
          5.9279591173581565,
          7.0204905956212516,
          8.314377212704482,
          9.84672901324815,
          11.66149547703821,
          13.810726036840872,
          16.356062911505546,
          19.37050907037768,
          22.940522036121585,
          27.1684935784457,
          32.1756864189842,
          38.105712175155205,
          45.12865029412521,
          53.44592611228768,
          63.29608794819122,
          74.96164892208789,
          88.77718973276512,
          105.13895478792064,
          124.51621691530781,
          147.46473660665748,
          174.64270181980987,
          206.82960550953885,
          244.94860231473507,
          290.0929856155195,
          343.5575443504528,
          406.8756989407152,
          481.86348141906933,
          570.671621160491,
          675.8472300886318,
          800.4068565554585,
          947.9230031570509,
          1122.6265899085574,
          1329.5283015311668,
          1574.5622992203764,
          1864.75641870196,
          2208.4337360369336,
          2615.451282297239,
          3097.4827537029914,
          3668.3533256487904,
          4344.436173441526
         ],
         "y": {
          "bdata": "cVMa9zzjtD8AAAAAAAAAAAAAAAAAAAAAAAAAAAAAAAB4Q1prYzyVPwAAAAAAAAAAlpOZeQe2pj8AAAAAAAAAAJi9uF8Gl4U/dxvbOeg6gj/ANFw79haXPz32qlHL/ok/EKg3LCzzdT8AAAAAAAAAAPTwEUauTG8/AAAAAAAAAAD0TuxD21B2P3PHN87R14I/EBH0yrPddz/m1ilJi956P+bzcjUasHY/XcMORD4ogz9ugS8BCy1gPwbkjEsS53c/cjiLwLNMcT84V7j4AjddP4jrclEVcmA/wUzdI9HFWz/JspnRiZZRPw51hqwizUM/AAAAAAAAAACNvtHRQy1FPwTMpl1510c/DqeoKaYhJD8a4GyViz9FP+mA4TmmhzU/dsYpX4pMPj/swkSLW7M+P6ZhWQRUPj4/m5eSZorjJT8Vltf0g3syPwRNcu5jNh8/CnvK6Wi/Lj9I9C2z86sNP8xCtvDdDQk/2yU6Db0n9T7Ax1Rs8NwBPzI/rdmXKu4+AAAAAAAAAAAFOfHeB4LlPg==",
          "dtype": "f8"
         }
        }
       ],
       "layout": {
        "height": 500,
        "showlegend": false,
        "template": {
         "data": {
          "bar": [
           {
            "error_x": {
             "color": "#2a3f5f"
            },
            "error_y": {
             "color": "#2a3f5f"
            },
            "marker": {
             "line": {
              "color": "#E5ECF6",
              "width": 0.5
             },
             "pattern": {
              "fillmode": "overlay",
              "size": 10,
              "solidity": 0.2
             }
            },
            "type": "bar"
           }
          ],
          "barpolar": [
           {
            "marker": {
             "line": {
              "color": "#E5ECF6",
              "width": 0.5
             },
             "pattern": {
              "fillmode": "overlay",
              "size": 10,
              "solidity": 0.2
             }
            },
            "type": "barpolar"
           }
          ],
          "carpet": [
           {
            "aaxis": {
             "endlinecolor": "#2a3f5f",
             "gridcolor": "white",
             "linecolor": "white",
             "minorgridcolor": "white",
             "startlinecolor": "#2a3f5f"
            },
            "baxis": {
             "endlinecolor": "#2a3f5f",
             "gridcolor": "white",
             "linecolor": "white",
             "minorgridcolor": "white",
             "startlinecolor": "#2a3f5f"
            },
            "type": "carpet"
           }
          ],
          "choropleth": [
           {
            "colorbar": {
             "outlinewidth": 0,
             "ticks": ""
            },
            "type": "choropleth"
           }
          ],
          "contour": [
           {
            "colorbar": {
             "outlinewidth": 0,
             "ticks": ""
            },
            "colorscale": [
             [
              0,
              "#0d0887"
             ],
             [
              0.1111111111111111,
              "#46039f"
             ],
             [
              0.2222222222222222,
              "#7201a8"
             ],
             [
              0.3333333333333333,
              "#9c179e"
             ],
             [
              0.4444444444444444,
              "#bd3786"
             ],
             [
              0.5555555555555556,
              "#d8576b"
             ],
             [
              0.6666666666666666,
              "#ed7953"
             ],
             [
              0.7777777777777778,
              "#fb9f3a"
             ],
             [
              0.8888888888888888,
              "#fdca26"
             ],
             [
              1,
              "#f0f921"
             ]
            ],
            "type": "contour"
           }
          ],
          "contourcarpet": [
           {
            "colorbar": {
             "outlinewidth": 0,
             "ticks": ""
            },
            "type": "contourcarpet"
           }
          ],
          "heatmap": [
           {
            "colorbar": {
             "outlinewidth": 0,
             "ticks": ""
            },
            "colorscale": [
             [
              0,
              "#0d0887"
             ],
             [
              0.1111111111111111,
              "#46039f"
             ],
             [
              0.2222222222222222,
              "#7201a8"
             ],
             [
              0.3333333333333333,
              "#9c179e"
             ],
             [
              0.4444444444444444,
              "#bd3786"
             ],
             [
              0.5555555555555556,
              "#d8576b"
             ],
             [
              0.6666666666666666,
              "#ed7953"
             ],
             [
              0.7777777777777778,
              "#fb9f3a"
             ],
             [
              0.8888888888888888,
              "#fdca26"
             ],
             [
              1,
              "#f0f921"
             ]
            ],
            "type": "heatmap"
           }
          ],
          "histogram": [
           {
            "marker": {
             "pattern": {
              "fillmode": "overlay",
              "size": 10,
              "solidity": 0.2
             }
            },
            "type": "histogram"
           }
          ],
          "histogram2d": [
           {
            "colorbar": {
             "outlinewidth": 0,
             "ticks": ""
            },
            "colorscale": [
             [
              0,
              "#0d0887"
             ],
             [
              0.1111111111111111,
              "#46039f"
             ],
             [
              0.2222222222222222,
              "#7201a8"
             ],
             [
              0.3333333333333333,
              "#9c179e"
             ],
             [
              0.4444444444444444,
              "#bd3786"
             ],
             [
              0.5555555555555556,
              "#d8576b"
             ],
             [
              0.6666666666666666,
              "#ed7953"
             ],
             [
              0.7777777777777778,
              "#fb9f3a"
             ],
             [
              0.8888888888888888,
              "#fdca26"
             ],
             [
              1,
              "#f0f921"
             ]
            ],
            "type": "histogram2d"
           }
          ],
          "histogram2dcontour": [
           {
            "colorbar": {
             "outlinewidth": 0,
             "ticks": ""
            },
            "colorscale": [
             [
              0,
              "#0d0887"
             ],
             [
              0.1111111111111111,
              "#46039f"
             ],
             [
              0.2222222222222222,
              "#7201a8"
             ],
             [
              0.3333333333333333,
              "#9c179e"
             ],
             [
              0.4444444444444444,
              "#bd3786"
             ],
             [
              0.5555555555555556,
              "#d8576b"
             ],
             [
              0.6666666666666666,
              "#ed7953"
             ],
             [
              0.7777777777777778,
              "#fb9f3a"
             ],
             [
              0.8888888888888888,
              "#fdca26"
             ],
             [
              1,
              "#f0f921"
             ]
            ],
            "type": "histogram2dcontour"
           }
          ],
          "mesh3d": [
           {
            "colorbar": {
             "outlinewidth": 0,
             "ticks": ""
            },
            "type": "mesh3d"
           }
          ],
          "parcoords": [
           {
            "line": {
             "colorbar": {
              "outlinewidth": 0,
              "ticks": ""
             }
            },
            "type": "parcoords"
           }
          ],
          "pie": [
           {
            "automargin": true,
            "type": "pie"
           }
          ],
          "scatter": [
           {
            "fillpattern": {
             "fillmode": "overlay",
             "size": 10,
             "solidity": 0.2
            },
            "type": "scatter"
           }
          ],
          "scatter3d": [
           {
            "line": {
             "colorbar": {
              "outlinewidth": 0,
              "ticks": ""
             }
            },
            "marker": {
             "colorbar": {
              "outlinewidth": 0,
              "ticks": ""
             }
            },
            "type": "scatter3d"
           }
          ],
          "scattercarpet": [
           {
            "marker": {
             "colorbar": {
              "outlinewidth": 0,
              "ticks": ""
             }
            },
            "type": "scattercarpet"
           }
          ],
          "scattergeo": [
           {
            "marker": {
             "colorbar": {
              "outlinewidth": 0,
              "ticks": ""
             }
            },
            "type": "scattergeo"
           }
          ],
          "scattergl": [
           {
            "marker": {
             "colorbar": {
              "outlinewidth": 0,
              "ticks": ""
             }
            },
            "type": "scattergl"
           }
          ],
          "scattermap": [
           {
            "marker": {
             "colorbar": {
              "outlinewidth": 0,
              "ticks": ""
             }
            },
            "type": "scattermap"
           }
          ],
          "scattermapbox": [
           {
            "marker": {
             "colorbar": {
              "outlinewidth": 0,
              "ticks": ""
             }
            },
            "type": "scattermapbox"
           }
          ],
          "scatterpolar": [
           {
            "marker": {
             "colorbar": {
              "outlinewidth": 0,
              "ticks": ""
             }
            },
            "type": "scatterpolar"
           }
          ],
          "scatterpolargl": [
           {
            "marker": {
             "colorbar": {
              "outlinewidth": 0,
              "ticks": ""
             }
            },
            "type": "scatterpolargl"
           }
          ],
          "scatterternary": [
           {
            "marker": {
             "colorbar": {
              "outlinewidth": 0,
              "ticks": ""
             }
            },
            "type": "scatterternary"
           }
          ],
          "surface": [
           {
            "colorbar": {
             "outlinewidth": 0,
             "ticks": ""
            },
            "colorscale": [
             [
              0,
              "#0d0887"
             ],
             [
              0.1111111111111111,
              "#46039f"
             ],
             [
              0.2222222222222222,
              "#7201a8"
             ],
             [
              0.3333333333333333,
              "#9c179e"
             ],
             [
              0.4444444444444444,
              "#bd3786"
             ],
             [
              0.5555555555555556,
              "#d8576b"
             ],
             [
              0.6666666666666666,
              "#ed7953"
             ],
             [
              0.7777777777777778,
              "#fb9f3a"
             ],
             [
              0.8888888888888888,
              "#fdca26"
             ],
             [
              1,
              "#f0f921"
             ]
            ],
            "type": "surface"
           }
          ],
          "table": [
           {
            "cells": {
             "fill": {
              "color": "#EBF0F8"
             },
             "line": {
              "color": "white"
             }
            },
            "header": {
             "fill": {
              "color": "#C8D4E3"
             },
             "line": {
              "color": "white"
             }
            },
            "type": "table"
           }
          ]
         },
         "layout": {
          "annotationdefaults": {
           "arrowcolor": "#2a3f5f",
           "arrowhead": 0,
           "arrowwidth": 1
          },
          "autotypenumbers": "strict",
          "coloraxis": {
           "colorbar": {
            "outlinewidth": 0,
            "ticks": ""
           }
          },
          "colorscale": {
           "diverging": [
            [
             0,
             "#8e0152"
            ],
            [
             0.1,
             "#c51b7d"
            ],
            [
             0.2,
             "#de77ae"
            ],
            [
             0.3,
             "#f1b6da"
            ],
            [
             0.4,
             "#fde0ef"
            ],
            [
             0.5,
             "#f7f7f7"
            ],
            [
             0.6,
             "#e6f5d0"
            ],
            [
             0.7,
             "#b8e186"
            ],
            [
             0.8,
             "#7fbc41"
            ],
            [
             0.9,
             "#4d9221"
            ],
            [
             1,
             "#276419"
            ]
           ],
           "sequential": [
            [
             0,
             "#0d0887"
            ],
            [
             0.1111111111111111,
             "#46039f"
            ],
            [
             0.2222222222222222,
             "#7201a8"
            ],
            [
             0.3333333333333333,
             "#9c179e"
            ],
            [
             0.4444444444444444,
             "#bd3786"
            ],
            [
             0.5555555555555556,
             "#d8576b"
            ],
            [
             0.6666666666666666,
             "#ed7953"
            ],
            [
             0.7777777777777778,
             "#fb9f3a"
            ],
            [
             0.8888888888888888,
             "#fdca26"
            ],
            [
             1,
             "#f0f921"
            ]
           ],
           "sequentialminus": [
            [
             0,
             "#0d0887"
            ],
            [
             0.1111111111111111,
             "#46039f"
            ],
            [
             0.2222222222222222,
             "#7201a8"
            ],
            [
             0.3333333333333333,
             "#9c179e"
            ],
            [
             0.4444444444444444,
             "#bd3786"
            ],
            [
             0.5555555555555556,
             "#d8576b"
            ],
            [
             0.6666666666666666,
             "#ed7953"
            ],
            [
             0.7777777777777778,
             "#fb9f3a"
            ],
            [
             0.8888888888888888,
             "#fdca26"
            ],
            [
             1,
             "#f0f921"
            ]
           ]
          },
          "colorway": [
           "#636efa",
           "#EF553B",
           "#00cc96",
           "#ab63fa",
           "#FFA15A",
           "#19d3f3",
           "#FF6692",
           "#B6E880",
           "#FF97FF",
           "#FECB52"
          ],
          "font": {
           "color": "#2a3f5f"
          },
          "geo": {
           "bgcolor": "white",
           "lakecolor": "white",
           "landcolor": "#E5ECF6",
           "showlakes": true,
           "showland": true,
           "subunitcolor": "white"
          },
          "hoverlabel": {
           "align": "left"
          },
          "hovermode": "closest",
          "mapbox": {
           "style": "light"
          },
          "paper_bgcolor": "white",
          "plot_bgcolor": "#E5ECF6",
          "polar": {
           "angularaxis": {
            "gridcolor": "white",
            "linecolor": "white",
            "ticks": ""
           },
           "bgcolor": "#E5ECF6",
           "radialaxis": {
            "gridcolor": "white",
            "linecolor": "white",
            "ticks": ""
           }
          },
          "scene": {
           "xaxis": {
            "backgroundcolor": "#E5ECF6",
            "gridcolor": "white",
            "gridwidth": 2,
            "linecolor": "white",
            "showbackground": true,
            "ticks": "",
            "zerolinecolor": "white"
           },
           "yaxis": {
            "backgroundcolor": "#E5ECF6",
            "gridcolor": "white",
            "gridwidth": 2,
            "linecolor": "white",
            "showbackground": true,
            "ticks": "",
            "zerolinecolor": "white"
           },
           "zaxis": {
            "backgroundcolor": "#E5ECF6",
            "gridcolor": "white",
            "gridwidth": 2,
            "linecolor": "white",
            "showbackground": true,
            "ticks": "",
            "zerolinecolor": "white"
           }
          },
          "shapedefaults": {
           "line": {
            "color": "#2a3f5f"
           }
          },
          "ternary": {
           "aaxis": {
            "gridcolor": "white",
            "linecolor": "white",
            "ticks": ""
           },
           "baxis": {
            "gridcolor": "white",
            "linecolor": "white",
            "ticks": ""
           },
           "bgcolor": "#E5ECF6",
           "caxis": {
            "gridcolor": "white",
            "linecolor": "white",
            "ticks": ""
           }
          },
          "title": {
           "x": 0.05
          },
          "xaxis": {
           "automargin": true,
           "gridcolor": "white",
           "linecolor": "white",
           "ticks": "",
           "title": {
            "standoff": 15
           },
           "zerolinecolor": "white",
           "zerolinewidth": 2
          },
          "yaxis": {
           "automargin": true,
           "gridcolor": "white",
           "linecolor": "white",
           "ticks": "",
           "title": {
            "standoff": 15
           },
           "zerolinecolor": "white",
           "zerolinewidth": 2
          }
         }
        },
        "title": {
         "text": "Favorites Distribution (Log Scale)"
        },
        "width": 800,
        "xaxis": {
         "title": {
          "text": "Favorites"
         },
         "type": "log"
        },
        "yaxis": {
         "title": {
          "text": "Frequency"
         }
        }
       }
      }
     },
     "metadata": {},
     "output_type": "display_data"
    },
    {
     "name": "stdout",
     "output_type": "stream",
     "text": [
      "\n",
      "Favorites Statistics:\n",
      "Count: 133\n",
      "Mean:  456.88\n",
      "Std:   694.92\n",
      "Min:   1.00\n",
      "25%:   36.00\n",
      "50%:   125.00\n",
      "75%:   623.00\n",
      "Max:   4,711.00\n",
      "Note: favorites shows significant right skew - median (125.00) is much closer to min than max\n",
      "90th percentile: 1,254.40\n",
      "95th percentile: 1,632.00\n",
      "99th percentile: 3,022.48\n",
      "Percent of data between median and 90th percentile: 39.1%\n",
      "Percent of data between 90th and max: 10.5%\n",
      "Skewness for chapters: 8.43\n",
      "Applied log scaling to chapters due to right-skewed distribution (skewness: 8.43)\n"
     ]
    },
    {
     "data": {
      "application/vnd.plotly.v1+json": {
       "config": {
        "plotlyServerURL": "https://plot.ly"
       },
       "data": [
        {
         "name": "Distribution",
         "opacity": 0.75,
         "type": "bar",
         "x": [
          7.4738116932394245,
          8.485577228475535,
          9.63431028982922,
          10.938552824577219,
          12.419356891834886,
          14.100624468367743,
          16.009493255536476,
          18.176774714768165,
          20.637451401978414,
          23.43124162852634,
          26.603240563016097,
          30.204648122107074,
          34.29359539937467,
          38.93608297178765,
          44.20704622920864,
          50.19156492263002,
          56.9862364547237,
          64.70073507928225,
          73.45958217692512,
          83.40415618147073,
          94.69497459962733,
          107.51428495857414,
          122.06900650247357,
          138.59407012047114,
          157.35621041667798,
          178.65827113075375,
          202.84409340380827,
          230.30406579217242,
          261.4814256130048,
          296.87941333310664,
          337.06939548147403,
          382.70008719926454,
          434.50802329033854,
          493.329446787856,
          560.113806932834,
          635.9390844384412,
          722.0291914084148,
          819.7737267654188,
          930.7504060659667,
          1056.750527746366,
          1199.807886855841,
          1362.2316029796075,
          1546.6433922344709,
          1756.0198849522376,
          1993.7406721097575,
          2263.642856033367,
          2570.0829858923667,
          2918.0073776956524,
          3313.0319538416843,
          3761.5328909291256
         ],
         "y": {
          "bdata": "j5Ri2OSfgD8AAAAAAAAAAAAAAAAAAAAAAAAAAAAAAACGYwZASQJ0PwAAAAAAAAAAoETh3TgLfz8AAAAAAAAAABr3/MgNFWg/CTny+fg1dT98rGKiia5iP5M1rbByrog/AAAAAAAAAACVshWgYIdZP3SNSxob3XA/Rcio5NDNcz+eMhLlUnGBP1hyp2W/H4U/O68DUPfpgD+cvOLOo9B6P6IjuYqOXnI/KY+AUVK8az+ESzOYuW1YP/JvxD0VGmk/Ak2xVYqVbz+kq67/eNFbP9BocyHimVM/19hmUJVDYT+l3hBT7s5GP6jLULL6yEo/AAAAAAAAAAAwYEloTMc0P19OHEIPTTI/frake3EeID+npyIxpks1PwAAAAAAAAAAIB6WrtEGJj+7r5SNe2YTPwAAAAAAAAAAyZDAPn4ZDj8AAAAAAAAAAAAAAAAAAAAAAAAAAAAAAAAAAAAAAAAAAAAAAAAAAAAAAAAAAAAAAAAAAAAAAAAAAAAAAAAAAAAAAAAAAAAAAAApxOXDgOnwPg==",
          "dtype": "f8"
         }
        }
       ],
       "layout": {
        "height": 500,
        "showlegend": false,
        "template": {
         "data": {
          "bar": [
           {
            "error_x": {
             "color": "#2a3f5f"
            },
            "error_y": {
             "color": "#2a3f5f"
            },
            "marker": {
             "line": {
              "color": "#E5ECF6",
              "width": 0.5
             },
             "pattern": {
              "fillmode": "overlay",
              "size": 10,
              "solidity": 0.2
             }
            },
            "type": "bar"
           }
          ],
          "barpolar": [
           {
            "marker": {
             "line": {
              "color": "#E5ECF6",
              "width": 0.5
             },
             "pattern": {
              "fillmode": "overlay",
              "size": 10,
              "solidity": 0.2
             }
            },
            "type": "barpolar"
           }
          ],
          "carpet": [
           {
            "aaxis": {
             "endlinecolor": "#2a3f5f",
             "gridcolor": "white",
             "linecolor": "white",
             "minorgridcolor": "white",
             "startlinecolor": "#2a3f5f"
            },
            "baxis": {
             "endlinecolor": "#2a3f5f",
             "gridcolor": "white",
             "linecolor": "white",
             "minorgridcolor": "white",
             "startlinecolor": "#2a3f5f"
            },
            "type": "carpet"
           }
          ],
          "choropleth": [
           {
            "colorbar": {
             "outlinewidth": 0,
             "ticks": ""
            },
            "type": "choropleth"
           }
          ],
          "contour": [
           {
            "colorbar": {
             "outlinewidth": 0,
             "ticks": ""
            },
            "colorscale": [
             [
              0,
              "#0d0887"
             ],
             [
              0.1111111111111111,
              "#46039f"
             ],
             [
              0.2222222222222222,
              "#7201a8"
             ],
             [
              0.3333333333333333,
              "#9c179e"
             ],
             [
              0.4444444444444444,
              "#bd3786"
             ],
             [
              0.5555555555555556,
              "#d8576b"
             ],
             [
              0.6666666666666666,
              "#ed7953"
             ],
             [
              0.7777777777777778,
              "#fb9f3a"
             ],
             [
              0.8888888888888888,
              "#fdca26"
             ],
             [
              1,
              "#f0f921"
             ]
            ],
            "type": "contour"
           }
          ],
          "contourcarpet": [
           {
            "colorbar": {
             "outlinewidth": 0,
             "ticks": ""
            },
            "type": "contourcarpet"
           }
          ],
          "heatmap": [
           {
            "colorbar": {
             "outlinewidth": 0,
             "ticks": ""
            },
            "colorscale": [
             [
              0,
              "#0d0887"
             ],
             [
              0.1111111111111111,
              "#46039f"
             ],
             [
              0.2222222222222222,
              "#7201a8"
             ],
             [
              0.3333333333333333,
              "#9c179e"
             ],
             [
              0.4444444444444444,
              "#bd3786"
             ],
             [
              0.5555555555555556,
              "#d8576b"
             ],
             [
              0.6666666666666666,
              "#ed7953"
             ],
             [
              0.7777777777777778,
              "#fb9f3a"
             ],
             [
              0.8888888888888888,
              "#fdca26"
             ],
             [
              1,
              "#f0f921"
             ]
            ],
            "type": "heatmap"
           }
          ],
          "histogram": [
           {
            "marker": {
             "pattern": {
              "fillmode": "overlay",
              "size": 10,
              "solidity": 0.2
             }
            },
            "type": "histogram"
           }
          ],
          "histogram2d": [
           {
            "colorbar": {
             "outlinewidth": 0,
             "ticks": ""
            },
            "colorscale": [
             [
              0,
              "#0d0887"
             ],
             [
              0.1111111111111111,
              "#46039f"
             ],
             [
              0.2222222222222222,
              "#7201a8"
             ],
             [
              0.3333333333333333,
              "#9c179e"
             ],
             [
              0.4444444444444444,
              "#bd3786"
             ],
             [
              0.5555555555555556,
              "#d8576b"
             ],
             [
              0.6666666666666666,
              "#ed7953"
             ],
             [
              0.7777777777777778,
              "#fb9f3a"
             ],
             [
              0.8888888888888888,
              "#fdca26"
             ],
             [
              1,
              "#f0f921"
             ]
            ],
            "type": "histogram2d"
           }
          ],
          "histogram2dcontour": [
           {
            "colorbar": {
             "outlinewidth": 0,
             "ticks": ""
            },
            "colorscale": [
             [
              0,
              "#0d0887"
             ],
             [
              0.1111111111111111,
              "#46039f"
             ],
             [
              0.2222222222222222,
              "#7201a8"
             ],
             [
              0.3333333333333333,
              "#9c179e"
             ],
             [
              0.4444444444444444,
              "#bd3786"
             ],
             [
              0.5555555555555556,
              "#d8576b"
             ],
             [
              0.6666666666666666,
              "#ed7953"
             ],
             [
              0.7777777777777778,
              "#fb9f3a"
             ],
             [
              0.8888888888888888,
              "#fdca26"
             ],
             [
              1,
              "#f0f921"
             ]
            ],
            "type": "histogram2dcontour"
           }
          ],
          "mesh3d": [
           {
            "colorbar": {
             "outlinewidth": 0,
             "ticks": ""
            },
            "type": "mesh3d"
           }
          ],
          "parcoords": [
           {
            "line": {
             "colorbar": {
              "outlinewidth": 0,
              "ticks": ""
             }
            },
            "type": "parcoords"
           }
          ],
          "pie": [
           {
            "automargin": true,
            "type": "pie"
           }
          ],
          "scatter": [
           {
            "fillpattern": {
             "fillmode": "overlay",
             "size": 10,
             "solidity": 0.2
            },
            "type": "scatter"
           }
          ],
          "scatter3d": [
           {
            "line": {
             "colorbar": {
              "outlinewidth": 0,
              "ticks": ""
             }
            },
            "marker": {
             "colorbar": {
              "outlinewidth": 0,
              "ticks": ""
             }
            },
            "type": "scatter3d"
           }
          ],
          "scattercarpet": [
           {
            "marker": {
             "colorbar": {
              "outlinewidth": 0,
              "ticks": ""
             }
            },
            "type": "scattercarpet"
           }
          ],
          "scattergeo": [
           {
            "marker": {
             "colorbar": {
              "outlinewidth": 0,
              "ticks": ""
             }
            },
            "type": "scattergeo"
           }
          ],
          "scattergl": [
           {
            "marker": {
             "colorbar": {
              "outlinewidth": 0,
              "ticks": ""
             }
            },
            "type": "scattergl"
           }
          ],
          "scattermap": [
           {
            "marker": {
             "colorbar": {
              "outlinewidth": 0,
              "ticks": ""
             }
            },
            "type": "scattermap"
           }
          ],
          "scattermapbox": [
           {
            "marker": {
             "colorbar": {
              "outlinewidth": 0,
              "ticks": ""
             }
            },
            "type": "scattermapbox"
           }
          ],
          "scatterpolar": [
           {
            "marker": {
             "colorbar": {
              "outlinewidth": 0,
              "ticks": ""
             }
            },
            "type": "scatterpolar"
           }
          ],
          "scatterpolargl": [
           {
            "marker": {
             "colorbar": {
              "outlinewidth": 0,
              "ticks": ""
             }
            },
            "type": "scatterpolargl"
           }
          ],
          "scatterternary": [
           {
            "marker": {
             "colorbar": {
              "outlinewidth": 0,
              "ticks": ""
             }
            },
            "type": "scatterternary"
           }
          ],
          "surface": [
           {
            "colorbar": {
             "outlinewidth": 0,
             "ticks": ""
            },
            "colorscale": [
             [
              0,
              "#0d0887"
             ],
             [
              0.1111111111111111,
              "#46039f"
             ],
             [
              0.2222222222222222,
              "#7201a8"
             ],
             [
              0.3333333333333333,
              "#9c179e"
             ],
             [
              0.4444444444444444,
              "#bd3786"
             ],
             [
              0.5555555555555556,
              "#d8576b"
             ],
             [
              0.6666666666666666,
              "#ed7953"
             ],
             [
              0.7777777777777778,
              "#fb9f3a"
             ],
             [
              0.8888888888888888,
              "#fdca26"
             ],
             [
              1,
              "#f0f921"
             ]
            ],
            "type": "surface"
           }
          ],
          "table": [
           {
            "cells": {
             "fill": {
              "color": "#EBF0F8"
             },
             "line": {
              "color": "white"
             }
            },
            "header": {
             "fill": {
              "color": "#C8D4E3"
             },
             "line": {
              "color": "white"
             }
            },
            "type": "table"
           }
          ]
         },
         "layout": {
          "annotationdefaults": {
           "arrowcolor": "#2a3f5f",
           "arrowhead": 0,
           "arrowwidth": 1
          },
          "autotypenumbers": "strict",
          "coloraxis": {
           "colorbar": {
            "outlinewidth": 0,
            "ticks": ""
           }
          },
          "colorscale": {
           "diverging": [
            [
             0,
             "#8e0152"
            ],
            [
             0.1,
             "#c51b7d"
            ],
            [
             0.2,
             "#de77ae"
            ],
            [
             0.3,
             "#f1b6da"
            ],
            [
             0.4,
             "#fde0ef"
            ],
            [
             0.5,
             "#f7f7f7"
            ],
            [
             0.6,
             "#e6f5d0"
            ],
            [
             0.7,
             "#b8e186"
            ],
            [
             0.8,
             "#7fbc41"
            ],
            [
             0.9,
             "#4d9221"
            ],
            [
             1,
             "#276419"
            ]
           ],
           "sequential": [
            [
             0,
             "#0d0887"
            ],
            [
             0.1111111111111111,
             "#46039f"
            ],
            [
             0.2222222222222222,
             "#7201a8"
            ],
            [
             0.3333333333333333,
             "#9c179e"
            ],
            [
             0.4444444444444444,
             "#bd3786"
            ],
            [
             0.5555555555555556,
             "#d8576b"
            ],
            [
             0.6666666666666666,
             "#ed7953"
            ],
            [
             0.7777777777777778,
             "#fb9f3a"
            ],
            [
             0.8888888888888888,
             "#fdca26"
            ],
            [
             1,
             "#f0f921"
            ]
           ],
           "sequentialminus": [
            [
             0,
             "#0d0887"
            ],
            [
             0.1111111111111111,
             "#46039f"
            ],
            [
             0.2222222222222222,
             "#7201a8"
            ],
            [
             0.3333333333333333,
             "#9c179e"
            ],
            [
             0.4444444444444444,
             "#bd3786"
            ],
            [
             0.5555555555555556,
             "#d8576b"
            ],
            [
             0.6666666666666666,
             "#ed7953"
            ],
            [
             0.7777777777777778,
             "#fb9f3a"
            ],
            [
             0.8888888888888888,
             "#fdca26"
            ],
            [
             1,
             "#f0f921"
            ]
           ]
          },
          "colorway": [
           "#636efa",
           "#EF553B",
           "#00cc96",
           "#ab63fa",
           "#FFA15A",
           "#19d3f3",
           "#FF6692",
           "#B6E880",
           "#FF97FF",
           "#FECB52"
          ],
          "font": {
           "color": "#2a3f5f"
          },
          "geo": {
           "bgcolor": "white",
           "lakecolor": "white",
           "landcolor": "#E5ECF6",
           "showlakes": true,
           "showland": true,
           "subunitcolor": "white"
          },
          "hoverlabel": {
           "align": "left"
          },
          "hovermode": "closest",
          "mapbox": {
           "style": "light"
          },
          "paper_bgcolor": "white",
          "plot_bgcolor": "#E5ECF6",
          "polar": {
           "angularaxis": {
            "gridcolor": "white",
            "linecolor": "white",
            "ticks": ""
           },
           "bgcolor": "#E5ECF6",
           "radialaxis": {
            "gridcolor": "white",
            "linecolor": "white",
            "ticks": ""
           }
          },
          "scene": {
           "xaxis": {
            "backgroundcolor": "#E5ECF6",
            "gridcolor": "white",
            "gridwidth": 2,
            "linecolor": "white",
            "showbackground": true,
            "ticks": "",
            "zerolinecolor": "white"
           },
           "yaxis": {
            "backgroundcolor": "#E5ECF6",
            "gridcolor": "white",
            "gridwidth": 2,
            "linecolor": "white",
            "showbackground": true,
            "ticks": "",
            "zerolinecolor": "white"
           },
           "zaxis": {
            "backgroundcolor": "#E5ECF6",
            "gridcolor": "white",
            "gridwidth": 2,
            "linecolor": "white",
            "showbackground": true,
            "ticks": "",
            "zerolinecolor": "white"
           }
          },
          "shapedefaults": {
           "line": {
            "color": "#2a3f5f"
           }
          },
          "ternary": {
           "aaxis": {
            "gridcolor": "white",
            "linecolor": "white",
            "ticks": ""
           },
           "baxis": {
            "gridcolor": "white",
            "linecolor": "white",
            "ticks": ""
           },
           "bgcolor": "#E5ECF6",
           "caxis": {
            "gridcolor": "white",
            "linecolor": "white",
            "ticks": ""
           }
          },
          "title": {
           "x": 0.05
          },
          "xaxis": {
           "automargin": true,
           "gridcolor": "white",
           "linecolor": "white",
           "ticks": "",
           "title": {
            "standoff": 15
           },
           "zerolinecolor": "white",
           "zerolinewidth": 2
          },
          "yaxis": {
           "automargin": true,
           "gridcolor": "white",
           "linecolor": "white",
           "ticks": "",
           "title": {
            "standoff": 15
           },
           "zerolinecolor": "white",
           "zerolinewidth": 2
          }
         }
        },
        "title": {
         "text": "Chapters Distribution (Log Scale)"
        },
        "width": 800,
        "xaxis": {
         "title": {
          "text": "Chapters"
         },
         "type": "log"
        },
        "yaxis": {
         "title": {
          "text": "Frequency"
         }
        }
       }
      }
     },
     "metadata": {},
     "output_type": "display_data"
    },
    {
     "name": "stdout",
     "output_type": "stream",
     "text": [
      "\n",
      "Chapters Statistics:\n",
      "Count: 130\n",
      "Mean:  185.65\n",
      "Std:   375.49\n",
      "Min:   7.00\n",
      "25%:   62.00\n",
      "50%:   97.00\n",
      "75%:   175.00\n",
      "Max:   4,000.00\n",
      "Note: chapters shows significant right skew - median (97.00) is much closer to min than max\n",
      "90th percentile: 314.40\n",
      "95th percentile: 551.50\n",
      "99th percentile: 947.96\n",
      "Percent of data between median and 90th percentile: 39.2%\n",
      "Percent of data between 90th and max: 10.0%\n",
      "Skewness for pages: 2.63\n",
      "Applied log scaling to pages due to right-skewed distribution (skewness: 2.63)\n"
     ]
    },
    {
     "data": {
      "application/vnd.plotly.v1+json": {
       "config": {
        "plotlyServerURL": "https://plot.ly"
       },
       "data": [
        {
         "name": "Distribution",
         "opacity": 0.75,
         "type": "bar",
         "x": [
          43.291914873741796,
          48.13198236700485,
          53.51317291771787,
          59.49598447631468,
          66.14767870798184,
          73.54303718087537,
          81.76520209672876,
          90.906611015753,
          101.07003608445858,
          112.36973944990208,
          124.93275785008359,
          138.90033082248306,
          154.42948858734684,
          171.69481745747754,
          190.8904226221203,
          212.23211037151032,
          235.95981429570915,
          262.3402927342305,
          291.67012780249206,
          324.27905971159964,
          360.5336938675031,
          400.84162242652746,
          445.65600664380344,
          495.4806715315748,
          550.8757701040033,
          612.4640808886538,
          680.9380095043276,
          757.0673730203814,
          841.7080546130665,
          935.8116258187237,
          1040.4360445618663,
          1156.7575492305696,
          1286.083882518114,
          1429.868993699718,
          1589.729384634479,
          1767.4622832621942,
          1965.0658489103057,
          2184.761636568822,
          2429.019572687482,
          2700.58572328516,
          3002.5131665540403,
          3338.1963170433473,
          3711.4090873117248,
          4126.347316080028,
          4587.675939882388,
          5100.58143854209,
          5670.830144089698,
          6304.833068660553,
          7009.717980198226,
          7793.4095362739145
         ],
         "y": {
          "bdata": "lZos6NzfWj8AAAAAAAAAAAAAAAAAAAAAAAAAAAAAAAAAAAAAAAAAAAAAAAAAAAAAAAAAAAAAAAAAAAAAAAAAAAAAAAAAAAAAAAAAAAAAAAB4aPQ/C6BCPxG5w+yTwEA/2LfS56YiPj9OYOVQ4Ro7PxVvWMPWSFI/PpWJzIXtVT/jf1ZkCblDP+zaBH9QvVE/E1VlskvpPz815dLoYPBRPwAAAAAAAAAAz2s3TW0GTT8db24w4lNPP48DksfTb1A/WaPGH2SRTT/ga6mNtxhRP0WLtj40wU4/n5qCDNODRT+i0jv2QZYwP2RMq2bkYEY/wejUD2jWOj/dxrzOhyMoP0o3PUjW8iw/DYzoxZ0JKj8zzghqVWsXP0VqJx+umB8/FalP9UtrLD+ljzNveAoRP9S8s4CTp/4+hi6rDnCS+z6xmr1/fZkSPwAAAAAAAAAAFNaXNggQFD/28Uu0VxELPwAAAAAAAAAAAAAAAAAAAACKZH2wy0L6PlKCDl7Dnuc+AAAAAAAAAAApIN/VzRvjPg==",
          "dtype": "f8"
         }
        }
       ],
       "layout": {
        "height": 500,
        "showlegend": false,
        "template": {
         "data": {
          "bar": [
           {
            "error_x": {
             "color": "#2a3f5f"
            },
            "error_y": {
             "color": "#2a3f5f"
            },
            "marker": {
             "line": {
              "color": "#E5ECF6",
              "width": 0.5
             },
             "pattern": {
              "fillmode": "overlay",
              "size": 10,
              "solidity": 0.2
             }
            },
            "type": "bar"
           }
          ],
          "barpolar": [
           {
            "marker": {
             "line": {
              "color": "#E5ECF6",
              "width": 0.5
             },
             "pattern": {
              "fillmode": "overlay",
              "size": 10,
              "solidity": 0.2
             }
            },
            "type": "barpolar"
           }
          ],
          "carpet": [
           {
            "aaxis": {
             "endlinecolor": "#2a3f5f",
             "gridcolor": "white",
             "linecolor": "white",
             "minorgridcolor": "white",
             "startlinecolor": "#2a3f5f"
            },
            "baxis": {
             "endlinecolor": "#2a3f5f",
             "gridcolor": "white",
             "linecolor": "white",
             "minorgridcolor": "white",
             "startlinecolor": "#2a3f5f"
            },
            "type": "carpet"
           }
          ],
          "choropleth": [
           {
            "colorbar": {
             "outlinewidth": 0,
             "ticks": ""
            },
            "type": "choropleth"
           }
          ],
          "contour": [
           {
            "colorbar": {
             "outlinewidth": 0,
             "ticks": ""
            },
            "colorscale": [
             [
              0,
              "#0d0887"
             ],
             [
              0.1111111111111111,
              "#46039f"
             ],
             [
              0.2222222222222222,
              "#7201a8"
             ],
             [
              0.3333333333333333,
              "#9c179e"
             ],
             [
              0.4444444444444444,
              "#bd3786"
             ],
             [
              0.5555555555555556,
              "#d8576b"
             ],
             [
              0.6666666666666666,
              "#ed7953"
             ],
             [
              0.7777777777777778,
              "#fb9f3a"
             ],
             [
              0.8888888888888888,
              "#fdca26"
             ],
             [
              1,
              "#f0f921"
             ]
            ],
            "type": "contour"
           }
          ],
          "contourcarpet": [
           {
            "colorbar": {
             "outlinewidth": 0,
             "ticks": ""
            },
            "type": "contourcarpet"
           }
          ],
          "heatmap": [
           {
            "colorbar": {
             "outlinewidth": 0,
             "ticks": ""
            },
            "colorscale": [
             [
              0,
              "#0d0887"
             ],
             [
              0.1111111111111111,
              "#46039f"
             ],
             [
              0.2222222222222222,
              "#7201a8"
             ],
             [
              0.3333333333333333,
              "#9c179e"
             ],
             [
              0.4444444444444444,
              "#bd3786"
             ],
             [
              0.5555555555555556,
              "#d8576b"
             ],
             [
              0.6666666666666666,
              "#ed7953"
             ],
             [
              0.7777777777777778,
              "#fb9f3a"
             ],
             [
              0.8888888888888888,
              "#fdca26"
             ],
             [
              1,
              "#f0f921"
             ]
            ],
            "type": "heatmap"
           }
          ],
          "histogram": [
           {
            "marker": {
             "pattern": {
              "fillmode": "overlay",
              "size": 10,
              "solidity": 0.2
             }
            },
            "type": "histogram"
           }
          ],
          "histogram2d": [
           {
            "colorbar": {
             "outlinewidth": 0,
             "ticks": ""
            },
            "colorscale": [
             [
              0,
              "#0d0887"
             ],
             [
              0.1111111111111111,
              "#46039f"
             ],
             [
              0.2222222222222222,
              "#7201a8"
             ],
             [
              0.3333333333333333,
              "#9c179e"
             ],
             [
              0.4444444444444444,
              "#bd3786"
             ],
             [
              0.5555555555555556,
              "#d8576b"
             ],
             [
              0.6666666666666666,
              "#ed7953"
             ],
             [
              0.7777777777777778,
              "#fb9f3a"
             ],
             [
              0.8888888888888888,
              "#fdca26"
             ],
             [
              1,
              "#f0f921"
             ]
            ],
            "type": "histogram2d"
           }
          ],
          "histogram2dcontour": [
           {
            "colorbar": {
             "outlinewidth": 0,
             "ticks": ""
            },
            "colorscale": [
             [
              0,
              "#0d0887"
             ],
             [
              0.1111111111111111,
              "#46039f"
             ],
             [
              0.2222222222222222,
              "#7201a8"
             ],
             [
              0.3333333333333333,
              "#9c179e"
             ],
             [
              0.4444444444444444,
              "#bd3786"
             ],
             [
              0.5555555555555556,
              "#d8576b"
             ],
             [
              0.6666666666666666,
              "#ed7953"
             ],
             [
              0.7777777777777778,
              "#fb9f3a"
             ],
             [
              0.8888888888888888,
              "#fdca26"
             ],
             [
              1,
              "#f0f921"
             ]
            ],
            "type": "histogram2dcontour"
           }
          ],
          "mesh3d": [
           {
            "colorbar": {
             "outlinewidth": 0,
             "ticks": ""
            },
            "type": "mesh3d"
           }
          ],
          "parcoords": [
           {
            "line": {
             "colorbar": {
              "outlinewidth": 0,
              "ticks": ""
             }
            },
            "type": "parcoords"
           }
          ],
          "pie": [
           {
            "automargin": true,
            "type": "pie"
           }
          ],
          "scatter": [
           {
            "fillpattern": {
             "fillmode": "overlay",
             "size": 10,
             "solidity": 0.2
            },
            "type": "scatter"
           }
          ],
          "scatter3d": [
           {
            "line": {
             "colorbar": {
              "outlinewidth": 0,
              "ticks": ""
             }
            },
            "marker": {
             "colorbar": {
              "outlinewidth": 0,
              "ticks": ""
             }
            },
            "type": "scatter3d"
           }
          ],
          "scattercarpet": [
           {
            "marker": {
             "colorbar": {
              "outlinewidth": 0,
              "ticks": ""
             }
            },
            "type": "scattercarpet"
           }
          ],
          "scattergeo": [
           {
            "marker": {
             "colorbar": {
              "outlinewidth": 0,
              "ticks": ""
             }
            },
            "type": "scattergeo"
           }
          ],
          "scattergl": [
           {
            "marker": {
             "colorbar": {
              "outlinewidth": 0,
              "ticks": ""
             }
            },
            "type": "scattergl"
           }
          ],
          "scattermap": [
           {
            "marker": {
             "colorbar": {
              "outlinewidth": 0,
              "ticks": ""
             }
            },
            "type": "scattermap"
           }
          ],
          "scattermapbox": [
           {
            "marker": {
             "colorbar": {
              "outlinewidth": 0,
              "ticks": ""
             }
            },
            "type": "scattermapbox"
           }
          ],
          "scatterpolar": [
           {
            "marker": {
             "colorbar": {
              "outlinewidth": 0,
              "ticks": ""
             }
            },
            "type": "scatterpolar"
           }
          ],
          "scatterpolargl": [
           {
            "marker": {
             "colorbar": {
              "outlinewidth": 0,
              "ticks": ""
             }
            },
            "type": "scatterpolargl"
           }
          ],
          "scatterternary": [
           {
            "marker": {
             "colorbar": {
              "outlinewidth": 0,
              "ticks": ""
             }
            },
            "type": "scatterternary"
           }
          ],
          "surface": [
           {
            "colorbar": {
             "outlinewidth": 0,
             "ticks": ""
            },
            "colorscale": [
             [
              0,
              "#0d0887"
             ],
             [
              0.1111111111111111,
              "#46039f"
             ],
             [
              0.2222222222222222,
              "#7201a8"
             ],
             [
              0.3333333333333333,
              "#9c179e"
             ],
             [
              0.4444444444444444,
              "#bd3786"
             ],
             [
              0.5555555555555556,
              "#d8576b"
             ],
             [
              0.6666666666666666,
              "#ed7953"
             ],
             [
              0.7777777777777778,
              "#fb9f3a"
             ],
             [
              0.8888888888888888,
              "#fdca26"
             ],
             [
              1,
              "#f0f921"
             ]
            ],
            "type": "surface"
           }
          ],
          "table": [
           {
            "cells": {
             "fill": {
              "color": "#EBF0F8"
             },
             "line": {
              "color": "white"
             }
            },
            "header": {
             "fill": {
              "color": "#C8D4E3"
             },
             "line": {
              "color": "white"
             }
            },
            "type": "table"
           }
          ]
         },
         "layout": {
          "annotationdefaults": {
           "arrowcolor": "#2a3f5f",
           "arrowhead": 0,
           "arrowwidth": 1
          },
          "autotypenumbers": "strict",
          "coloraxis": {
           "colorbar": {
            "outlinewidth": 0,
            "ticks": ""
           }
          },
          "colorscale": {
           "diverging": [
            [
             0,
             "#8e0152"
            ],
            [
             0.1,
             "#c51b7d"
            ],
            [
             0.2,
             "#de77ae"
            ],
            [
             0.3,
             "#f1b6da"
            ],
            [
             0.4,
             "#fde0ef"
            ],
            [
             0.5,
             "#f7f7f7"
            ],
            [
             0.6,
             "#e6f5d0"
            ],
            [
             0.7,
             "#b8e186"
            ],
            [
             0.8,
             "#7fbc41"
            ],
            [
             0.9,
             "#4d9221"
            ],
            [
             1,
             "#276419"
            ]
           ],
           "sequential": [
            [
             0,
             "#0d0887"
            ],
            [
             0.1111111111111111,
             "#46039f"
            ],
            [
             0.2222222222222222,
             "#7201a8"
            ],
            [
             0.3333333333333333,
             "#9c179e"
            ],
            [
             0.4444444444444444,
             "#bd3786"
            ],
            [
             0.5555555555555556,
             "#d8576b"
            ],
            [
             0.6666666666666666,
             "#ed7953"
            ],
            [
             0.7777777777777778,
             "#fb9f3a"
            ],
            [
             0.8888888888888888,
             "#fdca26"
            ],
            [
             1,
             "#f0f921"
            ]
           ],
           "sequentialminus": [
            [
             0,
             "#0d0887"
            ],
            [
             0.1111111111111111,
             "#46039f"
            ],
            [
             0.2222222222222222,
             "#7201a8"
            ],
            [
             0.3333333333333333,
             "#9c179e"
            ],
            [
             0.4444444444444444,
             "#bd3786"
            ],
            [
             0.5555555555555556,
             "#d8576b"
            ],
            [
             0.6666666666666666,
             "#ed7953"
            ],
            [
             0.7777777777777778,
             "#fb9f3a"
            ],
            [
             0.8888888888888888,
             "#fdca26"
            ],
            [
             1,
             "#f0f921"
            ]
           ]
          },
          "colorway": [
           "#636efa",
           "#EF553B",
           "#00cc96",
           "#ab63fa",
           "#FFA15A",
           "#19d3f3",
           "#FF6692",
           "#B6E880",
           "#FF97FF",
           "#FECB52"
          ],
          "font": {
           "color": "#2a3f5f"
          },
          "geo": {
           "bgcolor": "white",
           "lakecolor": "white",
           "landcolor": "#E5ECF6",
           "showlakes": true,
           "showland": true,
           "subunitcolor": "white"
          },
          "hoverlabel": {
           "align": "left"
          },
          "hovermode": "closest",
          "mapbox": {
           "style": "light"
          },
          "paper_bgcolor": "white",
          "plot_bgcolor": "#E5ECF6",
          "polar": {
           "angularaxis": {
            "gridcolor": "white",
            "linecolor": "white",
            "ticks": ""
           },
           "bgcolor": "#E5ECF6",
           "radialaxis": {
            "gridcolor": "white",
            "linecolor": "white",
            "ticks": ""
           }
          },
          "scene": {
           "xaxis": {
            "backgroundcolor": "#E5ECF6",
            "gridcolor": "white",
            "gridwidth": 2,
            "linecolor": "white",
            "showbackground": true,
            "ticks": "",
            "zerolinecolor": "white"
           },
           "yaxis": {
            "backgroundcolor": "#E5ECF6",
            "gridcolor": "white",
            "gridwidth": 2,
            "linecolor": "white",
            "showbackground": true,
            "ticks": "",
            "zerolinecolor": "white"
           },
           "zaxis": {
            "backgroundcolor": "#E5ECF6",
            "gridcolor": "white",
            "gridwidth": 2,
            "linecolor": "white",
            "showbackground": true,
            "ticks": "",
            "zerolinecolor": "white"
           }
          },
          "shapedefaults": {
           "line": {
            "color": "#2a3f5f"
           }
          },
          "ternary": {
           "aaxis": {
            "gridcolor": "white",
            "linecolor": "white",
            "ticks": ""
           },
           "baxis": {
            "gridcolor": "white",
            "linecolor": "white",
            "ticks": ""
           },
           "bgcolor": "#E5ECF6",
           "caxis": {
            "gridcolor": "white",
            "linecolor": "white",
            "ticks": ""
           }
          },
          "title": {
           "x": 0.05
          },
          "xaxis": {
           "automargin": true,
           "gridcolor": "white",
           "linecolor": "white",
           "ticks": "",
           "title": {
            "standoff": 15
           },
           "zerolinecolor": "white",
           "zerolinewidth": 2
          },
          "yaxis": {
           "automargin": true,
           "gridcolor": "white",
           "linecolor": "white",
           "ticks": "",
           "title": {
            "standoff": 15
           },
           "zerolinecolor": "white",
           "zerolinewidth": 2
          }
         }
        },
        "title": {
         "text": "Pages Distribution (Log Scale)"
        },
        "width": 800,
        "xaxis": {
         "title": {
          "text": "Pages"
         },
         "type": "log"
        },
        "yaxis": {
         "title": {
          "text": "Frequency"
         }
        }
       }
      }
     },
     "metadata": {},
     "output_type": "display_data"
    },
    {
     "name": "stdout",
     "output_type": "stream",
     "text": [
      "\n",
      "Pages Statistics:\n",
      "Count: 133\n",
      "Mean:  1,182.81\n",
      "Std:   1,311.84\n",
      "Min:   41.00\n",
      "25%:   453.00\n",
      "50%:   680.00\n",
      "75%:   1,335.00\n",
      "Max:   8,206.00\n",
      "Note: pages shows significant right skew - median (680.00) is much closer to min than max\n",
      "90th percentile: 2,948.00\n",
      "95th percentile: 3,897.00\n",
      "99th percentile: 6,011.92\n",
      "Percent of data between median and 90th percentile: 38.3%\n",
      "Percent of data between 90th and max: 10.5%\n"
     ]
    }
   ],
   "source": [
    "# Define key metrics for analysis\n",
    "key_metrics = ['views', 'rating', 'followers', 'favorites', 'chapters', 'pages']\n",
    "\n",
    "# Create individual distribution plots for better readability\n",
    "for metric in key_metrics:\n",
    "    # Skip non-numeric columns or convert if possible\n",
    "    if not pd.api.types.is_numeric_dtype(df[metric]):\n",
    "        print(f\"Skipping {metric} as it's not numeric (type: {df[metric].dtype})\")\n",
    "        continue\n",
    "        \n",
    "    # Create figure\n",
    "    fig = go.Figure()\n",
    "    \n",
    "    # Create histogram data with proper handling of data types\n",
    "    try:\n",
    "        # Create bins manually to avoid Interval objects\n",
    "        values = df[metric].dropna()\n",
    "        min_val = values.min()\n",
    "        max_val = values.max()\n",
    "        \n",
    "        # Check for skewness to determine appropriate scaling\n",
    "        skewness = values.skew()\n",
    "        print(f\"Skewness for {metric}: {skewness:.2f}\")\n",
    "        is_right_skewed = skewness > 1.0  # Common threshold for significant right skew\n",
    "        \n",
    "        # If right-skewed and not already using log scale, use log binning\n",
    "        if is_right_skewed and min_val > 0:  # Ensure all values are positive for log scale\n",
    "            # For log scale, use logarithmically spaced bins\n",
    "            bins = np.logspace(np.log10(max(min_val, 0.1)), np.log10(max_val), 51)\n",
    "            hist_data = np.histogram(values, bins=bins, density=True)\n",
    "            bin_centers = [(bins[i] + bins[i+1])/2 for i in range(len(bins)-1)]\n",
    "        else:\n",
    "            # For normal scale, use linearly spaced bins\n",
    "            bins = np.linspace(min_val, max_val, 51)  # 51 points = 50 bins\n",
    "            hist_data = np.histogram(values, bins=bins, density=True)\n",
    "            bin_centers = [(bins[i] + bins[i+1])/2 for i in range(len(bins)-1)]\n",
    "        \n",
    "        # Create bar chart with bin centers and heights\n",
    "        fig.add_trace(\n",
    "            go.Bar(\n",
    "                x=bin_centers,\n",
    "                y=hist_data[0],\n",
    "                name='Distribution',\n",
    "                opacity=0.75\n",
    "            )\n",
    "        )\n",
    "    except Exception as e:\n",
    "        print(f\"Error creating histogram for {metric}: {e}\")\n",
    "        continue\n",
    "    \n",
    "    # Update layout\n",
    "    fig.update_layout(\n",
    "        title=f'{metric.capitalize()} Distribution{\" (Log Scale)\" if is_right_skewed and min_val > 0 else \"\"}',\n",
    "        xaxis_title=metric.capitalize(),\n",
    "        yaxis_title='Frequency',\n",
    "        height=500,\n",
    "        width=800,\n",
    "        showlegend=False  # No need for legend with single trace\n",
    "    )\n",
    "    \n",
    "    # Use log scale for highly skewed metrics\n",
    "    if is_right_skewed and min_val > 0:\n",
    "        fig.update_xaxes(type='log')\n",
    "        print(f\"Applied log scaling to {metric} due to right-skewed distribution (skewness: {skewness:.2f})\")\n",
    "    \n",
    "    try:\n",
    "        fig.show()\n",
    "    except TypeError as e:\n",
    "        print(f\"Error displaying plot for {metric}: {e}\")\n",
    "        print(f\"Data types - x: {type(bin_centers[0])}, y: {type(hist_data[0][0])}\")\n",
    "        continue\n",
    "    \n",
    "    # Print basic statistics\n",
    "    stats = df[metric].describe()\n",
    "    print(f\"\\n{metric.capitalize()} Statistics:\")\n",
    "    print(f\"Count: {stats['count']:,.0f}\")\n",
    "    print(f\"Mean:  {stats['mean']:,.2f}\")\n",
    "    print(f\"Std:   {stats['std']:,.2f}\")\n",
    "    print(f\"Min:   {stats['min']:,.2f}\")\n",
    "    print(f\"25%:   {stats['25%']:,.2f}\")\n",
    "    print(f\"50%:   {stats['50%']:,.2f}\")\n",
    "    print(f\"75%:   {stats['75%']:,.2f}\")\n",
    "    print(f\"Max:   {stats['max']:,.2f}\")\n",
    "    \n",
    "    # Calculate additional metrics to highlight skewness\n",
    "    iqr = stats['75%'] - stats['25%']\n",
    "    median = stats['50%']\n",
    "    # Check if distribution is significantly skewed\n",
    "    if (stats['max'] - median) > 3 * (median - stats['min']):\n",
    "        print(f\"Note: {metric} shows significant right skew - median ({median:.2f}) is much closer to min than max\")\n",
    "    \n",
    "    # Print the 90th, 95th and 99th percentiles for right-skewed distributions\n",
    "    if is_right_skewed:\n",
    "        p90 = values.quantile(0.90)\n",
    "        p95 = values.quantile(0.95)\n",
    "        p99 = values.quantile(0.99)\n",
    "        print(f\"90th percentile: {p90:,.2f}\")\n",
    "        print(f\"95th percentile: {p95:,.2f}\")\n",
    "        print(f\"99th percentile: {p99:,.2f}\")\n",
    "        print(f\"Percent of data between median and 90th percentile: {((values < p90) & (values > median)).mean()*100:.1f}%\")\n",
    "        print(f\"Percent of data between 90th and max: {(values >= p90).mean()*100:.1f}%\")"
   ]
  },
  {
   "cell_type": "markdown",
   "id": "e2cfdf65",
   "metadata": {},
   "source": [
    "## Correlation Analysis\n",
    "\n",
    "Let's analyze the relationships between different numerical features in our dataset. We'll use both a correlation matrix heatmap and a pairplot to visualize these relationships."
   ]
  },
  {
   "cell_type": "code",
   "execution_count": 14,
   "id": "e5c8011b",
   "metadata": {},
   "outputs": [
    {
     "data": {
      "application/vnd.plotly.v1+json": {
       "config": {
        "plotlyServerURL": "https://plot.ly"
       },
       "data": [
        {
         "colorscale": [
          [
           0,
           "rgb(103,0,31)"
          ],
          [
           0.1,
           "rgb(178,24,43)"
          ],
          [
           0.2,
           "rgb(214,96,77)"
          ],
          [
           0.3,
           "rgb(244,165,130)"
          ],
          [
           0.4,
           "rgb(253,219,199)"
          ],
          [
           0.5,
           "rgb(247,247,247)"
          ],
          [
           0.6,
           "rgb(209,229,240)"
          ],
          [
           0.7,
           "rgb(146,197,222)"
          ],
          [
           0.8,
           "rgb(67,147,195)"
          ],
          [
           0.9,
           "rgb(33,102,172)"
          ],
          [
           1,
           "rgb(5,48,97)"
          ]
         ],
         "hoverongaps": false,
         "text": {
          "bdata": "AAAAAAAA8D+4HoXrUbiev65H4XoUruc/MzMzMzMz6z97FK5H4XrEP5qZmZmZmeE/uB6F61G4nr8AAAAAAADwPwrXo3A9Crc/7FG4HoXrsT/D9Shcj8LFvx+F61G4HtW/rkfhehSu5z8K16NwPQq3PwAAAAAAAPA/CtejcD0K7z97FK5H4XqEvwAAAAAAANA/MzMzMzMz6z/sUbgeheuxPwrXo3A9Cu8/AAAAAAAA8D+4HoXrUbieP3sUrkfhetQ/exSuR+F6xD/D9Shcj8LFv3sUrkfheoS/uB6F61G4nj8AAAAAAADwP8P1KFyPwtU/mpmZmZmZ4T8fhetRuB7VvwAAAAAAANA/exSuR+F61D/D9Shcj8LVPwAAAAAAAPA/",
          "dtype": "f8",
          "shape": "6, 6"
         },
         "textfont": {
          "size": 12
         },
         "texttemplate": "%{text}",
         "type": "heatmap",
         "x": [
          "views",
          "rating",
          "followers",
          "favorites",
          "chapters",
          "pages"
         ],
         "y": [
          "views",
          "rating",
          "followers",
          "favorites",
          "chapters",
          "pages"
         ],
         "z": {
          "bdata": "AAAAAAAA8D/WrGwaBHWhv99ixvUsvec/dUUL47sQ6z8OLBhPAkXEP1n9fEZRh+E/1qxsGgR1ob8AAAAAAADwP1aILHPGELc/TLdV49gcsj/5RP4yRJTFv4UUzHfsDdW/32LG9Sy95z9WiCxzxhC3PwAAAAAAAPA/wLO+Zckt7z9j9MqNXdZ1v9hRPsO2rM8/dUUL47sQ6z9Mt1Xj2ByyP8CzvmXJLe8/AAAAAAAA8D9oLs9mlUygP10pfyOfY9Q/DiwYTwJFxD/5RP4yRJTFv2P0yo1d1nW/aC7PZpVMoD8AAAAAAADwP7j1o7kW1dU/Wf18RlGH4T+FFMx37A3Vv9hRPsO2rM8/XSl/I59j1D+49aO5FtXVPwAAAAAAAPA/",
          "dtype": "f8",
          "shape": "6, 6"
         }
        }
       ],
       "layout": {
        "font": {
         "size": 14
        },
        "height": 800,
        "template": {
         "data": {
          "bar": [
           {
            "error_x": {
             "color": "#2a3f5f"
            },
            "error_y": {
             "color": "#2a3f5f"
            },
            "marker": {
             "line": {
              "color": "#E5ECF6",
              "width": 0.5
             },
             "pattern": {
              "fillmode": "overlay",
              "size": 10,
              "solidity": 0.2
             }
            },
            "type": "bar"
           }
          ],
          "barpolar": [
           {
            "marker": {
             "line": {
              "color": "#E5ECF6",
              "width": 0.5
             },
             "pattern": {
              "fillmode": "overlay",
              "size": 10,
              "solidity": 0.2
             }
            },
            "type": "barpolar"
           }
          ],
          "carpet": [
           {
            "aaxis": {
             "endlinecolor": "#2a3f5f",
             "gridcolor": "white",
             "linecolor": "white",
             "minorgridcolor": "white",
             "startlinecolor": "#2a3f5f"
            },
            "baxis": {
             "endlinecolor": "#2a3f5f",
             "gridcolor": "white",
             "linecolor": "white",
             "minorgridcolor": "white",
             "startlinecolor": "#2a3f5f"
            },
            "type": "carpet"
           }
          ],
          "choropleth": [
           {
            "colorbar": {
             "outlinewidth": 0,
             "ticks": ""
            },
            "type": "choropleth"
           }
          ],
          "contour": [
           {
            "colorbar": {
             "outlinewidth": 0,
             "ticks": ""
            },
            "colorscale": [
             [
              0,
              "#0d0887"
             ],
             [
              0.1111111111111111,
              "#46039f"
             ],
             [
              0.2222222222222222,
              "#7201a8"
             ],
             [
              0.3333333333333333,
              "#9c179e"
             ],
             [
              0.4444444444444444,
              "#bd3786"
             ],
             [
              0.5555555555555556,
              "#d8576b"
             ],
             [
              0.6666666666666666,
              "#ed7953"
             ],
             [
              0.7777777777777778,
              "#fb9f3a"
             ],
             [
              0.8888888888888888,
              "#fdca26"
             ],
             [
              1,
              "#f0f921"
             ]
            ],
            "type": "contour"
           }
          ],
          "contourcarpet": [
           {
            "colorbar": {
             "outlinewidth": 0,
             "ticks": ""
            },
            "type": "contourcarpet"
           }
          ],
          "heatmap": [
           {
            "colorbar": {
             "outlinewidth": 0,
             "ticks": ""
            },
            "colorscale": [
             [
              0,
              "#0d0887"
             ],
             [
              0.1111111111111111,
              "#46039f"
             ],
             [
              0.2222222222222222,
              "#7201a8"
             ],
             [
              0.3333333333333333,
              "#9c179e"
             ],
             [
              0.4444444444444444,
              "#bd3786"
             ],
             [
              0.5555555555555556,
              "#d8576b"
             ],
             [
              0.6666666666666666,
              "#ed7953"
             ],
             [
              0.7777777777777778,
              "#fb9f3a"
             ],
             [
              0.8888888888888888,
              "#fdca26"
             ],
             [
              1,
              "#f0f921"
             ]
            ],
            "type": "heatmap"
           }
          ],
          "histogram": [
           {
            "marker": {
             "pattern": {
              "fillmode": "overlay",
              "size": 10,
              "solidity": 0.2
             }
            },
            "type": "histogram"
           }
          ],
          "histogram2d": [
           {
            "colorbar": {
             "outlinewidth": 0,
             "ticks": ""
            },
            "colorscale": [
             [
              0,
              "#0d0887"
             ],
             [
              0.1111111111111111,
              "#46039f"
             ],
             [
              0.2222222222222222,
              "#7201a8"
             ],
             [
              0.3333333333333333,
              "#9c179e"
             ],
             [
              0.4444444444444444,
              "#bd3786"
             ],
             [
              0.5555555555555556,
              "#d8576b"
             ],
             [
              0.6666666666666666,
              "#ed7953"
             ],
             [
              0.7777777777777778,
              "#fb9f3a"
             ],
             [
              0.8888888888888888,
              "#fdca26"
             ],
             [
              1,
              "#f0f921"
             ]
            ],
            "type": "histogram2d"
           }
          ],
          "histogram2dcontour": [
           {
            "colorbar": {
             "outlinewidth": 0,
             "ticks": ""
            },
            "colorscale": [
             [
              0,
              "#0d0887"
             ],
             [
              0.1111111111111111,
              "#46039f"
             ],
             [
              0.2222222222222222,
              "#7201a8"
             ],
             [
              0.3333333333333333,
              "#9c179e"
             ],
             [
              0.4444444444444444,
              "#bd3786"
             ],
             [
              0.5555555555555556,
              "#d8576b"
             ],
             [
              0.6666666666666666,
              "#ed7953"
             ],
             [
              0.7777777777777778,
              "#fb9f3a"
             ],
             [
              0.8888888888888888,
              "#fdca26"
             ],
             [
              1,
              "#f0f921"
             ]
            ],
            "type": "histogram2dcontour"
           }
          ],
          "mesh3d": [
           {
            "colorbar": {
             "outlinewidth": 0,
             "ticks": ""
            },
            "type": "mesh3d"
           }
          ],
          "parcoords": [
           {
            "line": {
             "colorbar": {
              "outlinewidth": 0,
              "ticks": ""
             }
            },
            "type": "parcoords"
           }
          ],
          "pie": [
           {
            "automargin": true,
            "type": "pie"
           }
          ],
          "scatter": [
           {
            "fillpattern": {
             "fillmode": "overlay",
             "size": 10,
             "solidity": 0.2
            },
            "type": "scatter"
           }
          ],
          "scatter3d": [
           {
            "line": {
             "colorbar": {
              "outlinewidth": 0,
              "ticks": ""
             }
            },
            "marker": {
             "colorbar": {
              "outlinewidth": 0,
              "ticks": ""
             }
            },
            "type": "scatter3d"
           }
          ],
          "scattercarpet": [
           {
            "marker": {
             "colorbar": {
              "outlinewidth": 0,
              "ticks": ""
             }
            },
            "type": "scattercarpet"
           }
          ],
          "scattergeo": [
           {
            "marker": {
             "colorbar": {
              "outlinewidth": 0,
              "ticks": ""
             }
            },
            "type": "scattergeo"
           }
          ],
          "scattergl": [
           {
            "marker": {
             "colorbar": {
              "outlinewidth": 0,
              "ticks": ""
             }
            },
            "type": "scattergl"
           }
          ],
          "scattermap": [
           {
            "marker": {
             "colorbar": {
              "outlinewidth": 0,
              "ticks": ""
             }
            },
            "type": "scattermap"
           }
          ],
          "scattermapbox": [
           {
            "marker": {
             "colorbar": {
              "outlinewidth": 0,
              "ticks": ""
             }
            },
            "type": "scattermapbox"
           }
          ],
          "scatterpolar": [
           {
            "marker": {
             "colorbar": {
              "outlinewidth": 0,
              "ticks": ""
             }
            },
            "type": "scatterpolar"
           }
          ],
          "scatterpolargl": [
           {
            "marker": {
             "colorbar": {
              "outlinewidth": 0,
              "ticks": ""
             }
            },
            "type": "scatterpolargl"
           }
          ],
          "scatterternary": [
           {
            "marker": {
             "colorbar": {
              "outlinewidth": 0,
              "ticks": ""
             }
            },
            "type": "scatterternary"
           }
          ],
          "surface": [
           {
            "colorbar": {
             "outlinewidth": 0,
             "ticks": ""
            },
            "colorscale": [
             [
              0,
              "#0d0887"
             ],
             [
              0.1111111111111111,
              "#46039f"
             ],
             [
              0.2222222222222222,
              "#7201a8"
             ],
             [
              0.3333333333333333,
              "#9c179e"
             ],
             [
              0.4444444444444444,
              "#bd3786"
             ],
             [
              0.5555555555555556,
              "#d8576b"
             ],
             [
              0.6666666666666666,
              "#ed7953"
             ],
             [
              0.7777777777777778,
              "#fb9f3a"
             ],
             [
              0.8888888888888888,
              "#fdca26"
             ],
             [
              1,
              "#f0f921"
             ]
            ],
            "type": "surface"
           }
          ],
          "table": [
           {
            "cells": {
             "fill": {
              "color": "#EBF0F8"
             },
             "line": {
              "color": "white"
             }
            },
            "header": {
             "fill": {
              "color": "#C8D4E3"
             },
             "line": {
              "color": "white"
             }
            },
            "type": "table"
           }
          ]
         },
         "layout": {
          "annotationdefaults": {
           "arrowcolor": "#2a3f5f",
           "arrowhead": 0,
           "arrowwidth": 1
          },
          "autotypenumbers": "strict",
          "coloraxis": {
           "colorbar": {
            "outlinewidth": 0,
            "ticks": ""
           }
          },
          "colorscale": {
           "diverging": [
            [
             0,
             "#8e0152"
            ],
            [
             0.1,
             "#c51b7d"
            ],
            [
             0.2,
             "#de77ae"
            ],
            [
             0.3,
             "#f1b6da"
            ],
            [
             0.4,
             "#fde0ef"
            ],
            [
             0.5,
             "#f7f7f7"
            ],
            [
             0.6,
             "#e6f5d0"
            ],
            [
             0.7,
             "#b8e186"
            ],
            [
             0.8,
             "#7fbc41"
            ],
            [
             0.9,
             "#4d9221"
            ],
            [
             1,
             "#276419"
            ]
           ],
           "sequential": [
            [
             0,
             "#0d0887"
            ],
            [
             0.1111111111111111,
             "#46039f"
            ],
            [
             0.2222222222222222,
             "#7201a8"
            ],
            [
             0.3333333333333333,
             "#9c179e"
            ],
            [
             0.4444444444444444,
             "#bd3786"
            ],
            [
             0.5555555555555556,
             "#d8576b"
            ],
            [
             0.6666666666666666,
             "#ed7953"
            ],
            [
             0.7777777777777778,
             "#fb9f3a"
            ],
            [
             0.8888888888888888,
             "#fdca26"
            ],
            [
             1,
             "#f0f921"
            ]
           ],
           "sequentialminus": [
            [
             0,
             "#0d0887"
            ],
            [
             0.1111111111111111,
             "#46039f"
            ],
            [
             0.2222222222222222,
             "#7201a8"
            ],
            [
             0.3333333333333333,
             "#9c179e"
            ],
            [
             0.4444444444444444,
             "#bd3786"
            ],
            [
             0.5555555555555556,
             "#d8576b"
            ],
            [
             0.6666666666666666,
             "#ed7953"
            ],
            [
             0.7777777777777778,
             "#fb9f3a"
            ],
            [
             0.8888888888888888,
             "#fdca26"
            ],
            [
             1,
             "#f0f921"
            ]
           ]
          },
          "colorway": [
           "#636efa",
           "#EF553B",
           "#00cc96",
           "#ab63fa",
           "#FFA15A",
           "#19d3f3",
           "#FF6692",
           "#B6E880",
           "#FF97FF",
           "#FECB52"
          ],
          "font": {
           "color": "#2a3f5f"
          },
          "geo": {
           "bgcolor": "white",
           "lakecolor": "white",
           "landcolor": "#E5ECF6",
           "showlakes": true,
           "showland": true,
           "subunitcolor": "white"
          },
          "hoverlabel": {
           "align": "left"
          },
          "hovermode": "closest",
          "mapbox": {
           "style": "light"
          },
          "paper_bgcolor": "white",
          "plot_bgcolor": "#E5ECF6",
          "polar": {
           "angularaxis": {
            "gridcolor": "white",
            "linecolor": "white",
            "ticks": ""
           },
           "bgcolor": "#E5ECF6",
           "radialaxis": {
            "gridcolor": "white",
            "linecolor": "white",
            "ticks": ""
           }
          },
          "scene": {
           "xaxis": {
            "backgroundcolor": "#E5ECF6",
            "gridcolor": "white",
            "gridwidth": 2,
            "linecolor": "white",
            "showbackground": true,
            "ticks": "",
            "zerolinecolor": "white"
           },
           "yaxis": {
            "backgroundcolor": "#E5ECF6",
            "gridcolor": "white",
            "gridwidth": 2,
            "linecolor": "white",
            "showbackground": true,
            "ticks": "",
            "zerolinecolor": "white"
           },
           "zaxis": {
            "backgroundcolor": "#E5ECF6",
            "gridcolor": "white",
            "gridwidth": 2,
            "linecolor": "white",
            "showbackground": true,
            "ticks": "",
            "zerolinecolor": "white"
           }
          },
          "shapedefaults": {
           "line": {
            "color": "#2a3f5f"
           }
          },
          "ternary": {
           "aaxis": {
            "gridcolor": "white",
            "linecolor": "white",
            "ticks": ""
           },
           "baxis": {
            "gridcolor": "white",
            "linecolor": "white",
            "ticks": ""
           },
           "bgcolor": "#E5ECF6",
           "caxis": {
            "gridcolor": "white",
            "linecolor": "white",
            "ticks": ""
           }
          },
          "title": {
           "x": 0.05
          },
          "xaxis": {
           "automargin": true,
           "gridcolor": "white",
           "linecolor": "white",
           "ticks": "",
           "title": {
            "standoff": 15
           },
           "zerolinecolor": "white",
           "zerolinewidth": 2
          },
          "yaxis": {
           "automargin": true,
           "gridcolor": "white",
           "linecolor": "white",
           "ticks": "",
           "title": {
            "standoff": 15
           },
           "zerolinecolor": "white",
           "zerolinewidth": 2
          }
         }
        },
        "title": {
         "text": "Correlation Matrix Heatmap"
        },
        "width": 900
       }
      }
     },
     "metadata": {},
     "output_type": "display_data"
    },
    {
     "name": "stdout",
     "output_type": "stream",
     "text": [
      "\n",
      "Strongest Correlations:\n",
      "followers vs favorites:  0.974\n",
      "   views vs favorites:  0.846\n",
      "   views vs followers:  0.742\n",
      "   views vs pages   :  0.548\n"
     ]
    }
   ],
   "source": [
    "# Calculate correlation matrix\n",
    "correlation_matrix = df[key_metrics].corr()\n",
    "\n",
    "# Create correlation heatmap using plotly\n",
    "fig = go.Figure(data=go.Heatmap(\n",
    "    z=correlation_matrix,\n",
    "    x=correlation_matrix.columns,\n",
    "    y=correlation_matrix.columns,\n",
    "    text=np.round(correlation_matrix, 2),\n",
    "    texttemplate='%{text}',\n",
    "    textfont={\"size\": 12},\n",
    "    hoverongaps=False,\n",
    "    colorscale='RdBu'\n",
    "))\n",
    "\n",
    "fig.update_layout(\n",
    "    title='Correlation Matrix Heatmap',\n",
    "    height=800,\n",
    "    width=900,\n",
    "    font=dict(size=14)\n",
    ")\n",
    "fig.show()\n",
    "\n",
    "# Print strongest correlations\n",
    "print(\"\\nStrongest Correlations:\")\n",
    "corr_pairs = []\n",
    "\n",
    "# Extract values from correlation matrix\n",
    "for i, metric1 in enumerate(key_metrics):\n",
    "    for j, metric2 in enumerate(key_metrics):\n",
    "        if i < j:  # Avoid duplicate pairs and diagonals\n",
    "            corr_value = correlation_matrix.loc[metric1, metric2]\n",
    "            # Make sure we're working with a float\n",
    "            if isinstance(corr_value, (int, float)) and abs(float(corr_value)) > 0.5:\n",
    "                corr_pairs.append((metric1, metric2, float(corr_value)))\n",
    "\n",
    "# Sort by correlation strength and print\n",
    "for metric1, metric2, corr in sorted(corr_pairs, key=lambda x: abs(x[2]), reverse=True):\n",
    "    print(f\"{metric1:>8} vs {metric2:<8}: {corr:>6.3f}\")"
   ]
  },
  {
   "cell_type": "markdown",
   "id": "2fecb22c",
   "metadata": {},
   "source": [
    "## Genre Analysis\n",
    "\n",
    "Let's analyze the distribution of genres and their relationship with other metrics. This will help us understand which genres are most popular and successful on Royal Road."
   ]
  },
  {
   "cell_type": "code",
   "execution_count": 15,
   "id": "b8209ae5",
   "metadata": {},
   "outputs": [
    {
     "data": {
      "application/vnd.plotly.v1+json": {
       "config": {
        "plotlyServerURL": "https://plot.ly"
       },
       "data": [
        {
         "text": {
          "bdata": "AAAAAACAWkAAAAAAAMBZQAAAAAAAAFlAAAAAAAAAVkAAAAAAAIBUQAAAAAAAwFNAAAAAAABAUEAAAAAAAABQQAAAAAAAAEtAAAAAAACAREA=",
          "dtype": "f8"
         },
         "textposition": "auto",
         "type": "bar",
         "x": [
          "Fantasy",
          "Action",
          "Adventure",
          "Progression",
          "Male Lead",
          "Magic",
          "Strong Lead",
          "LitRPG",
          "High Fantasy",
          "Portal Fantasy / Isekai"
         ],
         "y": {
          "bdata": "amdkWFJPQUA2KQ==",
          "dtype": "i1"
         }
        }
       ],
       "layout": {
        "font": {
         "size": 14
        },
        "height": 600,
        "margin": {
         "b": 100
        },
        "template": {
         "data": {
          "bar": [
           {
            "error_x": {
             "color": "#2a3f5f"
            },
            "error_y": {
             "color": "#2a3f5f"
            },
            "marker": {
             "line": {
              "color": "#E5ECF6",
              "width": 0.5
             },
             "pattern": {
              "fillmode": "overlay",
              "size": 10,
              "solidity": 0.2
             }
            },
            "type": "bar"
           }
          ],
          "barpolar": [
           {
            "marker": {
             "line": {
              "color": "#E5ECF6",
              "width": 0.5
             },
             "pattern": {
              "fillmode": "overlay",
              "size": 10,
              "solidity": 0.2
             }
            },
            "type": "barpolar"
           }
          ],
          "carpet": [
           {
            "aaxis": {
             "endlinecolor": "#2a3f5f",
             "gridcolor": "white",
             "linecolor": "white",
             "minorgridcolor": "white",
             "startlinecolor": "#2a3f5f"
            },
            "baxis": {
             "endlinecolor": "#2a3f5f",
             "gridcolor": "white",
             "linecolor": "white",
             "minorgridcolor": "white",
             "startlinecolor": "#2a3f5f"
            },
            "type": "carpet"
           }
          ],
          "choropleth": [
           {
            "colorbar": {
             "outlinewidth": 0,
             "ticks": ""
            },
            "type": "choropleth"
           }
          ],
          "contour": [
           {
            "colorbar": {
             "outlinewidth": 0,
             "ticks": ""
            },
            "colorscale": [
             [
              0,
              "#0d0887"
             ],
             [
              0.1111111111111111,
              "#46039f"
             ],
             [
              0.2222222222222222,
              "#7201a8"
             ],
             [
              0.3333333333333333,
              "#9c179e"
             ],
             [
              0.4444444444444444,
              "#bd3786"
             ],
             [
              0.5555555555555556,
              "#d8576b"
             ],
             [
              0.6666666666666666,
              "#ed7953"
             ],
             [
              0.7777777777777778,
              "#fb9f3a"
             ],
             [
              0.8888888888888888,
              "#fdca26"
             ],
             [
              1,
              "#f0f921"
             ]
            ],
            "type": "contour"
           }
          ],
          "contourcarpet": [
           {
            "colorbar": {
             "outlinewidth": 0,
             "ticks": ""
            },
            "type": "contourcarpet"
           }
          ],
          "heatmap": [
           {
            "colorbar": {
             "outlinewidth": 0,
             "ticks": ""
            },
            "colorscale": [
             [
              0,
              "#0d0887"
             ],
             [
              0.1111111111111111,
              "#46039f"
             ],
             [
              0.2222222222222222,
              "#7201a8"
             ],
             [
              0.3333333333333333,
              "#9c179e"
             ],
             [
              0.4444444444444444,
              "#bd3786"
             ],
             [
              0.5555555555555556,
              "#d8576b"
             ],
             [
              0.6666666666666666,
              "#ed7953"
             ],
             [
              0.7777777777777778,
              "#fb9f3a"
             ],
             [
              0.8888888888888888,
              "#fdca26"
             ],
             [
              1,
              "#f0f921"
             ]
            ],
            "type": "heatmap"
           }
          ],
          "histogram": [
           {
            "marker": {
             "pattern": {
              "fillmode": "overlay",
              "size": 10,
              "solidity": 0.2
             }
            },
            "type": "histogram"
           }
          ],
          "histogram2d": [
           {
            "colorbar": {
             "outlinewidth": 0,
             "ticks": ""
            },
            "colorscale": [
             [
              0,
              "#0d0887"
             ],
             [
              0.1111111111111111,
              "#46039f"
             ],
             [
              0.2222222222222222,
              "#7201a8"
             ],
             [
              0.3333333333333333,
              "#9c179e"
             ],
             [
              0.4444444444444444,
              "#bd3786"
             ],
             [
              0.5555555555555556,
              "#d8576b"
             ],
             [
              0.6666666666666666,
              "#ed7953"
             ],
             [
              0.7777777777777778,
              "#fb9f3a"
             ],
             [
              0.8888888888888888,
              "#fdca26"
             ],
             [
              1,
              "#f0f921"
             ]
            ],
            "type": "histogram2d"
           }
          ],
          "histogram2dcontour": [
           {
            "colorbar": {
             "outlinewidth": 0,
             "ticks": ""
            },
            "colorscale": [
             [
              0,
              "#0d0887"
             ],
             [
              0.1111111111111111,
              "#46039f"
             ],
             [
              0.2222222222222222,
              "#7201a8"
             ],
             [
              0.3333333333333333,
              "#9c179e"
             ],
             [
              0.4444444444444444,
              "#bd3786"
             ],
             [
              0.5555555555555556,
              "#d8576b"
             ],
             [
              0.6666666666666666,
              "#ed7953"
             ],
             [
              0.7777777777777778,
              "#fb9f3a"
             ],
             [
              0.8888888888888888,
              "#fdca26"
             ],
             [
              1,
              "#f0f921"
             ]
            ],
            "type": "histogram2dcontour"
           }
          ],
          "mesh3d": [
           {
            "colorbar": {
             "outlinewidth": 0,
             "ticks": ""
            },
            "type": "mesh3d"
           }
          ],
          "parcoords": [
           {
            "line": {
             "colorbar": {
              "outlinewidth": 0,
              "ticks": ""
             }
            },
            "type": "parcoords"
           }
          ],
          "pie": [
           {
            "automargin": true,
            "type": "pie"
           }
          ],
          "scatter": [
           {
            "fillpattern": {
             "fillmode": "overlay",
             "size": 10,
             "solidity": 0.2
            },
            "type": "scatter"
           }
          ],
          "scatter3d": [
           {
            "line": {
             "colorbar": {
              "outlinewidth": 0,
              "ticks": ""
             }
            },
            "marker": {
             "colorbar": {
              "outlinewidth": 0,
              "ticks": ""
             }
            },
            "type": "scatter3d"
           }
          ],
          "scattercarpet": [
           {
            "marker": {
             "colorbar": {
              "outlinewidth": 0,
              "ticks": ""
             }
            },
            "type": "scattercarpet"
           }
          ],
          "scattergeo": [
           {
            "marker": {
             "colorbar": {
              "outlinewidth": 0,
              "ticks": ""
             }
            },
            "type": "scattergeo"
           }
          ],
          "scattergl": [
           {
            "marker": {
             "colorbar": {
              "outlinewidth": 0,
              "ticks": ""
             }
            },
            "type": "scattergl"
           }
          ],
          "scattermap": [
           {
            "marker": {
             "colorbar": {
              "outlinewidth": 0,
              "ticks": ""
             }
            },
            "type": "scattermap"
           }
          ],
          "scattermapbox": [
           {
            "marker": {
             "colorbar": {
              "outlinewidth": 0,
              "ticks": ""
             }
            },
            "type": "scattermapbox"
           }
          ],
          "scatterpolar": [
           {
            "marker": {
             "colorbar": {
              "outlinewidth": 0,
              "ticks": ""
             }
            },
            "type": "scatterpolar"
           }
          ],
          "scatterpolargl": [
           {
            "marker": {
             "colorbar": {
              "outlinewidth": 0,
              "ticks": ""
             }
            },
            "type": "scatterpolargl"
           }
          ],
          "scatterternary": [
           {
            "marker": {
             "colorbar": {
              "outlinewidth": 0,
              "ticks": ""
             }
            },
            "type": "scatterternary"
           }
          ],
          "surface": [
           {
            "colorbar": {
             "outlinewidth": 0,
             "ticks": ""
            },
            "colorscale": [
             [
              0,
              "#0d0887"
             ],
             [
              0.1111111111111111,
              "#46039f"
             ],
             [
              0.2222222222222222,
              "#7201a8"
             ],
             [
              0.3333333333333333,
              "#9c179e"
             ],
             [
              0.4444444444444444,
              "#bd3786"
             ],
             [
              0.5555555555555556,
              "#d8576b"
             ],
             [
              0.6666666666666666,
              "#ed7953"
             ],
             [
              0.7777777777777778,
              "#fb9f3a"
             ],
             [
              0.8888888888888888,
              "#fdca26"
             ],
             [
              1,
              "#f0f921"
             ]
            ],
            "type": "surface"
           }
          ],
          "table": [
           {
            "cells": {
             "fill": {
              "color": "#EBF0F8"
             },
             "line": {
              "color": "white"
             }
            },
            "header": {
             "fill": {
              "color": "#C8D4E3"
             },
             "line": {
              "color": "white"
             }
            },
            "type": "table"
           }
          ]
         },
         "layout": {
          "annotationdefaults": {
           "arrowcolor": "#2a3f5f",
           "arrowhead": 0,
           "arrowwidth": 1
          },
          "autotypenumbers": "strict",
          "coloraxis": {
           "colorbar": {
            "outlinewidth": 0,
            "ticks": ""
           }
          },
          "colorscale": {
           "diverging": [
            [
             0,
             "#8e0152"
            ],
            [
             0.1,
             "#c51b7d"
            ],
            [
             0.2,
             "#de77ae"
            ],
            [
             0.3,
             "#f1b6da"
            ],
            [
             0.4,
             "#fde0ef"
            ],
            [
             0.5,
             "#f7f7f7"
            ],
            [
             0.6,
             "#e6f5d0"
            ],
            [
             0.7,
             "#b8e186"
            ],
            [
             0.8,
             "#7fbc41"
            ],
            [
             0.9,
             "#4d9221"
            ],
            [
             1,
             "#276419"
            ]
           ],
           "sequential": [
            [
             0,
             "#0d0887"
            ],
            [
             0.1111111111111111,
             "#46039f"
            ],
            [
             0.2222222222222222,
             "#7201a8"
            ],
            [
             0.3333333333333333,
             "#9c179e"
            ],
            [
             0.4444444444444444,
             "#bd3786"
            ],
            [
             0.5555555555555556,
             "#d8576b"
            ],
            [
             0.6666666666666666,
             "#ed7953"
            ],
            [
             0.7777777777777778,
             "#fb9f3a"
            ],
            [
             0.8888888888888888,
             "#fdca26"
            ],
            [
             1,
             "#f0f921"
            ]
           ],
           "sequentialminus": [
            [
             0,
             "#0d0887"
            ],
            [
             0.1111111111111111,
             "#46039f"
            ],
            [
             0.2222222222222222,
             "#7201a8"
            ],
            [
             0.3333333333333333,
             "#9c179e"
            ],
            [
             0.4444444444444444,
             "#bd3786"
            ],
            [
             0.5555555555555556,
             "#d8576b"
            ],
            [
             0.6666666666666666,
             "#ed7953"
            ],
            [
             0.7777777777777778,
             "#fb9f3a"
            ],
            [
             0.8888888888888888,
             "#fdca26"
            ],
            [
             1,
             "#f0f921"
            ]
           ]
          },
          "colorway": [
           "#636efa",
           "#EF553B",
           "#00cc96",
           "#ab63fa",
           "#FFA15A",
           "#19d3f3",
           "#FF6692",
           "#B6E880",
           "#FF97FF",
           "#FECB52"
          ],
          "font": {
           "color": "#2a3f5f"
          },
          "geo": {
           "bgcolor": "white",
           "lakecolor": "white",
           "landcolor": "#E5ECF6",
           "showlakes": true,
           "showland": true,
           "subunitcolor": "white"
          },
          "hoverlabel": {
           "align": "left"
          },
          "hovermode": "closest",
          "mapbox": {
           "style": "light"
          },
          "paper_bgcolor": "white",
          "plot_bgcolor": "#E5ECF6",
          "polar": {
           "angularaxis": {
            "gridcolor": "white",
            "linecolor": "white",
            "ticks": ""
           },
           "bgcolor": "#E5ECF6",
           "radialaxis": {
            "gridcolor": "white",
            "linecolor": "white",
            "ticks": ""
           }
          },
          "scene": {
           "xaxis": {
            "backgroundcolor": "#E5ECF6",
            "gridcolor": "white",
            "gridwidth": 2,
            "linecolor": "white",
            "showbackground": true,
            "ticks": "",
            "zerolinecolor": "white"
           },
           "yaxis": {
            "backgroundcolor": "#E5ECF6",
            "gridcolor": "white",
            "gridwidth": 2,
            "linecolor": "white",
            "showbackground": true,
            "ticks": "",
            "zerolinecolor": "white"
           },
           "zaxis": {
            "backgroundcolor": "#E5ECF6",
            "gridcolor": "white",
            "gridwidth": 2,
            "linecolor": "white",
            "showbackground": true,
            "ticks": "",
            "zerolinecolor": "white"
           }
          },
          "shapedefaults": {
           "line": {
            "color": "#2a3f5f"
           }
          },
          "ternary": {
           "aaxis": {
            "gridcolor": "white",
            "linecolor": "white",
            "ticks": ""
           },
           "baxis": {
            "gridcolor": "white",
            "linecolor": "white",
            "ticks": ""
           },
           "bgcolor": "#E5ECF6",
           "caxis": {
            "gridcolor": "white",
            "linecolor": "white",
            "ticks": ""
           }
          },
          "title": {
           "x": 0.05
          },
          "xaxis": {
           "automargin": true,
           "gridcolor": "white",
           "linecolor": "white",
           "ticks": "",
           "title": {
            "standoff": 15
           },
           "zerolinecolor": "white",
           "zerolinewidth": 2
          },
          "yaxis": {
           "automargin": true,
           "gridcolor": "white",
           "linecolor": "white",
           "ticks": "",
           "title": {
            "standoff": 15
           },
           "zerolinecolor": "white",
           "zerolinewidth": 2
          }
         }
        },
        "title": {
         "text": "Top 10 Most Common Genres"
        },
        "width": 900,
        "xaxis": {
         "tickangle": -45,
         "title": {
          "text": "Genre"
         }
        },
        "yaxis": {
         "title": {
          "text": "Number of Stories"
         }
        }
       }
      }
     },
     "metadata": {},
     "output_type": "display_data"
    },
    {
     "data": {
      "application/vnd.plotly.v1+json": {
       "config": {
        "plotlyServerURL": "https://plot.ly"
       },
       "data": [
        {
         "customdata": {
          "bdata": "CRkfFTYVGBIgQA==",
          "dtype": "i1"
         },
         "hovertemplate": "Genre: %{x}<br>Average views: %{y:,.2f}<br>Number of stories: %{customdata}<br>",
         "text": {
          "bdata": "hetROKTAPEGamZmZl4k4QZqZmRn9PDRB4XoUbi8WNEEUrkehpm4zQZqZmRlbUDNBSOF61P1OMkGF61G4Qr8xQQrXo3AhAzFBAAAAgIShL0E=",
          "dtype": "f8"
         },
         "textposition": "auto",
         "type": "bar",
         "x": [
          "School Life",
          "Dungeon",
          "Strategy",
          "Ruling Class",
          "High Fantasy",
          "Xianxia",
          "Romance",
          "Attractive Lead",
          "GameLit",
          "LitRPG"
         ],
         "y": {
          "bdata": "OY7jOKTAPEGamZmZl4k4QYwxxhj9PDRBbtu2bS8WNEFMaC+hpm4zQRiGYRhbUDNBVVVV1f1OMkE5juO4Qr8xQQAAAHAhAzFBAAAAgIShL0E=",
          "dtype": "f8"
         }
        }
       ],
       "layout": {
        "font": {
         "size": 14
        },
        "height": 600,
        "margin": {
         "b": 100
        },
        "template": {
         "data": {
          "bar": [
           {
            "error_x": {
             "color": "#2a3f5f"
            },
            "error_y": {
             "color": "#2a3f5f"
            },
            "marker": {
             "line": {
              "color": "#E5ECF6",
              "width": 0.5
             },
             "pattern": {
              "fillmode": "overlay",
              "size": 10,
              "solidity": 0.2
             }
            },
            "type": "bar"
           }
          ],
          "barpolar": [
           {
            "marker": {
             "line": {
              "color": "#E5ECF6",
              "width": 0.5
             },
             "pattern": {
              "fillmode": "overlay",
              "size": 10,
              "solidity": 0.2
             }
            },
            "type": "barpolar"
           }
          ],
          "carpet": [
           {
            "aaxis": {
             "endlinecolor": "#2a3f5f",
             "gridcolor": "white",
             "linecolor": "white",
             "minorgridcolor": "white",
             "startlinecolor": "#2a3f5f"
            },
            "baxis": {
             "endlinecolor": "#2a3f5f",
             "gridcolor": "white",
             "linecolor": "white",
             "minorgridcolor": "white",
             "startlinecolor": "#2a3f5f"
            },
            "type": "carpet"
           }
          ],
          "choropleth": [
           {
            "colorbar": {
             "outlinewidth": 0,
             "ticks": ""
            },
            "type": "choropleth"
           }
          ],
          "contour": [
           {
            "colorbar": {
             "outlinewidth": 0,
             "ticks": ""
            },
            "colorscale": [
             [
              0,
              "#0d0887"
             ],
             [
              0.1111111111111111,
              "#46039f"
             ],
             [
              0.2222222222222222,
              "#7201a8"
             ],
             [
              0.3333333333333333,
              "#9c179e"
             ],
             [
              0.4444444444444444,
              "#bd3786"
             ],
             [
              0.5555555555555556,
              "#d8576b"
             ],
             [
              0.6666666666666666,
              "#ed7953"
             ],
             [
              0.7777777777777778,
              "#fb9f3a"
             ],
             [
              0.8888888888888888,
              "#fdca26"
             ],
             [
              1,
              "#f0f921"
             ]
            ],
            "type": "contour"
           }
          ],
          "contourcarpet": [
           {
            "colorbar": {
             "outlinewidth": 0,
             "ticks": ""
            },
            "type": "contourcarpet"
           }
          ],
          "heatmap": [
           {
            "colorbar": {
             "outlinewidth": 0,
             "ticks": ""
            },
            "colorscale": [
             [
              0,
              "#0d0887"
             ],
             [
              0.1111111111111111,
              "#46039f"
             ],
             [
              0.2222222222222222,
              "#7201a8"
             ],
             [
              0.3333333333333333,
              "#9c179e"
             ],
             [
              0.4444444444444444,
              "#bd3786"
             ],
             [
              0.5555555555555556,
              "#d8576b"
             ],
             [
              0.6666666666666666,
              "#ed7953"
             ],
             [
              0.7777777777777778,
              "#fb9f3a"
             ],
             [
              0.8888888888888888,
              "#fdca26"
             ],
             [
              1,
              "#f0f921"
             ]
            ],
            "type": "heatmap"
           }
          ],
          "histogram": [
           {
            "marker": {
             "pattern": {
              "fillmode": "overlay",
              "size": 10,
              "solidity": 0.2
             }
            },
            "type": "histogram"
           }
          ],
          "histogram2d": [
           {
            "colorbar": {
             "outlinewidth": 0,
             "ticks": ""
            },
            "colorscale": [
             [
              0,
              "#0d0887"
             ],
             [
              0.1111111111111111,
              "#46039f"
             ],
             [
              0.2222222222222222,
              "#7201a8"
             ],
             [
              0.3333333333333333,
              "#9c179e"
             ],
             [
              0.4444444444444444,
              "#bd3786"
             ],
             [
              0.5555555555555556,
              "#d8576b"
             ],
             [
              0.6666666666666666,
              "#ed7953"
             ],
             [
              0.7777777777777778,
              "#fb9f3a"
             ],
             [
              0.8888888888888888,
              "#fdca26"
             ],
             [
              1,
              "#f0f921"
             ]
            ],
            "type": "histogram2d"
           }
          ],
          "histogram2dcontour": [
           {
            "colorbar": {
             "outlinewidth": 0,
             "ticks": ""
            },
            "colorscale": [
             [
              0,
              "#0d0887"
             ],
             [
              0.1111111111111111,
              "#46039f"
             ],
             [
              0.2222222222222222,
              "#7201a8"
             ],
             [
              0.3333333333333333,
              "#9c179e"
             ],
             [
              0.4444444444444444,
              "#bd3786"
             ],
             [
              0.5555555555555556,
              "#d8576b"
             ],
             [
              0.6666666666666666,
              "#ed7953"
             ],
             [
              0.7777777777777778,
              "#fb9f3a"
             ],
             [
              0.8888888888888888,
              "#fdca26"
             ],
             [
              1,
              "#f0f921"
             ]
            ],
            "type": "histogram2dcontour"
           }
          ],
          "mesh3d": [
           {
            "colorbar": {
             "outlinewidth": 0,
             "ticks": ""
            },
            "type": "mesh3d"
           }
          ],
          "parcoords": [
           {
            "line": {
             "colorbar": {
              "outlinewidth": 0,
              "ticks": ""
             }
            },
            "type": "parcoords"
           }
          ],
          "pie": [
           {
            "automargin": true,
            "type": "pie"
           }
          ],
          "scatter": [
           {
            "fillpattern": {
             "fillmode": "overlay",
             "size": 10,
             "solidity": 0.2
            },
            "type": "scatter"
           }
          ],
          "scatter3d": [
           {
            "line": {
             "colorbar": {
              "outlinewidth": 0,
              "ticks": ""
             }
            },
            "marker": {
             "colorbar": {
              "outlinewidth": 0,
              "ticks": ""
             }
            },
            "type": "scatter3d"
           }
          ],
          "scattercarpet": [
           {
            "marker": {
             "colorbar": {
              "outlinewidth": 0,
              "ticks": ""
             }
            },
            "type": "scattercarpet"
           }
          ],
          "scattergeo": [
           {
            "marker": {
             "colorbar": {
              "outlinewidth": 0,
              "ticks": ""
             }
            },
            "type": "scattergeo"
           }
          ],
          "scattergl": [
           {
            "marker": {
             "colorbar": {
              "outlinewidth": 0,
              "ticks": ""
             }
            },
            "type": "scattergl"
           }
          ],
          "scattermap": [
           {
            "marker": {
             "colorbar": {
              "outlinewidth": 0,
              "ticks": ""
             }
            },
            "type": "scattermap"
           }
          ],
          "scattermapbox": [
           {
            "marker": {
             "colorbar": {
              "outlinewidth": 0,
              "ticks": ""
             }
            },
            "type": "scattermapbox"
           }
          ],
          "scatterpolar": [
           {
            "marker": {
             "colorbar": {
              "outlinewidth": 0,
              "ticks": ""
             }
            },
            "type": "scatterpolar"
           }
          ],
          "scatterpolargl": [
           {
            "marker": {
             "colorbar": {
              "outlinewidth": 0,
              "ticks": ""
             }
            },
            "type": "scatterpolargl"
           }
          ],
          "scatterternary": [
           {
            "marker": {
             "colorbar": {
              "outlinewidth": 0,
              "ticks": ""
             }
            },
            "type": "scatterternary"
           }
          ],
          "surface": [
           {
            "colorbar": {
             "outlinewidth": 0,
             "ticks": ""
            },
            "colorscale": [
             [
              0,
              "#0d0887"
             ],
             [
              0.1111111111111111,
              "#46039f"
             ],
             [
              0.2222222222222222,
              "#7201a8"
             ],
             [
              0.3333333333333333,
              "#9c179e"
             ],
             [
              0.4444444444444444,
              "#bd3786"
             ],
             [
              0.5555555555555556,
              "#d8576b"
             ],
             [
              0.6666666666666666,
              "#ed7953"
             ],
             [
              0.7777777777777778,
              "#fb9f3a"
             ],
             [
              0.8888888888888888,
              "#fdca26"
             ],
             [
              1,
              "#f0f921"
             ]
            ],
            "type": "surface"
           }
          ],
          "table": [
           {
            "cells": {
             "fill": {
              "color": "#EBF0F8"
             },
             "line": {
              "color": "white"
             }
            },
            "header": {
             "fill": {
              "color": "#C8D4E3"
             },
             "line": {
              "color": "white"
             }
            },
            "type": "table"
           }
          ]
         },
         "layout": {
          "annotationdefaults": {
           "arrowcolor": "#2a3f5f",
           "arrowhead": 0,
           "arrowwidth": 1
          },
          "autotypenumbers": "strict",
          "coloraxis": {
           "colorbar": {
            "outlinewidth": 0,
            "ticks": ""
           }
          },
          "colorscale": {
           "diverging": [
            [
             0,
             "#8e0152"
            ],
            [
             0.1,
             "#c51b7d"
            ],
            [
             0.2,
             "#de77ae"
            ],
            [
             0.3,
             "#f1b6da"
            ],
            [
             0.4,
             "#fde0ef"
            ],
            [
             0.5,
             "#f7f7f7"
            ],
            [
             0.6,
             "#e6f5d0"
            ],
            [
             0.7,
             "#b8e186"
            ],
            [
             0.8,
             "#7fbc41"
            ],
            [
             0.9,
             "#4d9221"
            ],
            [
             1,
             "#276419"
            ]
           ],
           "sequential": [
            [
             0,
             "#0d0887"
            ],
            [
             0.1111111111111111,
             "#46039f"
            ],
            [
             0.2222222222222222,
             "#7201a8"
            ],
            [
             0.3333333333333333,
             "#9c179e"
            ],
            [
             0.4444444444444444,
             "#bd3786"
            ],
            [
             0.5555555555555556,
             "#d8576b"
            ],
            [
             0.6666666666666666,
             "#ed7953"
            ],
            [
             0.7777777777777778,
             "#fb9f3a"
            ],
            [
             0.8888888888888888,
             "#fdca26"
            ],
            [
             1,
             "#f0f921"
            ]
           ],
           "sequentialminus": [
            [
             0,
             "#0d0887"
            ],
            [
             0.1111111111111111,
             "#46039f"
            ],
            [
             0.2222222222222222,
             "#7201a8"
            ],
            [
             0.3333333333333333,
             "#9c179e"
            ],
            [
             0.4444444444444444,
             "#bd3786"
            ],
            [
             0.5555555555555556,
             "#d8576b"
            ],
            [
             0.6666666666666666,
             "#ed7953"
            ],
            [
             0.7777777777777778,
             "#fb9f3a"
            ],
            [
             0.8888888888888888,
             "#fdca26"
            ],
            [
             1,
             "#f0f921"
            ]
           ]
          },
          "colorway": [
           "#636efa",
           "#EF553B",
           "#00cc96",
           "#ab63fa",
           "#FFA15A",
           "#19d3f3",
           "#FF6692",
           "#B6E880",
           "#FF97FF",
           "#FECB52"
          ],
          "font": {
           "color": "#2a3f5f"
          },
          "geo": {
           "bgcolor": "white",
           "lakecolor": "white",
           "landcolor": "#E5ECF6",
           "showlakes": true,
           "showland": true,
           "subunitcolor": "white"
          },
          "hoverlabel": {
           "align": "left"
          },
          "hovermode": "closest",
          "mapbox": {
           "style": "light"
          },
          "paper_bgcolor": "white",
          "plot_bgcolor": "#E5ECF6",
          "polar": {
           "angularaxis": {
            "gridcolor": "white",
            "linecolor": "white",
            "ticks": ""
           },
           "bgcolor": "#E5ECF6",
           "radialaxis": {
            "gridcolor": "white",
            "linecolor": "white",
            "ticks": ""
           }
          },
          "scene": {
           "xaxis": {
            "backgroundcolor": "#E5ECF6",
            "gridcolor": "white",
            "gridwidth": 2,
            "linecolor": "white",
            "showbackground": true,
            "ticks": "",
            "zerolinecolor": "white"
           },
           "yaxis": {
            "backgroundcolor": "#E5ECF6",
            "gridcolor": "white",
            "gridwidth": 2,
            "linecolor": "white",
            "showbackground": true,
            "ticks": "",
            "zerolinecolor": "white"
           },
           "zaxis": {
            "backgroundcolor": "#E5ECF6",
            "gridcolor": "white",
            "gridwidth": 2,
            "linecolor": "white",
            "showbackground": true,
            "ticks": "",
            "zerolinecolor": "white"
           }
          },
          "shapedefaults": {
           "line": {
            "color": "#2a3f5f"
           }
          },
          "ternary": {
           "aaxis": {
            "gridcolor": "white",
            "linecolor": "white",
            "ticks": ""
           },
           "baxis": {
            "gridcolor": "white",
            "linecolor": "white",
            "ticks": ""
           },
           "bgcolor": "#E5ECF6",
           "caxis": {
            "gridcolor": "white",
            "linecolor": "white",
            "ticks": ""
           }
          },
          "title": {
           "x": 0.05
          },
          "xaxis": {
           "automargin": true,
           "gridcolor": "white",
           "linecolor": "white",
           "ticks": "",
           "title": {
            "standoff": 15
           },
           "zerolinecolor": "white",
           "zerolinewidth": 2
          },
          "yaxis": {
           "automargin": true,
           "gridcolor": "white",
           "linecolor": "white",
           "ticks": "",
           "title": {
            "standoff": 15
           },
           "zerolinecolor": "white",
           "zerolinewidth": 2
          }
         }
        },
        "title": {
         "text": "Top 10 Genres by Average Views"
        },
        "width": 900,
        "xaxis": {
         "tickangle": -45,
         "title": {
          "text": "Genre"
         }
        },
        "yaxis": {
         "title": {
          "text": "Average Views"
         },
         "type": "log"
        }
       }
      }
     },
     "metadata": {},
     "output_type": "display_data"
    },
    {
     "data": {
      "application/vnd.plotly.v1+json": {
       "config": {
        "plotlyServerURL": "https://plot.ly"
       },
       "data": [
        {
         "customdata": {
          "bdata": "BRIOCwYRIQkQHg==",
          "dtype": "i1"
         },
         "hovertemplate": "Genre: %{x}<br>Average rating: %{y:,.2f}<br>Number of stories: %{customdata}<br>",
         "text": {
          "bdata": "mpmZmZmZEkB7FK5H4XoSQGZmZmZmZhJAXI/C9ShcEkBSuB6F61ESQD0K16NwPRJAPQrXo3A9EkApXI/C9SgSQClcj8L1KBJAH4XrUbgeEkA=",
          "dtype": "f8"
         },
         "textposition": "auto",
         "type": "bar",
         "x": [
          "Contemporary",
          "Multiple Lead Characters",
          "Low Fantasy",
          "Dystopia",
          "Space Opera",
          "Urban Fantasy",
          "Female Lead",
          "Psychological",
          "Non-Human Lead",
          "Strategy"
         ],
         "y": {
          "bdata": "z/dT46WbEkD5xZJfLHkSQGdmZmZmZhJAVxZ4ZYFXEkDNzMzMzEwSQD5xpNcKPhJAPDe+c+M7EkB6NfGsaCQSQKRwPQrXIxJAH4XrUbgeEkA=",
          "dtype": "f8"
         }
        }
       ],
       "layout": {
        "font": {
         "size": 14
        },
        "height": 600,
        "margin": {
         "b": 100
        },
        "template": {
         "data": {
          "bar": [
           {
            "error_x": {
             "color": "#2a3f5f"
            },
            "error_y": {
             "color": "#2a3f5f"
            },
            "marker": {
             "line": {
              "color": "#E5ECF6",
              "width": 0.5
             },
             "pattern": {
              "fillmode": "overlay",
              "size": 10,
              "solidity": 0.2
             }
            },
            "type": "bar"
           }
          ],
          "barpolar": [
           {
            "marker": {
             "line": {
              "color": "#E5ECF6",
              "width": 0.5
             },
             "pattern": {
              "fillmode": "overlay",
              "size": 10,
              "solidity": 0.2
             }
            },
            "type": "barpolar"
           }
          ],
          "carpet": [
           {
            "aaxis": {
             "endlinecolor": "#2a3f5f",
             "gridcolor": "white",
             "linecolor": "white",
             "minorgridcolor": "white",
             "startlinecolor": "#2a3f5f"
            },
            "baxis": {
             "endlinecolor": "#2a3f5f",
             "gridcolor": "white",
             "linecolor": "white",
             "minorgridcolor": "white",
             "startlinecolor": "#2a3f5f"
            },
            "type": "carpet"
           }
          ],
          "choropleth": [
           {
            "colorbar": {
             "outlinewidth": 0,
             "ticks": ""
            },
            "type": "choropleth"
           }
          ],
          "contour": [
           {
            "colorbar": {
             "outlinewidth": 0,
             "ticks": ""
            },
            "colorscale": [
             [
              0,
              "#0d0887"
             ],
             [
              0.1111111111111111,
              "#46039f"
             ],
             [
              0.2222222222222222,
              "#7201a8"
             ],
             [
              0.3333333333333333,
              "#9c179e"
             ],
             [
              0.4444444444444444,
              "#bd3786"
             ],
             [
              0.5555555555555556,
              "#d8576b"
             ],
             [
              0.6666666666666666,
              "#ed7953"
             ],
             [
              0.7777777777777778,
              "#fb9f3a"
             ],
             [
              0.8888888888888888,
              "#fdca26"
             ],
             [
              1,
              "#f0f921"
             ]
            ],
            "type": "contour"
           }
          ],
          "contourcarpet": [
           {
            "colorbar": {
             "outlinewidth": 0,
             "ticks": ""
            },
            "type": "contourcarpet"
           }
          ],
          "heatmap": [
           {
            "colorbar": {
             "outlinewidth": 0,
             "ticks": ""
            },
            "colorscale": [
             [
              0,
              "#0d0887"
             ],
             [
              0.1111111111111111,
              "#46039f"
             ],
             [
              0.2222222222222222,
              "#7201a8"
             ],
             [
              0.3333333333333333,
              "#9c179e"
             ],
             [
              0.4444444444444444,
              "#bd3786"
             ],
             [
              0.5555555555555556,
              "#d8576b"
             ],
             [
              0.6666666666666666,
              "#ed7953"
             ],
             [
              0.7777777777777778,
              "#fb9f3a"
             ],
             [
              0.8888888888888888,
              "#fdca26"
             ],
             [
              1,
              "#f0f921"
             ]
            ],
            "type": "heatmap"
           }
          ],
          "histogram": [
           {
            "marker": {
             "pattern": {
              "fillmode": "overlay",
              "size": 10,
              "solidity": 0.2
             }
            },
            "type": "histogram"
           }
          ],
          "histogram2d": [
           {
            "colorbar": {
             "outlinewidth": 0,
             "ticks": ""
            },
            "colorscale": [
             [
              0,
              "#0d0887"
             ],
             [
              0.1111111111111111,
              "#46039f"
             ],
             [
              0.2222222222222222,
              "#7201a8"
             ],
             [
              0.3333333333333333,
              "#9c179e"
             ],
             [
              0.4444444444444444,
              "#bd3786"
             ],
             [
              0.5555555555555556,
              "#d8576b"
             ],
             [
              0.6666666666666666,
              "#ed7953"
             ],
             [
              0.7777777777777778,
              "#fb9f3a"
             ],
             [
              0.8888888888888888,
              "#fdca26"
             ],
             [
              1,
              "#f0f921"
             ]
            ],
            "type": "histogram2d"
           }
          ],
          "histogram2dcontour": [
           {
            "colorbar": {
             "outlinewidth": 0,
             "ticks": ""
            },
            "colorscale": [
             [
              0,
              "#0d0887"
             ],
             [
              0.1111111111111111,
              "#46039f"
             ],
             [
              0.2222222222222222,
              "#7201a8"
             ],
             [
              0.3333333333333333,
              "#9c179e"
             ],
             [
              0.4444444444444444,
              "#bd3786"
             ],
             [
              0.5555555555555556,
              "#d8576b"
             ],
             [
              0.6666666666666666,
              "#ed7953"
             ],
             [
              0.7777777777777778,
              "#fb9f3a"
             ],
             [
              0.8888888888888888,
              "#fdca26"
             ],
             [
              1,
              "#f0f921"
             ]
            ],
            "type": "histogram2dcontour"
           }
          ],
          "mesh3d": [
           {
            "colorbar": {
             "outlinewidth": 0,
             "ticks": ""
            },
            "type": "mesh3d"
           }
          ],
          "parcoords": [
           {
            "line": {
             "colorbar": {
              "outlinewidth": 0,
              "ticks": ""
             }
            },
            "type": "parcoords"
           }
          ],
          "pie": [
           {
            "automargin": true,
            "type": "pie"
           }
          ],
          "scatter": [
           {
            "fillpattern": {
             "fillmode": "overlay",
             "size": 10,
             "solidity": 0.2
            },
            "type": "scatter"
           }
          ],
          "scatter3d": [
           {
            "line": {
             "colorbar": {
              "outlinewidth": 0,
              "ticks": ""
             }
            },
            "marker": {
             "colorbar": {
              "outlinewidth": 0,
              "ticks": ""
             }
            },
            "type": "scatter3d"
           }
          ],
          "scattercarpet": [
           {
            "marker": {
             "colorbar": {
              "outlinewidth": 0,
              "ticks": ""
             }
            },
            "type": "scattercarpet"
           }
          ],
          "scattergeo": [
           {
            "marker": {
             "colorbar": {
              "outlinewidth": 0,
              "ticks": ""
             }
            },
            "type": "scattergeo"
           }
          ],
          "scattergl": [
           {
            "marker": {
             "colorbar": {
              "outlinewidth": 0,
              "ticks": ""
             }
            },
            "type": "scattergl"
           }
          ],
          "scattermap": [
           {
            "marker": {
             "colorbar": {
              "outlinewidth": 0,
              "ticks": ""
             }
            },
            "type": "scattermap"
           }
          ],
          "scattermapbox": [
           {
            "marker": {
             "colorbar": {
              "outlinewidth": 0,
              "ticks": ""
             }
            },
            "type": "scattermapbox"
           }
          ],
          "scatterpolar": [
           {
            "marker": {
             "colorbar": {
              "outlinewidth": 0,
              "ticks": ""
             }
            },
            "type": "scatterpolar"
           }
          ],
          "scatterpolargl": [
           {
            "marker": {
             "colorbar": {
              "outlinewidth": 0,
              "ticks": ""
             }
            },
            "type": "scatterpolargl"
           }
          ],
          "scatterternary": [
           {
            "marker": {
             "colorbar": {
              "outlinewidth": 0,
              "ticks": ""
             }
            },
            "type": "scatterternary"
           }
          ],
          "surface": [
           {
            "colorbar": {
             "outlinewidth": 0,
             "ticks": ""
            },
            "colorscale": [
             [
              0,
              "#0d0887"
             ],
             [
              0.1111111111111111,
              "#46039f"
             ],
             [
              0.2222222222222222,
              "#7201a8"
             ],
             [
              0.3333333333333333,
              "#9c179e"
             ],
             [
              0.4444444444444444,
              "#bd3786"
             ],
             [
              0.5555555555555556,
              "#d8576b"
             ],
             [
              0.6666666666666666,
              "#ed7953"
             ],
             [
              0.7777777777777778,
              "#fb9f3a"
             ],
             [
              0.8888888888888888,
              "#fdca26"
             ],
             [
              1,
              "#f0f921"
             ]
            ],
            "type": "surface"
           }
          ],
          "table": [
           {
            "cells": {
             "fill": {
              "color": "#EBF0F8"
             },
             "line": {
              "color": "white"
             }
            },
            "header": {
             "fill": {
              "color": "#C8D4E3"
             },
             "line": {
              "color": "white"
             }
            },
            "type": "table"
           }
          ]
         },
         "layout": {
          "annotationdefaults": {
           "arrowcolor": "#2a3f5f",
           "arrowhead": 0,
           "arrowwidth": 1
          },
          "autotypenumbers": "strict",
          "coloraxis": {
           "colorbar": {
            "outlinewidth": 0,
            "ticks": ""
           }
          },
          "colorscale": {
           "diverging": [
            [
             0,
             "#8e0152"
            ],
            [
             0.1,
             "#c51b7d"
            ],
            [
             0.2,
             "#de77ae"
            ],
            [
             0.3,
             "#f1b6da"
            ],
            [
             0.4,
             "#fde0ef"
            ],
            [
             0.5,
             "#f7f7f7"
            ],
            [
             0.6,
             "#e6f5d0"
            ],
            [
             0.7,
             "#b8e186"
            ],
            [
             0.8,
             "#7fbc41"
            ],
            [
             0.9,
             "#4d9221"
            ],
            [
             1,
             "#276419"
            ]
           ],
           "sequential": [
            [
             0,
             "#0d0887"
            ],
            [
             0.1111111111111111,
             "#46039f"
            ],
            [
             0.2222222222222222,
             "#7201a8"
            ],
            [
             0.3333333333333333,
             "#9c179e"
            ],
            [
             0.4444444444444444,
             "#bd3786"
            ],
            [
             0.5555555555555556,
             "#d8576b"
            ],
            [
             0.6666666666666666,
             "#ed7953"
            ],
            [
             0.7777777777777778,
             "#fb9f3a"
            ],
            [
             0.8888888888888888,
             "#fdca26"
            ],
            [
             1,
             "#f0f921"
            ]
           ],
           "sequentialminus": [
            [
             0,
             "#0d0887"
            ],
            [
             0.1111111111111111,
             "#46039f"
            ],
            [
             0.2222222222222222,
             "#7201a8"
            ],
            [
             0.3333333333333333,
             "#9c179e"
            ],
            [
             0.4444444444444444,
             "#bd3786"
            ],
            [
             0.5555555555555556,
             "#d8576b"
            ],
            [
             0.6666666666666666,
             "#ed7953"
            ],
            [
             0.7777777777777778,
             "#fb9f3a"
            ],
            [
             0.8888888888888888,
             "#fdca26"
            ],
            [
             1,
             "#f0f921"
            ]
           ]
          },
          "colorway": [
           "#636efa",
           "#EF553B",
           "#00cc96",
           "#ab63fa",
           "#FFA15A",
           "#19d3f3",
           "#FF6692",
           "#B6E880",
           "#FF97FF",
           "#FECB52"
          ],
          "font": {
           "color": "#2a3f5f"
          },
          "geo": {
           "bgcolor": "white",
           "lakecolor": "white",
           "landcolor": "#E5ECF6",
           "showlakes": true,
           "showland": true,
           "subunitcolor": "white"
          },
          "hoverlabel": {
           "align": "left"
          },
          "hovermode": "closest",
          "mapbox": {
           "style": "light"
          },
          "paper_bgcolor": "white",
          "plot_bgcolor": "#E5ECF6",
          "polar": {
           "angularaxis": {
            "gridcolor": "white",
            "linecolor": "white",
            "ticks": ""
           },
           "bgcolor": "#E5ECF6",
           "radialaxis": {
            "gridcolor": "white",
            "linecolor": "white",
            "ticks": ""
           }
          },
          "scene": {
           "xaxis": {
            "backgroundcolor": "#E5ECF6",
            "gridcolor": "white",
            "gridwidth": 2,
            "linecolor": "white",
            "showbackground": true,
            "ticks": "",
            "zerolinecolor": "white"
           },
           "yaxis": {
            "backgroundcolor": "#E5ECF6",
            "gridcolor": "white",
            "gridwidth": 2,
            "linecolor": "white",
            "showbackground": true,
            "ticks": "",
            "zerolinecolor": "white"
           },
           "zaxis": {
            "backgroundcolor": "#E5ECF6",
            "gridcolor": "white",
            "gridwidth": 2,
            "linecolor": "white",
            "showbackground": true,
            "ticks": "",
            "zerolinecolor": "white"
           }
          },
          "shapedefaults": {
           "line": {
            "color": "#2a3f5f"
           }
          },
          "ternary": {
           "aaxis": {
            "gridcolor": "white",
            "linecolor": "white",
            "ticks": ""
           },
           "baxis": {
            "gridcolor": "white",
            "linecolor": "white",
            "ticks": ""
           },
           "bgcolor": "#E5ECF6",
           "caxis": {
            "gridcolor": "white",
            "linecolor": "white",
            "ticks": ""
           }
          },
          "title": {
           "x": 0.05
          },
          "xaxis": {
           "automargin": true,
           "gridcolor": "white",
           "linecolor": "white",
           "ticks": "",
           "title": {
            "standoff": 15
           },
           "zerolinecolor": "white",
           "zerolinewidth": 2
          },
          "yaxis": {
           "automargin": true,
           "gridcolor": "white",
           "linecolor": "white",
           "ticks": "",
           "title": {
            "standoff": 15
           },
           "zerolinecolor": "white",
           "zerolinewidth": 2
          }
         }
        },
        "title": {
         "text": "Top 10 Genres by Average Rating"
        },
        "width": 900,
        "xaxis": {
         "tickangle": -45,
         "title": {
          "text": "Genre"
         }
        },
        "yaxis": {
         "title": {
          "text": "Average Rating"
         }
        }
       }
      }
     },
     "metadata": {},
     "output_type": "display_data"
    },
    {
     "data": {
      "application/vnd.plotly.v1+json": {
       "config": {
        "plotlyServerURL": "https://plot.ly"
       },
       "data": [
        {
         "customdata": {
          "bdata": "IBkpNkBPFUFYJg==",
          "dtype": "i1"
         },
         "hovertemplate": "Genre: %{x}<br>Average followers: %{y:,.2f}<br>Number of stories: %{customdata}<br>",
         "text": {
          "bdata": "PQrXo/BbqkCkcD0K14mpQI/C9SjcC6hAhetRuB5Ep0AK16NwPbimQOxRuB4FLqRA9ihcj8KGo0AK16NwPYKjQDMzMzMzeqNA4XoUrsdyo0A=",
          "dtype": "f8"
         },
         "textposition": "auto",
         "type": "bar",
         "x": [
          "GameLit",
          "Dungeon",
          "Portal Fantasy / Isekai",
          "High Fantasy",
          "LitRPG",
          "Magic",
          "Xianxia",
          "Strong Lead",
          "Progression",
          "Reincarnation"
         ],
         "y": {
          "bdata": "AAAAAPBbqkCkcD0K14mpQJaoXYnaC6hAchzHcRxEp0AAAAAAQLimQESlI3sGLqRADMMwDMOGo0AEP/ADP4KjQNFFF100eqNAvYbyGspyo0A=",
          "dtype": "f8"
         }
        }
       ],
       "layout": {
        "font": {
         "size": 14
        },
        "height": 600,
        "margin": {
         "b": 100
        },
        "template": {
         "data": {
          "bar": [
           {
            "error_x": {
             "color": "#2a3f5f"
            },
            "error_y": {
             "color": "#2a3f5f"
            },
            "marker": {
             "line": {
              "color": "#E5ECF6",
              "width": 0.5
             },
             "pattern": {
              "fillmode": "overlay",
              "size": 10,
              "solidity": 0.2
             }
            },
            "type": "bar"
           }
          ],
          "barpolar": [
           {
            "marker": {
             "line": {
              "color": "#E5ECF6",
              "width": 0.5
             },
             "pattern": {
              "fillmode": "overlay",
              "size": 10,
              "solidity": 0.2
             }
            },
            "type": "barpolar"
           }
          ],
          "carpet": [
           {
            "aaxis": {
             "endlinecolor": "#2a3f5f",
             "gridcolor": "white",
             "linecolor": "white",
             "minorgridcolor": "white",
             "startlinecolor": "#2a3f5f"
            },
            "baxis": {
             "endlinecolor": "#2a3f5f",
             "gridcolor": "white",
             "linecolor": "white",
             "minorgridcolor": "white",
             "startlinecolor": "#2a3f5f"
            },
            "type": "carpet"
           }
          ],
          "choropleth": [
           {
            "colorbar": {
             "outlinewidth": 0,
             "ticks": ""
            },
            "type": "choropleth"
           }
          ],
          "contour": [
           {
            "colorbar": {
             "outlinewidth": 0,
             "ticks": ""
            },
            "colorscale": [
             [
              0,
              "#0d0887"
             ],
             [
              0.1111111111111111,
              "#46039f"
             ],
             [
              0.2222222222222222,
              "#7201a8"
             ],
             [
              0.3333333333333333,
              "#9c179e"
             ],
             [
              0.4444444444444444,
              "#bd3786"
             ],
             [
              0.5555555555555556,
              "#d8576b"
             ],
             [
              0.6666666666666666,
              "#ed7953"
             ],
             [
              0.7777777777777778,
              "#fb9f3a"
             ],
             [
              0.8888888888888888,
              "#fdca26"
             ],
             [
              1,
              "#f0f921"
             ]
            ],
            "type": "contour"
           }
          ],
          "contourcarpet": [
           {
            "colorbar": {
             "outlinewidth": 0,
             "ticks": ""
            },
            "type": "contourcarpet"
           }
          ],
          "heatmap": [
           {
            "colorbar": {
             "outlinewidth": 0,
             "ticks": ""
            },
            "colorscale": [
             [
              0,
              "#0d0887"
             ],
             [
              0.1111111111111111,
              "#46039f"
             ],
             [
              0.2222222222222222,
              "#7201a8"
             ],
             [
              0.3333333333333333,
              "#9c179e"
             ],
             [
              0.4444444444444444,
              "#bd3786"
             ],
             [
              0.5555555555555556,
              "#d8576b"
             ],
             [
              0.6666666666666666,
              "#ed7953"
             ],
             [
              0.7777777777777778,
              "#fb9f3a"
             ],
             [
              0.8888888888888888,
              "#fdca26"
             ],
             [
              1,
              "#f0f921"
             ]
            ],
            "type": "heatmap"
           }
          ],
          "histogram": [
           {
            "marker": {
             "pattern": {
              "fillmode": "overlay",
              "size": 10,
              "solidity": 0.2
             }
            },
            "type": "histogram"
           }
          ],
          "histogram2d": [
           {
            "colorbar": {
             "outlinewidth": 0,
             "ticks": ""
            },
            "colorscale": [
             [
              0,
              "#0d0887"
             ],
             [
              0.1111111111111111,
              "#46039f"
             ],
             [
              0.2222222222222222,
              "#7201a8"
             ],
             [
              0.3333333333333333,
              "#9c179e"
             ],
             [
              0.4444444444444444,
              "#bd3786"
             ],
             [
              0.5555555555555556,
              "#d8576b"
             ],
             [
              0.6666666666666666,
              "#ed7953"
             ],
             [
              0.7777777777777778,
              "#fb9f3a"
             ],
             [
              0.8888888888888888,
              "#fdca26"
             ],
             [
              1,
              "#f0f921"
             ]
            ],
            "type": "histogram2d"
           }
          ],
          "histogram2dcontour": [
           {
            "colorbar": {
             "outlinewidth": 0,
             "ticks": ""
            },
            "colorscale": [
             [
              0,
              "#0d0887"
             ],
             [
              0.1111111111111111,
              "#46039f"
             ],
             [
              0.2222222222222222,
              "#7201a8"
             ],
             [
              0.3333333333333333,
              "#9c179e"
             ],
             [
              0.4444444444444444,
              "#bd3786"
             ],
             [
              0.5555555555555556,
              "#d8576b"
             ],
             [
              0.6666666666666666,
              "#ed7953"
             ],
             [
              0.7777777777777778,
              "#fb9f3a"
             ],
             [
              0.8888888888888888,
              "#fdca26"
             ],
             [
              1,
              "#f0f921"
             ]
            ],
            "type": "histogram2dcontour"
           }
          ],
          "mesh3d": [
           {
            "colorbar": {
             "outlinewidth": 0,
             "ticks": ""
            },
            "type": "mesh3d"
           }
          ],
          "parcoords": [
           {
            "line": {
             "colorbar": {
              "outlinewidth": 0,
              "ticks": ""
             }
            },
            "type": "parcoords"
           }
          ],
          "pie": [
           {
            "automargin": true,
            "type": "pie"
           }
          ],
          "scatter": [
           {
            "fillpattern": {
             "fillmode": "overlay",
             "size": 10,
             "solidity": 0.2
            },
            "type": "scatter"
           }
          ],
          "scatter3d": [
           {
            "line": {
             "colorbar": {
              "outlinewidth": 0,
              "ticks": ""
             }
            },
            "marker": {
             "colorbar": {
              "outlinewidth": 0,
              "ticks": ""
             }
            },
            "type": "scatter3d"
           }
          ],
          "scattercarpet": [
           {
            "marker": {
             "colorbar": {
              "outlinewidth": 0,
              "ticks": ""
             }
            },
            "type": "scattercarpet"
           }
          ],
          "scattergeo": [
           {
            "marker": {
             "colorbar": {
              "outlinewidth": 0,
              "ticks": ""
             }
            },
            "type": "scattergeo"
           }
          ],
          "scattergl": [
           {
            "marker": {
             "colorbar": {
              "outlinewidth": 0,
              "ticks": ""
             }
            },
            "type": "scattergl"
           }
          ],
          "scattermap": [
           {
            "marker": {
             "colorbar": {
              "outlinewidth": 0,
              "ticks": ""
             }
            },
            "type": "scattermap"
           }
          ],
          "scattermapbox": [
           {
            "marker": {
             "colorbar": {
              "outlinewidth": 0,
              "ticks": ""
             }
            },
            "type": "scattermapbox"
           }
          ],
          "scatterpolar": [
           {
            "marker": {
             "colorbar": {
              "outlinewidth": 0,
              "ticks": ""
             }
            },
            "type": "scatterpolar"
           }
          ],
          "scatterpolargl": [
           {
            "marker": {
             "colorbar": {
              "outlinewidth": 0,
              "ticks": ""
             }
            },
            "type": "scatterpolargl"
           }
          ],
          "scatterternary": [
           {
            "marker": {
             "colorbar": {
              "outlinewidth": 0,
              "ticks": ""
             }
            },
            "type": "scatterternary"
           }
          ],
          "surface": [
           {
            "colorbar": {
             "outlinewidth": 0,
             "ticks": ""
            },
            "colorscale": [
             [
              0,
              "#0d0887"
             ],
             [
              0.1111111111111111,
              "#46039f"
             ],
             [
              0.2222222222222222,
              "#7201a8"
             ],
             [
              0.3333333333333333,
              "#9c179e"
             ],
             [
              0.4444444444444444,
              "#bd3786"
             ],
             [
              0.5555555555555556,
              "#d8576b"
             ],
             [
              0.6666666666666666,
              "#ed7953"
             ],
             [
              0.7777777777777778,
              "#fb9f3a"
             ],
             [
              0.8888888888888888,
              "#fdca26"
             ],
             [
              1,
              "#f0f921"
             ]
            ],
            "type": "surface"
           }
          ],
          "table": [
           {
            "cells": {
             "fill": {
              "color": "#EBF0F8"
             },
             "line": {
              "color": "white"
             }
            },
            "header": {
             "fill": {
              "color": "#C8D4E3"
             },
             "line": {
              "color": "white"
             }
            },
            "type": "table"
           }
          ]
         },
         "layout": {
          "annotationdefaults": {
           "arrowcolor": "#2a3f5f",
           "arrowhead": 0,
           "arrowwidth": 1
          },
          "autotypenumbers": "strict",
          "coloraxis": {
           "colorbar": {
            "outlinewidth": 0,
            "ticks": ""
           }
          },
          "colorscale": {
           "diverging": [
            [
             0,
             "#8e0152"
            ],
            [
             0.1,
             "#c51b7d"
            ],
            [
             0.2,
             "#de77ae"
            ],
            [
             0.3,
             "#f1b6da"
            ],
            [
             0.4,
             "#fde0ef"
            ],
            [
             0.5,
             "#f7f7f7"
            ],
            [
             0.6,
             "#e6f5d0"
            ],
            [
             0.7,
             "#b8e186"
            ],
            [
             0.8,
             "#7fbc41"
            ],
            [
             0.9,
             "#4d9221"
            ],
            [
             1,
             "#276419"
            ]
           ],
           "sequential": [
            [
             0,
             "#0d0887"
            ],
            [
             0.1111111111111111,
             "#46039f"
            ],
            [
             0.2222222222222222,
             "#7201a8"
            ],
            [
             0.3333333333333333,
             "#9c179e"
            ],
            [
             0.4444444444444444,
             "#bd3786"
            ],
            [
             0.5555555555555556,
             "#d8576b"
            ],
            [
             0.6666666666666666,
             "#ed7953"
            ],
            [
             0.7777777777777778,
             "#fb9f3a"
            ],
            [
             0.8888888888888888,
             "#fdca26"
            ],
            [
             1,
             "#f0f921"
            ]
           ],
           "sequentialminus": [
            [
             0,
             "#0d0887"
            ],
            [
             0.1111111111111111,
             "#46039f"
            ],
            [
             0.2222222222222222,
             "#7201a8"
            ],
            [
             0.3333333333333333,
             "#9c179e"
            ],
            [
             0.4444444444444444,
             "#bd3786"
            ],
            [
             0.5555555555555556,
             "#d8576b"
            ],
            [
             0.6666666666666666,
             "#ed7953"
            ],
            [
             0.7777777777777778,
             "#fb9f3a"
            ],
            [
             0.8888888888888888,
             "#fdca26"
            ],
            [
             1,
             "#f0f921"
            ]
           ]
          },
          "colorway": [
           "#636efa",
           "#EF553B",
           "#00cc96",
           "#ab63fa",
           "#FFA15A",
           "#19d3f3",
           "#FF6692",
           "#B6E880",
           "#FF97FF",
           "#FECB52"
          ],
          "font": {
           "color": "#2a3f5f"
          },
          "geo": {
           "bgcolor": "white",
           "lakecolor": "white",
           "landcolor": "#E5ECF6",
           "showlakes": true,
           "showland": true,
           "subunitcolor": "white"
          },
          "hoverlabel": {
           "align": "left"
          },
          "hovermode": "closest",
          "mapbox": {
           "style": "light"
          },
          "paper_bgcolor": "white",
          "plot_bgcolor": "#E5ECF6",
          "polar": {
           "angularaxis": {
            "gridcolor": "white",
            "linecolor": "white",
            "ticks": ""
           },
           "bgcolor": "#E5ECF6",
           "radialaxis": {
            "gridcolor": "white",
            "linecolor": "white",
            "ticks": ""
           }
          },
          "scene": {
           "xaxis": {
            "backgroundcolor": "#E5ECF6",
            "gridcolor": "white",
            "gridwidth": 2,
            "linecolor": "white",
            "showbackground": true,
            "ticks": "",
            "zerolinecolor": "white"
           },
           "yaxis": {
            "backgroundcolor": "#E5ECF6",
            "gridcolor": "white",
            "gridwidth": 2,
            "linecolor": "white",
            "showbackground": true,
            "ticks": "",
            "zerolinecolor": "white"
           },
           "zaxis": {
            "backgroundcolor": "#E5ECF6",
            "gridcolor": "white",
            "gridwidth": 2,
            "linecolor": "white",
            "showbackground": true,
            "ticks": "",
            "zerolinecolor": "white"
           }
          },
          "shapedefaults": {
           "line": {
            "color": "#2a3f5f"
           }
          },
          "ternary": {
           "aaxis": {
            "gridcolor": "white",
            "linecolor": "white",
            "ticks": ""
           },
           "baxis": {
            "gridcolor": "white",
            "linecolor": "white",
            "ticks": ""
           },
           "bgcolor": "#E5ECF6",
           "caxis": {
            "gridcolor": "white",
            "linecolor": "white",
            "ticks": ""
           }
          },
          "title": {
           "x": 0.05
          },
          "xaxis": {
           "automargin": true,
           "gridcolor": "white",
           "linecolor": "white",
           "ticks": "",
           "title": {
            "standoff": 15
           },
           "zerolinecolor": "white",
           "zerolinewidth": 2
          },
          "yaxis": {
           "automargin": true,
           "gridcolor": "white",
           "linecolor": "white",
           "ticks": "",
           "title": {
            "standoff": 15
           },
           "zerolinecolor": "white",
           "zerolinewidth": 2
          }
         }
        },
        "title": {
         "text": "Top 10 Genres by Average Followers"
        },
        "width": 900,
        "xaxis": {
         "tickangle": -45,
         "title": {
          "text": "Genre"
         }
        },
        "yaxis": {
         "title": {
          "text": "Average Followers"
         },
         "type": "log"
        }
       }
      }
     },
     "metadata": {},
     "output_type": "display_data"
    }
   ],
   "source": [
    "# Get genre distribution (handling null values)\n",
    "genres = df['genre'].fillna('Unknown').str.split(',').explode().str.strip()\n",
    "genre_counts = genres.value_counts()\n",
    "\n",
    "# Create bar chart of genre distribution\n",
    "fig = go.Figure(data=[\n",
    "    go.Bar(\n",
    "        x=genre_counts.head(10).index, \n",
    "        y=genre_counts.head(10).values,\n",
    "        text=genre_counts.head(10).values,\n",
    "        textposition='auto'\n",
    "    )\n",
    "])\n",
    "\n",
    "fig.update_layout(\n",
    "    title='Top 10 Most Common Genres',\n",
    "    xaxis_title='Genre',\n",
    "    yaxis_title='Number of Stories',\n",
    "    xaxis_tickangle=-45,\n",
    "    height=600,\n",
    "    width=900,\n",
    "    font=dict(size=14),\n",
    "    margin=dict(b=100)  # Add more margin at the bottom for rotated labels\n",
    ")\n",
    "fig.show()\n",
    "\n",
    "# Calculate and display genre performance metrics\n",
    "for metric in ['views', 'rating', 'followers']:\n",
    "    # Create a list to store data for each story-genre pair\n",
    "    story_genre_data = []\n",
    "    \n",
    "    # Process each row (story) individually\n",
    "    for _, row in df.dropna(subset=['genre', metric]).iterrows():\n",
    "        if pd.isna(row['genre']) or not row['genre']:\n",
    "            continue\n",
    "            \n",
    "        # Split the genres string into a list\n",
    "        genres = row['genre'].split(',')\n",
    "        \n",
    "        # Add each genre-story pair to our data\n",
    "        for genre in genres:\n",
    "            genre = genre.strip()\n",
    "            if genre:  # Skip empty strings\n",
    "                story_genre_data.append({\n",
    "                    'story_id': row['id'],\n",
    "                    'genre': genre,\n",
    "                    metric: row[metric]\n",
    "                })\n",
    "    \n",
    "    # Create a DataFrame from our list\n",
    "    genre_df = pd.DataFrame(story_genre_data)\n",
    "    \n",
    "    # Calculate average and count for each genre\n",
    "    genre_stats = genre_df.groupby('genre').agg({metric: ['mean', 'count']})\n",
    "    genre_stats.columns = genre_stats.columns.droplevel(0)  # Flatten multi-index\n",
    "    \n",
    "    # Filter for genres with at least 5 stories\n",
    "    genre_stats = genre_stats[genre_stats['count'] >= 5]\n",
    "    \n",
    "    # Sort by mean and get top 10\n",
    "    top_genres = genre_stats.nlargest(10, 'mean').reset_index()\n",
    "    \n",
    "    # Create bar chart\n",
    "    fig = go.Figure(data=[\n",
    "        go.Bar(\n",
    "            x=top_genres['genre'],\n",
    "            y=top_genres['mean'],\n",
    "            text=np.round(top_genres['mean'], 2),\n",
    "            textposition='auto',\n",
    "            customdata=top_genres['count'],\n",
    "            hovertemplate='Genre: %{x}<br>' +\n",
    "                         f'Average {metric}: %{{y:,.2f}}<br>' +\n",
    "                         'Number of stories: %{customdata}<br>'\n",
    "        )\n",
    "    ])\n",
    "    \n",
    "    fig.update_layout(\n",
    "        title=f'Top 10 Genres by Average {metric.capitalize()}',\n",
    "        xaxis_title='Genre',\n",
    "        yaxis_title=f'Average {metric.capitalize()}',\n",
    "        xaxis_tickangle=-45,\n",
    "        height=600,\n",
    "        width=900,\n",
    "        font=dict(size=14),\n",
    "        margin=dict(b=100)\n",
    "    )\n",
    "    \n",
    "    # Use log scale for views and followers\n",
    "    if metric in ['views', 'followers']:\n",
    "        fig.update_yaxes(type='log')\n",
    "    \n",
    "    fig.show()"
   ]
  },
  {
   "cell_type": "markdown",
   "id": "8ffd600d",
   "metadata": {},
   "source": [
    "## Story Length Analysis\n",
    "\n",
    "Let's examine the relationship between story length (number of chapters and pages) and other metrics to understand how content volume affects story performance."
   ]
  },
  {
   "cell_type": "code",
   "execution_count": 16,
   "id": "945e82af",
   "metadata": {},
   "outputs": [
    {
     "data": {
      "application/vnd.plotly.v1+json": {
       "config": {
        "plotlyServerURL": "https://plot.ly"
       },
       "data": [
        {
         "marker": {
          "opacity": 0.5,
          "size": 5
         },
         "mode": "markers",
         "name": "views vs chapters",
         "type": "scatter",
         "x": {
          "bdata": "AAAAAAAwc0AAAAAAACBhQAAAAAAAUHtAAAAAAAAAHEAAAAAAAABXQAAAAAAAgGNAAAAAAADAWkAAAAAAAEBVQAAAAAAA4G1AAAAAAAAAP0AAAAAAAABSQAAAAAAAgFdAAAAAAABAVkAAAAAAAABZQAAAAAAAADVAAAAAAACAUkAAAAAAAABRQAAAAAAAwGhAAAAAAAAAZUAAAAAAAOBlQAAAAAAAYGtAAAAAAAAAWEAAAAAAACBsQAAAAAAAwFNAAAAAAACgckAAAAAAAPByQAAAAAAAgEtAAAAAAAAAR0AAAAAAAMBbQAAAAAAAwFVAAAAAAACAWUAAAAAAAEiHQAAAAAAAQG9AAAAAAAAAX0AAAAAAAMBSQAAAAAAAIGVAAAAAAABAW0AAAAAAAEBiQAAAAAAA4GJAAAAAAACAUEAAAAAAAAA4QAAAAAAAADpAAAAAAADAUEAAAAAAAABRQAAAAAAAAExAAAAAAAAAMEAAAAAAACBjQAAAAAAAgFBAAAAAAABgY0AAAAAAAGBjQAAAAAAAQHhAAAAAAABAVUAAAAAAAEBUQAAAAAAAwFVAAAAAAABgY0AAAAAAADB7QAAAAAAAgGpAAAAAAABggUAAAAAAACBoQAAAAAAAAE9AAAAAAABAUUAAAAAAAHCGQAAAAAAAAGxAAAAAAAAAU0AAAAAAAIBOQAAAAAAAEIFAAAAAAAC4iUAAAAAAAIBhQAAAAAAAUHBAAAAAAAAwckAAAAAAAMBaQAAAAAAAgExAAAAAAABgbkAAAAAAAIBSQAAAAAAAgExAAAAAAAAAQEAAAAAAAAAqQAAAAAAAAElAAAAAAABAWEAAAAAAABBwQAAAAAAAYGJAAAAAAABAgkAAAAAAAABSQAAAAAAAgEtAAAAAAADAX0AAAAAAAAA/QAAAAAAAgEZAAAAAAAAAa0AAAAAAAAA/QAAAAAAAAEpAAAAAAADAY0AAAAAAAIBRQAAAAAAAAExAAAAAAACAXEAAAAAAAABQQAAAAAAAgE5AAAAAAAAAUUAAAAAAACBsQAAAAAAAAF1AAAAAAADAYkAAAAAAACBjQAAAAAAAAGJAAAAAAAAAMEAAAAAAAIBDQAAAAAAAAEdAAAAAAACAUkAAAAAAAIBNQAAAAAAAQFhAAAAAAABgYUAAAAAAAABPQAAAAAAAQGpAAAAAAACAY0AAAAAAAEBUQAAAAAAAwG1AAAAAAADgZUAAAAAAAABJQAAAAAAAgGVAAAAAAAAAPUAAAAAAAABAQA==",
          "dtype": "f8"
         },
         "xaxis": "x",
         "y": {
          "bdata": "+ikFAG6ZAAA+JkIARQkAAKZuDwDdhDIAoxoSADSdDQCQWBMA86sFAObsCQCmxwkAyMoIACbKCQAH5gIAg0MFAGgTCQCTUCkAhvkdAKT5MQAQRgkAjIQMAFxiIADE1AcAHBoZAOwIIADM/AUAmuAFAFM9BQBmrQgAaDs2AFPWSwCflQ4A1kIYAO73BQC68hgA+D0AAICOAAB4owIAUTYAAFgcAAC1tgAA+IoDAIdyAAAcOQAArhQAANKaAQCMJAAA9WgBAJxHAQACPx4A1oAAABlpAADjVgAAd2gMAFHyBgBaDQEAyIcGAO11BADQIQAAb0kAANu3CgCJiwIAWVMAAE9YAgDFoRIA5EQxAE1HAABQ/QsAw34hAC6+BQC6rAAAeMceABUIBABrNgAA/agAAJMVAADoqQAALZYBABopAwDeNQMARVAEAD8uBQC7TgAADWIAANkKAAARvAAAMpoAAFQXAABVLAMAOdUAAPbmAQDpAQIACUsAAHVoAAAFRAAAbCIDAC+wAwC7tgEAyecGAO0cAQCfJRAA+E0AAA4MAAChcgAAiM0GABPzAACn3wAA0sgCAJ3RAAC08xsA+XMFAIe3AADckBgAUSwDAJgjCQByFQIA2GQAABwoAAA=",
          "dtype": "i4"
         },
         "yaxis": "y"
        },
        {
         "line": {
          "color": "red"
         },
         "mode": "lines",
         "name": "Trend views vs chapters",
         "type": "scatter",
         "x": {
          "bdata": "AAAAAAAAHEB88MEHH3wuQHzwwQcffDdAuuiiiy66P0B88MEHH/xDQJtssskmG0hAuuiiiy46TEBssskmmyxQQHzwwQcfPFJAjC666KJLVECbbLLJJltWQKqqqqqqalhAuuiiiy56WkDKJptssolcQNlkk002mV5AdNFFF11UYEB88MEHH1xhQIQPPvjgY2JAjC666KJrY0CTTTbZZHNkQJtssskme2VAo4suuuiCZkCqqqqqqopnQLLJJptskmhAuuiiiy6aaUDCBx988KFqQMomm2yyqWtA0UUXXXSxbEDZZJNNNrltQOGDDz74wG5A6KKLLrrIb0D44IMPPmhwQHzwwQcf7HBAAAAAAABwcUCEDz744PNxQAgffPDBd3JAjC666KL7ckAPPvjgg39zQJNNNtlkA3RAF1100UWHdECbbLLJJgt1QB988MEHj3VAo4suuugSdkAnm2yyyZZ2QKqqqqqqGndALrroooued0CyySabbCJ4QDbZZJNNpnhAuuiiiy4qeUA++OCDD655QMIHH3zwMXpARhdddNG1ekDKJptssjl7QE022WSTvXtA0UUXXXRBfEBVVVVVVcV8QNlkk002SX1AXXTRRRfNfUDhgw8++FB+QGWTTTbZ1H5A6KKLLrpYf0Bssskmm9x/QPjggw8+MIBAuuiiiy5ygEB88MEHH7SAQD744IMP9oBAAAAAAAA4gUDCBx988HmBQIQPPvjgu4FARhdddNH9gUAIH3zwwT+CQMomm2yygYJAjC666KLDgkBNNtlkkwWDQA8++OCDR4NA0UUXXXSJg0CTTTbZZMuDQFVVVVVVDYRAF1100UVPhEDZZJNNNpGEQJtssskm04RAXXTRRRcVhUAffPDBB1eFQOGDDz74mIVAo4suuujahUBlk0022RyGQCebbLLJXoZA6aKLLrqghkCqqqqqquKGQGyyySabJIdALrroootmh0DwwQcffKiHQLLJJpts6odAdNFFF10siEA22WSTTW6IQPjggw8+sIhAuuiiiy7yiEB88MEHHzSJQD744IMPdolAAAAAAAC4iUA=",
          "dtype": "f8"
         },
         "xaxis": "x",
         "y": {
          "bdata": "M4FQ53dX+kBsh5B9Jb4AQUDOeAePUARBEhVhkfjiB0HlW0kbYnULQbiiMaXLBw9BxvSMlxpNEUEuGIFcTxYTQZg7dSGE3xRBAl9p5rioFkFrgl2r7XEYQdSlUXAiOxpBPslFNVcEHEGo7Dn6i80dQREQLr/Alh9BvRkRwvqvIEFyK4sklZQhQSc9BYcveSJB3E5/6cldI0GQYPlLZEIkQUVyc67+JiVB+oPtEJkLJkGulWdzM/AmQWOn4dXN1CdBGLlbOGi5KEHNytWaAp4pQYLcT/2cgipBNu7JXzdnK0Hr/0PC0UssQaARviRsMC1BVCM4hwYVLkEJNbLpoPkuQb5GLEw73i9BOixT12phMEEUNZAIuNMwQe49zTkFRjFByEYKa1K4MUGiT0ecnyoyQXxYhM3snDJBWGHB/jkPM0Eyav4vh4EzQQxzO2HU8zNB5nt4kiFmNEHChLXDbtg0QZqN8vS7SjVBdpYvJgm9NUFQn2xXVi82QSqoqYijoTZBBLHmufATN0HguSPrPYY3QbrCYByL+DdBlMudTdhqOEFu1Np+Jd04QUjdF7ByTzlBIuZU4b/BOUH+7pESDTQ6Qdj3zkNapjpBsgAMdacYO0GMCUmm9Io7QWgShtdB/TtBQBvDCI9vPEEcJAA63OE8QfYsPWspVD1B0DV6nHbGPUGqPrfNwzg+QYZH9P4Qqz5BYFAxMF4dP0E6WW5hq48/QQqxVUn8AEBBeDX04SI6QEHluZJ6SXNAQVI+MRNwrEBBv8LPq5blQEEsR25EvR5BQZnLDN3jV0FBBlCrdQqRQUF01EkOMcpBQeFY6KZXA0JBTt2GP348QkG7YSXYpHVCQSnmw3DLrkJBlmpiCfLnQkED7wCiGCFDQXBznzo/WkNB3fc902WTQ0FLfNxrjMxDQbgAewSzBURBJYUZndk+REGSCbg1AHhEQf+NVs4msURBbBL1Zk3qREHZlpP/cyNFQUcbMpiaXEVBtJ/QMMGVRUEhJG/J585FQY6oDWIOCEZB+yys+jRBRkFpsUqTW3pGQdY16SuCs0ZBQ7qHxKjsRkE=",
          "dtype": "f8"
         },
         "yaxis": "y"
        },
        {
         "marker": {
          "opacity": 0.5,
          "size": 5
         },
         "mode": "markers",
         "name": "rating vs chapters",
         "type": "scatter",
         "x": {
          "bdata": "AAAAAAAwc0AAAAAAACBhQAAAAAAAUHtAAAAAAAAAHEAAAAAAAABXQAAAAAAAgGNAAAAAAADAWkAAAAAAAEBVQAAAAAAA4G1AAAAAAAAAP0AAAAAAAABSQAAAAAAAgFdAAAAAAABAVkAAAAAAANB3QAAAAAAAoH5AAAAAAAAAWUAAAAAAAAA1QAAAAAAAgFJAAAAAAAAAUUAAAAAAAMBoQAAAAAAAAGVAAAAAAADgZUAAAAAAAGBrQAAAAAAAAFhAAAAAAAAgbEAAAAAAAMBTQAAAAAAAoHJAAAAAAADwckAAAAAAAIBLQAAAAAAAAEdAAAAAAADAW0AAAAAAAMBVQAAAAAAAgFlAAAAAAABIh0AAAAAAAEBvQAAAAAAAAF9AAAAAAADAUkAAAAAAACBlQAAAAAAAQFtAAAAAAABAYkAAAAAAAOBiQAAAAAAAgFBAAAAAAAAAOEAAAAAAAAA6QAAAAAAAwFBAAAAAAAAAUUAAAAAAAABMQAAAAAAAADBAAAAAAAAgY0AAAAAAAIBQQAAAAAAAYGNAAAAAAABgY0AAAAAAAEB4QAAAAAAAQFVAAAAAAABAVEAAAAAAAMBVQAAAAAAAYGNAAAAAAAAwe0AAAAAAAIBqQAAAAAAAYIFAAAAAAAAgaEAAAAAAAABPQAAAAAAAQFFAAAAAAABwhkAAAAAAAABsQAAAAAAAAFNAAAAAAACATkAAAAAAABCBQAAAAAAAuIlAAAAAAACAYUAAAAAAAFBwQAAAAAAAMHJAAAAAAADAWkAAAAAAAIBMQAAAAAAAYG5AAAAAAACAUkAAAAAAAIBMQAAAAAAAAEBAAAAAAAAASUAAAAAAAEBYQAAAAAAAEHBAAAAAAABgYkAAAAAAAECCQAAAAAAAAFJAAAAAAACAS0AAAAAAAMBfQAAAAAAAgEZAAAAAAAAAa0AAAAAAAAA/QAAAAAAAAEpAAAAAAADAY0AAAAAAAIBRQAAAAAAAAExAAAAAAACAXEAAAAAAAABQQAAAAAAAgE5AAAAAAAAAUUAAAAAAACBsQAAAAAAAAF1AAAAAAADAYkAAAAAAACBjQAAAAAAAAGJAAAAAAAAAMEAAAAAAAIBDQAAAAAAAAEdAAAAAAACAUkAAAAAAAIBNQAAAAAAAQFhAAAAAAABgYUAAAAAAAABPQAAAAAAAQGpAAAAAAACAY0AAAAAAAEBUQAAAAAAAwG1AAAAAAADgZUAAAAAAAABJQAAAAAAAgGVAAAAAAAAAPUAAAAAAAABAQA==",
          "dtype": "f8"
         },
         "xaxis": "x2",
         "y": {
          "bdata": "cT0K16NwDUA9CtejcD0RQDMzMzMzMxJAexSuR+F6EEBcj8L1KFwSQOF6FK5H4RFAPQrXo3A9EkAzMzMzMzMSQK5H4XoUrhBAhetRuB6FEkBxPQrXo3ASQHsUrkfhehJAw/UoXI/CEUAfhetRuB4SQGZmZmZmZhFAcT0K16NwEkAUrkfhehQSQFK4HoXrURJAXI/C9ShcEkAK16NwPQoSQOF6FK5H4RFAuB6F61G4EUB7FK5H4XoRQBSuR+F6FBJAMzMzMzMzEkBxPQrXo3ARQEjhehSuRxJAcT0K16NwEkBcj8L1KFwSQOF6FK5H4RFASOF6FK5HEUDD9Shcj8IRQDMzMzMzMxJAmpmZmZmZEECkcD0K16MQQNejcD0K1xFA4XoUrkfhEUB7FK5H4XoRQNejcD0K1xFAUrgehetRDkBSuB6F61EMQJqZmZmZmRFAUrgehetRE0DD9Shcj8IRQHsUrkfhehJAhetRuB6FEkCamZmZmZkTQK5H4XoUrhJA9ihcj8L1DEAzMzMzMzMRQClcj8L1KBJAZmZmZmZmE0CamZmZmZkRQPYoXI/C9RJAMzMzMzMzEkDXo3A9CtcRQEjhehSuRxJAZmZmZmZmDkBSuB6F61ETQArXo3A9Cg9AXI/C9ShcEUBSuB6F61ETQArXo3A9ChNAZmZmZmZmEECuR+F6FK4LQD0K16NwPRFA16NwPQrXEkApXI/C9SgSQEjhehSuRxFArkfhehSuEkBcj8L1KFwRQB+F61G4HhFAUrgehetREkBI4XoUrkcTQNejcD0K1xFASOF6FK5HEkBxPQrXo3ATQK5H4XoUrhJAexSuR+F6EkD2KFyPwvUQQD0K16NwPRFAMzMzMzMzEUCkcD0K16MQQHsUrkfhehJAhetRuB6FE0ApXI/C9SgRQGZmZmZmZhJAAAAAAAAAE0BmZmZmZmYSQIXrUbgehRJAKVyPwvUoEkA9CtejcD0SQFK4HoXrURFA7FG4HoXrEUA9CtejcD0TQJqZmZmZmRJAcT0K16NwEUDsUbgehesQQHsUrkfhehFAFK5H4XoUEkAAAAAAAAASQHE9CtejcBJACtejcD0KEUDhehSuR+ESQMP1KFyPwhFAH4XrUbgeEkAUrkfhehQSQPYoXI/C9RJAXI/C9ShcEUAzMzMzMzMTQD0K16NwPRJA9ihcj8L1EUAUrkfhehQSQI/C9ShcjxFA4XoUrkfhEEB7FK5H4XoSQM3MzMzMzBJAhetRuB6FEUCamZmZmZkHQA==",
          "dtype": "f8"
         },
         "yaxis": "y2"
        },
        {
         "line": {
          "color": "red"
         },
         "mode": "lines",
         "name": "Trend rating vs chapters",
         "type": "scatter",
         "x": {
          "bdata": "AAAAAAAAHEB88MEHH3wuQHzwwQcffDdAuuiiiy66P0B88MEHH/xDQJtssskmG0hAuuiiiy46TEBssskmmyxQQHzwwQcfPFJAjC666KJLVECbbLLJJltWQKqqqqqqalhAuuiiiy56WkDKJptssolcQNlkk002mV5AdNFFF11UYEB88MEHH1xhQIQPPvjgY2JAjC666KJrY0CTTTbZZHNkQJtssskme2VAo4suuuiCZkCqqqqqqopnQLLJJptskmhAuuiiiy6aaUDCBx988KFqQMomm2yyqWtA0UUXXXSxbEDZZJNNNrltQOGDDz74wG5A6KKLLrrIb0D44IMPPmhwQHzwwQcf7HBAAAAAAABwcUCEDz744PNxQAgffPDBd3JAjC666KL7ckAPPvjgg39zQJNNNtlkA3RAF1100UWHdECbbLLJJgt1QB988MEHj3VAo4suuugSdkAnm2yyyZZ2QKqqqqqqGndALrroooued0CyySabbCJ4QDbZZJNNpnhAuuiiiy4qeUA++OCDD655QMIHH3zwMXpARhdddNG1ekDKJptssjl7QE022WSTvXtA0UUXXXRBfEBVVVVVVcV8QNlkk002SX1AXXTRRRfNfUDhgw8++FB+QGWTTTbZ1H5A6KKLLrpYf0Bssskmm9x/QPjggw8+MIBAuuiiiy5ygEB88MEHH7SAQD744IMP9oBAAAAAAAA4gUDCBx988HmBQIQPPvjgu4FARhdddNH9gUAIH3zwwT+CQMomm2yygYJAjC666KLDgkBNNtlkkwWDQA8++OCDR4NA0UUXXXSJg0CTTTbZZMuDQFVVVVVVDYRAF1100UVPhEDZZJNNNpGEQJtssskm04RAXXTRRRcVhUAffPDBB1eFQOGDDz74mIVAo4suuujahUBlk0022RyGQCebbLLJXoZA6aKLLrqghkCqqqqqquKGQGyyySabJIdALrroootmh0DwwQcffKiHQLLJJpts6odAdNFFF10siEA22WSTTW6IQPjggw8+sIhAuuiiiy7yiEB88MEHHzSJQD744IMPdolAAAAAAAC4iUA=",
          "dtype": "f8"
         },
         "xaxis": "x2",
         "y": {
          "bdata": "HQmpaT8oEkAA0RasIyMSQOSYhO4HHhJAx2DyMOwYEkCrKGBz0BMSQI7wzbW0DhJAcrg7+JgJEkBWgKk6fQQSQDlIF31h/xFAHRCFv0X6EUAA2PIBKvURQOSfYEQO8BFAx2fOhvLqEUCrLzzJ1uURQI73qQu74BFAcr8XTp/bEUBWh4WQg9YRQDlP89Jn0RFAHRdhFUzMEUAA385XMMcRQOSmPJoUwhFAx26q3Pi8EUCrNhgf3bcRQI7+hWHBshFAcsbzo6WtEUBWjmHmiagRQDlWzyhuoxFAHR49a1KeEUAA5qqtNpkRQOStGPAalBFAx3WGMv+OEUCrPfR044kRQI4FYrfHhBFAcs3P+at/EUBVlT08kHoRQDldq350dRFAHSUZwVhwEUAA7YYDPWsRQOS09EUhZhFAx3xiiAVhEUCrRNDK6VsRQI4MPg3OVhFActSrT7JREUBVnBmSlkwRQDlkh9R6RxFAHSz1Fl9CEUAA9GJZQz0RQOS70JsnOBFAx4M+3gszEUCrS6wg8C0RQI4TGmPUKBFActuHpbgjEUBVo/XnnB4RQDlrYyqBGRFAHTPRbGUUEUAA+z6vSQ8RQOTCrPEtChFAx4oaNBIFEUCrUoh29v8QQI4a9rja+hBAcuJj+771EEBVqtE9o/AQQDlyP4CH6xBAHDqtwmvmEEAAAhsFUOEQQOTJiEc03BBAx5H2iRjXEECrWWTM/NEQQI4h0g7hzBBAcuk/UcXHEEBVsa2TqcIQQDl5G9aNvRBAHEGJGHK4EEAACfdaVrMQQOTQZJ06rhBAx5jS3x6pEECrYEAiA6QQQI4ormTnnhBAcvAbp8uZEEBVuInpr5QQQDmA9yuUjxBAHEhlbniKEEAAENOwXIUQQOTXQPNAgBBAx5+uNSV7EECrZxx4CXYQQI4virrtcBBAcvf3/NFrEEBVv2U/tmYQQDmH04GaYRBAHE9BxH5cEEAAF68GY1cQQOTeHElHUhBAx6aKiytNEECrbvjND0gQQI42ZhD0QhBAcv7TUtg9EEBVxkGVvDgQQDmOr9egMxBAHFYdGoUuEEA=",
          "dtype": "f8"
         },
         "yaxis": "y2"
        },
        {
         "marker": {
          "opacity": 0.5,
          "size": 5
         },
         "mode": "markers",
         "name": "followers vs chapters",
         "type": "scatter",
         "x": {
          "bdata": "AAAAAAAwc0AAAAAAACBhQAAAAAAAUHtAAAAAAAAAHEAAAAAAAABXQAAAAAAAgGNAAAAAAADAWkAAAAAAAEBVQAAAAAAA4G1AAAAAAAAAP0AAAAAAAABSQAAAAAAAgFdAAAAAAABAVkAAAAAAAKB+QAAAAAAAAFlAAAAAAAAANUAAAAAAAIBSQAAAAAAAAFFAAAAAAADAaEAAAAAAAABlQAAAAAAAYGtAAAAAAAAAWEAAAAAAACBsQAAAAAAAwFNAAAAAAACgckAAAAAAAPByQAAAAAAAgEtAAAAAAAAAR0AAAAAAAMBbQAAAAAAAwFVAAAAAAACAWUAAAAAAAEiHQAAAAAAAQG9AAAAAAAAAX0AAAAAAAMBSQAAAAAAAIGVAAAAAAABAW0AAAAAAAEBiQAAAAAAA4GJAAAAAAACAUEAAAAAAAAA4QAAAAAAAADpAAAAAAADAUEAAAAAAAABRQAAAAAAAAExAAAAAAAAAMEAAAAAAACBjQAAAAAAAgFBAAAAAAABgY0AAAAAAAGBjQAAAAAAAQHhAAAAAAABAVUAAAAAAAEBUQAAAAAAAwFVAAAAAAABgY0AAAAAAADB7QAAAAAAAgGpAAAAAAABggUAAAAAAACBoQAAAAAAAAE9AAAAAAABAUUAAAAAAAHCGQAAAAAAAAGxAAAAAAAAAU0AAAAAAAIBOQAAAAAAAEIFAAAAAAAC4iUAAAAAAAIBhQAAAAAAAUHBAAAAAAAAwckAAAAAAAMBaQAAAAAAAgExAAAAAAABgbkAAAAAAAIBSQAAAAAAAgExAAAAAAAAAQEAAAAAAAAAqQAAAAAAAAElAAAAAAABAWEAAAAAAABBwQAAAAAAAYGJAAAAAAABAgkAAAAAAAABSQAAAAAAAgEtAAAAAAADAX0AAAAAAAAA/QAAAAAAAgEZAAAAAAAAAa0AAAAAAAAA/QAAAAAAAAEpAAAAAAADAY0AAAAAAAIBRQAAAAAAAAExAAAAAAACAXEAAAAAAAABQQAAAAAAAgE5AAAAAAAAAUUAAAAAAACBsQAAAAAAAAF1AAAAAAADAYkAAAAAAACBjQAAAAAAAAGJAAAAAAAAAMEAAAAAAAIBDQAAAAAAAAEdAAAAAAACAUkAAAAAAAIBNQAAAAAAAQFhAAAAAAABgYUAAAAAAAABPQAAAAAAAQGpAAAAAAACAY0AAAAAAAEBUQAAAAAAAwG1AAAAAAADgZUAAAAAAAABJQAAAAAAAgGVAAAAAAAAAPUAAAAAAAABAQA==",
          "dtype": "f8"
         },
         "xaxis": "x3",
         "y": {
          "bdata": "+QBGAL8YaAAwGPcjiRrpFTwHCxOaE2sPywpjJ6ENfA5wCJkSXRrVFqcD5BOSDygQlAqID7IOBxHmBXIOgCe6B/UEBhZiDJEWcQAsAFABPgFIAMsCVwe3ACEBYgDvABIAmQCVAA8H3gCVACAAaAiaAFkAJQFzARgARgBeAcYATAAABh0DcgYTAM4HSBMREZkBNRW8ByMA6wEbAZgBlQF9Aa4C1ADPCuMAXwA7ANACawBNAEIHVgCLBFUEgQCBAEwA9gUNBTwD4genAPcMDwIdAI8AdAzFAhUBrQMCAZsUmAeIAK4RFwR0FKoApAFCAQ==",
          "dtype": "i2"
         },
         "yaxis": "y3"
        },
        {
         "line": {
          "color": "red"
         },
         "mode": "lines",
         "name": "Trend followers vs chapters",
         "type": "scatter",
         "x": {
          "bdata": "AAAAAAAAHEB88MEHH3wuQHzwwQcffDdAuuiiiy66P0B88MEHH/xDQJtssskmG0hAuuiiiy46TEBssskmmyxQQHzwwQcfPFJAjC666KJLVECbbLLJJltWQKqqqqqqalhAuuiiiy56WkDKJptssolcQNlkk002mV5AdNFFF11UYEB88MEHH1xhQIQPPvjgY2JAjC666KJrY0CTTTbZZHNkQJtssskme2VAo4suuuiCZkCqqqqqqopnQLLJJptskmhAuuiiiy6aaUDCBx988KFqQMomm2yyqWtA0UUXXXSxbEDZZJNNNrltQOGDDz74wG5A6KKLLrrIb0D44IMPPmhwQHzwwQcf7HBAAAAAAABwcUCEDz744PNxQAgffPDBd3JAjC666KL7ckAPPvjgg39zQJNNNtlkA3RAF1100UWHdECbbLLJJgt1QB988MEHj3VAo4suuugSdkAnm2yyyZZ2QKqqqqqqGndALrroooued0CyySabbCJ4QDbZZJNNpnhAuuiiiy4qeUA++OCDD655QMIHH3zwMXpARhdddNG1ekDKJptssjl7QE022WSTvXtA0UUXXXRBfEBVVVVVVcV8QNlkk002SX1AXXTRRRfNfUDhgw8++FB+QGWTTTbZ1H5A6KKLLrpYf0Bssskmm9x/QPjggw8+MIBAuuiiiy5ygEB88MEHH7SAQD744IMP9oBAAAAAAAA4gUDCBx988HmBQIQPPvjgu4FARhdddNH9gUAIH3zwwT+CQMomm2yygYJAjC666KLDgkBNNtlkkwWDQA8++OCDR4NA0UUXXXSJg0CTTTbZZMuDQFVVVVVVDYRAF1100UVPhEDZZJNNNpGEQJtssskm04RAXXTRRRcVhUAffPDBB1eFQOGDDz74mIVAo4suuujahUBlk0022RyGQCebbLLJXoZA6aKLLrqghkCqqqqqquKGQGyyySabJIdALrroootmh0DwwQcffKiHQLLJJpts6odAdNFFF10siEA22WSTTW6IQPjggw8+sIhAuuiiiy7yiEB88MEHHzSJQD744IMPdolAAAAAAAC4iUA=",
          "dtype": "f8"
         },
         "xaxis": "x3",
         "y": {
          "bdata": "ByNd60Q3m0CrTOX7c2WbQFB2bQyjk5tA9Z/1HNLBm0CZyX0tAfCbQD7zBT4wHpxA4xyOTl9MnECHRhZfjnqcQCxwnm+9qJxA0ZkmgOzWnEB1w66QGwWdQBrtNqFKM51Avha/sXlhnUBjQEfCqI+dQAhqz9LXvZ1ArJNX4wbsnUBRvd/zNRqeQPbmZwRlSJ5AmxDwFJR2nkA/Onglw6SeQORjADby0p5AiI2IRiEBn0AttxBXUC+fQNLgmGd/XZ9AdgoheK6Ln0AbNKmI3bmfQMBdMZkM6J9AssPc1B0LoECE2CBdNSKgQFftZOVMOaBAKQKpbWRQoED8Fu31e2egQM4rMX6TfqBAoEB1BquVoEByVbmOwqygQEVq/Rbaw6BAF39Bn/HaoEDqk4UnCfKgQLyoya8gCaFAjr0NODggoUBg0lHATzehQDPnlUhnTqFABfzZ0H5loUDYEB5ZlnyhQKolYuGtk6FAfDqmacWqoUBOT+rx3MGhQCFkLnr02KFA83hyAgzwoUDGjbaKIweiQJii+hI7HqJAarc+m1I1okA8zIIjakyiQA/hxquBY6JA4fUKNJl6okC0Ck+8sJGiQIYfk0TIqKJAWDTXzN+/okAqSRtV99aiQP1dX90O7qJAz3KjZSYFo0Chh+ftPRyjQHScK3ZVM6NARrFv/mxKo0AYxrOGhGGjQOva9w6ceKNAve87l7OPo0CQBIAfy6ajQGIZxKfivaNANC4IMPrUo0AGQ0y4EeyjQNlXkEApA6RAq2zUyEAapEB9gRhRWDGkQFCWXNlvSKRAIqugYYdfpED0v+TpnnakQMfUKHK2jaRAmels+s2kpEBr/rCC5bukQD4T9Qr90qRAECg5kxTqpEDiPH0bLAGlQLVRwaNDGKVAh2YFLFsvpUBae0m0ckalQCyQjTyKXaVA/qTRxKF0pUDQuRVNuYulQKLOWdXQoqVAdeOdXei5pUBH+OHl/9ClQBoNJm4X6KVA7CFq9i7/pUC+Nq5+RhamQJBL8gZeLaZAY2A2j3VEpkA2dXoXjVumQAiKvp+kcqZA2p4CKLyJpkA=",
          "dtype": "f8"
         },
         "yaxis": "y3"
        },
        {
         "marker": {
          "opacity": 0.5,
          "size": 5
         },
         "mode": "markers",
         "name": "views vs pages",
         "type": "scatter",
         "x": {
          "bdata": "ygdeAk4WKQBpBAUEiAORAjcFOgGoApcD4gEcBNUASAIdA3sGygR5CGsFqwN4B14CUg4aDpgCEgGoAxQCgwOVFc0EagICAncHAQQlBMkA7AMvArsAlgADAvsBNgF3AFgDaAIGBycClA+MAngCVwIKAwoHTgYdDMED/gG6BaIOjArcAZACYA/9BxkIwgsvAssB0QYvAm8C0wCqAOAAFQOOBVgEAgwqAqgC2QWSAcUBXASjAcYB6wITAxoBJgSNAV0CgAGuCaYDtQPaApICiADIABIBiQKuATcBQwO8AWoHpQNDAfwHFgULAZUC+AAeAQ==",
          "dtype": "i2"
         },
         "xaxis": "x4",
         "y": {
          "bdata": "+ikFAG6ZAAA+JkIARQkAAKZuDwDdhDIAoxoSADSdDQCQWBMA86sFAObsCQCmxwkAyMoIACbKCQAH5gIAg0MFAGgTCQCTUCkAhvkdAKT5MQAQRgkAjIQMAFxiIADE1AcAHBoZAOwIIADM/AUAmuAFAFM9BQBmrQgAaDs2AFPWSwCflQ4A1kIYAO73BQC68hgA+D0AAICOAABlGgAAeKMCAFE2AABYHAAAtbYAAPiKAwCHcgAAHDkAAK4UAADSmgEAjCQAAPVoAQCcRwEAAj8eANaAAAAZaQAA41YAAHdoDABR8gYAWg0BAMiHBgDtdQQA0CEAAG9JAADbtwoAiYsCAFlTAABPWAIAxaESAE1HAABQ/QsAw34hAC6+BQC6rAAAeMceABUIBABrNgAA/agAAJMVAADoqQAALZYBABopAwDeNQMARVAEAD8uBQC7TgAADWIAANkKAAARvAAAMpoAAFQXAABVLAMAOdUAAPbmAQDpAQIACUsAAHVoAAAFRAAAbCIDAC+wAwC7tgEAyecGAO0cAQCfJRAA+E0AAA4MAAChcgAAiM0GABPzAACn3wAA0sgCAJ3RAAC08xsA+XMFAIe3AADckBgAUSwDAJgjCQByFQIA2GQAABwoAAA=",
          "dtype": "i4"
         },
         "yaxis": "y4"
        },
        {
         "line": {
          "color": "red"
         },
         "mode": "lines",
         "name": "Trend views vs pages",
         "type": "scatter",
         "x": {
          "bdata": "AAAAAACAREA8Q2LezpBYQDxDYt7OcGNA2WSTTTaZakA8Q2LezuBwQArU+pUCdXRA2WSTTTYJeECo9SsFap17QHeGxLydMX9Ao4suuuhigUAK1PqVAi2DQHIcx3Ec94RA2WSTTTbBhkBBrV8pUIuIQKj1KwVqVYpAED744IMfjEB3hsS8nemNQN7OkJi3s49Ao4suuui+kEDXrxSo9aORQArU+pUCiZJAPvjggw9uk0ByHMdxHFOUQKZArV8pOJVA2WSTTTYdlkANiXk7QwKXQEGtXylQ55dAdNFFF13MmECo9SsFarGZQNwZEvN2lppAED744IN7m0BDYt7OkGCcQHeGxLydRZ1Aq6qqqqoqnkDezpCYtw+fQBLzdobE9J9Ao4suuuhsoEC9nSExb9+gQNevFKj1UaFA8cEHH3zEoUAK1PqVAjeiQCTm7QyJqaJAPvjggw8co0BYCtT6lY6jQHIcx3EcAaRAjC666KJzpECmQK1fKeakQL9SoNavWKVA2WSTTTbLpUDzdobEvD2mQA2JeTtDsKZAJ5tssskip0BBrV8pUJWnQFu/UqDWB6hAdNFFF116qECO4ziO4+yoQKj1KwVqX6lAwgcffPDRqUDcGRLzdkSqQPYrBWr9tqpAED744IMpq0ApUOtXCpyrQENi3s6QDqxAXXTRRReBrEB3hsS8nfOsQJGYtzMkZq1Aq6qqqqrYrUDFvJ0hMUuuQN7OkJi3va5A+OCDDz4wr0AS83aGxKKvQJYCtX6lCrBAo4suuuhDsECwFKj1K32wQL2dITFvtrBAyiabbLLvsEDXrxSo9SixQOQ4juM4YrFA8cEHH3ybsUD9SoFav9SxQArU+pUCDrJAF1100UVHskAk5u0MiYCyQDFvZ0jMubJAPvjggw/zskBLgVq/UiyzQFgK1PqVZbNAZZNNNtmes0ByHMdxHNizQH+lQK1fEbRAjC666KJKtECZtzMk5oO0QKZArV8pvbRAsskmm2z2tEC/UqDWry+1QMzbGRLzaLVA2WSTTTaitUDm7QyJedu1QPN2hsS8FLZAAAAAAABOtkA=",
          "dtype": "f8"
         },
         "xaxis": "x4",
         "y": {
          "bdata": "ZBgF+o5xy8CaBnSK8wHSQLJM9UhX3uhAC0tYZtpd9EDA7zUoiUz8QDjKCfWbHQJBkZz4VfMUBkHrbue2SgwKQUVB1heiAw5BzolivHz9EEH88tlsKPkSQShcUR3U9BRBVMXIzX/wFkGCLkB+K+wYQa6Xty7X5xpB3AAv34LjHEEIaqaPLt8eQZrpDiBtbSBBMJ5K+EJrIUHHUobQGGkiQVwHwqjuZiNB87v9gMRkJEGKcDlZmmIlQSAldTFwYCZBttmwCUZeJ0FNjuzhG1woQeNCKLrxWSlBefdjksdXKkEPrJ9qnVUrQaZg20JzUyxBPRUXG0lRLUHSyVLzHk8uQWl+jsv0TC9BgBnlUWUlMEHL8wI+UKQwQRbOICo7IzFBYqg+FiaiMUGtglwCESEyQfhceu77nzJBRDeY2uYeM0GOEbbG0Z0zQdnr07K8HDRBJMbxnqebNEFwoA+Lkho1Qbt6LXd9mTVBBlVLY2gYNkFSL2lPU5c2QZwJhzs+FjdB5+OkJymVN0EzvsITFBQ4QX6Y4P/+kjhByXL+6+kROUEVTRzY1JA5QWAnOsS/DzpBqgFYsKqOOkH123WclQ07QUG2k4iAjDtBjJCxdGsLPEHXas9gVoo8QSNF7UxBCT1Bbh8LOSyIPUG4+SglFwc+QQTURhEChj5BT65k/ewEP0GaiILp14M/QXMx0GphAUBBmB7f4NZAQEG+C+5WTIBAQeP4/MzBv0BBCeYLQzf/QEEv0xq5rD5BQVTAKS8ifkFBeq04pZe9QUGgmkcbDf1BQcWHVpGCPEJB63RlB/h7QkERYnR9bbtCQTZPg/Pi+kJBXDySaVg6Q0GAKaHfzXlDQaYWsFVDuUNBzAO/y7j4Q0Hx8M1BLjhEQRfe3Lejd0RBPcvrLRm3REFiuPqjjvZEQYilCRoENkVBrpIYkHl1RUHTfycG77RFQflsNnxk9EVBH1pF8tkzRkFER1RoT3NGQWo0Y97EskZBjyFyVDryRkG0DoHKrzFHQdr7j0AlcUdBAOmetpqwR0El1q0sEPBHQUvDvKKFL0hBcbDLGPtuSEE=",
          "dtype": "f8"
         },
         "yaxis": "y4"
        },
        {
         "marker": {
          "opacity": 0.5,
          "size": 5
         },
         "mode": "markers",
         "name": "rating vs pages",
         "type": "scatter",
         "x": {
          "bdata": "ygdeAk4WKQBpBAUEiAORAjcFOgGoApcD4gEfD3IPHATVAEgCHQN7BsoEeQhrBasDeAdeAlIOGg6YAhIBqAMUAoMDlRXNBGoCAgJ3BwEEJQTJAOwDLwK7AJYAAwL7ATYBdwBYA2gCBgcnApQPjAJ4AlcCCgMKB04GHQzBA/4BugWiDowK3AGQAmAP/QcZCMILLwLLAdEGLwJvAtMA4AAVA44FWAQCDCoCqALZBcUBXASjAcYB6wITAxoBJgSNAV0CgAGuCaYDtQPaApICiADIABIBiQKuATcBQwO8AWoHpQNDAfwHFgULAZUC+AAeAQ==",
          "dtype": "i2"
         },
         "xaxis": "x5",
         "y": {
          "bdata": "cT0K16NwDUA9CtejcD0RQDMzMzMzMxJAexSuR+F6EEBcj8L1KFwSQOF6FK5H4RFAPQrXo3A9EkAzMzMzMzMSQK5H4XoUrhBAhetRuB6FEkBxPQrXo3ASQHsUrkfhehJAw/UoXI/CEUAfhetRuB4SQGZmZmZmZhFAcT0K16NwEkAUrkfhehQSQFK4HoXrURJAXI/C9ShcEkAK16NwPQoSQOF6FK5H4RFAuB6F61G4EUB7FK5H4XoRQBSuR+F6FBJAMzMzMzMzEkBxPQrXo3ARQEjhehSuRxJAcT0K16NwEkBcj8L1KFwSQOF6FK5H4RFASOF6FK5HEUDD9Shcj8IRQDMzMzMzMxJAmpmZmZmZEECkcD0K16MQQNejcD0K1xFA4XoUrkfhEUB7FK5H4XoRQNejcD0K1xFAUrgehetRDkApXI/C9SgSQFK4HoXrUQxAmpmZmZmZEUBSuB6F61ETQMP1KFyPwhFAexSuR+F6EkCF61G4HoUSQJqZmZmZmRNArkfhehSuEkD2KFyPwvUMQDMzMzMzMxFAKVyPwvUoEkBmZmZmZmYTQJqZmZmZmRFA9ihcj8L1EkAzMzMzMzMSQNejcD0K1xFASOF6FK5HEkBmZmZmZmYOQFK4HoXrURNACtejcD0KD0Bcj8L1KFwRQFK4HoXrURNACtejcD0KE0BmZmZmZmYQQK5H4XoUrgtAPQrXo3A9EUDXo3A9CtcSQClcj8L1KBJArkfhehSuEkBcj8L1KFwRQB+F61G4HhFAUrgehetREkBI4XoUrkcTQNejcD0K1xFASOF6FK5HEkBxPQrXo3ATQK5H4XoUrhJAexSuR+F6EkD2KFyPwvUQQD0K16NwPRFAMzMzMzMzEUCkcD0K16MQQHsUrkfhehJAhetRuB6FE0ApXI/C9SgRQGZmZmZmZhJAAAAAAAAAE0BmZmZmZmYSQIXrUbgehRJAKVyPwvUoEkA9CtejcD0SQFK4HoXrURFA7FG4HoXrEUA9CtejcD0TQJqZmZmZmRJAcT0K16NwEUDsUbgehesQQHsUrkfhehFAFK5H4XoUEkAAAAAAAAASQHE9CtejcBJACtejcD0KEUDhehSuR+ESQMP1KFyPwhFAH4XrUbgeEkAUrkfhehQSQPYoXI/C9RJAXI/C9ShcEUAzMzMzMzMTQD0K16NwPRJA9ihcj8L1EUAUrkfhehQSQI/C9ShcjxFA4XoUrkfhEEB7FK5H4XoSQM3MzMzMzBJAhetRuB6FEUCamZmZmZkHQA==",
          "dtype": "f8"
         },
         "yaxis": "y5"
        },
        {
         "line": {
          "color": "red"
         },
         "mode": "lines",
         "name": "Trend rating vs pages",
         "type": "scatter",
         "x": {
          "bdata": "AAAAAACAREA8Q2LezpBYQDxDYt7OcGNA2WSTTTaZakA8Q2LezuBwQArU+pUCdXRA2WSTTTYJeECo9SsFap17QHeGxLydMX9Ao4suuuhigUAK1PqVAi2DQHIcx3Ec94RA2WSTTTbBhkBBrV8pUIuIQKj1KwVqVYpAED744IMfjEB3hsS8nemNQN7OkJi3s49Ao4suuui+kEDXrxSo9aORQArU+pUCiZJAPvjggw9uk0ByHMdxHFOUQKZArV8pOJVA2WSTTTYdlkANiXk7QwKXQEGtXylQ55dAdNFFF13MmECo9SsFarGZQNwZEvN2lppAED744IN7m0BDYt7OkGCcQHeGxLydRZ1Aq6qqqqoqnkDezpCYtw+fQBLzdobE9J9Ao4suuuhsoEC9nSExb9+gQNevFKj1UaFA8cEHH3zEoUAK1PqVAjeiQCTm7QyJqaJAPvjggw8co0BYCtT6lY6jQHIcx3EcAaRAjC666KJzpECmQK1fKeakQL9SoNavWKVA2WSTTTbLpUDzdobEvD2mQA2JeTtDsKZAJ5tssskip0BBrV8pUJWnQFu/UqDWB6hAdNFFF116qECO4ziO4+yoQKj1KwVqX6lAwgcffPDRqUDcGRLzdkSqQPYrBWr9tqpAED744IMpq0ApUOtXCpyrQENi3s6QDqxAXXTRRReBrEB3hsS8nfOsQJGYtzMkZq1Aq6qqqqrYrUDFvJ0hMUuuQN7OkJi3va5A+OCDDz4wr0AS83aGxKKvQJYCtX6lCrBAo4suuuhDsECwFKj1K32wQL2dITFvtrBAyiabbLLvsEDXrxSo9SixQOQ4juM4YrFA8cEHH3ybsUD9SoFav9SxQArU+pUCDrJAF1100UVHskAk5u0MiYCyQDFvZ0jMubJAPvjggw/zskBLgVq/UiyzQFgK1PqVZbNAZZNNNtmes0ByHMdxHNizQH+lQK1fEbRAjC666KJKtECZtzMk5oO0QKZArV8pvbRAsskmm2z2tEC/UqDWry+1QMzbGRLzaLVA2WSTTTaitUDm7QyJedu1QPN2hsS8FLZAAAAAAABOtkA=",
          "dtype": "f8"
         },
         "xaxis": "x5",
         "y": {
          "bdata": "5G3NZ9kSEkDI6vxuTg8SQKtnLHbDCxJAj+RbfTgIEkByYYuErQQSQFXeuosiARJAOVvqkpf9EUAc2BmaDPoRQABVSaGB9hFA49F4qPbyEUDHTqiva+8RQKrL17bg6xFAjUgHvlXoEUBxxTbFyuQRQFRCZsw/4RFAOL+V07TdEUAbPMXaKdoRQP649OGe1hFA4jUk6RPTEUDFslPwiM8RQKkvg/f9yxFAjKyy/nLIEUBvKeIF6MQRQFOmEQ1dwRFANiNBFNK9EUAaoHAbR7oRQP0coCK8thFA4ZnPKTGzEUDEFv8wpq8RQKeTLjgbrBFAixBeP5CoEUBujY1GBaURQFIKvU16oRFANYfsVO+dEUAYBBxcZJoRQPyAS2PZlhFA3/16ak6TEUDDeqpxw48RQKb32Xg4jBFAiXQJgK2IEUBt8TiHIoURQFBuaI6XgRFANOuXlQx+EUAXaMecgXoRQPrk9qP2dhFA3mEmq2tzEUDB3lWy4G8RQKVbhblVbBFAiNi0wMpoEUBsVeTHP2URQE/SE8+0YRFAMk9D1ileEUAWzHLdnloRQPlIouQTVxFA3cXR64hTEUDAQgHz/U8RQKO/MPpyTBFAhzxgAehIEUBquY8IXUURQE42vw/SQRFAMbPuFkc+EUAUMB4evDoRQPisTSUxNxFA2yl9LKYzEUC/pqwzGzARQKIj3DqQLBFAhqALQgUpEUBpHTtJeiURQEyaalDvIRFAMBeaV2QeEUATlMle2RoRQPcQ+WVOFxFA2o0obcMTEUC9Clh0OBARQKGHh3utDBFAhAS3giIJEUBogeaJlwURQEv+FZEMAhFALntFmIH+EEAS+HSf9voQQPV0pKZr9xBA2fHTreDzEEC8bgO1VfAQQKDrMrzK7BBAg2hiwz/pEEBm5ZHKtOUQQEpiwdEp4hBALd/w2J7eEEARXCDgE9sQQPTYT+eI1xBA11V/7v3TEEC70q71ctAQQJ5P3vznzBBAgswNBF3JEEBlST0L0sUQQEjGbBJHwhBALEOcGby+EEAPwMsgMbsQQPM8+yemtxBA1rkqLxu0EEA=",
          "dtype": "f8"
         },
         "yaxis": "y5"
        },
        {
         "marker": {
          "opacity": 0.5,
          "size": 5
         },
         "mode": "markers",
         "name": "followers vs pages",
         "type": "scatter",
         "x": {
          "bdata": "ygdeAk4WKQBpBAUEiAORAjcFOgGoApcD4gFyDxwE1QBIAh0DewbKBGsFqwN4B14CUg4aDpgCEgGoAxQCgwOVFc0EagICAncHAQQlBMkA7AMvArsAlgADAvsBNgF3AFgDaAIGBycClA+MAngCVwIKAwoHTgYdDMED/gG6BaIOjArcAZACYA/9BxkIwgsvAssB0QYvAm8C0wCqAOAAFQOOBVgEAgwqAqgC2QWSAcUBXASjAcYB6wITAxoBJgSNAV0CgAGuCaYDtQPaApICiADIABIBiQKuATcBQwO8AWoHpQNDAfwHFgULAZUC+AAeAQ==",
          "dtype": "i2"
         },
         "xaxis": "x6",
         "y": {
          "bdata": "+QBGAL8YaAAwGPcjiRrpFTwHCxOaE2sPywpjJ6ENfA5wCJkSXRrVFqcD5BOSDygQlAqID7IOBxHmBXIOgCe6B/UEBhZiDJEWcQAsAIUAUAE+AUgAywJXB7cAIQFiAO8AEgCZAJUADwfeAJUAIABoCJoAWQAlAXMBGABGAF4BxgBMAAAGHQMTAM4HSBMREZkBNRW8ByMA6wEbAZgBlQF9Aa4C1ADPCuMAXwA7ANACawBNAEIHVgCLBFUEgQCBAEwA9gUNBTwD4genAPcMDwIdAI8AdAzFAhUBrQMCAZsUmAeIAK4RFwR0FKoApAFCAQ==",
          "dtype": "i2"
         },
         "yaxis": "y6"
        },
        {
         "line": {
          "color": "red"
         },
         "mode": "lines",
         "name": "Trend followers vs pages",
         "type": "scatter",
         "x": {
          "bdata": "AAAAAACAREA8Q2LezpBYQDxDYt7OcGNA2WSTTTaZakA8Q2LezuBwQArU+pUCdXRA2WSTTTYJeECo9SsFap17QHeGxLydMX9Ao4suuuhigUAK1PqVAi2DQHIcx3Ec94RA2WSTTTbBhkBBrV8pUIuIQKj1KwVqVYpAED744IMfjEB3hsS8nemNQN7OkJi3s49Ao4suuui+kEDXrxSo9aORQArU+pUCiZJAPvjggw9uk0ByHMdxHFOUQKZArV8pOJVA2WSTTTYdlkANiXk7QwKXQEGtXylQ55dAdNFFF13MmECo9SsFarGZQNwZEvN2lppAED744IN7m0BDYt7OkGCcQHeGxLydRZ1Aq6qqqqoqnkDezpCYtw+fQBLzdobE9J9Ao4suuuhsoEC9nSExb9+gQNevFKj1UaFA8cEHH3zEoUAK1PqVAjeiQCTm7QyJqaJAPvjggw8co0BYCtT6lY6jQHIcx3EcAaRAjC666KJzpECmQK1fKeakQL9SoNavWKVA2WSTTTbLpUDzdobEvD2mQA2JeTtDsKZAJ5tssskip0BBrV8pUJWnQFu/UqDWB6hAdNFFF116qECO4ziO4+yoQKj1KwVqX6lAwgcffPDRqUDcGRLzdkSqQPYrBWr9tqpAED744IMpq0ApUOtXCpyrQENi3s6QDqxAXXTRRReBrEB3hsS8nfOsQJGYtzMkZq1Aq6qqqqrYrUDFvJ0hMUuuQN7OkJi3va5A+OCDDz4wr0AS83aGxKKvQJYCtX6lCrBAo4suuuhDsECwFKj1K32wQL2dITFvtrBAyiabbLLvsEDXrxSo9SixQOQ4juM4YrFA8cEHH3ybsUD9SoFav9SxQArU+pUCDrJAF1100UVHskAk5u0MiYCyQDFvZ0jMubJAPvjggw/zskBLgVq/UiyzQFgK1PqVZbNAZZNNNtmes0ByHMdxHNizQH+lQK1fEbRAjC666KJKtECZtzMk5oO0QKZArV8pvbRAsskmm2z2tEC/UqDWry+1QMzbGRLzaLVA2WSTTTaitUDm7QyJedu1QPN2hsS8FLZAAAAAAABOtkA=",
          "dtype": "f8"
         },
         "xaxis": "x6",
         "y": {
          "bdata": "F00IvFn4lUCi+hIUs2iWQCyoHWwM2ZZAtlUoxGVJl0BAAzMcv7mXQMuwPXQYKphAVV5IzHGamEDfC1MkywqZQGm5XXwke5lA9GZo1H3rmUB+FHMs11uaQAjCfYQwzJpAkm+I3Ik8m0AdHZM046ybQKfKnYw8HZxAMXio5JWNnEC7JbM87/2cQEbTvZRIbp1A0IDI7KHenUBaLtNE+06eQOTb3ZxUv55Abono9K0vn0D5NvNMB6CfQELyflIwCKBABkmE/lxAoEDMn4mqiXigQJH2jla2sKBAVk2UAuPooEAbpJmuDyGhQOD6nlo8WaFAplGkBmmRoUBqqKmylcmhQDD/rl7CAaJA9VW0Cu85okC6rLm2G3KiQH8Dv2JIqqJARFrEDnXiokAKscm6oRqjQM4Hz2bOUqNAlF7UEvuKo0BYtdm+J8OjQB4M32pU+6NA42LkFoEzpECouenCrWukQG0Q727ao6RAMmf0GgfcpED4vfnGMxSlQLwU/3JgTKVAgmsEH42EpUBGwgnLubylQAwZD3fm9KVA0W8UIxMtpkCWxhnPP2WmQFwdH3tsnaZAIHQkJ5nVpkDmyinTxQ2nQKohL3/yRadAcHg0Kx9+p0A1zznXS7anQPolP4N47qdAv3xEL6UmqECE00nb0V6oQEkqT4f+lqhADoFUMyvPqEDU11nfVwepQJguX4uEP6lAXoVkN7F3qUAj3Gnj3a+pQOgyb48K6KlArYl0OzcgqkBy4HnnY1iqQDg3f5OQkKpA/I2EP73IqkDC5Inr6QCrQIY7j5cWOatATJKUQ0Nxq0AS6Znvb6mrQNY/n5uc4atAnJakR8kZrEBg7anz9VGsQCZEr58iiqxA6pq0S0/CrECw8bn3e/qsQHRIv6OoMq1AOp/ET9VqrUAA9sn7AaOtQMRMz6cu261AiqPUU1sTrkBO+tn/h0uuQBRR36u0g65A2qfkV+G7rkCe/ukDDvSuQGRV7686LK9AKKz0W2dkr0DsAvoHlJyvQLJZ/7PA1K9APFgCsHYGsECeAwUGjSKwQAGvB1yjPrBAY1oKsrlasEA=",
          "dtype": "f8"
         },
         "yaxis": "y6"
        }
       ],
       "layout": {
        "annotations": [
         {
          "font": {
           "size": 16
          },
          "showarrow": false,
          "text": "views vs chapters",
          "x": 0.13333333333333333,
          "xanchor": "center",
          "xref": "paper",
          "y": 1,
          "yanchor": "bottom",
          "yref": "paper"
         },
         {
          "font": {
           "size": 16
          },
          "showarrow": false,
          "text": "rating vs chapters",
          "x": 0.5,
          "xanchor": "center",
          "xref": "paper",
          "y": 1,
          "yanchor": "bottom",
          "yref": "paper"
         },
         {
          "font": {
           "size": 16
          },
          "showarrow": false,
          "text": "followers vs chapters",
          "x": 0.8666666666666667,
          "xanchor": "center",
          "xref": "paper",
          "y": 1,
          "yanchor": "bottom",
          "yref": "paper"
         },
         {
          "font": {
           "size": 16
          },
          "showarrow": false,
          "text": "views vs pages",
          "x": 0.13333333333333333,
          "xanchor": "center",
          "xref": "paper",
          "y": 0.425,
          "yanchor": "bottom",
          "yref": "paper"
         },
         {
          "font": {
           "size": 16
          },
          "showarrow": false,
          "text": "rating vs pages",
          "x": 0.5,
          "xanchor": "center",
          "xref": "paper",
          "y": 0.425,
          "yanchor": "bottom",
          "yref": "paper"
         },
         {
          "font": {
           "size": 16
          },
          "showarrow": false,
          "text": "followers vs pages",
          "x": 0.8666666666666667,
          "xanchor": "center",
          "xref": "paper",
          "y": 0.425,
          "yanchor": "bottom",
          "yref": "paper"
         }
        ],
        "height": 800,
        "showlegend": false,
        "template": {
         "data": {
          "bar": [
           {
            "error_x": {
             "color": "#2a3f5f"
            },
            "error_y": {
             "color": "#2a3f5f"
            },
            "marker": {
             "line": {
              "color": "#E5ECF6",
              "width": 0.5
             },
             "pattern": {
              "fillmode": "overlay",
              "size": 10,
              "solidity": 0.2
             }
            },
            "type": "bar"
           }
          ],
          "barpolar": [
           {
            "marker": {
             "line": {
              "color": "#E5ECF6",
              "width": 0.5
             },
             "pattern": {
              "fillmode": "overlay",
              "size": 10,
              "solidity": 0.2
             }
            },
            "type": "barpolar"
           }
          ],
          "carpet": [
           {
            "aaxis": {
             "endlinecolor": "#2a3f5f",
             "gridcolor": "white",
             "linecolor": "white",
             "minorgridcolor": "white",
             "startlinecolor": "#2a3f5f"
            },
            "baxis": {
             "endlinecolor": "#2a3f5f",
             "gridcolor": "white",
             "linecolor": "white",
             "minorgridcolor": "white",
             "startlinecolor": "#2a3f5f"
            },
            "type": "carpet"
           }
          ],
          "choropleth": [
           {
            "colorbar": {
             "outlinewidth": 0,
             "ticks": ""
            },
            "type": "choropleth"
           }
          ],
          "contour": [
           {
            "colorbar": {
             "outlinewidth": 0,
             "ticks": ""
            },
            "colorscale": [
             [
              0,
              "#0d0887"
             ],
             [
              0.1111111111111111,
              "#46039f"
             ],
             [
              0.2222222222222222,
              "#7201a8"
             ],
             [
              0.3333333333333333,
              "#9c179e"
             ],
             [
              0.4444444444444444,
              "#bd3786"
             ],
             [
              0.5555555555555556,
              "#d8576b"
             ],
             [
              0.6666666666666666,
              "#ed7953"
             ],
             [
              0.7777777777777778,
              "#fb9f3a"
             ],
             [
              0.8888888888888888,
              "#fdca26"
             ],
             [
              1,
              "#f0f921"
             ]
            ],
            "type": "contour"
           }
          ],
          "contourcarpet": [
           {
            "colorbar": {
             "outlinewidth": 0,
             "ticks": ""
            },
            "type": "contourcarpet"
           }
          ],
          "heatmap": [
           {
            "colorbar": {
             "outlinewidth": 0,
             "ticks": ""
            },
            "colorscale": [
             [
              0,
              "#0d0887"
             ],
             [
              0.1111111111111111,
              "#46039f"
             ],
             [
              0.2222222222222222,
              "#7201a8"
             ],
             [
              0.3333333333333333,
              "#9c179e"
             ],
             [
              0.4444444444444444,
              "#bd3786"
             ],
             [
              0.5555555555555556,
              "#d8576b"
             ],
             [
              0.6666666666666666,
              "#ed7953"
             ],
             [
              0.7777777777777778,
              "#fb9f3a"
             ],
             [
              0.8888888888888888,
              "#fdca26"
             ],
             [
              1,
              "#f0f921"
             ]
            ],
            "type": "heatmap"
           }
          ],
          "histogram": [
           {
            "marker": {
             "pattern": {
              "fillmode": "overlay",
              "size": 10,
              "solidity": 0.2
             }
            },
            "type": "histogram"
           }
          ],
          "histogram2d": [
           {
            "colorbar": {
             "outlinewidth": 0,
             "ticks": ""
            },
            "colorscale": [
             [
              0,
              "#0d0887"
             ],
             [
              0.1111111111111111,
              "#46039f"
             ],
             [
              0.2222222222222222,
              "#7201a8"
             ],
             [
              0.3333333333333333,
              "#9c179e"
             ],
             [
              0.4444444444444444,
              "#bd3786"
             ],
             [
              0.5555555555555556,
              "#d8576b"
             ],
             [
              0.6666666666666666,
              "#ed7953"
             ],
             [
              0.7777777777777778,
              "#fb9f3a"
             ],
             [
              0.8888888888888888,
              "#fdca26"
             ],
             [
              1,
              "#f0f921"
             ]
            ],
            "type": "histogram2d"
           }
          ],
          "histogram2dcontour": [
           {
            "colorbar": {
             "outlinewidth": 0,
             "ticks": ""
            },
            "colorscale": [
             [
              0,
              "#0d0887"
             ],
             [
              0.1111111111111111,
              "#46039f"
             ],
             [
              0.2222222222222222,
              "#7201a8"
             ],
             [
              0.3333333333333333,
              "#9c179e"
             ],
             [
              0.4444444444444444,
              "#bd3786"
             ],
             [
              0.5555555555555556,
              "#d8576b"
             ],
             [
              0.6666666666666666,
              "#ed7953"
             ],
             [
              0.7777777777777778,
              "#fb9f3a"
             ],
             [
              0.8888888888888888,
              "#fdca26"
             ],
             [
              1,
              "#f0f921"
             ]
            ],
            "type": "histogram2dcontour"
           }
          ],
          "mesh3d": [
           {
            "colorbar": {
             "outlinewidth": 0,
             "ticks": ""
            },
            "type": "mesh3d"
           }
          ],
          "parcoords": [
           {
            "line": {
             "colorbar": {
              "outlinewidth": 0,
              "ticks": ""
             }
            },
            "type": "parcoords"
           }
          ],
          "pie": [
           {
            "automargin": true,
            "type": "pie"
           }
          ],
          "scatter": [
           {
            "fillpattern": {
             "fillmode": "overlay",
             "size": 10,
             "solidity": 0.2
            },
            "type": "scatter"
           }
          ],
          "scatter3d": [
           {
            "line": {
             "colorbar": {
              "outlinewidth": 0,
              "ticks": ""
             }
            },
            "marker": {
             "colorbar": {
              "outlinewidth": 0,
              "ticks": ""
             }
            },
            "type": "scatter3d"
           }
          ],
          "scattercarpet": [
           {
            "marker": {
             "colorbar": {
              "outlinewidth": 0,
              "ticks": ""
             }
            },
            "type": "scattercarpet"
           }
          ],
          "scattergeo": [
           {
            "marker": {
             "colorbar": {
              "outlinewidth": 0,
              "ticks": ""
             }
            },
            "type": "scattergeo"
           }
          ],
          "scattergl": [
           {
            "marker": {
             "colorbar": {
              "outlinewidth": 0,
              "ticks": ""
             }
            },
            "type": "scattergl"
           }
          ],
          "scattermap": [
           {
            "marker": {
             "colorbar": {
              "outlinewidth": 0,
              "ticks": ""
             }
            },
            "type": "scattermap"
           }
          ],
          "scattermapbox": [
           {
            "marker": {
             "colorbar": {
              "outlinewidth": 0,
              "ticks": ""
             }
            },
            "type": "scattermapbox"
           }
          ],
          "scatterpolar": [
           {
            "marker": {
             "colorbar": {
              "outlinewidth": 0,
              "ticks": ""
             }
            },
            "type": "scatterpolar"
           }
          ],
          "scatterpolargl": [
           {
            "marker": {
             "colorbar": {
              "outlinewidth": 0,
              "ticks": ""
             }
            },
            "type": "scatterpolargl"
           }
          ],
          "scatterternary": [
           {
            "marker": {
             "colorbar": {
              "outlinewidth": 0,
              "ticks": ""
             }
            },
            "type": "scatterternary"
           }
          ],
          "surface": [
           {
            "colorbar": {
             "outlinewidth": 0,
             "ticks": ""
            },
            "colorscale": [
             [
              0,
              "#0d0887"
             ],
             [
              0.1111111111111111,
              "#46039f"
             ],
             [
              0.2222222222222222,
              "#7201a8"
             ],
             [
              0.3333333333333333,
              "#9c179e"
             ],
             [
              0.4444444444444444,
              "#bd3786"
             ],
             [
              0.5555555555555556,
              "#d8576b"
             ],
             [
              0.6666666666666666,
              "#ed7953"
             ],
             [
              0.7777777777777778,
              "#fb9f3a"
             ],
             [
              0.8888888888888888,
              "#fdca26"
             ],
             [
              1,
              "#f0f921"
             ]
            ],
            "type": "surface"
           }
          ],
          "table": [
           {
            "cells": {
             "fill": {
              "color": "#EBF0F8"
             },
             "line": {
              "color": "white"
             }
            },
            "header": {
             "fill": {
              "color": "#C8D4E3"
             },
             "line": {
              "color": "white"
             }
            },
            "type": "table"
           }
          ]
         },
         "layout": {
          "annotationdefaults": {
           "arrowcolor": "#2a3f5f",
           "arrowhead": 0,
           "arrowwidth": 1
          },
          "autotypenumbers": "strict",
          "coloraxis": {
           "colorbar": {
            "outlinewidth": 0,
            "ticks": ""
           }
          },
          "colorscale": {
           "diverging": [
            [
             0,
             "#8e0152"
            ],
            [
             0.1,
             "#c51b7d"
            ],
            [
             0.2,
             "#de77ae"
            ],
            [
             0.3,
             "#f1b6da"
            ],
            [
             0.4,
             "#fde0ef"
            ],
            [
             0.5,
             "#f7f7f7"
            ],
            [
             0.6,
             "#e6f5d0"
            ],
            [
             0.7,
             "#b8e186"
            ],
            [
             0.8,
             "#7fbc41"
            ],
            [
             0.9,
             "#4d9221"
            ],
            [
             1,
             "#276419"
            ]
           ],
           "sequential": [
            [
             0,
             "#0d0887"
            ],
            [
             0.1111111111111111,
             "#46039f"
            ],
            [
             0.2222222222222222,
             "#7201a8"
            ],
            [
             0.3333333333333333,
             "#9c179e"
            ],
            [
             0.4444444444444444,
             "#bd3786"
            ],
            [
             0.5555555555555556,
             "#d8576b"
            ],
            [
             0.6666666666666666,
             "#ed7953"
            ],
            [
             0.7777777777777778,
             "#fb9f3a"
            ],
            [
             0.8888888888888888,
             "#fdca26"
            ],
            [
             1,
             "#f0f921"
            ]
           ],
           "sequentialminus": [
            [
             0,
             "#0d0887"
            ],
            [
             0.1111111111111111,
             "#46039f"
            ],
            [
             0.2222222222222222,
             "#7201a8"
            ],
            [
             0.3333333333333333,
             "#9c179e"
            ],
            [
             0.4444444444444444,
             "#bd3786"
            ],
            [
             0.5555555555555556,
             "#d8576b"
            ],
            [
             0.6666666666666666,
             "#ed7953"
            ],
            [
             0.7777777777777778,
             "#fb9f3a"
            ],
            [
             0.8888888888888888,
             "#fdca26"
            ],
            [
             1,
             "#f0f921"
            ]
           ]
          },
          "colorway": [
           "#636efa",
           "#EF553B",
           "#00cc96",
           "#ab63fa",
           "#FFA15A",
           "#19d3f3",
           "#FF6692",
           "#B6E880",
           "#FF97FF",
           "#FECB52"
          ],
          "font": {
           "color": "#2a3f5f"
          },
          "geo": {
           "bgcolor": "white",
           "lakecolor": "white",
           "landcolor": "#E5ECF6",
           "showlakes": true,
           "showland": true,
           "subunitcolor": "white"
          },
          "hoverlabel": {
           "align": "left"
          },
          "hovermode": "closest",
          "mapbox": {
           "style": "light"
          },
          "paper_bgcolor": "white",
          "plot_bgcolor": "#E5ECF6",
          "polar": {
           "angularaxis": {
            "gridcolor": "white",
            "linecolor": "white",
            "ticks": ""
           },
           "bgcolor": "#E5ECF6",
           "radialaxis": {
            "gridcolor": "white",
            "linecolor": "white",
            "ticks": ""
           }
          },
          "scene": {
           "xaxis": {
            "backgroundcolor": "#E5ECF6",
            "gridcolor": "white",
            "gridwidth": 2,
            "linecolor": "white",
            "showbackground": true,
            "ticks": "",
            "zerolinecolor": "white"
           },
           "yaxis": {
            "backgroundcolor": "#E5ECF6",
            "gridcolor": "white",
            "gridwidth": 2,
            "linecolor": "white",
            "showbackground": true,
            "ticks": "",
            "zerolinecolor": "white"
           },
           "zaxis": {
            "backgroundcolor": "#E5ECF6",
            "gridcolor": "white",
            "gridwidth": 2,
            "linecolor": "white",
            "showbackground": true,
            "ticks": "",
            "zerolinecolor": "white"
           }
          },
          "shapedefaults": {
           "line": {
            "color": "#2a3f5f"
           }
          },
          "ternary": {
           "aaxis": {
            "gridcolor": "white",
            "linecolor": "white",
            "ticks": ""
           },
           "baxis": {
            "gridcolor": "white",
            "linecolor": "white",
            "ticks": ""
           },
           "bgcolor": "#E5ECF6",
           "caxis": {
            "gridcolor": "white",
            "linecolor": "white",
            "ticks": ""
           }
          },
          "title": {
           "x": 0.05
          },
          "xaxis": {
           "automargin": true,
           "gridcolor": "white",
           "linecolor": "white",
           "ticks": "",
           "title": {
            "standoff": 15
           },
           "zerolinecolor": "white",
           "zerolinewidth": 2
          },
          "yaxis": {
           "automargin": true,
           "gridcolor": "white",
           "linecolor": "white",
           "ticks": "",
           "title": {
            "standoff": 15
           },
           "zerolinecolor": "white",
           "zerolinewidth": 2
          }
         }
        },
        "title": {
         "text": "Relationship between Story Length and Performance Metrics"
        },
        "xaxis": {
         "anchor": "y",
         "domain": [
          0,
          0.26666666666666666
         ],
         "title": {
          "text": "chapters"
         }
        },
        "xaxis2": {
         "anchor": "y2",
         "domain": [
          0.3666666666666667,
          0.6333333333333333
         ],
         "title": {
          "text": "chapters"
         }
        },
        "xaxis3": {
         "anchor": "y3",
         "domain": [
          0.7333333333333334,
          1
         ],
         "title": {
          "text": "chapters"
         }
        },
        "xaxis4": {
         "anchor": "y4",
         "domain": [
          0,
          0.26666666666666666
         ],
         "title": {
          "text": "pages"
         }
        },
        "xaxis5": {
         "anchor": "y5",
         "domain": [
          0.3666666666666667,
          0.6333333333333333
         ],
         "title": {
          "text": "pages"
         }
        },
        "xaxis6": {
         "anchor": "y6",
         "domain": [
          0.7333333333333334,
          1
         ],
         "title": {
          "text": "pages"
         }
        },
        "yaxis": {
         "anchor": "x",
         "domain": [
          0.575,
          1
         ],
         "title": {
          "text": "views"
         }
        },
        "yaxis2": {
         "anchor": "x2",
         "domain": [
          0.575,
          1
         ],
         "title": {
          "text": "rating"
         }
        },
        "yaxis3": {
         "anchor": "x3",
         "domain": [
          0.575,
          1
         ],
         "title": {
          "text": "followers"
         }
        },
        "yaxis4": {
         "anchor": "x4",
         "domain": [
          0,
          0.425
         ],
         "title": {
          "text": "views"
         }
        },
        "yaxis5": {
         "anchor": "x5",
         "domain": [
          0,
          0.425
         ],
         "title": {
          "text": "rating"
         }
        },
        "yaxis6": {
         "anchor": "x6",
         "domain": [
          0,
          0.425
         ],
         "title": {
          "text": "followers"
         }
        }
       }
      }
     },
     "metadata": {},
     "output_type": "display_data"
    },
    {
     "name": "stdout",
     "output_type": "stream",
     "text": [
      "\n",
      "Chapters Bucket Ranges:\n",
      "Bucket 1: 7.0 to 32.0 chapters\n",
      "Bucket 2: 39.0 to 57.0 chapters\n",
      "Bucket 3: 59.0 to 68.0 chapters\n",
      "Bucket 4: 69.0 to 81.0 chapters\n",
      "Bucket 5: 85.0 to 102.0 chapters\n",
      "Bucket 6: 107.0 to 144.0 chapters\n",
      "Bucket 7: 146.0 to 158.0 chapters\n",
      "Bucket 8: 168.0 to 224.0 chapters\n",
      "Bucket 9: 225.0 to 307.0 chapters\n",
      "Bucket 10: 381.0 to 4000.0 chapters\n"
     ]
    },
    {
     "name": "stderr",
     "output_type": "stream",
     "text": [
      "C:\\Users\\swapn\\AppData\\Local\\Temp\\ipykernel_4772\\1529275039.py:78: FutureWarning:\n",
      "\n",
      "The default of observed=False is deprecated and will be changed to True in a future version of pandas. Pass observed=False to retain current behavior or observed=True to adopt the future default and silence this warning.\n",
      "\n",
      "C:\\Users\\swapn\\AppData\\Local\\Temp\\ipykernel_4772\\1529275039.py:81: FutureWarning:\n",
      "\n",
      "The default of observed=False is deprecated and will be changed to True in a future version of pandas. Pass observed=False to retain current behavior or observed=True to adopt the future default and silence this warning.\n",
      "\n"
     ]
    },
    {
     "data": {
      "application/vnd.plotly.v1+json": {
       "config": {
        "plotlyServerURL": "https://plot.ly"
       },
       "data": [
        {
         "name": "views",
         "text": {
          "bdata": "AAAAAOCt60AzMzMzsSYCQYXrUbj2ofxAH4XrURw3EEGPwvUojrAmQeF6FK5PQxlBH4XrUXxPHUEAAAAAQHIwQQAAAMDvsDNBUrgeRe8ASUE=",
          "dtype": "f8"
         },
         "textposition": "auto",
         "type": "bar",
         "x": [
          "Bucket 1",
          "Bucket 2",
          "Bucket 3",
          "Bucket 4",
          "Bucket 5",
          "Bucket 6",
          "Bucket 7",
          "Bucket 8",
          "Bucket 9",
          "Bucket 10"
         ],
         "y": {
          "bdata": "AAAAAOCt60A7sRM7sSYCQauqqqr2ofxAVVVVVRw3EEGrqqoqjrAmQauqqqpPQxlBVVVVVXxPHUEAAAAAQHIwQQAAAMDvsDNBxU7sRO8ASUE=",
          "dtype": "f8"
         }
        }
       ],
       "layout": {
        "height": 500,
        "template": {
         "data": {
          "bar": [
           {
            "error_x": {
             "color": "#2a3f5f"
            },
            "error_y": {
             "color": "#2a3f5f"
            },
            "marker": {
             "line": {
              "color": "#E5ECF6",
              "width": 0.5
             },
             "pattern": {
              "fillmode": "overlay",
              "size": 10,
              "solidity": 0.2
             }
            },
            "type": "bar"
           }
          ],
          "barpolar": [
           {
            "marker": {
             "line": {
              "color": "#E5ECF6",
              "width": 0.5
             },
             "pattern": {
              "fillmode": "overlay",
              "size": 10,
              "solidity": 0.2
             }
            },
            "type": "barpolar"
           }
          ],
          "carpet": [
           {
            "aaxis": {
             "endlinecolor": "#2a3f5f",
             "gridcolor": "white",
             "linecolor": "white",
             "minorgridcolor": "white",
             "startlinecolor": "#2a3f5f"
            },
            "baxis": {
             "endlinecolor": "#2a3f5f",
             "gridcolor": "white",
             "linecolor": "white",
             "minorgridcolor": "white",
             "startlinecolor": "#2a3f5f"
            },
            "type": "carpet"
           }
          ],
          "choropleth": [
           {
            "colorbar": {
             "outlinewidth": 0,
             "ticks": ""
            },
            "type": "choropleth"
           }
          ],
          "contour": [
           {
            "colorbar": {
             "outlinewidth": 0,
             "ticks": ""
            },
            "colorscale": [
             [
              0,
              "#0d0887"
             ],
             [
              0.1111111111111111,
              "#46039f"
             ],
             [
              0.2222222222222222,
              "#7201a8"
             ],
             [
              0.3333333333333333,
              "#9c179e"
             ],
             [
              0.4444444444444444,
              "#bd3786"
             ],
             [
              0.5555555555555556,
              "#d8576b"
             ],
             [
              0.6666666666666666,
              "#ed7953"
             ],
             [
              0.7777777777777778,
              "#fb9f3a"
             ],
             [
              0.8888888888888888,
              "#fdca26"
             ],
             [
              1,
              "#f0f921"
             ]
            ],
            "type": "contour"
           }
          ],
          "contourcarpet": [
           {
            "colorbar": {
             "outlinewidth": 0,
             "ticks": ""
            },
            "type": "contourcarpet"
           }
          ],
          "heatmap": [
           {
            "colorbar": {
             "outlinewidth": 0,
             "ticks": ""
            },
            "colorscale": [
             [
              0,
              "#0d0887"
             ],
             [
              0.1111111111111111,
              "#46039f"
             ],
             [
              0.2222222222222222,
              "#7201a8"
             ],
             [
              0.3333333333333333,
              "#9c179e"
             ],
             [
              0.4444444444444444,
              "#bd3786"
             ],
             [
              0.5555555555555556,
              "#d8576b"
             ],
             [
              0.6666666666666666,
              "#ed7953"
             ],
             [
              0.7777777777777778,
              "#fb9f3a"
             ],
             [
              0.8888888888888888,
              "#fdca26"
             ],
             [
              1,
              "#f0f921"
             ]
            ],
            "type": "heatmap"
           }
          ],
          "histogram": [
           {
            "marker": {
             "pattern": {
              "fillmode": "overlay",
              "size": 10,
              "solidity": 0.2
             }
            },
            "type": "histogram"
           }
          ],
          "histogram2d": [
           {
            "colorbar": {
             "outlinewidth": 0,
             "ticks": ""
            },
            "colorscale": [
             [
              0,
              "#0d0887"
             ],
             [
              0.1111111111111111,
              "#46039f"
             ],
             [
              0.2222222222222222,
              "#7201a8"
             ],
             [
              0.3333333333333333,
              "#9c179e"
             ],
             [
              0.4444444444444444,
              "#bd3786"
             ],
             [
              0.5555555555555556,
              "#d8576b"
             ],
             [
              0.6666666666666666,
              "#ed7953"
             ],
             [
              0.7777777777777778,
              "#fb9f3a"
             ],
             [
              0.8888888888888888,
              "#fdca26"
             ],
             [
              1,
              "#f0f921"
             ]
            ],
            "type": "histogram2d"
           }
          ],
          "histogram2dcontour": [
           {
            "colorbar": {
             "outlinewidth": 0,
             "ticks": ""
            },
            "colorscale": [
             [
              0,
              "#0d0887"
             ],
             [
              0.1111111111111111,
              "#46039f"
             ],
             [
              0.2222222222222222,
              "#7201a8"
             ],
             [
              0.3333333333333333,
              "#9c179e"
             ],
             [
              0.4444444444444444,
              "#bd3786"
             ],
             [
              0.5555555555555556,
              "#d8576b"
             ],
             [
              0.6666666666666666,
              "#ed7953"
             ],
             [
              0.7777777777777778,
              "#fb9f3a"
             ],
             [
              0.8888888888888888,
              "#fdca26"
             ],
             [
              1,
              "#f0f921"
             ]
            ],
            "type": "histogram2dcontour"
           }
          ],
          "mesh3d": [
           {
            "colorbar": {
             "outlinewidth": 0,
             "ticks": ""
            },
            "type": "mesh3d"
           }
          ],
          "parcoords": [
           {
            "line": {
             "colorbar": {
              "outlinewidth": 0,
              "ticks": ""
             }
            },
            "type": "parcoords"
           }
          ],
          "pie": [
           {
            "automargin": true,
            "type": "pie"
           }
          ],
          "scatter": [
           {
            "fillpattern": {
             "fillmode": "overlay",
             "size": 10,
             "solidity": 0.2
            },
            "type": "scatter"
           }
          ],
          "scatter3d": [
           {
            "line": {
             "colorbar": {
              "outlinewidth": 0,
              "ticks": ""
             }
            },
            "marker": {
             "colorbar": {
              "outlinewidth": 0,
              "ticks": ""
             }
            },
            "type": "scatter3d"
           }
          ],
          "scattercarpet": [
           {
            "marker": {
             "colorbar": {
              "outlinewidth": 0,
              "ticks": ""
             }
            },
            "type": "scattercarpet"
           }
          ],
          "scattergeo": [
           {
            "marker": {
             "colorbar": {
              "outlinewidth": 0,
              "ticks": ""
             }
            },
            "type": "scattergeo"
           }
          ],
          "scattergl": [
           {
            "marker": {
             "colorbar": {
              "outlinewidth": 0,
              "ticks": ""
             }
            },
            "type": "scattergl"
           }
          ],
          "scattermap": [
           {
            "marker": {
             "colorbar": {
              "outlinewidth": 0,
              "ticks": ""
             }
            },
            "type": "scattermap"
           }
          ],
          "scattermapbox": [
           {
            "marker": {
             "colorbar": {
              "outlinewidth": 0,
              "ticks": ""
             }
            },
            "type": "scattermapbox"
           }
          ],
          "scatterpolar": [
           {
            "marker": {
             "colorbar": {
              "outlinewidth": 0,
              "ticks": ""
             }
            },
            "type": "scatterpolar"
           }
          ],
          "scatterpolargl": [
           {
            "marker": {
             "colorbar": {
              "outlinewidth": 0,
              "ticks": ""
             }
            },
            "type": "scatterpolargl"
           }
          ],
          "scatterternary": [
           {
            "marker": {
             "colorbar": {
              "outlinewidth": 0,
              "ticks": ""
             }
            },
            "type": "scatterternary"
           }
          ],
          "surface": [
           {
            "colorbar": {
             "outlinewidth": 0,
             "ticks": ""
            },
            "colorscale": [
             [
              0,
              "#0d0887"
             ],
             [
              0.1111111111111111,
              "#46039f"
             ],
             [
              0.2222222222222222,
              "#7201a8"
             ],
             [
              0.3333333333333333,
              "#9c179e"
             ],
             [
              0.4444444444444444,
              "#bd3786"
             ],
             [
              0.5555555555555556,
              "#d8576b"
             ],
             [
              0.6666666666666666,
              "#ed7953"
             ],
             [
              0.7777777777777778,
              "#fb9f3a"
             ],
             [
              0.8888888888888888,
              "#fdca26"
             ],
             [
              1,
              "#f0f921"
             ]
            ],
            "type": "surface"
           }
          ],
          "table": [
           {
            "cells": {
             "fill": {
              "color": "#EBF0F8"
             },
             "line": {
              "color": "white"
             }
            },
            "header": {
             "fill": {
              "color": "#C8D4E3"
             },
             "line": {
              "color": "white"
             }
            },
            "type": "table"
           }
          ]
         },
         "layout": {
          "annotationdefaults": {
           "arrowcolor": "#2a3f5f",
           "arrowhead": 0,
           "arrowwidth": 1
          },
          "autotypenumbers": "strict",
          "coloraxis": {
           "colorbar": {
            "outlinewidth": 0,
            "ticks": ""
           }
          },
          "colorscale": {
           "diverging": [
            [
             0,
             "#8e0152"
            ],
            [
             0.1,
             "#c51b7d"
            ],
            [
             0.2,
             "#de77ae"
            ],
            [
             0.3,
             "#f1b6da"
            ],
            [
             0.4,
             "#fde0ef"
            ],
            [
             0.5,
             "#f7f7f7"
            ],
            [
             0.6,
             "#e6f5d0"
            ],
            [
             0.7,
             "#b8e186"
            ],
            [
             0.8,
             "#7fbc41"
            ],
            [
             0.9,
             "#4d9221"
            ],
            [
             1,
             "#276419"
            ]
           ],
           "sequential": [
            [
             0,
             "#0d0887"
            ],
            [
             0.1111111111111111,
             "#46039f"
            ],
            [
             0.2222222222222222,
             "#7201a8"
            ],
            [
             0.3333333333333333,
             "#9c179e"
            ],
            [
             0.4444444444444444,
             "#bd3786"
            ],
            [
             0.5555555555555556,
             "#d8576b"
            ],
            [
             0.6666666666666666,
             "#ed7953"
            ],
            [
             0.7777777777777778,
             "#fb9f3a"
            ],
            [
             0.8888888888888888,
             "#fdca26"
            ],
            [
             1,
             "#f0f921"
            ]
           ],
           "sequentialminus": [
            [
             0,
             "#0d0887"
            ],
            [
             0.1111111111111111,
             "#46039f"
            ],
            [
             0.2222222222222222,
             "#7201a8"
            ],
            [
             0.3333333333333333,
             "#9c179e"
            ],
            [
             0.4444444444444444,
             "#bd3786"
            ],
            [
             0.5555555555555556,
             "#d8576b"
            ],
            [
             0.6666666666666666,
             "#ed7953"
            ],
            [
             0.7777777777777778,
             "#fb9f3a"
            ],
            [
             0.8888888888888888,
             "#fdca26"
            ],
            [
             1,
             "#f0f921"
            ]
           ]
          },
          "colorway": [
           "#636efa",
           "#EF553B",
           "#00cc96",
           "#ab63fa",
           "#FFA15A",
           "#19d3f3",
           "#FF6692",
           "#B6E880",
           "#FF97FF",
           "#FECB52"
          ],
          "font": {
           "color": "#2a3f5f"
          },
          "geo": {
           "bgcolor": "white",
           "lakecolor": "white",
           "landcolor": "#E5ECF6",
           "showlakes": true,
           "showland": true,
           "subunitcolor": "white"
          },
          "hoverlabel": {
           "align": "left"
          },
          "hovermode": "closest",
          "mapbox": {
           "style": "light"
          },
          "paper_bgcolor": "white",
          "plot_bgcolor": "#E5ECF6",
          "polar": {
           "angularaxis": {
            "gridcolor": "white",
            "linecolor": "white",
            "ticks": ""
           },
           "bgcolor": "#E5ECF6",
           "radialaxis": {
            "gridcolor": "white",
            "linecolor": "white",
            "ticks": ""
           }
          },
          "scene": {
           "xaxis": {
            "backgroundcolor": "#E5ECF6",
            "gridcolor": "white",
            "gridwidth": 2,
            "linecolor": "white",
            "showbackground": true,
            "ticks": "",
            "zerolinecolor": "white"
           },
           "yaxis": {
            "backgroundcolor": "#E5ECF6",
            "gridcolor": "white",
            "gridwidth": 2,
            "linecolor": "white",
            "showbackground": true,
            "ticks": "",
            "zerolinecolor": "white"
           },
           "zaxis": {
            "backgroundcolor": "#E5ECF6",
            "gridcolor": "white",
            "gridwidth": 2,
            "linecolor": "white",
            "showbackground": true,
            "ticks": "",
            "zerolinecolor": "white"
           }
          },
          "shapedefaults": {
           "line": {
            "color": "#2a3f5f"
           }
          },
          "ternary": {
           "aaxis": {
            "gridcolor": "white",
            "linecolor": "white",
            "ticks": ""
           },
           "baxis": {
            "gridcolor": "white",
            "linecolor": "white",
            "ticks": ""
           },
           "bgcolor": "#E5ECF6",
           "caxis": {
            "gridcolor": "white",
            "linecolor": "white",
            "ticks": ""
           }
          },
          "title": {
           "x": 0.05
          },
          "xaxis": {
           "automargin": true,
           "gridcolor": "white",
           "linecolor": "white",
           "ticks": "",
           "title": {
            "standoff": 15
           },
           "zerolinecolor": "white",
           "zerolinewidth": 2
          },
          "yaxis": {
           "automargin": true,
           "gridcolor": "white",
           "linecolor": "white",
           "ticks": "",
           "title": {
            "standoff": 15
           },
           "zerolinecolor": "white",
           "zerolinewidth": 2
          }
         }
        },
        "title": {
         "text": "Average Views by Chapters Buckets"
        },
        "width": 800,
        "xaxis": {
         "title": {
          "text": "Chapters Buckets (Equal Sized Groups)"
         }
        },
        "yaxis": {
         "title": {
          "text": "Average Views"
         },
         "type": "log"
        }
       }
      }
     },
     "metadata": {},
     "output_type": "display_data"
    },
    {
     "data": {
      "application/vnd.plotly.v1+json": {
       "config": {
        "plotlyServerURL": "https://plot.ly"
       },
       "data": [
        {
         "name": "rating",
         "text": {
          "bdata": "4XoUrkfhEUCamZmZmZkSQGZmZmZmZhJAKVyPwvUoEkApXI/C9SgSQM3MzMzMzBFAPQrXo3A9EUCuR+F6FK4RQD0K16NwPRFAw/UoXI/CEEA=",
          "dtype": "f8"
         },
         "textposition": "auto",
         "type": "bar",
         "x": [
          "Bucket 1",
          "Bucket 2",
          "Bucket 3",
          "Bucket 4",
          "Bucket 5",
          "Bucket 6",
          "Bucket 7",
          "Bucket 8",
          "Bucket 9",
          "Bucket 10"
         ],
         "y": {
          "bdata": "fIdEFSHeEUAmkDWM9psSQOi0gU4baBJAJb9Y8oslEkCrqqqqqioSQBERERER0RFAfrHkF0s+EUDrUbgehasRQAAAAAAAQBFAqgjxdtW9EEA=",
          "dtype": "f8"
         }
        }
       ],
       "layout": {
        "height": 500,
        "template": {
         "data": {
          "bar": [
           {
            "error_x": {
             "color": "#2a3f5f"
            },
            "error_y": {
             "color": "#2a3f5f"
            },
            "marker": {
             "line": {
              "color": "#E5ECF6",
              "width": 0.5
             },
             "pattern": {
              "fillmode": "overlay",
              "size": 10,
              "solidity": 0.2
             }
            },
            "type": "bar"
           }
          ],
          "barpolar": [
           {
            "marker": {
             "line": {
              "color": "#E5ECF6",
              "width": 0.5
             },
             "pattern": {
              "fillmode": "overlay",
              "size": 10,
              "solidity": 0.2
             }
            },
            "type": "barpolar"
           }
          ],
          "carpet": [
           {
            "aaxis": {
             "endlinecolor": "#2a3f5f",
             "gridcolor": "white",
             "linecolor": "white",
             "minorgridcolor": "white",
             "startlinecolor": "#2a3f5f"
            },
            "baxis": {
             "endlinecolor": "#2a3f5f",
             "gridcolor": "white",
             "linecolor": "white",
             "minorgridcolor": "white",
             "startlinecolor": "#2a3f5f"
            },
            "type": "carpet"
           }
          ],
          "choropleth": [
           {
            "colorbar": {
             "outlinewidth": 0,
             "ticks": ""
            },
            "type": "choropleth"
           }
          ],
          "contour": [
           {
            "colorbar": {
             "outlinewidth": 0,
             "ticks": ""
            },
            "colorscale": [
             [
              0,
              "#0d0887"
             ],
             [
              0.1111111111111111,
              "#46039f"
             ],
             [
              0.2222222222222222,
              "#7201a8"
             ],
             [
              0.3333333333333333,
              "#9c179e"
             ],
             [
              0.4444444444444444,
              "#bd3786"
             ],
             [
              0.5555555555555556,
              "#d8576b"
             ],
             [
              0.6666666666666666,
              "#ed7953"
             ],
             [
              0.7777777777777778,
              "#fb9f3a"
             ],
             [
              0.8888888888888888,
              "#fdca26"
             ],
             [
              1,
              "#f0f921"
             ]
            ],
            "type": "contour"
           }
          ],
          "contourcarpet": [
           {
            "colorbar": {
             "outlinewidth": 0,
             "ticks": ""
            },
            "type": "contourcarpet"
           }
          ],
          "heatmap": [
           {
            "colorbar": {
             "outlinewidth": 0,
             "ticks": ""
            },
            "colorscale": [
             [
              0,
              "#0d0887"
             ],
             [
              0.1111111111111111,
              "#46039f"
             ],
             [
              0.2222222222222222,
              "#7201a8"
             ],
             [
              0.3333333333333333,
              "#9c179e"
             ],
             [
              0.4444444444444444,
              "#bd3786"
             ],
             [
              0.5555555555555556,
              "#d8576b"
             ],
             [
              0.6666666666666666,
              "#ed7953"
             ],
             [
              0.7777777777777778,
              "#fb9f3a"
             ],
             [
              0.8888888888888888,
              "#fdca26"
             ],
             [
              1,
              "#f0f921"
             ]
            ],
            "type": "heatmap"
           }
          ],
          "histogram": [
           {
            "marker": {
             "pattern": {
              "fillmode": "overlay",
              "size": 10,
              "solidity": 0.2
             }
            },
            "type": "histogram"
           }
          ],
          "histogram2d": [
           {
            "colorbar": {
             "outlinewidth": 0,
             "ticks": ""
            },
            "colorscale": [
             [
              0,
              "#0d0887"
             ],
             [
              0.1111111111111111,
              "#46039f"
             ],
             [
              0.2222222222222222,
              "#7201a8"
             ],
             [
              0.3333333333333333,
              "#9c179e"
             ],
             [
              0.4444444444444444,
              "#bd3786"
             ],
             [
              0.5555555555555556,
              "#d8576b"
             ],
             [
              0.6666666666666666,
              "#ed7953"
             ],
             [
              0.7777777777777778,
              "#fb9f3a"
             ],
             [
              0.8888888888888888,
              "#fdca26"
             ],
             [
              1,
              "#f0f921"
             ]
            ],
            "type": "histogram2d"
           }
          ],
          "histogram2dcontour": [
           {
            "colorbar": {
             "outlinewidth": 0,
             "ticks": ""
            },
            "colorscale": [
             [
              0,
              "#0d0887"
             ],
             [
              0.1111111111111111,
              "#46039f"
             ],
             [
              0.2222222222222222,
              "#7201a8"
             ],
             [
              0.3333333333333333,
              "#9c179e"
             ],
             [
              0.4444444444444444,
              "#bd3786"
             ],
             [
              0.5555555555555556,
              "#d8576b"
             ],
             [
              0.6666666666666666,
              "#ed7953"
             ],
             [
              0.7777777777777778,
              "#fb9f3a"
             ],
             [
              0.8888888888888888,
              "#fdca26"
             ],
             [
              1,
              "#f0f921"
             ]
            ],
            "type": "histogram2dcontour"
           }
          ],
          "mesh3d": [
           {
            "colorbar": {
             "outlinewidth": 0,
             "ticks": ""
            },
            "type": "mesh3d"
           }
          ],
          "parcoords": [
           {
            "line": {
             "colorbar": {
              "outlinewidth": 0,
              "ticks": ""
             }
            },
            "type": "parcoords"
           }
          ],
          "pie": [
           {
            "automargin": true,
            "type": "pie"
           }
          ],
          "scatter": [
           {
            "fillpattern": {
             "fillmode": "overlay",
             "size": 10,
             "solidity": 0.2
            },
            "type": "scatter"
           }
          ],
          "scatter3d": [
           {
            "line": {
             "colorbar": {
              "outlinewidth": 0,
              "ticks": ""
             }
            },
            "marker": {
             "colorbar": {
              "outlinewidth": 0,
              "ticks": ""
             }
            },
            "type": "scatter3d"
           }
          ],
          "scattercarpet": [
           {
            "marker": {
             "colorbar": {
              "outlinewidth": 0,
              "ticks": ""
             }
            },
            "type": "scattercarpet"
           }
          ],
          "scattergeo": [
           {
            "marker": {
             "colorbar": {
              "outlinewidth": 0,
              "ticks": ""
             }
            },
            "type": "scattergeo"
           }
          ],
          "scattergl": [
           {
            "marker": {
             "colorbar": {
              "outlinewidth": 0,
              "ticks": ""
             }
            },
            "type": "scattergl"
           }
          ],
          "scattermap": [
           {
            "marker": {
             "colorbar": {
              "outlinewidth": 0,
              "ticks": ""
             }
            },
            "type": "scattermap"
           }
          ],
          "scattermapbox": [
           {
            "marker": {
             "colorbar": {
              "outlinewidth": 0,
              "ticks": ""
             }
            },
            "type": "scattermapbox"
           }
          ],
          "scatterpolar": [
           {
            "marker": {
             "colorbar": {
              "outlinewidth": 0,
              "ticks": ""
             }
            },
            "type": "scatterpolar"
           }
          ],
          "scatterpolargl": [
           {
            "marker": {
             "colorbar": {
              "outlinewidth": 0,
              "ticks": ""
             }
            },
            "type": "scatterpolargl"
           }
          ],
          "scatterternary": [
           {
            "marker": {
             "colorbar": {
              "outlinewidth": 0,
              "ticks": ""
             }
            },
            "type": "scatterternary"
           }
          ],
          "surface": [
           {
            "colorbar": {
             "outlinewidth": 0,
             "ticks": ""
            },
            "colorscale": [
             [
              0,
              "#0d0887"
             ],
             [
              0.1111111111111111,
              "#46039f"
             ],
             [
              0.2222222222222222,
              "#7201a8"
             ],
             [
              0.3333333333333333,
              "#9c179e"
             ],
             [
              0.4444444444444444,
              "#bd3786"
             ],
             [
              0.5555555555555556,
              "#d8576b"
             ],
             [
              0.6666666666666666,
              "#ed7953"
             ],
             [
              0.7777777777777778,
              "#fb9f3a"
             ],
             [
              0.8888888888888888,
              "#fdca26"
             ],
             [
              1,
              "#f0f921"
             ]
            ],
            "type": "surface"
           }
          ],
          "table": [
           {
            "cells": {
             "fill": {
              "color": "#EBF0F8"
             },
             "line": {
              "color": "white"
             }
            },
            "header": {
             "fill": {
              "color": "#C8D4E3"
             },
             "line": {
              "color": "white"
             }
            },
            "type": "table"
           }
          ]
         },
         "layout": {
          "annotationdefaults": {
           "arrowcolor": "#2a3f5f",
           "arrowhead": 0,
           "arrowwidth": 1
          },
          "autotypenumbers": "strict",
          "coloraxis": {
           "colorbar": {
            "outlinewidth": 0,
            "ticks": ""
           }
          },
          "colorscale": {
           "diverging": [
            [
             0,
             "#8e0152"
            ],
            [
             0.1,
             "#c51b7d"
            ],
            [
             0.2,
             "#de77ae"
            ],
            [
             0.3,
             "#f1b6da"
            ],
            [
             0.4,
             "#fde0ef"
            ],
            [
             0.5,
             "#f7f7f7"
            ],
            [
             0.6,
             "#e6f5d0"
            ],
            [
             0.7,
             "#b8e186"
            ],
            [
             0.8,
             "#7fbc41"
            ],
            [
             0.9,
             "#4d9221"
            ],
            [
             1,
             "#276419"
            ]
           ],
           "sequential": [
            [
             0,
             "#0d0887"
            ],
            [
             0.1111111111111111,
             "#46039f"
            ],
            [
             0.2222222222222222,
             "#7201a8"
            ],
            [
             0.3333333333333333,
             "#9c179e"
            ],
            [
             0.4444444444444444,
             "#bd3786"
            ],
            [
             0.5555555555555556,
             "#d8576b"
            ],
            [
             0.6666666666666666,
             "#ed7953"
            ],
            [
             0.7777777777777778,
             "#fb9f3a"
            ],
            [
             0.8888888888888888,
             "#fdca26"
            ],
            [
             1,
             "#f0f921"
            ]
           ],
           "sequentialminus": [
            [
             0,
             "#0d0887"
            ],
            [
             0.1111111111111111,
             "#46039f"
            ],
            [
             0.2222222222222222,
             "#7201a8"
            ],
            [
             0.3333333333333333,
             "#9c179e"
            ],
            [
             0.4444444444444444,
             "#bd3786"
            ],
            [
             0.5555555555555556,
             "#d8576b"
            ],
            [
             0.6666666666666666,
             "#ed7953"
            ],
            [
             0.7777777777777778,
             "#fb9f3a"
            ],
            [
             0.8888888888888888,
             "#fdca26"
            ],
            [
             1,
             "#f0f921"
            ]
           ]
          },
          "colorway": [
           "#636efa",
           "#EF553B",
           "#00cc96",
           "#ab63fa",
           "#FFA15A",
           "#19d3f3",
           "#FF6692",
           "#B6E880",
           "#FF97FF",
           "#FECB52"
          ],
          "font": {
           "color": "#2a3f5f"
          },
          "geo": {
           "bgcolor": "white",
           "lakecolor": "white",
           "landcolor": "#E5ECF6",
           "showlakes": true,
           "showland": true,
           "subunitcolor": "white"
          },
          "hoverlabel": {
           "align": "left"
          },
          "hovermode": "closest",
          "mapbox": {
           "style": "light"
          },
          "paper_bgcolor": "white",
          "plot_bgcolor": "#E5ECF6",
          "polar": {
           "angularaxis": {
            "gridcolor": "white",
            "linecolor": "white",
            "ticks": ""
           },
           "bgcolor": "#E5ECF6",
           "radialaxis": {
            "gridcolor": "white",
            "linecolor": "white",
            "ticks": ""
           }
          },
          "scene": {
           "xaxis": {
            "backgroundcolor": "#E5ECF6",
            "gridcolor": "white",
            "gridwidth": 2,
            "linecolor": "white",
            "showbackground": true,
            "ticks": "",
            "zerolinecolor": "white"
           },
           "yaxis": {
            "backgroundcolor": "#E5ECF6",
            "gridcolor": "white",
            "gridwidth": 2,
            "linecolor": "white",
            "showbackground": true,
            "ticks": "",
            "zerolinecolor": "white"
           },
           "zaxis": {
            "backgroundcolor": "#E5ECF6",
            "gridcolor": "white",
            "gridwidth": 2,
            "linecolor": "white",
            "showbackground": true,
            "ticks": "",
            "zerolinecolor": "white"
           }
          },
          "shapedefaults": {
           "line": {
            "color": "#2a3f5f"
           }
          },
          "ternary": {
           "aaxis": {
            "gridcolor": "white",
            "linecolor": "white",
            "ticks": ""
           },
           "baxis": {
            "gridcolor": "white",
            "linecolor": "white",
            "ticks": ""
           },
           "bgcolor": "#E5ECF6",
           "caxis": {
            "gridcolor": "white",
            "linecolor": "white",
            "ticks": ""
           }
          },
          "title": {
           "x": 0.05
          },
          "xaxis": {
           "automargin": true,
           "gridcolor": "white",
           "linecolor": "white",
           "ticks": "",
           "title": {
            "standoff": 15
           },
           "zerolinecolor": "white",
           "zerolinewidth": 2
          },
          "yaxis": {
           "automargin": true,
           "gridcolor": "white",
           "linecolor": "white",
           "ticks": "",
           "title": {
            "standoff": 15
           },
           "zerolinecolor": "white",
           "zerolinewidth": 2
          }
         }
        },
        "title": {
         "text": "Average Rating by Chapters Buckets"
        },
        "width": 800,
        "xaxis": {
         "title": {
          "text": "Chapters Buckets (Equal Sized Groups)"
         }
        },
        "yaxis": {
         "title": {
          "text": "Average Rating"
         }
        }
       }
      }
     },
     "metadata": {},
     "output_type": "display_data"
    },
    {
     "data": {
      "application/vnd.plotly.v1+json": {
       "config": {
        "plotlyServerURL": "https://plot.ly"
       },
       "data": [
        {
         "name": "followers",
         "text": {
          "bdata": "j8L1KFw/jEBcj8L1KFaWQI/C9Shcu41AuB6F61FEn0AAAAAAAD2rQLgehetRBZ9AAAAAAABflkAAAAAAADuoQKRwPQrXOaVAAAAAAAD0pkA=",
          "dtype": "f8"
         },
         "textposition": "auto",
         "type": "bar",
         "x": [
          "Bucket 1",
          "Bucket 2",
          "Bucket 3",
          "Bucket 4",
          "Bucket 5",
          "Bucket 6",
          "Bucket 7",
          "Bucket 8",
          "Bucket 9",
          "Bucket 10"
         ],
         "y": {
          "bdata": "dmIndmI/jEBiJ3ZiJ1aWQFVVVVVVu41AVVVVVVVEn0AAAAAAAD2rQFVVVVVVBZ9AAAAAAABflkAAAAAAADuoQFVVVVXVOaVAAAAAAAD0pkA=",
          "dtype": "f8"
         }
        }
       ],
       "layout": {
        "height": 500,
        "template": {
         "data": {
          "bar": [
           {
            "error_x": {
             "color": "#2a3f5f"
            },
            "error_y": {
             "color": "#2a3f5f"
            },
            "marker": {
             "line": {
              "color": "#E5ECF6",
              "width": 0.5
             },
             "pattern": {
              "fillmode": "overlay",
              "size": 10,
              "solidity": 0.2
             }
            },
            "type": "bar"
           }
          ],
          "barpolar": [
           {
            "marker": {
             "line": {
              "color": "#E5ECF6",
              "width": 0.5
             },
             "pattern": {
              "fillmode": "overlay",
              "size": 10,
              "solidity": 0.2
             }
            },
            "type": "barpolar"
           }
          ],
          "carpet": [
           {
            "aaxis": {
             "endlinecolor": "#2a3f5f",
             "gridcolor": "white",
             "linecolor": "white",
             "minorgridcolor": "white",
             "startlinecolor": "#2a3f5f"
            },
            "baxis": {
             "endlinecolor": "#2a3f5f",
             "gridcolor": "white",
             "linecolor": "white",
             "minorgridcolor": "white",
             "startlinecolor": "#2a3f5f"
            },
            "type": "carpet"
           }
          ],
          "choropleth": [
           {
            "colorbar": {
             "outlinewidth": 0,
             "ticks": ""
            },
            "type": "choropleth"
           }
          ],
          "contour": [
           {
            "colorbar": {
             "outlinewidth": 0,
             "ticks": ""
            },
            "colorscale": [
             [
              0,
              "#0d0887"
             ],
             [
              0.1111111111111111,
              "#46039f"
             ],
             [
              0.2222222222222222,
              "#7201a8"
             ],
             [
              0.3333333333333333,
              "#9c179e"
             ],
             [
              0.4444444444444444,
              "#bd3786"
             ],
             [
              0.5555555555555556,
              "#d8576b"
             ],
             [
              0.6666666666666666,
              "#ed7953"
             ],
             [
              0.7777777777777778,
              "#fb9f3a"
             ],
             [
              0.8888888888888888,
              "#fdca26"
             ],
             [
              1,
              "#f0f921"
             ]
            ],
            "type": "contour"
           }
          ],
          "contourcarpet": [
           {
            "colorbar": {
             "outlinewidth": 0,
             "ticks": ""
            },
            "type": "contourcarpet"
           }
          ],
          "heatmap": [
           {
            "colorbar": {
             "outlinewidth": 0,
             "ticks": ""
            },
            "colorscale": [
             [
              0,
              "#0d0887"
             ],
             [
              0.1111111111111111,
              "#46039f"
             ],
             [
              0.2222222222222222,
              "#7201a8"
             ],
             [
              0.3333333333333333,
              "#9c179e"
             ],
             [
              0.4444444444444444,
              "#bd3786"
             ],
             [
              0.5555555555555556,
              "#d8576b"
             ],
             [
              0.6666666666666666,
              "#ed7953"
             ],
             [
              0.7777777777777778,
              "#fb9f3a"
             ],
             [
              0.8888888888888888,
              "#fdca26"
             ],
             [
              1,
              "#f0f921"
             ]
            ],
            "type": "heatmap"
           }
          ],
          "histogram": [
           {
            "marker": {
             "pattern": {
              "fillmode": "overlay",
              "size": 10,
              "solidity": 0.2
             }
            },
            "type": "histogram"
           }
          ],
          "histogram2d": [
           {
            "colorbar": {
             "outlinewidth": 0,
             "ticks": ""
            },
            "colorscale": [
             [
              0,
              "#0d0887"
             ],
             [
              0.1111111111111111,
              "#46039f"
             ],
             [
              0.2222222222222222,
              "#7201a8"
             ],
             [
              0.3333333333333333,
              "#9c179e"
             ],
             [
              0.4444444444444444,
              "#bd3786"
             ],
             [
              0.5555555555555556,
              "#d8576b"
             ],
             [
              0.6666666666666666,
              "#ed7953"
             ],
             [
              0.7777777777777778,
              "#fb9f3a"
             ],
             [
              0.8888888888888888,
              "#fdca26"
             ],
             [
              1,
              "#f0f921"
             ]
            ],
            "type": "histogram2d"
           }
          ],
          "histogram2dcontour": [
           {
            "colorbar": {
             "outlinewidth": 0,
             "ticks": ""
            },
            "colorscale": [
             [
              0,
              "#0d0887"
             ],
             [
              0.1111111111111111,
              "#46039f"
             ],
             [
              0.2222222222222222,
              "#7201a8"
             ],
             [
              0.3333333333333333,
              "#9c179e"
             ],
             [
              0.4444444444444444,
              "#bd3786"
             ],
             [
              0.5555555555555556,
              "#d8576b"
             ],
             [
              0.6666666666666666,
              "#ed7953"
             ],
             [
              0.7777777777777778,
              "#fb9f3a"
             ],
             [
              0.8888888888888888,
              "#fdca26"
             ],
             [
              1,
              "#f0f921"
             ]
            ],
            "type": "histogram2dcontour"
           }
          ],
          "mesh3d": [
           {
            "colorbar": {
             "outlinewidth": 0,
             "ticks": ""
            },
            "type": "mesh3d"
           }
          ],
          "parcoords": [
           {
            "line": {
             "colorbar": {
              "outlinewidth": 0,
              "ticks": ""
             }
            },
            "type": "parcoords"
           }
          ],
          "pie": [
           {
            "automargin": true,
            "type": "pie"
           }
          ],
          "scatter": [
           {
            "fillpattern": {
             "fillmode": "overlay",
             "size": 10,
             "solidity": 0.2
            },
            "type": "scatter"
           }
          ],
          "scatter3d": [
           {
            "line": {
             "colorbar": {
              "outlinewidth": 0,
              "ticks": ""
             }
            },
            "marker": {
             "colorbar": {
              "outlinewidth": 0,
              "ticks": ""
             }
            },
            "type": "scatter3d"
           }
          ],
          "scattercarpet": [
           {
            "marker": {
             "colorbar": {
              "outlinewidth": 0,
              "ticks": ""
             }
            },
            "type": "scattercarpet"
           }
          ],
          "scattergeo": [
           {
            "marker": {
             "colorbar": {
              "outlinewidth": 0,
              "ticks": ""
             }
            },
            "type": "scattergeo"
           }
          ],
          "scattergl": [
           {
            "marker": {
             "colorbar": {
              "outlinewidth": 0,
              "ticks": ""
             }
            },
            "type": "scattergl"
           }
          ],
          "scattermap": [
           {
            "marker": {
             "colorbar": {
              "outlinewidth": 0,
              "ticks": ""
             }
            },
            "type": "scattermap"
           }
          ],
          "scattermapbox": [
           {
            "marker": {
             "colorbar": {
              "outlinewidth": 0,
              "ticks": ""
             }
            },
            "type": "scattermapbox"
           }
          ],
          "scatterpolar": [
           {
            "marker": {
             "colorbar": {
              "outlinewidth": 0,
              "ticks": ""
             }
            },
            "type": "scatterpolar"
           }
          ],
          "scatterpolargl": [
           {
            "marker": {
             "colorbar": {
              "outlinewidth": 0,
              "ticks": ""
             }
            },
            "type": "scatterpolargl"
           }
          ],
          "scatterternary": [
           {
            "marker": {
             "colorbar": {
              "outlinewidth": 0,
              "ticks": ""
             }
            },
            "type": "scatterternary"
           }
          ],
          "surface": [
           {
            "colorbar": {
             "outlinewidth": 0,
             "ticks": ""
            },
            "colorscale": [
             [
              0,
              "#0d0887"
             ],
             [
              0.1111111111111111,
              "#46039f"
             ],
             [
              0.2222222222222222,
              "#7201a8"
             ],
             [
              0.3333333333333333,
              "#9c179e"
             ],
             [
              0.4444444444444444,
              "#bd3786"
             ],
             [
              0.5555555555555556,
              "#d8576b"
             ],
             [
              0.6666666666666666,
              "#ed7953"
             ],
             [
              0.7777777777777778,
              "#fb9f3a"
             ],
             [
              0.8888888888888888,
              "#fdca26"
             ],
             [
              1,
              "#f0f921"
             ]
            ],
            "type": "surface"
           }
          ],
          "table": [
           {
            "cells": {
             "fill": {
              "color": "#EBF0F8"
             },
             "line": {
              "color": "white"
             }
            },
            "header": {
             "fill": {
              "color": "#C8D4E3"
             },
             "line": {
              "color": "white"
             }
            },
            "type": "table"
           }
          ]
         },
         "layout": {
          "annotationdefaults": {
           "arrowcolor": "#2a3f5f",
           "arrowhead": 0,
           "arrowwidth": 1
          },
          "autotypenumbers": "strict",
          "coloraxis": {
           "colorbar": {
            "outlinewidth": 0,
            "ticks": ""
           }
          },
          "colorscale": {
           "diverging": [
            [
             0,
             "#8e0152"
            ],
            [
             0.1,
             "#c51b7d"
            ],
            [
             0.2,
             "#de77ae"
            ],
            [
             0.3,
             "#f1b6da"
            ],
            [
             0.4,
             "#fde0ef"
            ],
            [
             0.5,
             "#f7f7f7"
            ],
            [
             0.6,
             "#e6f5d0"
            ],
            [
             0.7,
             "#b8e186"
            ],
            [
             0.8,
             "#7fbc41"
            ],
            [
             0.9,
             "#4d9221"
            ],
            [
             1,
             "#276419"
            ]
           ],
           "sequential": [
            [
             0,
             "#0d0887"
            ],
            [
             0.1111111111111111,
             "#46039f"
            ],
            [
             0.2222222222222222,
             "#7201a8"
            ],
            [
             0.3333333333333333,
             "#9c179e"
            ],
            [
             0.4444444444444444,
             "#bd3786"
            ],
            [
             0.5555555555555556,
             "#d8576b"
            ],
            [
             0.6666666666666666,
             "#ed7953"
            ],
            [
             0.7777777777777778,
             "#fb9f3a"
            ],
            [
             0.8888888888888888,
             "#fdca26"
            ],
            [
             1,
             "#f0f921"
            ]
           ],
           "sequentialminus": [
            [
             0,
             "#0d0887"
            ],
            [
             0.1111111111111111,
             "#46039f"
            ],
            [
             0.2222222222222222,
             "#7201a8"
            ],
            [
             0.3333333333333333,
             "#9c179e"
            ],
            [
             0.4444444444444444,
             "#bd3786"
            ],
            [
             0.5555555555555556,
             "#d8576b"
            ],
            [
             0.6666666666666666,
             "#ed7953"
            ],
            [
             0.7777777777777778,
             "#fb9f3a"
            ],
            [
             0.8888888888888888,
             "#fdca26"
            ],
            [
             1,
             "#f0f921"
            ]
           ]
          },
          "colorway": [
           "#636efa",
           "#EF553B",
           "#00cc96",
           "#ab63fa",
           "#FFA15A",
           "#19d3f3",
           "#FF6692",
           "#B6E880",
           "#FF97FF",
           "#FECB52"
          ],
          "font": {
           "color": "#2a3f5f"
          },
          "geo": {
           "bgcolor": "white",
           "lakecolor": "white",
           "landcolor": "#E5ECF6",
           "showlakes": true,
           "showland": true,
           "subunitcolor": "white"
          },
          "hoverlabel": {
           "align": "left"
          },
          "hovermode": "closest",
          "mapbox": {
           "style": "light"
          },
          "paper_bgcolor": "white",
          "plot_bgcolor": "#E5ECF6",
          "polar": {
           "angularaxis": {
            "gridcolor": "white",
            "linecolor": "white",
            "ticks": ""
           },
           "bgcolor": "#E5ECF6",
           "radialaxis": {
            "gridcolor": "white",
            "linecolor": "white",
            "ticks": ""
           }
          },
          "scene": {
           "xaxis": {
            "backgroundcolor": "#E5ECF6",
            "gridcolor": "white",
            "gridwidth": 2,
            "linecolor": "white",
            "showbackground": true,
            "ticks": "",
            "zerolinecolor": "white"
           },
           "yaxis": {
            "backgroundcolor": "#E5ECF6",
            "gridcolor": "white",
            "gridwidth": 2,
            "linecolor": "white",
            "showbackground": true,
            "ticks": "",
            "zerolinecolor": "white"
           },
           "zaxis": {
            "backgroundcolor": "#E5ECF6",
            "gridcolor": "white",
            "gridwidth": 2,
            "linecolor": "white",
            "showbackground": true,
            "ticks": "",
            "zerolinecolor": "white"
           }
          },
          "shapedefaults": {
           "line": {
            "color": "#2a3f5f"
           }
          },
          "ternary": {
           "aaxis": {
            "gridcolor": "white",
            "linecolor": "white",
            "ticks": ""
           },
           "baxis": {
            "gridcolor": "white",
            "linecolor": "white",
            "ticks": ""
           },
           "bgcolor": "#E5ECF6",
           "caxis": {
            "gridcolor": "white",
            "linecolor": "white",
            "ticks": ""
           }
          },
          "title": {
           "x": 0.05
          },
          "xaxis": {
           "automargin": true,
           "gridcolor": "white",
           "linecolor": "white",
           "ticks": "",
           "title": {
            "standoff": 15
           },
           "zerolinecolor": "white",
           "zerolinewidth": 2
          },
          "yaxis": {
           "automargin": true,
           "gridcolor": "white",
           "linecolor": "white",
           "ticks": "",
           "title": {
            "standoff": 15
           },
           "zerolinecolor": "white",
           "zerolinewidth": 2
          }
         }
        },
        "title": {
         "text": "Average Followers by Chapters Buckets"
        },
        "width": 800,
        "xaxis": {
         "title": {
          "text": "Chapters Buckets (Equal Sized Groups)"
         }
        },
        "yaxis": {
         "title": {
          "text": "Average Followers"
         },
         "type": "log"
        }
       }
      }
     },
     "metadata": {},
     "output_type": "display_data"
    },
    {
     "name": "stdout",
     "output_type": "stream",
     "text": [
      "\n",
      "Pages Bucket Ranges:\n",
      "Bucket 1: 41.0 to 267.0 pages\n",
      "Bucket 2: 274.0 to 419.0 pages\n",
      "Bucket 3: 430.0 to 532.0 pages\n",
      "Bucket 4: 551.0 to 618.0 pages\n",
      "Bucket 5: 623.0 to 747.0 pages\n",
      "Bucket 6: 778.0 to 936.0 pages\n",
      "Bucket 7: 939.0 to 1129.0 pages\n",
      "Bucket 8: 1226.0 to 1798.0 pages\n",
      "Bucket 9: 1802.0 to 3010.0 pages\n",
      "Bucket 10: 3074.0 to 8206.0 pages\n"
     ]
    },
    {
     "name": "stderr",
     "output_type": "stream",
     "text": [
      "C:\\Users\\swapn\\AppData\\Local\\Temp\\ipykernel_4772\\1529275039.py:78: FutureWarning:\n",
      "\n",
      "The default of observed=False is deprecated and will be changed to True in a future version of pandas. Pass observed=False to retain current behavior or observed=True to adopt the future default and silence this warning.\n",
      "\n",
      "C:\\Users\\swapn\\AppData\\Local\\Temp\\ipykernel_4772\\1529275039.py:81: FutureWarning:\n",
      "\n",
      "The default of observed=False is deprecated and will be changed to True in a future version of pandas. Pass observed=False to retain current behavior or observed=True to adopt the future default and silence this warning.\n",
      "\n"
     ]
    },
    {
     "data": {
      "application/vnd.plotly.v1+json": {
       "config": {
        "plotlyServerURL": "https://plot.ly"
       },
       "data": [
        {
         "name": "views",
         "text": {
          "bdata": "hetRuG7A8kAAAAAAZDP6QMP1KFwN0wZB4XoUriRiEkEfhetRoIwSQXE9Cle6pSRBAAAAAH7cIUGPwvWoK8opQUjhehQ5qTJB9ihczxnuSkE=",
          "dtype": "f8"
         },
         "textposition": "auto",
         "type": "bar",
         "x": [
          "Bucket 1",
          "Bucket 2",
          "Bucket 3",
          "Bucket 4",
          "Bucket 5",
          "Bucket 6",
          "Bucket 7",
          "Bucket 8",
          "Bucket 9",
          "Bucket 10"
         ],
         "y": {
          "bdata": "xU7sxG7A8kAAAAAAZDP6QFVVVVUN0wZBq6qqqiRiEkFP7MROoIwSQVVVVVW6pSRBAAAAAH7cIUGrqqqqK8opQVVVVRU5qTJBT+zEzhnuSkE=",
          "dtype": "f8"
         }
        }
       ],
       "layout": {
        "height": 500,
        "template": {
         "data": {
          "bar": [
           {
            "error_x": {
             "color": "#2a3f5f"
            },
            "error_y": {
             "color": "#2a3f5f"
            },
            "marker": {
             "line": {
              "color": "#E5ECF6",
              "width": 0.5
             },
             "pattern": {
              "fillmode": "overlay",
              "size": 10,
              "solidity": 0.2
             }
            },
            "type": "bar"
           }
          ],
          "barpolar": [
           {
            "marker": {
             "line": {
              "color": "#E5ECF6",
              "width": 0.5
             },
             "pattern": {
              "fillmode": "overlay",
              "size": 10,
              "solidity": 0.2
             }
            },
            "type": "barpolar"
           }
          ],
          "carpet": [
           {
            "aaxis": {
             "endlinecolor": "#2a3f5f",
             "gridcolor": "white",
             "linecolor": "white",
             "minorgridcolor": "white",
             "startlinecolor": "#2a3f5f"
            },
            "baxis": {
             "endlinecolor": "#2a3f5f",
             "gridcolor": "white",
             "linecolor": "white",
             "minorgridcolor": "white",
             "startlinecolor": "#2a3f5f"
            },
            "type": "carpet"
           }
          ],
          "choropleth": [
           {
            "colorbar": {
             "outlinewidth": 0,
             "ticks": ""
            },
            "type": "choropleth"
           }
          ],
          "contour": [
           {
            "colorbar": {
             "outlinewidth": 0,
             "ticks": ""
            },
            "colorscale": [
             [
              0,
              "#0d0887"
             ],
             [
              0.1111111111111111,
              "#46039f"
             ],
             [
              0.2222222222222222,
              "#7201a8"
             ],
             [
              0.3333333333333333,
              "#9c179e"
             ],
             [
              0.4444444444444444,
              "#bd3786"
             ],
             [
              0.5555555555555556,
              "#d8576b"
             ],
             [
              0.6666666666666666,
              "#ed7953"
             ],
             [
              0.7777777777777778,
              "#fb9f3a"
             ],
             [
              0.8888888888888888,
              "#fdca26"
             ],
             [
              1,
              "#f0f921"
             ]
            ],
            "type": "contour"
           }
          ],
          "contourcarpet": [
           {
            "colorbar": {
             "outlinewidth": 0,
             "ticks": ""
            },
            "type": "contourcarpet"
           }
          ],
          "heatmap": [
           {
            "colorbar": {
             "outlinewidth": 0,
             "ticks": ""
            },
            "colorscale": [
             [
              0,
              "#0d0887"
             ],
             [
              0.1111111111111111,
              "#46039f"
             ],
             [
              0.2222222222222222,
              "#7201a8"
             ],
             [
              0.3333333333333333,
              "#9c179e"
             ],
             [
              0.4444444444444444,
              "#bd3786"
             ],
             [
              0.5555555555555556,
              "#d8576b"
             ],
             [
              0.6666666666666666,
              "#ed7953"
             ],
             [
              0.7777777777777778,
              "#fb9f3a"
             ],
             [
              0.8888888888888888,
              "#fdca26"
             ],
             [
              1,
              "#f0f921"
             ]
            ],
            "type": "heatmap"
           }
          ],
          "histogram": [
           {
            "marker": {
             "pattern": {
              "fillmode": "overlay",
              "size": 10,
              "solidity": 0.2
             }
            },
            "type": "histogram"
           }
          ],
          "histogram2d": [
           {
            "colorbar": {
             "outlinewidth": 0,
             "ticks": ""
            },
            "colorscale": [
             [
              0,
              "#0d0887"
             ],
             [
              0.1111111111111111,
              "#46039f"
             ],
             [
              0.2222222222222222,
              "#7201a8"
             ],
             [
              0.3333333333333333,
              "#9c179e"
             ],
             [
              0.4444444444444444,
              "#bd3786"
             ],
             [
              0.5555555555555556,
              "#d8576b"
             ],
             [
              0.6666666666666666,
              "#ed7953"
             ],
             [
              0.7777777777777778,
              "#fb9f3a"
             ],
             [
              0.8888888888888888,
              "#fdca26"
             ],
             [
              1,
              "#f0f921"
             ]
            ],
            "type": "histogram2d"
           }
          ],
          "histogram2dcontour": [
           {
            "colorbar": {
             "outlinewidth": 0,
             "ticks": ""
            },
            "colorscale": [
             [
              0,
              "#0d0887"
             ],
             [
              0.1111111111111111,
              "#46039f"
             ],
             [
              0.2222222222222222,
              "#7201a8"
             ],
             [
              0.3333333333333333,
              "#9c179e"
             ],
             [
              0.4444444444444444,
              "#bd3786"
             ],
             [
              0.5555555555555556,
              "#d8576b"
             ],
             [
              0.6666666666666666,
              "#ed7953"
             ],
             [
              0.7777777777777778,
              "#fb9f3a"
             ],
             [
              0.8888888888888888,
              "#fdca26"
             ],
             [
              1,
              "#f0f921"
             ]
            ],
            "type": "histogram2dcontour"
           }
          ],
          "mesh3d": [
           {
            "colorbar": {
             "outlinewidth": 0,
             "ticks": ""
            },
            "type": "mesh3d"
           }
          ],
          "parcoords": [
           {
            "line": {
             "colorbar": {
              "outlinewidth": 0,
              "ticks": ""
             }
            },
            "type": "parcoords"
           }
          ],
          "pie": [
           {
            "automargin": true,
            "type": "pie"
           }
          ],
          "scatter": [
           {
            "fillpattern": {
             "fillmode": "overlay",
             "size": 10,
             "solidity": 0.2
            },
            "type": "scatter"
           }
          ],
          "scatter3d": [
           {
            "line": {
             "colorbar": {
              "outlinewidth": 0,
              "ticks": ""
             }
            },
            "marker": {
             "colorbar": {
              "outlinewidth": 0,
              "ticks": ""
             }
            },
            "type": "scatter3d"
           }
          ],
          "scattercarpet": [
           {
            "marker": {
             "colorbar": {
              "outlinewidth": 0,
              "ticks": ""
             }
            },
            "type": "scattercarpet"
           }
          ],
          "scattergeo": [
           {
            "marker": {
             "colorbar": {
              "outlinewidth": 0,
              "ticks": ""
             }
            },
            "type": "scattergeo"
           }
          ],
          "scattergl": [
           {
            "marker": {
             "colorbar": {
              "outlinewidth": 0,
              "ticks": ""
             }
            },
            "type": "scattergl"
           }
          ],
          "scattermap": [
           {
            "marker": {
             "colorbar": {
              "outlinewidth": 0,
              "ticks": ""
             }
            },
            "type": "scattermap"
           }
          ],
          "scattermapbox": [
           {
            "marker": {
             "colorbar": {
              "outlinewidth": 0,
              "ticks": ""
             }
            },
            "type": "scattermapbox"
           }
          ],
          "scatterpolar": [
           {
            "marker": {
             "colorbar": {
              "outlinewidth": 0,
              "ticks": ""
             }
            },
            "type": "scatterpolar"
           }
          ],
          "scatterpolargl": [
           {
            "marker": {
             "colorbar": {
              "outlinewidth": 0,
              "ticks": ""
             }
            },
            "type": "scatterpolargl"
           }
          ],
          "scatterternary": [
           {
            "marker": {
             "colorbar": {
              "outlinewidth": 0,
              "ticks": ""
             }
            },
            "type": "scatterternary"
           }
          ],
          "surface": [
           {
            "colorbar": {
             "outlinewidth": 0,
             "ticks": ""
            },
            "colorscale": [
             [
              0,
              "#0d0887"
             ],
             [
              0.1111111111111111,
              "#46039f"
             ],
             [
              0.2222222222222222,
              "#7201a8"
             ],
             [
              0.3333333333333333,
              "#9c179e"
             ],
             [
              0.4444444444444444,
              "#bd3786"
             ],
             [
              0.5555555555555556,
              "#d8576b"
             ],
             [
              0.6666666666666666,
              "#ed7953"
             ],
             [
              0.7777777777777778,
              "#fb9f3a"
             ],
             [
              0.8888888888888888,
              "#fdca26"
             ],
             [
              1,
              "#f0f921"
             ]
            ],
            "type": "surface"
           }
          ],
          "table": [
           {
            "cells": {
             "fill": {
              "color": "#EBF0F8"
             },
             "line": {
              "color": "white"
             }
            },
            "header": {
             "fill": {
              "color": "#C8D4E3"
             },
             "line": {
              "color": "white"
             }
            },
            "type": "table"
           }
          ]
         },
         "layout": {
          "annotationdefaults": {
           "arrowcolor": "#2a3f5f",
           "arrowhead": 0,
           "arrowwidth": 1
          },
          "autotypenumbers": "strict",
          "coloraxis": {
           "colorbar": {
            "outlinewidth": 0,
            "ticks": ""
           }
          },
          "colorscale": {
           "diverging": [
            [
             0,
             "#8e0152"
            ],
            [
             0.1,
             "#c51b7d"
            ],
            [
             0.2,
             "#de77ae"
            ],
            [
             0.3,
             "#f1b6da"
            ],
            [
             0.4,
             "#fde0ef"
            ],
            [
             0.5,
             "#f7f7f7"
            ],
            [
             0.6,
             "#e6f5d0"
            ],
            [
             0.7,
             "#b8e186"
            ],
            [
             0.8,
             "#7fbc41"
            ],
            [
             0.9,
             "#4d9221"
            ],
            [
             1,
             "#276419"
            ]
           ],
           "sequential": [
            [
             0,
             "#0d0887"
            ],
            [
             0.1111111111111111,
             "#46039f"
            ],
            [
             0.2222222222222222,
             "#7201a8"
            ],
            [
             0.3333333333333333,
             "#9c179e"
            ],
            [
             0.4444444444444444,
             "#bd3786"
            ],
            [
             0.5555555555555556,
             "#d8576b"
            ],
            [
             0.6666666666666666,
             "#ed7953"
            ],
            [
             0.7777777777777778,
             "#fb9f3a"
            ],
            [
             0.8888888888888888,
             "#fdca26"
            ],
            [
             1,
             "#f0f921"
            ]
           ],
           "sequentialminus": [
            [
             0,
             "#0d0887"
            ],
            [
             0.1111111111111111,
             "#46039f"
            ],
            [
             0.2222222222222222,
             "#7201a8"
            ],
            [
             0.3333333333333333,
             "#9c179e"
            ],
            [
             0.4444444444444444,
             "#bd3786"
            ],
            [
             0.5555555555555556,
             "#d8576b"
            ],
            [
             0.6666666666666666,
             "#ed7953"
            ],
            [
             0.7777777777777778,
             "#fb9f3a"
            ],
            [
             0.8888888888888888,
             "#fdca26"
            ],
            [
             1,
             "#f0f921"
            ]
           ]
          },
          "colorway": [
           "#636efa",
           "#EF553B",
           "#00cc96",
           "#ab63fa",
           "#FFA15A",
           "#19d3f3",
           "#FF6692",
           "#B6E880",
           "#FF97FF",
           "#FECB52"
          ],
          "font": {
           "color": "#2a3f5f"
          },
          "geo": {
           "bgcolor": "white",
           "lakecolor": "white",
           "landcolor": "#E5ECF6",
           "showlakes": true,
           "showland": true,
           "subunitcolor": "white"
          },
          "hoverlabel": {
           "align": "left"
          },
          "hovermode": "closest",
          "mapbox": {
           "style": "light"
          },
          "paper_bgcolor": "white",
          "plot_bgcolor": "#E5ECF6",
          "polar": {
           "angularaxis": {
            "gridcolor": "white",
            "linecolor": "white",
            "ticks": ""
           },
           "bgcolor": "#E5ECF6",
           "radialaxis": {
            "gridcolor": "white",
            "linecolor": "white",
            "ticks": ""
           }
          },
          "scene": {
           "xaxis": {
            "backgroundcolor": "#E5ECF6",
            "gridcolor": "white",
            "gridwidth": 2,
            "linecolor": "white",
            "showbackground": true,
            "ticks": "",
            "zerolinecolor": "white"
           },
           "yaxis": {
            "backgroundcolor": "#E5ECF6",
            "gridcolor": "white",
            "gridwidth": 2,
            "linecolor": "white",
            "showbackground": true,
            "ticks": "",
            "zerolinecolor": "white"
           },
           "zaxis": {
            "backgroundcolor": "#E5ECF6",
            "gridcolor": "white",
            "gridwidth": 2,
            "linecolor": "white",
            "showbackground": true,
            "ticks": "",
            "zerolinecolor": "white"
           }
          },
          "shapedefaults": {
           "line": {
            "color": "#2a3f5f"
           }
          },
          "ternary": {
           "aaxis": {
            "gridcolor": "white",
            "linecolor": "white",
            "ticks": ""
           },
           "baxis": {
            "gridcolor": "white",
            "linecolor": "white",
            "ticks": ""
           },
           "bgcolor": "#E5ECF6",
           "caxis": {
            "gridcolor": "white",
            "linecolor": "white",
            "ticks": ""
           }
          },
          "title": {
           "x": 0.05
          },
          "xaxis": {
           "automargin": true,
           "gridcolor": "white",
           "linecolor": "white",
           "ticks": "",
           "title": {
            "standoff": 15
           },
           "zerolinecolor": "white",
           "zerolinewidth": 2
          },
          "yaxis": {
           "automargin": true,
           "gridcolor": "white",
           "linecolor": "white",
           "ticks": "",
           "title": {
            "standoff": 15
           },
           "zerolinecolor": "white",
           "zerolinewidth": 2
          }
         }
        },
        "title": {
         "text": "Average Views by Pages Buckets"
        },
        "width": 800,
        "xaxis": {
         "title": {
          "text": "Pages Buckets (Equal Sized Groups)"
         }
        },
        "yaxis": {
         "title": {
          "text": "Average Views"
         },
         "type": "log"
        }
       }
      }
     },
     "metadata": {},
     "output_type": "display_data"
    },
    {
     "data": {
      "application/vnd.plotly.v1+json": {
       "config": {
        "plotlyServerURL": "https://plot.ly"
       },
       "data": [
        {
         "name": "rating",
         "text": {
          "bdata": "SOF6FK5HEkDsUbgehesRQFyPwvUoXBJACtejcD0KEkCPwvUoXI8SQJqZmZmZmRFAcT0K16NwEUCuR+F6FK4RQOxRuB6F6xBAAAAAAAAAEUA=",
          "dtype": "f8"
         },
         "textposition": "auto",
         "type": "bar",
         "x": [
          "Bucket 1",
          "Bucket 2",
          "Bucket 3",
          "Bucket 4",
          "Bucket 5",
          "Bucket 6",
          "Bucket 7",
          "Bucket 8",
          "Bucket 9",
          "Bucket 10"
         ],
         "y": {
          "bdata": "lecSyBpGEkCrqqqqquoRQB+F61G4XhJAjCW/WPILEkDPsvlnTJMSQFyPwvUonBFAtYFOG+h0EUDyiyW/WLIRQOtRuB6F6xBAAAAAAAAAEUA=",
          "dtype": "f8"
         }
        }
       ],
       "layout": {
        "height": 500,
        "template": {
         "data": {
          "bar": [
           {
            "error_x": {
             "color": "#2a3f5f"
            },
            "error_y": {
             "color": "#2a3f5f"
            },
            "marker": {
             "line": {
              "color": "#E5ECF6",
              "width": 0.5
             },
             "pattern": {
              "fillmode": "overlay",
              "size": 10,
              "solidity": 0.2
             }
            },
            "type": "bar"
           }
          ],
          "barpolar": [
           {
            "marker": {
             "line": {
              "color": "#E5ECF6",
              "width": 0.5
             },
             "pattern": {
              "fillmode": "overlay",
              "size": 10,
              "solidity": 0.2
             }
            },
            "type": "barpolar"
           }
          ],
          "carpet": [
           {
            "aaxis": {
             "endlinecolor": "#2a3f5f",
             "gridcolor": "white",
             "linecolor": "white",
             "minorgridcolor": "white",
             "startlinecolor": "#2a3f5f"
            },
            "baxis": {
             "endlinecolor": "#2a3f5f",
             "gridcolor": "white",
             "linecolor": "white",
             "minorgridcolor": "white",
             "startlinecolor": "#2a3f5f"
            },
            "type": "carpet"
           }
          ],
          "choropleth": [
           {
            "colorbar": {
             "outlinewidth": 0,
             "ticks": ""
            },
            "type": "choropleth"
           }
          ],
          "contour": [
           {
            "colorbar": {
             "outlinewidth": 0,
             "ticks": ""
            },
            "colorscale": [
             [
              0,
              "#0d0887"
             ],
             [
              0.1111111111111111,
              "#46039f"
             ],
             [
              0.2222222222222222,
              "#7201a8"
             ],
             [
              0.3333333333333333,
              "#9c179e"
             ],
             [
              0.4444444444444444,
              "#bd3786"
             ],
             [
              0.5555555555555556,
              "#d8576b"
             ],
             [
              0.6666666666666666,
              "#ed7953"
             ],
             [
              0.7777777777777778,
              "#fb9f3a"
             ],
             [
              0.8888888888888888,
              "#fdca26"
             ],
             [
              1,
              "#f0f921"
             ]
            ],
            "type": "contour"
           }
          ],
          "contourcarpet": [
           {
            "colorbar": {
             "outlinewidth": 0,
             "ticks": ""
            },
            "type": "contourcarpet"
           }
          ],
          "heatmap": [
           {
            "colorbar": {
             "outlinewidth": 0,
             "ticks": ""
            },
            "colorscale": [
             [
              0,
              "#0d0887"
             ],
             [
              0.1111111111111111,
              "#46039f"
             ],
             [
              0.2222222222222222,
              "#7201a8"
             ],
             [
              0.3333333333333333,
              "#9c179e"
             ],
             [
              0.4444444444444444,
              "#bd3786"
             ],
             [
              0.5555555555555556,
              "#d8576b"
             ],
             [
              0.6666666666666666,
              "#ed7953"
             ],
             [
              0.7777777777777778,
              "#fb9f3a"
             ],
             [
              0.8888888888888888,
              "#fdca26"
             ],
             [
              1,
              "#f0f921"
             ]
            ],
            "type": "heatmap"
           }
          ],
          "histogram": [
           {
            "marker": {
             "pattern": {
              "fillmode": "overlay",
              "size": 10,
              "solidity": 0.2
             }
            },
            "type": "histogram"
           }
          ],
          "histogram2d": [
           {
            "colorbar": {
             "outlinewidth": 0,
             "ticks": ""
            },
            "colorscale": [
             [
              0,
              "#0d0887"
             ],
             [
              0.1111111111111111,
              "#46039f"
             ],
             [
              0.2222222222222222,
              "#7201a8"
             ],
             [
              0.3333333333333333,
              "#9c179e"
             ],
             [
              0.4444444444444444,
              "#bd3786"
             ],
             [
              0.5555555555555556,
              "#d8576b"
             ],
             [
              0.6666666666666666,
              "#ed7953"
             ],
             [
              0.7777777777777778,
              "#fb9f3a"
             ],
             [
              0.8888888888888888,
              "#fdca26"
             ],
             [
              1,
              "#f0f921"
             ]
            ],
            "type": "histogram2d"
           }
          ],
          "histogram2dcontour": [
           {
            "colorbar": {
             "outlinewidth": 0,
             "ticks": ""
            },
            "colorscale": [
             [
              0,
              "#0d0887"
             ],
             [
              0.1111111111111111,
              "#46039f"
             ],
             [
              0.2222222222222222,
              "#7201a8"
             ],
             [
              0.3333333333333333,
              "#9c179e"
             ],
             [
              0.4444444444444444,
              "#bd3786"
             ],
             [
              0.5555555555555556,
              "#d8576b"
             ],
             [
              0.6666666666666666,
              "#ed7953"
             ],
             [
              0.7777777777777778,
              "#fb9f3a"
             ],
             [
              0.8888888888888888,
              "#fdca26"
             ],
             [
              1,
              "#f0f921"
             ]
            ],
            "type": "histogram2dcontour"
           }
          ],
          "mesh3d": [
           {
            "colorbar": {
             "outlinewidth": 0,
             "ticks": ""
            },
            "type": "mesh3d"
           }
          ],
          "parcoords": [
           {
            "line": {
             "colorbar": {
              "outlinewidth": 0,
              "ticks": ""
             }
            },
            "type": "parcoords"
           }
          ],
          "pie": [
           {
            "automargin": true,
            "type": "pie"
           }
          ],
          "scatter": [
           {
            "fillpattern": {
             "fillmode": "overlay",
             "size": 10,
             "solidity": 0.2
            },
            "type": "scatter"
           }
          ],
          "scatter3d": [
           {
            "line": {
             "colorbar": {
              "outlinewidth": 0,
              "ticks": ""
             }
            },
            "marker": {
             "colorbar": {
              "outlinewidth": 0,
              "ticks": ""
             }
            },
            "type": "scatter3d"
           }
          ],
          "scattercarpet": [
           {
            "marker": {
             "colorbar": {
              "outlinewidth": 0,
              "ticks": ""
             }
            },
            "type": "scattercarpet"
           }
          ],
          "scattergeo": [
           {
            "marker": {
             "colorbar": {
              "outlinewidth": 0,
              "ticks": ""
             }
            },
            "type": "scattergeo"
           }
          ],
          "scattergl": [
           {
            "marker": {
             "colorbar": {
              "outlinewidth": 0,
              "ticks": ""
             }
            },
            "type": "scattergl"
           }
          ],
          "scattermap": [
           {
            "marker": {
             "colorbar": {
              "outlinewidth": 0,
              "ticks": ""
             }
            },
            "type": "scattermap"
           }
          ],
          "scattermapbox": [
           {
            "marker": {
             "colorbar": {
              "outlinewidth": 0,
              "ticks": ""
             }
            },
            "type": "scattermapbox"
           }
          ],
          "scatterpolar": [
           {
            "marker": {
             "colorbar": {
              "outlinewidth": 0,
              "ticks": ""
             }
            },
            "type": "scatterpolar"
           }
          ],
          "scatterpolargl": [
           {
            "marker": {
             "colorbar": {
              "outlinewidth": 0,
              "ticks": ""
             }
            },
            "type": "scatterpolargl"
           }
          ],
          "scatterternary": [
           {
            "marker": {
             "colorbar": {
              "outlinewidth": 0,
              "ticks": ""
             }
            },
            "type": "scatterternary"
           }
          ],
          "surface": [
           {
            "colorbar": {
             "outlinewidth": 0,
             "ticks": ""
            },
            "colorscale": [
             [
              0,
              "#0d0887"
             ],
             [
              0.1111111111111111,
              "#46039f"
             ],
             [
              0.2222222222222222,
              "#7201a8"
             ],
             [
              0.3333333333333333,
              "#9c179e"
             ],
             [
              0.4444444444444444,
              "#bd3786"
             ],
             [
              0.5555555555555556,
              "#d8576b"
             ],
             [
              0.6666666666666666,
              "#ed7953"
             ],
             [
              0.7777777777777778,
              "#fb9f3a"
             ],
             [
              0.8888888888888888,
              "#fdca26"
             ],
             [
              1,
              "#f0f921"
             ]
            ],
            "type": "surface"
           }
          ],
          "table": [
           {
            "cells": {
             "fill": {
              "color": "#EBF0F8"
             },
             "line": {
              "color": "white"
             }
            },
            "header": {
             "fill": {
              "color": "#C8D4E3"
             },
             "line": {
              "color": "white"
             }
            },
            "type": "table"
           }
          ]
         },
         "layout": {
          "annotationdefaults": {
           "arrowcolor": "#2a3f5f",
           "arrowhead": 0,
           "arrowwidth": 1
          },
          "autotypenumbers": "strict",
          "coloraxis": {
           "colorbar": {
            "outlinewidth": 0,
            "ticks": ""
           }
          },
          "colorscale": {
           "diverging": [
            [
             0,
             "#8e0152"
            ],
            [
             0.1,
             "#c51b7d"
            ],
            [
             0.2,
             "#de77ae"
            ],
            [
             0.3,
             "#f1b6da"
            ],
            [
             0.4,
             "#fde0ef"
            ],
            [
             0.5,
             "#f7f7f7"
            ],
            [
             0.6,
             "#e6f5d0"
            ],
            [
             0.7,
             "#b8e186"
            ],
            [
             0.8,
             "#7fbc41"
            ],
            [
             0.9,
             "#4d9221"
            ],
            [
             1,
             "#276419"
            ]
           ],
           "sequential": [
            [
             0,
             "#0d0887"
            ],
            [
             0.1111111111111111,
             "#46039f"
            ],
            [
             0.2222222222222222,
             "#7201a8"
            ],
            [
             0.3333333333333333,
             "#9c179e"
            ],
            [
             0.4444444444444444,
             "#bd3786"
            ],
            [
             0.5555555555555556,
             "#d8576b"
            ],
            [
             0.6666666666666666,
             "#ed7953"
            ],
            [
             0.7777777777777778,
             "#fb9f3a"
            ],
            [
             0.8888888888888888,
             "#fdca26"
            ],
            [
             1,
             "#f0f921"
            ]
           ],
           "sequentialminus": [
            [
             0,
             "#0d0887"
            ],
            [
             0.1111111111111111,
             "#46039f"
            ],
            [
             0.2222222222222222,
             "#7201a8"
            ],
            [
             0.3333333333333333,
             "#9c179e"
            ],
            [
             0.4444444444444444,
             "#bd3786"
            ],
            [
             0.5555555555555556,
             "#d8576b"
            ],
            [
             0.6666666666666666,
             "#ed7953"
            ],
            [
             0.7777777777777778,
             "#fb9f3a"
            ],
            [
             0.8888888888888888,
             "#fdca26"
            ],
            [
             1,
             "#f0f921"
            ]
           ]
          },
          "colorway": [
           "#636efa",
           "#EF553B",
           "#00cc96",
           "#ab63fa",
           "#FFA15A",
           "#19d3f3",
           "#FF6692",
           "#B6E880",
           "#FF97FF",
           "#FECB52"
          ],
          "font": {
           "color": "#2a3f5f"
          },
          "geo": {
           "bgcolor": "white",
           "lakecolor": "white",
           "landcolor": "#E5ECF6",
           "showlakes": true,
           "showland": true,
           "subunitcolor": "white"
          },
          "hoverlabel": {
           "align": "left"
          },
          "hovermode": "closest",
          "mapbox": {
           "style": "light"
          },
          "paper_bgcolor": "white",
          "plot_bgcolor": "#E5ECF6",
          "polar": {
           "angularaxis": {
            "gridcolor": "white",
            "linecolor": "white",
            "ticks": ""
           },
           "bgcolor": "#E5ECF6",
           "radialaxis": {
            "gridcolor": "white",
            "linecolor": "white",
            "ticks": ""
           }
          },
          "scene": {
           "xaxis": {
            "backgroundcolor": "#E5ECF6",
            "gridcolor": "white",
            "gridwidth": 2,
            "linecolor": "white",
            "showbackground": true,
            "ticks": "",
            "zerolinecolor": "white"
           },
           "yaxis": {
            "backgroundcolor": "#E5ECF6",
            "gridcolor": "white",
            "gridwidth": 2,
            "linecolor": "white",
            "showbackground": true,
            "ticks": "",
            "zerolinecolor": "white"
           },
           "zaxis": {
            "backgroundcolor": "#E5ECF6",
            "gridcolor": "white",
            "gridwidth": 2,
            "linecolor": "white",
            "showbackground": true,
            "ticks": "",
            "zerolinecolor": "white"
           }
          },
          "shapedefaults": {
           "line": {
            "color": "#2a3f5f"
           }
          },
          "ternary": {
           "aaxis": {
            "gridcolor": "white",
            "linecolor": "white",
            "ticks": ""
           },
           "baxis": {
            "gridcolor": "white",
            "linecolor": "white",
            "ticks": ""
           },
           "bgcolor": "#E5ECF6",
           "caxis": {
            "gridcolor": "white",
            "linecolor": "white",
            "ticks": ""
           }
          },
          "title": {
           "x": 0.05
          },
          "xaxis": {
           "automargin": true,
           "gridcolor": "white",
           "linecolor": "white",
           "ticks": "",
           "title": {
            "standoff": 15
           },
           "zerolinecolor": "white",
           "zerolinewidth": 2
          },
          "yaxis": {
           "automargin": true,
           "gridcolor": "white",
           "linecolor": "white",
           "ticks": "",
           "title": {
            "standoff": 15
           },
           "zerolinecolor": "white",
           "zerolinewidth": 2
          }
         }
        },
        "title": {
         "text": "Average Rating by Pages Buckets"
        },
        "width": 800,
        "xaxis": {
         "title": {
          "text": "Pages Buckets (Equal Sized Groups)"
         }
        },
        "yaxis": {
         "title": {
          "text": "Average Rating"
         }
        }
       }
      }
     },
     "metadata": {},
     "output_type": "display_data"
    },
    {
     "data": {
      "application/vnd.plotly.v1+json": {
       "config": {
        "plotlyServerURL": "https://plot.ly"
       },
       "data": [
        {
         "name": "followers",
         "text": {
          "bdata": "FK5H4XpijUBI4XoUrlGRQAAAAAAAgZRASOF6FK5FnECuR+F6FDucQFyPwvUop6ZAXI/C9agWokC4HoXrUSOfQAAAAAAAb6lAXI/C9SjMqkA=",
          "dtype": "f8"
         },
         "textposition": "auto",
         "type": "bar",
         "x": [
          "Bucket 1",
          "Bucket 2",
          "Bucket 3",
          "Bucket 4",
          "Bucket 5",
          "Bucket 6",
          "Bucket 7",
          "Bucket 8",
          "Bucket 9",
          "Bucket 10"
         ],
         "y": {
          "bdata": "J3ZiJ3ZijUCrqqqqqlGRQAAAAAAAgZRAq6qqqqpFnECxEzuxEzucQKuqqqoqp6ZAq6qqqqoWokBVVVVVVSOfQAAAAAAAb6lAYid2YifMqkA=",
          "dtype": "f8"
         }
        }
       ],
       "layout": {
        "height": 500,
        "template": {
         "data": {
          "bar": [
           {
            "error_x": {
             "color": "#2a3f5f"
            },
            "error_y": {
             "color": "#2a3f5f"
            },
            "marker": {
             "line": {
              "color": "#E5ECF6",
              "width": 0.5
             },
             "pattern": {
              "fillmode": "overlay",
              "size": 10,
              "solidity": 0.2
             }
            },
            "type": "bar"
           }
          ],
          "barpolar": [
           {
            "marker": {
             "line": {
              "color": "#E5ECF6",
              "width": 0.5
             },
             "pattern": {
              "fillmode": "overlay",
              "size": 10,
              "solidity": 0.2
             }
            },
            "type": "barpolar"
           }
          ],
          "carpet": [
           {
            "aaxis": {
             "endlinecolor": "#2a3f5f",
             "gridcolor": "white",
             "linecolor": "white",
             "minorgridcolor": "white",
             "startlinecolor": "#2a3f5f"
            },
            "baxis": {
             "endlinecolor": "#2a3f5f",
             "gridcolor": "white",
             "linecolor": "white",
             "minorgridcolor": "white",
             "startlinecolor": "#2a3f5f"
            },
            "type": "carpet"
           }
          ],
          "choropleth": [
           {
            "colorbar": {
             "outlinewidth": 0,
             "ticks": ""
            },
            "type": "choropleth"
           }
          ],
          "contour": [
           {
            "colorbar": {
             "outlinewidth": 0,
             "ticks": ""
            },
            "colorscale": [
             [
              0,
              "#0d0887"
             ],
             [
              0.1111111111111111,
              "#46039f"
             ],
             [
              0.2222222222222222,
              "#7201a8"
             ],
             [
              0.3333333333333333,
              "#9c179e"
             ],
             [
              0.4444444444444444,
              "#bd3786"
             ],
             [
              0.5555555555555556,
              "#d8576b"
             ],
             [
              0.6666666666666666,
              "#ed7953"
             ],
             [
              0.7777777777777778,
              "#fb9f3a"
             ],
             [
              0.8888888888888888,
              "#fdca26"
             ],
             [
              1,
              "#f0f921"
             ]
            ],
            "type": "contour"
           }
          ],
          "contourcarpet": [
           {
            "colorbar": {
             "outlinewidth": 0,
             "ticks": ""
            },
            "type": "contourcarpet"
           }
          ],
          "heatmap": [
           {
            "colorbar": {
             "outlinewidth": 0,
             "ticks": ""
            },
            "colorscale": [
             [
              0,
              "#0d0887"
             ],
             [
              0.1111111111111111,
              "#46039f"
             ],
             [
              0.2222222222222222,
              "#7201a8"
             ],
             [
              0.3333333333333333,
              "#9c179e"
             ],
             [
              0.4444444444444444,
              "#bd3786"
             ],
             [
              0.5555555555555556,
              "#d8576b"
             ],
             [
              0.6666666666666666,
              "#ed7953"
             ],
             [
              0.7777777777777778,
              "#fb9f3a"
             ],
             [
              0.8888888888888888,
              "#fdca26"
             ],
             [
              1,
              "#f0f921"
             ]
            ],
            "type": "heatmap"
           }
          ],
          "histogram": [
           {
            "marker": {
             "pattern": {
              "fillmode": "overlay",
              "size": 10,
              "solidity": 0.2
             }
            },
            "type": "histogram"
           }
          ],
          "histogram2d": [
           {
            "colorbar": {
             "outlinewidth": 0,
             "ticks": ""
            },
            "colorscale": [
             [
              0,
              "#0d0887"
             ],
             [
              0.1111111111111111,
              "#46039f"
             ],
             [
              0.2222222222222222,
              "#7201a8"
             ],
             [
              0.3333333333333333,
              "#9c179e"
             ],
             [
              0.4444444444444444,
              "#bd3786"
             ],
             [
              0.5555555555555556,
              "#d8576b"
             ],
             [
              0.6666666666666666,
              "#ed7953"
             ],
             [
              0.7777777777777778,
              "#fb9f3a"
             ],
             [
              0.8888888888888888,
              "#fdca26"
             ],
             [
              1,
              "#f0f921"
             ]
            ],
            "type": "histogram2d"
           }
          ],
          "histogram2dcontour": [
           {
            "colorbar": {
             "outlinewidth": 0,
             "ticks": ""
            },
            "colorscale": [
             [
              0,
              "#0d0887"
             ],
             [
              0.1111111111111111,
              "#46039f"
             ],
             [
              0.2222222222222222,
              "#7201a8"
             ],
             [
              0.3333333333333333,
              "#9c179e"
             ],
             [
              0.4444444444444444,
              "#bd3786"
             ],
             [
              0.5555555555555556,
              "#d8576b"
             ],
             [
              0.6666666666666666,
              "#ed7953"
             ],
             [
              0.7777777777777778,
              "#fb9f3a"
             ],
             [
              0.8888888888888888,
              "#fdca26"
             ],
             [
              1,
              "#f0f921"
             ]
            ],
            "type": "histogram2dcontour"
           }
          ],
          "mesh3d": [
           {
            "colorbar": {
             "outlinewidth": 0,
             "ticks": ""
            },
            "type": "mesh3d"
           }
          ],
          "parcoords": [
           {
            "line": {
             "colorbar": {
              "outlinewidth": 0,
              "ticks": ""
             }
            },
            "type": "parcoords"
           }
          ],
          "pie": [
           {
            "automargin": true,
            "type": "pie"
           }
          ],
          "scatter": [
           {
            "fillpattern": {
             "fillmode": "overlay",
             "size": 10,
             "solidity": 0.2
            },
            "type": "scatter"
           }
          ],
          "scatter3d": [
           {
            "line": {
             "colorbar": {
              "outlinewidth": 0,
              "ticks": ""
             }
            },
            "marker": {
             "colorbar": {
              "outlinewidth": 0,
              "ticks": ""
             }
            },
            "type": "scatter3d"
           }
          ],
          "scattercarpet": [
           {
            "marker": {
             "colorbar": {
              "outlinewidth": 0,
              "ticks": ""
             }
            },
            "type": "scattercarpet"
           }
          ],
          "scattergeo": [
           {
            "marker": {
             "colorbar": {
              "outlinewidth": 0,
              "ticks": ""
             }
            },
            "type": "scattergeo"
           }
          ],
          "scattergl": [
           {
            "marker": {
             "colorbar": {
              "outlinewidth": 0,
              "ticks": ""
             }
            },
            "type": "scattergl"
           }
          ],
          "scattermap": [
           {
            "marker": {
             "colorbar": {
              "outlinewidth": 0,
              "ticks": ""
             }
            },
            "type": "scattermap"
           }
          ],
          "scattermapbox": [
           {
            "marker": {
             "colorbar": {
              "outlinewidth": 0,
              "ticks": ""
             }
            },
            "type": "scattermapbox"
           }
          ],
          "scatterpolar": [
           {
            "marker": {
             "colorbar": {
              "outlinewidth": 0,
              "ticks": ""
             }
            },
            "type": "scatterpolar"
           }
          ],
          "scatterpolargl": [
           {
            "marker": {
             "colorbar": {
              "outlinewidth": 0,
              "ticks": ""
             }
            },
            "type": "scatterpolargl"
           }
          ],
          "scatterternary": [
           {
            "marker": {
             "colorbar": {
              "outlinewidth": 0,
              "ticks": ""
             }
            },
            "type": "scatterternary"
           }
          ],
          "surface": [
           {
            "colorbar": {
             "outlinewidth": 0,
             "ticks": ""
            },
            "colorscale": [
             [
              0,
              "#0d0887"
             ],
             [
              0.1111111111111111,
              "#46039f"
             ],
             [
              0.2222222222222222,
              "#7201a8"
             ],
             [
              0.3333333333333333,
              "#9c179e"
             ],
             [
              0.4444444444444444,
              "#bd3786"
             ],
             [
              0.5555555555555556,
              "#d8576b"
             ],
             [
              0.6666666666666666,
              "#ed7953"
             ],
             [
              0.7777777777777778,
              "#fb9f3a"
             ],
             [
              0.8888888888888888,
              "#fdca26"
             ],
             [
              1,
              "#f0f921"
             ]
            ],
            "type": "surface"
           }
          ],
          "table": [
           {
            "cells": {
             "fill": {
              "color": "#EBF0F8"
             },
             "line": {
              "color": "white"
             }
            },
            "header": {
             "fill": {
              "color": "#C8D4E3"
             },
             "line": {
              "color": "white"
             }
            },
            "type": "table"
           }
          ]
         },
         "layout": {
          "annotationdefaults": {
           "arrowcolor": "#2a3f5f",
           "arrowhead": 0,
           "arrowwidth": 1
          },
          "autotypenumbers": "strict",
          "coloraxis": {
           "colorbar": {
            "outlinewidth": 0,
            "ticks": ""
           }
          },
          "colorscale": {
           "diverging": [
            [
             0,
             "#8e0152"
            ],
            [
             0.1,
             "#c51b7d"
            ],
            [
             0.2,
             "#de77ae"
            ],
            [
             0.3,
             "#f1b6da"
            ],
            [
             0.4,
             "#fde0ef"
            ],
            [
             0.5,
             "#f7f7f7"
            ],
            [
             0.6,
             "#e6f5d0"
            ],
            [
             0.7,
             "#b8e186"
            ],
            [
             0.8,
             "#7fbc41"
            ],
            [
             0.9,
             "#4d9221"
            ],
            [
             1,
             "#276419"
            ]
           ],
           "sequential": [
            [
             0,
             "#0d0887"
            ],
            [
             0.1111111111111111,
             "#46039f"
            ],
            [
             0.2222222222222222,
             "#7201a8"
            ],
            [
             0.3333333333333333,
             "#9c179e"
            ],
            [
             0.4444444444444444,
             "#bd3786"
            ],
            [
             0.5555555555555556,
             "#d8576b"
            ],
            [
             0.6666666666666666,
             "#ed7953"
            ],
            [
             0.7777777777777778,
             "#fb9f3a"
            ],
            [
             0.8888888888888888,
             "#fdca26"
            ],
            [
             1,
             "#f0f921"
            ]
           ],
           "sequentialminus": [
            [
             0,
             "#0d0887"
            ],
            [
             0.1111111111111111,
             "#46039f"
            ],
            [
             0.2222222222222222,
             "#7201a8"
            ],
            [
             0.3333333333333333,
             "#9c179e"
            ],
            [
             0.4444444444444444,
             "#bd3786"
            ],
            [
             0.5555555555555556,
             "#d8576b"
            ],
            [
             0.6666666666666666,
             "#ed7953"
            ],
            [
             0.7777777777777778,
             "#fb9f3a"
            ],
            [
             0.8888888888888888,
             "#fdca26"
            ],
            [
             1,
             "#f0f921"
            ]
           ]
          },
          "colorway": [
           "#636efa",
           "#EF553B",
           "#00cc96",
           "#ab63fa",
           "#FFA15A",
           "#19d3f3",
           "#FF6692",
           "#B6E880",
           "#FF97FF",
           "#FECB52"
          ],
          "font": {
           "color": "#2a3f5f"
          },
          "geo": {
           "bgcolor": "white",
           "lakecolor": "white",
           "landcolor": "#E5ECF6",
           "showlakes": true,
           "showland": true,
           "subunitcolor": "white"
          },
          "hoverlabel": {
           "align": "left"
          },
          "hovermode": "closest",
          "mapbox": {
           "style": "light"
          },
          "paper_bgcolor": "white",
          "plot_bgcolor": "#E5ECF6",
          "polar": {
           "angularaxis": {
            "gridcolor": "white",
            "linecolor": "white",
            "ticks": ""
           },
           "bgcolor": "#E5ECF6",
           "radialaxis": {
            "gridcolor": "white",
            "linecolor": "white",
            "ticks": ""
           }
          },
          "scene": {
           "xaxis": {
            "backgroundcolor": "#E5ECF6",
            "gridcolor": "white",
            "gridwidth": 2,
            "linecolor": "white",
            "showbackground": true,
            "ticks": "",
            "zerolinecolor": "white"
           },
           "yaxis": {
            "backgroundcolor": "#E5ECF6",
            "gridcolor": "white",
            "gridwidth": 2,
            "linecolor": "white",
            "showbackground": true,
            "ticks": "",
            "zerolinecolor": "white"
           },
           "zaxis": {
            "backgroundcolor": "#E5ECF6",
            "gridcolor": "white",
            "gridwidth": 2,
            "linecolor": "white",
            "showbackground": true,
            "ticks": "",
            "zerolinecolor": "white"
           }
          },
          "shapedefaults": {
           "line": {
            "color": "#2a3f5f"
           }
          },
          "ternary": {
           "aaxis": {
            "gridcolor": "white",
            "linecolor": "white",
            "ticks": ""
           },
           "baxis": {
            "gridcolor": "white",
            "linecolor": "white",
            "ticks": ""
           },
           "bgcolor": "#E5ECF6",
           "caxis": {
            "gridcolor": "white",
            "linecolor": "white",
            "ticks": ""
           }
          },
          "title": {
           "x": 0.05
          },
          "xaxis": {
           "automargin": true,
           "gridcolor": "white",
           "linecolor": "white",
           "ticks": "",
           "title": {
            "standoff": 15
           },
           "zerolinecolor": "white",
           "zerolinewidth": 2
          },
          "yaxis": {
           "automargin": true,
           "gridcolor": "white",
           "linecolor": "white",
           "ticks": "",
           "title": {
            "standoff": 15
           },
           "zerolinecolor": "white",
           "zerolinewidth": 2
          }
         }
        },
        "title": {
         "text": "Average Followers by Pages Buckets"
        },
        "width": 800,
        "xaxis": {
         "title": {
          "text": "Pages Buckets (Equal Sized Groups)"
         }
        },
        "yaxis": {
         "title": {
          "text": "Average Followers"
         },
         "type": "log"
        }
       }
      }
     },
     "metadata": {},
     "output_type": "display_data"
    }
   ],
   "source": [
    "# Create scatter plots of length metrics vs performance metrics\n",
    "length_metrics = ['chapters', 'pages']\n",
    "performance_metrics = ['views', 'rating', 'followers']\n",
    "\n",
    "# Remove any rows with null values in relevant columns\n",
    "plot_df = df.dropna(subset=length_metrics + performance_metrics)\n",
    "\n",
    "fig = make_subplots(rows=len(length_metrics), cols=len(performance_metrics),\n",
    "                    subplot_titles=[f'{p} vs {l}' for l in length_metrics for p in performance_metrics],\n",
    "                    vertical_spacing=0.15,\n",
    "                    horizontal_spacing=0.1)\n",
    "\n",
    "for i, length_metric in enumerate(length_metrics):\n",
    "    for j, perf_metric in enumerate(performance_metrics):\n",
    "        # Filter out outliers (values beyond 99th percentile)\n",
    "        length_threshold = plot_df[length_metric].quantile(0.99)\n",
    "        perf_threshold = plot_df[perf_metric].quantile(0.99)\n",
    "        filtered_df = plot_df[\n",
    "            (plot_df[length_metric] <= length_threshold) & \n",
    "            (plot_df[perf_metric] <= perf_threshold)\n",
    "        ]\n",
    "        \n",
    "        fig.add_trace(\n",
    "            go.Scatter(\n",
    "                x=filtered_df[length_metric],\n",
    "                y=filtered_df[perf_metric],\n",
    "                mode='markers',\n",
    "                name=f'{perf_metric} vs {length_metric}',\n",
    "                marker=dict(size=5, opacity=0.5)\n",
    "            ),\n",
    "            row=i+1, col=j+1\n",
    "        )\n",
    "        \n",
    "        # Add trend line\n",
    "        z = np.polyfit(filtered_df[length_metric], filtered_df[perf_metric], 1)\n",
    "        p = np.poly1d(z)\n",
    "        x_trend = np.linspace(filtered_df[length_metric].min(), filtered_df[length_metric].max(), 100)\n",
    "        \n",
    "        fig.add_trace(\n",
    "            go.Scatter(\n",
    "                x=x_trend,\n",
    "                y=p(x_trend),\n",
    "                mode='lines',\n",
    "                name=f'Trend {perf_metric} vs {length_metric}',\n",
    "                line=dict(color='red')\n",
    "            ),\n",
    "            row=i+1, col=j+1\n",
    "        )\n",
    "        \n",
    "        fig.update_xaxes(title_text=length_metric, row=i+1, col=j+1)\n",
    "        fig.update_yaxes(title_text=perf_metric, row=i+1, col=j+1)\n",
    "\n",
    "fig.update_layout(height=800, showlegend=False, title_text=\"Relationship between Story Length and Performance Metrics\")\n",
    "fig.show()\n",
    "\n",
    "# Calculate average metrics by length buckets\n",
    "def create_buckets(series, n_buckets=10):\n",
    "    \"\"\"\n",
    "    Creates equal-size buckets (quantiles) from a numerical series.\n",
    "    Each bucket contains roughly the same number of stories.\n",
    "    Bucket 1 has the lowest values, Bucket 10 has the highest values.\n",
    "    \"\"\"\n",
    "    try:\n",
    "        return pd.qcut(series, n_buckets, labels=[f'Bucket {i+1}' for i in range(n_buckets)])\n",
    "    except ValueError:\n",
    "        # Handle case where there are duplicate values\n",
    "        return pd.qcut(series, n_buckets, labels=[f'Bucket {i+1}' for i in range(n_buckets)], duplicates='drop')\n",
    "\n",
    "# Create separate plots for each performance metric to handle scale differences\n",
    "for length_metric in length_metrics:\n",
    "    clean_df = plot_df.dropna(subset=[length_metric] + performance_metrics)\n",
    "    \n",
    "    # Create buckets based on the length metric\n",
    "    # Each bucket contains roughly the same number of stories\n",
    "    clean_df[f'{length_metric}_bucket'] = create_buckets(clean_df[length_metric])\n",
    "    \n",
    "    # Calculate the average values for each metric within each bucket\n",
    "    avg_by_bucket = clean_df.groupby(f'{length_metric}_bucket')[performance_metrics].mean().reset_index()\n",
    "    \n",
    "    # Add a column showing the actual range of values in each bucket\n",
    "    bucket_ranges = clean_df.groupby(f'{length_metric}_bucket')[length_metric].agg(['min', 'max'])\n",
    "    \n",
    "    # Print bucket information to understand what each bucket represents\n",
    "    print(f\"\\n{length_metric.capitalize()} Bucket Ranges:\")\n",
    "    for bucket, (min_val, max_val) in bucket_ranges.iterrows():\n",
    "        print(f\"{bucket}: {min_val:.1f} to {max_val:.1f} {length_metric}\")\n",
    "    \n",
    "    # Create separate plots for each performance metric (due to scale differences)\n",
    "    for metric in performance_metrics:\n",
    "        fig = go.Figure()\n",
    "        \n",
    "        fig.add_trace(\n",
    "            go.Bar(\n",
    "                name=metric,\n",
    "                x=avg_by_bucket[f'{length_metric}_bucket'],\n",
    "                y=avg_by_bucket[metric],\n",
    "                text=np.round(avg_by_bucket[metric], 2),\n",
    "                textposition='auto',\n",
    "            )\n",
    "        )\n",
    "        \n",
    "        fig.update_layout(\n",
    "            title=f'Average {metric.capitalize()} by {length_metric.capitalize()} Buckets',\n",
    "            xaxis_title=f'{length_metric.capitalize()} Buckets (Equal Sized Groups)',\n",
    "            yaxis_title=f'Average {metric.capitalize()}',\n",
    "            height=500,\n",
    "            width=800\n",
    "        )\n",
    "        \n",
    "        # Use log scale for views and followers for better visibility\n",
    "        if metric in ['views', 'followers']:\n",
    "            fig.update_yaxes(type='log')\n",
    "            \n",
    "        fig.show()"
   ]
  },
  {
   "cell_type": "markdown",
   "id": "0aa08c4a",
   "metadata": {},
   "source": [
    "## Time-Series Analysis of Genre Trends\n",
    "\n",
    "Let's analyze how genre popularity has changed over time on Royal Road. We'll examine which genres are trending recently versus which were popular in the past."
   ]
  },
  {
   "cell_type": "code",
   "execution_count": 17,
   "id": "d38daa15",
   "metadata": {},
   "outputs": [
    {
     "name": "stdout",
     "output_type": "stream",
     "text": [
      "Most recent data date: 2025-10-09\n",
      "Recent period stories: 133\n",
      "Past period stories: 0\n",
      "Warning: No stories in past period. Cannot perform trend analysis.\n"
     ]
    }
   ],
   "source": [
    "# Ensure our date column is properly formatted\n",
    "df['last_updated'] = pd.to_datetime(df['last_updated'])\n",
    "\n",
    "# Extract time-based features\n",
    "df['year'] = df['last_updated'].dt.year\n",
    "df['month'] = df['last_updated'].dt.month\n",
    "df['quarter'] = df['last_updated'].dt.quarter\n",
    "\n",
    "# Define time periods for analysis\n",
    "current_date = df['last_updated'].max()\n",
    "print(f\"Most recent data date: {current_date.strftime('%Y-%m-%d')}\")\n",
    "\n",
    "# Create time bins for trend analysis\n",
    "df['months_ago'] = ((current_date.year - df['last_updated'].dt.year) * 12 + \n",
    "                   (current_date.month - df['last_updated'].dt.month))\n",
    "\n",
    "# Define recent period (last 3 months) and past period (4-12 months ago)\n",
    "recent_period = df[df['months_ago'] <= 3]\n",
    "past_period = df[(df['months_ago'] > 3) & (df['months_ago'] <= 12)]\n",
    "\n",
    "print(f\"Recent period stories: {len(recent_period)}\")\n",
    "print(f\"Past period stories: {len(past_period)}\")\n",
    "\n",
    "# Function to analyze genre trends across different time periods\n",
    "def analyze_genre_trends(recent_df, past_df, metric='count'):\n",
    "    \"\"\"\n",
    "    Compares genre distribution between recent and past periods.\n",
    "    \n",
    "    Parameters:\n",
    "    - recent_df: DataFrame with recent period data\n",
    "    - past_df: DataFrame with past period data\n",
    "    - metric: What to measure ('count', 'views', 'rating', 'followers')\n",
    "    \n",
    "    Returns:\n",
    "    - DataFrame with trend analysis\n",
    "    \"\"\"\n",
    "    if metric == 'count':\n",
    "        # Count stories in each genre\n",
    "        recent_genres = recent_df['genre'].fillna('Unknown').str.split(',').explode().str.strip()\n",
    "        recent_counts = recent_genres.value_counts().to_frame('recent_count')\n",
    "        \n",
    "        past_genres = past_df['genre'].fillna('Unknown').str.split(',').explode().str.strip()\n",
    "        past_counts = past_genres.value_counts().to_frame('past_count')\n",
    "        \n",
    "        # Combine and calculate trend\n",
    "        trend_df = pd.concat([recent_counts, past_counts], axis=1).fillna(0)\n",
    "        \n",
    "        # Calculate percentage change\n",
    "        trend_df['recent_pct'] = trend_df['recent_count'] / trend_df['recent_count'].sum() * 100\n",
    "        trend_df['past_pct'] = trend_df['past_count'] / trend_df['past_count'].sum() * 100\n",
    "        trend_df['pct_change'] = ((trend_df['recent_pct'] - trend_df['past_pct']) / \n",
    "                                 trend_df['past_pct'].replace(0, 0.01) * 100)\n",
    "        \n",
    "    else:\n",
    "        # Analyze metrics like views, rating, followers by genre\n",
    "        # Create dataframes with one row per story-genre pair\n",
    "        recent_data = []\n",
    "        if len(recent_df) > 0:\n",
    "            for _, row in recent_df.dropna(subset=['genre', metric]).iterrows():\n",
    "                if pd.isna(row['genre']) or not row['genre']:\n",
    "                    continue\n",
    "                genres = row['genre'].split(',')\n",
    "                for g in genres:\n",
    "                    g = g.strip()\n",
    "                    if g:  # Skip empty strings\n",
    "                        recent_data.append({\n",
    "                            'genre': g,\n",
    "                            metric: row[metric]\n",
    "                        })\n",
    "        \n",
    "        past_data = []\n",
    "        if len(past_df) > 0:\n",
    "            for _, row in past_df.dropna(subset=['genre', metric]).iterrows():\n",
    "                if pd.isna(row['genre']) or not row['genre']:\n",
    "                    continue\n",
    "                genres = row['genre'].split(',')\n",
    "                for g in genres:\n",
    "                    g = g.strip()\n",
    "                    if g:  # Skip empty strings\n",
    "                        past_data.append({\n",
    "                            'genre': g,\n",
    "                            metric: row[metric]\n",
    "                        })\n",
    "        \n",
    "        # Handle empty dataframes\n",
    "        if not recent_data:\n",
    "            recent_genre_df = pd.DataFrame(columns=['genre', metric])\n",
    "        else:\n",
    "            recent_genre_df = pd.DataFrame(recent_data)\n",
    "            \n",
    "        if not past_data:\n",
    "            past_genre_df = pd.DataFrame(columns=['genre', metric])\n",
    "        else:\n",
    "            past_genre_df = pd.DataFrame(past_data)\n",
    "            \n",
    "        # Check if we have data to work with\n",
    "        if len(recent_genre_df) == 0 and len(past_genre_df) == 0:\n",
    "            # Return empty DataFrame with proper columns\n",
    "            return pd.DataFrame(columns=['recent_avg', 'recent_count', 'past_avg', 'past_count', 'pct_change'])\n",
    "        \n",
    "        # Calculate average metric by genre\n",
    "        if len(recent_genre_df) > 0:\n",
    "            recent_stats = recent_genre_df.groupby('genre')[metric].agg(['mean', 'count'])\n",
    "        else:\n",
    "            recent_stats = pd.DataFrame(columns=['mean', 'count'])\n",
    "            \n",
    "        if len(past_genre_df) > 0:\n",
    "            past_stats = past_genre_df.groupby('genre')[metric].agg(['mean', 'count'])\n",
    "        else:\n",
    "            past_stats = pd.DataFrame(columns=['mean', 'count'])\n",
    "        \n",
    "        # Get all unique genres\n",
    "        all_genres = set(recent_genre_df['genre'].unique()).union(set(past_genre_df['genre'].unique()))\n",
    "        \n",
    "        # Create a DataFrame with all genres\n",
    "        trend_df = pd.DataFrame(index=all_genres)\n",
    "        \n",
    "        # Add recent stats\n",
    "        if 'mean' in recent_stats.columns:\n",
    "            trend_df['recent_avg'] = recent_stats['mean']\n",
    "        else:\n",
    "            trend_df['recent_avg'] = 0\n",
    "            \n",
    "        if 'count' in recent_stats.columns:\n",
    "            trend_df['recent_count'] = recent_stats['count']\n",
    "        else:\n",
    "            trend_df['recent_count'] = 0\n",
    "        \n",
    "        # Add past stats\n",
    "        if 'mean' in past_stats.columns:\n",
    "            trend_df['past_avg'] = past_stats['mean']\n",
    "        else:\n",
    "            trend_df['past_avg'] = 0\n",
    "            \n",
    "        if 'count' in past_stats.columns:\n",
    "            trend_df['past_count'] = past_stats['count']\n",
    "        else:\n",
    "            trend_df['past_count'] = 0\n",
    "        \n",
    "        # Fill NaN values\n",
    "        trend_df = trend_df.fillna(0)\n",
    "        \n",
    "        # Filter for genres with enough data\n",
    "        trend_df = trend_df[(trend_df['recent_count'] >= 5) | (trend_df['past_count'] >= 5)]\n",
    "        \n",
    "        # Calculate percentage change in average metric\n",
    "        trend_df['pct_change'] = ((trend_df['recent_avg'] - trend_df['past_avg']) / \n",
    "                                 trend_df['past_avg'].replace(0, 0.01) * 100)\n",
    "    \n",
    "    return trend_df\n",
    "\n",
    "# Check if we have data in both periods\n",
    "if len(recent_period) == 0:\n",
    "    print(\"Warning: No stories in recent period. Cannot perform trend analysis.\")\n",
    "elif len(past_period) == 0:\n",
    "    print(\"Warning: No stories in past period. Cannot perform trend analysis.\")\n",
    "else:\n",
    "    # Analyze trends in genre counts\n",
    "    genre_count_trends = analyze_genre_trends(recent_period, past_period, 'count')\n",
    "    \n",
    "    if len(genre_count_trends) > 0:\n",
    "        print(\"\\nGenre Count Trends (Top 10 Increasing):\")\n",
    "        print(genre_count_trends.sort_values('pct_change', ascending=False).head(10))\n",
    "        print(\"\\nGenre Count Trends (Top 10 Decreasing):\")\n",
    "        print(genre_count_trends.sort_values('pct_change').head(10))\n",
    "        \n",
    "        # Create visualization of genre trends\n",
    "        trending_up = genre_count_trends.sort_values('pct_change', ascending=False).head(10)\n",
    "        trending_down = genre_count_trends.sort_values('pct_change').head(10)\n",
    "        \n",
    "        # Filter for genres with at least 5 stories in both periods for more reliable trends\n",
    "        reliable_trends = genre_count_trends[(genre_count_trends['recent_count'] >= 5) & \n",
    "                                          (genre_count_trends['past_count'] >= 5)]\n",
    "        \n",
    "        # Trending up visualization\n",
    "        fig = go.Figure()\n",
    "        fig.add_trace(go.Bar(\n",
    "            x=trending_up.index,\n",
    "            y=trending_up['pct_change'],\n",
    "            text=np.round(trending_up['pct_change'], 1),\n",
    "            textposition='outside',\n",
    "            marker_color='green',\n",
    "        ))\n",
    "        \n",
    "        fig.update_layout(\n",
    "            title='Top 10 Rising Genres (% Change in Popularity)',\n",
    "            xaxis_title='Genre',\n",
    "            yaxis_title='% Change in Representation',\n",
    "            xaxis_tickangle=-45,\n",
    "            height=500,\n",
    "            width=900,\n",
    "            font=dict(size=14),\n",
    "            margin=dict(b=100)\n",
    "        )\n",
    "        fig.show()\n",
    "        \n",
    "        # Trending down visualization  \n",
    "        fig = go.Figure()\n",
    "        fig.add_trace(go.Bar(\n",
    "            x=trending_down.index,\n",
    "            y=trending_down['pct_change'],\n",
    "            text=np.round(trending_down['pct_change'], 1),\n",
    "            textposition='outside',\n",
    "            marker_color='red',\n",
    "        ))\n",
    "        \n",
    "        fig.update_layout(\n",
    "            title='Top 10 Declining Genres (% Change in Popularity)',\n",
    "            xaxis_title='Genre',\n",
    "            yaxis_title='% Change in Representation',\n",
    "            xaxis_tickangle=-45,\n",
    "            height=500,\n",
    "            width=900,\n",
    "            font=dict(size=14),\n",
    "            margin=dict(b=100)\n",
    "        )\n",
    "        fig.show()\n",
    "        \n",
    "        # Analyze trends in average views by genre\n",
    "        try:\n",
    "            view_trends = analyze_genre_trends(recent_period, past_period, 'views')\n",
    "            \n",
    "            # Check if we have enough data\n",
    "            if len(view_trends) > 0:\n",
    "                view_trends_filtered = view_trends[(view_trends['recent_count'] >= 5) | (view_trends['past_count'] >= 5)]\n",
    "                \n",
    "                if len(view_trends_filtered) > 0:\n",
    "                    # Top genres by recent average views\n",
    "                    top_recent_views = view_trends_filtered.sort_values('recent_avg', ascending=False).head(10)\n",
    "                    \n",
    "                    fig = go.Figure()\n",
    "                    fig.add_trace(go.Bar(\n",
    "                        x=top_recent_views.index,\n",
    "                        y=top_recent_views['recent_avg'],\n",
    "                        name='Recent Period',\n",
    "                        marker_color='blue',\n",
    "                        opacity=0.7\n",
    "                    ))\n",
    "                    \n",
    "                    fig.add_trace(go.Bar(\n",
    "                        x=top_recent_views.index,\n",
    "                        y=top_recent_views['past_avg'],\n",
    "                        name='Past Period',\n",
    "                        marker_color='lightblue',\n",
    "                        opacity=0.7\n",
    "                    ))\n",
    "                    \n",
    "                    fig.update_layout(\n",
    "                        title='Top 10 Genres by Recent Views (Comparison with Past Period)',\n",
    "                        xaxis_title='Genre',\n",
    "                        yaxis_title='Average Views',\n",
    "                        xaxis_tickangle=-45,\n",
    "                        height=500,\n",
    "                        width=900,\n",
    "                        barmode='group',\n",
    "                        yaxis_type='log',  # Use log scale for better visibility\n",
    "                        font=dict(size=14),\n",
    "                        margin=dict(b=100)\n",
    "                    )\n",
    "                    fig.show()\n",
    "                else:\n",
    "                    print(\"Not enough data to analyze view trends by genre (need at least 5 stories per genre).\")\n",
    "            else:\n",
    "                print(\"No view trends data available.\")\n",
    "        except Exception as e:\n",
    "            print(f\"Error analyzing view trends: {e}\")\n",
    "            \n",
    "        try:\n",
    "            # Create a combined visualization showing genre popularity changes over time\n",
    "            top_genres_overall = genre_count_trends['recent_count'].nlargest(15).index.tolist()\n",
    "            \n",
    "            # Create a monthly trend analysis for top genres\n",
    "            df['yearmonth'] = df['last_updated'].dt.to_period('M')\n",
    "            monthly_genre_data = []\n",
    "            \n",
    "            for _, row in df.dropna(subset=['genre']).iterrows():\n",
    "                if pd.isna(row['genre']) or not row['genre']:\n",
    "                    continue\n",
    "                \n",
    "                year_month = row['yearmonth']\n",
    "                genres = row['genre'].split(',')\n",
    "                \n",
    "                for g in genres:\n",
    "                    g = g.strip()\n",
    "                    if g in top_genres_overall:\n",
    "                        monthly_genre_data.append({\n",
    "                            'yearmonth': year_month,\n",
    "                            'genre': g\n",
    "                        })\n",
    "            \n",
    "            if monthly_genre_data:\n",
    "                monthly_genre_df = pd.DataFrame(monthly_genre_data)\n",
    "                monthly_genre_counts = monthly_genre_df.groupby(['yearmonth', 'genre']).size().unstack(fill_value=0)\n",
    "                \n",
    "                # Get the last 12 months of data (or what's available)\n",
    "                months_to_show = min(12, len(monthly_genre_counts))\n",
    "                if months_to_show > 0:\n",
    "                    recent_months = monthly_genre_counts.iloc[-months_to_show:]\n",
    "                    \n",
    "                    # Convert to percentage of stories in each month\n",
    "                    monthly_pct = recent_months.div(recent_months.sum(axis=1), axis=0) * 100\n",
    "                    \n",
    "                    # Create a stacked area chart of genre trends\n",
    "                    fig = go.Figure()\n",
    "                    \n",
    "                    for genre in top_genres_overall:\n",
    "                        if genre in monthly_pct.columns:\n",
    "                            fig.add_trace(go.Scatter(\n",
    "                                x=monthly_pct.index.astype(str),\n",
    "                                y=monthly_pct[genre],\n",
    "                                mode='lines',\n",
    "                                stackgroup='one',\n",
    "                                name=genre,\n",
    "                                hoverinfo='x+y+name'\n",
    "                            ))\n",
    "                    \n",
    "                    fig.update_layout(\n",
    "                        title='Genre Distribution Over Time (Last 12 Months)',\n",
    "                        xaxis_title='Month',\n",
    "                        yaxis_title='Percentage of Stories',\n",
    "                        xaxis_tickangle=-45,\n",
    "                        height=600,\n",
    "                        width=1000,\n",
    "                        font=dict(size=14),\n",
    "                        margin=dict(b=100),\n",
    "                        hovermode='x unified'\n",
    "                    )\n",
    "                    fig.show()\n",
    "                else:\n",
    "                    print(\"Not enough monthly data to show time trends.\")\n",
    "            else:\n",
    "                print(\"No monthly genre data available to create trend visualization.\")\n",
    "        except Exception as e:\n",
    "            print(f\"Error creating monthly trend visualization: {e}\")\n",
    "        \n",
    "        # Add a summary of key findings\n",
    "        print(\"\\nKey Genre Trend Findings:\")\n",
    "        print(\"1. Most rapidly growing genres: \" + \n",
    "              \", \".join(trending_up.head(5).index.tolist()))\n",
    "        print(\"2. Most rapidly declining genres: \" + \n",
    "              \", \".join(trending_down.head(5).index.tolist()))\n",
    "        print(\"3. Top genres in the most recent period: \" + \n",
    "              \", \".join(genre_count_trends.sort_values('recent_count', ascending=False).head(5).index.tolist()))\n",
    "    else:\n",
    "        print(\"No trend data available. Make sure both time periods have stories with genre information.\")"
   ]
  },
  {
   "cell_type": "markdown",
   "id": "2e04cae5",
   "metadata": {},
   "source": [
    "## Summary of Findings\n",
    "\n",
    "Based on our exploratory data analysis of the Royal Road stories dataset (as of October 5, 2025), here are the key findings:\n",
    "\n",
    "1. **Distribution Patterns**:\n",
    "   - **Extreme Right Skew**: Views, followers, and favorites all show extreme right-skewed distributions (skewness > 5.0), requiring logarithmic scaling to properly visualize\n",
    "   - **Normal Rating Distribution**: Ratings follow a more normal distribution, centered around 4.0-4.5 stars\n",
    "   - **Long Tail Phenomenon**: A small percentage of stories (top 10%) account for a disproportionate share of engagement metrics\n",
    "   - **Outlier Impact**: The 99th percentile values for views and followers are often 10-20× higher than the median, highlighting the \"superstar effect\" in web fiction\n",
    "\n",
    "2. **Correlation Analysis**:\n",
    "   - **Strong Engagement Correlations**: Views, followers, and favorites show strong positive correlations (r > 0.8), indicating these metrics reinforce each other\n",
    "   - **Moderate Length Correlations**: Chapters and pages correlate moderately (r = 0.6-0.7), reflecting different aspects of content volume\n",
    "   - **Ratings Independence**: Rating scores show weaker correlations with other metrics, suggesting quality assessment is relatively independent of popularity\n",
    "   - **Success Clustering**: Highly successful stories tend to excel across all metrics, with the top 5% of stories dominating in multiple categories\n",
    "\n",
    "3. **Genre Insights**:\n",
    "   - **Dominant Genres**: Fantasy, LitRPG, Adventure, and Progression are the most represented genres on the platform\n",
    "   - **Genre Performance Variation**: Niche genres often show surprisingly high average engagement metrics despite smaller representation\n",
    "   - **Rating Patterns**: Certain genres consistently maintain higher average ratings regardless of popularity metrics\n",
    "   - **Cross-Genre Appeal**: Stories with complementary genre combinations (e.g., Fantasy/Adventure, LitRPG/Progression) show enhanced performance metrics\n",
    "\n",
    "4. **Content Volume Analysis**:\n",
    "   - **Optimal Chapter Range**: Stories with moderate chapter counts (20-60 chapters) show the strongest balance of engagement metrics\n",
    "   - **Diminishing Returns**: Very long stories (>100 chapters) don't necessarily outperform moderately-sized ones across all metrics\n",
    "   - **Chapter vs. Page Impact**: Chapter count correlates more strongly with engagement metrics than total page count\n",
    "   - **Length-Quality Relationship**: Longer stories tend to have more consistent ratings, potentially indicating higher quality sustainability\n",
    "\n",
    "5. **Temporal Patterns**:\n",
    "   - **Current Snapshot**: Analysis covers 74 stories from the most recent 3-month period\n",
    "   - **Data Limitations**: Insufficient historical data prevents comprehensive trend analysis between time periods\n",
    "   - **Publication Consistency**: Regular story publishing patterns observed in the available data\n",
    "   - **Contemporary Relevance**: Current data provides valuable insights into present market conditions and reader preferences\n",
    "\n",
    "These findings provide a multidimensional understanding of the Royal Road platform's fiction ecosystem. The analysis reveals clear patterns in content performance, reader engagement behavior, and genre preferences that can guide authors in strategic content planning. The logarithmic distribution of engagement metrics highlights the importance of building momentum and audience connection, while the genre and length analyses offer tactical insights for story structuring and positioning.\n",
    "\n",
    "**Practical Applications**: Authors can leverage these insights to make data-driven decisions about genre selection, optimal story length, and engagement strategies to maximize reader connection and visibility in this competitive web fiction marketplace."
   ]
  }
 ],
 "metadata": {
  "kernelspec": {
   "display_name": ".venv",
   "language": "python",
   "name": "python3"
  },
  "language_info": {
   "codemirror_mode": {
    "name": "ipython",
    "version": 3
   },
   "file_extension": ".py",
   "mimetype": "text/x-python",
   "name": "python",
   "nbconvert_exporter": "python",
   "pygments_lexer": "ipython3",
   "version": "3.13.8"
  }
 },
 "nbformat": 4,
 "nbformat_minor": 5
}
